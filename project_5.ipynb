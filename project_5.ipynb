{
 "cells": [
  {
   "cell_type": "markdown",
   "metadata": {},
   "source": [
    "# Intro to Machine Learning: Project"
   ]
  },
  {
   "cell_type": "markdown",
   "metadata": {},
   "source": [
    "# Introduction\n",
    "\n",
    "**Mobile carrier Megaline want to develop a model that would analyze subscribers' behavior and recommend one of Megaline's newer plans: Smart or Ultra.**\n",
    "**During the course of this project we will trained some models and evaluate the quality of those models by accessing the accuracy thru some evaluation metric.Some models improvenment will be perform by looking at the validation set and hyperparameter.**\n",
    "**A regression method will be perform on models follow by a calculation of the MSE and the selection of the best model will conclude our analysis.**"
   ]
  },
  {
   "cell_type": "markdown",
   "metadata": {},
   "source": [
    "<div class=\"alert alert-success\" style=\"border-radius: 15px; box-shadow: 4px 4px 4px; border: 1px solid \">\n",
    "<h2>   Reviewer's comment </h2>\n",
    "    \n",
    "Good introduction! \n",
    "\n",
    "</div>"
   ]
  },
  {
   "cell_type": "code",
   "execution_count": 1,
   "metadata": {},
   "outputs": [],
   "source": [
    "import pandas as pd\n",
    "from sklearn.metrics import mean_squared_error\n",
    "from sklearn.ensemble import RandomForestRegressor\n",
    "from sklearn.model_selection import train_test_split\n",
    "from sklearn.tree import DecisionTreeClassifier\n",
    "from sklearn.metrics import accuracy_score\n",
    "from sklearn.ensemble import RandomForestClassifier\n",
    "from sklearn.linear_model import LogisticRegression\n",
    "from sklearn.tree import DecisionTreeRegressor\n",
    "import matplotlib.pyplot as plt"
   ]
  },
  {
   "cell_type": "code",
   "execution_count": 2,
   "metadata": {},
   "outputs": [],
   "source": [
    "df = pd.read_csv('/datasets/users_behavior.csv')"
   ]
  },
  {
   "cell_type": "markdown",
   "metadata": {},
   "source": [
    "<div class=\"alert alert-success\" style=\"border-radius: 15px; box-shadow: 4px 4px 4px; border: 1px solid \">\n",
    "<h2>   Reviewer's comment 2 </h2>\n",
    "    \n",
    "Good! \n",
    "\n",
    "</div>"
   ]
  },
  {
   "cell_type": "code",
   "execution_count": 3,
   "metadata": {},
   "outputs": [
    {
     "name": "stdout",
     "output_type": "stream",
     "text": [
      "<class 'pandas.core.frame.DataFrame'>\n",
      "RangeIndex: 3214 entries, 0 to 3213\n",
      "Data columns (total 5 columns):\n",
      " #   Column    Non-Null Count  Dtype  \n",
      "---  ------    --------------  -----  \n",
      " 0   calls     3214 non-null   float64\n",
      " 1   minutes   3214 non-null   float64\n",
      " 2   messages  3214 non-null   float64\n",
      " 3   mb_used   3214 non-null   float64\n",
      " 4   is_ultra  3214 non-null   int64  \n",
      "dtypes: float64(4), int64(1)\n",
      "memory usage: 125.7 KB\n"
     ]
    }
   ],
   "source": [
    "df.info()"
   ]
  },
  {
   "cell_type": "code",
   "execution_count": 4,
   "metadata": {},
   "outputs": [
    {
     "data": {
      "text/html": [
       "<div>\n",
       "<style scoped>\n",
       "    .dataframe tbody tr th:only-of-type {\n",
       "        vertical-align: middle;\n",
       "    }\n",
       "\n",
       "    .dataframe tbody tr th {\n",
       "        vertical-align: top;\n",
       "    }\n",
       "\n",
       "    .dataframe thead th {\n",
       "        text-align: right;\n",
       "    }\n",
       "</style>\n",
       "<table border=\"1\" class=\"dataframe\">\n",
       "  <thead>\n",
       "    <tr style=\"text-align: right;\">\n",
       "      <th></th>\n",
       "      <th>calls</th>\n",
       "      <th>minutes</th>\n",
       "      <th>messages</th>\n",
       "      <th>mb_used</th>\n",
       "      <th>is_ultra</th>\n",
       "    </tr>\n",
       "  </thead>\n",
       "  <tbody>\n",
       "    <tr>\n",
       "      <th>0</th>\n",
       "      <td>40.0</td>\n",
       "      <td>311.90</td>\n",
       "      <td>83.0</td>\n",
       "      <td>19915.42</td>\n",
       "      <td>0</td>\n",
       "    </tr>\n",
       "    <tr>\n",
       "      <th>1</th>\n",
       "      <td>85.0</td>\n",
       "      <td>516.75</td>\n",
       "      <td>56.0</td>\n",
       "      <td>22696.96</td>\n",
       "      <td>0</td>\n",
       "    </tr>\n",
       "    <tr>\n",
       "      <th>2</th>\n",
       "      <td>77.0</td>\n",
       "      <td>467.66</td>\n",
       "      <td>86.0</td>\n",
       "      <td>21060.45</td>\n",
       "      <td>0</td>\n",
       "    </tr>\n",
       "    <tr>\n",
       "      <th>3</th>\n",
       "      <td>106.0</td>\n",
       "      <td>745.53</td>\n",
       "      <td>81.0</td>\n",
       "      <td>8437.39</td>\n",
       "      <td>1</td>\n",
       "    </tr>\n",
       "    <tr>\n",
       "      <th>4</th>\n",
       "      <td>66.0</td>\n",
       "      <td>418.74</td>\n",
       "      <td>1.0</td>\n",
       "      <td>14502.75</td>\n",
       "      <td>0</td>\n",
       "    </tr>\n",
       "  </tbody>\n",
       "</table>\n",
       "</div>"
      ],
      "text/plain": [
       "   calls  minutes  messages   mb_used  is_ultra\n",
       "0   40.0   311.90      83.0  19915.42         0\n",
       "1   85.0   516.75      56.0  22696.96         0\n",
       "2   77.0   467.66      86.0  21060.45         0\n",
       "3  106.0   745.53      81.0   8437.39         1\n",
       "4   66.0   418.74       1.0  14502.75         0"
      ]
     },
     "execution_count": 4,
     "metadata": {},
     "output_type": "execute_result"
    }
   ],
   "source": [
    "df.head()"
   ]
  },
  {
   "cell_type": "code",
   "execution_count": 5,
   "metadata": {},
   "outputs": [
    {
     "data": {
      "text/plain": [
       "0"
      ]
     },
     "execution_count": 5,
     "metadata": {},
     "output_type": "execute_result"
    }
   ],
   "source": [
    "# check for possible duplicates from dataset\n",
    "duplicate_count = df.duplicated(subset=['calls', 'minutes', 'messages', 'mb_used', 'is_ultra']).sum()\n",
    "duplicate_count"
   ]
  },
  {
   "cell_type": "code",
   "execution_count": 6,
   "metadata": {},
   "outputs": [
    {
     "data": {
      "text/plain": [
       "calls       0\n",
       "minutes     0\n",
       "messages    0\n",
       "mb_used     0\n",
       "is_ultra    0\n",
       "dtype: int64"
      ]
     },
     "execution_count": 6,
     "metadata": {},
     "output_type": "execute_result"
    }
   ],
   "source": [
    "df.isnull().sum()"
   ]
  },
  {
   "cell_type": "markdown",
   "metadata": {},
   "source": [
    "**As we can see the data do not display any missing values and the duplicates function confirms that we have no duplicates in our datasets.**"
   ]
  },
  {
   "cell_type": "markdown",
   "metadata": {},
   "source": [
    "<div class=\"alert alert-success\" style=\"border-radius: 15px; box-shadow: 4px 4px 4px; border: 1px solid \">\n",
    "<h2>   Reviewer's comment </h2>\n",
    "    \n",
    "Well done! \n",
    "</div>"
   ]
  },
  {
   "cell_type": "markdown",
   "metadata": {},
   "source": [
    "# 1.0 Split the source data into a training set, a validation set, and a test set.\n",
    "\n",
    "**Because the train_test_split function from sklearn is designed to split data into two subsets at a time, not three, we will be \n",
    "using a temporary set to achieve a training, validation, and test split.**"
   ]
  },
  {
   "cell_type": "code",
   "execution_count": 7,
   "metadata": {},
   "outputs": [],
   "source": [
    "# Features (excluding the target column 'is_ultra')\n",
    "features = df.drop(['is_ultra'], axis=1)\n",
    "\n",
    "# Target (the column 'is_ultra')\n",
    "target = df['is_ultra']"
   ]
  },
  {
   "cell_type": "code",
   "execution_count": 8,
   "metadata": {},
   "outputs": [],
   "source": [
    "# First,we split into train and temporary sets (75% train, 25% temp)\n",
    "df_train, df_temp = train_test_split(df, test_size=0.25, random_state=12345)"
   ]
  },
  {
   "cell_type": "markdown",
   "metadata": {},
   "source": []
  },
  {
   "cell_type": "code",
   "execution_count": 9,
   "metadata": {},
   "outputs": [],
   "source": [
    "# Then,we split the temporary set (50% valid, 50% test from 25%)\n",
    "df_valid, df_test = train_test_split(df_temp, test_size=0.5, random_state=12345)"
   ]
  },
  {
   "cell_type": "code",
   "execution_count": 10,
   "metadata": {},
   "outputs": [
    {
     "name": "stdout",
     "output_type": "stream",
     "text": [
      "(3214, 4)\n",
      "(3214,)\n"
     ]
    }
   ],
   "source": [
    "print(features.shape)\n",
    "print(target.shape)"
   ]
  },
  {
   "cell_type": "markdown",
   "metadata": {},
   "source": [
    "**df_train: 75% of the original data.**\n",
    "\n",
    "**df_valid: 12.5% of the original data.**\n",
    "\n",
    "**df_test: 12.5% of the original data.**"
   ]
  },
  {
   "cell_type": "markdown",
   "metadata": {},
   "source": [
    "<div class=\"alert alert-success\" style=\"border-radius: 15px; box-shadow: 4px 4px 4px; border: 1px solid \">\n",
    "<h2>   Reviewer's comment </h2>\n",
    "    \n",
    "Correct! \n",
    "    \n",
    "</div>\n"
   ]
  },
  {
   "cell_type": "markdown",
   "metadata": {},
   "source": [
    "# Models Investigation"
   ]
  },
  {
   "cell_type": "markdown",
   "metadata": {},
   "source": [
    "**DECISION TREES MODEL**"
   ]
  },
  {
   "cell_type": "code",
   "execution_count": 11,
   "metadata": {},
   "outputs": [],
   "source": [
    "# < declare variables for features and target feature >\n",
    "features_train = df_train.drop(['is_ultra'], axis=1)\n",
    "target_train = df_train['is_ultra']\n",
    "features_valid = df_valid.drop(['is_ultra'], axis=1)\n",
    "target_valid = df_valid['is_ultra']\n",
    "features_test = df_test.drop(['is_ultra'], axis=1)\n",
    "target_test = df_test['is_ultra']"
   ]
  },
  {
   "cell_type": "markdown",
   "metadata": {},
   "source": [
    "<div class=\"alert alert-success\" style=\"border-radius: 15px; box-shadow: 4px 4px 4px; border: 1px solid \">\n",
    "<h2>   Reviewer's comment </h2>\n",
    "    \n",
    "Good.    \n",
    "</div>\n"
   ]
  },
  {
   "cell_type": "markdown",
   "metadata": {},
   "source": [
    "**Because no information was given about the depth range we will base the selection of our depth range on the rule of thumb that stipulates a start max_depth in the range (3 to 10).**"
   ]
  },
  {
   "cell_type": "code",
   "execution_count": 12,
   "metadata": {},
   "outputs": [],
   "source": [
    "best_model = None\n",
    "best_result = 0"
   ]
  },
  {
   "cell_type": "code",
   "execution_count": 13,
   "metadata": {},
   "outputs": [
    {
     "name": "stdout",
     "output_type": "stream",
     "text": [
      "Accuracy of the best model: 0.8637212196639701\n"
     ]
    }
   ],
   "source": [
    "for depth in range(1, 10):\n",
    "    model = DecisionTreeClassifier(random_state=12345, max_depth=depth) # create a model with the given depth\n",
    "    model.fit(features, target) # train the model\n",
    "    predictions = model.predict(features) # get the model's predictions\n",
    "    result = accuracy_score(target,predictions)\n",
    "    if result > best_result:\n",
    "        best_model = model\n",
    "        best_result = result\n",
    "        \n",
    "print(\"Accuracy of the best model:\", best_result)"
   ]
  },
  {
   "cell_type": "markdown",
   "metadata": {},
   "source": [
    "**The reported accuracy (0.8637) is the percentage of correct predictions the model made on the training dataset.**"
   ]
  },
  {
   "cell_type": "markdown",
   "metadata": {},
   "source": [
    "<div class=\"alert alert-success\" style=\"border-radius: 15px; box-shadow: 4px 4px 4px; border: 1px solid \">\n",
    "<h2> Reviewer's comment</h2>\n",
    "    \n",
    "You have successfully implemented hyperparameters tuning, well done! \n",
    "</div>"
   ]
  },
  {
   "cell_type": "markdown",
   "metadata": {},
   "source": [
    "# Tuning Hyperparameters"
   ]
  },
  {
   "cell_type": "code",
   "execution_count": 14,
   "metadata": {},
   "outputs": [
    {
     "name": "stdout",
     "output_type": "stream",
     "text": [
      "max_depth = 1 : 0.763681592039801\n",
      "max_depth = 2 : 0.7935323383084577\n",
      "max_depth = 3 : 0.7985074626865671\n",
      "max_depth = 4 : 0.7985074626865671\n",
      "max_depth = 5 : 0.7985074626865671\n",
      "max_depth = 6 : 0.7786069651741293\n",
      "max_depth = 7 : 0.7885572139303483\n",
      "max_depth = 8 : 0.7835820895522388\n",
      "max_depth = 9 : 0.7786069651741293\n"
     ]
    }
   ],
   "source": [
    "for depth in range(1, 10):  # Include max_depth from 1 to 10\n",
    "    model = DecisionTreeClassifier(random_state=12345, max_depth=depth)  # Create a model\n",
    "    model.fit(features_train, target_train)  # Train the model\n",
    "    predictions_valid = model.predict(features_valid)  # Get the model's predictions\n",
    "    result_valid = accuracy_score(target_valid, predictions_valid)  # Calculate accuracy\n",
    "    print(f\"max_depth = {depth} : {result_valid}\")\n",
    "    "
   ]
  },
  {
   "cell_type": "markdown",
   "metadata": {},
   "source": [
    "**The model is trained on the features_train and target_train datasets.**\n",
    "\n",
    "**Predictions are made on the validation set (features_valid and target_valid).**\n",
    "\n",
    "**Validation accuracy (result_valid) is computed to assess how well the model generalizes to unseen data.**\n",
    "\n",
    "**The highest accuracy (0.7985) is achieved at max_depth = 3, 4, or 5. These depths likely capture the critical patterns without overfitting.**\n",
    "\n",
    "**Beyond max_depth = 5, validation accuracy declines, suggesting that the model starts to memorize the training data instead of generalizing to the validation set.**"
   ]
  },
  {
   "cell_type": "markdown",
   "metadata": {},
   "source": [
    "<div class=\"alert alert-success\" style=\"border-radius: 15px; box-shadow: 4px 4px 4px; border: 1px solid \">\n",
    "<h2> Reviewer's comment</h2>\n",
    "    \n",
    "Good, you compared a couple of models with different hyperparameters!\n",
    "\n",
    "\n",
    "</div>"
   ]
  },
  {
   "cell_type": "code",
   "execution_count": null,
   "metadata": {},
   "outputs": [],
   "source": []
  },
  {
   "cell_type": "code",
   "execution_count": 15,
   "metadata": {
    "scrolled": true
   },
   "outputs": [
    {
     "name": "stdout",
     "output_type": "stream",
     "text": [
      "Accuracy of the best model on the validation set (max_depth = 3): 0.7985074626865671\n"
     ]
    }
   ],
   "source": [
    "best_model = None\n",
    "best_result = 0  # Initialize to 0 since we want to maximize accuracy\n",
    "best_depth = 0\n",
    "for depth in range(1, 6): # choose hyperparameter range\n",
    "    model = DecisionTreeRegressor(random_state=12345, max_depth=depth) # train model on training set\n",
    "    model.fit(features_train,target_train) # train model on training set\n",
    "    predictions_valid = model.predict(features_valid) # get model predictions on validation set\n",
    "    convert_predictions = (predictions_valid >= 0.5).astype(int)  # Convert predictions to binary\n",
    "    accuracy = accuracy_score(target_valid, convert_predictions)  # Calculate accuracy on validation set\n",
    " # mse = mean_squared_error(target_valid, predictions_valid)\n",
    "    #result = (mse)**.5 # calculate RMSE on validation set\n",
    "    if accuracy > best_result:\n",
    "        best_model = model\n",
    "        best_result = accuracy\n",
    "        best_depth = depth\n",
    "\n",
    "print(f\"Accuracy of the best model on the validation set (max_depth = {best_depth}): {best_result}\")"
   ]
  },
  {
   "cell_type": "markdown",
   "metadata": {},
   "source": []
  },
  {
   "cell_type": "markdown",
   "metadata": {},
   "source": []
  },
  {
   "cell_type": "markdown",
   "metadata": {},
   "source": [
    "**RANDOM FOREST REGRESSION**"
   ]
  },
  {
   "cell_type": "code",
   "execution_count": 16,
   "metadata": {},
   "outputs": [],
   "source": [
    "best_model = None\n",
    "best_score = 0\n",
    "best_est = 0"
   ]
  },
  {
   "cell_type": "code",
   "execution_count": 17,
   "metadata": {},
   "outputs": [
    {
     "name": "stdout",
     "output_type": "stream",
     "text": [
      "Accuracy of the best model on the validation set (n_estimators = 4): 0.8009950248756219\n"
     ]
    }
   ],
   "source": [
    "for est in range(1, 10): # choose hyperparameter range\n",
    "    model = RandomForestClassifier(random_state=12345, n_estimators=est) # set number of trees\n",
    "    model.fit(features_train, target_train) # train model on training set\n",
    "    score = model.score(features_valid,target_valid) # calculate accuracy score on validation set\n",
    "    if score > best_score:\n",
    "        best_model = model\n",
    "        best_score = score # save best accuracy score on validation set\n",
    "        best_est = est # save number of estimators corresponding to best accuracy score\n",
    "\n",
    "print(f\"Accuracy of the best model on the validation set (n_estimators = {best_est}): {best_score}\")"
   ]
  },
  {
   "cell_type": "markdown",
   "metadata": {},
   "source": [
    "**Best Model: RandomForestClassifier(n_estimators=50, random_state=12345).**\n",
    "\n",
    "**Best Validation Accuracy: 0.8009.**\n",
    "\n",
    "**The best accuracy on the validation set is achieved when the forest has 50 trees (n_estimators=50).This suggests that adding more trees beyond 50 did not significantly improve the model's performance, and in some cases, may have caused overfitting or redundant computations.**\n",
    "\n",
    "**With very few trees (n_estimators=1),the model may lack stability as it relies heavily on a single tree's prediction.**\n"
   ]
  },
  {
   "cell_type": "code",
   "execution_count": 18,
   "metadata": {},
   "outputs": [
    {
     "name": "stdout",
     "output_type": "stream",
     "text": [
      "Accuracy of the best model on the validation set: 0.8159203980099502 n_estimators: 20 best_depth: 9\n"
     ]
    }
   ],
   "source": [
    "best_model = None\n",
    "best_result = 0  # Initialize to 0 since we want to maximize accuracy\n",
    "best_est = 0\n",
    "best_depth = 0\n",
    "\n",
    "for est in range(10, 51, 10):\n",
    "    for depth in range(1, 11):\n",
    "        model = RandomForestClassifier(random_state=12345, n_estimators=est, max_depth=depth)\n",
    "        model.fit(features_train, target_train)\n",
    "        predictions_valid = model.predict(features_valid)\n",
    "        \n",
    "        result = accuracy_score(target_valid, predictions_valid)\n",
    "        if result > best_result:  # Update if we find a model with better accuracy\n",
    "            best_model = model\n",
    "            best_result = result\n",
    "            best_est = est\n",
    "            best_depth = depth\n",
    "\n",
    "print(\"Accuracy of the best model on the validation set:\", best_result, \n",
    "      \"n_estimators:\", best_est, \n",
    "      \"best_depth:\", best_depth)"
   ]
  },
  {
   "cell_type": "code",
   "execution_count": null,
   "metadata": {},
   "outputs": [],
   "source": []
  },
  {
   "cell_type": "markdown",
   "metadata": {},
   "source": [
    "**LOGISTIC REGRESSION**"
   ]
  },
  {
   "cell_type": "code",
   "execution_count": 19,
   "metadata": {},
   "outputs": [
    {
     "name": "stdout",
     "output_type": "stream",
     "text": [
      "Accuracy of the logistic regression model on the training set: 0.74149377593361\n",
      "Accuracy of the logistic regression model on the validation set: 0.7661691542288557\n",
      "RMSE of the linear regression model on the validation set: 0.43480423913315197\n"
     ]
    }
   ],
   "source": [
    "model = LogisticRegression(random_state=12345, solver='liblinear')  # initialize logistic regression constructor with parameters random_state=54321 and solver='liblinear'\n",
    "model.fit(features_train,target_train)  # train model on training set\n",
    "score_train = model.score(features_train,target_train)\n",
    "     # calculate accuracy score on training set\n",
    "score_valid = model.score(features_valid,target_valid)\n",
    " # calculate accuracy score on validation set\n",
    "print(\n",
    "    \"Accuracy of the logistic regression model on the training set:\",\n",
    "    score_train,\n",
    ")\n",
    "print(\n",
    "    \"Accuracy of the logistic regression model on the validation set:\",\n",
    "    score_valid,\n",
    ")\n",
    "result =  mean_squared_error(target_valid, predictions_valid)**0.5 # calculate RMSE on validation set\n",
    "print(\"RMSE of the linear regression model on the validation set:\", result)"
   ]
  },
  {
   "cell_type": "markdown",
   "metadata": {},
   "source": [
    "**Training Accuracy (score_train = 0.7415):**\n",
    "**The model correctly predicts 74.15% of the training dataset.This indicates the model has captured a fair amount of patterns from the training data but hasn’t perfectly fit it (which can be a good sign to avoid overfitting).**\n",
    "\n",
    "**Validation Accuracy (score_valid = 0.7662):**\n",
    "**The model correctly predicts 76.62% of the validation dataset.**\n",
    "**The validation accuracy is slightly higher than the training accuracy,this might indicate that the training set contains more noise or the validation set happens to align better with the decision boundary learned by the model.**"
   ]
  },
  {
   "cell_type": "markdown",
   "metadata": {},
   "source": [
    "<div class=\"alert alert-success\" style=\"border-radius: 15px; box-shadow: 4px 4px 4px; border: 1px solid \">\n",
    "<h2> Reviewer's comment</h2>\n",
    "    \n",
    "Great job! </div>\n"
   ]
  },
  {
   "cell_type": "markdown",
   "metadata": {},
   "source": [
    "# Selecting the Best Model"
   ]
  },
  {
   "cell_type": "code",
   "execution_count": null,
   "metadata": {},
   "outputs": [],
   "source": []
  },
  {
   "cell_type": "markdown",
   "metadata": {},
   "source": [
    "**Decision Trees: **Validation Accuracy: 0.798.**\n",
    "\n",
    "**Random Forest: **Validation Accuracy: 0.8159.**\n",
    "\n",
    "**Logistic Regression: **Validation Accuracy: 0.7662.**\n",
    "\n",
    "**Based on your key metric, Random Forest is the best classifier with the highest validation accuracy of 0.8159.**"
   ]
  },
  {
   "cell_type": "markdown",
   "metadata": {},
   "source": [
    "<div class=\"alert alert-success\" style=\"border-radius: 15px; box-shadow: 4px 4px 4px; border: 1px solid \">\n",
    "<h2>   Reviewer's comment 2 </h2>\n",
    "    \n",
    "Good. </div>\n"
   ]
  },
  {
   "cell_type": "markdown",
   "metadata": {},
   "source": [
    "# Check the quality of the model(Decision Tree) using the test set"
   ]
  },
  {
   "cell_type": "code",
   "execution_count": 21,
   "metadata": {},
   "outputs": [
    {
     "data": {
      "text/plain": [
       "RandomForestClassifier(max_depth=9, n_estimators=20, random_state=12345)"
      ]
     },
     "execution_count": 21,
     "metadata": {},
     "output_type": "execute_result"
    }
   ],
   "source": [
    "final_model = RandomForestClassifier(random_state=12345, n_estimators=20, max_depth=9)\n",
    "final_model.fit(features_train, target_train)  # Train on training set"
   ]
  },
  {
   "cell_type": "code",
   "execution_count": 22,
   "metadata": {},
   "outputs": [
    {
     "name": "stdout",
     "output_type": "stream",
     "text": [
      "Accuracy: 0.8059701492537313\n"
     ]
    }
   ],
   "source": [
    "# Make predictions on the test set\n",
    "predictions = final_model.predict(features_test)\n",
    "convert_predictions = (predictions >= 0.5).astype(int)\n",
    "# Calculating accuracy\n",
    "accuracy = accuracy_score(target_test, convert_predictions)\n",
    "# Displaying the accuracy\n",
    "print(\"Accuracy:\", accuracy)"
   ]
  },
  {
   "cell_type": "markdown",
   "metadata": {},
   "source": [
    "<div class=\"alert alert-success\" style=\"border-radius: 15px; box-shadow: 4px 4px 4px; border: 1px solid \">\n",
    "<h2> Reviewer's comment 4</h2>\n",
    "    \n",
    "Correct! \n",
    "\n",
    "</div>"
   ]
  },
  {
   "cell_type": "markdown",
   "metadata": {},
   "source": [
    "**We see that the accuracy of the model on the test set (.8059) alone is slightly lower compare to the accuracy of the Decision Tree model perfomed on the entire datasets earlier in the project(.86).**"
   ]
  },
  {
   "cell_type": "code",
   "execution_count": 23,
   "metadata": {},
   "outputs": [],
   "source": [
    "# Calculate RMSE on the test set\n",
    "#rmse = mean_squared_error(target_test, predictions, squared=False)\n",
    "#print(f\"RMSE of the final model on the test set: {rmse:.2f}\")"
   ]
  },
  {
   "cell_type": "markdown",
   "metadata": {},
   "source": [
    "<span style=\"color:blue\">\n",
    "    \n",
    "**code update to reflect accuracy metric.**    "
   ]
  },
  {
   "cell_type": "markdown",
   "metadata": {},
   "source": [
    "# Sanity check the model\n",
    "\n"
   ]
  },
  {
   "cell_type": "markdown",
   "metadata": {},
   "source": [
    "**Without to much repetion the following step will be used to sanity check our best model.**\n",
    "\n",
    "**Data Quality: This is done already.**\n",
    "\n",
    "**Splitting the Data: Here the data will be split into two set.Train-Test Split only.**\n",
    "\n",
    "**Train a simple model.**\n",
    "\n",
    "**Evaluate the Model.**\n",
    "\n",
    "**Addressing Overfitting.**\n",
    "\n",
    "**Feature Importance.**\n"
   ]
  },
  {
   "cell_type": "code",
   "execution_count": 24,
   "metadata": {},
   "outputs": [
    {
     "name": "stdout",
     "output_type": "stream",
     "text": [
      "0    0.693528\n",
      "1    0.306472\n",
      "Name: is_ultra, dtype: float64\n"
     ]
    }
   ],
   "source": [
    "print(df['is_ultra'].value_counts(normalize=True))\n",
    "# To ensure is_ultra (target variable) has a balanced or manageable class distribution."
   ]
  },
  {
   "cell_type": "markdown",
   "metadata": {},
   "source": [
    "# Splitting the Data: Here the data will be split into two set.Train-Test Split only."
   ]
  },
  {
   "cell_type": "code",
   "execution_count": 25,
   "metadata": {},
   "outputs": [],
   "source": [
    "features1 = df[['calls', 'minutes', 'messages', 'mb_used']]\n",
    "target1 = df['is_ultra']"
   ]
  },
  {
   "cell_type": "code",
   "execution_count": 26,
   "metadata": {},
   "outputs": [],
   "source": [
    "features1_train, features1_test, target1_train, target1_test = train_test_split(features1, target1, \n",
    "                                                                                test_size=0.3, random_state=12345)"
   ]
  },
  {
   "cell_type": "markdown",
   "metadata": {},
   "source": [
    "# Train a simple model."
   ]
  },
  {
   "cell_type": "code",
   "execution_count": 27,
   "metadata": {},
   "outputs": [
    {
     "data": {
      "text/plain": [
       "RandomForestClassifier(random_state=12345)"
      ]
     },
     "execution_count": 27,
     "metadata": {},
     "output_type": "execute_result"
    }
   ],
   "source": [
    "model = RandomForestClassifier(random_state=12345)\n",
    "model.fit(features1_train, target1_train)"
   ]
  },
  {
   "cell_type": "markdown",
   "metadata": {},
   "source": [
    "<div class=\"alert alert-warning\" style=\"border-radius: 15px; box-shadow: 4px 4px 4px; border: 1px solid \">\n",
    "<h2> Reviewer's comment</h2>\n",
    "    \n",
    "I would not use Random Forest as a basiline to compare it with other Forest models. \n",
    "</div>\n",
    "<div class=\"alert alert-success\" style=\"border-radius: 15px; box-shadow: 4px 4px 4px; border: 1px solid \">\n",
    "<h2> Reviewer's comment</h2>\n",
    "    \n",
    "You can also use a simple model that always predicts the majority class. \n",
    "\n",
    "</div>"
   ]
  },
  {
   "cell_type": "markdown",
   "metadata": {},
   "source": [
    "# Evaluate the Model."
   ]
  },
  {
   "cell_type": "code",
   "execution_count": 28,
   "metadata": {},
   "outputs": [
    {
     "name": "stdout",
     "output_type": "stream",
     "text": [
      "Training Accuracy: 1.0\n",
      "Test Accuracy: 0.7917098445595855\n"
     ]
    }
   ],
   "source": [
    "model = RandomForestClassifier(random_state=12345)\n",
    "model.fit(features1_train, target1_train)\n",
    "train_prediction = model.predict(features1_train)\n",
    "test_prediction = model.predict(features1_test)\n",
    "\n",
    "print(\"Training Accuracy:\", accuracy_score(target1_train, train_prediction))\n",
    "print(\"Test Accuracy:\", accuracy_score(target1_test, test_prediction))"
   ]
  },
  {
   "cell_type": "markdown",
   "metadata": {},
   "source": [
    "# Addressing  Overfitting."
   ]
  },
  {
   "cell_type": "code",
   "execution_count": 29,
   "metadata": {},
   "outputs": [
    {
     "name": "stdout",
     "output_type": "stream",
     "text": [
      "Training Accuracy: 0.8706091596265007\n",
      "Test Accuracy: 0.8082901554404145\n"
     ]
    }
   ],
   "source": [
    "model = RandomForestClassifier(n_estimators=50, max_depth=8, random_state=12345)\n",
    "model.fit(features1_train, target1_train)\n",
    "train_prediction = model.predict(features1_train)\n",
    "test_prediction = model.predict(features1_test)\n",
    "\n",
    "print(\"Training Accuracy:\", accuracy_score(target1_train, train_prediction))\n",
    "print(\"Test Accuracy:\", accuracy_score(target1_test, test_prediction))"
   ]
  },
  {
   "cell_type": "markdown",
   "metadata": {},
   "source": [
    "# Feature Importance"
   ]
  },
  {
   "cell_type": "code",
   "execution_count": 30,
   "metadata": {},
   "outputs": [
    {
     "data": {
      "image/png": "[encoded data removed]",
      "text/plain": [
       "<Figure size 640x480 with 1 Axes>"
      ]
     },
     "metadata": {},
     "output_type": "display_data"
    }
   ],
   "source": [
    "feature_importances = model.feature_importances_\n",
    "features = pd.DataFrame({'Feature': features1_train.columns, 'Importance': feature_importances})\n",
    "features.sort_values(by='Importance', ascending=False, inplace=True)\n",
    "\n",
    "plt.bar(features['Feature'], features['Importance'])\n",
    "plt.xlabel('Features')\n",
    "plt.ylabel('Importance')\n",
    "plt.title('Feature Importance')\n",
    "plt.show()"
   ]
  },
  {
   "cell_type": "markdown",
   "metadata": {},
   "source": [
    "# Conclusion\n",
    "\n",
    "**The RMSE values for both the training and test sets are reasonably close, indicating the model generalizes well and is not overfitting or underfitting.This model can be confidently used to recommend plans (Smart or Ultra) for unseen subscribers, as it maintains consistent predictive accuracy across datasets.**\n",
    "**The features effectively capture subscriber behavior, allowing the model to distinguish between users who prefer the Ultra and Smart plans.With this information megaline can use this model to identify and segment users based on their communication and internet usage patterns.For example High call duration or frequent internet users: Likely to prefer the Ultra plan.\n",
    "Low usage across metrics: More inclined to stick with the Smart plan.**\n",
    "**An RMSE of 0.39 on the test set suggests room for improvement in predictive accuracy.The model could be refined by incorporating additional features.** "
   ]
  },
  {
   "cell_type": "markdown",
   "metadata": {},
   "source": [
    "<div class=\"alert alert-success\" style=\"border-radius: 15px; box-shadow: 4px 4px 4px; border: 1px solid \">\n",
    "<h2>   Reviewer's comment  </h2>\n",
    "    \n",
    "Great job! </div>\n"
   ]
  },
  {
   "cell_type": "markdown",
   "metadata": {},
   "source": [
    "<div class=\"alert alert-success\" style=\"border-radius: 15px; box-shadow: 4px 4px 4px; border: 1px solid \">\n",
    "<h2> Reviewer's comment 4</h2>\n",
    "    \n",
    "Excellent, thank you so much! \n",
    "</div>"
   ]
  },
  {
   "cell_type": "code",
   "execution_count": null,
   "metadata": {},
   "outputs": [],
   "source": []
  }
 ],
 "metadata": {
  "ExecuteTimeLog": [
   {
    "duration": 157,
    "start_time": "2024-12-23T02:14:50.550Z"
   },
   {
    "duration": 826,
    "start_time": "2024-12-23T02:15:08.015Z"
   },
   {
    "duration": 12,
    "start_time": "2024-12-23T02:15:08.843Z"
   },
   {
    "duration": 10,
    "start_time": "2024-12-23T02:15:08.856Z"
   },
   {
    "duration": 12,
    "start_time": "2024-12-23T02:15:53.586Z"
   },
   {
    "duration": 215,
    "start_time": "2024-12-23T02:21:15.302Z"
   },
   {
    "duration": 17,
    "start_time": "2024-12-23T02:21:56.060Z"
   },
   {
    "duration": 5,
    "start_time": "2024-12-23T02:25:45.338Z"
   },
   {
    "duration": 5,
    "start_time": "2024-12-23T02:27:56.811Z"
   },
   {
    "duration": 3,
    "start_time": "2024-12-23T02:46:15.300Z"
   },
   {
    "duration": 4,
    "start_time": "2024-12-23T03:11:37.755Z"
   },
   {
    "duration": 4,
    "start_time": "2024-12-23T03:12:26.068Z"
   },
   {
    "duration": 5,
    "start_time": "2024-12-23T03:27:38.944Z"
   },
   {
    "duration": 830,
    "start_time": "2024-12-23T16:46:53.882Z"
   },
   {
    "duration": 13,
    "start_time": "2024-12-23T16:46:54.715Z"
   },
   {
    "duration": 9,
    "start_time": "2024-12-23T16:46:54.729Z"
   },
   {
    "duration": 11,
    "start_time": "2024-12-23T16:46:54.739Z"
   },
   {
    "duration": 5,
    "start_time": "2024-12-23T16:46:54.752Z"
   },
   {
    "duration": 3,
    "start_time": "2024-12-23T16:46:54.759Z"
   },
   {
    "duration": 3,
    "start_time": "2024-12-23T16:46:54.787Z"
   },
   {
    "duration": 4,
    "start_time": "2024-12-23T16:46:54.792Z"
   },
   {
    "duration": 3,
    "start_time": "2024-12-23T16:58:26.476Z"
   },
   {
    "duration": 4,
    "start_time": "2024-12-23T16:58:27.844Z"
   },
   {
    "duration": 4,
    "start_time": "2024-12-23T17:03:05.069Z"
   },
   {
    "duration": 5,
    "start_time": "2024-12-23T17:08:39.335Z"
   },
   {
    "duration": 4,
    "start_time": "2024-12-23T17:09:55.656Z"
   },
   {
    "duration": 218,
    "start_time": "2024-12-23T17:10:19.977Z"
   },
   {
    "duration": 784,
    "start_time": "2024-12-23T17:11:17.621Z"
   },
   {
    "duration": 9,
    "start_time": "2024-12-23T17:11:18.407Z"
   },
   {
    "duration": 8,
    "start_time": "2024-12-23T17:11:18.418Z"
   },
   {
    "duration": 10,
    "start_time": "2024-12-23T17:11:18.428Z"
   },
   {
    "duration": 5,
    "start_time": "2024-12-23T17:11:18.441Z"
   },
   {
    "duration": 3,
    "start_time": "2024-12-23T17:11:18.448Z"
   },
   {
    "duration": 4,
    "start_time": "2024-12-23T17:11:18.452Z"
   },
   {
    "duration": 29,
    "start_time": "2024-12-23T17:11:18.458Z"
   },
   {
    "duration": 5,
    "start_time": "2024-12-23T17:11:18.489Z"
   },
   {
    "duration": 2,
    "start_time": "2024-12-23T17:11:18.497Z"
   },
   {
    "duration": 242,
    "start_time": "2024-12-23T17:11:18.501Z"
   },
   {
    "duration": 818,
    "start_time": "2024-12-23T17:12:22.801Z"
   },
   {
    "duration": 8,
    "start_time": "2024-12-23T17:12:23.622Z"
   },
   {
    "duration": 9,
    "start_time": "2024-12-23T17:12:23.632Z"
   },
   {
    "duration": 10,
    "start_time": "2024-12-23T17:12:23.643Z"
   },
   {
    "duration": 6,
    "start_time": "2024-12-23T17:12:23.655Z"
   },
   {
    "duration": 24,
    "start_time": "2024-12-23T17:12:23.663Z"
   },
   {
    "duration": 4,
    "start_time": "2024-12-23T17:12:23.690Z"
   },
   {
    "duration": 4,
    "start_time": "2024-12-23T17:12:23.696Z"
   },
   {
    "duration": 4,
    "start_time": "2024-12-23T17:12:23.701Z"
   },
   {
    "duration": 2,
    "start_time": "2024-12-23T17:12:23.707Z"
   },
   {
    "duration": 30,
    "start_time": "2024-12-23T17:12:23.711Z"
   },
   {
    "duration": 68,
    "start_time": "2024-12-23T17:23:32.845Z"
   },
   {
    "duration": 55,
    "start_time": "2024-12-23T17:33:06.831Z"
   },
   {
    "duration": 219,
    "start_time": "2024-12-23T18:08:20.286Z"
   },
   {
    "duration": 807,
    "start_time": "2024-12-23T18:09:13.897Z"
   },
   {
    "duration": 9,
    "start_time": "2024-12-23T18:09:14.706Z"
   },
   {
    "duration": 9,
    "start_time": "2024-12-23T18:09:14.716Z"
   },
   {
    "duration": 10,
    "start_time": "2024-12-23T18:09:14.727Z"
   },
   {
    "duration": 6,
    "start_time": "2024-12-23T18:09:14.739Z"
   },
   {
    "duration": 3,
    "start_time": "2024-12-23T18:09:14.746Z"
   },
   {
    "duration": 3,
    "start_time": "2024-12-23T18:09:14.751Z"
   },
   {
    "duration": 32,
    "start_time": "2024-12-23T18:09:14.756Z"
   },
   {
    "duration": 5,
    "start_time": "2024-12-23T18:09:14.790Z"
   },
   {
    "duration": 3,
    "start_time": "2024-12-23T18:09:14.796Z"
   },
   {
    "duration": 87,
    "start_time": "2024-12-23T18:09:14.800Z"
   },
   {
    "duration": 54,
    "start_time": "2024-12-23T18:09:14.888Z"
   },
   {
    "duration": 2,
    "start_time": "2024-12-23T18:09:14.945Z"
   },
   {
    "duration": 217,
    "start_time": "2024-12-23T18:09:14.949Z"
   },
   {
    "duration": 222,
    "start_time": "2024-12-23T18:47:38.494Z"
   },
   {
    "duration": 800,
    "start_time": "2024-12-23T18:47:56.902Z"
   },
   {
    "duration": 8,
    "start_time": "2024-12-23T18:47:57.704Z"
   },
   {
    "duration": 9,
    "start_time": "2024-12-23T18:47:57.713Z"
   },
   {
    "duration": 11,
    "start_time": "2024-12-23T18:47:57.724Z"
   },
   {
    "duration": 5,
    "start_time": "2024-12-23T18:47:57.737Z"
   },
   {
    "duration": 3,
    "start_time": "2024-12-23T18:47:57.743Z"
   },
   {
    "duration": 5,
    "start_time": "2024-12-23T18:47:57.747Z"
   },
   {
    "duration": 34,
    "start_time": "2024-12-23T18:47:57.753Z"
   },
   {
    "duration": 5,
    "start_time": "2024-12-23T18:47:57.788Z"
   },
   {
    "duration": 3,
    "start_time": "2024-12-23T18:47:57.794Z"
   },
   {
    "duration": 87,
    "start_time": "2024-12-23T18:47:57.799Z"
   },
   {
    "duration": 54,
    "start_time": "2024-12-23T18:47:57.888Z"
   },
   {
    "duration": 3,
    "start_time": "2024-12-23T18:47:57.944Z"
   },
   {
    "duration": 227,
    "start_time": "2024-12-23T18:47:57.950Z"
   },
   {
    "duration": 20,
    "start_time": "2024-12-23T18:47:58.179Z"
   },
   {
    "duration": 4,
    "start_time": "2024-12-23T18:50:02.520Z"
   },
   {
    "duration": 5,
    "start_time": "2024-12-23T18:50:18.551Z"
   },
   {
    "duration": 13,
    "start_time": "2024-12-23T18:50:47.742Z"
   },
   {
    "duration": 3,
    "start_time": "2024-12-23T19:36:34.016Z"
   },
   {
    "duration": 5,
    "start_time": "2024-12-23T19:39:31.039Z"
   },
   {
    "duration": 56,
    "start_time": "2024-12-23T19:59:31.975Z"
   },
   {
    "duration": 55,
    "start_time": "2024-12-23T20:17:22.568Z"
   },
   {
    "duration": 54,
    "start_time": "2024-12-23T20:28:31.635Z"
   },
   {
    "duration": 16,
    "start_time": "2024-12-23T20:47:19.249Z"
   },
   {
    "duration": 3984,
    "start_time": "2024-12-23T20:52:17.298Z"
   },
   {
    "duration": 3971,
    "start_time": "2024-12-23T20:52:21.838Z"
   },
   {
    "duration": 3959,
    "start_time": "2024-12-23T20:53:15.366Z"
   },
   {
    "duration": 3980,
    "start_time": "2024-12-23T20:57:39.668Z"
   },
   {
    "duration": 220,
    "start_time": "2024-12-23T21:02:18.417Z"
   },
   {
    "duration": 768,
    "start_time": "2024-12-23T21:03:09.531Z"
   },
   {
    "duration": 8,
    "start_time": "2024-12-23T21:03:10.301Z"
   },
   {
    "duration": 9,
    "start_time": "2024-12-23T21:03:10.311Z"
   },
   {
    "duration": 11,
    "start_time": "2024-12-23T21:03:10.321Z"
   },
   {
    "duration": 5,
    "start_time": "2024-12-23T21:03:10.335Z"
   },
   {
    "duration": 3,
    "start_time": "2024-12-23T21:03:10.342Z"
   },
   {
    "duration": 4,
    "start_time": "2024-12-23T21:03:10.346Z"
   },
   {
    "duration": 36,
    "start_time": "2024-12-23T21:03:10.353Z"
   },
   {
    "duration": 4,
    "start_time": "2024-12-23T21:03:10.391Z"
   },
   {
    "duration": 3,
    "start_time": "2024-12-23T21:03:10.396Z"
   },
   {
    "duration": 86,
    "start_time": "2024-12-23T21:03:10.401Z"
   },
   {
    "duration": 58,
    "start_time": "2024-12-23T21:03:10.489Z"
   },
   {
    "duration": 37,
    "start_time": "2024-12-23T21:03:10.549Z"
   },
   {
    "duration": 2,
    "start_time": "2024-12-23T21:03:10.590Z"
   },
   {
    "duration": 211,
    "start_time": "2024-12-23T21:03:10.593Z"
   },
   {
    "duration": 4025,
    "start_time": "2024-12-23T21:03:10.805Z"
   },
   {
    "duration": 12,
    "start_time": "2024-12-23T21:03:14.832Z"
   },
   {
    "duration": 3,
    "start_time": "2024-12-23T21:03:14.846Z"
   },
   {
    "duration": 6,
    "start_time": "2024-12-23T21:03:14.886Z"
   },
   {
    "duration": 2,
    "start_time": "2024-12-23T21:08:27.640Z"
   },
   {
    "duration": 67,
    "start_time": "2024-12-23T21:08:29.951Z"
   },
   {
    "duration": 3,
    "start_time": "2024-12-23T21:08:51.259Z"
   },
   {
    "duration": 70,
    "start_time": "2024-12-23T21:08:53.390Z"
   },
   {
    "duration": 800,
    "start_time": "2024-12-25T00:19:46.767Z"
   },
   {
    "duration": 15,
    "start_time": "2024-12-25T00:19:47.569Z"
   },
   {
    "duration": 8,
    "start_time": "2024-12-25T00:19:47.586Z"
   },
   {
    "duration": 11,
    "start_time": "2024-12-25T00:19:47.596Z"
   },
   {
    "duration": 15,
    "start_time": "2024-12-25T00:19:47.610Z"
   },
   {
    "duration": 4,
    "start_time": "2024-12-25T00:19:47.626Z"
   },
   {
    "duration": 4,
    "start_time": "2024-12-25T00:19:47.632Z"
   },
   {
    "duration": 4,
    "start_time": "2024-12-25T00:19:47.638Z"
   },
   {
    "duration": 5,
    "start_time": "2024-12-25T00:19:47.643Z"
   },
   {
    "duration": 3,
    "start_time": "2024-12-25T00:19:47.650Z"
   },
   {
    "duration": 97,
    "start_time": "2024-12-25T00:19:47.655Z"
   },
   {
    "duration": 55,
    "start_time": "2024-12-25T00:19:47.755Z"
   },
   {
    "duration": 35,
    "start_time": "2024-12-25T00:19:47.812Z"
   },
   {
    "duration": 2,
    "start_time": "2024-12-25T00:19:47.850Z"
   },
   {
    "duration": 221,
    "start_time": "2024-12-25T00:19:47.854Z"
   },
   {
    "duration": 4002,
    "start_time": "2024-12-25T00:19:48.077Z"
   },
   {
    "duration": 12,
    "start_time": "2024-12-25T00:19:52.081Z"
   },
   {
    "duration": 29,
    "start_time": "2024-12-25T00:19:52.095Z"
   },
   {
    "duration": 6,
    "start_time": "2024-12-25T00:19:52.126Z"
   },
   {
    "duration": 743,
    "start_time": "2024-12-25T01:02:15.101Z"
   },
   {
    "duration": 9,
    "start_time": "2024-12-25T01:02:15.846Z"
   },
   {
    "duration": 8,
    "start_time": "2024-12-25T01:02:15.857Z"
   },
   {
    "duration": 10,
    "start_time": "2024-12-25T01:02:15.867Z"
   },
   {
    "duration": 5,
    "start_time": "2024-12-25T01:02:15.880Z"
   },
   {
    "duration": 3,
    "start_time": "2024-12-25T01:02:15.887Z"
   },
   {
    "duration": 31,
    "start_time": "2024-12-25T01:02:15.892Z"
   },
   {
    "duration": 5,
    "start_time": "2024-12-25T01:02:15.926Z"
   },
   {
    "duration": 5,
    "start_time": "2024-12-25T01:02:15.932Z"
   },
   {
    "duration": 4,
    "start_time": "2024-12-25T01:02:15.939Z"
   },
   {
    "duration": 84,
    "start_time": "2024-12-25T01:02:15.945Z"
   },
   {
    "duration": 55,
    "start_time": "2024-12-25T01:02:16.031Z"
   },
   {
    "duration": 40,
    "start_time": "2024-12-25T01:02:16.088Z"
   },
   {
    "duration": 2,
    "start_time": "2024-12-25T01:02:16.132Z"
   },
   {
    "duration": 205,
    "start_time": "2024-12-25T01:02:16.135Z"
   },
   {
    "duration": 3998,
    "start_time": "2024-12-25T01:02:16.342Z"
   },
   {
    "duration": 13,
    "start_time": "2024-12-25T01:02:20.341Z"
   },
   {
    "duration": 3,
    "start_time": "2024-12-25T01:02:20.355Z"
   },
   {
    "duration": 307,
    "start_time": "2024-12-25T01:02:20.360Z"
   },
   {
    "duration": 8,
    "start_time": "2024-12-25T01:02:20.668Z"
   },
   {
    "duration": 4,
    "start_time": "2024-12-25T01:02:20.677Z"
   },
   {
    "duration": 3,
    "start_time": "2024-12-25T01:07:18.445Z"
   },
   {
    "duration": 174,
    "start_time": "2024-12-25T01:07:19.850Z"
   },
   {
    "duration": 7,
    "start_time": "2024-12-25T01:07:20.063Z"
   },
   {
    "duration": 787,
    "start_time": "2024-12-25T01:17:00.826Z"
   },
   {
    "duration": 9,
    "start_time": "2024-12-25T01:17:01.616Z"
   },
   {
    "duration": 9,
    "start_time": "2024-12-25T01:17:01.626Z"
   },
   {
    "duration": 10,
    "start_time": "2024-12-25T01:17:01.637Z"
   },
   {
    "duration": 5,
    "start_time": "2024-12-25T01:17:01.650Z"
   },
   {
    "duration": 3,
    "start_time": "2024-12-25T01:17:01.657Z"
   },
   {
    "duration": 4,
    "start_time": "2024-12-25T01:17:01.661Z"
   },
   {
    "duration": 3,
    "start_time": "2024-12-25T01:17:01.667Z"
   },
   {
    "duration": 3,
    "start_time": "2024-12-25T01:17:01.672Z"
   },
   {
    "duration": 2,
    "start_time": "2024-12-25T01:17:01.678Z"
   },
   {
    "duration": 106,
    "start_time": "2024-12-25T01:17:01.682Z"
   },
   {
    "duration": 62,
    "start_time": "2024-12-25T01:17:01.791Z"
   },
   {
    "duration": 24,
    "start_time": "2024-12-25T01:17:01.855Z"
   },
   {
    "duration": 2,
    "start_time": "2024-12-25T01:17:01.882Z"
   },
   {
    "duration": 218,
    "start_time": "2024-12-25T01:17:01.886Z"
   },
   {
    "duration": 3975,
    "start_time": "2024-12-25T01:17:02.106Z"
   },
   {
    "duration": 42,
    "start_time": "2024-12-25T01:17:06.083Z"
   },
   {
    "duration": 4,
    "start_time": "2024-12-25T01:17:06.126Z"
   },
   {
    "duration": 253,
    "start_time": "2024-12-25T01:17:06.132Z"
   },
   {
    "duration": 7,
    "start_time": "2024-12-25T01:17:06.387Z"
   },
   {
    "duration": 3,
    "start_time": "2024-12-25T01:17:06.396Z"
   },
   {
    "duration": 3,
    "start_time": "2024-12-25T01:17:06.401Z"
   },
   {
    "duration": 225,
    "start_time": "2024-12-25T01:17:06.423Z"
   },
   {
    "duration": 11,
    "start_time": "2024-12-25T01:17:06.650Z"
   },
   {
    "duration": 5,
    "start_time": "2024-12-25T01:27:36.625Z"
   },
   {
    "duration": 11,
    "start_time": "2024-12-25T01:46:21.344Z"
   },
   {
    "duration": 3,
    "start_time": "2024-12-25T02:01:37.448Z"
   },
   {
    "duration": 4,
    "start_time": "2024-12-25T02:01:38.764Z"
   },
   {
    "duration": 221,
    "start_time": "2024-12-25T02:03:56.242Z"
   },
   {
    "duration": 7,
    "start_time": "2024-12-25T02:04:37.514Z"
   },
   {
    "duration": 4,
    "start_time": "2024-12-25T02:04:38.605Z"
   },
   {
    "duration": 342,
    "start_time": "2024-12-25T02:04:40.602Z"
   },
   {
    "duration": 45,
    "start_time": "2024-12-25T02:07:29.402Z"
   },
   {
    "duration": 47,
    "start_time": "2024-12-25T02:08:42.147Z"
   },
   {
    "duration": 285,
    "start_time": "2024-12-25T02:12:07.934Z"
   },
   {
    "duration": 139,
    "start_time": "2024-12-25T02:18:13.622Z"
   },
   {
    "duration": 384,
    "start_time": "2024-12-25T02:24:55.351Z"
   },
   {
    "duration": 2569,
    "start_time": "2024-12-25T02:29:53.008Z"
   },
   {
    "duration": 9,
    "start_time": "2024-12-25T02:29:55.579Z"
   },
   {
    "duration": 9,
    "start_time": "2024-12-25T02:29:55.590Z"
   },
   {
    "duration": 10,
    "start_time": "2024-12-25T02:29:55.600Z"
   },
   {
    "duration": 4,
    "start_time": "2024-12-25T02:29:55.626Z"
   },
   {
    "duration": 5,
    "start_time": "2024-12-25T02:29:55.632Z"
   },
   {
    "duration": 3,
    "start_time": "2024-12-25T02:29:55.638Z"
   },
   {
    "duration": 4,
    "start_time": "2024-12-25T02:29:55.642Z"
   },
   {
    "duration": 3,
    "start_time": "2024-12-25T02:29:55.648Z"
   },
   {
    "duration": 5,
    "start_time": "2024-12-25T02:29:55.652Z"
   },
   {
    "duration": 3,
    "start_time": "2024-12-25T02:29:55.658Z"
   },
   {
    "duration": 98,
    "start_time": "2024-12-25T02:29:55.663Z"
   },
   {
    "duration": 63,
    "start_time": "2024-12-25T02:29:55.763Z"
   },
   {
    "duration": 23,
    "start_time": "2024-12-25T02:29:55.830Z"
   },
   {
    "duration": 2,
    "start_time": "2024-12-25T02:29:55.855Z"
   },
   {
    "duration": 215,
    "start_time": "2024-12-25T02:29:55.858Z"
   },
   {
    "duration": 3977,
    "start_time": "2024-12-25T02:29:56.075Z"
   },
   {
    "duration": 12,
    "start_time": "2024-12-25T02:30:00.054Z"
   },
   {
    "duration": 4,
    "start_time": "2024-12-25T02:30:00.068Z"
   },
   {
    "duration": 300,
    "start_time": "2024-12-25T02:30:00.074Z"
   },
   {
    "duration": 6,
    "start_time": "2024-12-25T02:30:00.376Z"
   },
   {
    "duration": 3,
    "start_time": "2024-12-25T02:30:00.384Z"
   },
   {
    "duration": 3,
    "start_time": "2024-12-25T02:30:00.388Z"
   },
   {
    "duration": 239,
    "start_time": "2024-12-25T02:30:00.393Z"
   },
   {
    "duration": 10,
    "start_time": "2024-12-25T02:30:00.635Z"
   },
   {
    "duration": 5,
    "start_time": "2024-12-25T02:30:00.647Z"
   },
   {
    "duration": 4,
    "start_time": "2024-12-25T02:30:00.654Z"
   },
   {
    "duration": 4,
    "start_time": "2024-12-25T02:30:00.659Z"
   },
   {
    "duration": 373,
    "start_time": "2024-12-25T02:30:00.665Z"
   },
   {
    "duration": 400,
    "start_time": "2024-12-25T02:30:01.040Z"
   },
   {
    "duration": 151,
    "start_time": "2024-12-25T02:30:01.441Z"
   },
   {
    "duration": 104,
    "start_time": "2024-12-25T02:30:01.594Z"
   },
   {
    "duration": 2834,
    "start_time": "2024-12-25T06:48:16.531Z"
   },
   {
    "duration": 11,
    "start_time": "2024-12-25T06:48:19.367Z"
   },
   {
    "duration": 3,
    "start_time": "2024-12-25T06:53:04.937Z"
   },
   {
    "duration": 8,
    "start_time": "2024-12-25T06:53:04.942Z"
   },
   {
    "duration": 9,
    "start_time": "2024-12-25T06:53:04.952Z"
   },
   {
    "duration": 9,
    "start_time": "2024-12-25T06:53:04.962Z"
   },
   {
    "duration": 5,
    "start_time": "2024-12-25T06:53:04.974Z"
   },
   {
    "duration": 4,
    "start_time": "2024-12-25T06:53:04.981Z"
   },
   {
    "duration": 3,
    "start_time": "2024-12-25T06:53:04.987Z"
   },
   {
    "duration": 5,
    "start_time": "2024-12-25T06:53:04.991Z"
   },
   {
    "duration": 4,
    "start_time": "2024-12-25T06:53:05.024Z"
   },
   {
    "duration": 5,
    "start_time": "2024-12-25T06:53:05.029Z"
   },
   {
    "duration": 3,
    "start_time": "2024-12-25T06:53:05.035Z"
   },
   {
    "duration": 85,
    "start_time": "2024-12-25T06:53:05.039Z"
   },
   {
    "duration": 53,
    "start_time": "2024-12-25T06:53:05.126Z"
   },
   {
    "duration": 23,
    "start_time": "2024-12-25T06:53:05.183Z"
   },
   {
    "duration": 6,
    "start_time": "2024-12-25T06:53:08.308Z"
   },
   {
    "duration": 2665,
    "start_time": "2024-12-25T19:03:08.282Z"
   },
   {
    "duration": 13,
    "start_time": "2024-12-25T19:03:10.950Z"
   },
   {
    "duration": 11,
    "start_time": "2024-12-25T19:03:10.965Z"
   },
   {
    "duration": 11,
    "start_time": "2024-12-25T19:03:10.977Z"
   },
   {
    "duration": 6,
    "start_time": "2024-12-25T19:03:10.990Z"
   },
   {
    "duration": 6,
    "start_time": "2024-12-25T19:03:10.997Z"
   },
   {
    "duration": 3,
    "start_time": "2024-12-25T19:03:11.005Z"
   },
   {
    "duration": 4,
    "start_time": "2024-12-25T19:03:11.010Z"
   },
   {
    "duration": 3,
    "start_time": "2024-12-25T19:03:11.016Z"
   },
   {
    "duration": 5,
    "start_time": "2024-12-25T19:03:11.021Z"
   },
   {
    "duration": 43,
    "start_time": "2024-12-25T19:03:11.027Z"
   },
   {
    "duration": 67,
    "start_time": "2024-12-25T19:03:11.071Z"
   },
   {
    "duration": 68,
    "start_time": "2024-12-25T19:03:11.141Z"
   },
   {
    "duration": 25,
    "start_time": "2024-12-25T19:03:11.213Z"
   },
   {
    "duration": 3,
    "start_time": "2024-12-25T19:03:11.239Z"
   },
   {
    "duration": 220,
    "start_time": "2024-12-25T19:03:11.243Z"
   },
   {
    "duration": 3947,
    "start_time": "2024-12-25T19:03:11.465Z"
   },
   {
    "duration": 12,
    "start_time": "2024-12-25T19:03:15.414Z"
   },
   {
    "duration": 3,
    "start_time": "2024-12-25T19:03:15.428Z"
   },
   {
    "duration": 257,
    "start_time": "2024-12-25T19:03:15.470Z"
   },
   {
    "duration": 6,
    "start_time": "2024-12-25T19:03:15.728Z"
   },
   {
    "duration": 4,
    "start_time": "2024-12-25T19:03:15.736Z"
   },
   {
    "duration": 4,
    "start_time": "2024-12-25T19:03:15.741Z"
   },
   {
    "duration": 237,
    "start_time": "2024-12-25T19:03:15.747Z"
   },
   {
    "duration": 12,
    "start_time": "2024-12-25T19:03:15.985Z"
   },
   {
    "duration": 5,
    "start_time": "2024-12-25T19:03:15.998Z"
   },
   {
    "duration": 4,
    "start_time": "2024-12-25T19:03:16.004Z"
   },
   {
    "duration": 5,
    "start_time": "2024-12-25T19:03:16.009Z"
   },
   {
    "duration": 373,
    "start_time": "2024-12-25T19:03:16.016Z"
   },
   {
    "duration": 404,
    "start_time": "2024-12-25T19:03:16.391Z"
   },
   {
    "duration": 145,
    "start_time": "2024-12-25T19:03:16.797Z"
   },
   {
    "duration": 115,
    "start_time": "2024-12-25T19:03:16.944Z"
   },
   {
    "duration": 3,
    "start_time": "2024-12-25T19:06:14.769Z"
   },
   {
    "duration": 5,
    "start_time": "2024-12-25T19:08:32.092Z"
   },
   {
    "duration": 25,
    "start_time": "2024-12-25T19:28:39.222Z"
   },
   {
    "duration": 3,
    "start_time": "2024-12-25T19:39:42.005Z"
   },
   {
    "duration": 197,
    "start_time": "2024-12-25T19:39:55.912Z"
   },
   {
    "duration": 3238,
    "start_time": "2024-12-25T19:58:56.370Z"
   },
   {
    "duration": 3181,
    "start_time": "2024-12-25T20:03:38.023Z"
   },
   {
    "duration": 3228,
    "start_time": "2024-12-25T20:07:21.793Z"
   },
   {
    "duration": 4,
    "start_time": "2024-12-25T20:40:47.940Z"
   },
   {
    "duration": 3,
    "start_time": "2024-12-25T20:40:49.195Z"
   },
   {
    "duration": 11,
    "start_time": "2024-12-25T20:40:50.341Z"
   },
   {
    "duration": 5,
    "start_time": "2024-12-25T20:40:55.462Z"
   },
   {
    "duration": 4,
    "start_time": "2024-12-25T20:41:00.887Z"
   },
   {
    "duration": 2,
    "start_time": "2024-12-25T20:43:19.407Z"
   },
   {
    "duration": 3,
    "start_time": "2024-12-25T20:43:20.215Z"
   },
   {
    "duration": 11,
    "start_time": "2024-12-25T20:43:21.263Z"
   },
   {
    "duration": 5,
    "start_time": "2024-12-25T20:43:22.527Z"
   },
   {
    "duration": 6,
    "start_time": "2024-12-25T20:49:59.548Z"
   },
   {
    "duration": 152,
    "start_time": "2024-12-25T20:50:04.040Z"
   },
   {
    "duration": 25,
    "start_time": "2024-12-25T20:53:40.534Z"
   },
   {
    "duration": 25,
    "start_time": "2024-12-25T20:54:16.267Z"
   },
   {
    "duration": 28,
    "start_time": "2024-12-25T20:54:58.924Z"
   },
   {
    "duration": 923,
    "start_time": "2024-12-25T21:00:03.966Z"
   },
   {
    "duration": 9,
    "start_time": "2024-12-25T21:00:04.891Z"
   },
   {
    "duration": 8,
    "start_time": "2024-12-25T21:00:04.902Z"
   },
   {
    "duration": 10,
    "start_time": "2024-12-25T21:00:04.912Z"
   },
   {
    "duration": 6,
    "start_time": "2024-12-25T21:00:04.924Z"
   },
   {
    "duration": 6,
    "start_time": "2024-12-25T21:00:04.931Z"
   },
   {
    "duration": 32,
    "start_time": "2024-12-25T21:00:04.940Z"
   },
   {
    "duration": 4,
    "start_time": "2024-12-25T21:00:04.974Z"
   },
   {
    "duration": 4,
    "start_time": "2024-12-25T21:00:04.980Z"
   },
   {
    "duration": 4,
    "start_time": "2024-12-25T21:00:04.986Z"
   },
   {
    "duration": 5,
    "start_time": "2024-12-25T21:00:04.991Z"
   },
   {
    "duration": 3,
    "start_time": "2024-12-25T21:00:04.998Z"
   },
   {
    "duration": 105,
    "start_time": "2024-12-25T21:00:05.002Z"
   },
   {
    "duration": 60,
    "start_time": "2024-12-25T21:00:05.111Z"
   },
   {
    "duration": 398,
    "start_time": "2024-12-25T21:00:05.173Z"
   },
   {
    "duration": 0,
    "start_time": "2024-12-25T21:00:05.572Z"
   },
   {
    "duration": 0,
    "start_time": "2024-12-25T21:00:05.574Z"
   },
   {
    "duration": 0,
    "start_time": "2024-12-25T21:00:05.575Z"
   },
   {
    "duration": 0,
    "start_time": "2024-12-25T21:00:05.577Z"
   },
   {
    "duration": 0,
    "start_time": "2024-12-25T21:00:05.578Z"
   },
   {
    "duration": 0,
    "start_time": "2024-12-25T21:00:05.580Z"
   },
   {
    "duration": 0,
    "start_time": "2024-12-25T21:00:05.581Z"
   },
   {
    "duration": 0,
    "start_time": "2024-12-25T21:00:05.582Z"
   },
   {
    "duration": 0,
    "start_time": "2024-12-25T21:00:05.583Z"
   },
   {
    "duration": 0,
    "start_time": "2024-12-25T21:00:05.584Z"
   },
   {
    "duration": 0,
    "start_time": "2024-12-25T21:00:05.585Z"
   },
   {
    "duration": 0,
    "start_time": "2024-12-25T21:00:05.586Z"
   },
   {
    "duration": 0,
    "start_time": "2024-12-25T21:00:05.587Z"
   },
   {
    "duration": 0,
    "start_time": "2024-12-25T21:00:05.588Z"
   },
   {
    "duration": 0,
    "start_time": "2024-12-25T21:00:05.589Z"
   },
   {
    "duration": 38,
    "start_time": "2024-12-25T21:09:05.549Z"
   },
   {
    "duration": 2643,
    "start_time": "2024-12-26T16:48:04.367Z"
   },
   {
    "duration": 13,
    "start_time": "2024-12-26T16:48:07.012Z"
   },
   {
    "duration": 8,
    "start_time": "2024-12-26T16:48:07.027Z"
   },
   {
    "duration": 9,
    "start_time": "2024-12-26T16:48:07.038Z"
   },
   {
    "duration": 5,
    "start_time": "2024-12-26T16:48:07.049Z"
   },
   {
    "duration": 6,
    "start_time": "2024-12-26T16:48:07.055Z"
   },
   {
    "duration": 3,
    "start_time": "2024-12-26T16:48:07.062Z"
   },
   {
    "duration": 4,
    "start_time": "2024-12-26T16:48:07.067Z"
   },
   {
    "duration": 36,
    "start_time": "2024-12-26T16:48:07.073Z"
   },
   {
    "duration": 3,
    "start_time": "2024-12-26T16:48:07.112Z"
   },
   {
    "duration": 5,
    "start_time": "2024-12-26T16:48:07.117Z"
   },
   {
    "duration": 3,
    "start_time": "2024-12-26T16:48:07.123Z"
   },
   {
    "duration": 93,
    "start_time": "2024-12-26T16:48:07.127Z"
   },
   {
    "duration": 57,
    "start_time": "2024-12-26T16:48:07.222Z"
   },
   {
    "duration": 416,
    "start_time": "2024-12-26T16:48:07.280Z"
   },
   {
    "duration": 0,
    "start_time": "2024-12-26T16:48:07.698Z"
   },
   {
    "duration": 0,
    "start_time": "2024-12-26T16:48:07.700Z"
   },
   {
    "duration": 0,
    "start_time": "2024-12-26T16:48:07.701Z"
   },
   {
    "duration": 0,
    "start_time": "2024-12-26T16:48:07.702Z"
   },
   {
    "duration": 0,
    "start_time": "2024-12-26T16:48:07.709Z"
   },
   {
    "duration": 0,
    "start_time": "2024-12-26T16:48:07.710Z"
   },
   {
    "duration": 0,
    "start_time": "2024-12-26T16:48:07.711Z"
   },
   {
    "duration": 0,
    "start_time": "2024-12-26T16:48:07.712Z"
   },
   {
    "duration": 0,
    "start_time": "2024-12-26T16:48:07.713Z"
   },
   {
    "duration": 0,
    "start_time": "2024-12-26T16:48:07.713Z"
   },
   {
    "duration": 0,
    "start_time": "2024-12-26T16:48:07.714Z"
   },
   {
    "duration": 0,
    "start_time": "2024-12-26T16:48:07.715Z"
   },
   {
    "duration": 0,
    "start_time": "2024-12-26T16:48:07.715Z"
   },
   {
    "duration": 0,
    "start_time": "2024-12-26T16:48:07.716Z"
   },
   {
    "duration": 0,
    "start_time": "2024-12-26T16:48:07.717Z"
   },
   {
    "duration": 24,
    "start_time": "2024-12-26T16:50:04.693Z"
   },
   {
    "duration": 917,
    "start_time": "2024-12-26T16:50:34.723Z"
   },
   {
    "duration": 8,
    "start_time": "2024-12-26T16:50:35.642Z"
   },
   {
    "duration": 10,
    "start_time": "2024-12-26T16:50:35.651Z"
   },
   {
    "duration": 9,
    "start_time": "2024-12-26T16:50:35.662Z"
   },
   {
    "duration": 5,
    "start_time": "2024-12-26T16:50:35.674Z"
   },
   {
    "duration": 30,
    "start_time": "2024-12-26T16:50:35.680Z"
   },
   {
    "duration": 3,
    "start_time": "2024-12-26T16:50:35.712Z"
   },
   {
    "duration": 4,
    "start_time": "2024-12-26T16:50:35.716Z"
   },
   {
    "duration": 4,
    "start_time": "2024-12-26T16:50:35.722Z"
   },
   {
    "duration": 4,
    "start_time": "2024-12-26T16:50:35.727Z"
   },
   {
    "duration": 4,
    "start_time": "2024-12-26T16:50:35.733Z"
   },
   {
    "duration": 3,
    "start_time": "2024-12-26T16:50:35.739Z"
   },
   {
    "duration": 99,
    "start_time": "2024-12-26T16:50:35.743Z"
   },
   {
    "duration": 63,
    "start_time": "2024-12-26T16:50:35.846Z"
   },
   {
    "duration": 24,
    "start_time": "2024-12-26T16:50:35.910Z"
   },
   {
    "duration": 3,
    "start_time": "2024-12-26T16:50:35.936Z"
   },
   {
    "duration": 211,
    "start_time": "2024-12-26T16:50:35.941Z"
   },
   {
    "duration": 3190,
    "start_time": "2024-12-26T16:50:36.154Z"
   },
   {
    "duration": 15,
    "start_time": "2024-12-26T16:50:39.346Z"
   },
   {
    "duration": 3,
    "start_time": "2024-12-26T16:50:39.362Z"
   },
   {
    "duration": 58,
    "start_time": "2024-12-26T16:50:39.366Z"
   },
   {
    "duration": 6,
    "start_time": "2024-12-26T16:50:39.428Z"
   },
   {
    "duration": 4,
    "start_time": "2024-12-26T16:50:39.509Z"
   },
   {
    "duration": 4,
    "start_time": "2024-12-26T16:50:39.515Z"
   },
   {
    "duration": 3,
    "start_time": "2024-12-26T16:50:39.521Z"
   },
   {
    "duration": 4,
    "start_time": "2024-12-26T16:50:39.525Z"
   },
   {
    "duration": 371,
    "start_time": "2024-12-26T16:50:39.531Z"
   },
   {
    "duration": 395,
    "start_time": "2024-12-26T16:50:39.909Z"
   },
   {
    "duration": 146,
    "start_time": "2024-12-26T16:50:40.306Z"
   },
   {
    "duration": 158,
    "start_time": "2024-12-26T16:50:40.453Z"
   },
   {
    "duration": 145,
    "start_time": "2024-12-26T16:54:23.016Z"
   },
   {
    "duration": 3,
    "start_time": "2024-12-26T16:55:26.863Z"
   },
   {
    "duration": 28,
    "start_time": "2024-12-26T16:55:33.957Z"
   },
   {
    "duration": 173,
    "start_time": "2024-12-26T16:56:22.345Z"
   },
   {
    "duration": 978,
    "start_time": "2024-12-26T17:05:28.013Z"
   },
   {
    "duration": 24,
    "start_time": "2024-12-26T17:05:28.994Z"
   },
   {
    "duration": 14,
    "start_time": "2024-12-26T17:05:29.022Z"
   },
   {
    "duration": 13,
    "start_time": "2024-12-26T17:05:29.038Z"
   },
   {
    "duration": 7,
    "start_time": "2024-12-26T17:05:29.054Z"
   },
   {
    "duration": 5,
    "start_time": "2024-12-26T17:05:29.062Z"
   },
   {
    "duration": 4,
    "start_time": "2024-12-26T17:05:29.068Z"
   },
   {
    "duration": 4,
    "start_time": "2024-12-26T17:05:29.074Z"
   },
   {
    "duration": 4,
    "start_time": "2024-12-26T17:05:29.080Z"
   },
   {
    "duration": 3,
    "start_time": "2024-12-26T17:05:29.110Z"
   },
   {
    "duration": 7,
    "start_time": "2024-12-26T17:05:29.115Z"
   },
   {
    "duration": 4,
    "start_time": "2024-12-26T17:05:29.123Z"
   },
   {
    "duration": 98,
    "start_time": "2024-12-26T17:05:29.129Z"
   },
   {
    "duration": 55,
    "start_time": "2024-12-26T17:05:29.231Z"
   },
   {
    "duration": 49,
    "start_time": "2024-12-26T17:05:29.287Z"
   },
   {
    "duration": 3,
    "start_time": "2024-12-26T17:05:29.338Z"
   },
   {
    "duration": 235,
    "start_time": "2024-12-26T17:05:29.343Z"
   },
   {
    "duration": 3197,
    "start_time": "2024-12-26T17:05:29.580Z"
   },
   {
    "duration": 31,
    "start_time": "2024-12-26T17:05:32.780Z"
   },
   {
    "duration": 3,
    "start_time": "2024-12-26T17:05:32.815Z"
   },
   {
    "duration": 257,
    "start_time": "2024-12-26T17:05:32.820Z"
   },
   {
    "duration": 378,
    "start_time": "2024-12-26T17:05:33.080Z"
   },
   {
    "duration": 0,
    "start_time": "2024-12-26T17:05:33.460Z"
   },
   {
    "duration": 0,
    "start_time": "2024-12-26T17:05:33.461Z"
   },
   {
    "duration": 0,
    "start_time": "2024-12-26T17:05:33.463Z"
   },
   {
    "duration": 0,
    "start_time": "2024-12-26T17:05:33.464Z"
   },
   {
    "duration": 0,
    "start_time": "2024-12-26T17:05:33.466Z"
   },
   {
    "duration": 0,
    "start_time": "2024-12-26T17:05:33.467Z"
   },
   {
    "duration": 0,
    "start_time": "2024-12-26T17:05:33.469Z"
   },
   {
    "duration": 0,
    "start_time": "2024-12-26T17:05:33.470Z"
   },
   {
    "duration": 7,
    "start_time": "2024-12-26T17:25:12.556Z"
   },
   {
    "duration": 900,
    "start_time": "2024-12-26T17:26:42.307Z"
   },
   {
    "duration": 8,
    "start_time": "2024-12-26T17:26:43.210Z"
   },
   {
    "duration": 8,
    "start_time": "2024-12-26T17:26:43.220Z"
   },
   {
    "duration": 10,
    "start_time": "2024-12-26T17:26:43.230Z"
   },
   {
    "duration": 5,
    "start_time": "2024-12-26T17:26:43.242Z"
   },
   {
    "duration": 5,
    "start_time": "2024-12-26T17:26:43.248Z"
   },
   {
    "duration": 3,
    "start_time": "2024-12-26T17:26:43.254Z"
   },
   {
    "duration": 5,
    "start_time": "2024-12-26T17:26:43.258Z"
   },
   {
    "duration": 4,
    "start_time": "2024-12-26T17:26:43.265Z"
   },
   {
    "duration": 4,
    "start_time": "2024-12-26T17:26:43.309Z"
   },
   {
    "duration": 5,
    "start_time": "2024-12-26T17:26:43.315Z"
   },
   {
    "duration": 3,
    "start_time": "2024-12-26T17:26:43.322Z"
   },
   {
    "duration": 84,
    "start_time": "2024-12-26T17:26:43.326Z"
   },
   {
    "duration": 53,
    "start_time": "2024-12-26T17:26:43.413Z"
   },
   {
    "duration": 24,
    "start_time": "2024-12-26T17:26:43.468Z"
   },
   {
    "duration": 15,
    "start_time": "2024-12-26T17:26:43.494Z"
   },
   {
    "duration": 215,
    "start_time": "2024-12-26T17:26:43.511Z"
   },
   {
    "duration": 3141,
    "start_time": "2024-12-26T17:26:43.728Z"
   },
   {
    "duration": 38,
    "start_time": "2024-12-26T17:26:46.871Z"
   },
   {
    "duration": 3,
    "start_time": "2024-12-26T17:26:46.910Z"
   },
   {
    "duration": 254,
    "start_time": "2024-12-26T17:26:46.914Z"
   },
   {
    "duration": 9,
    "start_time": "2024-12-26T17:26:47.170Z"
   },
   {
    "duration": 3,
    "start_time": "2024-12-26T17:26:47.181Z"
   },
   {
    "duration": 5,
    "start_time": "2024-12-26T17:26:47.186Z"
   },
   {
    "duration": 19,
    "start_time": "2024-12-26T17:26:47.193Z"
   },
   {
    "duration": 4,
    "start_time": "2024-12-26T17:26:47.215Z"
   },
   {
    "duration": 376,
    "start_time": "2024-12-26T17:26:47.221Z"
   },
   {
    "duration": 398,
    "start_time": "2024-12-26T17:26:47.599Z"
   },
   {
    "duration": 146,
    "start_time": "2024-12-26T17:26:47.999Z"
   },
   {
    "duration": 162,
    "start_time": "2024-12-26T17:26:48.147Z"
   },
   {
    "duration": 872,
    "start_time": "2024-12-26T17:38:59.287Z"
   },
   {
    "duration": 9,
    "start_time": "2024-12-26T17:39:00.161Z"
   },
   {
    "duration": 9,
    "start_time": "2024-12-26T17:39:00.172Z"
   },
   {
    "duration": 9,
    "start_time": "2024-12-26T17:39:00.183Z"
   },
   {
    "duration": 5,
    "start_time": "2024-12-26T17:39:00.209Z"
   },
   {
    "duration": 4,
    "start_time": "2024-12-26T17:39:00.217Z"
   },
   {
    "duration": 3,
    "start_time": "2024-12-26T17:39:00.223Z"
   },
   {
    "duration": 4,
    "start_time": "2024-12-26T17:39:00.227Z"
   },
   {
    "duration": 4,
    "start_time": "2024-12-26T17:39:00.233Z"
   },
   {
    "duration": 2,
    "start_time": "2024-12-26T17:39:00.240Z"
   },
   {
    "duration": 5,
    "start_time": "2024-12-26T17:39:00.244Z"
   },
   {
    "duration": 2,
    "start_time": "2024-12-26T17:39:00.251Z"
   },
   {
    "duration": 106,
    "start_time": "2024-12-26T17:39:00.255Z"
   },
   {
    "duration": 58,
    "start_time": "2024-12-26T17:39:00.363Z"
   },
   {
    "duration": 23,
    "start_time": "2024-12-26T17:39:00.424Z"
   },
   {
    "duration": 3,
    "start_time": "2024-12-26T17:39:00.448Z"
   },
   {
    "duration": 213,
    "start_time": "2024-12-26T17:39:00.452Z"
   },
   {
    "duration": 3143,
    "start_time": "2024-12-26T17:39:00.666Z"
   },
   {
    "duration": 14,
    "start_time": "2024-12-26T17:39:03.811Z"
   },
   {
    "duration": 3,
    "start_time": "2024-12-26T17:39:03.826Z"
   },
   {
    "duration": 281,
    "start_time": "2024-12-26T17:39:03.830Z"
   },
   {
    "duration": 8,
    "start_time": "2024-12-26T17:39:04.113Z"
   },
   {
    "duration": 3,
    "start_time": "2024-12-26T17:39:04.122Z"
   },
   {
    "duration": 5,
    "start_time": "2024-12-26T17:39:04.127Z"
   },
   {
    "duration": 3,
    "start_time": "2024-12-26T17:39:04.134Z"
   },
   {
    "duration": 5,
    "start_time": "2024-12-26T17:39:04.138Z"
   },
   {
    "duration": 389,
    "start_time": "2024-12-26T17:39:04.145Z"
   },
   {
    "duration": 391,
    "start_time": "2024-12-26T17:39:04.537Z"
   },
   {
    "duration": 145,
    "start_time": "2024-12-26T17:39:04.930Z"
   },
   {
    "duration": 161,
    "start_time": "2024-12-26T17:39:05.076Z"
   },
   {
    "duration": 2874,
    "start_time": "2024-12-26T18:42:18.472Z"
   },
   {
    "duration": 14,
    "start_time": "2024-12-26T18:42:21.348Z"
   },
   {
    "duration": 9,
    "start_time": "2024-12-26T18:42:21.364Z"
   },
   {
    "duration": 11,
    "start_time": "2024-12-26T18:42:21.375Z"
   },
   {
    "duration": 7,
    "start_time": "2024-12-26T18:42:21.404Z"
   },
   {
    "duration": 6,
    "start_time": "2024-12-26T18:42:21.413Z"
   },
   {
    "duration": 3,
    "start_time": "2024-12-26T18:42:21.421Z"
   },
   {
    "duration": 5,
    "start_time": "2024-12-26T18:42:21.426Z"
   },
   {
    "duration": 5,
    "start_time": "2024-12-26T18:42:21.432Z"
   },
   {
    "duration": 4,
    "start_time": "2024-12-26T18:42:21.438Z"
   },
   {
    "duration": 5,
    "start_time": "2024-12-26T18:42:21.444Z"
   },
   {
    "duration": 2,
    "start_time": "2024-12-26T18:42:21.451Z"
   },
   {
    "duration": 115,
    "start_time": "2024-12-26T18:42:21.455Z"
   },
   {
    "duration": 65,
    "start_time": "2024-12-26T18:42:21.574Z"
   },
   {
    "duration": 25,
    "start_time": "2024-12-26T18:42:21.641Z"
   },
   {
    "duration": 2,
    "start_time": "2024-12-26T18:42:21.668Z"
   },
   {
    "duration": 220,
    "start_time": "2024-12-26T18:42:21.671Z"
   },
   {
    "duration": 3298,
    "start_time": "2024-12-26T18:42:21.893Z"
   },
   {
    "duration": 24,
    "start_time": "2024-12-26T18:42:25.193Z"
   },
   {
    "duration": 2,
    "start_time": "2024-12-26T18:42:25.219Z"
   },
   {
    "duration": 270,
    "start_time": "2024-12-26T18:42:25.223Z"
   },
   {
    "duration": 17,
    "start_time": "2024-12-26T18:42:25.495Z"
   },
   {
    "duration": 5,
    "start_time": "2024-12-26T18:42:25.513Z"
   },
   {
    "duration": 103,
    "start_time": "2024-12-26T18:42:25.520Z"
   },
   {
    "duration": 3,
    "start_time": "2024-12-26T18:42:25.625Z"
   },
   {
    "duration": 4,
    "start_time": "2024-12-26T18:42:25.630Z"
   },
   {
    "duration": 379,
    "start_time": "2024-12-26T18:42:25.637Z"
   },
   {
    "duration": 471,
    "start_time": "2024-12-26T18:42:26.017Z"
   },
   {
    "duration": 167,
    "start_time": "2024-12-26T18:42:26.490Z"
   },
   {
    "duration": 134,
    "start_time": "2024-12-26T18:42:26.659Z"
   },
   {
    "duration": 2696,
    "start_time": "2024-12-26T19:50:24.913Z"
   },
   {
    "duration": 14,
    "start_time": "2024-12-26T19:50:27.612Z"
   },
   {
    "duration": 10,
    "start_time": "2024-12-26T19:50:27.627Z"
   },
   {
    "duration": 10,
    "start_time": "2024-12-26T19:50:27.640Z"
   },
   {
    "duration": 6,
    "start_time": "2024-12-26T19:50:27.651Z"
   },
   {
    "duration": 27,
    "start_time": "2024-12-26T19:50:27.659Z"
   },
   {
    "duration": 3,
    "start_time": "2024-12-26T19:50:27.688Z"
   },
   {
    "duration": 5,
    "start_time": "2024-12-26T19:50:27.692Z"
   },
   {
    "duration": 4,
    "start_time": "2024-12-26T19:50:27.698Z"
   },
   {
    "duration": 2,
    "start_time": "2024-12-26T19:50:27.706Z"
   },
   {
    "duration": 5,
    "start_time": "2024-12-26T19:50:27.710Z"
   },
   {
    "duration": 2,
    "start_time": "2024-12-26T19:50:27.716Z"
   },
   {
    "duration": 104,
    "start_time": "2024-12-26T19:50:27.720Z"
   },
   {
    "duration": 67,
    "start_time": "2024-12-26T19:50:27.825Z"
   },
   {
    "duration": 24,
    "start_time": "2024-12-26T19:50:27.894Z"
   },
   {
    "duration": 3,
    "start_time": "2024-12-26T19:50:27.920Z"
   },
   {
    "duration": 223,
    "start_time": "2024-12-26T19:50:27.925Z"
   },
   {
    "duration": 3171,
    "start_time": "2024-12-26T19:50:28.150Z"
   },
   {
    "duration": 15,
    "start_time": "2024-12-26T19:50:31.324Z"
   },
   {
    "duration": 2,
    "start_time": "2024-12-26T19:50:31.341Z"
   },
   {
    "duration": 258,
    "start_time": "2024-12-26T19:50:31.386Z"
   },
   {
    "duration": 8,
    "start_time": "2024-12-26T19:50:31.646Z"
   },
   {
    "duration": 5,
    "start_time": "2024-12-26T19:50:31.655Z"
   },
   {
    "duration": 5,
    "start_time": "2024-12-26T19:50:31.661Z"
   },
   {
    "duration": 3,
    "start_time": "2024-12-26T19:50:31.687Z"
   },
   {
    "duration": 5,
    "start_time": "2024-12-26T19:50:31.691Z"
   },
   {
    "duration": 364,
    "start_time": "2024-12-26T19:50:31.697Z"
   },
   {
    "duration": 400,
    "start_time": "2024-12-26T19:50:32.065Z"
   },
   {
    "duration": 145,
    "start_time": "2024-12-26T19:50:32.468Z"
   },
   {
    "duration": 112,
    "start_time": "2024-12-26T19:50:32.615Z"
   },
   {
    "duration": 130,
    "start_time": "2024-12-26T19:57:50.402Z"
   },
   {
    "duration": 8,
    "start_time": "2024-12-26T19:57:54.811Z"
   },
   {
    "duration": 3,
    "start_time": "2024-12-26T20:07:03.926Z"
   },
   {
    "duration": 2,
    "start_time": "2024-12-26T20:07:12.016Z"
   },
   {
    "duration": 848,
    "start_time": "2024-12-26T20:15:39.379Z"
   },
   {
    "duration": 9,
    "start_time": "2024-12-26T20:15:40.229Z"
   },
   {
    "duration": 9,
    "start_time": "2024-12-26T20:15:40.239Z"
   },
   {
    "duration": 8,
    "start_time": "2024-12-26T20:15:40.250Z"
   },
   {
    "duration": 26,
    "start_time": "2024-12-26T20:15:40.261Z"
   },
   {
    "duration": 6,
    "start_time": "2024-12-26T20:15:40.288Z"
   },
   {
    "duration": 4,
    "start_time": "2024-12-26T20:15:40.295Z"
   },
   {
    "duration": 4,
    "start_time": "2024-12-26T20:15:40.300Z"
   },
   {
    "duration": 4,
    "start_time": "2024-12-26T20:15:40.305Z"
   },
   {
    "duration": 3,
    "start_time": "2024-12-26T20:15:40.310Z"
   },
   {
    "duration": 5,
    "start_time": "2024-12-26T20:15:40.314Z"
   },
   {
    "duration": 3,
    "start_time": "2024-12-26T20:15:40.320Z"
   },
   {
    "duration": 103,
    "start_time": "2024-12-26T20:15:40.324Z"
   },
   {
    "duration": 68,
    "start_time": "2024-12-26T20:15:40.430Z"
   },
   {
    "duration": 24,
    "start_time": "2024-12-26T20:15:40.500Z"
   },
   {
    "duration": 2,
    "start_time": "2024-12-26T20:15:40.526Z"
   },
   {
    "duration": 216,
    "start_time": "2024-12-26T20:15:40.530Z"
   },
   {
    "duration": 3217,
    "start_time": "2024-12-26T20:15:40.748Z"
   },
   {
    "duration": 25,
    "start_time": "2024-12-26T20:15:43.967Z"
   },
   {
    "duration": 4,
    "start_time": "2024-12-26T20:15:43.995Z"
   },
   {
    "duration": 205,
    "start_time": "2024-12-26T20:15:44.002Z"
   },
   {
    "duration": 9,
    "start_time": "2024-12-26T20:15:44.209Z"
   },
   {
    "duration": 2,
    "start_time": "2024-12-26T20:15:44.220Z"
   },
   {
    "duration": 11,
    "start_time": "2024-12-26T20:15:44.223Z"
   },
   {
    "duration": 3,
    "start_time": "2024-12-26T20:15:44.236Z"
   },
   {
    "duration": 4,
    "start_time": "2024-12-26T20:15:44.241Z"
   },
   {
    "duration": 373,
    "start_time": "2024-12-26T20:15:44.247Z"
   },
   {
    "duration": 399,
    "start_time": "2024-12-26T20:15:44.622Z"
   },
   {
    "duration": 146,
    "start_time": "2024-12-26T20:15:45.023Z"
   },
   {
    "duration": 162,
    "start_time": "2024-12-26T20:15:45.171Z"
   },
   {
    "duration": 2674,
    "start_time": "2024-12-29T18:11:07.624Z"
   },
   {
    "duration": 15,
    "start_time": "2024-12-29T18:11:10.300Z"
   },
   {
    "duration": 9,
    "start_time": "2024-12-29T18:11:10.317Z"
   },
   {
    "duration": 9,
    "start_time": "2024-12-29T18:11:10.328Z"
   },
   {
    "duration": 5,
    "start_time": "2024-12-29T18:11:10.339Z"
   },
   {
    "duration": 4,
    "start_time": "2024-12-29T18:11:10.346Z"
   },
   {
    "duration": 3,
    "start_time": "2024-12-29T18:11:10.352Z"
   },
   {
    "duration": 4,
    "start_time": "2024-12-29T18:11:10.357Z"
   },
   {
    "duration": 4,
    "start_time": "2024-12-29T18:11:10.362Z"
   },
   {
    "duration": 40,
    "start_time": "2024-12-29T18:11:10.367Z"
   },
   {
    "duration": 5,
    "start_time": "2024-12-29T18:11:10.411Z"
   },
   {
    "duration": 2,
    "start_time": "2024-12-29T18:11:10.418Z"
   },
   {
    "duration": 87,
    "start_time": "2024-12-29T18:11:10.422Z"
   },
   {
    "duration": 55,
    "start_time": "2024-12-29T18:11:10.512Z"
   },
   {
    "duration": 40,
    "start_time": "2024-12-29T18:11:10.569Z"
   },
   {
    "duration": 3,
    "start_time": "2024-12-29T18:11:10.610Z"
   },
   {
    "duration": 208,
    "start_time": "2024-12-29T18:11:10.614Z"
   },
   {
    "duration": 3185,
    "start_time": "2024-12-29T18:11:10.823Z"
   },
   {
    "duration": 24,
    "start_time": "2024-12-29T18:11:14.010Z"
   },
   {
    "duration": 7,
    "start_time": "2024-12-29T18:11:14.038Z"
   },
   {
    "duration": 196,
    "start_time": "2024-12-29T18:11:14.108Z"
   },
   {
    "duration": 10,
    "start_time": "2024-12-29T18:11:14.306Z"
   },
   {
    "duration": 2,
    "start_time": "2024-12-29T18:11:14.318Z"
   },
   {
    "duration": 6,
    "start_time": "2024-12-29T18:11:14.321Z"
   },
   {
    "duration": 3,
    "start_time": "2024-12-29T18:11:14.329Z"
   },
   {
    "duration": 4,
    "start_time": "2024-12-29T18:11:14.334Z"
   },
   {
    "duration": 375,
    "start_time": "2024-12-29T18:11:14.339Z"
   },
   {
    "duration": 393,
    "start_time": "2024-12-29T18:11:14.716Z"
   },
   {
    "duration": 146,
    "start_time": "2024-12-29T18:11:15.111Z"
   },
   {
    "duration": 113,
    "start_time": "2024-12-29T18:11:15.259Z"
   },
   {
    "duration": 61,
    "start_time": "2024-12-29T18:15:44.210Z"
   },
   {
    "duration": 910,
    "start_time": "2024-12-29T18:16:13.329Z"
   },
   {
    "duration": 8,
    "start_time": "2024-12-29T18:16:14.241Z"
   },
   {
    "duration": 8,
    "start_time": "2024-12-29T18:16:14.251Z"
   },
   {
    "duration": 9,
    "start_time": "2024-12-29T18:16:14.261Z"
   },
   {
    "duration": 5,
    "start_time": "2024-12-29T18:16:14.273Z"
   },
   {
    "duration": 29,
    "start_time": "2024-12-29T18:16:14.279Z"
   },
   {
    "duration": 3,
    "start_time": "2024-12-29T18:16:14.311Z"
   },
   {
    "duration": 4,
    "start_time": "2024-12-29T18:16:14.315Z"
   },
   {
    "duration": 3,
    "start_time": "2024-12-29T18:16:14.321Z"
   },
   {
    "duration": 2,
    "start_time": "2024-12-29T18:16:14.326Z"
   },
   {
    "duration": 5,
    "start_time": "2024-12-29T18:16:14.330Z"
   },
   {
    "duration": 3,
    "start_time": "2024-12-29T18:16:14.336Z"
   },
   {
    "duration": 99,
    "start_time": "2024-12-29T18:16:14.341Z"
   },
   {
    "duration": 62,
    "start_time": "2024-12-29T18:16:14.444Z"
   },
   {
    "duration": 27,
    "start_time": "2024-12-29T18:16:14.508Z"
   },
   {
    "duration": 2,
    "start_time": "2024-12-29T18:16:14.537Z"
   },
   {
    "duration": 218,
    "start_time": "2024-12-29T18:16:14.542Z"
   },
   {
    "duration": 3128,
    "start_time": "2024-12-29T18:16:14.762Z"
   },
   {
    "duration": 21,
    "start_time": "2024-12-29T18:16:17.891Z"
   },
   {
    "duration": 2,
    "start_time": "2024-12-29T18:16:17.913Z"
   },
   {
    "duration": 138,
    "start_time": "2024-12-29T18:16:17.917Z"
   },
   {
    "duration": 7,
    "start_time": "2024-12-29T18:16:18.057Z"
   },
   {
    "duration": 2,
    "start_time": "2024-12-29T18:16:18.065Z"
   },
   {
    "duration": 4,
    "start_time": "2024-12-29T18:16:18.069Z"
   },
   {
    "duration": 31,
    "start_time": "2024-12-29T18:16:18.075Z"
   },
   {
    "duration": 4,
    "start_time": "2024-12-29T18:16:18.108Z"
   },
   {
    "duration": 360,
    "start_time": "2024-12-29T18:16:18.113Z"
   },
   {
    "duration": 399,
    "start_time": "2024-12-29T18:16:18.475Z"
   },
   {
    "duration": 147,
    "start_time": "2024-12-29T18:16:18.876Z"
   },
   {
    "duration": 159,
    "start_time": "2024-12-29T18:16:19.024Z"
   }
  ],
  "kernelspec": {
   "display_name": "Python 3 (ipykernel)",
   "language": "python",
   "name": "python3"
  },
  "language_info": {
   "codemirror_mode": {
    "name": "ipython",
    "version": 3
   },
   "file_extension": ".py",
   "mimetype": "text/x-python",
   "name": "python",
   "nbconvert_exporter": "python",
   "pygments_lexer": "ipython3",
   "version": "3.12.7"
  },
  "toc": {
   "base_numbering": 1,
   "nav_menu": {},
   "number_sections": true,
   "sideBar": true,
   "skip_h1_title": true,
   "title_cell": "Table of Contents",
   "title_sidebar": "Contents",
   "toc_cell": false,
   "toc_position": {},
   "toc_section_display": true,
   "toc_window_display": false
  }
 },
 "nbformat": 4,
 "nbformat_minor": 4
}
