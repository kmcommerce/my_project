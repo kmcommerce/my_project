{
 "cells": [
  {
   "cell_type": "markdown",
   "metadata": {},
   "source": [
    "# Introduction"
   ]
  },
  {
   "cell_type": "markdown",
   "metadata": {},
   "source": [
    "**During the course of this project we will attempt to train multiples model with the focus on the quality of the prediction, the speed of the prediction and the time required for the training. Output data generate by model will be analyzes and conclusion will be drawn.**"
   ]
  },
  {
   "cell_type": "markdown",
   "metadata": {},
   "source": [
    "<div class=\"alert alert-success\" style=\"border-radius: 15px; box-shadow: 4px 4px 4px; border: 1px solid \">\n",
    "<h2>   Reviewer's comment </h2>\n",
    "    \n",
    "Good introduction that reflects the core goals. Well done!  \n",
    "    \n",
    "</div>"
   ]
  },
  {
   "cell_type": "code",
   "execution_count": null,
   "metadata": {},
   "outputs": [],
   "source": []
  },
  {
   "cell_type": "code",
   "execution_count": 1,
   "metadata": {},
   "outputs": [],
   "source": [
    "import pandas as pd\n",
    "import numpy as np\n",
    "from sklearn.model_selection import train_test_split, RandomizedSearchCV\n",
    "from catboost import CatBoostClassifier\n",
    "from sklearn.metrics import roc_auc_score\n",
    "from sklearn.metrics import mean_squared_error\n",
    "from sklearn.preprocessing import LabelEncoder\n",
    "from sklearn.preprocessing import OneHotEncoder\n",
    "from sklearn.ensemble import RandomForestRegressor\n",
    "from sklearn.linear_model import LinearRegression\n",
    "import lightgbm as lgb\n",
    "from catboost import CatBoostRegressor, Pool\n",
    "import matplotlib.pyplot as plt\n",
    "import warnings\n",
    "import time"
   ]
  },
  {
   "cell_type": "markdown",
   "metadata": {},
   "source": [
    "## Data preparation"
   ]
  },
  {
   "cell_type": "code",
   "execution_count": 2,
   "metadata": {},
   "outputs": [],
   "source": [
    "df = pd.read_csv('/datasets/car_data.csv')"
   ]
  },
  {
   "cell_type": "code",
   "execution_count": null,
   "metadata": {},
   "outputs": [],
   "source": []
  },
  {
   "cell_type": "code",
   "execution_count": 3,
   "metadata": {},
   "outputs": [
    {
     "data": {
      "text/plain": [
       "Index(['DateCrawled', 'Price', 'VehicleType', 'RegistrationYear', 'Gearbox',\n",
       "       'Power', 'Model', 'Mileage', 'RegistrationMonth', 'FuelType', 'Brand',\n",
       "       'NotRepaired', 'DateCreated', 'NumberOfPictures', 'PostalCode',\n",
       "       'LastSeen'],\n",
       "      dtype='object')"
      ]
     },
     "metadata": {},
     "output_type": "display_data"
    }
   ],
   "source": [
    "display(df.columns)"
   ]
  },
  {
   "cell_type": "code",
   "execution_count": null,
   "metadata": {},
   "outputs": [],
   "source": []
  },
  {
   "cell_type": "code",
   "execution_count": 4,
   "metadata": {},
   "outputs": [],
   "source": [
    "df = df.rename(columns={'DateCrawled': 'date_crawled', 'Price': 'price', 'VehicleType': 'vehicle_type', 'RegistrationYear': 'registration_year', \n",
    "                        'Gearbox': 'gearbox', 'Power': 'power', 'Model': 'model', 'Mileage': 'mileage', 'RegistrationMonth': 'registration_month',\n",
    "                       'FuelType': 'fuel_type', 'Brand': 'brand', 'NotRepaired': 'not_repaired', 'DateCreated': 'date_created',\n",
    "                       'NumberOfPictures': 'number_of_pictures', 'PostalCode': 'postal_code', 'LastSeen': 'last_seen'})"
   ]
  },
  {
   "cell_type": "code",
   "execution_count": null,
   "metadata": {},
   "outputs": [],
   "source": []
  },
  {
   "cell_type": "code",
   "execution_count": 5,
   "metadata": {},
   "outputs": [
    {
     "data": {
      "text/html": [
       "<div>\n",
       "<style scoped>\n",
       "    .dataframe tbody tr th:only-of-type {\n",
       "        vertical-align: middle;\n",
       "    }\n",
       "\n",
       "    .dataframe tbody tr th {\n",
       "        vertical-align: top;\n",
       "    }\n",
       "\n",
       "    .dataframe thead th {\n",
       "        text-align: right;\n",
       "    }\n",
       "</style>\n",
       "<table border=\"1\" class=\"dataframe\">\n",
       "  <thead>\n",
       "    <tr style=\"text-align: right;\">\n",
       "      <th></th>\n",
       "      <th>date_crawled</th>\n",
       "      <th>price</th>\n",
       "      <th>vehicle_type</th>\n",
       "      <th>registration_year</th>\n",
       "      <th>gearbox</th>\n",
       "      <th>power</th>\n",
       "      <th>model</th>\n",
       "      <th>mileage</th>\n",
       "      <th>registration_month</th>\n",
       "      <th>fuel_type</th>\n",
       "      <th>brand</th>\n",
       "      <th>not_repaired</th>\n",
       "      <th>date_created</th>\n",
       "      <th>number_of_pictures</th>\n",
       "      <th>postal_code</th>\n",
       "      <th>last_seen</th>\n",
       "    </tr>\n",
       "  </thead>\n",
       "  <tbody>\n",
       "    <tr>\n",
       "      <th>count</th>\n",
       "      <td>354369</td>\n",
       "      <td>354369.00</td>\n",
       "      <td>316879</td>\n",
       "      <td>354369.00</td>\n",
       "      <td>334536</td>\n",
       "      <td>354369.00</td>\n",
       "      <td>334664</td>\n",
       "      <td>354369.00</td>\n",
       "      <td>354369.00</td>\n",
       "      <td>321474</td>\n",
       "      <td>354369</td>\n",
       "      <td>283215</td>\n",
       "      <td>354369</td>\n",
       "      <td>354369.0</td>\n",
       "      <td>354369.00</td>\n",
       "      <td>354369</td>\n",
       "    </tr>\n",
       "    <tr>\n",
       "      <th>unique</th>\n",
       "      <td>15470</td>\n",
       "      <td>NaN</td>\n",
       "      <td>8</td>\n",
       "      <td>NaN</td>\n",
       "      <td>2</td>\n",
       "      <td>NaN</td>\n",
       "      <td>250</td>\n",
       "      <td>NaN</td>\n",
       "      <td>NaN</td>\n",
       "      <td>7</td>\n",
       "      <td>40</td>\n",
       "      <td>2</td>\n",
       "      <td>109</td>\n",
       "      <td>NaN</td>\n",
       "      <td>NaN</td>\n",
       "      <td>18592</td>\n",
       "    </tr>\n",
       "    <tr>\n",
       "      <th>top</th>\n",
       "      <td>05/03/2016 14:25</td>\n",
       "      <td>NaN</td>\n",
       "      <td>sedan</td>\n",
       "      <td>NaN</td>\n",
       "      <td>manual</td>\n",
       "      <td>NaN</td>\n",
       "      <td>golf</td>\n",
       "      <td>NaN</td>\n",
       "      <td>NaN</td>\n",
       "      <td>petrol</td>\n",
       "      <td>volkswagen</td>\n",
       "      <td>no</td>\n",
       "      <td>03/04/2016 00:00</td>\n",
       "      <td>NaN</td>\n",
       "      <td>NaN</td>\n",
       "      <td>07/04/2016 07:16</td>\n",
       "    </tr>\n",
       "    <tr>\n",
       "      <th>freq</th>\n",
       "      <td>66</td>\n",
       "      <td>NaN</td>\n",
       "      <td>91457</td>\n",
       "      <td>NaN</td>\n",
       "      <td>268251</td>\n",
       "      <td>NaN</td>\n",
       "      <td>29232</td>\n",
       "      <td>NaN</td>\n",
       "      <td>NaN</td>\n",
       "      <td>216352</td>\n",
       "      <td>77013</td>\n",
       "      <td>247161</td>\n",
       "      <td>13719</td>\n",
       "      <td>NaN</td>\n",
       "      <td>NaN</td>\n",
       "      <td>654</td>\n",
       "    </tr>\n",
       "    <tr>\n",
       "      <th>mean</th>\n",
       "      <td>NaN</td>\n",
       "      <td>4416.66</td>\n",
       "      <td>NaN</td>\n",
       "      <td>2004.23</td>\n",
       "      <td>NaN</td>\n",
       "      <td>110.09</td>\n",
       "      <td>NaN</td>\n",
       "      <td>128211.17</td>\n",
       "      <td>5.71</td>\n",
       "      <td>NaN</td>\n",
       "      <td>NaN</td>\n",
       "      <td>NaN</td>\n",
       "      <td>NaN</td>\n",
       "      <td>0.0</td>\n",
       "      <td>50508.69</td>\n",
       "      <td>NaN</td>\n",
       "    </tr>\n",
       "    <tr>\n",
       "      <th>std</th>\n",
       "      <td>NaN</td>\n",
       "      <td>4514.16</td>\n",
       "      <td>NaN</td>\n",
       "      <td>90.23</td>\n",
       "      <td>NaN</td>\n",
       "      <td>189.85</td>\n",
       "      <td>NaN</td>\n",
       "      <td>37905.34</td>\n",
       "      <td>3.73</td>\n",
       "      <td>NaN</td>\n",
       "      <td>NaN</td>\n",
       "      <td>NaN</td>\n",
       "      <td>NaN</td>\n",
       "      <td>0.0</td>\n",
       "      <td>25783.10</td>\n",
       "      <td>NaN</td>\n",
       "    </tr>\n",
       "    <tr>\n",
       "      <th>min</th>\n",
       "      <td>NaN</td>\n",
       "      <td>0.00</td>\n",
       "      <td>NaN</td>\n",
       "      <td>1000.00</td>\n",
       "      <td>NaN</td>\n",
       "      <td>0.00</td>\n",
       "      <td>NaN</td>\n",
       "      <td>5000.00</td>\n",
       "      <td>0.00</td>\n",
       "      <td>NaN</td>\n",
       "      <td>NaN</td>\n",
       "      <td>NaN</td>\n",
       "      <td>NaN</td>\n",
       "      <td>0.0</td>\n",
       "      <td>1067.00</td>\n",
       "      <td>NaN</td>\n",
       "    </tr>\n",
       "    <tr>\n",
       "      <th>25%</th>\n",
       "      <td>NaN</td>\n",
       "      <td>1050.00</td>\n",
       "      <td>NaN</td>\n",
       "      <td>1999.00</td>\n",
       "      <td>NaN</td>\n",
       "      <td>69.00</td>\n",
       "      <td>NaN</td>\n",
       "      <td>125000.00</td>\n",
       "      <td>3.00</td>\n",
       "      <td>NaN</td>\n",
       "      <td>NaN</td>\n",
       "      <td>NaN</td>\n",
       "      <td>NaN</td>\n",
       "      <td>0.0</td>\n",
       "      <td>30165.00</td>\n",
       "      <td>NaN</td>\n",
       "    </tr>\n",
       "    <tr>\n",
       "      <th>50%</th>\n",
       "      <td>NaN</td>\n",
       "      <td>2700.00</td>\n",
       "      <td>NaN</td>\n",
       "      <td>2003.00</td>\n",
       "      <td>NaN</td>\n",
       "      <td>105.00</td>\n",
       "      <td>NaN</td>\n",
       "      <td>150000.00</td>\n",
       "      <td>6.00</td>\n",
       "      <td>NaN</td>\n",
       "      <td>NaN</td>\n",
       "      <td>NaN</td>\n",
       "      <td>NaN</td>\n",
       "      <td>0.0</td>\n",
       "      <td>49413.00</td>\n",
       "      <td>NaN</td>\n",
       "    </tr>\n",
       "    <tr>\n",
       "      <th>75%</th>\n",
       "      <td>NaN</td>\n",
       "      <td>6400.00</td>\n",
       "      <td>NaN</td>\n",
       "      <td>2008.00</td>\n",
       "      <td>NaN</td>\n",
       "      <td>143.00</td>\n",
       "      <td>NaN</td>\n",
       "      <td>150000.00</td>\n",
       "      <td>9.00</td>\n",
       "      <td>NaN</td>\n",
       "      <td>NaN</td>\n",
       "      <td>NaN</td>\n",
       "      <td>NaN</td>\n",
       "      <td>0.0</td>\n",
       "      <td>71083.00</td>\n",
       "      <td>NaN</td>\n",
       "    </tr>\n",
       "    <tr>\n",
       "      <th>max</th>\n",
       "      <td>NaN</td>\n",
       "      <td>20000.00</td>\n",
       "      <td>NaN</td>\n",
       "      <td>9999.00</td>\n",
       "      <td>NaN</td>\n",
       "      <td>20000.00</td>\n",
       "      <td>NaN</td>\n",
       "      <td>150000.00</td>\n",
       "      <td>12.00</td>\n",
       "      <td>NaN</td>\n",
       "      <td>NaN</td>\n",
       "      <td>NaN</td>\n",
       "      <td>NaN</td>\n",
       "      <td>0.0</td>\n",
       "      <td>99998.00</td>\n",
       "      <td>NaN</td>\n",
       "    </tr>\n",
       "  </tbody>\n",
       "</table>\n",
       "</div>"
      ],
      "text/plain": [
       "            date_crawled      price vehicle_type  registration_year gearbox  \\\n",
       "count             354369  354369.00       316879          354369.00  334536   \n",
       "unique             15470        NaN            8                NaN       2   \n",
       "top     05/03/2016 14:25        NaN        sedan                NaN  manual   \n",
       "freq                  66        NaN        91457                NaN  268251   \n",
       "mean                 NaN    4416.66          NaN            2004.23     NaN   \n",
       "std                  NaN    4514.16          NaN              90.23     NaN   \n",
       "min                  NaN       0.00          NaN            1000.00     NaN   \n",
       "25%                  NaN    1050.00          NaN            1999.00     NaN   \n",
       "50%                  NaN    2700.00          NaN            2003.00     NaN   \n",
       "75%                  NaN    6400.00          NaN            2008.00     NaN   \n",
       "max                  NaN   20000.00          NaN            9999.00     NaN   \n",
       "\n",
       "            power   model    mileage  registration_month fuel_type  \\\n",
       "count   354369.00  334664  354369.00           354369.00    321474   \n",
       "unique        NaN     250        NaN                 NaN         7   \n",
       "top           NaN    golf        NaN                 NaN    petrol   \n",
       "freq          NaN   29232        NaN                 NaN    216352   \n",
       "mean       110.09     NaN  128211.17                5.71       NaN   \n",
       "std        189.85     NaN   37905.34                3.73       NaN   \n",
       "min          0.00     NaN    5000.00                0.00       NaN   \n",
       "25%         69.00     NaN  125000.00                3.00       NaN   \n",
       "50%        105.00     NaN  150000.00                6.00       NaN   \n",
       "75%        143.00     NaN  150000.00                9.00       NaN   \n",
       "max      20000.00     NaN  150000.00               12.00       NaN   \n",
       "\n",
       "             brand not_repaired      date_created  number_of_pictures  \\\n",
       "count       354369       283215            354369            354369.0   \n",
       "unique          40            2               109                 NaN   \n",
       "top     volkswagen           no  03/04/2016 00:00                 NaN   \n",
       "freq         77013       247161             13719                 NaN   \n",
       "mean           NaN          NaN               NaN                 0.0   \n",
       "std            NaN          NaN               NaN                 0.0   \n",
       "min            NaN          NaN               NaN                 0.0   \n",
       "25%            NaN          NaN               NaN                 0.0   \n",
       "50%            NaN          NaN               NaN                 0.0   \n",
       "75%            NaN          NaN               NaN                 0.0   \n",
       "max            NaN          NaN               NaN                 0.0   \n",
       "\n",
       "        postal_code         last_seen  \n",
       "count     354369.00            354369  \n",
       "unique          NaN             18592  \n",
       "top             NaN  07/04/2016 07:16  \n",
       "freq            NaN               654  \n",
       "mean       50508.69               NaN  \n",
       "std        25783.10               NaN  \n",
       "min         1067.00               NaN  \n",
       "25%        30165.00               NaN  \n",
       "50%        49413.00               NaN  \n",
       "75%        71083.00               NaN  \n",
       "max        99998.00               NaN  "
      ]
     },
     "execution_count": 5,
     "metadata": {},
     "output_type": "execute_result"
    }
   ],
   "source": [
    "df.describe(include='all').round(2)"
   ]
  },
  {
   "cell_type": "code",
   "execution_count": null,
   "metadata": {},
   "outputs": [],
   "source": []
  },
  {
   "cell_type": "code",
   "execution_count": 6,
   "metadata": {},
   "outputs": [
    {
     "name": "stdout",
     "output_type": "stream",
     "text": [
      "<class 'pandas.core.frame.DataFrame'>\n",
      "RangeIndex: 354369 entries, 0 to 354368\n",
      "Data columns (total 16 columns):\n",
      " #   Column              Non-Null Count   Dtype \n",
      "---  ------              --------------   ----- \n",
      " 0   date_crawled        354369 non-null  object\n",
      " 1   price               354369 non-null  int64 \n",
      " 2   vehicle_type        316879 non-null  object\n",
      " 3   registration_year   354369 non-null  int64 \n",
      " 4   gearbox             334536 non-null  object\n",
      " 5   power               354369 non-null  int64 \n",
      " 6   model               334664 non-null  object\n",
      " 7   mileage             354369 non-null  int64 \n",
      " 8   registration_month  354369 non-null  int64 \n",
      " 9   fuel_type           321474 non-null  object\n",
      " 10  brand               354369 non-null  object\n",
      " 11  not_repaired        283215 non-null  object\n",
      " 12  date_created        354369 non-null  object\n",
      " 13  number_of_pictures  354369 non-null  int64 \n",
      " 14  postal_code         354369 non-null  int64 \n",
      " 15  last_seen           354369 non-null  object\n",
      "dtypes: int64(7), object(9)\n",
      "memory usage: 43.3+ MB\n"
     ]
    }
   ],
   "source": [
    "df.info()"
   ]
  },
  {
   "cell_type": "code",
   "execution_count": null,
   "metadata": {},
   "outputs": [],
   "source": []
  },
  {
   "cell_type": "code",
   "execution_count": 7,
   "metadata": {},
   "outputs": [],
   "source": [
    "df = df.drop_duplicates()"
   ]
  },
  {
   "cell_type": "code",
   "execution_count": null,
   "metadata": {},
   "outputs": [],
   "source": []
  },
  {
   "cell_type": "code",
   "execution_count": 8,
   "metadata": {},
   "outputs": [
    {
     "data": {
      "text/plain": [
       "0"
      ]
     },
     "execution_count": 8,
     "metadata": {},
     "output_type": "execute_result"
    }
   ],
   "source": [
    "df.duplicated().sum()"
   ]
  },
  {
   "cell_type": "code",
   "execution_count": null,
   "metadata": {},
   "outputs": [],
   "source": []
  },
  {
   "cell_type": "code",
   "execution_count": 9,
   "metadata": {},
   "outputs": [
    {
     "data": {
      "text/plain": [
       "181049"
      ]
     },
     "execution_count": 9,
     "metadata": {},
     "output_type": "execute_result"
    }
   ],
   "source": [
    "df.isnull().sum().sum()"
   ]
  },
  {
   "cell_type": "markdown",
   "metadata": {},
   "source": [
    "<div class=\"alert alert-success\" style=\"border-radius: 15px; box-shadow: 4px 4px 4px; border: 1px solid \">\n",
    "<h2>   Reviewer's comment </h2>\n",
    "    \n",
    "The data was successfully read, well done! \n",
    "    \n",
    "</div>"
   ]
  },
  {
   "cell_type": "markdown",
   "metadata": {},
   "source": [
    "**Excessive variables to remove or drop.**"
   ]
  },
  {
   "cell_type": "code",
   "execution_count": null,
   "metadata": {},
   "outputs": [],
   "source": []
  },
  {
   "cell_type": "code",
   "execution_count": 10,
   "metadata": {},
   "outputs": [
    {
     "data": {
      "text/plain": [
       "count    354107.000000\n",
       "mean       2004.235355\n",
       "std          90.261168\n",
       "min        1000.000000\n",
       "25%        1999.000000\n",
       "50%        2003.000000\n",
       "75%        2008.000000\n",
       "max        9999.000000\n",
       "Name: registration_year, dtype: float64"
      ]
     },
     "metadata": {},
     "output_type": "display_data"
    }
   ],
   "source": [
    "display(df['registration_year'].describe())"
   ]
  },
  {
   "cell_type": "code",
   "execution_count": 11,
   "metadata": {},
   "outputs": [],
   "source": [
    "df = df[(df['registration_year'] >= 1900) & (df['registration_year'] <= 2016)]"
   ]
  },
  {
   "cell_type": "code",
   "execution_count": null,
   "metadata": {},
   "outputs": [],
   "source": []
  },
  {
   "cell_type": "code",
   "execution_count": 12,
   "metadata": {},
   "outputs": [],
   "source": [
    "#we use sine and cosine transformations to encode the cyclical pattern:\n",
    "df['reg_month_sin'] = np.sin(2 * np.pi * df['registration_month'] / 12)\n",
    "df['reg_month_cos'] = np.cos(2 * np.pi * df['registration_month'] / 12)"
   ]
  },
  {
   "cell_type": "code",
   "execution_count": null,
   "metadata": {},
   "outputs": [],
   "source": []
  },
  {
   "cell_type": "code",
   "execution_count": 13,
   "metadata": {},
   "outputs": [],
   "source": [
    "# 'postal_code' is super high cardinality(large number of unique values.)\n",
    "# Convert postal_code to string and extract first 2 digits\n",
    "df['postal_region'] = df['postal_code'].astype(str).str[:2]"
   ]
  },
  {
   "cell_type": "code",
   "execution_count": null,
   "metadata": {},
   "outputs": [],
   "source": []
  },
  {
   "cell_type": "code",
   "execution_count": 14,
   "metadata": {},
   "outputs": [],
   "source": [
    "#let check for any correlation between 'date_create' and 'price' before dropping it if necessary \n",
    "df['date_created'] = pd.to_datetime(df['date_created'], errors='coerce')"
   ]
  },
  {
   "cell_type": "code",
   "execution_count": null,
   "metadata": {},
   "outputs": [],
   "source": []
  },
  {
   "cell_type": "code",
   "execution_count": 15,
   "metadata": {},
   "outputs": [],
   "source": [
    "df['date_created_numeric'] = df['date_created'].astype('int64') // 1e9"
   ]
  },
  {
   "cell_type": "code",
   "execution_count": null,
   "metadata": {},
   "outputs": [],
   "source": []
  },
  {
   "cell_type": "code",
   "execution_count": 16,
   "metadata": {},
   "outputs": [
    {
     "data": {
      "text/plain": [
       "'Correlation: -0.0090'"
      ]
     },
     "metadata": {},
     "output_type": "display_data"
    }
   ],
   "source": [
    "correlation = df[['date_created_numeric', 'price']].corr().iloc[0, 1]\n",
    "display(f\"Correlation: {correlation:.4f}\")"
   ]
  },
  {
   "cell_type": "code",
   "execution_count": null,
   "metadata": {},
   "outputs": [],
   "source": []
  },
  {
   "cell_type": "code",
   "execution_count": 17,
   "metadata": {},
   "outputs": [],
   "source": [
    "# 'date_crawled'and'last_seen' can lead to huge feature sets(more memory use, slower training, overfitting).\n",
    "# 'number_of_pictures' all values are 0 as shown by describe()and provides no useful information for prediction\n",
    "# 'registration_month'cyclical nature makes it hard for models to interpret\n",
    "#no correlation between 'price' and 'date_create'\n",
    "df.drop(columns=['date_crawled', 'last_seen', 'number_of_pictures', 'registration_month', \n",
    "                 'postal_code', 'date_created'], inplace=True)"
   ]
  },
  {
   "cell_type": "markdown",
   "metadata": {},
   "source": [
    "<div class=\"alert alert-success\" style=\"border-radius: 15px; box-shadow: 4px 4px 4px; border: 1px solid \">\n",
    "<h2>   Reviewer's comment </h2>\n",
    "    \n",
    "Agreed! We don't need these columns. \n",
    "    \n",
    "</div>\n"
   ]
  },
  {
   "cell_type": "code",
   "execution_count": 18,
   "metadata": {},
   "outputs": [],
   "source": [
    "df = df.drop_duplicates()"
   ]
  },
  {
   "cell_type": "code",
   "execution_count": 19,
   "metadata": {},
   "outputs": [
    {
     "data": {
      "text/plain": [
       "0"
      ]
     },
     "execution_count": 19,
     "metadata": {},
     "output_type": "execute_result"
    }
   ],
   "source": [
    "df.duplicated().sum()"
   ]
  },
  {
   "cell_type": "markdown",
   "metadata": {},
   "source": [
    "<div class=\"alert alert-success\" style=\"border-radius: 15px; box-shadow: 4px 4px 4px; border: 1px solid \">\n",
    "<h2>   Reviewer's comment 2 </h2>\n",
    "    \n",
    "Well done! \n",
    "    \n",
    "</div>"
   ]
  },
  {
   "cell_type": "code",
   "execution_count": 20,
   "metadata": {},
   "outputs": [
    {
     "data": {
      "text/plain": [
       "count    329317.000000\n",
       "mean       4449.925516\n",
       "std        4539.379201\n",
       "min           0.000000\n",
       "25%        1050.000000\n",
       "50%        2750.000000\n",
       "75%        6499.000000\n",
       "max       20000.000000\n",
       "Name: price, dtype: float64"
      ]
     },
     "metadata": {},
     "output_type": "display_data"
    },
    {
     "data": {
      "text/plain": [
       "0        9765\n",
       "1        1096\n",
       "2          11\n",
       "3           6\n",
       "4           1\n",
       "         ... \n",
       "19995       9\n",
       "19997       1\n",
       "19998       5\n",
       "19999     264\n",
       "20000     245\n",
       "Name: price, Length: 3694, dtype: int64"
      ]
     },
     "metadata": {},
     "output_type": "display_data"
    }
   ],
   "source": [
    "display(df['price'].describe())\n",
    "display(df['price'].value_counts().sort_index())"
   ]
  },
  {
   "cell_type": "code",
   "execution_count": 21,
   "metadata": {},
   "outputs": [],
   "source": [
    "# let apply filter\n",
    "df = df[(df['price'] >= 100) & (df['price'] <= 20000)]"
   ]
  },
  {
   "cell_type": "code",
   "execution_count": 22,
   "metadata": {},
   "outputs": [
    {
     "data": {
      "text/plain": [
       "'Number of rows with price is less 100 and greater 20,000: 0'"
      ]
     },
     "metadata": {},
     "output_type": "display_data"
    }
   ],
   "source": [
    "# Count the number of rows after filtering\n",
    "filtered_count = df[(df['price'] <= 100) & (df['price'] >= 20000)].shape[0]\n",
    "display(f\"Number of rows with price is less 100 and greater 20,000: {filtered_count}\")"
   ]
  },
  {
   "cell_type": "code",
   "execution_count": null,
   "metadata": {},
   "outputs": [],
   "source": []
  },
  {
   "cell_type": "code",
   "execution_count": 23,
   "metadata": {},
   "outputs": [
    {
     "data": {
      "text/plain": [
       "count    317147.000000\n",
       "mean        112.152557\n",
       "std         186.962846\n",
       "min           0.000000\n",
       "25%          71.000000\n",
       "50%         105.000000\n",
       "75%         143.000000\n",
       "max       20000.000000\n",
       "Name: power, dtype: float64"
      ]
     },
     "metadata": {},
     "output_type": "display_data"
    },
    {
     "data": {
      "text/plain": [
       "0        31027\n",
       "1           23\n",
       "2            9\n",
       "3            8\n",
       "4           30\n",
       "         ...  \n",
       "17932        1\n",
       "19208        1\n",
       "19211        1\n",
       "19312        1\n",
       "20000        1\n",
       "Name: power, Length: 683, dtype: int64"
      ]
     },
     "metadata": {},
     "output_type": "display_data"
    }
   ],
   "source": [
    "display(df['power'].describe())\n",
    "display(df['power'].value_counts().sort_index())"
   ]
  },
  {
   "cell_type": "code",
   "execution_count": 24,
   "metadata": {},
   "outputs": [],
   "source": [
    "# let apply filter\n",
    "df = df[(df['power'] >= 50) & (df['power'] <= 20000)]"
   ]
  },
  {
   "cell_type": "code",
   "execution_count": 25,
   "metadata": {},
   "outputs": [
    {
     "data": {
      "text/plain": [
       "'Number of rows with power is less 50 and greater 20,000: 0'"
      ]
     },
     "metadata": {},
     "output_type": "display_data"
    }
   ],
   "source": [
    "# Count the number of rows after filtering\n",
    "filtered_count = df[(df['power'] <= 50) & (df['power'] >= 20000)].shape[0]\n",
    "display(f\"Number of rows with power is less 50 and greater 20,000: {filtered_count}\")"
   ]
  },
  {
   "cell_type": "code",
   "execution_count": null,
   "metadata": {},
   "outputs": [],
   "source": []
  },
  {
   "cell_type": "code",
   "execution_count": 26,
   "metadata": {},
   "outputs": [
    {
     "data": {
      "text/plain": [
       "count    280842.000000\n",
       "mean     128552.584727\n",
       "std       36525.298570\n",
       "min        5000.000000\n",
       "25%      125000.000000\n",
       "50%      150000.000000\n",
       "75%      150000.000000\n",
       "max      150000.000000\n",
       "Name: mileage, dtype: float64"
      ]
     },
     "metadata": {},
     "output_type": "display_data"
    }
   ],
   "source": [
    "display(df['mileage'].describe())"
   ]
  },
  {
   "cell_type": "code",
   "execution_count": 27,
   "metadata": {},
   "outputs": [],
   "source": [
    "df = df[df['mileage'] >= 5000]"
   ]
  },
  {
   "cell_type": "code",
   "execution_count": 28,
   "metadata": {},
   "outputs": [
    {
     "data": {
      "text/plain": [
       "count         280842\n",
       "unique            40\n",
       "top       volkswagen\n",
       "freq           60555\n",
       "Name: brand, dtype: object"
      ]
     },
     "metadata": {},
     "output_type": "display_data"
    }
   ],
   "source": [
    "display(df['brand'].describe())"
   ]
  },
  {
   "cell_type": "code",
   "execution_count": 29,
   "metadata": {},
   "outputs": [
    {
     "data": {
      "text/plain": [
       "1           audi\n",
       "2           jeep\n",
       "3     volkswagen\n",
       "4          skoda\n",
       "5            bmw\n",
       "6        peugeot\n",
       "8           ford\n",
       "9     volkswagen\n",
       "10         mazda\n",
       "11    volkswagen\n",
       "Name: brand, dtype: object"
      ]
     },
     "metadata": {},
     "output_type": "display_data"
    }
   ],
   "source": [
    "display(df['brand'].head(10))"
   ]
  },
  {
   "cell_type": "code",
   "execution_count": null,
   "metadata": {},
   "outputs": [],
   "source": []
  },
  {
   "cell_type": "code",
   "execution_count": 30,
   "metadata": {},
   "outputs": [
    {
     "data": {
      "text/plain": [
       "(280842, 14)"
      ]
     },
     "execution_count": 30,
     "metadata": {},
     "output_type": "execute_result"
    }
   ],
   "source": [
    "df.shape"
   ]
  },
  {
   "cell_type": "code",
   "execution_count": 31,
   "metadata": {},
   "outputs": [
    {
     "data": {
      "text/plain": [
       "price                       0\n",
       "vehicle_type            10365\n",
       "registration_year           0\n",
       "gearbox                  4833\n",
       "power                       0\n",
       "model                   10400\n",
       "mileage                     0\n",
       "fuel_type               14624\n",
       "brand                       0\n",
       "not_repaired            40622\n",
       "reg_month_sin               0\n",
       "reg_month_cos               0\n",
       "postal_region               0\n",
       "date_created_numeric        0\n",
       "dtype: int64"
      ]
     },
     "metadata": {},
     "output_type": "display_data"
    }
   ],
   "source": [
    "display(df.isnull().sum()) "
   ]
  },
  {
   "cell_type": "markdown",
   "metadata": {},
   "source": [
    "<div class=\"alert alert-success\" style=\"border-radius: 15px; box-shadow: 4px 4px 4px; border: 1px solid \">\n",
    "<h2>   Reviewer's comment 2 </h2>\n",
    "    \n",
    "Great! \n",
    "    \n",
    "</div>\n"
   ]
  },
  {
   "cell_type": "code",
   "execution_count": 32,
   "metadata": {},
   "outputs": [],
   "source": [
    "# Let fill with explicit 'unknown' category\n",
    "for column in ['vehicle_type', 'gearbox', 'model', 'fuel_type','not_repaired']:\n",
    "    df[column] = df[column].fillna('unknown')"
   ]
  },
  {
   "cell_type": "markdown",
   "metadata": {},
   "source": [
    "<div class=\"alert alert-success\" style=\"border-radius: 15px; box-shadow: 4px 4px 4px; border: 1px solid \">\n",
    "<h2>   Reviewer's comment  </h2>\n",
    "    \n",
    "Yes, it's better than deleting them. Moreover, it is normal that sometimes sellers do not specify some information. The model should \"know\" about such cases. We even should not use median or mode. Even though the median does not skew the distribution, we have to many missing values to fill in because there is a risk of biasing the data.   \n",
    "    \n",
    "</div>"
   ]
  },
  {
   "cell_type": "code",
   "execution_count": 34,
   "metadata": {},
   "outputs": [
    {
     "data": {
      "text/plain": [
       "price                   0\n",
       "vehicle_type            0\n",
       "registration_year       0\n",
       "gearbox                 0\n",
       "power                   0\n",
       "model                   0\n",
       "mileage                 0\n",
       "fuel_type               0\n",
       "brand                   0\n",
       "not_repaired            0\n",
       "reg_month_sin           0\n",
       "reg_month_cos           0\n",
       "postal_region           0\n",
       "date_created_numeric    0\n",
       "dtype: int64"
      ]
     },
     "metadata": {},
     "output_type": "display_data"
    }
   ],
   "source": [
    "display(df.isnull().sum())"
   ]
  },
  {
   "cell_type": "markdown",
   "metadata": {},
   "source": [
    "<div class=\"alert alert-success\" style=\"border-radius: 15px; box-shadow: 4px 4px 4px; border: 1px solid \">\n",
    "<h2> Reviewer's comment  </h2>\n",
    "    \n",
    "Good job here!     \n",
    "    \n",
    "</div>"
   ]
  },
  {
   "cell_type": "markdown",
   "metadata": {},
   "source": [
    "## Model training"
   ]
  },
  {
   "cell_type": "markdown",
   "metadata": {},
   "source": [
    "**ClassSGB_LightGBM that incorporates LightGBM, compares it with Random Forest, and includes a linear regression sanity check.**"
   ]
  },
  {
   "cell_type": "code",
   "execution_count": null,
   "metadata": {},
   "outputs": [],
   "source": []
  },
  {
   "cell_type": "code",
   "execution_count": 35,
   "metadata": {},
   "outputs": [],
   "source": [
    "warnings.filterwarnings(\"ignore\", category=UserWarning)"
   ]
  },
  {
   "cell_type": "code",
   "execution_count": 36,
   "metadata": {},
   "outputs": [
    {
     "data": {
      "text/plain": [
       "'Training LightGBM with tuning'"
      ]
     },
     "metadata": {},
     "output_type": "display_data"
    },
    {
     "data": {
      "text/plain": [
       "'LightGBM Set 1 RMSE: 1836.6051 | Training time: 2.67s | Prediction time: 0.20s'"
      ]
     },
     "metadata": {},
     "output_type": "display_data"
    },
    {
     "data": {
      "text/plain": [
       "'LightGBM Set 2 RMSE: 1632.6453 | Training time: 3.09s | Prediction time: 0.22s'"
      ]
     },
     "metadata": {},
     "output_type": "display_data"
    },
    {
     "data": {
      "text/plain": [
       "'Training Random Forest with hyperparameter tuning'"
      ]
     },
     "metadata": {},
     "output_type": "display_data"
    },
    {
     "data": {
      "text/plain": [
       "'Random Forest RMSE: 1656.7389 | Training time: 43.69s | Prediction time: 0.70s'"
      ]
     },
     "metadata": {},
     "output_type": "display_data"
    },
    {
     "data": {
      "text/plain": [
       "'Training Linear Regression'"
      ]
     },
     "metadata": {},
     "output_type": "display_data"
    },
    {
     "data": {
      "text/plain": [
       "'Linear Regression RMSE: 3368.2956 | Training time: 0.03s | Prediction time: 0.06s'"
      ]
     },
     "metadata": {},
     "output_type": "display_data"
    },
    {
     "data": {
      "text/plain": [
       "'Model Performance Summary:'"
      ]
     },
     "metadata": {},
     "output_type": "display_data"
    },
    {
     "data": {
      "text/html": [
       "<div>\n",
       "<style scoped>\n",
       "    .dataframe tbody tr th:only-of-type {\n",
       "        vertical-align: middle;\n",
       "    }\n",
       "\n",
       "    .dataframe tbody tr th {\n",
       "        vertical-align: top;\n",
       "    }\n",
       "\n",
       "    .dataframe thead th {\n",
       "        text-align: right;\n",
       "    }\n",
       "</style>\n",
       "<table border=\"1\" class=\"dataframe\">\n",
       "  <thead>\n",
       "    <tr style=\"text-align: right;\">\n",
       "      <th></th>\n",
       "      <th>RMSE</th>\n",
       "      <th>Training Time (s)</th>\n",
       "      <th>Prediction Time (s)</th>\n",
       "    </tr>\n",
       "  </thead>\n",
       "  <tbody>\n",
       "    <tr>\n",
       "      <th>LightGBM (Set 2)</th>\n",
       "      <td>1632.645348</td>\n",
       "      <td>3.093858</td>\n",
       "      <td>0.215750</td>\n",
       "    </tr>\n",
       "    <tr>\n",
       "      <th>Random Forest</th>\n",
       "      <td>1656.738858</td>\n",
       "      <td>43.691014</td>\n",
       "      <td>0.698676</td>\n",
       "    </tr>\n",
       "    <tr>\n",
       "      <th>LightGBM (Set 1)</th>\n",
       "      <td>1836.605096</td>\n",
       "      <td>2.666669</td>\n",
       "      <td>0.196634</td>\n",
       "    </tr>\n",
       "    <tr>\n",
       "      <th>Linear Regression</th>\n",
       "      <td>3368.295551</td>\n",
       "      <td>0.029903</td>\n",
       "      <td>0.058012</td>\n",
       "    </tr>\n",
       "  </tbody>\n",
       "</table>\n",
       "</div>"
      ],
      "text/plain": [
       "                          RMSE  Training Time (s)  Prediction Time (s)\n",
       "LightGBM (Set 2)   1632.645348           3.093858             0.215750\n",
       "Random Forest      1656.738858          43.691014             0.698676\n",
       "LightGBM (Set 1)   1836.605096           2.666669             0.196634\n",
       "Linear Regression  3368.295551           0.029903             0.058012"
      ]
     },
     "metadata": {},
     "output_type": "display_data"
    },
    {
     "data": {
      "text/plain": [
       "'Prediction completed in 0.08 seconds'"
      ]
     },
     "metadata": {},
     "output_type": "display_data"
    },
    {
     "data": {
      "text/plain": [
       "'Final Evaluation on Test Set (only done once at the end)'"
      ]
     },
     "metadata": {},
     "output_type": "display_data"
    },
    {
     "data": {
      "text/plain": [
       "'Best Model: Booster'"
      ]
     },
     "metadata": {},
     "output_type": "display_data"
    },
    {
     "data": {
      "text/plain": [
       "'Test RMSE: 1636.8813 | Prediction time: 0.28s'"
      ]
     },
     "metadata": {},
     "output_type": "display_data"
    }
   ],
   "source": [
    "class classSGB_LightGBM:\n",
    "    def __init__(self, epochs=50, categorical_columns=None):\n",
    "        self.epochs = epochs\n",
    "        self.categorical_columns = categorical_columns\n",
    "        self.label_encoders = {}\n",
    "        self.models = {}\n",
    "        self.best_model = None\n",
    "        self.best_rmse = float('inf')\n",
    "        self.performance_summary = {}\n",
    "        self.training_times = {}\n",
    "        self.prediction_times = {}\n",
    "        self.features_val = None #Holds validation and test data for futur evaluation.\n",
    "        self.target_val = None\n",
    "        self.features_test = None\n",
    "        self.target_test = None\n",
    "\n",
    "    def _preprocess_data(self, df, target_column='price'):\n",
    "        df = df.copy()#Avoids modifying the original df.\n",
    "        if not self.categorical_columns:#will automatically detects categorical column\n",
    "            self.categorical_columns = df.select_dtypes(include='object').columns.tolist()\n",
    "\n",
    "        for column in self.categorical_columns:\n",
    "            lab_enc = LabelEncoder()\n",
    "            df[column] = lab_enc.fit_transform(df[column].astype(str)).astype(int)\n",
    "            self.label_encoders[column] = lab_enc\n",
    "\n",
    "        return df.drop(columns=[target_column]), df[target_column]\n",
    "\n",
    "    def _compute_rmse(self, true_target, pred_target):\n",
    "        return np.sqrt(mean_squared_error(true_target, pred_target))\n",
    "    \n",
    "    \n",
    "    # Model Tracking \n",
    "    def _update_best_model(self, model_name, model, rmse, training_time=None, prediction_time=None):\n",
    "        #stores a trained model with its name and performance metrics\n",
    "        self.models[model_name] = model\n",
    "        self.performance_summary[model_name] = rmse\n",
    "        # Updates training and prediction times when provided\n",
    "        if training_time:\n",
    "            self.training_times[model_name] = training_time\n",
    "        if prediction_time:\n",
    "            self.prediction_times[model_name] = prediction_time\n",
    "        #Keeps track of the best model based on rmse    \n",
    "        if rmse < self.best_rmse:\n",
    "            self.best_rmse = rmse\n",
    "            self.best_model = model\n",
    "     # LightGBM training method\n",
    "    def _train_lightgbm(self, features_train, target_train, features_val, target_val, categorical_features):\n",
    "        #Trains multiple LightGBM models using (2 sets) parameter tuning.\n",
    "        display(\"Training LightGBM with tuning\")\n",
    "        param_grid = [\n",
    "            {\n",
    "                'boosting_type': 'gbdt',\n",
    "                'objective': 'regression',\n",
    "                'metric': 'rmse',\n",
    "                'num_leaves': 30,\n",
    "                'learning_rate': 0.05,\n",
    "                'feature_fraction': 0.9,\n",
    "                'bagging_fraction': 0.8,\n",
    "                'bagging_freq': 5,\n",
    "                'verbose': -1\n",
    "            },\n",
    "            {\n",
    "                'boosting_type': 'gbdt',\n",
    "                'objective': 'regression',\n",
    "                'metric': 'rmse',\n",
    "                'num_leaves': 60,\n",
    "                'learning_rate': 0.1,\n",
    "                'feature_fraction': 0.8,\n",
    "                'bagging_fraction': 0.7,\n",
    "                'bagging_freq': 3,\n",
    "                'verbose': -1\n",
    "            }\n",
    "        ]\n",
    "        \n",
    "        # we trains a LightGBM model for each parameter set\n",
    "        for i, params in enumerate(param_grid):\n",
    "            train_data = lgb.Dataset(features_train, label=target_train,\n",
    "                                   categorical_feature=categorical_features, free_raw_data=False)\n",
    "            val_data = lgb.Dataset(features_val, label=target_val,\n",
    "                                 categorical_feature=categorical_features, free_raw_data=False)\n",
    "\n",
    "            start_time = time.time()\n",
    "            model = lgb.train(params, train_data, num_boost_round=self.epochs,\n",
    "                            valid_sets=[val_data], valid_names=['valid'],\n",
    "                            callbacks=[lgb.early_stopping(stopping_rounds=10, verbose=False)])\n",
    "            training_time = time.time() - start_time\n",
    "            \n",
    "            start_pred_time = time.time()\n",
    "            preds = model.predict(features_val, num_iteration=model.best_iteration)\n",
    "            prediction_time = time.time() - start_pred_time\n",
    "            \n",
    "            rmse = self._compute_rmse(target_val, preds)\n",
    "            display(f\"LightGBM Set {i+1} RMSE: {rmse:.4f} | Training time: {training_time:.2f}s | Prediction time: {prediction_time:.2f}s\")\n",
    "            self._update_best_model(f\"LightGBM (Set {i+1})\", model, rmse, training_time, prediction_time)\n",
    "\n",
    "    def _train_random_forest(self, features_train, target_train, features_val, target_val):\n",
    "        display(\"Training Random Forest with hyperparameter tuning\")\n",
    "        rf = RandomForestRegressor(\n",
    "            n_estimators=100,\n",
    "            max_depth=15,\n",
    "            min_samples_split=5,\n",
    "            min_samples_leaf=2,\n",
    "            random_state=12345,\n",
    "            n_jobs=-1\n",
    "        )\n",
    "        \n",
    "        start_time = time.time()\n",
    "        rf.fit(features_train, target_train)\n",
    "        training_time = time.time() - start_time\n",
    "        \n",
    "        start_pred_time = time.time()\n",
    "        preds = rf.predict(features_val)\n",
    "        prediction_time = time.time() - start_pred_time\n",
    "        \n",
    "        rmse = self._compute_rmse(target_val, preds)\n",
    "        display(f\"Random Forest RMSE: {rmse:.4f} | Training time: {training_time:.2f}s | Prediction time: {prediction_time:.2f}s\")\n",
    "        self._update_best_model(\"Random Forest\", rf, rmse, training_time, prediction_time)\n",
    "\n",
    "    def fit(self, df, target_column='price'):\n",
    "        features, target = self._preprocess_data(df, target_column)\n",
    "\n",
    "        # Split into train and temp (validation + test)\n",
    "        features_train, features_temp, target_train, target_temp = train_test_split(\n",
    "            features, target, test_size=0.4, random_state=12345)\n",
    "\n",
    "        # Split temp into validation and test\n",
    "        features_val, features_test, target_val, target_test = train_test_split(\n",
    "            features_temp, target_temp, test_size=0.5, random_state=12345)\n",
    "\n",
    "        self.features_val = features_val\n",
    "        self.target_val = target_val\n",
    "        self.features_test = features_test\n",
    "        self.target_test = target_test\n",
    "\n",
    "        categorical_features = [\n",
    "            features.columns.get_loc(col)\n",
    "            for col in self.categorical_columns if col in features.columns\n",
    "        ]\n",
    "\n",
    "        # Train models on training set and evaluate on validation set\n",
    "        self._train_lightgbm(features_train, target_train, features_val, target_val, categorical_features)\n",
    "        self._train_random_forest(features_train, target_train, features_val, target_val)\n",
    "\n",
    "        # Linear regression as baseline\n",
    "        display(\"Training Linear Regression\")\n",
    "        lr = LinearRegression()\n",
    "        \n",
    "        start_train_time = time.time()\n",
    "        lr.fit(features_train, target_train)\n",
    "        training_time = time.time() - start_train_time\n",
    "        \n",
    "        start_pred_time = time.time()\n",
    "        pred = lr.predict(features_val)\n",
    "        prediction_time = time.time() - start_pred_time\n",
    "        \n",
    "        rmse = self._compute_rmse(target_val, pred)\n",
    "        display(f\"Linear Regression RMSE: {rmse:.4f} | Training time: {training_time:.2f}s | Prediction time: {prediction_time:.2f}s\")\n",
    "        self._update_best_model(\"Linear Regression\", lr, rmse, training_time, prediction_time)\n",
    "\n",
    "        # Display performance summary\n",
    "        display(\"Model Performance Summary:\")\n",
    "        perf_table = pd.DataFrame({\n",
    "            'RMSE': self.performance_summary,\n",
    "            'Training Time (s)': self.training_times,\n",
    "            'Prediction Time (s)': self.prediction_times\n",
    "        }).sort_values(by='RMSE')\n",
    "        display(perf_table)\n",
    "\n",
    "        return self\n",
    "        \n",
    "    def evaluate_on_test(self):\n",
    "        display(\"Final Evaluation on Test Set (only done once at the end)\")\n",
    "        start_time = time.time()\n",
    "        if hasattr(self.best_model, 'best_iteration'):\n",
    "            test_preds = self.best_model.predict(self.features_test, num_iteration=self.best_model.best_iteration)\n",
    "        else:\n",
    "            test_preds = self.best_model.predict(self.features_test)\n",
    "        prediction_time = time.time() - start_time\n",
    "        \n",
    "        test_rmse = self._compute_rmse(self.target_test, test_preds)\n",
    "        #display(f\"Best Model: {self.best_model}\")\n",
    "        display(f\"Best Model: {self.best_model.__class__.__name__}\")\n",
    "        display(f\"Test RMSE: {test_rmse:.4f} | Prediction time: {prediction_time:.2f}s\")\n",
    "        \n",
    "        return test_rmse\n",
    "    \n",
    "    \n",
    "   \n",
    "\n",
    "    def predict(self, features):\n",
    "        if self.best_model is None:\n",
    "            raise ValueError(\"Model not trained yet\")\n",
    "\n",
    "        features = features.copy()\n",
    "        for column in self.categorical_columns:\n",
    "            if column in features.columns:\n",
    "                lab_enc = self.label_encoders[column]\n",
    "                features[column] = features[column].apply(\n",
    "                    lambda x: lab_enc.transform([str(x)])[0] if x in lab_enc.classes_ else -1\n",
    "                ).astype(int)\n",
    "        \n",
    "        start_time = time.time()\n",
    "        predictions = self.best_model.predict(features)\n",
    "        prediction_time = time.time() - start_time\n",
    "        display(f\"Prediction completed in {prediction_time:.2f} seconds\")\n",
    "        \n",
    "        return predictions\n",
    "    \n",
    "model = classSGB_LightGBM(\n",
    "    epochs=50,\n",
    "    categorical_columns=['vehicle_type', 'gearbox', 'model', 'fuel_type', 'not_repaired', 'brand', 'postal_region']\n",
    ")\n",
    "model.fit(df)# here we held out the test set\n",
    "predictions = model.predict(model.features_test)#here we use the test set once\n",
    "test_rmse = model.evaluate_on_test()"
   ]
  },
  {
   "cell_type": "markdown",
   "metadata": {},
   "source": []
  },
  {
   "cell_type": "markdown",
   "metadata": {},
   "source": [
    "<div class=\"alert alert-success\" style=\"border-radius: 15px; box-shadow: 4px 4px 4px; border: 1px solid \">\n",
    "<h2>   Reviewer's comment 3 </h2>\n",
    "    \n",
    "Great!     \n"
   ]
  },
  {
   "cell_type": "code",
   "execution_count": null,
   "metadata": {},
   "outputs": [],
   "source": []
  },
  {
   "cell_type": "markdown",
   "metadata": {},
   "source": [
    "## Model analysis"
   ]
  },
  {
   "cell_type": "markdown",
   "metadata": {},
   "source": [
    "**Performance Evaluation**\n",
    "\n",
    "**We measure model error using Root Mean Squared Error (RMSE) of price.This is done for the following\n",
    "models:Base LightGBM ,Tuned LightGBM models ,Random Forest and Linear Regression. LightGBM(set 2) on test set with an RMSE of 1636 and at 1632 on validation set,the lowest among all.**\n",
    "\n",
    "**Comparison Across Models.**\n",
    "\n",
    "**Here we store the RMSE of each model in self.performance_summary and display it in a form of a table. Random Forest was train\n",
    "next but still about few points worse than the best LightGBM model.Linear Regression had the worst performance.**\n",
    "\n",
    "**Best Model Selection.**\n",
    "\n",
    "**The model with the lowest RMSE is automatically marked as self.best_model. LightGBM with an RMSE of 1632 the lowest among all**\n",
    "\n",
    "**Sanity Check.**\n",
    "\n",
    "**Here do a quick comparison between the simplest and best models and this helps show how much improvement was gained from using more advanced models. here Linear Regression acts as a good baseline and sanity check with the performance worse than all ensemble methods**\n"
   ]
  },
  {
   "cell_type": "code",
   "execution_count": null,
   "metadata": {},
   "outputs": [],
   "source": []
  },
  {
   "cell_type": "markdown",
   "metadata": {},
   "source": [
    "**Class CatBoostModel that incorporates CatBoost model, compares it with Random Forest, and includes a linear regression for sanity check.**"
   ]
  },
  {
   "cell_type": "code",
   "execution_count": 37,
   "metadata": {},
   "outputs": [
    {
     "data": {
      "text/plain": [
       "'Training CatBoost Regressor'"
      ]
     },
     "metadata": {},
     "output_type": "display_data"
    },
    {
     "data": {
      "text/plain": [
       "'Training Random Forest'"
      ]
     },
     "metadata": {},
     "output_type": "display_data"
    },
    {
     "data": {
      "text/plain": [
       "'Training Linear Regression'"
      ]
     },
     "metadata": {},
     "output_type": "display_data"
    },
    {
     "data": {
      "text/plain": [
       "'Model Validation Performance Summary:'"
      ]
     },
     "metadata": {},
     "output_type": "display_data"
    },
    {
     "data": {
      "text/html": [
       "<div>\n",
       "<style scoped>\n",
       "    .dataframe tbody tr th:only-of-type {\n",
       "        vertical-align: middle;\n",
       "    }\n",
       "\n",
       "    .dataframe tbody tr th {\n",
       "        vertical-align: top;\n",
       "    }\n",
       "\n",
       "    .dataframe thead th {\n",
       "        text-align: right;\n",
       "    }\n",
       "</style>\n",
       "<table border=\"1\" class=\"dataframe\">\n",
       "  <thead>\n",
       "    <tr style=\"text-align: right;\">\n",
       "      <th></th>\n",
       "      <th>Validation RMSE</th>\n",
       "      <th>Training Time (s)</th>\n",
       "      <th>Prediction Time (s)</th>\n",
       "    </tr>\n",
       "  </thead>\n",
       "  <tbody>\n",
       "    <tr>\n",
       "      <th>CatBoost</th>\n",
       "      <td>1648.854673</td>\n",
       "      <td>81.755875</td>\n",
       "      <td>0.170393</td>\n",
       "    </tr>\n",
       "    <tr>\n",
       "      <th>Random Forest</th>\n",
       "      <td>1733.289898</td>\n",
       "      <td>43.146114</td>\n",
       "      <td>0.680131</td>\n",
       "    </tr>\n",
       "    <tr>\n",
       "      <th>Linear Regression</th>\n",
       "      <td>3367.032198</td>\n",
       "      <td>0.030923</td>\n",
       "      <td>0.022759</td>\n",
       "    </tr>\n",
       "  </tbody>\n",
       "</table>\n",
       "</div>"
      ],
      "text/plain": [
       "                   Validation RMSE  Training Time (s)  Prediction Time (s)\n",
       "CatBoost               1648.854673          81.755875             0.170393\n",
       "Random Forest          1733.289898          43.146114             0.680131\n",
       "Linear Regression      3367.032198           0.030923             0.022759"
      ]
     },
     "metadata": {},
     "output_type": "display_data"
    },
    {
     "data": {
      "text/plain": [
       "' Best Model Selected (based on validation RMSE): CatBoost'"
      ]
     },
     "metadata": {},
     "output_type": "display_data"
    },
    {
     "data": {
      "text/plain": [
       "'Prediction using CatBoost completed in 0.18 seconds'"
      ]
     },
     "metadata": {},
     "output_type": "display_data"
    },
    {
     "data": {
      "text/plain": [
       "'Evaluating best model on test set: CatBoost'"
      ]
     },
     "metadata": {},
     "output_type": "display_data"
    },
    {
     "data": {
      "text/plain": [
       "'Test RMSE (Best Model: CatBoost): 1644.5471'"
      ]
     },
     "metadata": {},
     "output_type": "display_data"
    }
   ],
   "source": [
    "class CatBoostModel:\n",
    "    def __init__(self, iterations=500, learning_rate=0.1, depth=6, categorical_columns=None):\n",
    "        self.iterations = iterations\n",
    "        self.learning_rate = learning_rate\n",
    "        self.depth = depth\n",
    "        self.categorical_columns = categorical_columns or []\n",
    "        self.label_encoders = {}\n",
    "        self.models = {}\n",
    "        self.validation_rmse = {}\n",
    "        self.training_times = {}\n",
    "        self.prediction_times = {}\n",
    "        self.best_model = None\n",
    "        self.best_model_name = None\n",
    "        self.features_val = None\n",
    "        self.target_val = None\n",
    "        self.features_test = None\n",
    "        self.target_test = None\n",
    "\n",
    "    def _encode_features(self, df):\n",
    "        df = df.copy()\n",
    "        for column in self.categorical_columns:\n",
    "            if column in df.columns:\n",
    "                le = LabelEncoder()\n",
    "                df[column] = le.fit_transform(df[column].astype(str))\n",
    "                self.label_encoders[column] = le\n",
    "        return df\n",
    "\n",
    "    def _compute_rmse(self, true_target, pred_target):\n",
    "        return np.sqrt(mean_squared_error(true_target, pred_target))\n",
    "\n",
    "    def _predict(self, model, model_name, features):\n",
    "        features = features.copy()\n",
    "        if model_name in [\"Random Forest\", \"Linear Regression\"]:\n",
    "            for column in self.categorical_columns:\n",
    "                if column in features.columns:\n",
    "                    le = self.label_encoders[column]\n",
    "                    features[column] = features[column].map(\n",
    "                        lambda x: le.transform([str(x)])[0] if str(x) in le.classes_ else -1\n",
    "                    )\n",
    "        return model.predict(features)\n",
    "\n",
    "    def fit(self, df, target_column='price'):\n",
    "        df = df.copy()\n",
    "        if not self.categorical_columns:\n",
    "            self.categorical_columns = df.select_dtypes(include='object').columns.tolist()\n",
    "\n",
    "        features = df.drop(columns=[target_column])\n",
    "        target = df[target_column]\n",
    "\n",
    "        \n",
    "        features_train, features_temp, target_train, target_temp = train_test_split(\n",
    "            features, target, test_size=0.4, random_state=12345)\n",
    "\n",
    "        features_val, features_test, target_val, target_test = train_test_split(\n",
    "            features_temp, target_temp, test_size=0.5, random_state=12345)\n",
    "\n",
    "        self.features_val = features_val\n",
    "        self.target_val = target_val\n",
    "        self.features_test = features_test\n",
    "        self.target_test = target_test\n",
    "\n",
    "        # CatBoost \n",
    "        display(\"Training CatBoost Regressor\")\n",
    "        train_pool = Pool(features_train, label=target_train, cat_features=self.categorical_columns)\n",
    "        val_pool = Pool(features_val, label=target_val, cat_features=self.categorical_columns)\n",
    "\n",
    "        start_time = time.time()\n",
    "        catboost_model = CatBoostRegressor(\n",
    "            iterations=self.iterations,\n",
    "            learning_rate=self.learning_rate,\n",
    "            depth=self.depth,\n",
    "            loss_function='RMSE',\n",
    "            eval_metric='RMSE',\n",
    "            verbose=0,\n",
    "            early_stopping_rounds=20\n",
    "        )\n",
    "        catboost_model.fit(train_pool, eval_set=val_pool)\n",
    "        training_time = time.time() - start_time\n",
    "\n",
    "        start_pred_time = time.time()\n",
    "        val_preds = catboost_model.predict(features_val)\n",
    "        prediction_time = time.time() - start_pred_time\n",
    "\n",
    "        val_rmse = self._compute_rmse(target_val, val_preds)\n",
    "\n",
    "        self.models[\"CatBoost\"] = catboost_model\n",
    "        self.validation_rmse[\"CatBoost\"] = val_rmse\n",
    "        self.training_times[\"CatBoost\"] = training_time\n",
    "        self.prediction_times[\"CatBoost\"] = prediction_time\n",
    "\n",
    "        # Random Forest\n",
    "        display(\"Training Random Forest\")\n",
    "        encoded_train = self._encode_features(features_train)\n",
    "        encoded_val = self._encode_features(features_val)\n",
    "\n",
    "        start_time = time.time()\n",
    "        rf = RandomForestRegressor(\n",
    "            n_estimators=100,\n",
    "            max_depth=15,\n",
    "            min_samples_split=5,\n",
    "            min_samples_leaf=2,\n",
    "            random_state=12345,\n",
    "            n_jobs=-1\n",
    "        )\n",
    "        rf.fit(encoded_train, target_train)\n",
    "        training_time = time.time() - start_time\n",
    "\n",
    "        start_pred_time = time.time()\n",
    "        val_preds = rf.predict(encoded_val)\n",
    "        prediction_time = time.time() - start_pred_time\n",
    "\n",
    "        val_rmse = self._compute_rmse(target_val, val_preds)\n",
    "\n",
    "        self.models[\"Random Forest\"] = rf\n",
    "        self.validation_rmse[\"Random Forest\"] = val_rmse\n",
    "        self.training_times[\"Random Forest\"] = training_time\n",
    "        self.prediction_times[\"Random Forest\"] = prediction_time\n",
    "\n",
    "        # Linear Regression \n",
    "        display(\"Training Linear Regression\")\n",
    "        start_time = time.time()\n",
    "        lr = LinearRegression()\n",
    "        lr.fit(encoded_train, target_train)\n",
    "        training_time = time.time() - start_time\n",
    "\n",
    "        start_pred_time = time.time()\n",
    "        val_preds = lr.predict(encoded_val)\n",
    "        prediction_time = time.time() - start_pred_time\n",
    "\n",
    "        val_rmse = self._compute_rmse(target_val, val_preds)\n",
    "\n",
    "        self.models[\"Linear Regression\"] = lr\n",
    "        self.validation_rmse[\"Linear Regression\"] = val_rmse\n",
    "        self.training_times[\"Linear Regression\"] = training_time\n",
    "        self.prediction_times[\"Linear Regression\"] = prediction_time\n",
    "\n",
    "        # Best model based on validation RMSE\n",
    "        self.best_model_name = min(self.validation_rmse, key=self.validation_rmse.get)\n",
    "        self.best_model = self.models[self.best_model_name]\n",
    "\n",
    "        # Table\n",
    "        display(\"Model Validation Performance Summary:\")\n",
    "        perf_table = pd.DataFrame({\n",
    "            'Validation RMSE': self.validation_rmse,\n",
    "            'Training Time (s)': self.training_times,\n",
    "            'Prediction Time (s)': self.prediction_times\n",
    "        }).sort_values(by='Validation RMSE')\n",
    "        display(perf_table)\n",
    "\n",
    "        display(f\" Best Model Selected (based on validation RMSE): {self.best_model_name}\")\n",
    "        return self\n",
    "\n",
    "    def evaluate_on_test(self):\n",
    "        display(f\"Evaluating best model on test set: {self.best_model_name}\")\n",
    "        preds = self._predict(self.best_model, self.best_model_name, self.features_test)\n",
    "        test_rmse = self._compute_rmse(self.target_test, preds)\n",
    "        display(f\"Test RMSE (Best Model: {self.best_model_name}): {test_rmse:.4f}\")\n",
    "        return test_rmse\n",
    "\n",
    "    def predict(self, features):\n",
    "        if self.best_model is None:\n",
    "            raise ValueError(\"Model not trained yet.\")\n",
    "        start_time = time.time()\n",
    "        predictions = self._predict(self.best_model, self.best_model_name, features)\n",
    "        prediction_time = time.time() - start_time\n",
    "        display(f\"Prediction using {self.best_model_name} completed in {prediction_time:.2f} seconds\")\n",
    "        return predictions\n",
    "    \n",
    "model = CatBoostModel(\n",
    "    iterations=300,\n",
    "    learning_rate=0.05,\n",
    "    depth=8,\n",
    "    categorical_columns=['vehicle_type', 'gearbox', 'model', 'fuel_type', 'not_repaired', 'brand', 'postal_region']\n",
    ")\n",
    "\n",
    "model.fit(df) \n",
    "predictions = model.predict(model.features_test)\n",
    "#predictions = model.predict(df)    \n",
    "test_rmse = model.evaluate_on_test()   # Evaluates only best model on test set"
   ]
  },
  {
   "cell_type": "code",
   "execution_count": null,
   "metadata": {},
   "outputs": [],
   "source": []
  },
  {
   "cell_type": "markdown",
   "metadata": {},
   "source": [
    "<div class=\"alert alert-success\" style=\"border-radius: 15px; box-shadow: 4px 4px 4px; border: 1px solid \">\n",
    "<h2>   Reviewer's comment 2 </h2>\n",
    "    \n",
    "Very good!     \n",
    "</div>"
   ]
  },
  {
   "cell_type": "code",
   "execution_count": null,
   "metadata": {},
   "outputs": [],
   "source": []
  },
  {
   "cell_type": "markdown",
   "metadata": {},
   "source": [
    "## Model analysis"
   ]
  },
  {
   "cell_type": "markdown",
   "metadata": {},
   "source": [
    "**Performance Evaluation**\n",
    "\n",
    "**We measure model error using Root Mean Squared Error (RMSE) of price.This is done for the following\n",
    "models:Base CatBoost model, Random Forest and Linear Regression. CatBoost on test set with an RMSE of about 1644 and 1648 on validation set.**\n",
    "\n",
    "**Comparison Across Models.**\n",
    "\n",
    "**Here we store the RMSE of each model in self.performance_summary and display it in a form of a table. Random Forest was train\n",
    "next but still about a few points worse than the best CatBoost model.Linear Regression had the worst performance.**\n",
    "\n",
    "**Best Model Selection.**\n",
    "\n",
    "**The model with the lowest RMSE is automatically marked as self.best_model. CatBoost with an RMSE of 1644 on test set is the lowest among all**\n",
    "\n",
    "**Sanity Check.**\n",
    "\n",
    "**Here do a quick comparison between the simplest and best models and this helps show how much improvement was gained from using more advanced models. here Linear Regression acts as a good baseline and sanity check with the performance worse than all ensemble methods**\n"
   ]
  },
  {
   "cell_type": "code",
   "execution_count": null,
   "metadata": {},
   "outputs": [],
   "source": []
  },
  {
   "cell_type": "markdown",
   "metadata": {},
   "source": [
    "## Conclusion\n",
    "\n",
    "**With the support of the output generated by all the models train we observe that Gradient boosting models (LightGBM, CatBoost) outperform traditional models like Random Forest and Linear Regression when properly tuned.We can also say that LightGBM stands out as the best choice for this problem based on RMSE.It is important to also note that hyperparameter tuning is very crucial because poor tuning can degrade performance and successful tuning however can yields significant improvements(see the above performance table).As far as computational efficiency we see that LightGBM and CatBoostModel on prediction were slightly the different  (.18s vs. 28s for CatBoost).**"
   ]
  },
  {
   "cell_type": "markdown",
   "metadata": {},
   "source": [
    "<div class=\"alert alert-success\" style=\"border-radius: 15px; box-shadow: 4px 4px 4px; border: 1px solid \">\n",
    "<h2> Reviewer's comment</h2>\n",
    "\n",
    "    \n",
    "Great conclusion! This is a solid final summary with comparison across models. \n",
    "    \n",
    "    \n",
    "</div>    \n",
    " \n"
   ]
  },
  {
   "cell_type": "code",
   "execution_count": null,
   "metadata": {},
   "outputs": [],
   "source": []
  },
  {
   "cell_type": "markdown",
   "metadata": {},
   "source": [
    "# Checklist"
   ]
  },
  {
   "cell_type": "markdown",
   "metadata": {},
   "source": [
    "Type 'x' to check. Then press Shift+Enter."
   ]
  },
  {
   "cell_type": "markdown",
   "metadata": {},
   "source": [
    "- [x]  Jupyter Notebook is open\n",
    "- [ ]  Code is error free\n",
    "- [ ]  The cells with the code have been arranged in order of execution\n",
    "- [ ]  The data has been downloaded and prepared\n",
    "- [ ]  The models have been trained\n",
    "- [ ]  The analysis of speed and quality of the models has been performed"
   ]
  },
  {
   "cell_type": "code",
   "execution_count": null,
   "metadata": {},
   "outputs": [],
   "source": []
  },
  {
   "cell_type": "code",
   "execution_count": null,
   "metadata": {},
   "outputs": [],
   "source": []
  }
 ],
 "metadata": {
  "ExecuteTimeLog": [
   {
    "duration": 157,
    "start_time": "2025-04-18T19:18:58.670Z"
   },
   {
    "duration": 790,
    "start_time": "2025-04-18T19:19:11.528Z"
   },
   {
    "duration": 445,
    "start_time": "2025-04-18T19:19:12.321Z"
   },
   {
    "duration": 15,
    "start_time": "2025-04-18T19:19:43.457Z"
   },
   {
    "duration": 95,
    "start_time": "2025-04-18T19:22:07.611Z"
   },
   {
    "duration": 278,
    "start_time": "2025-04-18T19:29:15.825Z"
   },
   {
    "duration": 231,
    "start_time": "2025-04-18T19:29:43.165Z"
   },
   {
    "duration": 89,
    "start_time": "2025-04-18T19:30:09.802Z"
   },
   {
    "duration": 31,
    "start_time": "2025-04-18T19:45:49.140Z"
   },
   {
    "duration": 18,
    "start_time": "2025-04-18T19:50:18.074Z"
   },
   {
    "duration": 33,
    "start_time": "2025-04-18T19:51:44.315Z"
   },
   {
    "duration": 16,
    "start_time": "2025-04-18T19:51:47.200Z"
   },
   {
    "duration": 30,
    "start_time": "2025-04-18T19:52:16.700Z"
   },
   {
    "duration": 17,
    "start_time": "2025-04-18T19:52:18.155Z"
   },
   {
    "duration": 15,
    "start_time": "2025-04-18T19:52:44.831Z"
   },
   {
    "duration": 17,
    "start_time": "2025-04-18T19:52:47.241Z"
   },
   {
    "duration": 848,
    "start_time": "2025-04-19T02:50:39.550Z"
   },
   {
    "duration": 880,
    "start_time": "2025-04-19T02:50:48.317Z"
   },
   {
    "duration": 504,
    "start_time": "2025-04-19T02:50:49.199Z"
   },
   {
    "duration": 15,
    "start_time": "2025-04-19T02:50:49.705Z"
   },
   {
    "duration": 106,
    "start_time": "2025-04-19T02:50:49.723Z"
   },
   {
    "duration": 257,
    "start_time": "2025-04-19T02:50:49.832Z"
   },
   {
    "duration": 238,
    "start_time": "2025-04-19T02:50:50.091Z"
   },
   {
    "duration": 95,
    "start_time": "2025-04-19T02:50:50.331Z"
   },
   {
    "duration": 37,
    "start_time": "2025-04-19T02:50:50.428Z"
   },
   {
    "duration": 38,
    "start_time": "2025-04-19T02:50:50.470Z"
   },
   {
    "duration": 896,
    "start_time": "2025-04-19T20:55:24.005Z"
   },
   {
    "duration": 457,
    "start_time": "2025-04-19T20:55:24.903Z"
   },
   {
    "duration": 17,
    "start_time": "2025-04-19T20:55:25.362Z"
   },
   {
    "duration": 100,
    "start_time": "2025-04-19T20:55:25.381Z"
   },
   {
    "duration": 262,
    "start_time": "2025-04-19T20:55:25.483Z"
   },
   {
    "duration": 231,
    "start_time": "2025-04-19T20:55:25.747Z"
   },
   {
    "duration": 93,
    "start_time": "2025-04-19T20:55:25.979Z"
   },
   {
    "duration": 30,
    "start_time": "2025-04-19T20:55:26.073Z"
   },
   {
    "duration": 16,
    "start_time": "2025-04-19T20:55:26.105Z"
   },
   {
    "duration": 60,
    "start_time": "2025-04-19T20:57:24.679Z"
   },
   {
    "duration": 102,
    "start_time": "2025-04-19T21:03:11.528Z"
   },
   {
    "duration": 360,
    "start_time": "2025-04-19T21:05:53.662Z"
   },
   {
    "duration": 4,
    "start_time": "2025-04-19T21:07:55.663Z"
   },
   {
    "duration": 2,
    "start_time": "2025-04-19T21:16:39.375Z"
   },
   {
    "duration": 2,
    "start_time": "2025-04-19T21:23:32.566Z"
   },
   {
    "duration": 2,
    "start_time": "2025-04-19T21:24:17.594Z"
   },
   {
    "duration": 954,
    "start_time": "2025-04-19T21:32:23.158Z"
   },
   {
    "duration": 21,
    "start_time": "2025-04-19T21:32:45.866Z"
   },
   {
    "duration": 120,
    "start_time": "2025-04-19T21:35:29.982Z"
   },
   {
    "duration": 99,
    "start_time": "2025-04-19T21:56:25.126Z"
   },
   {
    "duration": 14,
    "start_time": "2025-04-19T21:58:24.001Z"
   },
   {
    "duration": 2,
    "start_time": "2025-04-19T21:58:36.627Z"
   },
   {
    "duration": 37,
    "start_time": "2025-04-19T22:00:58.184Z"
   },
   {
    "duration": 53,
    "start_time": "2025-04-19T22:01:30.452Z"
   },
   {
    "duration": 46,
    "start_time": "2025-04-19T22:01:34.798Z"
   },
   {
    "duration": 41,
    "start_time": "2025-04-19T22:02:53.512Z"
   },
   {
    "duration": 4,
    "start_time": "2025-04-19T22:03:45.768Z"
   },
   {
    "duration": 5,
    "start_time": "2025-04-19T22:52:37.722Z"
   },
   {
    "duration": 833,
    "start_time": "2025-04-20T17:35:01.067Z"
   },
   {
    "duration": 585,
    "start_time": "2025-04-20T17:35:01.902Z"
   },
   {
    "duration": 2,
    "start_time": "2025-04-20T17:35:02.489Z"
   },
   {
    "duration": 391,
    "start_time": "2025-04-20T17:35:02.494Z"
   },
   {
    "duration": 2,
    "start_time": "2025-04-20T17:35:02.888Z"
   },
   {
    "duration": 279,
    "start_time": "2025-04-20T17:35:02.892Z"
   },
   {
    "duration": 230,
    "start_time": "2025-04-20T17:35:03.173Z"
   },
   {
    "duration": 86,
    "start_time": "2025-04-20T17:35:03.412Z"
   },
   {
    "duration": 12,
    "start_time": "2025-04-20T17:35:03.500Z"
   },
   {
    "duration": 513,
    "start_time": "2025-04-20T17:35:03.514Z"
   },
   {
    "duration": 0,
    "start_time": "2025-04-20T17:35:04.028Z"
   },
   {
    "duration": 0,
    "start_time": "2025-04-20T17:35:04.030Z"
   },
   {
    "duration": 0,
    "start_time": "2025-04-20T17:35:04.031Z"
   },
   {
    "duration": 0,
    "start_time": "2025-04-20T17:35:04.032Z"
   },
   {
    "duration": 0,
    "start_time": "2025-04-20T17:35:04.033Z"
   },
   {
    "duration": 0,
    "start_time": "2025-04-20T17:35:04.035Z"
   },
   {
    "duration": 2,
    "start_time": "2025-04-20T17:53:24.253Z"
   },
   {
    "duration": 790,
    "start_time": "2025-04-20T17:54:06.207Z"
   },
   {
    "duration": 398,
    "start_time": "2025-04-20T17:54:06.999Z"
   },
   {
    "duration": 2,
    "start_time": "2025-04-20T17:54:07.400Z"
   },
   {
    "duration": 371,
    "start_time": "2025-04-20T17:54:07.413Z"
   },
   {
    "duration": 2,
    "start_time": "2025-04-20T17:54:07.787Z"
   },
   {
    "duration": 274,
    "start_time": "2025-04-20T17:54:07.790Z"
   },
   {
    "duration": 228,
    "start_time": "2025-04-20T17:54:08.066Z"
   },
   {
    "duration": 89,
    "start_time": "2025-04-20T17:54:08.296Z"
   },
   {
    "duration": 3,
    "start_time": "2025-04-20T17:54:08.386Z"
   },
   {
    "duration": 3,
    "start_time": "2025-04-20T17:54:08.390Z"
   },
   {
    "duration": 644,
    "start_time": "2025-04-20T17:54:08.394Z"
   },
   {
    "duration": 0,
    "start_time": "2025-04-20T17:54:09.041Z"
   },
   {
    "duration": 0,
    "start_time": "2025-04-20T17:54:09.042Z"
   },
   {
    "duration": 0,
    "start_time": "2025-04-20T17:54:09.044Z"
   },
   {
    "duration": 0,
    "start_time": "2025-04-20T17:54:09.045Z"
   },
   {
    "duration": 0,
    "start_time": "2025-04-20T17:54:09.047Z"
   },
   {
    "duration": 385,
    "start_time": "2025-04-20T17:56:41.464Z"
   },
   {
    "duration": 17,
    "start_time": "2025-04-20T17:56:43.137Z"
   },
   {
    "duration": 351,
    "start_time": "2025-04-20T17:56:45.457Z"
   },
   {
    "duration": 3,
    "start_time": "2025-04-20T17:56:56.278Z"
   },
   {
    "duration": 244,
    "start_time": "2025-04-20T17:56:57.011Z"
   },
   {
    "duration": 198,
    "start_time": "2025-04-20T17:56:57.690Z"
   },
   {
    "duration": 85,
    "start_time": "2025-04-20T17:56:59.133Z"
   },
   {
    "duration": 2,
    "start_time": "2025-04-20T17:57:04.220Z"
   },
   {
    "duration": 72,
    "start_time": "2025-04-20T17:57:17.153Z"
   },
   {
    "duration": 34,
    "start_time": "2025-04-20T17:57:22.705Z"
   },
   {
    "duration": 811,
    "start_time": "2025-04-20T17:57:35.975Z"
   },
   {
    "duration": 392,
    "start_time": "2025-04-20T17:57:36.788Z"
   },
   {
    "duration": 34,
    "start_time": "2025-04-20T17:57:37.181Z"
   },
   {
    "duration": 365,
    "start_time": "2025-04-20T17:57:37.217Z"
   },
   {
    "duration": 2,
    "start_time": "2025-04-20T17:57:37.585Z"
   },
   {
    "duration": 257,
    "start_time": "2025-04-20T17:57:37.588Z"
   },
   {
    "duration": 222,
    "start_time": "2025-04-20T17:57:37.846Z"
   },
   {
    "duration": 91,
    "start_time": "2025-04-20T17:57:38.069Z"
   },
   {
    "duration": 2,
    "start_time": "2025-04-20T17:57:38.162Z"
   },
   {
    "duration": 90,
    "start_time": "2025-04-20T17:57:38.166Z"
   },
   {
    "duration": 31,
    "start_time": "2025-04-20T17:57:38.257Z"
   },
   {
    "duration": 27,
    "start_time": "2025-04-20T17:57:38.289Z"
   },
   {
    "duration": 3,
    "start_time": "2025-04-20T17:57:38.318Z"
   },
   {
    "duration": 15,
    "start_time": "2025-04-20T17:57:38.324Z"
   },
   {
    "duration": 121,
    "start_time": "2025-04-20T17:57:38.341Z"
   },
   {
    "duration": 8,
    "start_time": "2025-04-20T17:57:38.464Z"
   },
   {
    "duration": 79,
    "start_time": "2025-04-20T17:59:06.538Z"
   },
   {
    "duration": 880,
    "start_time": "2025-04-20T18:20:01.329Z"
   },
   {
    "duration": 387,
    "start_time": "2025-04-20T18:20:02.211Z"
   },
   {
    "duration": 36,
    "start_time": "2025-04-20T18:20:02.600Z"
   },
   {
    "duration": 379,
    "start_time": "2025-04-20T18:20:02.637Z"
   },
   {
    "duration": 100,
    "start_time": "2025-04-20T18:20:03.018Z"
   },
   {
    "duration": 255,
    "start_time": "2025-04-20T18:20:03.120Z"
   },
   {
    "duration": 225,
    "start_time": "2025-04-20T18:20:03.377Z"
   },
   {
    "duration": 91,
    "start_time": "2025-04-20T18:20:03.604Z"
   },
   {
    "duration": 3,
    "start_time": "2025-04-20T18:20:03.696Z"
   },
   {
    "duration": 74,
    "start_time": "2025-04-20T18:20:03.712Z"
   },
   {
    "duration": 39,
    "start_time": "2025-04-20T18:20:03.787Z"
   },
   {
    "duration": 3,
    "start_time": "2025-04-20T18:20:03.828Z"
   },
   {
    "duration": 14,
    "start_time": "2025-04-20T18:20:03.833Z"
   },
   {
    "duration": 121,
    "start_time": "2025-04-20T18:20:03.850Z"
   },
   {
    "duration": 8,
    "start_time": "2025-04-20T18:20:03.972Z"
   },
   {
    "duration": 6,
    "start_time": "2025-04-20T18:21:01.900Z"
   },
   {
    "duration": 5,
    "start_time": "2025-04-20T18:21:07.023Z"
   },
   {
    "duration": 3,
    "start_time": "2025-04-20T18:58:06.443Z"
   },
   {
    "duration": 875,
    "start_time": "2025-04-20T19:05:58.639Z"
   },
   {
    "duration": 390,
    "start_time": "2025-04-20T19:05:59.516Z"
   },
   {
    "duration": 31,
    "start_time": "2025-04-20T19:05:59.908Z"
   },
   {
    "duration": 388,
    "start_time": "2025-04-20T19:05:59.940Z"
   },
   {
    "duration": 101,
    "start_time": "2025-04-20T19:06:00.331Z"
   },
   {
    "duration": 256,
    "start_time": "2025-04-20T19:06:00.434Z"
   },
   {
    "duration": 220,
    "start_time": "2025-04-20T19:06:00.692Z"
   },
   {
    "duration": 101,
    "start_time": "2025-04-20T19:06:00.914Z"
   },
   {
    "duration": 2,
    "start_time": "2025-04-20T19:06:01.018Z"
   },
   {
    "duration": 73,
    "start_time": "2025-04-20T19:06:01.022Z"
   },
   {
    "duration": 45,
    "start_time": "2025-04-20T19:06:01.097Z"
   },
   {
    "duration": 3,
    "start_time": "2025-04-20T19:06:01.144Z"
   },
   {
    "duration": 14,
    "start_time": "2025-04-20T19:06:01.149Z"
   },
   {
    "duration": 126,
    "start_time": "2025-04-20T19:06:01.166Z"
   },
   {
    "duration": 6,
    "start_time": "2025-04-20T19:06:01.294Z"
   },
   {
    "duration": 4,
    "start_time": "2025-04-20T19:14:40.088Z"
   },
   {
    "duration": 4,
    "start_time": "2025-04-20T19:22:02.373Z"
   },
   {
    "duration": 863,
    "start_time": "2025-04-20T19:23:14.411Z"
   },
   {
    "duration": 424,
    "start_time": "2025-04-20T19:23:15.276Z"
   },
   {
    "duration": 35,
    "start_time": "2025-04-20T19:23:15.702Z"
   },
   {
    "duration": 364,
    "start_time": "2025-04-20T19:23:15.739Z"
   },
   {
    "duration": 95,
    "start_time": "2025-04-20T19:23:16.106Z"
   },
   {
    "duration": 266,
    "start_time": "2025-04-20T19:23:16.202Z"
   },
   {
    "duration": 221,
    "start_time": "2025-04-20T19:23:16.469Z"
   },
   {
    "duration": 90,
    "start_time": "2025-04-20T19:23:16.693Z"
   },
   {
    "duration": 2,
    "start_time": "2025-04-20T19:23:16.785Z"
   },
   {
    "duration": 45,
    "start_time": "2025-04-20T19:23:16.789Z"
   },
   {
    "duration": 4,
    "start_time": "2025-04-20T19:23:16.836Z"
   },
   {
    "duration": 234,
    "start_time": "2025-04-20T19:23:16.842Z"
   },
   {
    "duration": 0,
    "start_time": "2025-04-20T19:23:17.078Z"
   },
   {
    "duration": 868,
    "start_time": "2025-04-20T19:24:11.648Z"
   },
   {
    "duration": 395,
    "start_time": "2025-04-20T19:24:12.518Z"
   },
   {
    "duration": 29,
    "start_time": "2025-04-20T19:24:12.915Z"
   },
   {
    "duration": 370,
    "start_time": "2025-04-20T19:24:12.945Z"
   },
   {
    "duration": 94,
    "start_time": "2025-04-20T19:24:13.318Z"
   },
   {
    "duration": 267,
    "start_time": "2025-04-20T19:24:13.414Z"
   },
   {
    "duration": 228,
    "start_time": "2025-04-20T19:24:13.683Z"
   },
   {
    "duration": 89,
    "start_time": "2025-04-20T19:24:13.913Z"
   },
   {
    "duration": 8,
    "start_time": "2025-04-20T19:24:14.004Z"
   },
   {
    "duration": 35,
    "start_time": "2025-04-20T19:24:14.014Z"
   },
   {
    "duration": 5,
    "start_time": "2025-04-20T19:24:14.053Z"
   },
   {
    "duration": 7,
    "start_time": "2025-04-20T19:24:14.060Z"
   },
   {
    "duration": 850,
    "start_time": "2025-04-20T19:31:07.783Z"
   },
   {
    "duration": 411,
    "start_time": "2025-04-20T19:31:08.636Z"
   },
   {
    "duration": 30,
    "start_time": "2025-04-20T19:31:09.049Z"
   },
   {
    "duration": 372,
    "start_time": "2025-04-20T19:31:09.081Z"
   },
   {
    "duration": 100,
    "start_time": "2025-04-20T19:31:09.455Z"
   },
   {
    "duration": 262,
    "start_time": "2025-04-20T19:31:09.557Z"
   },
   {
    "duration": 232,
    "start_time": "2025-04-20T19:31:09.821Z"
   },
   {
    "duration": 91,
    "start_time": "2025-04-20T19:31:10.055Z"
   },
   {
    "duration": 2,
    "start_time": "2025-04-20T19:31:10.148Z"
   },
   {
    "duration": 32,
    "start_time": "2025-04-20T19:31:10.154Z"
   },
   {
    "duration": 4,
    "start_time": "2025-04-20T19:31:10.188Z"
   },
   {
    "duration": 6,
    "start_time": "2025-04-20T19:31:10.213Z"
   },
   {
    "duration": 833,
    "start_time": "2025-04-20T20:02:42.478Z"
   },
   {
    "duration": 405,
    "start_time": "2025-04-20T20:02:43.313Z"
   },
   {
    "duration": 30,
    "start_time": "2025-04-20T20:02:43.720Z"
   },
   {
    "duration": 365,
    "start_time": "2025-04-20T20:02:43.752Z"
   },
   {
    "duration": 100,
    "start_time": "2025-04-20T20:02:44.119Z"
   },
   {
    "duration": 266,
    "start_time": "2025-04-20T20:02:44.220Z"
   },
   {
    "duration": 228,
    "start_time": "2025-04-20T20:02:44.488Z"
   },
   {
    "duration": 87,
    "start_time": "2025-04-20T20:02:44.717Z"
   },
   {
    "duration": 2,
    "start_time": "2025-04-20T20:02:44.812Z"
   },
   {
    "duration": 33,
    "start_time": "2025-04-20T20:02:44.816Z"
   },
   {
    "duration": 4,
    "start_time": "2025-04-20T20:02:44.851Z"
   },
   {
    "duration": 8,
    "start_time": "2025-04-20T20:02:44.856Z"
   },
   {
    "duration": 6,
    "start_time": "2025-04-20T20:03:15.354Z"
   },
   {
    "duration": 8,
    "start_time": "2025-04-20T20:05:40.549Z"
   },
   {
    "duration": 6,
    "start_time": "2025-04-20T20:06:07.544Z"
   },
   {
    "duration": 8,
    "start_time": "2025-04-20T20:06:30.530Z"
   },
   {
    "duration": 7,
    "start_time": "2025-04-20T20:06:59.393Z"
   },
   {
    "duration": 7,
    "start_time": "2025-04-20T20:08:47.308Z"
   },
   {
    "duration": 8,
    "start_time": "2025-04-20T20:13:55.973Z"
   },
   {
    "duration": 6,
    "start_time": "2025-04-20T20:16:01.561Z"
   },
   {
    "duration": 853,
    "start_time": "2025-04-20T20:16:21.259Z"
   },
   {
    "duration": 389,
    "start_time": "2025-04-20T20:16:22.114Z"
   },
   {
    "duration": 30,
    "start_time": "2025-04-20T20:16:22.504Z"
   },
   {
    "duration": 377,
    "start_time": "2025-04-20T20:16:22.535Z"
   },
   {
    "duration": 98,
    "start_time": "2025-04-20T20:16:22.915Z"
   },
   {
    "duration": 265,
    "start_time": "2025-04-20T20:16:23.014Z"
   },
   {
    "duration": 222,
    "start_time": "2025-04-20T20:16:23.281Z"
   },
   {
    "duration": 92,
    "start_time": "2025-04-20T20:16:23.505Z"
   },
   {
    "duration": 2,
    "start_time": "2025-04-20T20:16:23.599Z"
   },
   {
    "duration": 41,
    "start_time": "2025-04-20T20:16:23.603Z"
   },
   {
    "duration": 3,
    "start_time": "2025-04-20T20:16:23.646Z"
   },
   {
    "duration": 7,
    "start_time": "2025-04-20T20:16:23.651Z"
   },
   {
    "duration": 869,
    "start_time": "2025-04-20T20:20:08.610Z"
   },
   {
    "duration": 397,
    "start_time": "2025-04-20T20:20:09.481Z"
   },
   {
    "duration": 33,
    "start_time": "2025-04-20T20:20:09.879Z"
   },
   {
    "duration": 375,
    "start_time": "2025-04-20T20:20:09.914Z"
   },
   {
    "duration": 97,
    "start_time": "2025-04-20T20:20:10.292Z"
   },
   {
    "duration": 267,
    "start_time": "2025-04-20T20:20:10.391Z"
   },
   {
    "duration": 227,
    "start_time": "2025-04-20T20:20:10.660Z"
   },
   {
    "duration": 92,
    "start_time": "2025-04-20T20:20:10.889Z"
   },
   {
    "duration": 2,
    "start_time": "2025-04-20T20:20:10.982Z"
   },
   {
    "duration": 45,
    "start_time": "2025-04-20T20:20:10.986Z"
   },
   {
    "duration": 4,
    "start_time": "2025-04-20T20:20:11.033Z"
   },
   {
    "duration": 7,
    "start_time": "2025-04-20T20:20:11.040Z"
   },
   {
    "duration": 6,
    "start_time": "2025-04-20T20:21:38.989Z"
   },
   {
    "duration": 7,
    "start_time": "2025-04-20T20:33:41.289Z"
   },
   {
    "duration": 8,
    "start_time": "2025-04-20T20:36:07.835Z"
   },
   {
    "duration": 877,
    "start_time": "2025-04-20T20:37:19.066Z"
   },
   {
    "duration": 400,
    "start_time": "2025-04-20T20:37:19.947Z"
   },
   {
    "duration": 30,
    "start_time": "2025-04-20T20:37:20.351Z"
   },
   {
    "duration": 384,
    "start_time": "2025-04-20T20:37:20.384Z"
   },
   {
    "duration": 99,
    "start_time": "2025-04-20T20:37:20.770Z"
   },
   {
    "duration": 251,
    "start_time": "2025-04-20T20:37:20.871Z"
   },
   {
    "duration": 222,
    "start_time": "2025-04-20T20:37:21.124Z"
   },
   {
    "duration": 97,
    "start_time": "2025-04-20T20:37:21.348Z"
   },
   {
    "duration": 3,
    "start_time": "2025-04-20T20:37:21.446Z"
   },
   {
    "duration": 33,
    "start_time": "2025-04-20T20:37:21.450Z"
   },
   {
    "duration": 4,
    "start_time": "2025-04-20T20:37:21.485Z"
   },
   {
    "duration": 30,
    "start_time": "2025-04-20T20:37:21.490Z"
   },
   {
    "duration": 829,
    "start_time": "2025-04-20T20:39:21.587Z"
   },
   {
    "duration": 397,
    "start_time": "2025-04-20T20:39:22.419Z"
   },
   {
    "duration": 33,
    "start_time": "2025-04-20T20:39:22.817Z"
   },
   {
    "duration": 372,
    "start_time": "2025-04-20T20:39:22.852Z"
   },
   {
    "duration": 106,
    "start_time": "2025-04-20T20:39:23.226Z"
   },
   {
    "duration": 260,
    "start_time": "2025-04-20T20:39:23.334Z"
   },
   {
    "duration": 226,
    "start_time": "2025-04-20T20:39:23.596Z"
   },
   {
    "duration": 90,
    "start_time": "2025-04-20T20:39:23.824Z"
   },
   {
    "duration": 2,
    "start_time": "2025-04-20T20:39:23.917Z"
   },
   {
    "duration": 35,
    "start_time": "2025-04-20T20:39:23.920Z"
   },
   {
    "duration": 5,
    "start_time": "2025-04-20T20:39:23.957Z"
   },
   {
    "duration": 8,
    "start_time": "2025-04-20T20:39:23.964Z"
   },
   {
    "duration": 9,
    "start_time": "2025-04-20T20:47:08.094Z"
   },
   {
    "duration": 9,
    "start_time": "2025-04-20T20:53:55.007Z"
   },
   {
    "duration": 8,
    "start_time": "2025-04-20T20:54:52.269Z"
   },
   {
    "duration": 825,
    "start_time": "2025-04-20T20:56:01.593Z"
   },
   {
    "duration": 409,
    "start_time": "2025-04-20T20:56:02.421Z"
   },
   {
    "duration": 34,
    "start_time": "2025-04-20T20:56:02.831Z"
   },
   {
    "duration": 407,
    "start_time": "2025-04-20T20:56:02.868Z"
   },
   {
    "duration": 97,
    "start_time": "2025-04-20T20:56:03.278Z"
   },
   {
    "duration": 266,
    "start_time": "2025-04-20T20:56:03.377Z"
   },
   {
    "duration": 230,
    "start_time": "2025-04-20T20:56:03.645Z"
   },
   {
    "duration": 91,
    "start_time": "2025-04-20T20:56:03.877Z"
   },
   {
    "duration": 2,
    "start_time": "2025-04-20T20:56:03.970Z"
   },
   {
    "duration": 49,
    "start_time": "2025-04-20T20:56:03.974Z"
   },
   {
    "duration": 4,
    "start_time": "2025-04-20T20:56:04.024Z"
   },
   {
    "duration": 10,
    "start_time": "2025-04-20T20:56:04.029Z"
   },
   {
    "duration": 872,
    "start_time": "2025-04-20T20:59:51.239Z"
   },
   {
    "duration": 411,
    "start_time": "2025-04-20T20:59:52.114Z"
   },
   {
    "duration": 30,
    "start_time": "2025-04-20T20:59:52.527Z"
   },
   {
    "duration": 380,
    "start_time": "2025-04-20T20:59:52.559Z"
   },
   {
    "duration": 95,
    "start_time": "2025-04-20T20:59:52.941Z"
   },
   {
    "duration": 275,
    "start_time": "2025-04-20T20:59:53.038Z"
   },
   {
    "duration": 224,
    "start_time": "2025-04-20T20:59:53.315Z"
   },
   {
    "duration": 90,
    "start_time": "2025-04-20T20:59:53.542Z"
   },
   {
    "duration": 2,
    "start_time": "2025-04-20T20:59:53.634Z"
   },
   {
    "duration": 33,
    "start_time": "2025-04-20T20:59:53.638Z"
   },
   {
    "duration": 4,
    "start_time": "2025-04-20T20:59:53.672Z"
   },
   {
    "duration": 9,
    "start_time": "2025-04-20T20:59:53.678Z"
   },
   {
    "duration": 865,
    "start_time": "2025-04-21T01:26:23.147Z"
   },
   {
    "duration": 449,
    "start_time": "2025-04-21T01:26:24.013Z"
   },
   {
    "duration": 34,
    "start_time": "2025-04-21T01:26:24.464Z"
   },
   {
    "duration": 378,
    "start_time": "2025-04-21T01:26:24.500Z"
   },
   {
    "duration": 100,
    "start_time": "2025-04-21T01:26:24.879Z"
   },
   {
    "duration": 256,
    "start_time": "2025-04-21T01:26:24.981Z"
   },
   {
    "duration": 220,
    "start_time": "2025-04-21T01:26:25.239Z"
   },
   {
    "duration": 91,
    "start_time": "2025-04-21T01:26:25.461Z"
   },
   {
    "duration": 3,
    "start_time": "2025-04-21T01:26:25.553Z"
   },
   {
    "duration": 44,
    "start_time": "2025-04-21T01:26:25.558Z"
   },
   {
    "duration": 3,
    "start_time": "2025-04-21T01:26:25.604Z"
   },
   {
    "duration": 9,
    "start_time": "2025-04-21T01:26:25.609Z"
   },
   {
    "duration": 8,
    "start_time": "2025-04-21T01:34:24.710Z"
   },
   {
    "duration": 868,
    "start_time": "2025-04-21T01:34:43.231Z"
   },
   {
    "duration": 477,
    "start_time": "2025-04-21T01:34:44.102Z"
   },
   {
    "duration": 31,
    "start_time": "2025-04-21T01:34:44.581Z"
   },
   {
    "duration": 371,
    "start_time": "2025-04-21T01:34:44.614Z"
   },
   {
    "duration": 94,
    "start_time": "2025-04-21T01:34:44.988Z"
   },
   {
    "duration": 269,
    "start_time": "2025-04-21T01:34:45.084Z"
   },
   {
    "duration": 229,
    "start_time": "2025-04-21T01:34:45.355Z"
   },
   {
    "duration": 90,
    "start_time": "2025-04-21T01:34:45.586Z"
   },
   {
    "duration": 2,
    "start_time": "2025-04-21T01:34:45.678Z"
   },
   {
    "duration": 32,
    "start_time": "2025-04-21T01:34:45.682Z"
   },
   {
    "duration": 6,
    "start_time": "2025-04-21T01:34:45.716Z"
   },
   {
    "duration": 8,
    "start_time": "2025-04-21T01:34:45.724Z"
   },
   {
    "duration": 8,
    "start_time": "2025-04-21T01:34:45.734Z"
   },
   {
    "duration": 11,
    "start_time": "2025-04-21T01:58:00.921Z"
   },
   {
    "duration": 10,
    "start_time": "2025-04-21T01:58:29.402Z"
   },
   {
    "duration": 9,
    "start_time": "2025-04-21T02:10:18.072Z"
   },
   {
    "duration": 879,
    "start_time": "2025-04-21T02:42:37.871Z"
   },
   {
    "duration": 399,
    "start_time": "2025-04-21T02:42:38.752Z"
   },
   {
    "duration": 40,
    "start_time": "2025-04-21T02:42:39.152Z"
   },
   {
    "duration": 367,
    "start_time": "2025-04-21T02:42:39.195Z"
   },
   {
    "duration": 94,
    "start_time": "2025-04-21T02:42:39.563Z"
   },
   {
    "duration": 268,
    "start_time": "2025-04-21T02:42:39.659Z"
   },
   {
    "duration": 228,
    "start_time": "2025-04-21T02:42:39.929Z"
   },
   {
    "duration": 92,
    "start_time": "2025-04-21T02:42:40.158Z"
   },
   {
    "duration": 3,
    "start_time": "2025-04-21T02:42:40.251Z"
   },
   {
    "duration": 46,
    "start_time": "2025-04-21T02:42:40.256Z"
   },
   {
    "duration": 3,
    "start_time": "2025-04-21T02:42:40.304Z"
   },
   {
    "duration": 9,
    "start_time": "2025-04-21T02:42:40.308Z"
   },
   {
    "duration": 10,
    "start_time": "2025-04-21T02:42:40.319Z"
   },
   {
    "duration": 3,
    "start_time": "2025-04-21T02:43:25.048Z"
   },
   {
    "duration": 9,
    "start_time": "2025-04-21T02:43:28.567Z"
   },
   {
    "duration": 9,
    "start_time": "2025-04-21T03:01:50.238Z"
   },
   {
    "duration": 9,
    "start_time": "2025-04-21T03:15:18.934Z"
   },
   {
    "duration": 6,
    "start_time": "2025-04-21T03:18:58.816Z"
   },
   {
    "duration": 6,
    "start_time": "2025-04-21T03:20:04.906Z"
   },
   {
    "duration": 6,
    "start_time": "2025-04-21T03:21:55.320Z"
   },
   {
    "duration": 6,
    "start_time": "2025-04-21T03:22:18.245Z"
   },
   {
    "duration": 6,
    "start_time": "2025-04-21T03:22:33.164Z"
   },
   {
    "duration": 317,
    "start_time": "2025-04-21T03:24:34.056Z"
   },
   {
    "duration": 10,
    "start_time": "2025-04-21T03:30:01.319Z"
   },
   {
    "duration": 357,
    "start_time": "2025-04-21T03:44:01.271Z"
   },
   {
    "duration": 4,
    "start_time": "2025-04-21T03:55:03.785Z"
   },
   {
    "duration": 23,
    "start_time": "2025-04-21T03:56:00.356Z"
   },
   {
    "duration": 31455,
    "start_time": "2025-04-21T03:57:29.902Z"
   },
   {
    "duration": 64375,
    "start_time": "2025-04-21T04:09:01.870Z"
   },
   {
    "duration": 182,
    "start_time": "2025-04-21T04:12:11.141Z"
   },
   {
    "duration": 30956,
    "start_time": "2025-04-21T04:23:54.785Z"
   },
   {
    "duration": 15460,
    "start_time": "2025-04-21T04:39:41.874Z"
   },
   {
    "duration": 10,
    "start_time": "2025-04-21T04:47:04.144Z"
   },
   {
    "duration": 13,
    "start_time": "2025-04-21T04:47:45.451Z"
   },
   {
    "duration": 68,
    "start_time": "2025-04-21T04:49:48.720Z"
   },
   {
    "duration": 868,
    "start_time": "2025-04-22T23:47:57.691Z"
   },
   {
    "duration": 471,
    "start_time": "2025-04-22T23:47:58.562Z"
   },
   {
    "duration": 33,
    "start_time": "2025-04-22T23:47:59.035Z"
   },
   {
    "duration": 373,
    "start_time": "2025-04-22T23:47:59.069Z"
   },
   {
    "duration": 103,
    "start_time": "2025-04-22T23:47:59.444Z"
   },
   {
    "duration": 259,
    "start_time": "2025-04-22T23:47:59.550Z"
   },
   {
    "duration": 232,
    "start_time": "2025-04-22T23:47:59.811Z"
   },
   {
    "duration": 94,
    "start_time": "2025-04-22T23:48:00.046Z"
   },
   {
    "duration": 2,
    "start_time": "2025-04-22T23:48:00.143Z"
   },
   {
    "duration": 33,
    "start_time": "2025-04-22T23:48:00.147Z"
   },
   {
    "duration": 4,
    "start_time": "2025-04-22T23:48:00.181Z"
   },
   {
    "duration": 62934,
    "start_time": "2025-04-22T23:48:00.187Z"
   },
   {
    "duration": 0,
    "start_time": "2025-04-22T23:49:03.122Z"
   },
   {
    "duration": 702,
    "start_time": "2025-04-23T00:52:54.112Z"
   },
   {
    "duration": 36,
    "start_time": "2025-04-23T00:53:20.873Z"
   },
   {
    "duration": 871,
    "start_time": "2025-04-23T00:53:41.167Z"
   },
   {
    "duration": 411,
    "start_time": "2025-04-23T00:53:42.040Z"
   },
   {
    "duration": 31,
    "start_time": "2025-04-23T00:53:42.452Z"
   },
   {
    "duration": 378,
    "start_time": "2025-04-23T00:53:42.484Z"
   },
   {
    "duration": 105,
    "start_time": "2025-04-23T00:53:42.864Z"
   },
   {
    "duration": 290,
    "start_time": "2025-04-23T00:53:42.970Z"
   },
   {
    "duration": 250,
    "start_time": "2025-04-23T00:53:43.263Z"
   },
   {
    "duration": 97,
    "start_time": "2025-04-23T00:53:43.515Z"
   },
   {
    "duration": 866,
    "start_time": "2025-04-23T00:53:43.613Z"
   },
   {
    "duration": 0,
    "start_time": "2025-04-23T00:53:44.481Z"
   },
   {
    "duration": 0,
    "start_time": "2025-04-23T00:53:44.482Z"
   },
   {
    "duration": 0,
    "start_time": "2025-04-23T00:53:44.483Z"
   },
   {
    "duration": 0,
    "start_time": "2025-04-23T00:53:44.485Z"
   },
   {
    "duration": 37,
    "start_time": "2025-04-23T00:54:47.349Z"
   },
   {
    "duration": 27,
    "start_time": "2025-04-23T00:55:34.106Z"
   },
   {
    "duration": 14,
    "start_time": "2025-04-23T00:55:42.325Z"
   },
   {
    "duration": 14,
    "start_time": "2025-04-23T00:59:35.345Z"
   },
   {
    "duration": 878,
    "start_time": "2025-04-23T01:00:03.748Z"
   },
   {
    "duration": 484,
    "start_time": "2025-04-23T01:00:04.629Z"
   },
   {
    "duration": 33,
    "start_time": "2025-04-23T01:00:05.116Z"
   },
   {
    "duration": 373,
    "start_time": "2025-04-23T01:00:05.151Z"
   },
   {
    "duration": 102,
    "start_time": "2025-04-23T01:00:05.526Z"
   },
   {
    "duration": 272,
    "start_time": "2025-04-23T01:00:05.629Z"
   },
   {
    "duration": 229,
    "start_time": "2025-04-23T01:00:05.903Z"
   },
   {
    "duration": 99,
    "start_time": "2025-04-23T01:00:06.135Z"
   },
   {
    "duration": 24,
    "start_time": "2025-04-23T01:00:06.236Z"
   },
   {
    "duration": 2,
    "start_time": "2025-04-23T01:00:06.262Z"
   },
   {
    "duration": 23,
    "start_time": "2025-04-23T01:00:06.266Z"
   },
   {
    "duration": 21,
    "start_time": "2025-04-23T01:00:06.291Z"
   },
   {
    "duration": 26046,
    "start_time": "2025-04-23T01:00:06.314Z"
   },
   {
    "duration": 0,
    "start_time": "2025-04-23T01:00:32.362Z"
   },
   {
    "duration": 0,
    "start_time": "2025-04-23T01:00:32.363Z"
   },
   {
    "duration": 0,
    "start_time": "2025-04-23T01:00:32.364Z"
   },
   {
    "duration": 901,
    "start_time": "2025-04-23T01:25:01.441Z"
   },
   {
    "duration": 416,
    "start_time": "2025-04-23T01:25:02.344Z"
   },
   {
    "duration": 32,
    "start_time": "2025-04-23T01:25:02.762Z"
   },
   {
    "duration": 373,
    "start_time": "2025-04-23T01:25:02.796Z"
   },
   {
    "duration": 99,
    "start_time": "2025-04-23T01:25:03.171Z"
   },
   {
    "duration": 258,
    "start_time": "2025-04-23T01:25:03.272Z"
   },
   {
    "duration": 229,
    "start_time": "2025-04-23T01:25:03.532Z"
   },
   {
    "duration": 95,
    "start_time": "2025-04-23T01:25:03.763Z"
   },
   {
    "duration": 23,
    "start_time": "2025-04-23T01:25:03.860Z"
   },
   {
    "duration": 2,
    "start_time": "2025-04-23T01:25:03.886Z"
   },
   {
    "duration": 39,
    "start_time": "2025-04-23T01:25:03.890Z"
   },
   {
    "duration": 4,
    "start_time": "2025-04-23T01:25:03.932Z"
   },
   {
    "duration": 25766,
    "start_time": "2025-04-23T01:25:03.938Z"
   },
   {
    "duration": 682,
    "start_time": "2025-04-23T01:29:40.651Z"
   },
   {
    "duration": 842,
    "start_time": "2025-04-23T01:30:56.274Z"
   },
   {
    "duration": 403,
    "start_time": "2025-04-23T01:30:57.118Z"
   },
   {
    "duration": 30,
    "start_time": "2025-04-23T01:30:57.523Z"
   },
   {
    "duration": 372,
    "start_time": "2025-04-23T01:30:57.555Z"
   },
   {
    "duration": 101,
    "start_time": "2025-04-23T01:30:57.930Z"
   },
   {
    "duration": 280,
    "start_time": "2025-04-23T01:30:58.033Z"
   },
   {
    "duration": 853,
    "start_time": "2025-04-23T01:31:01.579Z"
   },
   {
    "duration": 400,
    "start_time": "2025-04-23T01:31:02.434Z"
   },
   {
    "duration": 33,
    "start_time": "2025-04-23T01:31:02.836Z"
   },
   {
    "duration": 370,
    "start_time": "2025-04-23T01:31:02.871Z"
   },
   {
    "duration": 94,
    "start_time": "2025-04-23T01:31:03.244Z"
   },
   {
    "duration": 263,
    "start_time": "2025-04-23T01:31:03.340Z"
   },
   {
    "duration": 222,
    "start_time": "2025-04-23T01:31:03.604Z"
   },
   {
    "duration": 95,
    "start_time": "2025-04-23T01:31:03.828Z"
   },
   {
    "duration": 27,
    "start_time": "2025-04-23T01:31:03.925Z"
   },
   {
    "duration": 3,
    "start_time": "2025-04-23T01:31:03.954Z"
   },
   {
    "duration": 24,
    "start_time": "2025-04-23T01:31:03.958Z"
   },
   {
    "duration": 3,
    "start_time": "2025-04-23T01:31:03.985Z"
   },
   {
    "duration": 24077,
    "start_time": "2025-04-23T01:31:03.990Z"
   },
   {
    "duration": 0,
    "start_time": "2025-04-23T01:31:28.070Z"
   },
   {
    "duration": 0,
    "start_time": "2025-04-23T01:31:28.071Z"
   },
   {
    "duration": 0,
    "start_time": "2025-04-23T01:31:28.072Z"
   },
   {
    "duration": 0,
    "start_time": "2025-04-23T01:31:28.073Z"
   },
   {
    "duration": 416,
    "start_time": "2025-04-23T01:37:15.802Z"
   },
   {
    "duration": 367,
    "start_time": "2025-04-23T01:37:16.626Z"
   },
   {
    "duration": 893,
    "start_time": "2025-04-23T01:39:33.634Z"
   },
   {
    "duration": 415,
    "start_time": "2025-04-23T01:39:34.528Z"
   },
   {
    "duration": 32,
    "start_time": "2025-04-23T01:39:34.944Z"
   },
   {
    "duration": 392,
    "start_time": "2025-04-23T01:39:34.979Z"
   },
   {
    "duration": 99,
    "start_time": "2025-04-23T01:39:35.373Z"
   },
   {
    "duration": 268,
    "start_time": "2025-04-23T01:39:35.474Z"
   },
   {
    "duration": 235,
    "start_time": "2025-04-23T01:39:35.744Z"
   },
   {
    "duration": 91,
    "start_time": "2025-04-23T01:39:35.981Z"
   },
   {
    "duration": 17,
    "start_time": "2025-04-23T01:39:36.074Z"
   },
   {
    "duration": 39,
    "start_time": "2025-04-23T01:39:36.094Z"
   },
   {
    "duration": 3,
    "start_time": "2025-04-23T01:39:36.134Z"
   },
   {
    "duration": 27,
    "start_time": "2025-04-23T01:39:36.139Z"
   },
   {
    "duration": 4,
    "start_time": "2025-04-23T01:39:36.168Z"
   },
   {
    "duration": 27277,
    "start_time": "2025-04-23T01:39:36.174Z"
   },
   {
    "duration": 0,
    "start_time": "2025-04-23T01:40:03.453Z"
   },
   {
    "duration": 0,
    "start_time": "2025-04-23T01:40:03.455Z"
   },
   {
    "duration": 0,
    "start_time": "2025-04-23T01:40:03.456Z"
   },
   {
    "duration": 0,
    "start_time": "2025-04-23T01:40:03.458Z"
   },
   {
    "duration": 0,
    "start_time": "2025-04-23T01:40:03.459Z"
   },
   {
    "duration": 882,
    "start_time": "2025-04-23T01:58:43.439Z"
   },
   {
    "duration": 399,
    "start_time": "2025-04-23T01:58:45.826Z"
   },
   {
    "duration": 31,
    "start_time": "2025-04-23T01:58:46.227Z"
   },
   {
    "duration": 397,
    "start_time": "2025-04-23T01:58:46.260Z"
   },
   {
    "duration": 119,
    "start_time": "2025-04-23T01:58:46.660Z"
   },
   {
    "duration": 289,
    "start_time": "2025-04-23T01:58:46.783Z"
   },
   {
    "duration": 239,
    "start_time": "2025-04-23T01:58:47.074Z"
   },
   {
    "duration": 88,
    "start_time": "2025-04-23T01:58:47.316Z"
   },
   {
    "duration": 16,
    "start_time": "2025-04-23T01:58:47.412Z"
   },
   {
    "duration": 232,
    "start_time": "2025-04-23T01:58:47.430Z"
   },
   {
    "duration": 97,
    "start_time": "2025-04-23T01:58:47.664Z"
   },
   {
    "duration": 5,
    "start_time": "2025-04-23T01:58:47.763Z"
   },
   {
    "duration": 41,
    "start_time": "2025-04-23T01:58:47.770Z"
   },
   {
    "duration": 5,
    "start_time": "2025-04-23T01:58:47.813Z"
   },
   {
    "duration": 85187,
    "start_time": "2025-04-23T01:58:47.822Z"
   },
   {
    "duration": 908,
    "start_time": "2025-04-23T03:43:04.185Z"
   },
   {
    "duration": 465,
    "start_time": "2025-04-23T03:43:05.095Z"
   },
   {
    "duration": 33,
    "start_time": "2025-04-23T03:43:05.564Z"
   },
   {
    "duration": 385,
    "start_time": "2025-04-23T03:43:05.600Z"
   },
   {
    "duration": 99,
    "start_time": "2025-04-23T03:43:05.987Z"
   },
   {
    "duration": 275,
    "start_time": "2025-04-23T03:43:06.088Z"
   },
   {
    "duration": 234,
    "start_time": "2025-04-23T03:43:06.365Z"
   },
   {
    "duration": 92,
    "start_time": "2025-04-23T03:43:06.601Z"
   },
   {
    "duration": 17,
    "start_time": "2025-04-23T03:43:06.695Z"
   },
   {
    "duration": 243,
    "start_time": "2025-04-23T03:43:06.715Z"
   },
   {
    "duration": 91,
    "start_time": "2025-04-23T03:43:06.960Z"
   },
   {
    "duration": 3,
    "start_time": "2025-04-23T03:43:07.054Z"
   },
   {
    "duration": 29,
    "start_time": "2025-04-23T03:43:07.059Z"
   },
   {
    "duration": 4,
    "start_time": "2025-04-23T03:43:07.090Z"
   },
   {
    "duration": 100606,
    "start_time": "2025-04-23T03:43:07.095Z"
   },
   {
    "duration": 69,
    "start_time": "2025-04-23T03:49:23.318Z"
   },
   {
    "duration": 20,
    "start_time": "2025-04-23T03:50:22.709Z"
   },
   {
    "duration": 12,
    "start_time": "2025-04-23T03:50:32.218Z"
   },
   {
    "duration": 499,
    "start_time": "2025-04-23T03:53:35.085Z"
   },
   {
    "duration": 950,
    "start_time": "2025-04-23T03:53:45.580Z"
   },
   {
    "duration": 425,
    "start_time": "2025-04-23T03:53:46.532Z"
   },
   {
    "duration": 34,
    "start_time": "2025-04-23T03:53:46.959Z"
   },
   {
    "duration": 396,
    "start_time": "2025-04-23T03:53:46.994Z"
   },
   {
    "duration": 104,
    "start_time": "2025-04-23T03:53:47.393Z"
   },
   {
    "duration": 297,
    "start_time": "2025-04-23T03:53:47.500Z"
   },
   {
    "duration": 249,
    "start_time": "2025-04-23T03:53:47.799Z"
   },
   {
    "duration": 101,
    "start_time": "2025-04-23T03:53:48.050Z"
   },
   {
    "duration": 22,
    "start_time": "2025-04-23T03:53:48.152Z"
   },
   {
    "duration": 247,
    "start_time": "2025-04-23T03:53:48.176Z"
   },
   {
    "duration": 66,
    "start_time": "2025-04-23T03:53:48.425Z"
   },
   {
    "duration": 17,
    "start_time": "2025-04-23T03:53:48.493Z"
   },
   {
    "duration": 88,
    "start_time": "2025-04-23T03:53:48.512Z"
   },
   {
    "duration": 41,
    "start_time": "2025-04-23T03:53:48.604Z"
   },
   {
    "duration": 6,
    "start_time": "2025-04-23T03:53:48.647Z"
   },
   {
    "duration": 33,
    "start_time": "2025-04-23T03:53:48.655Z"
   },
   {
    "duration": 5,
    "start_time": "2025-04-23T03:53:48.689Z"
   },
   {
    "duration": 959,
    "start_time": "2025-04-23T03:55:40.333Z"
   },
   {
    "duration": 424,
    "start_time": "2025-04-23T03:55:41.295Z"
   },
   {
    "duration": 46,
    "start_time": "2025-04-23T03:55:41.721Z"
   },
   {
    "duration": 474,
    "start_time": "2025-04-23T03:55:41.769Z"
   },
   {
    "duration": 98,
    "start_time": "2025-04-23T03:55:42.247Z"
   },
   {
    "duration": 274,
    "start_time": "2025-04-23T03:55:42.350Z"
   },
   {
    "duration": 239,
    "start_time": "2025-04-23T03:55:42.626Z"
   },
   {
    "duration": 104,
    "start_time": "2025-04-23T03:55:42.867Z"
   },
   {
    "duration": 20,
    "start_time": "2025-04-23T03:55:42.974Z"
   },
   {
    "duration": 233,
    "start_time": "2025-04-23T03:55:42.995Z"
   },
   {
    "duration": 67,
    "start_time": "2025-04-23T03:55:43.230Z"
   },
   {
    "duration": 22,
    "start_time": "2025-04-23T03:55:43.299Z"
   },
   {
    "duration": 94,
    "start_time": "2025-04-23T03:55:43.323Z"
   },
   {
    "duration": 31,
    "start_time": "2025-04-23T03:55:43.421Z"
   },
   {
    "duration": 3,
    "start_time": "2025-04-23T03:55:43.454Z"
   },
   {
    "duration": 32,
    "start_time": "2025-04-23T03:55:43.459Z"
   },
   {
    "duration": 4,
    "start_time": "2025-04-23T03:55:43.493Z"
   },
   {
    "duration": 99112,
    "start_time": "2025-04-23T03:55:43.498Z"
   },
   {
    "duration": 823,
    "start_time": "2025-04-23T04:04:45.550Z"
   },
   {
    "duration": 875,
    "start_time": "2025-04-23T04:05:25.993Z"
   },
   {
    "duration": 413,
    "start_time": "2025-04-23T04:05:26.871Z"
   },
   {
    "duration": 33,
    "start_time": "2025-04-23T04:05:27.285Z"
   },
   {
    "duration": 379,
    "start_time": "2025-04-23T04:05:27.319Z"
   },
   {
    "duration": 97,
    "start_time": "2025-04-23T04:05:27.701Z"
   },
   {
    "duration": 266,
    "start_time": "2025-04-23T04:05:27.800Z"
   },
   {
    "duration": 237,
    "start_time": "2025-04-23T04:05:28.068Z"
   },
   {
    "duration": 93,
    "start_time": "2025-04-23T04:05:28.307Z"
   },
   {
    "duration": 16,
    "start_time": "2025-04-23T04:05:28.402Z"
   },
   {
    "duration": 240,
    "start_time": "2025-04-23T04:05:28.419Z"
   },
   {
    "duration": 61,
    "start_time": "2025-04-23T04:05:28.660Z"
   },
   {
    "duration": 24,
    "start_time": "2025-04-23T04:05:28.723Z"
   },
   {
    "duration": 62,
    "start_time": "2025-04-23T04:05:28.749Z"
   },
   {
    "duration": 42,
    "start_time": "2025-04-23T04:05:28.815Z"
   },
   {
    "duration": 3,
    "start_time": "2025-04-23T04:05:28.859Z"
   },
   {
    "duration": 28,
    "start_time": "2025-04-23T04:05:28.863Z"
   },
   {
    "duration": 4,
    "start_time": "2025-04-23T04:05:28.892Z"
   },
   {
    "duration": 23957,
    "start_time": "2025-04-23T04:05:28.897Z"
   },
   {
    "duration": 4,
    "start_time": "2025-04-23T04:11:05.428Z"
   },
   {
    "duration": 937,
    "start_time": "2025-04-23T04:17:32.948Z"
   },
   {
    "duration": 416,
    "start_time": "2025-04-23T04:17:33.888Z"
   },
   {
    "duration": 43,
    "start_time": "2025-04-23T04:17:34.306Z"
   },
   {
    "duration": 369,
    "start_time": "2025-04-23T04:17:34.351Z"
   },
   {
    "duration": 101,
    "start_time": "2025-04-23T04:17:34.723Z"
   },
   {
    "duration": 273,
    "start_time": "2025-04-23T04:17:34.826Z"
   },
   {
    "duration": 243,
    "start_time": "2025-04-23T04:17:35.100Z"
   },
   {
    "duration": 85,
    "start_time": "2025-04-23T04:17:35.345Z"
   },
   {
    "duration": 25,
    "start_time": "2025-04-23T04:17:35.432Z"
   },
   {
    "duration": 226,
    "start_time": "2025-04-23T04:17:35.460Z"
   },
   {
    "duration": 69,
    "start_time": "2025-04-23T04:17:35.688Z"
   },
   {
    "duration": 18,
    "start_time": "2025-04-23T04:17:35.759Z"
   },
   {
    "duration": 76,
    "start_time": "2025-04-23T04:17:35.779Z"
   },
   {
    "duration": 29,
    "start_time": "2025-04-23T04:17:35.857Z"
   },
   {
    "duration": 29,
    "start_time": "2025-04-23T04:17:35.887Z"
   },
   {
    "duration": 4,
    "start_time": "2025-04-23T04:17:35.918Z"
   },
   {
    "duration": 4,
    "start_time": "2025-04-23T04:17:35.944Z"
   },
   {
    "duration": 27,
    "start_time": "2025-04-23T04:17:35.951Z"
   },
   {
    "duration": 4,
    "start_time": "2025-04-23T04:17:35.979Z"
   },
   {
    "duration": 24786,
    "start_time": "2025-04-23T04:17:35.984Z"
   },
   {
    "duration": 21,
    "start_time": "2025-04-23T04:21:09.811Z"
   },
   {
    "duration": 3,
    "start_time": "2025-04-23T04:21:10.477Z"
   },
   {
    "duration": 516,
    "start_time": "2025-04-23T04:25:39.970Z"
   },
   {
    "duration": 0,
    "start_time": "2025-04-23T04:25:40.488Z"
   },
   {
    "duration": 0,
    "start_time": "2025-04-23T04:25:40.490Z"
   },
   {
    "duration": 877,
    "start_time": "2025-04-23T04:26:19.803Z"
   },
   {
    "duration": 409,
    "start_time": "2025-04-23T04:26:20.683Z"
   },
   {
    "duration": 31,
    "start_time": "2025-04-23T04:26:21.094Z"
   },
   {
    "duration": 379,
    "start_time": "2025-04-23T04:26:21.127Z"
   },
   {
    "duration": 99,
    "start_time": "2025-04-23T04:26:21.509Z"
   },
   {
    "duration": 271,
    "start_time": "2025-04-23T04:26:21.610Z"
   },
   {
    "duration": 225,
    "start_time": "2025-04-23T04:26:21.883Z"
   },
   {
    "duration": 95,
    "start_time": "2025-04-23T04:26:22.110Z"
   },
   {
    "duration": 16,
    "start_time": "2025-04-23T04:26:22.208Z"
   },
   {
    "duration": 240,
    "start_time": "2025-04-23T04:26:22.225Z"
   },
   {
    "duration": 67,
    "start_time": "2025-04-23T04:26:22.466Z"
   },
   {
    "duration": 22,
    "start_time": "2025-04-23T04:26:22.535Z"
   },
   {
    "duration": 62,
    "start_time": "2025-04-23T04:26:22.559Z"
   },
   {
    "duration": 45,
    "start_time": "2025-04-23T04:26:22.624Z"
   },
   {
    "duration": 29,
    "start_time": "2025-04-23T04:26:22.671Z"
   },
   {
    "duration": 5,
    "start_time": "2025-04-23T04:26:22.701Z"
   },
   {
    "duration": 3,
    "start_time": "2025-04-23T04:26:22.707Z"
   },
   {
    "duration": 51,
    "start_time": "2025-04-23T04:26:22.711Z"
   },
   {
    "duration": 4,
    "start_time": "2025-04-23T04:26:22.764Z"
   },
   {
    "duration": 23071,
    "start_time": "2025-04-23T04:26:22.770Z"
   },
   {
    "duration": 59,
    "start_time": "2025-04-23T04:34:54.781Z"
   },
   {
    "duration": 45,
    "start_time": "2025-04-23T04:41:35.619Z"
   },
   {
    "duration": 15,
    "start_time": "2025-04-23T04:42:48.137Z"
   },
   {
    "duration": 63,
    "start_time": "2025-04-23T04:43:21.877Z"
   },
   {
    "duration": 63,
    "start_time": "2025-04-23T04:43:37.337Z"
   },
   {
    "duration": 880,
    "start_time": "2025-04-23T17:32:41.391Z"
   },
   {
    "duration": 453,
    "start_time": "2025-04-23T17:32:42.273Z"
   },
   {
    "duration": 34,
    "start_time": "2025-04-23T17:32:42.728Z"
   },
   {
    "duration": 390,
    "start_time": "2025-04-23T17:32:42.765Z"
   },
   {
    "duration": 96,
    "start_time": "2025-04-23T17:32:43.157Z"
   },
   {
    "duration": 269,
    "start_time": "2025-04-23T17:32:43.255Z"
   },
   {
    "duration": 235,
    "start_time": "2025-04-23T17:32:43.526Z"
   },
   {
    "duration": 97,
    "start_time": "2025-04-23T17:32:43.763Z"
   },
   {
    "duration": 17,
    "start_time": "2025-04-23T17:32:43.861Z"
   },
   {
    "duration": 234,
    "start_time": "2025-04-23T17:32:43.881Z"
   },
   {
    "duration": 69,
    "start_time": "2025-04-23T17:32:44.117Z"
   },
   {
    "duration": 17,
    "start_time": "2025-04-23T17:32:44.187Z"
   },
   {
    "duration": 74,
    "start_time": "2025-04-23T17:32:44.205Z"
   },
   {
    "duration": 25,
    "start_time": "2025-04-23T17:32:44.281Z"
   },
   {
    "duration": 41,
    "start_time": "2025-04-23T17:32:44.308Z"
   },
   {
    "duration": 5,
    "start_time": "2025-04-23T17:32:44.350Z"
   },
   {
    "duration": 2,
    "start_time": "2025-04-23T17:32:44.357Z"
   },
   {
    "duration": 25,
    "start_time": "2025-04-23T17:32:44.360Z"
   },
   {
    "duration": 3,
    "start_time": "2025-04-23T17:32:44.387Z"
   },
   {
    "duration": 86,
    "start_time": "2025-04-23T17:32:44.392Z"
   },
   {
    "duration": 44,
    "start_time": "2025-04-23T17:32:44.480Z"
   },
   {
    "duration": 23,
    "start_time": "2025-04-23T17:32:44.526Z"
   },
   {
    "duration": 60,
    "start_time": "2025-04-23T17:32:44.550Z"
   },
   {
    "duration": 3,
    "start_time": "2025-04-23T17:32:44.612Z"
   },
   {
    "duration": 895,
    "start_time": "2025-04-23T18:02:27.419Z"
   },
   {
    "duration": 462,
    "start_time": "2025-04-23T18:02:28.316Z"
   },
   {
    "duration": 31,
    "start_time": "2025-04-23T18:02:28.781Z"
   },
   {
    "duration": 386,
    "start_time": "2025-04-23T18:02:28.813Z"
   },
   {
    "duration": 95,
    "start_time": "2025-04-23T18:02:29.202Z"
   },
   {
    "duration": 252,
    "start_time": "2025-04-23T18:02:29.300Z"
   },
   {
    "duration": 246,
    "start_time": "2025-04-23T18:02:29.553Z"
   },
   {
    "duration": 94,
    "start_time": "2025-04-23T18:02:29.803Z"
   },
   {
    "duration": 31,
    "start_time": "2025-04-23T18:02:29.899Z"
   },
   {
    "duration": 228,
    "start_time": "2025-04-23T18:02:29.932Z"
   },
   {
    "duration": 67,
    "start_time": "2025-04-23T18:02:30.162Z"
   },
   {
    "duration": 18,
    "start_time": "2025-04-23T18:02:30.231Z"
   },
   {
    "duration": 62,
    "start_time": "2025-04-23T18:02:30.250Z"
   },
   {
    "duration": 28,
    "start_time": "2025-04-23T18:02:30.326Z"
   },
   {
    "duration": 29,
    "start_time": "2025-04-23T18:02:30.355Z"
   },
   {
    "duration": 5,
    "start_time": "2025-04-23T18:02:30.386Z"
   },
   {
    "duration": 2,
    "start_time": "2025-04-23T18:02:30.392Z"
   },
   {
    "duration": 26,
    "start_time": "2025-04-23T18:02:30.423Z"
   },
   {
    "duration": 3,
    "start_time": "2025-04-23T18:02:30.451Z"
   },
   {
    "duration": 74,
    "start_time": "2025-04-23T18:02:30.456Z"
   },
   {
    "duration": 43,
    "start_time": "2025-04-23T18:02:30.532Z"
   },
   {
    "duration": 14,
    "start_time": "2025-04-23T18:02:30.577Z"
   },
   {
    "duration": 69,
    "start_time": "2025-04-23T18:02:30.593Z"
   },
   {
    "duration": 3,
    "start_time": "2025-04-23T18:02:30.664Z"
   },
   {
    "duration": 12,
    "start_time": "2025-04-23T18:05:17.425Z"
   },
   {
    "duration": 84,
    "start_time": "2025-04-23T18:07:41.642Z"
   },
   {
    "duration": 5,
    "start_time": "2025-04-23T18:11:11.192Z"
   },
   {
    "duration": 846,
    "start_time": "2025-04-23T18:36:10.415Z"
   },
   {
    "duration": 406,
    "start_time": "2025-04-23T18:36:11.264Z"
   },
   {
    "duration": 29,
    "start_time": "2025-04-23T18:36:11.672Z"
   },
   {
    "duration": 378,
    "start_time": "2025-04-23T18:36:11.703Z"
   },
   {
    "duration": 101,
    "start_time": "2025-04-23T18:36:12.085Z"
   },
   {
    "duration": 255,
    "start_time": "2025-04-23T18:36:12.188Z"
   },
   {
    "duration": 232,
    "start_time": "2025-04-23T18:36:12.445Z"
   },
   {
    "duration": 90,
    "start_time": "2025-04-23T18:36:12.679Z"
   },
   {
    "duration": 17,
    "start_time": "2025-04-23T18:36:12.770Z"
   },
   {
    "duration": 236,
    "start_time": "2025-04-23T18:36:12.788Z"
   },
   {
    "duration": 65,
    "start_time": "2025-04-23T18:36:13.025Z"
   },
   {
    "duration": 16,
    "start_time": "2025-04-23T18:36:13.091Z"
   },
   {
    "duration": 73,
    "start_time": "2025-04-23T18:36:13.108Z"
   },
   {
    "duration": 25,
    "start_time": "2025-04-23T18:36:13.184Z"
   },
   {
    "duration": 28,
    "start_time": "2025-04-23T18:36:13.224Z"
   },
   {
    "duration": 4,
    "start_time": "2025-04-23T18:36:13.254Z"
   },
   {
    "duration": 3,
    "start_time": "2025-04-23T18:36:13.259Z"
   },
   {
    "duration": 25,
    "start_time": "2025-04-23T18:36:13.263Z"
   },
   {
    "duration": 4,
    "start_time": "2025-04-23T18:36:13.289Z"
   },
   {
    "duration": 90,
    "start_time": "2025-04-23T18:36:13.295Z"
   },
   {
    "duration": 52,
    "start_time": "2025-04-23T18:36:13.387Z"
   },
   {
    "duration": 14,
    "start_time": "2025-04-23T18:36:13.441Z"
   },
   {
    "duration": 72,
    "start_time": "2025-04-23T18:36:13.456Z"
   },
   {
    "duration": 11,
    "start_time": "2025-04-23T18:36:13.530Z"
   },
   {
    "duration": 88,
    "start_time": "2025-04-23T18:36:13.542Z"
   },
   {
    "duration": 254,
    "start_time": "2025-04-23T18:36:13.632Z"
   },
   {
    "duration": 927,
    "start_time": "2025-04-23T18:37:18.585Z"
   },
   {
    "duration": 440,
    "start_time": "2025-04-23T18:37:19.514Z"
   },
   {
    "duration": 33,
    "start_time": "2025-04-23T18:37:19.956Z"
   },
   {
    "duration": 406,
    "start_time": "2025-04-23T18:37:19.991Z"
   },
   {
    "duration": 98,
    "start_time": "2025-04-23T18:37:20.400Z"
   },
   {
    "duration": 283,
    "start_time": "2025-04-23T18:37:20.499Z"
   },
   {
    "duration": 246,
    "start_time": "2025-04-23T18:37:20.784Z"
   },
   {
    "duration": 97,
    "start_time": "2025-04-23T18:37:21.032Z"
   },
   {
    "duration": 17,
    "start_time": "2025-04-23T18:37:21.132Z"
   },
   {
    "duration": 244,
    "start_time": "2025-04-23T18:37:21.151Z"
   },
   {
    "duration": 75,
    "start_time": "2025-04-23T18:37:21.397Z"
   },
   {
    "duration": 16,
    "start_time": "2025-04-23T18:37:21.474Z"
   },
   {
    "duration": 79,
    "start_time": "2025-04-23T18:37:21.492Z"
   },
   {
    "duration": 27,
    "start_time": "2025-04-23T18:37:21.574Z"
   },
   {
    "duration": 38,
    "start_time": "2025-04-23T18:37:21.602Z"
   },
   {
    "duration": 5,
    "start_time": "2025-04-23T18:37:21.642Z"
   },
   {
    "duration": 2,
    "start_time": "2025-04-23T18:37:21.649Z"
   },
   {
    "duration": 26,
    "start_time": "2025-04-23T18:37:21.653Z"
   },
   {
    "duration": 4,
    "start_time": "2025-04-23T18:37:21.680Z"
   },
   {
    "duration": 86,
    "start_time": "2025-04-23T18:37:21.685Z"
   },
   {
    "duration": 53,
    "start_time": "2025-04-23T18:37:21.773Z"
   },
   {
    "duration": 15,
    "start_time": "2025-04-23T18:37:21.828Z"
   },
   {
    "duration": 85,
    "start_time": "2025-04-23T18:37:21.845Z"
   },
   {
    "duration": 14,
    "start_time": "2025-04-23T18:37:21.934Z"
   },
   {
    "duration": 96,
    "start_time": "2025-04-23T18:37:21.950Z"
   },
   {
    "duration": 261,
    "start_time": "2025-04-23T18:37:22.048Z"
   },
   {
    "duration": 956,
    "start_time": "2025-04-23T18:38:56.451Z"
   },
   {
    "duration": 397,
    "start_time": "2025-04-23T18:38:57.409Z"
   },
   {
    "duration": 40,
    "start_time": "2025-04-23T18:38:57.807Z"
   },
   {
    "duration": 369,
    "start_time": "2025-04-23T18:38:57.849Z"
   },
   {
    "duration": 103,
    "start_time": "2025-04-23T18:38:58.221Z"
   },
   {
    "duration": 273,
    "start_time": "2025-04-23T18:38:58.326Z"
   },
   {
    "duration": 229,
    "start_time": "2025-04-23T18:38:58.601Z"
   },
   {
    "duration": 92,
    "start_time": "2025-04-23T18:38:58.833Z"
   },
   {
    "duration": 17,
    "start_time": "2025-04-23T18:38:58.928Z"
   },
   {
    "duration": 237,
    "start_time": "2025-04-23T18:38:58.946Z"
   },
   {
    "duration": 62,
    "start_time": "2025-04-23T18:38:59.185Z"
   },
   {
    "duration": 16,
    "start_time": "2025-04-23T18:38:59.248Z"
   },
   {
    "duration": 73,
    "start_time": "2025-04-23T18:38:59.265Z"
   },
   {
    "duration": 26,
    "start_time": "2025-04-23T18:38:59.342Z"
   },
   {
    "duration": 28,
    "start_time": "2025-04-23T18:38:59.370Z"
   },
   {
    "duration": 24,
    "start_time": "2025-04-23T18:38:59.400Z"
   },
   {
    "duration": 2,
    "start_time": "2025-04-23T18:38:59.425Z"
   },
   {
    "duration": 27,
    "start_time": "2025-04-23T18:38:59.429Z"
   },
   {
    "duration": 4,
    "start_time": "2025-04-23T18:38:59.458Z"
   },
   {
    "duration": 79,
    "start_time": "2025-04-23T18:38:59.463Z"
   },
   {
    "duration": 52,
    "start_time": "2025-04-23T18:38:59.544Z"
   },
   {
    "duration": 32,
    "start_time": "2025-04-23T18:38:59.598Z"
   },
   {
    "duration": 60,
    "start_time": "2025-04-23T18:38:59.632Z"
   },
   {
    "duration": 13,
    "start_time": "2025-04-23T18:38:59.694Z"
   },
   {
    "duration": 94,
    "start_time": "2025-04-23T18:38:59.709Z"
   },
   {
    "duration": 265,
    "start_time": "2025-04-23T18:38:59.805Z"
   },
   {
    "duration": 889,
    "start_time": "2025-04-23T18:40:30.741Z"
   },
   {
    "duration": 407,
    "start_time": "2025-04-23T18:40:31.633Z"
   },
   {
    "duration": 33,
    "start_time": "2025-04-23T18:40:32.043Z"
   },
   {
    "duration": 385,
    "start_time": "2025-04-23T18:40:32.078Z"
   },
   {
    "duration": 94,
    "start_time": "2025-04-23T18:40:32.465Z"
   },
   {
    "duration": 271,
    "start_time": "2025-04-23T18:40:32.560Z"
   },
   {
    "duration": 256,
    "start_time": "2025-04-23T18:40:32.833Z"
   },
   {
    "duration": 90,
    "start_time": "2025-04-23T18:40:33.091Z"
   },
   {
    "duration": 17,
    "start_time": "2025-04-23T18:40:33.183Z"
   },
   {
    "duration": 233,
    "start_time": "2025-04-23T18:40:33.203Z"
   },
   {
    "duration": 61,
    "start_time": "2025-04-23T18:40:33.438Z"
   },
   {
    "duration": 24,
    "start_time": "2025-04-23T18:40:33.501Z"
   },
   {
    "duration": 60,
    "start_time": "2025-04-23T18:40:33.527Z"
   },
   {
    "duration": 37,
    "start_time": "2025-04-23T18:40:33.589Z"
   },
   {
    "duration": 29,
    "start_time": "2025-04-23T18:40:33.628Z"
   },
   {
    "duration": 5,
    "start_time": "2025-04-23T18:40:33.659Z"
   },
   {
    "duration": 3,
    "start_time": "2025-04-23T18:40:33.665Z"
   },
   {
    "duration": 25,
    "start_time": "2025-04-23T18:40:33.669Z"
   },
   {
    "duration": 31,
    "start_time": "2025-04-23T18:40:33.696Z"
   },
   {
    "duration": 60,
    "start_time": "2025-04-23T18:40:33.729Z"
   },
   {
    "duration": 56,
    "start_time": "2025-04-23T18:40:33.791Z"
   },
   {
    "duration": 20,
    "start_time": "2025-04-23T18:40:33.849Z"
   },
   {
    "duration": 66,
    "start_time": "2025-04-23T18:40:33.870Z"
   },
   {
    "duration": 12,
    "start_time": "2025-04-23T18:40:33.938Z"
   },
   {
    "duration": 99,
    "start_time": "2025-04-23T18:40:33.952Z"
   },
   {
    "duration": 624,
    "start_time": "2025-04-23T18:40:34.053Z"
   },
   {
    "duration": 850,
    "start_time": "2025-04-23T18:58:32.991Z"
   },
   {
    "duration": 415,
    "start_time": "2025-04-23T18:58:33.843Z"
   },
   {
    "duration": 31,
    "start_time": "2025-04-23T18:58:34.260Z"
   },
   {
    "duration": 374,
    "start_time": "2025-04-23T18:58:34.292Z"
   },
   {
    "duration": 95,
    "start_time": "2025-04-23T18:58:34.669Z"
   },
   {
    "duration": 283,
    "start_time": "2025-04-23T18:58:34.765Z"
   },
   {
    "duration": 243,
    "start_time": "2025-04-23T18:58:35.050Z"
   },
   {
    "duration": 97,
    "start_time": "2025-04-23T18:58:35.295Z"
   },
   {
    "duration": 17,
    "start_time": "2025-04-23T18:58:35.394Z"
   },
   {
    "duration": 237,
    "start_time": "2025-04-23T18:58:35.412Z"
   },
   {
    "duration": 59,
    "start_time": "2025-04-23T18:58:35.651Z"
   },
   {
    "duration": 23,
    "start_time": "2025-04-23T18:58:35.712Z"
   },
   {
    "duration": 62,
    "start_time": "2025-04-23T18:58:35.737Z"
   },
   {
    "duration": 39,
    "start_time": "2025-04-23T18:58:35.803Z"
   },
   {
    "duration": 28,
    "start_time": "2025-04-23T18:58:35.844Z"
   },
   {
    "duration": 5,
    "start_time": "2025-04-23T18:58:35.875Z"
   },
   {
    "duration": 2,
    "start_time": "2025-04-23T18:58:35.882Z"
   },
   {
    "duration": 54,
    "start_time": "2025-04-23T18:58:35.886Z"
   },
   {
    "duration": 4,
    "start_time": "2025-04-23T18:58:35.941Z"
   },
   {
    "duration": 60,
    "start_time": "2025-04-23T18:58:35.947Z"
   },
   {
    "duration": 56,
    "start_time": "2025-04-23T18:58:36.009Z"
   },
   {
    "duration": 15,
    "start_time": "2025-04-23T18:58:36.066Z"
   },
   {
    "duration": 73,
    "start_time": "2025-04-23T18:58:36.083Z"
   },
   {
    "duration": 12,
    "start_time": "2025-04-23T18:58:36.158Z"
   },
   {
    "duration": 98,
    "start_time": "2025-04-23T18:58:36.171Z"
   },
   {
    "duration": 630,
    "start_time": "2025-04-23T18:58:36.271Z"
   },
   {
    "duration": 849,
    "start_time": "2025-04-23T19:07:35.991Z"
   },
   {
    "duration": 402,
    "start_time": "2025-04-23T19:07:36.843Z"
   },
   {
    "duration": 32,
    "start_time": "2025-04-23T19:07:37.247Z"
   },
   {
    "duration": 376,
    "start_time": "2025-04-23T19:07:37.281Z"
   },
   {
    "duration": 97,
    "start_time": "2025-04-23T19:07:37.660Z"
   },
   {
    "duration": 277,
    "start_time": "2025-04-23T19:07:37.758Z"
   },
   {
    "duration": 236,
    "start_time": "2025-04-23T19:07:38.037Z"
   },
   {
    "duration": 97,
    "start_time": "2025-04-23T19:07:38.275Z"
   },
   {
    "duration": 17,
    "start_time": "2025-04-23T19:07:38.376Z"
   },
   {
    "duration": 238,
    "start_time": "2025-04-23T19:07:38.394Z"
   },
   {
    "duration": 63,
    "start_time": "2025-04-23T19:07:38.634Z"
   },
   {
    "duration": 29,
    "start_time": "2025-04-23T19:07:38.699Z"
   },
   {
    "duration": 66,
    "start_time": "2025-04-23T19:07:38.730Z"
   },
   {
    "duration": 41,
    "start_time": "2025-04-23T19:07:38.800Z"
   },
   {
    "duration": 30,
    "start_time": "2025-04-23T19:07:38.842Z"
   },
   {
    "duration": 5,
    "start_time": "2025-04-23T19:07:38.874Z"
   },
   {
    "duration": 2,
    "start_time": "2025-04-23T19:07:38.881Z"
   },
   {
    "duration": 50,
    "start_time": "2025-04-23T19:07:38.885Z"
   },
   {
    "duration": 4,
    "start_time": "2025-04-23T19:07:38.937Z"
   },
   {
    "duration": 61,
    "start_time": "2025-04-23T19:07:38.943Z"
   },
   {
    "duration": 61,
    "start_time": "2025-04-23T19:07:39.005Z"
   },
   {
    "duration": 15,
    "start_time": "2025-04-23T19:07:39.068Z"
   },
   {
    "duration": 74,
    "start_time": "2025-04-23T19:07:39.084Z"
   },
   {
    "duration": 12,
    "start_time": "2025-04-23T19:07:39.160Z"
   },
   {
    "duration": 96,
    "start_time": "2025-04-23T19:07:39.174Z"
   },
   {
    "duration": 697,
    "start_time": "2025-04-23T19:07:39.272Z"
   },
   {
    "duration": 863,
    "start_time": "2025-04-23T19:37:34.868Z"
   },
   {
    "duration": 405,
    "start_time": "2025-04-23T19:37:35.733Z"
   },
   {
    "duration": 33,
    "start_time": "2025-04-23T19:37:36.140Z"
   },
   {
    "duration": 368,
    "start_time": "2025-04-23T19:37:36.175Z"
   },
   {
    "duration": 96,
    "start_time": "2025-04-23T19:37:36.546Z"
   },
   {
    "duration": 270,
    "start_time": "2025-04-23T19:37:36.644Z"
   },
   {
    "duration": 232,
    "start_time": "2025-04-23T19:37:36.916Z"
   },
   {
    "duration": 96,
    "start_time": "2025-04-23T19:37:37.150Z"
   },
   {
    "duration": 17,
    "start_time": "2025-04-23T19:37:37.251Z"
   },
   {
    "duration": 239,
    "start_time": "2025-04-23T19:37:37.270Z"
   },
   {
    "duration": 68,
    "start_time": "2025-04-23T19:37:37.510Z"
   },
   {
    "duration": 16,
    "start_time": "2025-04-23T19:37:37.580Z"
   },
   {
    "duration": 72,
    "start_time": "2025-04-23T19:37:37.597Z"
   },
   {
    "duration": 26,
    "start_time": "2025-04-23T19:37:37.672Z"
   },
   {
    "duration": 40,
    "start_time": "2025-04-23T19:37:37.700Z"
   },
   {
    "duration": 5,
    "start_time": "2025-04-23T19:37:37.742Z"
   },
   {
    "duration": 2,
    "start_time": "2025-04-23T19:37:37.749Z"
   },
   {
    "duration": 26,
    "start_time": "2025-04-23T19:37:37.753Z"
   },
   {
    "duration": 4,
    "start_time": "2025-04-23T19:37:37.781Z"
   },
   {
    "duration": 87,
    "start_time": "2025-04-23T19:37:37.787Z"
   },
   {
    "duration": 52,
    "start_time": "2025-04-23T19:37:37.876Z"
   },
   {
    "duration": 15,
    "start_time": "2025-04-23T19:37:37.932Z"
   },
   {
    "duration": 61,
    "start_time": "2025-04-23T19:37:37.948Z"
   },
   {
    "duration": 21,
    "start_time": "2025-04-23T19:37:38.011Z"
   },
   {
    "duration": 78,
    "start_time": "2025-04-23T19:37:38.034Z"
   },
   {
    "duration": 24,
    "start_time": "2025-04-23T19:37:38.114Z"
   },
   {
    "duration": 874,
    "start_time": "2025-04-23T19:40:07.361Z"
   },
   {
    "duration": 400,
    "start_time": "2025-04-23T19:40:08.237Z"
   },
   {
    "duration": 33,
    "start_time": "2025-04-23T19:40:08.639Z"
   },
   {
    "duration": 382,
    "start_time": "2025-04-23T19:40:08.674Z"
   },
   {
    "duration": 100,
    "start_time": "2025-04-23T19:40:09.060Z"
   },
   {
    "duration": 268,
    "start_time": "2025-04-23T19:40:09.162Z"
   },
   {
    "duration": 230,
    "start_time": "2025-04-23T19:40:09.432Z"
   },
   {
    "duration": 100,
    "start_time": "2025-04-23T19:40:09.664Z"
   },
   {
    "duration": 17,
    "start_time": "2025-04-23T19:40:09.766Z"
   },
   {
    "duration": 242,
    "start_time": "2025-04-23T19:40:09.785Z"
   },
   {
    "duration": 67,
    "start_time": "2025-04-23T19:40:10.029Z"
   },
   {
    "duration": 15,
    "start_time": "2025-04-23T19:40:10.098Z"
   },
   {
    "duration": 61,
    "start_time": "2025-04-23T19:40:10.125Z"
   },
   {
    "duration": 38,
    "start_time": "2025-04-23T19:40:10.189Z"
   },
   {
    "duration": 31,
    "start_time": "2025-04-23T19:40:10.230Z"
   },
   {
    "duration": 5,
    "start_time": "2025-04-23T19:40:10.263Z"
   },
   {
    "duration": 3,
    "start_time": "2025-04-23T19:40:10.269Z"
   },
   {
    "duration": 25,
    "start_time": "2025-04-23T19:40:10.274Z"
   },
   {
    "duration": 24,
    "start_time": "2025-04-23T19:40:10.300Z"
   },
   {
    "duration": 64,
    "start_time": "2025-04-23T19:40:10.326Z"
   },
   {
    "duration": 56,
    "start_time": "2025-04-23T19:40:10.391Z"
   },
   {
    "duration": 14,
    "start_time": "2025-04-23T19:40:10.449Z"
   },
   {
    "duration": 69,
    "start_time": "2025-04-23T19:40:10.465Z"
   },
   {
    "duration": 12,
    "start_time": "2025-04-23T19:40:10.535Z"
   },
   {
    "duration": 91,
    "start_time": "2025-04-23T19:40:10.549Z"
   },
   {
    "duration": 15,
    "start_time": "2025-04-23T19:40:10.641Z"
   },
   {
    "duration": 1032,
    "start_time": "2025-04-23T19:41:39.162Z"
   },
   {
    "duration": 529,
    "start_time": "2025-04-23T19:41:40.196Z"
   },
   {
    "duration": 33,
    "start_time": "2025-04-23T19:41:40.728Z"
   },
   {
    "duration": 418,
    "start_time": "2025-04-23T19:41:40.763Z"
   },
   {
    "duration": 104,
    "start_time": "2025-04-23T19:41:41.184Z"
   },
   {
    "duration": 292,
    "start_time": "2025-04-23T19:41:41.290Z"
   },
   {
    "duration": 232,
    "start_time": "2025-04-23T19:41:41.584Z"
   },
   {
    "duration": 87,
    "start_time": "2025-04-23T19:41:41.824Z"
   },
   {
    "duration": 26,
    "start_time": "2025-04-23T19:41:41.913Z"
   },
   {
    "duration": 234,
    "start_time": "2025-04-23T19:41:41.941Z"
   },
   {
    "duration": 66,
    "start_time": "2025-04-23T19:41:42.177Z"
   },
   {
    "duration": 17,
    "start_time": "2025-04-23T19:41:42.245Z"
   },
   {
    "duration": 74,
    "start_time": "2025-04-23T19:41:42.263Z"
   },
   {
    "duration": 26,
    "start_time": "2025-04-23T19:41:42.341Z"
   },
   {
    "duration": 28,
    "start_time": "2025-04-23T19:41:42.369Z"
   },
   {
    "duration": 5,
    "start_time": "2025-04-23T19:41:42.399Z"
   },
   {
    "duration": 4,
    "start_time": "2025-04-23T19:41:42.425Z"
   },
   {
    "duration": 26,
    "start_time": "2025-04-23T19:41:42.431Z"
   },
   {
    "duration": 4,
    "start_time": "2025-04-23T19:41:42.458Z"
   },
   {
    "duration": 75,
    "start_time": "2025-04-23T19:41:42.463Z"
   },
   {
    "duration": 43,
    "start_time": "2025-04-23T19:41:42.540Z"
   },
   {
    "duration": 14,
    "start_time": "2025-04-23T19:41:42.585Z"
   },
   {
    "duration": 82,
    "start_time": "2025-04-23T19:41:42.601Z"
   },
   {
    "duration": 12,
    "start_time": "2025-04-23T19:41:42.684Z"
   },
   {
    "duration": 101,
    "start_time": "2025-04-23T19:41:42.698Z"
   },
   {
    "duration": 13,
    "start_time": "2025-04-23T19:41:42.801Z"
   },
   {
    "duration": 921,
    "start_time": "2025-04-23T19:46:07.635Z"
   },
   {
    "duration": 396,
    "start_time": "2025-04-23T19:46:08.559Z"
   },
   {
    "duration": 31,
    "start_time": "2025-04-23T19:46:08.957Z"
   },
   {
    "duration": 386,
    "start_time": "2025-04-23T19:46:08.989Z"
   },
   {
    "duration": 100,
    "start_time": "2025-04-23T19:46:09.378Z"
   },
   {
    "duration": 291,
    "start_time": "2025-04-23T19:46:09.480Z"
   },
   {
    "duration": 242,
    "start_time": "2025-04-23T19:46:09.774Z"
   },
   {
    "duration": 95,
    "start_time": "2025-04-23T19:46:10.017Z"
   },
   {
    "duration": 28,
    "start_time": "2025-04-23T19:46:10.114Z"
   },
   {
    "duration": 237,
    "start_time": "2025-04-23T19:46:10.144Z"
   },
   {
    "duration": 70,
    "start_time": "2025-04-23T19:46:10.382Z"
   },
   {
    "duration": 17,
    "start_time": "2025-04-23T19:46:10.454Z"
   },
   {
    "duration": 79,
    "start_time": "2025-04-23T19:46:10.473Z"
   },
   {
    "duration": 26,
    "start_time": "2025-04-23T19:46:10.555Z"
   },
   {
    "duration": 46,
    "start_time": "2025-04-23T19:46:10.583Z"
   },
   {
    "duration": 5,
    "start_time": "2025-04-23T19:46:10.631Z"
   },
   {
    "duration": 3,
    "start_time": "2025-04-23T19:46:10.637Z"
   },
   {
    "duration": 26,
    "start_time": "2025-04-23T19:46:10.642Z"
   },
   {
    "duration": 3,
    "start_time": "2025-04-23T19:46:10.670Z"
   },
   {
    "duration": 82,
    "start_time": "2025-04-23T19:46:10.675Z"
   },
   {
    "duration": 44,
    "start_time": "2025-04-23T19:46:10.759Z"
   },
   {
    "duration": 26,
    "start_time": "2025-04-23T19:46:10.805Z"
   },
   {
    "duration": 59,
    "start_time": "2025-04-23T19:46:10.833Z"
   },
   {
    "duration": 12,
    "start_time": "2025-04-23T19:46:10.893Z"
   },
   {
    "duration": 100,
    "start_time": "2025-04-23T19:46:10.907Z"
   },
   {
    "duration": 368,
    "start_time": "2025-04-23T19:46:11.009Z"
   },
   {
    "duration": 895,
    "start_time": "2025-04-23T19:47:19.931Z"
   },
   {
    "duration": 406,
    "start_time": "2025-04-23T19:47:20.828Z"
   },
   {
    "duration": 31,
    "start_time": "2025-04-23T19:47:21.237Z"
   },
   {
    "duration": 377,
    "start_time": "2025-04-23T19:47:21.270Z"
   },
   {
    "duration": 95,
    "start_time": "2025-04-23T19:47:21.650Z"
   },
   {
    "duration": 299,
    "start_time": "2025-04-23T19:47:21.747Z"
   },
   {
    "duration": 228,
    "start_time": "2025-04-23T19:47:22.048Z"
   },
   {
    "duration": 97,
    "start_time": "2025-04-23T19:47:22.278Z"
   },
   {
    "duration": 16,
    "start_time": "2025-04-23T19:47:22.378Z"
   },
   {
    "duration": 232,
    "start_time": "2025-04-23T19:47:22.396Z"
   },
   {
    "duration": 58,
    "start_time": "2025-04-23T19:47:22.630Z"
   },
   {
    "duration": 15,
    "start_time": "2025-04-23T19:47:22.690Z"
   },
   {
    "duration": 77,
    "start_time": "2025-04-23T19:47:22.707Z"
   },
   {
    "duration": 37,
    "start_time": "2025-04-23T19:47:22.788Z"
   },
   {
    "duration": 30,
    "start_time": "2025-04-23T19:47:22.826Z"
   },
   {
    "duration": 5,
    "start_time": "2025-04-23T19:47:22.857Z"
   },
   {
    "duration": 3,
    "start_time": "2025-04-23T19:47:22.864Z"
   },
   {
    "duration": 24,
    "start_time": "2025-04-23T19:47:22.870Z"
   },
   {
    "duration": 4,
    "start_time": "2025-04-23T19:47:22.896Z"
   },
   {
    "duration": 86,
    "start_time": "2025-04-23T19:47:22.901Z"
   },
   {
    "duration": 56,
    "start_time": "2025-04-23T19:47:22.989Z"
   },
   {
    "duration": 13,
    "start_time": "2025-04-23T19:47:23.047Z"
   },
   {
    "duration": 68,
    "start_time": "2025-04-23T19:47:23.062Z"
   },
   {
    "duration": 13,
    "start_time": "2025-04-23T19:47:23.131Z"
   },
   {
    "duration": 92,
    "start_time": "2025-04-23T19:47:23.146Z"
   },
   {
    "duration": 333,
    "start_time": "2025-04-23T19:47:23.240Z"
   },
   {
    "duration": 910,
    "start_time": "2025-04-23T19:48:31.131Z"
   },
   {
    "duration": 407,
    "start_time": "2025-04-23T19:48:32.043Z"
   },
   {
    "duration": 33,
    "start_time": "2025-04-23T19:48:32.452Z"
   },
   {
    "duration": 374,
    "start_time": "2025-04-23T19:48:32.487Z"
   },
   {
    "duration": 97,
    "start_time": "2025-04-23T19:48:32.864Z"
   },
   {
    "duration": 263,
    "start_time": "2025-04-23T19:48:32.963Z"
   },
   {
    "duration": 227,
    "start_time": "2025-04-23T19:48:33.227Z"
   },
   {
    "duration": 95,
    "start_time": "2025-04-23T19:48:33.455Z"
   },
   {
    "duration": 16,
    "start_time": "2025-04-23T19:48:33.552Z"
   },
   {
    "duration": 233,
    "start_time": "2025-04-23T19:48:33.570Z"
   },
   {
    "duration": 73,
    "start_time": "2025-04-23T19:48:33.805Z"
   },
   {
    "duration": 16,
    "start_time": "2025-04-23T19:48:33.880Z"
   },
   {
    "duration": 79,
    "start_time": "2025-04-23T19:48:33.898Z"
   },
   {
    "duration": 25,
    "start_time": "2025-04-23T19:48:33.981Z"
   },
   {
    "duration": 40,
    "start_time": "2025-04-23T19:48:34.008Z"
   },
   {
    "duration": 4,
    "start_time": "2025-04-23T19:48:34.050Z"
   },
   {
    "duration": 3,
    "start_time": "2025-04-23T19:48:34.056Z"
   },
   {
    "duration": 25,
    "start_time": "2025-04-23T19:48:34.061Z"
   },
   {
    "duration": 4,
    "start_time": "2025-04-23T19:48:34.087Z"
   },
   {
    "duration": 81,
    "start_time": "2025-04-23T19:48:34.093Z"
   },
   {
    "duration": 56,
    "start_time": "2025-04-23T19:48:34.175Z"
   },
   {
    "duration": 14,
    "start_time": "2025-04-23T19:48:34.233Z"
   },
   {
    "duration": 58,
    "start_time": "2025-04-23T19:48:34.249Z"
   },
   {
    "duration": 24,
    "start_time": "2025-04-23T19:48:34.309Z"
   },
   {
    "duration": 77,
    "start_time": "2025-04-23T19:48:34.335Z"
   },
   {
    "duration": 188,
    "start_time": "2025-04-23T19:48:34.413Z"
   },
   {
    "duration": 943,
    "start_time": "2025-04-23T20:04:16.760Z"
   },
   {
    "duration": 408,
    "start_time": "2025-04-23T20:04:17.705Z"
   },
   {
    "duration": 35,
    "start_time": "2025-04-23T20:04:18.115Z"
   },
   {
    "duration": 382,
    "start_time": "2025-04-23T20:04:18.152Z"
   },
   {
    "duration": 104,
    "start_time": "2025-04-23T20:04:18.538Z"
   },
   {
    "duration": 266,
    "start_time": "2025-04-23T20:04:18.644Z"
   },
   {
    "duration": 225,
    "start_time": "2025-04-23T20:04:18.912Z"
   },
   {
    "duration": 92,
    "start_time": "2025-04-23T20:04:19.138Z"
   },
   {
    "duration": 17,
    "start_time": "2025-04-23T20:04:19.232Z"
   },
   {
    "duration": 231,
    "start_time": "2025-04-23T20:04:19.251Z"
   },
   {
    "duration": 71,
    "start_time": "2025-04-23T20:04:19.484Z"
   },
   {
    "duration": 15,
    "start_time": "2025-04-23T20:04:19.557Z"
   },
   {
    "duration": 84,
    "start_time": "2025-04-23T20:04:19.574Z"
   },
   {
    "duration": 27,
    "start_time": "2025-04-23T20:04:19.661Z"
   },
   {
    "duration": 43,
    "start_time": "2025-04-23T20:04:19.689Z"
   },
   {
    "duration": 6,
    "start_time": "2025-04-23T20:04:19.734Z"
   },
   {
    "duration": 2,
    "start_time": "2025-04-23T20:04:19.743Z"
   },
   {
    "duration": 25,
    "start_time": "2025-04-23T20:04:19.747Z"
   },
   {
    "duration": 3,
    "start_time": "2025-04-23T20:04:19.774Z"
   },
   {
    "duration": 90,
    "start_time": "2025-04-23T20:04:19.779Z"
   },
   {
    "duration": 43,
    "start_time": "2025-04-23T20:04:19.870Z"
   },
   {
    "duration": 19,
    "start_time": "2025-04-23T20:04:19.923Z"
   },
   {
    "duration": 58,
    "start_time": "2025-04-23T20:04:19.944Z"
   },
   {
    "duration": 24,
    "start_time": "2025-04-23T20:04:20.004Z"
   },
   {
    "duration": 80,
    "start_time": "2025-04-23T20:04:20.030Z"
   },
   {
    "duration": 190,
    "start_time": "2025-04-23T20:04:20.112Z"
   },
   {
    "duration": 922,
    "start_time": "2025-04-24T15:58:53.164Z"
   },
   {
    "duration": 713,
    "start_time": "2025-04-24T15:58:54.088Z"
   },
   {
    "duration": 30,
    "start_time": "2025-04-24T15:58:54.803Z"
   },
   {
    "duration": 384,
    "start_time": "2025-04-24T15:58:54.835Z"
   },
   {
    "duration": 100,
    "start_time": "2025-04-24T15:58:55.221Z"
   },
   {
    "duration": 263,
    "start_time": "2025-04-24T15:58:55.323Z"
   },
   {
    "duration": 216,
    "start_time": "2025-04-24T15:58:55.588Z"
   },
   {
    "duration": 87,
    "start_time": "2025-04-24T15:58:55.811Z"
   },
   {
    "duration": 26,
    "start_time": "2025-04-24T15:58:55.899Z"
   },
   {
    "duration": 226,
    "start_time": "2025-04-24T15:58:55.928Z"
   },
   {
    "duration": 69,
    "start_time": "2025-04-24T15:58:56.156Z"
   },
   {
    "duration": 16,
    "start_time": "2025-04-24T15:58:56.226Z"
   },
   {
    "duration": 73,
    "start_time": "2025-04-24T15:58:56.243Z"
   },
   {
    "duration": 26,
    "start_time": "2025-04-24T15:58:56.318Z"
   },
   {
    "duration": 29,
    "start_time": "2025-04-24T15:58:56.346Z"
   },
   {
    "duration": 5,
    "start_time": "2025-04-24T15:58:56.377Z"
   },
   {
    "duration": 2,
    "start_time": "2025-04-24T15:58:56.383Z"
   },
   {
    "duration": 25,
    "start_time": "2025-04-24T15:58:56.411Z"
   },
   {
    "duration": 4,
    "start_time": "2025-04-24T15:58:56.438Z"
   },
   {
    "duration": 76,
    "start_time": "2025-04-24T15:58:56.443Z"
   },
   {
    "duration": 45,
    "start_time": "2025-04-24T15:58:56.521Z"
   },
   {
    "duration": 14,
    "start_time": "2025-04-24T15:58:56.568Z"
   },
   {
    "duration": 74,
    "start_time": "2025-04-24T15:58:56.583Z"
   },
   {
    "duration": 12,
    "start_time": "2025-04-24T15:58:56.659Z"
   },
   {
    "duration": 93,
    "start_time": "2025-04-24T15:58:56.673Z"
   },
   {
    "duration": 172,
    "start_time": "2025-04-24T15:58:56.767Z"
   },
   {
    "duration": 854,
    "start_time": "2025-04-24T16:07:55.569Z"
   },
   {
    "duration": 408,
    "start_time": "2025-04-24T16:07:56.425Z"
   },
   {
    "duration": 30,
    "start_time": "2025-04-24T16:07:56.834Z"
   },
   {
    "duration": 375,
    "start_time": "2025-04-24T16:07:56.866Z"
   },
   {
    "duration": 101,
    "start_time": "2025-04-24T16:07:57.244Z"
   },
   {
    "duration": 264,
    "start_time": "2025-04-24T16:07:57.347Z"
   },
   {
    "duration": 228,
    "start_time": "2025-04-24T16:07:57.613Z"
   },
   {
    "duration": 92,
    "start_time": "2025-04-24T16:07:57.842Z"
   },
   {
    "duration": 17,
    "start_time": "2025-04-24T16:07:57.936Z"
   },
   {
    "duration": 256,
    "start_time": "2025-04-24T16:07:57.955Z"
   },
   {
    "duration": 59,
    "start_time": "2025-04-24T16:07:58.213Z"
   },
   {
    "duration": 15,
    "start_time": "2025-04-24T16:07:58.274Z"
   },
   {
    "duration": 77,
    "start_time": "2025-04-24T16:07:58.291Z"
   },
   {
    "duration": 25,
    "start_time": "2025-04-24T16:07:58.372Z"
   },
   {
    "duration": 28,
    "start_time": "2025-04-24T16:07:58.411Z"
   },
   {
    "duration": 4,
    "start_time": "2025-04-24T16:07:58.441Z"
   },
   {
    "duration": 2,
    "start_time": "2025-04-24T16:07:58.447Z"
   },
   {
    "duration": 26,
    "start_time": "2025-04-24T16:07:58.451Z"
   },
   {
    "duration": 4,
    "start_time": "2025-04-24T16:07:58.484Z"
   },
   {
    "duration": 87,
    "start_time": "2025-04-24T16:07:58.489Z"
   },
   {
    "duration": 57,
    "start_time": "2025-04-24T16:07:58.578Z"
   },
   {
    "duration": 14,
    "start_time": "2025-04-24T16:07:58.637Z"
   },
   {
    "duration": 70,
    "start_time": "2025-04-24T16:07:58.652Z"
   },
   {
    "duration": 12,
    "start_time": "2025-04-24T16:07:58.725Z"
   },
   {
    "duration": 91,
    "start_time": "2025-04-24T16:07:58.739Z"
   },
   {
    "duration": 182,
    "start_time": "2025-04-24T16:07:58.832Z"
   },
   {
    "duration": 2918,
    "start_time": "2025-04-24T16:19:32.005Z"
   },
   {
    "duration": 3226,
    "start_time": "2025-04-24T16:28:10.071Z"
   },
   {
    "duration": 43,
    "start_time": "2025-04-24T16:29:15.267Z"
   },
   {
    "duration": 3091,
    "start_time": "2025-04-24T16:30:26.867Z"
   },
   {
    "duration": 62,
    "start_time": "2025-04-24T16:46:41.266Z"
   },
   {
    "duration": 62,
    "start_time": "2025-04-24T16:49:37.809Z"
   },
   {
    "duration": 66,
    "start_time": "2025-04-24T16:53:21.312Z"
   },
   {
    "duration": 17,
    "start_time": "2025-04-24T16:53:58.019Z"
   },
   {
    "duration": 74,
    "start_time": "2025-04-24T16:53:58.691Z"
   },
   {
    "duration": 58,
    "start_time": "2025-04-24T16:53:59.828Z"
   },
   {
    "duration": 45,
    "start_time": "2025-04-24T16:55:17.652Z"
   },
   {
    "duration": 864,
    "start_time": "2025-04-24T16:57:51.487Z"
   },
   {
    "duration": 391,
    "start_time": "2025-04-24T16:57:52.354Z"
   },
   {
    "duration": 30,
    "start_time": "2025-04-24T16:57:52.747Z"
   },
   {
    "duration": 380,
    "start_time": "2025-04-24T16:57:52.778Z"
   },
   {
    "duration": 107,
    "start_time": "2025-04-24T16:57:53.161Z"
   },
   {
    "duration": 268,
    "start_time": "2025-04-24T16:57:53.272Z"
   },
   {
    "duration": 231,
    "start_time": "2025-04-24T16:57:53.542Z"
   },
   {
    "duration": 91,
    "start_time": "2025-04-24T16:57:53.774Z"
   },
   {
    "duration": 17,
    "start_time": "2025-04-24T16:57:53.867Z"
   },
   {
    "duration": 229,
    "start_time": "2025-04-24T16:57:53.885Z"
   },
   {
    "duration": 60,
    "start_time": "2025-04-24T16:57:54.116Z"
   },
   {
    "duration": 17,
    "start_time": "2025-04-24T16:57:54.177Z"
   },
   {
    "duration": 74,
    "start_time": "2025-04-24T16:57:54.196Z"
   },
   {
    "duration": 25,
    "start_time": "2025-04-24T16:57:54.274Z"
   },
   {
    "duration": 30,
    "start_time": "2025-04-24T16:57:54.313Z"
   },
   {
    "duration": 5,
    "start_time": "2025-04-24T16:57:54.345Z"
   },
   {
    "duration": 2,
    "start_time": "2025-04-24T16:57:54.351Z"
   },
   {
    "duration": 25,
    "start_time": "2025-04-24T16:57:54.355Z"
   },
   {
    "duration": 3,
    "start_time": "2025-04-24T16:57:54.382Z"
   },
   {
    "duration": 85,
    "start_time": "2025-04-24T16:57:54.386Z"
   },
   {
    "duration": 56,
    "start_time": "2025-04-24T16:57:54.473Z"
   },
   {
    "duration": 14,
    "start_time": "2025-04-24T16:57:54.531Z"
   },
   {
    "duration": 71,
    "start_time": "2025-04-24T16:57:54.547Z"
   },
   {
    "duration": 12,
    "start_time": "2025-04-24T16:57:54.619Z"
   },
   {
    "duration": 91,
    "start_time": "2025-04-24T16:57:54.632Z"
   },
   {
    "duration": 920,
    "start_time": "2025-04-24T16:57:54.725Z"
   },
   {
    "duration": 1027,
    "start_time": "2025-04-24T17:02:24.213Z"
   },
   {
    "duration": 1000,
    "start_time": "2025-04-24T17:08:31.017Z"
   },
   {
    "duration": 3527,
    "start_time": "2025-04-24T17:19:08.841Z"
   },
   {
    "duration": 885,
    "start_time": "2025-04-24T17:22:06.439Z"
   },
   {
    "duration": 404,
    "start_time": "2025-04-24T17:22:07.326Z"
   },
   {
    "duration": 32,
    "start_time": "2025-04-24T17:22:07.732Z"
   },
   {
    "duration": 381,
    "start_time": "2025-04-24T17:22:07.766Z"
   },
   {
    "duration": 96,
    "start_time": "2025-04-24T17:22:08.150Z"
   },
   {
    "duration": 278,
    "start_time": "2025-04-24T17:22:08.248Z"
   },
   {
    "duration": 231,
    "start_time": "2025-04-24T17:22:08.528Z"
   },
   {
    "duration": 91,
    "start_time": "2025-04-24T17:22:08.761Z"
   },
   {
    "duration": 17,
    "start_time": "2025-04-24T17:22:08.854Z"
   },
   {
    "duration": 250,
    "start_time": "2025-04-24T17:22:08.872Z"
   },
   {
    "duration": 62,
    "start_time": "2025-04-24T17:22:09.125Z"
   },
   {
    "duration": 23,
    "start_time": "2025-04-24T17:22:09.189Z"
   },
   {
    "duration": 60,
    "start_time": "2025-04-24T17:22:09.213Z"
   },
   {
    "duration": 36,
    "start_time": "2025-04-24T17:22:09.276Z"
   },
   {
    "duration": 29,
    "start_time": "2025-04-24T17:22:09.314Z"
   },
   {
    "duration": 5,
    "start_time": "2025-04-24T17:22:09.345Z"
   },
   {
    "duration": 2,
    "start_time": "2025-04-24T17:22:09.352Z"
   },
   {
    "duration": 31,
    "start_time": "2025-04-24T17:22:09.358Z"
   },
   {
    "duration": 3,
    "start_time": "2025-04-24T17:22:09.412Z"
   },
   {
    "duration": 62,
    "start_time": "2025-04-24T17:22:09.416Z"
   },
   {
    "duration": 55,
    "start_time": "2025-04-24T17:22:09.479Z"
   },
   {
    "duration": 15,
    "start_time": "2025-04-24T17:22:09.536Z"
   },
   {
    "duration": 68,
    "start_time": "2025-04-24T17:22:09.553Z"
   },
   {
    "duration": 12,
    "start_time": "2025-04-24T17:22:09.623Z"
   },
   {
    "duration": 92,
    "start_time": "2025-04-24T17:22:09.637Z"
   },
   {
    "duration": 929,
    "start_time": "2025-04-24T17:22:09.731Z"
   },
   {
    "duration": 0,
    "start_time": "2025-04-24T17:22:10.662Z"
   },
   {
    "duration": 43679,
    "start_time": "2025-04-24T17:22:53.755Z"
   },
   {
    "duration": 16,
    "start_time": "2025-04-24T17:31:52.640Z"
   },
   {
    "duration": 16,
    "start_time": "2025-04-24T17:35:14.453Z"
   },
   {
    "duration": 12,
    "start_time": "2025-04-24T17:37:26.473Z"
   },
   {
    "duration": 13,
    "start_time": "2025-04-24T17:37:48.956Z"
   },
   {
    "duration": 14,
    "start_time": "2025-04-24T17:46:01.131Z"
   },
   {
    "duration": 46144,
    "start_time": "2025-04-24T17:48:19.488Z"
   },
   {
    "duration": 898,
    "start_time": "2025-04-24T18:07:20.695Z"
   },
   {
    "duration": 426,
    "start_time": "2025-04-24T18:07:21.596Z"
   },
   {
    "duration": 33,
    "start_time": "2025-04-24T18:07:22.023Z"
   },
   {
    "duration": 425,
    "start_time": "2025-04-24T18:07:22.058Z"
   },
   {
    "duration": 111,
    "start_time": "2025-04-24T18:07:22.486Z"
   },
   {
    "duration": 302,
    "start_time": "2025-04-24T18:07:22.599Z"
   },
   {
    "duration": 248,
    "start_time": "2025-04-24T18:07:22.902Z"
   },
   {
    "duration": 98,
    "start_time": "2025-04-24T18:07:23.152Z"
   },
   {
    "duration": 20,
    "start_time": "2025-04-24T18:07:23.253Z"
   },
   {
    "duration": 219,
    "start_time": "2025-04-24T18:07:23.275Z"
   },
   {
    "duration": 69,
    "start_time": "2025-04-24T18:07:23.496Z"
   },
   {
    "duration": 15,
    "start_time": "2025-04-24T18:07:23.567Z"
   },
   {
    "duration": 74,
    "start_time": "2025-04-24T18:07:23.583Z"
   },
   {
    "duration": 25,
    "start_time": "2025-04-24T18:07:23.660Z"
   },
   {
    "duration": 40,
    "start_time": "2025-04-24T18:07:23.687Z"
   },
   {
    "duration": 5,
    "start_time": "2025-04-24T18:07:23.729Z"
   },
   {
    "duration": 3,
    "start_time": "2025-04-24T18:07:23.736Z"
   },
   {
    "duration": 25,
    "start_time": "2025-04-24T18:07:23.741Z"
   },
   {
    "duration": 4,
    "start_time": "2025-04-24T18:07:23.767Z"
   },
   {
    "duration": 84,
    "start_time": "2025-04-24T18:07:23.772Z"
   },
   {
    "duration": 44,
    "start_time": "2025-04-24T18:07:23.857Z"
   },
   {
    "duration": 18,
    "start_time": "2025-04-24T18:07:23.902Z"
   },
   {
    "duration": 61,
    "start_time": "2025-04-24T18:07:23.922Z"
   },
   {
    "duration": 28,
    "start_time": "2025-04-24T18:07:23.985Z"
   },
   {
    "duration": 75,
    "start_time": "2025-04-24T18:07:24.015Z"
   },
   {
    "duration": 45920,
    "start_time": "2025-04-24T18:07:24.092Z"
   },
   {
    "duration": 43131,
    "start_time": "2025-04-24T18:08:10.016Z"
   },
   {
    "duration": 43394,
    "start_time": "2025-04-24T18:33:59.334Z"
   },
   {
    "duration": 558615,
    "start_time": "2025-04-24T18:38:10.300Z"
   },
   {
    "duration": 871,
    "start_time": "2025-04-24T19:22:37.324Z"
   },
   {
    "duration": 717,
    "start_time": "2025-04-24T19:22:38.197Z"
   },
   {
    "duration": 35,
    "start_time": "2025-04-24T19:22:38.916Z"
   },
   {
    "duration": 390,
    "start_time": "2025-04-24T19:22:38.953Z"
   },
   {
    "duration": 99,
    "start_time": "2025-04-24T19:22:39.346Z"
   },
   {
    "duration": 266,
    "start_time": "2025-04-24T19:22:39.447Z"
   },
   {
    "duration": 257,
    "start_time": "2025-04-24T19:22:39.714Z"
   },
   {
    "duration": 94,
    "start_time": "2025-04-24T19:22:39.973Z"
   },
   {
    "duration": 16,
    "start_time": "2025-04-24T19:22:40.069Z"
   },
   {
    "duration": 247,
    "start_time": "2025-04-24T19:22:40.087Z"
   },
   {
    "duration": 61,
    "start_time": "2025-04-24T19:22:40.336Z"
   },
   {
    "duration": 16,
    "start_time": "2025-04-24T19:22:40.399Z"
   },
   {
    "duration": 79,
    "start_time": "2025-04-24T19:22:40.417Z"
   },
   {
    "duration": 22,
    "start_time": "2025-04-24T19:22:40.500Z"
   },
   {
    "duration": 37,
    "start_time": "2025-04-24T19:22:40.524Z"
   },
   {
    "duration": 5,
    "start_time": "2025-04-24T19:22:40.562Z"
   },
   {
    "duration": 5,
    "start_time": "2025-04-24T19:22:40.569Z"
   },
   {
    "duration": 29,
    "start_time": "2025-04-24T19:22:40.577Z"
   },
   {
    "duration": 4,
    "start_time": "2025-04-24T19:22:40.607Z"
   },
   {
    "duration": 86,
    "start_time": "2025-04-24T19:22:40.613Z"
   },
   {
    "duration": 52,
    "start_time": "2025-04-24T19:22:40.701Z"
   },
   {
    "duration": 14,
    "start_time": "2025-04-24T19:22:40.755Z"
   },
   {
    "duration": 75,
    "start_time": "2025-04-24T19:22:40.772Z"
   },
   {
    "duration": 12,
    "start_time": "2025-04-24T19:22:40.850Z"
   },
   {
    "duration": 93,
    "start_time": "2025-04-24T19:22:40.863Z"
   },
   {
    "duration": 35013,
    "start_time": "2025-04-24T19:22:40.958Z"
   },
   {
    "duration": 35028,
    "start_time": "2025-04-24T19:30:33.331Z"
   },
   {
    "duration": 1117,
    "start_time": "2025-04-24T19:54:57.610Z"
   },
   {
    "duration": 32271,
    "start_time": "2025-04-24T20:00:51.574Z"
   },
   {
    "duration": 846,
    "start_time": "2025-04-25T16:25:26.393Z"
   },
   {
    "duration": 472,
    "start_time": "2025-04-25T16:25:27.241Z"
   },
   {
    "duration": 30,
    "start_time": "2025-04-25T16:25:27.715Z"
   },
   {
    "duration": 372,
    "start_time": "2025-04-25T16:25:27.746Z"
   },
   {
    "duration": 97,
    "start_time": "2025-04-25T16:25:28.121Z"
   },
   {
    "duration": 264,
    "start_time": "2025-04-25T16:25:28.220Z"
   },
   {
    "duration": 232,
    "start_time": "2025-04-25T16:25:28.487Z"
   },
   {
    "duration": 92,
    "start_time": "2025-04-25T16:25:28.721Z"
   },
   {
    "duration": 18,
    "start_time": "2025-04-25T16:25:28.816Z"
   },
   {
    "duration": 232,
    "start_time": "2025-04-25T16:25:28.836Z"
   },
   {
    "duration": 70,
    "start_time": "2025-04-25T16:25:29.069Z"
   },
   {
    "duration": 16,
    "start_time": "2025-04-25T16:25:29.141Z"
   },
   {
    "duration": 69,
    "start_time": "2025-04-25T16:25:29.158Z"
   },
   {
    "duration": 26,
    "start_time": "2025-04-25T16:25:29.231Z"
   },
   {
    "duration": 28,
    "start_time": "2025-04-25T16:25:29.259Z"
   },
   {
    "duration": 24,
    "start_time": "2025-04-25T16:25:29.288Z"
   },
   {
    "duration": 3,
    "start_time": "2025-04-25T16:25:29.314Z"
   },
   {
    "duration": 26,
    "start_time": "2025-04-25T16:25:29.318Z"
   },
   {
    "duration": 3,
    "start_time": "2025-04-25T16:25:29.346Z"
   },
   {
    "duration": 80,
    "start_time": "2025-04-25T16:25:29.351Z"
   },
   {
    "duration": 43,
    "start_time": "2025-04-25T16:25:29.433Z"
   },
   {
    "duration": 13,
    "start_time": "2025-04-25T16:25:29.478Z"
   },
   {
    "duration": 72,
    "start_time": "2025-04-25T16:25:29.493Z"
   },
   {
    "duration": 30953,
    "start_time": "2025-04-25T16:25:29.567Z"
   },
   {
    "duration": 17,
    "start_time": "2025-04-25T16:43:55.125Z"
   },
   {
    "duration": 31356,
    "start_time": "2025-04-25T16:44:48.559Z"
   },
   {
    "duration": 4926,
    "start_time": "2025-04-25T16:56:06.593Z"
   },
   {
    "duration": 31901,
    "start_time": "2025-04-25T16:59:50.739Z"
   },
   {
    "duration": 248,
    "start_time": "2025-04-25T17:09:28.421Z"
   },
   {
    "duration": 3151,
    "start_time": "2025-04-25T17:14:08.082Z"
   },
   {
    "duration": 3417,
    "start_time": "2025-04-25T17:14:41.446Z"
   },
   {
    "duration": 36777,
    "start_time": "2025-04-25T17:16:22.561Z"
   },
   {
    "duration": 31782,
    "start_time": "2025-04-25T18:38:21.952Z"
   },
   {
    "duration": 936,
    "start_time": "2025-04-25T19:32:47.261Z"
   },
   {
    "duration": 418,
    "start_time": "2025-04-25T19:32:48.199Z"
   },
   {
    "duration": 32,
    "start_time": "2025-04-25T19:32:48.619Z"
   },
   {
    "duration": 383,
    "start_time": "2025-04-25T19:32:48.652Z"
   },
   {
    "duration": 104,
    "start_time": "2025-04-25T19:32:49.039Z"
   },
   {
    "duration": 269,
    "start_time": "2025-04-25T19:32:49.145Z"
   },
   {
    "duration": 229,
    "start_time": "2025-04-25T19:32:49.415Z"
   },
   {
    "duration": 91,
    "start_time": "2025-04-25T19:32:49.646Z"
   },
   {
    "duration": 17,
    "start_time": "2025-04-25T19:32:49.739Z"
   },
   {
    "duration": 240,
    "start_time": "2025-04-25T19:32:49.757Z"
   },
   {
    "duration": 65,
    "start_time": "2025-04-25T19:32:49.998Z"
   },
   {
    "duration": 16,
    "start_time": "2025-04-25T19:32:50.065Z"
   },
   {
    "duration": 77,
    "start_time": "2025-04-25T19:32:50.082Z"
   },
   {
    "duration": 26,
    "start_time": "2025-04-25T19:32:50.162Z"
   },
   {
    "duration": 37,
    "start_time": "2025-04-25T19:32:50.190Z"
   },
   {
    "duration": 5,
    "start_time": "2025-04-25T19:32:50.229Z"
   },
   {
    "duration": 2,
    "start_time": "2025-04-25T19:32:50.236Z"
   },
   {
    "duration": 25,
    "start_time": "2025-04-25T19:32:50.240Z"
   },
   {
    "duration": 5,
    "start_time": "2025-04-25T19:32:50.267Z"
   },
   {
    "duration": 97,
    "start_time": "2025-04-25T19:32:50.273Z"
   },
   {
    "duration": 48,
    "start_time": "2025-04-25T19:32:50.372Z"
   },
   {
    "duration": 15,
    "start_time": "2025-04-25T19:32:50.422Z"
   },
   {
    "duration": 58,
    "start_time": "2025-04-25T19:32:50.439Z"
   },
   {
    "duration": 32112,
    "start_time": "2025-04-25T19:32:50.513Z"
   },
   {
    "duration": 566,
    "start_time": "2025-04-25T19:45:56.210Z"
   },
   {
    "duration": 1045,
    "start_time": "2025-04-25T19:47:11.231Z"
   },
   {
    "duration": 466,
    "start_time": "2025-04-25T19:47:12.278Z"
   },
   {
    "duration": 31,
    "start_time": "2025-04-25T19:47:12.746Z"
   },
   {
    "duration": 379,
    "start_time": "2025-04-25T19:47:12.779Z"
   },
   {
    "duration": 102,
    "start_time": "2025-04-25T19:47:13.161Z"
   },
   {
    "duration": 270,
    "start_time": "2025-04-25T19:47:13.264Z"
   },
   {
    "duration": 227,
    "start_time": "2025-04-25T19:47:13.536Z"
   },
   {
    "duration": 90,
    "start_time": "2025-04-25T19:47:13.765Z"
   },
   {
    "duration": 17,
    "start_time": "2025-04-25T19:47:13.857Z"
   },
   {
    "duration": 242,
    "start_time": "2025-04-25T19:47:13.876Z"
   },
   {
    "duration": 59,
    "start_time": "2025-04-25T19:47:14.119Z"
   },
   {
    "duration": 16,
    "start_time": "2025-04-25T19:47:14.179Z"
   },
   {
    "duration": 74,
    "start_time": "2025-04-25T19:47:14.196Z"
   },
   {
    "duration": 26,
    "start_time": "2025-04-25T19:47:14.273Z"
   },
   {
    "duration": 38,
    "start_time": "2025-04-25T19:47:14.300Z"
   },
   {
    "duration": 4,
    "start_time": "2025-04-25T19:47:14.342Z"
   },
   {
    "duration": 2,
    "start_time": "2025-04-25T19:47:14.348Z"
   },
   {
    "duration": 25,
    "start_time": "2025-04-25T19:47:14.352Z"
   },
   {
    "duration": 3,
    "start_time": "2025-04-25T19:47:14.379Z"
   },
   {
    "duration": 63,
    "start_time": "2025-04-25T19:47:14.412Z"
   },
   {
    "duration": 53,
    "start_time": "2025-04-25T19:47:14.476Z"
   },
   {
    "duration": 15,
    "start_time": "2025-04-25T19:47:14.531Z"
   },
   {
    "duration": 72,
    "start_time": "2025-04-25T19:47:14.547Z"
   },
   {
    "duration": 32307,
    "start_time": "2025-04-25T19:47:14.621Z"
   },
   {
    "duration": 18690,
    "start_time": "2025-04-25T19:47:46.929Z"
   },
   {
    "duration": 14,
    "start_time": "2025-04-25T19:57:25.776Z"
   },
   {
    "duration": 805,
    "start_time": "2025-04-25T20:00:48.576Z"
   },
   {
    "duration": 52,
    "start_time": "2025-04-25T20:05:15.116Z"
   },
   {
    "duration": 881,
    "start_time": "2025-04-25T20:06:54.933Z"
   },
   {
    "duration": 401,
    "start_time": "2025-04-25T20:06:55.816Z"
   },
   {
    "duration": 30,
    "start_time": "2025-04-25T20:06:56.220Z"
   },
   {
    "duration": 362,
    "start_time": "2025-04-25T20:06:56.251Z"
   },
   {
    "duration": 98,
    "start_time": "2025-04-25T20:06:56.616Z"
   },
   {
    "duration": 267,
    "start_time": "2025-04-25T20:06:56.716Z"
   },
   {
    "duration": 232,
    "start_time": "2025-04-25T20:06:56.984Z"
   },
   {
    "duration": 96,
    "start_time": "2025-04-25T20:06:57.218Z"
   },
   {
    "duration": 17,
    "start_time": "2025-04-25T20:06:57.316Z"
   },
   {
    "duration": 227,
    "start_time": "2025-04-25T20:06:57.337Z"
   },
   {
    "duration": 71,
    "start_time": "2025-04-25T20:06:57.565Z"
   },
   {
    "duration": 16,
    "start_time": "2025-04-25T20:06:57.638Z"
   },
   {
    "duration": 69,
    "start_time": "2025-04-25T20:06:57.656Z"
   },
   {
    "duration": 26,
    "start_time": "2025-04-25T20:06:57.727Z"
   },
   {
    "duration": 28,
    "start_time": "2025-04-25T20:06:57.755Z"
   },
   {
    "duration": 27,
    "start_time": "2025-04-25T20:06:57.785Z"
   },
   {
    "duration": 2,
    "start_time": "2025-04-25T20:06:57.813Z"
   },
   {
    "duration": 25,
    "start_time": "2025-04-25T20:06:57.816Z"
   },
   {
    "duration": 4,
    "start_time": "2025-04-25T20:06:57.843Z"
   },
   {
    "duration": 77,
    "start_time": "2025-04-25T20:06:57.848Z"
   },
   {
    "duration": 43,
    "start_time": "2025-04-25T20:06:57.926Z"
   },
   {
    "duration": 14,
    "start_time": "2025-04-25T20:06:57.971Z"
   },
   {
    "duration": 82,
    "start_time": "2025-04-25T20:06:57.986Z"
   },
   {
    "duration": 33160,
    "start_time": "2025-04-25T20:06:58.070Z"
   },
   {
    "duration": 384,
    "start_time": "2025-04-25T20:07:31.232Z"
   },
   {
    "duration": 38417,
    "start_time": "2025-04-25T20:13:39.055Z"
   },
   {
    "duration": 36721,
    "start_time": "2025-04-25T20:16:06.529Z"
   },
   {
    "duration": 37029,
    "start_time": "2025-04-25T20:16:50.631Z"
   },
   {
    "duration": 969,
    "start_time": "2025-04-26T01:33:37.110Z"
   },
   {
    "duration": 659,
    "start_time": "2025-04-26T01:33:38.082Z"
   },
   {
    "duration": 33,
    "start_time": "2025-04-26T01:33:38.743Z"
   },
   {
    "duration": 474,
    "start_time": "2025-04-26T01:33:38.778Z"
   },
   {
    "duration": 103,
    "start_time": "2025-04-26T01:33:39.255Z"
   },
   {
    "duration": 376,
    "start_time": "2025-04-26T01:33:39.359Z"
   },
   {
    "duration": 298,
    "start_time": "2025-04-26T01:33:39.739Z"
   },
   {
    "duration": 98,
    "start_time": "2025-04-26T01:33:40.039Z"
   },
   {
    "duration": 18,
    "start_time": "2025-04-26T01:33:40.138Z"
   },
   {
    "duration": 269,
    "start_time": "2025-04-26T01:33:40.158Z"
   },
   {
    "duration": 87,
    "start_time": "2025-04-26T01:33:40.429Z"
   },
   {
    "duration": 20,
    "start_time": "2025-04-26T01:33:40.526Z"
   },
   {
    "duration": 87,
    "start_time": "2025-04-26T01:33:40.548Z"
   },
   {
    "duration": 29,
    "start_time": "2025-04-26T01:33:40.638Z"
   },
   {
    "duration": 29,
    "start_time": "2025-04-26T01:33:40.669Z"
   },
   {
    "duration": 6,
    "start_time": "2025-04-26T01:33:40.700Z"
   },
   {
    "duration": 3,
    "start_time": "2025-04-26T01:33:40.724Z"
   },
   {
    "duration": 30,
    "start_time": "2025-04-26T01:33:40.729Z"
   },
   {
    "duration": 3,
    "start_time": "2025-04-26T01:33:40.761Z"
   },
   {
    "duration": 94,
    "start_time": "2025-04-26T01:33:40.766Z"
   },
   {
    "duration": 62,
    "start_time": "2025-04-26T01:33:40.862Z"
   },
   {
    "duration": 21,
    "start_time": "2025-04-26T01:33:40.926Z"
   },
   {
    "duration": 66,
    "start_time": "2025-04-26T01:33:40.949Z"
   },
   {
    "duration": 43900,
    "start_time": "2025-04-26T01:33:41.025Z"
   },
   {
    "duration": 38442,
    "start_time": "2025-04-26T01:34:24.928Z"
   },
   {
    "duration": 36872,
    "start_time": "2025-04-26T02:06:28.604Z"
   },
   {
    "duration": 34601,
    "start_time": "2025-04-26T02:12:02.549Z"
   },
   {
    "duration": 918,
    "start_time": "2025-04-26T02:19:28.324Z"
   },
   {
    "duration": 410,
    "start_time": "2025-04-26T02:19:29.244Z"
   },
   {
    "duration": 31,
    "start_time": "2025-04-26T02:19:29.656Z"
   },
   {
    "duration": 387,
    "start_time": "2025-04-26T02:19:29.689Z"
   },
   {
    "duration": 98,
    "start_time": "2025-04-26T02:19:30.079Z"
   },
   {
    "duration": 274,
    "start_time": "2025-04-26T02:19:30.179Z"
   },
   {
    "duration": 232,
    "start_time": "2025-04-26T02:19:30.454Z"
   },
   {
    "duration": 90,
    "start_time": "2025-04-26T02:19:30.688Z"
   },
   {
    "duration": 16,
    "start_time": "2025-04-26T02:19:30.779Z"
   },
   {
    "duration": 239,
    "start_time": "2025-04-26T02:19:30.797Z"
   },
   {
    "duration": 59,
    "start_time": "2025-04-26T02:19:31.039Z"
   },
   {
    "duration": 24,
    "start_time": "2025-04-26T02:19:31.100Z"
   },
   {
    "duration": 68,
    "start_time": "2025-04-26T02:19:31.125Z"
   },
   {
    "duration": 39,
    "start_time": "2025-04-26T02:19:31.198Z"
   },
   {
    "duration": 29,
    "start_time": "2025-04-26T02:19:31.239Z"
   },
   {
    "duration": 4,
    "start_time": "2025-04-26T02:19:31.270Z"
   },
   {
    "duration": 3,
    "start_time": "2025-04-26T02:19:31.276Z"
   },
   {
    "duration": 45,
    "start_time": "2025-04-26T02:19:31.281Z"
   },
   {
    "duration": 3,
    "start_time": "2025-04-26T02:19:31.329Z"
   },
   {
    "duration": 60,
    "start_time": "2025-04-26T02:19:31.334Z"
   },
   {
    "duration": 55,
    "start_time": "2025-04-26T02:19:31.396Z"
   },
   {
    "duration": 15,
    "start_time": "2025-04-26T02:19:31.452Z"
   },
   {
    "duration": 67,
    "start_time": "2025-04-26T02:19:31.468Z"
   },
   {
    "duration": 33698,
    "start_time": "2025-04-26T02:19:31.537Z"
   },
   {
    "duration": 36923,
    "start_time": "2025-04-26T02:20:05.237Z"
   },
   {
    "duration": 918,
    "start_time": "2025-04-26T17:34:01.269Z"
   },
   {
    "duration": 493,
    "start_time": "2025-04-26T17:34:02.190Z"
   },
   {
    "duration": 31,
    "start_time": "2025-04-26T17:34:02.686Z"
   },
   {
    "duration": 365,
    "start_time": "2025-04-26T17:34:02.720Z"
   },
   {
    "duration": 100,
    "start_time": "2025-04-26T17:34:03.087Z"
   },
   {
    "duration": 265,
    "start_time": "2025-04-26T17:34:03.189Z"
   },
   {
    "duration": 238,
    "start_time": "2025-04-26T17:34:03.457Z"
   },
   {
    "duration": 88,
    "start_time": "2025-04-26T17:34:03.697Z"
   },
   {
    "duration": 17,
    "start_time": "2025-04-26T17:34:03.787Z"
   },
   {
    "duration": 244,
    "start_time": "2025-04-26T17:34:03.807Z"
   },
   {
    "duration": 64,
    "start_time": "2025-04-26T17:34:04.053Z"
   },
   {
    "duration": 16,
    "start_time": "2025-04-26T17:34:04.119Z"
   },
   {
    "duration": 78,
    "start_time": "2025-04-26T17:34:04.137Z"
   },
   {
    "duration": 25,
    "start_time": "2025-04-26T17:34:04.217Z"
   },
   {
    "duration": 41,
    "start_time": "2025-04-26T17:34:04.244Z"
   },
   {
    "duration": 5,
    "start_time": "2025-04-26T17:34:04.287Z"
   },
   {
    "duration": 3,
    "start_time": "2025-04-26T17:34:04.294Z"
   },
   {
    "duration": 26,
    "start_time": "2025-04-26T17:34:04.299Z"
   },
   {
    "duration": 4,
    "start_time": "2025-04-26T17:34:04.327Z"
   },
   {
    "duration": 88,
    "start_time": "2025-04-26T17:34:04.332Z"
   },
   {
    "duration": 49,
    "start_time": "2025-04-26T17:34:04.422Z"
   },
   {
    "duration": 16,
    "start_time": "2025-04-26T17:34:04.473Z"
   },
   {
    "duration": 61,
    "start_time": "2025-04-26T17:34:04.491Z"
   },
   {
    "duration": 33527,
    "start_time": "2025-04-26T17:34:04.554Z"
   },
   {
    "duration": 36692,
    "start_time": "2025-04-26T17:34:38.083Z"
   },
   {
    "duration": 857,
    "start_time": "2025-04-26T18:36:40.464Z"
   },
   {
    "duration": 403,
    "start_time": "2025-04-26T18:36:41.323Z"
   },
   {
    "duration": 41,
    "start_time": "2025-04-26T18:36:41.729Z"
   },
   {
    "duration": 375,
    "start_time": "2025-04-26T18:36:41.772Z"
   },
   {
    "duration": 95,
    "start_time": "2025-04-26T18:36:42.150Z"
   },
   {
    "duration": 269,
    "start_time": "2025-04-26T18:36:42.247Z"
   },
   {
    "duration": 224,
    "start_time": "2025-04-26T18:36:42.518Z"
   },
   {
    "duration": 91,
    "start_time": "2025-04-26T18:36:42.744Z"
   },
   {
    "duration": 17,
    "start_time": "2025-04-26T18:36:42.836Z"
   },
   {
    "duration": 240,
    "start_time": "2025-04-26T18:36:42.855Z"
   },
   {
    "duration": 63,
    "start_time": "2025-04-26T18:36:43.097Z"
   },
   {
    "duration": 22,
    "start_time": "2025-04-26T18:36:43.162Z"
   },
   {
    "duration": 61,
    "start_time": "2025-04-26T18:36:43.185Z"
   },
   {
    "duration": 41,
    "start_time": "2025-04-26T18:36:43.249Z"
   },
   {
    "duration": 29,
    "start_time": "2025-04-26T18:36:43.292Z"
   },
   {
    "duration": 4,
    "start_time": "2025-04-26T18:36:43.323Z"
   },
   {
    "duration": 2,
    "start_time": "2025-04-26T18:36:43.329Z"
   },
   {
    "duration": 49,
    "start_time": "2025-04-26T18:36:43.333Z"
   },
   {
    "duration": 4,
    "start_time": "2025-04-26T18:36:43.383Z"
   },
   {
    "duration": 61,
    "start_time": "2025-04-26T18:36:43.388Z"
   },
   {
    "duration": 56,
    "start_time": "2025-04-26T18:36:43.451Z"
   },
   {
    "duration": 15,
    "start_time": "2025-04-26T18:36:43.509Z"
   },
   {
    "duration": 71,
    "start_time": "2025-04-26T18:36:43.526Z"
   },
   {
    "duration": 32970,
    "start_time": "2025-04-26T18:36:43.600Z"
   },
   {
    "duration": 36740,
    "start_time": "2025-04-26T18:37:16.572Z"
   },
   {
    "duration": 897,
    "start_time": "2025-04-26T18:53:36.196Z"
   },
   {
    "duration": 410,
    "start_time": "2025-04-26T18:53:37.095Z"
   },
   {
    "duration": 30,
    "start_time": "2025-04-26T18:53:37.507Z"
   },
   {
    "duration": 387,
    "start_time": "2025-04-26T18:53:37.539Z"
   },
   {
    "duration": 96,
    "start_time": "2025-04-26T18:53:37.928Z"
   },
   {
    "duration": 272,
    "start_time": "2025-04-26T18:53:38.026Z"
   },
   {
    "duration": 224,
    "start_time": "2025-04-26T18:53:38.300Z"
   },
   {
    "duration": 91,
    "start_time": "2025-04-26T18:53:38.525Z"
   },
   {
    "duration": 17,
    "start_time": "2025-04-26T18:53:38.617Z"
   },
   {
    "duration": 229,
    "start_time": "2025-04-26T18:53:38.636Z"
   },
   {
    "duration": 64,
    "start_time": "2025-04-26T18:53:38.870Z"
   },
   {
    "duration": 17,
    "start_time": "2025-04-26T18:53:38.935Z"
   },
   {
    "duration": 74,
    "start_time": "2025-04-26T18:53:38.953Z"
   },
   {
    "duration": 41,
    "start_time": "2025-04-26T18:53:39.030Z"
   },
   {
    "duration": 29,
    "start_time": "2025-04-26T18:53:39.072Z"
   },
   {
    "duration": 5,
    "start_time": "2025-04-26T18:53:39.103Z"
   },
   {
    "duration": 4,
    "start_time": "2025-04-26T18:53:39.109Z"
   },
   {
    "duration": 25,
    "start_time": "2025-04-26T18:53:39.115Z"
   },
   {
    "duration": 4,
    "start_time": "2025-04-26T18:53:39.141Z"
   },
   {
    "duration": 84,
    "start_time": "2025-04-26T18:53:39.146Z"
   },
   {
    "duration": 58,
    "start_time": "2025-04-26T18:53:39.232Z"
   },
   {
    "duration": 15,
    "start_time": "2025-04-26T18:53:39.291Z"
   },
   {
    "duration": 68,
    "start_time": "2025-04-26T18:53:39.309Z"
   },
   {
    "duration": 33503,
    "start_time": "2025-04-26T18:53:39.380Z"
   },
   {
    "duration": 36618,
    "start_time": "2025-04-26T18:54:12.884Z"
   },
   {
    "duration": 838,
    "start_time": "2025-04-26T19:07:04.459Z"
   },
   {
    "duration": 402,
    "start_time": "2025-04-26T19:07:05.300Z"
   },
   {
    "duration": 33,
    "start_time": "2025-04-26T19:07:05.704Z"
   },
   {
    "duration": 376,
    "start_time": "2025-04-26T19:07:05.739Z"
   },
   {
    "duration": 100,
    "start_time": "2025-04-26T19:07:06.119Z"
   },
   {
    "duration": 287,
    "start_time": "2025-04-26T19:07:06.221Z"
   },
   {
    "duration": 230,
    "start_time": "2025-04-26T19:07:06.511Z"
   },
   {
    "duration": 135,
    "start_time": "2025-04-26T19:07:06.743Z"
   },
   {
    "duration": 21,
    "start_time": "2025-04-26T19:07:06.880Z"
   },
   {
    "duration": 227,
    "start_time": "2025-04-26T19:07:06.902Z"
   },
   {
    "duration": 74,
    "start_time": "2025-04-26T19:07:07.131Z"
   },
   {
    "duration": 16,
    "start_time": "2025-04-26T19:07:07.207Z"
   },
   {
    "duration": 73,
    "start_time": "2025-04-26T19:07:07.225Z"
   },
   {
    "duration": 25,
    "start_time": "2025-04-26T19:07:07.302Z"
   },
   {
    "duration": 41,
    "start_time": "2025-04-26T19:07:07.329Z"
   },
   {
    "duration": 5,
    "start_time": "2025-04-26T19:07:07.372Z"
   },
   {
    "duration": 2,
    "start_time": "2025-04-26T19:07:07.378Z"
   },
   {
    "duration": 27,
    "start_time": "2025-04-26T19:07:07.382Z"
   },
   {
    "duration": 6,
    "start_time": "2025-04-26T19:07:07.411Z"
   },
   {
    "duration": 94,
    "start_time": "2025-04-26T19:07:07.420Z"
   },
   {
    "duration": 53,
    "start_time": "2025-04-26T19:07:07.517Z"
   },
   {
    "duration": 15,
    "start_time": "2025-04-26T19:07:07.571Z"
   },
   {
    "duration": 62,
    "start_time": "2025-04-26T19:07:07.587Z"
   },
   {
    "duration": 899,
    "start_time": "2025-04-26T19:10:20.352Z"
   },
   {
    "duration": 425,
    "start_time": "2025-04-26T19:10:21.253Z"
   },
   {
    "duration": 31,
    "start_time": "2025-04-26T19:10:21.679Z"
   },
   {
    "duration": 380,
    "start_time": "2025-04-26T19:10:21.712Z"
   },
   {
    "duration": 148,
    "start_time": "2025-04-26T19:10:22.096Z"
   },
   {
    "duration": 289,
    "start_time": "2025-04-26T19:10:22.246Z"
   },
   {
    "duration": 244,
    "start_time": "2025-04-26T19:10:22.537Z"
   },
   {
    "duration": 97,
    "start_time": "2025-04-26T19:10:22.783Z"
   },
   {
    "duration": 19,
    "start_time": "2025-04-26T19:10:22.882Z"
   },
   {
    "duration": 268,
    "start_time": "2025-04-26T19:10:22.903Z"
   },
   {
    "duration": 87,
    "start_time": "2025-04-26T19:10:23.172Z"
   },
   {
    "duration": 22,
    "start_time": "2025-04-26T19:10:23.271Z"
   },
   {
    "duration": 91,
    "start_time": "2025-04-26T19:10:23.295Z"
   },
   {
    "duration": 32,
    "start_time": "2025-04-26T19:10:23.390Z"
   },
   {
    "duration": 29,
    "start_time": "2025-04-26T19:10:23.424Z"
   },
   {
    "duration": 6,
    "start_time": "2025-04-26T19:10:23.469Z"
   },
   {
    "duration": 2,
    "start_time": "2025-04-26T19:10:23.478Z"
   },
   {
    "duration": 25,
    "start_time": "2025-04-26T19:10:23.482Z"
   },
   {
    "duration": 4,
    "start_time": "2025-04-26T19:10:23.509Z"
   },
   {
    "duration": 81,
    "start_time": "2025-04-26T19:10:23.516Z"
   },
   {
    "duration": 45,
    "start_time": "2025-04-26T19:10:23.599Z"
   },
   {
    "duration": 26,
    "start_time": "2025-04-26T19:10:23.645Z"
   },
   {
    "duration": 97,
    "start_time": "2025-04-26T19:10:23.674Z"
   },
   {
    "duration": 939,
    "start_time": "2025-04-26T19:11:28.933Z"
   },
   {
    "duration": 413,
    "start_time": "2025-04-26T19:11:29.875Z"
   },
   {
    "duration": 33,
    "start_time": "2025-04-26T19:11:30.290Z"
   },
   {
    "duration": 390,
    "start_time": "2025-04-26T19:11:30.325Z"
   },
   {
    "duration": 113,
    "start_time": "2025-04-26T19:11:30.718Z"
   },
   {
    "duration": 273,
    "start_time": "2025-04-26T19:11:30.833Z"
   },
   {
    "duration": 264,
    "start_time": "2025-04-26T19:11:31.108Z"
   },
   {
    "duration": 87,
    "start_time": "2025-04-26T19:11:31.374Z"
   },
   {
    "duration": 17,
    "start_time": "2025-04-26T19:11:31.470Z"
   },
   {
    "duration": 239,
    "start_time": "2025-04-26T19:11:31.489Z"
   },
   {
    "duration": 69,
    "start_time": "2025-04-26T19:11:31.730Z"
   },
   {
    "duration": 16,
    "start_time": "2025-04-26T19:11:31.801Z"
   },
   {
    "duration": 73,
    "start_time": "2025-04-26T19:11:31.819Z"
   },
   {
    "duration": 27,
    "start_time": "2025-04-26T19:11:31.895Z"
   },
   {
    "duration": 28,
    "start_time": "2025-04-26T19:11:31.924Z"
   },
   {
    "duration": 19,
    "start_time": "2025-04-26T19:11:31.954Z"
   },
   {
    "duration": 2,
    "start_time": "2025-04-26T19:11:31.976Z"
   },
   {
    "duration": 25,
    "start_time": "2025-04-26T19:11:31.980Z"
   },
   {
    "duration": 4,
    "start_time": "2025-04-26T19:11:32.006Z"
   },
   {
    "duration": 85,
    "start_time": "2025-04-26T19:11:32.012Z"
   },
   {
    "duration": 43,
    "start_time": "2025-04-26T19:11:32.099Z"
   },
   {
    "duration": 26,
    "start_time": "2025-04-26T19:11:32.144Z"
   },
   {
    "duration": 78,
    "start_time": "2025-04-26T19:11:32.174Z"
   },
   {
    "duration": 491517,
    "start_time": "2025-04-26T19:11:32.254Z"
   },
   {
    "duration": 37372,
    "start_time": "2025-04-26T19:19:43.773Z"
   },
   {
    "duration": 926,
    "start_time": "2025-04-27T19:44:10.960Z"
   },
   {
    "duration": 468,
    "start_time": "2025-04-27T19:44:11.888Z"
   },
   {
    "duration": 30,
    "start_time": "2025-04-27T19:44:12.358Z"
   },
   {
    "duration": 384,
    "start_time": "2025-04-27T19:44:12.391Z"
   },
   {
    "duration": 96,
    "start_time": "2025-04-27T19:44:12.778Z"
   },
   {
    "duration": 270,
    "start_time": "2025-04-27T19:44:12.875Z"
   },
   {
    "duration": 224,
    "start_time": "2025-04-27T19:44:13.147Z"
   },
   {
    "duration": 89,
    "start_time": "2025-04-27T19:44:13.372Z"
   },
   {
    "duration": 17,
    "start_time": "2025-04-27T19:44:13.462Z"
   },
   {
    "duration": 229,
    "start_time": "2025-04-27T19:44:13.482Z"
   },
   {
    "duration": 63,
    "start_time": "2025-04-27T19:44:13.713Z"
   },
   {
    "duration": 15,
    "start_time": "2025-04-27T19:44:13.778Z"
   },
   {
    "duration": 78,
    "start_time": "2025-04-27T19:44:13.795Z"
   },
   {
    "duration": 25,
    "start_time": "2025-04-27T19:44:13.876Z"
   },
   {
    "duration": 28,
    "start_time": "2025-04-27T19:44:13.903Z"
   },
   {
    "duration": 7,
    "start_time": "2025-04-27T19:44:13.942Z"
   },
   {
    "duration": 2,
    "start_time": "2025-04-27T19:44:13.951Z"
   },
   {
    "duration": 26,
    "start_time": "2025-04-27T19:44:13.955Z"
   },
   {
    "duration": 4,
    "start_time": "2025-04-27T19:44:13.982Z"
   },
   {
    "duration": 85,
    "start_time": "2025-04-27T19:44:13.987Z"
   },
   {
    "duration": 43,
    "start_time": "2025-04-27T19:44:14.074Z"
   },
   {
    "duration": 26,
    "start_time": "2025-04-27T19:44:14.119Z"
   },
   {
    "duration": 60,
    "start_time": "2025-04-27T19:44:14.147Z"
   },
   {
    "duration": 32753,
    "start_time": "2025-04-27T19:44:14.209Z"
   },
   {
    "duration": 36724,
    "start_time": "2025-04-27T19:44:46.964Z"
   },
   {
    "duration": 144,
    "start_time": "2025-04-27T19:47:37.890Z"
   },
   {
    "duration": 143,
    "start_time": "2025-04-27T19:47:39.171Z"
   },
   {
    "duration": 8,
    "start_time": "2025-04-27T19:50:44.162Z"
   },
   {
    "duration": 4,
    "start_time": "2025-04-27T19:54:35.261Z"
   },
   {
    "duration": 5,
    "start_time": "2025-04-27T19:54:50.683Z"
   },
   {
    "duration": 3,
    "start_time": "2025-04-27T19:58:52.681Z"
   },
   {
    "duration": 5,
    "start_time": "2025-04-27T19:58:54.119Z"
   },
   {
    "duration": 5,
    "start_time": "2025-04-27T20:02:11.198Z"
   },
   {
    "duration": 4,
    "start_time": "2025-04-27T20:03:21.694Z"
   },
   {
    "duration": 6,
    "start_time": "2025-04-27T20:03:23.100Z"
   },
   {
    "duration": 6,
    "start_time": "2025-04-27T20:12:13.692Z"
   },
   {
    "duration": 4,
    "start_time": "2025-04-27T20:17:08.484Z"
   },
   {
    "duration": 6,
    "start_time": "2025-04-27T20:17:09.998Z"
   },
   {
    "duration": 898,
    "start_time": "2025-04-27T20:19:10.544Z"
   },
   {
    "duration": 403,
    "start_time": "2025-04-27T20:19:11.445Z"
   },
   {
    "duration": 34,
    "start_time": "2025-04-27T20:19:11.850Z"
   },
   {
    "duration": 375,
    "start_time": "2025-04-27T20:19:11.886Z"
   },
   {
    "duration": 95,
    "start_time": "2025-04-27T20:19:12.264Z"
   },
   {
    "duration": 270,
    "start_time": "2025-04-27T20:19:12.361Z"
   },
   {
    "duration": 229,
    "start_time": "2025-04-27T20:19:12.633Z"
   },
   {
    "duration": 91,
    "start_time": "2025-04-27T20:19:12.864Z"
   },
   {
    "duration": 19,
    "start_time": "2025-04-27T20:19:12.957Z"
   },
   {
    "duration": 240,
    "start_time": "2025-04-27T20:19:12.978Z"
   },
   {
    "duration": 63,
    "start_time": "2025-04-27T20:19:13.220Z"
   },
   {
    "duration": 16,
    "start_time": "2025-04-27T20:19:13.285Z"
   },
   {
    "duration": 78,
    "start_time": "2025-04-27T20:19:13.302Z"
   },
   {
    "duration": 21,
    "start_time": "2025-04-27T20:19:13.384Z"
   },
   {
    "duration": 182,
    "start_time": "2025-04-27T20:19:13.407Z"
   },
   {
    "duration": 143,
    "start_time": "2025-04-27T20:19:13.590Z"
   },
   {
    "duration": 20,
    "start_time": "2025-04-27T20:19:13.735Z"
   },
   {
    "duration": 26,
    "start_time": "2025-04-27T20:19:13.757Z"
   },
   {
    "duration": 4,
    "start_time": "2025-04-27T20:19:13.788Z"
   },
   {
    "duration": 3,
    "start_time": "2025-04-27T20:19:13.793Z"
   },
   {
    "duration": 48,
    "start_time": "2025-04-27T20:19:13.798Z"
   },
   {
    "duration": 4,
    "start_time": "2025-04-27T20:19:13.848Z"
   },
   {
    "duration": 56,
    "start_time": "2025-04-27T20:19:13.854Z"
   },
   {
    "duration": 11,
    "start_time": "2025-04-27T20:19:13.912Z"
   },
   {
    "duration": 40,
    "start_time": "2025-04-27T20:19:13.944Z"
   },
   {
    "duration": 13,
    "start_time": "2025-04-27T20:19:13.986Z"
   },
   {
    "duration": 69,
    "start_time": "2025-04-27T20:19:14.000Z"
   },
   {
    "duration": 30589,
    "start_time": "2025-04-27T20:19:14.070Z"
   },
   {
    "duration": 34706,
    "start_time": "2025-04-27T20:19:44.661Z"
   },
   {
    "duration": 2712,
    "start_time": "2025-04-27T20:30:39.615Z"
   },
   {
    "duration": 414,
    "start_time": "2025-04-27T20:30:42.329Z"
   },
   {
    "duration": 30,
    "start_time": "2025-04-27T20:30:42.745Z"
   },
   {
    "duration": 375,
    "start_time": "2025-04-27T20:30:42.777Z"
   },
   {
    "duration": 98,
    "start_time": "2025-04-27T20:30:43.155Z"
   },
   {
    "duration": 254,
    "start_time": "2025-04-27T20:30:43.254Z"
   },
   {
    "duration": 232,
    "start_time": "2025-04-27T20:30:43.510Z"
   },
   {
    "duration": 87,
    "start_time": "2025-04-27T20:30:43.745Z"
   },
   {
    "duration": 17,
    "start_time": "2025-04-27T20:30:43.843Z"
   },
   {
    "duration": 224,
    "start_time": "2025-04-27T20:30:43.861Z"
   },
   {
    "duration": 73,
    "start_time": "2025-04-27T20:30:44.087Z"
   },
   {
    "duration": 16,
    "start_time": "2025-04-27T20:30:44.162Z"
   },
   {
    "duration": 69,
    "start_time": "2025-04-27T20:30:44.179Z"
   },
   {
    "duration": 27,
    "start_time": "2025-04-27T20:30:44.252Z"
   },
   {
    "duration": 188,
    "start_time": "2025-04-27T20:30:44.281Z"
   },
   {
    "duration": 150,
    "start_time": "2025-04-27T20:30:44.471Z"
   },
   {
    "duration": 22,
    "start_time": "2025-04-27T20:30:44.623Z"
   },
   {
    "duration": 27,
    "start_time": "2025-04-27T20:30:44.647Z"
   },
   {
    "duration": 5,
    "start_time": "2025-04-27T20:30:44.675Z"
   },
   {
    "duration": 2,
    "start_time": "2025-04-27T20:30:44.682Z"
   },
   {
    "duration": 27,
    "start_time": "2025-04-27T20:30:44.686Z"
   },
   {
    "duration": 4,
    "start_time": "2025-04-27T20:30:44.715Z"
   },
   {
    "duration": 58,
    "start_time": "2025-04-27T20:30:44.743Z"
   },
   {
    "duration": 11,
    "start_time": "2025-04-27T20:30:44.802Z"
   },
   {
    "duration": 59,
    "start_time": "2025-04-27T20:30:44.815Z"
   },
   {
    "duration": 13,
    "start_time": "2025-04-27T20:30:44.876Z"
   },
   {
    "duration": 65,
    "start_time": "2025-04-27T20:30:44.891Z"
   },
   {
    "duration": 30497,
    "start_time": "2025-04-27T20:30:44.958Z"
   },
   {
    "duration": 994,
    "start_time": "2025-04-27T20:31:37.971Z"
   },
   {
    "duration": 468,
    "start_time": "2025-04-27T20:31:38.967Z"
   },
   {
    "duration": 32,
    "start_time": "2025-04-27T20:31:39.436Z"
   },
   {
    "duration": 388,
    "start_time": "2025-04-27T20:31:39.471Z"
   },
   {
    "duration": 105,
    "start_time": "2025-04-27T20:31:39.860Z"
   },
   {
    "duration": 271,
    "start_time": "2025-04-27T20:31:39.966Z"
   },
   {
    "duration": 239,
    "start_time": "2025-04-27T20:31:40.239Z"
   },
   {
    "duration": 100,
    "start_time": "2025-04-27T20:31:40.480Z"
   },
   {
    "duration": 17,
    "start_time": "2025-04-27T20:31:40.582Z"
   },
   {
    "duration": 246,
    "start_time": "2025-04-27T20:31:40.602Z"
   },
   {
    "duration": 65,
    "start_time": "2025-04-27T20:31:40.850Z"
   },
   {
    "duration": 31,
    "start_time": "2025-04-27T20:31:40.917Z"
   },
   {
    "duration": 62,
    "start_time": "2025-04-27T20:31:40.949Z"
   },
   {
    "duration": 35,
    "start_time": "2025-04-27T20:31:41.012Z"
   },
   {
    "duration": 186,
    "start_time": "2025-04-27T20:31:41.049Z"
   },
   {
    "duration": 148,
    "start_time": "2025-04-27T20:31:41.237Z"
   },
   {
    "duration": 14,
    "start_time": "2025-04-27T20:31:41.387Z"
   },
   {
    "duration": 186,
    "start_time": "2025-04-27T20:31:41.403Z"
   },
   {
    "duration": 23,
    "start_time": "2025-04-27T20:31:41.591Z"
   },
   {
    "duration": 5,
    "start_time": "2025-04-27T20:31:41.616Z"
   },
   {
    "duration": 20,
    "start_time": "2025-04-27T20:31:41.623Z"
   },
   {
    "duration": 24,
    "start_time": "2025-04-27T20:31:41.644Z"
   },
   {
    "duration": 5,
    "start_time": "2025-04-27T20:31:41.669Z"
   },
   {
    "duration": 76,
    "start_time": "2025-04-27T20:31:41.676Z"
   },
   {
    "duration": 12,
    "start_time": "2025-04-27T20:31:41.754Z"
   },
   {
    "duration": 42,
    "start_time": "2025-04-27T20:31:41.768Z"
   },
   {
    "duration": 35,
    "start_time": "2025-04-27T20:31:41.812Z"
   },
   {
    "duration": 62,
    "start_time": "2025-04-27T20:31:41.851Z"
   },
   {
    "duration": 32035,
    "start_time": "2025-04-27T20:31:41.915Z"
   },
   {
    "duration": 34937,
    "start_time": "2025-04-27T20:32:13.951Z"
   },
   {
    "duration": 21,
    "start_time": "2025-04-27T20:33:42.534Z"
   },
   {
    "duration": 974,
    "start_time": "2025-04-27T20:36:02.719Z"
   },
   {
    "duration": 467,
    "start_time": "2025-04-27T20:36:03.700Z"
   },
   {
    "duration": 32,
    "start_time": "2025-04-27T20:36:04.169Z"
   },
   {
    "duration": 385,
    "start_time": "2025-04-27T20:36:04.203Z"
   },
   {
    "duration": 99,
    "start_time": "2025-04-27T20:36:04.590Z"
   },
   {
    "duration": 268,
    "start_time": "2025-04-27T20:36:04.691Z"
   },
   {
    "duration": 252,
    "start_time": "2025-04-27T20:36:04.961Z"
   },
   {
    "duration": 92,
    "start_time": "2025-04-27T20:36:05.215Z"
   },
   {
    "duration": 18,
    "start_time": "2025-04-27T20:36:05.309Z"
   },
   {
    "duration": 239,
    "start_time": "2025-04-27T20:36:05.328Z"
   },
   {
    "duration": 62,
    "start_time": "2025-04-27T20:36:05.569Z"
   },
   {
    "duration": 24,
    "start_time": "2025-04-27T20:36:05.633Z"
   },
   {
    "duration": 65,
    "start_time": "2025-04-27T20:36:05.658Z"
   },
   {
    "duration": 24,
    "start_time": "2025-04-27T20:36:05.744Z"
   },
   {
    "duration": 176,
    "start_time": "2025-04-27T20:36:05.770Z"
   },
   {
    "duration": 150,
    "start_time": "2025-04-27T20:36:05.948Z"
   },
   {
    "duration": 15,
    "start_time": "2025-04-27T20:36:06.100Z"
   },
   {
    "duration": 191,
    "start_time": "2025-04-27T20:36:06.116Z"
   },
   {
    "duration": 23,
    "start_time": "2025-04-27T20:36:06.310Z"
   },
   {
    "duration": 189,
    "start_time": "2025-04-27T20:36:06.334Z"
   },
   {
    "duration": 4,
    "start_time": "2025-04-27T20:36:06.525Z"
   },
   {
    "duration": 13,
    "start_time": "2025-04-27T20:36:06.531Z"
   },
   {
    "duration": 28,
    "start_time": "2025-04-27T20:36:06.546Z"
   },
   {
    "duration": 4,
    "start_time": "2025-04-27T20:36:06.576Z"
   },
   {
    "duration": 76,
    "start_time": "2025-04-27T20:36:06.582Z"
   },
   {
    "duration": 10,
    "start_time": "2025-04-27T20:36:06.661Z"
   },
   {
    "duration": 41,
    "start_time": "2025-04-27T20:36:06.673Z"
   },
   {
    "duration": 27,
    "start_time": "2025-04-27T20:36:06.715Z"
   },
   {
    "duration": 57,
    "start_time": "2025-04-27T20:36:06.744Z"
   },
   {
    "duration": 30860,
    "start_time": "2025-04-27T20:36:06.803Z"
   },
   {
    "duration": 34420,
    "start_time": "2025-04-27T20:36:37.665Z"
   },
   {
    "duration": 22,
    "start_time": "2025-04-27T20:39:48.927Z"
   },
   {
    "duration": 162,
    "start_time": "2025-04-27T20:39:49.372Z"
   },
   {
    "duration": 5,
    "start_time": "2025-04-27T20:39:57.349Z"
   },
   {
    "duration": 23,
    "start_time": "2025-04-27T20:43:29.447Z"
   },
   {
    "duration": 163,
    "start_time": "2025-04-27T20:43:30.891Z"
   },
   {
    "duration": 5,
    "start_time": "2025-04-27T20:43:42.217Z"
   },
   {
    "duration": 6,
    "start_time": "2025-04-27T20:45:50.035Z"
   },
   {
    "duration": 24,
    "start_time": "2025-04-27T20:47:08.529Z"
   },
   {
    "duration": 24,
    "start_time": "2025-04-27T20:51:51.681Z"
   },
   {
    "duration": 5,
    "start_time": "2025-04-27T20:53:01.438Z"
   },
   {
    "duration": 6,
    "start_time": "2025-04-27T20:54:42.406Z"
   },
   {
    "duration": 20,
    "start_time": "2025-04-27T20:57:40.503Z"
   },
   {
    "duration": 17,
    "start_time": "2025-04-27T20:58:22.814Z"
   },
   {
    "duration": 206,
    "start_time": "2025-04-27T21:00:48.940Z"
   },
   {
    "duration": 22,
    "start_time": "2025-04-27T21:08:16.774Z"
   },
   {
    "duration": 1086,
    "start_time": "2025-04-27T21:09:06.321Z"
   },
   {
    "duration": 504,
    "start_time": "2025-04-27T21:09:07.409Z"
   },
   {
    "duration": 42,
    "start_time": "2025-04-27T21:09:07.918Z"
   },
   {
    "duration": 390,
    "start_time": "2025-04-27T21:09:07.962Z"
   },
   {
    "duration": 100,
    "start_time": "2025-04-27T21:09:08.355Z"
   },
   {
    "duration": 297,
    "start_time": "2025-04-27T21:09:08.457Z"
   },
   {
    "duration": 262,
    "start_time": "2025-04-27T21:09:08.756Z"
   },
   {
    "duration": 87,
    "start_time": "2025-04-27T21:09:09.021Z"
   },
   {
    "duration": 18,
    "start_time": "2025-04-27T21:09:09.112Z"
   },
   {
    "duration": 234,
    "start_time": "2025-04-27T21:09:09.144Z"
   },
   {
    "duration": 77,
    "start_time": "2025-04-27T21:09:09.380Z"
   },
   {
    "duration": 17,
    "start_time": "2025-04-27T21:09:09.459Z"
   },
   {
    "duration": 74,
    "start_time": "2025-04-27T21:09:09.478Z"
   },
   {
    "duration": 28,
    "start_time": "2025-04-27T21:09:09.555Z"
   },
   {
    "duration": 222,
    "start_time": "2025-04-27T21:09:09.586Z"
   },
   {
    "duration": 174,
    "start_time": "2025-04-27T21:09:09.809Z"
   },
   {
    "duration": 21,
    "start_time": "2025-04-27T21:09:09.985Z"
   },
   {
    "duration": 217,
    "start_time": "2025-04-27T21:09:10.009Z"
   },
   {
    "duration": 37,
    "start_time": "2025-04-27T21:09:10.229Z"
   },
   {
    "duration": 7,
    "start_time": "2025-04-27T21:09:10.267Z"
   },
   {
    "duration": 206,
    "start_time": "2025-04-27T21:09:10.276Z"
   },
   {
    "duration": 20,
    "start_time": "2025-04-27T21:09:10.484Z"
   },
   {
    "duration": 237,
    "start_time": "2025-04-27T21:09:10.506Z"
   },
   {
    "duration": 28,
    "start_time": "2025-04-27T21:09:10.745Z"
   },
   {
    "duration": 201,
    "start_time": "2025-04-27T21:09:10.777Z"
   },
   {
    "duration": 5,
    "start_time": "2025-04-27T21:09:10.981Z"
   },
   {
    "duration": 4,
    "start_time": "2025-04-27T21:09:10.990Z"
   },
   {
    "duration": 82,
    "start_time": "2025-04-27T21:09:10.996Z"
   },
   {
    "duration": 72,
    "start_time": "2025-04-27T21:09:11.081Z"
   },
   {
    "duration": 21,
    "start_time": "2025-04-27T21:09:11.155Z"
   },
   {
    "duration": 76,
    "start_time": "2025-04-27T21:09:11.178Z"
   },
   {
    "duration": 1038,
    "start_time": "2025-04-27T21:11:29.228Z"
   },
   {
    "duration": 507,
    "start_time": "2025-04-27T21:11:30.268Z"
   },
   {
    "duration": 39,
    "start_time": "2025-04-27T21:11:30.777Z"
   },
   {
    "duration": 399,
    "start_time": "2025-04-27T21:11:30.820Z"
   },
   {
    "duration": 105,
    "start_time": "2025-04-27T21:11:31.222Z"
   },
   {
    "duration": 276,
    "start_time": "2025-04-27T21:11:31.330Z"
   },
   {
    "duration": 239,
    "start_time": "2025-04-27T21:11:31.610Z"
   },
   {
    "duration": 129,
    "start_time": "2025-04-27T21:11:31.853Z"
   },
   {
    "duration": 19,
    "start_time": "2025-04-27T21:11:31.985Z"
   },
   {
    "duration": 227,
    "start_time": "2025-04-27T21:11:32.006Z"
   },
   {
    "duration": 70,
    "start_time": "2025-04-27T21:11:32.234Z"
   },
   {
    "duration": 16,
    "start_time": "2025-04-27T21:11:32.307Z"
   },
   {
    "duration": 77,
    "start_time": "2025-04-27T21:11:32.326Z"
   },
   {
    "duration": 44,
    "start_time": "2025-04-27T21:11:32.407Z"
   },
   {
    "duration": 193,
    "start_time": "2025-04-27T21:11:32.453Z"
   },
   {
    "duration": 154,
    "start_time": "2025-04-27T21:11:32.647Z"
   },
   {
    "duration": 17,
    "start_time": "2025-04-27T21:11:32.803Z"
   },
   {
    "duration": 240,
    "start_time": "2025-04-27T21:11:32.822Z"
   },
   {
    "duration": 26,
    "start_time": "2025-04-27T21:11:33.065Z"
   },
   {
    "duration": 6,
    "start_time": "2025-04-27T21:11:33.093Z"
   },
   {
    "duration": 197,
    "start_time": "2025-04-27T21:11:33.101Z"
   },
   {
    "duration": 20,
    "start_time": "2025-04-27T21:11:33.301Z"
   },
   {
    "duration": 194,
    "start_time": "2025-04-27T21:11:33.323Z"
   },
   {
    "duration": 32,
    "start_time": "2025-04-27T21:11:33.519Z"
   },
   {
    "duration": 182,
    "start_time": "2025-04-27T21:11:33.553Z"
   },
   {
    "duration": 2,
    "start_time": "2025-04-27T21:11:33.742Z"
   },
   {
    "duration": 4,
    "start_time": "2025-04-27T21:11:33.748Z"
   },
   {
    "duration": 67,
    "start_time": "2025-04-27T21:11:33.754Z"
   },
   {
    "duration": 77,
    "start_time": "2025-04-27T21:11:33.823Z"
   },
   {
    "duration": 20,
    "start_time": "2025-04-27T21:11:33.901Z"
   },
   {
    "duration": 86,
    "start_time": "2025-04-27T21:11:33.923Z"
   },
   {
    "duration": 1037,
    "start_time": "2025-04-27T21:13:22.572Z"
   },
   {
    "duration": 533,
    "start_time": "2025-04-27T21:13:23.611Z"
   },
   {
    "duration": 38,
    "start_time": "2025-04-27T21:13:24.150Z"
   },
   {
    "duration": 448,
    "start_time": "2025-04-27T21:13:24.190Z"
   },
   {
    "duration": 100,
    "start_time": "2025-04-27T21:13:24.643Z"
   },
   {
    "duration": 290,
    "start_time": "2025-04-27T21:13:24.745Z"
   },
   {
    "duration": 255,
    "start_time": "2025-04-27T21:13:25.037Z"
   },
   {
    "duration": 94,
    "start_time": "2025-04-27T21:13:25.294Z"
   },
   {
    "duration": 17,
    "start_time": "2025-04-27T21:13:25.390Z"
   },
   {
    "duration": 266,
    "start_time": "2025-04-27T21:13:25.409Z"
   },
   {
    "duration": 78,
    "start_time": "2025-04-27T21:13:25.677Z"
   },
   {
    "duration": 16,
    "start_time": "2025-04-27T21:13:25.757Z"
   },
   {
    "duration": 80,
    "start_time": "2025-04-27T21:13:25.776Z"
   },
   {
    "duration": 28,
    "start_time": "2025-04-27T21:13:25.861Z"
   },
   {
    "duration": 206,
    "start_time": "2025-04-27T21:13:25.891Z"
   },
   {
    "duration": 184,
    "start_time": "2025-04-27T21:13:26.100Z"
   },
   {
    "duration": 62,
    "start_time": "2025-04-27T21:13:26.286Z"
   },
   {
    "duration": 27,
    "start_time": "2025-04-27T21:13:26.350Z"
   },
   {
    "duration": 6,
    "start_time": "2025-04-27T21:13:26.379Z"
   },
   {
    "duration": 21,
    "start_time": "2025-04-27T21:13:26.388Z"
   },
   {
    "duration": 224,
    "start_time": "2025-04-27T21:13:26.442Z"
   },
   {
    "duration": 28,
    "start_time": "2025-04-27T21:13:26.669Z"
   },
   {
    "duration": 221,
    "start_time": "2025-04-27T21:13:26.699Z"
   },
   {
    "duration": 2,
    "start_time": "2025-04-27T21:13:26.922Z"
   },
   {
    "duration": 18,
    "start_time": "2025-04-27T21:13:26.927Z"
   },
   {
    "duration": 67,
    "start_time": "2025-04-27T21:13:26.948Z"
   },
   {
    "duration": 63,
    "start_time": "2025-04-27T21:13:27.017Z"
   },
   {
    "duration": 15,
    "start_time": "2025-04-27T21:13:27.082Z"
   },
   {
    "duration": 78,
    "start_time": "2025-04-27T21:13:27.099Z"
   },
   {
    "duration": 1168,
    "start_time": "2025-04-27T21:16:05.268Z"
   },
   {
    "duration": 535,
    "start_time": "2025-04-27T21:16:06.443Z"
   },
   {
    "duration": 35,
    "start_time": "2025-04-27T21:16:06.980Z"
   },
   {
    "duration": 438,
    "start_time": "2025-04-27T21:16:07.017Z"
   },
   {
    "duration": 103,
    "start_time": "2025-04-27T21:16:07.458Z"
   },
   {
    "duration": 282,
    "start_time": "2025-04-27T21:16:07.563Z"
   },
   {
    "duration": 254,
    "start_time": "2025-04-27T21:16:07.848Z"
   },
   {
    "duration": 94,
    "start_time": "2025-04-27T21:16:08.104Z"
   },
   {
    "duration": 19,
    "start_time": "2025-04-27T21:16:08.200Z"
   },
   {
    "duration": 254,
    "start_time": "2025-04-27T21:16:08.221Z"
   },
   {
    "duration": 79,
    "start_time": "2025-04-27T21:16:08.477Z"
   },
   {
    "duration": 17,
    "start_time": "2025-04-27T21:16:08.558Z"
   },
   {
    "duration": 81,
    "start_time": "2025-04-27T21:16:08.577Z"
   },
   {
    "duration": 29,
    "start_time": "2025-04-27T21:16:08.663Z"
   },
   {
    "duration": 225,
    "start_time": "2025-04-27T21:16:08.694Z"
   },
   {
    "duration": 193,
    "start_time": "2025-04-27T21:16:08.921Z"
   },
   {
    "duration": 32,
    "start_time": "2025-04-27T21:16:09.116Z"
   },
   {
    "duration": 25,
    "start_time": "2025-04-27T21:16:09.150Z"
   },
   {
    "duration": 9,
    "start_time": "2025-04-27T21:16:09.177Z"
   },
   {
    "duration": 20,
    "start_time": "2025-04-27T21:16:09.189Z"
   },
   {
    "duration": 49,
    "start_time": "2025-04-27T21:16:09.211Z"
   },
   {
    "duration": 6,
    "start_time": "2025-04-27T21:16:09.262Z"
   },
   {
    "duration": 2,
    "start_time": "2025-04-27T21:16:09.271Z"
   },
   {
    "duration": 4,
    "start_time": "2025-04-27T21:16:09.275Z"
   },
   {
    "duration": 99,
    "start_time": "2025-04-27T21:16:09.281Z"
   },
   {
    "duration": 69,
    "start_time": "2025-04-27T21:16:09.382Z"
   },
   {
    "duration": 18,
    "start_time": "2025-04-27T21:16:09.453Z"
   },
   {
    "duration": 76,
    "start_time": "2025-04-27T21:16:09.475Z"
   },
   {
    "duration": 1149,
    "start_time": "2025-04-27T21:18:07.701Z"
   },
   {
    "duration": 516,
    "start_time": "2025-04-27T21:18:08.852Z"
   },
   {
    "duration": 33,
    "start_time": "2025-04-27T21:18:09.371Z"
   },
   {
    "duration": 397,
    "start_time": "2025-04-27T21:18:09.406Z"
   },
   {
    "duration": 102,
    "start_time": "2025-04-27T21:18:09.806Z"
   },
   {
    "duration": 326,
    "start_time": "2025-04-27T21:18:09.910Z"
   },
   {
    "duration": 287,
    "start_time": "2025-04-27T21:18:10.244Z"
   },
   {
    "duration": 96,
    "start_time": "2025-04-27T21:18:10.533Z"
   },
   {
    "duration": 29,
    "start_time": "2025-04-27T21:18:10.631Z"
   },
   {
    "duration": 242,
    "start_time": "2025-04-27T21:18:10.662Z"
   },
   {
    "duration": 76,
    "start_time": "2025-04-27T21:18:10.906Z"
   },
   {
    "duration": 16,
    "start_time": "2025-04-27T21:18:10.984Z"
   },
   {
    "duration": 85,
    "start_time": "2025-04-27T21:18:11.002Z"
   },
   {
    "duration": 30,
    "start_time": "2025-04-27T21:18:11.091Z"
   },
   {
    "duration": 203,
    "start_time": "2025-04-27T21:18:11.122Z"
   },
   {
    "duration": 158,
    "start_time": "2025-04-27T21:18:11.327Z"
   },
   {
    "duration": 22,
    "start_time": "2025-04-27T21:18:11.487Z"
   },
   {
    "duration": 48,
    "start_time": "2025-04-27T21:18:11.511Z"
   },
   {
    "duration": 7,
    "start_time": "2025-04-27T21:18:11.560Z"
   },
   {
    "duration": 21,
    "start_time": "2025-04-27T21:18:11.569Z"
   },
   {
    "duration": 51,
    "start_time": "2025-04-27T21:18:11.592Z"
   },
   {
    "duration": 8,
    "start_time": "2025-04-27T21:18:11.645Z"
   },
   {
    "duration": 18,
    "start_time": "2025-04-27T21:18:11.658Z"
   },
   {
    "duration": 4,
    "start_time": "2025-04-27T21:18:11.679Z"
   },
   {
    "duration": 7,
    "start_time": "2025-04-27T21:18:11.684Z"
   },
   {
    "duration": 92,
    "start_time": "2025-04-27T21:18:11.692Z"
   },
   {
    "duration": 68,
    "start_time": "2025-04-27T21:18:11.785Z"
   },
   {
    "duration": 19,
    "start_time": "2025-04-27T21:18:11.856Z"
   },
   {
    "duration": 101,
    "start_time": "2025-04-27T21:18:11.877Z"
   },
   {
    "duration": 1065,
    "start_time": "2025-04-27T21:19:58.574Z"
   },
   {
    "duration": 551,
    "start_time": "2025-04-27T21:19:59.643Z"
   },
   {
    "duration": 32,
    "start_time": "2025-04-27T21:20:00.197Z"
   },
   {
    "duration": 421,
    "start_time": "2025-04-27T21:20:00.232Z"
   },
   {
    "duration": 101,
    "start_time": "2025-04-27T21:20:00.656Z"
   },
   {
    "duration": 289,
    "start_time": "2025-04-27T21:20:00.759Z"
   },
   {
    "duration": 235,
    "start_time": "2025-04-27T21:20:01.050Z"
   },
   {
    "duration": 94,
    "start_time": "2025-04-27T21:20:01.287Z"
   },
   {
    "duration": 18,
    "start_time": "2025-04-27T21:20:01.383Z"
   },
   {
    "duration": 248,
    "start_time": "2025-04-27T21:20:01.403Z"
   },
   {
    "duration": 71,
    "start_time": "2025-04-27T21:20:01.653Z"
   },
   {
    "duration": 22,
    "start_time": "2025-04-27T21:20:01.728Z"
   },
   {
    "duration": 65,
    "start_time": "2025-04-27T21:20:01.751Z"
   },
   {
    "duration": 52,
    "start_time": "2025-04-27T21:20:01.820Z"
   },
   {
    "duration": 245,
    "start_time": "2025-04-27T21:20:01.874Z"
   },
   {
    "duration": 154,
    "start_time": "2025-04-27T21:20:02.121Z"
   },
   {
    "duration": 19,
    "start_time": "2025-04-27T21:20:02.278Z"
   },
   {
    "duration": 44,
    "start_time": "2025-04-27T21:20:02.299Z"
   },
   {
    "duration": 6,
    "start_time": "2025-04-27T21:20:02.345Z"
   },
   {
    "duration": 18,
    "start_time": "2025-04-27T21:20:02.353Z"
   },
   {
    "duration": 28,
    "start_time": "2025-04-27T21:20:02.373Z"
   },
   {
    "duration": 6,
    "start_time": "2025-04-27T21:20:02.403Z"
   },
   {
    "duration": 34,
    "start_time": "2025-04-27T21:20:02.412Z"
   },
   {
    "duration": 17,
    "start_time": "2025-04-27T21:20:02.448Z"
   },
   {
    "duration": 2,
    "start_time": "2025-04-27T21:20:02.467Z"
   },
   {
    "duration": 5,
    "start_time": "2025-04-27T21:20:02.471Z"
   },
   {
    "duration": 109,
    "start_time": "2025-04-27T21:20:02.477Z"
   },
   {
    "duration": 59,
    "start_time": "2025-04-27T21:20:02.588Z"
   },
   {
    "duration": 17,
    "start_time": "2025-04-27T21:20:02.649Z"
   },
   {
    "duration": 78,
    "start_time": "2025-04-27T21:20:02.667Z"
   },
   {
    "duration": 663277,
    "start_time": "2025-04-27T21:20:02.747Z"
   },
   {
    "duration": 1116,
    "start_time": "2025-04-27T21:31:26.863Z"
   },
   {
    "duration": 496,
    "start_time": "2025-04-27T21:31:27.981Z"
   },
   {
    "duration": 32,
    "start_time": "2025-04-27T21:31:28.479Z"
   },
   {
    "duration": 473,
    "start_time": "2025-04-27T21:31:28.512Z"
   },
   {
    "duration": 109,
    "start_time": "2025-04-27T21:31:28.988Z"
   },
   {
    "duration": 290,
    "start_time": "2025-04-27T21:31:29.099Z"
   },
   {
    "duration": 233,
    "start_time": "2025-04-27T21:31:29.391Z"
   },
   {
    "duration": 98,
    "start_time": "2025-04-27T21:31:29.625Z"
   },
   {
    "duration": 27,
    "start_time": "2025-04-27T21:31:29.725Z"
   },
   {
    "duration": 351,
    "start_time": "2025-04-27T21:31:29.754Z"
   },
   {
    "duration": 80,
    "start_time": "2025-04-27T21:31:30.107Z"
   },
   {
    "duration": 17,
    "start_time": "2025-04-27T21:31:30.189Z"
   },
   {
    "duration": 83,
    "start_time": "2025-04-27T21:31:30.208Z"
   },
   {
    "duration": 28,
    "start_time": "2025-04-27T21:31:30.294Z"
   },
   {
    "duration": 205,
    "start_time": "2025-04-27T21:31:30.323Z"
   },
   {
    "duration": 157,
    "start_time": "2025-04-27T21:31:30.530Z"
   },
   {
    "duration": 21,
    "start_time": "2025-04-27T21:31:30.689Z"
   },
   {
    "duration": 42,
    "start_time": "2025-04-27T21:31:30.712Z"
   },
   {
    "duration": 7,
    "start_time": "2025-04-27T21:31:30.755Z"
   },
   {
    "duration": 20,
    "start_time": "2025-04-27T21:31:30.764Z"
   },
   {
    "duration": 28,
    "start_time": "2025-04-27T21:31:30.786Z"
   },
   {
    "duration": 36,
    "start_time": "2025-04-27T21:31:30.816Z"
   },
   {
    "duration": 8,
    "start_time": "2025-04-27T21:31:30.855Z"
   },
   {
    "duration": 21,
    "start_time": "2025-04-27T21:31:30.865Z"
   },
   {
    "duration": 25,
    "start_time": "2025-04-27T21:31:30.888Z"
   },
   {
    "duration": 8,
    "start_time": "2025-04-27T21:31:30.917Z"
   },
   {
    "duration": 5,
    "start_time": "2025-04-27T21:31:30.942Z"
   },
   {
    "duration": 70,
    "start_time": "2025-04-27T21:31:30.950Z"
   },
   {
    "duration": 77,
    "start_time": "2025-04-27T21:31:31.023Z"
   },
   {
    "duration": 19,
    "start_time": "2025-04-27T21:31:31.102Z"
   },
   {
    "duration": 89,
    "start_time": "2025-04-27T21:31:31.123Z"
   },
   {
    "duration": 1027,
    "start_time": "2025-04-27T21:35:09.710Z"
   },
   {
    "duration": 515,
    "start_time": "2025-04-27T21:35:10.739Z"
   },
   {
    "duration": 38,
    "start_time": "2025-04-27T21:35:11.256Z"
   },
   {
    "duration": 412,
    "start_time": "2025-04-27T21:35:11.296Z"
   },
   {
    "duration": 100,
    "start_time": "2025-04-27T21:35:11.710Z"
   },
   {
    "duration": 307,
    "start_time": "2025-04-27T21:35:11.812Z"
   },
   {
    "duration": 253,
    "start_time": "2025-04-27T21:35:12.122Z"
   },
   {
    "duration": 96,
    "start_time": "2025-04-27T21:35:12.377Z"
   },
   {
    "duration": 21,
    "start_time": "2025-04-27T21:35:12.474Z"
   },
   {
    "duration": 276,
    "start_time": "2025-04-27T21:35:12.498Z"
   },
   {
    "duration": 75,
    "start_time": "2025-04-27T21:35:12.777Z"
   },
   {
    "duration": 16,
    "start_time": "2025-04-27T21:35:12.854Z"
   },
   {
    "duration": 75,
    "start_time": "2025-04-27T21:35:12.872Z"
   },
   {
    "duration": 30,
    "start_time": "2025-04-27T21:35:12.949Z"
   },
   {
    "duration": 199,
    "start_time": "2025-04-27T21:35:12.982Z"
   },
   {
    "duration": 157,
    "start_time": "2025-04-27T21:35:13.183Z"
   },
   {
    "duration": 19,
    "start_time": "2025-04-27T21:35:13.342Z"
   },
   {
    "duration": 23,
    "start_time": "2025-04-27T21:35:13.362Z"
   },
   {
    "duration": 5,
    "start_time": "2025-04-27T21:35:13.387Z"
   },
   {
    "duration": 23,
    "start_time": "2025-04-27T21:35:13.394Z"
   },
   {
    "duration": 26,
    "start_time": "2025-04-27T21:35:13.443Z"
   },
   {
    "duration": 7,
    "start_time": "2025-04-27T21:35:13.471Z"
   },
   {
    "duration": 4,
    "start_time": "2025-04-27T21:35:13.481Z"
   },
   {
    "duration": 18,
    "start_time": "2025-04-27T21:35:13.488Z"
   },
   {
    "duration": 58,
    "start_time": "2025-04-27T21:35:13.509Z"
   },
   {
    "duration": 7,
    "start_time": "2025-04-27T21:35:13.568Z"
   },
   {
    "duration": 6,
    "start_time": "2025-04-27T21:35:13.577Z"
   },
   {
    "duration": 83,
    "start_time": "2025-04-27T21:35:13.587Z"
   },
   {
    "duration": 73,
    "start_time": "2025-04-27T21:35:13.672Z"
   },
   {
    "duration": 21,
    "start_time": "2025-04-27T21:35:13.747Z"
   },
   {
    "duration": 75,
    "start_time": "2025-04-27T21:35:13.769Z"
   },
   {
    "duration": 104650,
    "start_time": "2025-04-27T21:35:13.847Z"
   },
   {
    "duration": 42655,
    "start_time": "2025-04-27T21:36:58.499Z"
   },
   {
    "duration": 2790,
    "start_time": "2025-04-27T23:28:32.289Z"
   },
   {
    "duration": 766,
    "start_time": "2025-04-27T23:28:35.081Z"
   },
   {
    "duration": 32,
    "start_time": "2025-04-27T23:28:35.849Z"
   },
   {
    "duration": 383,
    "start_time": "2025-04-27T23:28:35.884Z"
   },
   {
    "duration": 91,
    "start_time": "2025-04-27T23:28:36.270Z"
   },
   {
    "duration": 289,
    "start_time": "2025-04-27T23:28:36.363Z"
   },
   {
    "duration": 221,
    "start_time": "2025-04-27T23:28:36.654Z"
   },
   {
    "duration": 92,
    "start_time": "2025-04-27T23:28:36.877Z"
   },
   {
    "duration": 17,
    "start_time": "2025-04-27T23:28:36.970Z"
   },
   {
    "duration": 245,
    "start_time": "2025-04-27T23:28:36.991Z"
   },
   {
    "duration": 82,
    "start_time": "2025-04-27T23:28:37.237Z"
   },
   {
    "duration": 16,
    "start_time": "2025-04-27T23:28:37.320Z"
   },
   {
    "duration": 74,
    "start_time": "2025-04-27T23:28:37.337Z"
   },
   {
    "duration": 26,
    "start_time": "2025-04-27T23:28:37.413Z"
   },
   {
    "duration": 182,
    "start_time": "2025-04-27T23:28:37.440Z"
   },
   {
    "duration": 145,
    "start_time": "2025-04-27T23:28:37.624Z"
   },
   {
    "duration": 17,
    "start_time": "2025-04-27T23:28:37.771Z"
   },
   {
    "duration": 41,
    "start_time": "2025-04-27T23:28:37.790Z"
   },
   {
    "duration": 6,
    "start_time": "2025-04-27T23:28:37.832Z"
   },
   {
    "duration": 17,
    "start_time": "2025-04-27T23:28:37.839Z"
   },
   {
    "duration": 23,
    "start_time": "2025-04-27T23:28:37.857Z"
   },
   {
    "duration": 30,
    "start_time": "2025-04-27T23:28:37.882Z"
   },
   {
    "duration": 4,
    "start_time": "2025-04-27T23:28:37.914Z"
   },
   {
    "duration": 15,
    "start_time": "2025-04-27T23:28:37.920Z"
   },
   {
    "duration": 27,
    "start_time": "2025-04-27T23:28:37.937Z"
   },
   {
    "duration": 6,
    "start_time": "2025-04-27T23:28:37.966Z"
   },
   {
    "duration": 38,
    "start_time": "2025-04-27T23:28:37.973Z"
   },
   {
    "duration": 69,
    "start_time": "2025-04-27T23:28:38.016Z"
   },
   {
    "duration": 62,
    "start_time": "2025-04-27T23:28:38.086Z"
   },
   {
    "duration": 15,
    "start_time": "2025-04-27T23:28:38.150Z"
   },
   {
    "duration": 77,
    "start_time": "2025-04-27T23:28:38.167Z"
   },
   {
    "duration": 35889,
    "start_time": "2025-04-27T23:28:38.246Z"
   },
   {
    "duration": 40435,
    "start_time": "2025-04-27T23:29:14.137Z"
   },
   {
    "duration": 383,
    "start_time": "2025-04-27T23:29:54.587Z"
   },
   {
    "duration": 11,
    "start_time": "2025-04-27T23:29:54.972Z"
   },
   {
    "duration": 10,
    "start_time": "2025-04-27T23:30:29.070Z"
   },
   {
    "duration": 670,
    "start_time": "2025-04-27T23:41:49.048Z"
   },
   {
    "duration": 49,
    "start_time": "2025-04-27T23:41:59.710Z"
   },
   {
    "duration": 41,
    "start_time": "2025-04-27T23:42:03.462Z"
   },
   {
    "duration": 60,
    "start_time": "2025-04-27T23:46:58.456Z"
   },
   {
    "duration": 41,
    "start_time": "2025-04-27T23:46:59.836Z"
   },
   {
    "duration": 44,
    "start_time": "2025-04-28T00:16:57.836Z"
   },
   {
    "duration": 982,
    "start_time": "2025-04-28T00:17:23.059Z"
   },
   {
    "duration": 452,
    "start_time": "2025-04-28T00:17:24.043Z"
   },
   {
    "duration": 18,
    "start_time": "2025-04-28T00:17:24.497Z"
   },
   {
    "duration": 25,
    "start_time": "2025-04-28T00:17:24.517Z"
   },
   {
    "duration": 376,
    "start_time": "2025-04-28T00:17:24.543Z"
   },
   {
    "duration": 97,
    "start_time": "2025-04-28T00:17:24.921Z"
   },
   {
    "duration": 265,
    "start_time": "2025-04-28T00:17:25.020Z"
   },
   {
    "duration": 227,
    "start_time": "2025-04-28T00:17:25.286Z"
   },
   {
    "duration": 95,
    "start_time": "2025-04-28T00:17:25.515Z"
   },
   {
    "duration": 665,
    "start_time": "2025-04-28T00:17:25.613Z"
   },
   {
    "duration": 30,
    "start_time": "2025-04-28T00:17:26.280Z"
   },
   {
    "duration": 241,
    "start_time": "2025-04-28T00:17:26.312Z"
   },
   {
    "duration": 66,
    "start_time": "2025-04-28T00:17:26.555Z"
   },
   {
    "duration": 16,
    "start_time": "2025-04-28T00:17:26.622Z"
   },
   {
    "duration": 69,
    "start_time": "2025-04-28T00:17:26.640Z"
   },
   {
    "duration": 18,
    "start_time": "2025-04-28T00:17:26.710Z"
   },
   {
    "duration": 174,
    "start_time": "2025-04-28T00:17:26.730Z"
   },
   {
    "duration": 163,
    "start_time": "2025-04-28T00:17:26.906Z"
   },
   {
    "duration": 19,
    "start_time": "2025-04-28T00:17:27.070Z"
   },
   {
    "duration": 36,
    "start_time": "2025-04-28T00:17:27.090Z"
   },
   {
    "duration": 6,
    "start_time": "2025-04-28T00:17:27.127Z"
   },
   {
    "duration": 17,
    "start_time": "2025-04-28T00:17:27.135Z"
   },
   {
    "duration": 25,
    "start_time": "2025-04-28T00:17:27.153Z"
   },
   {
    "duration": 30,
    "start_time": "2025-04-28T00:17:27.180Z"
   },
   {
    "duration": 6,
    "start_time": "2025-04-28T00:17:27.212Z"
   },
   {
    "duration": 15,
    "start_time": "2025-04-28T00:17:27.219Z"
   },
   {
    "duration": 22,
    "start_time": "2025-04-28T00:17:27.236Z"
   },
   {
    "duration": 6,
    "start_time": "2025-04-28T00:17:27.263Z"
   },
   {
    "duration": 47,
    "start_time": "2025-04-28T00:17:27.270Z"
   },
   {
    "duration": 3,
    "start_time": "2025-04-28T00:17:27.319Z"
   },
   {
    "duration": 67,
    "start_time": "2025-04-28T00:17:27.324Z"
   },
   {
    "duration": 49,
    "start_time": "2025-04-28T00:17:27.409Z"
   },
   {
    "duration": 15,
    "start_time": "2025-04-28T00:17:27.460Z"
   },
   {
    "duration": 80,
    "start_time": "2025-04-28T00:17:27.476Z"
   },
   {
    "duration": 36464,
    "start_time": "2025-04-28T00:17:27.557Z"
   },
   {
    "duration": 41668,
    "start_time": "2025-04-28T00:18:04.023Z"
   },
   {
    "duration": 651,
    "start_time": "2025-04-28T00:18:45.694Z"
   },
   {
    "duration": 0,
    "start_time": "2025-04-28T00:18:46.347Z"
   },
   {
    "duration": 0,
    "start_time": "2025-04-28T00:18:46.348Z"
   },
   {
    "duration": 3,
    "start_time": "2025-04-28T00:20:28.366Z"
   },
   {
    "duration": 3,
    "start_time": "2025-04-28T00:21:47.894Z"
   },
   {
    "duration": 3,
    "start_time": "2025-04-28T00:23:36.052Z"
   },
   {
    "duration": 1052,
    "start_time": "2025-04-28T00:25:29.425Z"
   },
   {
    "duration": 473,
    "start_time": "2025-04-28T00:25:30.479Z"
   },
   {
    "duration": 4,
    "start_time": "2025-04-28T00:25:30.954Z"
   },
   {
    "duration": 14,
    "start_time": "2025-04-28T00:25:30.960Z"
   },
   {
    "duration": 40,
    "start_time": "2025-04-28T00:25:30.976Z"
   },
   {
    "duration": 375,
    "start_time": "2025-04-28T00:25:31.018Z"
   },
   {
    "duration": 100,
    "start_time": "2025-04-28T00:25:31.395Z"
   },
   {
    "duration": 271,
    "start_time": "2025-04-28T00:25:31.497Z"
   },
   {
    "duration": 236,
    "start_time": "2025-04-28T00:25:31.769Z"
   },
   {
    "duration": 88,
    "start_time": "2025-04-28T00:25:32.010Z"
   },
   {
    "duration": 10,
    "start_time": "2025-04-28T00:25:32.100Z"
   },
   {
    "duration": 622,
    "start_time": "2025-04-28T00:25:32.112Z"
   },
   {
    "duration": 365,
    "start_time": "2025-04-28T00:25:32.735Z"
   },
   {
    "duration": 0,
    "start_time": "2025-04-28T00:25:33.109Z"
   },
   {
    "duration": 0,
    "start_time": "2025-04-28T00:25:33.113Z"
   },
   {
    "duration": 0,
    "start_time": "2025-04-28T00:25:33.114Z"
   },
   {
    "duration": 0,
    "start_time": "2025-04-28T00:25:33.115Z"
   },
   {
    "duration": 0,
    "start_time": "2025-04-28T00:25:33.116Z"
   },
   {
    "duration": 0,
    "start_time": "2025-04-28T00:25:33.117Z"
   },
   {
    "duration": 0,
    "start_time": "2025-04-28T00:25:33.118Z"
   },
   {
    "duration": 0,
    "start_time": "2025-04-28T00:25:33.119Z"
   },
   {
    "duration": 0,
    "start_time": "2025-04-28T00:25:33.121Z"
   },
   {
    "duration": 0,
    "start_time": "2025-04-28T00:25:33.121Z"
   },
   {
    "duration": 0,
    "start_time": "2025-04-28T00:25:33.122Z"
   },
   {
    "duration": 0,
    "start_time": "2025-04-28T00:25:33.124Z"
   },
   {
    "duration": 0,
    "start_time": "2025-04-28T00:25:33.125Z"
   },
   {
    "duration": 0,
    "start_time": "2025-04-28T00:25:33.128Z"
   },
   {
    "duration": 0,
    "start_time": "2025-04-28T00:25:33.129Z"
   },
   {
    "duration": 0,
    "start_time": "2025-04-28T00:25:33.130Z"
   },
   {
    "duration": 0,
    "start_time": "2025-04-28T00:25:33.132Z"
   },
   {
    "duration": 0,
    "start_time": "2025-04-28T00:25:33.134Z"
   },
   {
    "duration": 0,
    "start_time": "2025-04-28T00:25:33.135Z"
   },
   {
    "duration": 0,
    "start_time": "2025-04-28T00:25:33.137Z"
   },
   {
    "duration": 0,
    "start_time": "2025-04-28T00:25:33.138Z"
   },
   {
    "duration": 0,
    "start_time": "2025-04-28T00:25:33.141Z"
   },
   {
    "duration": 0,
    "start_time": "2025-04-28T00:25:33.143Z"
   },
   {
    "duration": 0,
    "start_time": "2025-04-28T00:25:33.145Z"
   },
   {
    "duration": 0,
    "start_time": "2025-04-28T00:25:33.146Z"
   },
   {
    "duration": 0,
    "start_time": "2025-04-28T00:25:33.147Z"
   },
   {
    "duration": 0,
    "start_time": "2025-04-28T00:25:33.148Z"
   },
   {
    "duration": 4,
    "start_time": "2025-04-28T00:29:29.787Z"
   },
   {
    "duration": 8,
    "start_time": "2025-04-28T00:29:31.024Z"
   },
   {
    "duration": 81,
    "start_time": "2025-04-28T00:29:32.346Z"
   },
   {
    "duration": 9,
    "start_time": "2025-04-28T00:30:10.185Z"
   },
   {
    "duration": 78,
    "start_time": "2025-04-28T00:30:11.338Z"
   },
   {
    "duration": 10,
    "start_time": "2025-04-28T00:32:57.743Z"
   },
   {
    "duration": 3,
    "start_time": "2025-04-28T00:32:58.953Z"
   },
   {
    "duration": 133,
    "start_time": "2025-04-28T00:33:00.031Z"
   },
   {
    "duration": 8,
    "start_time": "2025-04-28T00:34:21.254Z"
   },
   {
    "duration": 4,
    "start_time": "2025-04-28T00:34:22.059Z"
   },
   {
    "duration": 7,
    "start_time": "2025-04-28T00:34:23.057Z"
   },
   {
    "duration": 16,
    "start_time": "2025-04-28T00:34:24.854Z"
   },
   {
    "duration": 7,
    "start_time": "2025-04-28T00:34:45.473Z"
   },
   {
    "duration": 1016,
    "start_time": "2025-04-28T00:47:28.932Z"
   },
   {
    "duration": 502,
    "start_time": "2025-04-28T00:47:29.950Z"
   },
   {
    "duration": 2,
    "start_time": "2025-04-28T00:47:30.454Z"
   },
   {
    "duration": 5,
    "start_time": "2025-04-28T00:47:30.458Z"
   },
   {
    "duration": 11,
    "start_time": "2025-04-28T00:47:30.465Z"
   },
   {
    "duration": 44,
    "start_time": "2025-04-28T00:47:30.477Z"
   },
   {
    "duration": 370,
    "start_time": "2025-04-28T00:47:30.523Z"
   },
   {
    "duration": 95,
    "start_time": "2025-04-28T00:47:30.895Z"
   },
   {
    "duration": 279,
    "start_time": "2025-04-28T00:47:30.991Z"
   },
   {
    "duration": 220,
    "start_time": "2025-04-28T00:47:31.273Z"
   },
   {
    "duration": 92,
    "start_time": "2025-04-28T00:47:31.495Z"
   },
   {
    "duration": 3,
    "start_time": "2025-04-28T00:47:31.589Z"
   },
   {
    "duration": 664,
    "start_time": "2025-04-28T00:47:31.609Z"
   },
   {
    "duration": 4,
    "start_time": "2025-04-28T00:47:32.274Z"
   },
   {
    "duration": 8,
    "start_time": "2025-04-28T00:47:32.279Z"
   },
   {
    "duration": 31,
    "start_time": "2025-04-28T00:47:32.288Z"
   },
   {
    "duration": 17,
    "start_time": "2025-04-28T00:47:32.320Z"
   },
   {
    "duration": 232,
    "start_time": "2025-04-28T00:47:32.339Z"
   },
   {
    "duration": 73,
    "start_time": "2025-04-28T00:47:32.573Z"
   },
   {
    "duration": 15,
    "start_time": "2025-04-28T00:47:32.648Z"
   },
   {
    "duration": 67,
    "start_time": "2025-04-28T00:47:32.664Z"
   },
   {
    "duration": 18,
    "start_time": "2025-04-28T00:47:32.732Z"
   },
   {
    "duration": 188,
    "start_time": "2025-04-28T00:47:32.752Z"
   },
   {
    "duration": 170,
    "start_time": "2025-04-28T00:47:32.942Z"
   },
   {
    "duration": 17,
    "start_time": "2025-04-28T00:47:33.114Z"
   },
   {
    "duration": 29,
    "start_time": "2025-04-28T00:47:33.133Z"
   },
   {
    "duration": 5,
    "start_time": "2025-04-28T00:47:33.164Z"
   },
   {
    "duration": 41,
    "start_time": "2025-04-28T00:47:33.173Z"
   },
   {
    "duration": 23,
    "start_time": "2025-04-28T00:47:33.216Z"
   },
   {
    "duration": 6,
    "start_time": "2025-04-28T00:47:33.241Z"
   },
   {
    "duration": 4,
    "start_time": "2025-04-28T00:47:33.249Z"
   },
   {
    "duration": 16,
    "start_time": "2025-04-28T00:47:33.255Z"
   },
   {
    "duration": 54,
    "start_time": "2025-04-28T00:47:33.273Z"
   },
   {
    "duration": 6,
    "start_time": "2025-04-28T00:47:33.329Z"
   },
   {
    "duration": 10,
    "start_time": "2025-04-28T00:47:33.337Z"
   },
   {
    "duration": 4,
    "start_time": "2025-04-28T00:47:33.349Z"
   },
   {
    "duration": 94,
    "start_time": "2025-04-28T00:47:33.354Z"
   },
   {
    "duration": 46,
    "start_time": "2025-04-28T00:47:33.450Z"
   },
   {
    "duration": 27,
    "start_time": "2025-04-28T00:47:33.498Z"
   },
   {
    "duration": 82,
    "start_time": "2025-04-28T00:47:33.526Z"
   },
   {
    "duration": 1172,
    "start_time": "2025-04-28T00:47:33.610Z"
   },
   {
    "duration": 1,
    "start_time": "2025-04-28T00:47:34.783Z"
   },
   {
    "duration": 452,
    "start_time": "2025-04-28T00:48:59.077Z"
   },
   {
    "duration": 2,
    "start_time": "2025-04-28T00:48:59.943Z"
   },
   {
    "duration": 44,
    "start_time": "2025-04-28T00:49:33.384Z"
   },
   {
    "duration": 361,
    "start_time": "2025-04-28T00:50:33.011Z"
   },
   {
    "duration": 4,
    "start_time": "2025-04-28T00:50:34.514Z"
   },
   {
    "duration": 16,
    "start_time": "2025-04-28T00:50:36.333Z"
   },
   {
    "duration": 371,
    "start_time": "2025-04-28T00:50:38.312Z"
   },
   {
    "duration": 96,
    "start_time": "2025-04-28T00:50:42.369Z"
   },
   {
    "duration": 219,
    "start_time": "2025-04-28T00:50:46.257Z"
   },
   {
    "duration": 191,
    "start_time": "2025-04-28T00:50:47.672Z"
   },
   {
    "duration": 85,
    "start_time": "2025-04-28T00:50:49.538Z"
   },
   {
    "duration": 638,
    "start_time": "2025-04-28T00:50:53.104Z"
   },
   {
    "duration": 8,
    "start_time": "2025-04-28T00:50:54.928Z"
   },
   {
    "duration": 7,
    "start_time": "2025-04-28T00:51:16.150Z"
   },
   {
    "duration": 5,
    "start_time": "2025-04-28T00:51:26.999Z"
   },
   {
    "duration": 7,
    "start_time": "2025-04-28T00:51:34.161Z"
   },
   {
    "duration": 8,
    "start_time": "2025-04-28T00:51:35.342Z"
   },
   {
    "duration": 5,
    "start_time": "2025-04-28T01:03:12.426Z"
   },
   {
    "duration": 12,
    "start_time": "2025-04-28T01:04:23.065Z"
   },
   {
    "duration": 26,
    "start_time": "2025-04-28T01:08:56.821Z"
   },
   {
    "duration": 4,
    "start_time": "2025-04-28T01:14:31.079Z"
   },
   {
    "duration": 25,
    "start_time": "2025-04-28T01:25:53.447Z"
   },
   {
    "duration": 35,
    "start_time": "2025-04-28T01:37:23.973Z"
   },
   {
    "duration": 8,
    "start_time": "2025-04-28T01:38:10.611Z"
   },
   {
    "duration": 36,
    "start_time": "2025-04-28T01:39:40.889Z"
   },
   {
    "duration": 35,
    "start_time": "2025-04-28T01:39:54.258Z"
   },
   {
    "duration": 4,
    "start_time": "2025-04-28T01:40:37.338Z"
   },
   {
    "duration": 4,
    "start_time": "2025-04-28T01:40:40.253Z"
   },
   {
    "duration": 75,
    "start_time": "2025-04-28T01:40:42.204Z"
   },
   {
    "duration": 980,
    "start_time": "2025-04-28T01:47:33.953Z"
   },
   {
    "duration": 462,
    "start_time": "2025-04-28T01:47:34.935Z"
   },
   {
    "duration": 11,
    "start_time": "2025-04-28T01:47:35.399Z"
   },
   {
    "duration": 30,
    "start_time": "2025-04-28T01:47:35.412Z"
   },
   {
    "duration": 381,
    "start_time": "2025-04-28T01:47:35.445Z"
   },
   {
    "duration": 94,
    "start_time": "2025-04-28T01:47:35.828Z"
   },
   {
    "duration": 260,
    "start_time": "2025-04-28T01:47:35.924Z"
   },
   {
    "duration": 228,
    "start_time": "2025-04-28T01:47:36.185Z"
   },
   {
    "duration": 99,
    "start_time": "2025-04-28T01:47:36.415Z"
   },
   {
    "duration": 634,
    "start_time": "2025-04-28T01:47:36.516Z"
   },
   {
    "duration": 4,
    "start_time": "2025-04-28T01:47:37.151Z"
   },
   {
    "duration": 8,
    "start_time": "2025-04-28T01:47:37.156Z"
   },
   {
    "duration": 7,
    "start_time": "2025-04-28T01:47:37.166Z"
   },
   {
    "duration": 41,
    "start_time": "2025-04-28T01:47:37.177Z"
   },
   {
    "duration": 32,
    "start_time": "2025-04-28T01:47:37.219Z"
   },
   {
    "duration": 17,
    "start_time": "2025-04-28T01:47:37.253Z"
   },
   {
    "duration": 240,
    "start_time": "2025-04-28T01:47:37.271Z"
   },
   {
    "duration": 48,
    "start_time": "2025-04-28T01:47:37.513Z"
   },
   {
    "duration": 15,
    "start_time": "2025-04-28T01:47:37.563Z"
   },
   {
    "duration": 59,
    "start_time": "2025-04-28T01:47:37.579Z"
   },
   {
    "duration": 24,
    "start_time": "2025-04-28T01:47:37.639Z"
   },
   {
    "duration": 191,
    "start_time": "2025-04-28T01:47:37.664Z"
   },
   {
    "duration": 143,
    "start_time": "2025-04-28T01:47:37.856Z"
   },
   {
    "duration": 24,
    "start_time": "2025-04-28T01:47:38.001Z"
   },
   {
    "duration": 24,
    "start_time": "2025-04-28T01:47:38.027Z"
   },
   {
    "duration": 6,
    "start_time": "2025-04-28T01:47:38.053Z"
   },
   {
    "duration": 15,
    "start_time": "2025-04-28T01:47:38.061Z"
   },
   {
    "duration": 53,
    "start_time": "2025-04-28T01:47:38.078Z"
   },
   {
    "duration": 5,
    "start_time": "2025-04-28T01:47:38.133Z"
   },
   {
    "duration": 10,
    "start_time": "2025-04-28T01:47:38.139Z"
   },
   {
    "duration": 24,
    "start_time": "2025-04-28T01:47:38.150Z"
   },
   {
    "duration": 61,
    "start_time": "2025-04-28T01:47:38.176Z"
   },
   {
    "duration": 5,
    "start_time": "2025-04-28T01:47:38.239Z"
   },
   {
    "duration": 3,
    "start_time": "2025-04-28T01:47:38.246Z"
   },
   {
    "duration": 83,
    "start_time": "2025-04-28T01:47:38.251Z"
   },
   {
    "duration": 61,
    "start_time": "2025-04-28T01:47:38.335Z"
   },
   {
    "duration": 11,
    "start_time": "2025-04-28T01:47:38.398Z"
   },
   {
    "duration": 63,
    "start_time": "2025-04-28T01:47:38.411Z"
   },
   {
    "duration": 1196,
    "start_time": "2025-04-28T01:47:38.476Z"
   },
   {
    "duration": 0,
    "start_time": "2025-04-28T01:47:39.674Z"
   },
   {
    "duration": 456,
    "start_time": "2025-04-28T01:54:46.382Z"
   },
   {
    "duration": 1013,
    "start_time": "2025-04-28T01:57:50.939Z"
   },
   {
    "duration": 556,
    "start_time": "2025-04-28T01:57:51.954Z"
   },
   {
    "duration": 6,
    "start_time": "2025-04-28T01:57:52.512Z"
   },
   {
    "duration": 31,
    "start_time": "2025-04-28T01:57:52.520Z"
   },
   {
    "duration": 383,
    "start_time": "2025-04-28T01:57:52.554Z"
   },
   {
    "duration": 103,
    "start_time": "2025-04-28T01:57:52.939Z"
   },
   {
    "duration": 279,
    "start_time": "2025-04-28T01:57:53.043Z"
   },
   {
    "duration": 236,
    "start_time": "2025-04-28T01:57:53.323Z"
   },
   {
    "duration": 98,
    "start_time": "2025-04-28T01:57:53.561Z"
   },
   {
    "duration": 2,
    "start_time": "2025-04-28T01:57:53.662Z"
   },
   {
    "duration": 3,
    "start_time": "2025-04-28T01:57:53.665Z"
   },
   {
    "duration": 3,
    "start_time": "2025-04-28T01:57:53.670Z"
   },
   {
    "duration": 4,
    "start_time": "2025-04-28T01:57:53.674Z"
   },
   {
    "duration": 35,
    "start_time": "2025-04-28T01:57:53.682Z"
   },
   {
    "duration": 34,
    "start_time": "2025-04-28T01:57:53.718Z"
   },
   {
    "duration": 17,
    "start_time": "2025-04-28T01:57:53.754Z"
   },
   {
    "duration": 240,
    "start_time": "2025-04-28T01:57:53.773Z"
   },
   {
    "duration": 51,
    "start_time": "2025-04-28T01:57:54.015Z"
   },
   {
    "duration": 16,
    "start_time": "2025-04-28T01:57:54.068Z"
   },
   {
    "duration": 63,
    "start_time": "2025-04-28T01:57:54.085Z"
   },
   {
    "duration": 22,
    "start_time": "2025-04-28T01:57:54.150Z"
   },
   {
    "duration": 184,
    "start_time": "2025-04-28T01:57:54.173Z"
   },
   {
    "duration": 141,
    "start_time": "2025-04-28T01:57:54.359Z"
   },
   {
    "duration": 21,
    "start_time": "2025-04-28T01:57:54.502Z"
   },
   {
    "duration": 24,
    "start_time": "2025-04-28T01:57:54.526Z"
   },
   {
    "duration": 5,
    "start_time": "2025-04-28T01:57:54.552Z"
   },
   {
    "duration": 24,
    "start_time": "2025-04-28T01:57:54.559Z"
   },
   {
    "duration": 58,
    "start_time": "2025-04-28T01:57:54.586Z"
   },
   {
    "duration": 8,
    "start_time": "2025-04-28T01:57:54.648Z"
   },
   {
    "duration": 10,
    "start_time": "2025-04-28T01:57:54.658Z"
   },
   {
    "duration": 24,
    "start_time": "2025-04-28T01:57:54.671Z"
   },
   {
    "duration": 43,
    "start_time": "2025-04-28T01:57:54.697Z"
   },
   {
    "duration": 4,
    "start_time": "2025-04-28T01:57:54.742Z"
   },
   {
    "duration": 698,
    "start_time": "2025-04-28T01:57:54.748Z"
   },
   {
    "duration": 0,
    "start_time": "2025-04-28T01:57:55.448Z"
   },
   {
    "duration": 0,
    "start_time": "2025-04-28T01:57:55.449Z"
   },
   {
    "duration": 0,
    "start_time": "2025-04-28T01:57:55.451Z"
   },
   {
    "duration": 0,
    "start_time": "2025-04-28T01:57:55.452Z"
   },
   {
    "duration": 0,
    "start_time": "2025-04-28T01:57:55.454Z"
   },
   {
    "duration": 0,
    "start_time": "2025-04-28T01:57:55.455Z"
   },
   {
    "duration": 0,
    "start_time": "2025-04-28T01:57:55.457Z"
   },
   {
    "duration": 961,
    "start_time": "2025-04-28T01:58:58.383Z"
   },
   {
    "duration": 474,
    "start_time": "2025-04-28T01:58:59.347Z"
   },
   {
    "duration": 7,
    "start_time": "2025-04-28T01:58:59.822Z"
   },
   {
    "duration": 31,
    "start_time": "2025-04-28T01:58:59.831Z"
   },
   {
    "duration": 389,
    "start_time": "2025-04-28T01:58:59.863Z"
   },
   {
    "duration": 98,
    "start_time": "2025-04-28T01:59:00.254Z"
   },
   {
    "duration": 271,
    "start_time": "2025-04-28T01:59:00.354Z"
   },
   {
    "duration": 228,
    "start_time": "2025-04-28T01:59:00.627Z"
   },
   {
    "duration": 93,
    "start_time": "2025-04-28T01:59:00.857Z"
   },
   {
    "duration": 2,
    "start_time": "2025-04-28T01:59:00.953Z"
   },
   {
    "duration": 3,
    "start_time": "2025-04-28T01:59:00.957Z"
   },
   {
    "duration": 3,
    "start_time": "2025-04-28T01:59:00.962Z"
   },
   {
    "duration": 3,
    "start_time": "2025-04-28T01:59:00.966Z"
   },
   {
    "duration": 13,
    "start_time": "2025-04-28T01:59:00.970Z"
   },
   {
    "duration": 36,
    "start_time": "2025-04-28T01:59:01.009Z"
   },
   {
    "duration": 17,
    "start_time": "2025-04-28T01:59:01.046Z"
   },
   {
    "duration": 230,
    "start_time": "2025-04-28T01:59:01.065Z"
   },
   {
    "duration": 53,
    "start_time": "2025-04-28T01:59:01.297Z"
   },
   {
    "duration": 16,
    "start_time": "2025-04-28T01:59:01.353Z"
   },
   {
    "duration": 64,
    "start_time": "2025-04-28T01:59:01.370Z"
   },
   {
    "duration": 21,
    "start_time": "2025-04-28T01:59:01.435Z"
   },
   {
    "duration": 190,
    "start_time": "2025-04-28T01:59:01.458Z"
   },
   {
    "duration": 140,
    "start_time": "2025-04-28T01:59:01.650Z"
   },
   {
    "duration": 23,
    "start_time": "2025-04-28T01:59:01.792Z"
   },
   {
    "duration": 23,
    "start_time": "2025-04-28T01:59:01.817Z"
   },
   {
    "duration": 6,
    "start_time": "2025-04-28T01:59:01.841Z"
   },
   {
    "duration": 21,
    "start_time": "2025-04-28T01:59:01.850Z"
   },
   {
    "duration": 52,
    "start_time": "2025-04-28T01:59:01.876Z"
   },
   {
    "duration": 5,
    "start_time": "2025-04-28T01:59:01.930Z"
   },
   {
    "duration": 10,
    "start_time": "2025-04-28T01:59:01.937Z"
   },
   {
    "duration": 25,
    "start_time": "2025-04-28T01:59:01.948Z"
   },
   {
    "duration": 61,
    "start_time": "2025-04-28T01:59:01.974Z"
   },
   {
    "duration": 5,
    "start_time": "2025-04-28T01:59:02.036Z"
   },
   {
    "duration": 3,
    "start_time": "2025-04-28T01:59:02.042Z"
   },
   {
    "duration": 4,
    "start_time": "2025-04-28T01:59:02.046Z"
   },
   {
    "duration": 82,
    "start_time": "2025-04-28T01:59:02.052Z"
   },
   {
    "duration": 57,
    "start_time": "2025-04-28T01:59:02.136Z"
   },
   {
    "duration": 3,
    "start_time": "2025-04-28T01:59:02.194Z"
   },
   {
    "duration": 75,
    "start_time": "2025-04-28T01:59:02.198Z"
   },
   {
    "duration": 39755,
    "start_time": "2025-04-28T01:59:02.274Z"
   },
   {
    "duration": 40484,
    "start_time": "2025-04-28T01:59:42.031Z"
   },
   {
    "duration": 1056,
    "start_time": "2025-04-28T02:20:58.130Z"
   },
   {
    "duration": 494,
    "start_time": "2025-04-28T02:20:59.188Z"
   },
   {
    "duration": 5,
    "start_time": "2025-04-28T02:20:59.684Z"
   },
   {
    "duration": 41,
    "start_time": "2025-04-28T02:20:59.692Z"
   },
   {
    "duration": 399,
    "start_time": "2025-04-28T02:20:59.734Z"
   },
   {
    "duration": 96,
    "start_time": "2025-04-28T02:21:00.135Z"
   },
   {
    "duration": 276,
    "start_time": "2025-04-28T02:21:00.233Z"
   },
   {
    "duration": 228,
    "start_time": "2025-04-28T02:21:00.511Z"
   },
   {
    "duration": 91,
    "start_time": "2025-04-28T02:21:00.740Z"
   },
   {
    "duration": 2,
    "start_time": "2025-04-28T02:21:00.835Z"
   },
   {
    "duration": 3,
    "start_time": "2025-04-28T02:21:00.838Z"
   },
   {
    "duration": 3,
    "start_time": "2025-04-28T02:21:00.842Z"
   },
   {
    "duration": 3,
    "start_time": "2025-04-28T02:21:00.847Z"
   },
   {
    "duration": 12,
    "start_time": "2025-04-28T02:21:00.852Z"
   },
   {
    "duration": 67,
    "start_time": "2025-04-28T02:21:00.866Z"
   },
   {
    "duration": 18,
    "start_time": "2025-04-28T02:21:00.935Z"
   },
   {
    "duration": 226,
    "start_time": "2025-04-28T02:21:00.955Z"
   },
   {
    "duration": 62,
    "start_time": "2025-04-28T02:21:01.183Z"
   },
   {
    "duration": 15,
    "start_time": "2025-04-28T02:21:01.247Z"
   },
   {
    "duration": 63,
    "start_time": "2025-04-28T02:21:01.263Z"
   },
   {
    "duration": 21,
    "start_time": "2025-04-28T02:21:01.328Z"
   },
   {
    "duration": 179,
    "start_time": "2025-04-28T02:21:01.351Z"
   },
   {
    "duration": 154,
    "start_time": "2025-04-28T02:21:01.531Z"
   },
   {
    "duration": 24,
    "start_time": "2025-04-28T02:21:01.687Z"
   },
   {
    "duration": 22,
    "start_time": "2025-04-28T02:21:01.713Z"
   },
   {
    "duration": 5,
    "start_time": "2025-04-28T02:21:01.737Z"
   },
   {
    "duration": 15,
    "start_time": "2025-04-28T02:21:01.744Z"
   },
   {
    "duration": 50,
    "start_time": "2025-04-28T02:21:01.763Z"
   },
   {
    "duration": 6,
    "start_time": "2025-04-28T02:21:01.815Z"
   },
   {
    "duration": 9,
    "start_time": "2025-04-28T02:21:01.824Z"
   },
   {
    "duration": 22,
    "start_time": "2025-04-28T02:21:01.835Z"
   },
   {
    "duration": 51,
    "start_time": "2025-04-28T02:21:01.859Z"
   },
   {
    "duration": 4,
    "start_time": "2025-04-28T02:21:01.912Z"
   },
   {
    "duration": 2,
    "start_time": "2025-04-28T02:21:01.917Z"
   },
   {
    "duration": 4,
    "start_time": "2025-04-28T02:21:01.921Z"
   },
   {
    "duration": 85,
    "start_time": "2025-04-28T02:21:01.926Z"
   },
   {
    "duration": 56,
    "start_time": "2025-04-28T02:21:02.013Z"
   },
   {
    "duration": 2,
    "start_time": "2025-04-28T02:21:02.071Z"
   },
   {
    "duration": 74,
    "start_time": "2025-04-28T02:21:02.076Z"
   },
   {
    "duration": 35472,
    "start_time": "2025-04-28T02:21:02.151Z"
   },
   {
    "duration": 41358,
    "start_time": "2025-04-28T02:21:37.625Z"
   },
   {
    "duration": 3,
    "start_time": "2025-04-28T02:22:18.986Z"
   },
   {
    "duration": 38534,
    "start_time": "2025-04-28T02:22:18.991Z"
   },
   {
    "duration": 10,
    "start_time": "2025-04-28T02:31:15.184Z"
   },
   {
    "duration": 14,
    "start_time": "2025-04-28T02:33:12.754Z"
   },
   {
    "duration": 33269,
    "start_time": "2025-04-28T02:33:55.605Z"
   },
   {
    "duration": 32072,
    "start_time": "2025-04-28T02:43:56.240Z"
   },
   {
    "duration": 34636,
    "start_time": "2025-04-28T02:45:47.584Z"
   },
   {
    "duration": 39243,
    "start_time": "2025-04-28T02:52:48.172Z"
   },
   {
    "duration": 34393,
    "start_time": "2025-04-28T02:55:06.920Z"
   },
   {
    "duration": 16,
    "start_time": "2025-04-28T03:11:32.186Z"
   },
   {
    "duration": 3083,
    "start_time": "2025-04-28T03:14:29.107Z"
   },
   {
    "duration": 3174,
    "start_time": "2025-04-28T03:15:30.817Z"
   },
   {
    "duration": 17,
    "start_time": "2025-04-28T03:25:23.338Z"
   },
   {
    "duration": 6,
    "start_time": "2025-04-28T03:33:01.976Z"
   },
   {
    "duration": 7,
    "start_time": "2025-04-28T03:35:25.389Z"
   },
   {
    "duration": 8,
    "start_time": "2025-04-28T03:37:50.435Z"
   },
   {
    "duration": 10757,
    "start_time": "2025-04-28T03:41:15.457Z"
   },
   {
    "duration": 11077,
    "start_time": "2025-04-28T03:41:37.848Z"
   },
   {
    "duration": 1097,
    "start_time": "2025-04-28T03:45:16.316Z"
   },
   {
    "duration": 474,
    "start_time": "2025-04-28T03:45:17.415Z"
   },
   {
    "duration": 5,
    "start_time": "2025-04-28T03:45:17.890Z"
   },
   {
    "duration": 33,
    "start_time": "2025-04-28T03:45:17.908Z"
   },
   {
    "duration": 384,
    "start_time": "2025-04-28T03:45:17.944Z"
   },
   {
    "duration": 102,
    "start_time": "2025-04-28T03:45:18.331Z"
   },
   {
    "duration": 298,
    "start_time": "2025-04-28T03:45:18.434Z"
   },
   {
    "duration": 250,
    "start_time": "2025-04-28T03:45:18.735Z"
   },
   {
    "duration": 96,
    "start_time": "2025-04-28T03:45:18.986Z"
   },
   {
    "duration": 2,
    "start_time": "2025-04-28T03:45:19.084Z"
   },
   {
    "duration": 3,
    "start_time": "2025-04-28T03:45:19.088Z"
   },
   {
    "duration": 3,
    "start_time": "2025-04-28T03:45:19.092Z"
   },
   {
    "duration": 4,
    "start_time": "2025-04-28T03:45:19.109Z"
   },
   {
    "duration": 13,
    "start_time": "2025-04-28T03:45:19.117Z"
   },
   {
    "duration": 35,
    "start_time": "2025-04-28T03:45:19.131Z"
   },
   {
    "duration": 18,
    "start_time": "2025-04-28T03:45:19.167Z"
   },
   {
    "duration": 249,
    "start_time": "2025-04-28T03:45:19.187Z"
   },
   {
    "duration": 48,
    "start_time": "2025-04-28T03:45:19.438Z"
   },
   {
    "duration": 23,
    "start_time": "2025-04-28T03:45:19.488Z"
   },
   {
    "duration": 53,
    "start_time": "2025-04-28T03:45:19.513Z"
   },
   {
    "duration": 21,
    "start_time": "2025-04-28T03:45:19.568Z"
   },
   {
    "duration": 183,
    "start_time": "2025-04-28T03:45:19.591Z"
   },
   {
    "duration": 138,
    "start_time": "2025-04-28T03:45:19.776Z"
   },
   {
    "duration": 19,
    "start_time": "2025-04-28T03:45:19.916Z"
   },
   {
    "duration": 23,
    "start_time": "2025-04-28T03:45:19.936Z"
   },
   {
    "duration": 5,
    "start_time": "2025-04-28T03:45:19.961Z"
   },
   {
    "duration": 45,
    "start_time": "2025-04-28T03:45:19.967Z"
   },
   {
    "duration": 26,
    "start_time": "2025-04-28T03:45:20.015Z"
   },
   {
    "duration": 5,
    "start_time": "2025-04-28T03:45:20.043Z"
   },
   {
    "duration": 10,
    "start_time": "2025-04-28T03:45:20.050Z"
   },
   {
    "duration": 47,
    "start_time": "2025-04-28T03:45:20.063Z"
   },
   {
    "duration": 32,
    "start_time": "2025-04-28T03:45:20.112Z"
   },
   {
    "duration": 5,
    "start_time": "2025-04-28T03:45:20.146Z"
   },
   {
    "duration": 2,
    "start_time": "2025-04-28T03:45:20.152Z"
   },
   {
    "duration": 4,
    "start_time": "2025-04-28T03:45:20.156Z"
   },
   {
    "duration": 87,
    "start_time": "2025-04-28T03:45:20.162Z"
   },
   {
    "duration": 66,
    "start_time": "2025-04-28T03:45:20.251Z"
   },
   {
    "duration": 3,
    "start_time": "2025-04-28T03:45:20.319Z"
   },
   {
    "duration": 65,
    "start_time": "2025-04-28T03:45:20.324Z"
   },
   {
    "duration": 20,
    "start_time": "2025-04-28T03:45:20.391Z"
   },
   {
    "duration": 10702,
    "start_time": "2025-04-28T03:45:20.418Z"
   },
   {
    "duration": 35699,
    "start_time": "2025-04-28T03:45:31.123Z"
   },
   {
    "duration": 35603,
    "start_time": "2025-04-28T03:46:06.824Z"
   },
   {
    "duration": 40539,
    "start_time": "2025-04-28T03:46:42.429Z"
   },
   {
    "duration": 28676,
    "start_time": "2025-04-28T03:57:20.153Z"
   },
   {
    "duration": 1022,
    "start_time": "2025-04-28T04:03:54.236Z"
   },
   {
    "duration": 462,
    "start_time": "2025-04-28T04:03:55.260Z"
   },
   {
    "duration": 6,
    "start_time": "2025-04-28T04:03:55.724Z"
   },
   {
    "duration": 34,
    "start_time": "2025-04-28T04:03:55.731Z"
   },
   {
    "duration": 391,
    "start_time": "2025-04-28T04:03:55.769Z"
   },
   {
    "duration": 100,
    "start_time": "2025-04-28T04:03:56.162Z"
   },
   {
    "duration": 273,
    "start_time": "2025-04-28T04:03:56.264Z"
   },
   {
    "duration": 227,
    "start_time": "2025-04-28T04:03:56.539Z"
   },
   {
    "duration": 90,
    "start_time": "2025-04-28T04:03:56.768Z"
   },
   {
    "duration": 2,
    "start_time": "2025-04-28T04:03:56.860Z"
   },
   {
    "duration": 3,
    "start_time": "2025-04-28T04:03:56.864Z"
   },
   {
    "duration": 4,
    "start_time": "2025-04-28T04:03:56.868Z"
   },
   {
    "duration": 3,
    "start_time": "2025-04-28T04:03:56.873Z"
   },
   {
    "duration": 37,
    "start_time": "2025-04-28T04:03:56.880Z"
   },
   {
    "duration": 34,
    "start_time": "2025-04-28T04:03:56.919Z"
   },
   {
    "duration": 16,
    "start_time": "2025-04-28T04:03:56.955Z"
   },
   {
    "duration": 236,
    "start_time": "2025-04-28T04:03:56.973Z"
   },
   {
    "duration": 51,
    "start_time": "2025-04-28T04:03:57.210Z"
   },
   {
    "duration": 17,
    "start_time": "2025-04-28T04:03:57.263Z"
   },
   {
    "duration": 64,
    "start_time": "2025-04-28T04:03:57.284Z"
   },
   {
    "duration": 22,
    "start_time": "2025-04-28T04:03:57.350Z"
   },
   {
    "duration": 181,
    "start_time": "2025-04-28T04:03:57.374Z"
   },
   {
    "duration": 140,
    "start_time": "2025-04-28T04:03:57.556Z"
   },
   {
    "duration": 21,
    "start_time": "2025-04-28T04:03:57.697Z"
   },
   {
    "duration": 23,
    "start_time": "2025-04-28T04:03:57.720Z"
   },
   {
    "duration": 5,
    "start_time": "2025-04-28T04:03:57.745Z"
   },
   {
    "duration": 15,
    "start_time": "2025-04-28T04:03:57.752Z"
   },
   {
    "duration": 56,
    "start_time": "2025-04-28T04:03:57.769Z"
   },
   {
    "duration": 6,
    "start_time": "2025-04-28T04:03:57.827Z"
   },
   {
    "duration": 11,
    "start_time": "2025-04-28T04:03:57.834Z"
   },
   {
    "duration": 24,
    "start_time": "2025-04-28T04:03:57.846Z"
   },
   {
    "duration": 57,
    "start_time": "2025-04-28T04:03:57.872Z"
   },
   {
    "duration": 4,
    "start_time": "2025-04-28T04:03:57.931Z"
   },
   {
    "duration": 3,
    "start_time": "2025-04-28T04:03:57.937Z"
   },
   {
    "duration": 4,
    "start_time": "2025-04-28T04:03:57.941Z"
   },
   {
    "duration": 88,
    "start_time": "2025-04-28T04:03:57.947Z"
   },
   {
    "duration": 58,
    "start_time": "2025-04-28T04:03:58.037Z"
   },
   {
    "duration": 12,
    "start_time": "2025-04-28T04:03:58.097Z"
   },
   {
    "duration": 66,
    "start_time": "2025-04-28T04:03:58.110Z"
   },
   {
    "duration": 3,
    "start_time": "2025-04-28T04:03:58.178Z"
   },
   {
    "duration": 28931,
    "start_time": "2025-04-28T04:03:58.186Z"
   },
   {
    "duration": 40900,
    "start_time": "2025-04-28T04:04:27.119Z"
   },
   {
    "duration": 22931,
    "start_time": "2025-04-28T04:07:52.793Z"
   },
   {
    "duration": 3202,
    "start_time": "2025-04-28T04:21:58.172Z"
   },
   {
    "duration": 1020,
    "start_time": "2025-04-28T04:25:59.127Z"
   },
   {
    "duration": 460,
    "start_time": "2025-04-28T04:26:00.149Z"
   },
   {
    "duration": 6,
    "start_time": "2025-04-28T04:26:00.611Z"
   },
   {
    "duration": 31,
    "start_time": "2025-04-28T04:26:00.620Z"
   },
   {
    "duration": 391,
    "start_time": "2025-04-28T04:26:00.653Z"
   },
   {
    "duration": 96,
    "start_time": "2025-04-28T04:26:01.045Z"
   },
   {
    "duration": 268,
    "start_time": "2025-04-28T04:26:01.143Z"
   },
   {
    "duration": 234,
    "start_time": "2025-04-28T04:26:01.413Z"
   },
   {
    "duration": 93,
    "start_time": "2025-04-28T04:26:01.649Z"
   },
   {
    "duration": 2,
    "start_time": "2025-04-28T04:26:01.745Z"
   },
   {
    "duration": 2,
    "start_time": "2025-04-28T04:26:01.749Z"
   },
   {
    "duration": 3,
    "start_time": "2025-04-28T04:26:01.753Z"
   },
   {
    "duration": 4,
    "start_time": "2025-04-28T04:26:01.757Z"
   },
   {
    "duration": 13,
    "start_time": "2025-04-28T04:26:01.762Z"
   },
   {
    "duration": 65,
    "start_time": "2025-04-28T04:26:01.777Z"
   },
   {
    "duration": 18,
    "start_time": "2025-04-28T04:26:01.843Z"
   },
   {
    "duration": 229,
    "start_time": "2025-04-28T04:26:01.863Z"
   },
   {
    "duration": 54,
    "start_time": "2025-04-28T04:26:02.094Z"
   },
   {
    "duration": 15,
    "start_time": "2025-04-28T04:26:02.150Z"
   },
   {
    "duration": 67,
    "start_time": "2025-04-28T04:26:02.167Z"
   },
   {
    "duration": 22,
    "start_time": "2025-04-28T04:26:02.236Z"
   },
   {
    "duration": 174,
    "start_time": "2025-04-28T04:26:02.260Z"
   },
   {
    "duration": 140,
    "start_time": "2025-04-28T04:26:02.436Z"
   },
   {
    "duration": 18,
    "start_time": "2025-04-28T04:26:02.578Z"
   },
   {
    "duration": 34,
    "start_time": "2025-04-28T04:26:02.597Z"
   },
   {
    "duration": 5,
    "start_time": "2025-04-28T04:26:02.633Z"
   },
   {
    "duration": 16,
    "start_time": "2025-04-28T04:26:02.640Z"
   },
   {
    "duration": 53,
    "start_time": "2025-04-28T04:26:02.660Z"
   },
   {
    "duration": 6,
    "start_time": "2025-04-28T04:26:02.716Z"
   },
   {
    "duration": 12,
    "start_time": "2025-04-28T04:26:02.723Z"
   },
   {
    "duration": 24,
    "start_time": "2025-04-28T04:26:02.736Z"
   },
   {
    "duration": 54,
    "start_time": "2025-04-28T04:26:02.762Z"
   },
   {
    "duration": 4,
    "start_time": "2025-04-28T04:26:02.818Z"
   },
   {
    "duration": 2,
    "start_time": "2025-04-28T04:26:02.824Z"
   },
   {
    "duration": 4,
    "start_time": "2025-04-28T04:26:02.828Z"
   },
   {
    "duration": 89,
    "start_time": "2025-04-28T04:26:02.834Z"
   },
   {
    "duration": 57,
    "start_time": "2025-04-28T04:26:02.925Z"
   },
   {
    "duration": 3,
    "start_time": "2025-04-28T04:26:02.983Z"
   },
   {
    "duration": 79,
    "start_time": "2025-04-28T04:26:02.988Z"
   },
   {
    "duration": 2,
    "start_time": "2025-04-28T04:26:03.069Z"
   },
   {
    "duration": 3074,
    "start_time": "2025-04-28T04:26:03.074Z"
   },
   {
    "duration": 0,
    "start_time": "2025-04-28T04:26:06.150Z"
   },
   {
    "duration": 22850,
    "start_time": "2025-04-28T04:30:04.769Z"
   },
   {
    "duration": 25446,
    "start_time": "2025-04-28T04:33:06.662Z"
   },
   {
    "duration": 27248,
    "start_time": "2025-04-28T04:50:15.657Z"
   },
   {
    "duration": 27296,
    "start_time": "2025-04-28T04:54:24.330Z"
   },
   {
    "duration": 2708,
    "start_time": "2025-04-28T17:45:48.152Z"
   },
   {
    "duration": 459,
    "start_time": "2025-04-28T17:45:50.862Z"
   },
   {
    "duration": 7,
    "start_time": "2025-04-28T17:45:51.323Z"
   },
   {
    "duration": 30,
    "start_time": "2025-04-28T17:45:51.335Z"
   },
   {
    "duration": 379,
    "start_time": "2025-04-28T17:45:51.368Z"
   },
   {
    "duration": 95,
    "start_time": "2025-04-28T17:45:51.748Z"
   },
   {
    "duration": 263,
    "start_time": "2025-04-28T17:45:51.846Z"
   },
   {
    "duration": 234,
    "start_time": "2025-04-28T17:45:52.111Z"
   },
   {
    "duration": 96,
    "start_time": "2025-04-28T17:45:52.347Z"
   },
   {
    "duration": 4,
    "start_time": "2025-04-28T17:45:52.446Z"
   },
   {
    "duration": 2,
    "start_time": "2025-04-28T17:45:52.452Z"
   },
   {
    "duration": 2,
    "start_time": "2025-04-28T17:45:52.456Z"
   },
   {
    "duration": 3,
    "start_time": "2025-04-28T17:45:52.460Z"
   },
   {
    "duration": 12,
    "start_time": "2025-04-28T17:45:52.465Z"
   },
   {
    "duration": 57,
    "start_time": "2025-04-28T17:45:52.479Z"
   },
   {
    "duration": 18,
    "start_time": "2025-04-28T17:45:52.538Z"
   },
   {
    "duration": 216,
    "start_time": "2025-04-28T17:45:52.558Z"
   },
   {
    "duration": 59,
    "start_time": "2025-04-28T17:45:52.776Z"
   },
   {
    "duration": 16,
    "start_time": "2025-04-28T17:45:52.836Z"
   },
   {
    "duration": 48,
    "start_time": "2025-04-28T17:45:52.853Z"
   },
   {
    "duration": 33,
    "start_time": "2025-04-28T17:45:52.902Z"
   },
   {
    "duration": 172,
    "start_time": "2025-04-28T17:45:52.938Z"
   },
   {
    "duration": 141,
    "start_time": "2025-04-28T17:45:53.112Z"
   },
   {
    "duration": 17,
    "start_time": "2025-04-28T17:45:53.254Z"
   },
   {
    "duration": 22,
    "start_time": "2025-04-28T17:45:53.272Z"
   },
   {
    "duration": 27,
    "start_time": "2025-04-28T17:45:53.296Z"
   },
   {
    "duration": 14,
    "start_time": "2025-04-28T17:45:53.325Z"
   },
   {
    "duration": 26,
    "start_time": "2025-04-28T17:45:53.344Z"
   },
   {
    "duration": 7,
    "start_time": "2025-04-28T17:45:53.371Z"
   },
   {
    "duration": 10,
    "start_time": "2025-04-28T17:45:53.380Z"
   },
   {
    "duration": 26,
    "start_time": "2025-04-28T17:45:53.420Z"
   },
   {
    "duration": 33,
    "start_time": "2025-04-28T17:45:53.448Z"
   },
   {
    "duration": 5,
    "start_time": "2025-04-28T17:45:53.483Z"
   },
   {
    "duration": 2,
    "start_time": "2025-04-28T17:45:53.490Z"
   },
   {
    "duration": 27,
    "start_time": "2025-04-28T17:45:53.494Z"
   },
   {
    "duration": 64,
    "start_time": "2025-04-28T17:45:53.523Z"
   },
   {
    "duration": 76,
    "start_time": "2025-04-28T17:45:53.589Z"
   },
   {
    "duration": 3,
    "start_time": "2025-04-28T17:45:53.666Z"
   },
   {
    "duration": 71,
    "start_time": "2025-04-28T17:45:53.671Z"
   },
   {
    "duration": 3,
    "start_time": "2025-04-28T17:45:53.743Z"
   },
   {
    "duration": 22193,
    "start_time": "2025-04-28T17:45:53.747Z"
   },
   {
    "duration": 26477,
    "start_time": "2025-04-28T17:46:16.019Z"
   },
   {
    "duration": 953,
    "start_time": "2025-04-28T18:09:05.290Z"
   },
   {
    "duration": 473,
    "start_time": "2025-04-28T18:09:06.245Z"
   },
   {
    "duration": 4,
    "start_time": "2025-04-28T18:09:06.720Z"
   },
   {
    "duration": 33,
    "start_time": "2025-04-28T18:09:06.726Z"
   },
   {
    "duration": 397,
    "start_time": "2025-04-28T18:09:06.762Z"
   },
   {
    "duration": 96,
    "start_time": "2025-04-28T18:09:07.161Z"
   },
   {
    "duration": 253,
    "start_time": "2025-04-28T18:09:07.259Z"
   },
   {
    "duration": 229,
    "start_time": "2025-04-28T18:09:07.514Z"
   },
   {
    "duration": 96,
    "start_time": "2025-04-28T18:09:07.745Z"
   },
   {
    "duration": 2,
    "start_time": "2025-04-28T18:09:07.843Z"
   },
   {
    "duration": 4,
    "start_time": "2025-04-28T18:09:07.847Z"
   },
   {
    "duration": 3,
    "start_time": "2025-04-28T18:09:07.852Z"
   },
   {
    "duration": 3,
    "start_time": "2025-04-28T18:09:07.857Z"
   },
   {
    "duration": 13,
    "start_time": "2025-04-28T18:09:07.864Z"
   },
   {
    "duration": 61,
    "start_time": "2025-04-28T18:09:07.878Z"
   },
   {
    "duration": 17,
    "start_time": "2025-04-28T18:09:07.941Z"
   },
   {
    "duration": 230,
    "start_time": "2025-04-28T18:09:07.960Z"
   },
   {
    "duration": 66,
    "start_time": "2025-04-28T18:09:08.192Z"
   },
   {
    "duration": 16,
    "start_time": "2025-04-28T18:09:08.260Z"
   },
   {
    "duration": 59,
    "start_time": "2025-04-28T18:09:08.277Z"
   },
   {
    "duration": 26,
    "start_time": "2025-04-28T18:09:08.337Z"
   },
   {
    "duration": 195,
    "start_time": "2025-04-28T18:09:08.366Z"
   },
   {
    "duration": 142,
    "start_time": "2025-04-28T18:09:08.563Z"
   },
   {
    "duration": 24,
    "start_time": "2025-04-28T18:09:08.708Z"
   },
   {
    "duration": 23,
    "start_time": "2025-04-28T18:09:08.734Z"
   },
   {
    "duration": 6,
    "start_time": "2025-04-28T18:09:08.759Z"
   },
   {
    "duration": 15,
    "start_time": "2025-04-28T18:09:08.767Z"
   },
   {
    "duration": 50,
    "start_time": "2025-04-28T18:09:08.784Z"
   },
   {
    "duration": 6,
    "start_time": "2025-04-28T18:09:08.836Z"
   },
   {
    "duration": 11,
    "start_time": "2025-04-28T18:09:08.844Z"
   },
   {
    "duration": 27,
    "start_time": "2025-04-28T18:09:08.857Z"
   },
   {
    "duration": 54,
    "start_time": "2025-04-28T18:09:08.885Z"
   },
   {
    "duration": 5,
    "start_time": "2025-04-28T18:09:08.940Z"
   },
   {
    "duration": 3,
    "start_time": "2025-04-28T18:09:08.947Z"
   },
   {
    "duration": 5,
    "start_time": "2025-04-28T18:09:08.951Z"
   },
   {
    "duration": 84,
    "start_time": "2025-04-28T18:09:08.957Z"
   },
   {
    "duration": 59,
    "start_time": "2025-04-28T18:09:09.042Z"
   },
   {
    "duration": 17,
    "start_time": "2025-04-28T18:09:09.103Z"
   },
   {
    "duration": 62,
    "start_time": "2025-04-28T18:09:09.122Z"
   },
   {
    "duration": 3,
    "start_time": "2025-04-28T18:09:09.185Z"
   },
   {
    "duration": 23738,
    "start_time": "2025-04-28T18:09:09.193Z"
   },
   {
    "duration": 26833,
    "start_time": "2025-04-28T18:09:32.933Z"
   },
   {
    "duration": 964,
    "start_time": "2025-04-28T18:45:19.844Z"
   },
   {
    "duration": 472,
    "start_time": "2025-04-28T18:45:20.812Z"
   },
   {
    "duration": 5,
    "start_time": "2025-04-28T18:45:21.286Z"
   },
   {
    "duration": 39,
    "start_time": "2025-04-28T18:45:21.292Z"
   },
   {
    "duration": 375,
    "start_time": "2025-04-28T18:45:21.334Z"
   },
   {
    "duration": 100,
    "start_time": "2025-04-28T18:45:21.711Z"
   },
   {
    "duration": 263,
    "start_time": "2025-04-28T18:45:21.820Z"
   },
   {
    "duration": 224,
    "start_time": "2025-04-28T18:45:22.085Z"
   },
   {
    "duration": 93,
    "start_time": "2025-04-28T18:45:22.311Z"
   },
   {
    "duration": 2,
    "start_time": "2025-04-28T18:45:22.407Z"
   },
   {
    "duration": 3,
    "start_time": "2025-04-28T18:45:22.419Z"
   },
   {
    "duration": 2,
    "start_time": "2025-04-28T18:45:22.424Z"
   },
   {
    "duration": 3,
    "start_time": "2025-04-28T18:45:22.428Z"
   },
   {
    "duration": 12,
    "start_time": "2025-04-28T18:45:22.435Z"
   },
   {
    "duration": 31,
    "start_time": "2025-04-28T18:45:22.449Z"
   },
   {
    "duration": 49,
    "start_time": "2025-04-28T18:45:22.482Z"
   },
   {
    "duration": 212,
    "start_time": "2025-04-28T18:45:22.533Z"
   },
   {
    "duration": 50,
    "start_time": "2025-04-28T18:45:22.747Z"
   },
   {
    "duration": 31,
    "start_time": "2025-04-28T18:45:22.799Z"
   },
   {
    "duration": 49,
    "start_time": "2025-04-28T18:45:22.832Z"
   },
   {
    "duration": 21,
    "start_time": "2025-04-28T18:45:22.882Z"
   },
   {
    "duration": 175,
    "start_time": "2025-04-28T18:45:22.905Z"
   },
   {
    "duration": 144,
    "start_time": "2025-04-28T18:45:23.082Z"
   },
   {
    "duration": 18,
    "start_time": "2025-04-28T18:45:23.228Z"
   },
   {
    "duration": 27,
    "start_time": "2025-04-28T18:45:23.248Z"
   },
   {
    "duration": 6,
    "start_time": "2025-04-28T18:45:23.277Z"
   },
   {
    "duration": 35,
    "start_time": "2025-04-28T18:45:23.285Z"
   },
   {
    "duration": 25,
    "start_time": "2025-04-28T18:45:23.322Z"
   },
   {
    "duration": 5,
    "start_time": "2025-04-28T18:45:23.349Z"
   },
   {
    "duration": 9,
    "start_time": "2025-04-28T18:45:23.356Z"
   },
   {
    "duration": 26,
    "start_time": "2025-04-28T18:45:23.367Z"
   },
   {
    "duration": 59,
    "start_time": "2025-04-28T18:45:23.394Z"
   },
   {
    "duration": 6,
    "start_time": "2025-04-28T18:45:23.455Z"
   },
   {
    "duration": 3,
    "start_time": "2025-04-28T18:45:23.462Z"
   },
   {
    "duration": 3,
    "start_time": "2025-04-28T18:45:23.467Z"
   },
   {
    "duration": 81,
    "start_time": "2025-04-28T18:45:23.472Z"
   },
   {
    "duration": 64,
    "start_time": "2025-04-28T18:45:23.555Z"
   },
   {
    "duration": 2,
    "start_time": "2025-04-28T18:45:23.621Z"
   },
   {
    "duration": 61,
    "start_time": "2025-04-28T18:45:23.625Z"
   },
   {
    "duration": 3,
    "start_time": "2025-04-28T18:45:23.689Z"
   },
   {
    "duration": 22829,
    "start_time": "2025-04-28T18:45:23.696Z"
   },
   {
    "duration": 984,
    "start_time": "2025-04-28T18:56:46.348Z"
   },
   {
    "duration": 450,
    "start_time": "2025-04-28T18:56:47.334Z"
   },
   {
    "duration": 5,
    "start_time": "2025-04-28T18:56:47.785Z"
   },
   {
    "duration": 44,
    "start_time": "2025-04-28T18:56:47.793Z"
   },
   {
    "duration": 361,
    "start_time": "2025-04-28T18:56:47.839Z"
   },
   {
    "duration": 93,
    "start_time": "2025-04-28T18:56:48.202Z"
   },
   {
    "duration": 281,
    "start_time": "2025-04-28T18:56:48.297Z"
   },
   {
    "duration": 220,
    "start_time": "2025-04-28T18:56:48.580Z"
   },
   {
    "duration": 91,
    "start_time": "2025-04-28T18:56:48.802Z"
   },
   {
    "duration": 2,
    "start_time": "2025-04-28T18:56:48.896Z"
   },
   {
    "duration": 3,
    "start_time": "2025-04-28T18:56:48.900Z"
   },
   {
    "duration": 16,
    "start_time": "2025-04-28T18:56:48.905Z"
   },
   {
    "duration": 3,
    "start_time": "2025-04-28T18:56:48.923Z"
   },
   {
    "duration": 13,
    "start_time": "2025-04-28T18:56:48.927Z"
   },
   {
    "duration": 32,
    "start_time": "2025-04-28T18:56:48.942Z"
   },
   {
    "duration": 17,
    "start_time": "2025-04-28T18:56:48.976Z"
   },
   {
    "duration": 240,
    "start_time": "2025-04-28T18:56:48.994Z"
   },
   {
    "duration": 49,
    "start_time": "2025-04-28T18:56:49.236Z"
   },
   {
    "duration": 15,
    "start_time": "2025-04-28T18:56:49.287Z"
   },
   {
    "duration": 61,
    "start_time": "2025-04-28T18:56:49.304Z"
   },
   {
    "duration": 21,
    "start_time": "2025-04-28T18:56:49.366Z"
   },
   {
    "duration": 181,
    "start_time": "2025-04-28T18:56:49.389Z"
   },
   {
    "duration": 138,
    "start_time": "2025-04-28T18:56:49.572Z"
   },
   {
    "duration": 22,
    "start_time": "2025-04-28T18:56:49.712Z"
   },
   {
    "duration": 21,
    "start_time": "2025-04-28T18:56:49.735Z"
   },
   {
    "duration": 6,
    "start_time": "2025-04-28T18:56:49.758Z"
   },
   {
    "duration": 15,
    "start_time": "2025-04-28T18:56:49.765Z"
   },
   {
    "duration": 54,
    "start_time": "2025-04-28T18:56:49.784Z"
   },
   {
    "duration": 6,
    "start_time": "2025-04-28T18:56:49.840Z"
   },
   {
    "duration": 9,
    "start_time": "2025-04-28T18:56:49.848Z"
   },
   {
    "duration": 22,
    "start_time": "2025-04-28T18:56:49.859Z"
   },
   {
    "duration": 53,
    "start_time": "2025-04-28T18:56:49.883Z"
   },
   {
    "duration": 4,
    "start_time": "2025-04-28T18:56:49.937Z"
   },
   {
    "duration": 3,
    "start_time": "2025-04-28T18:56:49.943Z"
   },
   {
    "duration": 4,
    "start_time": "2025-04-28T18:56:49.948Z"
   },
   {
    "duration": 86,
    "start_time": "2025-04-28T18:56:49.953Z"
   },
   {
    "duration": 57,
    "start_time": "2025-04-28T18:56:50.040Z"
   },
   {
    "duration": 2,
    "start_time": "2025-04-28T18:56:50.099Z"
   },
   {
    "duration": 75,
    "start_time": "2025-04-28T18:56:50.103Z"
   },
   {
    "duration": 4,
    "start_time": "2025-04-28T18:56:50.179Z"
   },
   {
    "duration": 22151,
    "start_time": "2025-04-28T18:56:50.184Z"
   },
   {
    "duration": 59991,
    "start_time": "2025-04-28T18:57:12.337Z"
   },
   {
    "duration": 29405,
    "start_time": "2025-04-28T18:58:12.330Z"
   },
   {
    "duration": 63805,
    "start_time": "2025-04-28T19:00:00.017Z"
   },
   {
    "duration": 923,
    "start_time": "2025-04-28T19:43:25.393Z"
   },
   {
    "duration": 446,
    "start_time": "2025-04-28T19:43:26.319Z"
   },
   {
    "duration": 5,
    "start_time": "2025-04-28T19:43:26.767Z"
   },
   {
    "duration": 45,
    "start_time": "2025-04-28T19:43:26.774Z"
   },
   {
    "duration": 363,
    "start_time": "2025-04-28T19:43:26.821Z"
   },
   {
    "duration": 99,
    "start_time": "2025-04-28T19:43:27.186Z"
   },
   {
    "duration": 259,
    "start_time": "2025-04-28T19:43:27.286Z"
   },
   {
    "duration": 219,
    "start_time": "2025-04-28T19:43:27.548Z"
   },
   {
    "duration": 90,
    "start_time": "2025-04-28T19:43:27.768Z"
   },
   {
    "duration": 2,
    "start_time": "2025-04-28T19:43:27.862Z"
   },
   {
    "duration": 2,
    "start_time": "2025-04-28T19:43:27.866Z"
   },
   {
    "duration": 3,
    "start_time": "2025-04-28T19:43:27.870Z"
   },
   {
    "duration": 3,
    "start_time": "2025-04-28T19:43:27.875Z"
   },
   {
    "duration": 13,
    "start_time": "2025-04-28T19:43:27.879Z"
   },
   {
    "duration": 32,
    "start_time": "2025-04-28T19:43:27.920Z"
   },
   {
    "duration": 18,
    "start_time": "2025-04-28T19:43:27.954Z"
   },
   {
    "duration": 227,
    "start_time": "2025-04-28T19:43:27.974Z"
   },
   {
    "duration": 57,
    "start_time": "2025-04-28T19:43:28.203Z"
   },
   {
    "duration": 15,
    "start_time": "2025-04-28T19:43:28.262Z"
   },
   {
    "duration": 63,
    "start_time": "2025-04-28T19:43:28.278Z"
   },
   {
    "duration": 21,
    "start_time": "2025-04-28T19:43:28.342Z"
   },
   {
    "duration": 185,
    "start_time": "2025-04-28T19:43:28.365Z"
   },
   {
    "duration": 156,
    "start_time": "2025-04-28T19:43:28.552Z"
   },
   {
    "duration": 21,
    "start_time": "2025-04-28T19:43:28.710Z"
   },
   {
    "duration": 21,
    "start_time": "2025-04-28T19:43:28.732Z"
   },
   {
    "duration": 5,
    "start_time": "2025-04-28T19:43:28.755Z"
   },
   {
    "duration": 15,
    "start_time": "2025-04-28T19:43:28.762Z"
   },
   {
    "duration": 49,
    "start_time": "2025-04-28T19:43:28.781Z"
   },
   {
    "duration": 5,
    "start_time": "2025-04-28T19:43:28.833Z"
   },
   {
    "duration": 11,
    "start_time": "2025-04-28T19:43:28.840Z"
   },
   {
    "duration": 23,
    "start_time": "2025-04-28T19:43:28.852Z"
   },
   {
    "duration": 56,
    "start_time": "2025-04-28T19:43:28.876Z"
   },
   {
    "duration": 5,
    "start_time": "2025-04-28T19:43:28.934Z"
   },
   {
    "duration": 4,
    "start_time": "2025-04-28T19:43:28.943Z"
   },
   {
    "duration": 5,
    "start_time": "2025-04-28T19:43:28.949Z"
   },
   {
    "duration": 81,
    "start_time": "2025-04-28T19:43:28.956Z"
   },
   {
    "duration": 63,
    "start_time": "2025-04-28T19:43:29.038Z"
   },
   {
    "duration": 3,
    "start_time": "2025-04-28T19:43:29.102Z"
   },
   {
    "duration": 74,
    "start_time": "2025-04-28T19:43:29.106Z"
   },
   {
    "duration": 2,
    "start_time": "2025-04-28T19:43:29.182Z"
   },
   {
    "duration": 59649,
    "start_time": "2025-04-28T19:43:29.186Z"
   },
   {
    "duration": 27988,
    "start_time": "2025-04-28T19:44:28.836Z"
   },
   {
    "duration": 3029,
    "start_time": "2025-04-29T17:20:12.479Z"
   },
   {
    "duration": 547,
    "start_time": "2025-04-29T17:20:15.510Z"
   },
   {
    "duration": 5,
    "start_time": "2025-04-29T17:20:16.058Z"
   },
   {
    "duration": 56,
    "start_time": "2025-04-29T17:20:16.065Z"
   },
   {
    "duration": 408,
    "start_time": "2025-04-29T17:20:16.123Z"
   },
   {
    "duration": 109,
    "start_time": "2025-04-29T17:20:16.534Z"
   },
   {
    "duration": 297,
    "start_time": "2025-04-29T17:20:16.646Z"
   },
   {
    "duration": 257,
    "start_time": "2025-04-29T17:20:16.945Z"
   },
   {
    "duration": 103,
    "start_time": "2025-04-29T17:20:17.204Z"
   },
   {
    "duration": 14,
    "start_time": "2025-04-29T17:20:17.311Z"
   },
   {
    "duration": 33,
    "start_time": "2025-04-29T17:20:17.327Z"
   },
   {
    "duration": 48,
    "start_time": "2025-04-29T17:20:17.362Z"
   },
   {
    "duration": 246,
    "start_time": "2025-04-29T17:20:17.415Z"
   },
   {
    "duration": 86,
    "start_time": "2025-04-29T17:20:17.663Z"
   },
   {
    "duration": 16,
    "start_time": "2025-04-29T17:20:17.751Z"
   },
   {
    "duration": 52,
    "start_time": "2025-04-29T17:20:17.768Z"
   },
   {
    "duration": 21,
    "start_time": "2025-04-29T17:20:17.822Z"
   },
   {
    "duration": 193,
    "start_time": "2025-04-29T17:20:17.845Z"
   },
   {
    "duration": 178,
    "start_time": "2025-04-29T17:20:18.042Z"
   },
   {
    "duration": 16,
    "start_time": "2025-04-29T17:20:18.222Z"
   },
   {
    "duration": 21,
    "start_time": "2025-04-29T17:20:18.240Z"
   },
   {
    "duration": 6,
    "start_time": "2025-04-29T17:20:18.263Z"
   },
   {
    "duration": 25,
    "start_time": "2025-04-29T17:20:18.287Z"
   },
   {
    "duration": 22,
    "start_time": "2025-04-29T17:20:18.313Z"
   },
   {
    "duration": 6,
    "start_time": "2025-04-29T17:20:18.337Z"
   },
   {
    "duration": 10,
    "start_time": "2025-04-29T17:20:18.345Z"
   },
   {
    "duration": 52,
    "start_time": "2025-04-29T17:20:18.356Z"
   },
   {
    "duration": 29,
    "start_time": "2025-04-29T17:20:18.414Z"
   },
   {
    "duration": 4,
    "start_time": "2025-04-29T17:20:18.445Z"
   },
   {
    "duration": 5,
    "start_time": "2025-04-29T17:20:18.450Z"
   },
   {
    "duration": 88,
    "start_time": "2025-04-29T17:20:18.456Z"
   },
   {
    "duration": 68,
    "start_time": "2025-04-29T17:20:18.546Z"
   },
   {
    "duration": 3,
    "start_time": "2025-04-29T17:20:18.616Z"
   },
   {
    "duration": 56,
    "start_time": "2025-04-29T17:20:18.621Z"
   },
   {
    "duration": 3,
    "start_time": "2025-04-29T17:20:18.679Z"
   },
   {
    "duration": 67818,
    "start_time": "2025-04-29T17:20:18.687Z"
   },
   {
    "duration": 25717,
    "start_time": "2025-04-29T17:21:26.507Z"
   },
   {
    "duration": 53021,
    "start_time": "2025-04-29T17:27:28.870Z"
   },
   {
    "duration": 18,
    "start_time": "2025-04-29T18:16:46.986Z"
   },
   {
    "duration": 52808,
    "start_time": "2025-04-29T18:21:42.500Z"
   },
   {
    "duration": 52328,
    "start_time": "2025-04-29T18:27:45.968Z"
   },
   {
    "duration": 2720,
    "start_time": "2025-04-29T21:45:29.489Z"
   },
   {
    "duration": 444,
    "start_time": "2025-04-29T21:45:32.211Z"
   },
   {
    "duration": 5,
    "start_time": "2025-04-29T21:45:32.657Z"
   },
   {
    "duration": 47,
    "start_time": "2025-04-29T21:45:32.665Z"
   },
   {
    "duration": 377,
    "start_time": "2025-04-29T21:45:32.713Z"
   },
   {
    "duration": 97,
    "start_time": "2025-04-29T21:45:33.092Z"
   },
   {
    "duration": 268,
    "start_time": "2025-04-29T21:45:33.191Z"
   },
   {
    "duration": 264,
    "start_time": "2025-04-29T21:45:33.463Z"
   },
   {
    "duration": 92,
    "start_time": "2025-04-29T21:45:33.729Z"
   },
   {
    "duration": 12,
    "start_time": "2025-04-29T21:45:33.825Z"
   },
   {
    "duration": 56,
    "start_time": "2025-04-29T21:45:33.839Z"
   },
   {
    "duration": 26,
    "start_time": "2025-04-29T21:45:33.898Z"
   },
   {
    "duration": 239,
    "start_time": "2025-04-29T21:45:33.925Z"
   },
   {
    "duration": 63,
    "start_time": "2025-04-29T21:45:34.166Z"
   },
   {
    "duration": 16,
    "start_time": "2025-04-29T21:45:34.230Z"
   },
   {
    "duration": 62,
    "start_time": "2025-04-29T21:45:34.248Z"
   },
   {
    "duration": 23,
    "start_time": "2025-04-29T21:45:34.312Z"
   },
   {
    "duration": 173,
    "start_time": "2025-04-29T21:45:34.336Z"
   },
   {
    "duration": 152,
    "start_time": "2025-04-29T21:45:34.510Z"
   },
   {
    "duration": 16,
    "start_time": "2025-04-29T21:45:34.664Z"
   },
   {
    "duration": 34,
    "start_time": "2025-04-29T21:45:34.682Z"
   },
   {
    "duration": 6,
    "start_time": "2025-04-29T21:45:34.718Z"
   },
   {
    "duration": 15,
    "start_time": "2025-04-29T21:45:34.725Z"
   },
   {
    "duration": 25,
    "start_time": "2025-04-29T21:45:34.741Z"
   },
   {
    "duration": 6,
    "start_time": "2025-04-29T21:45:34.768Z"
   },
   {
    "duration": 41,
    "start_time": "2025-04-29T21:45:34.776Z"
   },
   {
    "duration": 24,
    "start_time": "2025-04-29T21:45:34.818Z"
   },
   {
    "duration": 29,
    "start_time": "2025-04-29T21:45:34.848Z"
   },
   {
    "duration": 4,
    "start_time": "2025-04-29T21:45:34.879Z"
   },
   {
    "duration": 26,
    "start_time": "2025-04-29T21:45:34.885Z"
   },
   {
    "duration": 56,
    "start_time": "2025-04-29T21:45:34.913Z"
   },
   {
    "duration": 68,
    "start_time": "2025-04-29T21:45:34.970Z"
   },
   {
    "duration": 2,
    "start_time": "2025-04-29T21:45:35.040Z"
   },
   {
    "duration": 66,
    "start_time": "2025-04-29T21:45:35.044Z"
   },
   {
    "duration": 2,
    "start_time": "2025-04-29T21:45:35.112Z"
   },
   {
    "duration": 52703,
    "start_time": "2025-04-29T21:45:35.116Z"
   },
   {
    "duration": 23723,
    "start_time": "2025-04-29T21:46:27.821Z"
   },
   {
    "duration": 52569,
    "start_time": "2025-04-29T22:20:16.265Z"
   },
   {
    "duration": 70183,
    "start_time": "2025-04-29T22:38:46.245Z"
   },
   {
    "duration": 1063,
    "start_time": "2025-04-29T22:42:47.129Z"
   },
   {
    "duration": 522,
    "start_time": "2025-04-29T22:42:48.194Z"
   },
   {
    "duration": 13,
    "start_time": "2025-04-29T22:42:48.729Z"
   },
   {
    "duration": 33,
    "start_time": "2025-04-29T22:42:48.745Z"
   },
   {
    "duration": 480,
    "start_time": "2025-04-29T22:42:48.781Z"
   },
   {
    "duration": 115,
    "start_time": "2025-04-29T22:42:49.263Z"
   },
   {
    "duration": 297,
    "start_time": "2025-04-29T22:42:49.380Z"
   },
   {
    "duration": 267,
    "start_time": "2025-04-29T22:42:49.679Z"
   },
   {
    "duration": 107,
    "start_time": "2025-04-29T22:42:49.948Z"
   },
   {
    "duration": 12,
    "start_time": "2025-04-29T22:42:50.057Z"
   },
   {
    "duration": 52,
    "start_time": "2025-04-29T22:42:50.072Z"
   },
   {
    "duration": 20,
    "start_time": "2025-04-29T22:42:50.125Z"
   },
   {
    "duration": 256,
    "start_time": "2025-04-29T22:42:50.147Z"
   },
   {
    "duration": 78,
    "start_time": "2025-04-29T22:42:50.407Z"
   },
   {
    "duration": 15,
    "start_time": "2025-04-29T22:42:50.487Z"
   },
   {
    "duration": 68,
    "start_time": "2025-04-29T22:42:50.504Z"
   },
   {
    "duration": 22,
    "start_time": "2025-04-29T22:42:50.574Z"
   },
   {
    "duration": 201,
    "start_time": "2025-04-29T22:42:50.597Z"
   },
   {
    "duration": 199,
    "start_time": "2025-04-29T22:42:50.800Z"
   },
   {
    "duration": 35,
    "start_time": "2025-04-29T22:42:51.001Z"
   },
   {
    "duration": 22,
    "start_time": "2025-04-29T22:42:51.038Z"
   },
   {
    "duration": 5,
    "start_time": "2025-04-29T22:42:51.062Z"
   },
   {
    "duration": 15,
    "start_time": "2025-04-29T22:42:51.069Z"
   },
   {
    "duration": 38,
    "start_time": "2025-04-29T22:42:51.086Z"
   },
   {
    "duration": 12,
    "start_time": "2025-04-29T22:42:51.125Z"
   },
   {
    "duration": 10,
    "start_time": "2025-04-29T22:42:51.139Z"
   },
   {
    "duration": 21,
    "start_time": "2025-04-29T22:42:51.151Z"
   },
   {
    "duration": 59,
    "start_time": "2025-04-29T22:42:51.173Z"
   },
   {
    "duration": 5,
    "start_time": "2025-04-29T22:42:51.233Z"
   },
   {
    "duration": 4,
    "start_time": "2025-04-29T22:42:51.239Z"
   },
   {
    "duration": 56,
    "start_time": "2025-04-29T22:42:51.246Z"
   },
   {
    "duration": 71,
    "start_time": "2025-04-29T22:42:51.304Z"
   },
   {
    "duration": 3,
    "start_time": "2025-04-29T22:42:51.376Z"
   },
   {
    "duration": 70,
    "start_time": "2025-04-29T22:42:51.380Z"
   },
   {
    "duration": 3,
    "start_time": "2025-04-29T22:42:51.452Z"
   },
   {
    "duration": 70675,
    "start_time": "2025-04-29T22:42:51.457Z"
   },
   {
    "duration": 25198,
    "start_time": "2025-04-29T22:44:02.136Z"
   },
   {
    "duration": 19,
    "start_time": "2025-04-29T22:52:03.707Z"
   },
   {
    "duration": 52330,
    "start_time": "2025-04-29T22:52:38.998Z"
   },
   {
    "duration": 52307,
    "start_time": "2025-04-29T23:03:37.412Z"
   },
   {
    "duration": 26,
    "start_time": "2025-04-29T23:11:27.998Z"
   },
   {
    "duration": 50157,
    "start_time": "2025-04-29T23:11:50.154Z"
   },
   {
    "duration": 53048,
    "start_time": "2025-04-29T23:14:55.363Z"
   },
   {
    "duration": 52097,
    "start_time": "2025-04-29T23:25:54.514Z"
   },
   {
    "duration": 23560,
    "start_time": "2025-04-29T23:35:47.280Z"
   },
   {
    "duration": 12,
    "start_time": "2025-04-29T23:53:09.367Z"
   },
   {
    "duration": 8461,
    "start_time": "2025-04-29T23:56:25.078Z"
   },
   {
    "duration": 8633,
    "start_time": "2025-04-29T23:58:13.718Z"
   },
   {
    "duration": 15,
    "start_time": "2025-04-30T00:17:56.884Z"
   },
   {
    "duration": 129993,
    "start_time": "2025-04-30T00:18:23.111Z"
   },
   {
    "duration": 128272,
    "start_time": "2025-04-30T00:21:24.079Z"
   },
   {
    "duration": 126319,
    "start_time": "2025-04-30T00:27:18.201Z"
   },
   {
    "duration": 1006,
    "start_time": "2025-04-30T00:42:18.920Z"
   },
   {
    "duration": 449,
    "start_time": "2025-04-30T00:42:19.928Z"
   },
   {
    "duration": 5,
    "start_time": "2025-04-30T00:42:20.379Z"
   },
   {
    "duration": 44,
    "start_time": "2025-04-30T00:42:20.387Z"
   },
   {
    "duration": 369,
    "start_time": "2025-04-30T00:42:20.433Z"
   },
   {
    "duration": 94,
    "start_time": "2025-04-30T00:42:20.803Z"
   },
   {
    "duration": 267,
    "start_time": "2025-04-30T00:42:20.899Z"
   },
   {
    "duration": 230,
    "start_time": "2025-04-30T00:42:21.167Z"
   },
   {
    "duration": 92,
    "start_time": "2025-04-30T00:42:21.399Z"
   },
   {
    "duration": 20,
    "start_time": "2025-04-30T00:42:21.494Z"
   },
   {
    "duration": 34,
    "start_time": "2025-04-30T00:42:21.515Z"
   },
   {
    "duration": 17,
    "start_time": "2025-04-30T00:42:21.550Z"
   },
   {
    "duration": 232,
    "start_time": "2025-04-30T00:42:21.568Z"
   },
   {
    "duration": 58,
    "start_time": "2025-04-30T00:42:21.803Z"
   },
   {
    "duration": 15,
    "start_time": "2025-04-30T00:42:21.863Z"
   },
   {
    "duration": 63,
    "start_time": "2025-04-30T00:42:21.879Z"
   },
   {
    "duration": 21,
    "start_time": "2025-04-30T00:42:21.944Z"
   },
   {
    "duration": 174,
    "start_time": "2025-04-30T00:42:21.967Z"
   },
   {
    "duration": 156,
    "start_time": "2025-04-30T00:42:22.142Z"
   },
   {
    "duration": 21,
    "start_time": "2025-04-30T00:42:22.299Z"
   },
   {
    "duration": 22,
    "start_time": "2025-04-30T00:42:22.322Z"
   },
   {
    "duration": 7,
    "start_time": "2025-04-30T00:42:22.345Z"
   },
   {
    "duration": 14,
    "start_time": "2025-04-30T00:42:22.354Z"
   },
   {
    "duration": 46,
    "start_time": "2025-04-30T00:42:22.370Z"
   },
   {
    "duration": 5,
    "start_time": "2025-04-30T00:42:22.419Z"
   },
   {
    "duration": 9,
    "start_time": "2025-04-30T00:42:22.426Z"
   },
   {
    "duration": 21,
    "start_time": "2025-04-30T00:42:22.437Z"
   },
   {
    "duration": 49,
    "start_time": "2025-04-30T00:42:22.462Z"
   },
   {
    "duration": 4,
    "start_time": "2025-04-30T00:42:22.514Z"
   },
   {
    "duration": 4,
    "start_time": "2025-04-30T00:42:22.519Z"
   },
   {
    "duration": 56,
    "start_time": "2025-04-30T00:42:22.526Z"
   },
   {
    "duration": 67,
    "start_time": "2025-04-30T00:42:22.584Z"
   },
   {
    "duration": 2,
    "start_time": "2025-04-30T00:42:22.653Z"
   },
   {
    "duration": 68,
    "start_time": "2025-04-30T00:42:22.657Z"
   },
   {
    "duration": 2,
    "start_time": "2025-04-30T00:42:22.727Z"
   },
   {
    "duration": 52689,
    "start_time": "2025-04-30T00:42:22.731Z"
   },
   {
    "duration": 126939,
    "start_time": "2025-04-30T00:43:15.422Z"
   },
   {
    "duration": 52251,
    "start_time": "2025-04-30T01:21:57.562Z"
   },
   {
    "duration": 53280,
    "start_time": "2025-04-30T01:24:48.241Z"
   },
   {
    "duration": 970,
    "start_time": "2025-04-30T01:27:27.968Z"
   },
   {
    "duration": 458,
    "start_time": "2025-04-30T01:27:28.940Z"
   },
   {
    "duration": 10,
    "start_time": "2025-04-30T01:27:29.400Z"
   },
   {
    "duration": 32,
    "start_time": "2025-04-30T01:27:29.417Z"
   },
   {
    "duration": 383,
    "start_time": "2025-04-30T01:27:29.451Z"
   },
   {
    "duration": 95,
    "start_time": "2025-04-30T01:27:29.836Z"
   },
   {
    "duration": 263,
    "start_time": "2025-04-30T01:27:29.932Z"
   },
   {
    "duration": 236,
    "start_time": "2025-04-30T01:27:30.197Z"
   },
   {
    "duration": 90,
    "start_time": "2025-04-30T01:27:30.434Z"
   },
   {
    "duration": 10,
    "start_time": "2025-04-30T01:27:30.528Z"
   },
   {
    "duration": 32,
    "start_time": "2025-04-30T01:27:30.540Z"
   },
   {
    "duration": 38,
    "start_time": "2025-04-30T01:27:30.574Z"
   },
   {
    "duration": 214,
    "start_time": "2025-04-30T01:27:30.615Z"
   },
   {
    "duration": 54,
    "start_time": "2025-04-30T01:27:30.831Z"
   },
   {
    "duration": 28,
    "start_time": "2025-04-30T01:27:30.886Z"
   },
   {
    "duration": 51,
    "start_time": "2025-04-30T01:27:30.915Z"
   },
   {
    "duration": 22,
    "start_time": "2025-04-30T01:27:30.967Z"
   },
   {
    "duration": 180,
    "start_time": "2025-04-30T01:27:30.991Z"
   },
   {
    "duration": 153,
    "start_time": "2025-04-30T01:27:31.173Z"
   },
   {
    "duration": 17,
    "start_time": "2025-04-30T01:27:31.327Z"
   },
   {
    "duration": 23,
    "start_time": "2025-04-30T01:27:31.346Z"
   },
   {
    "duration": 6,
    "start_time": "2025-04-30T01:27:31.371Z"
   },
   {
    "duration": 42,
    "start_time": "2025-04-30T01:27:31.378Z"
   },
   {
    "duration": 26,
    "start_time": "2025-04-30T01:27:31.422Z"
   },
   {
    "duration": 6,
    "start_time": "2025-04-30T01:27:31.451Z"
   },
   {
    "duration": 9,
    "start_time": "2025-04-30T01:27:31.459Z"
   },
   {
    "duration": 47,
    "start_time": "2025-04-30T01:27:31.470Z"
   },
   {
    "duration": 28,
    "start_time": "2025-04-30T01:27:31.522Z"
   },
   {
    "duration": 3,
    "start_time": "2025-04-30T01:27:31.552Z"
   },
   {
    "duration": 3,
    "start_time": "2025-04-30T01:27:31.557Z"
   },
   {
    "duration": 79,
    "start_time": "2025-04-30T01:27:31.562Z"
   },
   {
    "duration": 50,
    "start_time": "2025-04-30T01:27:31.642Z"
   },
   {
    "duration": 16,
    "start_time": "2025-04-30T01:27:31.693Z"
   },
   {
    "duration": 58,
    "start_time": "2025-04-30T01:27:31.710Z"
   },
   {
    "duration": 2,
    "start_time": "2025-04-30T01:27:31.771Z"
   },
   {
    "duration": 52943,
    "start_time": "2025-04-30T01:27:31.775Z"
   },
   {
    "duration": 126861,
    "start_time": "2025-04-30T01:28:24.721Z"
   }
  ],
  "kernelspec": {
   "display_name": "Python 3 (ipykernel)",
   "language": "python",
   "name": "python3"
  },
  "language_info": {
   "codemirror_mode": {
    "name": "ipython",
    "version": 3
   },
   "file_extension": ".py",
   "mimetype": "text/x-python",
   "name": "python",
   "nbconvert_exporter": "python",
   "pygments_lexer": "ipython3",
   "version": "3.12.7"
  },
  "toc": {
   "base_numbering": 1,
   "nav_menu": {},
   "number_sections": true,
   "sideBar": true,
   "skip_h1_title": true,
   "title_cell": "Table of Contents",
   "title_sidebar": "Contents",
   "toc_cell": false,
   "toc_position": {
    "height": "calc(100% - 180px)",
    "left": "10px",
    "top": "150px",
    "width": "257.6px"
   },
   "toc_section_display": true,
   "toc_window_display": true
  }
 },
 "nbformat": 4,
 "nbformat_minor": 4
}
