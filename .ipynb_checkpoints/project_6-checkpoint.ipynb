{
 "cells": [
  {
   "cell_type": "markdown",
   "metadata": {},
   "source": [
    "# TITLE :  PREDICTION EXIST"
   ]
  },
  {
   "cell_type": "markdown",
   "metadata": {},
   "source": [
    "# INTRODUCTION\n",
    "\n",
    "**A banking company is losing customers in a monthly basic.**\n",
    "\n",
    "**During the course of this project our task will be to preduct weather customers will be leaving the bank.For this task a traditional EDA will be perfomed on the dataset, models will be traine,improvements of the quality of models will be perfomed and a final testing will be done on the best perform model.**\n",
    "\n",
    "**The AUC-ROC and F1 will be the metric we will be using for this task.**"
   ]
  },
  {
   "cell_type": "markdown",
   "metadata": {},
   "source": [
    "<div class=\"alert alert-success\" style=\"border-radius: 15px; box-shadow: 4px 4px 4px; border: 1px solid \">\n",
    "<h2>   Reviewer's comment </h2>\n",
    "    \n",
    "Good introduction! \n",
    "    \n",
    "</div>"
   ]
  },
  {
   "cell_type": "code",
   "execution_count": 1,
   "metadata": {},
   "outputs": [],
   "source": [
    "import pandas as pd\n",
    "from sklearn.tree import DecisionTreeClassifier\n",
    "from sklearn.metrics import mean_squared_error\n",
    "from sklearn.ensemble import RandomForestRegressor\n",
    "from sklearn.model_selection import train_test_split\n",
    "from sklearn.linear_model import LogisticRegression\n",
    "from sklearn.tree import DecisionTreeRegressor\n",
    "import matplotlib.pyplot as plt\n",
    "from sklearn.ensemble import RandomForestClassifier\n",
    "from sklearn.metrics import roc_auc_score, f1_score, roc_curve\n",
    "from sklearn.utils import shuffle"
   ]
  },
  {
   "cell_type": "markdown",
   "metadata": {},
   "source": [
    "# 1.0 Download and Data preparations "
   ]
  },
  {
   "cell_type": "code",
   "execution_count": 2,
   "metadata": {},
   "outputs": [],
   "source": [
    "df = pd.read_csv('/datasets/Churn.csv')"
   ]
  },
  {
   "cell_type": "code",
   "execution_count": null,
   "metadata": {},
   "outputs": [],
   "source": []
  },
  {
   "cell_type": "code",
   "execution_count": 3,
   "metadata": {},
   "outputs": [
    {
     "name": "stdout",
     "output_type": "stream",
     "text": [
      "<class 'pandas.core.frame.DataFrame'>\n",
      "RangeIndex: 10000 entries, 0 to 9999\n",
      "Data columns (total 14 columns):\n",
      " #   Column           Non-Null Count  Dtype  \n",
      "---  ------           --------------  -----  \n",
      " 0   RowNumber        10000 non-null  int64  \n",
      " 1   CustomerId       10000 non-null  int64  \n",
      " 2   Surname          10000 non-null  object \n",
      " 3   CreditScore      10000 non-null  int64  \n",
      " 4   Geography        10000 non-null  object \n",
      " 5   Gender           10000 non-null  object \n",
      " 6   Age              10000 non-null  int64  \n",
      " 7   Tenure           9091 non-null   float64\n",
      " 8   Balance          10000 non-null  float64\n",
      " 9   NumOfProducts    10000 non-null  int64  \n",
      " 10  HasCrCard        10000 non-null  int64  \n",
      " 11  IsActiveMember   10000 non-null  int64  \n",
      " 12  EstimatedSalary  10000 non-null  float64\n",
      " 13  Exited           10000 non-null  int64  \n",
      "dtypes: float64(3), int64(8), object(3)\n",
      "memory usage: 1.1+ MB\n"
     ]
    }
   ],
   "source": [
    "df.info()"
   ]
  },
  {
   "cell_type": "markdown",
   "metadata": {},
   "source": [
    "**We see that about under 10% of 'Tenure' are missing.**"
   ]
  },
  {
   "cell_type": "code",
   "execution_count": 4,
   "metadata": {},
   "outputs": [
    {
     "data": {
      "text/html": [
       "<div>\n",
       "<style scoped>\n",
       "    .dataframe tbody tr th:only-of-type {\n",
       "        vertical-align: middle;\n",
       "    }\n",
       "\n",
       "    .dataframe tbody tr th {\n",
       "        vertical-align: top;\n",
       "    }\n",
       "\n",
       "    .dataframe thead th {\n",
       "        text-align: right;\n",
       "    }\n",
       "</style>\n",
       "<table border=\"1\" class=\"dataframe\">\n",
       "  <thead>\n",
       "    <tr style=\"text-align: right;\">\n",
       "      <th></th>\n",
       "      <th>RowNumber</th>\n",
       "      <th>CustomerId</th>\n",
       "      <th>Surname</th>\n",
       "      <th>CreditScore</th>\n",
       "      <th>Geography</th>\n",
       "      <th>Gender</th>\n",
       "      <th>Age</th>\n",
       "      <th>Tenure</th>\n",
       "      <th>Balance</th>\n",
       "      <th>NumOfProducts</th>\n",
       "      <th>HasCrCard</th>\n",
       "      <th>IsActiveMember</th>\n",
       "      <th>EstimatedSalary</th>\n",
       "      <th>Exited</th>\n",
       "    </tr>\n",
       "  </thead>\n",
       "  <tbody>\n",
       "    <tr>\n",
       "      <th>0</th>\n",
       "      <td>1</td>\n",
       "      <td>15634602</td>\n",
       "      <td>Hargrave</td>\n",
       "      <td>619</td>\n",
       "      <td>France</td>\n",
       "      <td>Female</td>\n",
       "      <td>42</td>\n",
       "      <td>2.0</td>\n",
       "      <td>0.00</td>\n",
       "      <td>1</td>\n",
       "      <td>1</td>\n",
       "      <td>1</td>\n",
       "      <td>101348.88</td>\n",
       "      <td>1</td>\n",
       "    </tr>\n",
       "    <tr>\n",
       "      <th>1</th>\n",
       "      <td>2</td>\n",
       "      <td>15647311</td>\n",
       "      <td>Hill</td>\n",
       "      <td>608</td>\n",
       "      <td>Spain</td>\n",
       "      <td>Female</td>\n",
       "      <td>41</td>\n",
       "      <td>1.0</td>\n",
       "      <td>83807.86</td>\n",
       "      <td>1</td>\n",
       "      <td>0</td>\n",
       "      <td>1</td>\n",
       "      <td>112542.58</td>\n",
       "      <td>0</td>\n",
       "    </tr>\n",
       "    <tr>\n",
       "      <th>2</th>\n",
       "      <td>3</td>\n",
       "      <td>15619304</td>\n",
       "      <td>Onio</td>\n",
       "      <td>502</td>\n",
       "      <td>France</td>\n",
       "      <td>Female</td>\n",
       "      <td>42</td>\n",
       "      <td>8.0</td>\n",
       "      <td>159660.80</td>\n",
       "      <td>3</td>\n",
       "      <td>1</td>\n",
       "      <td>0</td>\n",
       "      <td>113931.57</td>\n",
       "      <td>1</td>\n",
       "    </tr>\n",
       "    <tr>\n",
       "      <th>3</th>\n",
       "      <td>4</td>\n",
       "      <td>15701354</td>\n",
       "      <td>Boni</td>\n",
       "      <td>699</td>\n",
       "      <td>France</td>\n",
       "      <td>Female</td>\n",
       "      <td>39</td>\n",
       "      <td>1.0</td>\n",
       "      <td>0.00</td>\n",
       "      <td>2</td>\n",
       "      <td>0</td>\n",
       "      <td>0</td>\n",
       "      <td>93826.63</td>\n",
       "      <td>0</td>\n",
       "    </tr>\n",
       "    <tr>\n",
       "      <th>4</th>\n",
       "      <td>5</td>\n",
       "      <td>15737888</td>\n",
       "      <td>Mitchell</td>\n",
       "      <td>850</td>\n",
       "      <td>Spain</td>\n",
       "      <td>Female</td>\n",
       "      <td>43</td>\n",
       "      <td>2.0</td>\n",
       "      <td>125510.82</td>\n",
       "      <td>1</td>\n",
       "      <td>1</td>\n",
       "      <td>1</td>\n",
       "      <td>79084.10</td>\n",
       "      <td>0</td>\n",
       "    </tr>\n",
       "  </tbody>\n",
       "</table>\n",
       "</div>"
      ],
      "text/plain": [
       "   RowNumber  CustomerId   Surname  CreditScore Geography  Gender  Age  \\\n",
       "0          1    15634602  Hargrave          619    France  Female   42   \n",
       "1          2    15647311      Hill          608     Spain  Female   41   \n",
       "2          3    15619304      Onio          502    France  Female   42   \n",
       "3          4    15701354      Boni          699    France  Female   39   \n",
       "4          5    15737888  Mitchell          850     Spain  Female   43   \n",
       "\n",
       "   Tenure    Balance  NumOfProducts  HasCrCard  IsActiveMember  \\\n",
       "0     2.0       0.00              1          1               1   \n",
       "1     1.0   83807.86              1          0               1   \n",
       "2     8.0  159660.80              3          1               0   \n",
       "3     1.0       0.00              2          0               0   \n",
       "4     2.0  125510.82              1          1               1   \n",
       "\n",
       "   EstimatedSalary  Exited  \n",
       "0        101348.88       1  \n",
       "1        112542.58       0  \n",
       "2        113931.57       1  \n",
       "3         93826.63       0  \n",
       "4         79084.10       0  "
      ]
     },
     "execution_count": 4,
     "metadata": {},
     "output_type": "execute_result"
    }
   ],
   "source": [
    "df.head()"
   ]
  },
  {
   "cell_type": "code",
   "execution_count": 5,
   "metadata": {},
   "outputs": [
    {
     "data": {
      "text/plain": [
       "0"
      ]
     },
     "execution_count": 5,
     "metadata": {},
     "output_type": "execute_result"
    }
   ],
   "source": [
    "# check for possible duplicates from dataset\n",
    "duplicate_count = df.duplicated(subset=['RowNumber','CustomerId','Surname','CreditScore','Geography',\n",
    "                                        'Gender','Age','Tenure','Balance','NumOfProducts','HasCrCard',\n",
    "                                        'IsActiveMember','EstimatedSalary','Exited']).sum()\n",
    "duplicate_count"
   ]
  },
  {
   "cell_type": "code",
   "execution_count": 6,
   "metadata": {},
   "outputs": [
    {
     "data": {
      "text/plain": [
       "Series([], dtype: int64)"
      ]
     },
     "execution_count": 6,
     "metadata": {},
     "output_type": "execute_result"
    }
   ],
   "source": [
    "# Group by 'CustomerId' and count occurrences\n",
    "duplicate_groups = df.groupby('CustomerId').size()\n",
    "duplicate_groups = duplicate_groups[duplicate_groups > 1]\n",
    "duplicate_groups"
   ]
  },
  {
   "cell_type": "markdown",
   "metadata": {},
   "source": [
    "<div style=\"background-color: lightblue; padding: 10px; border-radius: 5px;\">\n",
    "    \n",
    "**The result Series([], dtype: int64) indicates that there are no duplicates in the 'CustomerId' column. This means every CustomerId in our DataFrame is unique, and there is no repetition of customer IDs.**"
   ]
  },
  {
   "cell_type": "markdown",
   "metadata": {},
   "source": [
    "<div class=\"alert alert-success\" style=\"border-radius: 15px; box-shadow: 4px 4px 4px; border: 1px solid \">\n",
    "<h2>   Reviewer's comment 2</h2>\n",
    "    \n",
    "Good! \n",
    "    \n",
    "</div>\n"
   ]
  },
  {
   "cell_type": "code",
   "execution_count": 7,
   "metadata": {},
   "outputs": [],
   "source": [
    "#mean_tenure = df['Tenure'].mean()\n",
    "#df['Tenure'].fillna(mean_tenure, inplace=True)"
   ]
  },
  {
   "cell_type": "code",
   "execution_count": 8,
   "metadata": {},
   "outputs": [],
   "source": [
    "median_tenure = df['Tenure'].median()\n",
    "df['Tenure'].fillna(median_tenure, inplace=True)"
   ]
  },
  {
   "cell_type": "markdown",
   "metadata": {},
   "source": [
    "<div class=\"alert alert-success\" style=\"border-radius: 15px; box-shadow: 4px 4px 4px; border: 1px solid \">\n",
    "<h2>   Reviewer's comment 2 </h2>\n",
    "    \n",
    "Great! \n",
    "    \n",
    "</div>\n"
   ]
  },
  {
   "cell_type": "markdown",
   "metadata": {},
   "source": [
    "**Given that the 'Tenure' column is continuous, median will be a good measure for filling missing values if the data has outliers.**"
   ]
  },
  {
   "cell_type": "code",
   "execution_count": 9,
   "metadata": {},
   "outputs": [
    {
     "data": {
      "text/plain": [
       "RowNumber          0\n",
       "CustomerId         0\n",
       "Surname            0\n",
       "CreditScore        0\n",
       "Geography          0\n",
       "Gender             0\n",
       "Age                0\n",
       "Tenure             0\n",
       "Balance            0\n",
       "NumOfProducts      0\n",
       "HasCrCard          0\n",
       "IsActiveMember     0\n",
       "EstimatedSalary    0\n",
       "Exited             0\n",
       "dtype: int64"
      ]
     },
     "execution_count": 9,
     "metadata": {},
     "output_type": "execute_result"
    }
   ],
   "source": [
    "df.isnull().sum()"
   ]
  },
  {
   "cell_type": "code",
   "execution_count": 10,
   "metadata": {},
   "outputs": [
    {
     "data": {
      "image/png": "[encoded data removed]",
      "text/plain": [
       "<Figure size 1000x600 with 1 Axes>"
      ]
     },
     "metadata": {},
     "output_type": "display_data"
    }
   ],
   "source": [
    "# Plotting the distribution of the 'Age' column using a histogram\n",
    "plt.figure(figsize=(10, 6))\n",
    "df['Age'].hist(bins=20, color='skyblue', edgecolor='black')\n",
    "# Adding labels and title\n",
    "plt.title('Distribution of Age', fontsize=16)\n",
    "plt.xlabel('Age', fontsize=14)\n",
    "plt.ylabel('Frequency', fontsize=14)\n",
    "plt.show()"
   ]
  },
  {
   "cell_type": "markdown",
   "metadata": {},
   "source": [
    "**As we observe our independent variable 'Age' and our dependent varialbe 'Frequecy'we see that from age 20 to about 33 a gradual increase of some age distribution.Arround the mean(39) we notice a peak in the distribution follow by a gradual decrease after the age of 40.**\n",
    "\n",
    "**We can note that the data is moderately right-skewed distribution with a concentration around the mean (39), and a few high-value outliers may be driving the mean higher than the median. The majority of the data appears to be clustered around the central value.**"
   ]
  },
  {
   "cell_type": "code",
   "execution_count": 11,
   "metadata": {},
   "outputs": [
    {
     "data": {
      "image/png": "[encoded data removed]",
      "text/plain": [
       "<Figure size 1000x600 with 1 Axes>"
      ]
     },
     "metadata": {},
     "output_type": "display_data"
    }
   ],
   "source": [
    "# Plotting the distribution of the 'EstimatedSalary' column using a histogram\n",
    "plt.figure(figsize=(10, 6))\n",
    "df['EstimatedSalary'].hist(bins=20, color='skyblue', edgecolor='black')\n",
    "\n",
    "# Adding labels and title\n",
    "plt.title('Distribution of Estimated Salary', fontsize=16)\n",
    "plt.xlabel('Salary', fontsize=14)\n",
    "plt.ylabel('Frequency', fontsize=14)\n",
    "plt.show()"
   ]
  },
  {
   "cell_type": "markdown",
   "metadata": {},
   "source": [
    "**The histogram display an even distribution across our independent variable and the mean and the median are almost of the same values.**"
   ]
  },
  {
   "cell_type": "markdown",
   "metadata": {},
   "source": [
    "#  Split the source data into a training set, a validation set, and a test set.\n",
    "\n",
    "**Because the train_test_split function from sklearn is designed to split data into two subsets at a time, not three, we will be \n",
    "using a temporary set to achieve a training, validation, and test split.**\n",
    "\n",
    "**Here we one-hot encode the whole dataframe.**"
   ]
  },
  {
   "cell_type": "code",
   "execution_count": 12,
   "metadata": {},
   "outputs": [],
   "source": [
    "df_ohe = pd.get_dummies(df, drop_first=True)\n",
    "target = df_ohe['Exited']\n",
    "features = df_ohe.drop('Exited', axis=1)"
   ]
  },
  {
   "cell_type": "code",
   "execution_count": 13,
   "metadata": {},
   "outputs": [],
   "source": [
    "# First,we split into train and temporary sets (75% train, 25% temp)\n",
    "df_train, df_temp = train_test_split(df_ohe, test_size=0.25, random_state=12345)"
   ]
  },
  {
   "cell_type": "code",
   "execution_count": 14,
   "metadata": {},
   "outputs": [],
   "source": [
    "# Then,we split the temporary set (50% valid, 50% test from 25%)\n",
    "df_valid, df_test = train_test_split(df_temp, test_size=0.5, random_state=12345)"
   ]
  },
  {
   "cell_type": "code",
   "execution_count": 15,
   "metadata": {},
   "outputs": [
    {
     "name": "stdout",
     "output_type": "stream",
     "text": [
      "(7500, 2945)\n",
      "(1250, 2945)\n",
      "(1250, 2945)\n"
     ]
    }
   ],
   "source": [
    "print(df_train.shape)\n",
    "print(df_valid.shape)\n",
    "print(df_test.shape)"
   ]
  },
  {
   "cell_type": "markdown",
   "metadata": {},
   "source": [
    "**df_train: 75% of the original data.**\n",
    "\n",
    "**df_valid: 12.5% of the original data.**\n",
    "\n",
    "**df_test: 12.5% of the original data.**"
   ]
  },
  {
   "cell_type": "markdown",
   "metadata": {},
   "source": [
    "<div class=\"alert alert-success\" style=\"border-radius: 15px; box-shadow: 4px 4px 4px; border: 1px solid \">\n",
    "<h2> Reviewer's comment </h2>\n",
    "    \n",
    "Correct!\n",
    "    \n",
    "</div>\n"
   ]
  },
  {
   "cell_type": "code",
   "execution_count": 16,
   "metadata": {},
   "outputs": [],
   "source": [
    "# We declare variables.\n",
    "features_train = df_train.drop(['Exited'], axis=1)\n",
    "target_train = df_train['Exited']\n",
    "features_valid = df_valid.drop(['Exited'], axis=1)\n",
    "target_valid = df_valid['Exited']\n",
    "features_test = df_test.drop(['Exited'], axis=1)\n",
    "target_test = df_test['Exited']"
   ]
  },
  {
   "cell_type": "code",
   "execution_count": null,
   "metadata": {},
   "outputs": [],
   "source": []
  },
  {
   "cell_type": "markdown",
   "metadata": {},
   "source": [
    "<div class=\"alert alert-success\" style=\"border-radius: 15px; box-shadow: 4px 4px 4px; border: 1px solid \">\n",
    "<h2> Reviewer's comment </h2>\n",
    "    \n",
    "Good! \n",
    "    \n",
    "</div>"
   ]
  },
  {
   "cell_type": "markdown",
   "metadata": {},
   "source": [
    "# Examine the balance of classes.\n",
    "\n",
    "**To examine the balance of classes in the Exited column (which indicates whether a customer has left the bank or not),we will perform a basic analysis.The goal here is to understand the distribution of customers who have \"Exited\" (left) and those who have not.**\n",
    "\n",
    "**We will follow the below step to examine the balance of classes.**"
   ]
  },
  {
   "cell_type": "markdown",
   "metadata": {},
   "source": [
    "# 1. Count the instances of each class in the Exited column"
   ]
  },
  {
   "cell_type": "code",
   "execution_count": 17,
   "metadata": {},
   "outputs": [
    {
     "name": "stdout",
     "output_type": "stream",
     "text": [
      "0    7963\n",
      "1    2037\n",
      "Name: Exited, dtype: int64\n"
     ]
    }
   ],
   "source": [
    "class_balance = df['Exited'].value_counts()\n",
    "print(class_balance)"
   ]
  },
  {
   "cell_type": "markdown",
   "metadata": {},
   "source": [
    "<div class=\"alert alert-success\" style=\"border-radius: 15px; box-shadow: 4px 4px 4px; border: 1px solid \">\n",
    "<h2> Reviewer's comment</h2>\n",
    "    \n",
    "Yes, there's a noticeable imbalance.   \n",
    "    \n",
    "</div>"
   ]
  },
  {
   "cell_type": "markdown",
   "metadata": {},
   "source": [
    "# 2. Visualize the class distribution"
   ]
  },
  {
   "cell_type": "code",
   "execution_count": 18,
   "metadata": {},
   "outputs": [
    {
     "data": {
      "image/png": "[encoded data removed]",
      "text/plain": [
       "<Figure size 640x480 with 1 Axes>"
      ]
     },
     "metadata": {},
     "output_type": "display_data"
    }
   ],
   "source": [
    "# We plot the distribution of 'Exited' column\n",
    "df['Exited'].value_counts().plot(kind='bar')\n",
    "plt.title('Class Distribution of Exited')\n",
    "plt.xlabel('Exited (0 = No, 1 = Yes)')\n",
    "plt.ylabel('Number of Customers')\n",
    "plt.xticks(ticks=[0, 1], labels=['No', 'Yes'], rotation=0)\n",
    "plt.show()"
   ]
  },
  {
   "cell_type": "markdown",
   "metadata": {},
   "source": [
    "# 3. Check the proportion of each class"
   ]
  },
  {
   "cell_type": "code",
   "execution_count": 19,
   "metadata": {},
   "outputs": [
    {
     "name": "stdout",
     "output_type": "stream",
     "text": [
      "0    0.7963\n",
      "1    0.2037\n",
      "Name: Exited, dtype: float64\n"
     ]
    }
   ],
   "source": [
    "# Proportion of each class\n",
    "class_proportions = df['Exited'].value_counts(normalize=True)\n",
    "print(class_proportions)"
   ]
  },
  {
   "cell_type": "markdown",
   "metadata": {},
   "source": [
    "# Train Models"
   ]
  },
  {
   "cell_type": "code",
   "execution_count": null,
   "metadata": {},
   "outputs": [],
   "source": [
    "\n"
   ]
  },
  {
   "cell_type": "markdown",
   "metadata": {},
   "source": [
    "**DECISION TREES MODEL.**\n",
    "\n",
    "**Tuning Hyperparameters**"
   ]
  },
  {
   "cell_type": "code",
   "execution_count": 20,
   "metadata": {},
   "outputs": [],
   "source": [
    "best_model = None\n",
    "best_result = 0"
   ]
  },
  {
   "cell_type": "code",
   "execution_count": 21,
   "metadata": {},
   "outputs": [
    {
     "name": "stdout",
     "output_type": "stream",
     "text": [
      "Depth: 1, AUC-ROC: 0.6897, F1 Score: 0.0000\n",
      "Depth: 2, AUC-ROC: 0.7420, F1 Score: 0.5126\n",
      "Depth: 3, AUC-ROC: 0.7961, F1 Score: 0.3910\n",
      "Depth: 4, AUC-ROC: 0.8240, F1 Score: 0.5283\n",
      "Depth: 5, AUC-ROC: 0.8487, F1 Score: 0.5464\n",
      "Depth: 6, AUC-ROC: 0.8640, F1 Score: 0.5802\n",
      "Depth: 7, AUC-ROC: 0.8763, F1 Score: 0.5884\n",
      "Depth: 8, AUC-ROC: 0.8865, F1 Score: 0.6428\n",
      "Depth: 9, AUC-ROC: 0.8972, F1 Score: 0.6876\n"
     ]
    }
   ],
   "source": [
    "for depth in range(1, 10):\n",
    "    model = DecisionTreeClassifier(random_state=12345, max_depth=depth) # create a model with the given depth\n",
    "    model.fit(features, target) # train the model\n",
    "    predictions = model.predict(features) # get the model's predictions\n",
    "     # Calculate AUC-ROC score\n",
    "    # We use the probability estimates for AUC-ROC (predict_proba method)\n",
    "    prob = model.predict_proba(features)[:, 1]\n",
    "    auc_roc = roc_auc_score(target, prob)\n",
    "    \n",
    "    # Calculate F1 score\n",
    "    f1 = f1_score(target, predictions)\n",
    "    \n",
    "    # Print the metrics for the current model\n",
    "    print(f\"Depth: {depth}, AUC-ROC: {auc_roc:.4f}, F1 Score: {f1:.4f}\")"
   ]
  },
  {
   "cell_type": "markdown",
   "metadata": {},
   "source": [
    "<div class=\"alert alert-success\" style=\"border-radius: 15px; box-shadow: 4px 4px 4px; border: 1px solid \">\n",
    "<h2> Reviewer's comment</h2>\n",
    "    \n",
    "You have successfully implemented hyperparameters tuning, well done! \n",
    "</div>"
   ]
  },
  {
   "cell_type": "markdown",
   "metadata": {},
   "source": [
    "**As the tree depth increases, the AUC-ROC improves, indicating that the model becomes better at distinguishing between the two classes.**\n",
    "**At Depth 1, the AUC-ROC is 0.6897, which suggests a moderate ability to differentiate between customers who exited and those who didn't.**\n",
    "**From Depth 2 to Depth 9, AUC-ROC increases progressively, reaching 0.8975 at Depth 9, which indicates excellent classification ability and the model's ability to effectively differentiate between the two classes as the complexity increases.**\n",
    "\n",
    "**At Depth 1, the F1 score is 0.0000, which likely indicates a poor model performance (perhaps predicting one class all the time). A low F1 score in this case suggests that the model might be heavily biased toward the majority class, and its precision or recall (or both) is very poor.**\n",
    "**As the depth increases, the F1 score gradually increases, which shows that the model starts balancing precision and recall more effectively.**\n",
    "**Depth 2 sees an improvement with an F1 score of 0.5126, indicating a better balance between precision and recall.**\n",
    "From Depth 3 to Depth 9, the F1 score continues to improve, peaking at 0.6884 at Depth 9, which suggests the model has found a good balance between identifying the positive class and minimizing false positives/negatives.**"
   ]
  },
  {
   "cell_type": "markdown",
   "metadata": {},
   "source": [
    "# RANDOM FOREST MODEL"
   ]
  },
  {
   "cell_type": "code",
   "execution_count": 22,
   "metadata": {},
   "outputs": [],
   "source": [
    "# Initialize variables to track the best model and scores\n",
    "best_model = None\n",
    "best_f1 = 0\n",
    "best_est = 0  # To track the best number of estimators based on F1 score"
   ]
  },
  {
   "cell_type": "code",
   "execution_count": 23,
   "metadata": {},
   "outputs": [
    {
     "name": "stdout",
     "output_type": "stream",
     "text": [
      "Estimators: 1, F1 Score: 0.4703\n",
      "Estimators: 2, F1 Score: 0.3226\n",
      "Estimators: 3, F1 Score: 0.4579\n",
      "Estimators: 4, F1 Score: 0.3478\n",
      "Estimators: 5, F1 Score: 0.4600\n",
      "Estimators: 6, F1 Score: 0.4144\n",
      "Estimators: 7, F1 Score: 0.4742\n",
      "Estimators: 8, F1 Score: 0.4178\n",
      "Estimators: 9, F1 Score: 0.4684\n",
      "Best Model: Estimators = 7, F1 Score = 0.4742\n"
     ]
    }
   ],
   "source": [
    "for est in range(1, 10):  # Choose hyperparameter range for n_estimators\n",
    "    model = RandomForestClassifier(random_state=12345,class_weight='balanced', n_estimators=est)  # Set the number of trees\n",
    "    model.fit(features_train, target_train)\n",
    "    predictions = model.predict(features_valid)\n",
    "    # Calculate F1 score\n",
    "    f1 = f1_score(target_valid, predictions)\n",
    "    print(f\"Estimators: {est}, F1 Score: {f1:.4f}\")\n",
    "    \n",
    "    # Update the best model if the current model has a better F1 score\n",
    "    if f1 > best_f1:\n",
    "        best_model = model\n",
    "        best_f1 = f1  # Save the best F1 score\n",
    "        best_est = est  # Save the number of estimators corresponding to the best F1 score\n",
    "\n",
    "# Print the best model based on F1 score\n",
    "print(f\"Best Model: Estimators = {best_est}, F1 Score = {best_f1:.4f}\")"
   ]
  },
  {
   "cell_type": "markdown",
   "metadata": {},
   "source": [
    "<div class=\"alert alert-success\" style=\"border-radius: 15px; box-shadow: 4px 4px 4px; border: 1px solid \">\n",
    "<h2> Reviewer's comment</h2>\n",
    "    \n",
    "Another algorithm is used to train a model, well done! \n",
    "</div>\n"
   ]
  },
  {
   "cell_type": "markdown",
   "metadata": {},
   "source": [
    "**Estimators: 1, AUC-ROC = 0.6314: With only 1 tree, the model has a relatively low ability to differentiate between the classes. The AUC is just above 0.5, which suggests that the model is only marginally better than random guessing.**\n",
    "**Estimators: 2, AUC-ROC = 0.7073: Adding another tree increases the model's ability to distinguish between the classes, raising the AUC to 0.7073, indicating better classification performance.**\n",
    "**As the number of estimators increases, the AUC steadily improves, for estimators: 3 to Estimators: 9 show continuous improvements in AUC-ROC, from 0.7325 at 3 estimators to 0.7987 at 9 estimators.**\n",
    "\n",
    "**Estimators: 1, F1 Score = 0.4175: With only 1 tree, the model has a moderate F1 score, which suggests it is not particularly good at balancing precision and recall.**\n",
    "**Estimators: 2, F1 Score = 0.3130: Adding another tree actually decreases the F1 score, which could indicate that the model is either overfitting or the additional trees are not improving the balance between precision and recall.**\n",
    "**As the numbers of estimators increases from 3 to 9 we see more variation in the F1 score. for example the F1 score is 0.4575 at 3 estimators, 0.4433 at 5 estimators, and 0.4558 at 9 estimators, showing that the model stabilizes in its ability to balance precision and recall.**\n",
    "\n",
    "**The best F1 score is 0.4700 at Estimators = 5, which suggests the model is fairly balanced in terms of correctly predicting both the positive and negative classes.**"
   ]
  },
  {
   "cell_type": "markdown",
   "metadata": {},
   "source": [
    "# LOGISTIC REGRESSION"
   ]
  },
  {
   "cell_type": "code",
   "execution_count": 24,
   "metadata": {},
   "outputs": [],
   "source": [
    "model = LogisticRegression(random_state=12345, solver='liblinear')\n",
    "model.fit(features_train, target_train)\n",
    "# Predict probabilities for AUC-ROC\n",
    "predicted_probabilities= model.predict_proba(features_train)[:, 1]  # probability estimates for the positive class"
   ]
  },
  {
   "cell_type": "code",
   "execution_count": 25,
   "metadata": {},
   "outputs": [],
   "source": [
    "# Calculate AUC-ROC\n",
    "auc_roc_train = roc_auc_score(target_train,predicted_probabilities)"
   ]
  },
  {
   "cell_type": "code",
   "execution_count": 26,
   "metadata": {},
   "outputs": [],
   "source": [
    "# Predict labels for F1 score\n",
    "predicted_probabilities_train = model.predict(features_train)"
   ]
  },
  {
   "cell_type": "code",
   "execution_count": 27,
   "metadata": {},
   "outputs": [],
   "source": [
    "# Calculate F1 score\n",
    "f1_train = f1_score(target_train, predicted_probabilities_train)"
   ]
  },
  {
   "cell_type": "code",
   "execution_count": 28,
   "metadata": {},
   "outputs": [
    {
     "name": "stdout",
     "output_type": "stream",
     "text": [
      "AUC-ROC: 0.5879\n",
      "F1 Score: 0.0000\n"
     ]
    }
   ],
   "source": [
    "print(f\"AUC-ROC: {auc_roc_train:.4f}\")\n",
    "print(f\"F1 Score: {f1_train:.4f}\")"
   ]
  },
  {
   "cell_type": "markdown",
   "metadata": {},
   "source": [
    "**An AUC of 0.5879 is relatively low, but it still suggests that the model is slightly better than random guessing. It is important to note that an AUC around 0.5-0.6 indicates that the model has some predictive power but is far from optimal.**\n",
    "\n",
    "**An F1 score of 0.0000 means that either Precision = 0 and/or Recall = 0, which indicates that the model is not correctly identifying any of the positive class instances.**"
   ]
  },
  {
   "cell_type": "markdown",
   "metadata": {},
   "source": [
    "<div class=\"alert alert-success\" style=\"border-radius: 15px; box-shadow: 4px 4px 4px; border: 1px solid \">\n",
    "<h2> Reviewer's comment </h2>\n",
    "    \n",
    "Very good! Three algorithms were used to train models on imbalanced data. \n",
    "</div>"
   ]
  },
  {
   "cell_type": "markdown",
   "metadata": {},
   "source": [
    "# Improve the quality of the model."
   ]
  },
  {
   "cell_type": "markdown",
   "metadata": {},
   "source": [
    "# LOGISTIC REGRESSION\n",
    "\n",
    "**WE WILL USE CLASS WEIGHT ADJUSTMENT**"
   ]
  },
  {
   "cell_type": "code",
   "execution_count": 29,
   "metadata": {},
   "outputs": [],
   "source": [
    "model = LogisticRegression(random_state=12345,class_weight='balanced', solver='liblinear')\n",
    "model.fit(features_train, target_train)\n",
    "predicted_valid = model.predict(features_valid)\n",
    "predicted_probabilities = model.predict_proba(features_valid)[:, 1]"
   ]
  },
  {
   "cell_type": "code",
   "execution_count": 30,
   "metadata": {},
   "outputs": [],
   "source": [
    "auc_roc = roc_auc_score(target_valid, predicted_probabilities)\n",
    "f1 = f1_score(target_valid, predicted_valid)"
   ]
  },
  {
   "cell_type": "code",
   "execution_count": 31,
   "metadata": {},
   "outputs": [
    {
     "name": "stdout",
     "output_type": "stream",
     "text": [
      "AUC-ROC: 0.7714\n",
      "F1 Score: 0.5154\n"
     ]
    }
   ],
   "source": [
    "print(f\"AUC-ROC: {auc_roc:.4f}\")\n",
    "print(f\"F1 Score: {f1:.4f}\")"
   ]
  },
  {
   "cell_type": "markdown",
   "metadata": {},
   "source": [
    "**The closer the AUC is to 1, the better the model's ability to distinguish between classes, but 0.7745 indicates that the model is still quite useful, though there may be room for improvement and we also notice a clear improvement on the early AUC-ROC calculation**\n",
    "\n",
    "**F1 score of 0.5143: The model has moderate performance in terms of both precision and recall. While it performs better than not correctly identifying any of the positive class instances early,there is significant potential for improvement, especially in terms of balancing precision and recall (reducing false positives and false negatives).**"
   ]
  },
  {
   "cell_type": "markdown",
   "metadata": {},
   "source": [
    "<div class=\"alert alert-success\" style=\"border-radius: 15px; box-shadow: 4px 4px 4px; border: 1px solid \">\n",
    "<h2> Reviewer's comment </h2>\n",
    "    \n",
    "Good! Using the `class_weight='balanced'` is indeed one of the approaches we can employ to handle class imbalance. \n",
    "\n",
    "</div>"
   ]
  },
  {
   "cell_type": "markdown",
   "metadata": {},
   "source": [
    "# RANDOM FOREST MODEL\n",
    "\n",
    "**WE WILL BE USING UPSAMPLING.**"
   ]
  },
  {
   "cell_type": "code",
   "execution_count": 32,
   "metadata": {},
   "outputs": [],
   "source": [
    "def upsample(features, target, repeat):\n",
    "    features_zeros = features[target == 0]\n",
    "    features_ones = features[target == 1]\n",
    "\n",
    "    return features_upsampled, target_upsampled"
   ]
  },
  {
   "cell_type": "code",
   "execution_count": 33,
   "metadata": {},
   "outputs": [],
   "source": [
    "# We have split the training sample into negative and positive observations.\n",
    "features_zeros = features_train[target_train == 0]\n",
    "features_ones = features_train[target_train == 1]\n",
    "target_zeros = target_train[target_train == 0]\n",
    "target_ones = target_train[target_train == 1]"
   ]
  },
  {
   "cell_type": "markdown",
   "metadata": {},
   "source": [
    "<div class=\"alert alert-success\" style=\"border-radius: 15px; box-shadow: 4px 4px 4px; border: 1px solid \">\n",
    "<h2> Reviewer's comment</h2>\n",
    "    \n",
    "Correct. We indeed should apply resampling on training data only. \n",
    "    \n",
    "\n",
    "\n",
    "By the way, there are other (actually even more preferable) resampling tools [SMOTE](https://imbalanced-learn.org/stable/references/generated/imblearn.over_sampling.SMOTE.html) or [RandomUnderSampler](https://imbalanced-learn.org/stable/references/generated/imblearn.under_sampling.RandomUnderSampler.html). They may be a better choice when we use cross-validation (you will learn it in the next sprints), since cross-validation used with the upsampling made by function from our lectures may cause data leakage. \n",
    "\n",
    "</div>"
   ]
  },
  {
   "cell_type": "code",
   "execution_count": 34,
   "metadata": {},
   "outputs": [],
   "source": [
    "#We concatenated the tables and stored the result to the features_upsampled variable.\n",
    "#Repeat the process for the target and declare the variable target_upsampled\n",
    "repeat = 10\n",
    "features_upsampled = pd.concat([features_zeros] + [features_ones] * repeat)\n",
    "target_upsampled = pd.concat([target_zeros] + [target_ones] * repeat)"
   ]
  },
  {
   "cell_type": "code",
   "execution_count": 35,
   "metadata": {},
   "outputs": [],
   "source": [
    "# Shuffle the data\n",
    "features_upsampled, target_upsampled = shuffle(features_upsampled, target_upsampled, random_state=12345)\n",
    "features_upsampled, target_upsampled = upsample(features_train, target_train, 10)"
   ]
  },
  {
   "cell_type": "code",
   "execution_count": 36,
   "metadata": {},
   "outputs": [
    {
     "name": "stdout",
     "output_type": "stream",
     "text": [
      "AUC-ROC: 0.7713892773353982\n",
      "F1: 0.5792811839323467\n"
     ]
    }
   ],
   "source": [
    "model = RandomForestClassifier(random_state=12345, n_estimators=15) \n",
    "#model = LogisticRegression(random_state=12345, solver='liblinear')# < write code here >\n",
    "model.fit(features_upsampled,target_upsampled)\n",
    "predicted_valid = model.predict(features_valid)\n",
    "auc_roc = roc_auc_score(target_valid, predicted_probabilities)\n",
    "print('AUC-ROC:', auc_roc)\n",
    "print('F1:', f1_score(target_valid, predicted_valid))"
   ]
  },
  {
   "cell_type": "markdown",
   "metadata": {},
   "source": [
    "<div style=\"background-color: lightblue; padding: 10px; border-radius: 5px;\">\n",
    "    \n",
    "**Code was adjusted accordingly. Thank you.** "
   ]
  },
  {
   "cell_type": "markdown",
   "metadata": {},
   "source": [
    "<div class=\"alert alert-success\" style=\"border-radius: 15px; box-shadow: 4px 4px 4px; border: 1px solid \">\n",
    "<h2> Reviewer's comment</h2>\n",
    "    \n",
    "Correct. It's good that you do not combine `class_weight='balanced'` with resampling. Combining these two approaches is not a good idea, since it may lead to redundancy and exaggeration in handling the imbalances, which can adversely affect model's performance.\n",
    "\n",
    "</div>"
   ]
  },
  {
   "cell_type": "markdown",
   "metadata": {},
   "source": [
    "**We can refer to some of the above finding for the understanding of this output.We should also mention that the Upsampling fix\n",
    "did not out perform the earlier best model.**"
   ]
  },
  {
   "cell_type": "markdown",
   "metadata": {},
   "source": [
    "<div class=\"alert alert-success\" style=\"border-radius: 15px; box-shadow: 4px 4px 4px; border: 1px solid \">\n",
    "<h2> Reviewer's comment </h2>\n",
    "    \n",
    "So you have compared `class_weight='balanced'` with upsampling with Log. Regression. Good!  \n",
    "\n",
    "</div>"
   ]
  },
  {
   "cell_type": "markdown",
   "metadata": {},
   "source": [
    "# DECISION TREES MODEL.\n",
    "\n",
    "**WE WILL BE USING DOWNSAMPLING.**"
   ]
  },
  {
   "cell_type": "markdown",
   "metadata": {},
   "source": [
    "\n",
    "<div class=\"alert alert-success\" style=\"border-radius: 15px; box-shadow: 4px 4px 4px; border: 1px solid \">\n",
    "<h2>   Reviewer's comment 2 </h2>\n",
    "    \n",
    "Very good!     \n",
    "</div>"
   ]
  },
  {
   "cell_type": "code",
   "execution_count": 37,
   "metadata": {},
   "outputs": [],
   "source": [
    "#To perform downsampling,we write a downsample() function and pass it three arguments:features\n",
    "#target,fraction (fraction of negative observations to keep)\n",
    "def downsample(features, target, fraction):\n",
    "    features_zeros = features[target == 0]\n",
    "    features_ones = features[target == 1]\n",
    "    target_zeros = target[target == 0]\n",
    "    target_ones = target[target == 1]\n",
    "\n",
    "    features_downsampled = pd.concat(\n",
    "        [features_zeros.sample(frac=fraction, random_state=12345)] + [features_ones])\n",
    "    \n",
    "    target_downsampled = pd.concat( [target_zeros.sample(frac=fraction, random_state=12345)] + [target_ones])\n",
    "    \n",
    "    features_downsampled, target_downsampled = shuffle(\n",
    "        features_downsampled, target_downsampled, random_state=12345)\n",
    "\n",
    "    return features_downsampled, target_downsampled\n",
    "\n",
    "\n",
    "features_downsampled, target_downsampled = downsample(\n",
    "    features_train, target_train, 0.1)\n"
   ]
  },
  {
   "cell_type": "code",
   "execution_count": 38,
   "metadata": {},
   "outputs": [
    {
     "name": "stdout",
     "output_type": "stream",
     "text": [
      "F1: 0.4930032292787944\n"
     ]
    }
   ],
   "source": [
    "#model = LogisticRegression(random_state=12345, solver='liblinear')\n",
    "model = DecisionTreeClassifier(random_state=12345, max_depth=9)\n",
    "model.fit(features_downsampled,target_downsampled)\n",
    "predicted_valid = model.predict(features_valid)\n",
    "print('F1:', f1_score(target_valid, predicted_valid))"
   ]
  },
  {
   "cell_type": "markdown",
   "metadata": {},
   "source": [
    "# THE BEST MODEL\n",
    "\n",
    "**DECISION TREE MODEL : Depth: 9, AUC-ROC: 0.8975, F1 Score: 0.6884.**\n",
    "\n",
    "**RANDOM FOREST MODEL : Estimators = 9, AUC-ROC = 0.7987, F1 Score = 0.4558.**\n",
    "\n",
    "**LOGISTIC REGRESSION MODEL : AUC-ROC: 0.774467314633968 ; F1: 0.3476536682088566**\n",
    "\n",
    "**It is clear that the Decision Tree model is the best.**"
   ]
  },
  {
   "cell_type": "markdown",
   "metadata": {},
   "source": [
    "<div class=\"alert alert-success\" style=\"border-radius: 15px; box-shadow: 4px 4px 4px; border: 1px solid \">\n",
    "<h2> Reviewer's comment </h2>\n",
    "    \n",
    "Well done! \n",
    "</div>\n",
    "<div class=\"alert alert-warning\" style=\"border-radius: 15px; box-shadow: 4px 4px 4px; border: 1px solid \">\n",
    "<h2> Reviewer's comment </h2>\n",
    "    \n",
    "It will be perfect if you try to handle class imbalance with Tree and Forest models. \n",
    "</div>"
   ]
  },
  {
   "cell_type": "markdown",
   "metadata": {},
   "source": [
    "# Perform the final testing.\n",
    "\n",
    "**DECISION TREE MODEL : Depth: 9, AUC-ROC: 0.8975, F1 Score: 0.6884.will be used.**"
   ]
  },
  {
   "cell_type": "markdown",
   "metadata": {},
   "source": [
    "<div class=\"alert alert-success\" style=\"border-radius: 15px; box-shadow: 4px 4px 4px; border: 1px solid \">\n",
    "<h2> Reviewer's comment</h2>\n",
    "    \n",
    "\n",
    "Correct! Here we take one model that showed us the highest F1 to implement the final test. Great!     \n",
    "</div>"
   ]
  },
  {
   "cell_type": "code",
   "execution_count": 39,
   "metadata": {},
   "outputs": [],
   "source": [
    "final_model = DecisionTreeClassifier(random_state=12345, max_depth=5,class_weight='balanced')\n",
    "final_model.fit(features_train, target_train)  # Train on training set\n",
    "# Make predictions on the test set\n",
    "predictions = final_model.predict(features_test)\n",
    "predicted_probabilities = final_model.predict_proba(features_test)[:, 1] "
   ]
  },
  {
   "cell_type": "code",
   "execution_count": 40,
   "metadata": {},
   "outputs": [],
   "source": [
    "f1 = f1_score(target_test, predictions)\n",
    "auc_roc = roc_auc_score(target_test, predicted_probabilities)"
   ]
  },
  {
   "cell_type": "code",
   "execution_count": 41,
   "metadata": {},
   "outputs": [
    {
     "name": "stdout",
     "output_type": "stream",
     "text": [
      "F1 Score: 0.6016\n",
      "AUC-ROC: 0.8440\n"
     ]
    }
   ],
   "source": [
    "print(f\"F1 Score: {f1:.4f}\")\n",
    "print(f\"AUC-ROC: {auc_roc:.4f}\")"
   ]
  },
  {
   "cell_type": "markdown",
   "metadata": {},
   "source": [
    "<div style=\"background-color: lightblue; padding: 10px; border-radius: 5px;\">\n",
    "    \n",
    "**To improve F1 score i used the 'class_weight' and decrease the max_depth of the tree.** "
   ]
  },
  {
   "cell_type": "code",
   "execution_count": 42,
   "metadata": {},
   "outputs": [
    {
     "data": {
      "image/png": "[encoded data removed]",
      "text/plain": [
       "<Figure size 800x600 with 1 Axes>"
      ]
     },
     "metadata": {},
     "output_type": "display_data"
    }
   ],
   "source": [
    "# Compute ROC curve\n",
    "fpr, tpr, thresholds = roc_curve(target_test, predicted_probabilities)\n",
    "plt.figure(figsize=(8, 6))\n",
    "plt.plot(fpr, tpr, color='b', label=f'ROC curve (AUC = {auc_roc:.4f})')\n",
    "plt.plot([0, 1], [0, 1], color='gray', linestyle='--')  # Diagonal line (no discrimination)\n",
    "plt.title('Receiver Operating Characteristic (ROC) Curve', fontsize=16)\n",
    "plt.xlabel('False Positive Rate', fontsize=14)\n",
    "plt.ylabel('True Positive Rate', fontsize=14)\n",
    "plt.legend(loc='lower right')\n",
    "plt.show()"
   ]
  },
  {
   "cell_type": "markdown",
   "metadata": {},
   "source": [
    "<div class=\"alert alert-success\" style=\"border-radius: 15px; box-shadow: 4px 4px 4px; border: 1px solid \">\n",
    "<h2>   Reviewer's comment 2 </h2>\n",
    "    \n",
    "Perfect!     \n",
    "</div>\n",
    "<div class=\"alert alert-success\" style=\"border-radius: 15px; box-shadow: 4px 4px 4px; border: 1px solid \">\n",
    "<h2> Reviewer's comment</h2>\n",
    "    \n",
    "\n",
    "Nice result! \n",
    "\n",
    "</div>\n"
   ]
  },
  {
   "cell_type": "markdown",
   "metadata": {},
   "source": [
    "# CONCLUSION\n",
    "\n",
    "**The F1 score of 0.6016 indicates that the model can identify around 60.16 of the at-risk customers.**\n",
    "**With an F1 score of 0.6016 and AUC-ROC of 0.844, the model is showing decent predictive power. It is capable of identifying customers who are likely to leave, but there is still room for improvement.The bank could use the model’s predictions to design personalized retention offers for high-risk customers or to intervene earlier with those at risk of leaving, potentially reducing financial losses.The F1 score indicates that the model does a reasonable job at identifying the right customers to focus on, without overwhelming the bank with a large number of false positives.**\n",
    "**For this decision tree, decreasing the depth improves the model's performance, both in terms of AUC-ROC and F1 score. Depth 5 seems to provide the best overall performance based on the metrics, though it may also be more prone to overfitting, so additional steps may be needed to further optimize the model.**"
   ]
  },
  {
   "cell_type": "markdown",
   "metadata": {},
   "source": [
    "<div class=\"alert alert-success\" style=\"border-radius: 15px; box-shadow: 4px 4px 4px; border: 1px solid \">\n",
    "<h2> Reviewer's comment</h2>\n",
    "\n",
    "    \n",
    "The conclusion is written well.    \n",
    "</div>    \n"
   ]
  },
  {
   "cell_type": "code",
   "execution_count": null,
   "metadata": {},
   "outputs": [],
   "source": []
  },
  {
   "cell_type": "code",
   "execution_count": null,
   "metadata": {},
   "outputs": [],
   "source": []
  }
 ],
 "metadata": {
  "ExecuteTimeLog": [
   {
    "duration": 2820,
    "start_time": "2024-12-31T19:02:21.137Z"
   },
   {
    "duration": 26,
    "start_time": "2024-12-31T19:02:23.960Z"
   },
   {
    "duration": 12,
    "start_time": "2024-12-31T19:02:57.440Z"
   },
   {
    "duration": 12,
    "start_time": "2024-12-31T19:04:18.214Z"
   },
   {
    "duration": 10,
    "start_time": "2024-12-31T19:11:36.723Z"
   },
   {
    "duration": 6,
    "start_time": "2024-12-31T19:12:31.570Z"
   },
   {
    "duration": 4,
    "start_time": "2024-12-31T19:24:04.182Z"
   },
   {
    "duration": 4,
    "start_time": "2024-12-31T19:38:22.816Z"
   },
   {
    "duration": 3,
    "start_time": "2024-12-31T19:39:03.485Z"
   },
   {
    "duration": 6,
    "start_time": "2024-12-31T19:39:04.438Z"
   },
   {
    "duration": 1004,
    "start_time": "2024-12-31T19:49:38.103Z"
   },
   {
    "duration": 17,
    "start_time": "2024-12-31T19:49:39.110Z"
   },
   {
    "duration": 12,
    "start_time": "2024-12-31T19:49:39.131Z"
   },
   {
    "duration": 13,
    "start_time": "2024-12-31T19:49:39.145Z"
   },
   {
    "duration": 11,
    "start_time": "2024-12-31T19:49:39.160Z"
   },
   {
    "duration": 8,
    "start_time": "2024-12-31T19:49:39.173Z"
   },
   {
    "duration": 7,
    "start_time": "2024-12-31T19:49:39.182Z"
   },
   {
    "duration": 5,
    "start_time": "2024-12-31T19:58:34.759Z"
   },
   {
    "duration": 5,
    "start_time": "2024-12-31T19:59:13.216Z"
   },
   {
    "duration": 3,
    "start_time": "2024-12-31T20:02:01.314Z"
   },
   {
    "duration": 6,
    "start_time": "2024-12-31T20:08:44.232Z"
   },
   {
    "duration": 7,
    "start_time": "2024-12-31T20:10:17.325Z"
   },
   {
    "duration": 4,
    "start_time": "2024-12-31T20:22:42.439Z"
   },
   {
    "duration": 175,
    "start_time": "2024-12-31T20:30:31.374Z"
   },
   {
    "duration": 12,
    "start_time": "2024-12-31T20:32:52.895Z"
   },
   {
    "duration": 3,
    "start_time": "2024-12-31T20:45:21.025Z"
   },
   {
    "duration": 231,
    "start_time": "2024-12-31T21:12:21.366Z"
   },
   {
    "duration": 948,
    "start_time": "2024-12-31T21:13:10.849Z"
   },
   {
    "duration": 18,
    "start_time": "2024-12-31T21:13:11.799Z"
   },
   {
    "duration": 15,
    "start_time": "2024-12-31T21:13:11.818Z"
   },
   {
    "duration": 13,
    "start_time": "2024-12-31T21:13:11.835Z"
   },
   {
    "duration": 10,
    "start_time": "2024-12-31T21:13:11.850Z"
   },
   {
    "duration": 4,
    "start_time": "2024-12-31T21:13:11.862Z"
   },
   {
    "duration": 9,
    "start_time": "2024-12-31T21:13:11.868Z"
   },
   {
    "duration": 7,
    "start_time": "2024-12-31T21:13:11.879Z"
   },
   {
    "duration": 5,
    "start_time": "2024-12-31T21:13:11.888Z"
   },
   {
    "duration": 35,
    "start_time": "2024-12-31T21:13:11.896Z"
   },
   {
    "duration": 7,
    "start_time": "2024-12-31T21:13:11.933Z"
   },
   {
    "duration": 5,
    "start_time": "2024-12-31T21:13:11.942Z"
   },
   {
    "duration": 206,
    "start_time": "2024-12-31T21:13:11.948Z"
   },
   {
    "duration": 6,
    "start_time": "2024-12-31T21:13:12.157Z"
   },
   {
    "duration": 2,
    "start_time": "2024-12-31T21:13:12.165Z"
   },
   {
    "duration": 178,
    "start_time": "2024-12-31T21:13:12.169Z"
   },
   {
    "duration": 101,
    "start_time": "2024-12-31T21:45:53.729Z"
   },
   {
    "duration": 5,
    "start_time": "2024-12-31T21:46:05.827Z"
   },
   {
    "duration": 4,
    "start_time": "2024-12-31T21:46:08.374Z"
   },
   {
    "duration": 4,
    "start_time": "2024-12-31T21:46:09.949Z"
   },
   {
    "duration": 122,
    "start_time": "2024-12-31T21:59:26.798Z"
   },
   {
    "duration": 32,
    "start_time": "2024-12-31T21:59:29.636Z"
   },
   {
    "duration": 2,
    "start_time": "2024-12-31T21:59:32.202Z"
   },
   {
    "duration": 23,
    "start_time": "2024-12-31T22:00:13.621Z"
   },
   {
    "duration": 911,
    "start_time": "2024-12-31T22:00:37.319Z"
   },
   {
    "duration": 19,
    "start_time": "2024-12-31T22:00:38.232Z"
   },
   {
    "duration": 12,
    "start_time": "2024-12-31T22:00:38.253Z"
   },
   {
    "duration": 13,
    "start_time": "2024-12-31T22:00:38.266Z"
   },
   {
    "duration": 10,
    "start_time": "2024-12-31T22:00:38.283Z"
   },
   {
    "duration": 4,
    "start_time": "2024-12-31T22:00:38.295Z"
   },
   {
    "duration": 7,
    "start_time": "2024-12-31T22:00:38.333Z"
   },
   {
    "duration": 108,
    "start_time": "2024-12-31T22:00:38.342Z"
   },
   {
    "duration": 130,
    "start_time": "2024-12-31T22:00:38.452Z"
   },
   {
    "duration": 31,
    "start_time": "2024-12-31T22:00:38.584Z"
   },
   {
    "duration": 3,
    "start_time": "2024-12-31T22:00:38.616Z"
   },
   {
    "duration": 21,
    "start_time": "2024-12-31T22:00:38.632Z"
   },
   {
    "duration": 4,
    "start_time": "2024-12-31T22:00:38.655Z"
   },
   {
    "duration": 195,
    "start_time": "2024-12-31T22:00:38.662Z"
   },
   {
    "duration": 7,
    "start_time": "2024-12-31T22:00:38.859Z"
   },
   {
    "duration": 62,
    "start_time": "2024-12-31T22:00:38.869Z"
   },
   {
    "duration": 4,
    "start_time": "2024-12-31T22:00:38.933Z"
   },
   {
    "duration": 4578,
    "start_time": "2024-12-31T22:00:38.939Z"
   },
   {
    "duration": 958,
    "start_time": "2024-12-31T22:04:10.584Z"
   },
   {
    "duration": 17,
    "start_time": "2024-12-31T22:04:11.544Z"
   },
   {
    "duration": 11,
    "start_time": "2024-12-31T22:04:11.562Z"
   },
   {
    "duration": 13,
    "start_time": "2024-12-31T22:04:11.575Z"
   },
   {
    "duration": 11,
    "start_time": "2024-12-31T22:04:11.590Z"
   },
   {
    "duration": 29,
    "start_time": "2024-12-31T22:04:11.603Z"
   },
   {
    "duration": 6,
    "start_time": "2024-12-31T22:04:11.634Z"
   },
   {
    "duration": 108,
    "start_time": "2024-12-31T22:04:11.642Z"
   },
   {
    "duration": 133,
    "start_time": "2024-12-31T22:04:11.752Z"
   },
   {
    "duration": 32,
    "start_time": "2024-12-31T22:04:11.887Z"
   },
   {
    "duration": 12,
    "start_time": "2024-12-31T22:04:11.920Z"
   },
   {
    "duration": 24,
    "start_time": "2024-12-31T22:04:11.934Z"
   },
   {
    "duration": 5,
    "start_time": "2024-12-31T22:04:11.960Z"
   },
   {
    "duration": 185,
    "start_time": "2024-12-31T22:04:11.968Z"
   },
   {
    "duration": 5,
    "start_time": "2024-12-31T22:04:12.154Z"
   },
   {
    "duration": 49,
    "start_time": "2024-12-31T22:04:12.161Z"
   },
   {
    "duration": 19,
    "start_time": "2024-12-31T22:04:12.212Z"
   },
   {
    "duration": 4569,
    "start_time": "2024-12-31T22:04:12.233Z"
   },
   {
    "duration": 968,
    "start_time": "2024-12-31T22:21:45.934Z"
   },
   {
    "duration": 17,
    "start_time": "2024-12-31T22:21:46.904Z"
   },
   {
    "duration": 14,
    "start_time": "2024-12-31T22:21:46.923Z"
   },
   {
    "duration": 12,
    "start_time": "2024-12-31T22:21:46.940Z"
   },
   {
    "duration": 9,
    "start_time": "2024-12-31T22:21:46.954Z"
   },
   {
    "duration": 3,
    "start_time": "2024-12-31T22:21:46.965Z"
   },
   {
    "duration": 9,
    "start_time": "2024-12-31T22:21:46.970Z"
   },
   {
    "duration": 117,
    "start_time": "2024-12-31T22:21:46.980Z"
   },
   {
    "duration": 133,
    "start_time": "2024-12-31T22:21:47.098Z"
   },
   {
    "duration": 32,
    "start_time": "2024-12-31T22:21:47.235Z"
   },
   {
    "duration": 4,
    "start_time": "2024-12-31T22:21:47.268Z"
   },
   {
    "duration": 23,
    "start_time": "2024-12-31T22:21:47.274Z"
   },
   {
    "duration": 4,
    "start_time": "2024-12-31T22:21:47.299Z"
   },
   {
    "duration": 190,
    "start_time": "2024-12-31T22:21:47.333Z"
   },
   {
    "duration": 10,
    "start_time": "2024-12-31T22:21:47.525Z"
   },
   {
    "duration": 2,
    "start_time": "2024-12-31T22:21:47.537Z"
   },
   {
    "duration": 4611,
    "start_time": "2024-12-31T22:21:47.541Z"
   },
   {
    "duration": 2,
    "start_time": "2024-12-31T22:42:52.420Z"
   },
   {
    "duration": 3869,
    "start_time": "2024-12-31T22:42:53.209Z"
   },
   {
    "duration": 7,
    "start_time": "2024-12-31T22:45:10.580Z"
   },
   {
    "duration": 3857,
    "start_time": "2024-12-31T22:45:42.443Z"
   },
   {
    "duration": 206,
    "start_time": "2024-12-31T23:28:28.327Z"
   },
   {
    "duration": 5,
    "start_time": "2024-12-31T23:29:29.004Z"
   },
   {
    "duration": 47,
    "start_time": "2024-12-31T23:31:08.534Z"
   },
   {
    "duration": 5,
    "start_time": "2024-12-31T23:32:22.396Z"
   },
   {
    "duration": 2,
    "start_time": "2024-12-31T23:33:13.289Z"
   },
   {
    "duration": 939,
    "start_time": "2025-01-01T00:03:50.700Z"
   },
   {
    "duration": 18,
    "start_time": "2025-01-01T00:03:51.641Z"
   },
   {
    "duration": 13,
    "start_time": "2025-01-01T00:03:51.661Z"
   },
   {
    "duration": 14,
    "start_time": "2025-01-01T00:03:51.676Z"
   },
   {
    "duration": 10,
    "start_time": "2025-01-01T00:03:51.693Z"
   },
   {
    "duration": 28,
    "start_time": "2025-01-01T00:03:51.705Z"
   },
   {
    "duration": 7,
    "start_time": "2025-01-01T00:03:51.735Z"
   },
   {
    "duration": 109,
    "start_time": "2025-01-01T00:03:51.744Z"
   },
   {
    "duration": 134,
    "start_time": "2025-01-01T00:03:51.855Z"
   },
   {
    "duration": 32,
    "start_time": "2025-01-01T00:03:51.990Z"
   },
   {
    "duration": 3,
    "start_time": "2025-01-01T00:03:52.032Z"
   },
   {
    "duration": 22,
    "start_time": "2025-01-01T00:03:52.038Z"
   },
   {
    "duration": 4,
    "start_time": "2025-01-01T00:03:52.062Z"
   },
   {
    "duration": 197,
    "start_time": "2025-01-01T00:03:52.069Z"
   },
   {
    "duration": 5,
    "start_time": "2025-01-01T00:03:52.268Z"
   },
   {
    "duration": 2,
    "start_time": "2025-01-01T00:03:52.275Z"
   },
   {
    "duration": 4677,
    "start_time": "2025-01-01T00:03:52.279Z"
   },
   {
    "duration": 3,
    "start_time": "2025-01-01T00:03:56.958Z"
   },
   {
    "duration": 4030,
    "start_time": "2025-01-01T00:03:56.963Z"
   },
   {
    "duration": 236,
    "start_time": "2025-01-01T00:04:00.995Z"
   },
   {
    "duration": 6,
    "start_time": "2025-01-01T00:04:01.234Z"
   },
   {
    "duration": 125,
    "start_time": "2025-01-01T00:04:01.242Z"
   },
   {
    "duration": 5,
    "start_time": "2025-01-01T00:04:01.369Z"
   },
   {
    "duration": 58,
    "start_time": "2025-01-01T00:04:01.376Z"
   },
   {
    "duration": 227,
    "start_time": "2025-01-01T01:21:06.620Z"
   },
   {
    "duration": 5,
    "start_time": "2025-01-01T01:21:07.889Z"
   },
   {
    "duration": 3,
    "start_time": "2025-01-01T01:21:40.167Z"
   },
   {
    "duration": 3,
    "start_time": "2025-01-01T01:58:01.129Z"
   },
   {
    "duration": 84,
    "start_time": "2025-01-01T01:58:02.558Z"
   },
   {
    "duration": 20,
    "start_time": "2025-01-01T01:58:04.018Z"
   },
   {
    "duration": 236,
    "start_time": "2025-01-01T01:59:37.907Z"
   },
   {
    "duration": 921,
    "start_time": "2025-01-01T02:00:26.681Z"
   },
   {
    "duration": 16,
    "start_time": "2025-01-01T02:00:27.604Z"
   },
   {
    "duration": 19,
    "start_time": "2025-01-01T02:00:27.621Z"
   },
   {
    "duration": 15,
    "start_time": "2025-01-01T02:00:27.642Z"
   },
   {
    "duration": 13,
    "start_time": "2025-01-01T02:00:27.660Z"
   },
   {
    "duration": 5,
    "start_time": "2025-01-01T02:00:27.675Z"
   },
   {
    "duration": 7,
    "start_time": "2025-01-01T02:00:27.682Z"
   },
   {
    "duration": 125,
    "start_time": "2025-01-01T02:00:27.690Z"
   },
   {
    "duration": 146,
    "start_time": "2025-01-01T02:00:27.817Z"
   },
   {
    "duration": 32,
    "start_time": "2025-01-01T02:00:27.965Z"
   },
   {
    "duration": 3,
    "start_time": "2025-01-01T02:00:27.999Z"
   },
   {
    "duration": 35,
    "start_time": "2025-01-01T02:00:28.003Z"
   },
   {
    "duration": 4,
    "start_time": "2025-01-01T02:00:28.040Z"
   },
   {
    "duration": 183,
    "start_time": "2025-01-01T02:00:28.048Z"
   },
   {
    "duration": 9,
    "start_time": "2025-01-01T02:00:28.233Z"
   },
   {
    "duration": 5,
    "start_time": "2025-01-01T02:00:28.246Z"
   },
   {
    "duration": 4508,
    "start_time": "2025-01-01T02:00:28.253Z"
   },
   {
    "duration": 3,
    "start_time": "2025-01-01T02:00:32.763Z"
   },
   {
    "duration": 3794,
    "start_time": "2025-01-01T02:00:32.768Z"
   },
   {
    "duration": 196,
    "start_time": "2025-01-01T02:00:36.564Z"
   },
   {
    "duration": 8,
    "start_time": "2025-01-01T02:00:36.762Z"
   },
   {
    "duration": 127,
    "start_time": "2025-01-01T02:00:36.832Z"
   },
   {
    "duration": 6,
    "start_time": "2025-01-01T02:00:36.961Z"
   },
   {
    "duration": 64,
    "start_time": "2025-01-01T02:00:36.969Z"
   },
   {
    "duration": 302,
    "start_time": "2025-01-01T02:00:37.038Z"
   },
   {
    "duration": 5,
    "start_time": "2025-01-01T02:00:37.342Z"
   },
   {
    "duration": 4,
    "start_time": "2025-01-01T02:00:37.349Z"
   },
   {
    "duration": 78,
    "start_time": "2025-01-01T02:00:37.354Z"
   },
   {
    "duration": 120,
    "start_time": "2025-01-01T02:00:37.434Z"
   },
   {
    "duration": 19,
    "start_time": "2025-01-01T02:00:37.556Z"
   },
   {
    "duration": 380,
    "start_time": "2025-01-01T02:00:37.577Z"
   },
   {
    "duration": 358,
    "start_time": "2025-01-01T02:01:25.873Z"
   },
   {
    "duration": 3,
    "start_time": "2025-01-01T02:08:47.851Z"
   },
   {
    "duration": 84,
    "start_time": "2025-01-01T02:08:48.718Z"
   },
   {
    "duration": 20,
    "start_time": "2025-01-01T02:08:49.900Z"
   },
   {
    "duration": 348,
    "start_time": "2025-01-01T02:08:50.859Z"
   },
   {
    "duration": 398,
    "start_time": "2025-01-01T02:08:51.862Z"
   },
   {
    "duration": 5,
    "start_time": "2025-01-01T02:08:53.799Z"
   },
   {
    "duration": 389,
    "start_time": "2025-01-01T02:11:33.678Z"
   },
   {
    "duration": 141,
    "start_time": "2025-01-01T02:34:07.602Z"
   },
   {
    "duration": 69,
    "start_time": "2025-01-01T02:34:09.048Z"
   },
   {
    "duration": 372,
    "start_time": "2025-01-01T03:01:58.165Z"
   },
   {
    "duration": 5,
    "start_time": "2025-01-01T03:02:48.050Z"
   },
   {
    "duration": 4,
    "start_time": "2025-01-01T03:03:08.836Z"
   },
   {
    "duration": 360,
    "start_time": "2025-01-01T03:10:08.796Z"
   },
   {
    "duration": 5,
    "start_time": "2025-01-01T03:10:09.922Z"
   },
   {
    "duration": 3,
    "start_time": "2025-01-01T03:10:10.944Z"
   },
   {
    "duration": 4430,
    "start_time": "2025-01-01T03:17:57.859Z"
   },
   {
    "duration": 945,
    "start_time": "2025-01-01T03:18:54.151Z"
   },
   {
    "duration": 16,
    "start_time": "2025-01-01T03:18:55.099Z"
   },
   {
    "duration": 15,
    "start_time": "2025-01-01T03:18:55.117Z"
   },
   {
    "duration": 12,
    "start_time": "2025-01-01T03:18:55.133Z"
   },
   {
    "duration": 8,
    "start_time": "2025-01-01T03:18:55.147Z"
   },
   {
    "duration": 4,
    "start_time": "2025-01-01T03:18:55.156Z"
   },
   {
    "duration": 6,
    "start_time": "2025-01-01T03:18:55.161Z"
   },
   {
    "duration": 119,
    "start_time": "2025-01-01T03:18:55.169Z"
   },
   {
    "duration": 127,
    "start_time": "2025-01-01T03:18:55.289Z"
   },
   {
    "duration": 34,
    "start_time": "2025-01-01T03:18:55.418Z"
   },
   {
    "duration": 3,
    "start_time": "2025-01-01T03:18:55.453Z"
   },
   {
    "duration": 22,
    "start_time": "2025-01-01T03:18:55.458Z"
   },
   {
    "duration": 4,
    "start_time": "2025-01-01T03:18:55.481Z"
   },
   {
    "duration": 180,
    "start_time": "2025-01-01T03:18:55.489Z"
   },
   {
    "duration": 5,
    "start_time": "2025-01-01T03:18:55.671Z"
   },
   {
    "duration": 2,
    "start_time": "2025-01-01T03:18:55.677Z"
   },
   {
    "duration": 4440,
    "start_time": "2025-01-01T03:18:55.681Z"
   },
   {
    "duration": 8,
    "start_time": "2025-01-01T03:19:00.123Z"
   },
   {
    "duration": 3828,
    "start_time": "2025-01-01T03:19:00.133Z"
   },
   {
    "duration": 192,
    "start_time": "2025-01-01T03:19:03.963Z"
   },
   {
    "duration": 7,
    "start_time": "2025-01-01T03:19:04.157Z"
   },
   {
    "duration": 187,
    "start_time": "2025-01-01T03:19:04.165Z"
   },
   {
    "duration": 6,
    "start_time": "2025-01-01T03:19:04.354Z"
   },
   {
    "duration": 3,
    "start_time": "2025-01-01T03:19:04.361Z"
   },
   {
    "duration": 380,
    "start_time": "2025-01-01T03:19:04.365Z"
   },
   {
    "duration": 6,
    "start_time": "2025-01-01T03:19:04.747Z"
   },
   {
    "duration": 3,
    "start_time": "2025-01-01T03:19:04.832Z"
   },
   {
    "duration": 3,
    "start_time": "2025-01-01T03:19:04.836Z"
   },
   {
    "duration": 143,
    "start_time": "2025-01-01T03:19:04.840Z"
   },
   {
    "duration": 19,
    "start_time": "2025-01-01T03:19:04.985Z"
   },
   {
    "duration": 361,
    "start_time": "2025-01-01T03:19:05.005Z"
   },
   {
    "duration": 401,
    "start_time": "2025-01-01T03:19:05.368Z"
   },
   {
    "duration": 260,
    "start_time": "2025-01-01T03:19:05.771Z"
   },
   {
    "duration": 68,
    "start_time": "2025-01-01T03:19:06.033Z"
   },
   {
    "duration": 479,
    "start_time": "2025-01-01T03:19:06.102Z"
   },
   {
    "duration": 7,
    "start_time": "2025-01-01T03:19:06.582Z"
   },
   {
    "duration": 3,
    "start_time": "2025-01-01T03:19:06.590Z"
   },
   {
    "duration": 889,
    "start_time": "2025-01-01T03:55:40.991Z"
   },
   {
    "duration": 16,
    "start_time": "2025-01-01T03:55:41.883Z"
   },
   {
    "duration": 10,
    "start_time": "2025-01-01T03:55:41.900Z"
   },
   {
    "duration": 23,
    "start_time": "2025-01-01T03:55:41.913Z"
   },
   {
    "duration": 9,
    "start_time": "2025-01-01T03:55:41.937Z"
   },
   {
    "duration": 4,
    "start_time": "2025-01-01T03:55:41.949Z"
   },
   {
    "duration": 11,
    "start_time": "2025-01-01T03:55:41.954Z"
   },
   {
    "duration": 107,
    "start_time": "2025-01-01T03:55:41.967Z"
   },
   {
    "duration": 128,
    "start_time": "2025-01-01T03:55:42.076Z"
   },
   {
    "duration": 39,
    "start_time": "2025-01-01T03:55:42.209Z"
   },
   {
    "duration": 3,
    "start_time": "2025-01-01T03:55:42.250Z"
   },
   {
    "duration": 22,
    "start_time": "2025-01-01T03:55:42.255Z"
   },
   {
    "duration": 4,
    "start_time": "2025-01-01T03:55:42.279Z"
   },
   {
    "duration": 180,
    "start_time": "2025-01-01T03:55:42.286Z"
   },
   {
    "duration": 5,
    "start_time": "2025-01-01T03:55:42.468Z"
   },
   {
    "duration": 2,
    "start_time": "2025-01-01T03:55:42.475Z"
   },
   {
    "duration": 4415,
    "start_time": "2025-01-01T03:55:42.479Z"
   },
   {
    "duration": 2,
    "start_time": "2025-01-01T03:55:46.896Z"
   },
   {
    "duration": 3790,
    "start_time": "2025-01-01T03:55:46.900Z"
   },
   {
    "duration": 195,
    "start_time": "2025-01-01T03:55:50.692Z"
   },
   {
    "duration": 42,
    "start_time": "2025-01-01T03:55:50.889Z"
   },
   {
    "duration": 131,
    "start_time": "2025-01-01T03:55:50.933Z"
   },
   {
    "duration": 8,
    "start_time": "2025-01-01T03:55:51.065Z"
   },
   {
    "duration": 63,
    "start_time": "2025-01-01T03:55:51.074Z"
   },
   {
    "duration": 307,
    "start_time": "2025-01-01T03:55:51.139Z"
   },
   {
    "duration": 5,
    "start_time": "2025-01-01T03:55:51.448Z"
   },
   {
    "duration": 6,
    "start_time": "2025-01-01T03:55:51.532Z"
   },
   {
    "duration": 3,
    "start_time": "2025-01-01T03:55:51.543Z"
   },
   {
    "duration": 132,
    "start_time": "2025-01-01T03:55:51.547Z"
   },
   {
    "duration": 19,
    "start_time": "2025-01-01T03:55:51.681Z"
   },
   {
    "duration": 368,
    "start_time": "2025-01-01T03:55:51.702Z"
   },
   {
    "duration": 395,
    "start_time": "2025-01-01T03:55:52.072Z"
   },
   {
    "duration": 267,
    "start_time": "2025-01-01T03:55:52.469Z"
   },
   {
    "duration": 68,
    "start_time": "2025-01-01T03:55:52.738Z"
   },
   {
    "duration": 470,
    "start_time": "2025-01-01T03:55:52.808Z"
   },
   {
    "duration": 5,
    "start_time": "2025-01-01T03:55:53.279Z"
   },
   {
    "duration": 3,
    "start_time": "2025-01-01T03:55:53.286Z"
   },
   {
    "duration": 2664,
    "start_time": "2025-01-01T14:47:13.329Z"
   },
   {
    "duration": 24,
    "start_time": "2025-01-01T14:47:15.995Z"
   },
   {
    "duration": 10,
    "start_time": "2025-01-01T14:47:16.020Z"
   },
   {
    "duration": 11,
    "start_time": "2025-01-01T14:47:16.032Z"
   },
   {
    "duration": 9,
    "start_time": "2025-01-01T14:47:16.044Z"
   },
   {
    "duration": 8,
    "start_time": "2025-01-01T14:47:16.055Z"
   },
   {
    "duration": 3,
    "start_time": "2025-01-01T14:47:16.065Z"
   },
   {
    "duration": 6,
    "start_time": "2025-01-01T14:47:16.070Z"
   },
   {
    "duration": 89,
    "start_time": "2025-01-01T14:47:16.106Z"
   },
   {
    "duration": 131,
    "start_time": "2025-01-01T14:47:16.204Z"
   },
   {
    "duration": 31,
    "start_time": "2025-01-01T14:47:16.337Z"
   },
   {
    "duration": 3,
    "start_time": "2025-01-01T14:47:16.370Z"
   },
   {
    "duration": 38,
    "start_time": "2025-01-01T14:47:16.375Z"
   },
   {
    "duration": 4,
    "start_time": "2025-01-01T14:47:16.415Z"
   },
   {
    "duration": 121,
    "start_time": "2025-01-01T14:47:16.421Z"
   },
   {
    "duration": 4,
    "start_time": "2025-01-01T14:47:16.544Z"
   },
   {
    "duration": 2,
    "start_time": "2025-01-01T14:47:16.550Z"
   },
   {
    "duration": 4285,
    "start_time": "2025-01-01T14:47:16.554Z"
   },
   {
    "duration": 4,
    "start_time": "2025-01-01T14:47:20.841Z"
   },
   {
    "duration": 3670,
    "start_time": "2025-01-01T14:47:20.846Z"
   },
   {
    "duration": 189,
    "start_time": "2025-01-01T14:47:24.518Z"
   },
   {
    "duration": 8,
    "start_time": "2025-01-01T14:47:24.709Z"
   },
   {
    "duration": 123,
    "start_time": "2025-01-01T14:47:24.722Z"
   },
   {
    "duration": 58,
    "start_time": "2025-01-01T14:47:24.847Z"
   },
   {
    "duration": 3,
    "start_time": "2025-01-01T14:47:24.907Z"
   },
   {
    "duration": 307,
    "start_time": "2025-01-01T14:47:24.911Z"
   },
   {
    "duration": 7,
    "start_time": "2025-01-01T14:47:25.220Z"
   },
   {
    "duration": 73,
    "start_time": "2025-01-01T14:47:25.233Z"
   },
   {
    "duration": 3,
    "start_time": "2025-01-01T14:47:25.308Z"
   },
   {
    "duration": 129,
    "start_time": "2025-01-01T14:47:25.312Z"
   },
   {
    "duration": 20,
    "start_time": "2025-01-01T14:47:25.443Z"
   },
   {
    "duration": 355,
    "start_time": "2025-01-01T14:47:25.465Z"
   },
   {
    "duration": 389,
    "start_time": "2025-01-01T14:47:25.822Z"
   },
   {
    "duration": 213,
    "start_time": "2025-01-01T14:47:26.214Z"
   },
   {
    "duration": 77,
    "start_time": "2025-01-01T14:47:26.429Z"
   },
   {
    "duration": 429,
    "start_time": "2025-01-01T14:47:26.508Z"
   },
   {
    "duration": 6,
    "start_time": "2025-01-01T14:47:26.939Z"
   },
   {
    "duration": 3,
    "start_time": "2025-01-01T14:47:26.946Z"
   },
   {
    "duration": 7,
    "start_time": "2025-01-01T14:51:18.018Z"
   },
   {
    "duration": 3,
    "start_time": "2025-01-01T15:02:18.084Z"
   },
   {
    "duration": 684,
    "start_time": "2025-01-01T15:20:00.171Z"
   },
   {
    "duration": 139,
    "start_time": "2025-01-01T15:23:59.225Z"
   },
   {
    "duration": 5,
    "start_time": "2025-01-01T15:27:56.128Z"
   },
   {
    "duration": 5,
    "start_time": "2025-01-01T15:28:57.878Z"
   },
   {
    "duration": 5,
    "start_time": "2025-01-01T15:29:27.081Z"
   },
   {
    "duration": 5,
    "start_time": "2025-01-01T15:29:45.019Z"
   },
   {
    "duration": 5,
    "start_time": "2025-01-01T15:30:35.717Z"
   },
   {
    "duration": 920,
    "start_time": "2025-01-01T15:33:57.622Z"
   },
   {
    "duration": 16,
    "start_time": "2025-01-01T15:33:58.544Z"
   },
   {
    "duration": 12,
    "start_time": "2025-01-01T15:33:58.561Z"
   },
   {
    "duration": 13,
    "start_time": "2025-01-01T15:33:58.575Z"
   },
   {
    "duration": 23,
    "start_time": "2025-01-01T15:33:58.590Z"
   },
   {
    "duration": 7,
    "start_time": "2025-01-01T15:33:58.614Z"
   },
   {
    "duration": 2,
    "start_time": "2025-01-01T15:33:58.622Z"
   },
   {
    "duration": 4,
    "start_time": "2025-01-01T15:33:58.626Z"
   },
   {
    "duration": 6,
    "start_time": "2025-01-01T15:33:58.631Z"
   },
   {
    "duration": 246,
    "start_time": "2025-01-01T15:33:58.639Z"
   },
   {
    "duration": 95,
    "start_time": "2025-01-01T15:33:58.887Z"
   },
   {
    "duration": 126,
    "start_time": "2025-01-01T15:33:58.984Z"
   },
   {
    "duration": 31,
    "start_time": "2025-01-01T15:33:59.112Z"
   },
   {
    "duration": 3,
    "start_time": "2025-01-01T15:33:59.146Z"
   },
   {
    "duration": 24,
    "start_time": "2025-01-01T15:33:59.150Z"
   },
   {
    "duration": 4,
    "start_time": "2025-01-01T15:33:59.175Z"
   },
   {
    "duration": 109,
    "start_time": "2025-01-01T15:33:59.205Z"
   },
   {
    "duration": 5,
    "start_time": "2025-01-01T15:33:59.315Z"
   },
   {
    "duration": 3,
    "start_time": "2025-01-01T15:33:59.322Z"
   },
   {
    "duration": 4431,
    "start_time": "2025-01-01T15:33:59.326Z"
   },
   {
    "duration": 3,
    "start_time": "2025-01-01T15:34:03.759Z"
   },
   {
    "duration": 3688,
    "start_time": "2025-01-01T15:34:03.763Z"
   },
   {
    "duration": 195,
    "start_time": "2025-01-01T15:34:07.453Z"
   },
   {
    "duration": 6,
    "start_time": "2025-01-01T15:34:07.650Z"
   },
   {
    "duration": 127,
    "start_time": "2025-01-01T15:34:07.705Z"
   },
   {
    "duration": 5,
    "start_time": "2025-01-01T15:34:07.834Z"
   },
   {
    "duration": 3,
    "start_time": "2025-01-01T15:34:07.841Z"
   },
   {
    "duration": 315,
    "start_time": "2025-01-01T15:34:07.905Z"
   },
   {
    "duration": 6,
    "start_time": "2025-01-01T15:34:08.222Z"
   },
   {
    "duration": 77,
    "start_time": "2025-01-01T15:34:08.229Z"
   },
   {
    "duration": 3,
    "start_time": "2025-01-01T15:34:08.307Z"
   },
   {
    "duration": 134,
    "start_time": "2025-01-01T15:34:08.312Z"
   },
   {
    "duration": 18,
    "start_time": "2025-01-01T15:34:08.448Z"
   },
   {
    "duration": 374,
    "start_time": "2025-01-01T15:34:08.468Z"
   },
   {
    "duration": 431,
    "start_time": "2025-01-01T15:34:08.844Z"
   },
   {
    "duration": 210,
    "start_time": "2025-01-01T15:34:09.306Z"
   },
   {
    "duration": 90,
    "start_time": "2025-01-01T15:34:09.518Z"
   },
   {
    "duration": 440,
    "start_time": "2025-01-01T15:34:09.614Z"
   },
   {
    "duration": 5,
    "start_time": "2025-01-01T15:34:10.056Z"
   },
   {
    "duration": 3,
    "start_time": "2025-01-01T15:34:10.062Z"
   },
   {
    "duration": 933,
    "start_time": "2025-01-01T16:38:52.621Z"
   },
   {
    "duration": 16,
    "start_time": "2025-01-01T16:38:53.556Z"
   },
   {
    "duration": 10,
    "start_time": "2025-01-01T16:38:53.574Z"
   },
   {
    "duration": 24,
    "start_time": "2025-01-01T16:38:53.586Z"
   },
   {
    "duration": 10,
    "start_time": "2025-01-01T16:38:53.613Z"
   },
   {
    "duration": 8,
    "start_time": "2025-01-01T16:38:53.624Z"
   },
   {
    "duration": 2,
    "start_time": "2025-01-01T16:38:53.633Z"
   },
   {
    "duration": 3,
    "start_time": "2025-01-01T16:38:53.637Z"
   },
   {
    "duration": 6,
    "start_time": "2025-01-01T16:38:53.641Z"
   },
   {
    "duration": 235,
    "start_time": "2025-01-01T16:38:53.649Z"
   },
   {
    "duration": 102449,
    "start_time": "2025-01-01T16:38:53.886Z"
   },
   {
    "duration": 96,
    "start_time": "2025-01-01T16:40:36.337Z"
   },
   {
    "duration": 141,
    "start_time": "2025-01-01T16:40:36.435Z"
   },
   {
    "duration": 34,
    "start_time": "2025-01-01T16:40:36.580Z"
   },
   {
    "duration": 4,
    "start_time": "2025-01-01T16:40:36.616Z"
   },
   {
    "duration": 22,
    "start_time": "2025-01-01T16:40:36.622Z"
   },
   {
    "duration": 5,
    "start_time": "2025-01-01T16:40:36.646Z"
   },
   {
    "duration": 127,
    "start_time": "2025-01-01T16:40:36.653Z"
   },
   {
    "duration": 4,
    "start_time": "2025-01-01T16:40:36.782Z"
   },
   {
    "duration": 18,
    "start_time": "2025-01-01T16:40:36.787Z"
   },
   {
    "duration": 4405,
    "start_time": "2025-01-01T16:40:36.807Z"
   },
   {
    "duration": 3,
    "start_time": "2025-01-01T16:40:41.214Z"
   },
   {
    "duration": 3707,
    "start_time": "2025-01-01T16:40:41.219Z"
   },
   {
    "duration": 193,
    "start_time": "2025-01-01T16:40:44.928Z"
   },
   {
    "duration": 6,
    "start_time": "2025-01-01T16:40:45.123Z"
   },
   {
    "duration": 175,
    "start_time": "2025-01-01T16:40:45.131Z"
   },
   {
    "duration": 6,
    "start_time": "2025-01-01T16:40:45.309Z"
   },
   {
    "duration": 3,
    "start_time": "2025-01-01T16:40:45.316Z"
   },
   {
    "duration": 308,
    "start_time": "2025-01-01T16:40:45.321Z"
   },
   {
    "duration": 7,
    "start_time": "2025-01-01T16:40:45.704Z"
   },
   {
    "duration": 3,
    "start_time": "2025-01-01T16:40:45.712Z"
   },
   {
    "duration": 3,
    "start_time": "2025-01-01T16:40:45.717Z"
   },
   {
    "duration": 154,
    "start_time": "2025-01-01T16:40:45.721Z"
   },
   {
    "duration": 19,
    "start_time": "2025-01-01T16:40:45.877Z"
   },
   {
    "duration": 355,
    "start_time": "2025-01-01T16:40:45.898Z"
   },
   {
    "duration": 393,
    "start_time": "2025-01-01T16:40:46.254Z"
   },
   {
    "duration": 263,
    "start_time": "2025-01-01T16:40:46.649Z"
   },
   {
    "duration": 92,
    "start_time": "2025-01-01T16:40:46.914Z"
   },
   {
    "duration": 434,
    "start_time": "2025-01-01T16:40:47.007Z"
   },
   {
    "duration": 6,
    "start_time": "2025-01-01T16:40:47.443Z"
   },
   {
    "duration": 2,
    "start_time": "2025-01-01T16:40:47.454Z"
   },
   {
    "duration": 146,
    "start_time": "2025-01-01T16:47:02.227Z"
   },
   {
    "duration": 3,
    "start_time": "2025-01-01T16:50:17.714Z"
   },
   {
    "duration": 911,
    "start_time": "2025-01-01T16:50:42.300Z"
   },
   {
    "duration": 16,
    "start_time": "2025-01-01T16:50:43.213Z"
   },
   {
    "duration": 11,
    "start_time": "2025-01-01T16:50:43.231Z"
   },
   {
    "duration": 12,
    "start_time": "2025-01-01T16:50:43.243Z"
   },
   {
    "duration": 8,
    "start_time": "2025-01-01T16:50:43.257Z"
   },
   {
    "duration": 6,
    "start_time": "2025-01-01T16:50:43.267Z"
   },
   {
    "duration": 30,
    "start_time": "2025-01-01T16:50:43.275Z"
   },
   {
    "duration": 3,
    "start_time": "2025-01-01T16:50:43.307Z"
   },
   {
    "duration": 7,
    "start_time": "2025-01-01T16:50:43.312Z"
   },
   {
    "duration": 232,
    "start_time": "2025-01-01T16:50:43.320Z"
   },
   {
    "duration": 154,
    "start_time": "2025-01-01T16:50:43.554Z"
   },
   {
    "duration": 3,
    "start_time": "2025-01-01T16:50:43.710Z"
   },
   {
    "duration": 100,
    "start_time": "2025-01-01T16:50:43.715Z"
   },
   {
    "duration": 130,
    "start_time": "2025-01-01T16:50:43.819Z"
   },
   {
    "duration": 31,
    "start_time": "2025-01-01T16:50:43.950Z"
   },
   {
    "duration": 3,
    "start_time": "2025-01-01T16:50:43.982Z"
   },
   {
    "duration": 37,
    "start_time": "2025-01-01T16:50:43.987Z"
   },
   {
    "duration": 4,
    "start_time": "2025-01-01T16:50:44.026Z"
   },
   {
    "duration": 118,
    "start_time": "2025-01-01T16:50:44.031Z"
   },
   {
    "duration": 5,
    "start_time": "2025-01-01T16:50:44.151Z"
   },
   {
    "duration": 2,
    "start_time": "2025-01-01T16:50:44.158Z"
   },
   {
    "duration": 4300,
    "start_time": "2025-01-01T16:50:44.162Z"
   },
   {
    "duration": 3,
    "start_time": "2025-01-01T16:50:48.464Z"
   },
   {
    "duration": 3633,
    "start_time": "2025-01-01T16:50:48.468Z"
   },
   {
    "duration": 202,
    "start_time": "2025-01-01T16:50:52.106Z"
   },
   {
    "duration": 6,
    "start_time": "2025-01-01T16:50:52.310Z"
   },
   {
    "duration": 124,
    "start_time": "2025-01-01T16:50:52.318Z"
   },
   {
    "duration": 9,
    "start_time": "2025-01-01T16:50:52.444Z"
   },
   {
    "duration": 54,
    "start_time": "2025-01-01T16:50:52.455Z"
   },
   {
    "duration": 400,
    "start_time": "2025-01-01T16:50:52.512Z"
   },
   {
    "duration": 11,
    "start_time": "2025-01-01T16:50:52.917Z"
   },
   {
    "duration": 3,
    "start_time": "2025-01-01T16:50:52.930Z"
   },
   {
    "duration": 3,
    "start_time": "2025-01-01T16:50:53.007Z"
   },
   {
    "duration": 96,
    "start_time": "2025-01-01T16:50:53.013Z"
   },
   {
    "duration": 19,
    "start_time": "2025-01-01T16:50:53.113Z"
   },
   {
    "duration": 359,
    "start_time": "2025-01-01T16:50:53.133Z"
   },
   {
    "duration": 412,
    "start_time": "2025-01-01T16:50:53.494Z"
   },
   {
    "duration": 205,
    "start_time": "2025-01-01T16:50:53.907Z"
   },
   {
    "duration": 91,
    "start_time": "2025-01-01T16:50:54.114Z"
   },
   {
    "duration": 437,
    "start_time": "2025-01-01T16:50:54.206Z"
   },
   {
    "duration": 5,
    "start_time": "2025-01-01T16:50:54.647Z"
   },
   {
    "duration": 2,
    "start_time": "2025-01-01T16:50:54.654Z"
   },
   {
    "duration": 5,
    "start_time": "2025-01-01T16:51:38.475Z"
   },
   {
    "duration": 5,
    "start_time": "2025-01-01T16:52:19.705Z"
   },
   {
    "duration": 3813,
    "start_time": "2025-01-01T17:09:50.993Z"
   },
   {
    "duration": 3727,
    "start_time": "2025-01-01T17:10:29.425Z"
   },
   {
    "duration": 3,
    "start_time": "2025-01-01T17:15:45.329Z"
   },
   {
    "duration": 5,
    "start_time": "2025-01-01T17:17:39.389Z"
   },
   {
    "duration": 3528,
    "start_time": "2025-01-01T17:17:58.818Z"
   },
   {
    "duration": 981,
    "start_time": "2025-01-01T17:30:58.624Z"
   },
   {
    "duration": 71,
    "start_time": "2025-01-01T17:39:37.466Z"
   },
   {
    "duration": 2694,
    "start_time": "2025-01-01T17:48:07.751Z"
   },
   {
    "duration": 3331,
    "start_time": "2025-01-01T17:51:37.247Z"
   },
   {
    "duration": 16930,
    "start_time": "2025-01-01T17:53:42.299Z"
   },
   {
    "duration": 3651,
    "start_time": "2025-01-01T17:54:30.747Z"
   },
   {
    "duration": 4330,
    "start_time": "2025-01-01T17:57:56.368Z"
   },
   {
    "duration": 4345,
    "start_time": "2025-01-01T17:59:19.035Z"
   },
   {
    "duration": 287,
    "start_time": "2025-01-01T18:06:20.811Z"
   },
   {
    "duration": 5,
    "start_time": "2025-01-01T18:06:24.192Z"
   },
   {
    "duration": 3,
    "start_time": "2025-01-01T18:06:25.258Z"
   },
   {
    "duration": 881,
    "start_time": "2025-01-01T18:08:19.973Z"
   },
   {
    "duration": 15,
    "start_time": "2025-01-01T18:08:20.856Z"
   },
   {
    "duration": 10,
    "start_time": "2025-01-01T18:08:20.873Z"
   },
   {
    "duration": 24,
    "start_time": "2025-01-01T18:08:20.885Z"
   },
   {
    "duration": 9,
    "start_time": "2025-01-01T18:08:20.912Z"
   },
   {
    "duration": 8,
    "start_time": "2025-01-01T18:08:20.923Z"
   },
   {
    "duration": 2,
    "start_time": "2025-01-01T18:08:20.933Z"
   },
   {
    "duration": 4,
    "start_time": "2025-01-01T18:08:20.936Z"
   },
   {
    "duration": 5,
    "start_time": "2025-01-01T18:08:20.941Z"
   },
   {
    "duration": 244,
    "start_time": "2025-01-01T18:08:20.948Z"
   },
   {
    "duration": 146,
    "start_time": "2025-01-01T18:08:21.194Z"
   },
   {
    "duration": 95,
    "start_time": "2025-01-01T18:08:21.342Z"
   },
   {
    "duration": 133,
    "start_time": "2025-01-01T18:08:21.439Z"
   },
   {
    "duration": 34,
    "start_time": "2025-01-01T18:08:21.577Z"
   },
   {
    "duration": 4,
    "start_time": "2025-01-01T18:08:21.613Z"
   },
   {
    "duration": 21,
    "start_time": "2025-01-01T18:08:21.619Z"
   },
   {
    "duration": 4,
    "start_time": "2025-01-01T18:08:21.642Z"
   },
   {
    "duration": 124,
    "start_time": "2025-01-01T18:08:21.649Z"
   },
   {
    "duration": 5,
    "start_time": "2025-01-01T18:08:21.774Z"
   },
   {
    "duration": 3,
    "start_time": "2025-01-01T18:08:21.780Z"
   },
   {
    "duration": 4411,
    "start_time": "2025-01-01T18:08:21.785Z"
   },
   {
    "duration": 7,
    "start_time": "2025-01-01T18:08:26.198Z"
   },
   {
    "duration": 3438,
    "start_time": "2025-01-01T18:08:26.207Z"
   },
   {
    "duration": 196,
    "start_time": "2025-01-01T18:08:29.647Z"
   },
   {
    "duration": 6,
    "start_time": "2025-01-01T18:08:29.845Z"
   },
   {
    "duration": 125,
    "start_time": "2025-01-01T18:08:29.906Z"
   },
   {
    "duration": 7,
    "start_time": "2025-01-01T18:08:30.033Z"
   },
   {
    "duration": 2,
    "start_time": "2025-01-01T18:08:30.042Z"
   },
   {
    "duration": 314,
    "start_time": "2025-01-01T18:08:30.107Z"
   },
   {
    "duration": 82,
    "start_time": "2025-01-01T18:08:30.423Z"
   },
   {
    "duration": 3,
    "start_time": "2025-01-01T18:08:30.507Z"
   },
   {
    "duration": 3,
    "start_time": "2025-01-01T18:08:30.512Z"
   },
   {
    "duration": 132,
    "start_time": "2025-01-01T18:08:30.517Z"
   },
   {
    "duration": 17,
    "start_time": "2025-01-01T18:08:30.651Z"
   },
   {
    "duration": 380,
    "start_time": "2025-01-01T18:08:30.670Z"
   },
   {
    "duration": 2776,
    "start_time": "2025-01-01T18:08:31.052Z"
   },
   {
    "duration": 126,
    "start_time": "2025-01-01T18:08:33.830Z"
   },
   {
    "duration": 82,
    "start_time": "2025-01-01T18:08:33.958Z"
   },
   {
    "duration": 313,
    "start_time": "2025-01-01T18:08:34.042Z"
   },
   {
    "duration": 5,
    "start_time": "2025-01-01T18:08:34.357Z"
   },
   {
    "duration": 3,
    "start_time": "2025-01-01T18:08:34.366Z"
   },
   {
    "duration": 901,
    "start_time": "2025-01-01T18:17:27.848Z"
   },
   {
    "duration": 15,
    "start_time": "2025-01-01T18:17:28.751Z"
   },
   {
    "duration": 9,
    "start_time": "2025-01-01T18:17:28.768Z"
   },
   {
    "duration": 11,
    "start_time": "2025-01-01T18:17:28.779Z"
   },
   {
    "duration": 10,
    "start_time": "2025-01-01T18:17:28.806Z"
   },
   {
    "duration": 7,
    "start_time": "2025-01-01T18:17:28.818Z"
   },
   {
    "duration": 2,
    "start_time": "2025-01-01T18:17:28.827Z"
   },
   {
    "duration": 3,
    "start_time": "2025-01-01T18:17:28.831Z"
   },
   {
    "duration": 5,
    "start_time": "2025-01-01T18:17:28.837Z"
   },
   {
    "duration": 236,
    "start_time": "2025-01-01T18:17:28.845Z"
   },
   {
    "duration": 146,
    "start_time": "2025-01-01T18:17:29.083Z"
   },
   {
    "duration": 97,
    "start_time": "2025-01-01T18:17:29.230Z"
   },
   {
    "duration": 128,
    "start_time": "2025-01-01T18:17:29.328Z"
   },
   {
    "duration": 32,
    "start_time": "2025-01-01T18:17:29.458Z"
   },
   {
    "duration": 13,
    "start_time": "2025-01-01T18:17:29.492Z"
   },
   {
    "duration": 19,
    "start_time": "2025-01-01T18:17:29.507Z"
   },
   {
    "duration": 4,
    "start_time": "2025-01-01T18:17:29.528Z"
   },
   {
    "duration": 121,
    "start_time": "2025-01-01T18:17:29.534Z"
   },
   {
    "duration": 8,
    "start_time": "2025-01-01T18:17:29.656Z"
   },
   {
    "duration": 2,
    "start_time": "2025-01-01T18:17:29.666Z"
   },
   {
    "duration": 4381,
    "start_time": "2025-01-01T18:17:29.670Z"
   },
   {
    "duration": 2,
    "start_time": "2025-01-01T18:17:34.053Z"
   },
   {
    "duration": 3364,
    "start_time": "2025-01-01T18:17:34.058Z"
   },
   {
    "duration": 192,
    "start_time": "2025-01-01T18:17:37.424Z"
   },
   {
    "duration": 5,
    "start_time": "2025-01-01T18:17:37.619Z"
   },
   {
    "duration": 118,
    "start_time": "2025-01-01T18:17:37.626Z"
   },
   {
    "duration": 63,
    "start_time": "2025-01-01T18:17:37.747Z"
   },
   {
    "duration": 6,
    "start_time": "2025-01-01T18:17:37.815Z"
   },
   {
    "duration": 383,
    "start_time": "2025-01-01T18:17:37.823Z"
   },
   {
    "duration": 7,
    "start_time": "2025-01-01T18:17:38.208Z"
   },
   {
    "duration": 7,
    "start_time": "2025-01-01T18:17:38.218Z"
   },
   {
    "duration": 76,
    "start_time": "2025-01-01T18:17:38.230Z"
   },
   {
    "duration": 83,
    "start_time": "2025-01-01T18:17:38.308Z"
   },
   {
    "duration": 27,
    "start_time": "2025-01-01T18:17:38.392Z"
   },
   {
    "duration": 359,
    "start_time": "2025-01-01T18:17:38.421Z"
   },
   {
    "duration": 2630,
    "start_time": "2025-01-01T18:17:38.782Z"
   },
   {
    "duration": 130,
    "start_time": "2025-01-01T18:17:41.414Z"
   },
   {
    "duration": 79,
    "start_time": "2025-01-01T18:17:41.545Z"
   },
   {
    "duration": 293,
    "start_time": "2025-01-01T18:17:41.626Z"
   },
   {
    "duration": 5,
    "start_time": "2025-01-01T18:17:41.920Z"
   },
   {
    "duration": 3,
    "start_time": "2025-01-01T18:17:41.927Z"
   },
   {
    "duration": 122,
    "start_time": "2025-01-01T18:19:13.222Z"
   },
   {
    "duration": 902,
    "start_time": "2025-01-01T19:09:57.435Z"
   },
   {
    "duration": 16,
    "start_time": "2025-01-01T19:09:58.340Z"
   },
   {
    "duration": 9,
    "start_time": "2025-01-01T19:09:58.358Z"
   },
   {
    "duration": 11,
    "start_time": "2025-01-01T19:09:58.369Z"
   },
   {
    "duration": 27,
    "start_time": "2025-01-01T19:09:58.383Z"
   },
   {
    "duration": 8,
    "start_time": "2025-01-01T19:09:58.411Z"
   },
   {
    "duration": 2,
    "start_time": "2025-01-01T19:09:58.421Z"
   },
   {
    "duration": 4,
    "start_time": "2025-01-01T19:09:58.424Z"
   },
   {
    "duration": 6,
    "start_time": "2025-01-01T19:09:58.430Z"
   },
   {
    "duration": 230,
    "start_time": "2025-01-01T19:09:58.438Z"
   },
   {
    "duration": 153,
    "start_time": "2025-01-01T19:09:58.669Z"
   },
   {
    "duration": 99,
    "start_time": "2025-01-01T19:09:58.823Z"
   },
   {
    "duration": 129,
    "start_time": "2025-01-01T19:09:58.924Z"
   },
   {
    "duration": 30,
    "start_time": "2025-01-01T19:09:59.056Z"
   },
   {
    "duration": 4,
    "start_time": "2025-01-01T19:09:59.088Z"
   },
   {
    "duration": 21,
    "start_time": "2025-01-01T19:09:59.105Z"
   },
   {
    "duration": 4,
    "start_time": "2025-01-01T19:09:59.128Z"
   },
   {
    "duration": 115,
    "start_time": "2025-01-01T19:09:59.133Z"
   },
   {
    "duration": 4,
    "start_time": "2025-01-01T19:09:59.250Z"
   },
   {
    "duration": 3,
    "start_time": "2025-01-01T19:09:59.255Z"
   },
   {
    "duration": 4572,
    "start_time": "2025-01-01T19:09:59.259Z"
   },
   {
    "duration": 4,
    "start_time": "2025-01-01T19:10:03.833Z"
   },
   {
    "duration": 3384,
    "start_time": "2025-01-01T19:10:03.838Z"
   },
   {
    "duration": 193,
    "start_time": "2025-01-01T19:10:07.224Z"
   },
   {
    "duration": 6,
    "start_time": "2025-01-01T19:10:07.419Z"
   },
   {
    "duration": 180,
    "start_time": "2025-01-01T19:10:07.426Z"
   },
   {
    "duration": 7,
    "start_time": "2025-01-01T19:10:07.608Z"
   },
   {
    "duration": 5,
    "start_time": "2025-01-01T19:10:07.618Z"
   },
   {
    "duration": 380,
    "start_time": "2025-01-01T19:10:07.625Z"
   },
   {
    "duration": 6,
    "start_time": "2025-01-01T19:10:08.007Z"
   },
   {
    "duration": 5,
    "start_time": "2025-01-01T19:10:08.018Z"
   },
   {
    "duration": 78,
    "start_time": "2025-01-01T19:10:08.028Z"
   },
   {
    "duration": 82,
    "start_time": "2025-01-01T19:10:08.109Z"
   },
   {
    "duration": 27,
    "start_time": "2025-01-01T19:10:08.193Z"
   },
   {
    "duration": 365,
    "start_time": "2025-01-01T19:10:08.222Z"
   },
   {
    "duration": 2708,
    "start_time": "2025-01-01T19:10:08.588Z"
   },
   {
    "duration": 119,
    "start_time": "2025-01-01T19:10:11.305Z"
   },
   {
    "duration": 82,
    "start_time": "2025-01-01T19:10:11.425Z"
   },
   {
    "duration": 300,
    "start_time": "2025-01-01T19:10:11.509Z"
   },
   {
    "duration": 5,
    "start_time": "2025-01-01T19:10:11.811Z"
   },
   {
    "duration": 2,
    "start_time": "2025-01-01T19:10:11.821Z"
   },
   {
    "duration": 140,
    "start_time": "2025-01-01T19:10:11.825Z"
   }
  ],
  "kernelspec": {
   "display_name": "Python 3 (ipykernel)",
   "language": "python",
   "name": "python3"
  },
  "language_info": {
   "codemirror_mode": {
    "name": "ipython",
    "version": 3
   },
   "file_extension": ".py",
   "mimetype": "text/x-python",
   "name": "python",
   "nbconvert_exporter": "python",
   "pygments_lexer": "ipython3",
   "version": "3.12.7"
  },
  "toc": {
   "base_numbering": 1,
   "nav_menu": {},
   "number_sections": true,
   "sideBar": true,
   "skip_h1_title": true,
   "title_cell": "Table of Contents",
   "title_sidebar": "Contents",
   "toc_cell": false,
   "toc_position": {
    "height": "calc(100% - 180px)",
    "left": "10px",
    "top": "150px",
    "width": "165px"
   },
   "toc_section_display": true,
   "toc_window_display": true
  }
 },
 "nbformat": 4,
 "nbformat_minor": 4
}
