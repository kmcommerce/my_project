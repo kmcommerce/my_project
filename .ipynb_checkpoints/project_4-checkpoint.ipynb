{
 "cells": [
  {
   "cell_type": "markdown",
   "metadata": {},
   "source": [
    "# Title \n",
    "\n",
    "**Course Project on Data collection and Storage.**"
   ]
  },
  {
   "cell_type": "markdown",
   "metadata": {},
   "source": [
    "# Introduction\n",
    "\n",
    "**The major line of this project is to as an analyst of a ride share company to study patterns in the available data\n",
    "by probing the understanding on customers preference and the influence of some external factors on ride or rider.**\n",
    "**Some EDA and hypotheses testing will be performed on the given scenario follow by some explaination.**"
   ]
  },
  {
   "cell_type": "markdown",
   "metadata": {},
   "source": [
    "<div class=\"alert alert-success\" style=\"border-radius: 15px; box-shadow: 4px 4px 4px; border: 1px solid \">\n",
    "<h2> Reviewer's comment </h2>\n",
    "    \n",
    "Good introduction!"
   ]
  },
  {
   "cell_type": "code",
   "execution_count": 1,
   "metadata": {},
   "outputs": [],
   "source": [
    "from scipy import stats as st\n",
    "import math\n",
    "import numpy as np\n",
    "import pandas as pd\n",
    "from matplotlib import pyplot as plt\n",
    "from math import factorial\n",
    "from scipy.stats import pearsonr\n",
    "import seaborn as sns"
   ]
  },
  {
   "cell_type": "code",
   "execution_count": 2,
   "metadata": {},
   "outputs": [],
   "source": [
    "df_01 = pd.read_csv('/datasets/project_sql_result_01.csv') "
   ]
  },
  {
   "cell_type": "code",
   "execution_count": 3,
   "metadata": {},
   "outputs": [],
   "source": [
    "df_04 = pd.read_csv('/datasets/project_sql_result_04.csv')"
   ]
  },
  {
   "cell_type": "code",
   "execution_count": 4,
   "metadata": {},
   "outputs": [
    {
     "data": {
      "text/html": [
       "<div>\n",
       "<style scoped>\n",
       "    .dataframe tbody tr th:only-of-type {\n",
       "        vertical-align: middle;\n",
       "    }\n",
       "\n",
       "    .dataframe tbody tr th {\n",
       "        vertical-align: top;\n",
       "    }\n",
       "\n",
       "    .dataframe thead th {\n",
       "        text-align: right;\n",
       "    }\n",
       "</style>\n",
       "<table border=\"1\" class=\"dataframe\">\n",
       "  <thead>\n",
       "    <tr style=\"text-align: right;\">\n",
       "      <th></th>\n",
       "      <th>dropoff_location_name</th>\n",
       "      <th>average_trips</th>\n",
       "    </tr>\n",
       "  </thead>\n",
       "  <tbody>\n",
       "    <tr>\n",
       "      <th>46</th>\n",
       "      <td>Chinatown</td>\n",
       "      <td>52.433333</td>\n",
       "    </tr>\n",
       "  </tbody>\n",
       "</table>\n",
       "</div>"
      ],
      "text/plain": [
       "   dropoff_location_name  average_trips\n",
       "46             Chinatown      52.433333"
      ]
     },
     "execution_count": 4,
     "metadata": {},
     "output_type": "execute_result"
    }
   ],
   "source": [
    "df_04.sample()"
   ]
  },
  {
   "cell_type": "code",
   "execution_count": 5,
   "metadata": {},
   "outputs": [],
   "source": [
    "df_04.head()\n",
    "# We store the original 'dropoff_location_name'and 'average_trips' content temporarily\n",
    "temp1_content = df_04['dropoff_location_name']\n",
    "temp2_content = df_04['average_trips']\n"
   ]
  },
  {
   "cell_type": "code",
   "execution_count": 6,
   "metadata": {},
   "outputs": [],
   "source": [
    "df_04 = df_04.drop_duplicates()"
   ]
  },
  {
   "cell_type": "markdown",
   "metadata": {},
   "source": [
    "</div>\n",
    "<div class=\"alert alert-success\" style=\"border-radius: 15px; box-shadow: 4px 4px 4px; border: 1px solid \">\n",
    "<h2> Reviewer's comment 2 </h2>\n",
    "    \n",
    "Great! </div>"
   ]
  },
  {
   "cell_type": "code",
   "execution_count": 7,
   "metadata": {},
   "outputs": [
    {
     "data": {
      "text/plain": [
       "0"
      ]
     },
     "execution_count": 7,
     "metadata": {},
     "output_type": "execute_result"
    }
   ],
   "source": [
    "df_04.duplicated().sum()"
   ]
  },
  {
   "cell_type": "code",
   "execution_count": 8,
   "metadata": {},
   "outputs": [],
   "source": [
    "df_04.rename(columns={'company_name': 'dropoff_location_name'}, inplace=True)\n",
    "df_04['dropoff_location_name'] = temp1_content\n",
    "df_04.rename(columns={'trips_amount': 'average_trips'}, inplace=True)\n",
    "df_04['average_trips'] = temp2_content\n"
   ]
  },
  {
   "cell_type": "code",
   "execution_count": 9,
   "metadata": {},
   "outputs": [
    {
     "data": {
      "text/html": [
       "<div>\n",
       "<style scoped>\n",
       "    .dataframe tbody tr th:only-of-type {\n",
       "        vertical-align: middle;\n",
       "    }\n",
       "\n",
       "    .dataframe tbody tr th {\n",
       "        vertical-align: top;\n",
       "    }\n",
       "\n",
       "    .dataframe thead th {\n",
       "        text-align: right;\n",
       "    }\n",
       "</style>\n",
       "<table border=\"1\" class=\"dataframe\">\n",
       "  <thead>\n",
       "    <tr style=\"text-align: right;\">\n",
       "      <th></th>\n",
       "      <th>dropoff_location_name</th>\n",
       "      <th>average_trips</th>\n",
       "    </tr>\n",
       "  </thead>\n",
       "  <tbody>\n",
       "    <tr>\n",
       "      <th>0</th>\n",
       "      <td>Loop</td>\n",
       "      <td>10727.466667</td>\n",
       "    </tr>\n",
       "    <tr>\n",
       "      <th>1</th>\n",
       "      <td>River North</td>\n",
       "      <td>9523.666667</td>\n",
       "    </tr>\n",
       "    <tr>\n",
       "      <th>2</th>\n",
       "      <td>Streeterville</td>\n",
       "      <td>6664.666667</td>\n",
       "    </tr>\n",
       "    <tr>\n",
       "      <th>3</th>\n",
       "      <td>West Loop</td>\n",
       "      <td>5163.666667</td>\n",
       "    </tr>\n",
       "    <tr>\n",
       "      <th>4</th>\n",
       "      <td>O'Hare</td>\n",
       "      <td>2546.900000</td>\n",
       "    </tr>\n",
       "  </tbody>\n",
       "</table>\n",
       "</div>"
      ],
      "text/plain": [
       "  dropoff_location_name  average_trips\n",
       "0                  Loop   10727.466667\n",
       "1           River North    9523.666667\n",
       "2         Streeterville    6664.666667\n",
       "3             West Loop    5163.666667\n",
       "4                O'Hare    2546.900000"
      ]
     },
     "execution_count": 9,
     "metadata": {},
     "output_type": "execute_result"
    }
   ],
   "source": [
    "df_04.head()"
   ]
  },
  {
   "cell_type": "markdown",
   "metadata": {},
   "source": [
    "# Identify the top 10 neighborhoods in terms of drop-offs"
   ]
  },
  {
   "cell_type": "code",
   "execution_count": 10,
   "metadata": {},
   "outputs": [
    {
     "data": {
      "text/html": [
       "<div>\n",
       "<style scoped>\n",
       "    .dataframe tbody tr th:only-of-type {\n",
       "        vertical-align: middle;\n",
       "    }\n",
       "\n",
       "    .dataframe tbody tr th {\n",
       "        vertical-align: top;\n",
       "    }\n",
       "\n",
       "    .dataframe thead th {\n",
       "        text-align: right;\n",
       "    }\n",
       "</style>\n",
       "<table border=\"1\" class=\"dataframe\">\n",
       "  <thead>\n",
       "    <tr style=\"text-align: right;\">\n",
       "      <th></th>\n",
       "      <th>dropoff_location_name</th>\n",
       "      <th>average_trips</th>\n",
       "    </tr>\n",
       "  </thead>\n",
       "  <tbody>\n",
       "    <tr>\n",
       "      <th>0</th>\n",
       "      <td>Loop</td>\n",
       "      <td>10727.466667</td>\n",
       "    </tr>\n",
       "    <tr>\n",
       "      <th>1</th>\n",
       "      <td>River North</td>\n",
       "      <td>9523.666667</td>\n",
       "    </tr>\n",
       "    <tr>\n",
       "      <th>2</th>\n",
       "      <td>Streeterville</td>\n",
       "      <td>6664.666667</td>\n",
       "    </tr>\n",
       "    <tr>\n",
       "      <th>3</th>\n",
       "      <td>West Loop</td>\n",
       "      <td>5163.666667</td>\n",
       "    </tr>\n",
       "    <tr>\n",
       "      <th>4</th>\n",
       "      <td>O'Hare</td>\n",
       "      <td>2546.900000</td>\n",
       "    </tr>\n",
       "    <tr>\n",
       "      <th>5</th>\n",
       "      <td>Lake View</td>\n",
       "      <td>2420.966667</td>\n",
       "    </tr>\n",
       "    <tr>\n",
       "      <th>6</th>\n",
       "      <td>Grant Park</td>\n",
       "      <td>2068.533333</td>\n",
       "    </tr>\n",
       "    <tr>\n",
       "      <th>7</th>\n",
       "      <td>Museum Campus</td>\n",
       "      <td>1510.000000</td>\n",
       "    </tr>\n",
       "    <tr>\n",
       "      <th>8</th>\n",
       "      <td>Gold Coast</td>\n",
       "      <td>1364.233333</td>\n",
       "    </tr>\n",
       "    <tr>\n",
       "      <th>9</th>\n",
       "      <td>Sheffield &amp; DePaul</td>\n",
       "      <td>1259.766667</td>\n",
       "    </tr>\n",
       "  </tbody>\n",
       "</table>\n",
       "</div>"
      ],
      "text/plain": [
       "  dropoff_location_name  average_trips\n",
       "0                  Loop   10727.466667\n",
       "1           River North    9523.666667\n",
       "2         Streeterville    6664.666667\n",
       "3             West Loop    5163.666667\n",
       "4                O'Hare    2546.900000\n",
       "5             Lake View    2420.966667\n",
       "6            Grant Park    2068.533333\n",
       "7         Museum Campus    1510.000000\n",
       "8            Gold Coast    1364.233333\n",
       "9    Sheffield & DePaul    1259.766667"
      ]
     },
     "metadata": {},
     "output_type": "display_data"
    }
   ],
   "source": [
    "top_ten = df_04.sort_values(by='average_trips', ascending=False).head(10)\n",
    "display(top_ten)"
   ]
  },
  {
   "cell_type": "markdown",
   "metadata": {},
   "source": [
    "**The above file appear to show no sign of missing values**\n",
    "\n",
    "**A duplicate filter was applied as well and resulting in zero duplicate.**\n",
    "\n",
    "**The data type display refect was is expect for the dropoff_location_name and average_trips fields.However if the a unit trip\n",
    "is understood as leaving from point A to point B i think int() type will be my choice but if a trip is interupted because of some unpredictable raison between point A and point B is consider a half trip then float() type is preferable.**"
   ]
  },
  {
   "cell_type": "markdown",
   "metadata": {},
   "source": [
    "<div class=\"alert alert-success\" style=\"border-radius: 15px; box-shadow: 4px 4px 4px; border: 1px solid \">\n",
    "<h2> Reviewer's comment</h2>\n",
    "    \n",
    "Good! \n",
    "    \n",
    "</div>\n"
   ]
  },
  {
   "cell_type": "markdown",
   "metadata": {},
   "source": [
    "# 2.0 Visualization and study of the data."
   ]
  },
  {
   "cell_type": "code",
   "execution_count": 11,
   "metadata": {},
   "outputs": [
    {
     "name": "stdout",
     "output_type": "stream",
     "text": [
      "<class 'pandas.core.frame.DataFrame'>\n",
      "RangeIndex: 64 entries, 0 to 63\n",
      "Data columns (total 2 columns):\n",
      " #   Column        Non-Null Count  Dtype \n",
      "---  ------        --------------  ----- \n",
      " 0   company_name  64 non-null     object\n",
      " 1   trips_amount  64 non-null     int64 \n",
      "dtypes: int64(1), object(1)\n",
      "memory usage: 1.1+ KB\n"
     ]
    }
   ],
   "source": [
    "df_01.info()"
   ]
  },
  {
   "cell_type": "code",
   "execution_count": 12,
   "metadata": {},
   "outputs": [],
   "source": [
    "df_01 = df_01.drop_duplicates()"
   ]
  },
  {
   "cell_type": "code",
   "execution_count": 13,
   "metadata": {},
   "outputs": [
    {
     "data": {
      "text/plain": [
       "0"
      ]
     },
     "execution_count": 13,
     "metadata": {},
     "output_type": "execute_result"
    }
   ],
   "source": [
    "df_01.duplicated().sum()"
   ]
  },
  {
   "cell_type": "code",
   "execution_count": 14,
   "metadata": {},
   "outputs": [
    {
     "data": {
      "text/html": [
       "<div>\n",
       "<style scoped>\n",
       "    .dataframe tbody tr th:only-of-type {\n",
       "        vertical-align: middle;\n",
       "    }\n",
       "\n",
       "    .dataframe tbody tr th {\n",
       "        vertical-align: top;\n",
       "    }\n",
       "\n",
       "    .dataframe thead th {\n",
       "        text-align: right;\n",
       "    }\n",
       "</style>\n",
       "<table border=\"1\" class=\"dataframe\">\n",
       "  <thead>\n",
       "    <tr style=\"text-align: right;\">\n",
       "      <th></th>\n",
       "      <th>company_name</th>\n",
       "      <th>trips_amount</th>\n",
       "    </tr>\n",
       "  </thead>\n",
       "  <tbody>\n",
       "    <tr>\n",
       "      <th>0</th>\n",
       "      <td>Flash Cab</td>\n",
       "      <td>19558</td>\n",
       "    </tr>\n",
       "    <tr>\n",
       "      <th>1</th>\n",
       "      <td>Taxi Affiliation Services</td>\n",
       "      <td>11422</td>\n",
       "    </tr>\n",
       "    <tr>\n",
       "      <th>2</th>\n",
       "      <td>Medallion Leasing</td>\n",
       "      <td>10367</td>\n",
       "    </tr>\n",
       "    <tr>\n",
       "      <th>3</th>\n",
       "      <td>Yellow Cab</td>\n",
       "      <td>9888</td>\n",
       "    </tr>\n",
       "    <tr>\n",
       "      <th>4</th>\n",
       "      <td>Taxi Affiliation Service Yellow</td>\n",
       "      <td>9299</td>\n",
       "    </tr>\n",
       "  </tbody>\n",
       "</table>\n",
       "</div>"
      ],
      "text/plain": [
       "                      company_name  trips_amount\n",
       "0                        Flash Cab         19558\n",
       "1        Taxi Affiliation Services         11422\n",
       "2                Medallion Leasing         10367\n",
       "3                       Yellow Cab          9888\n",
       "4  Taxi Affiliation Service Yellow          9299"
      ]
     },
     "execution_count": 14,
     "metadata": {},
     "output_type": "execute_result"
    }
   ],
   "source": [
    "df_01.head()"
   ]
  },
  {
   "cell_type": "markdown",
   "metadata": {},
   "source": [
    "**The above file appear to show no sign of missing values**\n",
    "\n",
    "**A duplicate filter was applied as well and resulting in zero duplicate.**\n",
    "\n",
    "**The data type display refect was is expect for the company_name and trips_amount fields.**"
   ]
  },
  {
   "cell_type": "markdown",
   "metadata": {},
   "source": [
    "**The above file appear to show no sign of missing values**\n",
    "\n",
    "**A duplicate filter was applied as well and resulting in zero duplicate.**\n",
    "\n",
    "**The data type display refect was is expect for the dropoff_location_name and average_trips fields.However if the a unit trip\n",
    "is understood as leaving from point A to point B i think int() type will be my choice but if a trip is interupted because of some unpredictable raison between point A and point B is consider a half trip then float() type is preferable.**"
   ]
  },
  {
   "cell_type": "markdown",
   "metadata": {},
   "source": [
    "# Make graphs: taxi companies and number of rides"
   ]
  },
  {
   "cell_type": "code",
   "execution_count": 15,
   "metadata": {},
   "outputs": [
    {
     "data": {
      "image/png": "[encoded data removed]",
      "text/plain": [
       "<Figure size 1200x600 with 1 Axes>"
      ]
     },
     "metadata": {},
     "output_type": "display_data"
    }
   ],
   "source": [
    "# We filter out taxi companies with < 1000 rides for better visualization\n",
    "df_01_filtered = df_01[df_01['trips_amount'] > 1000]\n",
    "df_01_sorted = df_01_filtered.sort_values(by='trips_amount', ascending=False)\n",
    "plt.figure(figsize=(12, 6))\n",
    "plt.bar(df_01_sorted['company_name'], df_01_sorted['trips_amount'], color='skyblue')\n",
    "plt.title('Number of Rides by Taxi Company', fontsize=16)\n",
    "plt.xlabel('Taxi Company', fontsize=14)\n",
    "plt.ylabel('Number of Rides', fontsize=14)\n",
    "plt.xticks(rotation=45, ha='right', fontsize=12)\n",
    "plt.tight_layout()\n",
    "plt.show()"
   ]
  },
  {
   "cell_type": "markdown",
   "metadata": {},
   "source": [
    "**For better visualization we inserted a filter to remove all company with < 1000 rides.**\n",
    "\n",
    "**The plot show very clearly that the company \"Flash Cab\" dominate in term of number of ride all the others company.**"
   ]
  },
  {
   "cell_type": "markdown",
   "metadata": {},
   "source": [
    "<div class=\"alert alert-success\" style=\"border-radius: 15px; box-shadow: 4px 4px 4px; border: 1px solid \">\n",
    "<h2> Reviewer's comment</h2>\n",
    "    \n",
    "Agreed. \n",
    "    \n",
    "</div>"
   ]
  },
  {
   "cell_type": "markdown",
   "metadata": {},
   "source": [
    "# Make graph :Top 10 neighborhoods by number of dropoffs"
   ]
  },
  {
   "cell_type": "code",
   "execution_count": 16,
   "metadata": {},
   "outputs": [
    {
     "data": {
      "text/plain": [
       "Index(['dropoff_location_name', 'average_trips'], dtype='object')"
      ]
     },
     "execution_count": 16,
     "metadata": {},
     "output_type": "execute_result"
    }
   ],
   "source": [
    "df_04.columns"
   ]
  },
  {
   "cell_type": "code",
   "execution_count": 17,
   "metadata": {},
   "outputs": [
    {
     "data": {
      "image/png": "[encoded data removed]",
      "text/plain": [
       "<Figure size 1200x600 with 1 Axes>"
      ]
     },
     "metadata": {},
     "output_type": "display_data"
    }
   ],
   "source": [
    "top_ten = df_04.sort_values(by='average_trips', ascending=False).head(10)\n",
    "plt.figure(figsize=(12, 6))\n",
    "plt.bar(top_ten['dropoff_location_name'], top_ten['average_trips'], color='orange')\n",
    "plt.title('Top ten Neighborhoods by Average Drop-offs', fontsize=16)\n",
    "plt.xlabel('Neighborhood', fontsize=14)\n",
    "plt.ylabel('Average Trips', fontsize=14)\n",
    "plt.xticks(rotation=45, ha='right', fontsize=12)\n",
    "plt.tight_layout()\n",
    "plt.show()"
   ]
  },
  {
   "cell_type": "markdown",
   "metadata": {},
   "source": [
    "**As we see clearly display on the plot the neighborhood 'loop' show the strong average trips.**"
   ]
  },
  {
   "cell_type": "markdown",
   "metadata": {},
   "source": [
    "<div class=\"alert alert-success\" style=\"border-radius: 15px; box-shadow: 4px 4px 4px; border: 1px solid \">\n",
    "<h2> Reviewer's comment</h2>\n",
    "    \n",
    "It's good that you sort data and add a title with labels 👍\n",
    "    \n",
    "</div>"
   ]
  },
  {
   "cell_type": "markdown",
   "metadata": {},
   "source": [
    "# Testing hypotheses"
   ]
  },
  {
   "cell_type": "code",
   "execution_count": 18,
   "metadata": {},
   "outputs": [],
   "source": [
    "df_07 = pd.read_csv('/datasets/project_sql_result_07.csv')"
   ]
  },
  {
   "cell_type": "code",
   "execution_count": 19,
   "metadata": {},
   "outputs": [
    {
     "name": "stdout",
     "output_type": "stream",
     "text": [
      "<class 'pandas.core.frame.DataFrame'>\n",
      "RangeIndex: 1068 entries, 0 to 1067\n",
      "Data columns (total 3 columns):\n",
      " #   Column              Non-Null Count  Dtype  \n",
      "---  ------              --------------  -----  \n",
      " 0   start_ts            1068 non-null   object \n",
      " 1   weather_conditions  1068 non-null   object \n",
      " 2   duration_seconds    1068 non-null   float64\n",
      "dtypes: float64(1), object(2)\n",
      "memory usage: 25.2+ KB\n"
     ]
    }
   ],
   "source": [
    "df_07.info()"
   ]
  },
  {
   "cell_type": "code",
   "execution_count": 20,
   "metadata": {},
   "outputs": [],
   "source": [
    "df_07 = df_07.drop_duplicates()"
   ]
  },
  {
   "cell_type": "code",
   "execution_count": 21,
   "metadata": {},
   "outputs": [
    {
     "data": {
      "text/plain": [
       "0"
      ]
     },
     "execution_count": 21,
     "metadata": {},
     "output_type": "execute_result"
    }
   ],
   "source": [
    "df_07.duplicated().sum()"
   ]
  },
  {
   "cell_type": "code",
   "execution_count": 22,
   "metadata": {},
   "outputs": [
    {
     "data": {
      "text/html": [
       "<div>\n",
       "<style scoped>\n",
       "    .dataframe tbody tr th:only-of-type {\n",
       "        vertical-align: middle;\n",
       "    }\n",
       "\n",
       "    .dataframe tbody tr th {\n",
       "        vertical-align: top;\n",
       "    }\n",
       "\n",
       "    .dataframe thead th {\n",
       "        text-align: right;\n",
       "    }\n",
       "</style>\n",
       "<table border=\"1\" class=\"dataframe\">\n",
       "  <thead>\n",
       "    <tr style=\"text-align: right;\">\n",
       "      <th></th>\n",
       "      <th>start_ts</th>\n",
       "      <th>weather_conditions</th>\n",
       "      <th>duration_seconds</th>\n",
       "    </tr>\n",
       "  </thead>\n",
       "  <tbody>\n",
       "    <tr>\n",
       "      <th>0</th>\n",
       "      <td>2017-11-25 16:00:00</td>\n",
       "      <td>Good</td>\n",
       "      <td>2410.0</td>\n",
       "    </tr>\n",
       "    <tr>\n",
       "      <th>1</th>\n",
       "      <td>2017-11-25 14:00:00</td>\n",
       "      <td>Good</td>\n",
       "      <td>1920.0</td>\n",
       "    </tr>\n",
       "    <tr>\n",
       "      <th>2</th>\n",
       "      <td>2017-11-25 12:00:00</td>\n",
       "      <td>Good</td>\n",
       "      <td>1543.0</td>\n",
       "    </tr>\n",
       "    <tr>\n",
       "      <th>3</th>\n",
       "      <td>2017-11-04 10:00:00</td>\n",
       "      <td>Good</td>\n",
       "      <td>2512.0</td>\n",
       "    </tr>\n",
       "    <tr>\n",
       "      <th>4</th>\n",
       "      <td>2017-11-11 07:00:00</td>\n",
       "      <td>Good</td>\n",
       "      <td>1440.0</td>\n",
       "    </tr>\n",
       "    <tr>\n",
       "      <th>5</th>\n",
       "      <td>2017-11-11 04:00:00</td>\n",
       "      <td>Good</td>\n",
       "      <td>1320.0</td>\n",
       "    </tr>\n",
       "    <tr>\n",
       "      <th>6</th>\n",
       "      <td>2017-11-04 16:00:00</td>\n",
       "      <td>Bad</td>\n",
       "      <td>2969.0</td>\n",
       "    </tr>\n",
       "    <tr>\n",
       "      <th>7</th>\n",
       "      <td>2017-11-18 11:00:00</td>\n",
       "      <td>Good</td>\n",
       "      <td>2280.0</td>\n",
       "    </tr>\n",
       "    <tr>\n",
       "      <th>8</th>\n",
       "      <td>2017-11-11 14:00:00</td>\n",
       "      <td>Good</td>\n",
       "      <td>2460.0</td>\n",
       "    </tr>\n",
       "    <tr>\n",
       "      <th>9</th>\n",
       "      <td>2017-11-11 12:00:00</td>\n",
       "      <td>Good</td>\n",
       "      <td>2040.0</td>\n",
       "    </tr>\n",
       "  </tbody>\n",
       "</table>\n",
       "</div>"
      ],
      "text/plain": [
       "              start_ts weather_conditions  duration_seconds\n",
       "0  2017-11-25 16:00:00               Good            2410.0\n",
       "1  2017-11-25 14:00:00               Good            1920.0\n",
       "2  2017-11-25 12:00:00               Good            1543.0\n",
       "3  2017-11-04 10:00:00               Good            2512.0\n",
       "4  2017-11-11 07:00:00               Good            1440.0\n",
       "5  2017-11-11 04:00:00               Good            1320.0\n",
       "6  2017-11-04 16:00:00                Bad            2969.0\n",
       "7  2017-11-18 11:00:00               Good            2280.0\n",
       "8  2017-11-11 14:00:00               Good            2460.0\n",
       "9  2017-11-11 12:00:00               Good            2040.0"
      ]
     },
     "execution_count": 22,
     "metadata": {},
     "output_type": "execute_result"
    }
   ],
   "source": [
    "df_07.head(10)"
   ]
  },
  {
   "cell_type": "code",
   "execution_count": 23,
   "metadata": {
    "scrolled": true
   },
   "outputs": [],
   "source": [
    "#display(df_07['start_ts'])"
   ]
  },
  {
   "cell_type": "markdown",
   "metadata": {},
   "source": [
    "# Null Hypothesis : \n",
    "**The average ride duration on rainy Saturdays is equal to the average ride duration on non-rainy Saturdays.**\n",
    "\n",
    "# Alternative Hypothesis : \n",
    "**The average ride duration on rainy Saturdays is different from the average ride duration on non-rainy Saturdays.**"
   ]
  },
  {
   "cell_type": "markdown",
   "metadata": {},
   "source": [
    "<div class=\"alert alert-success\" style=\"border-radius: 15px; box-shadow: 4px 4px 4px; border: 1px solid \">\n",
    "<h2> Reviewer's comment </h2>\n",
    "    \n",
    "    \n",
    "True. The Null hypothesis always states the equality.\n",
    "\n",
    "</div>\n"
   ]
  },
  {
   "cell_type": "code",
   "execution_count": 24,
   "metadata": {},
   "outputs": [],
   "source": [
    "# We convert 'start_ts' to datetime to extract the day of the week\n",
    "df_07['start_ts'] = pd.to_datetime(df_07['start_ts'])\n",
    "df_07['day_of_week'] = df_07['start_ts'].dt.day_of_week  # 0 = Monday, 6 = Saturday\n"
   ]
  },
  {
   "cell_type": "code",
   "execution_count": 25,
   "metadata": {},
   "outputs": [],
   "source": [
    "# We filter for rainy Saturdays (weather condition 'Good' or 'Bad' and day_of_week == 6)\n",
    "#rainy_saturdays = df_07[(df_07['weather_conditions'].str.contains('Bad', case=False)) & (df_07['day_of_week'] == 6)]\n",
    "rainy_saturdays = df_07[(df_07['weather_conditions'] == 'Bad') & \n",
    "                     (df_07['start_ts'].dt.day_name() == 'Saturday')]"
   ]
  },
  {
   "cell_type": "code",
   "execution_count": 26,
   "metadata": {},
   "outputs": [],
   "source": [
    "# We filter for non-rainy Saturdays (weather condition not 'rain' and day_of_week == 6)\n",
    "#non_rainy_saturdays = df_07[~df_07['weather_conditions'].str.contains('Good', case=False) & (df_07['day_of_week'] == 6)]\n",
    "#non_rainy_saturdays = df_07[df_07['weather_conditions'].str.contains('Good', case=False, na=False) == False & (df_07['day_of_week'] == 6)]\n",
    "non_rainy_saturdays = df_07[(df_07['weather_conditions'] == 'Good') & \n",
    "                     (df_07['start_ts'].dt.day_name() == 'Saturday')]"
   ]
  },
  {
   "cell_type": "code",
   "execution_count": 27,
   "metadata": {},
   "outputs": [
    {
     "data": {
      "text/plain": [
       "'Rainy Saturdays: 148'"
      ]
     },
     "metadata": {},
     "output_type": "display_data"
    },
    {
     "data": {
      "text/plain": [
       "'Non-rainy Saturdays: 723'"
      ]
     },
     "metadata": {},
     "output_type": "display_data"
    }
   ],
   "source": [
    "display(f\"Rainy Saturdays: {len(rainy_saturdays)}\")\n",
    "display(f\"Non-rainy Saturdays: {len(non_rainy_saturdays)}\")"
   ]
  },
  {
   "cell_type": "code",
   "execution_count": 28,
   "metadata": {},
   "outputs": [
    {
     "name": "stdout",
     "output_type": "stream",
     "text": [
      "['Good' 'Bad']\n"
     ]
    }
   ],
   "source": [
    "print(df_07['weather_conditions'].unique())"
   ]
  },
  {
   "cell_type": "code",
   "execution_count": 29,
   "metadata": {},
   "outputs": [
    {
     "name": "stdout",
     "output_type": "stream",
     "text": [
      "['Saturday']\n"
     ]
    }
   ],
   "source": [
    "print(pd.to_datetime(df_07['start_ts']).dt.day_name().unique())"
   ]
  },
  {
   "cell_type": "markdown",
   "metadata": {},
   "source": [
    "<div style=\"background-color: lightblue; padding: 10px; border-radius: 5px;\">\n",
    "    \n",
    "**My filter for rainy_saturday and non_rainy_saturday was not set up properly that is why i was getting an empty array.**"
   ]
  },
  {
   "cell_type": "code",
   "execution_count": null,
   "metadata": {},
   "outputs": [],
   "source": []
  },
  {
   "cell_type": "markdown",
   "metadata": {},
   "source": [
    "<div style=\"background-color: lightblue; padding: 10px; border-radius: 5px;\"> \n",
    "    \n",
    "**Code was modified .**"
   ]
  },
  {
   "cell_type": "code",
   "execution_count": null,
   "metadata": {},
   "outputs": [],
   "source": []
  },
  {
   "cell_type": "markdown",
   "metadata": {},
   "source": [
    "\n",
    "<div class=\"alert alert-success\" style=\"border-radius: 15px; box-shadow: 4px 4px 4px; border: 1px solid \">\n",
    "<h2> Reviewer's comment 2 </h2>\n",
    "    \n",
    "Correct! </div>"
   ]
  },
  {
   "cell_type": "code",
   "execution_count": 30,
   "metadata": {},
   "outputs": [],
   "source": [
    "# We calculate the average duration\n",
    "avg_rainy_duration = rainy_saturdays['duration_seconds'].mean()\n",
    "avg_non_rainy_duration = non_rainy_saturdays['duration_seconds'].mean()"
   ]
  },
  {
   "cell_type": "code",
   "execution_count": 42,
   "metadata": {},
   "outputs": [
    {
     "data": {
      "text/plain": [
       "'T-statistic: 5.427957689754561, P-value: 7.397770692813658e-08'"
      ]
     },
     "metadata": {},
     "output_type": "display_data"
    },
    {
     "data": {
      "text/plain": [
       "'The difference in ride durations is statistically significant.'"
      ]
     },
     "metadata": {},
     "output_type": "display_data"
    }
   ],
   "source": [
    "# We perform a t-test to compare the two groups\n",
    "t_stat, p_value = st.ttest_ind(rainy_saturdays['duration_seconds'], non_rainy_saturdays['duration_seconds'])\n",
    "\n",
    "display(f\"T-statistic: {t_stat}, P-value: {p_value}\")\n",
    "if p_value < 0.05:\n",
    "        display(\"The difference in ride durations is statistically significant.\")\n",
    "else:\n",
    "        display(\"The difference in ride durations is not statistically significant.\")"
   ]
  },
  {
   "cell_type": "markdown",
   "metadata": {},
   "source": [
    "**Since the p-value is much smaller than 0.05, we reject the null hypothesis. This means that the average ride duration on rainy Saturdays is significantly different from the average ride duration on non-rainy Saturdays.**"
   ]
  },
  {
   "cell_type": "markdown",
   "metadata": {},
   "source": [
    "<div class=\"alert alert-success\" style=\"border-radius: 15px; box-shadow: 4px 4px 4px; border: 1px solid \">\n",
    "<h2> Reviewer's comment 3 </h2>\n",
    "    \n",
    "Correct! </div>"
   ]
  },
  {
   "cell_type": "markdown",
   "metadata": {},
   "source": [
    "<div style=\"background-color: lightblue; padding: 10px; border-radius: 5px;\"\n",
    "**Sorry for not pointing this sonner, all the step to understand why the P-value came as 'nan' was done below this comment cell.**"
   ]
  },
  {
   "cell_type": "markdown",
   "metadata": {},
   "source": [
    "<div style=\"background-color: lightblue; padding: 10px; border-radius: 5px;\"\n",
    "**Sorry for not pointing it out sonner, all the step for attempting to understand why the P-value came as 'nan' was done below.** "
   ]
  },
  {
   "cell_type": "markdown",
   "metadata": {},
   "source": [
    "# Conclusion\n",
    "\n",
    "**During the course of this project we were able to count the number of ride for each taxi company on a filtered specific date.we were also able to filtered thru the type of taxi(yellow or blue) for a ride count and we use identifiers for certains neighborhood to retrieve waether condition and also the start point and end point for ride.**\n",
    "**After reading in all the file we notice no major anomalies processing the data.**\n",
    "**As for the hypothesis texting we can observe that with a much lower P-value which indicate a significant difference in ride durations between the two groups could mean that:\n",
    "People might take shorter or longer rides due to rain (depending on the context).\n",
    "Environmental factors (road conditions or safety concerns) might impact ride durations.**\n",
    "**As a practical observation the ride share company can use this insight to dynamically adjust pricing or availability during rainy weather on Saturdays and on the safety aspect we see that if rainy weather correlates with significantly shorter durations, it might signal hurried travel, leading to potential safety risks.The company could promote safety campaigns or implement policies like reduced speed limits during rain.**\n",
    "\n"
   ]
  },
  {
   "cell_type": "markdown",
   "metadata": {},
   "source": [
    "<div style=\"background-color: lightblue; padding: 10px; border-radius: 5px;\">\n",
    "    \n",
    "**Conclusion was updated as well.** \n",
    "\n",
    "**THANK YOU.**"
   ]
  },
  {
   "cell_type": "markdown",
   "metadata": {},
   "source": [
    "<div class=\"alert alert-success\" style=\"border-radius: 15px; box-shadow: 4px 4px 4px; border: 1px solid \">\n",
    "<h2> Reviewer's comment 3 </h2>\n",
    "    \n",
    "Thank you for such a good job :) \n",
    "\n",
    "</div>"
   ]
  }
 ],
 "metadata": {
  "ExecuteTimeLog": [
   {
    "duration": 2495,
    "start_time": "2024-12-10T15:43:48.278Z"
   },
   {
    "duration": 9,
    "start_time": "2024-12-10T15:45:13.727Z"
   },
   {
    "duration": 2,
    "start_time": "2024-12-10T15:57:23.402Z"
   },
   {
    "duration": 7,
    "start_time": "2024-12-10T15:57:24.086Z"
   },
   {
    "duration": 9,
    "start_time": "2024-12-10T16:00:10.806Z"
   },
   {
    "duration": 215,
    "start_time": "2024-12-10T16:04:05.801Z"
   },
   {
    "duration": 888,
    "start_time": "2024-12-10T16:04:22.118Z"
   },
   {
    "duration": 8,
    "start_time": "2024-12-10T16:04:23.009Z"
   },
   {
    "duration": 6,
    "start_time": "2024-12-10T16:04:23.018Z"
   },
   {
    "duration": 9,
    "start_time": "2024-12-10T16:04:23.027Z"
   },
   {
    "duration": 271,
    "start_time": "2024-12-10T16:06:42.710Z"
   },
   {
    "duration": 8,
    "start_time": "2024-12-10T16:07:02.424Z"
   },
   {
    "duration": 6,
    "start_time": "2024-12-10T16:07:26.154Z"
   },
   {
    "duration": 9,
    "start_time": "2024-12-10T16:14:21.970Z"
   },
   {
    "duration": 4,
    "start_time": "2024-12-10T16:16:48.163Z"
   },
   {
    "duration": 14,
    "start_time": "2024-12-10T16:17:39.456Z"
   },
   {
    "duration": 5,
    "start_time": "2024-12-10T16:17:55.342Z"
   },
   {
    "duration": 4,
    "start_time": "2024-12-10T16:18:50.408Z"
   },
   {
    "duration": 5,
    "start_time": "2024-12-10T16:19:32.520Z"
   },
   {
    "duration": 16,
    "start_time": "2024-12-10T16:46:19.195Z"
   },
   {
    "duration": 16,
    "start_time": "2024-12-10T16:48:29.774Z"
   },
   {
    "duration": 9,
    "start_time": "2024-12-10T16:50:32.913Z"
   },
   {
    "duration": 6,
    "start_time": "2024-12-10T16:51:10.727Z"
   },
   {
    "duration": 3,
    "start_time": "2024-12-10T16:54:20.280Z"
   },
   {
    "duration": 5,
    "start_time": "2024-12-10T16:54:34.250Z"
   },
   {
    "duration": 819,
    "start_time": "2024-12-10T16:54:55.749Z"
   },
   {
    "duration": 6,
    "start_time": "2024-12-10T16:54:56.570Z"
   },
   {
    "duration": 5,
    "start_time": "2024-12-10T16:54:56.577Z"
   },
   {
    "duration": 8,
    "start_time": "2024-12-10T16:54:56.584Z"
   },
   {
    "duration": 3,
    "start_time": "2024-12-10T16:54:56.607Z"
   },
   {
    "duration": 6,
    "start_time": "2024-12-10T16:54:56.612Z"
   },
   {
    "duration": 8,
    "start_time": "2024-12-10T16:54:56.619Z"
   },
   {
    "duration": 7,
    "start_time": "2024-12-10T16:54:56.629Z"
   },
   {
    "duration": 4,
    "start_time": "2024-12-10T16:54:56.638Z"
   },
   {
    "duration": 4,
    "start_time": "2024-12-10T16:54:56.643Z"
   },
   {
    "duration": 6,
    "start_time": "2024-12-10T16:54:56.649Z"
   },
   {
    "duration": 3,
    "start_time": "2024-12-10T16:54:56.657Z"
   },
   {
    "duration": 5,
    "start_time": "2024-12-10T16:54:56.706Z"
   },
   {
    "duration": 16,
    "start_time": "2024-12-10T16:54:56.714Z"
   },
   {
    "duration": 1246,
    "start_time": "2024-12-10T17:01:57.779Z"
   },
   {
    "duration": 1293,
    "start_time": "2024-12-10T17:09:58.856Z"
   },
   {
    "duration": 1269,
    "start_time": "2024-12-10T17:10:30.836Z"
   },
   {
    "duration": 359,
    "start_time": "2024-12-10T17:11:06.206Z"
   },
   {
    "duration": 601,
    "start_time": "2024-12-10T17:24:46.169Z"
   },
   {
    "duration": 4,
    "start_time": "2024-12-10T17:31:16.593Z"
   },
   {
    "duration": 688,
    "start_time": "2024-12-10T17:38:43.193Z"
   },
   {
    "duration": 3,
    "start_time": "2024-12-10T17:43:50.728Z"
   },
   {
    "duration": 7,
    "start_time": "2024-12-10T17:43:58.937Z"
   },
   {
    "duration": 6,
    "start_time": "2024-12-10T17:44:23.937Z"
   },
   {
    "duration": 827,
    "start_time": "2024-12-10T17:44:47.856Z"
   },
   {
    "duration": 7,
    "start_time": "2024-12-10T17:44:48.685Z"
   },
   {
    "duration": 12,
    "start_time": "2024-12-10T17:44:48.693Z"
   },
   {
    "duration": 10,
    "start_time": "2024-12-10T17:44:48.707Z"
   },
   {
    "duration": 4,
    "start_time": "2024-12-10T17:44:48.721Z"
   },
   {
    "duration": 7,
    "start_time": "2024-12-10T17:44:48.726Z"
   },
   {
    "duration": 7,
    "start_time": "2024-12-10T17:44:48.735Z"
   },
   {
    "duration": 8,
    "start_time": "2024-12-10T17:44:48.743Z"
   },
   {
    "duration": 3,
    "start_time": "2024-12-10T17:44:48.753Z"
   },
   {
    "duration": 4,
    "start_time": "2024-12-10T17:44:48.759Z"
   },
   {
    "duration": 47,
    "start_time": "2024-12-10T17:44:48.764Z"
   },
   {
    "duration": 3,
    "start_time": "2024-12-10T17:44:48.813Z"
   },
   {
    "duration": 6,
    "start_time": "2024-12-10T17:44:48.818Z"
   },
   {
    "duration": 6,
    "start_time": "2024-12-10T17:44:48.828Z"
   },
   {
    "duration": 442,
    "start_time": "2024-12-10T17:44:48.835Z"
   },
   {
    "duration": 4,
    "start_time": "2024-12-10T17:44:49.280Z"
   },
   {
    "duration": 665,
    "start_time": "2024-12-10T17:44:49.286Z"
   },
   {
    "duration": 8,
    "start_time": "2024-12-10T17:45:41.278Z"
   },
   {
    "duration": 3,
    "start_time": "2024-12-10T17:52:18.264Z"
   },
   {
    "duration": 5,
    "start_time": "2024-12-10T17:52:20.471Z"
   },
   {
    "duration": 7,
    "start_time": "2024-12-10T17:54:40.023Z"
   },
   {
    "duration": 7,
    "start_time": "2024-12-10T17:55:19.022Z"
   },
   {
    "duration": 6,
    "start_time": "2024-12-10T17:56:34.634Z"
   },
   {
    "duration": 8,
    "start_time": "2024-12-10T17:56:35.992Z"
   },
   {
    "duration": 6,
    "start_time": "2024-12-10T17:57:38.595Z"
   },
   {
    "duration": 8,
    "start_time": "2024-12-10T17:57:40.664Z"
   },
   {
    "duration": 4,
    "start_time": "2024-12-10T17:57:42.127Z"
   },
   {
    "duration": 5,
    "start_time": "2024-12-10T17:57:43.243Z"
   },
   {
    "duration": 5,
    "start_time": "2024-12-10T17:57:46.540Z"
   },
   {
    "duration": 4,
    "start_time": "2024-12-10T17:57:59.698Z"
   },
   {
    "duration": 7,
    "start_time": "2024-12-10T17:58:05.477Z"
   },
   {
    "duration": 4,
    "start_time": "2024-12-10T18:10:07.844Z"
   },
   {
    "duration": 6,
    "start_time": "2024-12-10T18:10:10.462Z"
   },
   {
    "duration": 833,
    "start_time": "2024-12-10T18:11:00.338Z"
   },
   {
    "duration": 6,
    "start_time": "2024-12-10T18:11:01.173Z"
   },
   {
    "duration": 2,
    "start_time": "2024-12-10T18:11:01.181Z"
   },
   {
    "duration": 321,
    "start_time": "2024-12-10T18:11:01.185Z"
   },
   {
    "duration": 0,
    "start_time": "2024-12-10T18:11:01.508Z"
   },
   {
    "duration": 0,
    "start_time": "2024-12-10T18:11:01.510Z"
   },
   {
    "duration": 0,
    "start_time": "2024-12-10T18:11:01.511Z"
   },
   {
    "duration": 0,
    "start_time": "2024-12-10T18:11:01.513Z"
   },
   {
    "duration": 0,
    "start_time": "2024-12-10T18:11:01.514Z"
   },
   {
    "duration": 0,
    "start_time": "2024-12-10T18:11:01.516Z"
   },
   {
    "duration": 0,
    "start_time": "2024-12-10T18:11:01.517Z"
   },
   {
    "duration": 0,
    "start_time": "2024-12-10T18:11:01.519Z"
   },
   {
    "duration": 0,
    "start_time": "2024-12-10T18:11:01.521Z"
   },
   {
    "duration": 0,
    "start_time": "2024-12-10T18:11:01.522Z"
   },
   {
    "duration": 0,
    "start_time": "2024-12-10T18:11:01.524Z"
   },
   {
    "duration": 0,
    "start_time": "2024-12-10T18:11:01.525Z"
   },
   {
    "duration": 0,
    "start_time": "2024-12-10T18:11:01.527Z"
   },
   {
    "duration": 0,
    "start_time": "2024-12-10T18:11:01.528Z"
   },
   {
    "duration": 0,
    "start_time": "2024-12-10T18:11:01.530Z"
   },
   {
    "duration": 849,
    "start_time": "2024-12-10T18:11:28.306Z"
   },
   {
    "duration": 7,
    "start_time": "2024-12-10T18:11:29.157Z"
   },
   {
    "duration": 2,
    "start_time": "2024-12-10T18:11:29.166Z"
   },
   {
    "duration": 2,
    "start_time": "2024-12-10T18:11:29.170Z"
   },
   {
    "duration": 10,
    "start_time": "2024-12-10T18:11:29.175Z"
   },
   {
    "duration": 4,
    "start_time": "2024-12-10T18:11:29.205Z"
   },
   {
    "duration": 6,
    "start_time": "2024-12-10T18:11:29.211Z"
   },
   {
    "duration": 8,
    "start_time": "2024-12-10T18:11:29.218Z"
   },
   {
    "duration": 5,
    "start_time": "2024-12-10T18:11:29.228Z"
   },
   {
    "duration": 9,
    "start_time": "2024-12-10T18:11:29.235Z"
   },
   {
    "duration": 5,
    "start_time": "2024-12-10T18:11:29.246Z"
   },
   {
    "duration": 4,
    "start_time": "2024-12-10T18:11:29.253Z"
   },
   {
    "duration": 6,
    "start_time": "2024-12-10T18:11:29.259Z"
   },
   {
    "duration": 4,
    "start_time": "2024-12-10T18:11:29.306Z"
   },
   {
    "duration": 7,
    "start_time": "2024-12-10T18:11:29.311Z"
   },
   {
    "duration": 8,
    "start_time": "2024-12-10T18:11:29.320Z"
   },
   {
    "duration": 464,
    "start_time": "2024-12-10T18:11:29.330Z"
   },
   {
    "duration": 5,
    "start_time": "2024-12-10T18:11:29.796Z"
   },
   {
    "duration": 292,
    "start_time": "2024-12-10T18:11:29.802Z"
   },
   {
    "duration": 5,
    "start_time": "2024-12-10T18:12:59.542Z"
   },
   {
    "duration": 6,
    "start_time": "2024-12-10T18:13:39.423Z"
   },
   {
    "duration": 6,
    "start_time": "2024-12-10T18:13:53.096Z"
   },
   {
    "duration": 5,
    "start_time": "2024-12-10T18:14:36.428Z"
   },
   {
    "duration": 6,
    "start_time": "2024-12-10T18:14:37.070Z"
   },
   {
    "duration": 6,
    "start_time": "2024-12-10T18:15:32.453Z"
   },
   {
    "duration": 4,
    "start_time": "2024-12-10T18:17:41.970Z"
   },
   {
    "duration": 5,
    "start_time": "2024-12-10T18:18:03.077Z"
   },
   {
    "duration": 851,
    "start_time": "2024-12-10T18:23:09.250Z"
   },
   {
    "duration": 8,
    "start_time": "2024-12-10T18:23:10.106Z"
   },
   {
    "duration": 5,
    "start_time": "2024-12-10T18:23:10.116Z"
   },
   {
    "duration": 10,
    "start_time": "2024-12-10T18:23:10.123Z"
   },
   {
    "duration": 5,
    "start_time": "2024-12-10T18:23:10.134Z"
   },
   {
    "duration": 3,
    "start_time": "2024-12-10T18:23:10.141Z"
   },
   {
    "duration": 5,
    "start_time": "2024-12-10T18:23:10.146Z"
   },
   {
    "duration": 9,
    "start_time": "2024-12-10T18:23:10.153Z"
   },
   {
    "duration": 4,
    "start_time": "2024-12-10T18:23:10.164Z"
   },
   {
    "duration": 5,
    "start_time": "2024-12-10T18:23:10.206Z"
   },
   {
    "duration": 7,
    "start_time": "2024-12-10T18:23:10.213Z"
   },
   {
    "duration": 165,
    "start_time": "2024-12-10T18:23:10.222Z"
   },
   {
    "duration": 0,
    "start_time": "2024-12-10T18:23:10.389Z"
   },
   {
    "duration": 0,
    "start_time": "2024-12-10T18:23:10.390Z"
   },
   {
    "duration": 0,
    "start_time": "2024-12-10T18:23:10.391Z"
   },
   {
    "duration": 824,
    "start_time": "2024-12-10T18:24:58.081Z"
   },
   {
    "duration": 6,
    "start_time": "2024-12-10T18:24:58.908Z"
   },
   {
    "duration": 5,
    "start_time": "2024-12-10T18:24:58.916Z"
   },
   {
    "duration": 9,
    "start_time": "2024-12-10T18:24:58.924Z"
   },
   {
    "duration": 7,
    "start_time": "2024-12-10T18:24:58.935Z"
   },
   {
    "duration": 3,
    "start_time": "2024-12-10T18:24:58.944Z"
   },
   {
    "duration": 4,
    "start_time": "2024-12-10T18:24:58.949Z"
   },
   {
    "duration": 162,
    "start_time": "2024-12-10T18:24:58.955Z"
   },
   {
    "duration": 0,
    "start_time": "2024-12-10T18:24:59.119Z"
   },
   {
    "duration": 0,
    "start_time": "2024-12-10T18:24:59.120Z"
   },
   {
    "duration": 0,
    "start_time": "2024-12-10T18:24:59.122Z"
   },
   {
    "duration": 0,
    "start_time": "2024-12-10T18:24:59.123Z"
   },
   {
    "duration": 0,
    "start_time": "2024-12-10T18:24:59.125Z"
   },
   {
    "duration": 0,
    "start_time": "2024-12-10T18:24:59.126Z"
   },
   {
    "duration": 0,
    "start_time": "2024-12-10T18:24:59.128Z"
   },
   {
    "duration": 0,
    "start_time": "2024-12-10T18:24:59.129Z"
   },
   {
    "duration": 9,
    "start_time": "2024-12-10T18:26:34.888Z"
   },
   {
    "duration": 4,
    "start_time": "2024-12-10T18:35:25.180Z"
   },
   {
    "duration": 7,
    "start_time": "2024-12-10T18:35:26.724Z"
   },
   {
    "duration": 4,
    "start_time": "2024-12-10T18:42:02.993Z"
   },
   {
    "duration": 7,
    "start_time": "2024-12-10T18:42:05.197Z"
   },
   {
    "duration": 5,
    "start_time": "2024-12-10T18:48:33.963Z"
   },
   {
    "duration": 9,
    "start_time": "2024-12-10T18:48:35.987Z"
   },
   {
    "duration": 926,
    "start_time": "2024-12-10T18:49:02.013Z"
   },
   {
    "duration": 9,
    "start_time": "2024-12-10T18:49:02.942Z"
   },
   {
    "duration": 6,
    "start_time": "2024-12-10T18:49:02.953Z"
   },
   {
    "duration": 9,
    "start_time": "2024-12-10T18:49:02.961Z"
   },
   {
    "duration": 5,
    "start_time": "2024-12-10T18:49:02.973Z"
   },
   {
    "duration": 27,
    "start_time": "2024-12-10T18:49:02.980Z"
   },
   {
    "duration": 8,
    "start_time": "2024-12-10T18:49:03.011Z"
   },
   {
    "duration": 13,
    "start_time": "2024-12-10T18:49:03.021Z"
   },
   {
    "duration": 5,
    "start_time": "2024-12-10T18:49:03.036Z"
   },
   {
    "duration": 8,
    "start_time": "2024-12-10T18:49:03.043Z"
   },
   {
    "duration": 9,
    "start_time": "2024-12-10T18:49:03.053Z"
   },
   {
    "duration": 4,
    "start_time": "2024-12-10T18:49:03.065Z"
   },
   {
    "duration": 7,
    "start_time": "2024-12-10T18:49:03.071Z"
   },
   {
    "duration": 24,
    "start_time": "2024-12-10T18:49:03.082Z"
   },
   {
    "duration": 2,
    "start_time": "2024-12-10T18:49:03.109Z"
   },
   {
    "duration": 477,
    "start_time": "2024-12-10T18:49:03.113Z"
   },
   {
    "duration": 5,
    "start_time": "2024-12-10T18:49:03.591Z"
   },
   {
    "duration": 389,
    "start_time": "2024-12-10T18:49:03.598Z"
   },
   {
    "duration": 11,
    "start_time": "2024-12-10T18:50:59.661Z"
   },
   {
    "duration": 4,
    "start_time": "2024-12-10T18:51:14.823Z"
   },
   {
    "duration": 9,
    "start_time": "2024-12-10T18:51:17.070Z"
   },
   {
    "duration": 3,
    "start_time": "2024-12-10T18:51:56.089Z"
   },
   {
    "duration": 10,
    "start_time": "2024-12-10T18:51:57.358Z"
   },
   {
    "duration": 3,
    "start_time": "2024-12-10T18:52:34.008Z"
   },
   {
    "duration": 7,
    "start_time": "2024-12-10T18:52:35.043Z"
   },
   {
    "duration": 6,
    "start_time": "2024-12-10T18:53:05.619Z"
   },
   {
    "duration": 8,
    "start_time": "2024-12-10T18:54:13.195Z"
   },
   {
    "duration": 4,
    "start_time": "2024-12-10T18:58:12.003Z"
   },
   {
    "duration": 3,
    "start_time": "2024-12-10T18:59:20.973Z"
   },
   {
    "duration": 8,
    "start_time": "2024-12-10T18:59:22.371Z"
   },
   {
    "duration": 846,
    "start_time": "2024-12-10T18:59:46.897Z"
   },
   {
    "duration": 8,
    "start_time": "2024-12-10T18:59:47.745Z"
   },
   {
    "duration": 5,
    "start_time": "2024-12-10T18:59:47.754Z"
   },
   {
    "duration": 9,
    "start_time": "2024-12-10T18:59:47.761Z"
   },
   {
    "duration": 2,
    "start_time": "2024-12-10T18:59:47.773Z"
   },
   {
    "duration": 5,
    "start_time": "2024-12-10T18:59:47.777Z"
   },
   {
    "duration": 4,
    "start_time": "2024-12-10T18:59:47.805Z"
   },
   {
    "duration": 4,
    "start_time": "2024-12-10T18:59:47.811Z"
   },
   {
    "duration": 6,
    "start_time": "2024-12-10T18:59:47.816Z"
   },
   {
    "duration": 3,
    "start_time": "2024-12-10T18:59:47.824Z"
   },
   {
    "duration": 6,
    "start_time": "2024-12-10T18:59:47.829Z"
   },
   {
    "duration": 169,
    "start_time": "2024-12-10T18:59:47.837Z"
   },
   {
    "duration": 0,
    "start_time": "2024-12-10T18:59:48.009Z"
   },
   {
    "duration": 0,
    "start_time": "2024-12-10T18:59:48.011Z"
   },
   {
    "duration": 0,
    "start_time": "2024-12-10T18:59:48.013Z"
   },
   {
    "duration": 0,
    "start_time": "2024-12-10T18:59:48.014Z"
   },
   {
    "duration": 0,
    "start_time": "2024-12-10T18:59:48.016Z"
   },
   {
    "duration": 0,
    "start_time": "2024-12-10T18:59:48.017Z"
   },
   {
    "duration": 0,
    "start_time": "2024-12-10T18:59:48.018Z"
   },
   {
    "duration": 0,
    "start_time": "2024-12-10T18:59:48.020Z"
   },
   {
    "duration": 830,
    "start_time": "2024-12-10T19:07:28.357Z"
   },
   {
    "duration": 7,
    "start_time": "2024-12-10T19:07:29.189Z"
   },
   {
    "duration": 10,
    "start_time": "2024-12-10T19:07:29.198Z"
   },
   {
    "duration": 9,
    "start_time": "2024-12-10T19:07:29.209Z"
   },
   {
    "duration": 2,
    "start_time": "2024-12-10T19:07:29.221Z"
   },
   {
    "duration": 3,
    "start_time": "2024-12-10T19:07:29.225Z"
   },
   {
    "duration": 4,
    "start_time": "2024-12-10T19:07:29.230Z"
   },
   {
    "duration": 4,
    "start_time": "2024-12-10T19:07:29.236Z"
   },
   {
    "duration": 5,
    "start_time": "2024-12-10T19:07:29.242Z"
   },
   {
    "duration": 2,
    "start_time": "2024-12-10T19:07:29.249Z"
   },
   {
    "duration": 5,
    "start_time": "2024-12-10T19:07:29.253Z"
   },
   {
    "duration": 50,
    "start_time": "2024-12-10T19:07:29.260Z"
   },
   {
    "duration": 8,
    "start_time": "2024-12-10T19:07:29.312Z"
   },
   {
    "duration": 3,
    "start_time": "2024-12-10T19:07:29.324Z"
   },
   {
    "duration": 5,
    "start_time": "2024-12-10T19:07:29.329Z"
   },
   {
    "duration": 5,
    "start_time": "2024-12-10T19:07:29.336Z"
   },
   {
    "duration": 3,
    "start_time": "2024-12-10T19:07:29.343Z"
   },
   {
    "duration": 434,
    "start_time": "2024-12-10T19:07:29.347Z"
   },
   {
    "duration": 5,
    "start_time": "2024-12-10T19:07:29.783Z"
   },
   {
    "duration": 285,
    "start_time": "2024-12-10T19:07:29.790Z"
   },
   {
    "duration": 8,
    "start_time": "2024-12-10T19:23:51.769Z"
   },
   {
    "duration": 5,
    "start_time": "2024-12-10T19:24:04.154Z"
   },
   {
    "duration": 9,
    "start_time": "2024-12-10T19:24:30.287Z"
   },
   {
    "duration": 3,
    "start_time": "2024-12-10T19:25:59.993Z"
   },
   {
    "duration": 4,
    "start_time": "2024-12-10T19:26:44.864Z"
   },
   {
    "duration": 5,
    "start_time": "2024-12-10T19:26:45.443Z"
   },
   {
    "duration": 7,
    "start_time": "2024-12-10T19:27:04.157Z"
   },
   {
    "duration": 5,
    "start_time": "2024-12-10T19:30:12.125Z"
   },
   {
    "duration": 2,
    "start_time": "2024-12-10T19:32:25.301Z"
   },
   {
    "duration": 6,
    "start_time": "2024-12-10T19:50:34.787Z"
   },
   {
    "duration": 4,
    "start_time": "2024-12-10T19:51:56.085Z"
   },
   {
    "duration": 4,
    "start_time": "2024-12-10T19:53:20.482Z"
   },
   {
    "duration": 3,
    "start_time": "2024-12-10T19:54:49.443Z"
   },
   {
    "duration": 3,
    "start_time": "2024-12-10T19:59:12.020Z"
   },
   {
    "duration": 3,
    "start_time": "2024-12-10T20:02:25.726Z"
   },
   {
    "duration": 4,
    "start_time": "2024-12-10T20:02:52.370Z"
   },
   {
    "duration": 3,
    "start_time": "2024-12-10T20:05:17.705Z"
   },
   {
    "duration": 5,
    "start_time": "2024-12-10T20:07:14.207Z"
   },
   {
    "duration": 4,
    "start_time": "2024-12-10T20:10:26.739Z"
   },
   {
    "duration": 66,
    "start_time": "2024-12-10T20:14:02.904Z"
   },
   {
    "duration": 4,
    "start_time": "2024-12-10T20:45:47.931Z"
   },
   {
    "duration": 4,
    "start_time": "2024-12-10T20:46:08.806Z"
   },
   {
    "duration": 6,
    "start_time": "2024-12-10T20:47:21.058Z"
   },
   {
    "duration": 3,
    "start_time": "2024-12-10T20:47:29.364Z"
   },
   {
    "duration": 4,
    "start_time": "2024-12-10T20:47:37.658Z"
   },
   {
    "duration": 4,
    "start_time": "2024-12-10T20:49:37.720Z"
   },
   {
    "duration": 238,
    "start_time": "2024-12-10T20:52:44.589Z"
   },
   {
    "duration": 7,
    "start_time": "2024-12-10T20:53:24.373Z"
   },
   {
    "duration": 4,
    "start_time": "2024-12-10T21:01:53.263Z"
   },
   {
    "duration": 3,
    "start_time": "2024-12-10T21:01:55.164Z"
   },
   {
    "duration": 8,
    "start_time": "2024-12-10T21:02:04.809Z"
   },
   {
    "duration": 792,
    "start_time": "2024-12-10T21:02:16.081Z"
   },
   {
    "duration": 7,
    "start_time": "2024-12-10T21:02:16.876Z"
   },
   {
    "duration": 5,
    "start_time": "2024-12-10T21:02:16.884Z"
   },
   {
    "duration": 17,
    "start_time": "2024-12-10T21:02:16.890Z"
   },
   {
    "duration": 2,
    "start_time": "2024-12-10T21:02:16.910Z"
   },
   {
    "duration": 3,
    "start_time": "2024-12-10T21:02:16.914Z"
   },
   {
    "duration": 5,
    "start_time": "2024-12-10T21:02:16.919Z"
   },
   {
    "duration": 5,
    "start_time": "2024-12-10T21:02:16.926Z"
   },
   {
    "duration": 6,
    "start_time": "2024-12-10T21:02:16.932Z"
   },
   {
    "duration": 6,
    "start_time": "2024-12-10T21:02:16.940Z"
   },
   {
    "duration": 9,
    "start_time": "2024-12-10T21:02:16.947Z"
   },
   {
    "duration": 3,
    "start_time": "2024-12-10T21:02:16.957Z"
   },
   {
    "duration": 45,
    "start_time": "2024-12-10T21:02:16.962Z"
   },
   {
    "duration": 5,
    "start_time": "2024-12-10T21:02:17.011Z"
   },
   {
    "duration": 417,
    "start_time": "2024-12-10T21:02:17.017Z"
   },
   {
    "duration": 5,
    "start_time": "2024-12-10T21:02:17.435Z"
   },
   {
    "duration": 242,
    "start_time": "2024-12-10T21:02:17.442Z"
   },
   {
    "duration": 6,
    "start_time": "2024-12-10T21:02:17.685Z"
   },
   {
    "duration": 17,
    "start_time": "2024-12-10T21:02:17.693Z"
   },
   {
    "duration": 3,
    "start_time": "2024-12-10T21:02:17.711Z"
   },
   {
    "duration": 5,
    "start_time": "2024-12-10T21:02:17.716Z"
   },
   {
    "duration": 6,
    "start_time": "2024-12-10T21:02:17.723Z"
   },
   {
    "duration": 2,
    "start_time": "2024-12-10T21:02:17.730Z"
   },
   {
    "duration": 5,
    "start_time": "2024-12-10T21:02:17.734Z"
   },
   {
    "duration": 5,
    "start_time": "2024-12-10T21:02:17.740Z"
   },
   {
    "duration": 4,
    "start_time": "2024-12-10T21:02:17.746Z"
   },
   {
    "duration": 3,
    "start_time": "2024-12-10T21:02:17.752Z"
   },
   {
    "duration": 49,
    "start_time": "2024-12-10T21:02:17.757Z"
   },
   {
    "duration": 49,
    "start_time": "2024-12-10T21:02:17.807Z"
   },
   {
    "duration": 4,
    "start_time": "2024-12-10T21:02:17.857Z"
   },
   {
    "duration": 3,
    "start_time": "2024-12-10T21:02:17.863Z"
   },
   {
    "duration": 0,
    "start_time": "2024-12-10T21:02:17.868Z"
   },
   {
    "duration": 0,
    "start_time": "2024-12-10T21:02:17.869Z"
   },
   {
    "duration": 0,
    "start_time": "2024-12-10T21:02:17.870Z"
   },
   {
    "duration": 0,
    "start_time": "2024-12-10T21:02:17.871Z"
   },
   {
    "duration": 0,
    "start_time": "2024-12-10T21:02:17.872Z"
   },
   {
    "duration": 0,
    "start_time": "2024-12-10T21:02:17.874Z"
   },
   {
    "duration": 875,
    "start_time": "2024-12-10T21:02:58.737Z"
   },
   {
    "duration": 7,
    "start_time": "2024-12-10T21:02:59.616Z"
   },
   {
    "duration": 5,
    "start_time": "2024-12-10T21:02:59.626Z"
   },
   {
    "duration": 8,
    "start_time": "2024-12-10T21:02:59.633Z"
   },
   {
    "duration": 4,
    "start_time": "2024-12-10T21:02:59.644Z"
   },
   {
    "duration": 4,
    "start_time": "2024-12-10T21:02:59.650Z"
   },
   {
    "duration": 6,
    "start_time": "2024-12-10T21:02:59.658Z"
   },
   {
    "duration": 5,
    "start_time": "2024-12-10T21:02:59.665Z"
   },
   {
    "duration": 38,
    "start_time": "2024-12-10T21:02:59.672Z"
   },
   {
    "duration": 9,
    "start_time": "2024-12-10T21:02:59.712Z"
   },
   {
    "duration": 10,
    "start_time": "2024-12-10T21:02:59.723Z"
   },
   {
    "duration": 3,
    "start_time": "2024-12-10T21:02:59.735Z"
   },
   {
    "duration": 4,
    "start_time": "2024-12-10T21:02:59.739Z"
   },
   {
    "duration": 4,
    "start_time": "2024-12-10T21:02:59.748Z"
   },
   {
    "duration": 435,
    "start_time": "2024-12-10T21:02:59.754Z"
   },
   {
    "duration": 4,
    "start_time": "2024-12-10T21:03:00.191Z"
   },
   {
    "duration": 278,
    "start_time": "2024-12-10T21:03:00.197Z"
   },
   {
    "duration": 6,
    "start_time": "2024-12-10T21:03:00.477Z"
   },
   {
    "duration": 20,
    "start_time": "2024-12-10T21:03:00.485Z"
   },
   {
    "duration": 4,
    "start_time": "2024-12-10T21:03:00.507Z"
   },
   {
    "duration": 6,
    "start_time": "2024-12-10T21:03:00.512Z"
   },
   {
    "duration": 6,
    "start_time": "2024-12-10T21:03:00.520Z"
   },
   {
    "duration": 3,
    "start_time": "2024-12-10T21:03:00.527Z"
   },
   {
    "duration": 4,
    "start_time": "2024-12-10T21:03:00.531Z"
   },
   {
    "duration": 4,
    "start_time": "2024-12-10T21:03:00.537Z"
   },
   {
    "duration": 4,
    "start_time": "2024-12-10T21:03:00.542Z"
   },
   {
    "duration": 2,
    "start_time": "2024-12-10T21:03:00.549Z"
   },
   {
    "duration": 89,
    "start_time": "2024-12-10T21:03:00.553Z"
   },
   {
    "duration": 5,
    "start_time": "2024-12-10T21:03:00.644Z"
   },
   {
    "duration": 4,
    "start_time": "2024-12-10T21:03:00.650Z"
   },
   {
    "duration": 8,
    "start_time": "2024-12-10T21:03:00.655Z"
   },
   {
    "duration": 5,
    "start_time": "2024-12-10T21:03:00.665Z"
   },
   {
    "duration": 39,
    "start_time": "2024-12-10T21:03:00.672Z"
   },
   {
    "duration": 4,
    "start_time": "2024-12-10T21:03:00.713Z"
   },
   {
    "duration": 4,
    "start_time": "2024-12-10T21:03:00.718Z"
   },
   {
    "duration": 4,
    "start_time": "2024-12-10T21:03:00.723Z"
   },
   {
    "duration": 5,
    "start_time": "2024-12-10T21:03:00.729Z"
   },
   {
    "duration": 4,
    "start_time": "2024-12-10T21:05:54.498Z"
   },
   {
    "duration": 5,
    "start_time": "2024-12-10T21:06:17.655Z"
   },
   {
    "duration": 6,
    "start_time": "2024-12-10T21:07:25.547Z"
   },
   {
    "duration": 7,
    "start_time": "2024-12-10T21:07:41.073Z"
   },
   {
    "duration": 6,
    "start_time": "2024-12-10T21:08:08.674Z"
   },
   {
    "duration": 5,
    "start_time": "2024-12-10T21:08:16.145Z"
   },
   {
    "duration": 2650,
    "start_time": "2024-12-10T23:52:41.856Z"
   },
   {
    "duration": 11,
    "start_time": "2024-12-10T23:52:44.509Z"
   },
   {
    "duration": 10,
    "start_time": "2024-12-10T23:52:44.521Z"
   },
   {
    "duration": 10,
    "start_time": "2024-12-10T23:52:44.532Z"
   },
   {
    "duration": 4,
    "start_time": "2024-12-10T23:52:44.544Z"
   },
   {
    "duration": 9,
    "start_time": "2024-12-10T23:52:44.549Z"
   },
   {
    "duration": 6,
    "start_time": "2024-12-10T23:52:44.559Z"
   },
   {
    "duration": 4,
    "start_time": "2024-12-10T23:52:44.567Z"
   },
   {
    "duration": 8,
    "start_time": "2024-12-10T23:52:44.573Z"
   },
   {
    "duration": 8,
    "start_time": "2024-12-10T23:52:44.583Z"
   },
   {
    "duration": 47,
    "start_time": "2024-12-10T23:52:44.594Z"
   },
   {
    "duration": 7,
    "start_time": "2024-12-10T23:52:44.643Z"
   },
   {
    "duration": 4,
    "start_time": "2024-12-10T23:52:44.652Z"
   },
   {
    "duration": 6,
    "start_time": "2024-12-10T23:52:44.660Z"
   },
   {
    "duration": 449,
    "start_time": "2024-12-10T23:52:44.667Z"
   },
   {
    "duration": 4,
    "start_time": "2024-12-10T23:52:45.118Z"
   },
   {
    "duration": 274,
    "start_time": "2024-12-10T23:52:45.124Z"
   },
   {
    "duration": 12,
    "start_time": "2024-12-10T23:52:45.400Z"
   },
   {
    "duration": 18,
    "start_time": "2024-12-10T23:52:45.413Z"
   },
   {
    "duration": 4,
    "start_time": "2024-12-10T23:52:45.433Z"
   },
   {
    "duration": 5,
    "start_time": "2024-12-10T23:52:45.438Z"
   },
   {
    "duration": 7,
    "start_time": "2024-12-10T23:52:45.445Z"
   },
   {
    "duration": 3,
    "start_time": "2024-12-10T23:52:45.453Z"
   },
   {
    "duration": 5,
    "start_time": "2024-12-10T23:52:45.458Z"
   },
   {
    "duration": 4,
    "start_time": "2024-12-10T23:52:45.465Z"
   },
   {
    "duration": 5,
    "start_time": "2024-12-10T23:52:45.471Z"
   },
   {
    "duration": 4,
    "start_time": "2024-12-10T23:52:45.477Z"
   },
   {
    "duration": 5,
    "start_time": "2024-12-10T23:52:45.483Z"
   },
   {
    "duration": 46,
    "start_time": "2024-12-10T23:52:45.489Z"
   },
   {
    "duration": 4,
    "start_time": "2024-12-10T23:52:45.536Z"
   },
   {
    "duration": 6,
    "start_time": "2024-12-10T23:52:45.542Z"
   },
   {
    "duration": 5,
    "start_time": "2024-12-10T23:52:45.550Z"
   },
   {
    "duration": 10,
    "start_time": "2024-12-10T23:52:45.556Z"
   },
   {
    "duration": 4,
    "start_time": "2024-12-10T23:52:45.567Z"
   },
   {
    "duration": 6,
    "start_time": "2024-12-10T23:52:45.574Z"
   },
   {
    "duration": 50,
    "start_time": "2024-12-10T23:52:45.581Z"
   },
   {
    "duration": 5,
    "start_time": "2024-12-10T23:55:55.443Z"
   },
   {
    "duration": 3,
    "start_time": "2024-12-10T23:55:56.702Z"
   },
   {
    "duration": 4,
    "start_time": "2024-12-10T23:55:57.599Z"
   },
   {
    "duration": 812,
    "start_time": "2024-12-10T23:56:11.626Z"
   },
   {
    "duration": 6,
    "start_time": "2024-12-10T23:56:12.441Z"
   },
   {
    "duration": 4,
    "start_time": "2024-12-10T23:56:12.449Z"
   },
   {
    "duration": 9,
    "start_time": "2024-12-10T23:56:12.455Z"
   },
   {
    "duration": 3,
    "start_time": "2024-12-10T23:56:12.467Z"
   },
   {
    "duration": 4,
    "start_time": "2024-12-10T23:56:12.472Z"
   },
   {
    "duration": 5,
    "start_time": "2024-12-10T23:56:12.478Z"
   },
   {
    "duration": 5,
    "start_time": "2024-12-10T23:56:12.484Z"
   },
   {
    "duration": 44,
    "start_time": "2024-12-10T23:56:12.491Z"
   },
   {
    "duration": 8,
    "start_time": "2024-12-10T23:56:12.537Z"
   },
   {
    "duration": 10,
    "start_time": "2024-12-10T23:56:12.548Z"
   },
   {
    "duration": 6,
    "start_time": "2024-12-10T23:56:12.560Z"
   },
   {
    "duration": 5,
    "start_time": "2024-12-10T23:56:12.569Z"
   },
   {
    "duration": 6,
    "start_time": "2024-12-10T23:56:12.578Z"
   },
   {
    "duration": 418,
    "start_time": "2024-12-10T23:56:12.586Z"
   },
   {
    "duration": 4,
    "start_time": "2024-12-10T23:56:13.006Z"
   },
   {
    "duration": 291,
    "start_time": "2024-12-10T23:56:13.012Z"
   },
   {
    "duration": 6,
    "start_time": "2024-12-10T23:56:13.304Z"
   },
   {
    "duration": 8,
    "start_time": "2024-12-10T23:56:13.313Z"
   },
   {
    "duration": 5,
    "start_time": "2024-12-10T23:56:13.331Z"
   },
   {
    "duration": 5,
    "start_time": "2024-12-10T23:56:13.337Z"
   },
   {
    "duration": 6,
    "start_time": "2024-12-10T23:56:13.344Z"
   },
   {
    "duration": 3,
    "start_time": "2024-12-10T23:56:13.351Z"
   },
   {
    "duration": 5,
    "start_time": "2024-12-10T23:56:13.355Z"
   },
   {
    "duration": 4,
    "start_time": "2024-12-10T23:56:13.362Z"
   },
   {
    "duration": 4,
    "start_time": "2024-12-10T23:56:13.368Z"
   },
   {
    "duration": 4,
    "start_time": "2024-12-10T23:56:13.373Z"
   },
   {
    "duration": 4,
    "start_time": "2024-12-10T23:56:13.378Z"
   },
   {
    "duration": 111,
    "start_time": "2024-12-10T23:56:13.384Z"
   },
   {
    "duration": 5,
    "start_time": "2024-12-10T23:56:13.496Z"
   },
   {
    "duration": 7,
    "start_time": "2024-12-10T23:56:13.502Z"
   },
   {
    "duration": 25,
    "start_time": "2024-12-10T23:56:13.510Z"
   },
   {
    "duration": 9,
    "start_time": "2024-12-10T23:56:13.537Z"
   },
   {
    "duration": 4,
    "start_time": "2024-12-10T23:56:13.547Z"
   },
   {
    "duration": 4,
    "start_time": "2024-12-10T23:56:13.553Z"
   },
   {
    "duration": 6,
    "start_time": "2024-12-10T23:56:13.558Z"
   },
   {
    "duration": 153,
    "start_time": "2024-12-11T00:36:22.801Z"
   },
   {
    "duration": 839,
    "start_time": "2024-12-11T00:56:36.593Z"
   },
   {
    "duration": 8,
    "start_time": "2024-12-11T00:56:37.434Z"
   },
   {
    "duration": 6,
    "start_time": "2024-12-11T00:56:37.443Z"
   },
   {
    "duration": 9,
    "start_time": "2024-12-11T00:56:37.450Z"
   },
   {
    "duration": 3,
    "start_time": "2024-12-11T00:56:37.462Z"
   },
   {
    "duration": 5,
    "start_time": "2024-12-11T00:56:37.466Z"
   },
   {
    "duration": 5,
    "start_time": "2024-12-11T00:56:37.472Z"
   },
   {
    "duration": 4,
    "start_time": "2024-12-11T00:56:37.479Z"
   },
   {
    "duration": 6,
    "start_time": "2024-12-11T00:56:37.484Z"
   },
   {
    "duration": 44,
    "start_time": "2024-12-11T00:56:37.491Z"
   },
   {
    "duration": 9,
    "start_time": "2024-12-11T00:56:37.536Z"
   },
   {
    "duration": 4,
    "start_time": "2024-12-11T00:56:37.547Z"
   },
   {
    "duration": 5,
    "start_time": "2024-12-11T00:56:37.552Z"
   },
   {
    "duration": 6,
    "start_time": "2024-12-11T00:56:37.560Z"
   },
   {
    "duration": 436,
    "start_time": "2024-12-11T00:56:37.568Z"
   },
   {
    "duration": 3,
    "start_time": "2024-12-11T00:56:38.006Z"
   },
   {
    "duration": 288,
    "start_time": "2024-12-11T00:56:38.011Z"
   },
   {
    "duration": 6,
    "start_time": "2024-12-11T00:56:38.301Z"
   },
   {
    "duration": 9,
    "start_time": "2024-12-11T00:56:38.309Z"
   },
   {
    "duration": 5,
    "start_time": "2024-12-11T00:56:38.331Z"
   },
   {
    "duration": 5,
    "start_time": "2024-12-11T00:56:38.340Z"
   },
   {
    "duration": 6,
    "start_time": "2024-12-11T00:56:38.346Z"
   },
   {
    "duration": 2,
    "start_time": "2024-12-11T00:56:38.354Z"
   },
   {
    "duration": 5,
    "start_time": "2024-12-11T00:56:38.357Z"
   },
   {
    "duration": 4,
    "start_time": "2024-12-11T00:56:38.364Z"
   },
   {
    "duration": 4,
    "start_time": "2024-12-11T00:56:38.369Z"
   },
   {
    "duration": 3,
    "start_time": "2024-12-11T00:56:38.375Z"
   },
   {
    "duration": 95,
    "start_time": "2024-12-11T00:56:38.380Z"
   },
   {
    "duration": 5,
    "start_time": "2024-12-11T00:56:38.477Z"
   },
   {
    "duration": 5,
    "start_time": "2024-12-11T00:56:38.483Z"
   },
   {
    "duration": 6,
    "start_time": "2024-12-11T00:56:38.491Z"
   },
   {
    "duration": 5,
    "start_time": "2024-12-11T00:56:38.499Z"
   },
   {
    "duration": 35,
    "start_time": "2024-12-11T00:56:38.506Z"
   },
   {
    "duration": 5,
    "start_time": "2024-12-11T00:56:38.542Z"
   },
   {
    "duration": 4,
    "start_time": "2024-12-11T00:56:38.548Z"
   },
   {
    "duration": 6,
    "start_time": "2024-12-11T00:56:38.554Z"
   },
   {
    "duration": 897,
    "start_time": "2024-12-11T06:59:07.369Z"
   },
   {
    "duration": 10,
    "start_time": "2024-12-11T06:59:08.268Z"
   },
   {
    "duration": 7,
    "start_time": "2024-12-11T06:59:08.281Z"
   },
   {
    "duration": 20,
    "start_time": "2024-12-11T06:59:08.290Z"
   },
   {
    "duration": 3,
    "start_time": "2024-12-11T06:59:08.313Z"
   },
   {
    "duration": 5,
    "start_time": "2024-12-11T06:59:08.318Z"
   },
   {
    "duration": 4,
    "start_time": "2024-12-11T06:59:08.325Z"
   },
   {
    "duration": 5,
    "start_time": "2024-12-11T06:59:08.331Z"
   },
   {
    "duration": 7,
    "start_time": "2024-12-11T06:59:08.337Z"
   },
   {
    "duration": 8,
    "start_time": "2024-12-11T06:59:08.347Z"
   },
   {
    "duration": 53,
    "start_time": "2024-12-11T06:59:08.356Z"
   },
   {
    "duration": 5,
    "start_time": "2024-12-11T06:59:08.411Z"
   },
   {
    "duration": 6,
    "start_time": "2024-12-11T06:59:08.418Z"
   },
   {
    "duration": 6,
    "start_time": "2024-12-11T06:59:08.429Z"
   },
   {
    "duration": 434,
    "start_time": "2024-12-11T06:59:08.437Z"
   },
   {
    "duration": 4,
    "start_time": "2024-12-11T06:59:08.873Z"
   },
   {
    "duration": 309,
    "start_time": "2024-12-11T06:59:08.879Z"
   },
   {
    "duration": 9,
    "start_time": "2024-12-11T06:59:09.189Z"
   },
   {
    "duration": 16,
    "start_time": "2024-12-11T06:59:09.199Z"
   },
   {
    "duration": 4,
    "start_time": "2024-12-11T06:59:09.218Z"
   },
   {
    "duration": 5,
    "start_time": "2024-12-11T06:59:09.224Z"
   },
   {
    "duration": 6,
    "start_time": "2024-12-11T06:59:09.231Z"
   },
   {
    "duration": 2,
    "start_time": "2024-12-11T06:59:09.239Z"
   },
   {
    "duration": 7,
    "start_time": "2024-12-11T06:59:09.243Z"
   },
   {
    "duration": 4,
    "start_time": "2024-12-11T06:59:09.252Z"
   },
   {
    "duration": 5,
    "start_time": "2024-12-11T06:59:09.258Z"
   },
   {
    "duration": 4,
    "start_time": "2024-12-11T06:59:09.265Z"
   },
   {
    "duration": 5,
    "start_time": "2024-12-11T06:59:09.310Z"
   },
   {
    "duration": 73,
    "start_time": "2024-12-11T06:59:09.317Z"
   },
   {
    "duration": 5,
    "start_time": "2024-12-11T06:59:09.410Z"
   },
   {
    "duration": 7,
    "start_time": "2024-12-11T06:59:09.417Z"
   },
   {
    "duration": 6,
    "start_time": "2024-12-11T06:59:09.425Z"
   },
   {
    "duration": 12,
    "start_time": "2024-12-11T06:59:09.433Z"
   },
   {
    "duration": 6,
    "start_time": "2024-12-11T06:59:09.446Z"
   },
   {
    "duration": 4,
    "start_time": "2024-12-11T06:59:09.454Z"
   },
   {
    "duration": 9,
    "start_time": "2024-12-11T06:59:09.460Z"
   },
   {
    "duration": 4,
    "start_time": "2024-12-11T07:05:46.527Z"
   },
   {
    "duration": 8,
    "start_time": "2024-12-11T07:05:46.533Z"
   },
   {
    "duration": 5,
    "start_time": "2024-12-11T07:05:46.543Z"
   },
   {
    "duration": 6,
    "start_time": "2024-12-11T07:05:46.550Z"
   },
   {
    "duration": 3,
    "start_time": "2024-12-11T07:05:46.559Z"
   },
   {
    "duration": 5,
    "start_time": "2024-12-11T07:05:46.564Z"
   },
   {
    "duration": 5,
    "start_time": "2024-12-11T07:05:46.570Z"
   },
   {
    "duration": 6,
    "start_time": "2024-12-11T07:05:46.577Z"
   },
   {
    "duration": 28,
    "start_time": "2024-12-11T07:05:46.585Z"
   },
   {
    "duration": 9,
    "start_time": "2024-12-11T07:05:46.615Z"
   },
   {
    "duration": 9,
    "start_time": "2024-12-11T07:05:46.626Z"
   },
   {
    "duration": 4,
    "start_time": "2024-12-11T07:05:46.637Z"
   },
   {
    "duration": 5,
    "start_time": "2024-12-11T07:05:46.643Z"
   },
   {
    "duration": 7,
    "start_time": "2024-12-11T07:05:46.652Z"
   },
   {
    "duration": 407,
    "start_time": "2024-12-11T07:05:46.661Z"
   },
   {
    "duration": 6,
    "start_time": "2024-12-11T07:05:47.070Z"
   },
   {
    "duration": 310,
    "start_time": "2024-12-11T07:05:47.077Z"
   },
   {
    "duration": 6,
    "start_time": "2024-12-11T07:05:47.389Z"
   },
   {
    "duration": 24,
    "start_time": "2024-12-11T07:05:47.396Z"
   },
   {
    "duration": 5,
    "start_time": "2024-12-11T07:05:47.425Z"
   },
   {
    "duration": 10,
    "start_time": "2024-12-11T07:05:47.433Z"
   },
   {
    "duration": 12,
    "start_time": "2024-12-11T07:05:47.447Z"
   },
   {
    "duration": 2,
    "start_time": "2024-12-11T07:05:47.461Z"
   },
   {
    "duration": 5,
    "start_time": "2024-12-11T07:05:47.465Z"
   },
   {
    "duration": 5,
    "start_time": "2024-12-11T07:05:47.472Z"
   },
   {
    "duration": 4,
    "start_time": "2024-12-11T07:05:47.479Z"
   },
   {
    "duration": 4,
    "start_time": "2024-12-11T07:05:47.509Z"
   },
   {
    "duration": 7,
    "start_time": "2024-12-11T07:05:47.515Z"
   },
   {
    "duration": 5,
    "start_time": "2024-12-11T07:05:47.524Z"
   },
   {
    "duration": 5,
    "start_time": "2024-12-11T07:05:47.531Z"
   },
   {
    "duration": 8,
    "start_time": "2024-12-11T07:05:47.538Z"
   },
   {
    "duration": 6,
    "start_time": "2024-12-11T07:05:47.548Z"
   },
   {
    "duration": 13,
    "start_time": "2024-12-11T07:05:47.556Z"
   },
   {
    "duration": 43,
    "start_time": "2024-12-11T07:05:47.571Z"
   },
   {
    "duration": 8,
    "start_time": "2024-12-11T07:05:47.616Z"
   },
   {
    "duration": 7,
    "start_time": "2024-12-11T07:05:47.626Z"
   },
   {
    "duration": 2590,
    "start_time": "2024-12-11T18:22:00.944Z"
   },
   {
    "duration": 9,
    "start_time": "2024-12-11T18:22:03.536Z"
   },
   {
    "duration": 7,
    "start_time": "2024-12-11T18:22:03.547Z"
   },
   {
    "duration": 8,
    "start_time": "2024-12-11T18:22:03.556Z"
   },
   {
    "duration": 3,
    "start_time": "2024-12-11T18:22:03.566Z"
   },
   {
    "duration": 4,
    "start_time": "2024-12-11T18:22:03.571Z"
   },
   {
    "duration": 4,
    "start_time": "2024-12-11T18:22:03.577Z"
   },
   {
    "duration": 28,
    "start_time": "2024-12-11T18:22:03.583Z"
   },
   {
    "duration": 7,
    "start_time": "2024-12-11T18:22:03.613Z"
   },
   {
    "duration": 7,
    "start_time": "2024-12-11T18:22:03.624Z"
   },
   {
    "duration": 13,
    "start_time": "2024-12-11T18:22:03.633Z"
   },
   {
    "duration": 3,
    "start_time": "2024-12-11T18:22:03.648Z"
   },
   {
    "duration": 4,
    "start_time": "2024-12-11T18:22:03.653Z"
   },
   {
    "duration": 6,
    "start_time": "2024-12-11T18:22:03.660Z"
   },
   {
    "duration": 443,
    "start_time": "2024-12-11T18:22:03.667Z"
   },
   {
    "duration": 5,
    "start_time": "2024-12-11T18:22:04.112Z"
   },
   {
    "duration": 362,
    "start_time": "2024-12-11T18:22:04.119Z"
   },
   {
    "duration": 8,
    "start_time": "2024-12-11T18:22:04.482Z"
   },
   {
    "duration": 8,
    "start_time": "2024-12-11T18:22:04.492Z"
   },
   {
    "duration": 4,
    "start_time": "2024-12-11T18:22:04.509Z"
   },
   {
    "duration": 5,
    "start_time": "2024-12-11T18:22:04.514Z"
   },
   {
    "duration": 6,
    "start_time": "2024-12-11T18:22:04.521Z"
   },
   {
    "duration": 2,
    "start_time": "2024-12-11T18:22:04.529Z"
   },
   {
    "duration": 5,
    "start_time": "2024-12-11T18:22:04.533Z"
   },
   {
    "duration": 4,
    "start_time": "2024-12-11T18:22:04.540Z"
   },
   {
    "duration": 4,
    "start_time": "2024-12-11T18:22:04.546Z"
   },
   {
    "duration": 3,
    "start_time": "2024-12-11T18:22:04.552Z"
   },
   {
    "duration": 4,
    "start_time": "2024-12-11T18:22:04.558Z"
   },
   {
    "duration": 49,
    "start_time": "2024-12-11T18:22:04.564Z"
   },
   {
    "duration": 4,
    "start_time": "2024-12-11T18:22:04.615Z"
   },
   {
    "duration": 6,
    "start_time": "2024-12-11T18:22:04.620Z"
   },
   {
    "duration": 6,
    "start_time": "2024-12-11T18:22:04.628Z"
   },
   {
    "duration": 91,
    "start_time": "2024-12-11T18:22:04.635Z"
   },
   {
    "duration": 4,
    "start_time": "2024-12-11T18:22:04.727Z"
   },
   {
    "duration": 5,
    "start_time": "2024-12-11T18:22:04.733Z"
   },
   {
    "duration": 6,
    "start_time": "2024-12-11T18:22:04.739Z"
   },
   {
    "duration": 4,
    "start_time": "2024-12-11T18:44:14.025Z"
   },
   {
    "duration": 900,
    "start_time": "2024-12-11T20:05:12.650Z"
   },
   {
    "duration": 6,
    "start_time": "2024-12-11T20:05:13.552Z"
   },
   {
    "duration": 4,
    "start_time": "2024-12-11T20:05:13.560Z"
   },
   {
    "duration": 9,
    "start_time": "2024-12-11T20:05:13.567Z"
   },
   {
    "duration": 3,
    "start_time": "2024-12-11T20:05:13.577Z"
   },
   {
    "duration": 50,
    "start_time": "2024-12-11T20:05:13.582Z"
   },
   {
    "duration": 3,
    "start_time": "2024-12-11T20:05:13.635Z"
   },
   {
    "duration": 5,
    "start_time": "2024-12-11T20:05:13.639Z"
   },
   {
    "duration": 4,
    "start_time": "2024-12-11T20:05:13.645Z"
   },
   {
    "duration": 5,
    "start_time": "2024-12-11T20:05:13.653Z"
   },
   {
    "duration": 7,
    "start_time": "2024-12-11T20:05:13.659Z"
   },
   {
    "duration": 8,
    "start_time": "2024-12-11T20:05:13.668Z"
   },
   {
    "duration": 4,
    "start_time": "2024-12-11T20:05:13.677Z"
   },
   {
    "duration": 5,
    "start_time": "2024-12-11T20:05:13.682Z"
   },
   {
    "duration": 25,
    "start_time": "2024-12-11T20:05:13.689Z"
   },
   {
    "duration": 443,
    "start_time": "2024-12-11T20:05:13.716Z"
   },
   {
    "duration": 4,
    "start_time": "2024-12-11T20:05:14.161Z"
   },
   {
    "duration": 271,
    "start_time": "2024-12-11T20:05:14.167Z"
   },
   {
    "duration": 5,
    "start_time": "2024-12-11T20:05:14.441Z"
   },
   {
    "duration": 9,
    "start_time": "2024-12-11T20:05:14.447Z"
   },
   {
    "duration": 4,
    "start_time": "2024-12-11T20:05:14.457Z"
   },
   {
    "duration": 5,
    "start_time": "2024-12-11T20:05:14.462Z"
   },
   {
    "duration": 7,
    "start_time": "2024-12-11T20:05:14.468Z"
   },
   {
    "duration": 3,
    "start_time": "2024-12-11T20:05:14.476Z"
   },
   {
    "duration": 5,
    "start_time": "2024-12-11T20:05:14.480Z"
   },
   {
    "duration": 51,
    "start_time": "2024-12-11T20:05:14.486Z"
   },
   {
    "duration": 7,
    "start_time": "2024-12-11T20:05:14.539Z"
   },
   {
    "duration": 3,
    "start_time": "2024-12-11T20:05:14.550Z"
   },
   {
    "duration": 4,
    "start_time": "2024-12-11T20:05:14.555Z"
   },
   {
    "duration": 5,
    "start_time": "2024-12-11T20:05:14.561Z"
   },
   {
    "duration": 4,
    "start_time": "2024-12-11T20:05:14.568Z"
   },
   {
    "duration": 7,
    "start_time": "2024-12-11T20:05:14.574Z"
   },
   {
    "duration": 5,
    "start_time": "2024-12-11T20:05:14.583Z"
   },
   {
    "duration": 97,
    "start_time": "2024-12-11T20:05:14.590Z"
   },
   {
    "duration": 3,
    "start_time": "2024-12-11T20:05:14.689Z"
   },
   {
    "duration": 4,
    "start_time": "2024-12-11T20:05:14.694Z"
   },
   {
    "duration": 31,
    "start_time": "2024-12-11T20:05:14.700Z"
   },
   {
    "duration": 2616,
    "start_time": "2024-12-12T02:54:50.541Z"
   },
   {
    "duration": 12,
    "start_time": "2024-12-12T02:54:53.159Z"
   },
   {
    "duration": 6,
    "start_time": "2024-12-12T02:54:53.173Z"
   },
   {
    "duration": 8,
    "start_time": "2024-12-12T02:54:53.180Z"
   },
   {
    "duration": 2,
    "start_time": "2024-12-12T02:54:53.191Z"
   },
   {
    "duration": 4,
    "start_time": "2024-12-12T02:54:53.195Z"
   },
   {
    "duration": 4,
    "start_time": "2024-12-12T02:54:53.200Z"
   },
   {
    "duration": 3,
    "start_time": "2024-12-12T02:54:53.206Z"
   },
   {
    "duration": 6,
    "start_time": "2024-12-12T02:54:53.211Z"
   },
   {
    "duration": 7,
    "start_time": "2024-12-12T02:54:53.218Z"
   },
   {
    "duration": 49,
    "start_time": "2024-12-12T02:54:53.226Z"
   },
   {
    "duration": 3,
    "start_time": "2024-12-12T02:54:53.277Z"
   },
   {
    "duration": 4,
    "start_time": "2024-12-12T02:54:53.282Z"
   },
   {
    "duration": 5,
    "start_time": "2024-12-12T02:54:53.290Z"
   },
   {
    "duration": 448,
    "start_time": "2024-12-12T02:54:53.298Z"
   },
   {
    "duration": 4,
    "start_time": "2024-12-12T02:54:53.748Z"
   },
   {
    "duration": 281,
    "start_time": "2024-12-12T02:54:53.753Z"
   },
   {
    "duration": 8,
    "start_time": "2024-12-12T02:54:54.035Z"
   },
   {
    "duration": 8,
    "start_time": "2024-12-12T02:54:54.044Z"
   },
   {
    "duration": 18,
    "start_time": "2024-12-12T02:54:54.054Z"
   },
   {
    "duration": 5,
    "start_time": "2024-12-12T02:54:54.075Z"
   },
   {
    "duration": 8,
    "start_time": "2024-12-12T02:54:54.082Z"
   },
   {
    "duration": 2,
    "start_time": "2024-12-12T02:54:54.092Z"
   },
   {
    "duration": 5,
    "start_time": "2024-12-12T02:54:54.096Z"
   },
   {
    "duration": 6,
    "start_time": "2024-12-12T02:54:54.102Z"
   },
   {
    "duration": 4,
    "start_time": "2024-12-12T02:54:54.110Z"
   },
   {
    "duration": 4,
    "start_time": "2024-12-12T02:54:54.116Z"
   },
   {
    "duration": 5,
    "start_time": "2024-12-12T02:54:54.121Z"
   },
   {
    "duration": 5,
    "start_time": "2024-12-12T02:54:54.170Z"
   },
   {
    "duration": 4,
    "start_time": "2024-12-12T02:54:54.177Z"
   },
   {
    "duration": 6,
    "start_time": "2024-12-12T02:54:54.183Z"
   },
   {
    "duration": 6,
    "start_time": "2024-12-12T02:54:54.190Z"
   },
   {
    "duration": 10,
    "start_time": "2024-12-12T02:54:54.197Z"
   },
   {
    "duration": 4,
    "start_time": "2024-12-12T02:54:54.209Z"
   },
   {
    "duration": 4,
    "start_time": "2024-12-12T02:54:54.214Z"
   },
   {
    "duration": 52,
    "start_time": "2024-12-12T02:54:54.219Z"
   },
   {
    "duration": 5,
    "start_time": "2024-12-12T02:55:38.939Z"
   },
   {
    "duration": 2608,
    "start_time": "2024-12-12T17:24:14.636Z"
   },
   {
    "duration": 11,
    "start_time": "2024-12-12T17:24:17.247Z"
   },
   {
    "duration": 8,
    "start_time": "2024-12-12T17:24:17.259Z"
   },
   {
    "duration": 9,
    "start_time": "2024-12-12T17:24:17.268Z"
   },
   {
    "duration": 10,
    "start_time": "2024-12-12T17:24:17.281Z"
   },
   {
    "duration": 16,
    "start_time": "2024-12-12T17:24:17.293Z"
   },
   {
    "duration": 5,
    "start_time": "2024-12-12T17:24:17.311Z"
   },
   {
    "duration": 4,
    "start_time": "2024-12-12T17:24:17.317Z"
   },
   {
    "duration": 6,
    "start_time": "2024-12-12T17:24:17.323Z"
   },
   {
    "duration": 7,
    "start_time": "2024-12-12T17:24:17.331Z"
   },
   {
    "duration": 8,
    "start_time": "2024-12-12T17:24:17.340Z"
   },
   {
    "duration": 4,
    "start_time": "2024-12-12T17:24:17.349Z"
   },
   {
    "duration": 4,
    "start_time": "2024-12-12T17:24:17.355Z"
   },
   {
    "duration": 46,
    "start_time": "2024-12-12T17:24:17.363Z"
   },
   {
    "duration": 438,
    "start_time": "2024-12-12T17:24:17.411Z"
   },
   {
    "duration": 4,
    "start_time": "2024-12-12T17:24:17.852Z"
   },
   {
    "duration": 244,
    "start_time": "2024-12-12T17:24:17.857Z"
   },
   {
    "duration": 8,
    "start_time": "2024-12-12T17:24:18.108Z"
   },
   {
    "duration": 8,
    "start_time": "2024-12-12T17:24:18.118Z"
   },
   {
    "duration": 4,
    "start_time": "2024-12-12T17:24:18.128Z"
   },
   {
    "duration": 5,
    "start_time": "2024-12-12T17:24:18.133Z"
   },
   {
    "duration": 7,
    "start_time": "2024-12-12T17:24:18.140Z"
   },
   {
    "duration": 3,
    "start_time": "2024-12-12T17:24:18.148Z"
   },
   {
    "duration": 5,
    "start_time": "2024-12-12T17:24:18.152Z"
   },
   {
    "duration": 4,
    "start_time": "2024-12-12T17:24:18.159Z"
   },
   {
    "duration": 46,
    "start_time": "2024-12-12T17:24:18.165Z"
   },
   {
    "duration": 4,
    "start_time": "2024-12-12T17:24:18.213Z"
   },
   {
    "duration": 62,
    "start_time": "2024-12-12T17:24:18.219Z"
   },
   {
    "duration": 26,
    "start_time": "2024-12-12T17:24:18.284Z"
   },
   {
    "duration": 3,
    "start_time": "2024-12-12T17:24:18.312Z"
   },
   {
    "duration": 7,
    "start_time": "2024-12-12T17:24:18.317Z"
   },
   {
    "duration": 5,
    "start_time": "2024-12-12T17:24:18.326Z"
   },
   {
    "duration": 10,
    "start_time": "2024-12-12T17:24:18.332Z"
   },
   {
    "duration": 4,
    "start_time": "2024-12-12T17:24:18.344Z"
   },
   {
    "duration": 4,
    "start_time": "2024-12-12T17:24:18.350Z"
   },
   {
    "duration": 7,
    "start_time": "2024-12-12T17:24:18.355Z"
   },
   {
    "duration": 5,
    "start_time": "2024-12-12T17:26:37.234Z"
   },
   {
    "duration": 8,
    "start_time": "2024-12-12T17:33:04.010Z"
   },
   {
    "duration": 6,
    "start_time": "2024-12-12T17:35:10.047Z"
   },
   {
    "duration": 4,
    "start_time": "2024-12-12T17:35:18.580Z"
   },
   {
    "duration": 4,
    "start_time": "2024-12-12T17:35:20.344Z"
   },
   {
    "duration": 5,
    "start_time": "2024-12-12T17:35:21.446Z"
   },
   {
    "duration": 5,
    "start_time": "2024-12-12T17:36:55.274Z"
   },
   {
    "duration": 5,
    "start_time": "2024-12-12T17:36:56.743Z"
   },
   {
    "duration": 5,
    "start_time": "2024-12-12T17:36:57.926Z"
   },
   {
    "duration": 5,
    "start_time": "2024-12-12T17:36:58.566Z"
   },
   {
    "duration": 901,
    "start_time": "2024-12-12T17:37:27.223Z"
   },
   {
    "duration": 8,
    "start_time": "2024-12-12T17:37:28.126Z"
   },
   {
    "duration": 6,
    "start_time": "2024-12-12T17:37:28.136Z"
   },
   {
    "duration": 9,
    "start_time": "2024-12-12T17:37:28.143Z"
   },
   {
    "duration": 3,
    "start_time": "2024-12-12T17:37:28.154Z"
   },
   {
    "duration": 3,
    "start_time": "2024-12-12T17:37:28.159Z"
   },
   {
    "duration": 5,
    "start_time": "2024-12-12T17:37:28.165Z"
   },
   {
    "duration": 4,
    "start_time": "2024-12-12T17:37:28.171Z"
   },
   {
    "duration": 35,
    "start_time": "2024-12-12T17:37:28.177Z"
   },
   {
    "duration": 7,
    "start_time": "2024-12-12T17:37:28.214Z"
   },
   {
    "duration": 9,
    "start_time": "2024-12-12T17:37:28.223Z"
   },
   {
    "duration": 3,
    "start_time": "2024-12-12T17:37:28.234Z"
   },
   {
    "duration": 4,
    "start_time": "2024-12-12T17:37:28.239Z"
   },
   {
    "duration": 5,
    "start_time": "2024-12-12T17:37:28.248Z"
   },
   {
    "duration": 426,
    "start_time": "2024-12-12T17:37:28.255Z"
   },
   {
    "duration": 5,
    "start_time": "2024-12-12T17:37:28.683Z"
   },
   {
    "duration": 291,
    "start_time": "2024-12-12T17:37:28.690Z"
   },
   {
    "duration": 7,
    "start_time": "2024-12-12T17:37:28.982Z"
   },
   {
    "duration": 23,
    "start_time": "2024-12-12T17:37:28.990Z"
   },
   {
    "duration": 4,
    "start_time": "2024-12-12T17:37:29.014Z"
   },
   {
    "duration": 5,
    "start_time": "2024-12-12T17:37:29.020Z"
   },
   {
    "duration": 7,
    "start_time": "2024-12-12T17:37:29.026Z"
   },
   {
    "duration": 2,
    "start_time": "2024-12-12T17:37:29.035Z"
   },
   {
    "duration": 5,
    "start_time": "2024-12-12T17:37:29.039Z"
   },
   {
    "duration": 5,
    "start_time": "2024-12-12T17:37:29.047Z"
   },
   {
    "duration": 8,
    "start_time": "2024-12-12T17:37:29.053Z"
   },
   {
    "duration": 5,
    "start_time": "2024-12-12T17:37:29.063Z"
   },
   {
    "duration": 39,
    "start_time": "2024-12-12T17:37:29.070Z"
   },
   {
    "duration": 64,
    "start_time": "2024-12-12T17:37:29.111Z"
   },
   {
    "duration": 5,
    "start_time": "2024-12-12T17:37:29.177Z"
   },
   {
    "duration": 26,
    "start_time": "2024-12-12T17:37:29.183Z"
   },
   {
    "duration": 10,
    "start_time": "2024-12-12T17:37:29.210Z"
   },
   {
    "duration": 5,
    "start_time": "2024-12-12T17:37:29.221Z"
   },
   {
    "duration": 10,
    "start_time": "2024-12-12T17:37:29.228Z"
   },
   {
    "duration": 5,
    "start_time": "2024-12-12T17:37:29.239Z"
   },
   {
    "duration": 4,
    "start_time": "2024-12-12T17:37:29.245Z"
   },
   {
    "duration": 5,
    "start_time": "2024-12-12T17:37:29.251Z"
   },
   {
    "duration": 220,
    "start_time": "2024-12-12T17:39:10.477Z"
   },
   {
    "duration": 3,
    "start_time": "2024-12-12T17:39:43.242Z"
   },
   {
    "duration": 6,
    "start_time": "2024-12-12T17:41:12.014Z"
   },
   {
    "duration": 5,
    "start_time": "2024-12-12T17:45:08.526Z"
   },
   {
    "duration": 6,
    "start_time": "2024-12-12T17:46:26.156Z"
   },
   {
    "duration": 6,
    "start_time": "2024-12-12T17:46:29.587Z"
   },
   {
    "duration": 930,
    "start_time": "2024-12-12T17:47:05.440Z"
   },
   {
    "duration": 8,
    "start_time": "2024-12-12T17:47:06.372Z"
   },
   {
    "duration": 5,
    "start_time": "2024-12-12T17:47:06.382Z"
   },
   {
    "duration": 20,
    "start_time": "2024-12-12T17:47:06.390Z"
   },
   {
    "duration": 4,
    "start_time": "2024-12-12T17:47:06.411Z"
   },
   {
    "duration": 3,
    "start_time": "2024-12-12T17:47:06.418Z"
   },
   {
    "duration": 6,
    "start_time": "2024-12-12T17:47:06.424Z"
   },
   {
    "duration": 4,
    "start_time": "2024-12-12T17:47:06.432Z"
   },
   {
    "duration": 6,
    "start_time": "2024-12-12T17:47:06.438Z"
   },
   {
    "duration": 7,
    "start_time": "2024-12-12T17:47:06.448Z"
   },
   {
    "duration": 10,
    "start_time": "2024-12-12T17:47:06.457Z"
   },
   {
    "duration": 37,
    "start_time": "2024-12-12T17:47:06.509Z"
   },
   {
    "duration": 36,
    "start_time": "2024-12-12T17:47:06.548Z"
   },
   {
    "duration": 37,
    "start_time": "2024-12-12T17:47:06.586Z"
   },
   {
    "duration": 467,
    "start_time": "2024-12-12T17:47:06.625Z"
   },
   {
    "duration": 4,
    "start_time": "2024-12-12T17:47:07.094Z"
   },
   {
    "duration": 284,
    "start_time": "2024-12-12T17:47:07.100Z"
   },
   {
    "duration": 6,
    "start_time": "2024-12-12T17:47:07.386Z"
   },
   {
    "duration": 21,
    "start_time": "2024-12-12T17:47:07.394Z"
   },
   {
    "duration": 8,
    "start_time": "2024-12-12T17:47:07.417Z"
   },
   {
    "duration": 5,
    "start_time": "2024-12-12T17:47:07.427Z"
   },
   {
    "duration": 8,
    "start_time": "2024-12-12T17:47:07.434Z"
   },
   {
    "duration": 2,
    "start_time": "2024-12-12T17:47:07.444Z"
   },
   {
    "duration": 6,
    "start_time": "2024-12-12T17:47:07.448Z"
   },
   {
    "duration": 6,
    "start_time": "2024-12-12T17:47:07.457Z"
   },
   {
    "duration": 45,
    "start_time": "2024-12-12T17:47:07.465Z"
   },
   {
    "duration": 5,
    "start_time": "2024-12-12T17:47:07.513Z"
   },
   {
    "duration": 5,
    "start_time": "2024-12-12T17:47:07.523Z"
   },
   {
    "duration": 82,
    "start_time": "2024-12-12T17:47:07.530Z"
   },
   {
    "duration": 6,
    "start_time": "2024-12-12T17:47:07.615Z"
   },
   {
    "duration": 5,
    "start_time": "2024-12-12T17:47:07.623Z"
   },
   {
    "duration": 5,
    "start_time": "2024-12-12T17:47:07.631Z"
   },
   {
    "duration": 5,
    "start_time": "2024-12-12T17:47:07.638Z"
   },
   {
    "duration": 7,
    "start_time": "2024-12-12T17:47:07.645Z"
   },
   {
    "duration": 5,
    "start_time": "2024-12-12T17:47:07.653Z"
   },
   {
    "duration": 51,
    "start_time": "2024-12-12T17:47:07.660Z"
   },
   {
    "duration": 5,
    "start_time": "2024-12-12T17:47:07.713Z"
   },
   {
    "duration": 8,
    "start_time": "2024-12-12T17:47:07.724Z"
   },
   {
    "duration": 10,
    "start_time": "2024-12-12T17:47:07.734Z"
   },
   {
    "duration": 3,
    "start_time": "2024-12-12T17:55:47.500Z"
   },
   {
    "duration": 6,
    "start_time": "2024-12-12T17:57:11.112Z"
   }
  ],
  "kernelspec": {
   "display_name": "Python 3 (ipykernel)",
   "language": "python",
   "name": "python3"
  },
  "language_info": {
   "codemirror_mode": {
    "name": "ipython",
    "version": 3
   },
   "file_extension": ".py",
   "mimetype": "text/x-python",
   "name": "python",
   "nbconvert_exporter": "python",
   "pygments_lexer": "ipython3",
   "version": "3.12.7"
  },
  "toc": {
   "base_numbering": 1,
   "nav_menu": {},
   "number_sections": true,
   "sideBar": true,
   "skip_h1_title": true,
   "title_cell": "Table of Contents",
   "title_sidebar": "Contents",
   "toc_cell": false,
   "toc_position": {},
   "toc_section_display": true,
   "toc_window_display": false
  }
 },
 "nbformat": 4,
 "nbformat_minor": 4
}
