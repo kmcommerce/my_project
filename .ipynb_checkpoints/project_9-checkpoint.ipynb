{
 "cells": [
  {
   "cell_type": "markdown",
   "metadata": {},
   "source": [
    "# Statement"
   ]
  },
  {
   "cell_type": "markdown",
   "metadata": {},
   "source": [
    "The Sure Tomorrow insurance company wants to solve several tasks with the help of Machine Learning and you are asked to evaluate that possibility.\n",
    "\n",
    "- Task 1: Find customers who are similar to a given customer. This will help the company's agents with marketing.\n",
    "- Task 2: Predict whether a new customer is likely to receive an insurance benefit. Can a prediction model do better than a dummy model?\n",
    "- Task 3: Predict the number of insurance benefits a new customer is likely to receive using a linear regression model.\n",
    "- Task 4: Protect clients' personal data without breaking the model from the previous task. It's necessary to develop a data transformation algorithm that would make it hard to recover personal information if the data fell into the wrong hands. This is called data masking, or data obfuscation. But the data should be protected in such a way that the quality of machine learning models doesn't suffer. You don't need to pick the best model, just prove that the algorithm works correctly."
   ]
  },
  {
   "cell_type": "markdown",
   "metadata": {},
   "source": [
    "# Introduction:\n",
    "\n",
    "**The objectives of this project is to use some data preprocessing and exploration combines with Machine Learning to solve all\n",
    "the task elaborates on the above statement.**"
   ]
  },
  {
   "cell_type": "markdown",
   "metadata": {},
   "source": [
    "# Data Preprocessing & Exploration\n",
    "\n",
    "## Initialization"
   ]
  },
  {
   "cell_type": "code",
   "execution_count": 1,
   "metadata": {},
   "outputs": [],
   "source": [
    "import numpy as np\n",
    "import pandas as pd\n",
    "from sklearn.preprocessing import StandardScaler\n",
    "from sklearn.model_selection import train_test_split\n",
    "import seaborn as sns\n",
    "import math\n",
    "from sklearn.metrics import mean_squared_error, r2_score\n",
    "from sklearn.dummy import DummyClassifier\n",
    "from sklearn.metrics import f1_score\n",
    "from sklearn.metrics import r2_score\n",
    "from sklearn.neighbors import KNeighborsClassifier\n",
    "from sklearn.neighbors import NearestNeighbors\n",
    "from sklearn.preprocessing import MaxAbsScaler\n",
    "import sklearn.linear_model\n",
    "import sklearn.metrics\n",
    "import sklearn.neighbors\n",
    "import sklearn.preprocessing\n",
    "\n",
    "\n",
    "from sklearn.model_selection import train_test_split\n",
    "\n",
    "from IPython.display import display"
   ]
  },
  {
   "cell_type": "markdown",
   "metadata": {},
   "source": [
    "## Load Data"
   ]
  },
  {
   "cell_type": "markdown",
   "metadata": {},
   "source": [
    "Load data and conduct a basic check that it's free from obvious issues."
   ]
  },
  {
   "cell_type": "code",
   "execution_count": 2,
   "metadata": {},
   "outputs": [],
   "source": [
    "df = pd.read_csv('/datasets/insurance_us.csv')"
   ]
  },
  {
   "cell_type": "code",
   "execution_count": 3,
   "metadata": {},
   "outputs": [],
   "source": [
    "df = df.drop_duplicates()"
   ]
  },
  {
   "cell_type": "code",
   "execution_count": 4,
   "metadata": {},
   "outputs": [
    {
     "data": {
      "text/plain": [
       "0"
      ]
     },
     "execution_count": 4,
     "metadata": {},
     "output_type": "execute_result"
    }
   ],
   "source": [
    "df.duplicated().sum()"
   ]
  },
  {
   "cell_type": "code",
   "execution_count": 5,
   "metadata": {},
   "outputs": [
    {
     "data": {
      "text/plain": [
       "0"
      ]
     },
     "execution_count": 5,
     "metadata": {},
     "output_type": "execute_result"
    }
   ],
   "source": [
    "df.isnull().sum().sum()"
   ]
  },
  {
   "cell_type": "code",
   "execution_count": 6,
   "metadata": {},
   "outputs": [
    {
     "name": "stdout",
     "output_type": "stream",
     "text": [
      "<class 'pandas.core.frame.DataFrame'>\n",
      "Int64Index: 4847 entries, 0 to 4999\n",
      "Data columns (total 5 columns):\n",
      " #   Column              Non-Null Count  Dtype  \n",
      "---  ------              --------------  -----  \n",
      " 0   Gender              4847 non-null   int64  \n",
      " 1   Age                 4847 non-null   float64\n",
      " 2   Salary              4847 non-null   float64\n",
      " 3   Family members      4847 non-null   int64  \n",
      " 4   Insurance benefits  4847 non-null   int64  \n",
      "dtypes: float64(2), int64(3)\n",
      "memory usage: 227.2 KB\n"
     ]
    }
   ],
   "source": [
    "df.info()"
   ]
  },
  {
   "cell_type": "markdown",
   "metadata": {},
   "source": [
    "We rename the colums to make the code look more consistent with its style."
   ]
  },
  {
   "cell_type": "code",
   "execution_count": 7,
   "metadata": {},
   "outputs": [],
   "source": [
    "df = df.rename(columns={'Gender': 'gender', 'Age': 'age', 'Salary': 'salary', 'Family members': 'family_members', 'Insurance benefits': 'insurance_benefits'})"
   ]
  },
  {
   "cell_type": "code",
   "execution_count": 8,
   "metadata": {},
   "outputs": [
    {
     "data": {
      "text/html": [
       "<div>\n",
       "<style scoped>\n",
       "    .dataframe tbody tr th:only-of-type {\n",
       "        vertical-align: middle;\n",
       "    }\n",
       "\n",
       "    .dataframe tbody tr th {\n",
       "        vertical-align: top;\n",
       "    }\n",
       "\n",
       "    .dataframe thead th {\n",
       "        text-align: right;\n",
       "    }\n",
       "</style>\n",
       "<table border=\"1\" class=\"dataframe\">\n",
       "  <thead>\n",
       "    <tr style=\"text-align: right;\">\n",
       "      <th></th>\n",
       "      <th>gender</th>\n",
       "      <th>age</th>\n",
       "      <th>salary</th>\n",
       "      <th>family_members</th>\n",
       "      <th>insurance_benefits</th>\n",
       "    </tr>\n",
       "  </thead>\n",
       "  <tbody>\n",
       "    <tr>\n",
       "      <th>2637</th>\n",
       "      <td>1</td>\n",
       "      <td>22.0</td>\n",
       "      <td>38600.0</td>\n",
       "      <td>1</td>\n",
       "      <td>0</td>\n",
       "    </tr>\n",
       "    <tr>\n",
       "      <th>1996</th>\n",
       "      <td>1</td>\n",
       "      <td>46.0</td>\n",
       "      <td>55000.0</td>\n",
       "      <td>2</td>\n",
       "      <td>1</td>\n",
       "    </tr>\n",
       "    <tr>\n",
       "      <th>419</th>\n",
       "      <td>0</td>\n",
       "      <td>30.0</td>\n",
       "      <td>20000.0</td>\n",
       "      <td>2</td>\n",
       "      <td>0</td>\n",
       "    </tr>\n",
       "    <tr>\n",
       "      <th>235</th>\n",
       "      <td>0</td>\n",
       "      <td>55.0</td>\n",
       "      <td>35900.0</td>\n",
       "      <td>1</td>\n",
       "      <td>3</td>\n",
       "    </tr>\n",
       "    <tr>\n",
       "      <th>4501</th>\n",
       "      <td>0</td>\n",
       "      <td>23.0</td>\n",
       "      <td>38800.0</td>\n",
       "      <td>1</td>\n",
       "      <td>0</td>\n",
       "    </tr>\n",
       "    <tr>\n",
       "      <th>4658</th>\n",
       "      <td>0</td>\n",
       "      <td>18.0</td>\n",
       "      <td>36000.0</td>\n",
       "      <td>4</td>\n",
       "      <td>0</td>\n",
       "    </tr>\n",
       "    <tr>\n",
       "      <th>1537</th>\n",
       "      <td>0</td>\n",
       "      <td>34.0</td>\n",
       "      <td>39900.0</td>\n",
       "      <td>0</td>\n",
       "      <td>0</td>\n",
       "    </tr>\n",
       "    <tr>\n",
       "      <th>1362</th>\n",
       "      <td>0</td>\n",
       "      <td>35.0</td>\n",
       "      <td>32900.0</td>\n",
       "      <td>0</td>\n",
       "      <td>0</td>\n",
       "    </tr>\n",
       "    <tr>\n",
       "      <th>1010</th>\n",
       "      <td>0</td>\n",
       "      <td>36.0</td>\n",
       "      <td>28000.0</td>\n",
       "      <td>1</td>\n",
       "      <td>0</td>\n",
       "    </tr>\n",
       "    <tr>\n",
       "      <th>4209</th>\n",
       "      <td>0</td>\n",
       "      <td>21.0</td>\n",
       "      <td>24900.0</td>\n",
       "      <td>4</td>\n",
       "      <td>0</td>\n",
       "    </tr>\n",
       "  </tbody>\n",
       "</table>\n",
       "</div>"
      ],
      "text/plain": [
       "      gender   age   salary  family_members  insurance_benefits\n",
       "2637       1  22.0  38600.0               1                   0\n",
       "1996       1  46.0  55000.0               2                   1\n",
       "419        0  30.0  20000.0               2                   0\n",
       "235        0  55.0  35900.0               1                   3\n",
       "4501       0  23.0  38800.0               1                   0\n",
       "4658       0  18.0  36000.0               4                   0\n",
       "1537       0  34.0  39900.0               0                   0\n",
       "1362       0  35.0  32900.0               0                   0\n",
       "1010       0  36.0  28000.0               1                   0\n",
       "4209       0  21.0  24900.0               4                   0"
      ]
     },
     "execution_count": 8,
     "metadata": {},
     "output_type": "execute_result"
    }
   ],
   "source": [
    "df.sample(10)"
   ]
  },
  {
   "cell_type": "code",
   "execution_count": 9,
   "metadata": {},
   "outputs": [],
   "source": [
    "# we may want to fix the age type (from float to int) though this is not critical\n",
    "# write your conversion here if you choose:\n",
    "df['age'] = df['age'].astype('int64')"
   ]
  },
  {
   "cell_type": "code",
   "execution_count": 10,
   "metadata": {},
   "outputs": [
    {
     "data": {
      "text/plain": [
       "dtype('int64')"
      ]
     },
     "execution_count": 10,
     "metadata": {},
     "output_type": "execute_result"
    }
   ],
   "source": [
    "# check to see that the conversion was successful\n",
    "df['age'].dtype "
   ]
  },
  {
   "cell_type": "code",
   "execution_count": 11,
   "metadata": {},
   "outputs": [
    {
     "name": "stdout",
     "output_type": "stream",
     "text": [
      "<class 'pandas.core.frame.DataFrame'>\n",
      "Int64Index: 4847 entries, 0 to 4999\n",
      "Data columns (total 5 columns):\n",
      " #   Column              Non-Null Count  Dtype  \n",
      "---  ------              --------------  -----  \n",
      " 0   gender              4847 non-null   int64  \n",
      " 1   age                 4847 non-null   int64  \n",
      " 2   salary              4847 non-null   float64\n",
      " 3   family_members      4847 non-null   int64  \n",
      " 4   insurance_benefits  4847 non-null   int64  \n",
      "dtypes: float64(1), int64(4)\n",
      "memory usage: 227.2 KB\n"
     ]
    }
   ],
   "source": [
    "df.info()"
   ]
  },
  {
   "cell_type": "code",
   "execution_count": 12,
   "metadata": {},
   "outputs": [
    {
     "data": {
      "text/plain": [
       "0    4284\n",
       "1     423\n",
       "2     114\n",
       "3      18\n",
       "4       7\n",
       "5       1\n",
       "Name: insurance_benefits, dtype: int64"
      ]
     },
     "execution_count": 12,
     "metadata": {},
     "output_type": "execute_result"
    }
   ],
   "source": [
    "df['insurance_benefits'].value_counts()"
   ]
  },
  {
   "cell_type": "code",
   "execution_count": 13,
   "metadata": {},
   "outputs": [
    {
     "data": {
      "text/html": [
       "<div>\n",
       "<style scoped>\n",
       "    .dataframe tbody tr th:only-of-type {\n",
       "        vertical-align: middle;\n",
       "    }\n",
       "\n",
       "    .dataframe tbody tr th {\n",
       "        vertical-align: top;\n",
       "    }\n",
       "\n",
       "    .dataframe thead th {\n",
       "        text-align: right;\n",
       "    }\n",
       "</style>\n",
       "<table border=\"1\" class=\"dataframe\">\n",
       "  <thead>\n",
       "    <tr style=\"text-align: right;\">\n",
       "      <th></th>\n",
       "      <th>gender</th>\n",
       "      <th>age</th>\n",
       "      <th>salary</th>\n",
       "      <th>family_members</th>\n",
       "      <th>insurance_benefits</th>\n",
       "    </tr>\n",
       "  </thead>\n",
       "  <tbody>\n",
       "    <tr>\n",
       "      <th>count</th>\n",
       "      <td>4847.0</td>\n",
       "      <td>4847.00</td>\n",
       "      <td>4847.00</td>\n",
       "      <td>4847.0</td>\n",
       "      <td>4847.00</td>\n",
       "    </tr>\n",
       "    <tr>\n",
       "      <th>mean</th>\n",
       "      <td>0.5</td>\n",
       "      <td>31.02</td>\n",
       "      <td>39895.81</td>\n",
       "      <td>1.2</td>\n",
       "      <td>0.15</td>\n",
       "    </tr>\n",
       "    <tr>\n",
       "      <th>std</th>\n",
       "      <td>0.5</td>\n",
       "      <td>8.49</td>\n",
       "      <td>9972.95</td>\n",
       "      <td>1.1</td>\n",
       "      <td>0.47</td>\n",
       "    </tr>\n",
       "    <tr>\n",
       "      <th>min</th>\n",
       "      <td>0.0</td>\n",
       "      <td>18.00</td>\n",
       "      <td>5300.00</td>\n",
       "      <td>0.0</td>\n",
       "      <td>0.00</td>\n",
       "    </tr>\n",
       "    <tr>\n",
       "      <th>25%</th>\n",
       "      <td>0.0</td>\n",
       "      <td>24.00</td>\n",
       "      <td>33200.00</td>\n",
       "      <td>0.0</td>\n",
       "      <td>0.00</td>\n",
       "    </tr>\n",
       "    <tr>\n",
       "      <th>50%</th>\n",
       "      <td>0.0</td>\n",
       "      <td>30.00</td>\n",
       "      <td>40200.00</td>\n",
       "      <td>1.0</td>\n",
       "      <td>0.00</td>\n",
       "    </tr>\n",
       "    <tr>\n",
       "      <th>75%</th>\n",
       "      <td>1.0</td>\n",
       "      <td>37.00</td>\n",
       "      <td>46600.00</td>\n",
       "      <td>2.0</td>\n",
       "      <td>0.00</td>\n",
       "    </tr>\n",
       "    <tr>\n",
       "      <th>max</th>\n",
       "      <td>1.0</td>\n",
       "      <td>65.00</td>\n",
       "      <td>79000.00</td>\n",
       "      <td>6.0</td>\n",
       "      <td>5.00</td>\n",
       "    </tr>\n",
       "  </tbody>\n",
       "</table>\n",
       "</div>"
      ],
      "text/plain": [
       "       gender      age    salary  family_members  insurance_benefits\n",
       "count  4847.0  4847.00   4847.00          4847.0             4847.00\n",
       "mean      0.5    31.02  39895.81             1.2                0.15\n",
       "std       0.5     8.49   9972.95             1.1                0.47\n",
       "min       0.0    18.00   5300.00             0.0                0.00\n",
       "25%       0.0    24.00  33200.00             0.0                0.00\n",
       "50%       0.0    30.00  40200.00             1.0                0.00\n",
       "75%       1.0    37.00  46600.00             2.0                0.00\n",
       "max       1.0    65.00  79000.00             6.0                5.00"
      ]
     },
     "execution_count": 13,
     "metadata": {},
     "output_type": "execute_result"
    }
   ],
   "source": [
    "# now have a look at the data's descriptive statistics. \n",
    "# Does everything look okay?\n",
    "df.describe().round(2)"
   ]
  },
  {
   "cell_type": "markdown",
   "metadata": {},
   "source": [
    "**No everything do not look okay.**\n",
    "\n",
    "**The insurance_benefits column appears to have a skewed distribution. The value counts show that 4284 individuals have 0 insurance benefits and 563 individuals have 1 insurance benefit.This indicate that the distribution of insurance benefits is highly imbalanced.**"
   ]
  },
  {
   "cell_type": "markdown",
   "metadata": {},
   "source": [
    "<div class=\"alert alert-success\">\n",
    "<b>Reviewer's comment V2</b>\n",
    "\n",
    "Fixed\n",
    "    \n",
    "</div>"
   ]
  },
  {
   "cell_type": "markdown",
   "metadata": {},
   "source": [
    "## EDA"
   ]
  },
  {
   "cell_type": "markdown",
   "metadata": {},
   "source": [
    "Let's quickly check whether there are certain groups of customers by looking at the pair plot."
   ]
  },
  {
   "cell_type": "code",
   "execution_count": 14,
   "metadata": {},
   "outputs": [
    {
     "data": {
      "image/png": "[encoded data removed]",
      "text/plain": [
       "<Figure size 1200x1200 with 30 Axes>"
      ]
     },
     "metadata": {},
     "output_type": "display_data"
    }
   ],
   "source": [
    "g = sns.pairplot(df, kind='hist')\n",
    "g.fig.set_size_inches(12, 12)"
   ]
  },
  {
   "cell_type": "markdown",
   "metadata": {},
   "source": [
    "Ok, it is a bit difficult to spot obvious groups (clusters) as it is difficult to combine several variables simultaneously (to analyze multivariate distributions). That's where LA and ML can be quite handy."
   ]
  },
  {
   "cell_type": "markdown",
   "metadata": {},
   "source": [
    "# Task 1. Similar Customers"
   ]
  },
  {
   "cell_type": "markdown",
   "metadata": {},
   "source": [
    "In the language of ML, it is necessary to develop a procedure that returns k nearest neighbors (objects) for a given object based on the distance between the objects.\n",
    "\n",
    "You may want to review the following lessons (chapter -> lesson)\n",
    "- Distance Between Vectors -> Euclidean Distance\n",
    "- Distance Between Vectors -> Manhattan Distance\n",
    "\n",
    "To solve the task, we can try different distance metrics."
   ]
  },
  {
   "cell_type": "markdown",
   "metadata": {},
   "source": [
    "Write a function that returns k nearest neighbors for an $n^{th}$ object based on a specified distance metric. The number of received insurance benefits should not be taken into account for this task. \n",
    "\n",
    "You can use a ready implementation of the kNN algorithm from scikit-learn (check [the link](https://scikit-learn.org/stable/modules/generated/sklearn.neighbors.NearestNeighbors.html#sklearn.neighbors.NearestNeighbors)) or use your own.\n",
    "\n",
    "Test it for four combination of two cases\n",
    "- Scaling\n",
    "  - the data is not scaled\n",
    "  - the data is scaled with the [MaxAbsScaler](https://scikit-learn.org/stable/modules/generated/sklearn.preprocessing.MaxAbsScaler.html) scaler\n",
    "- Distance Metrics\n",
    "  - Euclidean\n",
    "  - Manhattan\n",
    "\n",
    "Answer these questions:\n",
    "- Does the data being not scaled affect the kNN algorithm? If so, how does that appear?\n",
    "- How similar are the results using the Manhattan distance metric (regardless of the scaling)?"
   ]
  },
  {
   "cell_type": "code",
   "execution_count": 15,
   "metadata": {},
   "outputs": [],
   "source": [
    "feature_names = ['gender', 'age', 'salary', 'family_members']"
   ]
  },
  {
   "cell_type": "code",
   "execution_count": 16,
   "metadata": {},
   "outputs": [
    {
     "data": {
      "text/plain": [
       "'Closest 3 neighbors (Euclidean, unscaled) indices: [3924 3169 2007]'"
      ]
     },
     "metadata": {},
     "output_type": "display_data"
    },
    {
     "data": {
      "text/plain": [
       "'Distances to closest 3 neighbors (Euclidean, unscaled): [1.         1.41421356 1.41421356]'"
      ]
     },
     "metadata": {},
     "output_type": "display_data"
    },
    {
     "data": {
      "text/plain": [
       "'Closest 3 neighbors (Euclidean, scaled) indices: [4243  756 1374]'"
      ]
     },
     "metadata": {},
     "output_type": "display_data"
    },
    {
     "data": {
      "text/plain": [
       "'Distances to closest 3 neighbors (Euclidean, scaled): [0.08022523 0.11825158 0.11825158]'"
      ]
     },
     "metadata": {},
     "output_type": "display_data"
    },
    {
     "data": {
      "text/plain": [
       "'Closest 3 neighbors (Manhattan, unscaled) indices: [3924 3169 2007]'"
      ]
     },
     "metadata": {},
     "output_type": "display_data"
    },
    {
     "data": {
      "text/plain": [
       "'Distances to closest 3 neighbors (Manhattan, unscaled): [1. 2. 2.]'"
      ]
     },
     "metadata": {},
     "output_type": "display_data"
    },
    {
     "data": {
      "text/plain": [
       "'Closest 3 neighbors (Manhattan, scaled) indices: [4243  756 1374]'"
      ]
     },
     "metadata": {},
     "output_type": "display_data"
    },
    {
     "data": {
      "text/plain": [
       "'Distances to closest 3 neighbors (Manhattan, scaled): [0.08022523 0.12785376 0.12785376]'"
      ]
     },
     "metadata": {},
     "output_type": "display_data"
    }
   ],
   "source": [
    "def get_closest_neighbors(df, n, k=1, metric='euclidean', scale_data=False):\n",
    "    \n",
    "    # Drop the 'insurance_benefits' column \n",
    "    features = df.drop(columns=['insurance_benefits'])\n",
    "    \n",
    "    # Scale the features if required\n",
    "    if scale_data:\n",
    "        features = StandardScaler().fit_transform(features)\n",
    "        features = pd.DataFrame(features, columns=df.drop(columns=['insurance_benefits']).columns)  # Convert back to DataFrame\n",
    "    \n",
    "    # ensure the index is continuous \n",
    "    features = features.reset_index(drop=True)\n",
    "    \n",
    "    # Use NearestNeighbors to find k + 1 neighbors: the point itself + the k closest neighbors\n",
    "    model_knn = NearestNeighbors(n_neighbors=k+1, metric=metric)  # k+1 because we include the point itself\n",
    "    model_knn.fit(features)\n",
    "    \n",
    "    # distances and indices for the n-th point using iloc for safe indexing\n",
    "    distances, indices = model_knn.kneighbors([features.iloc[n]])  # iloc for positional indexing\n",
    "    \n",
    "    return distances[0][1:], indices[0][1:]  \n",
    "\n",
    "# Test the function with different combinations of distance metric and scaling option\n",
    "sample_idx = 10\n",
    "k = 3  # to return the 3 nearest neighbors\n",
    "\n",
    "# Euclidean metric, unscaled data\n",
    "distances_euclidean_unscaled, closest_euclidean_unscaled = get_closest_neighbors(df, sample_idx, k=k,\n",
    "                                                                                 metric='euclidean', scale_data=False)\n",
    "# Euclidean metric, scaled data\n",
    "distances_euclidean_scaled, closest_euclidean_scaled = get_closest_neighbors(df, sample_idx, k=k, \n",
    "                                                                             metric='euclidean', scale_data=True)\n",
    "\n",
    "# Manhattan metric, unscaled data\n",
    "distances_manhattan_unscaled, closest_manhattan_unscaled = get_closest_neighbors(df, sample_idx, k=k, \n",
    "                                                                                 metric='manhattan', scale_data=False)\n",
    "# Manhattan metric, scaled data\n",
    "distances_manhattan_scaled, closest_manhattan_scaled = get_closest_neighbors(df, sample_idx, k=k, \n",
    "                                                                             metric='manhattan', scale_data=True)\n",
    "\n",
    "# Display the results\n",
    "display(f\"Closest {k} neighbors (Euclidean, unscaled) indices: {closest_euclidean_unscaled}\")\n",
    "display(f\"Distances to closest {k} neighbors (Euclidean, unscaled): {distances_euclidean_unscaled}\")\n",
    "\n",
    "display(f\"Closest {k} neighbors (Euclidean, scaled) indices: {closest_euclidean_scaled}\")\n",
    "display(f\"Distances to closest {k} neighbors (Euclidean, scaled): {distances_euclidean_scaled}\")\n",
    "\n",
    "display(f\"Closest {k} neighbors (Manhattan, unscaled) indices: {closest_manhattan_unscaled}\")\n",
    "display(f\"Distances to closest {k} neighbors (Manhattan, unscaled): {distances_manhattan_unscaled}\")\n",
    "\n",
    "display(f\"Closest {k} neighbors (Manhattan, scaled) indices: {closest_manhattan_scaled}\")\n",
    "display(f\"Distances to closest {k} neighbors (Manhattan, scaled): {distances_manhattan_scaled}\")"
   ]
  },
  {
   "cell_type": "markdown",
   "metadata": {},
   "source": [
    "Scaling the data."
   ]
  },
  {
   "cell_type": "code",
   "execution_count": 17,
   "metadata": {},
   "outputs": [],
   "source": [
    "#feature_names = ['gender', 'age', 'salary', 'family_members']\n",
    "\n",
    "#transformer_mas = sklearn.preprocessing.MaxAbsScaler().fit(df[feature_names].to_numpy())\n",
    "\n",
    "#df_scaled = df.copy()\n",
    "#df_scaled.loc[:, feature_names] = transformer_mas.transform(df[feature_names].to_numpy())"
   ]
  },
  {
   "cell_type": "markdown",
   "metadata": {},
   "source": [
    "Answers to the questions"
   ]
  },
  {
   "cell_type": "markdown",
   "metadata": {},
   "source": [
    "**Does the data being not scaled affect the kNN algorithm? If so, how does that appear?** \n",
    "\n",
    "**Yes, the data being unscaled does affect the kNN algorithm. This can be observed by comparing the results for the Euclidean and Manhattan distances with unscaled and scaled data.**\n",
    "\n",
    "**For the Euclidean distance, the unscaled distances are significantly larger, with the distances to the closest neighbors being [1.0, 1.41421356, 1.41421356], while the scaled distances are much smaller, [0.08022523, 0.11825158, 0.11825158]. This shows that when the data is unscaled, the distance values are inflated due to differences in the ranges of the features, making the distance calculations less meaningful.**\n",
    "\n",
    "**Similarly, for the Manhattan distance, the unscaled distances are [1.0, 2.0, 2.0], which are also much larger compared to the scaled distances [0.08022523, 0.12785376, 0.12785376]. This reinforces the point that unscaled data leads to disproportionately large distance values, which could distort the kNN's nearest neighbor selection.**"
   ]
  },
  {
   "cell_type": "markdown",
   "metadata": {},
   "source": [
    "**How similar are the results using the Manhattan distance metric (regardless of the scaling)?** \n",
    "\n",
    "**The results for the Manhattan distance metric (both unscaled and scaled) are quite similar. In both cases, the closest 3 neighbors are the same indices: [3924, 3169, 2007] (unscaled) and [4243, 756, 1374] (scaled). This shows that the nearest neighbors are consistent across the scaling, though the distances themselves change.**\n",
    "\n",
    "**For unscaled data, the Manhattan distances are [1.0, 2.0, 2.0], and for scaled data, they are [0.08022523, 0.12785376, 0.12785376]. While the scaled distances are smaller, the overall order of the nearest neighbors remains unchanged.**"
   ]
  },
  {
   "cell_type": "markdown",
   "metadata": {},
   "source": [
    "<div class=\"alert alert-success\">\n",
    "<b>Reviewer's comment V1</b>\n",
    "\n",
    "Well done!\n",
    "    \n",
    "</div>"
   ]
  },
  {
   "cell_type": "markdown",
   "metadata": {},
   "source": [
    "# Task 2. Is Customer Likely to Receive Insurance Benefit?"
   ]
  },
  {
   "cell_type": "markdown",
   "metadata": {},
   "source": [
    "In terms of machine learning we can look at this like a binary classification task."
   ]
  },
  {
   "cell_type": "markdown",
   "metadata": {},
   "source": [
    "With `insurance_benefits` being more than zero as the target, evaluate whether the kNN classification approach can do better than a dummy model.\n",
    "\n",
    "Instructions:\n",
    "- Build a KNN-based classifier and measure its quality with the F1 metric for k=1..10 for both the original data and the scaled one. That'd be interesting to see how k may influece the evaluation metric, and whether scaling the data makes any difference. You can use a ready implemention of the kNN classification algorithm from scikit-learn (check [the link](https://scikit-learn.org/stable/modules/generated/sklearn.neighbors.KNeighborsClassifier.html)) or use your own.\n",
    "- Build the dummy model which is just random for this case. It should return \"1\" with some probability. Let's test the model with four probability values: 0, the probability of paying any insurance benefit, 0.5, 1.\n",
    "\n",
    "The probability of paying any insurance benefit can be defined as\n",
    "\n",
    "$$\n",
    "P\\{\\text{insurance benefit received}\\}=\\frac{\\text{number of clients received any insurance benefit}}{\\text{total number of clients}}.\n",
    "$$\n",
    "\n",
    "Split the whole data in the 70:30 proportion for the training/testing parts."
   ]
  },
  {
   "cell_type": "code",
   "execution_count": 18,
   "metadata": {},
   "outputs": [
    {
     "data": {
      "text/plain": [
       "'Training class distribution:'"
      ]
     },
     "metadata": {},
     "output_type": "display_data"
    },
    {
     "data": {
      "text/plain": [
       "0    0.883844\n",
       "1    0.116156\n",
       "Name: insurance_benefits, dtype: float64"
      ]
     },
     "metadata": {},
     "output_type": "display_data"
    },
    {
     "data": {
      "text/plain": [
       "'nTesting class distribution:'"
      ]
     },
     "metadata": {},
     "output_type": "display_data"
    },
    {
     "data": {
      "text/plain": [
       "0    0.883849\n",
       "1    0.116151\n",
       "Name: insurance_benefits, dtype: float64"
      ]
     },
     "metadata": {},
     "output_type": "display_data"
    }
   ],
   "source": [
    "# Features  and target \n",
    "features = df.drop('insurance_benefits', axis=1)  \n",
    "#target = df['insurance_benefits'] \n",
    "target = (df['insurance_benefits'] > 0).astype(int)\n",
    "\n",
    "# Stratified split (70% train, 30% test)\n",
    "features_train, features_test, target_train, target_test = train_test_split(\n",
    "    features, target,\n",
    "    test_size=0.3,        \n",
    "    random_state=12345,      \n",
    "    shuffle=True,         # Shuffle before splitting\n",
    "    stratify=target            # Preserve class distribution\n",
    ")\n",
    "\n",
    "# Check class distribution in train/test sets\n",
    "display(\"Training class distribution:\", target_train.value_counts(normalize=True))\n",
    "display(\"nTesting class distribution:\", target_test.value_counts(normalize=True))"
   ]
  },
  {
   "cell_type": "markdown",
   "metadata": {},
   "source": [
    "<div class=\"alert alert-success\">\n",
    "<b>Reviewer's comment V2</b>\n",
    "\n",
    "Thank you!\n",
    "    \n",
    "</div>"
   ]
  },
  {
   "cell_type": "code",
   "execution_count": 19,
   "metadata": {},
   "outputs": [],
   "source": [
    "# List to store F1 scores for different k values\n",
    "f1_scores_original = []\n",
    "f1_scores_scaled = []"
   ]
  },
  {
   "cell_type": "code",
   "execution_count": 20,
   "metadata": {},
   "outputs": [],
   "source": [
    "# KNN for k=1 to k=10 original data\n",
    "\n",
    "for k in range(1, 11):\n",
    "    \n",
    "    # Initialize and train the model \n",
    "    knn = KNeighborsClassifier(n_neighbors=k)\n",
    "    knn.fit(features_train, target_train)\n",
    "    \n",
    "    # Predict and evaluate F1 score on original data\n",
    "    target_predict = knn.predict(features_test)\n",
    "    f1_original = f1_score(target_test, target_predict)\n",
    "    f1_scores_original.append(f1_original)"
   ]
  },
  {
   "cell_type": "code",
   "execution_count": 21,
   "metadata": {},
   "outputs": [],
   "source": [
    "#scale the features\n",
    "for k in range(1, 11):\n",
    "    scaler = StandardScaler()\n",
    "    features_train_scaled = scaler.fit_transform(features_train)\n",
    "    features_test_scaled = scaler.transform(features_test)\n",
    "    # train the model with scaled data\n",
    "    knn.fit(features_train_scaled, target_train)\n",
    "\n",
    "    #predict and evaluate F1 score on scaled data\n",
    "    target_predict_scaled = knn.predict(features_test_scaled)\n",
    "    f1_scaled = f1_score(target_test, target_predict_scaled)\n",
    "    f1_scores_scaled.append(f1_scaled)\n",
    "    \n"
   ]
  },
  {
   "cell_type": "code",
   "execution_count": 22,
   "metadata": {},
   "outputs": [
    {
     "data": {
      "text/plain": [
       "'k=1 -> F1 (Original): 0.6512, F1 (Scaled): 0.9270'"
      ]
     },
     "metadata": {},
     "output_type": "display_data"
    },
    {
     "data": {
      "text/plain": [
       "'k=2 -> F1 (Original): 0.3585, F1 (Scaled): 0.9270'"
      ]
     },
     "metadata": {},
     "output_type": "display_data"
    },
    {
     "data": {
      "text/plain": [
       "'k=3 -> F1 (Original): 0.4017, F1 (Scaled): 0.9270'"
      ]
     },
     "metadata": {},
     "output_type": "display_data"
    },
    {
     "data": {
      "text/plain": [
       "'k=4 -> F1 (Original): 0.1885, F1 (Scaled): 0.9270'"
      ]
     },
     "metadata": {},
     "output_type": "display_data"
    },
    {
     "data": {
      "text/plain": [
       "'k=5 -> F1 (Original): 0.2010, F1 (Scaled): 0.9270'"
      ]
     },
     "metadata": {},
     "output_type": "display_data"
    },
    {
     "data": {
      "text/plain": [
       "'k=6 -> F1 (Original): 0.1209, F1 (Scaled): 0.9270'"
      ]
     },
     "metadata": {},
     "output_type": "display_data"
    },
    {
     "data": {
      "text/plain": [
       "'k=7 -> F1 (Original): 0.1297, F1 (Scaled): 0.9270'"
      ]
     },
     "metadata": {},
     "output_type": "display_data"
    },
    {
     "data": {
      "text/plain": [
       "'k=8 -> F1 (Original): 0.0575, F1 (Scaled): 0.9270'"
      ]
     },
     "metadata": {},
     "output_type": "display_data"
    },
    {
     "data": {
      "text/plain": [
       "'k=9 -> F1 (Original): 0.0571, F1 (Scaled): 0.9270'"
      ]
     },
     "metadata": {},
     "output_type": "display_data"
    },
    {
     "data": {
      "text/plain": [
       "'k=10 -> F1 (Original): 0.0000, F1 (Scaled): 0.9270'"
      ]
     },
     "metadata": {},
     "output_type": "display_data"
    }
   ],
   "source": [
    "# Display results\n",
    "for k in range(1, 11):\n",
    "    display(f'k={k} -> F1 (Original): {f1_scores_original[k-1]:.4f}, F1 (Scaled): {f1_scores_scaled[k-1]:.4f}')"
   ]
  },
  {
   "cell_type": "markdown",
   "metadata": {},
   "source": [
    "**k's Influence:** \n",
    "**A small k leads to higher flexibility (and possibly overfitting), while a larger k leads to more bias (underfitting). The performance of the model deteriorates as k increases, especially for the unscaled data.**\n",
    "\n",
    "**Effect of Scaling:**\n",
    "**Scaling drastically improves the model's performance, particularly for smaller k values where unscaled data performed poorly. For larger k values, scaling stabilizes performance, giving consistent high F1 scores.**\n",
    "\n"
   ]
  },
  {
   "cell_type": "markdown",
   "metadata": {},
   "source": [
    "<div class=\"alert alert-success\">\n",
    "<b>Reviewer's comment V1</b>\n",
    "\n",
    "Good job!\n",
    "    \n",
    "</div>"
   ]
  },
  {
   "cell_type": "code",
   "execution_count": 23,
   "metadata": {},
   "outputs": [],
   "source": [
    "# calculate Probability of Paying Insurance Benefit\n",
    "p_insurance = target.sum() / len(target)"
   ]
  },
  {
   "cell_type": "code",
   "execution_count": 24,
   "metadata": {},
   "outputs": [],
   "source": [
    "# Dummy Classifier (Random predictions)\n",
    "class DummyRandomClassifier(DummyClassifier):\n",
    "    def init(self,strategy=\"constant\", constant=1, random_state=None):\n",
    "        \n",
    "        super().__init__(strategy=strategy, constant=constant, random_state=random_state)\n",
    "\n",
    "        # Initialize the KNeighborsClassifier with the specified number of neighbors\n",
    "        #self.model = KNeighborsClassifier(n_neighbors=n_neighbors)\n",
    "    \n",
    "    def fit(self, features, target=None):\n",
    "        return self\n",
    "\n",
    "    def predict(self, features):\n",
    "        # Random predictions based on given probability\n",
    "        prob = self.constant\n",
    "        return np.random.binomial(1, prob, size=len(features))"
   ]
  },
  {
   "cell_type": "code",
   "execution_count": 25,
   "metadata": {},
   "outputs": [],
   "source": [
    "# define the NearestNeighborClassifier (kNN)\n",
    "class NearestNeighborClassifier:\n",
    "    \n",
    "    def __init__(self, n_neighbors=7):\n",
    "        self.model = KNeighborsClassifier(n_neighbors=n_neighbors)\n",
    "    \n",
    "    \n",
    "    def fit(self, features, target):\n",
    "        self.model.fit(features, target)\n",
    "\n",
    "    def predict(self, features):\n",
    "        return self.model.predict(features)"
   ]
  },
  {
   "cell_type": "code",
   "execution_count": 26,
   "metadata": {},
   "outputs": [],
   "source": [
    "# train and Evaluate the Models\n",
    "# Dummy Classifier with different probabilities \n",
    "# Test with probability = 0, p_insurance, 0.5, and 1\n",
    "dummy_probabilities = [0, p_insurance, 0.5, 1]\n",
    "dummy_f1_scores = []"
   ]
  },
  {
   "cell_type": "code",
   "execution_count": 27,
   "metadata": {},
   "outputs": [
    {
     "data": {
      "text/plain": [
       "'F1 Score for Dummy Model (prob = 0): 0.0000'"
      ]
     },
     "metadata": {},
     "output_type": "display_data"
    },
    {
     "data": {
      "text/plain": [
       "'F1 Score for Dummy Model (prob = 0.11615432226119249): 0.1570'"
      ]
     },
     "metadata": {},
     "output_type": "display_data"
    },
    {
     "data": {
      "text/plain": [
       "'F1 Score for Dummy Model (prob = 0.5): 0.1684'"
      ]
     },
     "metadata": {},
     "output_type": "display_data"
    },
    {
     "data": {
      "text/plain": [
       "'F1 Score for Dummy Model (prob = 1): 0.2081'"
      ]
     },
     "metadata": {},
     "output_type": "display_data"
    }
   ],
   "source": [
    "for prob in dummy_probabilities:\n",
    "    # Create and train the dummy model\n",
    "    dummy_model = DummyRandomClassifier(strategy=\"constant\", constant=prob)\n",
    "    dummy_model.fit(features_train, target_train)\n",
    "    # Predict and calculate F1 score\n",
    "    dummy_preds = dummy_model.predict(features_test)\n",
    "    dummy_f1 = f1_score(target_test, dummy_preds)\n",
    "    dummy_f1_scores.append(dummy_f1)\n",
    "    display(f\"F1 Score for Dummy Model (prob = {prob}): {dummy_f1:.4f}\")"
   ]
  },
  {
   "cell_type": "code",
   "execution_count": 28,
   "metadata": {},
   "outputs": [],
   "source": [
    "# Apply scaling\n",
    "scaler = StandardScaler()\n",
    "features_train_scaled = scaler.fit_transform(features_train)\n",
    "features_test_scaled = scaler.transform(features_test)"
   ]
  },
  {
   "cell_type": "code",
   "execution_count": 29,
   "metadata": {},
   "outputs": [],
   "source": [
    "# Initialize kNN classifier with k=7\n",
    "knn_model = NearestNeighborClassifier(n_neighbors=7)\n",
    "knn_model.fit(features_train_scaled, target_train)"
   ]
  },
  {
   "cell_type": "code",
   "execution_count": 30,
   "metadata": {},
   "outputs": [],
   "source": [
    "# Predict and calculate F1 score for kNN model\n",
    "knn_preds = knn_model.predict(features_test_scaled)\n",
    "knn_f1 = f1_score(target_test, knn_preds)"
   ]
  },
  {
   "cell_type": "code",
   "execution_count": 31,
   "metadata": {},
   "outputs": [
    {
     "data": {
      "text/plain": [
       "'F1 Score for kNN Classifier: 0.9419'"
      ]
     },
     "metadata": {},
     "output_type": "display_data"
    }
   ],
   "source": [
    "display(f\"F1 Score for kNN Classifier: {knn_f1:.4f}\")\n"
   ]
  },
  {
   "cell_type": "code",
   "execution_count": 32,
   "metadata": {},
   "outputs": [
    {
     "data": {
      "text/plain": [
       "'Comparison of kNN F1 score with Dummy Model F1 scores:'"
      ]
     },
     "metadata": {},
     "output_type": "display_data"
    },
    {
     "data": {
      "text/plain": [
       "'Dummy Model (prob = 0) F1 Score: 0.0000'"
      ]
     },
     "metadata": {},
     "output_type": "display_data"
    },
    {
     "data": {
      "text/plain": [
       "'kNN Classifier F1 Score: 0.9419'"
      ]
     },
     "metadata": {},
     "output_type": "display_data"
    },
    {
     "data": {
      "text/plain": [
       "'Dummy Model (prob = 0.11615432226119249) F1 Score: 0.1570'"
      ]
     },
     "metadata": {},
     "output_type": "display_data"
    },
    {
     "data": {
      "text/plain": [
       "'kNN Classifier F1 Score: 0.9419'"
      ]
     },
     "metadata": {},
     "output_type": "display_data"
    },
    {
     "data": {
      "text/plain": [
       "'Dummy Model (prob = 0.5) F1 Score: 0.1684'"
      ]
     },
     "metadata": {},
     "output_type": "display_data"
    },
    {
     "data": {
      "text/plain": [
       "'kNN Classifier F1 Score: 0.9419'"
      ]
     },
     "metadata": {},
     "output_type": "display_data"
    },
    {
     "data": {
      "text/plain": [
       "'Dummy Model (prob = 1) F1 Score: 0.2081'"
      ]
     },
     "metadata": {},
     "output_type": "display_data"
    },
    {
     "data": {
      "text/plain": [
       "'kNN Classifier F1 Score: 0.9419'"
      ]
     },
     "metadata": {},
     "output_type": "display_data"
    }
   ],
   "source": [
    "# Compare kNN F1 score with Dummy Model F1 scores\n",
    "\n",
    "display(\"Comparison of kNN F1 score with Dummy Model F1 scores:\")\n",
    "\n",
    "for prob, dummy_f1 in zip(dummy_probabilities, dummy_f1_scores):\n",
    "    display(f\"Dummy Model (prob = {prob}) F1 Score: {dummy_f1:.4f}\")\n",
    "    display(f\"kNN Classifier F1 Score: {knn_f1:.4f}\")"
   ]
  },
  {
   "cell_type": "markdown",
   "metadata": {},
   "source": [
    "# Task 3. Regression (with Linear Regression)"
   ]
  },
  {
   "cell_type": "markdown",
   "metadata": {},
   "source": [
    "With `insurance_benefits` as the target, evaluate what RMSE would be for a Linear Regression model."
   ]
  },
  {
   "cell_type": "markdown",
   "metadata": {},
   "source": [
    "Build your own implementation of LR. For that, recall how the linear regression task's solution is formulated in terms of LA. Check RMSE for both the original data and the scaled one. Can you see any difference in RMSE between these two cases?\n",
    "\n",
    "Let's denote\n",
    "- $X$ — feature matrix, each row is a case, each column is a feature, the first column consists of unities\n",
    "- $y$ — target (a vector)\n",
    "- $\\hat{y}$ — estimated tagret (a vector)\n",
    "- $w$ — weight vector\n",
    "\n",
    "The task of linear regression in the language of matrices can be formulated as\n",
    "\n",
    "$$\n",
    "y = Xw\n",
    "$$\n",
    "\n",
    "The training objective then is to find such $w$ that it would minimize the L2-distance (MSE) between $Xw$ and $y$:\n",
    "\n",
    "$$\n",
    "\\min_w d_2(Xw, y) \\quad \\text{or} \\quad \\min_w \\text{MSE}(Xw, y)\n",
    "$$\n",
    "\n",
    "It appears that there is analytical solution for the above:\n",
    "\n",
    "$$\n",
    "w = (X^T X)^{-1} X^T y\n",
    "$$\n",
    "\n",
    "The formula above can be used to find the weights $w$ and the latter can be used to calculate predicted values\n",
    "\n",
    "$$\n",
    "\\hat{y} = X_{val}w\n",
    "$$"
   ]
  },
  {
   "cell_type": "markdown",
   "metadata": {},
   "source": [
    "Split the whole data in the 70:30 proportion for the training/validation parts. Use the RMSE metric for the model evaluation."
   ]
  },
  {
   "cell_type": "code",
   "execution_count": null,
   "metadata": {},
   "outputs": [],
   "source": []
  },
  {
   "cell_type": "code",
   "execution_count": 33,
   "metadata": {},
   "outputs": [],
   "source": [
    "class LinearRegression:\n",
    "    \n",
    "    def __init__(self):\n",
    "        self.w = None  # Coefficients for features\n",
    "        self.w0 = None  # Intercept term (bias)\n",
    "\n",
    "    def fit(self, features_train, target_train):\n",
    "        # Add the bias (intercept) term by concatenating ones to the features matrix\n",
    "        X = np.concatenate((np.ones((features_train.shape[0], 1)), features_train), axis=1)\n",
    "        y = target_train\n",
    "        \n",
    "        # Normal equation to solve for weights\n",
    "        w = np.linalg.inv(X.T.dot(X)).dot(X.T).dot(y)\n",
    "        \n",
    "        # Split the weights into the intercept and coefficients\n",
    "        self.w0 = w[0]\n",
    "        self.w = w[1:]\n",
    "\n",
    "    def predict(self, features_val):\n",
    "        # Add the bias (intercept) term by concatenating ones to the features matrix\n",
    "        X_val = np.concatenate((np.ones((features_val.shape[0], 1)), features_val), axis=1)\n",
    "        \n",
    "        # Make predictions using the learned weights\n",
    "        return X_val.dot(np.concatenate(([self.w0], self.w)))  # Intercept term + weights\n"
   ]
  },
  {
   "cell_type": "code",
   "execution_count": null,
   "metadata": {},
   "outputs": [],
   "source": []
  },
  {
   "cell_type": "code",
   "execution_count": 34,
   "metadata": {},
   "outputs": [],
   "source": [
    "# Evaluation function to calculate RMSE\n",
    "def eval_regressor(target, y_pred):\n",
    "    # Check if input arrays are of equal length\n",
    "    #if len(target) != len(y_pred):\n",
    "       # print(\"Error: The true and predicted target arrays must have the same length.\")\n",
    "        #return\n",
    "    \n",
    "    # Calculate RMSE (Root Mean Squared Error)\n",
    "    rmse = math.sqrt(sklearn.metrics.mean_squared_error(target, y_pred))\n",
    "    display(f'RMSE: {rmse:.2f}')\n",
    "    \n",
    "    # Calculate R2 score (no need for square root)\n",
    "    r2_score = sklearn.metrics.r2_score(target, y_pred)\n",
    "    display(f'R2: {r2_score:.2f}')\n"
   ]
  },
  {
   "cell_type": "code",
   "execution_count": null,
   "metadata": {},
   "outputs": [],
   "source": []
  },
  {
   "cell_type": "code",
   "execution_count": 35,
   "metadata": {},
   "outputs": [],
   "source": [
    "# Step 1: Split the data into training and validation (70:30 ratio)\n",
    "X = df[['gender', 'age', 'salary', 'family_members']].values  # Features\n",
    "y = df['insurance_benefits'].values  # Target variable"
   ]
  },
  {
   "cell_type": "code",
   "execution_count": null,
   "metadata": {},
   "outputs": [],
   "source": []
  },
  {
   "cell_type": "code",
   "execution_count": 36,
   "metadata": {},
   "outputs": [],
   "source": [
    "# Split the data into training and validation sets (70% train, 30% validation)\n",
    "features_train, features_val, target_train, target_val = train_test_split(X, y, test_size=0.3, random_state=12345)\n"
   ]
  },
  {
   "cell_type": "code",
   "execution_count": null,
   "metadata": {},
   "outputs": [],
   "source": []
  },
  {
   "cell_type": "code",
   "execution_count": 37,
   "metadata": {},
   "outputs": [],
   "source": [
    "#Initialize\n",
    "model = LinearRegression()"
   ]
  },
  {
   "cell_type": "code",
   "execution_count": null,
   "metadata": {},
   "outputs": [],
   "source": []
  },
  {
   "cell_type": "code",
   "execution_count": 38,
   "metadata": {},
   "outputs": [],
   "source": [
    "# Train on original data\n",
    "model.fit(features_train, target_train)\n",
    "y_pred_original = model.predict(features_val)"
   ]
  },
  {
   "cell_type": "code",
   "execution_count": null,
   "metadata": {},
   "outputs": [],
   "source": []
  },
  {
   "cell_type": "code",
   "execution_count": 39,
   "metadata": {},
   "outputs": [
    {
     "data": {
      "text/plain": [
       "'RMSE on Original Data:'"
      ]
     },
     "metadata": {},
     "output_type": "display_data"
    },
    {
     "data": {
      "text/plain": [
       "'RMSE: 0.36'"
      ]
     },
     "metadata": {},
     "output_type": "display_data"
    },
    {
     "data": {
      "text/plain": [
       "'R2: 0.43'"
      ]
     },
     "metadata": {},
     "output_type": "display_data"
    }
   ],
   "source": [
    "# Evaluate RMSE for original data\n",
    "display(\"RMSE on Original Data:\")\n",
    "eval_regressor(target_val, y_pred_original)"
   ]
  },
  {
   "cell_type": "code",
   "execution_count": null,
   "metadata": {},
   "outputs": [],
   "source": []
  },
  {
   "cell_type": "code",
   "execution_count": 40,
   "metadata": {},
   "outputs": [],
   "source": [
    "# Scale the data (using StandardScaler)\n",
    "scaler = sklearn.preprocessing.StandardScaler()"
   ]
  },
  {
   "cell_type": "code",
   "execution_count": null,
   "metadata": {},
   "outputs": [],
   "source": []
  },
  {
   "cell_type": "code",
   "execution_count": 41,
   "metadata": {},
   "outputs": [],
   "source": [
    "# Scale the training and validation sets\n",
    "features_train_scaled = scaler.fit_transform(features_train)\n",
    "features_val_scaled = scaler.transform(features_val)"
   ]
  },
  {
   "cell_type": "code",
   "execution_count": null,
   "metadata": {},
   "outputs": [],
   "source": []
  },
  {
   "cell_type": "code",
   "execution_count": 42,
   "metadata": {},
   "outputs": [],
   "source": [
    "# Train the model on the scaled data\n",
    "model.fit(features_train_scaled, target_train)\n",
    "y_pred_scaled = model.predict(features_val_scaled)"
   ]
  },
  {
   "cell_type": "code",
   "execution_count": null,
   "metadata": {},
   "outputs": [],
   "source": []
  },
  {
   "cell_type": "code",
   "execution_count": 43,
   "metadata": {},
   "outputs": [
    {
     "data": {
      "text/plain": [
       "'\\nRMSE on Scaled Data:'"
      ]
     },
     "metadata": {},
     "output_type": "display_data"
    },
    {
     "data": {
      "text/plain": [
       "'RMSE: 0.36'"
      ]
     },
     "metadata": {},
     "output_type": "display_data"
    },
    {
     "data": {
      "text/plain": [
       "'R2: 0.43'"
      ]
     },
     "metadata": {},
     "output_type": "display_data"
    }
   ],
   "source": [
    "# Evaluate RMSE for scaled data\n",
    "display(\"\\nRMSE on Scaled Data:\")\n",
    "eval_regressor(target_val, y_pred_scaled)"
   ]
  },
  {
   "cell_type": "code",
   "execution_count": null,
   "metadata": {},
   "outputs": [],
   "source": []
  },
  {
   "cell_type": "markdown",
   "metadata": {},
   "source": [
    "<div class=\"alert alert-success\">\n",
    "<b>Reviewer's comment V2</b>\n",
    "\n",
    "Good job!\n",
    "    \n",
    "</div>"
   ]
  },
  {
   "cell_type": "markdown",
   "metadata": {},
   "source": [
    "# Task 4. Obfuscating Data"
   ]
  },
  {
   "cell_type": "markdown",
   "metadata": {},
   "source": [
    "It best to obfuscate data by multiplying the numerical features (remember, they can be seen as the matrix $X$) by an invertible matrix $P$. \n",
    "\n",
    "$$\n",
    "X' = X \\times P\n",
    "$$\n",
    "\n",
    "Try to do that and check how the features' values will look like after the transformation. By the way, the intertible property is important here so make sure that $P$ is indeed invertible.\n",
    "\n",
    "You may want to review the 'Matrices and Matrix Operations -> Matrix Multiplication' lesson to recall the rule of matrix multiplication and its implementation with NumPy."
   ]
  },
  {
   "cell_type": "code",
   "execution_count": 44,
   "metadata": {},
   "outputs": [],
   "source": [
    "personal_info_column_list = ['gender', 'age', 'salary', 'family_members']\n",
    "df_pn = df[personal_info_column_list]"
   ]
  },
  {
   "cell_type": "code",
   "execution_count": 45,
   "metadata": {},
   "outputs": [],
   "source": [
    "X = df_pn.to_numpy()\n"
   ]
  },
  {
   "cell_type": "markdown",
   "metadata": {},
   "source": [
    "Generating a random matrix $P$."
   ]
  },
  {
   "cell_type": "code",
   "execution_count": 46,
   "metadata": {},
   "outputs": [],
   "source": [
    "rng = np.random.default_rng(seed=42)\n",
    "P = rng.random(size=(X.shape[1], X.shape[1]))"
   ]
  },
  {
   "cell_type": "markdown",
   "metadata": {},
   "source": [
    "Checking the matrix $P$ is invertible"
   ]
  },
  {
   "cell_type": "code",
   "execution_count": 47,
   "metadata": {},
   "outputs": [
    {
     "data": {
      "text/plain": [
       "'Matrix P is invertible.'"
      ]
     },
     "metadata": {},
     "output_type": "display_data"
    }
   ],
   "source": [
    "det_P = np.linalg.det(P)\n",
    "\n",
    "# the determinant is non-zero (for invertibility)\n",
    "if det_P != 0:\n",
    "    display(\"Matrix P is invertible.\")\n",
    "else:\n",
    "    display(\"Matrix P is not invertible.\")"
   ]
  },
  {
   "cell_type": "markdown",
   "metadata": {},
   "source": [
    "Can you guess the customers' ages or income after the transformation?"
   ]
  },
  {
   "cell_type": "markdown",
   "metadata": {},
   "source": [
    "**to guess the original ages or income after the transformation,it will be very difficult without the inverse matrix \n",
    "$\n",
    "$𝑃$\n",
    "^{-1}\n",
    "$ because:**\n",
    "\n",
    "**The transformation changes the numerical values of the features, making them less interpretable.**\n",
    "\n",
    "**Without knowing the exact transformation (the matrix \n",
    "$P$), there's no direct way to map the transformed values back to the original features (age, income).**"
   ]
  },
  {
   "cell_type": "markdown",
   "metadata": {},
   "source": [
    "<div class=\"alert alert-success\">\n",
    "<b>Reviewer's comment V1</b>\n",
    "\n",
    "Correct\n",
    "    \n",
    "</div>"
   ]
  },
  {
   "cell_type": "markdown",
   "metadata": {},
   "source": [
    "Can you recover the original data from $X'$ if you know $P$? Try to check that with calculations by moving $P$ from the right side of the formula above to the left one. The rules of matrix multiplcation are really helpful here."
   ]
  },
  {
   "cell_type": "markdown",
   "metadata": {},
   "source": [
    "**Yes, if you know the matrix\n",
    "$P$ and the transformed data matrix \n",
    "$𝑋'$,you can recover the original data \n",
    "$𝑋$ by multiplying \n",
    "$𝑋'$ by the inverse of the matrix \n",
    "$𝑃$(denoted\n",
    "$\n",
    "$𝑃$^{-1})\n",
    "$.**\n",
    "\n",
    "**The Formula:**\n",
    "\n",
    "**The transformation of the original data \n",
    "$X$ into the obfuscated data \n",
    "$𝑋'$\n",
    "is given by the equation:**\n",
    "\n",
    "**$𝑋'$ = $X$ ×$P$.**\n",
    "\n",
    "**Recovering the Original Data.**\n",
    "\n",
    "**Now,multiply both sides by\n",
    "$\n",
    "$𝑃$\n",
    "^{−1}\n",
    "$:\n",
    "$X'$ × \n",
    "$\n",
    "$P$\n",
    "^{-1} =\n",
    "$\n",
    "($X$ × $P$) ×\n",
    "$\n",
    "$P$\n",
    "^{−1}\n",
    "$.**\n",
    "\n",
    "**Since $𝑃$ ×\n",
    "$\n",
    "$𝑃$\n",
    "^{−1}\n",
    "$is the identity matrix $I$, this simplifies to:**\n",
    "\n",
    "**$X'$ ×\n",
    "$\n",
    "$P$ \n",
    "^{−1}\n",
    "$ = $X$ × $I$.**\n",
    "\n",
    "**multiplying any matrix by the identity matrix $I$ leaves the matrix unchanged.**\n",
    "\n",
    "**Final Result**\n",
    "\n",
    "**$X$ = $X'$ ×\n",
    "$\n",
    "$P$ \n",
    "^{−1}\n",
    "$.**\n",
    "\n",
    "\n",
    "\n"
   ]
  },
  {
   "cell_type": "markdown",
   "metadata": {},
   "source": [
    "Print all three cases for a few customers\n",
    "- The original data\n",
    "- The transformed one\n",
    "- The reversed (recovered) one"
   ]
  },
  {
   "cell_type": "code",
   "execution_count": 48,
   "metadata": {},
   "outputs": [
    {
     "data": {
      "text/plain": [
       "'Original data X (df_pn converted to NumPy):'"
      ]
     },
     "metadata": {},
     "output_type": "display_data"
    },
    {
     "data": {
      "text/plain": [
       "array([[1.00e+00, 4.10e+01, 4.96e+04, 1.00e+00],\n",
       "       [0.00e+00, 4.60e+01, 3.80e+04, 1.00e+00],\n",
       "       [0.00e+00, 2.90e+01, 2.10e+04, 0.00e+00],\n",
       "       ...,\n",
       "       [0.00e+00, 2.00e+01, 3.39e+04, 2.00e+00],\n",
       "       [1.00e+00, 2.20e+01, 3.27e+04, 3.00e+00],\n",
       "       [1.00e+00, 2.80e+01, 4.06e+04, 1.00e+00]])"
      ]
     },
     "metadata": {},
     "output_type": "display_data"
    },
    {
     "data": {
      "text/plain": [
       "'Transformation matrix P:'"
      ]
     },
     "metadata": {},
     "output_type": "display_data"
    },
    {
     "data": {
      "text/plain": [
       "array([[0.77395605, 0.43887844, 0.85859792, 0.69736803],\n",
       "       [0.09417735, 0.97562235, 0.7611397 , 0.78606431],\n",
       "       [0.12811363, 0.45038594, 0.37079802, 0.92676499],\n",
       "       [0.64386512, 0.82276161, 0.4434142 , 0.22723872]])"
      ]
     },
     "metadata": {},
     "output_type": "display_data"
    },
    {
     "data": {
      "text/plain": [
       "\"Transformed data X' (X_prime):\""
      ]
     },
     "metadata": {},
     "output_type": "display_data"
    },
    {
     "data": {
      "text/plain": [
       "array([[ 6359.71527314, 22380.40467609, 18424.09074184, 46000.69669016],\n",
       "       [ 4873.29406479, 17160.36702982, 14125.78076133, 35253.45577301],\n",
       "       [ 2693.11742928,  9486.397744  ,  7808.83156024, 19484.86063067],\n",
       "       ...,\n",
       "       [ 4346.2234249 , 15289.24126492, 12586.16264392, 31433.50888552],\n",
       "       [ 4194.09324155, 14751.9910242 , 12144.02930637, 30323.88763426],\n",
       "       [ 5205.46827354, 18314.24814446, 15077.01370762, 37649.59295455]])"
      ]
     },
     "metadata": {},
     "output_type": "display_data"
    },
    {
     "data": {
      "text/plain": [
       "'Recovered original data X:'"
      ]
     },
     "metadata": {},
     "output_type": "display_data"
    },
    {
     "data": {
      "text/plain": [
       "array([[ 1.00000000e+00,  4.10000000e+01,  4.96000000e+04,\n",
       "         1.00000000e+00],\n",
       "       [-4.47363596e-12,  4.60000000e+01,  3.80000000e+04,\n",
       "         1.00000000e+00],\n",
       "       [-2.51586878e-12,  2.90000000e+01,  2.10000000e+04,\n",
       "         9.52452315e-13],\n",
       "       ...,\n",
       "       [-1.92837871e-12,  2.00000000e+01,  3.39000000e+04,\n",
       "         2.00000000e+00],\n",
       "       [ 1.00000000e+00,  2.20000000e+01,  3.27000000e+04,\n",
       "         3.00000000e+00],\n",
       "       [ 1.00000000e+00,  2.80000000e+01,  4.06000000e+04,\n",
       "         1.00000000e+00]])"
      ]
     },
     "metadata": {},
     "output_type": "display_data"
    }
   ],
   "source": [
    "# compute the inverse of matrix P\n",
    "P_inv = np.linalg.inv(P)\n",
    "\n",
    "# create the transformed matrix X' by multiplying X with P\n",
    "X_prime = np.dot(X, P)\n",
    "\n",
    "# recover the original data X by multiplying X' with P_inv\n",
    "X_recovered = np.dot(X_prime, P_inv)\n",
    "\n",
    "# results\n",
    "display(\"Original data X (df_pn converted to NumPy):\")\n",
    "display(X)\n",
    "\n",
    "display(\"Transformation matrix P:\")\n",
    "display(P)\n",
    "\n",
    "display(\"Transformed data X' (X_prime):\")\n",
    "display(X_prime)\n",
    "\n",
    "display(\"Recovered original data X:\")\n",
    "display(X_recovered)"
   ]
  },
  {
   "cell_type": "markdown",
   "metadata": {},
   "source": [
    "You can probably see that some values are not exactly the same as they are in the original data. What might be the reason for that?"
   ]
  },
  {
   "cell_type": "markdown",
   "metadata": {},
   "source": [
    "**Computers do represent numbers in finite precision (limited number of digits). When performing matrix multiplication and calculating the inverse of a matrix, these operations can introduce rounding errors due to the limited precision of floating-point arithmetic.**"
   ]
  },
  {
   "cell_type": "markdown",
   "metadata": {},
   "source": [
    "<div class=\"alert alert-success\">\n",
    "<b>Reviewer's comment V1</b>\n",
    "\n",
    "Correct\n",
    "    \n",
    "</div>"
   ]
  },
  {
   "cell_type": "markdown",
   "metadata": {},
   "source": [
    "## Proof That Data Obfuscation Can Work with LR"
   ]
  },
  {
   "cell_type": "markdown",
   "metadata": {},
   "source": [
    "The regression task has been solved with linear regression in this project. Your next task is to prove _analytically_ that the given obfuscation method won't affect linear regression in terms of predicted values i.e. their values will remain the same. Can you believe that? Well, you don't have to, you should prove it!"
   ]
  },
  {
   "cell_type": "markdown",
   "metadata": {},
   "source": [
    "So, the data is obfuscated and there is $X \\times P$ instead of just $X$ now. Consequently, there are other weights $w_P$ as\n",
    "$$\n",
    "w = (X^T X)^{-1} X^T y \\quad \\Rightarrow \\quad w_P = [(XP)^T XP]^{-1} (XP)^T y\n",
    "$$\n",
    "\n",
    "How would $w$ and $w_P$ be linked if you simplify the formula for $w_P$ above? \n",
    "\n",
    "What would be predicted values with $w_P$? \n",
    "\n",
    "What does that mean for the quality of linear regression if you measure it with RMSE?\n",
    "\n",
    "Check Appendix B Properties of Matrices in the end of the notebook. There are useful formulas in there!\n",
    "\n",
    "No code is necessary in this section, only analytical explanation!"
   ]
  },
  {
   "cell_type": "markdown",
   "metadata": {},
   "source": [
    "**Answer**"
   ]
  },
  {
   "cell_type": "markdown",
   "metadata": {},
   "source": [
    "**How would $W$ and $W_𝑃$ be linked if you simplify the formula for $W_𝑃$ above?**\n",
    "\n",
    "**After simplifying the formulas for $W_p$ above, $W$ = $W_p$ $P$.**\n",
    "\n",
    "**$W$ and $W_p$ would be link by the matrix value($P$).**\n",
    "\n",
    "**What would be predicted values with $W_𝑃$?**\n",
    "\n",
    "**The predicted value with $W_p$ will equal to: $Y$ = $W_p$$X$$P$.** \n",
    "\n",
    "**What does that mean for the quality of linear regression if you measure it with RMSE?**\n",
    "\n",
    "**The RMSE will depend on how effectively $P$ transforms the input data and whether the transformation improves the model's fit to the data. If the transformation aligns with the true relationships in the data, the quality of the model (as measured by RMSE) can improve. However, if it introduces unnecessary complexity, RMSE could worsen.**\n",
    "\n",
    "\n"
   ]
  },
  {
   "cell_type": "code",
   "execution_count": null,
   "metadata": {},
   "outputs": [],
   "source": []
  },
  {
   "cell_type": "markdown",
   "metadata": {},
   "source": []
  },
  {
   "cell_type": "markdown",
   "metadata": {},
   "source": [
    "**Analytical proof**\n",
    "\n",
    "$\n",
    "W_p = [(XP)^T  XP]^{-1} (XP)^T y\\quad \\Rightarrow \\quad [P^T X^T (XP)]^{-1} (XP)^T Y \\quad \\Rightarrow \\quad\n",
    "$\n",
    "\n",
    "$\n",
    "W_P =  [P^T X^T XP]^{-1} (XP)^T Y \\quad \\Rightarrow \\quad [(P^T X^T X) P]^{-1} (XP)^T Y \\quad \\Rightarrow \\quad \n",
    "$\n",
    "\n",
    "$\n",
    "W_p = P^{-1} [P^T X^T X]^{-1} (XP)^T Y \\quad \\Rightarrow \\quad P^{-1}[P^T (X^T X)]^{-1} (XP)^T Y \\quad \\Rightarrow \\quad\n",
    "$\n",
    "\n",
    "$\n",
    "W_p = P^{-1} (X^T X)^{-1} (P^T)^{-1} (XP)^T Y \\quad \\Rightarrow \\quad P^{-1}(X^T X)^{-1} [(P^T)^{-1}(P^T)] (X)^T Y\n",
    "$\n",
    "\n",
    "$\n",
    "I = [(P^T)^{-1} (P^T)] \\quad \\Rightarrow \\quad P^{-1} (X^T X)^{-1} I X^T Y \\quad \\Rightarrow \\quad\n",
    "$\n",
    "\n",
    "$\n",
    "W_p = P^{-1} (X^T X)^{-1} X^T Y\n",
    "$\n",
    "\n",
    "\n",
    "**Let relate W_p and W.**\n",
    "\n",
    "$\n",
    "W = (X^T X)^{-1} X^T Y \\quad \\Rightarrow \\quad $W_p$ = P^{-1} W \\quad \\Rightarrow \\quad\n",
    "$ \n",
    "\n",
    "$\n",
    "W_P = P^{-1} (W) \\quad \\Rightarrow \\quad \n",
    "$\n",
    "\n",
    "**OR**\n",
    "\n",
    "$\n",
    "W = P W_p\n",
    "$\n",
    "\n",
    "\n",
    "\n",
    "**Let show that prediction in both cases are the same.**\n",
    "\n",
    "**Prediction using $W_p$:**\n",
    "\n",
    "**In this case the prediction is made using the transformed input ($X$ $P$) and a weight vector $W_p$.**\n",
    "\n",
    "$\n",
    "Y_p = ($X$ $P$) $W_p$\n",
    "$\n",
    "\n",
    "**Prediction using $W$:**\n",
    "\n",
    "**In this case the prediction is made using the original input ($X$) and a weight vector $W$.**\n",
    "\n",
    "$\n",
    "Y = ($X$) $W$\n",
    "$\n",
    "\n",
    "**However we know that $W$ = $P$ $W_p$, so.**\n",
    "\n",
    "$\n",
    "Y_p = ($X$ $P$) $W_p$ \n",
    "$\n",
    "\n",
    "$\n",
    "Y = ($X$) $W$ \\quad \\Rightarrow \\quad \n",
    "$\n",
    "\n",
    "$\n",
    "Y = ($X$) ($P$)($W_p$) = ($X$ $P$) $W_p$ = $Y_p$ \\quad \\Rightarrow \\quad $Y$ = $Y_p$\n",
    "$\n",
    "\n",
    "**I is an identity matrix**"
   ]
  },
  {
   "cell_type": "markdown",
   "metadata": {},
   "source": [
    "<div class=\"alert alert-success\">\n",
    "<b>Reviewer's comment V5</b>\n",
    "\n",
    "Everything is correct now. Well done!\n",
    "    \n",
    "</div>"
   ]
  },
  {
   "cell_type": "markdown",
   "metadata": {},
   "source": []
  },
  {
   "cell_type": "markdown",
   "metadata": {},
   "source": [
    "## Test Linear Regression With Data Obfuscation"
   ]
  },
  {
   "cell_type": "markdown",
   "metadata": {},
   "source": [
    "Now, let's prove Linear Regression can work computationally with the chosen obfuscation transformation.\n",
    "\n",
    "Build a procedure or a class that runs Linear Regression optionally with the obfuscation. You can use either a ready implementation of Linear Regression from sciki-learn or your own.\n",
    "\n",
    "Run Linear Regression for the original data and the obfuscated one, compare the predicted values and the RMSE, $R^2$ metric values. Is there any difference?"
   ]
  },
  {
   "cell_type": "markdown",
   "metadata": {},
   "source": [
    "**Procedure**\n",
    "\n",
    "- Create a square matrix $P$ of random numbers.\n",
    "- Check that it is invertible. If not, repeat the first point until we get an invertible matrix.\n",
    "- <! your comment here !>\n",
    "- Use $XP$ as the new feature matrix"
   ]
  },
  {
   "cell_type": "code",
   "execution_count": 49,
   "metadata": {},
   "outputs": [],
   "source": [
    "class LinearRegressionWithObfuscation:\n",
    "    def __init__(self, obfuscate=False, P=None):\n",
    "        self.obfuscate = obfuscate\n",
    "        self.P = P  # Transformation matrix (P)\n",
    "        self.weights = None\n",
    "        self.predictions = None\n",
    "    \n",
    "    def fit(self, X, y):\n",
    "        if self.obfuscate and self.P is not None:\n",
    "            X = X @ self.P  # Apply the obfuscation transformation\n",
    "        # Compute weights using the normal equation\n",
    "        self.weights = np.linalg.inv(X.T @ X) @ X.T @ y\n",
    "        \n",
    "    def predict(self, X):\n",
    "        if self.obfuscate and self.P is not None:\n",
    "            X = X @ self.P  # Apply the obfuscation transformation\n",
    "        return X @ self.weights\n",
    "    \n",
    "    def rmse(self, y_true, y_pred):\n",
    "        return np.sqrt(mean_squared_error(y_true, y_pred))\n",
    "    \n",
    "    def r2(self, y_true, y_pred):\n",
    "        return r2_score(y_true, y_pred)"
   ]
  },
  {
   "cell_type": "code",
   "execution_count": 50,
   "metadata": {},
   "outputs": [],
   "source": [
    "y = df['insurance_benefits'].to_numpy()"
   ]
  },
  {
   "cell_type": "code",
   "execution_count": 51,
   "metadata": {},
   "outputs": [],
   "source": [
    "# two models: one with obfuscation, one without\n",
    "model_original = LinearRegressionWithObfuscation(obfuscate=False)\n",
    "model_obfuscated = LinearRegressionWithObfuscation(obfuscate=True, P=P)"
   ]
  },
  {
   "cell_type": "code",
   "execution_count": 52,
   "metadata": {},
   "outputs": [],
   "source": [
    "# Fit models\n",
    "model_original.fit(X, y)\n",
    "model_obfuscated.fit(X, y)"
   ]
  },
  {
   "cell_type": "code",
   "execution_count": 53,
   "metadata": {},
   "outputs": [],
   "source": [
    "# Predict using both models\n",
    "y_pred_original = model_original.predict(X)\n",
    "y_pred_obfuscated = model_obfuscated.predict(X)\n"
   ]
  },
  {
   "cell_type": "code",
   "execution_count": 54,
   "metadata": {},
   "outputs": [],
   "source": [
    "# RMSE for both models\n",
    "rmse_original = model_original.rmse(y, y_pred_original)\n",
    "rmse_obfuscated = model_obfuscated.rmse(y, y_pred_obfuscated)"
   ]
  },
  {
   "cell_type": "code",
   "execution_count": 55,
   "metadata": {},
   "outputs": [],
   "source": [
    "# R2 for both models\n",
    "r2_original = model_original.r2(y, y_pred_original)\n",
    "r2_obfuscated = model_obfuscated.r2(y, y_pred_obfuscated)"
   ]
  },
  {
   "cell_type": "code",
   "execution_count": 56,
   "metadata": {},
   "outputs": [
    {
     "data": {
      "text/plain": [
       "'Original Model RMSE: 0.39042934975680826'"
      ]
     },
     "metadata": {},
     "output_type": "display_data"
    },
    {
     "data": {
      "text/plain": [
       "'Obfuscated Model RMSE: 0.39042934975680615'"
      ]
     },
     "metadata": {},
     "output_type": "display_data"
    },
    {
     "data": {
      "text/plain": [
       "'Original Model R2: 0.3066534317161703'"
      ]
     },
     "metadata": {},
     "output_type": "display_data"
    },
    {
     "data": {
      "text/plain": [
       "'Obfuscated Model R2: 0.30665343171617776'"
      ]
     },
     "metadata": {},
     "output_type": "display_data"
    }
   ],
   "source": [
    "# Output comparison\n",
    "display(f\"Original Model RMSE: {rmse_original}\")\n",
    "display(f\"Obfuscated Model RMSE: {rmse_obfuscated}\")\n",
    "display(f\"Original Model R2: {r2_original}\")\n",
    "display(f\"Obfuscated Model R2: {r2_obfuscated}\")"
   ]
  },
  {
   "cell_type": "markdown",
   "metadata": {},
   "source": [
    "<div class=\"alert alert-success\">\n",
    "<b>Reviewer's comment V1</b>\n",
    "\n",
    "Everything is correct here. Good job!\n",
    "    \n",
    "</div>"
   ]
  },
  {
   "cell_type": "markdown",
   "metadata": {},
   "source": [
    "# Conclusions"
   ]
  },
  {
   "cell_type": "markdown",
   "metadata": {},
   "source": [
    "**The RMSE values are very close for both the original and obfuscated models, indicating that the obfuscation transformation did not drastically improve or worsen the prediction accuracy.In general, a lower RMSE indicates that the model is better at predicting the target variable, but in this case, the transformation has little to no effect.**\n",
    "\n",
    "**We also notice that the $R2$ values are also very close between the two models. This means that the amount of variance explained by the model did not significantly change after applying the obfuscation transformation.For $R2$ close to 0.31 means that the model can explain roughly 31% of the variance in the target variable. The obfuscation matrix didn't help.** "
   ]
  },
  {
   "cell_type": "markdown",
   "metadata": {},
   "source": [
    "# Checklist"
   ]
  },
  {
   "cell_type": "markdown",
   "metadata": {},
   "source": [
    "Type 'x' to check. Then press Shift+Enter."
   ]
  },
  {
   "cell_type": "markdown",
   "metadata": {},
   "source": [
    "- [x]  Jupyter Notebook is open\n",
    "- [x ]  Code is error free\n",
    "- [x ]  The cells are arranged in order of logic and execution\n",
    "- [x]  Task 1 has been performed\n",
    "    - [x ]  There is the procedure that can return k similar customers for a given one\n",
    "    - [x ]  The procedure is tested for all four proposed combinations\n",
    "    - [ ]  The questions re the scaling/distances are answered\n",
    "- [ ]  Task 2 has been performed\n",
    "    - [ ]  The random classification model is built and tested for all for probability levels\n",
    "    - [ ]  The kNN classification model is built and tested for both the original data and the scaled one, the F1 metric is calculated.\n",
    "- [ ]  Task 3 has been performed\n",
    "    - [ ]  The linear tegression solution is implemented with matrix operations.\n",
    "    - [ ]  RMSE is calculated for the implemented solution.\n",
    "- [ ]  Task 4 has been performed\n",
    "    - [ ]  The data is obfuscated with a random and invertible matrix P\n",
    "    - [ ]  The obfuscated data is recoved, few examples are printed out\n",
    "    - [ ]  The analytical proof that the transformation does not affect RMSE is provided \n",
    "    - [ ]  The computational proof that the transformation does not affect RMSE is provided\n",
    "- [ ]  Conclusions have been made"
   ]
  },
  {
   "cell_type": "markdown",
   "metadata": {},
   "source": [
    "# Appendices \n",
    "\n",
    "## Appendix A: Writing Formulas in Jupyter Notebooks"
   ]
  },
  {
   "cell_type": "markdown",
   "metadata": {},
   "source": [
    "You can write formulas in your Jupyter Notebook in a markup language provided by a high-quality publishing system called $\\LaTeX$ (pronounced \"Lah-tech\"), and they will look like formulas in textbooks.\n",
    "\n",
    "To put a formula in a text, put the dollar sign (\\\\$) before and after the formula's text e.g. $\\frac{1}{2} \\times \\frac{3}{2} = \\frac{3}{4}$ or $y = x^2, x \\ge 1$.\n",
    "\n",
    "If a formula should be in its own paragraph, put the double dollar sign (\\\\$\\\\$) before and after the formula text e.g.\n",
    "\n",
    "$$\n",
    "\\bar{x} = \\frac{1}{n}\\sum_{i=1}^{n} x_i.\n",
    "$$\n",
    "\n",
    "The markup language of [LaTeX](https://en.wikipedia.org/wiki/LaTeX) is very popular among people who use formulas in their articles, books and texts. It can be complex but its basics are easy. Check this two page [cheatsheet](http://tug.ctan.org/info/undergradmath/undergradmath.pdf) for learning how to compose the most common formulas."
   ]
  },
  {
   "cell_type": "markdown",
   "metadata": {},
   "source": [
    "## Appendix B: Properties of Matrices"
   ]
  },
  {
   "cell_type": "markdown",
   "metadata": {},
   "source": [
    "Matrices have many properties in Linear Algebra. A few of them are listed here which can help with the analytical proof in this project."
   ]
  },
  {
   "cell_type": "markdown",
   "metadata": {},
   "source": [
    "<table>\n",
    "<tr>\n",
    "<td>Distributivity</td><td>$A(B+C)=AB+AC$</td>\n",
    "</tr>\n",
    "<tr>\n",
    "<td>Non-commutativity</td><td>$AB \\neq BA$</td>\n",
    "</tr>\n",
    "<tr>\n",
    "<td>Associative property of multiplication</td><td>$(AB)C = A(BC)$</td>\n",
    "</tr>\n",
    "<tr>\n",
    "<td>Multiplicative identity property</td><td>$IA = AI = A$</td>\n",
    "</tr>\n",
    "<tr>\n",
    "<td></td><td>$A^{-1}A = AA^{-1} = I$\n",
    "</td>\n",
    "</tr>    \n",
    "<tr>\n",
    "<td></td><td>$(AB)^{-1} = B^{-1}A^{-1}$</td>\n",
    "</tr>    \n",
    "<tr>\n",
    "<td>Reversivity of the transpose of a product of matrices,</td><td>$(AB)^T = B^TA^T$</td>\n",
    "</tr>    \n",
    "</table>"
   ]
  },
  {
   "cell_type": "code",
   "execution_count": null,
   "metadata": {},
   "outputs": [],
   "source": []
  }
 ],
 "metadata": {
  "ExecuteTimeLog": [
   {
    "duration": 3253,
    "start_time": "2025-04-03T02:43:42.128Z"
   },
   {
    "duration": 13,
    "start_time": "2025-04-03T02:43:45.384Z"
   },
   {
    "duration": 4,
    "start_time": "2025-04-03T02:43:45.398Z"
   },
   {
    "duration": 21,
    "start_time": "2025-04-03T02:43:45.405Z"
   },
   {
    "duration": 11,
    "start_time": "2025-04-03T02:43:45.427Z"
   },
   {
    "duration": 2,
    "start_time": "2025-04-03T02:43:45.441Z"
   },
   {
    "duration": 2,
    "start_time": "2025-04-03T02:43:45.445Z"
   },
   {
    "duration": 3,
    "start_time": "2025-04-03T02:43:45.449Z"
   },
   {
    "duration": 2715,
    "start_time": "2025-04-03T02:43:45.453Z"
   },
   {
    "duration": 3,
    "start_time": "2025-04-03T02:43:48.171Z"
   },
   {
    "duration": 6,
    "start_time": "2025-04-03T02:43:48.175Z"
   },
   {
    "duration": 0,
    "start_time": "2025-04-03T02:43:48.183Z"
   },
   {
    "duration": 0,
    "start_time": "2025-04-03T02:43:48.184Z"
   },
   {
    "duration": 0,
    "start_time": "2025-04-03T02:43:48.185Z"
   },
   {
    "duration": 0,
    "start_time": "2025-04-03T02:43:48.187Z"
   },
   {
    "duration": 0,
    "start_time": "2025-04-03T02:43:48.188Z"
   },
   {
    "duration": 0,
    "start_time": "2025-04-03T02:43:48.189Z"
   },
   {
    "duration": 0,
    "start_time": "2025-04-03T02:43:48.283Z"
   },
   {
    "duration": 0,
    "start_time": "2025-04-03T02:43:48.284Z"
   },
   {
    "duration": 0,
    "start_time": "2025-04-03T02:43:48.285Z"
   },
   {
    "duration": 0,
    "start_time": "2025-04-03T02:43:48.287Z"
   },
   {
    "duration": 0,
    "start_time": "2025-04-03T02:43:48.288Z"
   },
   {
    "duration": 0,
    "start_time": "2025-04-03T02:43:48.289Z"
   },
   {
    "duration": 0,
    "start_time": "2025-04-03T02:43:48.290Z"
   },
   {
    "duration": 6,
    "start_time": "2025-04-03T02:52:12.720Z"
   },
   {
    "duration": 5,
    "start_time": "2025-04-03T02:52:53.570Z"
   },
   {
    "duration": 9,
    "start_time": "2025-04-03T02:57:13.215Z"
   },
   {
    "duration": 4,
    "start_time": "2025-04-03T02:58:38.946Z"
   },
   {
    "duration": 5,
    "start_time": "2025-04-03T03:05:01.462Z"
   },
   {
    "duration": 7,
    "start_time": "2025-04-03T03:05:24.537Z"
   },
   {
    "duration": 5,
    "start_time": "2025-04-03T03:05:25.280Z"
   },
   {
    "duration": 6,
    "start_time": "2025-04-03T03:05:26.413Z"
   },
   {
    "duration": 657,
    "start_time": "2025-04-03T03:08:52.824Z"
   },
   {
    "duration": 40,
    "start_time": "2025-04-03T03:08:53.781Z"
   },
   {
    "duration": 46,
    "start_time": "2025-04-03T03:10:06.246Z"
   },
   {
    "duration": 1095,
    "start_time": "2025-04-03T03:10:31.796Z"
   },
   {
    "duration": 8,
    "start_time": "2025-04-03T03:10:32.893Z"
   },
   {
    "duration": 4,
    "start_time": "2025-04-03T03:10:32.903Z"
   },
   {
    "duration": 20,
    "start_time": "2025-04-03T03:10:32.909Z"
   },
   {
    "duration": 6,
    "start_time": "2025-04-03T03:10:32.932Z"
   },
   {
    "duration": 4,
    "start_time": "2025-04-03T03:10:32.940Z"
   },
   {
    "duration": 11,
    "start_time": "2025-04-03T03:10:32.946Z"
   },
   {
    "duration": 10,
    "start_time": "2025-04-03T03:10:32.959Z"
   },
   {
    "duration": 3,
    "start_time": "2025-04-03T03:10:32.971Z"
   },
   {
    "duration": 5,
    "start_time": "2025-04-03T03:10:32.975Z"
   },
   {
    "duration": 42,
    "start_time": "2025-04-03T03:10:32.982Z"
   },
   {
    "duration": 2768,
    "start_time": "2025-04-03T03:10:33.026Z"
   },
   {
    "duration": 3,
    "start_time": "2025-04-03T03:10:35.796Z"
   },
   {
    "duration": 5,
    "start_time": "2025-04-03T03:10:35.803Z"
   },
   {
    "duration": 0,
    "start_time": "2025-04-03T03:10:35.810Z"
   },
   {
    "duration": 0,
    "start_time": "2025-04-03T03:10:35.811Z"
   },
   {
    "duration": 0,
    "start_time": "2025-04-03T03:10:35.813Z"
   },
   {
    "duration": 0,
    "start_time": "2025-04-03T03:10:35.814Z"
   },
   {
    "duration": 0,
    "start_time": "2025-04-03T03:10:35.824Z"
   },
   {
    "duration": 0,
    "start_time": "2025-04-03T03:10:35.825Z"
   },
   {
    "duration": 0,
    "start_time": "2025-04-03T03:10:35.825Z"
   },
   {
    "duration": 0,
    "start_time": "2025-04-03T03:10:35.826Z"
   },
   {
    "duration": 0,
    "start_time": "2025-04-03T03:10:35.828Z"
   },
   {
    "duration": 0,
    "start_time": "2025-04-03T03:10:35.830Z"
   },
   {
    "duration": 0,
    "start_time": "2025-04-03T03:10:35.831Z"
   },
   {
    "duration": 0,
    "start_time": "2025-04-03T03:10:35.833Z"
   },
   {
    "duration": 0,
    "start_time": "2025-04-03T03:10:35.834Z"
   },
   {
    "duration": 242,
    "start_time": "2025-04-03T03:12:21.086Z"
   },
   {
    "duration": 8,
    "start_time": "2025-04-03T03:12:29.333Z"
   },
   {
    "duration": 5,
    "start_time": "2025-04-03T03:12:30.036Z"
   },
   {
    "duration": 7,
    "start_time": "2025-04-03T03:12:30.786Z"
   },
   {
    "duration": 6,
    "start_time": "2025-04-03T03:12:32.018Z"
   },
   {
    "duration": 15,
    "start_time": "2025-04-03T03:12:32.898Z"
   },
   {
    "duration": 9,
    "start_time": "2025-04-03T03:12:54.254Z"
   },
   {
    "duration": 4,
    "start_time": "2025-04-03T03:14:26.601Z"
   },
   {
    "duration": 8,
    "start_time": "2025-04-03T03:14:32.976Z"
   },
   {
    "duration": 9,
    "start_time": "2025-04-03T03:14:44.234Z"
   },
   {
    "duration": 3,
    "start_time": "2025-04-03T03:14:47.763Z"
   },
   {
    "duration": 4,
    "start_time": "2025-04-03T03:14:53.484Z"
   },
   {
    "duration": 34,
    "start_time": "2025-04-03T03:17:09.574Z"
   },
   {
    "duration": 3,
    "start_time": "2025-04-03T03:49:47.308Z"
   },
   {
    "duration": 6,
    "start_time": "2025-04-03T03:49:48.181Z"
   },
   {
    "duration": 4,
    "start_time": "2025-04-03T04:02:41.946Z"
   },
   {
    "duration": 4,
    "start_time": "2025-04-03T04:02:42.644Z"
   },
   {
    "duration": 9,
    "start_time": "2025-04-03T04:02:43.594Z"
   },
   {
    "duration": 6,
    "start_time": "2025-04-03T04:14:46.457Z"
   },
   {
    "duration": 4,
    "start_time": "2025-04-03T04:23:33.185Z"
   },
   {
    "duration": 5,
    "start_time": "2025-04-03T04:23:34.049Z"
   },
   {
    "duration": 19,
    "start_time": "2025-04-03T04:24:36.010Z"
   },
   {
    "duration": 4,
    "start_time": "2025-04-03T04:57:47.340Z"
   },
   {
    "duration": 345,
    "start_time": "2025-04-03T04:58:12.653Z"
   },
   {
    "duration": 4,
    "start_time": "2025-04-03T05:00:11.785Z"
   },
   {
    "duration": 9,
    "start_time": "2025-04-03T05:00:13.948Z"
   },
   {
    "duration": 9,
    "start_time": "2025-04-03T05:00:22.093Z"
   },
   {
    "duration": 4,
    "start_time": "2025-04-03T05:43:54.227Z"
   },
   {
    "duration": 4,
    "start_time": "2025-04-03T05:52:56.557Z"
   },
   {
    "duration": 3,
    "start_time": "2025-04-03T06:14:06.151Z"
   },
   {
    "duration": 4,
    "start_time": "2025-04-03T06:14:08.637Z"
   },
   {
    "duration": 15,
    "start_time": "2025-04-03T06:15:30.589Z"
   },
   {
    "duration": 5,
    "start_time": "2025-04-03T06:18:52.312Z"
   },
   {
    "duration": 16,
    "start_time": "2025-04-03T06:18:53.230Z"
   },
   {
    "duration": 972,
    "start_time": "2025-04-03T06:28:01.651Z"
   },
   {
    "duration": 9,
    "start_time": "2025-04-03T06:28:02.625Z"
   },
   {
    "duration": 5,
    "start_time": "2025-04-03T06:28:02.635Z"
   },
   {
    "duration": 5,
    "start_time": "2025-04-03T06:28:02.643Z"
   },
   {
    "duration": 5,
    "start_time": "2025-04-03T06:28:02.650Z"
   },
   {
    "duration": 9,
    "start_time": "2025-04-03T06:28:02.656Z"
   },
   {
    "duration": 3,
    "start_time": "2025-04-03T06:28:02.667Z"
   },
   {
    "duration": 9,
    "start_time": "2025-04-03T06:28:02.672Z"
   },
   {
    "duration": 3,
    "start_time": "2025-04-03T06:28:02.682Z"
   },
   {
    "duration": 38,
    "start_time": "2025-04-03T06:28:02.687Z"
   },
   {
    "duration": 8,
    "start_time": "2025-04-03T06:28:02.726Z"
   },
   {
    "duration": 17,
    "start_time": "2025-04-03T06:28:02.736Z"
   },
   {
    "duration": 4,
    "start_time": "2025-04-03T06:28:02.754Z"
   },
   {
    "duration": 4,
    "start_time": "2025-04-03T06:28:02.763Z"
   },
   {
    "duration": 18,
    "start_time": "2025-04-03T06:28:02.768Z"
   },
   {
    "duration": 2637,
    "start_time": "2025-04-03T06:28:02.787Z"
   },
   {
    "duration": 3,
    "start_time": "2025-04-03T06:28:05.426Z"
   },
   {
    "duration": 5,
    "start_time": "2025-04-03T06:28:05.432Z"
   },
   {
    "duration": 245,
    "start_time": "2025-04-03T06:28:05.439Z"
   },
   {
    "duration": 0,
    "start_time": "2025-04-03T06:28:05.686Z"
   },
   {
    "duration": 0,
    "start_time": "2025-04-03T06:28:05.688Z"
   },
   {
    "duration": 0,
    "start_time": "2025-04-03T06:28:05.690Z"
   },
   {
    "duration": 0,
    "start_time": "2025-04-03T06:28:05.691Z"
   },
   {
    "duration": 0,
    "start_time": "2025-04-03T06:28:05.692Z"
   },
   {
    "duration": 0,
    "start_time": "2025-04-03T06:28:05.694Z"
   },
   {
    "duration": 0,
    "start_time": "2025-04-03T06:28:05.695Z"
   },
   {
    "duration": 0,
    "start_time": "2025-04-03T06:28:05.697Z"
   },
   {
    "duration": 0,
    "start_time": "2025-04-03T06:28:05.698Z"
   },
   {
    "duration": 0,
    "start_time": "2025-04-03T06:28:05.700Z"
   },
   {
    "duration": 0,
    "start_time": "2025-04-03T06:28:05.701Z"
   },
   {
    "duration": 1,
    "start_time": "2025-04-03T06:28:05.701Z"
   },
   {
    "duration": 0,
    "start_time": "2025-04-03T06:28:05.702Z"
   },
   {
    "duration": 966,
    "start_time": "2025-04-03T06:30:36.466Z"
   },
   {
    "duration": 8,
    "start_time": "2025-04-03T06:30:37.434Z"
   },
   {
    "duration": 4,
    "start_time": "2025-04-03T06:30:37.443Z"
   },
   {
    "duration": 6,
    "start_time": "2025-04-03T06:30:37.449Z"
   },
   {
    "duration": 5,
    "start_time": "2025-04-03T06:30:37.457Z"
   },
   {
    "duration": 8,
    "start_time": "2025-04-03T06:30:37.463Z"
   },
   {
    "duration": 4,
    "start_time": "2025-04-03T06:30:37.472Z"
   },
   {
    "duration": 47,
    "start_time": "2025-04-03T06:30:37.477Z"
   },
   {
    "duration": 3,
    "start_time": "2025-04-03T06:30:37.526Z"
   },
   {
    "duration": 5,
    "start_time": "2025-04-03T06:30:37.530Z"
   },
   {
    "duration": 9,
    "start_time": "2025-04-03T06:30:37.536Z"
   },
   {
    "duration": 18,
    "start_time": "2025-04-03T06:30:37.546Z"
   },
   {
    "duration": 4,
    "start_time": "2025-04-03T06:30:37.565Z"
   },
   {
    "duration": 4,
    "start_time": "2025-04-03T06:30:37.573Z"
   },
   {
    "duration": 55,
    "start_time": "2025-04-03T06:30:37.578Z"
   },
   {
    "duration": 2539,
    "start_time": "2025-04-03T06:30:37.634Z"
   },
   {
    "duration": 2,
    "start_time": "2025-04-03T06:30:40.175Z"
   },
   {
    "duration": 4,
    "start_time": "2025-04-03T06:30:40.179Z"
   },
   {
    "duration": 46,
    "start_time": "2025-04-03T06:30:40.185Z"
   },
   {
    "duration": 9,
    "start_time": "2025-04-03T06:30:40.233Z"
   },
   {
    "duration": 8,
    "start_time": "2025-04-03T06:30:40.244Z"
   },
   {
    "duration": 3,
    "start_time": "2025-04-03T06:30:40.254Z"
   },
   {
    "duration": 0,
    "start_time": "2025-04-03T06:30:40.259Z"
   },
   {
    "duration": 0,
    "start_time": "2025-04-03T06:30:40.260Z"
   },
   {
    "duration": 0,
    "start_time": "2025-04-03T06:30:40.262Z"
   },
   {
    "duration": 0,
    "start_time": "2025-04-03T06:30:40.263Z"
   },
   {
    "duration": 0,
    "start_time": "2025-04-03T06:30:40.264Z"
   },
   {
    "duration": 0,
    "start_time": "2025-04-03T06:30:40.265Z"
   },
   {
    "duration": 0,
    "start_time": "2025-04-03T06:30:40.267Z"
   },
   {
    "duration": 0,
    "start_time": "2025-04-03T06:30:40.268Z"
   },
   {
    "duration": 0,
    "start_time": "2025-04-03T06:30:40.270Z"
   },
   {
    "duration": 0,
    "start_time": "2025-04-03T06:30:40.271Z"
   },
   {
    "duration": 11,
    "start_time": "2025-04-03T06:39:06.005Z"
   },
   {
    "duration": 9,
    "start_time": "2025-04-03T06:40:24.041Z"
   },
   {
    "duration": 9,
    "start_time": "2025-04-03T06:44:25.441Z"
   },
   {
    "duration": 27,
    "start_time": "2025-04-03T06:51:42.304Z"
   },
   {
    "duration": 27,
    "start_time": "2025-04-03T06:52:30.836Z"
   },
   {
    "duration": 15,
    "start_time": "2025-04-03T07:01:31.392Z"
   },
   {
    "duration": 14,
    "start_time": "2025-04-03T07:04:27.510Z"
   },
   {
    "duration": 165,
    "start_time": "2025-04-04T03:34:56.404Z"
   },
   {
    "duration": 2646,
    "start_time": "2025-04-04T03:35:06.198Z"
   },
   {
    "duration": 10,
    "start_time": "2025-04-04T03:35:08.847Z"
   },
   {
    "duration": 4,
    "start_time": "2025-04-04T03:35:08.858Z"
   },
   {
    "duration": 5,
    "start_time": "2025-04-04T03:35:08.864Z"
   },
   {
    "duration": 5,
    "start_time": "2025-04-04T03:35:08.872Z"
   },
   {
    "duration": 9,
    "start_time": "2025-04-04T03:35:08.878Z"
   },
   {
    "duration": 3,
    "start_time": "2025-04-04T03:35:08.889Z"
   },
   {
    "duration": 39,
    "start_time": "2025-04-04T03:35:08.893Z"
   },
   {
    "duration": 10,
    "start_time": "2025-04-04T03:35:08.934Z"
   },
   {
    "duration": 3,
    "start_time": "2025-04-04T03:35:08.946Z"
   },
   {
    "duration": 4,
    "start_time": "2025-04-04T03:35:08.952Z"
   },
   {
    "duration": 9,
    "start_time": "2025-04-04T03:35:08.957Z"
   },
   {
    "duration": 25,
    "start_time": "2025-04-04T03:35:08.968Z"
   },
   {
    "duration": 6,
    "start_time": "2025-04-04T03:35:08.999Z"
   },
   {
    "duration": 5,
    "start_time": "2025-04-04T03:35:09.032Z"
   },
   {
    "duration": 18,
    "start_time": "2025-04-04T03:35:09.039Z"
   },
   {
    "duration": 2587,
    "start_time": "2025-04-04T03:35:09.059Z"
   },
   {
    "duration": 2,
    "start_time": "2025-04-04T03:35:11.648Z"
   },
   {
    "duration": 5,
    "start_time": "2025-04-04T03:35:11.652Z"
   },
   {
    "duration": 112,
    "start_time": "2025-04-04T03:35:11.658Z"
   },
   {
    "duration": 9,
    "start_time": "2025-04-04T03:35:11.771Z"
   },
   {
    "duration": 8,
    "start_time": "2025-04-04T03:35:11.781Z"
   },
   {
    "duration": 25,
    "start_time": "2025-04-04T03:35:11.790Z"
   },
   {
    "duration": 8,
    "start_time": "2025-04-04T03:35:11.832Z"
   },
   {
    "duration": 12,
    "start_time": "2025-04-04T03:35:11.842Z"
   },
   {
    "duration": 13,
    "start_time": "2025-04-04T03:35:11.856Z"
   },
   {
    "duration": 6,
    "start_time": "2025-04-04T03:35:11.871Z"
   },
   {
    "duration": 0,
    "start_time": "2025-04-04T03:35:11.879Z"
   },
   {
    "duration": 0,
    "start_time": "2025-04-04T03:35:11.880Z"
   },
   {
    "duration": 0,
    "start_time": "2025-04-04T03:35:11.882Z"
   },
   {
    "duration": 0,
    "start_time": "2025-04-04T03:35:11.883Z"
   },
   {
    "duration": 0,
    "start_time": "2025-04-04T03:35:11.885Z"
   },
   {
    "duration": 0,
    "start_time": "2025-04-04T03:35:11.886Z"
   },
   {
    "duration": 0,
    "start_time": "2025-04-04T03:35:11.887Z"
   },
   {
    "duration": 0,
    "start_time": "2025-04-04T03:35:11.889Z"
   },
   {
    "duration": 0,
    "start_time": "2025-04-04T03:35:11.890Z"
   },
   {
    "duration": 0,
    "start_time": "2025-04-04T03:35:11.932Z"
   },
   {
    "duration": 7,
    "start_time": "2025-04-04T03:36:15.109Z"
   },
   {
    "duration": 7,
    "start_time": "2025-04-04T03:37:59.825Z"
   },
   {
    "duration": 946,
    "start_time": "2025-04-04T04:47:57.610Z"
   },
   {
    "duration": 8,
    "start_time": "2025-04-04T04:47:58.559Z"
   },
   {
    "duration": 5,
    "start_time": "2025-04-04T04:47:58.568Z"
   },
   {
    "duration": 6,
    "start_time": "2025-04-04T04:47:58.576Z"
   },
   {
    "duration": 6,
    "start_time": "2025-04-04T04:47:58.585Z"
   },
   {
    "duration": 9,
    "start_time": "2025-04-04T04:47:58.593Z"
   },
   {
    "duration": 4,
    "start_time": "2025-04-04T04:47:58.603Z"
   },
   {
    "duration": 11,
    "start_time": "2025-04-04T04:47:58.631Z"
   },
   {
    "duration": 3,
    "start_time": "2025-04-04T04:47:58.643Z"
   },
   {
    "duration": 4,
    "start_time": "2025-04-04T04:47:58.650Z"
   },
   {
    "duration": 8,
    "start_time": "2025-04-04T04:47:58.655Z"
   },
   {
    "duration": 17,
    "start_time": "2025-04-04T04:47:58.665Z"
   },
   {
    "duration": 4,
    "start_time": "2025-04-04T04:47:58.684Z"
   },
   {
    "duration": 5,
    "start_time": "2025-04-04T04:47:58.689Z"
   },
   {
    "duration": 2590,
    "start_time": "2025-04-04T04:47:58.695Z"
   },
   {
    "duration": 2,
    "start_time": "2025-04-04T04:48:01.288Z"
   },
   {
    "duration": 4,
    "start_time": "2025-04-04T04:48:01.294Z"
   },
   {
    "duration": 705,
    "start_time": "2025-04-04T04:48:01.300Z"
   },
   {
    "duration": 0,
    "start_time": "2025-04-04T04:48:02.007Z"
   },
   {
    "duration": 0,
    "start_time": "2025-04-04T04:48:02.008Z"
   },
   {
    "duration": 0,
    "start_time": "2025-04-04T04:48:02.009Z"
   },
   {
    "duration": 0,
    "start_time": "2025-04-04T04:48:02.011Z"
   },
   {
    "duration": 0,
    "start_time": "2025-04-04T04:48:02.012Z"
   },
   {
    "duration": 0,
    "start_time": "2025-04-04T04:48:02.013Z"
   },
   {
    "duration": 0,
    "start_time": "2025-04-04T04:48:02.014Z"
   },
   {
    "duration": 0,
    "start_time": "2025-04-04T04:48:02.016Z"
   },
   {
    "duration": 0,
    "start_time": "2025-04-04T04:48:02.031Z"
   },
   {
    "duration": 0,
    "start_time": "2025-04-04T04:48:02.032Z"
   },
   {
    "duration": 0,
    "start_time": "2025-04-04T04:48:02.033Z"
   },
   {
    "duration": 0,
    "start_time": "2025-04-04T04:48:02.033Z"
   },
   {
    "duration": 0,
    "start_time": "2025-04-04T04:48:02.034Z"
   },
   {
    "duration": 0,
    "start_time": "2025-04-04T04:48:02.036Z"
   },
   {
    "duration": 0,
    "start_time": "2025-04-04T04:48:02.037Z"
   },
   {
    "duration": 0,
    "start_time": "2025-04-04T04:48:02.038Z"
   },
   {
    "duration": 0,
    "start_time": "2025-04-04T04:48:02.039Z"
   },
   {
    "duration": 0,
    "start_time": "2025-04-04T04:48:02.040Z"
   },
   {
    "duration": 57,
    "start_time": "2025-04-04T05:00:18.255Z"
   },
   {
    "duration": 31,
    "start_time": "2025-04-04T05:01:58.024Z"
   },
   {
    "duration": 1038,
    "start_time": "2025-04-04T05:03:47.296Z"
   },
   {
    "duration": 9,
    "start_time": "2025-04-04T05:03:48.336Z"
   },
   {
    "duration": 5,
    "start_time": "2025-04-04T05:03:48.346Z"
   },
   {
    "duration": 7,
    "start_time": "2025-04-04T05:03:48.353Z"
   },
   {
    "duration": 5,
    "start_time": "2025-04-04T05:03:48.364Z"
   },
   {
    "duration": 9,
    "start_time": "2025-04-04T05:03:48.371Z"
   },
   {
    "duration": 5,
    "start_time": "2025-04-04T05:03:48.382Z"
   },
   {
    "duration": 43,
    "start_time": "2025-04-04T05:03:48.388Z"
   },
   {
    "duration": 4,
    "start_time": "2025-04-04T05:03:48.434Z"
   },
   {
    "duration": 4,
    "start_time": "2025-04-04T05:03:48.440Z"
   },
   {
    "duration": 10,
    "start_time": "2025-04-04T05:03:48.446Z"
   },
   {
    "duration": 19,
    "start_time": "2025-04-04T05:03:48.458Z"
   },
   {
    "duration": 5,
    "start_time": "2025-04-04T05:03:48.478Z"
   },
   {
    "duration": 5,
    "start_time": "2025-04-04T05:03:48.487Z"
   },
   {
    "duration": 2696,
    "start_time": "2025-04-04T05:03:48.532Z"
   },
   {
    "duration": 3,
    "start_time": "2025-04-04T05:03:51.230Z"
   },
   {
    "duration": 4,
    "start_time": "2025-04-04T05:03:51.235Z"
   },
   {
    "duration": 263,
    "start_time": "2025-04-04T05:03:51.241Z"
   },
   {
    "duration": 0,
    "start_time": "2025-04-04T05:03:51.506Z"
   },
   {
    "duration": 0,
    "start_time": "2025-04-04T05:03:51.507Z"
   },
   {
    "duration": 0,
    "start_time": "2025-04-04T05:03:51.508Z"
   },
   {
    "duration": 0,
    "start_time": "2025-04-04T05:03:51.509Z"
   },
   {
    "duration": 0,
    "start_time": "2025-04-04T05:03:51.510Z"
   },
   {
    "duration": 1,
    "start_time": "2025-04-04T05:03:51.511Z"
   },
   {
    "duration": 0,
    "start_time": "2025-04-04T05:03:51.513Z"
   },
   {
    "duration": 0,
    "start_time": "2025-04-04T05:03:51.514Z"
   },
   {
    "duration": 0,
    "start_time": "2025-04-04T05:03:51.531Z"
   },
   {
    "duration": 0,
    "start_time": "2025-04-04T05:03:51.532Z"
   },
   {
    "duration": 0,
    "start_time": "2025-04-04T05:03:51.533Z"
   },
   {
    "duration": 0,
    "start_time": "2025-04-04T05:03:51.534Z"
   },
   {
    "duration": 0,
    "start_time": "2025-04-04T05:03:51.535Z"
   },
   {
    "duration": 0,
    "start_time": "2025-04-04T05:03:51.536Z"
   },
   {
    "duration": 0,
    "start_time": "2025-04-04T05:03:51.539Z"
   },
   {
    "duration": 0,
    "start_time": "2025-04-04T05:03:51.540Z"
   },
   {
    "duration": 0,
    "start_time": "2025-04-04T05:03:51.541Z"
   },
   {
    "duration": 0,
    "start_time": "2025-04-04T05:03:51.543Z"
   },
   {
    "duration": 19,
    "start_time": "2025-04-04T05:05:40.088Z"
   },
   {
    "duration": 19,
    "start_time": "2025-04-04T05:10:50.192Z"
   },
   {
    "duration": 18,
    "start_time": "2025-04-04T05:15:31.826Z"
   },
   {
    "duration": 19,
    "start_time": "2025-04-04T05:25:03.049Z"
   },
   {
    "duration": 23,
    "start_time": "2025-04-04T05:27:01.560Z"
   },
   {
    "duration": 19,
    "start_time": "2025-04-04T05:34:15.172Z"
   },
   {
    "duration": 31,
    "start_time": "2025-04-04T05:46:33.703Z"
   },
   {
    "duration": 39,
    "start_time": "2025-04-04T05:48:31.241Z"
   },
   {
    "duration": 30,
    "start_time": "2025-04-04T05:54:45.411Z"
   },
   {
    "duration": 37,
    "start_time": "2025-04-04T05:56:07.408Z"
   },
   {
    "duration": 9,
    "start_time": "2025-04-04T05:58:12.903Z"
   },
   {
    "duration": 7,
    "start_time": "2025-04-04T05:58:13.651Z"
   },
   {
    "duration": 993,
    "start_time": "2025-04-04T06:04:54.986Z"
   },
   {
    "duration": 7,
    "start_time": "2025-04-04T06:04:55.981Z"
   },
   {
    "duration": 5,
    "start_time": "2025-04-04T06:04:55.990Z"
   },
   {
    "duration": 5,
    "start_time": "2025-04-04T06:04:55.998Z"
   },
   {
    "duration": 5,
    "start_time": "2025-04-04T06:04:56.004Z"
   },
   {
    "duration": 27,
    "start_time": "2025-04-04T06:04:56.011Z"
   },
   {
    "duration": 3,
    "start_time": "2025-04-04T06:04:56.040Z"
   },
   {
    "duration": 10,
    "start_time": "2025-04-04T06:04:56.046Z"
   },
   {
    "duration": 3,
    "start_time": "2025-04-04T06:04:56.057Z"
   },
   {
    "duration": 4,
    "start_time": "2025-04-04T06:04:56.064Z"
   },
   {
    "duration": 8,
    "start_time": "2025-04-04T06:04:56.069Z"
   },
   {
    "duration": 54,
    "start_time": "2025-04-04T06:04:56.078Z"
   },
   {
    "duration": 8,
    "start_time": "2025-04-04T06:04:56.134Z"
   },
   {
    "duration": 5,
    "start_time": "2025-04-04T06:04:56.145Z"
   },
   {
    "duration": 2548,
    "start_time": "2025-04-04T06:04:56.152Z"
   },
   {
    "duration": 3,
    "start_time": "2025-04-04T06:04:58.701Z"
   },
   {
    "duration": 6,
    "start_time": "2025-04-04T06:04:58.706Z"
   },
   {
    "duration": 0,
    "start_time": "2025-04-04T06:04:58.713Z"
   },
   {
    "duration": 0,
    "start_time": "2025-04-04T06:04:58.715Z"
   },
   {
    "duration": 0,
    "start_time": "2025-04-04T06:04:58.716Z"
   },
   {
    "duration": 0,
    "start_time": "2025-04-04T06:04:58.717Z"
   },
   {
    "duration": 0,
    "start_time": "2025-04-04T06:04:58.719Z"
   },
   {
    "duration": 0,
    "start_time": "2025-04-04T06:04:58.720Z"
   },
   {
    "duration": 0,
    "start_time": "2025-04-04T06:04:58.722Z"
   },
   {
    "duration": 0,
    "start_time": "2025-04-04T06:04:58.730Z"
   },
   {
    "duration": 0,
    "start_time": "2025-04-04T06:04:58.732Z"
   },
   {
    "duration": 0,
    "start_time": "2025-04-04T06:04:58.733Z"
   },
   {
    "duration": 0,
    "start_time": "2025-04-04T06:04:58.734Z"
   },
   {
    "duration": 0,
    "start_time": "2025-04-04T06:04:58.734Z"
   },
   {
    "duration": 0,
    "start_time": "2025-04-04T06:04:58.735Z"
   },
   {
    "duration": 48,
    "start_time": "2025-04-04T06:05:43.944Z"
   },
   {
    "duration": 2631,
    "start_time": "2025-04-04T14:50:13.967Z"
   },
   {
    "duration": 12,
    "start_time": "2025-04-04T14:50:16.601Z"
   },
   {
    "duration": 5,
    "start_time": "2025-04-04T14:50:16.615Z"
   },
   {
    "duration": 5,
    "start_time": "2025-04-04T14:50:16.622Z"
   },
   {
    "duration": 5,
    "start_time": "2025-04-04T14:50:16.630Z"
   },
   {
    "duration": 9,
    "start_time": "2025-04-04T14:50:16.637Z"
   },
   {
    "duration": 5,
    "start_time": "2025-04-04T14:50:16.648Z"
   },
   {
    "duration": 9,
    "start_time": "2025-04-04T14:50:16.654Z"
   },
   {
    "duration": 3,
    "start_time": "2025-04-04T14:50:16.665Z"
   },
   {
    "duration": 41,
    "start_time": "2025-04-04T14:50:16.669Z"
   },
   {
    "duration": 8,
    "start_time": "2025-04-04T14:50:16.711Z"
   },
   {
    "duration": 17,
    "start_time": "2025-04-04T14:50:16.721Z"
   },
   {
    "duration": 4,
    "start_time": "2025-04-04T14:50:16.740Z"
   },
   {
    "duration": 4,
    "start_time": "2025-04-04T14:50:16.747Z"
   },
   {
    "duration": 2660,
    "start_time": "2025-04-04T14:50:16.753Z"
   },
   {
    "duration": 3,
    "start_time": "2025-04-04T14:50:19.415Z"
   },
   {
    "duration": 40,
    "start_time": "2025-04-04T14:50:19.419Z"
   },
   {
    "duration": 8,
    "start_time": "2025-04-04T14:50:19.461Z"
   },
   {
    "duration": 9,
    "start_time": "2025-04-04T14:50:19.471Z"
   },
   {
    "duration": 29,
    "start_time": "2025-04-04T14:50:19.481Z"
   },
   {
    "duration": 0,
    "start_time": "2025-04-04T14:50:19.511Z"
   },
   {
    "duration": 0,
    "start_time": "2025-04-04T14:50:19.513Z"
   },
   {
    "duration": 0,
    "start_time": "2025-04-04T14:50:19.515Z"
   },
   {
    "duration": 0,
    "start_time": "2025-04-04T14:50:19.516Z"
   },
   {
    "duration": 0,
    "start_time": "2025-04-04T14:50:19.518Z"
   },
   {
    "duration": 0,
    "start_time": "2025-04-04T14:50:19.519Z"
   },
   {
    "duration": 0,
    "start_time": "2025-04-04T14:50:19.521Z"
   },
   {
    "duration": 0,
    "start_time": "2025-04-04T14:50:19.522Z"
   },
   {
    "duration": 0,
    "start_time": "2025-04-04T14:50:19.523Z"
   },
   {
    "duration": 0,
    "start_time": "2025-04-04T14:50:19.525Z"
   },
   {
    "duration": 48,
    "start_time": "2025-04-04T15:10:58.374Z"
   },
   {
    "duration": 2,
    "start_time": "2025-04-04T16:27:00.498Z"
   },
   {
    "duration": 2,
    "start_time": "2025-04-04T16:27:01.395Z"
   },
   {
    "duration": 8,
    "start_time": "2025-04-04T16:27:33.072Z"
   },
   {
    "duration": 958,
    "start_time": "2025-04-04T16:39:12.793Z"
   },
   {
    "duration": 8,
    "start_time": "2025-04-04T16:39:13.754Z"
   },
   {
    "duration": 4,
    "start_time": "2025-04-04T16:39:13.763Z"
   },
   {
    "duration": 6,
    "start_time": "2025-04-04T16:39:13.769Z"
   },
   {
    "duration": 5,
    "start_time": "2025-04-04T16:39:13.778Z"
   },
   {
    "duration": 29,
    "start_time": "2025-04-04T16:39:13.785Z"
   },
   {
    "duration": 3,
    "start_time": "2025-04-04T16:39:13.816Z"
   },
   {
    "duration": 9,
    "start_time": "2025-04-04T16:39:13.821Z"
   },
   {
    "duration": 3,
    "start_time": "2025-04-04T16:39:13.832Z"
   },
   {
    "duration": 3,
    "start_time": "2025-04-04T16:39:13.837Z"
   },
   {
    "duration": 7,
    "start_time": "2025-04-04T16:39:13.843Z"
   },
   {
    "duration": 17,
    "start_time": "2025-04-04T16:39:13.852Z"
   },
   {
    "duration": 40,
    "start_time": "2025-04-04T16:39:13.870Z"
   },
   {
    "duration": 5,
    "start_time": "2025-04-04T16:39:13.914Z"
   },
   {
    "duration": 2482,
    "start_time": "2025-04-04T16:39:13.920Z"
   },
   {
    "duration": 3,
    "start_time": "2025-04-04T16:39:16.403Z"
   },
   {
    "duration": 37,
    "start_time": "2025-04-04T16:39:16.408Z"
   },
   {
    "duration": 3,
    "start_time": "2025-04-04T16:39:16.446Z"
   },
   {
    "duration": 3,
    "start_time": "2025-04-04T16:39:16.450Z"
   },
   {
    "duration": 8,
    "start_time": "2025-04-04T16:39:16.455Z"
   },
   {
    "duration": 4,
    "start_time": "2025-04-04T16:39:16.464Z"
   },
   {
    "duration": 0,
    "start_time": "2025-04-04T16:39:16.470Z"
   },
   {
    "duration": 0,
    "start_time": "2025-04-04T16:39:16.471Z"
   },
   {
    "duration": 0,
    "start_time": "2025-04-04T16:39:16.472Z"
   },
   {
    "duration": 0,
    "start_time": "2025-04-04T16:39:16.473Z"
   },
   {
    "duration": 0,
    "start_time": "2025-04-04T16:39:16.474Z"
   },
   {
    "duration": 0,
    "start_time": "2025-04-04T16:39:16.509Z"
   },
   {
    "duration": 0,
    "start_time": "2025-04-04T16:39:16.510Z"
   },
   {
    "duration": 0,
    "start_time": "2025-04-04T16:39:16.511Z"
   },
   {
    "duration": 0,
    "start_time": "2025-04-04T16:39:16.513Z"
   },
   {
    "duration": 0,
    "start_time": "2025-04-04T16:39:16.514Z"
   },
   {
    "duration": 228,
    "start_time": "2025-04-04T16:44:36.088Z"
   },
   {
    "duration": 14,
    "start_time": "2025-04-04T16:44:58.650Z"
   },
   {
    "duration": 3,
    "start_time": "2025-04-04T17:08:40.994Z"
   },
   {
    "duration": 15,
    "start_time": "2025-04-04T17:12:14.340Z"
   },
   {
    "duration": 1004,
    "start_time": "2025-04-04T17:13:32.936Z"
   },
   {
    "duration": 8,
    "start_time": "2025-04-04T17:13:33.943Z"
   },
   {
    "duration": 5,
    "start_time": "2025-04-04T17:13:33.953Z"
   },
   {
    "duration": 7,
    "start_time": "2025-04-04T17:13:33.961Z"
   },
   {
    "duration": 5,
    "start_time": "2025-04-04T17:13:33.969Z"
   },
   {
    "duration": 33,
    "start_time": "2025-04-04T17:13:33.977Z"
   },
   {
    "duration": 3,
    "start_time": "2025-04-04T17:13:34.011Z"
   },
   {
    "duration": 10,
    "start_time": "2025-04-04T17:13:34.016Z"
   },
   {
    "duration": 4,
    "start_time": "2025-04-04T17:13:34.027Z"
   },
   {
    "duration": 4,
    "start_time": "2025-04-04T17:13:34.035Z"
   },
   {
    "duration": 7,
    "start_time": "2025-04-04T17:13:34.041Z"
   },
   {
    "duration": 17,
    "start_time": "2025-04-04T17:13:34.050Z"
   },
   {
    "duration": 5,
    "start_time": "2025-04-04T17:13:34.068Z"
   },
   {
    "duration": 5,
    "start_time": "2025-04-04T17:13:34.108Z"
   },
   {
    "duration": 2526,
    "start_time": "2025-04-04T17:13:34.115Z"
   },
   {
    "duration": 3,
    "start_time": "2025-04-04T17:13:36.643Z"
   },
   {
    "duration": 38,
    "start_time": "2025-04-04T17:13:36.648Z"
   },
   {
    "duration": 3,
    "start_time": "2025-04-04T17:13:36.687Z"
   },
   {
    "duration": 3,
    "start_time": "2025-04-04T17:13:36.691Z"
   },
   {
    "duration": 9,
    "start_time": "2025-04-04T17:13:36.708Z"
   },
   {
    "duration": 13,
    "start_time": "2025-04-04T17:13:36.719Z"
   },
   {
    "duration": 2,
    "start_time": "2025-04-04T17:13:36.733Z"
   },
   {
    "duration": 272,
    "start_time": "2025-04-04T17:13:36.737Z"
   },
   {
    "duration": 0,
    "start_time": "2025-04-04T17:13:37.012Z"
   },
   {
    "duration": 0,
    "start_time": "2025-04-04T17:13:37.013Z"
   },
   {
    "duration": 0,
    "start_time": "2025-04-04T17:13:37.014Z"
   },
   {
    "duration": 0,
    "start_time": "2025-04-04T17:13:37.015Z"
   },
   {
    "duration": 0,
    "start_time": "2025-04-04T17:13:37.017Z"
   },
   {
    "duration": 0,
    "start_time": "2025-04-04T17:13:37.018Z"
   },
   {
    "duration": 0,
    "start_time": "2025-04-04T17:13:37.019Z"
   },
   {
    "duration": 0,
    "start_time": "2025-04-04T17:13:37.021Z"
   },
   {
    "duration": 0,
    "start_time": "2025-04-04T17:13:37.022Z"
   },
   {
    "duration": 0,
    "start_time": "2025-04-04T17:13:37.023Z"
   },
   {
    "duration": 0,
    "start_time": "2025-04-04T17:13:37.024Z"
   },
   {
    "duration": 949,
    "start_time": "2025-04-04T17:14:40.783Z"
   },
   {
    "duration": 8,
    "start_time": "2025-04-04T17:14:41.735Z"
   },
   {
    "duration": 4,
    "start_time": "2025-04-04T17:14:41.744Z"
   },
   {
    "duration": 6,
    "start_time": "2025-04-04T17:14:41.751Z"
   },
   {
    "duration": 4,
    "start_time": "2025-04-04T17:14:41.760Z"
   },
   {
    "duration": 7,
    "start_time": "2025-04-04T17:14:41.766Z"
   },
   {
    "duration": 35,
    "start_time": "2025-04-04T17:14:41.775Z"
   },
   {
    "duration": 10,
    "start_time": "2025-04-04T17:14:41.812Z"
   },
   {
    "duration": 3,
    "start_time": "2025-04-04T17:14:41.823Z"
   },
   {
    "duration": 3,
    "start_time": "2025-04-04T17:14:41.828Z"
   },
   {
    "duration": 14,
    "start_time": "2025-04-04T17:14:41.833Z"
   },
   {
    "duration": 17,
    "start_time": "2025-04-04T17:14:41.849Z"
   },
   {
    "duration": 4,
    "start_time": "2025-04-04T17:14:41.868Z"
   },
   {
    "duration": 34,
    "start_time": "2025-04-04T17:14:41.876Z"
   },
   {
    "duration": 2506,
    "start_time": "2025-04-04T17:14:41.911Z"
   },
   {
    "duration": 3,
    "start_time": "2025-04-04T17:14:44.419Z"
   },
   {
    "duration": 38,
    "start_time": "2025-04-04T17:14:44.424Z"
   },
   {
    "duration": 2,
    "start_time": "2025-04-04T17:14:44.463Z"
   },
   {
    "duration": 4,
    "start_time": "2025-04-04T17:14:44.467Z"
   },
   {
    "duration": 8,
    "start_time": "2025-04-04T17:14:44.472Z"
   },
   {
    "duration": 36,
    "start_time": "2025-04-04T17:14:44.482Z"
   },
   {
    "duration": 3,
    "start_time": "2025-04-04T17:14:44.521Z"
   },
   {
    "duration": 271,
    "start_time": "2025-04-04T17:14:44.525Z"
   },
   {
    "duration": 13,
    "start_time": "2025-04-04T17:14:44.797Z"
   },
   {
    "duration": 0,
    "start_time": "2025-04-04T17:14:44.811Z"
   },
   {
    "duration": 0,
    "start_time": "2025-04-04T17:14:44.812Z"
   },
   {
    "duration": 0,
    "start_time": "2025-04-04T17:14:44.814Z"
   },
   {
    "duration": 0,
    "start_time": "2025-04-04T17:14:44.815Z"
   },
   {
    "duration": 0,
    "start_time": "2025-04-04T17:14:44.816Z"
   },
   {
    "duration": 0,
    "start_time": "2025-04-04T17:14:44.817Z"
   },
   {
    "duration": 0,
    "start_time": "2025-04-04T17:14:44.818Z"
   },
   {
    "duration": 0,
    "start_time": "2025-04-04T17:14:44.819Z"
   },
   {
    "duration": 0,
    "start_time": "2025-04-04T17:14:44.820Z"
   },
   {
    "duration": 0,
    "start_time": "2025-04-04T17:14:44.822Z"
   },
   {
    "duration": 3,
    "start_time": "2025-04-04T17:16:21.711Z"
   },
   {
    "duration": 7,
    "start_time": "2025-04-04T17:16:39.153Z"
   },
   {
    "duration": 7,
    "start_time": "2025-04-04T17:17:15.505Z"
   },
   {
    "duration": 32,
    "start_time": "2025-04-04T17:20:08.617Z"
   },
   {
    "duration": 225,
    "start_time": "2025-04-04T17:21:32.556Z"
   },
   {
    "duration": 997,
    "start_time": "2025-04-04T17:25:43.736Z"
   },
   {
    "duration": 8,
    "start_time": "2025-04-04T17:25:44.736Z"
   },
   {
    "duration": 5,
    "start_time": "2025-04-04T17:25:44.745Z"
   },
   {
    "duration": 6,
    "start_time": "2025-04-04T17:25:44.751Z"
   },
   {
    "duration": 5,
    "start_time": "2025-04-04T17:25:44.759Z"
   },
   {
    "duration": 8,
    "start_time": "2025-04-04T17:25:44.766Z"
   },
   {
    "duration": 4,
    "start_time": "2025-04-04T17:25:44.775Z"
   },
   {
    "duration": 38,
    "start_time": "2025-04-04T17:25:44.781Z"
   },
   {
    "duration": 2,
    "start_time": "2025-04-04T17:25:44.821Z"
   },
   {
    "duration": 5,
    "start_time": "2025-04-04T17:25:44.825Z"
   },
   {
    "duration": 10,
    "start_time": "2025-04-04T17:25:44.832Z"
   },
   {
    "duration": 20,
    "start_time": "2025-04-04T17:25:44.844Z"
   },
   {
    "duration": 3,
    "start_time": "2025-04-04T17:25:44.866Z"
   },
   {
    "duration": 37,
    "start_time": "2025-04-04T17:25:44.873Z"
   },
   {
    "duration": 2513,
    "start_time": "2025-04-04T17:25:44.912Z"
   },
   {
    "duration": 4,
    "start_time": "2025-04-04T17:25:47.427Z"
   },
   {
    "duration": 38,
    "start_time": "2025-04-04T17:25:47.432Z"
   },
   {
    "duration": 3,
    "start_time": "2025-04-04T17:25:47.471Z"
   },
   {
    "duration": 2,
    "start_time": "2025-04-04T17:25:47.477Z"
   },
   {
    "duration": 7,
    "start_time": "2025-04-04T17:25:47.481Z"
   },
   {
    "duration": 12,
    "start_time": "2025-04-04T17:25:47.510Z"
   },
   {
    "duration": 3,
    "start_time": "2025-04-04T17:25:47.523Z"
   },
   {
    "duration": 282,
    "start_time": "2025-04-04T17:25:47.527Z"
   },
   {
    "duration": 8,
    "start_time": "2025-04-04T17:25:47.810Z"
   },
   {
    "duration": 31,
    "start_time": "2025-04-04T17:25:47.820Z"
   },
   {
    "duration": 240,
    "start_time": "2025-04-04T17:25:47.852Z"
   },
   {
    "duration": 0,
    "start_time": "2025-04-04T17:25:48.093Z"
   },
   {
    "duration": 0,
    "start_time": "2025-04-04T17:25:48.095Z"
   },
   {
    "duration": 0,
    "start_time": "2025-04-04T17:25:48.096Z"
   },
   {
    "duration": 0,
    "start_time": "2025-04-04T17:25:48.109Z"
   },
   {
    "duration": 0,
    "start_time": "2025-04-04T17:25:48.110Z"
   },
   {
    "duration": 0,
    "start_time": "2025-04-04T17:25:48.111Z"
   },
   {
    "duration": 0,
    "start_time": "2025-04-04T17:25:48.112Z"
   },
   {
    "duration": 0,
    "start_time": "2025-04-04T17:25:48.113Z"
   },
   {
    "duration": 0,
    "start_time": "2025-04-04T17:25:48.114Z"
   },
   {
    "duration": 0,
    "start_time": "2025-04-04T17:25:48.115Z"
   },
   {
    "duration": 0,
    "start_time": "2025-04-04T17:25:48.116Z"
   },
   {
    "duration": 17,
    "start_time": "2025-04-04T17:26:27.017Z"
   },
   {
    "duration": 330,
    "start_time": "2025-04-04T17:38:52.969Z"
   },
   {
    "duration": 13,
    "start_time": "2025-04-04T17:39:09.993Z"
   },
   {
    "duration": 3,
    "start_time": "2025-04-04T18:32:17.535Z"
   },
   {
    "duration": 14,
    "start_time": "2025-04-04T18:35:50.219Z"
   },
   {
    "duration": 1033,
    "start_time": "2025-04-04T18:36:55.115Z"
   },
   {
    "duration": 10,
    "start_time": "2025-04-04T18:36:56.151Z"
   },
   {
    "duration": 5,
    "start_time": "2025-04-04T18:36:56.162Z"
   },
   {
    "duration": 7,
    "start_time": "2025-04-04T18:36:56.168Z"
   },
   {
    "duration": 5,
    "start_time": "2025-04-04T18:36:56.177Z"
   },
   {
    "duration": 26,
    "start_time": "2025-04-04T18:36:56.183Z"
   },
   {
    "duration": 4,
    "start_time": "2025-04-04T18:36:56.211Z"
   },
   {
    "duration": 11,
    "start_time": "2025-04-04T18:36:56.216Z"
   },
   {
    "duration": 4,
    "start_time": "2025-04-04T18:36:56.228Z"
   },
   {
    "duration": 3,
    "start_time": "2025-04-04T18:36:56.234Z"
   },
   {
    "duration": 8,
    "start_time": "2025-04-04T18:36:56.239Z"
   },
   {
    "duration": 17,
    "start_time": "2025-04-04T18:36:56.248Z"
   },
   {
    "duration": 4,
    "start_time": "2025-04-04T18:36:56.266Z"
   },
   {
    "duration": 5,
    "start_time": "2025-04-04T18:36:56.308Z"
   },
   {
    "duration": 2622,
    "start_time": "2025-04-04T18:36:56.315Z"
   },
   {
    "duration": 2,
    "start_time": "2025-04-04T18:36:58.939Z"
   },
   {
    "duration": 38,
    "start_time": "2025-04-04T18:36:58.943Z"
   },
   {
    "duration": 2,
    "start_time": "2025-04-04T18:36:58.983Z"
   },
   {
    "duration": 3,
    "start_time": "2025-04-04T18:36:58.986Z"
   },
   {
    "duration": 25,
    "start_time": "2025-04-04T18:36:58.990Z"
   },
   {
    "duration": 13,
    "start_time": "2025-04-04T18:36:59.016Z"
   },
   {
    "duration": 2,
    "start_time": "2025-04-04T18:36:59.030Z"
   },
   {
    "duration": 309,
    "start_time": "2025-04-04T18:36:59.034Z"
   },
   {
    "duration": 322,
    "start_time": "2025-04-04T18:36:59.345Z"
   },
   {
    "duration": 13,
    "start_time": "2025-04-04T18:36:59.669Z"
   },
   {
    "duration": 25,
    "start_time": "2025-04-04T18:36:59.684Z"
   },
   {
    "duration": 3,
    "start_time": "2025-04-04T18:36:59.710Z"
   },
   {
    "duration": 5,
    "start_time": "2025-04-04T18:36:59.714Z"
   },
   {
    "duration": 0,
    "start_time": "2025-04-04T18:36:59.720Z"
   },
   {
    "duration": 0,
    "start_time": "2025-04-04T18:36:59.721Z"
   },
   {
    "duration": 0,
    "start_time": "2025-04-04T18:36:59.722Z"
   },
   {
    "duration": 0,
    "start_time": "2025-04-04T18:36:59.724Z"
   },
   {
    "duration": 0,
    "start_time": "2025-04-04T18:36:59.725Z"
   },
   {
    "duration": 0,
    "start_time": "2025-04-04T18:36:59.726Z"
   },
   {
    "duration": 0,
    "start_time": "2025-04-04T18:36:59.727Z"
   },
   {
    "duration": 0,
    "start_time": "2025-04-04T18:36:59.728Z"
   },
   {
    "duration": 0,
    "start_time": "2025-04-04T18:36:59.730Z"
   },
   {
    "duration": 0,
    "start_time": "2025-04-04T18:36:59.731Z"
   },
   {
    "duration": 2,
    "start_time": "2025-04-04T18:37:23.229Z"
   },
   {
    "duration": 3,
    "start_time": "2025-04-04T18:37:25.068Z"
   },
   {
    "duration": 3,
    "start_time": "2025-04-04T18:40:07.979Z"
   },
   {
    "duration": 2,
    "start_time": "2025-04-04T18:45:02.092Z"
   },
   {
    "duration": 3,
    "start_time": "2025-04-04T18:45:59.930Z"
   },
   {
    "duration": 8,
    "start_time": "2025-04-04T18:46:57.417Z"
   },
   {
    "duration": 13,
    "start_time": "2025-04-04T18:47:38.188Z"
   },
   {
    "duration": 8,
    "start_time": "2025-04-04T18:49:35.191Z"
   },
   {
    "duration": 231,
    "start_time": "2025-04-04T18:50:59.408Z"
   },
   {
    "duration": 26,
    "start_time": "2025-04-04T18:52:07.599Z"
   },
   {
    "duration": 14,
    "start_time": "2025-04-04T18:52:44.593Z"
   },
   {
    "duration": 3,
    "start_time": "2025-04-04T18:57:28.413Z"
   },
   {
    "duration": 997,
    "start_time": "2025-04-04T18:57:46.668Z"
   },
   {
    "duration": 9,
    "start_time": "2025-04-04T18:57:47.667Z"
   },
   {
    "duration": 5,
    "start_time": "2025-04-04T18:57:47.677Z"
   },
   {
    "duration": 5,
    "start_time": "2025-04-04T18:57:47.683Z"
   },
   {
    "duration": 20,
    "start_time": "2025-04-04T18:57:47.692Z"
   },
   {
    "duration": 8,
    "start_time": "2025-04-04T18:57:47.713Z"
   },
   {
    "duration": 3,
    "start_time": "2025-04-04T18:57:47.722Z"
   },
   {
    "duration": 9,
    "start_time": "2025-04-04T18:57:47.727Z"
   },
   {
    "duration": 6,
    "start_time": "2025-04-04T18:57:47.738Z"
   },
   {
    "duration": 4,
    "start_time": "2025-04-04T18:57:47.746Z"
   },
   {
    "duration": 8,
    "start_time": "2025-04-04T18:57:47.751Z"
   },
   {
    "duration": 51,
    "start_time": "2025-04-04T18:57:47.760Z"
   },
   {
    "duration": 3,
    "start_time": "2025-04-04T18:57:47.813Z"
   },
   {
    "duration": 4,
    "start_time": "2025-04-04T18:57:47.821Z"
   },
   {
    "duration": 2598,
    "start_time": "2025-04-04T18:57:47.827Z"
   },
   {
    "duration": 2,
    "start_time": "2025-04-04T18:57:50.427Z"
   },
   {
    "duration": 38,
    "start_time": "2025-04-04T18:57:50.431Z"
   },
   {
    "duration": 2,
    "start_time": "2025-04-04T18:57:50.470Z"
   },
   {
    "duration": 2,
    "start_time": "2025-04-04T18:57:50.474Z"
   },
   {
    "duration": 31,
    "start_time": "2025-04-04T18:57:50.478Z"
   },
   {
    "duration": 12,
    "start_time": "2025-04-04T18:57:50.511Z"
   },
   {
    "duration": 3,
    "start_time": "2025-04-04T18:57:50.524Z"
   },
   {
    "duration": 273,
    "start_time": "2025-04-04T18:57:50.528Z"
   },
   {
    "duration": 308,
    "start_time": "2025-04-04T18:57:50.803Z"
   },
   {
    "duration": 13,
    "start_time": "2025-04-04T18:57:51.113Z"
   },
   {
    "duration": 2,
    "start_time": "2025-04-04T18:57:51.127Z"
   },
   {
    "duration": 4,
    "start_time": "2025-04-04T18:57:51.131Z"
   },
   {
    "duration": 4,
    "start_time": "2025-04-04T18:57:51.137Z"
   },
   {
    "duration": 2,
    "start_time": "2025-04-04T18:57:51.143Z"
   },
   {
    "duration": 263,
    "start_time": "2025-04-04T18:57:51.147Z"
   },
   {
    "duration": 0,
    "start_time": "2025-04-04T18:57:51.412Z"
   },
   {
    "duration": 0,
    "start_time": "2025-04-04T18:57:51.413Z"
   },
   {
    "duration": 0,
    "start_time": "2025-04-04T18:57:51.414Z"
   },
   {
    "duration": 0,
    "start_time": "2025-04-04T18:57:51.415Z"
   },
   {
    "duration": 0,
    "start_time": "2025-04-04T18:57:51.417Z"
   },
   {
    "duration": 0,
    "start_time": "2025-04-04T18:57:51.418Z"
   },
   {
    "duration": 0,
    "start_time": "2025-04-04T18:57:51.419Z"
   },
   {
    "duration": 0,
    "start_time": "2025-04-04T18:57:51.421Z"
   },
   {
    "duration": 0,
    "start_time": "2025-04-04T18:57:51.423Z"
   },
   {
    "duration": 0,
    "start_time": "2025-04-04T18:57:51.424Z"
   },
   {
    "duration": 0,
    "start_time": "2025-04-04T18:57:51.426Z"
   },
   {
    "duration": 0,
    "start_time": "2025-04-04T18:57:51.427Z"
   },
   {
    "duration": 0,
    "start_time": "2025-04-04T18:57:51.428Z"
   },
   {
    "duration": 4,
    "start_time": "2025-04-04T19:02:59.980Z"
   },
   {
    "duration": 4,
    "start_time": "2025-04-04T19:03:05.953Z"
   },
   {
    "duration": 2,
    "start_time": "2025-04-04T19:03:08.884Z"
   },
   {
    "duration": 12,
    "start_time": "2025-04-04T19:03:11.334Z"
   },
   {
    "duration": 7,
    "start_time": "2025-04-04T19:03:20.849Z"
   },
   {
    "duration": 15,
    "start_time": "2025-04-04T19:03:23.168Z"
   },
   {
    "duration": 3,
    "start_time": "2025-04-04T19:06:08.544Z"
   },
   {
    "duration": 3,
    "start_time": "2025-04-04T19:06:10.184Z"
   },
   {
    "duration": 3,
    "start_time": "2025-04-04T19:06:39.431Z"
   },
   {
    "duration": 3,
    "start_time": "2025-04-04T19:07:01.799Z"
   },
   {
    "duration": 3,
    "start_time": "2025-04-04T19:07:08.663Z"
   },
   {
    "duration": 13,
    "start_time": "2025-04-04T19:07:12.122Z"
   },
   {
    "duration": 6,
    "start_time": "2025-04-04T19:07:20.158Z"
   },
   {
    "duration": 5,
    "start_time": "2025-04-04T19:07:21.961Z"
   },
   {
    "duration": 4,
    "start_time": "2025-04-04T19:08:02.525Z"
   },
   {
    "duration": 3,
    "start_time": "2025-04-04T19:08:08.173Z"
   },
   {
    "duration": 3,
    "start_time": "2025-04-04T19:08:22.316Z"
   },
   {
    "duration": 2,
    "start_time": "2025-04-04T19:08:23.984Z"
   },
   {
    "duration": 12,
    "start_time": "2025-04-04T19:08:26.291Z"
   },
   {
    "duration": 8,
    "start_time": "2025-04-04T19:08:28.211Z"
   },
   {
    "duration": 14,
    "start_time": "2025-04-04T19:08:29.797Z"
   },
   {
    "duration": 974,
    "start_time": "2025-04-04T19:09:06.466Z"
   },
   {
    "duration": 7,
    "start_time": "2025-04-04T19:09:07.442Z"
   },
   {
    "duration": 4,
    "start_time": "2025-04-04T19:09:07.451Z"
   },
   {
    "duration": 5,
    "start_time": "2025-04-04T19:09:07.457Z"
   },
   {
    "duration": 5,
    "start_time": "2025-04-04T19:09:07.465Z"
   },
   {
    "duration": 8,
    "start_time": "2025-04-04T19:09:07.471Z"
   },
   {
    "duration": 3,
    "start_time": "2025-04-04T19:09:07.480Z"
   },
   {
    "duration": 12,
    "start_time": "2025-04-04T19:09:07.509Z"
   },
   {
    "duration": 3,
    "start_time": "2025-04-04T19:09:07.523Z"
   },
   {
    "duration": 4,
    "start_time": "2025-04-04T19:09:07.527Z"
   },
   {
    "duration": 8,
    "start_time": "2025-04-04T19:09:07.532Z"
   },
   {
    "duration": 17,
    "start_time": "2025-04-04T19:09:07.542Z"
   },
   {
    "duration": 4,
    "start_time": "2025-04-04T19:09:07.561Z"
   },
   {
    "duration": 42,
    "start_time": "2025-04-04T19:09:07.570Z"
   },
   {
    "duration": 2628,
    "start_time": "2025-04-04T19:09:07.613Z"
   },
   {
    "duration": 3,
    "start_time": "2025-04-04T19:09:10.243Z"
   },
   {
    "duration": 38,
    "start_time": "2025-04-04T19:09:10.248Z"
   },
   {
    "duration": 3,
    "start_time": "2025-04-04T19:09:10.287Z"
   },
   {
    "duration": 2,
    "start_time": "2025-04-04T19:09:10.292Z"
   },
   {
    "duration": 19,
    "start_time": "2025-04-04T19:09:10.296Z"
   },
   {
    "duration": 13,
    "start_time": "2025-04-04T19:09:10.316Z"
   },
   {
    "duration": 2,
    "start_time": "2025-04-04T19:09:10.330Z"
   },
   {
    "duration": 278,
    "start_time": "2025-04-04T19:09:10.334Z"
   },
   {
    "duration": 310,
    "start_time": "2025-04-04T19:09:10.613Z"
   },
   {
    "duration": 15,
    "start_time": "2025-04-04T19:09:10.927Z"
   },
   {
    "duration": 3,
    "start_time": "2025-04-04T19:09:10.943Z"
   },
   {
    "duration": 6,
    "start_time": "2025-04-04T19:09:10.947Z"
   },
   {
    "duration": 3,
    "start_time": "2025-04-04T19:09:10.955Z"
   },
   {
    "duration": 3,
    "start_time": "2025-04-04T19:09:10.960Z"
   },
   {
    "duration": 49,
    "start_time": "2025-04-04T19:09:10.965Z"
   },
   {
    "duration": 6,
    "start_time": "2025-04-04T19:09:11.015Z"
   },
   {
    "duration": 236,
    "start_time": "2025-04-04T19:09:11.023Z"
   },
   {
    "duration": 0,
    "start_time": "2025-04-04T19:09:11.261Z"
   },
   {
    "duration": 0,
    "start_time": "2025-04-04T19:09:11.262Z"
   },
   {
    "duration": 0,
    "start_time": "2025-04-04T19:09:11.263Z"
   },
   {
    "duration": 0,
    "start_time": "2025-04-04T19:09:11.264Z"
   },
   {
    "duration": 0,
    "start_time": "2025-04-04T19:09:11.265Z"
   },
   {
    "duration": 0,
    "start_time": "2025-04-04T19:09:11.267Z"
   },
   {
    "duration": 0,
    "start_time": "2025-04-04T19:09:11.268Z"
   },
   {
    "duration": 0,
    "start_time": "2025-04-04T19:09:11.269Z"
   },
   {
    "duration": 0,
    "start_time": "2025-04-04T19:09:11.271Z"
   },
   {
    "duration": 0,
    "start_time": "2025-04-04T19:09:11.272Z"
   },
   {
    "duration": 0,
    "start_time": "2025-04-04T19:09:11.272Z"
   },
   {
    "duration": 4,
    "start_time": "2025-04-04T19:10:01.081Z"
   },
   {
    "duration": 2,
    "start_time": "2025-04-04T19:10:02.899Z"
   },
   {
    "duration": 13,
    "start_time": "2025-04-04T19:10:04.873Z"
   },
   {
    "duration": 9,
    "start_time": "2025-04-04T19:10:06.763Z"
   },
   {
    "duration": 6,
    "start_time": "2025-04-04T19:10:08.500Z"
   },
   {
    "duration": 29,
    "start_time": "2025-04-04T19:11:49.158Z"
   },
   {
    "duration": 4,
    "start_time": "2025-04-04T19:12:45.560Z"
   },
   {
    "duration": 12,
    "start_time": "2025-04-04T19:14:15.216Z"
   },
   {
    "duration": 13,
    "start_time": "2025-04-04T19:16:13.525Z"
   },
   {
    "duration": 967,
    "start_time": "2025-04-04T19:17:21.786Z"
   },
   {
    "duration": 8,
    "start_time": "2025-04-04T19:17:22.754Z"
   },
   {
    "duration": 6,
    "start_time": "2025-04-04T19:17:22.763Z"
   },
   {
    "duration": 7,
    "start_time": "2025-04-04T19:17:22.771Z"
   },
   {
    "duration": 4,
    "start_time": "2025-04-04T19:17:22.781Z"
   },
   {
    "duration": 28,
    "start_time": "2025-04-04T19:17:22.786Z"
   },
   {
    "duration": 3,
    "start_time": "2025-04-04T19:17:22.816Z"
   },
   {
    "duration": 9,
    "start_time": "2025-04-04T19:17:22.820Z"
   },
   {
    "duration": 3,
    "start_time": "2025-04-04T19:17:22.831Z"
   },
   {
    "duration": 4,
    "start_time": "2025-04-04T19:17:22.838Z"
   },
   {
    "duration": 9,
    "start_time": "2025-04-04T19:17:22.843Z"
   },
   {
    "duration": 19,
    "start_time": "2025-04-04T19:17:22.853Z"
   },
   {
    "duration": 37,
    "start_time": "2025-04-04T19:17:22.873Z"
   },
   {
    "duration": 5,
    "start_time": "2025-04-04T19:17:22.911Z"
   },
   {
    "duration": 2552,
    "start_time": "2025-04-04T19:17:22.918Z"
   },
   {
    "duration": 3,
    "start_time": "2025-04-04T19:17:25.471Z"
   },
   {
    "duration": 38,
    "start_time": "2025-04-04T19:17:25.475Z"
   },
   {
    "duration": 2,
    "start_time": "2025-04-04T19:17:25.515Z"
   },
   {
    "duration": 3,
    "start_time": "2025-04-04T19:17:25.519Z"
   },
   {
    "duration": 8,
    "start_time": "2025-04-04T19:17:25.523Z"
   },
   {
    "duration": 12,
    "start_time": "2025-04-04T19:17:25.533Z"
   },
   {
    "duration": 2,
    "start_time": "2025-04-04T19:17:25.547Z"
   },
   {
    "duration": 320,
    "start_time": "2025-04-04T19:17:25.551Z"
   },
   {
    "duration": 326,
    "start_time": "2025-04-04T19:17:25.873Z"
   },
   {
    "duration": 21,
    "start_time": "2025-04-04T19:17:26.201Z"
   },
   {
    "duration": 3,
    "start_time": "2025-04-04T19:17:26.223Z"
   },
   {
    "duration": 4,
    "start_time": "2025-04-04T19:17:26.227Z"
   },
   {
    "duration": 4,
    "start_time": "2025-04-04T19:17:26.236Z"
   },
   {
    "duration": 2,
    "start_time": "2025-04-04T19:17:26.242Z"
   },
   {
    "duration": 11,
    "start_time": "2025-04-04T19:17:26.245Z"
   },
   {
    "duration": 7,
    "start_time": "2025-04-04T19:17:26.258Z"
   },
   {
    "duration": 46,
    "start_time": "2025-04-04T19:17:26.266Z"
   },
   {
    "duration": 28,
    "start_time": "2025-04-04T19:17:26.314Z"
   },
   {
    "duration": 3,
    "start_time": "2025-04-04T19:17:26.344Z"
   },
   {
    "duration": 13,
    "start_time": "2025-04-04T19:17:26.350Z"
   },
   {
    "duration": 3,
    "start_time": "2025-04-04T19:17:26.364Z"
   },
   {
    "duration": 0,
    "start_time": "2025-04-04T19:17:26.409Z"
   },
   {
    "duration": 0,
    "start_time": "2025-04-04T19:17:26.410Z"
   },
   {
    "duration": 1,
    "start_time": "2025-04-04T19:17:26.411Z"
   },
   {
    "duration": 0,
    "start_time": "2025-04-04T19:17:26.412Z"
   },
   {
    "duration": 0,
    "start_time": "2025-04-04T19:17:26.414Z"
   },
   {
    "duration": 0,
    "start_time": "2025-04-04T19:17:26.415Z"
   },
   {
    "duration": 0,
    "start_time": "2025-04-04T19:17:26.416Z"
   },
   {
    "duration": 0,
    "start_time": "2025-04-04T19:17:26.417Z"
   },
   {
    "duration": 0,
    "start_time": "2025-04-04T19:17:26.418Z"
   },
   {
    "duration": 0,
    "start_time": "2025-04-04T19:17:26.419Z"
   },
   {
    "duration": 4,
    "start_time": "2025-04-04T19:21:08.198Z"
   },
   {
    "duration": 4,
    "start_time": "2025-04-04T19:47:19.675Z"
   },
   {
    "duration": 4,
    "start_time": "2025-04-04T19:47:37.337Z"
   },
   {
    "duration": 3,
    "start_time": "2025-04-04T19:47:40.019Z"
   },
   {
    "duration": 3,
    "start_time": "2025-04-04T19:51:05.640Z"
   },
   {
    "duration": 3,
    "start_time": "2025-04-04T19:52:35.168Z"
   },
   {
    "duration": 5,
    "start_time": "2025-04-04T19:53:37.940Z"
   },
   {
    "duration": 3,
    "start_time": "2025-04-04T19:53:39.524Z"
   },
   {
    "duration": 980,
    "start_time": "2025-04-04T19:54:16.499Z"
   },
   {
    "duration": 8,
    "start_time": "2025-04-04T19:54:17.482Z"
   },
   {
    "duration": 6,
    "start_time": "2025-04-04T19:54:17.492Z"
   },
   {
    "duration": 13,
    "start_time": "2025-04-04T19:54:17.500Z"
   },
   {
    "duration": 4,
    "start_time": "2025-04-04T19:54:17.515Z"
   },
   {
    "duration": 8,
    "start_time": "2025-04-04T19:54:17.521Z"
   },
   {
    "duration": 4,
    "start_time": "2025-04-04T19:54:17.530Z"
   },
   {
    "duration": 9,
    "start_time": "2025-04-04T19:54:17.535Z"
   },
   {
    "duration": 2,
    "start_time": "2025-04-04T19:54:17.546Z"
   },
   {
    "duration": 3,
    "start_time": "2025-04-04T19:54:17.551Z"
   },
   {
    "duration": 8,
    "start_time": "2025-04-04T19:54:17.556Z"
   },
   {
    "duration": 59,
    "start_time": "2025-04-04T19:54:17.565Z"
   },
   {
    "duration": 4,
    "start_time": "2025-04-04T19:54:17.626Z"
   },
   {
    "duration": 5,
    "start_time": "2025-04-04T19:54:17.631Z"
   },
   {
    "duration": 2553,
    "start_time": "2025-04-04T19:54:17.637Z"
   },
   {
    "duration": 3,
    "start_time": "2025-04-04T19:54:20.191Z"
   },
   {
    "duration": 37,
    "start_time": "2025-04-04T19:54:20.196Z"
   },
   {
    "duration": 3,
    "start_time": "2025-04-04T19:54:20.234Z"
   },
   {
    "duration": 2,
    "start_time": "2025-04-04T19:54:20.240Z"
   },
   {
    "duration": 8,
    "start_time": "2025-04-04T19:54:20.243Z"
   },
   {
    "duration": 12,
    "start_time": "2025-04-04T19:54:20.253Z"
   },
   {
    "duration": 2,
    "start_time": "2025-04-04T19:54:20.267Z"
   },
   {
    "duration": 327,
    "start_time": "2025-04-04T19:54:20.271Z"
   },
   {
    "duration": 309,
    "start_time": "2025-04-04T19:54:20.600Z"
   },
   {
    "duration": 14,
    "start_time": "2025-04-04T19:54:20.910Z"
   },
   {
    "duration": 3,
    "start_time": "2025-04-04T19:54:20.925Z"
   },
   {
    "duration": 4,
    "start_time": "2025-04-04T19:54:20.929Z"
   },
   {
    "duration": 2,
    "start_time": "2025-04-04T19:54:20.938Z"
   },
   {
    "duration": 3,
    "start_time": "2025-04-04T19:54:20.942Z"
   },
   {
    "duration": 13,
    "start_time": "2025-04-04T19:54:20.946Z"
   },
   {
    "duration": 52,
    "start_time": "2025-04-04T19:54:20.961Z"
   },
   {
    "duration": 4,
    "start_time": "2025-04-04T19:54:21.014Z"
   },
   {
    "duration": 28,
    "start_time": "2025-04-04T19:54:21.020Z"
   },
   {
    "duration": 3,
    "start_time": "2025-04-04T19:54:21.050Z"
   },
   {
    "duration": 12,
    "start_time": "2025-04-04T19:54:21.054Z"
   },
   {
    "duration": 3,
    "start_time": "2025-04-04T19:54:21.068Z"
   },
   {
    "duration": 37,
    "start_time": "2025-04-04T19:54:21.073Z"
   },
   {
    "duration": 566,
    "start_time": "2025-04-04T19:54:21.111Z"
   },
   {
    "duration": 0,
    "start_time": "2025-04-04T19:54:21.680Z"
   },
   {
    "duration": 0,
    "start_time": "2025-04-04T19:54:21.681Z"
   },
   {
    "duration": 0,
    "start_time": "2025-04-04T19:54:21.682Z"
   },
   {
    "duration": 3,
    "start_time": "2025-04-04T19:57:13.452Z"
   },
   {
    "duration": 1013,
    "start_time": "2025-04-04T19:58:22.227Z"
   },
   {
    "duration": 7,
    "start_time": "2025-04-04T19:58:23.241Z"
   },
   {
    "duration": 4,
    "start_time": "2025-04-04T19:58:23.250Z"
   },
   {
    "duration": 6,
    "start_time": "2025-04-04T19:58:23.257Z"
   },
   {
    "duration": 5,
    "start_time": "2025-04-04T19:58:23.264Z"
   },
   {
    "duration": 8,
    "start_time": "2025-04-04T19:58:23.272Z"
   },
   {
    "duration": 28,
    "start_time": "2025-04-04T19:58:23.282Z"
   },
   {
    "duration": 9,
    "start_time": "2025-04-04T19:58:23.312Z"
   },
   {
    "duration": 3,
    "start_time": "2025-04-04T19:58:23.322Z"
   },
   {
    "duration": 4,
    "start_time": "2025-04-04T19:58:23.329Z"
   },
   {
    "duration": 7,
    "start_time": "2025-04-04T19:58:23.334Z"
   },
   {
    "duration": 17,
    "start_time": "2025-04-04T19:58:23.343Z"
   },
   {
    "duration": 4,
    "start_time": "2025-04-04T19:58:23.362Z"
   },
   {
    "duration": 5,
    "start_time": "2025-04-04T19:58:23.410Z"
   },
   {
    "duration": 2553,
    "start_time": "2025-04-04T19:58:23.416Z"
   },
   {
    "duration": 2,
    "start_time": "2025-04-04T19:58:25.971Z"
   },
   {
    "duration": 39,
    "start_time": "2025-04-04T19:58:25.975Z"
   },
   {
    "duration": 2,
    "start_time": "2025-04-04T19:58:26.016Z"
   },
   {
    "duration": 3,
    "start_time": "2025-04-04T19:58:26.020Z"
   },
   {
    "duration": 8,
    "start_time": "2025-04-04T19:58:26.024Z"
   },
   {
    "duration": 14,
    "start_time": "2025-04-04T19:58:26.033Z"
   },
   {
    "duration": 2,
    "start_time": "2025-04-04T19:58:26.048Z"
   },
   {
    "duration": 294,
    "start_time": "2025-04-04T19:58:26.052Z"
   },
   {
    "duration": 342,
    "start_time": "2025-04-04T19:58:26.347Z"
   },
   {
    "duration": 24,
    "start_time": "2025-04-04T19:58:26.691Z"
   },
   {
    "duration": 2,
    "start_time": "2025-04-04T19:58:26.717Z"
   },
   {
    "duration": 3,
    "start_time": "2025-04-04T19:58:26.721Z"
   },
   {
    "duration": 3,
    "start_time": "2025-04-04T19:58:26.728Z"
   },
   {
    "duration": 4,
    "start_time": "2025-04-04T19:58:26.733Z"
   },
   {
    "duration": 11,
    "start_time": "2025-04-04T19:58:26.739Z"
   },
   {
    "duration": 7,
    "start_time": "2025-04-04T19:58:26.752Z"
   },
   {
    "duration": 47,
    "start_time": "2025-04-04T19:58:26.762Z"
   },
   {
    "duration": 29,
    "start_time": "2025-04-04T19:58:26.811Z"
   },
   {
    "duration": 3,
    "start_time": "2025-04-04T19:58:26.842Z"
   },
   {
    "duration": 11,
    "start_time": "2025-04-04T19:58:26.847Z"
   },
   {
    "duration": 3,
    "start_time": "2025-04-04T19:58:26.860Z"
   },
   {
    "duration": 3,
    "start_time": "2025-04-04T19:58:26.866Z"
   },
   {
    "duration": 4,
    "start_time": "2025-04-04T19:58:26.870Z"
   },
   {
    "duration": 569,
    "start_time": "2025-04-04T19:58:26.910Z"
   },
   {
    "duration": 0,
    "start_time": "2025-04-04T19:58:27.481Z"
   },
   {
    "duration": 0,
    "start_time": "2025-04-04T19:58:27.482Z"
   },
   {
    "duration": 0,
    "start_time": "2025-04-04T19:58:27.483Z"
   },
   {
    "duration": 3,
    "start_time": "2025-04-04T20:00:35.852Z"
   },
   {
    "duration": 4,
    "start_time": "2025-04-04T20:01:38.308Z"
   },
   {
    "duration": 33,
    "start_time": "2025-04-04T20:12:11.015Z"
   },
   {
    "duration": 35,
    "start_time": "2025-04-04T20:13:31.084Z"
   },
   {
    "duration": 1027,
    "start_time": "2025-04-04T20:16:31.817Z"
   },
   {
    "duration": 7,
    "start_time": "2025-04-04T20:16:32.846Z"
   },
   {
    "duration": 4,
    "start_time": "2025-04-04T20:16:32.855Z"
   },
   {
    "duration": 5,
    "start_time": "2025-04-04T20:16:32.861Z"
   },
   {
    "duration": 5,
    "start_time": "2025-04-04T20:16:32.869Z"
   },
   {
    "duration": 34,
    "start_time": "2025-04-04T20:16:32.876Z"
   },
   {
    "duration": 3,
    "start_time": "2025-04-04T20:16:32.912Z"
   },
   {
    "duration": 9,
    "start_time": "2025-04-04T20:16:32.917Z"
   },
   {
    "duration": 3,
    "start_time": "2025-04-04T20:16:32.928Z"
   },
   {
    "duration": 4,
    "start_time": "2025-04-04T20:16:32.932Z"
   },
   {
    "duration": 8,
    "start_time": "2025-04-04T20:16:32.937Z"
   },
   {
    "duration": 18,
    "start_time": "2025-04-04T20:16:32.947Z"
   },
   {
    "duration": 43,
    "start_time": "2025-04-04T20:16:32.966Z"
   },
   {
    "duration": 5,
    "start_time": "2025-04-04T20:16:33.013Z"
   },
   {
    "duration": 2538,
    "start_time": "2025-04-04T20:16:33.020Z"
   },
   {
    "duration": 3,
    "start_time": "2025-04-04T20:16:35.559Z"
   },
   {
    "duration": 46,
    "start_time": "2025-04-04T20:16:35.563Z"
   },
   {
    "duration": 2,
    "start_time": "2025-04-04T20:16:35.611Z"
   },
   {
    "duration": 3,
    "start_time": "2025-04-04T20:16:35.614Z"
   },
   {
    "duration": 7,
    "start_time": "2025-04-04T20:16:35.619Z"
   },
   {
    "duration": 12,
    "start_time": "2025-04-04T20:16:35.628Z"
   },
   {
    "duration": 2,
    "start_time": "2025-04-04T20:16:35.642Z"
   },
   {
    "duration": 284,
    "start_time": "2025-04-04T20:16:35.646Z"
   },
   {
    "duration": 317,
    "start_time": "2025-04-04T20:16:35.932Z"
   },
   {
    "duration": 14,
    "start_time": "2025-04-04T20:16:36.251Z"
   },
   {
    "duration": 3,
    "start_time": "2025-04-04T20:16:36.266Z"
   },
   {
    "duration": 4,
    "start_time": "2025-04-04T20:16:36.270Z"
   },
   {
    "duration": 36,
    "start_time": "2025-04-04T20:16:36.275Z"
   },
   {
    "duration": 3,
    "start_time": "2025-04-04T20:16:36.313Z"
   },
   {
    "duration": 12,
    "start_time": "2025-04-04T20:16:36.317Z"
   },
   {
    "duration": 6,
    "start_time": "2025-04-04T20:16:36.331Z"
   },
   {
    "duration": 5,
    "start_time": "2025-04-04T20:16:36.338Z"
   },
   {
    "duration": 28,
    "start_time": "2025-04-04T20:16:36.344Z"
   },
   {
    "duration": 37,
    "start_time": "2025-04-04T20:16:36.373Z"
   },
   {
    "duration": 11,
    "start_time": "2025-04-04T20:16:36.413Z"
   },
   {
    "duration": 4,
    "start_time": "2025-04-04T20:16:36.426Z"
   },
   {
    "duration": 4,
    "start_time": "2025-04-04T20:16:36.431Z"
   },
   {
    "duration": 12,
    "start_time": "2025-04-04T20:16:36.436Z"
   },
   {
    "duration": 634,
    "start_time": "2025-04-04T20:16:36.512Z"
   },
   {
    "duration": 0,
    "start_time": "2025-04-04T20:16:37.148Z"
   },
   {
    "duration": 0,
    "start_time": "2025-04-04T20:16:37.149Z"
   },
   {
    "duration": 4,
    "start_time": "2025-04-04T20:19:56.365Z"
   },
   {
    "duration": 10,
    "start_time": "2025-04-04T20:20:07.872Z"
   },
   {
    "duration": 4,
    "start_time": "2025-04-04T20:20:09.213Z"
   },
   {
    "duration": 21,
    "start_time": "2025-04-04T20:20:39.569Z"
   },
   {
    "duration": 1025,
    "start_time": "2025-04-04T20:21:10.717Z"
   },
   {
    "duration": 8,
    "start_time": "2025-04-04T20:21:11.744Z"
   },
   {
    "duration": 6,
    "start_time": "2025-04-04T20:21:11.755Z"
   },
   {
    "duration": 6,
    "start_time": "2025-04-04T20:21:11.763Z"
   },
   {
    "duration": 5,
    "start_time": "2025-04-04T20:21:11.771Z"
   },
   {
    "duration": 31,
    "start_time": "2025-04-04T20:21:11.779Z"
   },
   {
    "duration": 3,
    "start_time": "2025-04-04T20:21:11.811Z"
   },
   {
    "duration": 9,
    "start_time": "2025-04-04T20:21:11.816Z"
   },
   {
    "duration": 4,
    "start_time": "2025-04-04T20:21:11.826Z"
   },
   {
    "duration": 3,
    "start_time": "2025-04-04T20:21:11.833Z"
   },
   {
    "duration": 8,
    "start_time": "2025-04-04T20:21:11.838Z"
   },
   {
    "duration": 17,
    "start_time": "2025-04-04T20:21:11.847Z"
   },
   {
    "duration": 3,
    "start_time": "2025-04-04T20:21:11.866Z"
   },
   {
    "duration": 41,
    "start_time": "2025-04-04T20:21:11.871Z"
   },
   {
    "duration": 2512,
    "start_time": "2025-04-04T20:21:11.914Z"
   },
   {
    "duration": 3,
    "start_time": "2025-04-04T20:21:14.427Z"
   },
   {
    "duration": 40,
    "start_time": "2025-04-04T20:21:14.432Z"
   },
   {
    "duration": 2,
    "start_time": "2025-04-04T20:21:14.474Z"
   },
   {
    "duration": 3,
    "start_time": "2025-04-04T20:21:14.477Z"
   },
   {
    "duration": 28,
    "start_time": "2025-04-04T20:21:14.482Z"
   },
   {
    "duration": 13,
    "start_time": "2025-04-04T20:21:14.511Z"
   },
   {
    "duration": 3,
    "start_time": "2025-04-04T20:21:14.525Z"
   },
   {
    "duration": 287,
    "start_time": "2025-04-04T20:21:14.530Z"
   },
   {
    "duration": 309,
    "start_time": "2025-04-04T20:21:14.818Z"
   },
   {
    "duration": 14,
    "start_time": "2025-04-04T20:21:15.129Z"
   },
   {
    "duration": 3,
    "start_time": "2025-04-04T20:21:15.144Z"
   },
   {
    "duration": 4,
    "start_time": "2025-04-04T20:21:15.149Z"
   },
   {
    "duration": 2,
    "start_time": "2025-04-04T20:21:15.157Z"
   },
   {
    "duration": 3,
    "start_time": "2025-04-04T20:21:15.162Z"
   },
   {
    "duration": 50,
    "start_time": "2025-04-04T20:21:15.166Z"
   },
   {
    "duration": 6,
    "start_time": "2025-04-04T20:21:15.218Z"
   },
   {
    "duration": 4,
    "start_time": "2025-04-04T20:21:15.226Z"
   },
   {
    "duration": 27,
    "start_time": "2025-04-04T20:21:15.232Z"
   },
   {
    "duration": 3,
    "start_time": "2025-04-04T20:21:15.261Z"
   },
   {
    "duration": 48,
    "start_time": "2025-04-04T20:21:15.265Z"
   },
   {
    "duration": 5,
    "start_time": "2025-04-04T20:21:15.314Z"
   },
   {
    "duration": 3,
    "start_time": "2025-04-04T20:21:15.320Z"
   },
   {
    "duration": 8,
    "start_time": "2025-04-04T20:21:15.325Z"
   },
   {
    "duration": 378,
    "start_time": "2025-04-04T20:21:15.334Z"
   },
   {
    "duration": 0,
    "start_time": "2025-04-04T20:21:15.714Z"
   },
   {
    "duration": 0,
    "start_time": "2025-04-04T20:21:15.715Z"
   },
   {
    "duration": 1,
    "start_time": "2025-04-04T20:21:15.716Z"
   },
   {
    "duration": 958,
    "start_time": "2025-04-04T20:26:47.097Z"
   },
   {
    "duration": 7,
    "start_time": "2025-04-04T20:26:48.057Z"
   },
   {
    "duration": 5,
    "start_time": "2025-04-04T20:26:48.065Z"
   },
   {
    "duration": 7,
    "start_time": "2025-04-04T20:26:48.072Z"
   },
   {
    "duration": 5,
    "start_time": "2025-04-04T20:26:48.081Z"
   },
   {
    "duration": 26,
    "start_time": "2025-04-04T20:26:48.088Z"
   },
   {
    "duration": 3,
    "start_time": "2025-04-04T20:26:48.116Z"
   },
   {
    "duration": 12,
    "start_time": "2025-04-04T20:26:48.120Z"
   },
   {
    "duration": 3,
    "start_time": "2025-04-04T20:26:48.134Z"
   },
   {
    "duration": 6,
    "start_time": "2025-04-04T20:26:48.141Z"
   },
   {
    "duration": 8,
    "start_time": "2025-04-04T20:26:48.149Z"
   },
   {
    "duration": 51,
    "start_time": "2025-04-04T20:26:48.158Z"
   },
   {
    "duration": 4,
    "start_time": "2025-04-04T20:26:48.212Z"
   },
   {
    "duration": 5,
    "start_time": "2025-04-04T20:26:48.218Z"
   },
   {
    "duration": 2616,
    "start_time": "2025-04-04T20:26:48.225Z"
   },
   {
    "duration": 3,
    "start_time": "2025-04-04T20:26:50.843Z"
   },
   {
    "duration": 46,
    "start_time": "2025-04-04T20:26:50.847Z"
   },
   {
    "duration": 2,
    "start_time": "2025-04-04T20:26:50.895Z"
   },
   {
    "duration": 2,
    "start_time": "2025-04-04T20:26:50.899Z"
   },
   {
    "duration": 8,
    "start_time": "2025-04-04T20:26:50.903Z"
   },
   {
    "duration": 12,
    "start_time": "2025-04-04T20:26:50.913Z"
   },
   {
    "duration": 3,
    "start_time": "2025-04-04T20:26:50.926Z"
   },
   {
    "duration": 271,
    "start_time": "2025-04-04T20:26:50.930Z"
   },
   {
    "duration": 332,
    "start_time": "2025-04-04T20:26:51.203Z"
   },
   {
    "duration": 13,
    "start_time": "2025-04-04T20:26:51.537Z"
   },
   {
    "duration": 2,
    "start_time": "2025-04-04T20:26:51.552Z"
   },
   {
    "duration": 4,
    "start_time": "2025-04-04T20:26:51.556Z"
   },
   {
    "duration": 3,
    "start_time": "2025-04-04T20:26:51.564Z"
   },
   {
    "duration": 3,
    "start_time": "2025-04-04T20:26:51.569Z"
   },
   {
    "duration": 47,
    "start_time": "2025-04-04T20:26:51.573Z"
   },
   {
    "duration": 6,
    "start_time": "2025-04-04T20:26:51.621Z"
   },
   {
    "duration": 5,
    "start_time": "2025-04-04T20:26:51.629Z"
   },
   {
    "duration": 33,
    "start_time": "2025-04-04T20:26:51.635Z"
   },
   {
    "duration": 4,
    "start_time": "2025-04-04T20:26:51.669Z"
   },
   {
    "duration": 43,
    "start_time": "2025-04-04T20:26:51.674Z"
   },
   {
    "duration": 4,
    "start_time": "2025-04-04T20:26:51.719Z"
   },
   {
    "duration": 3,
    "start_time": "2025-04-04T20:26:51.725Z"
   },
   {
    "duration": 12,
    "start_time": "2025-04-04T20:26:51.729Z"
   },
   {
    "duration": 5,
    "start_time": "2025-04-04T20:26:51.742Z"
   },
   {
    "duration": 631,
    "start_time": "2025-04-04T20:26:51.810Z"
   },
   {
    "duration": 0,
    "start_time": "2025-04-04T20:26:52.443Z"
   },
   {
    "duration": 0,
    "start_time": "2025-04-04T20:26:52.444Z"
   },
   {
    "duration": 12,
    "start_time": "2025-04-04T20:28:59.803Z"
   },
   {
    "duration": 6,
    "start_time": "2025-04-04T20:30:57.398Z"
   },
   {
    "duration": 23,
    "start_time": "2025-04-04T20:38:19.079Z"
   },
   {
    "duration": 6,
    "start_time": "2025-04-04T20:40:07.241Z"
   },
   {
    "duration": 5,
    "start_time": "2025-04-04T20:42:26.058Z"
   },
   {
    "duration": 9,
    "start_time": "2025-04-04T20:42:48.698Z"
   },
   {
    "duration": 4,
    "start_time": "2025-04-04T20:50:39.405Z"
   },
   {
    "duration": 2,
    "start_time": "2025-04-04T20:52:00.869Z"
   },
   {
    "duration": 4,
    "start_time": "2025-04-04T20:52:40.891Z"
   },
   {
    "duration": 26,
    "start_time": "2025-04-04T20:53:18.619Z"
   },
   {
    "duration": 1135,
    "start_time": "2025-04-04T20:54:15.142Z"
   },
   {
    "duration": 8,
    "start_time": "2025-04-04T20:54:16.279Z"
   },
   {
    "duration": 5,
    "start_time": "2025-04-04T20:54:16.289Z"
   },
   {
    "duration": 12,
    "start_time": "2025-04-04T20:54:16.298Z"
   },
   {
    "duration": 5,
    "start_time": "2025-04-04T20:54:16.313Z"
   },
   {
    "duration": 8,
    "start_time": "2025-04-04T20:54:16.320Z"
   },
   {
    "duration": 3,
    "start_time": "2025-04-04T20:54:16.330Z"
   },
   {
    "duration": 10,
    "start_time": "2025-04-04T20:54:16.335Z"
   },
   {
    "duration": 4,
    "start_time": "2025-04-04T20:54:16.347Z"
   },
   {
    "duration": 4,
    "start_time": "2025-04-04T20:54:16.353Z"
   },
   {
    "duration": 50,
    "start_time": "2025-04-04T20:54:16.359Z"
   },
   {
    "duration": 25,
    "start_time": "2025-04-04T20:54:16.411Z"
   },
   {
    "duration": 6,
    "start_time": "2025-04-04T20:54:16.437Z"
   },
   {
    "duration": 5,
    "start_time": "2025-04-04T20:54:16.449Z"
   },
   {
    "duration": 3369,
    "start_time": "2025-04-04T20:54:16.456Z"
   },
   {
    "duration": 3,
    "start_time": "2025-04-04T20:54:19.828Z"
   },
   {
    "duration": 48,
    "start_time": "2025-04-04T20:54:19.833Z"
   },
   {
    "duration": 3,
    "start_time": "2025-04-04T20:54:19.883Z"
   },
   {
    "duration": 3,
    "start_time": "2025-04-04T20:54:19.888Z"
   },
   {
    "duration": 21,
    "start_time": "2025-04-04T20:54:19.894Z"
   },
   {
    "duration": 14,
    "start_time": "2025-04-04T20:54:19.917Z"
   },
   {
    "duration": 3,
    "start_time": "2025-04-04T20:54:19.932Z"
   },
   {
    "duration": 309,
    "start_time": "2025-04-04T20:54:19.937Z"
   },
   {
    "duration": 396,
    "start_time": "2025-04-04T20:54:20.250Z"
   },
   {
    "duration": 14,
    "start_time": "2025-04-04T20:54:20.649Z"
   },
   {
    "duration": 2,
    "start_time": "2025-04-04T20:54:20.665Z"
   },
   {
    "duration": 4,
    "start_time": "2025-04-04T20:54:20.669Z"
   },
   {
    "duration": 34,
    "start_time": "2025-04-04T20:54:20.675Z"
   },
   {
    "duration": 3,
    "start_time": "2025-04-04T20:54:20.712Z"
   },
   {
    "duration": 11,
    "start_time": "2025-04-04T20:54:20.717Z"
   },
   {
    "duration": 6,
    "start_time": "2025-04-04T20:54:20.730Z"
   },
   {
    "duration": 7,
    "start_time": "2025-04-04T20:54:20.738Z"
   },
   {
    "duration": 77,
    "start_time": "2025-04-04T20:54:20.747Z"
   },
   {
    "duration": 4,
    "start_time": "2025-04-04T20:54:20.826Z"
   },
   {
    "duration": 15,
    "start_time": "2025-04-04T20:54:20.832Z"
   },
   {
    "duration": 5,
    "start_time": "2025-04-04T20:54:20.848Z"
   },
   {
    "duration": 3,
    "start_time": "2025-04-04T20:54:20.854Z"
   },
   {
    "duration": 54,
    "start_time": "2025-04-04T20:54:20.859Z"
   },
   {
    "duration": 12,
    "start_time": "2025-04-04T20:54:20.915Z"
   },
   {
    "duration": 7,
    "start_time": "2025-04-04T20:54:20.929Z"
   },
   {
    "duration": 5,
    "start_time": "2025-04-04T20:54:21.011Z"
   },
   {
    "duration": 9,
    "start_time": "2025-04-04T20:54:21.017Z"
   },
   {
    "duration": 5,
    "start_time": "2025-04-04T20:54:21.028Z"
   },
   {
    "duration": 796,
    "start_time": "2025-04-04T20:54:21.035Z"
   },
   {
    "duration": 0,
    "start_time": "2025-04-04T20:54:21.833Z"
   },
   {
    "duration": 0,
    "start_time": "2025-04-04T20:54:21.834Z"
   },
   {
    "duration": 4,
    "start_time": "2025-04-04T20:54:49.226Z"
   },
   {
    "duration": 3,
    "start_time": "2025-04-04T20:55:27.793Z"
   },
   {
    "duration": 9,
    "start_time": "2025-04-04T20:55:57.622Z"
   },
   {
    "duration": 3,
    "start_time": "2025-04-04T20:56:24.632Z"
   },
   {
    "duration": 4,
    "start_time": "2025-04-04T20:57:35.468Z"
   },
   {
    "duration": 5,
    "start_time": "2025-04-04T21:02:37.248Z"
   },
   {
    "duration": 6,
    "start_time": "2025-04-04T21:02:39.458Z"
   },
   {
    "duration": 3,
    "start_time": "2025-04-04T21:14:39.616Z"
   },
   {
    "duration": 3,
    "start_time": "2025-04-04T21:14:41.623Z"
   },
   {
    "duration": 3,
    "start_time": "2025-04-04T21:14:47.572Z"
   },
   {
    "duration": 3,
    "start_time": "2025-04-04T21:22:39.958Z"
   },
   {
    "duration": 11,
    "start_time": "2025-04-04T21:32:00.781Z"
   },
   {
    "duration": 11,
    "start_time": "2025-04-04T21:34:24.074Z"
   },
   {
    "duration": 4,
    "start_time": "2025-04-04T21:35:22.923Z"
   },
   {
    "duration": 3,
    "start_time": "2025-04-04T21:35:41.105Z"
   },
   {
    "duration": 9,
    "start_time": "2025-04-04T21:35:49.822Z"
   },
   {
    "duration": 4,
    "start_time": "2025-04-04T21:35:54.923Z"
   },
   {
    "duration": 4,
    "start_time": "2025-04-04T21:36:00.260Z"
   },
   {
    "duration": 4,
    "start_time": "2025-04-04T21:36:01.592Z"
   },
   {
    "duration": 4,
    "start_time": "2025-04-04T21:36:09.971Z"
   },
   {
    "duration": 6,
    "start_time": "2025-04-04T21:36:21.896Z"
   },
   {
    "duration": 1027,
    "start_time": "2025-04-04T21:36:34.114Z"
   },
   {
    "duration": 8,
    "start_time": "2025-04-04T21:36:35.143Z"
   },
   {
    "duration": 5,
    "start_time": "2025-04-04T21:36:35.152Z"
   },
   {
    "duration": 6,
    "start_time": "2025-04-04T21:36:35.158Z"
   },
   {
    "duration": 5,
    "start_time": "2025-04-04T21:36:35.166Z"
   },
   {
    "duration": 36,
    "start_time": "2025-04-04T21:36:35.173Z"
   },
   {
    "duration": 3,
    "start_time": "2025-04-04T21:36:35.210Z"
   },
   {
    "duration": 10,
    "start_time": "2025-04-04T21:36:35.215Z"
   },
   {
    "duration": 3,
    "start_time": "2025-04-04T21:36:35.226Z"
   },
   {
    "duration": 4,
    "start_time": "2025-04-04T21:36:35.231Z"
   },
   {
    "duration": 9,
    "start_time": "2025-04-04T21:36:35.237Z"
   },
   {
    "duration": 18,
    "start_time": "2025-04-04T21:36:35.247Z"
   },
   {
    "duration": 4,
    "start_time": "2025-04-04T21:36:35.267Z"
   },
   {
    "duration": 38,
    "start_time": "2025-04-04T21:36:35.274Z"
   },
   {
    "duration": 2627,
    "start_time": "2025-04-04T21:36:35.314Z"
   },
   {
    "duration": 4,
    "start_time": "2025-04-04T21:36:37.943Z"
   },
   {
    "duration": 38,
    "start_time": "2025-04-04T21:36:37.948Z"
   },
   {
    "duration": 2,
    "start_time": "2025-04-04T21:36:37.988Z"
   },
   {
    "duration": 4,
    "start_time": "2025-04-04T21:36:37.991Z"
   },
   {
    "duration": 8,
    "start_time": "2025-04-04T21:36:37.996Z"
   },
   {
    "duration": 14,
    "start_time": "2025-04-04T21:36:38.006Z"
   },
   {
    "duration": 3,
    "start_time": "2025-04-04T21:36:38.022Z"
   },
   {
    "duration": 287,
    "start_time": "2025-04-04T21:36:38.027Z"
   },
   {
    "duration": 352,
    "start_time": "2025-04-04T21:36:38.316Z"
   },
   {
    "duration": 14,
    "start_time": "2025-04-04T21:36:38.670Z"
   },
   {
    "duration": 2,
    "start_time": "2025-04-04T21:36:38.708Z"
   },
   {
    "duration": 5,
    "start_time": "2025-04-04T21:36:38.712Z"
   },
   {
    "duration": 5,
    "start_time": "2025-04-04T21:36:38.718Z"
   },
   {
    "duration": 5,
    "start_time": "2025-04-04T21:36:38.724Z"
   },
   {
    "duration": 14,
    "start_time": "2025-04-04T21:36:38.731Z"
   },
   {
    "duration": 6,
    "start_time": "2025-04-04T21:36:38.746Z"
   },
   {
    "duration": 4,
    "start_time": "2025-04-04T21:36:38.754Z"
   },
   {
    "duration": 71,
    "start_time": "2025-04-04T21:36:38.760Z"
   },
   {
    "duration": 4,
    "start_time": "2025-04-04T21:36:38.833Z"
   },
   {
    "duration": 19,
    "start_time": "2025-04-04T21:36:38.839Z"
   },
   {
    "duration": 6,
    "start_time": "2025-04-04T21:36:38.860Z"
   },
   {
    "duration": 3,
    "start_time": "2025-04-04T21:36:38.869Z"
   },
   {
    "duration": 38,
    "start_time": "2025-04-04T21:36:38.874Z"
   },
   {
    "duration": 8,
    "start_time": "2025-04-04T21:36:38.913Z"
   },
   {
    "duration": 5,
    "start_time": "2025-04-04T21:36:38.923Z"
   },
   {
    "duration": 74,
    "start_time": "2025-04-04T21:36:38.936Z"
   },
   {
    "duration": 10,
    "start_time": "2025-04-04T21:36:39.012Z"
   },
   {
    "duration": 4,
    "start_time": "2025-04-04T21:36:39.023Z"
   },
   {
    "duration": 3,
    "start_time": "2025-04-04T21:36:39.028Z"
   },
   {
    "duration": 3,
    "start_time": "2025-04-04T21:36:39.033Z"
   },
   {
    "duration": 5,
    "start_time": "2025-04-04T21:36:39.037Z"
   },
   {
    "duration": 10,
    "start_time": "2025-04-04T21:36:39.112Z"
   },
   {
    "duration": 5,
    "start_time": "2025-04-04T21:36:39.124Z"
   },
   {
    "duration": 3,
    "start_time": "2025-04-04T21:36:39.132Z"
   },
   {
    "duration": 9,
    "start_time": "2025-04-04T21:36:39.137Z"
   },
   {
    "duration": 5,
    "start_time": "2025-04-04T21:40:15.400Z"
   },
   {
    "duration": 3,
    "start_time": "2025-04-04T21:41:00.380Z"
   },
   {
    "duration": 6,
    "start_time": "2025-04-04T21:41:05.606Z"
   },
   {
    "duration": 3,
    "start_time": "2025-04-04T21:41:06.940Z"
   },
   {
    "duration": 4,
    "start_time": "2025-04-04T21:41:32.901Z"
   },
   {
    "duration": 4,
    "start_time": "2025-04-04T21:42:46.280Z"
   },
   {
    "duration": 4,
    "start_time": "2025-04-04T21:42:48.771Z"
   },
   {
    "duration": 6,
    "start_time": "2025-04-04T21:43:17.956Z"
   },
   {
    "duration": 4,
    "start_time": "2025-04-04T21:43:28.238Z"
   },
   {
    "duration": 7,
    "start_time": "2025-04-04T21:44:24.859Z"
   },
   {
    "duration": 984,
    "start_time": "2025-04-04T21:44:40.277Z"
   },
   {
    "duration": 8,
    "start_time": "2025-04-04T21:44:41.263Z"
   },
   {
    "duration": 5,
    "start_time": "2025-04-04T21:44:41.273Z"
   },
   {
    "duration": 6,
    "start_time": "2025-04-04T21:44:41.281Z"
   },
   {
    "duration": 22,
    "start_time": "2025-04-04T21:44:41.288Z"
   },
   {
    "duration": 9,
    "start_time": "2025-04-04T21:44:41.312Z"
   },
   {
    "duration": 2,
    "start_time": "2025-04-04T21:44:41.324Z"
   },
   {
    "duration": 10,
    "start_time": "2025-04-04T21:44:41.328Z"
   },
   {
    "duration": 3,
    "start_time": "2025-04-04T21:44:41.340Z"
   },
   {
    "duration": 6,
    "start_time": "2025-04-04T21:44:41.346Z"
   },
   {
    "duration": 12,
    "start_time": "2025-04-04T21:44:41.353Z"
   },
   {
    "duration": 47,
    "start_time": "2025-04-04T21:44:41.366Z"
   },
   {
    "duration": 4,
    "start_time": "2025-04-04T21:44:41.415Z"
   },
   {
    "duration": 5,
    "start_time": "2025-04-04T21:44:41.421Z"
   },
   {
    "duration": 2550,
    "start_time": "2025-04-04T21:44:41.427Z"
   },
   {
    "duration": 3,
    "start_time": "2025-04-04T21:44:43.979Z"
   },
   {
    "duration": 40,
    "start_time": "2025-04-04T21:44:43.983Z"
   },
   {
    "duration": 3,
    "start_time": "2025-04-04T21:44:44.024Z"
   },
   {
    "duration": 2,
    "start_time": "2025-04-04T21:44:44.028Z"
   },
   {
    "duration": 8,
    "start_time": "2025-04-04T21:44:44.032Z"
   },
   {
    "duration": 12,
    "start_time": "2025-04-04T21:44:44.042Z"
   },
   {
    "duration": 3,
    "start_time": "2025-04-04T21:44:44.055Z"
   },
   {
    "duration": 297,
    "start_time": "2025-04-04T21:44:44.059Z"
   },
   {
    "duration": 384,
    "start_time": "2025-04-04T21:44:44.358Z"
   },
   {
    "duration": 11,
    "start_time": "2025-04-04T21:44:44.744Z"
   },
   {
    "duration": 2,
    "start_time": "2025-04-04T21:44:44.757Z"
   },
   {
    "duration": 6,
    "start_time": "2025-04-04T21:44:44.763Z"
   },
   {
    "duration": 2,
    "start_time": "2025-04-04T21:44:44.773Z"
   },
   {
    "duration": 3,
    "start_time": "2025-04-04T21:44:44.777Z"
   },
   {
    "duration": 12,
    "start_time": "2025-04-04T21:44:44.809Z"
   },
   {
    "duration": 6,
    "start_time": "2025-04-04T21:44:44.824Z"
   },
   {
    "duration": 4,
    "start_time": "2025-04-04T21:44:44.832Z"
   },
   {
    "duration": 26,
    "start_time": "2025-04-04T21:44:44.838Z"
   },
   {
    "duration": 4,
    "start_time": "2025-04-04T21:44:44.866Z"
   },
   {
    "duration": 44,
    "start_time": "2025-04-04T21:44:44.872Z"
   },
   {
    "duration": 3,
    "start_time": "2025-04-04T21:44:44.918Z"
   },
   {
    "duration": 255,
    "start_time": "2025-04-04T21:44:44.923Z"
   },
   {
    "duration": 0,
    "start_time": "2025-04-04T21:44:45.193Z"
   },
   {
    "duration": 0,
    "start_time": "2025-04-04T21:44:45.195Z"
   },
   {
    "duration": 0,
    "start_time": "2025-04-04T21:44:45.201Z"
   },
   {
    "duration": 0,
    "start_time": "2025-04-04T21:44:45.202Z"
   },
   {
    "duration": 0,
    "start_time": "2025-04-04T21:44:45.203Z"
   },
   {
    "duration": 0,
    "start_time": "2025-04-04T21:44:45.204Z"
   },
   {
    "duration": 0,
    "start_time": "2025-04-04T21:44:45.205Z"
   },
   {
    "duration": 0,
    "start_time": "2025-04-04T21:44:45.206Z"
   },
   {
    "duration": 0,
    "start_time": "2025-04-04T21:44:45.207Z"
   },
   {
    "duration": 0,
    "start_time": "2025-04-04T21:44:45.208Z"
   },
   {
    "duration": 0,
    "start_time": "2025-04-04T21:44:45.209Z"
   },
   {
    "duration": 0,
    "start_time": "2025-04-04T21:44:45.210Z"
   },
   {
    "duration": 0,
    "start_time": "2025-04-04T21:44:45.211Z"
   },
   {
    "duration": 0,
    "start_time": "2025-04-04T21:44:45.212Z"
   },
   {
    "duration": 21,
    "start_time": "2025-04-04T21:47:09.875Z"
   },
   {
    "duration": 16,
    "start_time": "2025-04-04T21:47:11.540Z"
   },
   {
    "duration": 5,
    "start_time": "2025-04-04T21:50:12.638Z"
   },
   {
    "duration": 22,
    "start_time": "2025-04-04T21:50:15.821Z"
   },
   {
    "duration": 6,
    "start_time": "2025-04-04T21:53:58.084Z"
   },
   {
    "duration": 1264,
    "start_time": "2025-04-04T21:54:19.769Z"
   },
   {
    "duration": 9,
    "start_time": "2025-04-04T21:54:21.037Z"
   },
   {
    "duration": 5,
    "start_time": "2025-04-04T21:54:21.050Z"
   },
   {
    "duration": 6,
    "start_time": "2025-04-04T21:54:21.056Z"
   },
   {
    "duration": 5,
    "start_time": "2025-04-04T21:54:21.065Z"
   },
   {
    "duration": 9,
    "start_time": "2025-04-04T21:54:21.071Z"
   },
   {
    "duration": 3,
    "start_time": "2025-04-04T21:54:21.082Z"
   },
   {
    "duration": 15,
    "start_time": "2025-04-04T21:54:21.109Z"
   },
   {
    "duration": 5,
    "start_time": "2025-04-04T21:54:21.128Z"
   },
   {
    "duration": 6,
    "start_time": "2025-04-04T21:54:21.136Z"
   },
   {
    "duration": 13,
    "start_time": "2025-04-04T21:54:21.146Z"
   },
   {
    "duration": 35,
    "start_time": "2025-04-04T21:54:21.162Z"
   },
   {
    "duration": 6,
    "start_time": "2025-04-04T21:54:21.203Z"
   },
   {
    "duration": 5,
    "start_time": "2025-04-04T21:54:21.213Z"
   },
   {
    "duration": 3193,
    "start_time": "2025-04-04T21:54:21.220Z"
   },
   {
    "duration": 4,
    "start_time": "2025-04-04T21:54:24.414Z"
   },
   {
    "duration": 56,
    "start_time": "2025-04-04T21:54:24.419Z"
   },
   {
    "duration": 3,
    "start_time": "2025-04-04T21:54:24.477Z"
   },
   {
    "duration": 2,
    "start_time": "2025-04-04T21:54:24.482Z"
   },
   {
    "duration": 27,
    "start_time": "2025-04-04T21:54:24.486Z"
   },
   {
    "duration": 15,
    "start_time": "2025-04-04T21:54:24.515Z"
   },
   {
    "duration": 3,
    "start_time": "2025-04-04T21:54:24.532Z"
   },
   {
    "duration": 476,
    "start_time": "2025-04-04T21:54:24.537Z"
   },
   {
    "duration": 539,
    "start_time": "2025-04-04T21:54:25.015Z"
   },
   {
    "duration": 15,
    "start_time": "2025-04-04T21:54:25.556Z"
   },
   {
    "duration": 3,
    "start_time": "2025-04-04T21:54:25.573Z"
   },
   {
    "duration": 5,
    "start_time": "2025-04-04T21:54:25.578Z"
   },
   {
    "duration": 5,
    "start_time": "2025-04-04T21:54:25.609Z"
   },
   {
    "duration": 3,
    "start_time": "2025-04-04T21:54:25.617Z"
   },
   {
    "duration": 14,
    "start_time": "2025-04-04T21:54:25.623Z"
   },
   {
    "duration": 8,
    "start_time": "2025-04-04T21:54:25.639Z"
   },
   {
    "duration": 6,
    "start_time": "2025-04-04T21:54:25.648Z"
   },
   {
    "duration": 71,
    "start_time": "2025-04-04T21:54:25.656Z"
   },
   {
    "duration": 4,
    "start_time": "2025-04-04T21:54:25.729Z"
   },
   {
    "duration": 12,
    "start_time": "2025-04-04T21:54:25.736Z"
   },
   {
    "duration": 5,
    "start_time": "2025-04-04T21:54:25.749Z"
   },
   {
    "duration": 4,
    "start_time": "2025-04-04T21:54:25.756Z"
   },
   {
    "duration": 397,
    "start_time": "2025-04-04T21:54:25.762Z"
   },
   {
    "duration": 0,
    "start_time": "2025-04-04T21:54:26.162Z"
   },
   {
    "duration": 0,
    "start_time": "2025-04-04T21:54:26.163Z"
   },
   {
    "duration": 1,
    "start_time": "2025-04-04T21:54:26.163Z"
   },
   {
    "duration": 0,
    "start_time": "2025-04-04T21:54:26.164Z"
   },
   {
    "duration": 0,
    "start_time": "2025-04-04T21:54:26.165Z"
   },
   {
    "duration": 0,
    "start_time": "2025-04-04T21:54:26.167Z"
   },
   {
    "duration": 0,
    "start_time": "2025-04-04T21:54:26.168Z"
   },
   {
    "duration": 0,
    "start_time": "2025-04-04T21:54:26.170Z"
   },
   {
    "duration": 0,
    "start_time": "2025-04-04T21:54:26.172Z"
   },
   {
    "duration": 0,
    "start_time": "2025-04-04T21:54:26.173Z"
   },
   {
    "duration": 0,
    "start_time": "2025-04-04T21:54:26.174Z"
   },
   {
    "duration": 0,
    "start_time": "2025-04-04T21:54:26.176Z"
   },
   {
    "duration": 0,
    "start_time": "2025-04-04T21:54:26.177Z"
   },
   {
    "duration": 0,
    "start_time": "2025-04-04T21:54:26.178Z"
   },
   {
    "duration": 3,
    "start_time": "2025-04-04T21:56:24.438Z"
   },
   {
    "duration": 3,
    "start_time": "2025-04-04T21:56:27.804Z"
   },
   {
    "duration": 4,
    "start_time": "2025-04-04T21:56:29.991Z"
   },
   {
    "duration": 16,
    "start_time": "2025-04-04T21:56:31.983Z"
   },
   {
    "duration": 20,
    "start_time": "2025-04-04T21:56:35.667Z"
   },
   {
    "duration": 21,
    "start_time": "2025-04-04T21:57:23.865Z"
   },
   {
    "duration": 17,
    "start_time": "2025-04-04T21:59:23.440Z"
   },
   {
    "duration": 20,
    "start_time": "2025-04-04T22:00:32.777Z"
   },
   {
    "duration": 19,
    "start_time": "2025-04-04T22:00:56.450Z"
   },
   {
    "duration": 18,
    "start_time": "2025-04-04T22:01:27.708Z"
   },
   {
    "duration": 15,
    "start_time": "2025-04-04T22:10:47.711Z"
   },
   {
    "duration": 14,
    "start_time": "2025-04-04T22:11:03.958Z"
   },
   {
    "duration": 15,
    "start_time": "2025-04-04T22:11:42.715Z"
   },
   {
    "duration": 1157,
    "start_time": "2025-04-04T22:12:00.583Z"
   },
   {
    "duration": 9,
    "start_time": "2025-04-04T22:12:01.742Z"
   },
   {
    "duration": 5,
    "start_time": "2025-04-04T22:12:01.752Z"
   },
   {
    "duration": 6,
    "start_time": "2025-04-04T22:12:01.760Z"
   },
   {
    "duration": 5,
    "start_time": "2025-04-04T22:12:01.767Z"
   },
   {
    "duration": 36,
    "start_time": "2025-04-04T22:12:01.773Z"
   },
   {
    "duration": 3,
    "start_time": "2025-04-04T22:12:01.810Z"
   },
   {
    "duration": 15,
    "start_time": "2025-04-04T22:12:01.815Z"
   },
   {
    "duration": 4,
    "start_time": "2025-04-04T22:12:01.833Z"
   },
   {
    "duration": 6,
    "start_time": "2025-04-04T22:12:01.843Z"
   },
   {
    "duration": 8,
    "start_time": "2025-04-04T22:12:01.852Z"
   },
   {
    "duration": 21,
    "start_time": "2025-04-04T22:12:01.862Z"
   },
   {
    "duration": 4,
    "start_time": "2025-04-04T22:12:01.885Z"
   },
   {
    "duration": 4,
    "start_time": "2025-04-04T22:12:01.909Z"
   },
   {
    "duration": 3227,
    "start_time": "2025-04-04T22:12:01.914Z"
   },
   {
    "duration": 3,
    "start_time": "2025-04-04T22:12:05.143Z"
   },
   {
    "duration": 50,
    "start_time": "2025-04-04T22:12:05.148Z"
   },
   {
    "duration": 3,
    "start_time": "2025-04-04T22:12:05.199Z"
   },
   {
    "duration": 7,
    "start_time": "2025-04-04T22:12:05.203Z"
   },
   {
    "duration": 8,
    "start_time": "2025-04-04T22:12:05.212Z"
   },
   {
    "duration": 13,
    "start_time": "2025-04-04T22:12:05.222Z"
   },
   {
    "duration": 3,
    "start_time": "2025-04-04T22:12:05.236Z"
   },
   {
    "duration": 432,
    "start_time": "2025-04-04T22:12:05.240Z"
   },
   {
    "duration": 495,
    "start_time": "2025-04-04T22:12:05.673Z"
   },
   {
    "duration": 13,
    "start_time": "2025-04-04T22:12:06.170Z"
   },
   {
    "duration": 2,
    "start_time": "2025-04-04T22:12:06.185Z"
   },
   {
    "duration": 23,
    "start_time": "2025-04-04T22:12:06.189Z"
   },
   {
    "duration": 3,
    "start_time": "2025-04-04T22:12:06.217Z"
   },
   {
    "duration": 3,
    "start_time": "2025-04-04T22:12:06.222Z"
   },
   {
    "duration": 13,
    "start_time": "2025-04-04T22:12:06.226Z"
   },
   {
    "duration": 6,
    "start_time": "2025-04-04T22:12:06.241Z"
   },
   {
    "duration": 6,
    "start_time": "2025-04-04T22:12:06.249Z"
   },
   {
    "duration": 71,
    "start_time": "2025-04-04T22:12:06.256Z"
   },
   {
    "duration": 3,
    "start_time": "2025-04-04T22:12:06.329Z"
   },
   {
    "duration": 12,
    "start_time": "2025-04-04T22:12:06.333Z"
   },
   {
    "duration": 3,
    "start_time": "2025-04-04T22:12:06.347Z"
   },
   {
    "duration": 3,
    "start_time": "2025-04-04T22:12:06.352Z"
   },
   {
    "duration": 4,
    "start_time": "2025-04-04T22:12:06.357Z"
   },
   {
    "duration": 377,
    "start_time": "2025-04-04T22:12:06.363Z"
   },
   {
    "duration": 0,
    "start_time": "2025-04-04T22:12:06.742Z"
   },
   {
    "duration": 0,
    "start_time": "2025-04-04T22:12:06.743Z"
   },
   {
    "duration": 0,
    "start_time": "2025-04-04T22:12:06.745Z"
   },
   {
    "duration": 0,
    "start_time": "2025-04-04T22:12:06.746Z"
   },
   {
    "duration": 0,
    "start_time": "2025-04-04T22:12:06.747Z"
   },
   {
    "duration": 0,
    "start_time": "2025-04-04T22:12:06.749Z"
   },
   {
    "duration": 0,
    "start_time": "2025-04-04T22:12:06.750Z"
   },
   {
    "duration": 0,
    "start_time": "2025-04-04T22:12:06.751Z"
   },
   {
    "duration": 0,
    "start_time": "2025-04-04T22:12:06.752Z"
   },
   {
    "duration": 0,
    "start_time": "2025-04-04T22:12:06.754Z"
   },
   {
    "duration": 0,
    "start_time": "2025-04-04T22:12:06.755Z"
   },
   {
    "duration": 0,
    "start_time": "2025-04-04T22:12:06.757Z"
   },
   {
    "duration": 0,
    "start_time": "2025-04-04T22:12:06.758Z"
   },
   {
    "duration": 0,
    "start_time": "2025-04-04T22:12:06.759Z"
   },
   {
    "duration": 18,
    "start_time": "2025-04-04T22:13:13.706Z"
   },
   {
    "duration": 15,
    "start_time": "2025-04-04T22:13:14.559Z"
   },
   {
    "duration": 5,
    "start_time": "2025-04-04T22:13:44.453Z"
   },
   {
    "duration": 16,
    "start_time": "2025-04-04T22:13:55.081Z"
   },
   {
    "duration": 3,
    "start_time": "2025-04-04T22:14:26.757Z"
   },
   {
    "duration": 4,
    "start_time": "2025-04-04T22:14:36.319Z"
   },
   {
    "duration": 986,
    "start_time": "2025-04-04T22:14:44.564Z"
   },
   {
    "duration": 7,
    "start_time": "2025-04-04T22:14:45.552Z"
   },
   {
    "duration": 5,
    "start_time": "2025-04-04T22:14:45.561Z"
   },
   {
    "duration": 6,
    "start_time": "2025-04-04T22:14:45.568Z"
   },
   {
    "duration": 6,
    "start_time": "2025-04-04T22:14:45.575Z"
   },
   {
    "duration": 26,
    "start_time": "2025-04-04T22:14:45.583Z"
   },
   {
    "duration": 3,
    "start_time": "2025-04-04T22:14:45.611Z"
   },
   {
    "duration": 11,
    "start_time": "2025-04-04T22:14:45.616Z"
   },
   {
    "duration": 7,
    "start_time": "2025-04-04T22:14:45.628Z"
   },
   {
    "duration": 5,
    "start_time": "2025-04-04T22:14:45.638Z"
   },
   {
    "duration": 9,
    "start_time": "2025-04-04T22:14:45.644Z"
   },
   {
    "duration": 18,
    "start_time": "2025-04-04T22:14:45.654Z"
   },
   {
    "duration": 4,
    "start_time": "2025-04-04T22:14:45.673Z"
   },
   {
    "duration": 4,
    "start_time": "2025-04-04T22:14:45.709Z"
   },
   {
    "duration": 2634,
    "start_time": "2025-04-04T22:14:45.715Z"
   },
   {
    "duration": 2,
    "start_time": "2025-04-04T22:14:48.351Z"
   },
   {
    "duration": 38,
    "start_time": "2025-04-04T22:14:48.355Z"
   },
   {
    "duration": 2,
    "start_time": "2025-04-04T22:14:48.395Z"
   },
   {
    "duration": 2,
    "start_time": "2025-04-04T22:14:48.409Z"
   },
   {
    "duration": 9,
    "start_time": "2025-04-04T22:14:48.412Z"
   },
   {
    "duration": 13,
    "start_time": "2025-04-04T22:14:48.423Z"
   },
   {
    "duration": 2,
    "start_time": "2025-04-04T22:14:48.439Z"
   },
   {
    "duration": 322,
    "start_time": "2025-04-04T22:14:48.443Z"
   },
   {
    "duration": 337,
    "start_time": "2025-04-04T22:14:48.767Z"
   },
   {
    "duration": 18,
    "start_time": "2025-04-04T22:14:49.109Z"
   },
   {
    "duration": 2,
    "start_time": "2025-04-04T22:14:49.129Z"
   },
   {
    "duration": 5,
    "start_time": "2025-04-04T22:14:49.133Z"
   },
   {
    "duration": 5,
    "start_time": "2025-04-04T22:14:49.143Z"
   },
   {
    "duration": 2,
    "start_time": "2025-04-04T22:14:49.150Z"
   },
   {
    "duration": 14,
    "start_time": "2025-04-04T22:14:49.154Z"
   },
   {
    "duration": 40,
    "start_time": "2025-04-04T22:14:49.169Z"
   },
   {
    "duration": 5,
    "start_time": "2025-04-04T22:14:49.211Z"
   },
   {
    "duration": 27,
    "start_time": "2025-04-04T22:14:49.218Z"
   },
   {
    "duration": 3,
    "start_time": "2025-04-04T22:14:49.246Z"
   },
   {
    "duration": 12,
    "start_time": "2025-04-04T22:14:49.252Z"
   },
   {
    "duration": 4,
    "start_time": "2025-04-04T22:14:49.265Z"
   },
   {
    "duration": 4,
    "start_time": "2025-04-04T22:14:49.270Z"
   },
   {
    "duration": 5,
    "start_time": "2025-04-04T22:14:49.309Z"
   },
   {
    "duration": 3,
    "start_time": "2025-04-04T22:14:49.316Z"
   },
   {
    "duration": 3,
    "start_time": "2025-04-04T22:14:49.321Z"
   },
   {
    "duration": 8,
    "start_time": "2025-04-04T22:14:49.326Z"
   },
   {
    "duration": 5,
    "start_time": "2025-04-04T22:14:49.335Z"
   },
   {
    "duration": 3,
    "start_time": "2025-04-04T22:14:49.342Z"
   },
   {
    "duration": 2,
    "start_time": "2025-04-04T22:14:49.347Z"
   },
   {
    "duration": 59,
    "start_time": "2025-04-04T22:14:49.351Z"
   },
   {
    "duration": 8,
    "start_time": "2025-04-04T22:14:49.412Z"
   },
   {
    "duration": 6,
    "start_time": "2025-04-04T22:14:49.423Z"
   },
   {
    "duration": 6,
    "start_time": "2025-04-04T22:14:49.430Z"
   },
   {
    "duration": 73,
    "start_time": "2025-04-04T22:14:49.438Z"
   },
   {
    "duration": 6,
    "start_time": "2025-04-04T22:14:49.512Z"
   },
   {
    "duration": 6,
    "start_time": "2025-04-04T22:14:49.520Z"
   },
   {
    "duration": 3,
    "start_time": "2025-04-04T22:14:49.528Z"
   },
   {
    "duration": 3,
    "start_time": "2025-04-04T22:14:49.533Z"
   },
   {
    "duration": 5,
    "start_time": "2025-04-04T22:19:15.392Z"
   },
   {
    "duration": 5,
    "start_time": "2025-04-04T22:19:17.502Z"
   },
   {
    "duration": 1075,
    "start_time": "2025-04-04T22:19:46.328Z"
   },
   {
    "duration": 7,
    "start_time": "2025-04-04T22:19:47.409Z"
   },
   {
    "duration": 5,
    "start_time": "2025-04-04T22:19:47.418Z"
   },
   {
    "duration": 5,
    "start_time": "2025-04-04T22:19:47.426Z"
   },
   {
    "duration": 5,
    "start_time": "2025-04-04T22:19:47.433Z"
   },
   {
    "duration": 9,
    "start_time": "2025-04-04T22:19:47.440Z"
   },
   {
    "duration": 4,
    "start_time": "2025-04-04T22:19:47.452Z"
   },
   {
    "duration": 11,
    "start_time": "2025-04-04T22:19:47.458Z"
   },
   {
    "duration": 4,
    "start_time": "2025-04-04T22:19:47.472Z"
   },
   {
    "duration": 32,
    "start_time": "2025-04-04T22:19:47.480Z"
   },
   {
    "duration": 7,
    "start_time": "2025-04-04T22:19:47.514Z"
   },
   {
    "duration": 21,
    "start_time": "2025-04-04T22:19:47.523Z"
   },
   {
    "duration": 4,
    "start_time": "2025-04-04T22:19:47.545Z"
   },
   {
    "duration": 4,
    "start_time": "2025-04-04T22:19:47.551Z"
   },
   {
    "duration": 2685,
    "start_time": "2025-04-04T22:19:47.557Z"
   },
   {
    "duration": 3,
    "start_time": "2025-04-04T22:19:50.245Z"
   },
   {
    "duration": 51,
    "start_time": "2025-04-04T22:19:50.250Z"
   },
   {
    "duration": 7,
    "start_time": "2025-04-04T22:19:50.302Z"
   },
   {
    "duration": 2,
    "start_time": "2025-04-04T22:19:50.311Z"
   },
   {
    "duration": 7,
    "start_time": "2025-04-04T22:19:50.315Z"
   },
   {
    "duration": 14,
    "start_time": "2025-04-04T22:19:50.324Z"
   },
   {
    "duration": 3,
    "start_time": "2025-04-04T22:19:50.339Z"
   },
   {
    "duration": 300,
    "start_time": "2025-04-04T22:19:50.343Z"
   },
   {
    "duration": 317,
    "start_time": "2025-04-04T22:19:50.647Z"
   },
   {
    "duration": 17,
    "start_time": "2025-04-04T22:19:50.966Z"
   },
   {
    "duration": 3,
    "start_time": "2025-04-04T22:19:50.985Z"
   },
   {
    "duration": 3,
    "start_time": "2025-04-04T22:19:51.009Z"
   },
   {
    "duration": 3,
    "start_time": "2025-04-04T22:19:51.016Z"
   },
   {
    "duration": 3,
    "start_time": "2025-04-04T22:19:51.021Z"
   },
   {
    "duration": 13,
    "start_time": "2025-04-04T22:19:51.026Z"
   },
   {
    "duration": 8,
    "start_time": "2025-04-04T22:19:51.040Z"
   },
   {
    "duration": 6,
    "start_time": "2025-04-04T22:19:51.049Z"
   },
   {
    "duration": 64,
    "start_time": "2025-04-04T22:19:51.056Z"
   },
   {
    "duration": 3,
    "start_time": "2025-04-04T22:19:51.122Z"
   },
   {
    "duration": 11,
    "start_time": "2025-04-04T22:19:51.127Z"
   },
   {
    "duration": 4,
    "start_time": "2025-04-04T22:19:51.139Z"
   },
   {
    "duration": 4,
    "start_time": "2025-04-04T22:19:51.145Z"
   },
   {
    "duration": 4,
    "start_time": "2025-04-04T22:19:51.150Z"
   },
   {
    "duration": 6,
    "start_time": "2025-04-04T22:19:51.156Z"
   },
   {
    "duration": 5,
    "start_time": "2025-04-04T22:19:51.164Z"
   },
   {
    "duration": 40,
    "start_time": "2025-04-04T22:19:51.170Z"
   },
   {
    "duration": 15,
    "start_time": "2025-04-04T22:19:51.211Z"
   },
   {
    "duration": 9,
    "start_time": "2025-04-04T22:19:51.227Z"
   },
   {
    "duration": 71,
    "start_time": "2025-04-04T22:19:51.238Z"
   },
   {
    "duration": 3,
    "start_time": "2025-04-04T22:19:51.310Z"
   },
   {
    "duration": 6,
    "start_time": "2025-04-04T22:19:51.315Z"
   },
   {
    "duration": 5,
    "start_time": "2025-04-04T22:19:51.322Z"
   },
   {
    "duration": 4,
    "start_time": "2025-04-04T22:19:51.329Z"
   },
   {
    "duration": 5,
    "start_time": "2025-04-04T22:19:51.335Z"
   },
   {
    "duration": 69,
    "start_time": "2025-04-04T22:19:51.342Z"
   },
   {
    "duration": 9,
    "start_time": "2025-04-04T22:19:51.413Z"
   },
   {
    "duration": 5,
    "start_time": "2025-04-04T22:19:51.424Z"
   },
   {
    "duration": 4,
    "start_time": "2025-04-04T22:19:51.430Z"
   },
   {
    "duration": 72,
    "start_time": "2025-04-04T22:19:51.436Z"
   },
   {
    "duration": 1035,
    "start_time": "2025-04-04T22:20:55.448Z"
   },
   {
    "duration": 10,
    "start_time": "2025-04-04T22:20:56.485Z"
   },
   {
    "duration": 12,
    "start_time": "2025-04-04T22:20:56.499Z"
   },
   {
    "duration": 10,
    "start_time": "2025-04-04T22:20:56.513Z"
   },
   {
    "duration": 5,
    "start_time": "2025-04-04T22:20:56.525Z"
   },
   {
    "duration": 17,
    "start_time": "2025-04-04T22:20:56.532Z"
   },
   {
    "duration": 5,
    "start_time": "2025-04-04T22:20:56.553Z"
   },
   {
    "duration": 11,
    "start_time": "2025-04-04T22:20:56.560Z"
   },
   {
    "duration": 3,
    "start_time": "2025-04-04T22:20:56.572Z"
   },
   {
    "duration": 5,
    "start_time": "2025-04-04T22:20:56.579Z"
   },
   {
    "duration": 29,
    "start_time": "2025-04-04T22:20:56.586Z"
   },
   {
    "duration": 17,
    "start_time": "2025-04-04T22:20:56.616Z"
   },
   {
    "duration": 5,
    "start_time": "2025-04-04T22:20:56.636Z"
   },
   {
    "duration": 5,
    "start_time": "2025-04-04T22:20:56.642Z"
   },
   {
    "duration": 2767,
    "start_time": "2025-04-04T22:20:56.649Z"
   },
   {
    "duration": 4,
    "start_time": "2025-04-04T22:20:59.417Z"
   },
   {
    "duration": 40,
    "start_time": "2025-04-04T22:20:59.423Z"
   },
   {
    "duration": 3,
    "start_time": "2025-04-04T22:20:59.464Z"
   },
   {
    "duration": 2,
    "start_time": "2025-04-04T22:20:59.469Z"
   },
   {
    "duration": 8,
    "start_time": "2025-04-04T22:20:59.473Z"
   },
   {
    "duration": 34,
    "start_time": "2025-04-04T22:20:59.483Z"
   },
   {
    "duration": 4,
    "start_time": "2025-04-04T22:20:59.519Z"
   },
   {
    "duration": 288,
    "start_time": "2025-04-04T22:20:59.524Z"
   },
   {
    "duration": 334,
    "start_time": "2025-04-04T22:20:59.813Z"
   },
   {
    "duration": 14,
    "start_time": "2025-04-04T22:21:00.148Z"
   },
   {
    "duration": 3,
    "start_time": "2025-04-04T22:21:00.164Z"
   },
   {
    "duration": 4,
    "start_time": "2025-04-04T22:21:00.169Z"
   },
   {
    "duration": 31,
    "start_time": "2025-04-04T22:21:00.178Z"
   },
   {
    "duration": 3,
    "start_time": "2025-04-04T22:21:00.211Z"
   },
   {
    "duration": 12,
    "start_time": "2025-04-04T22:21:00.215Z"
   },
   {
    "duration": 6,
    "start_time": "2025-04-04T22:21:00.229Z"
   },
   {
    "duration": 6,
    "start_time": "2025-04-04T22:21:00.237Z"
   },
   {
    "duration": 28,
    "start_time": "2025-04-04T22:21:00.244Z"
   },
   {
    "duration": 3,
    "start_time": "2025-04-04T22:21:00.273Z"
   },
   {
    "duration": 48,
    "start_time": "2025-04-04T22:21:00.277Z"
   },
   {
    "duration": 4,
    "start_time": "2025-04-04T22:21:00.328Z"
   },
   {
    "duration": 4,
    "start_time": "2025-04-04T22:21:00.336Z"
   },
   {
    "duration": 4,
    "start_time": "2025-04-04T22:21:00.342Z"
   },
   {
    "duration": 3,
    "start_time": "2025-04-04T22:21:00.348Z"
   },
   {
    "duration": 0,
    "start_time": "2025-04-04T22:21:00.353Z"
   },
   {
    "duration": 0,
    "start_time": "2025-04-04T22:21:00.356Z"
   },
   {
    "duration": 0,
    "start_time": "2025-04-04T22:21:00.357Z"
   },
   {
    "duration": 0,
    "start_time": "2025-04-04T22:21:00.358Z"
   },
   {
    "duration": 0,
    "start_time": "2025-04-04T22:21:00.359Z"
   },
   {
    "duration": 0,
    "start_time": "2025-04-04T22:21:00.360Z"
   },
   {
    "duration": 0,
    "start_time": "2025-04-04T22:21:00.360Z"
   },
   {
    "duration": 0,
    "start_time": "2025-04-04T22:21:00.361Z"
   },
   {
    "duration": 0,
    "start_time": "2025-04-04T22:21:00.363Z"
   },
   {
    "duration": 0,
    "start_time": "2025-04-04T22:21:00.365Z"
   },
   {
    "duration": 0,
    "start_time": "2025-04-04T22:21:00.366Z"
   },
   {
    "duration": 0,
    "start_time": "2025-04-04T22:21:00.367Z"
   },
   {
    "duration": 0,
    "start_time": "2025-04-04T22:21:00.368Z"
   },
   {
    "duration": 0,
    "start_time": "2025-04-04T22:21:00.369Z"
   },
   {
    "duration": 0,
    "start_time": "2025-04-04T22:21:00.370Z"
   },
   {
    "duration": 6,
    "start_time": "2025-04-04T22:21:34.176Z"
   },
   {
    "duration": 7,
    "start_time": "2025-04-04T22:23:53.990Z"
   },
   {
    "duration": 7,
    "start_time": "2025-04-04T22:24:14.409Z"
   },
   {
    "duration": 3,
    "start_time": "2025-04-04T22:25:04.256Z"
   },
   {
    "duration": 237,
    "start_time": "2025-04-04T22:25:09.393Z"
   },
   {
    "duration": 1044,
    "start_time": "2025-04-04T22:25:28.312Z"
   },
   {
    "duration": 8,
    "start_time": "2025-04-04T22:25:29.358Z"
   },
   {
    "duration": 5,
    "start_time": "2025-04-04T22:25:29.368Z"
   },
   {
    "duration": 6,
    "start_time": "2025-04-04T22:25:29.376Z"
   },
   {
    "duration": 8,
    "start_time": "2025-04-04T22:25:29.384Z"
   },
   {
    "duration": 17,
    "start_time": "2025-04-04T22:25:29.398Z"
   },
   {
    "duration": 4,
    "start_time": "2025-04-04T22:25:29.419Z"
   },
   {
    "duration": 10,
    "start_time": "2025-04-04T22:25:29.425Z"
   },
   {
    "duration": 3,
    "start_time": "2025-04-04T22:25:29.437Z"
   },
   {
    "duration": 4,
    "start_time": "2025-04-04T22:25:29.444Z"
   },
   {
    "duration": 8,
    "start_time": "2025-04-04T22:25:29.449Z"
   },
   {
    "duration": 18,
    "start_time": "2025-04-04T22:25:29.459Z"
   },
   {
    "duration": 4,
    "start_time": "2025-04-04T22:25:29.509Z"
   },
   {
    "duration": 5,
    "start_time": "2025-04-04T22:25:29.515Z"
   },
   {
    "duration": 2655,
    "start_time": "2025-04-04T22:25:29.522Z"
   },
   {
    "duration": 3,
    "start_time": "2025-04-04T22:25:32.178Z"
   },
   {
    "duration": 40,
    "start_time": "2025-04-04T22:25:32.183Z"
   },
   {
    "duration": 3,
    "start_time": "2025-04-04T22:25:32.224Z"
   },
   {
    "duration": 3,
    "start_time": "2025-04-04T22:25:32.228Z"
   },
   {
    "duration": 7,
    "start_time": "2025-04-04T22:25:32.233Z"
   },
   {
    "duration": 12,
    "start_time": "2025-04-04T22:25:32.242Z"
   },
   {
    "duration": 2,
    "start_time": "2025-04-04T22:25:32.255Z"
   },
   {
    "duration": 299,
    "start_time": "2025-04-04T22:25:32.259Z"
   },
   {
    "duration": 329,
    "start_time": "2025-04-04T22:25:32.559Z"
   },
   {
    "duration": 23,
    "start_time": "2025-04-04T22:25:32.890Z"
   },
   {
    "duration": 4,
    "start_time": "2025-04-04T22:25:32.915Z"
   },
   {
    "duration": 5,
    "start_time": "2025-04-04T22:25:32.921Z"
   },
   {
    "duration": 3,
    "start_time": "2025-04-04T22:25:32.931Z"
   },
   {
    "duration": 3,
    "start_time": "2025-04-04T22:25:32.936Z"
   },
   {
    "duration": 14,
    "start_time": "2025-04-04T22:25:32.941Z"
   },
   {
    "duration": 8,
    "start_time": "2025-04-04T22:25:32.959Z"
   },
   {
    "duration": 39,
    "start_time": "2025-04-04T22:25:32.970Z"
   },
   {
    "duration": 28,
    "start_time": "2025-04-04T22:25:33.011Z"
   },
   {
    "duration": 3,
    "start_time": "2025-04-04T22:25:33.041Z"
   },
   {
    "duration": 13,
    "start_time": "2025-04-04T22:25:33.046Z"
   },
   {
    "duration": 3,
    "start_time": "2025-04-04T22:25:33.061Z"
   },
   {
    "duration": 3,
    "start_time": "2025-04-04T22:25:33.067Z"
   },
   {
    "duration": 3,
    "start_time": "2025-04-04T22:25:33.109Z"
   },
   {
    "duration": 235,
    "start_time": "2025-04-04T22:25:33.114Z"
   },
   {
    "duration": 0,
    "start_time": "2025-04-04T22:25:33.351Z"
   },
   {
    "duration": 0,
    "start_time": "2025-04-04T22:25:33.353Z"
   },
   {
    "duration": 0,
    "start_time": "2025-04-04T22:25:33.354Z"
   },
   {
    "duration": 0,
    "start_time": "2025-04-04T22:25:33.355Z"
   },
   {
    "duration": 0,
    "start_time": "2025-04-04T22:25:33.357Z"
   },
   {
    "duration": 0,
    "start_time": "2025-04-04T22:25:33.358Z"
   },
   {
    "duration": 0,
    "start_time": "2025-04-04T22:25:33.359Z"
   },
   {
    "duration": 0,
    "start_time": "2025-04-04T22:25:33.361Z"
   },
   {
    "duration": 0,
    "start_time": "2025-04-04T22:25:33.362Z"
   },
   {
    "duration": 0,
    "start_time": "2025-04-04T22:25:33.363Z"
   },
   {
    "duration": 0,
    "start_time": "2025-04-04T22:25:33.364Z"
   },
   {
    "duration": 0,
    "start_time": "2025-04-04T22:25:33.365Z"
   },
   {
    "duration": 0,
    "start_time": "2025-04-04T22:25:33.366Z"
   },
   {
    "duration": 1057,
    "start_time": "2025-04-04T22:26:34.316Z"
   },
   {
    "duration": 9,
    "start_time": "2025-04-04T22:26:35.376Z"
   },
   {
    "duration": 5,
    "start_time": "2025-04-04T22:26:35.386Z"
   },
   {
    "duration": 18,
    "start_time": "2025-04-04T22:26:35.394Z"
   },
   {
    "duration": 4,
    "start_time": "2025-04-04T22:26:35.414Z"
   },
   {
    "duration": 8,
    "start_time": "2025-04-04T22:26:35.420Z"
   },
   {
    "duration": 3,
    "start_time": "2025-04-04T22:26:35.430Z"
   },
   {
    "duration": 10,
    "start_time": "2025-04-04T22:26:35.435Z"
   },
   {
    "duration": 3,
    "start_time": "2025-04-04T22:26:35.447Z"
   },
   {
    "duration": 4,
    "start_time": "2025-04-04T22:26:35.453Z"
   },
   {
    "duration": 8,
    "start_time": "2025-04-04T22:26:35.459Z"
   },
   {
    "duration": 54,
    "start_time": "2025-04-04T22:26:35.468Z"
   },
   {
    "duration": 4,
    "start_time": "2025-04-04T22:26:35.524Z"
   },
   {
    "duration": 5,
    "start_time": "2025-04-04T22:26:35.529Z"
   },
   {
    "duration": 2658,
    "start_time": "2025-04-04T22:26:35.535Z"
   },
   {
    "duration": 4,
    "start_time": "2025-04-04T22:26:38.195Z"
   },
   {
    "duration": 48,
    "start_time": "2025-04-04T22:26:38.201Z"
   },
   {
    "duration": 7,
    "start_time": "2025-04-04T22:26:38.250Z"
   },
   {
    "duration": 6,
    "start_time": "2025-04-04T22:26:38.259Z"
   },
   {
    "duration": 8,
    "start_time": "2025-04-04T22:26:38.266Z"
   },
   {
    "duration": 13,
    "start_time": "2025-04-04T22:26:38.276Z"
   },
   {
    "duration": 4,
    "start_time": "2025-04-04T22:26:38.310Z"
   },
   {
    "duration": 305,
    "start_time": "2025-04-04T22:26:38.316Z"
   },
   {
    "duration": 330,
    "start_time": "2025-04-04T22:26:38.626Z"
   },
   {
    "duration": 15,
    "start_time": "2025-04-04T22:26:38.958Z"
   },
   {
    "duration": 3,
    "start_time": "2025-04-04T22:26:38.975Z"
   },
   {
    "duration": 4,
    "start_time": "2025-04-04T22:26:38.979Z"
   },
   {
    "duration": 5,
    "start_time": "2025-04-04T22:26:39.014Z"
   },
   {
    "duration": 3,
    "start_time": "2025-04-04T22:26:39.020Z"
   },
   {
    "duration": 12,
    "start_time": "2025-04-04T22:26:39.024Z"
   },
   {
    "duration": 7,
    "start_time": "2025-04-04T22:26:39.037Z"
   },
   {
    "duration": 5,
    "start_time": "2025-04-04T22:26:39.046Z"
   },
   {
    "duration": 64,
    "start_time": "2025-04-04T22:26:39.053Z"
   },
   {
    "duration": 4,
    "start_time": "2025-04-04T22:26:39.118Z"
   },
   {
    "duration": 11,
    "start_time": "2025-04-04T22:26:39.124Z"
   },
   {
    "duration": 3,
    "start_time": "2025-04-04T22:26:39.138Z"
   },
   {
    "duration": 3,
    "start_time": "2025-04-04T22:26:39.143Z"
   },
   {
    "duration": 5,
    "start_time": "2025-04-04T22:26:39.148Z"
   },
   {
    "duration": 283,
    "start_time": "2025-04-04T22:26:39.155Z"
   },
   {
    "duration": 0,
    "start_time": "2025-04-04T22:26:39.440Z"
   },
   {
    "duration": 0,
    "start_time": "2025-04-04T22:26:39.441Z"
   },
   {
    "duration": 0,
    "start_time": "2025-04-04T22:26:39.444Z"
   },
   {
    "duration": 0,
    "start_time": "2025-04-04T22:26:39.445Z"
   },
   {
    "duration": 0,
    "start_time": "2025-04-04T22:26:39.447Z"
   },
   {
    "duration": 0,
    "start_time": "2025-04-04T22:26:39.449Z"
   },
   {
    "duration": 0,
    "start_time": "2025-04-04T22:26:39.456Z"
   },
   {
    "duration": 0,
    "start_time": "2025-04-04T22:26:39.457Z"
   },
   {
    "duration": 0,
    "start_time": "2025-04-04T22:26:39.459Z"
   },
   {
    "duration": 0,
    "start_time": "2025-04-04T22:26:39.460Z"
   },
   {
    "duration": 0,
    "start_time": "2025-04-04T22:26:39.461Z"
   },
   {
    "duration": 0,
    "start_time": "2025-04-04T22:26:39.464Z"
   },
   {
    "duration": 0,
    "start_time": "2025-04-04T22:26:39.465Z"
   },
   {
    "duration": 2931,
    "start_time": "2025-04-05T01:20:31.160Z"
   },
   {
    "duration": 13,
    "start_time": "2025-04-05T01:20:34.093Z"
   },
   {
    "duration": 5,
    "start_time": "2025-04-05T01:20:34.108Z"
   },
   {
    "duration": 8,
    "start_time": "2025-04-05T01:20:34.115Z"
   },
   {
    "duration": 5,
    "start_time": "2025-04-05T01:20:34.124Z"
   },
   {
    "duration": 10,
    "start_time": "2025-04-05T01:20:34.131Z"
   },
   {
    "duration": 4,
    "start_time": "2025-04-05T01:20:34.143Z"
   },
   {
    "duration": 47,
    "start_time": "2025-04-05T01:20:34.148Z"
   },
   {
    "duration": 3,
    "start_time": "2025-04-05T01:20:34.197Z"
   },
   {
    "duration": 3,
    "start_time": "2025-04-05T01:20:34.204Z"
   },
   {
    "duration": 10,
    "start_time": "2025-04-05T01:20:34.209Z"
   },
   {
    "duration": 21,
    "start_time": "2025-04-05T01:20:34.221Z"
   },
   {
    "duration": 5,
    "start_time": "2025-04-05T01:20:34.244Z"
   },
   {
    "duration": 39,
    "start_time": "2025-04-05T01:20:34.250Z"
   },
   {
    "duration": 2696,
    "start_time": "2025-04-05T01:20:34.291Z"
   },
   {
    "duration": 3,
    "start_time": "2025-04-05T01:20:36.989Z"
   },
   {
    "duration": 146,
    "start_time": "2025-04-05T01:20:36.994Z"
   },
   {
    "duration": 3,
    "start_time": "2025-04-05T01:20:37.142Z"
   },
   {
    "duration": 3,
    "start_time": "2025-04-05T01:20:37.146Z"
   },
   {
    "duration": 38,
    "start_time": "2025-04-05T01:20:37.150Z"
   },
   {
    "duration": 14,
    "start_time": "2025-04-05T01:20:37.191Z"
   },
   {
    "duration": 2,
    "start_time": "2025-04-05T01:20:37.207Z"
   },
   {
    "duration": 305,
    "start_time": "2025-04-05T01:20:37.211Z"
   },
   {
    "duration": 334,
    "start_time": "2025-04-05T01:20:37.518Z"
   },
   {
    "duration": 32,
    "start_time": "2025-04-05T01:20:37.854Z"
   },
   {
    "duration": 3,
    "start_time": "2025-04-05T01:20:37.888Z"
   },
   {
    "duration": 4,
    "start_time": "2025-04-05T01:20:37.893Z"
   },
   {
    "duration": 4,
    "start_time": "2025-04-05T01:20:37.903Z"
   },
   {
    "duration": 3,
    "start_time": "2025-04-05T01:20:37.910Z"
   },
   {
    "duration": 14,
    "start_time": "2025-04-05T01:20:37.914Z"
   },
   {
    "duration": 9,
    "start_time": "2025-04-05T01:20:37.930Z"
   },
   {
    "duration": 46,
    "start_time": "2025-04-05T01:20:37.941Z"
   },
   {
    "duration": 30,
    "start_time": "2025-04-05T01:20:37.989Z"
   },
   {
    "duration": 4,
    "start_time": "2025-04-05T01:20:38.021Z"
   },
   {
    "duration": 13,
    "start_time": "2025-04-05T01:20:38.027Z"
   },
   {
    "duration": 5,
    "start_time": "2025-04-05T01:20:38.042Z"
   },
   {
    "duration": 38,
    "start_time": "2025-04-05T01:20:38.049Z"
   },
   {
    "duration": 4,
    "start_time": "2025-04-05T01:20:38.089Z"
   },
   {
    "duration": 252,
    "start_time": "2025-04-05T01:20:38.095Z"
   },
   {
    "duration": 0,
    "start_time": "2025-04-05T01:20:38.349Z"
   },
   {
    "duration": 0,
    "start_time": "2025-04-05T01:20:38.350Z"
   },
   {
    "duration": 0,
    "start_time": "2025-04-05T01:20:38.352Z"
   },
   {
    "duration": 0,
    "start_time": "2025-04-05T01:20:38.353Z"
   },
   {
    "duration": 0,
    "start_time": "2025-04-05T01:20:38.355Z"
   },
   {
    "duration": 0,
    "start_time": "2025-04-05T01:20:38.357Z"
   },
   {
    "duration": 0,
    "start_time": "2025-04-05T01:20:38.358Z"
   },
   {
    "duration": 0,
    "start_time": "2025-04-05T01:20:38.360Z"
   },
   {
    "duration": 0,
    "start_time": "2025-04-05T01:20:38.361Z"
   },
   {
    "duration": 0,
    "start_time": "2025-04-05T01:20:38.386Z"
   },
   {
    "duration": 0,
    "start_time": "2025-04-05T01:20:38.388Z"
   },
   {
    "duration": 0,
    "start_time": "2025-04-05T01:20:38.390Z"
   },
   {
    "duration": 0,
    "start_time": "2025-04-05T01:20:38.391Z"
   },
   {
    "duration": 1053,
    "start_time": "2025-04-05T01:22:55.778Z"
   },
   {
    "duration": 9,
    "start_time": "2025-04-05T01:22:56.834Z"
   },
   {
    "duration": 7,
    "start_time": "2025-04-05T01:22:56.844Z"
   },
   {
    "duration": 6,
    "start_time": "2025-04-05T01:22:56.853Z"
   },
   {
    "duration": 24,
    "start_time": "2025-04-05T01:22:56.862Z"
   },
   {
    "duration": 9,
    "start_time": "2025-04-05T01:22:56.888Z"
   },
   {
    "duration": 3,
    "start_time": "2025-04-05T01:22:56.899Z"
   },
   {
    "duration": 11,
    "start_time": "2025-04-05T01:22:56.903Z"
   },
   {
    "duration": 3,
    "start_time": "2025-04-05T01:22:56.916Z"
   },
   {
    "duration": 5,
    "start_time": "2025-04-05T01:22:56.921Z"
   },
   {
    "duration": 9,
    "start_time": "2025-04-05T01:22:56.927Z"
   },
   {
    "duration": 56,
    "start_time": "2025-04-05T01:22:56.938Z"
   },
   {
    "duration": 4,
    "start_time": "2025-04-05T01:22:56.997Z"
   },
   {
    "duration": 5,
    "start_time": "2025-04-05T01:22:57.006Z"
   },
   {
    "duration": 2802,
    "start_time": "2025-04-05T01:22:57.013Z"
   },
   {
    "duration": 3,
    "start_time": "2025-04-05T01:22:59.817Z"
   },
   {
    "duration": 41,
    "start_time": "2025-04-05T01:22:59.822Z"
   },
   {
    "duration": 2,
    "start_time": "2025-04-05T01:22:59.865Z"
   },
   {
    "duration": 3,
    "start_time": "2025-04-05T01:22:59.886Z"
   },
   {
    "duration": 9,
    "start_time": "2025-04-05T01:22:59.892Z"
   },
   {
    "duration": 14,
    "start_time": "2025-04-05T01:22:59.903Z"
   },
   {
    "duration": 3,
    "start_time": "2025-04-05T01:22:59.919Z"
   },
   {
    "duration": 299,
    "start_time": "2025-04-05T01:22:59.924Z"
   },
   {
    "duration": 399,
    "start_time": "2025-04-05T01:23:00.225Z"
   },
   {
    "duration": 13,
    "start_time": "2025-04-05T01:23:00.626Z"
   },
   {
    "duration": 3,
    "start_time": "2025-04-05T01:23:00.641Z"
   },
   {
    "duration": 4,
    "start_time": "2025-04-05T01:23:00.646Z"
   },
   {
    "duration": 35,
    "start_time": "2025-04-05T01:23:00.651Z"
   },
   {
    "duration": 5,
    "start_time": "2025-04-05T01:23:00.689Z"
   },
   {
    "duration": 13,
    "start_time": "2025-04-05T01:23:00.696Z"
   },
   {
    "duration": 7,
    "start_time": "2025-04-05T01:23:00.711Z"
   },
   {
    "duration": 6,
    "start_time": "2025-04-05T01:23:00.720Z"
   },
   {
    "duration": 63,
    "start_time": "2025-04-05T01:23:00.728Z"
   },
   {
    "duration": 5,
    "start_time": "2025-04-05T01:23:00.793Z"
   },
   {
    "duration": 15,
    "start_time": "2025-04-05T01:23:00.800Z"
   },
   {
    "duration": 4,
    "start_time": "2025-04-05T01:23:00.817Z"
   },
   {
    "duration": 276,
    "start_time": "2025-04-05T01:23:00.823Z"
   },
   {
    "duration": 0,
    "start_time": "2025-04-05T01:23:01.102Z"
   },
   {
    "duration": 0,
    "start_time": "2025-04-05T01:23:01.103Z"
   },
   {
    "duration": 0,
    "start_time": "2025-04-05T01:23:01.105Z"
   },
   {
    "duration": 0,
    "start_time": "2025-04-05T01:23:01.106Z"
   },
   {
    "duration": 0,
    "start_time": "2025-04-05T01:23:01.108Z"
   },
   {
    "duration": 0,
    "start_time": "2025-04-05T01:23:01.109Z"
   },
   {
    "duration": 0,
    "start_time": "2025-04-05T01:23:01.111Z"
   },
   {
    "duration": 0,
    "start_time": "2025-04-05T01:23:01.112Z"
   },
   {
    "duration": 0,
    "start_time": "2025-04-05T01:23:01.114Z"
   },
   {
    "duration": 0,
    "start_time": "2025-04-05T01:23:01.116Z"
   },
   {
    "duration": 0,
    "start_time": "2025-04-05T01:23:01.117Z"
   },
   {
    "duration": 0,
    "start_time": "2025-04-05T01:23:01.118Z"
   },
   {
    "duration": 0,
    "start_time": "2025-04-05T01:23:01.120Z"
   },
   {
    "duration": 4,
    "start_time": "2025-04-05T01:25:05.411Z"
   },
   {
    "duration": 17,
    "start_time": "2025-04-05T01:25:07.346Z"
   },
   {
    "duration": 18,
    "start_time": "2025-04-05T01:25:37.478Z"
   },
   {
    "duration": 15,
    "start_time": "2025-04-05T01:26:57.282Z"
   },
   {
    "duration": 15,
    "start_time": "2025-04-05T01:27:14.029Z"
   },
   {
    "duration": 7,
    "start_time": "2025-04-05T01:27:28.137Z"
   },
   {
    "duration": 4,
    "start_time": "2025-04-05T01:27:37.414Z"
   },
   {
    "duration": 18,
    "start_time": "2025-04-05T01:27:39.717Z"
   },
   {
    "duration": 1083,
    "start_time": "2025-04-05T01:30:34.788Z"
   },
   {
    "duration": 14,
    "start_time": "2025-04-05T01:30:35.874Z"
   },
   {
    "duration": 7,
    "start_time": "2025-04-05T01:30:35.889Z"
   },
   {
    "duration": 6,
    "start_time": "2025-04-05T01:30:35.897Z"
   },
   {
    "duration": 5,
    "start_time": "2025-04-05T01:30:35.906Z"
   },
   {
    "duration": 9,
    "start_time": "2025-04-05T01:30:35.913Z"
   },
   {
    "duration": 3,
    "start_time": "2025-04-05T01:30:35.924Z"
   },
   {
    "duration": 11,
    "start_time": "2025-04-05T01:30:35.929Z"
   },
   {
    "duration": 4,
    "start_time": "2025-04-05T01:30:35.941Z"
   },
   {
    "duration": 44,
    "start_time": "2025-04-05T01:30:35.946Z"
   },
   {
    "duration": 11,
    "start_time": "2025-04-05T01:30:35.992Z"
   },
   {
    "duration": 24,
    "start_time": "2025-04-05T01:30:36.005Z"
   },
   {
    "duration": 5,
    "start_time": "2025-04-05T01:30:36.031Z"
   },
   {
    "duration": 5,
    "start_time": "2025-04-05T01:30:36.040Z"
   },
   {
    "duration": 2768,
    "start_time": "2025-04-05T01:30:36.047Z"
   },
   {
    "duration": 3,
    "start_time": "2025-04-05T01:30:38.817Z"
   },
   {
    "duration": 40,
    "start_time": "2025-04-05T01:30:38.822Z"
   },
   {
    "duration": 3,
    "start_time": "2025-04-05T01:30:38.863Z"
   },
   {
    "duration": 3,
    "start_time": "2025-04-05T01:30:38.868Z"
   },
   {
    "duration": 21,
    "start_time": "2025-04-05T01:30:38.872Z"
   },
   {
    "duration": 14,
    "start_time": "2025-04-05T01:30:38.895Z"
   },
   {
    "duration": 2,
    "start_time": "2025-04-05T01:30:38.912Z"
   },
   {
    "duration": 297,
    "start_time": "2025-04-05T01:30:38.917Z"
   },
   {
    "duration": 344,
    "start_time": "2025-04-05T01:30:39.217Z"
   },
   {
    "duration": 30,
    "start_time": "2025-04-05T01:30:39.563Z"
   },
   {
    "duration": 2,
    "start_time": "2025-04-05T01:30:39.595Z"
   },
   {
    "duration": 4,
    "start_time": "2025-04-05T01:30:39.600Z"
   },
   {
    "duration": 5,
    "start_time": "2025-04-05T01:30:39.605Z"
   },
   {
    "duration": 4,
    "start_time": "2025-04-05T01:30:39.611Z"
   },
   {
    "duration": 13,
    "start_time": "2025-04-05T01:30:39.616Z"
   },
   {
    "duration": 7,
    "start_time": "2025-04-05T01:30:39.631Z"
   },
   {
    "duration": 47,
    "start_time": "2025-04-05T01:30:39.640Z"
   },
   {
    "duration": 31,
    "start_time": "2025-04-05T01:30:39.689Z"
   },
   {
    "duration": 4,
    "start_time": "2025-04-05T01:30:39.722Z"
   },
   {
    "duration": 14,
    "start_time": "2025-04-05T01:30:39.728Z"
   },
   {
    "duration": 7,
    "start_time": "2025-04-05T01:30:39.744Z"
   },
   {
    "duration": 290,
    "start_time": "2025-04-05T01:30:39.752Z"
   },
   {
    "duration": 0,
    "start_time": "2025-04-05T01:30:40.044Z"
   },
   {
    "duration": 0,
    "start_time": "2025-04-05T01:30:40.045Z"
   },
   {
    "duration": 0,
    "start_time": "2025-04-05T01:30:40.047Z"
   },
   {
    "duration": 0,
    "start_time": "2025-04-05T01:30:40.048Z"
   },
   {
    "duration": 0,
    "start_time": "2025-04-05T01:30:40.049Z"
   },
   {
    "duration": 0,
    "start_time": "2025-04-05T01:30:40.050Z"
   },
   {
    "duration": 0,
    "start_time": "2025-04-05T01:30:40.051Z"
   },
   {
    "duration": 0,
    "start_time": "2025-04-05T01:30:40.052Z"
   },
   {
    "duration": 0,
    "start_time": "2025-04-05T01:30:40.053Z"
   },
   {
    "duration": 0,
    "start_time": "2025-04-05T01:30:40.055Z"
   },
   {
    "duration": 0,
    "start_time": "2025-04-05T01:30:40.055Z"
   },
   {
    "duration": 0,
    "start_time": "2025-04-05T01:30:40.056Z"
   },
   {
    "duration": 0,
    "start_time": "2025-04-05T01:30:40.057Z"
   },
   {
    "duration": 1077,
    "start_time": "2025-04-05T01:30:46.208Z"
   },
   {
    "duration": 7,
    "start_time": "2025-04-05T01:30:47.287Z"
   },
   {
    "duration": 5,
    "start_time": "2025-04-05T01:30:47.297Z"
   },
   {
    "duration": 6,
    "start_time": "2025-04-05T01:30:47.304Z"
   },
   {
    "duration": 5,
    "start_time": "2025-04-05T01:30:47.313Z"
   },
   {
    "duration": 9,
    "start_time": "2025-04-05T01:30:47.319Z"
   },
   {
    "duration": 3,
    "start_time": "2025-04-05T01:30:47.330Z"
   },
   {
    "duration": 10,
    "start_time": "2025-04-05T01:30:47.335Z"
   },
   {
    "duration": 3,
    "start_time": "2025-04-05T01:30:47.347Z"
   },
   {
    "duration": 5,
    "start_time": "2025-04-05T01:30:47.387Z"
   },
   {
    "duration": 10,
    "start_time": "2025-04-05T01:30:47.393Z"
   },
   {
    "duration": 20,
    "start_time": "2025-04-05T01:30:47.405Z"
   },
   {
    "duration": 4,
    "start_time": "2025-04-05T01:30:47.427Z"
   },
   {
    "duration": 5,
    "start_time": "2025-04-05T01:30:47.436Z"
   },
   {
    "duration": 2760,
    "start_time": "2025-04-05T01:30:47.443Z"
   },
   {
    "duration": 4,
    "start_time": "2025-04-05T01:30:50.205Z"
   },
   {
    "duration": 39,
    "start_time": "2025-04-05T01:30:50.211Z"
   },
   {
    "duration": 3,
    "start_time": "2025-04-05T01:30:50.251Z"
   },
   {
    "duration": 3,
    "start_time": "2025-04-05T01:30:50.256Z"
   },
   {
    "duration": 8,
    "start_time": "2025-04-05T01:30:50.261Z"
   },
   {
    "duration": 29,
    "start_time": "2025-04-05T01:30:50.271Z"
   },
   {
    "duration": 3,
    "start_time": "2025-04-05T01:30:50.302Z"
   },
   {
    "duration": 313,
    "start_time": "2025-04-05T01:30:50.307Z"
   },
   {
    "duration": 365,
    "start_time": "2025-04-05T01:30:50.622Z"
   },
   {
    "duration": 16,
    "start_time": "2025-04-05T01:30:50.989Z"
   },
   {
    "duration": 3,
    "start_time": "2025-04-05T01:30:51.007Z"
   },
   {
    "duration": 5,
    "start_time": "2025-04-05T01:30:51.011Z"
   },
   {
    "duration": 4,
    "start_time": "2025-04-05T01:30:51.017Z"
   },
   {
    "duration": 4,
    "start_time": "2025-04-05T01:30:51.023Z"
   },
   {
    "duration": 13,
    "start_time": "2025-04-05T01:30:51.029Z"
   },
   {
    "duration": 9,
    "start_time": "2025-04-05T01:30:51.087Z"
   },
   {
    "duration": 6,
    "start_time": "2025-04-05T01:30:51.099Z"
   },
   {
    "duration": 32,
    "start_time": "2025-04-05T01:30:51.107Z"
   },
   {
    "duration": 6,
    "start_time": "2025-04-05T01:30:51.141Z"
   },
   {
    "duration": 51,
    "start_time": "2025-04-05T01:30:51.149Z"
   },
   {
    "duration": 4,
    "start_time": "2025-04-05T01:30:51.202Z"
   },
   {
    "duration": 252,
    "start_time": "2025-04-05T01:30:51.208Z"
   },
   {
    "duration": 0,
    "start_time": "2025-04-05T01:30:51.462Z"
   },
   {
    "duration": 0,
    "start_time": "2025-04-05T01:30:51.464Z"
   },
   {
    "duration": 0,
    "start_time": "2025-04-05T01:30:51.465Z"
   },
   {
    "duration": 0,
    "start_time": "2025-04-05T01:30:51.467Z"
   },
   {
    "duration": 0,
    "start_time": "2025-04-05T01:30:51.468Z"
   },
   {
    "duration": 0,
    "start_time": "2025-04-05T01:30:51.486Z"
   },
   {
    "duration": 0,
    "start_time": "2025-04-05T01:30:51.488Z"
   },
   {
    "duration": 0,
    "start_time": "2025-04-05T01:30:51.490Z"
   },
   {
    "duration": 0,
    "start_time": "2025-04-05T01:30:51.492Z"
   },
   {
    "duration": 0,
    "start_time": "2025-04-05T01:30:51.493Z"
   },
   {
    "duration": 0,
    "start_time": "2025-04-05T01:30:51.495Z"
   },
   {
    "duration": 0,
    "start_time": "2025-04-05T01:30:51.496Z"
   },
   {
    "duration": 0,
    "start_time": "2025-04-05T01:30:51.498Z"
   },
   {
    "duration": 1094,
    "start_time": "2025-04-05T01:32:21.380Z"
   },
   {
    "duration": 14,
    "start_time": "2025-04-05T01:32:22.477Z"
   },
   {
    "duration": 5,
    "start_time": "2025-04-05T01:32:22.493Z"
   },
   {
    "duration": 7,
    "start_time": "2025-04-05T01:32:22.500Z"
   },
   {
    "duration": 5,
    "start_time": "2025-04-05T01:32:22.509Z"
   },
   {
    "duration": 9,
    "start_time": "2025-04-05T01:32:22.516Z"
   },
   {
    "duration": 4,
    "start_time": "2025-04-05T01:32:22.526Z"
   },
   {
    "duration": 11,
    "start_time": "2025-04-05T01:32:22.532Z"
   },
   {
    "duration": 4,
    "start_time": "2025-04-05T01:32:22.544Z"
   },
   {
    "duration": 41,
    "start_time": "2025-04-05T01:32:22.549Z"
   },
   {
    "duration": 8,
    "start_time": "2025-04-05T01:32:22.592Z"
   },
   {
    "duration": 18,
    "start_time": "2025-04-05T01:32:22.602Z"
   },
   {
    "duration": 4,
    "start_time": "2025-04-05T01:32:22.622Z"
   },
   {
    "duration": 4,
    "start_time": "2025-04-05T01:32:22.630Z"
   },
   {
    "duration": 2763,
    "start_time": "2025-04-05T01:32:22.636Z"
   },
   {
    "duration": 3,
    "start_time": "2025-04-05T01:32:25.401Z"
   },
   {
    "duration": 41,
    "start_time": "2025-04-05T01:32:25.406Z"
   },
   {
    "duration": 3,
    "start_time": "2025-04-05T01:32:25.449Z"
   },
   {
    "duration": 2,
    "start_time": "2025-04-05T01:32:25.454Z"
   },
   {
    "duration": 29,
    "start_time": "2025-04-05T01:32:25.458Z"
   },
   {
    "duration": 14,
    "start_time": "2025-04-05T01:32:25.489Z"
   },
   {
    "duration": 3,
    "start_time": "2025-04-05T01:32:25.504Z"
   },
   {
    "duration": 282,
    "start_time": "2025-04-05T01:32:25.509Z"
   },
   {
    "duration": 345,
    "start_time": "2025-04-05T01:32:25.793Z"
   },
   {
    "duration": 14,
    "start_time": "2025-04-05T01:32:26.140Z"
   },
   {
    "duration": 3,
    "start_time": "2025-04-05T01:32:26.156Z"
   },
   {
    "duration": 29,
    "start_time": "2025-04-05T01:32:26.160Z"
   },
   {
    "duration": 4,
    "start_time": "2025-04-05T01:32:26.190Z"
   },
   {
    "duration": 2,
    "start_time": "2025-04-05T01:32:26.197Z"
   },
   {
    "duration": 12,
    "start_time": "2025-04-05T01:32:26.201Z"
   },
   {
    "duration": 7,
    "start_time": "2025-04-05T01:32:26.215Z"
   },
   {
    "duration": 6,
    "start_time": "2025-04-05T01:32:26.223Z"
   },
   {
    "duration": 68,
    "start_time": "2025-04-05T01:32:26.231Z"
   },
   {
    "duration": 4,
    "start_time": "2025-04-05T01:32:26.300Z"
   },
   {
    "duration": 12,
    "start_time": "2025-04-05T01:32:26.306Z"
   },
   {
    "duration": 4,
    "start_time": "2025-04-05T01:32:26.319Z"
   },
   {
    "duration": 277,
    "start_time": "2025-04-05T01:32:26.325Z"
   },
   {
    "duration": 0,
    "start_time": "2025-04-05T01:32:26.605Z"
   },
   {
    "duration": 0,
    "start_time": "2025-04-05T01:32:26.606Z"
   },
   {
    "duration": 0,
    "start_time": "2025-04-05T01:32:26.607Z"
   },
   {
    "duration": 0,
    "start_time": "2025-04-05T01:32:26.609Z"
   },
   {
    "duration": 0,
    "start_time": "2025-04-05T01:32:26.610Z"
   },
   {
    "duration": 0,
    "start_time": "2025-04-05T01:32:26.611Z"
   },
   {
    "duration": 0,
    "start_time": "2025-04-05T01:32:26.613Z"
   },
   {
    "duration": 0,
    "start_time": "2025-04-05T01:32:26.614Z"
   },
   {
    "duration": 0,
    "start_time": "2025-04-05T01:32:26.616Z"
   },
   {
    "duration": 0,
    "start_time": "2025-04-05T01:32:26.618Z"
   },
   {
    "duration": 0,
    "start_time": "2025-04-05T01:32:26.619Z"
   },
   {
    "duration": 0,
    "start_time": "2025-04-05T01:32:26.621Z"
   },
   {
    "duration": 0,
    "start_time": "2025-04-05T01:32:26.622Z"
   },
   {
    "duration": 1058,
    "start_time": "2025-04-05T01:33:33.548Z"
   },
   {
    "duration": 8,
    "start_time": "2025-04-05T01:33:34.609Z"
   },
   {
    "duration": 6,
    "start_time": "2025-04-05T01:33:34.619Z"
   },
   {
    "duration": 6,
    "start_time": "2025-04-05T01:33:34.628Z"
   },
   {
    "duration": 6,
    "start_time": "2025-04-05T01:33:34.635Z"
   },
   {
    "duration": 8,
    "start_time": "2025-04-05T01:33:34.643Z"
   },
   {
    "duration": 35,
    "start_time": "2025-04-05T01:33:34.653Z"
   },
   {
    "duration": 11,
    "start_time": "2025-04-05T01:33:34.690Z"
   },
   {
    "duration": 4,
    "start_time": "2025-04-05T01:33:34.702Z"
   },
   {
    "duration": 3,
    "start_time": "2025-04-05T01:33:34.709Z"
   },
   {
    "duration": 9,
    "start_time": "2025-04-05T01:33:34.714Z"
   },
   {
    "duration": 19,
    "start_time": "2025-04-05T01:33:34.725Z"
   },
   {
    "duration": 42,
    "start_time": "2025-04-05T01:33:34.746Z"
   },
   {
    "duration": 6,
    "start_time": "2025-04-05T01:33:34.790Z"
   },
   {
    "duration": 2713,
    "start_time": "2025-04-05T01:33:34.798Z"
   },
   {
    "duration": 2,
    "start_time": "2025-04-05T01:33:37.513Z"
   },
   {
    "duration": 41,
    "start_time": "2025-04-05T01:33:37.517Z"
   },
   {
    "duration": 2,
    "start_time": "2025-04-05T01:33:37.560Z"
   },
   {
    "duration": 3,
    "start_time": "2025-04-05T01:33:37.564Z"
   },
   {
    "duration": 12,
    "start_time": "2025-04-05T01:33:37.586Z"
   },
   {
    "duration": 14,
    "start_time": "2025-04-05T01:33:37.600Z"
   },
   {
    "duration": 3,
    "start_time": "2025-04-05T01:33:37.616Z"
   },
   {
    "duration": 323,
    "start_time": "2025-04-05T01:33:37.621Z"
   },
   {
    "duration": 368,
    "start_time": "2025-04-05T01:33:37.946Z"
   },
   {
    "duration": 14,
    "start_time": "2025-04-05T01:33:38.315Z"
   },
   {
    "duration": 3,
    "start_time": "2025-04-05T01:33:38.331Z"
   },
   {
    "duration": 4,
    "start_time": "2025-04-05T01:33:38.335Z"
   },
   {
    "duration": 3,
    "start_time": "2025-04-05T01:33:38.343Z"
   },
   {
    "duration": 39,
    "start_time": "2025-04-05T01:33:38.348Z"
   },
   {
    "duration": 13,
    "start_time": "2025-04-05T01:33:38.389Z"
   },
   {
    "duration": 7,
    "start_time": "2025-04-05T01:33:38.404Z"
   },
   {
    "duration": 5,
    "start_time": "2025-04-05T01:33:38.413Z"
   },
   {
    "duration": 33,
    "start_time": "2025-04-05T01:33:38.419Z"
   },
   {
    "duration": 35,
    "start_time": "2025-04-05T01:33:38.454Z"
   },
   {
    "duration": 14,
    "start_time": "2025-04-05T01:33:38.490Z"
   },
   {
    "duration": 4,
    "start_time": "2025-04-05T01:33:38.506Z"
   },
   {
    "duration": 269,
    "start_time": "2025-04-05T01:33:38.513Z"
   },
   {
    "duration": 0,
    "start_time": "2025-04-05T01:33:38.786Z"
   },
   {
    "duration": 0,
    "start_time": "2025-04-05T01:33:38.788Z"
   },
   {
    "duration": 0,
    "start_time": "2025-04-05T01:33:38.789Z"
   },
   {
    "duration": 0,
    "start_time": "2025-04-05T01:33:38.790Z"
   },
   {
    "duration": 0,
    "start_time": "2025-04-05T01:33:38.791Z"
   },
   {
    "duration": 0,
    "start_time": "2025-04-05T01:33:38.792Z"
   },
   {
    "duration": 0,
    "start_time": "2025-04-05T01:33:38.793Z"
   },
   {
    "duration": 0,
    "start_time": "2025-04-05T01:33:38.794Z"
   },
   {
    "duration": 0,
    "start_time": "2025-04-05T01:33:38.796Z"
   },
   {
    "duration": 0,
    "start_time": "2025-04-05T01:33:38.797Z"
   },
   {
    "duration": 0,
    "start_time": "2025-04-05T01:33:38.798Z"
   },
   {
    "duration": 0,
    "start_time": "2025-04-05T01:33:38.799Z"
   },
   {
    "duration": 0,
    "start_time": "2025-04-05T01:33:38.800Z"
   },
   {
    "duration": 9,
    "start_time": "2025-04-05T01:36:07.782Z"
   },
   {
    "duration": 5,
    "start_time": "2025-04-05T01:45:31.069Z"
   },
   {
    "duration": 20,
    "start_time": "2025-04-05T01:45:33.507Z"
   },
   {
    "duration": 1067,
    "start_time": "2025-04-05T01:48:50.902Z"
   },
   {
    "duration": 8,
    "start_time": "2025-04-05T01:48:51.971Z"
   },
   {
    "duration": 10,
    "start_time": "2025-04-05T01:48:51.980Z"
   },
   {
    "duration": 6,
    "start_time": "2025-04-05T01:48:51.994Z"
   },
   {
    "duration": 4,
    "start_time": "2025-04-05T01:48:52.003Z"
   },
   {
    "duration": 10,
    "start_time": "2025-04-05T01:48:52.009Z"
   },
   {
    "duration": 3,
    "start_time": "2025-04-05T01:48:52.021Z"
   },
   {
    "duration": 9,
    "start_time": "2025-04-05T01:48:52.026Z"
   },
   {
    "duration": 4,
    "start_time": "2025-04-05T01:48:52.037Z"
   },
   {
    "duration": 45,
    "start_time": "2025-04-05T01:48:52.045Z"
   },
   {
    "duration": 15,
    "start_time": "2025-04-05T01:48:52.092Z"
   },
   {
    "duration": 24,
    "start_time": "2025-04-05T01:48:52.109Z"
   },
   {
    "duration": 7,
    "start_time": "2025-04-05T01:48:52.135Z"
   },
   {
    "duration": 6,
    "start_time": "2025-04-05T01:48:52.144Z"
   },
   {
    "duration": 2659,
    "start_time": "2025-04-05T01:48:52.152Z"
   },
   {
    "duration": 6,
    "start_time": "2025-04-05T01:48:54.812Z"
   },
   {
    "duration": 39,
    "start_time": "2025-04-05T01:48:54.820Z"
   },
   {
    "duration": 3,
    "start_time": "2025-04-05T01:48:54.861Z"
   },
   {
    "duration": 4,
    "start_time": "2025-04-05T01:48:54.865Z"
   },
   {
    "duration": 23,
    "start_time": "2025-04-05T01:48:54.870Z"
   },
   {
    "duration": 13,
    "start_time": "2025-04-05T01:48:54.895Z"
   },
   {
    "duration": 2,
    "start_time": "2025-04-05T01:48:54.910Z"
   },
   {
    "duration": 318,
    "start_time": "2025-04-05T01:48:54.914Z"
   },
   {
    "duration": 353,
    "start_time": "2025-04-05T01:48:55.234Z"
   },
   {
    "duration": 14,
    "start_time": "2025-04-05T01:48:55.588Z"
   },
   {
    "duration": 2,
    "start_time": "2025-04-05T01:48:55.604Z"
   },
   {
    "duration": 4,
    "start_time": "2025-04-05T01:48:55.608Z"
   },
   {
    "duration": 3,
    "start_time": "2025-04-05T01:48:55.616Z"
   },
   {
    "duration": 3,
    "start_time": "2025-04-05T01:48:55.621Z"
   },
   {
    "duration": 12,
    "start_time": "2025-04-05T01:48:55.625Z"
   },
   {
    "duration": 54,
    "start_time": "2025-04-05T01:48:55.638Z"
   },
   {
    "duration": 5,
    "start_time": "2025-04-05T01:48:55.694Z"
   },
   {
    "duration": 31,
    "start_time": "2025-04-05T01:48:55.700Z"
   },
   {
    "duration": 4,
    "start_time": "2025-04-05T01:48:55.733Z"
   },
   {
    "duration": 50,
    "start_time": "2025-04-05T01:48:55.739Z"
   },
   {
    "duration": 10,
    "start_time": "2025-04-05T01:48:55.791Z"
   },
   {
    "duration": 4,
    "start_time": "2025-04-05T01:48:55.803Z"
   },
   {
    "duration": 250,
    "start_time": "2025-04-05T01:48:55.809Z"
   },
   {
    "duration": 0,
    "start_time": "2025-04-05T01:48:56.061Z"
   },
   {
    "duration": 0,
    "start_time": "2025-04-05T01:48:56.063Z"
   },
   {
    "duration": 0,
    "start_time": "2025-04-05T01:48:56.064Z"
   },
   {
    "duration": 0,
    "start_time": "2025-04-05T01:48:56.066Z"
   },
   {
    "duration": 0,
    "start_time": "2025-04-05T01:48:56.067Z"
   },
   {
    "duration": 0,
    "start_time": "2025-04-05T01:48:56.068Z"
   },
   {
    "duration": 0,
    "start_time": "2025-04-05T01:48:56.069Z"
   },
   {
    "duration": 0,
    "start_time": "2025-04-05T01:48:56.087Z"
   },
   {
    "duration": 0,
    "start_time": "2025-04-05T01:48:56.088Z"
   },
   {
    "duration": 0,
    "start_time": "2025-04-05T01:48:56.089Z"
   },
   {
    "duration": 0,
    "start_time": "2025-04-05T01:48:56.091Z"
   },
   {
    "duration": 0,
    "start_time": "2025-04-05T01:48:56.093Z"
   },
   {
    "duration": 0,
    "start_time": "2025-04-05T01:48:56.094Z"
   },
   {
    "duration": 25,
    "start_time": "2025-04-05T01:54:02.149Z"
   },
   {
    "duration": 5,
    "start_time": "2025-04-05T01:56:04.413Z"
   },
   {
    "duration": 6,
    "start_time": "2025-04-05T01:56:08.565Z"
   },
   {
    "duration": 4,
    "start_time": "2025-04-05T01:56:11.367Z"
   },
   {
    "duration": 7,
    "start_time": "2025-04-05T01:56:13.813Z"
   },
   {
    "duration": 4,
    "start_time": "2025-04-05T01:56:27.407Z"
   },
   {
    "duration": 1108,
    "start_time": "2025-04-05T01:58:01.347Z"
   },
   {
    "duration": 9,
    "start_time": "2025-04-05T01:58:02.458Z"
   },
   {
    "duration": 6,
    "start_time": "2025-04-05T01:58:02.469Z"
   },
   {
    "duration": 9,
    "start_time": "2025-04-05T01:58:02.487Z"
   },
   {
    "duration": 5,
    "start_time": "2025-04-05T01:58:02.499Z"
   },
   {
    "duration": 12,
    "start_time": "2025-04-05T01:58:02.506Z"
   },
   {
    "duration": 4,
    "start_time": "2025-04-05T01:58:02.520Z"
   },
   {
    "duration": 13,
    "start_time": "2025-04-05T01:58:02.527Z"
   },
   {
    "duration": 4,
    "start_time": "2025-04-05T01:58:02.542Z"
   },
   {
    "duration": 39,
    "start_time": "2025-04-05T01:58:02.549Z"
   },
   {
    "duration": 10,
    "start_time": "2025-04-05T01:58:02.590Z"
   },
   {
    "duration": 19,
    "start_time": "2025-04-05T01:58:02.602Z"
   },
   {
    "duration": 5,
    "start_time": "2025-04-05T01:58:02.622Z"
   },
   {
    "duration": 5,
    "start_time": "2025-04-05T01:58:02.630Z"
   },
   {
    "duration": 2783,
    "start_time": "2025-04-05T01:58:02.638Z"
   },
   {
    "duration": 3,
    "start_time": "2025-04-05T01:58:05.423Z"
   },
   {
    "duration": 41,
    "start_time": "2025-04-05T01:58:05.428Z"
   },
   {
    "duration": 2,
    "start_time": "2025-04-05T01:58:05.471Z"
   },
   {
    "duration": 12,
    "start_time": "2025-04-05T01:58:05.475Z"
   },
   {
    "duration": 9,
    "start_time": "2025-04-05T01:58:05.489Z"
   },
   {
    "duration": 14,
    "start_time": "2025-04-05T01:58:05.500Z"
   },
   {
    "duration": 3,
    "start_time": "2025-04-05T01:58:05.515Z"
   },
   {
    "duration": 295,
    "start_time": "2025-04-05T01:58:05.519Z"
   },
   {
    "duration": 344,
    "start_time": "2025-04-05T01:58:05.816Z"
   },
   {
    "duration": 28,
    "start_time": "2025-04-05T01:58:06.162Z"
   },
   {
    "duration": 5,
    "start_time": "2025-04-05T01:58:06.192Z"
   },
   {
    "duration": 4,
    "start_time": "2025-04-05T01:58:06.198Z"
   },
   {
    "duration": 4,
    "start_time": "2025-04-05T01:58:06.204Z"
   },
   {
    "duration": 4,
    "start_time": "2025-04-05T01:58:06.210Z"
   },
   {
    "duration": 13,
    "start_time": "2025-04-05T01:58:06.215Z"
   },
   {
    "duration": 7,
    "start_time": "2025-04-05T01:58:06.230Z"
   },
   {
    "duration": 6,
    "start_time": "2025-04-05T01:58:06.240Z"
   },
   {
    "duration": 66,
    "start_time": "2025-04-05T01:58:06.248Z"
   },
   {
    "duration": 4,
    "start_time": "2025-04-05T01:58:06.316Z"
   },
   {
    "duration": 13,
    "start_time": "2025-04-05T01:58:06.323Z"
   },
   {
    "duration": 5,
    "start_time": "2025-04-05T01:58:06.338Z"
   },
   {
    "duration": 44,
    "start_time": "2025-04-05T01:58:06.345Z"
   },
   {
    "duration": 13,
    "start_time": "2025-04-05T01:58:06.391Z"
   },
   {
    "duration": 5,
    "start_time": "2025-04-05T01:58:06.407Z"
   },
   {
    "duration": 82,
    "start_time": "2025-04-05T01:58:06.414Z"
   },
   {
    "duration": 7,
    "start_time": "2025-04-05T01:58:06.502Z"
   },
   {
    "duration": 76,
    "start_time": "2025-04-05T01:58:06.511Z"
   },
   {
    "duration": 3,
    "start_time": "2025-04-05T01:58:06.590Z"
   },
   {
    "duration": 3,
    "start_time": "2025-04-05T01:58:06.595Z"
   },
   {
    "duration": 5,
    "start_time": "2025-04-05T01:58:06.600Z"
   },
   {
    "duration": 80,
    "start_time": "2025-04-05T01:58:06.607Z"
   },
   {
    "duration": 5,
    "start_time": "2025-04-05T01:58:06.689Z"
   },
   {
    "duration": 3,
    "start_time": "2025-04-05T01:58:06.696Z"
   },
   {
    "duration": 6,
    "start_time": "2025-04-05T01:58:06.701Z"
   },
   {
    "duration": 78,
    "start_time": "2025-04-05T01:58:06.709Z"
   },
   {
    "duration": 4,
    "start_time": "2025-04-05T01:58:06.789Z"
   },
   {
    "duration": 3,
    "start_time": "2025-04-05T01:58:06.795Z"
   },
   {
    "duration": 14,
    "start_time": "2025-04-05T02:00:05.112Z"
   },
   {
    "duration": 5,
    "start_time": "2025-04-05T02:02:33.495Z"
   },
   {
    "duration": 1075,
    "start_time": "2025-04-05T02:02:41.873Z"
   },
   {
    "duration": 7,
    "start_time": "2025-04-05T02:02:42.951Z"
   },
   {
    "duration": 6,
    "start_time": "2025-04-05T02:02:42.960Z"
   },
   {
    "duration": 19,
    "start_time": "2025-04-05T02:02:42.968Z"
   },
   {
    "duration": 6,
    "start_time": "2025-04-05T02:02:42.989Z"
   },
   {
    "duration": 8,
    "start_time": "2025-04-05T02:02:42.997Z"
   },
   {
    "duration": 4,
    "start_time": "2025-04-05T02:02:43.007Z"
   },
   {
    "duration": 10,
    "start_time": "2025-04-05T02:02:43.012Z"
   },
   {
    "duration": 4,
    "start_time": "2025-04-05T02:02:43.024Z"
   },
   {
    "duration": 4,
    "start_time": "2025-04-05T02:02:43.031Z"
   },
   {
    "duration": 50,
    "start_time": "2025-04-05T02:02:43.037Z"
   },
   {
    "duration": 21,
    "start_time": "2025-04-05T02:02:43.089Z"
   },
   {
    "duration": 5,
    "start_time": "2025-04-05T02:02:43.112Z"
   },
   {
    "duration": 5,
    "start_time": "2025-04-05T02:02:43.120Z"
   },
   {
    "duration": 2780,
    "start_time": "2025-04-05T02:02:43.127Z"
   },
   {
    "duration": 4,
    "start_time": "2025-04-05T02:02:45.909Z"
   },
   {
    "duration": 40,
    "start_time": "2025-04-05T02:02:45.914Z"
   },
   {
    "duration": 3,
    "start_time": "2025-04-05T02:02:45.955Z"
   },
   {
    "duration": 4,
    "start_time": "2025-04-05T02:02:45.960Z"
   },
   {
    "duration": 26,
    "start_time": "2025-04-05T02:02:45.965Z"
   },
   {
    "duration": 15,
    "start_time": "2025-04-05T02:02:45.993Z"
   },
   {
    "duration": 2,
    "start_time": "2025-04-05T02:02:46.010Z"
   },
   {
    "duration": 323,
    "start_time": "2025-04-05T02:02:46.015Z"
   },
   {
    "duration": 349,
    "start_time": "2025-04-05T02:02:46.340Z"
   },
   {
    "duration": 16,
    "start_time": "2025-04-05T02:02:46.691Z"
   },
   {
    "duration": 4,
    "start_time": "2025-04-05T02:02:46.709Z"
   },
   {
    "duration": 6,
    "start_time": "2025-04-05T02:02:46.715Z"
   },
   {
    "duration": 5,
    "start_time": "2025-04-05T02:02:46.729Z"
   },
   {
    "duration": 4,
    "start_time": "2025-04-05T02:02:46.736Z"
   },
   {
    "duration": 50,
    "start_time": "2025-04-05T02:02:46.742Z"
   },
   {
    "duration": 7,
    "start_time": "2025-04-05T02:02:46.794Z"
   },
   {
    "duration": 5,
    "start_time": "2025-04-05T02:02:46.803Z"
   },
   {
    "duration": 30,
    "start_time": "2025-04-05T02:02:46.810Z"
   },
   {
    "duration": 4,
    "start_time": "2025-04-05T02:02:46.842Z"
   },
   {
    "duration": 45,
    "start_time": "2025-04-05T02:02:46.848Z"
   },
   {
    "duration": 6,
    "start_time": "2025-04-05T02:02:46.894Z"
   },
   {
    "duration": 4,
    "start_time": "2025-04-05T02:02:46.902Z"
   },
   {
    "duration": 8,
    "start_time": "2025-04-05T02:02:46.908Z"
   },
   {
    "duration": 71,
    "start_time": "2025-04-05T02:02:46.919Z"
   },
   {
    "duration": 6,
    "start_time": "2025-04-05T02:02:46.992Z"
   },
   {
    "duration": 4,
    "start_time": "2025-04-05T02:02:47.001Z"
   },
   {
    "duration": 3,
    "start_time": "2025-04-05T02:02:47.007Z"
   },
   {
    "duration": 6,
    "start_time": "2025-04-05T02:02:47.087Z"
   },
   {
    "duration": 5,
    "start_time": "2025-04-05T02:02:47.095Z"
   },
   {
    "duration": 3,
    "start_time": "2025-04-05T02:02:47.102Z"
   },
   {
    "duration": 80,
    "start_time": "2025-04-05T02:02:47.107Z"
   },
   {
    "duration": 5,
    "start_time": "2025-04-05T02:02:47.189Z"
   },
   {
    "duration": 9,
    "start_time": "2025-04-05T02:02:47.197Z"
   },
   {
    "duration": 78,
    "start_time": "2025-04-05T02:02:47.209Z"
   },
   {
    "duration": 3,
    "start_time": "2025-04-05T02:02:47.290Z"
   },
   {
    "duration": 3,
    "start_time": "2025-04-05T02:02:47.295Z"
   },
   {
    "duration": 4,
    "start_time": "2025-04-05T03:26:22.441Z"
   },
   {
    "duration": 4,
    "start_time": "2025-04-05T03:27:05.277Z"
   },
   {
    "duration": 6,
    "start_time": "2025-04-05T05:35:52.478Z"
   },
   {
    "duration": 13,
    "start_time": "2025-04-05T05:41:14.522Z"
   },
   {
    "duration": 2771,
    "start_time": "2025-04-05T16:01:28.801Z"
   },
   {
    "duration": 13,
    "start_time": "2025-04-05T16:01:31.575Z"
   },
   {
    "duration": 5,
    "start_time": "2025-04-05T16:01:31.589Z"
   },
   {
    "duration": 10,
    "start_time": "2025-04-05T16:01:31.596Z"
   },
   {
    "duration": 6,
    "start_time": "2025-04-05T16:01:31.608Z"
   },
   {
    "duration": 9,
    "start_time": "2025-04-05T16:01:31.615Z"
   },
   {
    "duration": 3,
    "start_time": "2025-04-05T16:01:31.625Z"
   },
   {
    "duration": 10,
    "start_time": "2025-04-05T16:01:31.630Z"
   },
   {
    "duration": 4,
    "start_time": "2025-04-05T16:01:31.641Z"
   },
   {
    "duration": 4,
    "start_time": "2025-04-05T16:01:31.649Z"
   },
   {
    "duration": 50,
    "start_time": "2025-04-05T16:01:31.655Z"
   },
   {
    "duration": 19,
    "start_time": "2025-04-05T16:01:31.707Z"
   },
   {
    "duration": 4,
    "start_time": "2025-04-05T16:01:31.728Z"
   },
   {
    "duration": 5,
    "start_time": "2025-04-05T16:01:31.733Z"
   },
   {
    "duration": 2587,
    "start_time": "2025-04-05T16:01:31.740Z"
   },
   {
    "duration": 3,
    "start_time": "2025-04-05T16:01:34.329Z"
   },
   {
    "duration": 59,
    "start_time": "2025-04-05T16:01:34.334Z"
   },
   {
    "duration": 3,
    "start_time": "2025-04-05T16:01:34.394Z"
   },
   {
    "duration": 4,
    "start_time": "2025-04-05T16:01:34.398Z"
   },
   {
    "duration": 19,
    "start_time": "2025-04-05T16:01:34.405Z"
   },
   {
    "duration": 2,
    "start_time": "2025-04-05T16:01:34.426Z"
   },
   {
    "duration": 300,
    "start_time": "2025-04-05T16:01:34.430Z"
   },
   {
    "duration": 321,
    "start_time": "2025-04-05T16:01:34.732Z"
   },
   {
    "duration": 14,
    "start_time": "2025-04-05T16:01:35.055Z"
   },
   {
    "duration": 2,
    "start_time": "2025-04-05T16:01:35.071Z"
   },
   {
    "duration": 30,
    "start_time": "2025-04-05T16:01:35.075Z"
   },
   {
    "duration": 3,
    "start_time": "2025-04-05T16:01:35.107Z"
   },
   {
    "duration": 3,
    "start_time": "2025-04-05T16:01:35.114Z"
   },
   {
    "duration": 12,
    "start_time": "2025-04-05T16:01:35.118Z"
   },
   {
    "duration": 7,
    "start_time": "2025-04-05T16:01:35.132Z"
   },
   {
    "duration": 5,
    "start_time": "2025-04-05T16:01:35.140Z"
   },
   {
    "duration": 66,
    "start_time": "2025-04-05T16:01:35.147Z"
   },
   {
    "duration": 4,
    "start_time": "2025-04-05T16:01:35.214Z"
   },
   {
    "duration": 12,
    "start_time": "2025-04-05T16:01:35.219Z"
   },
   {
    "duration": 5,
    "start_time": "2025-04-05T16:01:35.233Z"
   },
   {
    "duration": 4,
    "start_time": "2025-04-05T16:01:35.239Z"
   },
   {
    "duration": 63,
    "start_time": "2025-04-05T16:01:35.245Z"
   },
   {
    "duration": 12,
    "start_time": "2025-04-05T16:01:35.310Z"
   },
   {
    "duration": 6,
    "start_time": "2025-04-05T16:01:35.323Z"
   },
   {
    "duration": 5,
    "start_time": "2025-04-05T16:01:35.406Z"
   },
   {
    "duration": 2,
    "start_time": "2025-04-05T16:01:35.413Z"
   },
   {
    "duration": 3,
    "start_time": "2025-04-05T16:01:35.417Z"
   },
   {
    "duration": 4,
    "start_time": "2025-04-05T16:01:35.422Z"
   },
   {
    "duration": 78,
    "start_time": "2025-04-05T16:01:35.427Z"
   },
   {
    "duration": 5,
    "start_time": "2025-04-05T16:01:35.508Z"
   },
   {
    "duration": 3,
    "start_time": "2025-04-05T16:01:35.515Z"
   },
   {
    "duration": 5,
    "start_time": "2025-04-05T16:01:35.520Z"
   },
   {
    "duration": 78,
    "start_time": "2025-04-05T16:01:35.527Z"
   },
   {
    "duration": 3,
    "start_time": "2025-04-05T16:01:35.608Z"
   },
   {
    "duration": 4,
    "start_time": "2025-04-05T16:01:35.612Z"
   },
   {
    "duration": 5,
    "start_time": "2025-04-05T16:01:35.617Z"
   },
   {
    "duration": 3,
    "start_time": "2025-04-05T16:01:35.623Z"
   },
   {
    "duration": 85,
    "start_time": "2025-04-05T16:01:35.628Z"
   },
   {
    "duration": 2760,
    "start_time": "2025-04-05T19:03:07.014Z"
   },
   {
    "duration": 12,
    "start_time": "2025-04-05T19:03:09.776Z"
   },
   {
    "duration": 6,
    "start_time": "2025-04-05T19:03:09.789Z"
   },
   {
    "duration": 18,
    "start_time": "2025-04-05T19:03:09.798Z"
   },
   {
    "duration": 5,
    "start_time": "2025-04-05T19:03:09.817Z"
   },
   {
    "duration": 8,
    "start_time": "2025-04-05T19:03:09.823Z"
   },
   {
    "duration": 3,
    "start_time": "2025-04-05T19:03:09.833Z"
   },
   {
    "duration": 9,
    "start_time": "2025-04-05T19:03:09.838Z"
   },
   {
    "duration": 3,
    "start_time": "2025-04-05T19:03:09.849Z"
   },
   {
    "duration": 4,
    "start_time": "2025-04-05T19:03:09.855Z"
   },
   {
    "duration": 7,
    "start_time": "2025-04-05T19:03:09.860Z"
   },
   {
    "duration": 55,
    "start_time": "2025-04-05T19:03:09.869Z"
   },
   {
    "duration": 4,
    "start_time": "2025-04-05T19:03:09.926Z"
   },
   {
    "duration": 5,
    "start_time": "2025-04-05T19:03:09.932Z"
   },
   {
    "duration": 2517,
    "start_time": "2025-04-05T19:03:09.939Z"
   },
   {
    "duration": 3,
    "start_time": "2025-04-05T19:03:12.458Z"
   },
   {
    "duration": 37,
    "start_time": "2025-04-05T19:03:12.463Z"
   },
   {
    "duration": 3,
    "start_time": "2025-04-05T19:03:12.512Z"
   },
   {
    "duration": 3,
    "start_time": "2025-04-05T19:03:12.516Z"
   },
   {
    "duration": 12,
    "start_time": "2025-04-05T19:03:12.520Z"
   },
   {
    "duration": 2,
    "start_time": "2025-04-05T19:03:12.534Z"
   },
   {
    "duration": 293,
    "start_time": "2025-04-05T19:03:12.538Z"
   },
   {
    "duration": 320,
    "start_time": "2025-04-05T19:03:12.832Z"
   },
   {
    "duration": 13,
    "start_time": "2025-04-05T19:03:13.154Z"
   },
   {
    "duration": 3,
    "start_time": "2025-04-05T19:03:13.168Z"
   },
   {
    "duration": 3,
    "start_time": "2025-04-05T19:03:13.173Z"
   },
   {
    "duration": 4,
    "start_time": "2025-04-05T19:03:13.178Z"
   },
   {
    "duration": 2,
    "start_time": "2025-04-05T19:03:13.215Z"
   },
   {
    "duration": 12,
    "start_time": "2025-04-05T19:03:13.218Z"
   },
   {
    "duration": 6,
    "start_time": "2025-04-05T19:03:13.232Z"
   },
   {
    "duration": 5,
    "start_time": "2025-04-05T19:03:13.239Z"
   },
   {
    "duration": 28,
    "start_time": "2025-04-05T19:03:13.246Z"
   },
   {
    "duration": 3,
    "start_time": "2025-04-05T19:03:13.276Z"
   },
   {
    "duration": 12,
    "start_time": "2025-04-05T19:03:13.312Z"
   },
   {
    "duration": 4,
    "start_time": "2025-04-05T19:03:13.326Z"
   },
   {
    "duration": 4,
    "start_time": "2025-04-05T19:03:13.332Z"
   },
   {
    "duration": 12,
    "start_time": "2025-04-05T19:03:13.337Z"
   },
   {
    "duration": 72,
    "start_time": "2025-04-05T19:03:13.350Z"
   },
   {
    "duration": 8,
    "start_time": "2025-04-05T19:03:13.425Z"
   },
   {
    "duration": 7,
    "start_time": "2025-04-05T19:03:13.513Z"
   },
   {
    "duration": 4,
    "start_time": "2025-04-05T19:03:13.524Z"
   },
   {
    "duration": 4,
    "start_time": "2025-04-05T19:03:13.530Z"
   },
   {
    "duration": 78,
    "start_time": "2025-04-05T19:03:13.535Z"
   },
   {
    "duration": 5,
    "start_time": "2025-04-05T19:03:13.621Z"
   },
   {
    "duration": 4,
    "start_time": "2025-04-05T19:03:13.629Z"
   },
   {
    "duration": 77,
    "start_time": "2025-04-05T19:03:13.636Z"
   },
   {
    "duration": 6,
    "start_time": "2025-04-05T19:03:13.715Z"
   },
   {
    "duration": 5,
    "start_time": "2025-04-05T19:03:13.723Z"
   },
   {
    "duration": 3,
    "start_time": "2025-04-05T19:03:13.730Z"
   },
   {
    "duration": 3,
    "start_time": "2025-04-05T19:03:13.735Z"
   },
   {
    "duration": 4,
    "start_time": "2025-04-05T19:03:13.812Z"
   },
   {
    "duration": 4,
    "start_time": "2025-04-05T19:03:13.817Z"
   },
   {
    "duration": 12,
    "start_time": "2025-04-05T19:03:13.822Z"
   },
   {
    "duration": 16,
    "start_time": "2025-04-05T21:41:29.330Z"
   },
   {
    "duration": 980,
    "start_time": "2025-04-05T21:56:16.250Z"
   },
   {
    "duration": 8,
    "start_time": "2025-04-05T21:56:17.232Z"
   },
   {
    "duration": 5,
    "start_time": "2025-04-05T21:56:17.243Z"
   },
   {
    "duration": 5,
    "start_time": "2025-04-05T21:56:17.250Z"
   },
   {
    "duration": 8,
    "start_time": "2025-04-05T21:56:17.257Z"
   },
   {
    "duration": 14,
    "start_time": "2025-04-05T21:56:17.267Z"
   },
   {
    "duration": 4,
    "start_time": "2025-04-05T21:56:17.282Z"
   },
   {
    "duration": 30,
    "start_time": "2025-04-05T21:56:17.289Z"
   },
   {
    "duration": 4,
    "start_time": "2025-04-05T21:56:17.320Z"
   },
   {
    "duration": 4,
    "start_time": "2025-04-05T21:56:17.327Z"
   },
   {
    "duration": 8,
    "start_time": "2025-04-05T21:56:17.332Z"
   },
   {
    "duration": 17,
    "start_time": "2025-04-05T21:56:17.342Z"
   },
   {
    "duration": 4,
    "start_time": "2025-04-05T21:56:17.360Z"
   },
   {
    "duration": 4,
    "start_time": "2025-04-05T21:56:17.366Z"
   },
   {
    "duration": 2640,
    "start_time": "2025-04-05T21:56:17.372Z"
   },
   {
    "duration": 3,
    "start_time": "2025-04-05T21:56:20.014Z"
   },
   {
    "duration": 38,
    "start_time": "2025-04-05T21:56:20.019Z"
   },
   {
    "duration": 3,
    "start_time": "2025-04-05T21:56:20.058Z"
   },
   {
    "duration": 4,
    "start_time": "2025-04-05T21:56:20.063Z"
   },
   {
    "duration": 45,
    "start_time": "2025-04-05T21:56:20.068Z"
   },
   {
    "duration": 2,
    "start_time": "2025-04-05T21:56:20.115Z"
   },
   {
    "duration": 268,
    "start_time": "2025-04-05T21:56:20.118Z"
   },
   {
    "duration": 329,
    "start_time": "2025-04-05T21:56:20.388Z"
   },
   {
    "duration": 13,
    "start_time": "2025-04-05T21:56:20.719Z"
   },
   {
    "duration": 3,
    "start_time": "2025-04-05T21:56:20.733Z"
   },
   {
    "duration": 4,
    "start_time": "2025-04-05T21:56:20.737Z"
   },
   {
    "duration": 3,
    "start_time": "2025-04-05T21:56:20.742Z"
   },
   {
    "duration": 4,
    "start_time": "2025-04-05T21:56:20.750Z"
   },
   {
    "duration": 11,
    "start_time": "2025-04-05T21:56:20.755Z"
   },
   {
    "duration": 45,
    "start_time": "2025-04-05T21:56:20.767Z"
   },
   {
    "duration": 5,
    "start_time": "2025-04-05T21:56:20.814Z"
   },
   {
    "duration": 26,
    "start_time": "2025-04-05T21:56:20.822Z"
   },
   {
    "duration": 3,
    "start_time": "2025-04-05T21:56:20.850Z"
   },
   {
    "duration": 12,
    "start_time": "2025-04-05T21:56:20.856Z"
   },
   {
    "duration": 5,
    "start_time": "2025-04-05T21:56:20.869Z"
   },
   {
    "duration": 4,
    "start_time": "2025-04-05T21:56:20.911Z"
   },
   {
    "duration": 7,
    "start_time": "2025-04-05T21:56:20.917Z"
   },
   {
    "duration": 8,
    "start_time": "2025-04-05T21:56:20.925Z"
   },
   {
    "duration": 78,
    "start_time": "2025-04-05T21:56:20.934Z"
   },
   {
    "duration": 4,
    "start_time": "2025-04-05T21:56:21.014Z"
   },
   {
    "duration": 3,
    "start_time": "2025-04-05T21:56:21.020Z"
   },
   {
    "duration": 4,
    "start_time": "2025-04-05T21:56:21.025Z"
   },
   {
    "duration": 3,
    "start_time": "2025-04-05T21:56:21.031Z"
   },
   {
    "duration": 77,
    "start_time": "2025-04-05T21:56:21.036Z"
   },
   {
    "duration": 4,
    "start_time": "2025-04-05T21:56:21.115Z"
   },
   {
    "duration": 4,
    "start_time": "2025-04-05T21:56:21.120Z"
   },
   {
    "duration": 85,
    "start_time": "2025-04-05T21:56:21.126Z"
   },
   {
    "duration": 8,
    "start_time": "2025-04-05T21:56:21.213Z"
   },
   {
    "duration": 3,
    "start_time": "2025-04-05T21:56:21.223Z"
   },
   {
    "duration": 4,
    "start_time": "2025-04-05T21:56:21.228Z"
   },
   {
    "duration": 3,
    "start_time": "2025-04-05T21:56:21.234Z"
   },
   {
    "duration": 5,
    "start_time": "2025-04-05T21:56:21.238Z"
   },
   {
    "duration": 3,
    "start_time": "2025-04-05T21:56:21.244Z"
   },
   {
    "duration": 85,
    "start_time": "2025-04-05T21:56:21.248Z"
   },
   {
    "duration": 4,
    "start_time": "2025-04-05T21:59:23.096Z"
   },
   {
    "duration": 3,
    "start_time": "2025-04-05T22:03:16.622Z"
   },
   {
    "duration": 2,
    "start_time": "2025-04-05T22:06:19.296Z"
   },
   {
    "duration": 2,
    "start_time": "2025-04-05T22:09:00.617Z"
   },
   {
    "duration": 3,
    "start_time": "2025-04-05T22:09:34.033Z"
   },
   {
    "duration": 3,
    "start_time": "2025-04-05T22:10:07.321Z"
   },
   {
    "duration": 5,
    "start_time": "2025-04-05T22:10:26.465Z"
   },
   {
    "duration": 3,
    "start_time": "2025-04-05T22:11:05.682Z"
   },
   {
    "duration": 4,
    "start_time": "2025-04-05T22:12:31.145Z"
   },
   {
    "duration": 3,
    "start_time": "2025-04-05T22:12:32.911Z"
   },
   {
    "duration": 3,
    "start_time": "2025-04-05T22:13:20.413Z"
   },
   {
    "duration": 7,
    "start_time": "2025-04-05T22:20:34.762Z"
   },
   {
    "duration": 9,
    "start_time": "2025-04-05T22:35:03.150Z"
   },
   {
    "duration": 6,
    "start_time": "2025-04-05T22:35:52.464Z"
   },
   {
    "duration": 987,
    "start_time": "2025-04-05T22:47:29.153Z"
   },
   {
    "duration": 8,
    "start_time": "2025-04-05T22:47:30.143Z"
   },
   {
    "duration": 5,
    "start_time": "2025-04-05T22:47:30.153Z"
   },
   {
    "duration": 5,
    "start_time": "2025-04-05T22:47:30.160Z"
   },
   {
    "duration": 5,
    "start_time": "2025-04-05T22:47:30.167Z"
   },
   {
    "duration": 8,
    "start_time": "2025-04-05T22:47:30.173Z"
   },
   {
    "duration": 3,
    "start_time": "2025-04-05T22:47:30.183Z"
   },
   {
    "duration": 8,
    "start_time": "2025-04-05T22:47:30.212Z"
   },
   {
    "duration": 3,
    "start_time": "2025-04-05T22:47:30.222Z"
   },
   {
    "duration": 3,
    "start_time": "2025-04-05T22:47:30.229Z"
   },
   {
    "duration": 7,
    "start_time": "2025-04-05T22:47:30.234Z"
   },
   {
    "duration": 17,
    "start_time": "2025-04-05T22:47:30.243Z"
   },
   {
    "duration": 4,
    "start_time": "2025-04-05T22:47:30.261Z"
   },
   {
    "duration": 6,
    "start_time": "2025-04-05T22:47:30.267Z"
   },
   {
    "duration": 2544,
    "start_time": "2025-04-05T22:47:30.312Z"
   },
   {
    "duration": 3,
    "start_time": "2025-04-05T22:47:32.858Z"
   },
   {
    "duration": 38,
    "start_time": "2025-04-05T22:47:32.863Z"
   },
   {
    "duration": 2,
    "start_time": "2025-04-05T22:47:32.912Z"
   },
   {
    "duration": 3,
    "start_time": "2025-04-05T22:47:32.916Z"
   },
   {
    "duration": 12,
    "start_time": "2025-04-05T22:47:32.921Z"
   },
   {
    "duration": 2,
    "start_time": "2025-04-05T22:47:32.935Z"
   },
   {
    "duration": 294,
    "start_time": "2025-04-05T22:47:32.939Z"
   },
   {
    "duration": 332,
    "start_time": "2025-04-05T22:47:33.235Z"
   },
   {
    "duration": 13,
    "start_time": "2025-04-05T22:47:33.569Z"
   },
   {
    "duration": 2,
    "start_time": "2025-04-05T22:47:33.584Z"
   },
   {
    "duration": 3,
    "start_time": "2025-04-05T22:47:33.613Z"
   },
   {
    "duration": 4,
    "start_time": "2025-04-05T22:47:33.618Z"
   },
   {
    "duration": 2,
    "start_time": "2025-04-05T22:47:33.628Z"
   },
   {
    "duration": 11,
    "start_time": "2025-04-05T22:47:33.632Z"
   },
   {
    "duration": 6,
    "start_time": "2025-04-05T22:47:33.645Z"
   },
   {
    "duration": 5,
    "start_time": "2025-04-05T22:47:33.654Z"
   },
   {
    "duration": 65,
    "start_time": "2025-04-05T22:47:33.660Z"
   },
   {
    "duration": 4,
    "start_time": "2025-04-05T22:47:33.726Z"
   },
   {
    "duration": 11,
    "start_time": "2025-04-05T22:47:33.731Z"
   },
   {
    "duration": 4,
    "start_time": "2025-04-05T22:47:33.744Z"
   },
   {
    "duration": 3,
    "start_time": "2025-04-05T22:47:33.751Z"
   },
   {
    "duration": 11,
    "start_time": "2025-04-05T22:47:33.756Z"
   },
   {
    "duration": 9,
    "start_time": "2025-04-05T22:47:33.813Z"
   },
   {
    "duration": 7,
    "start_time": "2025-04-05T22:47:33.825Z"
   },
   {
    "duration": 6,
    "start_time": "2025-04-05T22:47:33.834Z"
   },
   {
    "duration": 3,
    "start_time": "2025-04-05T22:47:33.911Z"
   },
   {
    "duration": 4,
    "start_time": "2025-04-05T22:47:33.916Z"
   },
   {
    "duration": 5,
    "start_time": "2025-04-05T22:47:33.921Z"
   },
   {
    "duration": 4,
    "start_time": "2025-04-05T22:47:33.930Z"
   },
   {
    "duration": 77,
    "start_time": "2025-04-05T22:47:33.935Z"
   },
   {
    "duration": 5,
    "start_time": "2025-04-05T22:47:34.014Z"
   },
   {
    "duration": 6,
    "start_time": "2025-04-05T22:47:34.021Z"
   },
   {
    "duration": 9,
    "start_time": "2025-04-05T22:47:34.029Z"
   },
   {
    "duration": 73,
    "start_time": "2025-04-05T22:47:34.039Z"
   },
   {
    "duration": 5,
    "start_time": "2025-04-05T22:47:34.113Z"
   },
   {
    "duration": 2,
    "start_time": "2025-04-05T22:47:34.120Z"
   },
   {
    "duration": 4,
    "start_time": "2025-04-05T22:47:34.124Z"
   },
   {
    "duration": 4,
    "start_time": "2025-04-05T22:47:34.129Z"
   },
   {
    "duration": 3,
    "start_time": "2025-04-05T22:47:34.135Z"
   },
   {
    "duration": 74,
    "start_time": "2025-04-05T22:47:34.139Z"
   },
   {
    "duration": 5,
    "start_time": "2025-04-05T22:47:34.215Z"
   },
   {
    "duration": 3,
    "start_time": "2025-04-05T22:47:34.222Z"
   },
   {
    "duration": 3,
    "start_time": "2025-04-05T22:47:34.227Z"
   },
   {
    "duration": 3,
    "start_time": "2025-04-05T22:47:34.232Z"
   },
   {
    "duration": 77,
    "start_time": "2025-04-05T22:47:34.236Z"
   },
   {
    "duration": 3,
    "start_time": "2025-04-05T22:47:34.315Z"
   },
   {
    "duration": 3,
    "start_time": "2025-04-05T22:47:34.320Z"
   },
   {
    "duration": 7,
    "start_time": "2025-04-05T22:47:34.325Z"
   },
   {
    "duration": 3,
    "start_time": "2025-04-05T22:50:44.146Z"
   },
   {
    "duration": 1025,
    "start_time": "2025-04-05T22:54:23.334Z"
   },
   {
    "duration": 7,
    "start_time": "2025-04-05T22:54:24.361Z"
   },
   {
    "duration": 5,
    "start_time": "2025-04-05T22:54:24.370Z"
   },
   {
    "duration": 6,
    "start_time": "2025-04-05T22:54:24.377Z"
   },
   {
    "duration": 26,
    "start_time": "2025-04-05T22:54:24.385Z"
   },
   {
    "duration": 9,
    "start_time": "2025-04-05T22:54:24.413Z"
   },
   {
    "duration": 3,
    "start_time": "2025-04-05T22:54:24.423Z"
   },
   {
    "duration": 10,
    "start_time": "2025-04-05T22:54:24.428Z"
   },
   {
    "duration": 3,
    "start_time": "2025-04-05T22:54:24.441Z"
   },
   {
    "duration": 5,
    "start_time": "2025-04-05T22:54:24.448Z"
   },
   {
    "duration": 8,
    "start_time": "2025-04-05T22:54:24.454Z"
   },
   {
    "duration": 49,
    "start_time": "2025-04-05T22:54:24.463Z"
   },
   {
    "duration": 6,
    "start_time": "2025-04-05T22:54:24.514Z"
   },
   {
    "duration": 5,
    "start_time": "2025-04-05T22:54:24.523Z"
   },
   {
    "duration": 2575,
    "start_time": "2025-04-05T22:54:24.529Z"
   },
   {
    "duration": 3,
    "start_time": "2025-04-05T22:54:27.106Z"
   },
   {
    "duration": 42,
    "start_time": "2025-04-05T22:54:27.110Z"
   },
   {
    "duration": 2,
    "start_time": "2025-04-05T22:54:27.154Z"
   },
   {
    "duration": 2,
    "start_time": "2025-04-05T22:54:27.158Z"
   },
   {
    "duration": 13,
    "start_time": "2025-04-05T22:54:27.162Z"
   },
   {
    "duration": 3,
    "start_time": "2025-04-05T22:54:27.176Z"
   },
   {
    "duration": 286,
    "start_time": "2025-04-05T22:54:27.180Z"
   },
   {
    "duration": 353,
    "start_time": "2025-04-05T22:54:27.468Z"
   },
   {
    "duration": 15,
    "start_time": "2025-04-05T22:54:27.823Z"
   },
   {
    "duration": 3,
    "start_time": "2025-04-05T22:54:27.839Z"
   },
   {
    "duration": 4,
    "start_time": "2025-04-05T22:54:27.843Z"
   },
   {
    "duration": 4,
    "start_time": "2025-04-05T22:54:27.849Z"
   },
   {
    "duration": 2,
    "start_time": "2025-04-05T22:54:27.858Z"
   },
   {
    "duration": 51,
    "start_time": "2025-04-05T22:54:27.862Z"
   },
   {
    "duration": 7,
    "start_time": "2025-04-05T22:54:27.914Z"
   },
   {
    "duration": 6,
    "start_time": "2025-04-05T22:54:27.923Z"
   },
   {
    "duration": 41,
    "start_time": "2025-04-05T22:54:27.931Z"
   },
   {
    "duration": 7,
    "start_time": "2025-04-05T22:54:27.973Z"
   },
   {
    "duration": 37,
    "start_time": "2025-04-05T22:54:27.982Z"
   },
   {
    "duration": 3,
    "start_time": "2025-04-05T22:54:28.020Z"
   },
   {
    "duration": 13,
    "start_time": "2025-04-05T22:54:28.025Z"
   },
   {
    "duration": 361,
    "start_time": "2025-04-05T22:54:28.043Z"
   },
   {
    "duration": 0,
    "start_time": "2025-04-05T22:54:28.405Z"
   },
   {
    "duration": 0,
    "start_time": "2025-04-05T22:54:28.406Z"
   },
   {
    "duration": 0,
    "start_time": "2025-04-05T22:54:28.407Z"
   },
   {
    "duration": 0,
    "start_time": "2025-04-05T22:54:28.407Z"
   },
   {
    "duration": 0,
    "start_time": "2025-04-05T22:54:28.408Z"
   },
   {
    "duration": 0,
    "start_time": "2025-04-05T22:54:28.409Z"
   },
   {
    "duration": 0,
    "start_time": "2025-04-05T22:54:28.411Z"
   },
   {
    "duration": 0,
    "start_time": "2025-04-05T22:54:28.412Z"
   },
   {
    "duration": 0,
    "start_time": "2025-04-05T22:54:28.413Z"
   },
   {
    "duration": 0,
    "start_time": "2025-04-05T22:54:28.414Z"
   },
   {
    "duration": 0,
    "start_time": "2025-04-05T22:54:28.414Z"
   },
   {
    "duration": 0,
    "start_time": "2025-04-05T22:54:28.416Z"
   },
   {
    "duration": 0,
    "start_time": "2025-04-05T22:54:28.417Z"
   },
   {
    "duration": 0,
    "start_time": "2025-04-05T22:54:28.418Z"
   },
   {
    "duration": 0,
    "start_time": "2025-04-05T22:54:28.419Z"
   },
   {
    "duration": 0,
    "start_time": "2025-04-05T22:54:28.420Z"
   },
   {
    "duration": 0,
    "start_time": "2025-04-05T22:54:28.421Z"
   },
   {
    "duration": 0,
    "start_time": "2025-04-05T22:54:28.422Z"
   },
   {
    "duration": 0,
    "start_time": "2025-04-05T22:54:28.423Z"
   },
   {
    "duration": 0,
    "start_time": "2025-04-05T22:54:28.424Z"
   },
   {
    "duration": 0,
    "start_time": "2025-04-05T22:54:28.425Z"
   },
   {
    "duration": 0,
    "start_time": "2025-04-05T22:54:28.426Z"
   },
   {
    "duration": 0,
    "start_time": "2025-04-05T22:54:28.427Z"
   },
   {
    "duration": 1001,
    "start_time": "2025-04-05T22:56:21.042Z"
   },
   {
    "duration": 8,
    "start_time": "2025-04-05T22:56:22.045Z"
   },
   {
    "duration": 6,
    "start_time": "2025-04-05T22:56:22.054Z"
   },
   {
    "duration": 6,
    "start_time": "2025-04-05T22:56:22.061Z"
   },
   {
    "duration": 5,
    "start_time": "2025-04-05T22:56:22.070Z"
   },
   {
    "duration": 9,
    "start_time": "2025-04-05T22:56:22.077Z"
   },
   {
    "duration": 26,
    "start_time": "2025-04-05T22:56:22.087Z"
   },
   {
    "duration": 10,
    "start_time": "2025-04-05T22:56:22.115Z"
   },
   {
    "duration": 3,
    "start_time": "2025-04-05T22:56:22.127Z"
   },
   {
    "duration": 4,
    "start_time": "2025-04-05T22:56:22.132Z"
   },
   {
    "duration": 9,
    "start_time": "2025-04-05T22:56:22.137Z"
   },
   {
    "duration": 17,
    "start_time": "2025-04-05T22:56:22.148Z"
   },
   {
    "duration": 5,
    "start_time": "2025-04-05T22:56:22.166Z"
   },
   {
    "duration": 38,
    "start_time": "2025-04-05T22:56:22.175Z"
   },
   {
    "duration": 2623,
    "start_time": "2025-04-05T22:56:22.215Z"
   },
   {
    "duration": 3,
    "start_time": "2025-04-05T22:56:24.839Z"
   },
   {
    "duration": 42,
    "start_time": "2025-04-05T22:56:24.844Z"
   },
   {
    "duration": 2,
    "start_time": "2025-04-05T22:56:24.889Z"
   },
   {
    "duration": 3,
    "start_time": "2025-04-05T22:56:24.893Z"
   },
   {
    "duration": 26,
    "start_time": "2025-04-05T22:56:24.898Z"
   },
   {
    "duration": 2,
    "start_time": "2025-04-05T22:56:24.925Z"
   },
   {
    "duration": 297,
    "start_time": "2025-04-05T22:56:24.929Z"
   },
   {
    "duration": 332,
    "start_time": "2025-04-05T22:56:25.228Z"
   },
   {
    "duration": 15,
    "start_time": "2025-04-05T22:56:25.563Z"
   },
   {
    "duration": 2,
    "start_time": "2025-04-05T22:56:25.580Z"
   },
   {
    "duration": 28,
    "start_time": "2025-04-05T22:56:25.584Z"
   },
   {
    "duration": 5,
    "start_time": "2025-04-05T22:56:25.613Z"
   },
   {
    "duration": 3,
    "start_time": "2025-04-05T22:56:25.620Z"
   },
   {
    "duration": 12,
    "start_time": "2025-04-05T22:56:25.625Z"
   },
   {
    "duration": 7,
    "start_time": "2025-04-05T22:56:25.639Z"
   },
   {
    "duration": 5,
    "start_time": "2025-04-05T22:56:25.648Z"
   },
   {
    "duration": 66,
    "start_time": "2025-04-05T22:56:25.655Z"
   },
   {
    "duration": 3,
    "start_time": "2025-04-05T22:56:25.723Z"
   },
   {
    "duration": 14,
    "start_time": "2025-04-05T22:56:25.728Z"
   },
   {
    "duration": 5,
    "start_time": "2025-04-05T22:56:25.744Z"
   },
   {
    "duration": 4,
    "start_time": "2025-04-05T22:56:25.751Z"
   },
   {
    "duration": 57,
    "start_time": "2025-04-05T22:56:25.757Z"
   },
   {
    "duration": 9,
    "start_time": "2025-04-05T22:56:25.815Z"
   },
   {
    "duration": 8,
    "start_time": "2025-04-05T22:56:25.825Z"
   },
   {
    "duration": 6,
    "start_time": "2025-04-05T22:56:25.835Z"
   },
   {
    "duration": 4,
    "start_time": "2025-04-05T22:56:25.917Z"
   },
   {
    "duration": 5,
    "start_time": "2025-04-05T22:56:25.922Z"
   },
   {
    "duration": 4,
    "start_time": "2025-04-05T22:56:25.929Z"
   },
   {
    "duration": 4,
    "start_time": "2025-04-05T22:56:25.935Z"
   },
   {
    "duration": 71,
    "start_time": "2025-04-05T22:56:25.941Z"
   },
   {
    "duration": 5,
    "start_time": "2025-04-05T22:56:26.014Z"
   },
   {
    "duration": 7,
    "start_time": "2025-04-05T22:56:26.020Z"
   },
   {
    "duration": 5,
    "start_time": "2025-04-05T22:56:26.028Z"
   },
   {
    "duration": 5,
    "start_time": "2025-04-05T22:56:26.034Z"
   },
   {
    "duration": 71,
    "start_time": "2025-04-05T22:56:26.040Z"
   },
   {
    "duration": 5,
    "start_time": "2025-04-05T22:56:26.112Z"
   },
   {
    "duration": 19,
    "start_time": "2025-04-05T22:56:26.119Z"
   },
   {
    "duration": 68,
    "start_time": "2025-04-05T22:56:26.144Z"
   },
   {
    "duration": 3,
    "start_time": "2025-04-05T22:56:26.214Z"
   },
   {
    "duration": 3,
    "start_time": "2025-04-05T22:56:26.218Z"
   },
   {
    "duration": 4,
    "start_time": "2025-04-05T22:56:26.223Z"
   },
   {
    "duration": 5,
    "start_time": "2025-04-05T22:56:26.229Z"
   },
   {
    "duration": 4,
    "start_time": "2025-04-05T22:56:26.236Z"
   },
   {
    "duration": 71,
    "start_time": "2025-04-05T22:56:26.241Z"
   },
   {
    "duration": 13,
    "start_time": "2025-04-05T22:56:26.314Z"
   },
   {
    "duration": 975,
    "start_time": "2025-04-05T22:58:21.058Z"
   },
   {
    "duration": 7,
    "start_time": "2025-04-05T22:58:22.037Z"
   },
   {
    "duration": 6,
    "start_time": "2025-04-05T22:58:22.045Z"
   },
   {
    "duration": 7,
    "start_time": "2025-04-05T22:58:22.054Z"
   },
   {
    "duration": 5,
    "start_time": "2025-04-05T22:58:22.063Z"
   },
   {
    "duration": 9,
    "start_time": "2025-04-05T22:58:22.070Z"
   },
   {
    "duration": 4,
    "start_time": "2025-04-05T22:58:22.080Z"
   },
   {
    "duration": 33,
    "start_time": "2025-04-05T22:58:22.086Z"
   },
   {
    "duration": 5,
    "start_time": "2025-04-05T22:58:22.120Z"
   },
   {
    "duration": 4,
    "start_time": "2025-04-05T22:58:22.128Z"
   },
   {
    "duration": 8,
    "start_time": "2025-04-05T22:58:22.133Z"
   },
   {
    "duration": 21,
    "start_time": "2025-04-05T22:58:22.143Z"
   },
   {
    "duration": 4,
    "start_time": "2025-04-05T22:58:22.166Z"
   },
   {
    "duration": 5,
    "start_time": "2025-04-05T22:58:22.172Z"
   },
   {
    "duration": 2677,
    "start_time": "2025-04-05T22:58:22.179Z"
   },
   {
    "duration": 2,
    "start_time": "2025-04-05T22:58:24.858Z"
   },
   {
    "duration": 41,
    "start_time": "2025-04-05T22:58:24.862Z"
   },
   {
    "duration": 2,
    "start_time": "2025-04-05T22:58:24.905Z"
   },
   {
    "duration": 3,
    "start_time": "2025-04-05T22:58:24.911Z"
   },
   {
    "duration": 12,
    "start_time": "2025-04-05T22:58:24.916Z"
   },
   {
    "duration": 2,
    "start_time": "2025-04-05T22:58:24.929Z"
   },
   {
    "duration": 292,
    "start_time": "2025-04-05T22:58:24.933Z"
   },
   {
    "duration": 326,
    "start_time": "2025-04-05T22:58:25.227Z"
   },
   {
    "duration": 12,
    "start_time": "2025-04-05T22:58:25.555Z"
   },
   {
    "duration": 3,
    "start_time": "2025-04-05T22:58:25.569Z"
   },
   {
    "duration": 5,
    "start_time": "2025-04-05T22:58:25.573Z"
   },
   {
    "duration": 33,
    "start_time": "2025-04-05T22:58:25.580Z"
   },
   {
    "duration": 3,
    "start_time": "2025-04-05T22:58:25.619Z"
   },
   {
    "duration": 14,
    "start_time": "2025-04-05T22:58:25.624Z"
   },
   {
    "duration": 7,
    "start_time": "2025-04-05T22:58:25.639Z"
   },
   {
    "duration": 6,
    "start_time": "2025-04-05T22:58:25.648Z"
   },
   {
    "duration": 57,
    "start_time": "2025-04-05T22:58:25.656Z"
   },
   {
    "duration": 6,
    "start_time": "2025-04-05T22:58:25.714Z"
   },
   {
    "duration": 13,
    "start_time": "2025-04-05T22:58:25.723Z"
   },
   {
    "duration": 5,
    "start_time": "2025-04-05T22:58:25.738Z"
   },
   {
    "duration": 5,
    "start_time": "2025-04-05T22:58:25.744Z"
   },
   {
    "duration": 14,
    "start_time": "2025-04-05T22:58:25.750Z"
   },
   {
    "duration": 9,
    "start_time": "2025-04-05T22:58:25.812Z"
   },
   {
    "duration": 6,
    "start_time": "2025-04-05T22:58:25.822Z"
   },
   {
    "duration": 5,
    "start_time": "2025-04-05T22:58:25.830Z"
   },
   {
    "duration": 3,
    "start_time": "2025-04-05T22:58:25.837Z"
   },
   {
    "duration": 71,
    "start_time": "2025-04-05T22:58:25.842Z"
   },
   {
    "duration": 4,
    "start_time": "2025-04-05T22:58:25.915Z"
   },
   {
    "duration": 5,
    "start_time": "2025-04-05T22:58:25.921Z"
   },
   {
    "duration": 4,
    "start_time": "2025-04-05T22:58:25.928Z"
   },
   {
    "duration": 6,
    "start_time": "2025-04-05T22:58:25.934Z"
   },
   {
    "duration": 76,
    "start_time": "2025-04-05T22:58:25.942Z"
   },
   {
    "duration": 3,
    "start_time": "2025-04-05T22:58:26.020Z"
   },
   {
    "duration": 5,
    "start_time": "2025-04-05T22:58:26.025Z"
   },
   {
    "duration": 2,
    "start_time": "2025-04-05T22:58:26.032Z"
   },
   {
    "duration": 4,
    "start_time": "2025-04-05T22:58:26.037Z"
   },
   {
    "duration": 88,
    "start_time": "2025-04-05T22:58:26.043Z"
   },
   {
    "duration": 7,
    "start_time": "2025-04-05T22:58:26.133Z"
   },
   {
    "duration": 69,
    "start_time": "2025-04-05T22:58:26.142Z"
   },
   {
    "duration": 2,
    "start_time": "2025-04-05T22:58:26.213Z"
   },
   {
    "duration": 6,
    "start_time": "2025-04-05T22:58:26.217Z"
   },
   {
    "duration": 4,
    "start_time": "2025-04-05T22:58:26.225Z"
   },
   {
    "duration": 3,
    "start_time": "2025-04-05T22:58:26.230Z"
   },
   {
    "duration": 4,
    "start_time": "2025-04-05T22:58:26.235Z"
   },
   {
    "duration": 74,
    "start_time": "2025-04-05T22:58:26.240Z"
   },
   {
    "duration": 961,
    "start_time": "2025-04-05T23:16:34.073Z"
   },
   {
    "duration": 8,
    "start_time": "2025-04-05T23:16:35.037Z"
   },
   {
    "duration": 8,
    "start_time": "2025-04-05T23:16:35.047Z"
   },
   {
    "duration": 6,
    "start_time": "2025-04-05T23:16:35.056Z"
   },
   {
    "duration": 5,
    "start_time": "2025-04-05T23:16:35.065Z"
   },
   {
    "duration": 8,
    "start_time": "2025-04-05T23:16:35.071Z"
   },
   {
    "duration": 3,
    "start_time": "2025-04-05T23:16:35.081Z"
   },
   {
    "duration": 34,
    "start_time": "2025-04-05T23:16:35.086Z"
   },
   {
    "duration": 3,
    "start_time": "2025-04-05T23:16:35.121Z"
   },
   {
    "duration": 4,
    "start_time": "2025-04-05T23:16:35.126Z"
   },
   {
    "duration": 7,
    "start_time": "2025-04-05T23:16:35.132Z"
   },
   {
    "duration": 17,
    "start_time": "2025-04-05T23:16:35.141Z"
   },
   {
    "duration": 4,
    "start_time": "2025-04-05T23:16:35.159Z"
   },
   {
    "duration": 5,
    "start_time": "2025-04-05T23:16:35.167Z"
   },
   {
    "duration": 2548,
    "start_time": "2025-04-05T23:16:35.173Z"
   },
   {
    "duration": 3,
    "start_time": "2025-04-05T23:16:37.722Z"
   },
   {
    "duration": 39,
    "start_time": "2025-04-05T23:16:37.726Z"
   },
   {
    "duration": 2,
    "start_time": "2025-04-05T23:16:37.767Z"
   },
   {
    "duration": 2,
    "start_time": "2025-04-05T23:16:37.771Z"
   },
   {
    "duration": 39,
    "start_time": "2025-04-05T23:16:37.775Z"
   },
   {
    "duration": 2,
    "start_time": "2025-04-05T23:16:37.816Z"
   },
   {
    "duration": 274,
    "start_time": "2025-04-05T23:16:37.820Z"
   },
   {
    "duration": 317,
    "start_time": "2025-04-05T23:16:38.096Z"
   },
   {
    "duration": 13,
    "start_time": "2025-04-05T23:16:38.415Z"
   },
   {
    "duration": 3,
    "start_time": "2025-04-05T23:16:38.429Z"
   },
   {
    "duration": 4,
    "start_time": "2025-04-05T23:16:38.433Z"
   },
   {
    "duration": 4,
    "start_time": "2025-04-05T23:16:38.438Z"
   },
   {
    "duration": 4,
    "start_time": "2025-04-05T23:16:38.443Z"
   },
   {
    "duration": 11,
    "start_time": "2025-04-05T23:16:38.449Z"
   },
   {
    "duration": 53,
    "start_time": "2025-04-05T23:16:38.461Z"
   },
   {
    "duration": 6,
    "start_time": "2025-04-05T23:16:38.516Z"
   },
   {
    "duration": 30,
    "start_time": "2025-04-05T23:16:38.524Z"
   },
   {
    "duration": 4,
    "start_time": "2025-04-05T23:16:38.555Z"
   },
   {
    "duration": 15,
    "start_time": "2025-04-05T23:16:38.561Z"
   },
   {
    "duration": 38,
    "start_time": "2025-04-05T23:16:38.578Z"
   },
   {
    "duration": 5,
    "start_time": "2025-04-05T23:16:38.617Z"
   },
   {
    "duration": 10,
    "start_time": "2025-04-05T23:16:38.623Z"
   },
   {
    "duration": 6,
    "start_time": "2025-04-05T23:16:38.634Z"
   },
   {
    "duration": 5,
    "start_time": "2025-04-05T23:16:38.642Z"
   },
   {
    "duration": 4,
    "start_time": "2025-04-05T23:16:38.713Z"
   },
   {
    "duration": 2,
    "start_time": "2025-04-05T23:16:38.728Z"
   },
   {
    "duration": 5,
    "start_time": "2025-04-05T23:16:38.732Z"
   },
   {
    "duration": 76,
    "start_time": "2025-04-05T23:16:38.739Z"
   },
   {
    "duration": 3,
    "start_time": "2025-04-05T23:16:38.817Z"
   },
   {
    "duration": 9,
    "start_time": "2025-04-05T23:16:38.822Z"
   },
   {
    "duration": 4,
    "start_time": "2025-04-05T23:16:38.833Z"
   },
   {
    "duration": 8,
    "start_time": "2025-04-05T23:16:38.911Z"
   },
   {
    "duration": 6,
    "start_time": "2025-04-05T23:16:38.920Z"
   },
   {
    "duration": 3,
    "start_time": "2025-04-05T23:16:38.928Z"
   },
   {
    "duration": 3,
    "start_time": "2025-04-05T23:16:38.934Z"
   },
   {
    "duration": 4,
    "start_time": "2025-04-05T23:16:38.938Z"
   },
   {
    "duration": 81,
    "start_time": "2025-04-05T23:16:38.944Z"
   },
   {
    "duration": 6,
    "start_time": "2025-04-05T23:16:39.026Z"
   },
   {
    "duration": 3,
    "start_time": "2025-04-05T23:16:39.033Z"
   },
   {
    "duration": 75,
    "start_time": "2025-04-05T23:16:39.038Z"
   },
   {
    "duration": 5,
    "start_time": "2025-04-05T23:16:39.115Z"
   },
   {
    "duration": 4,
    "start_time": "2025-04-05T23:16:39.124Z"
   },
   {
    "duration": 5,
    "start_time": "2025-04-05T23:16:39.131Z"
   },
   {
    "duration": 74,
    "start_time": "2025-04-05T23:16:39.138Z"
   },
   {
    "duration": 13,
    "start_time": "2025-04-05T23:16:39.214Z"
   },
   {
    "duration": 1010,
    "start_time": "2025-04-05T23:20:40.821Z"
   },
   {
    "duration": 8,
    "start_time": "2025-04-05T23:20:41.833Z"
   },
   {
    "duration": 5,
    "start_time": "2025-04-05T23:20:41.842Z"
   },
   {
    "duration": 5,
    "start_time": "2025-04-05T23:20:41.849Z"
   },
   {
    "duration": 4,
    "start_time": "2025-04-05T23:20:41.858Z"
   },
   {
    "duration": 8,
    "start_time": "2025-04-05T23:20:41.864Z"
   },
   {
    "duration": 3,
    "start_time": "2025-04-05T23:20:41.874Z"
   },
   {
    "duration": 37,
    "start_time": "2025-04-05T23:20:41.880Z"
   },
   {
    "duration": 3,
    "start_time": "2025-04-05T23:20:41.918Z"
   },
   {
    "duration": 4,
    "start_time": "2025-04-05T23:20:41.923Z"
   },
   {
    "duration": 8,
    "start_time": "2025-04-05T23:20:41.928Z"
   },
   {
    "duration": 17,
    "start_time": "2025-04-05T23:20:41.937Z"
   },
   {
    "duration": 4,
    "start_time": "2025-04-05T23:20:41.956Z"
   },
   {
    "duration": 4,
    "start_time": "2025-04-05T23:20:41.964Z"
   },
   {
    "duration": 2583,
    "start_time": "2025-04-05T23:20:41.969Z"
   },
   {
    "duration": 3,
    "start_time": "2025-04-05T23:20:44.554Z"
   },
   {
    "duration": 39,
    "start_time": "2025-04-05T23:20:44.559Z"
   },
   {
    "duration": 2,
    "start_time": "2025-04-05T23:20:44.600Z"
   },
   {
    "duration": 18,
    "start_time": "2025-04-05T23:20:44.603Z"
   },
   {
    "duration": 3,
    "start_time": "2025-04-05T23:20:44.623Z"
   },
   {
    "duration": 270,
    "start_time": "2025-04-05T23:20:44.628Z"
   },
   {
    "duration": 355,
    "start_time": "2025-04-05T23:20:44.900Z"
   },
   {
    "duration": 14,
    "start_time": "2025-04-05T23:20:45.257Z"
   },
   {
    "duration": 2,
    "start_time": "2025-04-05T23:20:45.272Z"
   },
   {
    "duration": 4,
    "start_time": "2025-04-05T23:20:45.276Z"
   },
   {
    "duration": 31,
    "start_time": "2025-04-05T23:20:45.282Z"
   },
   {
    "duration": 4,
    "start_time": "2025-04-05T23:20:45.314Z"
   },
   {
    "duration": 12,
    "start_time": "2025-04-05T23:20:45.320Z"
   },
   {
    "duration": 6,
    "start_time": "2025-04-05T23:20:45.333Z"
   },
   {
    "duration": 4,
    "start_time": "2025-04-05T23:20:45.342Z"
   },
   {
    "duration": 28,
    "start_time": "2025-04-05T23:20:45.348Z"
   },
   {
    "duration": 35,
    "start_time": "2025-04-05T23:20:45.377Z"
   },
   {
    "duration": 11,
    "start_time": "2025-04-05T23:20:45.413Z"
   },
   {
    "duration": 4,
    "start_time": "2025-04-05T23:20:45.426Z"
   },
   {
    "duration": 5,
    "start_time": "2025-04-05T23:20:45.432Z"
   },
   {
    "duration": 11,
    "start_time": "2025-04-05T23:20:45.438Z"
   },
   {
    "duration": 64,
    "start_time": "2025-04-05T23:20:45.450Z"
   },
   {
    "duration": 7,
    "start_time": "2025-04-05T23:20:45.516Z"
   },
   {
    "duration": 4,
    "start_time": "2025-04-05T23:20:45.524Z"
   },
   {
    "duration": 4,
    "start_time": "2025-04-05T23:20:45.529Z"
   },
   {
    "duration": 4,
    "start_time": "2025-04-05T23:20:45.612Z"
   },
   {
    "duration": 4,
    "start_time": "2025-04-05T23:20:45.617Z"
   },
   {
    "duration": 4,
    "start_time": "2025-04-05T23:20:45.622Z"
   },
   {
    "duration": 3,
    "start_time": "2025-04-05T23:20:45.627Z"
   },
   {
    "duration": 80,
    "start_time": "2025-04-05T23:20:45.631Z"
   },
   {
    "duration": 9,
    "start_time": "2025-04-05T23:20:45.716Z"
   },
   {
    "duration": 4,
    "start_time": "2025-04-05T23:20:45.728Z"
   },
   {
    "duration": 4,
    "start_time": "2025-04-05T23:20:45.733Z"
   },
   {
    "duration": 3,
    "start_time": "2025-04-05T23:20:45.738Z"
   },
   {
    "duration": 70,
    "start_time": "2025-04-05T23:20:45.743Z"
   },
   {
    "duration": 13,
    "start_time": "2025-04-05T23:20:45.815Z"
   },
   {
    "duration": 5,
    "start_time": "2025-04-05T23:20:45.830Z"
   },
   {
    "duration": 77,
    "start_time": "2025-04-05T23:20:45.836Z"
   },
   {
    "duration": 3,
    "start_time": "2025-04-05T23:20:45.915Z"
   },
   {
    "duration": 3,
    "start_time": "2025-04-05T23:20:45.920Z"
   },
   {
    "duration": 4,
    "start_time": "2025-04-05T23:20:45.925Z"
   },
   {
    "duration": 5,
    "start_time": "2025-04-05T23:20:45.931Z"
   },
   {
    "duration": 76,
    "start_time": "2025-04-05T23:20:45.938Z"
   },
   {
    "duration": 10,
    "start_time": "2025-04-05T23:20:46.016Z"
   },
   {
    "duration": 974,
    "start_time": "2025-04-05T23:41:19.207Z"
   },
   {
    "duration": 8,
    "start_time": "2025-04-05T23:41:20.183Z"
   },
   {
    "duration": 4,
    "start_time": "2025-04-05T23:41:20.193Z"
   },
   {
    "duration": 17,
    "start_time": "2025-04-05T23:41:20.199Z"
   },
   {
    "duration": 5,
    "start_time": "2025-04-05T23:41:20.217Z"
   },
   {
    "duration": 9,
    "start_time": "2025-04-05T23:41:20.223Z"
   },
   {
    "duration": 4,
    "start_time": "2025-04-05T23:41:20.233Z"
   },
   {
    "duration": 9,
    "start_time": "2025-04-05T23:41:20.238Z"
   },
   {
    "duration": 4,
    "start_time": "2025-04-05T23:41:20.249Z"
   },
   {
    "duration": 4,
    "start_time": "2025-04-05T23:41:20.254Z"
   },
   {
    "duration": 7,
    "start_time": "2025-04-05T23:41:20.259Z"
   },
   {
    "duration": 57,
    "start_time": "2025-04-05T23:41:20.268Z"
   },
   {
    "duration": 4,
    "start_time": "2025-04-05T23:41:20.326Z"
   },
   {
    "duration": 4,
    "start_time": "2025-04-05T23:41:20.335Z"
   },
   {
    "duration": 2515,
    "start_time": "2025-04-05T23:41:20.341Z"
   },
   {
    "duration": 2,
    "start_time": "2025-04-05T23:41:22.858Z"
   },
   {
    "duration": 38,
    "start_time": "2025-04-05T23:41:22.861Z"
   },
   {
    "duration": 2,
    "start_time": "2025-04-05T23:41:22.900Z"
   },
   {
    "duration": 16,
    "start_time": "2025-04-05T23:41:22.904Z"
   },
   {
    "duration": 2,
    "start_time": "2025-04-05T23:41:22.923Z"
   },
   {
    "duration": 289,
    "start_time": "2025-04-05T23:41:22.926Z"
   },
   {
    "duration": 362,
    "start_time": "2025-04-05T23:41:23.217Z"
   },
   {
    "duration": 31,
    "start_time": "2025-04-05T23:41:23.581Z"
   },
   {
    "duration": 2,
    "start_time": "2025-04-05T23:41:23.614Z"
   },
   {
    "duration": 4,
    "start_time": "2025-04-05T23:41:23.618Z"
   },
   {
    "duration": 3,
    "start_time": "2025-04-05T23:41:23.624Z"
   },
   {
    "duration": 4,
    "start_time": "2025-04-05T23:41:23.628Z"
   },
   {
    "duration": 11,
    "start_time": "2025-04-05T23:41:23.634Z"
   },
   {
    "duration": 7,
    "start_time": "2025-04-05T23:41:23.647Z"
   },
   {
    "duration": 5,
    "start_time": "2025-04-05T23:41:23.655Z"
   },
   {
    "duration": 66,
    "start_time": "2025-04-05T23:41:23.662Z"
   },
   {
    "duration": 3,
    "start_time": "2025-04-05T23:41:23.729Z"
   },
   {
    "duration": 13,
    "start_time": "2025-04-05T23:41:23.734Z"
   },
   {
    "duration": 4,
    "start_time": "2025-04-05T23:41:23.749Z"
   },
   {
    "duration": 3,
    "start_time": "2025-04-05T23:41:23.755Z"
   },
   {
    "duration": 51,
    "start_time": "2025-04-05T23:41:23.760Z"
   },
   {
    "duration": 9,
    "start_time": "2025-04-05T23:41:23.813Z"
   },
   {
    "duration": 6,
    "start_time": "2025-04-05T23:41:23.823Z"
   },
   {
    "duration": 82,
    "start_time": "2025-04-05T23:41:23.831Z"
   },
   {
    "duration": 5,
    "start_time": "2025-04-05T23:41:23.915Z"
   },
   {
    "duration": 3,
    "start_time": "2025-04-05T23:41:23.927Z"
   },
   {
    "duration": 79,
    "start_time": "2025-04-05T23:41:23.933Z"
   },
   {
    "duration": 3,
    "start_time": "2025-04-05T23:41:24.016Z"
   },
   {
    "duration": 6,
    "start_time": "2025-04-05T23:41:24.020Z"
   },
   {
    "duration": 4,
    "start_time": "2025-04-05T23:41:24.027Z"
   },
   {
    "duration": 81,
    "start_time": "2025-04-05T23:41:24.033Z"
   },
   {
    "duration": 6,
    "start_time": "2025-04-05T23:41:24.116Z"
   },
   {
    "duration": 3,
    "start_time": "2025-04-05T23:41:24.124Z"
   },
   {
    "duration": 3,
    "start_time": "2025-04-05T23:41:24.128Z"
   },
   {
    "duration": 5,
    "start_time": "2025-04-05T23:41:24.133Z"
   },
   {
    "duration": 82,
    "start_time": "2025-04-05T23:41:24.139Z"
   },
   {
    "duration": 6,
    "start_time": "2025-04-05T23:41:24.223Z"
   },
   {
    "duration": 3,
    "start_time": "2025-04-05T23:41:24.230Z"
   },
   {
    "duration": 78,
    "start_time": "2025-04-05T23:41:24.234Z"
   },
   {
    "duration": 4,
    "start_time": "2025-04-05T23:41:24.313Z"
   },
   {
    "duration": 3,
    "start_time": "2025-04-05T23:41:24.319Z"
   },
   {
    "duration": 4,
    "start_time": "2025-04-05T23:41:24.324Z"
   },
   {
    "duration": 3,
    "start_time": "2025-04-05T23:41:24.330Z"
   },
   {
    "duration": 79,
    "start_time": "2025-04-05T23:41:24.335Z"
   },
   {
    "duration": 1048,
    "start_time": "2025-04-06T00:32:00.432Z"
   },
   {
    "duration": 11,
    "start_time": "2025-04-06T00:32:01.492Z"
   },
   {
    "duration": 5,
    "start_time": "2025-04-06T00:32:01.650Z"
   },
   {
    "duration": 7,
    "start_time": "2025-04-06T00:32:01.889Z"
   },
   {
    "duration": 6,
    "start_time": "2025-04-06T00:32:02.822Z"
   },
   {
    "duration": 11,
    "start_time": "2025-04-06T00:32:03.018Z"
   },
   {
    "duration": 3,
    "start_time": "2025-04-06T00:32:13.445Z"
   },
   {
    "duration": 9,
    "start_time": "2025-04-06T00:32:13.584Z"
   },
   {
    "duration": 3,
    "start_time": "2025-04-06T00:32:13.735Z"
   },
   {
    "duration": 4,
    "start_time": "2025-04-06T00:32:13.879Z"
   },
   {
    "duration": 8,
    "start_time": "2025-04-06T00:32:14.008Z"
   },
   {
    "duration": 17,
    "start_time": "2025-04-06T00:32:14.143Z"
   },
   {
    "duration": 7,
    "start_time": "2025-04-06T00:32:18.381Z"
   },
   {
    "duration": 5,
    "start_time": "2025-04-06T00:32:22.094Z"
   },
   {
    "duration": 2798,
    "start_time": "2025-04-07T16:08:40.498Z"
   },
   {
    "duration": 15,
    "start_time": "2025-04-07T16:08:43.299Z"
   },
   {
    "duration": 4,
    "start_time": "2025-04-07T16:08:43.316Z"
   },
   {
    "duration": 7,
    "start_time": "2025-04-07T16:08:43.322Z"
   },
   {
    "duration": 7,
    "start_time": "2025-04-07T16:08:43.331Z"
   },
   {
    "duration": 13,
    "start_time": "2025-04-07T16:08:43.340Z"
   },
   {
    "duration": 4,
    "start_time": "2025-04-07T16:08:43.355Z"
   },
   {
    "duration": 14,
    "start_time": "2025-04-07T16:08:43.361Z"
   },
   {
    "duration": 33,
    "start_time": "2025-04-07T16:08:43.376Z"
   },
   {
    "duration": 3,
    "start_time": "2025-04-07T16:08:43.413Z"
   },
   {
    "duration": 9,
    "start_time": "2025-04-07T16:08:43.418Z"
   },
   {
    "duration": 16,
    "start_time": "2025-04-07T16:08:43.429Z"
   },
   {
    "duration": 3,
    "start_time": "2025-04-07T16:08:43.447Z"
   },
   {
    "duration": 4,
    "start_time": "2025-04-07T16:08:43.452Z"
   },
   {
    "duration": 2583,
    "start_time": "2025-04-07T16:08:43.458Z"
   },
   {
    "duration": 3,
    "start_time": "2025-04-07T16:08:46.043Z"
   },
   {
    "duration": 40,
    "start_time": "2025-04-07T16:08:46.048Z"
   },
   {
    "duration": 2,
    "start_time": "2025-04-07T16:08:46.090Z"
   },
   {
    "duration": 21,
    "start_time": "2025-04-07T16:08:46.094Z"
   },
   {
    "duration": 2,
    "start_time": "2025-04-07T16:08:46.117Z"
   },
   {
    "duration": 288,
    "start_time": "2025-04-07T16:08:46.121Z"
   },
   {
    "duration": 341,
    "start_time": "2025-04-07T16:08:46.411Z"
   },
   {
    "duration": 13,
    "start_time": "2025-04-07T16:08:46.754Z"
   },
   {
    "duration": 3,
    "start_time": "2025-04-07T16:08:46.769Z"
   },
   {
    "duration": 4,
    "start_time": "2025-04-07T16:08:46.774Z"
   },
   {
    "duration": 30,
    "start_time": "2025-04-07T16:08:46.780Z"
   },
   {
    "duration": 4,
    "start_time": "2025-04-07T16:08:46.812Z"
   },
   {
    "duration": 13,
    "start_time": "2025-04-07T16:08:46.821Z"
   },
   {
    "duration": 7,
    "start_time": "2025-04-07T16:08:46.835Z"
   },
   {
    "duration": 5,
    "start_time": "2025-04-07T16:08:46.844Z"
   },
   {
    "duration": 60,
    "start_time": "2025-04-07T16:08:46.851Z"
   },
   {
    "duration": 4,
    "start_time": "2025-04-07T16:08:46.913Z"
   },
   {
    "duration": 12,
    "start_time": "2025-04-07T16:08:46.919Z"
   },
   {
    "duration": 5,
    "start_time": "2025-04-07T16:08:46.932Z"
   },
   {
    "duration": 5,
    "start_time": "2025-04-07T16:08:46.939Z"
   },
   {
    "duration": 64,
    "start_time": "2025-04-07T16:08:46.945Z"
   },
   {
    "duration": 8,
    "start_time": "2025-04-07T16:08:47.011Z"
   },
   {
    "duration": 6,
    "start_time": "2025-04-07T16:08:47.020Z"
   },
   {
    "duration": 4,
    "start_time": "2025-04-07T16:08:47.028Z"
   },
   {
    "duration": 3,
    "start_time": "2025-04-07T16:08:47.115Z"
   },
   {
    "duration": 5,
    "start_time": "2025-04-07T16:08:47.122Z"
   },
   {
    "duration": 81,
    "start_time": "2025-04-07T16:08:47.129Z"
   },
   {
    "duration": 5,
    "start_time": "2025-04-07T16:08:47.213Z"
   },
   {
    "duration": 8,
    "start_time": "2025-04-07T16:08:47.222Z"
   },
   {
    "duration": 5,
    "start_time": "2025-04-07T16:08:47.232Z"
   },
   {
    "duration": 75,
    "start_time": "2025-04-07T16:08:47.239Z"
   },
   {
    "duration": 4,
    "start_time": "2025-04-07T16:08:47.316Z"
   },
   {
    "duration": 8,
    "start_time": "2025-04-07T16:08:47.322Z"
   },
   {
    "duration": 4,
    "start_time": "2025-04-07T16:08:47.331Z"
   },
   {
    "duration": 74,
    "start_time": "2025-04-07T16:08:47.337Z"
   },
   {
    "duration": 14,
    "start_time": "2025-04-07T16:08:47.414Z"
   },
   {
    "duration": 7,
    "start_time": "2025-04-07T16:08:47.429Z"
   },
   {
    "duration": 2,
    "start_time": "2025-04-07T16:08:47.510Z"
   },
   {
    "duration": 3,
    "start_time": "2025-04-07T16:08:47.514Z"
   },
   {
    "duration": 3,
    "start_time": "2025-04-07T16:08:47.520Z"
   },
   {
    "duration": 3,
    "start_time": "2025-04-07T16:08:47.525Z"
   },
   {
    "duration": 3,
    "start_time": "2025-04-07T16:08:47.530Z"
   },
   {
    "duration": 76,
    "start_time": "2025-04-07T16:08:47.535Z"
   },
   {
    "duration": 7,
    "start_time": "2025-04-07T16:08:47.613Z"
   },
   {
    "duration": 5,
    "start_time": "2025-04-07T18:02:15.851Z"
   },
   {
    "duration": 6,
    "start_time": "2025-04-07T18:07:21.026Z"
   },
   {
    "duration": 966,
    "start_time": "2025-04-07T18:08:57.294Z"
   },
   {
    "duration": 9,
    "start_time": "2025-04-07T18:08:58.262Z"
   },
   {
    "duration": 5,
    "start_time": "2025-04-07T18:08:58.272Z"
   },
   {
    "duration": 6,
    "start_time": "2025-04-07T18:08:58.279Z"
   },
   {
    "duration": 22,
    "start_time": "2025-04-07T18:08:58.288Z"
   },
   {
    "duration": 9,
    "start_time": "2025-04-07T18:08:58.311Z"
   },
   {
    "duration": 4,
    "start_time": "2025-04-07T18:08:58.323Z"
   },
   {
    "duration": 10,
    "start_time": "2025-04-07T18:08:58.329Z"
   },
   {
    "duration": 3,
    "start_time": "2025-04-07T18:08:58.341Z"
   },
   {
    "duration": 4,
    "start_time": "2025-04-07T18:08:58.346Z"
   },
   {
    "duration": 8,
    "start_time": "2025-04-07T18:08:58.351Z"
   },
   {
    "duration": 4,
    "start_time": "2025-04-07T18:08:58.361Z"
   },
   {
    "duration": 60,
    "start_time": "2025-04-07T18:08:58.367Z"
   },
   {
    "duration": 2638,
    "start_time": "2025-04-07T18:08:58.431Z"
   },
   {
    "duration": 3,
    "start_time": "2025-04-07T18:09:01.071Z"
   },
   {
    "duration": 53,
    "start_time": "2025-04-07T18:09:01.076Z"
   },
   {
    "duration": 2,
    "start_time": "2025-04-07T18:09:01.131Z"
   },
   {
    "duration": 359,
    "start_time": "2025-04-07T18:09:01.135Z"
   },
   {
    "duration": 0,
    "start_time": "2025-04-07T18:09:01.497Z"
   },
   {
    "duration": 0,
    "start_time": "2025-04-07T18:09:01.498Z"
   },
   {
    "duration": 0,
    "start_time": "2025-04-07T18:09:01.499Z"
   },
   {
    "duration": 0,
    "start_time": "2025-04-07T18:09:01.508Z"
   },
   {
    "duration": 0,
    "start_time": "2025-04-07T18:09:01.509Z"
   },
   {
    "duration": 0,
    "start_time": "2025-04-07T18:09:01.511Z"
   },
   {
    "duration": 0,
    "start_time": "2025-04-07T18:09:01.511Z"
   },
   {
    "duration": 0,
    "start_time": "2025-04-07T18:09:01.513Z"
   },
   {
    "duration": 0,
    "start_time": "2025-04-07T18:09:01.514Z"
   },
   {
    "duration": 0,
    "start_time": "2025-04-07T18:09:01.515Z"
   },
   {
    "duration": 0,
    "start_time": "2025-04-07T18:09:01.516Z"
   },
   {
    "duration": 0,
    "start_time": "2025-04-07T18:09:01.517Z"
   },
   {
    "duration": 0,
    "start_time": "2025-04-07T18:09:01.518Z"
   },
   {
    "duration": 0,
    "start_time": "2025-04-07T18:09:01.519Z"
   },
   {
    "duration": 0,
    "start_time": "2025-04-07T18:09:01.520Z"
   },
   {
    "duration": 0,
    "start_time": "2025-04-07T18:09:01.521Z"
   },
   {
    "duration": 0,
    "start_time": "2025-04-07T18:09:01.522Z"
   },
   {
    "duration": 0,
    "start_time": "2025-04-07T18:09:01.523Z"
   },
   {
    "duration": 0,
    "start_time": "2025-04-07T18:09:01.524Z"
   },
   {
    "duration": 0,
    "start_time": "2025-04-07T18:09:01.525Z"
   },
   {
    "duration": 0,
    "start_time": "2025-04-07T18:09:01.526Z"
   },
   {
    "duration": 1,
    "start_time": "2025-04-07T18:09:01.527Z"
   },
   {
    "duration": 0,
    "start_time": "2025-04-07T18:09:01.529Z"
   },
   {
    "duration": 0,
    "start_time": "2025-04-07T18:09:01.530Z"
   },
   {
    "duration": 0,
    "start_time": "2025-04-07T18:09:01.531Z"
   },
   {
    "duration": 0,
    "start_time": "2025-04-07T18:09:01.532Z"
   },
   {
    "duration": 0,
    "start_time": "2025-04-07T18:09:01.533Z"
   },
   {
    "duration": 0,
    "start_time": "2025-04-07T18:09:01.534Z"
   },
   {
    "duration": 0,
    "start_time": "2025-04-07T18:09:01.535Z"
   },
   {
    "duration": 0,
    "start_time": "2025-04-07T18:09:01.535Z"
   },
   {
    "duration": 0,
    "start_time": "2025-04-07T18:09:01.536Z"
   },
   {
    "duration": 0,
    "start_time": "2025-04-07T18:09:01.538Z"
   },
   {
    "duration": 0,
    "start_time": "2025-04-07T18:09:01.539Z"
   },
   {
    "duration": 0,
    "start_time": "2025-04-07T18:09:01.540Z"
   },
   {
    "duration": 0,
    "start_time": "2025-04-07T18:09:01.541Z"
   },
   {
    "duration": 0,
    "start_time": "2025-04-07T18:09:01.542Z"
   },
   {
    "duration": 0,
    "start_time": "2025-04-07T18:09:01.543Z"
   },
   {
    "duration": 0,
    "start_time": "2025-04-07T18:09:01.544Z"
   },
   {
    "duration": 0,
    "start_time": "2025-04-07T18:09:01.545Z"
   },
   {
    "duration": 0,
    "start_time": "2025-04-07T18:09:01.547Z"
   },
   {
    "duration": 13,
    "start_time": "2025-04-07T18:13:49.850Z"
   },
   {
    "duration": 15,
    "start_time": "2025-04-07T18:14:29.227Z"
   },
   {
    "duration": 4,
    "start_time": "2025-04-07T18:14:35.708Z"
   },
   {
    "duration": 270,
    "start_time": "2025-04-07T18:14:36.832Z"
   },
   {
    "duration": 337,
    "start_time": "2025-04-07T18:14:40.200Z"
   },
   {
    "duration": 15,
    "start_time": "2025-04-07T18:14:41.036Z"
   },
   {
    "duration": 3,
    "start_time": "2025-04-07T18:46:45.496Z"
   },
   {
    "duration": 3,
    "start_time": "2025-04-07T18:46:46.427Z"
   },
   {
    "duration": 4,
    "start_time": "2025-04-07T18:46:49.108Z"
   },
   {
    "duration": 3,
    "start_time": "2025-04-07T18:46:51.477Z"
   },
   {
    "duration": 12,
    "start_time": "2025-04-07T18:46:53.013Z"
   },
   {
    "duration": 7,
    "start_time": "2025-04-07T18:47:25.638Z"
   },
   {
    "duration": 5,
    "start_time": "2025-04-07T18:47:26.792Z"
   },
   {
    "duration": 27,
    "start_time": "2025-04-07T18:47:27.880Z"
   },
   {
    "duration": 4,
    "start_time": "2025-04-07T18:47:28.687Z"
   },
   {
    "duration": 13,
    "start_time": "2025-04-07T18:47:40.802Z"
   },
   {
    "duration": 4,
    "start_time": "2025-04-07T19:14:44.923Z"
   },
   {
    "duration": 4,
    "start_time": "2025-04-07T19:14:47.245Z"
   },
   {
    "duration": 4,
    "start_time": "2025-04-07T19:15:11.315Z"
   },
   {
    "duration": 4,
    "start_time": "2025-04-07T19:15:40.197Z"
   },
   {
    "duration": 2,
    "start_time": "2025-04-07T19:16:04.500Z"
   },
   {
    "duration": 5,
    "start_time": "2025-04-07T19:16:24.810Z"
   },
   {
    "duration": 4,
    "start_time": "2025-04-07T19:16:50.319Z"
   },
   {
    "duration": 2,
    "start_time": "2025-04-07T19:17:24.482Z"
   },
   {
    "duration": 4,
    "start_time": "2025-04-07T19:18:20.131Z"
   },
   {
    "duration": 7,
    "start_time": "2025-04-07T19:18:47.791Z"
   },
   {
    "duration": 4,
    "start_time": "2025-04-07T19:19:06.639Z"
   },
   {
    "duration": 995,
    "start_time": "2025-04-07T19:33:10.641Z"
   },
   {
    "duration": 10,
    "start_time": "2025-04-07T19:33:11.640Z"
   },
   {
    "duration": 6,
    "start_time": "2025-04-07T19:33:11.652Z"
   },
   {
    "duration": 6,
    "start_time": "2025-04-07T19:33:11.660Z"
   },
   {
    "duration": 5,
    "start_time": "2025-04-07T19:33:11.669Z"
   },
   {
    "duration": 32,
    "start_time": "2025-04-07T19:33:11.676Z"
   },
   {
    "duration": 3,
    "start_time": "2025-04-07T19:33:11.709Z"
   },
   {
    "duration": 9,
    "start_time": "2025-04-07T19:33:11.714Z"
   },
   {
    "duration": 3,
    "start_time": "2025-04-07T19:33:11.724Z"
   },
   {
    "duration": 3,
    "start_time": "2025-04-07T19:33:11.729Z"
   },
   {
    "duration": 8,
    "start_time": "2025-04-07T19:33:11.734Z"
   },
   {
    "duration": 4,
    "start_time": "2025-04-07T19:33:11.743Z"
   },
   {
    "duration": 16,
    "start_time": "2025-04-07T19:33:11.749Z"
   },
   {
    "duration": 2499,
    "start_time": "2025-04-07T19:33:11.810Z"
   },
   {
    "duration": 3,
    "start_time": "2025-04-07T19:33:14.311Z"
   },
   {
    "duration": 39,
    "start_time": "2025-04-07T19:33:14.315Z"
   },
   {
    "duration": 3,
    "start_time": "2025-04-07T19:33:14.355Z"
   },
   {
    "duration": 13,
    "start_time": "2025-04-07T19:33:14.359Z"
   },
   {
    "duration": 36,
    "start_time": "2025-04-07T19:33:14.373Z"
   },
   {
    "duration": 254,
    "start_time": "2025-04-07T19:33:14.410Z"
   },
   {
    "duration": 333,
    "start_time": "2025-04-07T19:33:14.665Z"
   },
   {
    "duration": 19,
    "start_time": "2025-04-07T19:33:14.999Z"
   },
   {
    "duration": 4,
    "start_time": "2025-04-07T19:33:15.019Z"
   },
   {
    "duration": 4,
    "start_time": "2025-04-07T19:33:15.024Z"
   },
   {
    "duration": 3,
    "start_time": "2025-04-07T19:33:15.029Z"
   },
   {
    "duration": 4,
    "start_time": "2025-04-07T19:33:15.034Z"
   },
   {
    "duration": 12,
    "start_time": "2025-04-07T19:33:15.039Z"
   },
   {
    "duration": 6,
    "start_time": "2025-04-07T19:33:15.052Z"
   },
   {
    "duration": 49,
    "start_time": "2025-04-07T19:33:15.060Z"
   },
   {
    "duration": 27,
    "start_time": "2025-04-07T19:33:15.111Z"
   },
   {
    "duration": 4,
    "start_time": "2025-04-07T19:33:15.139Z"
   },
   {
    "duration": 13,
    "start_time": "2025-04-07T19:33:15.144Z"
   },
   {
    "duration": 4,
    "start_time": "2025-04-07T19:33:15.158Z"
   },
   {
    "duration": 4,
    "start_time": "2025-04-07T19:33:15.164Z"
   },
   {
    "duration": 39,
    "start_time": "2025-04-07T19:33:15.170Z"
   },
   {
    "duration": 3,
    "start_time": "2025-04-07T19:33:15.211Z"
   },
   {
    "duration": 3,
    "start_time": "2025-04-07T19:33:15.215Z"
   },
   {
    "duration": 4,
    "start_time": "2025-04-07T19:33:15.219Z"
   },
   {
    "duration": 3,
    "start_time": "2025-04-07T19:33:15.224Z"
   },
   {
    "duration": 3,
    "start_time": "2025-04-07T19:33:15.228Z"
   },
   {
    "duration": 2,
    "start_time": "2025-04-07T19:33:15.236Z"
   },
   {
    "duration": 2,
    "start_time": "2025-04-07T19:33:15.240Z"
   },
   {
    "duration": 3,
    "start_time": "2025-04-07T19:33:15.244Z"
   },
   {
    "duration": 3,
    "start_time": "2025-04-07T19:33:15.248Z"
   },
   {
    "duration": 56,
    "start_time": "2025-04-07T19:33:15.253Z"
   },
   {
    "duration": 2,
    "start_time": "2025-04-07T19:33:15.311Z"
   },
   {
    "duration": 3,
    "start_time": "2025-04-07T19:33:15.315Z"
   },
   {
    "duration": 4,
    "start_time": "2025-04-07T19:33:15.320Z"
   },
   {
    "duration": 4,
    "start_time": "2025-04-07T19:33:15.326Z"
   },
   {
    "duration": 79,
    "start_time": "2025-04-07T19:33:15.332Z"
   },
   {
    "duration": 3,
    "start_time": "2025-04-07T19:33:15.412Z"
   },
   {
    "duration": 4,
    "start_time": "2025-04-07T19:33:15.416Z"
   },
   {
    "duration": 4,
    "start_time": "2025-04-07T19:33:15.422Z"
   },
   {
    "duration": 86,
    "start_time": "2025-04-07T19:33:15.427Z"
   },
   {
    "duration": 6,
    "start_time": "2025-04-07T19:33:15.514Z"
   },
   {
    "duration": 4,
    "start_time": "2025-04-07T19:33:15.522Z"
   },
   {
    "duration": 3,
    "start_time": "2025-04-07T19:33:15.528Z"
   },
   {
    "duration": 79,
    "start_time": "2025-04-07T19:33:15.532Z"
   },
   {
    "duration": 4,
    "start_time": "2025-04-07T19:33:15.613Z"
   },
   {
    "duration": 5,
    "start_time": "2025-04-07T19:33:15.619Z"
   },
   {
    "duration": 3,
    "start_time": "2025-04-07T19:33:15.626Z"
   },
   {
    "duration": 78,
    "start_time": "2025-04-07T19:33:15.631Z"
   },
   {
    "duration": 3,
    "start_time": "2025-04-07T19:39:15.274Z"
   },
   {
    "duration": 227,
    "start_time": "2025-04-07T19:40:37.892Z"
   },
   {
    "duration": 3,
    "start_time": "2025-04-07T19:42:45.969Z"
   },
   {
    "duration": 971,
    "start_time": "2025-04-07T19:43:10.268Z"
   },
   {
    "duration": 7,
    "start_time": "2025-04-07T19:43:11.241Z"
   },
   {
    "duration": 5,
    "start_time": "2025-04-07T19:43:11.249Z"
   },
   {
    "duration": 6,
    "start_time": "2025-04-07T19:43:11.255Z"
   },
   {
    "duration": 4,
    "start_time": "2025-04-07T19:43:11.264Z"
   },
   {
    "duration": 8,
    "start_time": "2025-04-07T19:43:11.270Z"
   },
   {
    "duration": 30,
    "start_time": "2025-04-07T19:43:11.280Z"
   },
   {
    "duration": 9,
    "start_time": "2025-04-07T19:43:11.311Z"
   },
   {
    "duration": 3,
    "start_time": "2025-04-07T19:43:11.322Z"
   },
   {
    "duration": 3,
    "start_time": "2025-04-07T19:43:11.327Z"
   },
   {
    "duration": 8,
    "start_time": "2025-04-07T19:43:11.332Z"
   },
   {
    "duration": 6,
    "start_time": "2025-04-07T19:43:11.341Z"
   },
   {
    "duration": 18,
    "start_time": "2025-04-07T19:43:11.349Z"
   },
   {
    "duration": 2599,
    "start_time": "2025-04-07T19:43:11.370Z"
   },
   {
    "duration": 3,
    "start_time": "2025-04-07T19:43:13.971Z"
   },
   {
    "duration": 39,
    "start_time": "2025-04-07T19:43:13.976Z"
   },
   {
    "duration": 2,
    "start_time": "2025-04-07T19:43:14.017Z"
   },
   {
    "duration": 12,
    "start_time": "2025-04-07T19:43:14.021Z"
   },
   {
    "duration": 2,
    "start_time": "2025-04-07T19:43:14.035Z"
   },
   {
    "duration": 286,
    "start_time": "2025-04-07T19:43:14.038Z"
   },
   {
    "duration": 315,
    "start_time": "2025-04-07T19:43:14.326Z"
   },
   {
    "duration": 13,
    "start_time": "2025-04-07T19:43:14.643Z"
   },
   {
    "duration": 2,
    "start_time": "2025-04-07T19:43:14.659Z"
   },
   {
    "duration": 4,
    "start_time": "2025-04-07T19:43:14.663Z"
   },
   {
    "duration": 3,
    "start_time": "2025-04-07T19:43:14.669Z"
   },
   {
    "duration": 4,
    "start_time": "2025-04-07T19:43:14.673Z"
   },
   {
    "duration": 11,
    "start_time": "2025-04-07T19:43:14.709Z"
   },
   {
    "duration": 6,
    "start_time": "2025-04-07T19:43:14.721Z"
   },
   {
    "duration": 5,
    "start_time": "2025-04-07T19:43:14.729Z"
   },
   {
    "duration": 27,
    "start_time": "2025-04-07T19:43:14.736Z"
   },
   {
    "duration": 3,
    "start_time": "2025-04-07T19:43:14.764Z"
   },
   {
    "duration": 49,
    "start_time": "2025-04-07T19:43:14.769Z"
   },
   {
    "duration": 4,
    "start_time": "2025-04-07T19:43:14.819Z"
   },
   {
    "duration": 5,
    "start_time": "2025-04-07T19:43:14.824Z"
   },
   {
    "duration": 3,
    "start_time": "2025-04-07T19:43:14.832Z"
   },
   {
    "duration": 3,
    "start_time": "2025-04-07T19:43:14.838Z"
   },
   {
    "duration": 2,
    "start_time": "2025-04-07T19:43:14.843Z"
   },
   {
    "duration": 6,
    "start_time": "2025-04-07T19:43:14.847Z"
   },
   {
    "duration": 56,
    "start_time": "2025-04-07T19:43:14.855Z"
   },
   {
    "duration": 3,
    "start_time": "2025-04-07T19:43:14.912Z"
   },
   {
    "duration": 3,
    "start_time": "2025-04-07T19:43:14.920Z"
   },
   {
    "duration": 3,
    "start_time": "2025-04-07T19:43:14.924Z"
   },
   {
    "duration": 4,
    "start_time": "2025-04-07T19:43:14.931Z"
   },
   {
    "duration": 74,
    "start_time": "2025-04-07T19:43:14.937Z"
   },
   {
    "duration": 4,
    "start_time": "2025-04-07T19:43:15.012Z"
   },
   {
    "duration": 7,
    "start_time": "2025-04-07T19:43:15.017Z"
   },
   {
    "duration": 3,
    "start_time": "2025-04-07T19:43:15.026Z"
   },
   {
    "duration": 89,
    "start_time": "2025-04-07T19:43:15.031Z"
   },
   {
    "duration": 10,
    "start_time": "2025-04-07T19:43:15.122Z"
   },
   {
    "duration": 76,
    "start_time": "2025-04-07T19:43:15.133Z"
   },
   {
    "duration": 3,
    "start_time": "2025-04-07T19:43:15.211Z"
   },
   {
    "duration": 3,
    "start_time": "2025-04-07T19:43:15.216Z"
   },
   {
    "duration": 2,
    "start_time": "2025-04-07T19:43:15.221Z"
   },
   {
    "duration": 3,
    "start_time": "2025-04-07T19:43:15.225Z"
   },
   {
    "duration": 78,
    "start_time": "2025-04-07T19:43:15.231Z"
   },
   {
    "duration": 8,
    "start_time": "2025-04-07T19:43:15.310Z"
   },
   {
    "duration": 4,
    "start_time": "2025-04-07T19:46:11.345Z"
   },
   {
    "duration": 989,
    "start_time": "2025-04-07T19:46:33.353Z"
   },
   {
    "duration": 8,
    "start_time": "2025-04-07T19:46:34.344Z"
   },
   {
    "duration": 5,
    "start_time": "2025-04-07T19:46:34.354Z"
   },
   {
    "duration": 6,
    "start_time": "2025-04-07T19:46:34.362Z"
   },
   {
    "duration": 5,
    "start_time": "2025-04-07T19:46:34.369Z"
   },
   {
    "duration": 35,
    "start_time": "2025-04-07T19:46:34.375Z"
   },
   {
    "duration": 3,
    "start_time": "2025-04-07T19:46:34.412Z"
   },
   {
    "duration": 9,
    "start_time": "2025-04-07T19:46:34.417Z"
   },
   {
    "duration": 3,
    "start_time": "2025-04-07T19:46:34.427Z"
   },
   {
    "duration": 5,
    "start_time": "2025-04-07T19:46:34.434Z"
   },
   {
    "duration": 8,
    "start_time": "2025-04-07T19:46:34.441Z"
   },
   {
    "duration": 5,
    "start_time": "2025-04-07T19:46:34.450Z"
   },
   {
    "duration": 54,
    "start_time": "2025-04-07T19:46:34.456Z"
   },
   {
    "duration": 2570,
    "start_time": "2025-04-07T19:46:34.511Z"
   },
   {
    "duration": 3,
    "start_time": "2025-04-07T19:46:37.083Z"
   },
   {
    "duration": 38,
    "start_time": "2025-04-07T19:46:37.088Z"
   },
   {
    "duration": 2,
    "start_time": "2025-04-07T19:46:37.127Z"
   },
   {
    "duration": 14,
    "start_time": "2025-04-07T19:46:37.131Z"
   },
   {
    "duration": 2,
    "start_time": "2025-04-07T19:46:37.146Z"
   },
   {
    "duration": 303,
    "start_time": "2025-04-07T19:46:37.150Z"
   },
   {
    "duration": 310,
    "start_time": "2025-04-07T19:46:37.455Z"
   },
   {
    "duration": 15,
    "start_time": "2025-04-07T19:46:37.766Z"
   },
   {
    "duration": 2,
    "start_time": "2025-04-07T19:46:37.783Z"
   },
   {
    "duration": 23,
    "start_time": "2025-04-07T19:46:37.787Z"
   },
   {
    "duration": 3,
    "start_time": "2025-04-07T19:46:37.812Z"
   },
   {
    "duration": 3,
    "start_time": "2025-04-07T19:46:37.817Z"
   },
   {
    "duration": 12,
    "start_time": "2025-04-07T19:46:37.821Z"
   },
   {
    "duration": 6,
    "start_time": "2025-04-07T19:46:37.838Z"
   },
   {
    "duration": 5,
    "start_time": "2025-04-07T19:46:37.846Z"
   },
   {
    "duration": 60,
    "start_time": "2025-04-07T19:46:37.853Z"
   },
   {
    "duration": 4,
    "start_time": "2025-04-07T19:46:37.914Z"
   },
   {
    "duration": 11,
    "start_time": "2025-04-07T19:46:37.919Z"
   },
   {
    "duration": 5,
    "start_time": "2025-04-07T19:46:37.931Z"
   },
   {
    "duration": 3,
    "start_time": "2025-04-07T19:46:37.937Z"
   },
   {
    "duration": 4,
    "start_time": "2025-04-07T19:46:37.942Z"
   },
   {
    "duration": 3,
    "start_time": "2025-04-07T19:46:37.948Z"
   },
   {
    "duration": 2,
    "start_time": "2025-04-07T19:46:37.953Z"
   },
   {
    "duration": 53,
    "start_time": "2025-04-07T19:46:37.957Z"
   },
   {
    "duration": 10,
    "start_time": "2025-04-07T19:46:38.013Z"
   },
   {
    "duration": 2,
    "start_time": "2025-04-07T19:46:38.025Z"
   },
   {
    "duration": 80,
    "start_time": "2025-04-07T19:46:38.029Z"
   },
   {
    "duration": 3,
    "start_time": "2025-04-07T19:46:38.111Z"
   },
   {
    "duration": 7,
    "start_time": "2025-04-07T19:46:38.116Z"
   },
   {
    "duration": 3,
    "start_time": "2025-04-07T19:46:38.125Z"
   },
   {
    "duration": 2,
    "start_time": "2025-04-07T19:46:38.130Z"
   },
   {
    "duration": 76,
    "start_time": "2025-04-07T19:46:38.134Z"
   },
   {
    "duration": 3,
    "start_time": "2025-04-07T19:46:38.212Z"
   },
   {
    "duration": 14,
    "start_time": "2025-04-07T19:46:38.217Z"
   },
   {
    "duration": 77,
    "start_time": "2025-04-07T19:46:38.232Z"
   },
   {
    "duration": 3,
    "start_time": "2025-04-07T19:46:38.311Z"
   },
   {
    "duration": 3,
    "start_time": "2025-04-07T19:46:38.315Z"
   },
   {
    "duration": 10,
    "start_time": "2025-04-07T19:46:38.320Z"
   },
   {
    "duration": 78,
    "start_time": "2025-04-07T19:46:38.331Z"
   },
   {
    "duration": 3,
    "start_time": "2025-04-07T19:46:38.411Z"
   },
   {
    "duration": 4,
    "start_time": "2025-04-07T19:46:38.416Z"
   },
   {
    "duration": 87,
    "start_time": "2025-04-07T19:46:38.424Z"
   },
   {
    "duration": 989,
    "start_time": "2025-04-07T19:48:29.738Z"
   },
   {
    "duration": 7,
    "start_time": "2025-04-07T19:48:30.730Z"
   },
   {
    "duration": 4,
    "start_time": "2025-04-07T19:48:30.739Z"
   },
   {
    "duration": 6,
    "start_time": "2025-04-07T19:48:30.745Z"
   },
   {
    "duration": 4,
    "start_time": "2025-04-07T19:48:30.754Z"
   },
   {
    "duration": 7,
    "start_time": "2025-04-07T19:48:30.760Z"
   },
   {
    "duration": 3,
    "start_time": "2025-04-07T19:48:30.769Z"
   },
   {
    "duration": 39,
    "start_time": "2025-04-07T19:48:30.773Z"
   },
   {
    "duration": 4,
    "start_time": "2025-04-07T19:48:30.813Z"
   },
   {
    "duration": 4,
    "start_time": "2025-04-07T19:48:30.818Z"
   },
   {
    "duration": 7,
    "start_time": "2025-04-07T19:48:30.824Z"
   },
   {
    "duration": 4,
    "start_time": "2025-04-07T19:48:30.833Z"
   },
   {
    "duration": 17,
    "start_time": "2025-04-07T19:48:30.838Z"
   },
   {
    "duration": 2743,
    "start_time": "2025-04-07T19:48:30.858Z"
   },
   {
    "duration": 3,
    "start_time": "2025-04-07T19:48:33.603Z"
   },
   {
    "duration": 37,
    "start_time": "2025-04-07T19:48:33.608Z"
   },
   {
    "duration": 2,
    "start_time": "2025-04-07T19:48:33.647Z"
   },
   {
    "duration": 12,
    "start_time": "2025-04-07T19:48:33.651Z"
   },
   {
    "duration": 4,
    "start_time": "2025-04-07T19:48:33.664Z"
   },
   {
    "duration": 281,
    "start_time": "2025-04-07T19:48:33.670Z"
   },
   {
    "duration": 311,
    "start_time": "2025-04-07T19:48:33.952Z"
   },
   {
    "duration": 14,
    "start_time": "2025-04-07T19:48:34.264Z"
   },
   {
    "duration": 3,
    "start_time": "2025-04-07T19:48:34.279Z"
   },
   {
    "duration": 25,
    "start_time": "2025-04-07T19:48:34.284Z"
   },
   {
    "duration": 3,
    "start_time": "2025-04-07T19:48:34.311Z"
   },
   {
    "duration": 4,
    "start_time": "2025-04-07T19:48:34.316Z"
   },
   {
    "duration": 11,
    "start_time": "2025-04-07T19:48:34.322Z"
   },
   {
    "duration": 6,
    "start_time": "2025-04-07T19:48:34.335Z"
   },
   {
    "duration": 4,
    "start_time": "2025-04-07T19:48:34.343Z"
   },
   {
    "duration": 63,
    "start_time": "2025-04-07T19:48:34.349Z"
   },
   {
    "duration": 4,
    "start_time": "2025-04-07T19:48:34.416Z"
   },
   {
    "duration": 15,
    "start_time": "2025-04-07T19:48:34.422Z"
   },
   {
    "duration": 5,
    "start_time": "2025-04-07T19:48:34.439Z"
   },
   {
    "duration": 5,
    "start_time": "2025-04-07T19:48:34.446Z"
   },
   {
    "duration": 7,
    "start_time": "2025-04-07T19:48:34.452Z"
   },
   {
    "duration": 4,
    "start_time": "2025-04-07T19:48:34.461Z"
   },
   {
    "duration": 2,
    "start_time": "2025-04-07T19:48:34.468Z"
   },
   {
    "duration": 41,
    "start_time": "2025-04-07T19:48:34.472Z"
   },
   {
    "duration": 10,
    "start_time": "2025-04-07T19:48:34.514Z"
   },
   {
    "duration": 5,
    "start_time": "2025-04-07T19:48:34.526Z"
   },
   {
    "duration": 3,
    "start_time": "2025-04-07T19:48:34.611Z"
   },
   {
    "duration": 2,
    "start_time": "2025-04-07T19:48:34.616Z"
   },
   {
    "duration": 6,
    "start_time": "2025-04-07T19:48:34.620Z"
   },
   {
    "duration": 4,
    "start_time": "2025-04-07T19:48:34.627Z"
   },
   {
    "duration": 3,
    "start_time": "2025-04-07T19:48:34.632Z"
   },
   {
    "duration": 3,
    "start_time": "2025-04-07T19:48:34.709Z"
   },
   {
    "duration": 6,
    "start_time": "2025-04-07T19:48:34.713Z"
   },
   {
    "duration": 89,
    "start_time": "2025-04-07T19:48:34.721Z"
   },
   {
    "duration": 5,
    "start_time": "2025-04-07T19:48:34.812Z"
   },
   {
    "duration": 2,
    "start_time": "2025-04-07T19:48:34.820Z"
   },
   {
    "duration": 3,
    "start_time": "2025-04-07T19:48:34.824Z"
   },
   {
    "duration": 5,
    "start_time": "2025-04-07T19:48:34.828Z"
   },
   {
    "duration": 75,
    "start_time": "2025-04-07T19:48:34.835Z"
   },
   {
    "duration": 3,
    "start_time": "2025-04-07T19:48:34.912Z"
   },
   {
    "duration": 4,
    "start_time": "2025-04-07T19:48:34.917Z"
   },
   {
    "duration": 8,
    "start_time": "2025-04-07T19:48:34.923Z"
   },
   {
    "duration": 1003,
    "start_time": "2025-04-07T19:50:04.940Z"
   },
   {
    "duration": 7,
    "start_time": "2025-04-07T19:50:05.946Z"
   },
   {
    "duration": 5,
    "start_time": "2025-04-07T19:50:05.954Z"
   },
   {
    "duration": 5,
    "start_time": "2025-04-07T19:50:05.962Z"
   },
   {
    "duration": 5,
    "start_time": "2025-04-07T19:50:05.970Z"
   },
   {
    "duration": 32,
    "start_time": "2025-04-07T19:50:05.976Z"
   },
   {
    "duration": 3,
    "start_time": "2025-04-07T19:50:06.011Z"
   },
   {
    "duration": 10,
    "start_time": "2025-04-07T19:50:06.015Z"
   },
   {
    "duration": 3,
    "start_time": "2025-04-07T19:50:06.027Z"
   },
   {
    "duration": 4,
    "start_time": "2025-04-07T19:50:06.031Z"
   },
   {
    "duration": 7,
    "start_time": "2025-04-07T19:50:06.037Z"
   },
   {
    "duration": 4,
    "start_time": "2025-04-07T19:50:06.046Z"
   },
   {
    "duration": 17,
    "start_time": "2025-04-07T19:50:06.052Z"
   },
   {
    "duration": 2679,
    "start_time": "2025-04-07T19:50:06.110Z"
   },
   {
    "duration": 2,
    "start_time": "2025-04-07T19:50:08.792Z"
   },
   {
    "duration": 49,
    "start_time": "2025-04-07T19:50:08.796Z"
   },
   {
    "duration": 2,
    "start_time": "2025-04-07T19:50:08.847Z"
   },
   {
    "duration": 16,
    "start_time": "2025-04-07T19:50:08.851Z"
   },
   {
    "duration": 2,
    "start_time": "2025-04-07T19:50:08.871Z"
   },
   {
    "duration": 364,
    "start_time": "2025-04-07T19:50:08.875Z"
   },
   {
    "duration": 363,
    "start_time": "2025-04-07T19:50:09.241Z"
   },
   {
    "duration": 18,
    "start_time": "2025-04-07T19:50:09.608Z"
   },
   {
    "duration": 2,
    "start_time": "2025-04-07T19:50:09.628Z"
   },
   {
    "duration": 5,
    "start_time": "2025-04-07T19:50:09.632Z"
   },
   {
    "duration": 5,
    "start_time": "2025-04-07T19:50:09.638Z"
   },
   {
    "duration": 3,
    "start_time": "2025-04-07T19:50:09.645Z"
   },
   {
    "duration": 14,
    "start_time": "2025-04-07T19:50:09.651Z"
   },
   {
    "duration": 48,
    "start_time": "2025-04-07T19:50:09.667Z"
   },
   {
    "duration": 7,
    "start_time": "2025-04-07T19:50:09.716Z"
   },
   {
    "duration": 29,
    "start_time": "2025-04-07T19:50:09.724Z"
   },
   {
    "duration": 4,
    "start_time": "2025-04-07T19:50:09.755Z"
   },
   {
    "duration": 18,
    "start_time": "2025-04-07T19:50:09.762Z"
   },
   {
    "duration": 30,
    "start_time": "2025-04-07T19:50:09.782Z"
   },
   {
    "duration": 5,
    "start_time": "2025-04-07T19:50:09.814Z"
   },
   {
    "duration": 0,
    "start_time": "2025-04-07T19:50:09.821Z"
   },
   {
    "duration": 0,
    "start_time": "2025-04-07T19:50:09.823Z"
   },
   {
    "duration": 0,
    "start_time": "2025-04-07T19:50:09.824Z"
   },
   {
    "duration": 0,
    "start_time": "2025-04-07T19:50:09.825Z"
   },
   {
    "duration": 0,
    "start_time": "2025-04-07T19:50:09.826Z"
   },
   {
    "duration": 0,
    "start_time": "2025-04-07T19:50:09.827Z"
   },
   {
    "duration": 0,
    "start_time": "2025-04-07T19:50:09.828Z"
   },
   {
    "duration": 0,
    "start_time": "2025-04-07T19:50:09.829Z"
   },
   {
    "duration": 0,
    "start_time": "2025-04-07T19:50:09.831Z"
   },
   {
    "duration": 0,
    "start_time": "2025-04-07T19:50:09.832Z"
   },
   {
    "duration": 0,
    "start_time": "2025-04-07T19:50:09.833Z"
   },
   {
    "duration": 0,
    "start_time": "2025-04-07T19:50:09.835Z"
   },
   {
    "duration": 0,
    "start_time": "2025-04-07T19:50:09.836Z"
   },
   {
    "duration": 0,
    "start_time": "2025-04-07T19:50:09.837Z"
   },
   {
    "duration": 1,
    "start_time": "2025-04-07T19:50:09.838Z"
   },
   {
    "duration": 0,
    "start_time": "2025-04-07T19:50:09.840Z"
   },
   {
    "duration": 0,
    "start_time": "2025-04-07T19:50:09.841Z"
   },
   {
    "duration": 1,
    "start_time": "2025-04-07T19:50:09.841Z"
   },
   {
    "duration": 0,
    "start_time": "2025-04-07T19:50:09.845Z"
   },
   {
    "duration": 0,
    "start_time": "2025-04-07T19:50:09.846Z"
   },
   {
    "duration": 0,
    "start_time": "2025-04-07T19:50:09.847Z"
   },
   {
    "duration": 0,
    "start_time": "2025-04-07T19:50:09.848Z"
   },
   {
    "duration": 999,
    "start_time": "2025-04-07T19:50:58.353Z"
   },
   {
    "duration": 7,
    "start_time": "2025-04-07T19:50:59.355Z"
   },
   {
    "duration": 5,
    "start_time": "2025-04-07T19:50:59.365Z"
   },
   {
    "duration": 5,
    "start_time": "2025-04-07T19:50:59.371Z"
   },
   {
    "duration": 4,
    "start_time": "2025-04-07T19:50:59.379Z"
   },
   {
    "duration": 29,
    "start_time": "2025-04-07T19:50:59.385Z"
   },
   {
    "duration": 3,
    "start_time": "2025-04-07T19:50:59.415Z"
   },
   {
    "duration": 9,
    "start_time": "2025-04-07T19:50:59.420Z"
   },
   {
    "duration": 3,
    "start_time": "2025-04-07T19:50:59.430Z"
   },
   {
    "duration": 5,
    "start_time": "2025-04-07T19:50:59.435Z"
   },
   {
    "duration": 8,
    "start_time": "2025-04-07T19:50:59.442Z"
   },
   {
    "duration": 6,
    "start_time": "2025-04-07T19:50:59.451Z"
   },
   {
    "duration": 51,
    "start_time": "2025-04-07T19:50:59.458Z"
   },
   {
    "duration": 2555,
    "start_time": "2025-04-07T19:50:59.514Z"
   },
   {
    "duration": 3,
    "start_time": "2025-04-07T19:51:02.071Z"
   },
   {
    "duration": 38,
    "start_time": "2025-04-07T19:51:02.075Z"
   },
   {
    "duration": 2,
    "start_time": "2025-04-07T19:51:02.115Z"
   },
   {
    "duration": 13,
    "start_time": "2025-04-07T19:51:02.118Z"
   },
   {
    "duration": 2,
    "start_time": "2025-04-07T19:51:02.133Z"
   },
   {
    "duration": 282,
    "start_time": "2025-04-07T19:51:02.137Z"
   },
   {
    "duration": 308,
    "start_time": "2025-04-07T19:51:02.420Z"
   },
   {
    "duration": 14,
    "start_time": "2025-04-07T19:51:02.729Z"
   },
   {
    "duration": 2,
    "start_time": "2025-04-07T19:51:02.745Z"
   },
   {
    "duration": 3,
    "start_time": "2025-04-07T19:51:02.749Z"
   },
   {
    "duration": 3,
    "start_time": "2025-04-07T19:51:02.753Z"
   },
   {
    "duration": 4,
    "start_time": "2025-04-07T19:51:02.758Z"
   },
   {
    "duration": 46,
    "start_time": "2025-04-07T19:51:02.764Z"
   },
   {
    "duration": 7,
    "start_time": "2025-04-07T19:51:02.812Z"
   },
   {
    "duration": 5,
    "start_time": "2025-04-07T19:51:02.821Z"
   },
   {
    "duration": 27,
    "start_time": "2025-04-07T19:51:02.827Z"
   },
   {
    "duration": 4,
    "start_time": "2025-04-07T19:51:02.856Z"
   },
   {
    "duration": 50,
    "start_time": "2025-04-07T19:51:02.861Z"
   },
   {
    "duration": 4,
    "start_time": "2025-04-07T19:51:02.914Z"
   },
   {
    "duration": 4,
    "start_time": "2025-04-07T19:51:02.920Z"
   },
   {
    "duration": 4,
    "start_time": "2025-04-07T19:51:02.926Z"
   },
   {
    "duration": 3,
    "start_time": "2025-04-07T19:51:02.932Z"
   },
   {
    "duration": 2,
    "start_time": "2025-04-07T19:51:02.937Z"
   },
   {
    "duration": 8,
    "start_time": "2025-04-07T19:51:02.941Z"
   },
   {
    "duration": 58,
    "start_time": "2025-04-07T19:51:02.950Z"
   },
   {
    "duration": 2,
    "start_time": "2025-04-07T19:51:03.010Z"
   },
   {
    "duration": 3,
    "start_time": "2025-04-07T19:51:03.018Z"
   },
   {
    "duration": 3,
    "start_time": "2025-04-07T19:51:03.023Z"
   },
   {
    "duration": 3,
    "start_time": "2025-04-07T19:51:03.028Z"
   },
   {
    "duration": 3,
    "start_time": "2025-04-07T19:51:03.108Z"
   },
   {
    "duration": 5,
    "start_time": "2025-04-07T19:51:03.113Z"
   },
   {
    "duration": 4,
    "start_time": "2025-04-07T19:51:03.122Z"
   },
   {
    "duration": 4,
    "start_time": "2025-04-07T19:51:03.128Z"
   },
   {
    "duration": 87,
    "start_time": "2025-04-07T19:51:03.133Z"
   },
   {
    "duration": 9,
    "start_time": "2025-04-07T19:51:03.221Z"
   },
   {
    "duration": 79,
    "start_time": "2025-04-07T19:51:03.231Z"
   },
   {
    "duration": 2,
    "start_time": "2025-04-07T19:51:03.312Z"
   },
   {
    "duration": 5,
    "start_time": "2025-04-07T19:51:03.316Z"
   },
   {
    "duration": 3,
    "start_time": "2025-04-07T19:51:03.323Z"
   },
   {
    "duration": 3,
    "start_time": "2025-04-07T19:51:03.328Z"
   },
   {
    "duration": 3,
    "start_time": "2025-04-07T19:51:03.333Z"
   },
   {
    "duration": 75,
    "start_time": "2025-04-07T19:51:03.338Z"
   },
   {
    "duration": 953,
    "start_time": "2025-04-07T19:52:39.487Z"
   },
   {
    "duration": 7,
    "start_time": "2025-04-07T19:52:40.442Z"
   },
   {
    "duration": 5,
    "start_time": "2025-04-07T19:52:40.451Z"
   },
   {
    "duration": 5,
    "start_time": "2025-04-07T19:52:40.458Z"
   },
   {
    "duration": 4,
    "start_time": "2025-04-07T19:52:40.466Z"
   },
   {
    "duration": 9,
    "start_time": "2025-04-07T19:52:40.471Z"
   },
   {
    "duration": 29,
    "start_time": "2025-04-07T19:52:40.481Z"
   },
   {
    "duration": 10,
    "start_time": "2025-04-07T19:52:40.512Z"
   },
   {
    "duration": 3,
    "start_time": "2025-04-07T19:52:40.524Z"
   },
   {
    "duration": 3,
    "start_time": "2025-04-07T19:52:40.530Z"
   },
   {
    "duration": 7,
    "start_time": "2025-04-07T19:52:40.535Z"
   },
   {
    "duration": 5,
    "start_time": "2025-04-07T19:52:40.544Z"
   },
   {
    "duration": 17,
    "start_time": "2025-04-07T19:52:40.550Z"
   },
   {
    "duration": 2570,
    "start_time": "2025-04-07T19:52:40.571Z"
   },
   {
    "duration": 2,
    "start_time": "2025-04-07T19:52:43.143Z"
   },
   {
    "duration": 38,
    "start_time": "2025-04-07T19:52:43.147Z"
   },
   {
    "duration": 2,
    "start_time": "2025-04-07T19:52:43.187Z"
   },
   {
    "duration": 30,
    "start_time": "2025-04-07T19:52:43.191Z"
   },
   {
    "duration": 2,
    "start_time": "2025-04-07T19:52:43.222Z"
   },
   {
    "duration": 270,
    "start_time": "2025-04-07T19:52:43.227Z"
   },
   {
    "duration": 315,
    "start_time": "2025-04-07T19:52:43.498Z"
   },
   {
    "duration": 17,
    "start_time": "2025-04-07T19:52:43.814Z"
   },
   {
    "duration": 3,
    "start_time": "2025-04-07T19:52:43.832Z"
   },
   {
    "duration": 4,
    "start_time": "2025-04-07T19:52:43.836Z"
   },
   {
    "duration": 3,
    "start_time": "2025-04-07T19:52:43.842Z"
   },
   {
    "duration": 4,
    "start_time": "2025-04-07T19:52:43.846Z"
   },
   {
    "duration": 11,
    "start_time": "2025-04-07T19:52:43.851Z"
   },
   {
    "duration": 46,
    "start_time": "2025-04-07T19:52:43.864Z"
   },
   {
    "duration": 5,
    "start_time": "2025-04-07T19:52:43.911Z"
   },
   {
    "duration": 27,
    "start_time": "2025-04-07T19:52:43.918Z"
   },
   {
    "duration": 3,
    "start_time": "2025-04-07T19:52:43.946Z"
   },
   {
    "duration": 13,
    "start_time": "2025-04-07T19:52:43.951Z"
   },
   {
    "duration": 4,
    "start_time": "2025-04-07T19:52:43.965Z"
   },
   {
    "duration": 42,
    "start_time": "2025-04-07T19:52:43.971Z"
   },
   {
    "duration": 3,
    "start_time": "2025-04-07T19:52:44.015Z"
   },
   {
    "duration": 4,
    "start_time": "2025-04-07T19:52:44.020Z"
   },
   {
    "duration": 3,
    "start_time": "2025-04-07T19:52:44.025Z"
   },
   {
    "duration": 13,
    "start_time": "2025-04-07T19:52:44.030Z"
   },
   {
    "duration": 6,
    "start_time": "2025-04-07T19:52:44.045Z"
   },
   {
    "duration": 2,
    "start_time": "2025-04-07T19:52:44.109Z"
   },
   {
    "duration": 3,
    "start_time": "2025-04-07T19:52:44.116Z"
   },
   {
    "duration": 3,
    "start_time": "2025-04-07T19:52:44.121Z"
   },
   {
    "duration": 6,
    "start_time": "2025-04-07T19:52:44.125Z"
   },
   {
    "duration": 77,
    "start_time": "2025-04-07T19:52:44.132Z"
   },
   {
    "duration": 3,
    "start_time": "2025-04-07T19:52:44.211Z"
   },
   {
    "duration": 3,
    "start_time": "2025-04-07T19:52:44.215Z"
   },
   {
    "duration": 5,
    "start_time": "2025-04-07T19:52:44.219Z"
   },
   {
    "duration": 89,
    "start_time": "2025-04-07T19:52:44.226Z"
   },
   {
    "duration": 7,
    "start_time": "2025-04-07T19:52:44.318Z"
   },
   {
    "duration": 2,
    "start_time": "2025-04-07T19:52:44.329Z"
   },
   {
    "duration": 3,
    "start_time": "2025-04-07T19:52:44.333Z"
   },
   {
    "duration": 73,
    "start_time": "2025-04-07T19:52:44.337Z"
   },
   {
    "duration": 3,
    "start_time": "2025-04-07T19:52:44.411Z"
   },
   {
    "duration": 3,
    "start_time": "2025-04-07T19:52:44.416Z"
   },
   {
    "duration": 3,
    "start_time": "2025-04-07T19:52:44.420Z"
   },
   {
    "duration": 7,
    "start_time": "2025-04-07T19:52:44.425Z"
   },
   {
    "duration": 2692,
    "start_time": "2025-04-08T10:25:03.730Z"
   },
   {
    "duration": 16,
    "start_time": "2025-04-08T10:25:06.431Z"
   },
   {
    "duration": 5,
    "start_time": "2025-04-08T10:25:06.448Z"
   },
   {
    "duration": 6,
    "start_time": "2025-04-08T10:25:06.456Z"
   },
   {
    "duration": 5,
    "start_time": "2025-04-08T10:25:06.463Z"
   },
   {
    "duration": 9,
    "start_time": "2025-04-08T10:25:06.469Z"
   },
   {
    "duration": 3,
    "start_time": "2025-04-08T10:25:06.479Z"
   },
   {
    "duration": 11,
    "start_time": "2025-04-08T10:25:06.483Z"
   },
   {
    "duration": 3,
    "start_time": "2025-04-08T10:25:06.495Z"
   },
   {
    "duration": 3,
    "start_time": "2025-04-08T10:25:06.533Z"
   },
   {
    "duration": 8,
    "start_time": "2025-04-08T10:25:06.538Z"
   },
   {
    "duration": 5,
    "start_time": "2025-04-08T10:25:06.548Z"
   },
   {
    "duration": 17,
    "start_time": "2025-04-08T10:25:06.554Z"
   },
   {
    "duration": 2507,
    "start_time": "2025-04-08T10:25:06.572Z"
   },
   {
    "duration": 3,
    "start_time": "2025-04-08T10:25:09.081Z"
   },
   {
    "duration": 114,
    "start_time": "2025-04-08T10:25:09.086Z"
   },
   {
    "duration": 2,
    "start_time": "2025-04-08T10:25:09.202Z"
   },
   {
    "duration": 31,
    "start_time": "2025-04-08T10:25:09.205Z"
   },
   {
    "duration": 4,
    "start_time": "2025-04-08T10:25:09.237Z"
   },
   {
    "duration": 274,
    "start_time": "2025-04-08T10:25:09.243Z"
   },
   {
    "duration": 349,
    "start_time": "2025-04-08T10:25:09.519Z"
   },
   {
    "duration": 13,
    "start_time": "2025-04-08T10:25:09.869Z"
   },
   {
    "duration": 3,
    "start_time": "2025-04-08T10:25:09.883Z"
   },
   {
    "duration": 5,
    "start_time": "2025-04-08T10:25:09.888Z"
   },
   {
    "duration": 4,
    "start_time": "2025-04-08T10:25:09.895Z"
   },
   {
    "duration": 3,
    "start_time": "2025-04-08T10:25:09.931Z"
   },
   {
    "duration": 12,
    "start_time": "2025-04-08T10:25:09.936Z"
   },
   {
    "duration": 5,
    "start_time": "2025-04-08T10:25:09.953Z"
   },
   {
    "duration": 4,
    "start_time": "2025-04-08T10:25:09.960Z"
   },
   {
    "duration": 30,
    "start_time": "2025-04-08T10:25:09.966Z"
   },
   {
    "duration": 34,
    "start_time": "2025-04-08T10:25:09.997Z"
   },
   {
    "duration": 12,
    "start_time": "2025-04-08T10:25:10.033Z"
   },
   {
    "duration": 4,
    "start_time": "2025-04-08T10:25:10.046Z"
   },
   {
    "duration": 4,
    "start_time": "2025-04-08T10:25:10.052Z"
   },
   {
    "duration": 4,
    "start_time": "2025-04-08T10:25:10.058Z"
   },
   {
    "duration": 3,
    "start_time": "2025-04-08T10:25:10.064Z"
   },
   {
    "duration": 2,
    "start_time": "2025-04-08T10:25:10.069Z"
   },
   {
    "duration": 58,
    "start_time": "2025-04-08T10:25:10.073Z"
   },
   {
    "duration": 10,
    "start_time": "2025-04-08T10:25:10.133Z"
   },
   {
    "duration": 2,
    "start_time": "2025-04-08T10:25:10.145Z"
   },
   {
    "duration": 4,
    "start_time": "2025-04-08T10:25:10.149Z"
   },
   {
    "duration": 78,
    "start_time": "2025-04-08T10:25:10.155Z"
   },
   {
    "duration": 7,
    "start_time": "2025-04-08T10:25:10.235Z"
   },
   {
    "duration": 4,
    "start_time": "2025-04-08T10:25:10.244Z"
   },
   {
    "duration": 3,
    "start_time": "2025-04-08T10:25:10.250Z"
   },
   {
    "duration": 77,
    "start_time": "2025-04-08T10:25:10.255Z"
   },
   {
    "duration": 4,
    "start_time": "2025-04-08T10:25:10.334Z"
   },
   {
    "duration": 15,
    "start_time": "2025-04-08T10:25:10.340Z"
   },
   {
    "duration": 77,
    "start_time": "2025-04-08T10:25:10.356Z"
   },
   {
    "duration": 4,
    "start_time": "2025-04-08T10:25:10.437Z"
   },
   {
    "duration": 2,
    "start_time": "2025-04-08T10:25:10.444Z"
   },
   {
    "duration": 3,
    "start_time": "2025-04-08T10:25:10.448Z"
   },
   {
    "duration": 3,
    "start_time": "2025-04-08T10:25:10.453Z"
   },
   {
    "duration": 4,
    "start_time": "2025-04-08T10:25:10.530Z"
   },
   {
    "duration": 3,
    "start_time": "2025-04-08T10:25:10.538Z"
   },
   {
    "duration": 6,
    "start_time": "2025-04-08T10:25:10.544Z"
   },
   {
    "duration": 2666,
    "start_time": "2025-04-08T22:47:49.494Z"
   },
   {
    "duration": 9,
    "start_time": "2025-04-08T22:47:52.163Z"
   },
   {
    "duration": 4,
    "start_time": "2025-04-08T22:47:52.174Z"
   },
   {
    "duration": 6,
    "start_time": "2025-04-08T22:47:52.181Z"
   },
   {
    "duration": 19,
    "start_time": "2025-04-08T22:47:52.188Z"
   },
   {
    "duration": 9,
    "start_time": "2025-04-08T22:47:52.209Z"
   },
   {
    "duration": 3,
    "start_time": "2025-04-08T22:47:52.220Z"
   },
   {
    "duration": 9,
    "start_time": "2025-04-08T22:47:52.225Z"
   },
   {
    "duration": 3,
    "start_time": "2025-04-08T22:47:52.235Z"
   },
   {
    "duration": 3,
    "start_time": "2025-04-08T22:47:52.241Z"
   },
   {
    "duration": 8,
    "start_time": "2025-04-08T22:47:52.245Z"
   },
   {
    "duration": 5,
    "start_time": "2025-04-08T22:47:52.254Z"
   },
   {
    "duration": 64,
    "start_time": "2025-04-08T22:47:52.261Z"
   },
   {
    "duration": 2631,
    "start_time": "2025-04-08T22:47:52.327Z"
   },
   {
    "duration": 4,
    "start_time": "2025-04-08T22:47:54.960Z"
   },
   {
    "duration": 128,
    "start_time": "2025-04-08T22:47:54.965Z"
   },
   {
    "duration": 2,
    "start_time": "2025-04-08T22:47:55.105Z"
   },
   {
    "duration": 13,
    "start_time": "2025-04-08T22:47:55.109Z"
   },
   {
    "duration": 3,
    "start_time": "2025-04-08T22:47:55.123Z"
   },
   {
    "duration": 296,
    "start_time": "2025-04-08T22:47:55.127Z"
   },
   {
    "duration": 360,
    "start_time": "2025-04-08T22:47:55.424Z"
   },
   {
    "duration": 25,
    "start_time": "2025-04-08T22:47:55.786Z"
   },
   {
    "duration": 3,
    "start_time": "2025-04-08T22:47:55.812Z"
   },
   {
    "duration": 4,
    "start_time": "2025-04-08T22:47:55.816Z"
   },
   {
    "duration": 4,
    "start_time": "2025-04-08T22:47:55.821Z"
   },
   {
    "duration": 5,
    "start_time": "2025-04-08T22:47:55.826Z"
   },
   {
    "duration": 12,
    "start_time": "2025-04-08T22:47:55.832Z"
   },
   {
    "duration": 6,
    "start_time": "2025-04-08T22:47:55.849Z"
   },
   {
    "duration": 4,
    "start_time": "2025-04-08T22:47:55.857Z"
   },
   {
    "duration": 70,
    "start_time": "2025-04-08T22:47:55.862Z"
   },
   {
    "duration": 3,
    "start_time": "2025-04-08T22:47:55.934Z"
   },
   {
    "duration": 12,
    "start_time": "2025-04-08T22:47:55.939Z"
   },
   {
    "duration": 5,
    "start_time": "2025-04-08T22:47:55.952Z"
   },
   {
    "duration": 4,
    "start_time": "2025-04-08T22:47:55.959Z"
   },
   {
    "duration": 3,
    "start_time": "2025-04-08T22:47:55.965Z"
   },
   {
    "duration": 3,
    "start_time": "2025-04-08T22:47:56.006Z"
   },
   {
    "duration": 2,
    "start_time": "2025-04-08T22:47:56.011Z"
   },
   {
    "duration": 6,
    "start_time": "2025-04-08T22:47:56.015Z"
   },
   {
    "duration": 8,
    "start_time": "2025-04-08T22:47:56.024Z"
   },
   {
    "duration": 3,
    "start_time": "2025-04-08T22:47:56.034Z"
   },
   {
    "duration": 67,
    "start_time": "2025-04-08T22:47:56.039Z"
   },
   {
    "duration": 3,
    "start_time": "2025-04-08T22:47:56.108Z"
   },
   {
    "duration": 9,
    "start_time": "2025-04-08T22:47:56.113Z"
   },
   {
    "duration": 3,
    "start_time": "2025-04-08T22:47:56.124Z"
   },
   {
    "duration": 78,
    "start_time": "2025-04-08T22:47:56.129Z"
   },
   {
    "duration": 3,
    "start_time": "2025-04-08T22:47:56.210Z"
   },
   {
    "duration": 4,
    "start_time": "2025-04-08T22:47:56.215Z"
   },
   {
    "duration": 88,
    "start_time": "2025-04-08T22:47:56.221Z"
   },
   {
    "duration": 8,
    "start_time": "2025-04-08T22:47:56.312Z"
   },
   {
    "duration": 2,
    "start_time": "2025-04-08T22:47:56.324Z"
   },
   {
    "duration": 3,
    "start_time": "2025-04-08T22:47:56.328Z"
   },
   {
    "duration": 73,
    "start_time": "2025-04-08T22:47:56.333Z"
   },
   {
    "duration": 4,
    "start_time": "2025-04-08T22:47:56.408Z"
   },
   {
    "duration": 3,
    "start_time": "2025-04-08T22:47:56.414Z"
   },
   {
    "duration": 6,
    "start_time": "2025-04-08T22:47:56.421Z"
   },
   {
    "duration": 82,
    "start_time": "2025-04-08T22:47:56.431Z"
   },
   {
    "duration": 9,
    "start_time": "2025-04-09T07:44:20.555Z"
   },
   {
    "duration": 3047,
    "start_time": "2025-04-10T15:30:04.533Z"
   },
   {
    "duration": 18,
    "start_time": "2025-04-10T15:30:07.583Z"
   },
   {
    "duration": 5,
    "start_time": "2025-04-10T15:30:07.603Z"
   },
   {
    "duration": 11,
    "start_time": "2025-04-10T15:30:07.610Z"
   },
   {
    "duration": 5,
    "start_time": "2025-04-10T15:30:07.629Z"
   },
   {
    "duration": 10,
    "start_time": "2025-04-10T15:30:07.636Z"
   },
   {
    "duration": 3,
    "start_time": "2025-04-10T15:30:07.648Z"
   },
   {
    "duration": 11,
    "start_time": "2025-04-10T15:30:07.653Z"
   },
   {
    "duration": 3,
    "start_time": "2025-04-10T15:30:07.665Z"
   },
   {
    "duration": 7,
    "start_time": "2025-04-10T15:30:07.670Z"
   },
   {
    "duration": 9,
    "start_time": "2025-04-10T15:30:07.678Z"
   },
   {
    "duration": 39,
    "start_time": "2025-04-10T15:30:07.689Z"
   },
   {
    "duration": 25,
    "start_time": "2025-04-10T15:30:07.730Z"
   },
   {
    "duration": 2657,
    "start_time": "2025-04-10T15:30:07.760Z"
   },
   {
    "duration": 3,
    "start_time": "2025-04-10T15:30:10.419Z"
   },
   {
    "duration": 38,
    "start_time": "2025-04-10T15:30:10.423Z"
   },
   {
    "duration": 2,
    "start_time": "2025-04-10T15:30:10.463Z"
   },
   {
    "duration": 13,
    "start_time": "2025-04-10T15:30:10.467Z"
   },
   {
    "duration": 3,
    "start_time": "2025-04-10T15:30:10.481Z"
   },
   {
    "duration": 314,
    "start_time": "2025-04-10T15:30:10.485Z"
   },
   {
    "duration": 309,
    "start_time": "2025-04-10T15:30:10.800Z"
   },
   {
    "duration": 22,
    "start_time": "2025-04-10T15:30:11.111Z"
   },
   {
    "duration": 3,
    "start_time": "2025-04-10T15:30:11.134Z"
   },
   {
    "duration": 4,
    "start_time": "2025-04-10T15:30:11.139Z"
   },
   {
    "duration": 3,
    "start_time": "2025-04-10T15:30:11.144Z"
   },
   {
    "duration": 4,
    "start_time": "2025-04-10T15:30:11.149Z"
   },
   {
    "duration": 12,
    "start_time": "2025-04-10T15:30:11.155Z"
   },
   {
    "duration": 7,
    "start_time": "2025-04-10T15:30:11.168Z"
   },
   {
    "duration": 45,
    "start_time": "2025-04-10T15:30:11.180Z"
   },
   {
    "duration": 27,
    "start_time": "2025-04-10T15:30:11.227Z"
   },
   {
    "duration": 3,
    "start_time": "2025-04-10T15:30:11.256Z"
   },
   {
    "duration": 13,
    "start_time": "2025-04-10T15:30:11.261Z"
   },
   {
    "duration": 5,
    "start_time": "2025-04-10T15:30:11.275Z"
   },
   {
    "duration": 43,
    "start_time": "2025-04-10T15:30:11.281Z"
   },
   {
    "duration": 5,
    "start_time": "2025-04-10T15:30:11.325Z"
   },
   {
    "duration": 4,
    "start_time": "2025-04-10T15:30:11.331Z"
   },
   {
    "duration": 3,
    "start_time": "2025-04-10T15:30:11.336Z"
   },
   {
    "duration": 4,
    "start_time": "2025-04-10T15:30:11.340Z"
   },
   {
    "duration": 11,
    "start_time": "2025-04-10T15:30:11.346Z"
   },
   {
    "duration": 3,
    "start_time": "2025-04-10T15:30:11.424Z"
   },
   {
    "duration": 4,
    "start_time": "2025-04-10T15:30:11.432Z"
   },
   {
    "duration": 4,
    "start_time": "2025-04-10T15:30:11.437Z"
   },
   {
    "duration": 82,
    "start_time": "2025-04-10T15:30:11.443Z"
   },
   {
    "duration": 3,
    "start_time": "2025-04-10T15:30:11.526Z"
   },
   {
    "duration": 2,
    "start_time": "2025-04-10T15:30:11.531Z"
   },
   {
    "duration": 3,
    "start_time": "2025-04-10T15:30:11.535Z"
   },
   {
    "duration": 4,
    "start_time": "2025-04-10T15:30:11.539Z"
   },
   {
    "duration": 88,
    "start_time": "2025-04-10T15:30:11.545Z"
   },
   {
    "duration": 11,
    "start_time": "2025-04-10T15:30:11.636Z"
   },
   {
    "duration": 3,
    "start_time": "2025-04-10T15:30:11.649Z"
   },
   {
    "duration": 4,
    "start_time": "2025-04-10T15:30:11.654Z"
   },
   {
    "duration": 64,
    "start_time": "2025-04-10T15:30:11.660Z"
   },
   {
    "duration": 4,
    "start_time": "2025-04-10T15:30:11.726Z"
   },
   {
    "duration": 3,
    "start_time": "2025-04-10T15:30:11.732Z"
   },
   {
    "duration": 5,
    "start_time": "2025-04-10T15:30:11.739Z"
   },
   {
    "duration": 83,
    "start_time": "2025-04-10T15:30:11.747Z"
   },
   {
    "duration": 2955,
    "start_time": "2025-04-11T04:26:21.216Z"
   },
   {
    "duration": 15,
    "start_time": "2025-04-11T04:26:24.173Z"
   },
   {
    "duration": 5,
    "start_time": "2025-04-11T04:26:24.190Z"
   },
   {
    "duration": 7,
    "start_time": "2025-04-11T04:26:24.196Z"
   },
   {
    "duration": 5,
    "start_time": "2025-04-11T04:26:24.205Z"
   },
   {
    "duration": 32,
    "start_time": "2025-04-11T04:26:24.213Z"
   },
   {
    "duration": 4,
    "start_time": "2025-04-11T04:26:24.247Z"
   },
   {
    "duration": 10,
    "start_time": "2025-04-11T04:26:24.253Z"
   },
   {
    "duration": 3,
    "start_time": "2025-04-11T04:26:24.265Z"
   },
   {
    "duration": 5,
    "start_time": "2025-04-11T04:26:24.270Z"
   },
   {
    "duration": 9,
    "start_time": "2025-04-11T04:26:24.276Z"
   },
   {
    "duration": 5,
    "start_time": "2025-04-11T04:26:24.287Z"
   },
   {
    "duration": 58,
    "start_time": "2025-04-11T04:26:24.294Z"
   },
   {
    "duration": 2750,
    "start_time": "2025-04-11T04:26:24.357Z"
   },
   {
    "duration": 2,
    "start_time": "2025-04-11T04:26:27.109Z"
   },
   {
    "duration": 137,
    "start_time": "2025-04-11T04:26:27.113Z"
   },
   {
    "duration": 2,
    "start_time": "2025-04-11T04:26:27.252Z"
   },
   {
    "duration": 20,
    "start_time": "2025-04-11T04:26:27.257Z"
   },
   {
    "duration": 3,
    "start_time": "2025-04-11T04:26:27.278Z"
   },
   {
    "duration": 331,
    "start_time": "2025-04-11T04:26:27.282Z"
   },
   {
    "duration": 321,
    "start_time": "2025-04-11T04:26:27.616Z"
   },
   {
    "duration": 17,
    "start_time": "2025-04-11T04:26:27.939Z"
   },
   {
    "duration": 4,
    "start_time": "2025-04-11T04:26:27.958Z"
   },
   {
    "duration": 5,
    "start_time": "2025-04-11T04:26:27.964Z"
   },
   {
    "duration": 3,
    "start_time": "2025-04-11T04:26:27.971Z"
   },
   {
    "duration": 4,
    "start_time": "2025-04-11T04:26:27.976Z"
   },
   {
    "duration": 61,
    "start_time": "2025-04-11T04:26:27.982Z"
   },
   {
    "duration": 7,
    "start_time": "2025-04-11T04:26:28.045Z"
   },
   {
    "duration": 6,
    "start_time": "2025-04-11T04:26:28.055Z"
   },
   {
    "duration": 30,
    "start_time": "2025-04-11T04:26:28.063Z"
   },
   {
    "duration": 4,
    "start_time": "2025-04-11T04:26:28.095Z"
   },
   {
    "duration": 45,
    "start_time": "2025-04-11T04:26:28.100Z"
   },
   {
    "duration": 4,
    "start_time": "2025-04-11T04:26:28.147Z"
   },
   {
    "duration": 4,
    "start_time": "2025-04-11T04:26:28.153Z"
   },
   {
    "duration": 4,
    "start_time": "2025-04-11T04:26:28.158Z"
   },
   {
    "duration": 3,
    "start_time": "2025-04-11T04:26:28.164Z"
   },
   {
    "duration": 3,
    "start_time": "2025-04-11T04:26:28.169Z"
   },
   {
    "duration": 14,
    "start_time": "2025-04-11T04:26:28.174Z"
   },
   {
    "duration": 9,
    "start_time": "2025-04-11T04:26:28.249Z"
   },
   {
    "duration": 3,
    "start_time": "2025-04-11T04:26:28.260Z"
   },
   {
    "duration": 3,
    "start_time": "2025-04-11T04:26:28.271Z"
   },
   {
    "duration": 74,
    "start_time": "2025-04-11T04:26:28.276Z"
   },
   {
    "duration": 7,
    "start_time": "2025-04-11T04:26:28.352Z"
   },
   {
    "duration": 6,
    "start_time": "2025-04-11T04:26:28.361Z"
   },
   {
    "duration": 4,
    "start_time": "2025-04-11T04:26:28.368Z"
   },
   {
    "duration": 3,
    "start_time": "2025-04-11T04:26:28.374Z"
   },
   {
    "duration": 72,
    "start_time": "2025-04-11T04:26:28.379Z"
   },
   {
    "duration": 89,
    "start_time": "2025-04-11T04:26:28.453Z"
   },
   {
    "duration": 10,
    "start_time": "2025-04-11T04:26:28.545Z"
   },
   {
    "duration": 2,
    "start_time": "2025-04-11T04:26:28.558Z"
   },
   {
    "duration": 3,
    "start_time": "2025-04-11T04:26:28.562Z"
   },
   {
    "duration": 8,
    "start_time": "2025-04-11T04:26:28.567Z"
   },
   {
    "duration": 3,
    "start_time": "2025-04-11T04:26:28.577Z"
   },
   {
    "duration": 4,
    "start_time": "2025-04-11T04:26:28.643Z"
   },
   {
    "duration": 3,
    "start_time": "2025-04-11T04:26:28.649Z"
   },
   {
    "duration": 11,
    "start_time": "2025-04-11T04:26:28.654Z"
   },
   {
    "duration": 2797,
    "start_time": "2025-04-11T17:22:45.548Z"
   },
   {
    "duration": 11,
    "start_time": "2025-04-11T17:22:48.348Z"
   },
   {
    "duration": 5,
    "start_time": "2025-04-11T17:22:48.360Z"
   },
   {
    "duration": 7,
    "start_time": "2025-04-11T17:22:48.366Z"
   },
   {
    "duration": 5,
    "start_time": "2025-04-11T17:22:48.375Z"
   },
   {
    "duration": 8,
    "start_time": "2025-04-11T17:22:48.381Z"
   },
   {
    "duration": 3,
    "start_time": "2025-04-11T17:22:48.391Z"
   },
   {
    "duration": 39,
    "start_time": "2025-04-11T17:22:48.395Z"
   },
   {
    "duration": 3,
    "start_time": "2025-04-11T17:22:48.435Z"
   },
   {
    "duration": 5,
    "start_time": "2025-04-11T17:22:48.440Z"
   },
   {
    "duration": 8,
    "start_time": "2025-04-11T17:22:48.446Z"
   },
   {
    "duration": 5,
    "start_time": "2025-04-11T17:22:48.456Z"
   },
   {
    "duration": 17,
    "start_time": "2025-04-11T17:22:48.463Z"
   },
   {
    "duration": 2659,
    "start_time": "2025-04-11T17:22:48.484Z"
   },
   {
    "duration": 3,
    "start_time": "2025-04-11T17:22:51.145Z"
   },
   {
    "duration": 40,
    "start_time": "2025-04-11T17:22:51.150Z"
   },
   {
    "duration": 3,
    "start_time": "2025-04-11T17:22:51.191Z"
   },
   {
    "duration": 35,
    "start_time": "2025-04-11T17:22:51.196Z"
   },
   {
    "duration": 4,
    "start_time": "2025-04-11T17:22:51.233Z"
   },
   {
    "duration": 274,
    "start_time": "2025-04-11T17:22:51.239Z"
   },
   {
    "duration": 311,
    "start_time": "2025-04-11T17:22:51.515Z"
   },
   {
    "duration": 15,
    "start_time": "2025-04-11T17:22:51.828Z"
   },
   {
    "duration": 3,
    "start_time": "2025-04-11T17:22:51.844Z"
   },
   {
    "duration": 4,
    "start_time": "2025-04-11T17:22:51.849Z"
   },
   {
    "duration": 3,
    "start_time": "2025-04-11T17:22:51.855Z"
   },
   {
    "duration": 4,
    "start_time": "2025-04-11T17:22:51.860Z"
   },
   {
    "duration": 12,
    "start_time": "2025-04-11T17:22:51.866Z"
   },
   {
    "duration": 52,
    "start_time": "2025-04-11T17:22:51.879Z"
   },
   {
    "duration": 5,
    "start_time": "2025-04-11T17:22:51.933Z"
   },
   {
    "duration": 37,
    "start_time": "2025-04-11T17:22:51.940Z"
   },
   {
    "duration": 4,
    "start_time": "2025-04-11T17:22:51.978Z"
   },
   {
    "duration": 13,
    "start_time": "2025-04-11T17:22:51.984Z"
   },
   {
    "duration": 5,
    "start_time": "2025-04-11T17:22:52.031Z"
   },
   {
    "duration": 4,
    "start_time": "2025-04-11T17:22:52.038Z"
   },
   {
    "duration": 4,
    "start_time": "2025-04-11T17:22:52.044Z"
   },
   {
    "duration": 4,
    "start_time": "2025-04-11T17:22:52.050Z"
   },
   {
    "duration": 4,
    "start_time": "2025-04-11T17:22:52.055Z"
   },
   {
    "duration": 13,
    "start_time": "2025-04-11T17:22:52.061Z"
   },
   {
    "duration": 61,
    "start_time": "2025-04-11T17:22:52.076Z"
   },
   {
    "duration": 3,
    "start_time": "2025-04-11T17:22:52.139Z"
   },
   {
    "duration": 4,
    "start_time": "2025-04-11T17:22:52.149Z"
   },
   {
    "duration": 78,
    "start_time": "2025-04-11T17:22:52.154Z"
   },
   {
    "duration": 8,
    "start_time": "2025-04-11T17:22:52.236Z"
   },
   {
    "duration": 4,
    "start_time": "2025-04-11T17:22:52.245Z"
   },
   {
    "duration": 3,
    "start_time": "2025-04-11T17:22:52.251Z"
   },
   {
    "duration": 76,
    "start_time": "2025-04-11T17:22:52.257Z"
   },
   {
    "duration": 3,
    "start_time": "2025-04-11T17:22:52.336Z"
   },
   {
    "duration": 18,
    "start_time": "2025-04-11T17:22:52.341Z"
   },
   {
    "duration": 72,
    "start_time": "2025-04-11T17:22:52.360Z"
   },
   {
    "duration": 4,
    "start_time": "2025-04-11T17:22:52.434Z"
   },
   {
    "duration": 3,
    "start_time": "2025-04-11T17:22:52.440Z"
   },
   {
    "duration": 3,
    "start_time": "2025-04-11T17:22:52.445Z"
   },
   {
    "duration": 2,
    "start_time": "2025-04-11T17:22:52.450Z"
   },
   {
    "duration": 79,
    "start_time": "2025-04-11T17:22:52.454Z"
   },
   {
    "duration": 3,
    "start_time": "2025-04-11T17:22:52.535Z"
   },
   {
    "duration": 6,
    "start_time": "2025-04-11T17:22:52.540Z"
   }
  ],
  "kernelspec": {
   "display_name": "Python 3 (ipykernel)",
   "language": "python",
   "name": "python3"
  },
  "language_info": {
   "codemirror_mode": {
    "name": "ipython",
    "version": 3
   },
   "file_extension": ".py",
   "mimetype": "text/x-python",
   "name": "python",
   "nbconvert_exporter": "python",
   "pygments_lexer": "ipython3",
   "version": "3.12.7"
  },
  "toc": {
   "base_numbering": 1,
   "nav_menu": {},
   "number_sections": true,
   "sideBar": true,
   "skip_h1_title": true,
   "title_cell": "Table of Contents",
   "title_sidebar": "Contents",
   "toc_cell": false,
   "toc_position": {},
   "toc_section_display": true,
   "toc_window_display": false
  }
 },
 "nbformat": 4,
 "nbformat_minor": 4
}
