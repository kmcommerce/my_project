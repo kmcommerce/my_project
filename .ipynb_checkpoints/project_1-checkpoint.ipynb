{
 "cells": [
  {
   "cell_type": "markdown",
   "id": "b88dcc10",
   "metadata": {},
   "source": [
    "# intoduction\n",
    "\n",
    "\n",
    "**This project is base on multiples data files that will allow me to analyze customer behavior using transactional data from\n",
    "the given data file. The dataset contains information about customer orders,products name,customer ID,product ID,the hour of\n",
    "purchasing by tne customer and the frequency of orders, etc..**\n",
    "\n",
    "**The goal of this project is to clean, transform, and analyze the transactional data to gain some insights into the customer purchasing trend and offer if possible some recommendations**\n",
    "\n",
    "**The data processing will be conducted using Python with libraries such as Pandas and Matplotlib for visualization.**\n",
    "\n"
   ]
  },
  {
   "cell_type": "markdown",
   "id": "2e3340f3",
   "metadata": {},
   "source": [
    "<div class=\"alert alert-block alert-success\">✔️\n",
    "    \n",
    "\n",
    "__Reviewer's comment №3__\n",
    "\n",
    "All right"
   ]
  },
  {
   "cell_type": "code",
   "execution_count": 1,
   "id": "fbf1adab",
   "metadata": {},
   "outputs": [],
   "source": [
    "import pandas as pd"
   ]
  },
  {
   "cell_type": "code",
   "execution_count": 2,
   "id": "3f0e2019",
   "metadata": {},
   "outputs": [],
   "source": [
    "df_instacart = pd.read_csv('/datasets/instacart_orders.csv',sep=';')\n",
    "df_products = pd.read_csv('/datasets/products.csv',sep=';')\n",
    "df_aisles = pd.read_csv('/datasets/aisles.csv',sep=';')\n",
    "df_departments = pd.read_csv('/datasets/departments.csv',sep=';')\n",
    "df_order_products = pd.read_csv('/datasets/order_products.csv',sep=';')\n"
   ]
  },
  {
   "cell_type": "code",
   "execution_count": 3,
   "id": "c052f233",
   "metadata": {},
   "outputs": [
    {
     "data": {
      "text/html": [
       "<div>\n",
       "<style scoped>\n",
       "    .dataframe tbody tr th:only-of-type {\n",
       "        vertical-align: middle;\n",
       "    }\n",
       "\n",
       "    .dataframe tbody tr th {\n",
       "        vertical-align: top;\n",
       "    }\n",
       "\n",
       "    .dataframe thead th {\n",
       "        text-align: right;\n",
       "    }\n",
       "</style>\n",
       "<table border=\"1\" class=\"dataframe\">\n",
       "  <thead>\n",
       "    <tr style=\"text-align: right;\">\n",
       "      <th></th>\n",
       "      <th>product_id</th>\n",
       "      <th>product_name</th>\n",
       "      <th>aisle_id</th>\n",
       "      <th>department_id</th>\n",
       "    </tr>\n",
       "  </thead>\n",
       "  <tbody>\n",
       "    <tr>\n",
       "      <th>0</th>\n",
       "      <td>1</td>\n",
       "      <td>Chocolate Sandwich Cookies</td>\n",
       "      <td>61</td>\n",
       "      <td>19</td>\n",
       "    </tr>\n",
       "    <tr>\n",
       "      <th>1</th>\n",
       "      <td>2</td>\n",
       "      <td>All-Seasons Salt</td>\n",
       "      <td>104</td>\n",
       "      <td>13</td>\n",
       "    </tr>\n",
       "    <tr>\n",
       "      <th>2</th>\n",
       "      <td>3</td>\n",
       "      <td>Robust Golden Unsweetened Oolong Tea</td>\n",
       "      <td>94</td>\n",
       "      <td>7</td>\n",
       "    </tr>\n",
       "    <tr>\n",
       "      <th>3</th>\n",
       "      <td>4</td>\n",
       "      <td>Smart Ones Classic Favorites Mini Rigatoni Wit...</td>\n",
       "      <td>38</td>\n",
       "      <td>1</td>\n",
       "    </tr>\n",
       "    <tr>\n",
       "      <th>4</th>\n",
       "      <td>5</td>\n",
       "      <td>Green Chile Anytime Sauce</td>\n",
       "      <td>5</td>\n",
       "      <td>13</td>\n",
       "    </tr>\n",
       "  </tbody>\n",
       "</table>\n",
       "</div>"
      ],
      "text/plain": [
       "   product_id                                       product_name  aisle_id  \\\n",
       "0           1                         Chocolate Sandwich Cookies        61   \n",
       "1           2                                   All-Seasons Salt       104   \n",
       "2           3               Robust Golden Unsweetened Oolong Tea        94   \n",
       "3           4  Smart Ones Classic Favorites Mini Rigatoni Wit...        38   \n",
       "4           5                          Green Chile Anytime Sauce         5   \n",
       "\n",
       "   department_id  \n",
       "0             19  \n",
       "1             13  \n",
       "2              7  \n",
       "3              1  \n",
       "4             13  "
      ]
     },
     "execution_count": 3,
     "metadata": {},
     "output_type": "execute_result"
    }
   ],
   "source": [
    "df_products.head()"
   ]
  },
  {
   "cell_type": "code",
   "execution_count": 4,
   "id": "1c608754",
   "metadata": {
    "scrolled": true
   },
   "outputs": [
    {
     "name": "stdout",
     "output_type": "stream",
     "text": [
      "<class 'pandas.core.frame.DataFrame'>\n",
      "RangeIndex: 478967 entries, 0 to 478966\n",
      "Data columns (total 6 columns):\n",
      " #   Column                  Non-Null Count   Dtype  \n",
      "---  ------                  --------------   -----  \n",
      " 0   order_id                478967 non-null  int64  \n",
      " 1   user_id                 478967 non-null  int64  \n",
      " 2   order_number            478967 non-null  int64  \n",
      " 3   order_dow               478967 non-null  int64  \n",
      " 4   order_hour_of_day       478967 non-null  int64  \n",
      " 5   days_since_prior_order  450148 non-null  float64\n",
      "dtypes: float64(1), int64(5)\n",
      "memory usage: 21.9 MB\n"
     ]
    }
   ],
   "source": [
    "df_instacart.info()"
   ]
  },
  {
   "cell_type": "code",
   "execution_count": 5,
   "id": "e292bfd5",
   "metadata": {},
   "outputs": [
    {
     "data": {
      "text/html": [
       "<div>\n",
       "<style scoped>\n",
       "    .dataframe tbody tr th:only-of-type {\n",
       "        vertical-align: middle;\n",
       "    }\n",
       "\n",
       "    .dataframe tbody tr th {\n",
       "        vertical-align: top;\n",
       "    }\n",
       "\n",
       "    .dataframe thead th {\n",
       "        text-align: right;\n",
       "    }\n",
       "</style>\n",
       "<table border=\"1\" class=\"dataframe\">\n",
       "  <thead>\n",
       "    <tr style=\"text-align: right;\">\n",
       "      <th></th>\n",
       "      <th>order_id</th>\n",
       "      <th>user_id</th>\n",
       "      <th>order_number</th>\n",
       "      <th>order_dow</th>\n",
       "      <th>order_hour_of_day</th>\n",
       "      <th>days_since_prior_order</th>\n",
       "    </tr>\n",
       "  </thead>\n",
       "  <tbody>\n",
       "    <tr>\n",
       "      <th>0</th>\n",
       "      <td>1515936</td>\n",
       "      <td>183418</td>\n",
       "      <td>11</td>\n",
       "      <td>6</td>\n",
       "      <td>13</td>\n",
       "      <td>30.0</td>\n",
       "    </tr>\n",
       "    <tr>\n",
       "      <th>1</th>\n",
       "      <td>1690866</td>\n",
       "      <td>163593</td>\n",
       "      <td>5</td>\n",
       "      <td>5</td>\n",
       "      <td>12</td>\n",
       "      <td>9.0</td>\n",
       "    </tr>\n",
       "    <tr>\n",
       "      <th>2</th>\n",
       "      <td>1454967</td>\n",
       "      <td>39980</td>\n",
       "      <td>4</td>\n",
       "      <td>5</td>\n",
       "      <td>19</td>\n",
       "      <td>2.0</td>\n",
       "    </tr>\n",
       "    <tr>\n",
       "      <th>3</th>\n",
       "      <td>1768857</td>\n",
       "      <td>82516</td>\n",
       "      <td>56</td>\n",
       "      <td>0</td>\n",
       "      <td>20</td>\n",
       "      <td>10.0</td>\n",
       "    </tr>\n",
       "    <tr>\n",
       "      <th>4</th>\n",
       "      <td>3007858</td>\n",
       "      <td>196724</td>\n",
       "      <td>2</td>\n",
       "      <td>4</td>\n",
       "      <td>12</td>\n",
       "      <td>17.0</td>\n",
       "    </tr>\n",
       "  </tbody>\n",
       "</table>\n",
       "</div>"
      ],
      "text/plain": [
       "   order_id  user_id  order_number  order_dow  order_hour_of_day  \\\n",
       "0   1515936   183418            11          6                 13   \n",
       "1   1690866   163593             5          5                 12   \n",
       "2   1454967    39980             4          5                 19   \n",
       "3   1768857    82516            56          0                 20   \n",
       "4   3007858   196724             2          4                 12   \n",
       "\n",
       "   days_since_prior_order  \n",
       "0                    30.0  \n",
       "1                     9.0  \n",
       "2                     2.0  \n",
       "3                    10.0  \n",
       "4                    17.0  "
      ]
     },
     "execution_count": 5,
     "metadata": {},
     "output_type": "execute_result"
    }
   ],
   "source": [
    "df_instacart.head()"
   ]
  },
  {
   "cell_type": "code",
   "execution_count": 6,
   "id": "7c52db71",
   "metadata": {},
   "outputs": [
    {
     "name": "stdout",
     "output_type": "stream",
     "text": [
      "<class 'pandas.core.frame.DataFrame'>\n",
      "RangeIndex: 134 entries, 0 to 133\n",
      "Data columns (total 2 columns):\n",
      " #   Column    Non-Null Count  Dtype \n",
      "---  ------    --------------  ----- \n",
      " 0   aisle_id  134 non-null    int64 \n",
      " 1   aisle     134 non-null    object\n",
      "dtypes: int64(1), object(1)\n",
      "memory usage: 2.2+ KB\n"
     ]
    }
   ],
   "source": [
    "df_aisles.info()"
   ]
  },
  {
   "cell_type": "code",
   "execution_count": 7,
   "id": "ce429dd8",
   "metadata": {},
   "outputs": [
    {
     "data": {
      "text/html": [
       "<div>\n",
       "<style scoped>\n",
       "    .dataframe tbody tr th:only-of-type {\n",
       "        vertical-align: middle;\n",
       "    }\n",
       "\n",
       "    .dataframe tbody tr th {\n",
       "        vertical-align: top;\n",
       "    }\n",
       "\n",
       "    .dataframe thead th {\n",
       "        text-align: right;\n",
       "    }\n",
       "</style>\n",
       "<table border=\"1\" class=\"dataframe\">\n",
       "  <thead>\n",
       "    <tr style=\"text-align: right;\">\n",
       "      <th></th>\n",
       "      <th>aisle_id</th>\n",
       "      <th>aisle</th>\n",
       "    </tr>\n",
       "  </thead>\n",
       "  <tbody>\n",
       "    <tr>\n",
       "      <th>0</th>\n",
       "      <td>1</td>\n",
       "      <td>prepared soups salads</td>\n",
       "    </tr>\n",
       "    <tr>\n",
       "      <th>1</th>\n",
       "      <td>2</td>\n",
       "      <td>specialty cheeses</td>\n",
       "    </tr>\n",
       "    <tr>\n",
       "      <th>2</th>\n",
       "      <td>3</td>\n",
       "      <td>energy granola bars</td>\n",
       "    </tr>\n",
       "    <tr>\n",
       "      <th>3</th>\n",
       "      <td>4</td>\n",
       "      <td>instant foods</td>\n",
       "    </tr>\n",
       "    <tr>\n",
       "      <th>4</th>\n",
       "      <td>5</td>\n",
       "      <td>marinades meat preparation</td>\n",
       "    </tr>\n",
       "  </tbody>\n",
       "</table>\n",
       "</div>"
      ],
      "text/plain": [
       "   aisle_id                       aisle\n",
       "0         1       prepared soups salads\n",
       "1         2           specialty cheeses\n",
       "2         3         energy granola bars\n",
       "3         4               instant foods\n",
       "4         5  marinades meat preparation"
      ]
     },
     "execution_count": 7,
     "metadata": {},
     "output_type": "execute_result"
    }
   ],
   "source": [
    "df_aisles.head()"
   ]
  },
  {
   "cell_type": "code",
   "execution_count": 8,
   "id": "d98fd4fb",
   "metadata": {},
   "outputs": [
    {
     "name": "stdout",
     "output_type": "stream",
     "text": [
      "<class 'pandas.core.frame.DataFrame'>\n",
      "RangeIndex: 21 entries, 0 to 20\n",
      "Data columns (total 2 columns):\n",
      " #   Column         Non-Null Count  Dtype \n",
      "---  ------         --------------  ----- \n",
      " 0   department_id  21 non-null     int64 \n",
      " 1   department     21 non-null     object\n",
      "dtypes: int64(1), object(1)\n",
      "memory usage: 464.0+ bytes\n"
     ]
    }
   ],
   "source": [
    "df_departments.info()"
   ]
  },
  {
   "cell_type": "code",
   "execution_count": 9,
   "id": "cc6446ca",
   "metadata": {},
   "outputs": [
    {
     "data": {
      "text/html": [
       "<div>\n",
       "<style scoped>\n",
       "    .dataframe tbody tr th:only-of-type {\n",
       "        vertical-align: middle;\n",
       "    }\n",
       "\n",
       "    .dataframe tbody tr th {\n",
       "        vertical-align: top;\n",
       "    }\n",
       "\n",
       "    .dataframe thead th {\n",
       "        text-align: right;\n",
       "    }\n",
       "</style>\n",
       "<table border=\"1\" class=\"dataframe\">\n",
       "  <thead>\n",
       "    <tr style=\"text-align: right;\">\n",
       "      <th></th>\n",
       "      <th>department_id</th>\n",
       "      <th>department</th>\n",
       "    </tr>\n",
       "  </thead>\n",
       "  <tbody>\n",
       "    <tr>\n",
       "      <th>0</th>\n",
       "      <td>1</td>\n",
       "      <td>frozen</td>\n",
       "    </tr>\n",
       "    <tr>\n",
       "      <th>1</th>\n",
       "      <td>2</td>\n",
       "      <td>other</td>\n",
       "    </tr>\n",
       "    <tr>\n",
       "      <th>2</th>\n",
       "      <td>3</td>\n",
       "      <td>bakery</td>\n",
       "    </tr>\n",
       "    <tr>\n",
       "      <th>3</th>\n",
       "      <td>4</td>\n",
       "      <td>produce</td>\n",
       "    </tr>\n",
       "    <tr>\n",
       "      <th>4</th>\n",
       "      <td>5</td>\n",
       "      <td>alcohol</td>\n",
       "    </tr>\n",
       "  </tbody>\n",
       "</table>\n",
       "</div>"
      ],
      "text/plain": [
       "   department_id department\n",
       "0              1     frozen\n",
       "1              2      other\n",
       "2              3     bakery\n",
       "3              4    produce\n",
       "4              5    alcohol"
      ]
     },
     "execution_count": 9,
     "metadata": {},
     "output_type": "execute_result"
    }
   ],
   "source": [
    "df_departments.head()"
   ]
  },
  {
   "cell_type": "code",
   "execution_count": 10,
   "id": "6fc81694",
   "metadata": {
    "scrolled": true
   },
   "outputs": [
    {
     "name": "stdout",
     "output_type": "stream",
     "text": [
      "<class 'pandas.core.frame.DataFrame'>\n",
      "RangeIndex: 4545007 entries, 0 to 4545006\n",
      "Data columns (total 4 columns):\n",
      " #   Column             Non-Null Count    Dtype  \n",
      "---  ------             --------------    -----  \n",
      " 0   order_id           4545007 non-null  int64  \n",
      " 1   product_id         4545007 non-null  int64  \n",
      " 2   add_to_cart_order  4544171 non-null  float64\n",
      " 3   reordered          4545007 non-null  int64  \n",
      "dtypes: float64(1), int64(3)\n",
      "memory usage: 138.7 MB\n"
     ]
    }
   ],
   "source": [
    "df_order_products.info(show_counts=True)"
   ]
  },
  {
   "cell_type": "code",
   "execution_count": 11,
   "id": "fb069194",
   "metadata": {},
   "outputs": [
    {
     "data": {
      "text/html": [
       "<div>\n",
       "<style scoped>\n",
       "    .dataframe tbody tr th:only-of-type {\n",
       "        vertical-align: middle;\n",
       "    }\n",
       "\n",
       "    .dataframe tbody tr th {\n",
       "        vertical-align: top;\n",
       "    }\n",
       "\n",
       "    .dataframe thead th {\n",
       "        text-align: right;\n",
       "    }\n",
       "</style>\n",
       "<table border=\"1\" class=\"dataframe\">\n",
       "  <thead>\n",
       "    <tr style=\"text-align: right;\">\n",
       "      <th></th>\n",
       "      <th>order_id</th>\n",
       "      <th>product_id</th>\n",
       "      <th>add_to_cart_order</th>\n",
       "      <th>reordered</th>\n",
       "    </tr>\n",
       "  </thead>\n",
       "  <tbody>\n",
       "    <tr>\n",
       "      <th>0</th>\n",
       "      <td>2141543</td>\n",
       "      <td>11440</td>\n",
       "      <td>17.0</td>\n",
       "      <td>0</td>\n",
       "    </tr>\n",
       "    <tr>\n",
       "      <th>1</th>\n",
       "      <td>567889</td>\n",
       "      <td>1560</td>\n",
       "      <td>1.0</td>\n",
       "      <td>1</td>\n",
       "    </tr>\n",
       "    <tr>\n",
       "      <th>2</th>\n",
       "      <td>2261212</td>\n",
       "      <td>26683</td>\n",
       "      <td>1.0</td>\n",
       "      <td>1</td>\n",
       "    </tr>\n",
       "    <tr>\n",
       "      <th>3</th>\n",
       "      <td>491251</td>\n",
       "      <td>8670</td>\n",
       "      <td>35.0</td>\n",
       "      <td>1</td>\n",
       "    </tr>\n",
       "    <tr>\n",
       "      <th>4</th>\n",
       "      <td>2571142</td>\n",
       "      <td>1940</td>\n",
       "      <td>5.0</td>\n",
       "      <td>1</td>\n",
       "    </tr>\n",
       "  </tbody>\n",
       "</table>\n",
       "</div>"
      ],
      "text/plain": [
       "   order_id  product_id  add_to_cart_order  reordered\n",
       "0   2141543       11440               17.0          0\n",
       "1    567889        1560                1.0          1\n",
       "2   2261212       26683                1.0          1\n",
       "3    491251        8670               35.0          1\n",
       "4   2571142        1940                5.0          1"
      ]
     },
     "execution_count": 11,
     "metadata": {},
     "output_type": "execute_result"
    }
   ],
   "source": [
    "df_order_products.head()"
   ]
  },
  {
   "cell_type": "markdown",
   "id": "f0151e2c",
   "metadata": {},
   "source": [
    "**The quick look at the first five sample of order_products indicate that customers reodered some products.\n",
    "Returning customer is always good for business**"
   ]
  },
  {
   "cell_type": "markdown",
   "id": "07357848-dc64-4156-9cc3-01ff4365226d",
   "metadata": {},
   "source": [
    "## Find and remove duplicate values (and describe why you make your choices)"
   ]
  },
  {
   "cell_type": "markdown",
   "id": "02f6c4e3",
   "metadata": {},
   "source": [
    "# 1.0 instacart data frame"
   ]
  },
  {
   "cell_type": "code",
   "execution_count": 13,
   "id": "b99297a5-405a-463d-8535-9adc3da4ad74",
   "metadata": {},
   "outputs": [],
   "source": [
    "df_instacart = df_instacart.drop_duplicates()# code will remove duplicate"
   ]
  },
  {
   "cell_type": "code",
   "execution_count": 14,
   "id": "ee1cb908",
   "metadata": {},
   "outputs": [
    {
     "data": {
      "text/plain": [
       "0"
      ]
     },
     "execution_count": 14,
     "metadata": {},
     "output_type": "execute_result"
    }
   ],
   "source": [
    "df_instacart.duplicated().sum()"
   ]
  },
  {
   "cell_type": "code",
   "execution_count": 15,
   "id": "0d44de5d",
   "metadata": {},
   "outputs": [
    {
     "data": {
      "text/html": [
       "<div>\n",
       "<style scoped>\n",
       "    .dataframe tbody tr th:only-of-type {\n",
       "        vertical-align: middle;\n",
       "    }\n",
       "\n",
       "    .dataframe tbody tr th {\n",
       "        vertical-align: top;\n",
       "    }\n",
       "\n",
       "    .dataframe thead th {\n",
       "        text-align: right;\n",
       "    }\n",
       "</style>\n",
       "<table border=\"1\" class=\"dataframe\">\n",
       "  <thead>\n",
       "    <tr style=\"text-align: right;\">\n",
       "      <th></th>\n",
       "      <th>order_id</th>\n",
       "      <th>user_id</th>\n",
       "      <th>order_number</th>\n",
       "      <th>order_dow</th>\n",
       "      <th>order_hour_of_day</th>\n",
       "      <th>days_since_prior_order</th>\n",
       "    </tr>\n",
       "  </thead>\n",
       "  <tbody>\n",
       "    <tr>\n",
       "      <th>4838</th>\n",
       "      <td>2766110</td>\n",
       "      <td>162084</td>\n",
       "      <td>41</td>\n",
       "      <td>3</td>\n",
       "      <td>2</td>\n",
       "      <td>16.0</td>\n",
       "    </tr>\n",
       "    <tr>\n",
       "      <th>5156</th>\n",
       "      <td>2190225</td>\n",
       "      <td>138285</td>\n",
       "      <td>18</td>\n",
       "      <td>3</td>\n",
       "      <td>2</td>\n",
       "      <td>11.0</td>\n",
       "    </tr>\n",
       "    <tr>\n",
       "      <th>15506</th>\n",
       "      <td>553049</td>\n",
       "      <td>58599</td>\n",
       "      <td>13</td>\n",
       "      <td>3</td>\n",
       "      <td>2</td>\n",
       "      <td>7.0</td>\n",
       "    </tr>\n",
       "    <tr>\n",
       "      <th>18420</th>\n",
       "      <td>382357</td>\n",
       "      <td>120200</td>\n",
       "      <td>19</td>\n",
       "      <td>3</td>\n",
       "      <td>2</td>\n",
       "      <td>11.0</td>\n",
       "    </tr>\n",
       "    <tr>\n",
       "      <th>24691</th>\n",
       "      <td>690242</td>\n",
       "      <td>77357</td>\n",
       "      <td>2</td>\n",
       "      <td>3</td>\n",
       "      <td>2</td>\n",
       "      <td>9.0</td>\n",
       "    </tr>\n",
       "    <tr>\n",
       "      <th>...</th>\n",
       "      <td>...</td>\n",
       "      <td>...</td>\n",
       "      <td>...</td>\n",
       "      <td>...</td>\n",
       "      <td>...</td>\n",
       "      <td>...</td>\n",
       "    </tr>\n",
       "    <tr>\n",
       "      <th>457013</th>\n",
       "      <td>3384021</td>\n",
       "      <td>14881</td>\n",
       "      <td>6</td>\n",
       "      <td>3</td>\n",
       "      <td>2</td>\n",
       "      <td>30.0</td>\n",
       "    </tr>\n",
       "    <tr>\n",
       "      <th>458816</th>\n",
       "      <td>910166</td>\n",
       "      <td>164782</td>\n",
       "      <td>18</td>\n",
       "      <td>3</td>\n",
       "      <td>2</td>\n",
       "      <td>4.0</td>\n",
       "    </tr>\n",
       "    <tr>\n",
       "      <th>459635</th>\n",
       "      <td>1680532</td>\n",
       "      <td>106435</td>\n",
       "      <td>6</td>\n",
       "      <td>3</td>\n",
       "      <td>2</td>\n",
       "      <td>21.0</td>\n",
       "    </tr>\n",
       "    <tr>\n",
       "      <th>468324</th>\n",
       "      <td>222962</td>\n",
       "      <td>54979</td>\n",
       "      <td>59</td>\n",
       "      <td>3</td>\n",
       "      <td>2</td>\n",
       "      <td>3.0</td>\n",
       "    </tr>\n",
       "    <tr>\n",
       "      <th>477526</th>\n",
       "      <td>2592344</td>\n",
       "      <td>46860</td>\n",
       "      <td>38</td>\n",
       "      <td>3</td>\n",
       "      <td>2</td>\n",
       "      <td>3.0</td>\n",
       "    </tr>\n",
       "  </tbody>\n",
       "</table>\n",
       "<p>106 rows × 6 columns</p>\n",
       "</div>"
      ],
      "text/plain": [
       "        order_id  user_id  order_number  order_dow  order_hour_of_day  \\\n",
       "4838     2766110   162084            41          3                  2   \n",
       "5156     2190225   138285            18          3                  2   \n",
       "15506     553049    58599            13          3                  2   \n",
       "18420     382357   120200            19          3                  2   \n",
       "24691     690242    77357             2          3                  2   \n",
       "...          ...      ...           ...        ...                ...   \n",
       "457013   3384021    14881             6          3                  2   \n",
       "458816    910166   164782            18          3                  2   \n",
       "459635   1680532   106435             6          3                  2   \n",
       "468324    222962    54979            59          3                  2   \n",
       "477526   2592344    46860            38          3                  2   \n",
       "\n",
       "        days_since_prior_order  \n",
       "4838                      16.0  \n",
       "5156                      11.0  \n",
       "15506                      7.0  \n",
       "18420                     11.0  \n",
       "24691                      9.0  \n",
       "...                        ...  \n",
       "457013                    30.0  \n",
       "458816                     4.0  \n",
       "459635                    21.0  \n",
       "468324                     3.0  \n",
       "477526                     3.0  \n",
       "\n",
       "[106 rows x 6 columns]"
      ]
     },
     "execution_count": 15,
     "metadata": {},
     "output_type": "execute_result"
    }
   ],
   "source": [
    "wednesday_2am_order = df_instacart[(df_instacart['order_dow'] == 3) & (df_instacart['order_hour_of_day'] == 2)] # filter for all orders placed Wednesday at 2:00 AM\n",
    "wednesday_2am_order "
   ]
  },
  {
   "cell_type": "code",
   "execution_count": 16,
   "id": "0b2396a2",
   "metadata": {},
   "outputs": [
    {
     "data": {
      "text/plain": [
       "0"
      ]
     },
     "metadata": {},
     "output_type": "display_data"
    }
   ],
   "source": [
    "display(df_instacart.duplicated().sum())# Double check for duplicate rows\n"
   ]
  },
  {
   "cell_type": "code",
   "execution_count": 17,
   "id": "0374d17d",
   "metadata": {},
   "outputs": [],
   "source": [
    "df_instacart = df_instacart.drop_duplicates(subset='order_id')"
   ]
  },
  {
   "cell_type": "code",
   "execution_count": 18,
   "id": "f6113ef1",
   "metadata": {},
   "outputs": [
    {
     "data": {
      "text/plain": [
       "0"
      ]
     },
     "metadata": {},
     "output_type": "display_data"
    }
   ],
   "source": [
    "duplicate = df_instacart['order_id'].duplicated().sum() # Double check for duplicate order IDs only\n",
    "display(duplicate)\n"
   ]
  },
  {
   "cell_type": "markdown",
   "id": "075fc895",
   "metadata": {},
   "source": [
    "<div class=\"alert alert-block alert-success\">✔️\n",
    "    \n",
    "\n",
    "__Reviewer's comment №1__\n",
    "\n",
    "Duplicate checking is the basis of data preprocessing"
   ]
  },
  {
   "cell_type": "markdown",
   "id": "263f2e24",
   "metadata": {},
   "source": [
    "# DUPLICATE IN INSTACART DATASETS\n",
    "\n",
    "***Duplicates here are expected in some columns like `user_id` because a single user can place multiple orders.For columns like `order_dow` and `order_hour_of_day` duplicates are also expected because multiple users could place orders the same days at the same hour, for column like `days_since_prior_order` duplicated could be possible if multiple customer happen to have the same frequency of orders.***\n",
    "\n",
    "**The choice of the codes used to handle duplicates items in the datasets was dictate by the information given on each column on the datasets**\n",
    "\n",
    "\n"
   ]
  },
  {
   "cell_type": "markdown",
   "id": "5e8905ae",
   "metadata": {},
   "source": []
  },
  {
   "cell_type": "markdown",
   "id": "45e6bc46",
   "metadata": {},
   "source": [
    "### `products` data frame"
   ]
  },
  {
   "cell_type": "code",
   "execution_count": 20,
   "id": "4a456c98",
   "metadata": {},
   "outputs": [],
   "source": [
    "df_products = df_products.drop_duplicates() # remove duplicates\n"
   ]
  },
  {
   "cell_type": "code",
   "execution_count": 21,
   "id": "321bc68e",
   "metadata": {},
   "outputs": [
    {
     "data": {
      "text/plain": [
       "0"
      ]
     },
     "execution_count": 21,
     "metadata": {},
     "output_type": "execute_result"
    }
   ],
   "source": [
    "df_products.duplicated().sum()"
   ]
  },
  {
   "cell_type": "code",
   "execution_count": 23,
   "id": "566cd039",
   "metadata": {},
   "outputs": [],
   "source": [
    "df_products = df_products.drop_duplicates(subset='product_name') # remove duplicate in product name column"
   ]
  },
  {
   "cell_type": "code",
   "execution_count": 24,
   "id": "5f465d47",
   "metadata": {},
   "outputs": [
    {
     "data": {
      "text/plain": [
       "0"
      ]
     },
     "metadata": {},
     "output_type": "display_data"
    }
   ],
   "source": [
    "dupl_products1 = df_products['product_name'].duplicated().sum()\n",
    "display(dupl_products1)"
   ]
  },
  {
   "cell_type": "code",
   "execution_count": 25,
   "id": "36e2f2c6",
   "metadata": {},
   "outputs": [],
   "source": [
    "df_products = df_products.drop_duplicates(subset='product_id') # remove duplicate in product id column\n"
   ]
  },
  {
   "cell_type": "code",
   "execution_count": 26,
   "id": "5f526b5b-8175-46fa-a0fd-441767d50e64",
   "metadata": {},
   "outputs": [
    {
     "data": {
      "text/plain": [
       "0"
      ]
     },
     "metadata": {},
     "output_type": "display_data"
    }
   ],
   "source": [
    "dupl_products = df_products['product_id'].duplicated().sum()\n",
    "display(dupl_products)# Check for fully duplicate rows\n"
   ]
  },
  {
   "cell_type": "code",
   "execution_count": 30,
   "id": "01efd02e",
   "metadata": {},
   "outputs": [],
   "source": [
    "not_missing_name = df_products['product_name'].dropna().duplicated(keep=False)# Check for duplicate product names that aren't missing\n"
   ]
  },
  {
   "cell_type": "code",
   "execution_count": 31,
   "id": "96d0752c",
   "metadata": {},
   "outputs": [
    {
     "name": "stdout",
     "output_type": "stream",
     "text": [
      "<class 'pandas.core.frame.DataFrame'>\n",
      "Int64Index: 48437 entries, 0 to 49693\n",
      "Data columns (total 4 columns):\n",
      " #   Column         Non-Null Count  Dtype \n",
      "---  ------         --------------  ----- \n",
      " 0   product_id     48437 non-null  int64 \n",
      " 1   product_name   48436 non-null  object\n",
      " 2   aisle_id       48437 non-null  int64 \n",
      " 3   department_id  48437 non-null  int64 \n",
      "dtypes: int64(3), object(1)\n",
      "memory usage: 1.8+ MB\n"
     ]
    }
   ],
   "source": [
    "df_products.info()"
   ]
  },
  {
   "cell_type": "code",
   "execution_count": 32,
   "id": "d778e42c",
   "metadata": {},
   "outputs": [
    {
     "data": {
      "text/plain": [
       "product_id        int64\n",
       "product_name     object\n",
       "aisle_id          int64\n",
       "department_id     int64\n",
       "dtype: object"
      ]
     },
     "execution_count": 32,
     "metadata": {},
     "output_type": "execute_result"
    }
   ],
   "source": [
    "df_products.dtypes"
   ]
  },
  {
   "cell_type": "markdown",
   "id": "59a17e96",
   "metadata": {},
   "source": [
    "# DUPLICATE IN PRODUCTS DATASETS\n",
    "\n",
    "**product_id` should be a unique identifier for each product and duplicates her will appear as if the same product is being recordedmultiple time. The possible cause here could be that the same product is entered into the system with different names or it could be an extraction problems.**\n",
    "\n",
    "**Columns like product_name,aisle_id and department_id duplicates are not so rare if multiple products carry the same name,or if multiple products are located in the same aisle or you have multiple products that belong to the same department.The causes for this possible duplicate could be an entry issues or even a merging data incorectly.**\n",
    "\n",
    "**Base on the description given for every columns on the datasets the choice for the coding synthax was a possible options**\n"
   ]
  },
  {
   "cell_type": "markdown",
   "id": "9da8d293",
   "metadata": {},
   "source": []
  },
  {
   "cell_type": "markdown",
   "id": "60f30db1",
   "metadata": {},
   "source": [
    "### `departments` data frame"
   ]
  },
  {
   "cell_type": "code",
   "execution_count": 33,
   "id": "fb410ad4-0fbf-4b80-bb09-23fdea79afe3",
   "metadata": {},
   "outputs": [
    {
     "data": {
      "text/plain": [
       "0"
      ]
     },
     "execution_count": 33,
     "metadata": {},
     "output_type": "execute_result"
    }
   ],
   "source": [
    "df_departments.duplicated().sum()# check for duplicate"
   ]
  },
  {
   "cell_type": "code",
   "execution_count": 34,
   "id": "332b12bb",
   "metadata": {},
   "outputs": [],
   "source": [
    "df_departments = df_departments.drop_duplicates(inplace=True)# remove duplicate"
   ]
  },
  {
   "cell_type": "markdown",
   "id": "889349c1",
   "metadata": {},
   "source": [
    "### `aisles` data frame"
   ]
  },
  {
   "cell_type": "code",
   "execution_count": 35,
   "id": "9da89fb9-4679-40f5-ad0d-c34df753a3f8",
   "metadata": {},
   "outputs": [
    {
     "data": {
      "text/plain": [
       "0"
      ]
     },
     "execution_count": 35,
     "metadata": {},
     "output_type": "execute_result"
    }
   ],
   "source": [
    "df_aisles.duplicated().sum()"
   ]
  },
  {
   "cell_type": "code",
   "execution_count": 36,
   "id": "da7c2822",
   "metadata": {},
   "outputs": [],
   "source": [
    "df_aisles = df_aisles.drop_duplicates()"
   ]
  },
  {
   "cell_type": "markdown",
   "id": "274cd06a",
   "metadata": {},
   "source": [
    "### `order_products` data frame"
   ]
  },
  {
   "cell_type": "code",
   "execution_count": 37,
   "id": "52326689-84a8-4b8f-a881-7c68780f62c9",
   "metadata": {},
   "outputs": [
    {
     "data": {
      "text/plain": [
       "0"
      ]
     },
     "execution_count": 37,
     "metadata": {},
     "output_type": "execute_result"
    }
   ],
   "source": [
    "df_order_products.duplicated().sum() # Check for fullly duplicate rows\n"
   ]
  },
  {
   "cell_type": "code",
   "execution_count": 38,
   "id": "7b861391",
   "metadata": {},
   "outputs": [
    {
     "data": {
      "text/plain": [
       "0"
      ]
     },
     "metadata": {},
     "output_type": "display_data"
    }
   ],
   "source": [
    "display(df_order_products.duplicated().sum())# Double check for any other tricky duplicates\n"
   ]
  },
  {
   "cell_type": "code",
   "execution_count": 39,
   "id": "57fb9d7a",
   "metadata": {},
   "outputs": [],
   "source": [
    "df_order_products = df_order_products.drop_duplicates()# Remove duplicate orders"
   ]
  },
  {
   "cell_type": "code",
   "execution_count": 40,
   "id": "ba9e5243",
   "metadata": {
    "scrolled": true
   },
   "outputs": [
    {
     "data": {
      "text/plain": [
       "0"
      ]
     },
     "metadata": {},
     "output_type": "display_data"
    }
   ],
   "source": [
    "display(df_order_products.duplicated().sum())# output confirm all duplicates remove"
   ]
  },
  {
   "cell_type": "code",
   "execution_count": 41,
   "id": "dcb6d5e4",
   "metadata": {},
   "outputs": [],
   "source": [
    "duplicate_0 = df_order_products[df_order_products.duplicated(subset=['order_id', 'product_id'])]"
   ]
  },
  {
   "cell_type": "code",
   "execution_count": 42,
   "id": "78fae3ed",
   "metadata": {},
   "outputs": [
    {
     "data": {
      "text/plain": [
       "order_id             0.0\n",
       "product_id           0.0\n",
       "add_to_cart_order    0.0\n",
       "reordered            0.0\n",
       "dtype: float64"
      ]
     },
     "metadata": {},
     "output_type": "display_data"
    }
   ],
   "source": [
    "display(duplicate_0.sum())"
   ]
  },
  {
   "cell_type": "markdown",
   "id": "834563c3",
   "metadata": {},
   "source": [
    "<div class=\"alert alert-block alert-success\">✔️\n",
    "    \n",
    "\n",
    "__Reviewer's comment №3__\n",
    "\n",
    "Great"
   ]
  },
  {
   "cell_type": "markdown",
   "id": "1e46de76",
   "metadata": {},
   "source": [
    "## Find and remove missing values\n"
   ]
  },
  {
   "cell_type": "markdown",
   "id": "c0aebd78",
   "metadata": {},
   "source": [
    "### `products` data frame"
   ]
  },
  {
   "cell_type": "code",
   "execution_count": 44,
   "id": "e96167bc",
   "metadata": {},
   "outputs": [
    {
     "data": {
      "text/plain": [
       "True"
      ]
     },
     "metadata": {},
     "output_type": "display_data"
    }
   ],
   "source": [
    "\n",
    "missing_product_id_100 = df_products[(df_products['aisle_id']==100)&(df_products['product_name'].isna())]# filter row where aisle_id is 100 and missing product name\n",
    "all_missing_in_100 = missing_product_id_100.shape[0] == df_products.query('aisle_id == 100').shape[0]# Are all of the missing product names associated with aisle ID 100?\n",
    "display(all_missing_in_100)"
   ]
  },
  {
   "cell_type": "code",
   "execution_count": 45,
   "id": "8fd0a541",
   "metadata": {},
   "outputs": [
    {
     "data": {
      "text/plain": [
       "True"
      ]
     },
     "metadata": {},
     "output_type": "display_data"
    }
   ],
   "source": [
    "missing_product_id_21 = df_products.query('department_id == 21 and product_name.isnull()')# filter row where aisle_id is 21\n",
    "all_missing_in_21 = missing_product_id_21.shape[0] == df_products.query('department_id == 21').shape[0]# Are all of the missing product names associated with aisle ID 100?\n",
    "display(all_missing_in_21) # Are all of the missing product names associated with department ID 21?\n"
   ]
  },
  {
   "cell_type": "code",
   "execution_count": 46,
   "id": "325c3464",
   "metadata": {
    "scrolled": true
   },
   "outputs": [
    {
     "data": {
      "text/html": [
       "<div>\n",
       "<style scoped>\n",
       "    .dataframe tbody tr th:only-of-type {\n",
       "        vertical-align: middle;\n",
       "    }\n",
       "\n",
       "    .dataframe tbody tr th {\n",
       "        vertical-align: top;\n",
       "    }\n",
       "\n",
       "    .dataframe thead th {\n",
       "        text-align: right;\n",
       "    }\n",
       "</style>\n",
       "<table border=\"1\" class=\"dataframe\">\n",
       "  <thead>\n",
       "    <tr style=\"text-align: right;\">\n",
       "      <th></th>\n",
       "      <th>product_id</th>\n",
       "      <th>product_name</th>\n",
       "      <th>aisle_id</th>\n",
       "      <th>department_id</th>\n",
       "    </tr>\n",
       "  </thead>\n",
       "  <tbody>\n",
       "    <tr>\n",
       "      <th>37</th>\n",
       "      <td>38</td>\n",
       "      <td>NaN</td>\n",
       "      <td>100</td>\n",
       "      <td>21</td>\n",
       "    </tr>\n",
       "  </tbody>\n",
       "</table>\n",
       "</div>"
      ],
      "text/plain": [
       "    product_id product_name  aisle_id  department_id\n",
       "37          38          NaN       100             21"
      ]
     },
     "metadata": {},
     "output_type": "display_data"
    },
    {
     "data": {
      "text/html": [
       "<div>\n",
       "<style scoped>\n",
       "    .dataframe tbody tr th:only-of-type {\n",
       "        vertical-align: middle;\n",
       "    }\n",
       "\n",
       "    .dataframe tbody tr th {\n",
       "        vertical-align: top;\n",
       "    }\n",
       "\n",
       "    .dataframe thead th {\n",
       "        text-align: right;\n",
       "    }\n",
       "</style>\n",
       "<table border=\"1\" class=\"dataframe\">\n",
       "  <thead>\n",
       "    <tr style=\"text-align: right;\">\n",
       "      <th></th>\n",
       "      <th>product_id</th>\n",
       "      <th>product_name</th>\n",
       "      <th>aisle_id</th>\n",
       "      <th>department_id</th>\n",
       "    </tr>\n",
       "  </thead>\n",
       "  <tbody>\n",
       "    <tr>\n",
       "      <th>37</th>\n",
       "      <td>38</td>\n",
       "      <td>NaN</td>\n",
       "      <td>100</td>\n",
       "      <td>21</td>\n",
       "    </tr>\n",
       "  </tbody>\n",
       "</table>\n",
       "</div>"
      ],
      "text/plain": [
       "    product_id product_name  aisle_id  department_id\n",
       "37          38          NaN       100             21"
      ]
     },
     "metadata": {},
     "output_type": "display_data"
    }
   ],
   "source": [
    "aisle_100 = df_products.query('aisle_id == 100')\n",
    "department_21 = df_products.query('department_id == 21')\n",
    "display(aisle_100)\n",
    "display(department_21)\n"
   ]
  },
  {
   "cell_type": "code",
   "execution_count": 47,
   "id": "6b295120",
   "metadata": {},
   "outputs": [],
   "source": [
    "fill_missing = df_products['product_name'].fillna('Unknown')# Fill missing product names with 'Unknown'\n"
   ]
  },
  {
   "cell_type": "markdown",
   "id": "1714ca0f",
   "metadata": {},
   "source": [
    "<div class=\"alert alert-block alert-success\">✔️\n",
    "    \n",
    "\n",
    "__Reviewer's comment №1__\n",
    "\n",
    "You chose the most correct way to replace the omissions in the categorical column. Well done!)"
   ]
  },
  {
   "cell_type": "markdown",
   "id": "fc70e5ad",
   "metadata": {},
   "source": [
    "# MISSING VALUES\n",
    "\n",
    "**Refering to the description of some columns in the datasets, some columns are typically unique identifier for each order and any\n",
    "missed value here will cause issues in identifying orders.The possible cause could be a data extraction problems, a transaction that was not fully completed or a logging problems.**\n",
    "\n",
    "**Base on the description given for every columns on the datasets the choice for the code synthax was a possible options**"
   ]
  },
  {
   "cell_type": "markdown",
   "id": "7eb45c86",
   "metadata": {},
   "source": [
    "### `orders` data frame"
   ]
  },
  {
   "cell_type": "code",
   "execution_count": 49,
   "id": "4fd79212",
   "metadata": {},
   "outputs": [
    {
     "name": "stdout",
     "output_type": "stream",
     "text": [
      "<class 'pandas.core.frame.DataFrame'>\n",
      "Int64Index: 4545007 entries, 0 to 4545006\n",
      "Data columns (total 4 columns):\n",
      " #   Column             Non-Null Count    Dtype  \n",
      "---  ------             --------------    -----  \n",
      " 0   order_id           4545007 non-null  int64  \n",
      " 1   product_id         4545007 non-null  int64  \n",
      " 2   add_to_cart_order  4544171 non-null  float64\n",
      " 3   reordered          4545007 non-null  int64  \n",
      "dtypes: float64(1), int64(3)\n",
      "memory usage: 173.4 MB\n"
     ]
    }
   ],
   "source": [
    "df_order_products.info(show_counts=True)"
   ]
  },
  {
   "cell_type": "code",
   "execution_count": 51,
   "id": "166e5a86",
   "metadata": {},
   "outputs": [
    {
     "data": {
      "text/plain": [
       "'No missing values found where it is not the customer first order.'"
      ]
     },
     "metadata": {},
     "output_type": "display_data"
    }
   ],
   "source": [
    "group_aggregate = df_order_products.groupby('order_id').agg(\n",
    "first_reodered=('reordered', 'first'), # will check if it is the first order\n",
    "product_id_count=('product_id', 'count'),# will count non-null values in product_id\n",
    "total_items=('product_id', 'size')).reset_index() # will count total items in the group\n",
    "group_aggregate['product_id_missing'] = group_aggregate['total_items']-group_aggregate['product_id_count'] # will calculate missing values\n",
    "missing_values = group_aggregate.query('first_reodered != 0 and product_id_missing > 0')# Are there any missing values where it's not a customer's first order?\n",
    "#display(missing_values)\n",
    "if not missing_values.empty:\n",
    "    random_row = missing_values.sample(n=1)\n",
    "    display(random_row)\n",
    "else:\n",
    "    display('No missing values found where it is not the customer first order.')"
   ]
  },
  {
   "cell_type": "markdown",
   "id": "69dc9ca4",
   "metadata": {},
   "source": [
    "### `order_products` data frame"
   ]
  },
  {
   "cell_type": "code",
   "execution_count": 52,
   "id": "9a78e5ee",
   "metadata": {},
   "outputs": [],
   "source": [
    "add_to_cart_order_min = df_order_products['add_to_cart_order'].min()\n",
    "add_to_cart_order_max =  df_order_products['add_to_cart_order'].max()\n",
    "reordered_min =  df_order_products['reordered'].min()\n",
    "reordered_max =  df_order_products['reordered'].max()# What are the min and max values in this column?\n"
   ]
  },
  {
   "cell_type": "code",
   "execution_count": 53,
   "id": "ab9d0c2b",
   "metadata": {},
   "outputs": [],
   "source": [
    "save_order = df_order_products[df_order_products['add_to_cart_order'].isna()]['order_id']# Save all order IDs with at least one missing value in 'add_to_cart_order'\n"
   ]
  },
  {
   "cell_type": "code",
   "execution_count": 56,
   "id": "54c31695",
   "metadata": {},
   "outputs": [
    {
     "data": {
      "text/plain": [
       "'Do all orders with missing values have more than 64 products?'"
      ]
     },
     "metadata": {},
     "output_type": "display_data"
    },
    {
     "data": {
      "text/plain": [
       "True"
      ]
     },
     "metadata": {},
     "output_type": "display_data"
    }
   ],
   "source": [
    "group_aggregate = df_order_products.groupby('order_id').agg(\n",
    "total_products=('product_id', 'size'),#count total products(including missing ones)\n",
    "non_missing_products=('product_id', 'count'),# count non-missing 'product_id'\n",
    ").reset_index()\n",
    "group_aggregate['missing_products']= group_aggregate['total_products'] - group_aggregate['non_missing_products']# will calculate the missing products\n",
    "order_64 = group_aggregate.query('missing_products > 0 and total_products > 64')# will find orders with missing values and more then 64 total product.\n",
    "order_with_missing = group_aggregate.query('missing_products > 0')#check if all orders with missing values have more than 64 products.\n",
    "condition_check = order_64.shape[0] == order_with_missing.shape[0]\n",
    "display('Do all orders with missing values have more than 64 products?',condition_check)# Do all orders with missing values have more than 64 products?\n"
   ]
  },
  {
   "cell_type": "code",
   "execution_count": 57,
   "id": "e9e4f42c",
   "metadata": {},
   "outputs": [
    {
     "name": "stdout",
     "output_type": "stream",
     "text": [
      "<class 'pandas.core.frame.DataFrame'>\n",
      "Int64Index: 4545007 entries, 0 to 4545006\n",
      "Data columns (total 4 columns):\n",
      " #   Column             Non-Null Count    Dtype  \n",
      "---  ------             --------------    -----  \n",
      " 0   order_id           4545007 non-null  int64  \n",
      " 1   product_id         4545007 non-null  int64  \n",
      " 2   add_to_cart_order  4544171 non-null  float64\n",
      " 3   reordered          4545007 non-null  int64  \n",
      "dtypes: float64(1), int64(3)\n",
      "memory usage: 302.4 MB\n"
     ]
    }
   ],
   "source": [
    "df_order_products.info(show_counts=True)"
   ]
  },
  {
   "cell_type": "code",
   "execution_count": 59,
   "id": "7a987d08",
   "metadata": {},
   "outputs": [],
   "source": [
    "df_order_products['order_id'] = df_order_products['order_id'].fillna(999)#replace missing values in column 'order_id' with 999\n",
    "df_order_products['product_id'] = df_order_products['product_id'].fillna(999)#replace missing values in column 'product_id' with 999\n",
    "df_order_products['add_to_cart_order'] = df_order_products['add_to_cart_order'].fillna(999)\n",
    "df_order_products['reordered'] = df_order_products['reordered'].fillna(999)\n",
    "df_order_products['add_to_cart_order'] = df_order_products['add_to_cart_order'].astype(int)# convert column to integer\n",
    "df_order_products['product_id'] = df_order_products['product_id'].astype(int)# convert column to integer\n",
    "# Replace missing values with 999 and convert column to integer type\n"
   ]
  },
  {
   "cell_type": "markdown",
   "id": "fea4bcc7",
   "metadata": {},
   "source": [
    "# MISSING VALUES\n",
    "\n",
    "**From the datasets and the given description of each column on the dataset it is possible that the type of missing could be a human error or a network error.**\n",
    "\n",
    "**The possible causes for those missing values could be diversed and depending also on the structure of the column, for example product id column a missing values here would make it impossible to identify a product\n",
    "and the cause could be an entry data error or a failure to assign an ID during product processing.**\n",
    "\n",
    "**Base on the description given for every columns on the datasets the choice for the coding synthax was a possible options**"
   ]
  },
  {
   "cell_type": "markdown",
   "id": "turkish-kidney",
   "metadata": {},
   "source": [
    "# [A] Easy (must complete all to pass)"
   ]
  },
  {
   "cell_type": "markdown",
   "id": "short-capability",
   "metadata": {},
   "source": [
    "### [A1] Verify that the `'order_hour_of_day'` and `'order_dow'` values in the `orders` tables are sensible (i.e. `'order_hour_of_day'` ranges from 0 to 23 and `'order_dow'` ranges from 0 to 6)"
   ]
  },
  {
   "cell_type": "code",
   "execution_count": 60,
   "id": "fc74740f",
   "metadata": {},
   "outputs": [],
   "source": [
    "import matplotlib.pyplot as plt"
   ]
  },
  {
   "cell_type": "code",
   "execution_count": 61,
   "id": "f499542c",
   "metadata": {},
   "outputs": [
    {
     "name": "stdout",
     "output_type": "stream",
     "text": [
      "<class 'pandas.core.frame.DataFrame'>\n",
      "Int64Index: 478952 entries, 0 to 478966\n",
      "Data columns (total 6 columns):\n",
      " #   Column                  Non-Null Count   Dtype  \n",
      "---  ------                  --------------   -----  \n",
      " 0   order_id                478952 non-null  int64  \n",
      " 1   user_id                 478952 non-null  int64  \n",
      " 2   order_number            478952 non-null  int64  \n",
      " 3   order_dow               478952 non-null  int64  \n",
      " 4   order_hour_of_day       478952 non-null  int64  \n",
      " 5   days_since_prior_order  450135 non-null  float64\n",
      "dtypes: float64(1), int64(5)\n",
      "memory usage: 25.6 MB\n"
     ]
    }
   ],
   "source": [
    "df_instacart.info(show_counts=True)"
   ]
  },
  {
   "cell_type": "code",
   "execution_count": 62,
   "id": "growing-fruit",
   "metadata": {},
   "outputs": [
    {
     "data": {
      "text/plain": [
       "'Order hour of day is sensible: True (range: 0 to 23)'"
      ]
     },
     "metadata": {},
     "output_type": "display_data"
    }
   ],
   "source": [
    "hour_of_day_min = df_instacart['order_hour_of_day'].min() # check for min range\n",
    "hour_of_day_max = df_instacart['order_hour_of_day'].max() #check for max range\n",
    "hour_sensible = (hour_of_day_min >= 0) & (hour_of_day_max <= 23) # verify if values are within sensible range\n",
    "display(f'Order hour of day is sensible: {hour_sensible} (range: {hour_of_day_min} to {hour_of_day_max})')\n",
    "if not hour_sensible:\n",
    "    display(f'Invalid order hour of day')"
   ]
  },
  {
   "cell_type": "code",
   "execution_count": 63,
   "id": "accessory-malaysia",
   "metadata": {},
   "outputs": [
    {
     "data": {
      "text/plain": [
       "'order dow is sensible: True range: 0 to 6'"
      ]
     },
     "metadata": {},
     "output_type": "display_data"
    }
   ],
   "source": [
    "dow_min = df_instacart['order_dow'].min()\n",
    "dow_max = df_instacart['order_dow'].max()\n",
    "dow_sensible = (dow_min >= 0) & (dow_max <= 6)\n",
    "display(f'order dow is sensible: {dow_sensible} range: {dow_min} to {dow_max}')\n",
    "if not dow_sensible:\n",
    "        display(f'Invalid order dow' )"
   ]
  },
  {
   "cell_type": "markdown",
   "id": "a6743a70",
   "metadata": {},
   "source": [
    "### [A2] What time of day do people shop for groceries?"
   ]
  },
  {
   "cell_type": "code",
   "execution_count": 64,
   "id": "a36cca27",
   "metadata": {},
   "outputs": [],
   "source": [
    "day_time_shopping = df_instacart['order_hour_of_day'].value_counts().sort_index()"
   ]
  },
  {
   "cell_type": "code",
   "execution_count": 65,
   "id": "13a25318",
   "metadata": {},
   "outputs": [
    {
     "data": {
      "image/png": "[encoded data removed]",
      "text/plain": [
       "<Figure size 1200x800 with 1 Axes>"
      ]
     },
     "metadata": {},
     "output_type": "display_data"
    }
   ],
   "source": [
    "order_per_hour = df_instacart.groupby('order_hour_of_day')['order_id'].count().reset_index(name='order_count')\n",
    "plt.figure(figsize=(12,8))\n",
    "plt.bar(order_per_hour['order_hour_of_day'],order_per_hour['order_count'],color='red')\n",
    "plt.title('Number of Order per Hour of the Day',fontsize=12)\n",
    "plt.xlabel('hour of the day',fontsize=10)\n",
    "plt.ylabel('Number of Orders',fontsize=10)\n",
    "plt.xticks(range(0,24))\n",
    "plt.grid(axis='y')\n",
    "plt.show()"
   ]
  },
  {
   "cell_type": "markdown",
   "id": "11270eed",
   "metadata": {},
   "source": [
    "# PLOT INTERPRETATION\n",
    "\n",
    "**The choice of the bar plot was prefer because it provide a clear and easy-to-interpret visualize data.\n",
    "Looking at the above plot we first notice that the first 6 hours of the day the volume of number of order is very small(under 5000)**\n",
    "\n",
    "**The plot also show the that from the 10 hour to the 16 hour(about) the number of order reach it peak at those hours and also remain a bit flat for few hour and start to decrease till the 23 hours.**\n",
    "\n",
    "**The 9-16 hour of the day \"VERRY GOOD FOR BUSINESS\"**"
   ]
  },
  {
   "cell_type": "markdown",
   "id": "997cd9bd",
   "metadata": {},
   "source": [
    "<div class=\"alert alert-block alert-success\">✔️\n",
    "    \n",
    "\n",
    "__Reviewer's comment №1__\n",
    "\n",
    "You're right to sign the charts"
   ]
  },
  {
   "cell_type": "markdown",
   "id": "documented-command",
   "metadata": {},
   "source": [
    "### [A3] What day of the week do people shop for groceries?"
   ]
  },
  {
   "cell_type": "code",
   "execution_count": 66,
   "id": "chief-digit",
   "metadata": {},
   "outputs": [],
   "source": [
    "day_of_week_shopping = df_instacart['order_dow'].value_counts().sort_index()"
   ]
  },
  {
   "cell_type": "code",
   "execution_count": 67,
   "id": "7f655bf8",
   "metadata": {},
   "outputs": [
    {
     "data": {
      "image/png": "[encoded data removed]",
      "text/plain": [
       "<Figure size 1000x500 with 1 Axes>"
      ]
     },
     "metadata": {},
     "output_type": "display_data"
    }
   ],
   "source": [
    "order_per_day = df_instacart.groupby('order_dow')['order_id'].count().reset_index(name='order_count')\n",
    "plt.figure(figsize=(10,5))\n",
    "plt.bar(order_per_day['order_dow'],order_per_day['order_count'],color='red')\n",
    "plt.title('Number of Order per Day of the Week',fontsize=12)\n",
    "plt.xlabel('Day of the Week',fontsize=10)\n",
    "plt.ylabel('Number of Orders',fontsize=10)\n",
    "plt.xticks(range(0,7))\n",
    "plt.grid(axis='y')\n",
    "plt.show()"
   ]
  },
  {
   "cell_type": "markdown",
   "id": "dominant-lightning",
   "metadata": {},
   "source": [
    "# PLOT INTERPRETATION\n",
    "\n",
    "**Looking at the above plot and assuming 0 is not \"uncertain\" that 0 is Sunday, we can confirm that Sunday and Monday are the day of the week the store have a peak performancenwith the number of orders.**\n",
    "\n",
    "**We do also notice that Tuesday , Friday and Saturday the number of orders stay flat(just a bit above 60000 orders)**\n",
    "\n",
    "**We can also confirm that Wednesday and Thursday are the days of the week that the store performance is at it lowest**"
   ]
  },
  {
   "cell_type": "markdown",
   "id": "cutting-concert",
   "metadata": {},
   "source": [
    "### [A4] How long do people wait until placing another order?"
   ]
  },
  {
   "cell_type": "code",
   "execution_count": 68,
   "id": "c231f523",
   "metadata": {},
   "outputs": [],
   "source": [
    "wait_time = df_instacart['days_since_prior_order'].value_counts().sort_index()"
   ]
  },
  {
   "cell_type": "markdown",
   "id": "discrete-vertex",
   "metadata": {},
   "source": []
  },
  {
   "cell_type": "code",
   "execution_count": 69,
   "id": "exciting-fantasy",
   "metadata": {},
   "outputs": [
    {
     "data": {
      "image/png": "[encoded data removed]",
      "text/plain": [
       "<Figure size 800x500 with 1 Axes>"
      ]
     },
     "metadata": {},
     "output_type": "display_data"
    }
   ],
   "source": [
    "plt.figure(figsize=(8,5))\n",
    "plt.hist(df_instacart['days_since_prior_order'].dropna(),color='red',bins=30,edgecolor='black')\n",
    "plt.title('Distribution of Day Between Orders',fontsize=12)\n",
    "plt.xlabel('Days Since Prior Order',fontsize=10)\n",
    "plt.ylabel('frequency',fontsize=10)\n",
    "plt.grid(axis='y')\n",
    "plt.show()\n"
   ]
  },
  {
   "cell_type": "markdown",
   "id": "8d926614",
   "metadata": {},
   "source": [
    "# HISTOGRAM INTERPRETATION\n",
    "\n",
    "**At first glence at the plot we noticed two peaks values on the days since prior order and some alternating values.**\n",
    "\n",
    "**The first peak appears on the 8 day  since \"Days Since Prior Order\" which could be read as people who wait 8 days have a higher frequency of order number**\n",
    "\n",
    "**The second even bigger peak happen on the 30 day since \"Day Since Prior Order\" which show that customer who wait 30 days have an even higher frequency of order number.**\n",
    "\n",
    "**The histogram also reveal that customer who wait from 1 to 7 day have some gradual increase in thier frequency of number of order. We also noticed that people who wait from 11 to 16 show some modesly flattening in thier frequency of number of order.**\n",
    "\n",
    "**We also noticed that people who wait from 17 to 29 day have a flat and minimum frequency of number of order**"
   ]
  },
  {
   "cell_type": "markdown",
   "id": "574daa93",
   "metadata": {},
   "source": [
    "<div class=\"alert alert-block alert-success\">✔️\n",
    "    \n",
    "\n",
    "__Reviewer's comment №1__\n",
    "\n",
    "The 0 values probably correspond to customers who placed more than one order on the same day."
   ]
  },
  {
   "cell_type": "markdown",
   "id": "tight-staff",
   "metadata": {},
   "source": [
    "# [B] Medium (must complete all to pass)"
   ]
  },
  {
   "cell_type": "markdown",
   "id": "packed-classic",
   "metadata": {},
   "source": [
    "### [B1] Is there a difference in `'order_hour_of_day'` distributions on Wednesdays and Saturdays? Plot the histograms for both days and describe the differences that you see."
   ]
  },
  {
   "cell_type": "code",
   "execution_count": 70,
   "id": "d89b8403",
   "metadata": {},
   "outputs": [],
   "source": [
    "#import matplotlib.pyplot as plt"
   ]
  },
  {
   "cell_type": "code",
   "execution_count": 71,
   "id": "797c90a8",
   "metadata": {
    "scrolled": true
   },
   "outputs": [
    {
     "data": {
      "image/png": "[encoded data removed]",
      "text/plain": [
       "<Figure size 640x480 with 1 Axes>"
      ]
     },
     "metadata": {},
     "output_type": "display_data"
    }
   ],
   "source": [
    "df_instacart[df_instacart['order_dow'] == 3]['order_hour_of_day'].plot(kind='hist',bins=24,color='red')# will filter wednesday order\n",
    "df_instacart[df_instacart['order_dow']== 6]['order_hour_of_day'].plot(kind='hist',bins=24,color='blue',alpha=.8)# will filter saturday order\n",
    "plt.title('Order Time Distribution')\n",
    "plt.xlabel('Hour of the Day')\n",
    "plt.ylabel('Number of Orders')\n",
    "plt.xticks(range(0,24))\n",
    "plt.grid(True)\n",
    "plt.legend(['Wednesday', 'Saturday'])\n",
    "plt.show()\n",
    "\n"
   ]
  },
  {
   "cell_type": "markdown",
   "id": "82c6f8c5",
   "metadata": {},
   "source": [
    "# Histogram Description\n",
    "\n",
    "## Wednesday:\n",
    "**The histogram distribution indicate that on early hours(5 first hours) of the day the orders number are almost non existant.**\n",
    "\n",
    "**The histogram indicate also that the initial orders stated in the early 6 hour of the day follow by some modest incrementation.**\n",
    "    \n",
    " **The numberof order reached it peak in the 10 hours of the day.From the 10.5 to 17 hours and 20 to 23 hours of the day there is virtually no orders recorded.**\n",
    "\n",
    "# Saturday:\n",
    "\n",
    "**At the first look the histogram indicate a very small number of order for the initial 5.5 hours of the day.After that we see a modest and consistant increase of oders till it reach it peak arround the 14.5 hours of the day.We then observe a sequential decrease on orders till the 23 hours of the day.**\n",
    "    \n",
    "    "
   ]
  },
  {
   "cell_type": "markdown",
   "id": "e3891143",
   "metadata": {},
   "source": [
    "### [B2] What's the distribution for the number of orders per customer?"
   ]
  },
  {
   "cell_type": "code",
   "execution_count": 72,
   "id": "d8c26c23",
   "metadata": {},
   "outputs": [
    {
     "data": {
      "text/plain": [
       "user_id\n",
       "2    2\n",
       "4    2\n",
       "5    1\n",
       "6    2\n",
       "7    2\n",
       "Name: order_id, dtype: int64"
      ]
     },
     "metadata": {},
     "output_type": "display_data"
    }
   ],
   "source": [
    "order_per_customer = df_instacart.groupby('user_id')['order_id'].count() # will group and count the number of order per customer\n",
    "display(order_per_customer.head())"
   ]
  },
  {
   "cell_type": "code",
   "execution_count": 73,
   "id": "00e69a66",
   "metadata": {},
   "outputs": [
    {
     "data": {
      "image/png": "[encoded data removed]",
      "text/plain": [
       "<Figure size 1000x500 with 1 Axes>"
      ]
     },
     "metadata": {},
     "output_type": "display_data"
    }
   ],
   "source": [
    "plt.figure(figsize=(10,5))\n",
    "plt.hist(order_per_customer,bins=30,color='red',edgecolor='black')\n",
    "plt.title('Distribution of Number of Orders per Customer')\n",
    "plt.xlabel('Number of customer')\n",
    "plt.ylabel('Number of orders')\n",
    "plt.grid(True)\n",
    "plt.show()"
   ]
  },
  {
   "cell_type": "markdown",
   "id": "d2eff7d5",
   "metadata": {},
   "source": []
  },
  {
   "cell_type": "markdown",
   "id": "54a0319c",
   "metadata": {},
   "source": [
    "### [B3] What are the top 20 popular products (display their id and name)?"
   ]
  },
  {
   "cell_type": "code",
   "execution_count": 75,
   "id": "15ba9929",
   "metadata": {},
   "outputs": [
    {
     "data": {
      "text/plain": [
       "product_id        int64\n",
       "product_name     object\n",
       "aisle_id          int64\n",
       "department_id     int64\n",
       "dtype: object"
      ]
     },
     "execution_count": 75,
     "metadata": {},
     "output_type": "execute_result"
    }
   ],
   "source": [
    "df_products.dtypes"
   ]
  },
  {
   "cell_type": "markdown",
   "id": "fff017ef",
   "metadata": {},
   "source": []
  },
  {
   "cell_type": "code",
   "execution_count": 77,
   "id": "bbcdd20b",
   "metadata": {},
   "outputs": [
    {
     "data": {
      "text/html": [
       "<div>\n",
       "<style scoped>\n",
       "    .dataframe tbody tr th:only-of-type {\n",
       "        vertical-align: middle;\n",
       "    }\n",
       "\n",
       "    .dataframe tbody tr th {\n",
       "        vertical-align: top;\n",
       "    }\n",
       "\n",
       "    .dataframe thead th {\n",
       "        text-align: right;\n",
       "    }\n",
       "</style>\n",
       "<table border=\"1\" class=\"dataframe\">\n",
       "  <thead>\n",
       "    <tr style=\"text-align: right;\">\n",
       "      <th></th>\n",
       "      <th>product_id</th>\n",
       "      <th>product_name</th>\n",
       "    </tr>\n",
       "  </thead>\n",
       "  <tbody>\n",
       "    <tr>\n",
       "      <th>0</th>\n",
       "      <td>1</td>\n",
       "      <td>Chocolate Sandwich Cookies</td>\n",
       "    </tr>\n",
       "    <tr>\n",
       "      <th>1</th>\n",
       "      <td>33112</td>\n",
       "      <td>Krinkle Cut Carolina BBQ Potato Chips</td>\n",
       "    </tr>\n",
       "    <tr>\n",
       "      <th>2</th>\n",
       "      <td>33103</td>\n",
       "      <td>Fresh Ground Turkey- 85% Lean/15% Fat</td>\n",
       "    </tr>\n",
       "    <tr>\n",
       "      <th>3</th>\n",
       "      <td>33104</td>\n",
       "      <td>Organic Unsweetened Ketchup</td>\n",
       "    </tr>\n",
       "    <tr>\n",
       "      <th>4</th>\n",
       "      <td>33105</td>\n",
       "      <td>French Vanilla Concentrated Liquid Coffee Creamer</td>\n",
       "    </tr>\n",
       "    <tr>\n",
       "      <th>5</th>\n",
       "      <td>33106</td>\n",
       "      <td>Organic Firm Tofu</td>\n",
       "    </tr>\n",
       "    <tr>\n",
       "      <th>6</th>\n",
       "      <td>33107</td>\n",
       "      <td>Homestyle Meals Organic Baby Food</td>\n",
       "    </tr>\n",
       "    <tr>\n",
       "      <th>7</th>\n",
       "      <td>33108</td>\n",
       "      <td>Bean &amp; Cheese &amp; Beef &amp; Bean Variety Pack Burritos</td>\n",
       "    </tr>\n",
       "    <tr>\n",
       "      <th>8</th>\n",
       "      <td>33109</td>\n",
       "      <td>Greek Plain Whole Milk Yogurt</td>\n",
       "    </tr>\n",
       "    <tr>\n",
       "      <th>9</th>\n",
       "      <td>33110</td>\n",
       "      <td>9” Ultra Strong Designer Paper Plates</td>\n",
       "    </tr>\n",
       "    <tr>\n",
       "      <th>10</th>\n",
       "      <td>33111</td>\n",
       "      <td>Sweet &amp; Salty Caramel</td>\n",
       "    </tr>\n",
       "    <tr>\n",
       "      <th>11</th>\n",
       "      <td>33113</td>\n",
       "      <td>Simply Potaoes Traditional Mashed Potatoes</td>\n",
       "    </tr>\n",
       "    <tr>\n",
       "      <th>12</th>\n",
       "      <td>33101</td>\n",
       "      <td>Organic Aloe Vera Juice</td>\n",
       "    </tr>\n",
       "    <tr>\n",
       "      <th>13</th>\n",
       "      <td>33114</td>\n",
       "      <td>Sport Chocolate Mint Protein Bar</td>\n",
       "    </tr>\n",
       "    <tr>\n",
       "      <th>14</th>\n",
       "      <td>33115</td>\n",
       "      <td>Old Chub Scotch Ale</td>\n",
       "    </tr>\n",
       "    <tr>\n",
       "      <th>15</th>\n",
       "      <td>33116</td>\n",
       "      <td>Organic Vegan Sundried Tomato Nut Cheese</td>\n",
       "    </tr>\n",
       "    <tr>\n",
       "      <th>16</th>\n",
       "      <td>33117</td>\n",
       "      <td>All Natural Gluten Free Dijon Mustard</td>\n",
       "    </tr>\n",
       "    <tr>\n",
       "      <th>17</th>\n",
       "      <td>33118</td>\n",
       "      <td>Bangkok Curry Instant Rice Noodle Soup</td>\n",
       "    </tr>\n",
       "    <tr>\n",
       "      <th>18</th>\n",
       "      <td>33119</td>\n",
       "      <td>Homestyle French Toast Sticks</td>\n",
       "    </tr>\n",
       "    <tr>\n",
       "      <th>19</th>\n",
       "      <td>33120</td>\n",
       "      <td>Organic Egg Whites</td>\n",
       "    </tr>\n",
       "  </tbody>\n",
       "</table>\n",
       "</div>"
      ],
      "text/plain": [
       "    product_id                                       product_name\n",
       "0            1                         Chocolate Sandwich Cookies\n",
       "1        33112              Krinkle Cut Carolina BBQ Potato Chips\n",
       "2        33103              Fresh Ground Turkey- 85% Lean/15% Fat\n",
       "3        33104                        Organic Unsweetened Ketchup\n",
       "4        33105  French Vanilla Concentrated Liquid Coffee Creamer\n",
       "5        33106                                  Organic Firm Tofu\n",
       "6        33107                  Homestyle Meals Organic Baby Food\n",
       "7        33108  Bean & Cheese & Beef & Bean Variety Pack Burritos\n",
       "8        33109                      Greek Plain Whole Milk Yogurt\n",
       "9        33110              9” Ultra Strong Designer Paper Plates\n",
       "10       33111                              Sweet & Salty Caramel\n",
       "11       33113         Simply Potaoes Traditional Mashed Potatoes\n",
       "12       33101                            Organic Aloe Vera Juice\n",
       "13       33114                   Sport Chocolate Mint Protein Bar\n",
       "14       33115                                Old Chub Scotch Ale\n",
       "15       33116           Organic Vegan Sundried Tomato Nut Cheese\n",
       "16       33117              All Natural Gluten Free Dijon Mustard\n",
       "17       33118             Bangkok Curry Instant Rice Noodle Soup\n",
       "18       33119                      Homestyle French Toast Sticks\n",
       "19       33120                                 Organic Egg Whites"
      ]
     },
     "metadata": {},
     "output_type": "display_data"
    }
   ],
   "source": [
    "product_count = df_products.groupby('product_id')['product_id'].count().reset_index(name='order_count')#time each product was ordered\n",
    "top_20 = product_count.sort_values(by='order_count',ascending=False).head(20)#will sort by number of orderin descending order\n",
    "top_20_with_name = top_20.merge(df_products[['product_id','product_name']].drop_duplicates(),on='product_id')#merge to get product_name\n",
    "display(top_20_with_name[['product_id','product_name']])"
   ]
  },
  {
   "cell_type": "markdown",
   "id": "7df00f47",
   "metadata": {},
   "source": []
  },
  {
   "cell_type": "markdown",
   "id": "gross-theme",
   "metadata": {},
   "source": [
    "# [C] Hard (must complete at least two to pass)"
   ]
  },
  {
   "cell_type": "markdown",
   "id": "romantic-deposit",
   "metadata": {},
   "source": [
    "### [C1] How many items do people typically buy in one order? What does the distribution look like?"
   ]
  },
  {
   "cell_type": "code",
   "execution_count": 78,
   "id": "sensitive-breathing",
   "metadata": {},
   "outputs": [
    {
     "name": "stdout",
     "output_type": "stream",
     "text": [
      "<class 'pandas.core.frame.DataFrame'>\n",
      "Int64Index: 4545007 entries, 0 to 4545006\n",
      "Data columns (total 4 columns):\n",
      " #   Column             Non-Null Count    Dtype\n",
      "---  ------             --------------    -----\n",
      " 0   order_id           4545007 non-null  int64\n",
      " 1   product_id         4545007 non-null  int64\n",
      " 2   add_to_cart_order  4545007 non-null  int64\n",
      " 3   reordered          4545007 non-null  int64\n",
      "dtypes: int64(4)\n",
      "memory usage: 302.4 MB\n"
     ]
    }
   ],
   "source": [
    "df_order_products.info(show_counts=True)"
   ]
  },
  {
   "cell_type": "code",
   "execution_count": 79,
   "id": "completed-frank",
   "metadata": {},
   "outputs": [],
   "source": [
    "items_in_order = df_order_products.groupby('order_id')['product_id'].count().reset_index(name='items_count')# will group and count items in each order\n"
   ]
  },
  {
   "cell_type": "code",
   "execution_count": 80,
   "id": "5be21cb9",
   "metadata": {},
   "outputs": [
    {
     "data": {
      "image/png": "[encoded data removed]",
      "text/plain": [
       "<Figure size 1200x800 with 1 Axes>"
      ]
     },
     "metadata": {},
     "output_type": "display_data"
    }
   ],
   "source": [
    "plt.figure(figsize=(12,8))\n",
    "plt.hist(items_in_order['items_count'],bins=35,color='red',edgecolor='black')\n",
    "plt.title('Distibution of Number of Items per Order')\n",
    "plt.xlabel('Number of Items')\n",
    "plt.ylabel('Number of Orders')\n",
    "plt.grid(True)\n",
    "plt.show()"
   ]
  },
  {
   "cell_type": "markdown",
   "id": "designed-mortality",
   "metadata": {},
   "source": [
    "# Plot interpretation\n",
    "\n",
    "Looking at the plot we can draw the following conclusion:\n",
    "\n",
    "The concentration of the maximum number of orders is at his peak when the number of items is small(approximally between 1-8 items)\n",
    "\n",
    "We also noticed a gradual decrease of the number of order as the number of items increases\n",
    "\n",
    "The plot also reveal that the number of order become non-existence as the number of items cross over 40 items"
   ]
  },
  {
   "cell_type": "markdown",
   "id": "5e6b5537",
   "metadata": {},
   "source": [
    "### [C2] What are the top 20 items that are reordered most frequently (display their names and product IDs)?"
   ]
  },
  {
   "cell_type": "code",
   "execution_count": 81,
   "id": "9374e55a",
   "metadata": {},
   "outputs": [],
   "source": [
    "reordered_items = df_order_products[df_order_products['reordered']==1]# will filter only reodered items"
   ]
  },
  {
   "cell_type": "code",
   "execution_count": 82,
   "id": "possible-change",
   "metadata": {
    "scrolled": true
   },
   "outputs": [],
   "source": [
    "reordered_counts = reordered_items.groupby('product_id')['product_id'].count().reset_index(name='reorder_count')\n",
    "#will group and count how many times each product was reordered"
   ]
  },
  {
   "cell_type": "code",
   "execution_count": 83,
   "id": "professional-surfing",
   "metadata": {
    "scrolled": true
   },
   "outputs": [],
   "source": [
    "top_20 = reordered_counts.sort_values(by='reorder_count',ascending=False).head(20)\n",
    "#will sort product by reoder count in descending\n",
    "merge_df = df_order_products.merge(df_products,on='product_id',how='inner')#will merge df_order_products with df_products\n",
    "top_20_name = top_20.merge(merge_df[['product_id','product_name']].drop_duplicates(),on='product_id')\n",
    "#will merge with product names"
   ]
  },
  {
   "cell_type": "code",
   "execution_count": 85,
   "id": "48dd3658",
   "metadata": {},
   "outputs": [
    {
     "data": {
      "text/html": [
       "<div>\n",
       "<style scoped>\n",
       "    .dataframe tbody tr th:only-of-type {\n",
       "        vertical-align: middle;\n",
       "    }\n",
       "\n",
       "    .dataframe tbody tr th {\n",
       "        vertical-align: top;\n",
       "    }\n",
       "\n",
       "    .dataframe thead th {\n",
       "        text-align: right;\n",
       "    }\n",
       "</style>\n",
       "<table border=\"1\" class=\"dataframe\">\n",
       "  <thead>\n",
       "    <tr style=\"text-align: right;\">\n",
       "      <th></th>\n",
       "      <th>product_id</th>\n",
       "      <th>product_name</th>\n",
       "    </tr>\n",
       "  </thead>\n",
       "  <tbody>\n",
       "    <tr>\n",
       "      <th>0</th>\n",
       "      <td>24852</td>\n",
       "      <td>Banana</td>\n",
       "    </tr>\n",
       "    <tr>\n",
       "      <th>1</th>\n",
       "      <td>13176</td>\n",
       "      <td>Bag of Organic Bananas</td>\n",
       "    </tr>\n",
       "    <tr>\n",
       "      <th>2</th>\n",
       "      <td>21137</td>\n",
       "      <td>Organic Strawberries</td>\n",
       "    </tr>\n",
       "    <tr>\n",
       "      <th>3</th>\n",
       "      <td>21903</td>\n",
       "      <td>Organic Baby Spinach</td>\n",
       "    </tr>\n",
       "    <tr>\n",
       "      <th>4</th>\n",
       "      <td>47209</td>\n",
       "      <td>Organic Hass Avocado</td>\n",
       "    </tr>\n",
       "    <tr>\n",
       "      <th>5</th>\n",
       "      <td>47766</td>\n",
       "      <td>Organic Avocado</td>\n",
       "    </tr>\n",
       "    <tr>\n",
       "      <th>6</th>\n",
       "      <td>27845</td>\n",
       "      <td>Organic Whole Milk</td>\n",
       "    </tr>\n",
       "    <tr>\n",
       "      <th>7</th>\n",
       "      <td>47626</td>\n",
       "      <td>Large Lemon</td>\n",
       "    </tr>\n",
       "    <tr>\n",
       "      <th>8</th>\n",
       "      <td>27966</td>\n",
       "      <td>Organic Raspberries</td>\n",
       "    </tr>\n",
       "    <tr>\n",
       "      <th>9</th>\n",
       "      <td>16797</td>\n",
       "      <td>Strawberries</td>\n",
       "    </tr>\n",
       "    <tr>\n",
       "      <th>10</th>\n",
       "      <td>26209</td>\n",
       "      <td>Limes</td>\n",
       "    </tr>\n",
       "    <tr>\n",
       "      <th>11</th>\n",
       "      <td>22935</td>\n",
       "      <td>Organic Yellow Onion</td>\n",
       "    </tr>\n",
       "    <tr>\n",
       "      <th>12</th>\n",
       "      <td>24964</td>\n",
       "      <td>Organic Garlic</td>\n",
       "    </tr>\n",
       "    <tr>\n",
       "      <th>13</th>\n",
       "      <td>45007</td>\n",
       "      <td>Organic Zucchini</td>\n",
       "    </tr>\n",
       "    <tr>\n",
       "      <th>14</th>\n",
       "      <td>49683</td>\n",
       "      <td>Cucumber Kirby</td>\n",
       "    </tr>\n",
       "    <tr>\n",
       "      <th>15</th>\n",
       "      <td>28204</td>\n",
       "      <td>Organic Fuji Apple</td>\n",
       "    </tr>\n",
       "    <tr>\n",
       "      <th>16</th>\n",
       "      <td>8277</td>\n",
       "      <td>Apple Honeycrisp Organic</td>\n",
       "    </tr>\n",
       "    <tr>\n",
       "      <th>17</th>\n",
       "      <td>39275</td>\n",
       "      <td>Organic Blueberries</td>\n",
       "    </tr>\n",
       "    <tr>\n",
       "      <th>18</th>\n",
       "      <td>5876</td>\n",
       "      <td>Organic Lemon</td>\n",
       "    </tr>\n",
       "    <tr>\n",
       "      <th>19</th>\n",
       "      <td>49235</td>\n",
       "      <td>Organic Half &amp; Half</td>\n",
       "    </tr>\n",
       "  </tbody>\n",
       "</table>\n",
       "</div>"
      ],
      "text/plain": [
       "    product_id              product_name\n",
       "0        24852                    Banana\n",
       "1        13176    Bag of Organic Bananas\n",
       "2        21137      Organic Strawberries\n",
       "3        21903      Organic Baby Spinach\n",
       "4        47209      Organic Hass Avocado\n",
       "5        47766           Organic Avocado\n",
       "6        27845        Organic Whole Milk\n",
       "7        47626               Large Lemon\n",
       "8        27966       Organic Raspberries\n",
       "9        16797              Strawberries\n",
       "10       26209                     Limes\n",
       "11       22935      Organic Yellow Onion\n",
       "12       24964            Organic Garlic\n",
       "13       45007          Organic Zucchini\n",
       "14       49683            Cucumber Kirby\n",
       "15       28204        Organic Fuji Apple\n",
       "16        8277  Apple Honeycrisp Organic\n",
       "17       39275       Organic Blueberries\n",
       "18        5876             Organic Lemon\n",
       "19       49235       Organic Half & Half"
      ]
     },
     "metadata": {},
     "output_type": "display_data"
    }
   ],
   "source": [
    "display(top_20_name[['product_id','product_name']])"
   ]
  },
  {
   "cell_type": "markdown",
   "id": "28ce9872",
   "metadata": {},
   "source": [
    "# CONCLUSION\n",
    "\n",
    "\n",
    "**As a reminder the primary goal of this project was to clean the data and used some filter to gain insight on the customer behavoir that could be used for possible improvement.**\n",
    "\n",
    "**Data cleaning was performed to handle missing values,normalization of certain columns headers and merging multiple datasets to create a unified view of the data.Plot was generated to facilitate a visaul understanding resulting from the filtering.**\n",
    "\n",
    "**Multiple findings was observed please do refer to cells above each plot or histogram for all the details**\n",
    "\n",
    "**This project have help me improve my understanding of data cleaning and filtering**\n",
    "\n",
    "**THANK YOU**"
   ]
  },
  {
   "cell_type": "markdown",
   "id": "5ed3a48d",
   "metadata": {},
   "source": [
    "<div class=\"alert alert-block alert-success\">✔️\n",
    "    \n",
    "\n",
    "__Reviewer's comment №3__\n",
    "\n",
    "\n",
    "Otherwise it's great😊. Your project is begging for github =)   \n",
    "    \n",
    "Congratulations on the successful completion of the project 😊👍\n",
    "And I wish you success in new works 😊"
   ]
  }
 ],
 "metadata": {
  "ExecuteTimeLog": [
   {
    "duration": 164,
    "start_time": "2024-09-18T19:51:32.700Z"
   },
   {
    "duration": 11,
    "start_time": "2024-09-18T20:01:25.444Z"
   },
   {
    "duration": 333,
    "start_time": "2024-09-18T20:06:48.855Z"
   },
   {
    "duration": 287,
    "start_time": "2024-09-18T20:06:49.191Z"
   },
   {
    "duration": 22,
    "start_time": "2024-09-18T20:06:57.432Z"
   },
   {
    "duration": 127,
    "start_time": "2024-09-18T20:09:49.461Z"
   },
   {
    "duration": 288,
    "start_time": "2024-09-18T20:10:05.787Z"
   },
   {
    "duration": 129,
    "start_time": "2024-09-18T20:10:06.077Z"
   },
   {
    "duration": 12,
    "start_time": "2024-09-18T20:10:15.577Z"
   },
   {
    "duration": 163,
    "start_time": "2024-09-19T16:31:18.057Z"
   },
   {
    "duration": 318,
    "start_time": "2024-09-19T16:31:33.523Z"
   },
   {
    "duration": 307,
    "start_time": "2024-09-19T16:31:33.844Z"
   },
   {
    "duration": 22,
    "start_time": "2024-09-19T16:31:45.555Z"
   },
   {
    "duration": 19,
    "start_time": "2024-09-19T16:36:42.089Z"
   },
   {
    "duration": 322,
    "start_time": "2024-09-19T16:37:00.198Z"
   },
   {
    "duration": 254,
    "start_time": "2024-09-19T16:37:00.522Z"
   },
   {
    "duration": 29,
    "start_time": "2024-09-19T16:37:00.778Z"
   },
   {
    "duration": 132,
    "start_time": "2024-09-19T16:37:00.809Z"
   },
   {
    "duration": 10,
    "start_time": "2024-09-19T16:37:00.943Z"
   },
   {
    "duration": 176,
    "start_time": "2024-09-19T16:38:36.482Z"
   },
   {
    "duration": 282,
    "start_time": "2024-09-19T16:38:52.146Z"
   },
   {
    "duration": 260,
    "start_time": "2024-09-19T16:38:52.430Z"
   },
   {
    "duration": 21,
    "start_time": "2024-09-19T16:38:52.692Z"
   },
   {
    "duration": 135,
    "start_time": "2024-09-19T16:38:52.715Z"
   },
   {
    "duration": 11,
    "start_time": "2024-09-19T16:38:52.852Z"
   },
   {
    "duration": 68,
    "start_time": "2024-09-19T16:38:52.864Z"
   },
   {
    "duration": 10,
    "start_time": "2024-09-19T16:38:52.934Z"
   },
   {
    "duration": 535,
    "start_time": "2024-09-19T16:44:50.678Z"
   },
   {
    "duration": 258,
    "start_time": "2024-09-19T16:48:05.393Z"
   },
   {
    "duration": 33,
    "start_time": "2024-09-19T16:49:46.042Z"
   },
   {
    "duration": 33,
    "start_time": "2024-09-19T16:50:26.707Z"
   },
   {
    "duration": 34,
    "start_time": "2024-09-19T16:50:47.538Z"
   },
   {
    "duration": 32,
    "start_time": "2024-09-19T16:51:05.398Z"
   },
   {
    "duration": 11,
    "start_time": "2024-09-19T16:51:18.674Z"
   },
   {
    "duration": 13,
    "start_time": "2024-09-19T16:52:57.128Z"
   },
   {
    "duration": 7,
    "start_time": "2024-09-19T16:53:00.903Z"
   },
   {
    "duration": 336,
    "start_time": "2024-09-19T16:53:18.103Z"
   },
   {
    "duration": 254,
    "start_time": "2024-09-19T16:53:18.441Z"
   },
   {
    "duration": 21,
    "start_time": "2024-09-19T16:53:18.696Z"
   },
   {
    "duration": 138,
    "start_time": "2024-09-19T16:53:18.719Z"
   },
   {
    "duration": 10,
    "start_time": "2024-09-19T16:53:18.860Z"
   },
   {
    "duration": 39,
    "start_time": "2024-09-19T16:53:18.872Z"
   },
   {
    "duration": 11,
    "start_time": "2024-09-19T16:53:18.913Z"
   },
   {
    "duration": 539,
    "start_time": "2024-09-19T16:53:18.926Z"
   },
   {
    "duration": 0,
    "start_time": "2024-09-19T16:53:19.468Z"
   },
   {
    "duration": 0,
    "start_time": "2024-09-19T16:53:19.469Z"
   },
   {
    "duration": 0,
    "start_time": "2024-09-19T16:53:19.470Z"
   },
   {
    "duration": 0,
    "start_time": "2024-09-19T16:53:19.471Z"
   },
   {
    "duration": 0,
    "start_time": "2024-09-19T16:53:19.486Z"
   },
   {
    "duration": 0,
    "start_time": "2024-09-19T16:53:19.488Z"
   },
   {
    "duration": 0,
    "start_time": "2024-09-19T16:53:19.489Z"
   },
   {
    "duration": 0,
    "start_time": "2024-09-19T16:53:19.490Z"
   },
   {
    "duration": 0,
    "start_time": "2024-09-19T16:53:19.491Z"
   },
   {
    "duration": 0,
    "start_time": "2024-09-19T16:53:19.491Z"
   },
   {
    "duration": 0,
    "start_time": "2024-09-19T16:53:19.492Z"
   },
   {
    "duration": 0,
    "start_time": "2024-09-19T16:53:19.493Z"
   },
   {
    "duration": 0,
    "start_time": "2024-09-19T16:53:19.496Z"
   },
   {
    "duration": 0,
    "start_time": "2024-09-19T16:53:19.498Z"
   },
   {
    "duration": 0,
    "start_time": "2024-09-19T16:53:19.500Z"
   },
   {
    "duration": 0,
    "start_time": "2024-09-19T16:53:19.501Z"
   },
   {
    "duration": 0,
    "start_time": "2024-09-19T16:53:19.503Z"
   },
   {
    "duration": 1,
    "start_time": "2024-09-19T16:53:19.504Z"
   },
   {
    "duration": 0,
    "start_time": "2024-09-19T16:53:19.506Z"
   },
   {
    "duration": 0,
    "start_time": "2024-09-19T16:53:19.507Z"
   },
   {
    "duration": 0,
    "start_time": "2024-09-19T16:53:19.509Z"
   },
   {
    "duration": 0,
    "start_time": "2024-09-19T16:53:19.510Z"
   },
   {
    "duration": 0,
    "start_time": "2024-09-19T16:53:19.512Z"
   },
   {
    "duration": 315,
    "start_time": "2024-09-19T16:53:49.220Z"
   },
   {
    "duration": 267,
    "start_time": "2024-09-19T16:53:49.537Z"
   },
   {
    "duration": 22,
    "start_time": "2024-09-19T16:53:49.805Z"
   },
   {
    "duration": 136,
    "start_time": "2024-09-19T16:53:49.829Z"
   },
   {
    "duration": 10,
    "start_time": "2024-09-19T16:53:49.967Z"
   },
   {
    "duration": 38,
    "start_time": "2024-09-19T16:53:49.979Z"
   },
   {
    "duration": 10,
    "start_time": "2024-09-19T16:53:50.019Z"
   },
   {
    "duration": 528,
    "start_time": "2024-09-19T16:53:50.031Z"
   },
   {
    "duration": 0,
    "start_time": "2024-09-19T16:53:50.562Z"
   },
   {
    "duration": 0,
    "start_time": "2024-09-19T16:53:50.563Z"
   },
   {
    "duration": 0,
    "start_time": "2024-09-19T16:53:50.564Z"
   },
   {
    "duration": 0,
    "start_time": "2024-09-19T16:53:50.565Z"
   },
   {
    "duration": 0,
    "start_time": "2024-09-19T16:53:50.566Z"
   },
   {
    "duration": 0,
    "start_time": "2024-09-19T16:53:50.567Z"
   },
   {
    "duration": 0,
    "start_time": "2024-09-19T16:53:50.568Z"
   },
   {
    "duration": 0,
    "start_time": "2024-09-19T16:53:50.569Z"
   },
   {
    "duration": 0,
    "start_time": "2024-09-19T16:53:50.586Z"
   },
   {
    "duration": 0,
    "start_time": "2024-09-19T16:53:50.588Z"
   },
   {
    "duration": 0,
    "start_time": "2024-09-19T16:53:50.589Z"
   },
   {
    "duration": 0,
    "start_time": "2024-09-19T16:53:50.590Z"
   },
   {
    "duration": 0,
    "start_time": "2024-09-19T16:53:50.591Z"
   },
   {
    "duration": 0,
    "start_time": "2024-09-19T16:53:50.593Z"
   },
   {
    "duration": 0,
    "start_time": "2024-09-19T16:53:50.594Z"
   },
   {
    "duration": 0,
    "start_time": "2024-09-19T16:53:50.595Z"
   },
   {
    "duration": 0,
    "start_time": "2024-09-19T16:53:50.596Z"
   },
   {
    "duration": 0,
    "start_time": "2024-09-19T16:53:50.597Z"
   },
   {
    "duration": 0,
    "start_time": "2024-09-19T16:53:50.598Z"
   },
   {
    "duration": 0,
    "start_time": "2024-09-19T16:53:50.599Z"
   },
   {
    "duration": 0,
    "start_time": "2024-09-19T16:53:50.600Z"
   },
   {
    "duration": 0,
    "start_time": "2024-09-19T16:53:50.601Z"
   },
   {
    "duration": 0,
    "start_time": "2024-09-19T16:53:50.602Z"
   },
   {
    "duration": 288,
    "start_time": "2024-09-19T16:54:42.248Z"
   },
   {
    "duration": 255,
    "start_time": "2024-09-19T16:54:42.538Z"
   },
   {
    "duration": 22,
    "start_time": "2024-09-19T16:54:42.795Z"
   },
   {
    "duration": 134,
    "start_time": "2024-09-19T16:54:42.820Z"
   },
   {
    "duration": 10,
    "start_time": "2024-09-19T16:54:42.956Z"
   },
   {
    "duration": 43,
    "start_time": "2024-09-19T16:54:42.968Z"
   },
   {
    "duration": 10,
    "start_time": "2024-09-19T16:54:43.013Z"
   },
   {
    "duration": 520,
    "start_time": "2024-09-19T16:55:20.622Z"
   },
   {
    "duration": 324,
    "start_time": "2024-09-19T16:55:46.895Z"
   },
   {
    "duration": 254,
    "start_time": "2024-09-19T16:55:47.221Z"
   },
   {
    "duration": 21,
    "start_time": "2024-09-19T16:55:47.477Z"
   },
   {
    "duration": 138,
    "start_time": "2024-09-19T16:55:47.500Z"
   },
   {
    "duration": 11,
    "start_time": "2024-09-19T16:55:47.639Z"
   },
   {
    "duration": 41,
    "start_time": "2024-09-19T16:55:47.651Z"
   },
   {
    "duration": 13,
    "start_time": "2024-09-19T16:55:47.694Z"
   },
   {
    "duration": 548,
    "start_time": "2024-09-19T16:55:52.763Z"
   },
   {
    "duration": 61,
    "start_time": "2024-09-19T16:57:30.803Z"
   },
   {
    "duration": 7,
    "start_time": "2024-09-19T16:59:33.767Z"
   },
   {
    "duration": 12,
    "start_time": "2024-09-19T16:59:38.646Z"
   },
   {
    "duration": 312,
    "start_time": "2024-09-19T16:59:54.688Z"
   },
   {
    "duration": 260,
    "start_time": "2024-09-19T16:59:55.003Z"
   },
   {
    "duration": 26,
    "start_time": "2024-09-19T16:59:55.264Z"
   },
   {
    "duration": 131,
    "start_time": "2024-09-19T16:59:55.292Z"
   },
   {
    "duration": 10,
    "start_time": "2024-09-19T16:59:55.425Z"
   },
   {
    "duration": 30,
    "start_time": "2024-09-19T16:59:55.436Z"
   },
   {
    "duration": 23,
    "start_time": "2024-09-19T16:59:55.468Z"
   },
   {
    "duration": 4,
    "start_time": "2024-09-19T16:59:55.494Z"
   },
   {
    "duration": 173,
    "start_time": "2024-09-19T17:00:05.274Z"
   },
   {
    "duration": 8,
    "start_time": "2024-09-19T17:00:27.365Z"
   },
   {
    "duration": 6,
    "start_time": "2024-09-19T17:01:30.181Z"
   },
   {
    "duration": 9,
    "start_time": "2024-09-19T17:01:35.077Z"
   },
   {
    "duration": 18,
    "start_time": "2024-09-19T17:02:31.437Z"
   },
   {
    "duration": 274,
    "start_time": "2024-09-19T17:02:51.353Z"
   },
   {
    "duration": 282,
    "start_time": "2024-09-19T17:02:51.630Z"
   },
   {
    "duration": 22,
    "start_time": "2024-09-19T17:02:51.913Z"
   },
   {
    "duration": 138,
    "start_time": "2024-09-19T17:02:51.938Z"
   },
   {
    "duration": 13,
    "start_time": "2024-09-19T17:02:52.078Z"
   },
   {
    "duration": 30,
    "start_time": "2024-09-19T17:02:52.093Z"
   },
   {
    "duration": 11,
    "start_time": "2024-09-19T17:02:52.125Z"
   },
   {
    "duration": 5,
    "start_time": "2024-09-19T17:02:52.137Z"
   },
   {
    "duration": 8,
    "start_time": "2024-09-19T17:02:52.144Z"
   },
   {
    "duration": 4,
    "start_time": "2024-09-19T17:02:52.154Z"
   },
   {
    "duration": 8,
    "start_time": "2024-09-19T17:02:57.824Z"
   },
   {
    "duration": 8,
    "start_time": "2024-09-19T17:03:47.774Z"
   },
   {
    "duration": 8,
    "start_time": "2024-09-19T17:03:59.735Z"
   },
   {
    "duration": 6,
    "start_time": "2024-09-19T17:04:09.082Z"
   },
   {
    "duration": 8,
    "start_time": "2024-09-19T17:04:12.211Z"
   },
   {
    "duration": 516,
    "start_time": "2024-09-19T17:05:42.118Z"
   },
   {
    "duration": 273,
    "start_time": "2024-09-19T17:06:29.869Z"
   },
   {
    "duration": 267,
    "start_time": "2024-09-19T17:06:30.145Z"
   },
   {
    "duration": 21,
    "start_time": "2024-09-19T17:06:30.414Z"
   },
   {
    "duration": 136,
    "start_time": "2024-09-19T17:06:30.436Z"
   },
   {
    "duration": 14,
    "start_time": "2024-09-19T17:06:30.575Z"
   },
   {
    "duration": 29,
    "start_time": "2024-09-19T17:06:30.592Z"
   },
   {
    "duration": 11,
    "start_time": "2024-09-19T17:06:30.622Z"
   },
   {
    "duration": 4,
    "start_time": "2024-09-19T17:06:30.634Z"
   },
   {
    "duration": 8,
    "start_time": "2024-09-19T17:06:30.640Z"
   },
   {
    "duration": 4,
    "start_time": "2024-09-19T17:06:30.650Z"
   },
   {
    "duration": 35,
    "start_time": "2024-09-19T17:06:30.656Z"
   },
   {
    "duration": 513,
    "start_time": "2024-09-19T17:06:38.331Z"
   },
   {
    "duration": 2125,
    "start_time": "2024-09-19T17:08:39.577Z"
   },
   {
    "duration": 6,
    "start_time": "2024-09-19T17:08:48.156Z"
   },
   {
    "duration": 798,
    "start_time": "2024-09-19T17:09:19.072Z"
   },
   {
    "duration": 8,
    "start_time": "2024-09-19T17:09:24.763Z"
   },
   {
    "duration": 8,
    "start_time": "2024-09-19T17:29:45.141Z"
   },
   {
    "duration": 8,
    "start_time": "2024-09-19T17:29:53.183Z"
   },
   {
    "duration": 27,
    "start_time": "2024-09-19T17:30:11.779Z"
   },
   {
    "duration": 25,
    "start_time": "2024-09-19T17:38:11.628Z"
   },
   {
    "duration": 14,
    "start_time": "2024-09-19T17:38:14.445Z"
   },
   {
    "duration": 158,
    "start_time": "2024-09-19T17:38:56.562Z"
   },
   {
    "duration": 339,
    "start_time": "2024-09-19T17:39:08.301Z"
   },
   {
    "duration": 301,
    "start_time": "2024-09-19T17:39:08.643Z"
   },
   {
    "duration": 20,
    "start_time": "2024-09-19T17:39:08.946Z"
   },
   {
    "duration": 133,
    "start_time": "2024-09-19T17:39:08.968Z"
   },
   {
    "duration": 11,
    "start_time": "2024-09-19T17:39:09.103Z"
   },
   {
    "duration": 30,
    "start_time": "2024-09-19T17:39:09.116Z"
   },
   {
    "duration": 10,
    "start_time": "2024-09-19T17:39:09.148Z"
   },
   {
    "duration": 26,
    "start_time": "2024-09-19T17:39:09.161Z"
   },
   {
    "duration": 8,
    "start_time": "2024-09-19T17:39:09.189Z"
   },
   {
    "duration": 5,
    "start_time": "2024-09-19T17:39:09.202Z"
   },
   {
    "duration": 8,
    "start_time": "2024-09-19T17:39:09.209Z"
   },
   {
    "duration": 728,
    "start_time": "2024-09-19T17:39:09.219Z"
   },
   {
    "duration": 24,
    "start_time": "2024-09-19T17:39:09.948Z"
   },
   {
    "duration": 19,
    "start_time": "2024-09-19T17:39:16.071Z"
   },
   {
    "duration": 293,
    "start_time": "2024-09-19T17:39:33.682Z"
   },
   {
    "duration": 266,
    "start_time": "2024-09-19T17:39:33.977Z"
   },
   {
    "duration": 22,
    "start_time": "2024-09-19T17:39:34.245Z"
   },
   {
    "duration": 144,
    "start_time": "2024-09-19T17:39:34.268Z"
   },
   {
    "duration": 11,
    "start_time": "2024-09-19T17:39:34.415Z"
   },
   {
    "duration": 32,
    "start_time": "2024-09-19T17:39:34.428Z"
   },
   {
    "duration": 33,
    "start_time": "2024-09-19T17:39:34.462Z"
   },
   {
    "duration": 5,
    "start_time": "2024-09-19T17:39:34.497Z"
   },
   {
    "duration": 9,
    "start_time": "2024-09-19T17:39:34.504Z"
   },
   {
    "duration": 6,
    "start_time": "2024-09-19T17:39:34.515Z"
   },
   {
    "duration": 8,
    "start_time": "2024-09-19T17:39:34.523Z"
   },
   {
    "duration": 741,
    "start_time": "2024-09-19T17:39:34.533Z"
   },
   {
    "duration": 23,
    "start_time": "2024-09-19T17:39:35.276Z"
   },
   {
    "duration": 15,
    "start_time": "2024-09-19T17:39:35.302Z"
   },
   {
    "duration": 180,
    "start_time": "2024-09-19T17:39:41.146Z"
   },
   {
    "duration": 14,
    "start_time": "2024-09-19T17:40:15.717Z"
   },
   {
    "duration": 314,
    "start_time": "2024-09-19T17:40:57.098Z"
   },
   {
    "duration": 308,
    "start_time": "2024-09-19T17:40:57.414Z"
   },
   {
    "duration": 22,
    "start_time": "2024-09-19T17:40:57.724Z"
   },
   {
    "duration": 145,
    "start_time": "2024-09-19T17:40:57.748Z"
   },
   {
    "duration": 11,
    "start_time": "2024-09-19T17:40:57.896Z"
   },
   {
    "duration": 31,
    "start_time": "2024-09-19T17:40:57.909Z"
   },
   {
    "duration": 12,
    "start_time": "2024-09-19T17:40:57.942Z"
   },
   {
    "duration": 6,
    "start_time": "2024-09-19T17:40:57.955Z"
   },
   {
    "duration": 32,
    "start_time": "2024-09-19T17:40:57.962Z"
   },
   {
    "duration": 5,
    "start_time": "2024-09-19T17:40:57.996Z"
   },
   {
    "duration": 8,
    "start_time": "2024-09-19T17:40:58.003Z"
   },
   {
    "duration": 760,
    "start_time": "2024-09-19T17:40:58.013Z"
   },
   {
    "duration": 23,
    "start_time": "2024-09-19T17:40:58.775Z"
   },
   {
    "duration": 22,
    "start_time": "2024-09-19T17:41:04.870Z"
   },
   {
    "duration": 184,
    "start_time": "2024-09-19T17:41:11.098Z"
   },
   {
    "duration": 3,
    "start_time": "2024-09-19T17:41:22.584Z"
   },
   {
    "duration": 282,
    "start_time": "2024-09-19T17:41:22.589Z"
   },
   {
    "duration": 21,
    "start_time": "2024-09-19T17:41:22.876Z"
   },
   {
    "duration": 136,
    "start_time": "2024-09-19T17:41:22.899Z"
   },
   {
    "duration": 10,
    "start_time": "2024-09-19T17:41:23.037Z"
   },
   {
    "duration": 40,
    "start_time": "2024-09-19T17:41:23.049Z"
   },
   {
    "duration": 15,
    "start_time": "2024-09-19T17:41:23.091Z"
   },
   {
    "duration": 6,
    "start_time": "2024-09-19T17:41:23.108Z"
   },
   {
    "duration": 8,
    "start_time": "2024-09-19T17:41:23.118Z"
   },
   {
    "duration": 9,
    "start_time": "2024-09-19T17:41:23.129Z"
   },
   {
    "duration": 18,
    "start_time": "2024-09-19T17:41:23.141Z"
   },
   {
    "duration": 736,
    "start_time": "2024-09-19T17:41:23.161Z"
   },
   {
    "duration": 22,
    "start_time": "2024-09-19T17:41:23.906Z"
   },
   {
    "duration": 16,
    "start_time": "2024-09-19T17:41:23.930Z"
   },
   {
    "duration": 14,
    "start_time": "2024-09-19T17:41:33.854Z"
   },
   {
    "duration": 277,
    "start_time": "2024-09-19T17:41:49.560Z"
   },
   {
    "duration": 287,
    "start_time": "2024-09-19T17:41:49.839Z"
   },
   {
    "duration": 21,
    "start_time": "2024-09-19T17:41:50.128Z"
   },
   {
    "duration": 139,
    "start_time": "2024-09-19T17:41:50.152Z"
   },
   {
    "duration": 11,
    "start_time": "2024-09-19T17:41:50.294Z"
   },
   {
    "duration": 31,
    "start_time": "2024-09-19T17:41:50.307Z"
   },
   {
    "duration": 12,
    "start_time": "2024-09-19T17:41:50.339Z"
   },
   {
    "duration": 6,
    "start_time": "2024-09-19T17:41:50.353Z"
   },
   {
    "duration": 9,
    "start_time": "2024-09-19T17:41:50.387Z"
   },
   {
    "duration": 7,
    "start_time": "2024-09-19T17:41:50.398Z"
   },
   {
    "duration": 9,
    "start_time": "2024-09-19T17:41:50.407Z"
   },
   {
    "duration": 738,
    "start_time": "2024-09-19T17:41:50.418Z"
   },
   {
    "duration": 29,
    "start_time": "2024-09-19T17:41:51.158Z"
   },
   {
    "duration": 17,
    "start_time": "2024-09-19T17:41:51.190Z"
   },
   {
    "duration": 176,
    "start_time": "2024-09-19T17:41:56.346Z"
   },
   {
    "duration": 12,
    "start_time": "2024-09-19T17:49:01.545Z"
   },
   {
    "duration": 13,
    "start_time": "2024-09-19T17:49:11.545Z"
   },
   {
    "duration": 350,
    "start_time": "2024-09-19T17:49:46.815Z"
   },
   {
    "duration": 279,
    "start_time": "2024-09-19T17:49:47.167Z"
   },
   {
    "duration": 22,
    "start_time": "2024-09-19T17:49:47.447Z"
   },
   {
    "duration": 137,
    "start_time": "2024-09-19T17:49:47.471Z"
   },
   {
    "duration": 10,
    "start_time": "2024-09-19T17:49:47.611Z"
   },
   {
    "duration": 30,
    "start_time": "2024-09-19T17:49:47.624Z"
   },
   {
    "duration": 13,
    "start_time": "2024-09-19T17:49:47.655Z"
   },
   {
    "duration": 5,
    "start_time": "2024-09-19T17:49:47.687Z"
   },
   {
    "duration": 8,
    "start_time": "2024-09-19T17:49:47.694Z"
   },
   {
    "duration": 5,
    "start_time": "2024-09-19T17:49:47.704Z"
   },
   {
    "duration": 8,
    "start_time": "2024-09-19T17:49:47.710Z"
   },
   {
    "duration": 746,
    "start_time": "2024-09-19T17:49:47.719Z"
   },
   {
    "duration": 33,
    "start_time": "2024-09-19T17:49:48.467Z"
   },
   {
    "duration": 12,
    "start_time": "2024-09-19T17:49:54.113Z"
   },
   {
    "duration": 9,
    "start_time": "2024-09-19T17:49:59.860Z"
   },
   {
    "duration": 179,
    "start_time": "2024-09-19T17:59:46.328Z"
   },
   {
    "duration": 4,
    "start_time": "2024-09-19T17:59:51.745Z"
   },
   {
    "duration": 9,
    "start_time": "2024-09-19T17:59:54.245Z"
   },
   {
    "duration": 15,
    "start_time": "2024-09-19T18:39:19.965Z"
   },
   {
    "duration": 236,
    "start_time": "2024-09-19T18:39:41.383Z"
   },
   {
    "duration": 3,
    "start_time": "2024-09-19T18:52:49.075Z"
   },
   {
    "duration": 19,
    "start_time": "2024-09-19T18:52:52.077Z"
   },
   {
    "duration": 292,
    "start_time": "2024-09-19T18:53:17.075Z"
   },
   {
    "duration": 303,
    "start_time": "2024-09-19T18:53:17.369Z"
   },
   {
    "duration": 27,
    "start_time": "2024-09-19T18:53:17.673Z"
   },
   {
    "duration": 136,
    "start_time": "2024-09-19T18:53:17.702Z"
   },
   {
    "duration": 13,
    "start_time": "2024-09-19T18:53:17.840Z"
   },
   {
    "duration": 46,
    "start_time": "2024-09-19T18:53:17.857Z"
   },
   {
    "duration": 12,
    "start_time": "2024-09-19T18:53:17.906Z"
   },
   {
    "duration": 7,
    "start_time": "2024-09-19T18:53:17.921Z"
   },
   {
    "duration": 9,
    "start_time": "2024-09-19T18:53:17.930Z"
   },
   {
    "duration": 6,
    "start_time": "2024-09-19T18:53:17.945Z"
   },
   {
    "duration": 8,
    "start_time": "2024-09-19T18:53:17.953Z"
   },
   {
    "duration": 772,
    "start_time": "2024-09-19T18:53:17.963Z"
   },
   {
    "duration": 25,
    "start_time": "2024-09-19T18:53:18.737Z"
   },
   {
    "duration": 103,
    "start_time": "2024-09-19T18:53:18.764Z"
   },
   {
    "duration": 20,
    "start_time": "2024-09-19T18:53:18.869Z"
   },
   {
    "duration": 8,
    "start_time": "2024-09-19T18:53:18.893Z"
   },
   {
    "duration": 3,
    "start_time": "2024-09-19T18:53:18.903Z"
   },
   {
    "duration": 384,
    "start_time": "2024-09-19T18:53:21.972Z"
   },
   {
    "duration": 6,
    "start_time": "2024-09-19T18:53:28.123Z"
   },
   {
    "duration": 18,
    "start_time": "2024-09-19T18:53:32.454Z"
   },
   {
    "duration": 19,
    "start_time": "2024-09-19T18:54:22.895Z"
   },
   {
    "duration": 4,
    "start_time": "2024-09-19T18:59:04.417Z"
   },
   {
    "duration": 20,
    "start_time": "2024-09-19T18:59:10.924Z"
   },
   {
    "duration": 364,
    "start_time": "2024-09-19T18:59:40.898Z"
   },
   {
    "duration": 286,
    "start_time": "2024-09-19T18:59:41.265Z"
   },
   {
    "duration": 33,
    "start_time": "2024-09-19T18:59:41.553Z"
   },
   {
    "duration": 133,
    "start_time": "2024-09-19T18:59:41.588Z"
   },
   {
    "duration": 11,
    "start_time": "2024-09-19T18:59:41.724Z"
   },
   {
    "duration": 31,
    "start_time": "2024-09-19T18:59:41.738Z"
   },
   {
    "duration": 26,
    "start_time": "2024-09-19T18:59:41.771Z"
   },
   {
    "duration": 5,
    "start_time": "2024-09-19T18:59:41.799Z"
   },
   {
    "duration": 10,
    "start_time": "2024-09-19T18:59:41.806Z"
   },
   {
    "duration": 5,
    "start_time": "2024-09-19T18:59:41.818Z"
   },
   {
    "duration": 7,
    "start_time": "2024-09-19T18:59:41.825Z"
   },
   {
    "duration": 753,
    "start_time": "2024-09-19T18:59:41.835Z"
   },
   {
    "duration": 25,
    "start_time": "2024-09-19T18:59:42.591Z"
   },
   {
    "duration": 103,
    "start_time": "2024-09-19T18:59:42.619Z"
   },
   {
    "duration": 12,
    "start_time": "2024-09-19T18:59:42.724Z"
   },
   {
    "duration": 9,
    "start_time": "2024-09-19T18:59:42.738Z"
   },
   {
    "duration": 5,
    "start_time": "2024-09-19T18:59:49.600Z"
   },
   {
    "duration": 434,
    "start_time": "2024-09-19T18:59:52.316Z"
   },
   {
    "duration": 343,
    "start_time": "2024-09-19T19:00:13.714Z"
   },
   {
    "duration": 306,
    "start_time": "2024-09-19T19:00:14.060Z"
   },
   {
    "duration": 26,
    "start_time": "2024-09-19T19:00:14.368Z"
   },
   {
    "duration": 137,
    "start_time": "2024-09-19T19:00:14.396Z"
   },
   {
    "duration": 11,
    "start_time": "2024-09-19T19:00:14.536Z"
   },
   {
    "duration": 42,
    "start_time": "2024-09-19T19:00:14.549Z"
   },
   {
    "duration": 11,
    "start_time": "2024-09-19T19:00:14.593Z"
   },
   {
    "duration": 5,
    "start_time": "2024-09-19T19:00:14.606Z"
   },
   {
    "duration": 8,
    "start_time": "2024-09-19T19:00:14.613Z"
   },
   {
    "duration": 5,
    "start_time": "2024-09-19T19:00:14.625Z"
   },
   {
    "duration": 8,
    "start_time": "2024-09-19T19:00:14.633Z"
   },
   {
    "duration": 749,
    "start_time": "2024-09-19T19:00:14.643Z"
   },
   {
    "duration": 33,
    "start_time": "2024-09-19T19:00:15.394Z"
   },
   {
    "duration": 102,
    "start_time": "2024-09-19T19:00:15.429Z"
   },
   {
    "duration": 11,
    "start_time": "2024-09-19T19:00:15.533Z"
   },
   {
    "duration": 9,
    "start_time": "2024-09-19T19:00:15.546Z"
   },
   {
    "duration": 3,
    "start_time": "2024-09-19T19:00:15.558Z"
   },
   {
    "duration": 376,
    "start_time": "2024-09-19T19:00:19.957Z"
   },
   {
    "duration": 19,
    "start_time": "2024-09-19T19:01:21.816Z"
   },
   {
    "duration": 3,
    "start_time": "2024-09-19T19:01:29.098Z"
   },
   {
    "duration": 281,
    "start_time": "2024-09-19T19:01:29.120Z"
   },
   {
    "duration": 23,
    "start_time": "2024-09-19T19:01:29.403Z"
   },
   {
    "duration": 161,
    "start_time": "2024-09-19T19:01:29.428Z"
   },
   {
    "duration": 13,
    "start_time": "2024-09-19T19:01:29.591Z"
   },
   {
    "duration": 39,
    "start_time": "2024-09-19T19:01:29.607Z"
   },
   {
    "duration": 13,
    "start_time": "2024-09-19T19:01:29.650Z"
   },
   {
    "duration": 25,
    "start_time": "2024-09-19T19:01:29.665Z"
   },
   {
    "duration": 9,
    "start_time": "2024-09-19T19:01:29.692Z"
   },
   {
    "duration": 6,
    "start_time": "2024-09-19T19:01:29.702Z"
   },
   {
    "duration": 11,
    "start_time": "2024-09-19T19:01:29.710Z"
   },
   {
    "duration": 762,
    "start_time": "2024-09-19T19:01:29.724Z"
   },
   {
    "duration": 23,
    "start_time": "2024-09-19T19:01:30.488Z"
   },
   {
    "duration": 92,
    "start_time": "2024-09-19T19:01:30.512Z"
   },
   {
    "duration": 15,
    "start_time": "2024-09-19T19:01:30.608Z"
   },
   {
    "duration": 8,
    "start_time": "2024-09-19T19:01:30.625Z"
   },
   {
    "duration": 4,
    "start_time": "2024-09-19T19:01:30.636Z"
   },
   {
    "duration": 18,
    "start_time": "2024-09-19T19:01:36.732Z"
   },
   {
    "duration": 4,
    "start_time": "2024-09-19T19:04:26.232Z"
   },
   {
    "duration": 19,
    "start_time": "2024-09-19T19:04:30.437Z"
   },
   {
    "duration": 4,
    "start_time": "2024-09-19T19:11:38.275Z"
   },
   {
    "duration": 11,
    "start_time": "2024-09-19T19:12:29.678Z"
   },
   {
    "duration": 19,
    "start_time": "2024-09-19T19:14:09.412Z"
   },
   {
    "duration": 6,
    "start_time": "2024-09-19T19:14:37.290Z"
   },
   {
    "duration": 7,
    "start_time": "2024-09-19T19:34:46.526Z"
   },
   {
    "duration": 5,
    "start_time": "2024-09-19T19:37:59.619Z"
   },
   {
    "duration": 6,
    "start_time": "2024-09-19T19:40:38.677Z"
   },
   {
    "duration": 6,
    "start_time": "2024-09-19T19:41:07.054Z"
   },
   {
    "duration": 4,
    "start_time": "2024-09-19T19:44:27.623Z"
   },
   {
    "duration": 4,
    "start_time": "2024-09-19T19:50:02.741Z"
   },
   {
    "duration": 12,
    "start_time": "2024-09-19T19:50:39.928Z"
   },
   {
    "duration": 5,
    "start_time": "2024-09-19T19:51:33.256Z"
   },
   {
    "duration": 13,
    "start_time": "2024-09-19T20:25:42.690Z"
   },
   {
    "duration": 13,
    "start_time": "2024-09-19T20:32:42.464Z"
   },
   {
    "duration": 12,
    "start_time": "2024-09-19T20:33:36.675Z"
   },
   {
    "duration": 316,
    "start_time": "2024-09-19T20:34:23.040Z"
   },
   {
    "duration": 285,
    "start_time": "2024-09-19T20:34:23.358Z"
   },
   {
    "duration": 24,
    "start_time": "2024-09-19T20:34:23.645Z"
   },
   {
    "duration": 154,
    "start_time": "2024-09-19T20:34:23.671Z"
   },
   {
    "duration": 10,
    "start_time": "2024-09-19T20:34:23.828Z"
   },
   {
    "duration": 32,
    "start_time": "2024-09-19T20:34:23.840Z"
   },
   {
    "duration": 21,
    "start_time": "2024-09-19T20:34:23.874Z"
   },
   {
    "duration": 6,
    "start_time": "2024-09-19T20:34:23.897Z"
   },
   {
    "duration": 11,
    "start_time": "2024-09-19T20:34:23.906Z"
   },
   {
    "duration": 6,
    "start_time": "2024-09-19T20:34:23.919Z"
   },
   {
    "duration": 9,
    "start_time": "2024-09-19T20:34:23.927Z"
   },
   {
    "duration": 759,
    "start_time": "2024-09-19T20:34:23.939Z"
   },
   {
    "duration": 26,
    "start_time": "2024-09-19T20:34:24.700Z"
   },
   {
    "duration": 108,
    "start_time": "2024-09-19T20:34:24.729Z"
   },
   {
    "duration": 10,
    "start_time": "2024-09-19T20:34:24.839Z"
   },
   {
    "duration": 10,
    "start_time": "2024-09-19T20:34:24.851Z"
   },
   {
    "duration": 3,
    "start_time": "2024-09-19T20:34:24.863Z"
   },
   {
    "duration": 10,
    "start_time": "2024-09-19T20:34:24.888Z"
   },
   {
    "duration": 8,
    "start_time": "2024-09-19T20:34:24.900Z"
   },
   {
    "duration": 5,
    "start_time": "2024-09-19T20:34:24.910Z"
   },
   {
    "duration": 4,
    "start_time": "2024-09-19T20:34:24.917Z"
   },
   {
    "duration": 17,
    "start_time": "2024-09-19T20:34:24.923Z"
   },
   {
    "duration": 173,
    "start_time": "2024-09-19T20:34:28.472Z"
   },
   {
    "duration": 15,
    "start_time": "2024-09-19T20:34:41.105Z"
   },
   {
    "duration": 13,
    "start_time": "2024-09-19T20:35:37.944Z"
   },
   {
    "duration": 286,
    "start_time": "2024-09-19T20:37:40.057Z"
   },
   {
    "duration": 284,
    "start_time": "2024-09-19T20:37:40.346Z"
   },
   {
    "duration": 21,
    "start_time": "2024-09-19T20:37:40.632Z"
   },
   {
    "duration": 140,
    "start_time": "2024-09-19T20:37:40.655Z"
   },
   {
    "duration": 11,
    "start_time": "2024-09-19T20:37:40.798Z"
   },
   {
    "duration": 32,
    "start_time": "2024-09-19T20:37:40.811Z"
   },
   {
    "duration": 11,
    "start_time": "2024-09-19T20:37:40.846Z"
   },
   {
    "duration": 6,
    "start_time": "2024-09-19T20:37:40.859Z"
   },
   {
    "duration": 28,
    "start_time": "2024-09-19T20:37:40.866Z"
   },
   {
    "duration": 6,
    "start_time": "2024-09-19T20:37:40.896Z"
   },
   {
    "duration": 8,
    "start_time": "2024-09-19T20:37:40.904Z"
   },
   {
    "duration": 736,
    "start_time": "2024-09-19T20:37:40.914Z"
   },
   {
    "duration": 26,
    "start_time": "2024-09-19T20:37:41.652Z"
   },
   {
    "duration": 97,
    "start_time": "2024-09-19T20:37:41.689Z"
   },
   {
    "duration": 11,
    "start_time": "2024-09-19T20:37:41.788Z"
   },
   {
    "duration": 9,
    "start_time": "2024-09-19T20:37:41.801Z"
   },
   {
    "duration": 4,
    "start_time": "2024-09-19T20:37:41.811Z"
   },
   {
    "duration": 10,
    "start_time": "2024-09-19T20:37:41.817Z"
   },
   {
    "duration": 9,
    "start_time": "2024-09-19T20:37:41.829Z"
   },
   {
    "duration": 5,
    "start_time": "2024-09-19T20:37:41.840Z"
   },
   {
    "duration": 41,
    "start_time": "2024-09-19T20:37:41.847Z"
   },
   {
    "duration": 16,
    "start_time": "2024-09-19T20:37:41.891Z"
   },
   {
    "duration": 3,
    "start_time": "2024-09-19T20:37:45.898Z"
   },
   {
    "duration": 173,
    "start_time": "2024-09-19T20:37:47.358Z"
   },
   {
    "duration": 158,
    "start_time": "2024-09-20T17:23:07.954Z"
   },
   {
    "duration": 278,
    "start_time": "2024-09-20T17:23:38.514Z"
   },
   {
    "duration": 266,
    "start_time": "2024-09-20T17:23:38.794Z"
   },
   {
    "duration": 20,
    "start_time": "2024-09-20T17:23:39.062Z"
   },
   {
    "duration": 131,
    "start_time": "2024-09-20T17:23:39.084Z"
   },
   {
    "duration": 10,
    "start_time": "2024-09-20T17:23:39.217Z"
   },
   {
    "duration": 52,
    "start_time": "2024-09-20T17:23:39.228Z"
   },
   {
    "duration": 11,
    "start_time": "2024-09-20T17:23:39.282Z"
   },
   {
    "duration": 8,
    "start_time": "2024-09-20T17:23:39.295Z"
   },
   {
    "duration": 7,
    "start_time": "2024-09-20T17:23:39.304Z"
   },
   {
    "duration": 8,
    "start_time": "2024-09-20T17:23:39.313Z"
   },
   {
    "duration": 7,
    "start_time": "2024-09-20T17:23:39.322Z"
   },
   {
    "duration": 825,
    "start_time": "2024-09-20T17:23:39.331Z"
   },
   {
    "duration": 24,
    "start_time": "2024-09-20T17:23:40.158Z"
   },
   {
    "duration": 92,
    "start_time": "2024-09-20T17:23:40.186Z"
   },
   {
    "duration": 10,
    "start_time": "2024-09-20T17:23:40.280Z"
   },
   {
    "duration": 8,
    "start_time": "2024-09-20T17:23:40.292Z"
   },
   {
    "duration": 4,
    "start_time": "2024-09-20T17:23:40.302Z"
   },
   {
    "duration": 35,
    "start_time": "2024-09-20T17:23:40.307Z"
   },
   {
    "duration": 7,
    "start_time": "2024-09-20T17:23:40.344Z"
   },
   {
    "duration": 4,
    "start_time": "2024-09-20T17:23:40.353Z"
   },
   {
    "duration": 4,
    "start_time": "2024-09-20T17:23:40.359Z"
   },
   {
    "duration": 31,
    "start_time": "2024-09-20T17:23:44.499Z"
   },
   {
    "duration": 13,
    "start_time": "2024-09-20T17:23:47.340Z"
   },
   {
    "duration": 173,
    "start_time": "2024-09-20T17:23:49.148Z"
   },
   {
    "duration": 12,
    "start_time": "2024-09-20T17:25:00.683Z"
   },
   {
    "duration": 267,
    "start_time": "2024-09-20T17:25:32.628Z"
   },
   {
    "duration": 246,
    "start_time": "2024-09-20T17:25:32.898Z"
   },
   {
    "duration": 26,
    "start_time": "2024-09-20T17:25:33.146Z"
   },
   {
    "duration": 137,
    "start_time": "2024-09-20T17:25:33.174Z"
   },
   {
    "duration": 10,
    "start_time": "2024-09-20T17:25:33.314Z"
   },
   {
    "duration": 38,
    "start_time": "2024-09-20T17:25:33.325Z"
   },
   {
    "duration": 10,
    "start_time": "2024-09-20T17:25:33.365Z"
   },
   {
    "duration": 5,
    "start_time": "2024-09-20T17:25:33.377Z"
   },
   {
    "duration": 7,
    "start_time": "2024-09-20T17:25:33.384Z"
   },
   {
    "duration": 6,
    "start_time": "2024-09-20T17:25:33.393Z"
   },
   {
    "duration": 7,
    "start_time": "2024-09-20T17:25:33.400Z"
   },
   {
    "duration": 741,
    "start_time": "2024-09-20T17:25:33.409Z"
   },
   {
    "duration": 23,
    "start_time": "2024-09-20T17:25:34.152Z"
   },
   {
    "duration": 100,
    "start_time": "2024-09-20T17:25:34.179Z"
   },
   {
    "duration": 10,
    "start_time": "2024-09-20T17:25:34.280Z"
   },
   {
    "duration": 9,
    "start_time": "2024-09-20T17:25:34.291Z"
   },
   {
    "duration": 4,
    "start_time": "2024-09-20T17:25:34.301Z"
   },
   {
    "duration": 10,
    "start_time": "2024-09-20T17:25:34.306Z"
   },
   {
    "duration": 32,
    "start_time": "2024-09-20T17:25:34.317Z"
   },
   {
    "duration": 6,
    "start_time": "2024-09-20T17:25:34.351Z"
   },
   {
    "duration": 5,
    "start_time": "2024-09-20T17:25:34.358Z"
   },
   {
    "duration": 32,
    "start_time": "2024-09-20T17:25:34.364Z"
   },
   {
    "duration": 13,
    "start_time": "2024-09-20T17:25:34.398Z"
   },
   {
    "duration": 2,
    "start_time": "2024-09-20T17:25:37.710Z"
   },
   {
    "duration": 176,
    "start_time": "2024-09-20T17:25:39.177Z"
   },
   {
    "duration": 14,
    "start_time": "2024-09-20T17:39:58.772Z"
   },
   {
    "duration": 33,
    "start_time": "2024-09-20T18:01:40.984Z"
   },
   {
    "duration": 14,
    "start_time": "2024-09-20T18:01:42.553Z"
   },
   {
    "duration": 13,
    "start_time": "2024-09-20T18:01:43.842Z"
   },
   {
    "duration": 327,
    "start_time": "2024-09-20T18:02:54.062Z"
   },
   {
    "duration": 271,
    "start_time": "2024-09-20T18:02:54.392Z"
   },
   {
    "duration": 21,
    "start_time": "2024-09-20T18:02:54.665Z"
   },
   {
    "duration": 131,
    "start_time": "2024-09-20T18:02:54.689Z"
   },
   {
    "duration": 9,
    "start_time": "2024-09-20T18:02:54.822Z"
   },
   {
    "duration": 31,
    "start_time": "2024-09-20T18:02:54.842Z"
   },
   {
    "duration": 10,
    "start_time": "2024-09-20T18:02:54.875Z"
   },
   {
    "duration": 7,
    "start_time": "2024-09-20T18:02:54.887Z"
   },
   {
    "duration": 8,
    "start_time": "2024-09-20T18:02:54.895Z"
   },
   {
    "duration": 6,
    "start_time": "2024-09-20T18:02:54.906Z"
   },
   {
    "duration": 33,
    "start_time": "2024-09-20T18:02:54.913Z"
   },
   {
    "duration": 723,
    "start_time": "2024-09-20T18:02:54.948Z"
   },
   {
    "duration": 23,
    "start_time": "2024-09-20T18:02:55.673Z"
   },
   {
    "duration": 92,
    "start_time": "2024-09-20T18:02:55.697Z"
   },
   {
    "duration": 11,
    "start_time": "2024-09-20T18:02:55.791Z"
   },
   {
    "duration": 8,
    "start_time": "2024-09-20T18:02:55.803Z"
   },
   {
    "duration": 4,
    "start_time": "2024-09-20T18:02:55.812Z"
   },
   {
    "duration": 31,
    "start_time": "2024-09-20T18:02:55.818Z"
   },
   {
    "duration": 7,
    "start_time": "2024-09-20T18:02:55.851Z"
   },
   {
    "duration": 5,
    "start_time": "2024-09-20T18:02:55.859Z"
   },
   {
    "duration": 4,
    "start_time": "2024-09-20T18:02:55.866Z"
   },
   {
    "duration": 31,
    "start_time": "2024-09-20T18:02:55.871Z"
   },
   {
    "duration": 41,
    "start_time": "2024-09-20T18:02:55.904Z"
   },
   {
    "duration": 177,
    "start_time": "2024-09-20T18:03:01.924Z"
   },
   {
    "duration": 13,
    "start_time": "2024-09-20T18:03:11.162Z"
   },
   {
    "duration": 279,
    "start_time": "2024-09-20T18:03:26.915Z"
   },
   {
    "duration": 258,
    "start_time": "2024-09-20T18:03:27.196Z"
   },
   {
    "duration": 20,
    "start_time": "2024-09-20T18:03:27.456Z"
   },
   {
    "duration": 138,
    "start_time": "2024-09-20T18:03:27.478Z"
   },
   {
    "duration": 11,
    "start_time": "2024-09-20T18:03:27.618Z"
   },
   {
    "duration": 39,
    "start_time": "2024-09-20T18:03:27.631Z"
   },
   {
    "duration": 12,
    "start_time": "2024-09-20T18:03:27.671Z"
   },
   {
    "duration": 5,
    "start_time": "2024-09-20T18:03:27.684Z"
   },
   {
    "duration": 8,
    "start_time": "2024-09-20T18:03:27.692Z"
   },
   {
    "duration": 5,
    "start_time": "2024-09-20T18:03:27.701Z"
   },
   {
    "duration": 8,
    "start_time": "2024-09-20T18:03:27.708Z"
   },
   {
    "duration": 730,
    "start_time": "2024-09-20T18:03:27.717Z"
   },
   {
    "duration": 24,
    "start_time": "2024-09-20T18:03:28.449Z"
   },
   {
    "duration": 90,
    "start_time": "2024-09-20T18:03:28.477Z"
   },
   {
    "duration": 10,
    "start_time": "2024-09-20T18:03:28.569Z"
   },
   {
    "duration": 8,
    "start_time": "2024-09-20T18:03:28.581Z"
   },
   {
    "duration": 4,
    "start_time": "2024-09-20T18:03:28.591Z"
   },
   {
    "duration": 10,
    "start_time": "2024-09-20T18:03:28.597Z"
   },
   {
    "duration": 35,
    "start_time": "2024-09-20T18:03:28.608Z"
   },
   {
    "duration": 5,
    "start_time": "2024-09-20T18:03:28.644Z"
   },
   {
    "duration": 4,
    "start_time": "2024-09-20T18:03:28.650Z"
   },
   {
    "duration": 32,
    "start_time": "2024-09-20T18:03:28.655Z"
   },
   {
    "duration": 16,
    "start_time": "2024-09-20T18:03:32.280Z"
   },
   {
    "duration": 175,
    "start_time": "2024-09-20T18:03:39.196Z"
   },
   {
    "duration": 299,
    "start_time": "2024-09-20T18:03:55.235Z"
   },
   {
    "duration": 262,
    "start_time": "2024-09-20T18:03:55.537Z"
   },
   {
    "duration": 22,
    "start_time": "2024-09-20T18:03:55.802Z"
   },
   {
    "duration": 137,
    "start_time": "2024-09-20T18:03:55.826Z"
   },
   {
    "duration": 11,
    "start_time": "2024-09-20T18:03:55.965Z"
   },
   {
    "duration": 30,
    "start_time": "2024-09-20T18:03:55.977Z"
   },
   {
    "duration": 11,
    "start_time": "2024-09-20T18:03:56.009Z"
   },
   {
    "duration": 25,
    "start_time": "2024-09-20T18:03:56.021Z"
   },
   {
    "duration": 8,
    "start_time": "2024-09-20T18:03:56.047Z"
   },
   {
    "duration": 6,
    "start_time": "2024-09-20T18:03:56.056Z"
   },
   {
    "duration": 8,
    "start_time": "2024-09-20T18:03:56.063Z"
   },
   {
    "duration": 711,
    "start_time": "2024-09-20T18:03:56.073Z"
   },
   {
    "duration": 23,
    "start_time": "2024-09-20T18:03:56.786Z"
   },
   {
    "duration": 107,
    "start_time": "2024-09-20T18:03:56.812Z"
   },
   {
    "duration": 10,
    "start_time": "2024-09-20T18:03:56.921Z"
   },
   {
    "duration": 16,
    "start_time": "2024-09-20T18:03:56.933Z"
   },
   {
    "duration": 3,
    "start_time": "2024-09-20T18:03:56.950Z"
   },
   {
    "duration": 10,
    "start_time": "2024-09-20T18:03:56.955Z"
   },
   {
    "duration": 7,
    "start_time": "2024-09-20T18:03:56.966Z"
   },
   {
    "duration": 5,
    "start_time": "2024-09-20T18:03:56.974Z"
   },
   {
    "duration": 4,
    "start_time": "2024-09-20T18:03:56.981Z"
   },
   {
    "duration": 68,
    "start_time": "2024-09-20T18:03:56.987Z"
   },
   {
    "duration": 14,
    "start_time": "2024-09-20T18:03:57.056Z"
   },
   {
    "duration": 3,
    "start_time": "2024-09-20T18:04:03.013Z"
   },
   {
    "duration": 264,
    "start_time": "2024-09-20T18:04:03.019Z"
   },
   {
    "duration": 20,
    "start_time": "2024-09-20T18:04:03.288Z"
   },
   {
    "duration": 129,
    "start_time": "2024-09-20T18:04:03.310Z"
   },
   {
    "duration": 11,
    "start_time": "2024-09-20T18:04:03.442Z"
   },
   {
    "duration": 30,
    "start_time": "2024-09-20T18:04:03.454Z"
   },
   {
    "duration": 9,
    "start_time": "2024-09-20T18:04:03.486Z"
   },
   {
    "duration": 5,
    "start_time": "2024-09-20T18:04:03.497Z"
   },
   {
    "duration": 8,
    "start_time": "2024-09-20T18:04:03.503Z"
   },
   {
    "duration": 31,
    "start_time": "2024-09-20T18:04:03.512Z"
   },
   {
    "duration": 9,
    "start_time": "2024-09-20T18:04:03.544Z"
   },
   {
    "duration": 698,
    "start_time": "2024-09-20T18:04:03.554Z"
   },
   {
    "duration": 23,
    "start_time": "2024-09-20T18:04:04.253Z"
   },
   {
    "duration": 94,
    "start_time": "2024-09-20T18:04:04.280Z"
   },
   {
    "duration": 14,
    "start_time": "2024-09-20T18:04:04.375Z"
   },
   {
    "duration": 9,
    "start_time": "2024-09-20T18:04:04.391Z"
   },
   {
    "duration": 3,
    "start_time": "2024-09-20T18:04:04.402Z"
   },
   {
    "duration": 6,
    "start_time": "2024-09-20T18:04:04.407Z"
   },
   {
    "duration": 32,
    "start_time": "2024-09-20T18:04:04.415Z"
   },
   {
    "duration": 5,
    "start_time": "2024-09-20T18:04:04.449Z"
   },
   {
    "duration": 7,
    "start_time": "2024-09-20T18:04:04.455Z"
   },
   {
    "duration": 32,
    "start_time": "2024-09-20T18:04:04.463Z"
   },
   {
    "duration": 13,
    "start_time": "2024-09-20T18:04:04.496Z"
   },
   {
    "duration": 176,
    "start_time": "2024-09-20T18:04:08.235Z"
   },
   {
    "duration": 2,
    "start_time": "2024-09-20T18:04:18.786Z"
   },
   {
    "duration": 257,
    "start_time": "2024-09-20T18:04:18.790Z"
   },
   {
    "duration": 21,
    "start_time": "2024-09-20T18:04:19.052Z"
   },
   {
    "duration": 144,
    "start_time": "2024-09-20T18:04:19.075Z"
   },
   {
    "duration": 11,
    "start_time": "2024-09-20T18:04:19.221Z"
   },
   {
    "duration": 36,
    "start_time": "2024-09-20T18:04:19.234Z"
   },
   {
    "duration": 10,
    "start_time": "2024-09-20T18:04:19.272Z"
   },
   {
    "duration": 6,
    "start_time": "2024-09-20T18:04:19.283Z"
   },
   {
    "duration": 8,
    "start_time": "2024-09-20T18:04:19.290Z"
   },
   {
    "duration": 4,
    "start_time": "2024-09-20T18:04:19.300Z"
   },
   {
    "duration": 8,
    "start_time": "2024-09-20T18:04:19.306Z"
   },
   {
    "duration": 725,
    "start_time": "2024-09-20T18:04:19.315Z"
   },
   {
    "duration": 21,
    "start_time": "2024-09-20T18:04:20.042Z"
   },
   {
    "duration": 84,
    "start_time": "2024-09-20T18:04:20.066Z"
   },
   {
    "duration": 15,
    "start_time": "2024-09-20T18:04:20.151Z"
   },
   {
    "duration": 10,
    "start_time": "2024-09-20T18:04:20.168Z"
   },
   {
    "duration": 6,
    "start_time": "2024-09-20T18:04:20.180Z"
   },
   {
    "duration": 6,
    "start_time": "2024-09-20T18:04:20.188Z"
   },
   {
    "duration": 10,
    "start_time": "2024-09-20T18:04:20.196Z"
   },
   {
    "duration": 5,
    "start_time": "2024-09-20T18:04:20.209Z"
   },
   {
    "duration": 4,
    "start_time": "2024-09-20T18:04:20.244Z"
   },
   {
    "duration": 33,
    "start_time": "2024-09-20T18:04:20.249Z"
   },
   {
    "duration": 13,
    "start_time": "2024-09-20T18:04:20.283Z"
   },
   {
    "duration": 12,
    "start_time": "2024-09-20T18:04:27.563Z"
   },
   {
    "duration": 16,
    "start_time": "2024-09-20T18:05:10.973Z"
   },
   {
    "duration": 288,
    "start_time": "2024-09-20T18:05:26.200Z"
   },
   {
    "duration": 257,
    "start_time": "2024-09-20T18:05:26.490Z"
   },
   {
    "duration": 21,
    "start_time": "2024-09-20T18:05:26.751Z"
   },
   {
    "duration": 137,
    "start_time": "2024-09-20T18:05:26.775Z"
   },
   {
    "duration": 12,
    "start_time": "2024-09-20T18:05:26.913Z"
   },
   {
    "duration": 42,
    "start_time": "2024-09-20T18:05:26.926Z"
   },
   {
    "duration": 11,
    "start_time": "2024-09-20T18:05:26.970Z"
   },
   {
    "duration": 5,
    "start_time": "2024-09-20T18:05:26.982Z"
   },
   {
    "duration": 7,
    "start_time": "2024-09-20T18:05:26.989Z"
   },
   {
    "duration": 4,
    "start_time": "2024-09-20T18:05:27.000Z"
   },
   {
    "duration": 36,
    "start_time": "2024-09-20T18:05:27.006Z"
   },
   {
    "duration": 712,
    "start_time": "2024-09-20T18:05:27.045Z"
   },
   {
    "duration": 24,
    "start_time": "2024-09-20T18:05:27.759Z"
   },
   {
    "duration": 112,
    "start_time": "2024-09-20T18:05:27.784Z"
   },
   {
    "duration": 11,
    "start_time": "2024-09-20T18:05:27.898Z"
   },
   {
    "duration": 10,
    "start_time": "2024-09-20T18:05:27.911Z"
   },
   {
    "duration": 21,
    "start_time": "2024-09-20T18:05:27.922Z"
   },
   {
    "duration": 10,
    "start_time": "2024-09-20T18:05:27.944Z"
   },
   {
    "duration": 7,
    "start_time": "2024-09-20T18:05:27.956Z"
   },
   {
    "duration": 4,
    "start_time": "2024-09-20T18:05:27.965Z"
   },
   {
    "duration": 4,
    "start_time": "2024-09-20T18:05:27.971Z"
   },
   {
    "duration": 32,
    "start_time": "2024-09-20T18:05:27.976Z"
   },
   {
    "duration": 3,
    "start_time": "2024-09-20T18:05:33.441Z"
   },
   {
    "duration": 248,
    "start_time": "2024-09-20T18:05:33.446Z"
   },
   {
    "duration": 20,
    "start_time": "2024-09-20T18:05:33.695Z"
   },
   {
    "duration": 119,
    "start_time": "2024-09-20T18:05:33.717Z"
   },
   {
    "duration": 11,
    "start_time": "2024-09-20T18:05:33.840Z"
   },
   {
    "duration": 34,
    "start_time": "2024-09-20T18:05:33.852Z"
   },
   {
    "duration": 11,
    "start_time": "2024-09-20T18:05:33.887Z"
   },
   {
    "duration": 4,
    "start_time": "2024-09-20T18:05:33.900Z"
   },
   {
    "duration": 7,
    "start_time": "2024-09-20T18:05:33.906Z"
   },
   {
    "duration": 32,
    "start_time": "2024-09-20T18:05:33.915Z"
   },
   {
    "duration": 7,
    "start_time": "2024-09-20T18:05:33.948Z"
   },
   {
    "duration": 713,
    "start_time": "2024-09-20T18:05:33.957Z"
   },
   {
    "duration": 20,
    "start_time": "2024-09-20T18:05:34.672Z"
   },
   {
    "duration": 87,
    "start_time": "2024-09-20T18:05:34.696Z"
   },
   {
    "duration": 13,
    "start_time": "2024-09-20T18:05:34.785Z"
   },
   {
    "duration": 8,
    "start_time": "2024-09-20T18:05:34.801Z"
   },
   {
    "duration": 3,
    "start_time": "2024-09-20T18:05:34.811Z"
   },
   {
    "duration": 27,
    "start_time": "2024-09-20T18:05:34.815Z"
   },
   {
    "duration": 7,
    "start_time": "2024-09-20T18:05:34.844Z"
   },
   {
    "duration": 5,
    "start_time": "2024-09-20T18:05:34.853Z"
   },
   {
    "duration": 4,
    "start_time": "2024-09-20T18:05:34.860Z"
   },
   {
    "duration": 33,
    "start_time": "2024-09-20T18:05:34.865Z"
   },
   {
    "duration": 15,
    "start_time": "2024-09-20T18:05:38.422Z"
   },
   {
    "duration": 155,
    "start_time": "2024-09-20T18:06:06.307Z"
   },
   {
    "duration": 13,
    "start_time": "2024-09-20T18:08:04.910Z"
   },
   {
    "duration": 12,
    "start_time": "2024-09-20T18:08:29.477Z"
   },
   {
    "duration": 286,
    "start_time": "2024-09-20T18:09:41.634Z"
   },
   {
    "duration": 36,
    "start_time": "2024-09-20T18:09:43.360Z"
   },
   {
    "duration": 16,
    "start_time": "2024-09-20T18:09:44.773Z"
   },
   {
    "duration": 37,
    "start_time": "2024-09-20T18:09:51.020Z"
   },
   {
    "duration": 271,
    "start_time": "2024-09-20T18:11:01.832Z"
   },
   {
    "duration": 251,
    "start_time": "2024-09-20T18:11:02.105Z"
   },
   {
    "duration": 21,
    "start_time": "2024-09-20T18:11:02.358Z"
   },
   {
    "duration": 135,
    "start_time": "2024-09-20T18:11:02.381Z"
   },
   {
    "duration": 10,
    "start_time": "2024-09-20T18:11:02.519Z"
   },
   {
    "duration": 40,
    "start_time": "2024-09-20T18:11:02.531Z"
   },
   {
    "duration": 11,
    "start_time": "2024-09-20T18:11:02.573Z"
   },
   {
    "duration": 5,
    "start_time": "2024-09-20T18:11:02.586Z"
   },
   {
    "duration": 9,
    "start_time": "2024-09-20T18:11:02.592Z"
   },
   {
    "duration": 7,
    "start_time": "2024-09-20T18:11:02.603Z"
   },
   {
    "duration": 31,
    "start_time": "2024-09-20T18:11:02.616Z"
   },
   {
    "duration": 718,
    "start_time": "2024-09-20T18:11:02.649Z"
   },
   {
    "duration": 24,
    "start_time": "2024-09-20T18:11:03.369Z"
   },
   {
    "duration": 94,
    "start_time": "2024-09-20T18:11:03.396Z"
   },
   {
    "duration": 10,
    "start_time": "2024-09-20T18:11:03.492Z"
   },
   {
    "duration": 7,
    "start_time": "2024-09-20T18:11:03.504Z"
   },
   {
    "duration": 4,
    "start_time": "2024-09-20T18:11:03.513Z"
   },
   {
    "duration": 29,
    "start_time": "2024-09-20T18:11:03.520Z"
   },
   {
    "duration": 19,
    "start_time": "2024-09-20T18:11:03.551Z"
   },
   {
    "duration": 5,
    "start_time": "2024-09-20T18:11:03.573Z"
   },
   {
    "duration": 4,
    "start_time": "2024-09-20T18:11:03.580Z"
   },
   {
    "duration": 3,
    "start_time": "2024-09-20T18:11:03.585Z"
   },
   {
    "duration": 32,
    "start_time": "2024-09-20T18:11:03.589Z"
   },
   {
    "duration": 29,
    "start_time": "2024-09-20T18:11:03.623Z"
   },
   {
    "duration": 181,
    "start_time": "2024-09-20T18:11:05.700Z"
   },
   {
    "duration": 13,
    "start_time": "2024-09-20T18:11:06.503Z"
   },
   {
    "duration": 16,
    "start_time": "2024-09-20T18:11:13.171Z"
   },
   {
    "duration": 12,
    "start_time": "2024-09-20T18:15:04.129Z"
   },
   {
    "duration": 3,
    "start_time": "2024-09-20T18:15:20.705Z"
   },
   {
    "duration": 32,
    "start_time": "2024-09-20T18:15:21.972Z"
   },
   {
    "duration": 6,
    "start_time": "2024-09-20T18:15:23.166Z"
   },
   {
    "duration": 13,
    "start_time": "2024-09-20T18:16:08.249Z"
   },
   {
    "duration": 13,
    "start_time": "2024-09-20T18:16:23.571Z"
   },
   {
    "duration": 273,
    "start_time": "2024-09-20T18:16:45.215Z"
   },
   {
    "duration": 257,
    "start_time": "2024-09-20T18:16:45.490Z"
   },
   {
    "duration": 23,
    "start_time": "2024-09-20T18:16:45.748Z"
   },
   {
    "duration": 137,
    "start_time": "2024-09-20T18:16:45.773Z"
   },
   {
    "duration": 10,
    "start_time": "2024-09-20T18:16:45.912Z"
   },
   {
    "duration": 47,
    "start_time": "2024-09-20T18:16:45.923Z"
   },
   {
    "duration": 11,
    "start_time": "2024-09-20T18:16:45.972Z"
   },
   {
    "duration": 4,
    "start_time": "2024-09-20T18:16:45.985Z"
   },
   {
    "duration": 9,
    "start_time": "2024-09-20T18:16:45.991Z"
   },
   {
    "duration": 6,
    "start_time": "2024-09-20T18:16:46.002Z"
   },
   {
    "duration": 7,
    "start_time": "2024-09-20T18:16:46.010Z"
   },
   {
    "duration": 699,
    "start_time": "2024-09-20T18:16:46.042Z"
   },
   {
    "duration": 24,
    "start_time": "2024-09-20T18:16:46.743Z"
   },
   {
    "duration": 97,
    "start_time": "2024-09-20T18:16:46.770Z"
   },
   {
    "duration": 10,
    "start_time": "2024-09-20T18:16:46.869Z"
   },
   {
    "duration": 8,
    "start_time": "2024-09-20T18:16:46.881Z"
   },
   {
    "duration": 5,
    "start_time": "2024-09-20T18:16:46.890Z"
   },
   {
    "duration": 10,
    "start_time": "2024-09-20T18:16:46.896Z"
   },
   {
    "duration": 35,
    "start_time": "2024-09-20T18:16:46.908Z"
   },
   {
    "duration": 6,
    "start_time": "2024-09-20T18:16:46.944Z"
   },
   {
    "duration": 5,
    "start_time": "2024-09-20T18:16:46.951Z"
   },
   {
    "duration": 3,
    "start_time": "2024-09-20T18:16:46.958Z"
   },
   {
    "duration": 32,
    "start_time": "2024-09-20T18:16:46.962Z"
   },
   {
    "duration": 6,
    "start_time": "2024-09-20T18:16:46.996Z"
   },
   {
    "duration": 45,
    "start_time": "2024-09-20T18:16:47.004Z"
   },
   {
    "duration": 177,
    "start_time": "2024-09-20T18:16:54.018Z"
   },
   {
    "duration": 13,
    "start_time": "2024-09-20T18:16:58.387Z"
   },
   {
    "duration": 3,
    "start_time": "2024-09-20T18:17:23.750Z"
   },
   {
    "duration": 30,
    "start_time": "2024-09-20T18:17:25.096Z"
   },
   {
    "duration": 6,
    "start_time": "2024-09-20T18:17:26.205Z"
   },
   {
    "duration": 13,
    "start_time": "2024-09-20T18:17:27.711Z"
   },
   {
    "duration": 16,
    "start_time": "2024-09-20T18:19:00.235Z"
   },
   {
    "duration": 288,
    "start_time": "2024-09-20T18:19:32.709Z"
   },
   {
    "duration": 314,
    "start_time": "2024-09-20T18:19:32.999Z"
   },
   {
    "duration": 21,
    "start_time": "2024-09-20T18:19:33.315Z"
   },
   {
    "duration": 142,
    "start_time": "2024-09-20T18:19:33.342Z"
   },
   {
    "duration": 12,
    "start_time": "2024-09-20T18:19:33.488Z"
   },
   {
    "duration": 41,
    "start_time": "2024-09-20T18:19:33.502Z"
   },
   {
    "duration": 12,
    "start_time": "2024-09-20T18:19:33.544Z"
   },
   {
    "duration": 10,
    "start_time": "2024-09-20T18:19:33.558Z"
   },
   {
    "duration": 8,
    "start_time": "2024-09-20T18:19:33.569Z"
   },
   {
    "duration": 10,
    "start_time": "2024-09-20T18:19:33.579Z"
   },
   {
    "duration": 7,
    "start_time": "2024-09-20T18:19:33.590Z"
   },
   {
    "duration": 737,
    "start_time": "2024-09-20T18:19:33.599Z"
   },
   {
    "duration": 24,
    "start_time": "2024-09-20T18:19:34.338Z"
   },
   {
    "duration": 114,
    "start_time": "2024-09-20T18:19:34.367Z"
   },
   {
    "duration": 11,
    "start_time": "2024-09-20T18:19:34.483Z"
   },
   {
    "duration": 8,
    "start_time": "2024-09-20T18:19:34.496Z"
   },
   {
    "duration": 3,
    "start_time": "2024-09-20T18:19:34.506Z"
   },
   {
    "duration": 35,
    "start_time": "2024-09-20T18:19:34.511Z"
   },
   {
    "duration": 8,
    "start_time": "2024-09-20T18:19:34.548Z"
   },
   {
    "duration": 5,
    "start_time": "2024-09-20T18:19:34.558Z"
   },
   {
    "duration": 4,
    "start_time": "2024-09-20T18:19:34.565Z"
   },
   {
    "duration": 278,
    "start_time": "2024-09-20T18:19:51.315Z"
   },
   {
    "duration": 41,
    "start_time": "2024-09-20T18:19:51.595Z"
   },
   {
    "duration": 12,
    "start_time": "2024-09-20T18:19:51.638Z"
   },
   {
    "duration": 18,
    "start_time": "2024-09-20T18:19:51.652Z"
   },
   {
    "duration": 186,
    "start_time": "2024-09-20T18:19:51.673Z"
   },
   {
    "duration": 0,
    "start_time": "2024-09-20T18:19:51.861Z"
   },
   {
    "duration": 0,
    "start_time": "2024-09-20T18:19:51.863Z"
   },
   {
    "duration": 0,
    "start_time": "2024-09-20T18:19:51.864Z"
   },
   {
    "duration": 0,
    "start_time": "2024-09-20T18:19:51.865Z"
   },
   {
    "duration": 0,
    "start_time": "2024-09-20T18:19:51.866Z"
   },
   {
    "duration": 0,
    "start_time": "2024-09-20T18:19:51.866Z"
   },
   {
    "duration": 0,
    "start_time": "2024-09-20T18:19:51.868Z"
   },
   {
    "duration": 0,
    "start_time": "2024-09-20T18:19:51.869Z"
   },
   {
    "duration": 0,
    "start_time": "2024-09-20T18:19:51.870Z"
   },
   {
    "duration": 0,
    "start_time": "2024-09-20T18:19:51.871Z"
   },
   {
    "duration": 0,
    "start_time": "2024-09-20T18:19:51.872Z"
   },
   {
    "duration": 0,
    "start_time": "2024-09-20T18:19:51.873Z"
   },
   {
    "duration": 0,
    "start_time": "2024-09-20T18:19:51.875Z"
   },
   {
    "duration": 0,
    "start_time": "2024-09-20T18:19:51.877Z"
   },
   {
    "duration": 0,
    "start_time": "2024-09-20T18:19:51.878Z"
   },
   {
    "duration": 12,
    "start_time": "2024-09-20T18:20:15.836Z"
   },
   {
    "duration": 160,
    "start_time": "2024-09-20T18:20:39.656Z"
   },
   {
    "duration": 12,
    "start_time": "2024-09-20T18:23:41.281Z"
   },
   {
    "duration": 335,
    "start_time": "2024-09-20T18:23:46.671Z"
   },
   {
    "duration": 40,
    "start_time": "2024-09-20T18:23:47.972Z"
   },
   {
    "duration": 10,
    "start_time": "2024-09-20T18:23:49.574Z"
   },
   {
    "duration": 14,
    "start_time": "2024-09-20T18:23:50.992Z"
   },
   {
    "duration": 34,
    "start_time": "2024-09-20T18:23:54.520Z"
   },
   {
    "duration": 3,
    "start_time": "2024-09-20T18:29:19.813Z"
   },
   {
    "duration": 40,
    "start_time": "2024-09-20T18:29:21.039Z"
   },
   {
    "duration": 7,
    "start_time": "2024-09-20T18:29:22.370Z"
   },
   {
    "duration": 14,
    "start_time": "2024-09-20T18:29:26.949Z"
   },
   {
    "duration": 13,
    "start_time": "2024-09-20T18:29:28.322Z"
   },
   {
    "duration": 13,
    "start_time": "2024-09-20T18:30:59.533Z"
   },
   {
    "duration": 13,
    "start_time": "2024-09-20T18:31:07.231Z"
   },
   {
    "duration": 2,
    "start_time": "2024-09-20T18:31:19.818Z"
   },
   {
    "duration": 37,
    "start_time": "2024-09-20T18:31:20.517Z"
   },
   {
    "duration": 7,
    "start_time": "2024-09-20T18:31:21.382Z"
   },
   {
    "duration": 14,
    "start_time": "2024-09-20T18:31:22.674Z"
   },
   {
    "duration": 297,
    "start_time": "2024-09-20T18:31:55.004Z"
   },
   {
    "duration": 272,
    "start_time": "2024-09-20T18:31:55.303Z"
   },
   {
    "duration": 21,
    "start_time": "2024-09-20T18:31:55.577Z"
   },
   {
    "duration": 137,
    "start_time": "2024-09-20T18:31:55.599Z"
   },
   {
    "duration": 13,
    "start_time": "2024-09-20T18:31:55.739Z"
   },
   {
    "duration": 2,
    "start_time": "2024-09-20T18:31:55.754Z"
   },
   {
    "duration": 191,
    "start_time": "2024-09-20T18:31:55.758Z"
   },
   {
    "duration": 0,
    "start_time": "2024-09-20T18:31:55.952Z"
   },
   {
    "duration": 0,
    "start_time": "2024-09-20T18:31:55.953Z"
   },
   {
    "duration": 0,
    "start_time": "2024-09-20T18:31:55.954Z"
   },
   {
    "duration": 0,
    "start_time": "2024-09-20T18:31:55.955Z"
   },
   {
    "duration": 0,
    "start_time": "2024-09-20T18:31:55.957Z"
   },
   {
    "duration": 0,
    "start_time": "2024-09-20T18:31:55.958Z"
   },
   {
    "duration": 1,
    "start_time": "2024-09-20T18:31:55.958Z"
   },
   {
    "duration": 0,
    "start_time": "2024-09-20T18:31:55.959Z"
   },
   {
    "duration": 0,
    "start_time": "2024-09-20T18:31:55.962Z"
   },
   {
    "duration": 0,
    "start_time": "2024-09-20T18:31:55.963Z"
   },
   {
    "duration": 0,
    "start_time": "2024-09-20T18:31:55.964Z"
   },
   {
    "duration": 0,
    "start_time": "2024-09-20T18:31:55.965Z"
   },
   {
    "duration": 0,
    "start_time": "2024-09-20T18:31:55.966Z"
   },
   {
    "duration": 0,
    "start_time": "2024-09-20T18:31:55.968Z"
   },
   {
    "duration": 0,
    "start_time": "2024-09-20T18:31:55.969Z"
   },
   {
    "duration": 0,
    "start_time": "2024-09-20T18:31:55.970Z"
   },
   {
    "duration": 0,
    "start_time": "2024-09-20T18:31:55.972Z"
   },
   {
    "duration": 0,
    "start_time": "2024-09-20T18:31:55.974Z"
   },
   {
    "duration": 12,
    "start_time": "2024-09-20T18:32:14.381Z"
   },
   {
    "duration": 3,
    "start_time": "2024-09-20T18:32:22.444Z"
   },
   {
    "duration": 257,
    "start_time": "2024-09-20T18:32:22.450Z"
   },
   {
    "duration": 20,
    "start_time": "2024-09-20T18:32:22.709Z"
   },
   {
    "duration": 124,
    "start_time": "2024-09-20T18:32:22.731Z"
   },
   {
    "duration": 10,
    "start_time": "2024-09-20T18:32:22.858Z"
   },
   {
    "duration": 2,
    "start_time": "2024-09-20T18:32:22.869Z"
   },
   {
    "duration": 11,
    "start_time": "2024-09-20T18:32:22.873Z"
   },
   {
    "duration": 0,
    "start_time": "2024-09-20T18:32:22.886Z"
   },
   {
    "duration": 0,
    "start_time": "2024-09-20T18:32:22.887Z"
   },
   {
    "duration": 0,
    "start_time": "2024-09-20T18:32:22.888Z"
   },
   {
    "duration": 0,
    "start_time": "2024-09-20T18:32:22.889Z"
   },
   {
    "duration": 0,
    "start_time": "2024-09-20T18:32:22.890Z"
   },
   {
    "duration": 0,
    "start_time": "2024-09-20T18:32:22.891Z"
   },
   {
    "duration": 0,
    "start_time": "2024-09-20T18:32:22.892Z"
   },
   {
    "duration": 0,
    "start_time": "2024-09-20T18:32:22.893Z"
   },
   {
    "duration": 0,
    "start_time": "2024-09-20T18:32:22.893Z"
   },
   {
    "duration": 0,
    "start_time": "2024-09-20T18:32:22.894Z"
   },
   {
    "duration": 0,
    "start_time": "2024-09-20T18:32:22.895Z"
   },
   {
    "duration": 0,
    "start_time": "2024-09-20T18:32:22.896Z"
   },
   {
    "duration": 0,
    "start_time": "2024-09-20T18:32:22.897Z"
   },
   {
    "duration": 0,
    "start_time": "2024-09-20T18:32:22.898Z"
   },
   {
    "duration": 0,
    "start_time": "2024-09-20T18:32:22.899Z"
   },
   {
    "duration": 0,
    "start_time": "2024-09-20T18:32:22.900Z"
   },
   {
    "duration": 0,
    "start_time": "2024-09-20T18:32:22.901Z"
   },
   {
    "duration": 0,
    "start_time": "2024-09-20T18:32:22.943Z"
   },
   {
    "duration": 13,
    "start_time": "2024-09-20T18:32:24.873Z"
   },
   {
    "duration": 33,
    "start_time": "2024-09-20T18:32:30.940Z"
   },
   {
    "duration": 9,
    "start_time": "2024-09-20T18:32:31.705Z"
   },
   {
    "duration": 14,
    "start_time": "2024-09-20T18:32:33.130Z"
   },
   {
    "duration": 13,
    "start_time": "2024-09-20T18:32:35.325Z"
   },
   {
    "duration": 12,
    "start_time": "2024-09-20T18:43:42.633Z"
   },
   {
    "duration": 339,
    "start_time": "2024-09-20T18:48:57.757Z"
   },
   {
    "duration": 276,
    "start_time": "2024-09-20T18:48:58.098Z"
   },
   {
    "duration": 23,
    "start_time": "2024-09-20T18:48:58.375Z"
   },
   {
    "duration": 138,
    "start_time": "2024-09-20T18:48:58.400Z"
   },
   {
    "duration": 11,
    "start_time": "2024-09-20T18:48:58.540Z"
   },
   {
    "duration": 32,
    "start_time": "2024-09-20T18:48:58.553Z"
   },
   {
    "duration": 11,
    "start_time": "2024-09-20T18:48:58.586Z"
   },
   {
    "duration": 5,
    "start_time": "2024-09-20T18:48:58.598Z"
   },
   {
    "duration": 8,
    "start_time": "2024-09-20T18:48:58.604Z"
   },
   {
    "duration": 5,
    "start_time": "2024-09-20T18:48:58.642Z"
   },
   {
    "duration": 8,
    "start_time": "2024-09-20T18:48:58.649Z"
   },
   {
    "duration": 728,
    "start_time": "2024-09-20T18:48:58.660Z"
   },
   {
    "duration": 24,
    "start_time": "2024-09-20T18:48:59.390Z"
   },
   {
    "duration": 98,
    "start_time": "2024-09-20T18:48:59.416Z"
   },
   {
    "duration": 11,
    "start_time": "2024-09-20T18:48:59.515Z"
   },
   {
    "duration": 20,
    "start_time": "2024-09-20T18:48:59.527Z"
   },
   {
    "duration": 4,
    "start_time": "2024-09-20T18:48:59.548Z"
   },
   {
    "duration": 11,
    "start_time": "2024-09-20T18:48:59.554Z"
   },
   {
    "duration": 7,
    "start_time": "2024-09-20T18:48:59.566Z"
   },
   {
    "duration": 5,
    "start_time": "2024-09-20T18:48:59.575Z"
   },
   {
    "duration": 5,
    "start_time": "2024-09-20T18:48:59.582Z"
   },
   {
    "duration": 3,
    "start_time": "2024-09-20T18:48:59.590Z"
   },
   {
    "duration": 69,
    "start_time": "2024-09-20T18:48:59.595Z"
   },
   {
    "duration": 7,
    "start_time": "2024-09-20T18:48:59.666Z"
   },
   {
    "duration": 13,
    "start_time": "2024-09-20T18:48:59.675Z"
   },
   {
    "duration": 195,
    "start_time": "2024-09-20T18:48:59.689Z"
   },
   {
    "duration": 0,
    "start_time": "2024-09-20T18:48:59.887Z"
   },
   {
    "duration": 0,
    "start_time": "2024-09-20T18:48:59.888Z"
   },
   {
    "duration": 0,
    "start_time": "2024-09-20T18:48:59.889Z"
   },
   {
    "duration": 0,
    "start_time": "2024-09-20T18:48:59.890Z"
   },
   {
    "duration": 0,
    "start_time": "2024-09-20T18:48:59.891Z"
   },
   {
    "duration": 0,
    "start_time": "2024-09-20T18:48:59.892Z"
   },
   {
    "duration": 0,
    "start_time": "2024-09-20T18:48:59.893Z"
   },
   {
    "duration": 0,
    "start_time": "2024-09-20T18:48:59.895Z"
   },
   {
    "duration": 0,
    "start_time": "2024-09-20T18:48:59.896Z"
   },
   {
    "duration": 0,
    "start_time": "2024-09-20T18:48:59.898Z"
   },
   {
    "duration": 0,
    "start_time": "2024-09-20T18:48:59.900Z"
   },
   {
    "duration": 0,
    "start_time": "2024-09-20T18:48:59.901Z"
   },
   {
    "duration": 0,
    "start_time": "2024-09-20T18:48:59.902Z"
   },
   {
    "duration": 0,
    "start_time": "2024-09-20T18:48:59.904Z"
   },
   {
    "duration": 0,
    "start_time": "2024-09-20T18:48:59.906Z"
   },
   {
    "duration": 0,
    "start_time": "2024-09-20T18:48:59.907Z"
   },
   {
    "duration": 20,
    "start_time": "2024-09-20T18:53:21.802Z"
   },
   {
    "duration": 309,
    "start_time": "2024-09-20T18:54:21.239Z"
   },
   {
    "duration": 268,
    "start_time": "2024-09-20T18:54:21.550Z"
   },
   {
    "duration": 29,
    "start_time": "2024-09-20T18:54:21.820Z"
   },
   {
    "duration": 129,
    "start_time": "2024-09-20T18:54:21.852Z"
   },
   {
    "duration": 9,
    "start_time": "2024-09-20T18:54:21.984Z"
   },
   {
    "duration": 30,
    "start_time": "2024-09-20T18:54:21.995Z"
   },
   {
    "duration": 28,
    "start_time": "2024-09-20T18:54:22.026Z"
   },
   {
    "duration": 6,
    "start_time": "2024-09-20T18:54:22.056Z"
   },
   {
    "duration": 9,
    "start_time": "2024-09-20T18:54:22.064Z"
   },
   {
    "duration": 5,
    "start_time": "2024-09-20T18:54:22.076Z"
   },
   {
    "duration": 8,
    "start_time": "2024-09-20T18:54:22.083Z"
   },
   {
    "duration": 744,
    "start_time": "2024-09-20T18:54:22.094Z"
   },
   {
    "duration": 28,
    "start_time": "2024-09-20T18:54:22.839Z"
   },
   {
    "duration": 108,
    "start_time": "2024-09-20T18:54:22.869Z"
   },
   {
    "duration": 11,
    "start_time": "2024-09-20T18:54:22.980Z"
   },
   {
    "duration": 8,
    "start_time": "2024-09-20T18:54:22.992Z"
   },
   {
    "duration": 4,
    "start_time": "2024-09-20T18:54:23.001Z"
   },
   {
    "duration": 9,
    "start_time": "2024-09-20T18:54:23.007Z"
   },
   {
    "duration": 30,
    "start_time": "2024-09-20T18:54:23.018Z"
   },
   {
    "duration": 5,
    "start_time": "2024-09-20T18:54:23.050Z"
   },
   {
    "duration": 4,
    "start_time": "2024-09-20T18:54:23.056Z"
   },
   {
    "duration": 2,
    "start_time": "2024-09-20T18:54:23.063Z"
   },
   {
    "duration": 31,
    "start_time": "2024-09-20T18:54:23.067Z"
   },
   {
    "duration": 7,
    "start_time": "2024-09-20T18:54:23.100Z"
   },
   {
    "duration": 44,
    "start_time": "2024-09-20T18:54:23.108Z"
   },
   {
    "duration": 199,
    "start_time": "2024-09-20T18:54:23.154Z"
   },
   {
    "duration": 0,
    "start_time": "2024-09-20T18:54:23.355Z"
   },
   {
    "duration": 0,
    "start_time": "2024-09-20T18:54:23.356Z"
   },
   {
    "duration": 0,
    "start_time": "2024-09-20T18:54:23.357Z"
   },
   {
    "duration": 12,
    "start_time": "2024-09-20T18:54:38.080Z"
   },
   {
    "duration": 3,
    "start_time": "2024-09-20T18:54:54.297Z"
   },
   {
    "duration": 30,
    "start_time": "2024-09-20T18:54:55.079Z"
   },
   {
    "duration": 6,
    "start_time": "2024-09-20T18:54:56.039Z"
   },
   {
    "duration": 14,
    "start_time": "2024-09-20T18:54:57.034Z"
   },
   {
    "duration": 13,
    "start_time": "2024-09-20T18:54:58.390Z"
   },
   {
    "duration": 12,
    "start_time": "2024-09-20T18:55:07.699Z"
   },
   {
    "duration": 13,
    "start_time": "2024-09-20T18:55:10.244Z"
   },
   {
    "duration": 13,
    "start_time": "2024-09-20T18:55:11.637Z"
   },
   {
    "duration": 13,
    "start_time": "2024-09-20T19:02:03.700Z"
   },
   {
    "duration": 319,
    "start_time": "2024-09-20T19:04:25.769Z"
   },
   {
    "duration": 34,
    "start_time": "2024-09-20T19:04:26.090Z"
   },
   {
    "duration": 19,
    "start_time": "2024-09-20T19:04:26.126Z"
   },
   {
    "duration": 14,
    "start_time": "2024-09-20T19:04:26.148Z"
   },
   {
    "duration": 194,
    "start_time": "2024-09-20T19:04:26.164Z"
   },
   {
    "duration": 0,
    "start_time": "2024-09-20T19:04:26.360Z"
   },
   {
    "duration": 0,
    "start_time": "2024-09-20T19:04:26.362Z"
   },
   {
    "duration": 0,
    "start_time": "2024-09-20T19:04:26.363Z"
   },
   {
    "duration": 0,
    "start_time": "2024-09-20T19:04:26.365Z"
   },
   {
    "duration": 0,
    "start_time": "2024-09-20T19:04:26.366Z"
   },
   {
    "duration": 0,
    "start_time": "2024-09-20T19:04:26.367Z"
   },
   {
    "duration": 0,
    "start_time": "2024-09-20T19:04:26.368Z"
   },
   {
    "duration": 0,
    "start_time": "2024-09-20T19:04:26.370Z"
   },
   {
    "duration": 0,
    "start_time": "2024-09-20T19:04:26.372Z"
   },
   {
    "duration": 0,
    "start_time": "2024-09-20T19:04:26.373Z"
   },
   {
    "duration": 0,
    "start_time": "2024-09-20T19:04:26.375Z"
   },
   {
    "duration": 0,
    "start_time": "2024-09-20T19:04:26.376Z"
   },
   {
    "duration": 0,
    "start_time": "2024-09-20T19:04:26.377Z"
   },
   {
    "duration": 0,
    "start_time": "2024-09-20T19:04:26.379Z"
   },
   {
    "duration": 1,
    "start_time": "2024-09-20T19:04:26.380Z"
   },
   {
    "duration": 0,
    "start_time": "2024-09-20T19:04:26.382Z"
   },
   {
    "duration": 13,
    "start_time": "2024-09-20T19:18:42.763Z"
   },
   {
    "duration": 294,
    "start_time": "2024-09-20T19:19:02.890Z"
   },
   {
    "duration": 36,
    "start_time": "2024-09-20T19:19:03.186Z"
   },
   {
    "duration": 20,
    "start_time": "2024-09-20T19:19:03.223Z"
   },
   {
    "duration": 37,
    "start_time": "2024-09-20T19:19:03.246Z"
   },
   {
    "duration": 181,
    "start_time": "2024-09-20T19:19:03.285Z"
   },
   {
    "duration": 0,
    "start_time": "2024-09-20T19:19:03.468Z"
   },
   {
    "duration": 0,
    "start_time": "2024-09-20T19:19:03.469Z"
   },
   {
    "duration": 0,
    "start_time": "2024-09-20T19:19:03.470Z"
   },
   {
    "duration": 0,
    "start_time": "2024-09-20T19:19:03.471Z"
   },
   {
    "duration": 0,
    "start_time": "2024-09-20T19:19:03.472Z"
   },
   {
    "duration": 0,
    "start_time": "2024-09-20T19:19:03.474Z"
   },
   {
    "duration": 0,
    "start_time": "2024-09-20T19:19:03.475Z"
   },
   {
    "duration": 0,
    "start_time": "2024-09-20T19:19:03.476Z"
   },
   {
    "duration": 0,
    "start_time": "2024-09-20T19:19:03.477Z"
   },
   {
    "duration": 0,
    "start_time": "2024-09-20T19:19:03.478Z"
   },
   {
    "duration": 0,
    "start_time": "2024-09-20T19:19:03.479Z"
   },
   {
    "duration": 0,
    "start_time": "2024-09-20T19:19:03.479Z"
   },
   {
    "duration": 0,
    "start_time": "2024-09-20T19:19:03.480Z"
   },
   {
    "duration": 0,
    "start_time": "2024-09-20T19:19:03.482Z"
   },
   {
    "duration": 0,
    "start_time": "2024-09-20T19:19:03.483Z"
   },
   {
    "duration": 0,
    "start_time": "2024-09-20T19:19:03.484Z"
   },
   {
    "duration": 12,
    "start_time": "2024-09-20T19:19:59.675Z"
   },
   {
    "duration": 2,
    "start_time": "2024-09-20T19:20:10.031Z"
   },
   {
    "duration": 35,
    "start_time": "2024-09-20T19:20:10.813Z"
   },
   {
    "duration": 7,
    "start_time": "2024-09-20T19:20:11.634Z"
   },
   {
    "duration": 13,
    "start_time": "2024-09-20T19:20:13.160Z"
   },
   {
    "duration": 14,
    "start_time": "2024-09-20T19:20:17.387Z"
   },
   {
    "duration": 13,
    "start_time": "2024-09-20T19:23:04.717Z"
   },
   {
    "duration": 3,
    "start_time": "2024-09-20T19:23:25.795Z"
   },
   {
    "duration": 35,
    "start_time": "2024-09-20T19:23:26.624Z"
   },
   {
    "duration": 6,
    "start_time": "2024-09-20T19:23:27.573Z"
   },
   {
    "duration": 14,
    "start_time": "2024-09-20T19:23:28.600Z"
   },
   {
    "duration": 2,
    "start_time": "2024-09-20T19:26:15.917Z"
   },
   {
    "duration": 35,
    "start_time": "2024-09-20T19:26:16.576Z"
   },
   {
    "duration": 7,
    "start_time": "2024-09-20T19:26:17.304Z"
   },
   {
    "duration": 14,
    "start_time": "2024-09-20T19:26:18.267Z"
   },
   {
    "duration": 12,
    "start_time": "2024-09-20T19:26:37.118Z"
   },
   {
    "duration": 13,
    "start_time": "2024-09-20T19:37:55.222Z"
   },
   {
    "duration": 12,
    "start_time": "2024-09-20T19:39:28.817Z"
   },
   {
    "duration": 160,
    "start_time": "2024-09-20T19:41:44.679Z"
   },
   {
    "duration": 0,
    "start_time": "2024-09-20T19:41:44.841Z"
   },
   {
    "duration": 0,
    "start_time": "2024-09-20T19:41:44.842Z"
   },
   {
    "duration": 0,
    "start_time": "2024-09-20T19:41:44.843Z"
   },
   {
    "duration": 0,
    "start_time": "2024-09-20T19:41:44.844Z"
   },
   {
    "duration": 0,
    "start_time": "2024-09-20T19:41:44.845Z"
   },
   {
    "duration": 0,
    "start_time": "2024-09-20T19:41:44.846Z"
   },
   {
    "duration": 0,
    "start_time": "2024-09-20T19:41:44.848Z"
   },
   {
    "duration": 0,
    "start_time": "2024-09-20T19:41:44.849Z"
   },
   {
    "duration": 0,
    "start_time": "2024-09-20T19:41:44.850Z"
   },
   {
    "duration": 0,
    "start_time": "2024-09-20T19:41:44.852Z"
   },
   {
    "duration": 0,
    "start_time": "2024-09-20T19:41:44.854Z"
   },
   {
    "duration": 0,
    "start_time": "2024-09-20T19:41:44.855Z"
   },
   {
    "duration": 0,
    "start_time": "2024-09-20T19:41:44.856Z"
   },
   {
    "duration": 0,
    "start_time": "2024-09-20T19:41:44.858Z"
   },
   {
    "duration": 0,
    "start_time": "2024-09-20T19:41:44.859Z"
   },
   {
    "duration": 0,
    "start_time": "2024-09-20T19:41:44.860Z"
   },
   {
    "duration": 294,
    "start_time": "2024-09-20T19:46:17.042Z"
   },
   {
    "duration": 38,
    "start_time": "2024-09-20T19:46:17.339Z"
   },
   {
    "duration": 11,
    "start_time": "2024-09-20T19:46:17.379Z"
   },
   {
    "duration": 14,
    "start_time": "2024-09-20T19:46:17.393Z"
   },
   {
    "duration": 186,
    "start_time": "2024-09-20T19:46:17.409Z"
   },
   {
    "duration": 0,
    "start_time": "2024-09-20T19:46:17.597Z"
   },
   {
    "duration": 0,
    "start_time": "2024-09-20T19:46:17.598Z"
   },
   {
    "duration": 0,
    "start_time": "2024-09-20T19:46:17.599Z"
   },
   {
    "duration": 0,
    "start_time": "2024-09-20T19:46:17.600Z"
   },
   {
    "duration": 0,
    "start_time": "2024-09-20T19:46:17.601Z"
   },
   {
    "duration": 0,
    "start_time": "2024-09-20T19:46:17.601Z"
   },
   {
    "duration": 0,
    "start_time": "2024-09-20T19:46:17.602Z"
   },
   {
    "duration": 0,
    "start_time": "2024-09-20T19:46:17.603Z"
   },
   {
    "duration": 0,
    "start_time": "2024-09-20T19:46:17.604Z"
   },
   {
    "duration": 0,
    "start_time": "2024-09-20T19:46:17.605Z"
   },
   {
    "duration": 0,
    "start_time": "2024-09-20T19:46:17.605Z"
   },
   {
    "duration": 0,
    "start_time": "2024-09-20T19:46:17.606Z"
   },
   {
    "duration": 0,
    "start_time": "2024-09-20T19:46:17.607Z"
   },
   {
    "duration": 0,
    "start_time": "2024-09-20T19:46:17.608Z"
   },
   {
    "duration": 0,
    "start_time": "2024-09-20T19:46:17.609Z"
   },
   {
    "duration": 0,
    "start_time": "2024-09-20T19:46:17.610Z"
   },
   {
    "duration": 14,
    "start_time": "2024-09-20T19:50:48.669Z"
   },
   {
    "duration": 160,
    "start_time": "2024-09-21T08:23:15.614Z"
   },
   {
    "duration": 340,
    "start_time": "2024-09-21T08:23:59.754Z"
   },
   {
    "duration": 66,
    "start_time": "2024-09-21T08:24:00.096Z"
   },
   {
    "duration": 10,
    "start_time": "2024-09-21T08:24:00.163Z"
   },
   {
    "duration": 14,
    "start_time": "2024-09-21T08:24:00.175Z"
   },
   {
    "duration": 188,
    "start_time": "2024-09-21T08:24:00.191Z"
   },
   {
    "duration": 0,
    "start_time": "2024-09-21T08:24:00.381Z"
   },
   {
    "duration": 0,
    "start_time": "2024-09-21T08:24:00.382Z"
   },
   {
    "duration": 0,
    "start_time": "2024-09-21T08:24:00.383Z"
   },
   {
    "duration": 0,
    "start_time": "2024-09-21T08:24:00.385Z"
   },
   {
    "duration": 1,
    "start_time": "2024-09-21T08:24:00.386Z"
   },
   {
    "duration": 0,
    "start_time": "2024-09-21T08:24:00.388Z"
   },
   {
    "duration": 0,
    "start_time": "2024-09-21T08:24:00.389Z"
   },
   {
    "duration": 0,
    "start_time": "2024-09-21T08:24:00.391Z"
   },
   {
    "duration": 0,
    "start_time": "2024-09-21T08:24:00.392Z"
   },
   {
    "duration": 0,
    "start_time": "2024-09-21T08:24:00.394Z"
   },
   {
    "duration": 0,
    "start_time": "2024-09-21T08:24:00.396Z"
   },
   {
    "duration": 0,
    "start_time": "2024-09-21T08:24:00.397Z"
   },
   {
    "duration": 0,
    "start_time": "2024-09-21T08:24:00.398Z"
   },
   {
    "duration": 0,
    "start_time": "2024-09-21T08:24:00.399Z"
   },
   {
    "duration": 0,
    "start_time": "2024-09-21T08:24:00.400Z"
   },
   {
    "duration": 12,
    "start_time": "2024-09-21T08:26:30.778Z"
   },
   {
    "duration": 318,
    "start_time": "2024-09-21T08:26:51.369Z"
   },
   {
    "duration": 34,
    "start_time": "2024-09-21T08:26:51.689Z"
   },
   {
    "duration": 17,
    "start_time": "2024-09-21T08:26:51.725Z"
   },
   {
    "duration": 14,
    "start_time": "2024-09-21T08:26:51.744Z"
   },
   {
    "duration": 186,
    "start_time": "2024-09-21T08:26:51.761Z"
   },
   {
    "duration": 0,
    "start_time": "2024-09-21T08:26:51.949Z"
   },
   {
    "duration": 0,
    "start_time": "2024-09-21T08:26:51.950Z"
   },
   {
    "duration": 0,
    "start_time": "2024-09-21T08:26:51.951Z"
   },
   {
    "duration": 0,
    "start_time": "2024-09-21T08:26:51.952Z"
   },
   {
    "duration": 0,
    "start_time": "2024-09-21T08:26:51.953Z"
   },
   {
    "duration": 0,
    "start_time": "2024-09-21T08:26:51.954Z"
   },
   {
    "duration": 0,
    "start_time": "2024-09-21T08:26:51.955Z"
   },
   {
    "duration": 0,
    "start_time": "2024-09-21T08:26:51.956Z"
   },
   {
    "duration": 0,
    "start_time": "2024-09-21T08:26:51.958Z"
   },
   {
    "duration": 0,
    "start_time": "2024-09-21T08:26:51.959Z"
   },
   {
    "duration": 0,
    "start_time": "2024-09-21T08:26:51.960Z"
   },
   {
    "duration": 0,
    "start_time": "2024-09-21T08:26:51.961Z"
   },
   {
    "duration": 0,
    "start_time": "2024-09-21T08:26:51.963Z"
   },
   {
    "duration": 0,
    "start_time": "2024-09-21T08:26:51.964Z"
   },
   {
    "duration": 0,
    "start_time": "2024-09-21T08:26:51.964Z"
   },
   {
    "duration": 0,
    "start_time": "2024-09-21T08:26:51.966Z"
   },
   {
    "duration": 12,
    "start_time": "2024-09-21T08:34:27.838Z"
   },
   {
    "duration": 285,
    "start_time": "2024-09-21T08:35:53.307Z"
   },
   {
    "duration": 292,
    "start_time": "2024-09-21T08:35:53.594Z"
   },
   {
    "duration": 22,
    "start_time": "2024-09-21T08:35:53.888Z"
   },
   {
    "duration": 138,
    "start_time": "2024-09-21T08:35:53.912Z"
   },
   {
    "duration": 11,
    "start_time": "2024-09-21T08:35:54.053Z"
   },
   {
    "duration": 30,
    "start_time": "2024-09-21T08:35:54.065Z"
   },
   {
    "duration": 11,
    "start_time": "2024-09-21T08:35:54.096Z"
   },
   {
    "duration": 6,
    "start_time": "2024-09-21T08:35:54.109Z"
   },
   {
    "duration": 29,
    "start_time": "2024-09-21T08:35:54.117Z"
   },
   {
    "duration": 7,
    "start_time": "2024-09-21T08:35:54.148Z"
   },
   {
    "duration": 7,
    "start_time": "2024-09-21T08:35:54.156Z"
   },
   {
    "duration": 801,
    "start_time": "2024-09-21T08:35:54.165Z"
   },
   {
    "duration": 23,
    "start_time": "2024-09-21T08:35:54.968Z"
   },
   {
    "duration": 93,
    "start_time": "2024-09-21T08:35:54.995Z"
   },
   {
    "duration": 10,
    "start_time": "2024-09-21T08:35:55.089Z"
   },
   {
    "duration": 8,
    "start_time": "2024-09-21T08:35:55.101Z"
   },
   {
    "duration": 3,
    "start_time": "2024-09-21T08:35:55.111Z"
   },
   {
    "duration": 32,
    "start_time": "2024-09-21T08:35:55.116Z"
   },
   {
    "duration": 7,
    "start_time": "2024-09-21T08:35:55.150Z"
   },
   {
    "duration": 5,
    "start_time": "2024-09-21T08:35:55.158Z"
   },
   {
    "duration": 4,
    "start_time": "2024-09-21T08:35:55.164Z"
   },
   {
    "duration": 4,
    "start_time": "2024-09-21T08:35:55.169Z"
   },
   {
    "duration": 35,
    "start_time": "2024-09-21T08:35:55.175Z"
   },
   {
    "duration": 35,
    "start_time": "2024-09-21T08:35:55.212Z"
   },
   {
    "duration": 12,
    "start_time": "2024-09-21T08:35:55.249Z"
   },
   {
    "duration": 186,
    "start_time": "2024-09-21T08:35:55.262Z"
   },
   {
    "duration": 0,
    "start_time": "2024-09-21T08:35:55.450Z"
   },
   {
    "duration": 0,
    "start_time": "2024-09-21T08:35:55.451Z"
   },
   {
    "duration": 0,
    "start_time": "2024-09-21T08:35:55.452Z"
   },
   {
    "duration": 0,
    "start_time": "2024-09-21T08:35:55.453Z"
   },
   {
    "duration": 0,
    "start_time": "2024-09-21T08:35:55.454Z"
   },
   {
    "duration": 0,
    "start_time": "2024-09-21T08:35:55.455Z"
   },
   {
    "duration": 0,
    "start_time": "2024-09-21T08:35:55.456Z"
   },
   {
    "duration": 0,
    "start_time": "2024-09-21T08:35:55.457Z"
   },
   {
    "duration": 0,
    "start_time": "2024-09-21T08:35:55.459Z"
   },
   {
    "duration": 0,
    "start_time": "2024-09-21T08:35:55.460Z"
   },
   {
    "duration": 0,
    "start_time": "2024-09-21T08:35:55.461Z"
   },
   {
    "duration": 0,
    "start_time": "2024-09-21T08:35:55.462Z"
   },
   {
    "duration": 0,
    "start_time": "2024-09-21T08:35:55.463Z"
   },
   {
    "duration": 0,
    "start_time": "2024-09-21T08:35:55.464Z"
   },
   {
    "duration": 0,
    "start_time": "2024-09-21T08:35:55.466Z"
   },
   {
    "duration": 0,
    "start_time": "2024-09-21T08:35:55.467Z"
   },
   {
    "duration": 0,
    "start_time": "2024-09-21T08:35:55.468Z"
   },
   {
    "duration": 31,
    "start_time": "2024-09-21T08:37:16.580Z"
   },
   {
    "duration": 12,
    "start_time": "2024-09-21T08:37:24.779Z"
   },
   {
    "duration": 6,
    "start_time": "2024-09-21T08:37:46.721Z"
   },
   {
    "duration": 8,
    "start_time": "2024-09-21T08:37:47.660Z"
   },
   {
    "duration": 5,
    "start_time": "2024-09-21T08:37:49.129Z"
   },
   {
    "duration": 10,
    "start_time": "2024-09-21T08:37:51.806Z"
   },
   {
    "duration": 698,
    "start_time": "2024-09-21T08:38:03.603Z"
   },
   {
    "duration": 21,
    "start_time": "2024-09-21T08:38:05.094Z"
   },
   {
    "duration": 4,
    "start_time": "2024-09-21T08:38:24.852Z"
   },
   {
    "duration": 3,
    "start_time": "2024-09-21T08:38:25.997Z"
   },
   {
    "duration": 9,
    "start_time": "2024-09-21T08:38:36.254Z"
   },
   {
    "duration": 3,
    "start_time": "2024-09-21T08:38:46.867Z"
   },
   {
    "duration": 7,
    "start_time": "2024-09-21T08:38:48.714Z"
   },
   {
    "duration": 9,
    "start_time": "2024-09-21T08:38:50.505Z"
   },
   {
    "duration": 5,
    "start_time": "2024-09-21T08:38:53.014Z"
   },
   {
    "duration": 5,
    "start_time": "2024-09-21T08:39:01.939Z"
   },
   {
    "duration": 2,
    "start_time": "2024-09-21T08:39:05.404Z"
   },
   {
    "duration": 32,
    "start_time": "2024-09-21T08:39:06.244Z"
   },
   {
    "duration": 7,
    "start_time": "2024-09-21T08:39:09.523Z"
   },
   {
    "duration": 16,
    "start_time": "2024-09-21T08:39:19.709Z"
   },
   {
    "duration": 13,
    "start_time": "2024-09-21T08:39:21.336Z"
   },
   {
    "duration": 156,
    "start_time": "2024-09-21T08:39:52.176Z"
   },
   {
    "duration": 0,
    "start_time": "2024-09-21T08:39:52.334Z"
   },
   {
    "duration": 0,
    "start_time": "2024-09-21T08:39:52.335Z"
   },
   {
    "duration": 0,
    "start_time": "2024-09-21T08:39:52.336Z"
   },
   {
    "duration": 0,
    "start_time": "2024-09-21T08:39:52.337Z"
   },
   {
    "duration": 0,
    "start_time": "2024-09-21T08:39:52.342Z"
   },
   {
    "duration": 0,
    "start_time": "2024-09-21T08:39:52.344Z"
   },
   {
    "duration": 0,
    "start_time": "2024-09-21T08:39:52.345Z"
   },
   {
    "duration": 0,
    "start_time": "2024-09-21T08:39:52.347Z"
   },
   {
    "duration": 0,
    "start_time": "2024-09-21T08:39:52.348Z"
   },
   {
    "duration": 0,
    "start_time": "2024-09-21T08:39:52.350Z"
   },
   {
    "duration": 0,
    "start_time": "2024-09-21T08:39:52.351Z"
   },
   {
    "duration": 0,
    "start_time": "2024-09-21T08:39:52.352Z"
   },
   {
    "duration": 0,
    "start_time": "2024-09-21T08:39:52.354Z"
   },
   {
    "duration": 0,
    "start_time": "2024-09-21T08:39:52.355Z"
   },
   {
    "duration": 0,
    "start_time": "2024-09-21T08:39:52.356Z"
   },
   {
    "duration": 0,
    "start_time": "2024-09-21T08:39:52.357Z"
   },
   {
    "duration": 0,
    "start_time": "2024-09-21T08:39:52.358Z"
   },
   {
    "duration": 12,
    "start_time": "2024-09-21T08:40:56.351Z"
   },
   {
    "duration": 12,
    "start_time": "2024-09-21T08:41:21.963Z"
   },
   {
    "duration": 328,
    "start_time": "2024-09-21T08:41:50.747Z"
   },
   {
    "duration": 35,
    "start_time": "2024-09-21T08:41:51.076Z"
   },
   {
    "duration": 10,
    "start_time": "2024-09-21T08:41:51.112Z"
   },
   {
    "duration": 31,
    "start_time": "2024-09-21T08:41:51.124Z"
   },
   {
    "duration": 189,
    "start_time": "2024-09-21T08:41:51.158Z"
   },
   {
    "duration": 0,
    "start_time": "2024-09-21T08:41:51.349Z"
   },
   {
    "duration": 0,
    "start_time": "2024-09-21T08:41:51.351Z"
   },
   {
    "duration": 0,
    "start_time": "2024-09-21T08:41:51.352Z"
   },
   {
    "duration": 0,
    "start_time": "2024-09-21T08:41:51.353Z"
   },
   {
    "duration": 0,
    "start_time": "2024-09-21T08:41:51.355Z"
   },
   {
    "duration": 0,
    "start_time": "2024-09-21T08:41:51.356Z"
   },
   {
    "duration": 0,
    "start_time": "2024-09-21T08:41:51.357Z"
   },
   {
    "duration": 0,
    "start_time": "2024-09-21T08:41:51.360Z"
   },
   {
    "duration": 0,
    "start_time": "2024-09-21T08:41:51.361Z"
   },
   {
    "duration": 0,
    "start_time": "2024-09-21T08:41:51.363Z"
   },
   {
    "duration": 0,
    "start_time": "2024-09-21T08:41:51.364Z"
   },
   {
    "duration": 0,
    "start_time": "2024-09-21T08:41:51.366Z"
   },
   {
    "duration": 0,
    "start_time": "2024-09-21T08:41:51.367Z"
   },
   {
    "duration": 0,
    "start_time": "2024-09-21T08:41:51.369Z"
   },
   {
    "duration": 0,
    "start_time": "2024-09-21T08:41:51.370Z"
   },
   {
    "duration": 0,
    "start_time": "2024-09-21T08:41:51.371Z"
   },
   {
    "duration": 0,
    "start_time": "2024-09-21T08:41:51.372Z"
   },
   {
    "duration": 13,
    "start_time": "2024-09-21T08:43:36.585Z"
   },
   {
    "duration": 3,
    "start_time": "2024-09-21T08:44:01.231Z"
   },
   {
    "duration": 34,
    "start_time": "2024-09-21T08:44:02.119Z"
   },
   {
    "duration": 7,
    "start_time": "2024-09-21T08:44:03.379Z"
   },
   {
    "duration": 16,
    "start_time": "2024-09-21T08:44:05.226Z"
   },
   {
    "duration": 12,
    "start_time": "2024-09-21T08:44:13.648Z"
   },
   {
    "duration": 13,
    "start_time": "2024-09-21T08:51:47.331Z"
   },
   {
    "duration": 3,
    "start_time": "2024-09-21T08:52:57.302Z"
   },
   {
    "duration": 12,
    "start_time": "2024-09-21T08:52:58.806Z"
   },
   {
    "duration": 126,
    "start_time": "2024-09-21T08:53:59.825Z"
   },
   {
    "duration": 11,
    "start_time": "2024-09-21T08:54:00.797Z"
   },
   {
    "duration": 35,
    "start_time": "2024-09-21T08:54:06.956Z"
   },
   {
    "duration": 11,
    "start_time": "2024-09-21T08:54:07.959Z"
   },
   {
    "duration": 6,
    "start_time": "2024-09-21T08:54:12.600Z"
   },
   {
    "duration": 8,
    "start_time": "2024-09-21T08:54:13.336Z"
   },
   {
    "duration": 7,
    "start_time": "2024-09-21T08:54:14.328Z"
   },
   {
    "duration": 8,
    "start_time": "2024-09-21T08:54:19.875Z"
   },
   {
    "duration": 710,
    "start_time": "2024-09-21T08:54:21.558Z"
   },
   {
    "duration": 24,
    "start_time": "2024-09-21T08:54:22.528Z"
   },
   {
    "duration": 2,
    "start_time": "2024-09-21T08:54:25.548Z"
   },
   {
    "duration": 86,
    "start_time": "2024-09-21T08:54:28.064Z"
   },
   {
    "duration": 13,
    "start_time": "2024-09-21T08:54:38.676Z"
   },
   {
    "duration": 3,
    "start_time": "2024-09-21T08:55:37.029Z"
   },
   {
    "duration": 6,
    "start_time": "2024-09-21T08:55:37.705Z"
   },
   {
    "duration": 6,
    "start_time": "2024-09-21T08:55:38.662Z"
   },
   {
    "duration": 13,
    "start_time": "2024-09-21T08:56:06.961Z"
   },
   {
    "duration": 10,
    "start_time": "2024-09-21T08:56:25.675Z"
   },
   {
    "duration": 3,
    "start_time": "2024-09-21T08:56:32.971Z"
   },
   {
    "duration": 3,
    "start_time": "2024-09-21T08:56:33.730Z"
   },
   {
    "duration": 3,
    "start_time": "2024-09-21T08:56:34.445Z"
   },
   {
    "duration": 10,
    "start_time": "2024-09-21T08:56:35.288Z"
   },
   {
    "duration": 2,
    "start_time": "2024-09-21T08:57:44.082Z"
   },
   {
    "duration": 2,
    "start_time": "2024-09-21T08:57:45.099Z"
   },
   {
    "duration": 309,
    "start_time": "2024-09-21T08:57:59.466Z"
   },
   {
    "duration": 177,
    "start_time": "2024-09-21T08:57:59.777Z"
   },
   {
    "duration": 0,
    "start_time": "2024-09-21T08:57:59.957Z"
   },
   {
    "duration": 0,
    "start_time": "2024-09-21T08:57:59.958Z"
   },
   {
    "duration": 0,
    "start_time": "2024-09-21T08:57:59.960Z"
   },
   {
    "duration": 0,
    "start_time": "2024-09-21T08:57:59.961Z"
   },
   {
    "duration": 0,
    "start_time": "2024-09-21T08:57:59.962Z"
   },
   {
    "duration": 0,
    "start_time": "2024-09-21T08:57:59.964Z"
   },
   {
    "duration": 0,
    "start_time": "2024-09-21T08:57:59.965Z"
   },
   {
    "duration": 0,
    "start_time": "2024-09-21T08:57:59.966Z"
   },
   {
    "duration": 0,
    "start_time": "2024-09-21T08:57:59.967Z"
   },
   {
    "duration": 0,
    "start_time": "2024-09-21T08:57:59.968Z"
   },
   {
    "duration": 0,
    "start_time": "2024-09-21T08:57:59.969Z"
   },
   {
    "duration": 0,
    "start_time": "2024-09-21T08:57:59.971Z"
   },
   {
    "duration": 0,
    "start_time": "2024-09-21T08:57:59.971Z"
   },
   {
    "duration": 0,
    "start_time": "2024-09-21T08:57:59.973Z"
   },
   {
    "duration": 0,
    "start_time": "2024-09-21T08:57:59.974Z"
   },
   {
    "duration": 0,
    "start_time": "2024-09-21T08:57:59.975Z"
   },
   {
    "duration": 0,
    "start_time": "2024-09-21T08:57:59.976Z"
   },
   {
    "duration": 0,
    "start_time": "2024-09-21T08:57:59.977Z"
   },
   {
    "duration": 0,
    "start_time": "2024-09-21T08:57:59.978Z"
   },
   {
    "duration": 0,
    "start_time": "2024-09-21T08:57:59.979Z"
   },
   {
    "duration": 0,
    "start_time": "2024-09-21T08:57:59.980Z"
   },
   {
    "duration": 0,
    "start_time": "2024-09-21T08:57:59.981Z"
   },
   {
    "duration": 0,
    "start_time": "2024-09-21T08:57:59.982Z"
   },
   {
    "duration": 0,
    "start_time": "2024-09-21T08:57:59.983Z"
   },
   {
    "duration": 0,
    "start_time": "2024-09-21T08:57:59.984Z"
   },
   {
    "duration": 0,
    "start_time": "2024-09-21T08:57:59.985Z"
   },
   {
    "duration": 0,
    "start_time": "2024-09-21T08:57:59.986Z"
   },
   {
    "duration": 0,
    "start_time": "2024-09-21T08:57:59.987Z"
   },
   {
    "duration": 311,
    "start_time": "2024-09-21T08:59:05.982Z"
   },
   {
    "duration": 183,
    "start_time": "2024-09-21T08:59:06.296Z"
   },
   {
    "duration": 0,
    "start_time": "2024-09-21T08:59:06.482Z"
   },
   {
    "duration": 0,
    "start_time": "2024-09-21T08:59:06.483Z"
   },
   {
    "duration": 1,
    "start_time": "2024-09-21T08:59:06.484Z"
   },
   {
    "duration": 0,
    "start_time": "2024-09-21T08:59:06.486Z"
   },
   {
    "duration": 0,
    "start_time": "2024-09-21T08:59:06.488Z"
   },
   {
    "duration": 0,
    "start_time": "2024-09-21T08:59:06.489Z"
   },
   {
    "duration": 0,
    "start_time": "2024-09-21T08:59:06.491Z"
   },
   {
    "duration": 0,
    "start_time": "2024-09-21T08:59:06.492Z"
   },
   {
    "duration": 0,
    "start_time": "2024-09-21T08:59:06.493Z"
   },
   {
    "duration": 0,
    "start_time": "2024-09-21T08:59:06.495Z"
   },
   {
    "duration": 0,
    "start_time": "2024-09-21T08:59:06.496Z"
   },
   {
    "duration": 0,
    "start_time": "2024-09-21T08:59:06.498Z"
   },
   {
    "duration": 0,
    "start_time": "2024-09-21T08:59:06.499Z"
   },
   {
    "duration": 0,
    "start_time": "2024-09-21T08:59:06.501Z"
   },
   {
    "duration": 0,
    "start_time": "2024-09-21T08:59:06.502Z"
   },
   {
    "duration": 0,
    "start_time": "2024-09-21T08:59:06.504Z"
   },
   {
    "duration": 0,
    "start_time": "2024-09-21T08:59:06.543Z"
   },
   {
    "duration": 0,
    "start_time": "2024-09-21T08:59:06.545Z"
   },
   {
    "duration": 0,
    "start_time": "2024-09-21T08:59:06.546Z"
   },
   {
    "duration": 0,
    "start_time": "2024-09-21T08:59:06.547Z"
   },
   {
    "duration": 0,
    "start_time": "2024-09-21T08:59:06.548Z"
   },
   {
    "duration": 0,
    "start_time": "2024-09-21T08:59:06.549Z"
   },
   {
    "duration": 0,
    "start_time": "2024-09-21T08:59:06.550Z"
   },
   {
    "duration": 0,
    "start_time": "2024-09-21T08:59:06.551Z"
   },
   {
    "duration": 0,
    "start_time": "2024-09-21T08:59:06.552Z"
   },
   {
    "duration": 0,
    "start_time": "2024-09-21T08:59:06.554Z"
   },
   {
    "duration": 0,
    "start_time": "2024-09-21T08:59:06.556Z"
   },
   {
    "duration": 0,
    "start_time": "2024-09-21T08:59:06.557Z"
   },
   {
    "duration": 3,
    "start_time": "2024-09-21T08:59:38.717Z"
   },
   {
    "duration": 13,
    "start_time": "2024-09-21T08:59:39.687Z"
   },
   {
    "duration": 267,
    "start_time": "2024-09-21T08:59:54.309Z"
   },
   {
    "duration": 178,
    "start_time": "2024-09-21T08:59:54.578Z"
   },
   {
    "duration": 0,
    "start_time": "2024-09-21T08:59:54.759Z"
   },
   {
    "duration": 0,
    "start_time": "2024-09-21T08:59:54.760Z"
   },
   {
    "duration": 0,
    "start_time": "2024-09-21T08:59:54.762Z"
   },
   {
    "duration": 0,
    "start_time": "2024-09-21T08:59:54.763Z"
   },
   {
    "duration": 0,
    "start_time": "2024-09-21T08:59:54.764Z"
   },
   {
    "duration": 0,
    "start_time": "2024-09-21T08:59:54.765Z"
   },
   {
    "duration": 1,
    "start_time": "2024-09-21T08:59:54.765Z"
   },
   {
    "duration": 0,
    "start_time": "2024-09-21T08:59:54.767Z"
   },
   {
    "duration": 0,
    "start_time": "2024-09-21T08:59:54.769Z"
   },
   {
    "duration": 0,
    "start_time": "2024-09-21T08:59:54.770Z"
   },
   {
    "duration": 0,
    "start_time": "2024-09-21T08:59:54.771Z"
   },
   {
    "duration": 0,
    "start_time": "2024-09-21T08:59:54.772Z"
   },
   {
    "duration": 0,
    "start_time": "2024-09-21T08:59:54.774Z"
   },
   {
    "duration": 0,
    "start_time": "2024-09-21T08:59:54.775Z"
   },
   {
    "duration": 0,
    "start_time": "2024-09-21T08:59:54.777Z"
   },
   {
    "duration": 0,
    "start_time": "2024-09-21T08:59:54.778Z"
   },
   {
    "duration": 0,
    "start_time": "2024-09-21T08:59:54.780Z"
   },
   {
    "duration": 0,
    "start_time": "2024-09-21T08:59:54.781Z"
   },
   {
    "duration": 0,
    "start_time": "2024-09-21T08:59:54.782Z"
   },
   {
    "duration": 0,
    "start_time": "2024-09-21T08:59:54.783Z"
   },
   {
    "duration": 0,
    "start_time": "2024-09-21T08:59:54.784Z"
   },
   {
    "duration": 0,
    "start_time": "2024-09-21T08:59:54.785Z"
   },
   {
    "duration": 0,
    "start_time": "2024-09-21T08:59:54.786Z"
   },
   {
    "duration": 0,
    "start_time": "2024-09-21T08:59:54.788Z"
   },
   {
    "duration": 0,
    "start_time": "2024-09-21T08:59:54.788Z"
   },
   {
    "duration": 0,
    "start_time": "2024-09-21T08:59:54.789Z"
   },
   {
    "duration": 0,
    "start_time": "2024-09-21T08:59:54.790Z"
   },
   {
    "duration": 0,
    "start_time": "2024-09-21T08:59:54.791Z"
   },
   {
    "duration": 160,
    "start_time": "2024-09-21T09:01:30.888Z"
   },
   {
    "duration": 12,
    "start_time": "2024-09-21T09:02:19.625Z"
   },
   {
    "duration": 12,
    "start_time": "2024-09-21T09:02:23.639Z"
   },
   {
    "duration": 160,
    "start_time": "2024-09-21T09:02:41.409Z"
   },
   {
    "duration": 0,
    "start_time": "2024-09-21T09:02:41.571Z"
   },
   {
    "duration": 0,
    "start_time": "2024-09-21T09:02:41.575Z"
   },
   {
    "duration": 0,
    "start_time": "2024-09-21T09:02:41.576Z"
   },
   {
    "duration": 0,
    "start_time": "2024-09-21T09:02:41.577Z"
   },
   {
    "duration": 0,
    "start_time": "2024-09-21T09:02:41.578Z"
   },
   {
    "duration": 0,
    "start_time": "2024-09-21T09:02:41.579Z"
   },
   {
    "duration": 0,
    "start_time": "2024-09-21T09:02:41.580Z"
   },
   {
    "duration": 0,
    "start_time": "2024-09-21T09:02:41.581Z"
   },
   {
    "duration": 0,
    "start_time": "2024-09-21T09:02:41.582Z"
   },
   {
    "duration": 0,
    "start_time": "2024-09-21T09:02:41.583Z"
   },
   {
    "duration": 0,
    "start_time": "2024-09-21T09:02:41.584Z"
   },
   {
    "duration": 0,
    "start_time": "2024-09-21T09:02:41.585Z"
   },
   {
    "duration": 0,
    "start_time": "2024-09-21T09:02:41.586Z"
   },
   {
    "duration": 0,
    "start_time": "2024-09-21T09:02:41.587Z"
   },
   {
    "duration": 0,
    "start_time": "2024-09-21T09:02:41.588Z"
   },
   {
    "duration": 0,
    "start_time": "2024-09-21T09:02:41.589Z"
   },
   {
    "duration": 0,
    "start_time": "2024-09-21T09:02:41.590Z"
   },
   {
    "duration": 0,
    "start_time": "2024-09-21T09:02:41.591Z"
   },
   {
    "duration": 0,
    "start_time": "2024-09-21T09:02:41.592Z"
   },
   {
    "duration": 0,
    "start_time": "2024-09-21T09:02:41.593Z"
   },
   {
    "duration": 0,
    "start_time": "2024-09-21T09:02:41.594Z"
   },
   {
    "duration": 0,
    "start_time": "2024-09-21T09:02:41.595Z"
   },
   {
    "duration": 0,
    "start_time": "2024-09-21T09:02:41.596Z"
   },
   {
    "duration": 0,
    "start_time": "2024-09-21T09:02:41.597Z"
   },
   {
    "duration": 0,
    "start_time": "2024-09-21T09:02:41.598Z"
   },
   {
    "duration": 12,
    "start_time": "2024-09-21T09:05:24.025Z"
   },
   {
    "duration": 13,
    "start_time": "2024-09-21T09:06:25.607Z"
   },
   {
    "duration": 12,
    "start_time": "2024-09-21T09:07:14.694Z"
   },
   {
    "duration": 12,
    "start_time": "2024-09-21T09:09:24.890Z"
   },
   {
    "duration": 12,
    "start_time": "2024-09-21T09:16:40.562Z"
   },
   {
    "duration": 35,
    "start_time": "2024-09-21T09:33:26.428Z"
   },
   {
    "duration": 12,
    "start_time": "2024-09-21T09:33:30.157Z"
   },
   {
    "duration": 13,
    "start_time": "2024-09-21T09:36:12.582Z"
   },
   {
    "duration": 281,
    "start_time": "2024-09-21T09:37:02.888Z"
   },
   {
    "duration": 43,
    "start_time": "2024-09-21T09:37:03.942Z"
   },
   {
    "duration": 3,
    "start_time": "2024-09-21T09:38:14.569Z"
   },
   {
    "duration": 3,
    "start_time": "2024-09-21T09:39:14.525Z"
   },
   {
    "duration": 713,
    "start_time": "2024-09-21T09:39:15.475Z"
   },
   {
    "duration": 35,
    "start_time": "2024-09-21T09:39:16.409Z"
   },
   {
    "duration": 3,
    "start_time": "2024-09-21T09:39:26.754Z"
   },
   {
    "duration": 709,
    "start_time": "2024-09-21T09:39:28.243Z"
   },
   {
    "duration": 14,
    "start_time": "2024-09-21T09:39:32.045Z"
   },
   {
    "duration": 12,
    "start_time": "2024-09-21T09:41:07.015Z"
   },
   {
    "duration": 2,
    "start_time": "2024-09-21T09:41:15.156Z"
   },
   {
    "duration": 5,
    "start_time": "2024-09-21T09:50:47.466Z"
   },
   {
    "duration": 2,
    "start_time": "2024-09-21T09:53:26.223Z"
   },
   {
    "duration": 715,
    "start_time": "2024-09-21T09:53:26.961Z"
   },
   {
    "duration": 10,
    "start_time": "2024-09-21T09:54:22.476Z"
   },
   {
    "duration": 8,
    "start_time": "2024-09-21T09:54:48.677Z"
   },
   {
    "duration": 26,
    "start_time": "2024-09-21T09:56:05.906Z"
   },
   {
    "duration": 37,
    "start_time": "2024-09-21T10:08:59.756Z"
   },
   {
    "duration": 5,
    "start_time": "2024-09-21T10:18:43.100Z"
   },
   {
    "duration": 187,
    "start_time": "2024-09-21T10:18:59.760Z"
   },
   {
    "duration": 12,
    "start_time": "2024-09-21T10:19:49.818Z"
   },
   {
    "duration": 8,
    "start_time": "2024-09-21T10:25:20.504Z"
   },
   {
    "duration": 8,
    "start_time": "2024-09-21T10:25:57.194Z"
   },
   {
    "duration": 14,
    "start_time": "2024-09-21T10:51:40.321Z"
   },
   {
    "duration": 9,
    "start_time": "2024-09-21T10:52:32.421Z"
   },
   {
    "duration": 509,
    "start_time": "2024-09-21T10:57:46.491Z"
   },
   {
    "duration": 50,
    "start_time": "2024-09-21T10:59:59.492Z"
   },
   {
    "duration": 36,
    "start_time": "2024-09-21T11:00:48.059Z"
   },
   {
    "duration": 7,
    "start_time": "2024-09-21T11:00:50.599Z"
   },
   {
    "duration": 11,
    "start_time": "2024-09-21T11:01:36.713Z"
   },
   {
    "duration": 157,
    "start_time": "2024-09-21T17:15:04.693Z"
   },
   {
    "duration": 273,
    "start_time": "2024-09-21T17:15:19.231Z"
   },
   {
    "duration": 322,
    "start_time": "2024-09-21T17:15:20.179Z"
   },
   {
    "duration": 2,
    "start_time": "2024-09-21T17:15:23.847Z"
   },
   {
    "duration": 258,
    "start_time": "2024-09-21T17:15:24.785Z"
   },
   {
    "duration": 22,
    "start_time": "2024-09-21T17:15:25.543Z"
   },
   {
    "duration": 119,
    "start_time": "2024-09-21T17:15:28.491Z"
   },
   {
    "duration": 11,
    "start_time": "2024-09-21T17:15:35.956Z"
   },
   {
    "duration": 62,
    "start_time": "2024-09-21T17:15:38.044Z"
   },
   {
    "duration": 31,
    "start_time": "2024-09-21T17:16:09.273Z"
   },
   {
    "duration": 11,
    "start_time": "2024-09-21T17:16:11.814Z"
   },
   {
    "duration": 33,
    "start_time": "2024-09-21T17:16:54.179Z"
   },
   {
    "duration": 10,
    "start_time": "2024-09-21T17:16:55.070Z"
   },
   {
    "duration": 9,
    "start_time": "2024-09-21T17:17:15.538Z"
   },
   {
    "duration": 7,
    "start_time": "2024-09-21T17:17:17.452Z"
   },
   {
    "duration": 6,
    "start_time": "2024-09-21T17:17:52.320Z"
   },
   {
    "duration": 8,
    "start_time": "2024-09-21T17:17:54.211Z"
   },
   {
    "duration": 8,
    "start_time": "2024-09-21T17:18:16.864Z"
   },
   {
    "duration": 8,
    "start_time": "2024-09-21T17:18:18.132Z"
   },
   {
    "duration": 5,
    "start_time": "2024-09-21T17:18:45.591Z"
   },
   {
    "duration": 8,
    "start_time": "2024-09-21T17:18:46.817Z"
   },
   {
    "duration": 1914,
    "start_time": "2024-09-21T17:19:26.374Z"
   },
   {
    "duration": 120,
    "start_time": "2024-09-21T17:19:28.401Z"
   },
   {
    "duration": 761,
    "start_time": "2024-09-21T17:20:04.971Z"
   },
   {
    "duration": 23,
    "start_time": "2024-09-21T17:20:06.405Z"
   },
   {
    "duration": 2,
    "start_time": "2024-09-21T17:20:26.366Z"
   },
   {
    "duration": 80,
    "start_time": "2024-09-21T17:20:29.929Z"
   },
   {
    "duration": 6,
    "start_time": "2024-09-21T17:20:41.589Z"
   },
   {
    "duration": 34,
    "start_time": "2024-09-21T17:20:46.096Z"
   },
   {
    "duration": 11,
    "start_time": "2024-09-21T17:21:18.600Z"
   },
   {
    "duration": 299,
    "start_time": "2024-09-21T17:22:26.441Z"
   },
   {
    "duration": 302,
    "start_time": "2024-09-21T17:24:49.879Z"
   },
   {
    "duration": 248,
    "start_time": "2024-09-21T17:24:50.183Z"
   },
   {
    "duration": 26,
    "start_time": "2024-09-21T17:24:50.433Z"
   },
   {
    "duration": 144,
    "start_time": "2024-09-21T17:24:50.463Z"
   },
   {
    "duration": 10,
    "start_time": "2024-09-21T17:24:50.609Z"
   },
   {
    "duration": 43,
    "start_time": "2024-09-21T17:24:50.620Z"
   },
   {
    "duration": 11,
    "start_time": "2024-09-21T17:24:50.665Z"
   },
   {
    "duration": 5,
    "start_time": "2024-09-21T17:24:50.677Z"
   },
   {
    "duration": 7,
    "start_time": "2024-09-21T17:24:50.683Z"
   },
   {
    "duration": 4,
    "start_time": "2024-09-21T17:24:50.694Z"
   },
   {
    "duration": 7,
    "start_time": "2024-09-21T17:24:50.700Z"
   },
   {
    "duration": 738,
    "start_time": "2024-09-21T17:24:50.709Z"
   },
   {
    "duration": 23,
    "start_time": "2024-09-21T17:24:51.449Z"
   },
   {
    "duration": 2,
    "start_time": "2024-09-21T17:24:51.474Z"
   },
   {
    "duration": 92,
    "start_time": "2024-09-21T17:24:51.479Z"
   },
   {
    "duration": 6,
    "start_time": "2024-09-21T17:24:51.573Z"
   },
   {
    "duration": 453,
    "start_time": "2024-09-21T17:24:54.189Z"
   },
   {
    "duration": 40,
    "start_time": "2024-09-21T17:25:45.778Z"
   },
   {
    "duration": 2,
    "start_time": "2024-09-21T17:26:17.520Z"
   },
   {
    "duration": 2,
    "start_time": "2024-09-21T17:26:20.104Z"
   },
   {
    "duration": 3,
    "start_time": "2024-09-21T17:26:21.137Z"
   },
   {
    "duration": 40,
    "start_time": "2024-09-21T17:26:35.331Z"
   },
   {
    "duration": 6,
    "start_time": "2024-09-21T17:37:05.930Z"
   },
   {
    "duration": 3,
    "start_time": "2024-09-21T17:37:57.525Z"
   },
   {
    "duration": 38,
    "start_time": "2024-09-21T17:40:19.704Z"
   },
   {
    "duration": 6,
    "start_time": "2024-09-21T17:47:38.572Z"
   },
   {
    "duration": 2,
    "start_time": "2024-09-21T17:48:41.314Z"
   },
   {
    "duration": 3,
    "start_time": "2024-09-21T17:48:42.226Z"
   },
   {
    "duration": 3,
    "start_time": "2024-09-21T17:48:43.038Z"
   },
   {
    "duration": 6,
    "start_time": "2024-09-21T17:48:43.867Z"
   },
   {
    "duration": 4,
    "start_time": "2024-09-21T17:50:31.641Z"
   },
   {
    "duration": 3,
    "start_time": "2024-09-21T17:51:00.450Z"
   },
   {
    "duration": 229,
    "start_time": "2024-09-21T17:51:15.124Z"
   },
   {
    "duration": 20,
    "start_time": "2024-09-21T17:51:16.363Z"
   },
   {
    "duration": 115,
    "start_time": "2024-09-21T17:51:17.898Z"
   },
   {
    "duration": 9,
    "start_time": "2024-09-21T17:51:18.976Z"
   },
   {
    "duration": 32,
    "start_time": "2024-09-21T17:51:22.686Z"
   },
   {
    "duration": 10,
    "start_time": "2024-09-21T17:51:23.427Z"
   },
   {
    "duration": 7,
    "start_time": "2024-09-21T17:51:26.653Z"
   },
   {
    "duration": 8,
    "start_time": "2024-09-21T17:51:27.371Z"
   },
   {
    "duration": 6,
    "start_time": "2024-09-21T17:51:32.181Z"
   },
   {
    "duration": 9,
    "start_time": "2024-09-21T17:51:32.846Z"
   },
   {
    "duration": 698,
    "start_time": "2024-09-21T17:51:34.743Z"
   },
   {
    "duration": 20,
    "start_time": "2024-09-21T17:51:35.696Z"
   },
   {
    "duration": 2,
    "start_time": "2024-09-21T17:51:43.716Z"
   },
   {
    "duration": 73,
    "start_time": "2024-09-21T17:51:44.395Z"
   },
   {
    "duration": 6,
    "start_time": "2024-09-21T17:51:44.979Z"
   },
   {
    "duration": 5,
    "start_time": "2024-09-21T17:51:46.139Z"
   },
   {
    "duration": 4,
    "start_time": "2024-09-21T17:52:17.997Z"
   },
   {
    "duration": 37,
    "start_time": "2024-09-21T18:06:10.161Z"
   },
   {
    "duration": 2,
    "start_time": "2024-09-21T18:07:11.571Z"
   },
   {
    "duration": 246,
    "start_time": "2024-09-21T18:07:12.311Z"
   },
   {
    "duration": 89,
    "start_time": "2024-09-21T18:07:13.455Z"
   },
   {
    "duration": 21,
    "start_time": "2024-09-21T18:07:22.585Z"
   },
   {
    "duration": 114,
    "start_time": "2024-09-21T18:07:26.416Z"
   },
   {
    "duration": 11,
    "start_time": "2024-09-21T18:07:35.950Z"
   },
   {
    "duration": 32,
    "start_time": "2024-09-21T18:07:36.969Z"
   },
   {
    "duration": 10,
    "start_time": "2024-09-21T18:07:38.002Z"
   },
   {
    "duration": 6,
    "start_time": "2024-09-21T18:07:43.814Z"
   },
   {
    "duration": 8,
    "start_time": "2024-09-21T18:07:44.604Z"
   },
   {
    "duration": 6,
    "start_time": "2024-09-21T18:07:45.581Z"
   },
   {
    "duration": 8,
    "start_time": "2024-09-21T18:07:52.045Z"
   },
   {
    "duration": 704,
    "start_time": "2024-09-21T18:07:53.096Z"
   },
   {
    "duration": 21,
    "start_time": "2024-09-21T18:07:54.068Z"
   },
   {
    "duration": 2,
    "start_time": "2024-09-21T18:08:01.374Z"
   },
   {
    "duration": 72,
    "start_time": "2024-09-21T18:08:02.070Z"
   },
   {
    "duration": 6,
    "start_time": "2024-09-21T18:08:02.868Z"
   },
   {
    "duration": 4,
    "start_time": "2024-09-21T18:08:07.761Z"
   },
   {
    "duration": 279,
    "start_time": "2024-09-21T18:11:21.902Z"
   },
   {
    "duration": 254,
    "start_time": "2024-09-21T18:11:22.183Z"
   },
   {
    "duration": 23,
    "start_time": "2024-09-21T18:11:22.438Z"
   },
   {
    "duration": 143,
    "start_time": "2024-09-21T18:11:22.462Z"
   },
   {
    "duration": 10,
    "start_time": "2024-09-21T18:11:22.609Z"
   },
   {
    "duration": 39,
    "start_time": "2024-09-21T18:11:22.620Z"
   },
   {
    "duration": 12,
    "start_time": "2024-09-21T18:11:22.661Z"
   },
   {
    "duration": 5,
    "start_time": "2024-09-21T18:11:22.675Z"
   },
   {
    "duration": 8,
    "start_time": "2024-09-21T18:11:22.682Z"
   },
   {
    "duration": 4,
    "start_time": "2024-09-21T18:11:22.692Z"
   },
   {
    "duration": 7,
    "start_time": "2024-09-21T18:11:22.698Z"
   },
   {
    "duration": 738,
    "start_time": "2024-09-21T18:11:22.707Z"
   },
   {
    "duration": 24,
    "start_time": "2024-09-21T18:11:23.448Z"
   },
   {
    "duration": 3,
    "start_time": "2024-09-21T18:11:23.476Z"
   },
   {
    "duration": 102,
    "start_time": "2024-09-21T18:11:23.480Z"
   },
   {
    "duration": 7,
    "start_time": "2024-09-21T18:11:23.584Z"
   },
   {
    "duration": 6,
    "start_time": "2024-09-21T18:11:23.593Z"
   },
   {
    "duration": 484,
    "start_time": "2024-09-21T18:11:23.601Z"
   },
   {
    "duration": 0,
    "start_time": "2024-09-21T18:11:24.087Z"
   },
   {
    "duration": 0,
    "start_time": "2024-09-21T18:11:24.088Z"
   },
   {
    "duration": 0,
    "start_time": "2024-09-21T18:11:24.089Z"
   },
   {
    "duration": 0,
    "start_time": "2024-09-21T18:11:24.091Z"
   },
   {
    "duration": 0,
    "start_time": "2024-09-21T18:11:24.092Z"
   },
   {
    "duration": 0,
    "start_time": "2024-09-21T18:11:24.093Z"
   },
   {
    "duration": 0,
    "start_time": "2024-09-21T18:11:24.095Z"
   },
   {
    "duration": 0,
    "start_time": "2024-09-21T18:11:24.096Z"
   },
   {
    "duration": 0,
    "start_time": "2024-09-21T18:11:24.097Z"
   },
   {
    "duration": 0,
    "start_time": "2024-09-21T18:11:24.100Z"
   },
   {
    "duration": 0,
    "start_time": "2024-09-21T18:11:24.101Z"
   },
   {
    "duration": 0,
    "start_time": "2024-09-21T18:11:24.103Z"
   },
   {
    "duration": 0,
    "start_time": "2024-09-21T18:11:24.104Z"
   },
   {
    "duration": 0,
    "start_time": "2024-09-21T18:11:24.106Z"
   },
   {
    "duration": 0,
    "start_time": "2024-09-21T18:11:24.107Z"
   },
   {
    "duration": 0,
    "start_time": "2024-09-21T18:11:24.142Z"
   },
   {
    "duration": 0,
    "start_time": "2024-09-21T18:11:24.143Z"
   },
   {
    "duration": 0,
    "start_time": "2024-09-21T18:11:24.144Z"
   },
   {
    "duration": 0,
    "start_time": "2024-09-21T18:11:24.145Z"
   },
   {
    "duration": 0,
    "start_time": "2024-09-21T18:11:24.146Z"
   },
   {
    "duration": 0,
    "start_time": "2024-09-21T18:11:24.147Z"
   },
   {
    "duration": 0,
    "start_time": "2024-09-21T18:11:24.148Z"
   },
   {
    "duration": 0,
    "start_time": "2024-09-21T18:11:24.149Z"
   },
   {
    "duration": 1,
    "start_time": "2024-09-21T18:11:24.150Z"
   },
   {
    "duration": 0,
    "start_time": "2024-09-21T18:11:24.152Z"
   },
   {
    "duration": 0,
    "start_time": "2024-09-21T18:11:24.153Z"
   },
   {
    "duration": 0,
    "start_time": "2024-09-21T18:11:24.155Z"
   },
   {
    "duration": 0,
    "start_time": "2024-09-21T18:11:24.158Z"
   },
   {
    "duration": 0,
    "start_time": "2024-09-21T18:11:24.159Z"
   },
   {
    "duration": 0,
    "start_time": "2024-09-21T18:11:24.161Z"
   },
   {
    "duration": 0,
    "start_time": "2024-09-21T18:11:24.162Z"
   },
   {
    "duration": 0,
    "start_time": "2024-09-21T18:11:24.164Z"
   },
   {
    "duration": 0,
    "start_time": "2024-09-21T18:11:24.165Z"
   },
   {
    "duration": 0,
    "start_time": "2024-09-21T18:11:24.167Z"
   },
   {
    "duration": 0,
    "start_time": "2024-09-21T18:11:24.169Z"
   },
   {
    "duration": 0,
    "start_time": "2024-09-21T18:11:24.170Z"
   },
   {
    "duration": 0,
    "start_time": "2024-09-21T18:11:24.172Z"
   },
   {
    "duration": 4,
    "start_time": "2024-09-21T18:17:30.200Z"
   },
   {
    "duration": 3,
    "start_time": "2024-09-21T18:17:40.814Z"
   },
   {
    "duration": 224,
    "start_time": "2024-09-21T18:17:41.729Z"
   },
   {
    "duration": 20,
    "start_time": "2024-09-21T18:17:43.741Z"
   },
   {
    "duration": 117,
    "start_time": "2024-09-21T18:17:46.030Z"
   },
   {
    "duration": 11,
    "start_time": "2024-09-21T18:17:49.822Z"
   },
   {
    "duration": 10,
    "start_time": "2024-09-21T18:17:51.636Z"
   },
   {
    "duration": 32,
    "start_time": "2024-09-21T18:19:36.069Z"
   },
   {
    "duration": 11,
    "start_time": "2024-09-21T18:19:36.945Z"
   },
   {
    "duration": 5,
    "start_time": "2024-09-21T18:19:42.099Z"
   },
   {
    "duration": 8,
    "start_time": "2024-09-21T18:19:43.823Z"
   },
   {
    "duration": 7,
    "start_time": "2024-09-21T18:20:49.254Z"
   },
   {
    "duration": 7,
    "start_time": "2024-09-21T18:22:07.156Z"
   },
   {
    "duration": 6,
    "start_time": "2024-09-21T18:23:23.613Z"
   },
   {
    "duration": 8,
    "start_time": "2024-09-21T18:24:39.134Z"
   },
   {
    "duration": 2,
    "start_time": "2024-09-21T18:27:00.283Z"
   },
   {
    "duration": 2,
    "start_time": "2024-09-21T18:27:18.876Z"
   },
   {
    "duration": 73,
    "start_time": "2024-09-21T18:27:20.060Z"
   },
   {
    "duration": 6,
    "start_time": "2024-09-21T18:27:28.613Z"
   },
   {
    "duration": 40,
    "start_time": "2024-09-21T18:27:41.732Z"
   },
   {
    "duration": 2,
    "start_time": "2024-09-21T18:48:28.646Z"
   },
   {
    "duration": 41,
    "start_time": "2024-09-21T18:55:43.329Z"
   },
   {
    "duration": 42,
    "start_time": "2024-09-21T18:57:29.576Z"
   },
   {
    "duration": 40,
    "start_time": "2024-09-21T18:59:18.088Z"
   },
   {
    "duration": 2,
    "start_time": "2024-09-21T18:59:40.233Z"
   },
   {
    "duration": 3,
    "start_time": "2024-09-21T18:59:41.982Z"
   },
   {
    "duration": 3,
    "start_time": "2024-09-21T18:59:43.865Z"
   },
   {
    "duration": 39,
    "start_time": "2024-09-21T18:59:45.459Z"
   },
   {
    "duration": 40,
    "start_time": "2024-09-21T19:07:58.331Z"
   },
   {
    "duration": 3,
    "start_time": "2024-09-21T19:08:29.248Z"
   },
   {
    "duration": 3,
    "start_time": "2024-09-21T19:08:30.239Z"
   },
   {
    "duration": 3,
    "start_time": "2024-09-21T19:08:31.123Z"
   },
   {
    "duration": 38,
    "start_time": "2024-09-21T19:08:32.488Z"
   },
   {
    "duration": 3,
    "start_time": "2024-09-21T19:10:59.489Z"
   },
   {
    "duration": 2,
    "start_time": "2024-09-21T19:11:00.344Z"
   },
   {
    "duration": 3,
    "start_time": "2024-09-21T19:11:01.200Z"
   },
   {
    "duration": 46,
    "start_time": "2024-09-21T19:11:02.537Z"
   },
   {
    "duration": 41,
    "start_time": "2024-09-21T19:12:22.666Z"
   },
   {
    "duration": 15,
    "start_time": "2024-09-21T19:32:24.647Z"
   },
   {
    "duration": 3,
    "start_time": "2024-09-21T19:33:43.356Z"
   },
   {
    "duration": 4,
    "start_time": "2024-09-21T19:33:56.046Z"
   },
   {
    "duration": 38,
    "start_time": "2024-09-21T19:34:06.722Z"
   },
   {
    "duration": 329,
    "start_time": "2024-09-21T19:35:34.865Z"
   },
   {
    "duration": 238,
    "start_time": "2024-09-21T19:35:35.197Z"
   },
   {
    "duration": 21,
    "start_time": "2024-09-21T19:35:35.437Z"
   },
   {
    "duration": 133,
    "start_time": "2024-09-21T19:35:35.461Z"
   },
   {
    "duration": 10,
    "start_time": "2024-09-21T19:35:35.597Z"
   },
   {
    "duration": 11,
    "start_time": "2024-09-21T19:35:35.609Z"
   },
   {
    "duration": 47,
    "start_time": "2024-09-21T19:35:35.621Z"
   },
   {
    "duration": 10,
    "start_time": "2024-09-21T19:35:35.669Z"
   },
   {
    "duration": 5,
    "start_time": "2024-09-21T19:35:35.681Z"
   },
   {
    "duration": 5,
    "start_time": "2024-09-21T19:35:35.688Z"
   },
   {
    "duration": 8,
    "start_time": "2024-09-21T19:35:35.694Z"
   },
   {
    "duration": 6,
    "start_time": "2024-09-21T19:35:35.703Z"
   },
   {
    "duration": 37,
    "start_time": "2024-09-21T19:35:35.710Z"
   },
   {
    "duration": 7,
    "start_time": "2024-09-21T19:35:35.750Z"
   },
   {
    "duration": 6,
    "start_time": "2024-09-21T19:35:35.759Z"
   },
   {
    "duration": 706,
    "start_time": "2024-09-21T19:35:35.766Z"
   },
   {
    "duration": 23,
    "start_time": "2024-09-21T19:35:36.474Z"
   },
   {
    "duration": 6,
    "start_time": "2024-09-21T19:35:36.499Z"
   },
   {
    "duration": 3,
    "start_time": "2024-09-21T19:35:36.507Z"
   },
   {
    "duration": 103,
    "start_time": "2024-09-21T19:35:36.512Z"
   },
   {
    "duration": 6,
    "start_time": "2024-09-21T19:35:36.617Z"
   },
   {
    "duration": 472,
    "start_time": "2024-09-21T19:35:36.624Z"
   },
   {
    "duration": 0,
    "start_time": "2024-09-21T19:35:37.099Z"
   },
   {
    "duration": 0,
    "start_time": "2024-09-21T19:35:37.100Z"
   },
   {
    "duration": 0,
    "start_time": "2024-09-21T19:35:37.101Z"
   },
   {
    "duration": 0,
    "start_time": "2024-09-21T19:35:37.103Z"
   },
   {
    "duration": 0,
    "start_time": "2024-09-21T19:35:37.104Z"
   },
   {
    "duration": 0,
    "start_time": "2024-09-21T19:35:37.106Z"
   },
   {
    "duration": 0,
    "start_time": "2024-09-21T19:35:37.108Z"
   },
   {
    "duration": 0,
    "start_time": "2024-09-21T19:35:37.109Z"
   },
   {
    "duration": 0,
    "start_time": "2024-09-21T19:35:37.111Z"
   },
   {
    "duration": 0,
    "start_time": "2024-09-21T19:35:37.112Z"
   },
   {
    "duration": 0,
    "start_time": "2024-09-21T19:35:37.113Z"
   },
   {
    "duration": 1,
    "start_time": "2024-09-21T19:35:37.114Z"
   },
   {
    "duration": 0,
    "start_time": "2024-09-21T19:35:37.143Z"
   },
   {
    "duration": 0,
    "start_time": "2024-09-21T19:35:37.144Z"
   },
   {
    "duration": 0,
    "start_time": "2024-09-21T19:35:37.145Z"
   },
   {
    "duration": 0,
    "start_time": "2024-09-21T19:35:37.146Z"
   },
   {
    "duration": 0,
    "start_time": "2024-09-21T19:35:37.147Z"
   },
   {
    "duration": 0,
    "start_time": "2024-09-21T19:35:37.148Z"
   },
   {
    "duration": 0,
    "start_time": "2024-09-21T19:35:37.148Z"
   },
   {
    "duration": 0,
    "start_time": "2024-09-21T19:35:37.149Z"
   },
   {
    "duration": 0,
    "start_time": "2024-09-21T19:35:37.151Z"
   },
   {
    "duration": 0,
    "start_time": "2024-09-21T19:35:37.152Z"
   },
   {
    "duration": 0,
    "start_time": "2024-09-21T19:35:37.153Z"
   },
   {
    "duration": 0,
    "start_time": "2024-09-21T19:35:37.153Z"
   },
   {
    "duration": 0,
    "start_time": "2024-09-21T19:35:37.157Z"
   },
   {
    "duration": 0,
    "start_time": "2024-09-21T19:35:37.158Z"
   },
   {
    "duration": 0,
    "start_time": "2024-09-21T19:35:37.158Z"
   },
   {
    "duration": 0,
    "start_time": "2024-09-21T19:35:37.159Z"
   },
   {
    "duration": 0,
    "start_time": "2024-09-21T19:35:37.161Z"
   },
   {
    "duration": 0,
    "start_time": "2024-09-21T19:35:37.162Z"
   },
   {
    "duration": 0,
    "start_time": "2024-09-21T19:35:37.163Z"
   },
   {
    "duration": 0,
    "start_time": "2024-09-21T19:35:37.164Z"
   },
   {
    "duration": 0,
    "start_time": "2024-09-21T19:35:37.165Z"
   },
   {
    "duration": 0,
    "start_time": "2024-09-21T19:35:37.165Z"
   },
   {
    "duration": 0,
    "start_time": "2024-09-21T19:35:37.166Z"
   },
   {
    "duration": 0,
    "start_time": "2024-09-21T19:35:37.167Z"
   },
   {
    "duration": 0,
    "start_time": "2024-09-21T19:35:37.168Z"
   },
   {
    "duration": 3,
    "start_time": "2024-09-21T19:36:40.900Z"
   },
   {
    "duration": 30,
    "start_time": "2024-09-21T19:36:41.712Z"
   },
   {
    "duration": 6,
    "start_time": "2024-09-21T19:36:42.699Z"
   },
   {
    "duration": 15,
    "start_time": "2024-09-21T19:36:55.234Z"
   },
   {
    "duration": 12,
    "start_time": "2024-09-21T19:37:01.190Z"
   },
   {
    "duration": 317,
    "start_time": "2024-09-21T19:37:24.580Z"
   },
   {
    "duration": 236,
    "start_time": "2024-09-21T19:37:24.899Z"
   },
   {
    "duration": 21,
    "start_time": "2024-09-21T19:37:25.137Z"
   },
   {
    "duration": 139,
    "start_time": "2024-09-21T19:37:25.161Z"
   },
   {
    "duration": 11,
    "start_time": "2024-09-21T19:37:25.302Z"
   },
   {
    "duration": 11,
    "start_time": "2024-09-21T19:37:25.314Z"
   },
   {
    "duration": 43,
    "start_time": "2024-09-21T19:37:25.327Z"
   },
   {
    "duration": 9,
    "start_time": "2024-09-21T19:37:25.372Z"
   },
   {
    "duration": 7,
    "start_time": "2024-09-21T19:37:25.383Z"
   },
   {
    "duration": 5,
    "start_time": "2024-09-21T19:37:25.392Z"
   },
   {
    "duration": 7,
    "start_time": "2024-09-21T19:37:25.398Z"
   },
   {
    "duration": 38,
    "start_time": "2024-09-21T19:37:25.407Z"
   },
   {
    "duration": 4,
    "start_time": "2024-09-21T19:37:25.447Z"
   },
   {
    "duration": 7,
    "start_time": "2024-09-21T19:37:25.452Z"
   },
   {
    "duration": 5,
    "start_time": "2024-09-21T19:37:25.461Z"
   },
   {
    "duration": 714,
    "start_time": "2024-09-21T19:37:25.467Z"
   },
   {
    "duration": 22,
    "start_time": "2024-09-21T19:37:26.183Z"
   },
   {
    "duration": 6,
    "start_time": "2024-09-21T19:37:26.207Z"
   },
   {
    "duration": 2,
    "start_time": "2024-09-21T19:37:26.215Z"
   },
   {
    "duration": 100,
    "start_time": "2024-09-21T19:37:26.218Z"
   },
   {
    "duration": 6,
    "start_time": "2024-09-21T19:37:26.319Z"
   },
   {
    "duration": 461,
    "start_time": "2024-09-21T19:37:26.327Z"
   },
   {
    "duration": 0,
    "start_time": "2024-09-21T19:37:26.791Z"
   },
   {
    "duration": 0,
    "start_time": "2024-09-21T19:37:26.794Z"
   },
   {
    "duration": 0,
    "start_time": "2024-09-21T19:37:26.796Z"
   },
   {
    "duration": 0,
    "start_time": "2024-09-21T19:37:26.797Z"
   },
   {
    "duration": 0,
    "start_time": "2024-09-21T19:37:26.798Z"
   },
   {
    "duration": 0,
    "start_time": "2024-09-21T19:37:26.800Z"
   },
   {
    "duration": 0,
    "start_time": "2024-09-21T19:37:26.802Z"
   },
   {
    "duration": 0,
    "start_time": "2024-09-21T19:37:26.803Z"
   },
   {
    "duration": 0,
    "start_time": "2024-09-21T19:37:26.804Z"
   },
   {
    "duration": 0,
    "start_time": "2024-09-21T19:37:26.805Z"
   },
   {
    "duration": 0,
    "start_time": "2024-09-21T19:37:26.806Z"
   },
   {
    "duration": 0,
    "start_time": "2024-09-21T19:37:26.808Z"
   },
   {
    "duration": 0,
    "start_time": "2024-09-21T19:37:26.809Z"
   },
   {
    "duration": 0,
    "start_time": "2024-09-21T19:37:26.811Z"
   },
   {
    "duration": 0,
    "start_time": "2024-09-21T19:37:26.812Z"
   },
   {
    "duration": 0,
    "start_time": "2024-09-21T19:37:26.814Z"
   },
   {
    "duration": 0,
    "start_time": "2024-09-21T19:37:26.843Z"
   },
   {
    "duration": 0,
    "start_time": "2024-09-21T19:37:26.844Z"
   },
   {
    "duration": 0,
    "start_time": "2024-09-21T19:37:26.845Z"
   },
   {
    "duration": 0,
    "start_time": "2024-09-21T19:37:26.846Z"
   },
   {
    "duration": 0,
    "start_time": "2024-09-21T19:37:26.847Z"
   },
   {
    "duration": 0,
    "start_time": "2024-09-21T19:37:26.848Z"
   },
   {
    "duration": 0,
    "start_time": "2024-09-21T19:37:26.850Z"
   },
   {
    "duration": 0,
    "start_time": "2024-09-21T19:37:26.851Z"
   },
   {
    "duration": 0,
    "start_time": "2024-09-21T19:37:26.852Z"
   },
   {
    "duration": 0,
    "start_time": "2024-09-21T19:37:26.853Z"
   },
   {
    "duration": 0,
    "start_time": "2024-09-21T19:37:26.854Z"
   },
   {
    "duration": 0,
    "start_time": "2024-09-21T19:37:26.856Z"
   },
   {
    "duration": 0,
    "start_time": "2024-09-21T19:37:26.857Z"
   },
   {
    "duration": 0,
    "start_time": "2024-09-21T19:37:26.858Z"
   },
   {
    "duration": 0,
    "start_time": "2024-09-21T19:37:26.860Z"
   },
   {
    "duration": 0,
    "start_time": "2024-09-21T19:37:26.861Z"
   },
   {
    "duration": 0,
    "start_time": "2024-09-21T19:37:26.862Z"
   },
   {
    "duration": 0,
    "start_time": "2024-09-21T19:37:26.863Z"
   },
   {
    "duration": 0,
    "start_time": "2024-09-21T19:37:26.864Z"
   },
   {
    "duration": 0,
    "start_time": "2024-09-21T19:37:26.865Z"
   },
   {
    "duration": 0,
    "start_time": "2024-09-21T19:37:26.866Z"
   },
   {
    "duration": 312,
    "start_time": "2024-09-21T19:41:22.185Z"
   },
   {
    "duration": 34,
    "start_time": "2024-09-21T19:41:22.499Z"
   },
   {
    "duration": 20,
    "start_time": "2024-09-21T19:41:22.534Z"
   },
   {
    "duration": 184,
    "start_time": "2024-09-21T19:41:22.556Z"
   },
   {
    "duration": 0,
    "start_time": "2024-09-21T19:41:22.743Z"
   },
   {
    "duration": 0,
    "start_time": "2024-09-21T19:41:22.744Z"
   },
   {
    "duration": 0,
    "start_time": "2024-09-21T19:41:22.746Z"
   },
   {
    "duration": 0,
    "start_time": "2024-09-21T19:41:22.748Z"
   },
   {
    "duration": 0,
    "start_time": "2024-09-21T19:41:22.749Z"
   },
   {
    "duration": 0,
    "start_time": "2024-09-21T19:41:22.750Z"
   },
   {
    "duration": 0,
    "start_time": "2024-09-21T19:41:22.751Z"
   },
   {
    "duration": 0,
    "start_time": "2024-09-21T19:41:22.753Z"
   },
   {
    "duration": 0,
    "start_time": "2024-09-21T19:41:22.754Z"
   },
   {
    "duration": 0,
    "start_time": "2024-09-21T19:41:22.756Z"
   },
   {
    "duration": 0,
    "start_time": "2024-09-21T19:41:22.757Z"
   },
   {
    "duration": 0,
    "start_time": "2024-09-21T19:41:22.758Z"
   },
   {
    "duration": 0,
    "start_time": "2024-09-21T19:41:22.759Z"
   },
   {
    "duration": 0,
    "start_time": "2024-09-21T19:41:22.761Z"
   },
   {
    "duration": 0,
    "start_time": "2024-09-21T19:41:22.762Z"
   },
   {
    "duration": 0,
    "start_time": "2024-09-21T19:41:22.764Z"
   },
   {
    "duration": 0,
    "start_time": "2024-09-21T19:41:22.765Z"
   },
   {
    "duration": 0,
    "start_time": "2024-09-21T19:41:22.766Z"
   },
   {
    "duration": 0,
    "start_time": "2024-09-21T19:41:22.767Z"
   },
   {
    "duration": 0,
    "start_time": "2024-09-21T19:41:22.769Z"
   },
   {
    "duration": 0,
    "start_time": "2024-09-21T19:41:22.770Z"
   },
   {
    "duration": 0,
    "start_time": "2024-09-21T19:41:22.771Z"
   },
   {
    "duration": 0,
    "start_time": "2024-09-21T19:41:22.773Z"
   },
   {
    "duration": 0,
    "start_time": "2024-09-21T19:41:22.774Z"
   },
   {
    "duration": 0,
    "start_time": "2024-09-21T19:41:22.775Z"
   },
   {
    "duration": 0,
    "start_time": "2024-09-21T19:41:22.777Z"
   },
   {
    "duration": 0,
    "start_time": "2024-09-21T19:41:22.778Z"
   },
   {
    "duration": 0,
    "start_time": "2024-09-21T19:41:22.780Z"
   },
   {
    "duration": 0,
    "start_time": "2024-09-21T19:41:22.781Z"
   },
   {
    "duration": 4,
    "start_time": "2024-09-21T19:41:58.964Z"
   },
   {
    "duration": 34,
    "start_time": "2024-09-21T19:41:59.963Z"
   },
   {
    "duration": 15,
    "start_time": "2024-09-21T19:42:00.971Z"
   },
   {
    "duration": 13,
    "start_time": "2024-09-21T19:42:01.940Z"
   },
   {
    "duration": 13,
    "start_time": "2024-09-21T19:43:01.661Z"
   },
   {
    "duration": 351,
    "start_time": "2024-09-21T19:43:32.256Z"
   },
   {
    "duration": 281,
    "start_time": "2024-09-21T19:43:32.609Z"
   },
   {
    "duration": 22,
    "start_time": "2024-09-21T19:43:32.891Z"
   },
   {
    "duration": 142,
    "start_time": "2024-09-21T19:43:32.915Z"
   },
   {
    "duration": 12,
    "start_time": "2024-09-21T19:43:33.060Z"
   },
   {
    "duration": 11,
    "start_time": "2024-09-21T19:43:33.074Z"
   },
   {
    "duration": 30,
    "start_time": "2024-09-21T19:43:33.087Z"
   },
   {
    "duration": 26,
    "start_time": "2024-09-21T19:43:33.118Z"
   },
   {
    "duration": 6,
    "start_time": "2024-09-21T19:43:33.145Z"
   },
   {
    "duration": 5,
    "start_time": "2024-09-21T19:43:33.153Z"
   },
   {
    "duration": 7,
    "start_time": "2024-09-21T19:43:33.160Z"
   },
   {
    "duration": 6,
    "start_time": "2024-09-21T19:43:33.169Z"
   },
   {
    "duration": 4,
    "start_time": "2024-09-21T19:43:33.177Z"
   },
   {
    "duration": 8,
    "start_time": "2024-09-21T19:43:33.185Z"
   },
   {
    "duration": 7,
    "start_time": "2024-09-21T19:43:33.194Z"
   },
   {
    "duration": 753,
    "start_time": "2024-09-21T19:43:33.202Z"
   },
   {
    "duration": 23,
    "start_time": "2024-09-21T19:43:33.957Z"
   },
   {
    "duration": 6,
    "start_time": "2024-09-21T19:43:33.982Z"
   },
   {
    "duration": 3,
    "start_time": "2024-09-21T19:43:33.989Z"
   },
   {
    "duration": 97,
    "start_time": "2024-09-21T19:43:33.994Z"
   },
   {
    "duration": 6,
    "start_time": "2024-09-21T19:43:34.093Z"
   },
   {
    "duration": 482,
    "start_time": "2024-09-21T19:43:34.101Z"
   },
   {
    "duration": 0,
    "start_time": "2024-09-21T19:43:34.585Z"
   },
   {
    "duration": 0,
    "start_time": "2024-09-21T19:43:34.586Z"
   },
   {
    "duration": 0,
    "start_time": "2024-09-21T19:43:34.587Z"
   },
   {
    "duration": 0,
    "start_time": "2024-09-21T19:43:34.588Z"
   },
   {
    "duration": 0,
    "start_time": "2024-09-21T19:43:34.588Z"
   },
   {
    "duration": 0,
    "start_time": "2024-09-21T19:43:34.589Z"
   },
   {
    "duration": 0,
    "start_time": "2024-09-21T19:43:34.590Z"
   },
   {
    "duration": 0,
    "start_time": "2024-09-21T19:43:34.591Z"
   },
   {
    "duration": 0,
    "start_time": "2024-09-21T19:43:34.591Z"
   },
   {
    "duration": 0,
    "start_time": "2024-09-21T19:43:34.592Z"
   },
   {
    "duration": 0,
    "start_time": "2024-09-21T19:43:34.594Z"
   },
   {
    "duration": 0,
    "start_time": "2024-09-21T19:43:34.595Z"
   },
   {
    "duration": 1,
    "start_time": "2024-09-21T19:43:34.595Z"
   },
   {
    "duration": 0,
    "start_time": "2024-09-21T19:43:34.596Z"
   },
   {
    "duration": 0,
    "start_time": "2024-09-21T19:43:34.597Z"
   },
   {
    "duration": 0,
    "start_time": "2024-09-21T19:43:34.598Z"
   },
   {
    "duration": 0,
    "start_time": "2024-09-21T19:43:34.598Z"
   },
   {
    "duration": 0,
    "start_time": "2024-09-21T19:43:34.600Z"
   },
   {
    "duration": 0,
    "start_time": "2024-09-21T19:43:34.602Z"
   },
   {
    "duration": 0,
    "start_time": "2024-09-21T19:43:34.603Z"
   },
   {
    "duration": 0,
    "start_time": "2024-09-21T19:43:34.605Z"
   },
   {
    "duration": 0,
    "start_time": "2024-09-21T19:43:34.606Z"
   },
   {
    "duration": 0,
    "start_time": "2024-09-21T19:43:34.608Z"
   },
   {
    "duration": 0,
    "start_time": "2024-09-21T19:43:34.609Z"
   },
   {
    "duration": 0,
    "start_time": "2024-09-21T19:43:34.643Z"
   },
   {
    "duration": 0,
    "start_time": "2024-09-21T19:43:34.645Z"
   },
   {
    "duration": 0,
    "start_time": "2024-09-21T19:43:34.646Z"
   },
   {
    "duration": 0,
    "start_time": "2024-09-21T19:43:34.648Z"
   },
   {
    "duration": 0,
    "start_time": "2024-09-21T19:43:34.649Z"
   },
   {
    "duration": 0,
    "start_time": "2024-09-21T19:43:34.651Z"
   },
   {
    "duration": 0,
    "start_time": "2024-09-21T19:43:34.654Z"
   },
   {
    "duration": 0,
    "start_time": "2024-09-21T19:43:34.656Z"
   },
   {
    "duration": 0,
    "start_time": "2024-09-21T19:43:34.657Z"
   },
   {
    "duration": 0,
    "start_time": "2024-09-21T19:43:34.658Z"
   },
   {
    "duration": 0,
    "start_time": "2024-09-21T19:43:34.660Z"
   },
   {
    "duration": 0,
    "start_time": "2024-09-21T19:43:34.662Z"
   },
   {
    "duration": 0,
    "start_time": "2024-09-21T19:43:34.663Z"
   },
   {
    "duration": 3,
    "start_time": "2024-09-21T19:43:51.995Z"
   },
   {
    "duration": 32,
    "start_time": "2024-09-21T19:43:52.878Z"
   },
   {
    "duration": 14,
    "start_time": "2024-09-21T19:43:57.486Z"
   },
   {
    "duration": 15,
    "start_time": "2024-09-21T19:43:59.390Z"
   },
   {
    "duration": 13,
    "start_time": "2024-09-21T19:44:29.222Z"
   },
   {
    "duration": 2,
    "start_time": "2024-09-21T19:44:39.742Z"
   },
   {
    "duration": 31,
    "start_time": "2024-09-21T19:44:43.021Z"
   },
   {
    "duration": 14,
    "start_time": "2024-09-21T19:44:44.565Z"
   },
   {
    "duration": 13,
    "start_time": "2024-09-21T19:44:45.771Z"
   },
   {
    "duration": 329,
    "start_time": "2024-09-21T19:45:20.061Z"
   },
   {
    "duration": 259,
    "start_time": "2024-09-21T19:45:20.392Z"
   },
   {
    "duration": 25,
    "start_time": "2024-09-21T19:45:20.653Z"
   },
   {
    "duration": 139,
    "start_time": "2024-09-21T19:45:20.680Z"
   },
   {
    "duration": 10,
    "start_time": "2024-09-21T19:45:20.821Z"
   },
   {
    "duration": 21,
    "start_time": "2024-09-21T19:45:20.832Z"
   },
   {
    "duration": 32,
    "start_time": "2024-09-21T19:45:20.854Z"
   },
   {
    "duration": 10,
    "start_time": "2024-09-21T19:45:20.888Z"
   },
   {
    "duration": 6,
    "start_time": "2024-09-21T19:45:20.899Z"
   },
   {
    "duration": 5,
    "start_time": "2024-09-21T19:45:20.909Z"
   },
   {
    "duration": 37,
    "start_time": "2024-09-21T19:45:20.915Z"
   },
   {
    "duration": 7,
    "start_time": "2024-09-21T19:45:20.953Z"
   },
   {
    "duration": 4,
    "start_time": "2024-09-21T19:45:20.962Z"
   },
   {
    "duration": 7,
    "start_time": "2024-09-21T19:45:20.968Z"
   },
   {
    "duration": 6,
    "start_time": "2024-09-21T19:45:20.977Z"
   },
   {
    "duration": 732,
    "start_time": "2024-09-21T19:45:20.985Z"
   },
   {
    "duration": 31,
    "start_time": "2024-09-21T19:45:21.719Z"
   },
   {
    "duration": 6,
    "start_time": "2024-09-21T19:45:21.752Z"
   },
   {
    "duration": 2,
    "start_time": "2024-09-21T19:45:21.760Z"
   },
   {
    "duration": 104,
    "start_time": "2024-09-21T19:45:21.764Z"
   },
   {
    "duration": 6,
    "start_time": "2024-09-21T19:45:21.869Z"
   },
   {
    "duration": 487,
    "start_time": "2024-09-21T19:45:21.876Z"
   },
   {
    "duration": 0,
    "start_time": "2024-09-21T19:45:22.366Z"
   },
   {
    "duration": 0,
    "start_time": "2024-09-21T19:45:22.366Z"
   },
   {
    "duration": 0,
    "start_time": "2024-09-21T19:45:22.368Z"
   },
   {
    "duration": 0,
    "start_time": "2024-09-21T19:45:22.369Z"
   },
   {
    "duration": 0,
    "start_time": "2024-09-21T19:45:22.370Z"
   },
   {
    "duration": 0,
    "start_time": "2024-09-21T19:45:22.371Z"
   },
   {
    "duration": 0,
    "start_time": "2024-09-21T19:45:22.372Z"
   },
   {
    "duration": 0,
    "start_time": "2024-09-21T19:45:22.373Z"
   },
   {
    "duration": 0,
    "start_time": "2024-09-21T19:45:22.374Z"
   },
   {
    "duration": 0,
    "start_time": "2024-09-21T19:45:22.375Z"
   },
   {
    "duration": 0,
    "start_time": "2024-09-21T19:45:22.376Z"
   },
   {
    "duration": 0,
    "start_time": "2024-09-21T19:45:22.377Z"
   },
   {
    "duration": 0,
    "start_time": "2024-09-21T19:45:22.378Z"
   },
   {
    "duration": 0,
    "start_time": "2024-09-21T19:45:22.379Z"
   },
   {
    "duration": 0,
    "start_time": "2024-09-21T19:45:22.380Z"
   },
   {
    "duration": 0,
    "start_time": "2024-09-21T19:45:22.381Z"
   },
   {
    "duration": 0,
    "start_time": "2024-09-21T19:45:22.382Z"
   },
   {
    "duration": 0,
    "start_time": "2024-09-21T19:45:22.383Z"
   },
   {
    "duration": 0,
    "start_time": "2024-09-21T19:45:22.384Z"
   },
   {
    "duration": 0,
    "start_time": "2024-09-21T19:45:22.385Z"
   },
   {
    "duration": 0,
    "start_time": "2024-09-21T19:45:22.385Z"
   },
   {
    "duration": 0,
    "start_time": "2024-09-21T19:45:22.387Z"
   },
   {
    "duration": 0,
    "start_time": "2024-09-21T19:45:22.388Z"
   },
   {
    "duration": 0,
    "start_time": "2024-09-21T19:45:22.389Z"
   },
   {
    "duration": 0,
    "start_time": "2024-09-21T19:45:22.389Z"
   },
   {
    "duration": 0,
    "start_time": "2024-09-21T19:45:22.391Z"
   },
   {
    "duration": 0,
    "start_time": "2024-09-21T19:45:22.392Z"
   },
   {
    "duration": 0,
    "start_time": "2024-09-21T19:45:22.393Z"
   },
   {
    "duration": 0,
    "start_time": "2024-09-21T19:45:22.394Z"
   },
   {
    "duration": 0,
    "start_time": "2024-09-21T19:45:22.443Z"
   },
   {
    "duration": 0,
    "start_time": "2024-09-21T19:45:22.445Z"
   },
   {
    "duration": 0,
    "start_time": "2024-09-21T19:45:22.446Z"
   },
   {
    "duration": 0,
    "start_time": "2024-09-21T19:45:22.448Z"
   },
   {
    "duration": 0,
    "start_time": "2024-09-21T19:45:22.449Z"
   },
   {
    "duration": 0,
    "start_time": "2024-09-21T19:45:22.451Z"
   },
   {
    "duration": 0,
    "start_time": "2024-09-21T19:45:22.452Z"
   },
   {
    "duration": 7,
    "start_time": "2024-09-21T19:45:46.223Z"
   },
   {
    "duration": 14,
    "start_time": "2024-09-21T19:47:28.084Z"
   },
   {
    "duration": 15,
    "start_time": "2024-09-21T19:48:11.170Z"
   },
   {
    "duration": 13,
    "start_time": "2024-09-21T19:48:21.118Z"
   },
   {
    "duration": 10,
    "start_time": "2024-09-21T19:49:21.977Z"
   },
   {
    "duration": 3,
    "start_time": "2024-09-21T19:49:48.003Z"
   },
   {
    "duration": 3,
    "start_time": "2024-09-21T19:49:51.525Z"
   },
   {
    "duration": 3,
    "start_time": "2024-09-21T19:49:55.073Z"
   },
   {
    "duration": 5,
    "start_time": "2024-09-21T19:49:56.201Z"
   },
   {
    "duration": 3,
    "start_time": "2024-09-21T19:50:09.144Z"
   },
   {
    "duration": 715,
    "start_time": "2024-09-21T19:50:09.897Z"
   },
   {
    "duration": 13,
    "start_time": "2024-09-21T19:50:10.907Z"
   },
   {
    "duration": 755,
    "start_time": "2024-09-21T19:51:52.954Z"
   },
   {
    "duration": 26,
    "start_time": "2024-09-21T19:52:18.163Z"
   },
   {
    "duration": 29,
    "start_time": "2024-09-21T19:52:23.365Z"
   },
   {
    "duration": 3,
    "start_time": "2024-09-21T19:53:50.449Z"
   },
   {
    "duration": 4,
    "start_time": "2024-09-21T19:53:51.413Z"
   },
   {
    "duration": 35,
    "start_time": "2024-09-21T19:55:26.774Z"
   },
   {
    "duration": 4,
    "start_time": "2024-09-21T19:57:50.468Z"
   },
   {
    "duration": 2,
    "start_time": "2024-09-21T20:01:08.559Z"
   },
   {
    "duration": 40,
    "start_time": "2024-09-21T20:01:09.532Z"
   },
   {
    "duration": 41,
    "start_time": "2024-09-21T20:01:43.217Z"
   },
   {
    "duration": 33,
    "start_time": "2024-09-21T20:02:04.358Z"
   },
   {
    "duration": 14,
    "start_time": "2024-09-21T20:20:46.678Z"
   },
   {
    "duration": 9,
    "start_time": "2024-09-21T20:33:54.111Z"
   },
   {
    "duration": 10,
    "start_time": "2024-09-21T20:34:41.160Z"
   },
   {
    "duration": 11,
    "start_time": "2024-09-21T20:43:09.828Z"
   },
   {
    "duration": 11,
    "start_time": "2024-09-21T20:45:58.358Z"
   },
   {
    "duration": 18,
    "start_time": "2024-09-21T20:48:31.233Z"
   },
   {
    "duration": 6,
    "start_time": "2024-09-21T20:49:10.952Z"
   },
   {
    "duration": 3,
    "start_time": "2024-09-21T20:51:22.073Z"
   },
   {
    "duration": 709,
    "start_time": "2024-09-21T20:51:22.789Z"
   },
   {
    "duration": 23,
    "start_time": "2024-09-21T20:51:23.531Z"
   },
   {
    "duration": 157,
    "start_time": "2024-09-22T09:06:33.737Z"
   },
   {
    "duration": 285,
    "start_time": "2024-09-22T09:06:49.598Z"
   },
   {
    "duration": 36,
    "start_time": "2024-09-22T09:06:50.444Z"
   },
   {
    "duration": 12,
    "start_time": "2024-09-22T09:06:53.940Z"
   },
   {
    "duration": 13,
    "start_time": "2024-09-22T09:53:28.572Z"
   },
   {
    "duration": 831,
    "start_time": "2024-09-22T09:53:35.287Z"
   },
   {
    "duration": 37,
    "start_time": "2024-09-22T09:53:36.152Z"
   },
   {
    "duration": 11,
    "start_time": "2024-09-22T09:53:36.978Z"
   },
   {
    "duration": 18,
    "start_time": "2024-09-22T09:53:38.399Z"
   },
   {
    "duration": 314,
    "start_time": "2024-09-23T02:01:55.760Z"
   },
   {
    "duration": 281,
    "start_time": "2024-09-23T02:01:56.076Z"
   },
   {
    "duration": 21,
    "start_time": "2024-09-23T02:01:56.358Z"
   },
   {
    "duration": 129,
    "start_time": "2024-09-23T02:01:56.382Z"
   },
   {
    "duration": 14,
    "start_time": "2024-09-23T02:01:56.513Z"
   },
   {
    "duration": 11,
    "start_time": "2024-09-23T02:01:56.529Z"
   },
   {
    "duration": 63,
    "start_time": "2024-09-23T02:01:56.542Z"
   },
   {
    "duration": 11,
    "start_time": "2024-09-23T02:01:56.606Z"
   },
   {
    "duration": 5,
    "start_time": "2024-09-23T02:01:56.619Z"
   },
   {
    "duration": 6,
    "start_time": "2024-09-23T02:01:56.627Z"
   },
   {
    "duration": 7,
    "start_time": "2024-09-23T02:01:56.635Z"
   },
   {
    "duration": 5,
    "start_time": "2024-09-23T02:01:56.644Z"
   },
   {
    "duration": 6,
    "start_time": "2024-09-23T02:01:56.651Z"
   },
   {
    "duration": 8,
    "start_time": "2024-09-23T02:01:56.659Z"
   },
   {
    "duration": 6,
    "start_time": "2024-09-23T02:01:56.668Z"
   },
   {
    "duration": 809,
    "start_time": "2024-09-23T02:01:56.676Z"
   },
   {
    "duration": 26,
    "start_time": "2024-09-23T02:01:57.487Z"
   },
   {
    "duration": 11,
    "start_time": "2024-09-23T02:01:57.515Z"
   },
   {
    "duration": 3,
    "start_time": "2024-09-23T02:01:57.528Z"
   },
   {
    "duration": 92,
    "start_time": "2024-09-23T02:01:57.532Z"
   },
   {
    "duration": 7,
    "start_time": "2024-09-23T02:01:57.626Z"
   },
   {
    "duration": 488,
    "start_time": "2024-09-23T02:01:57.634Z"
   },
   {
    "duration": 0,
    "start_time": "2024-09-23T02:01:58.125Z"
   },
   {
    "duration": 0,
    "start_time": "2024-09-23T02:01:58.127Z"
   },
   {
    "duration": 0,
    "start_time": "2024-09-23T02:01:58.128Z"
   },
   {
    "duration": 0,
    "start_time": "2024-09-23T02:01:58.129Z"
   },
   {
    "duration": 0,
    "start_time": "2024-09-23T02:01:58.131Z"
   },
   {
    "duration": 0,
    "start_time": "2024-09-23T02:01:58.132Z"
   },
   {
    "duration": 0,
    "start_time": "2024-09-23T02:01:58.133Z"
   },
   {
    "duration": 0,
    "start_time": "2024-09-23T02:01:58.134Z"
   },
   {
    "duration": 0,
    "start_time": "2024-09-23T02:01:58.135Z"
   },
   {
    "duration": 0,
    "start_time": "2024-09-23T02:01:58.137Z"
   },
   {
    "duration": 0,
    "start_time": "2024-09-23T02:01:58.139Z"
   },
   {
    "duration": 0,
    "start_time": "2024-09-23T02:01:58.140Z"
   },
   {
    "duration": 0,
    "start_time": "2024-09-23T02:01:58.141Z"
   },
   {
    "duration": 0,
    "start_time": "2024-09-23T02:01:58.142Z"
   },
   {
    "duration": 0,
    "start_time": "2024-09-23T02:01:58.143Z"
   },
   {
    "duration": 0,
    "start_time": "2024-09-23T02:01:58.144Z"
   },
   {
    "duration": 0,
    "start_time": "2024-09-23T02:01:58.145Z"
   },
   {
    "duration": 0,
    "start_time": "2024-09-23T02:01:58.147Z"
   },
   {
    "duration": 0,
    "start_time": "2024-09-23T02:01:58.148Z"
   },
   {
    "duration": 0,
    "start_time": "2024-09-23T02:01:58.149Z"
   },
   {
    "duration": 0,
    "start_time": "2024-09-23T02:01:58.150Z"
   },
   {
    "duration": 0,
    "start_time": "2024-09-23T02:01:58.151Z"
   },
   {
    "duration": 0,
    "start_time": "2024-09-23T02:01:58.152Z"
   },
   {
    "duration": 0,
    "start_time": "2024-09-23T02:01:58.153Z"
   },
   {
    "duration": 0,
    "start_time": "2024-09-23T02:01:58.154Z"
   },
   {
    "duration": 0,
    "start_time": "2024-09-23T02:01:58.155Z"
   },
   {
    "duration": 0,
    "start_time": "2024-09-23T02:01:58.157Z"
   },
   {
    "duration": 0,
    "start_time": "2024-09-23T02:01:58.157Z"
   },
   {
    "duration": 0,
    "start_time": "2024-09-23T02:01:58.159Z"
   },
   {
    "duration": 0,
    "start_time": "2024-09-23T02:01:58.160Z"
   },
   {
    "duration": 0,
    "start_time": "2024-09-23T02:01:58.161Z"
   },
   {
    "duration": 0,
    "start_time": "2024-09-23T02:01:58.162Z"
   },
   {
    "duration": 0,
    "start_time": "2024-09-23T02:01:58.164Z"
   },
   {
    "duration": 0,
    "start_time": "2024-09-23T02:01:58.165Z"
   },
   {
    "duration": 0,
    "start_time": "2024-09-23T02:01:58.224Z"
   },
   {
    "duration": 0,
    "start_time": "2024-09-23T02:01:58.225Z"
   },
   {
    "duration": 0,
    "start_time": "2024-09-23T02:01:58.226Z"
   },
   {
    "duration": 0,
    "start_time": "2024-09-23T02:01:58.231Z"
   },
   {
    "duration": 323,
    "start_time": "2024-09-23T02:02:59.352Z"
   },
   {
    "duration": 229,
    "start_time": "2024-09-23T02:02:59.676Z"
   },
   {
    "duration": 21,
    "start_time": "2024-09-23T02:02:59.906Z"
   },
   {
    "duration": 129,
    "start_time": "2024-09-23T02:02:59.929Z"
   },
   {
    "duration": 10,
    "start_time": "2024-09-23T02:03:00.060Z"
   },
   {
    "duration": 11,
    "start_time": "2024-09-23T02:03:00.071Z"
   },
   {
    "duration": 45,
    "start_time": "2024-09-23T02:03:00.084Z"
   },
   {
    "duration": 10,
    "start_time": "2024-09-23T02:03:00.130Z"
   },
   {
    "duration": 5,
    "start_time": "2024-09-23T02:03:00.142Z"
   },
   {
    "duration": 4,
    "start_time": "2024-09-23T02:03:00.152Z"
   },
   {
    "duration": 9,
    "start_time": "2024-09-23T02:03:00.157Z"
   },
   {
    "duration": 5,
    "start_time": "2024-09-23T02:03:00.167Z"
   },
   {
    "duration": 4,
    "start_time": "2024-09-23T02:03:00.174Z"
   },
   {
    "duration": 7,
    "start_time": "2024-09-23T02:03:00.179Z"
   },
   {
    "duration": 40,
    "start_time": "2024-09-23T02:03:00.188Z"
   },
   {
    "duration": 694,
    "start_time": "2024-09-23T02:03:00.230Z"
   },
   {
    "duration": 23,
    "start_time": "2024-09-23T02:03:00.926Z"
   },
   {
    "duration": 7,
    "start_time": "2024-09-23T02:03:00.951Z"
   },
   {
    "duration": 3,
    "start_time": "2024-09-23T02:03:00.959Z"
   },
   {
    "duration": 96,
    "start_time": "2024-09-23T02:03:00.964Z"
   },
   {
    "duration": 6,
    "start_time": "2024-09-23T02:03:01.061Z"
   },
   {
    "duration": 2,
    "start_time": "2024-09-23T02:03:01.068Z"
   },
   {
    "duration": 481,
    "start_time": "2024-09-23T02:03:01.072Z"
   },
   {
    "duration": 0,
    "start_time": "2024-09-23T02:03:01.556Z"
   },
   {
    "duration": 0,
    "start_time": "2024-09-23T02:03:01.557Z"
   },
   {
    "duration": 0,
    "start_time": "2024-09-23T02:03:01.558Z"
   },
   {
    "duration": 0,
    "start_time": "2024-09-23T02:03:01.558Z"
   },
   {
    "duration": 0,
    "start_time": "2024-09-23T02:03:01.560Z"
   },
   {
    "duration": 0,
    "start_time": "2024-09-23T02:03:01.561Z"
   },
   {
    "duration": 0,
    "start_time": "2024-09-23T02:03:01.562Z"
   },
   {
    "duration": 0,
    "start_time": "2024-09-23T02:03:01.563Z"
   },
   {
    "duration": 0,
    "start_time": "2024-09-23T02:03:01.564Z"
   },
   {
    "duration": 0,
    "start_time": "2024-09-23T02:03:01.565Z"
   },
   {
    "duration": 0,
    "start_time": "2024-09-23T02:03:01.566Z"
   },
   {
    "duration": 0,
    "start_time": "2024-09-23T02:03:01.567Z"
   },
   {
    "duration": 0,
    "start_time": "2024-09-23T02:03:01.567Z"
   },
   {
    "duration": 0,
    "start_time": "2024-09-23T02:03:01.568Z"
   },
   {
    "duration": 0,
    "start_time": "2024-09-23T02:03:01.569Z"
   },
   {
    "duration": 0,
    "start_time": "2024-09-23T02:03:01.571Z"
   },
   {
    "duration": 0,
    "start_time": "2024-09-23T02:03:01.572Z"
   },
   {
    "duration": 0,
    "start_time": "2024-09-23T02:03:01.573Z"
   },
   {
    "duration": 0,
    "start_time": "2024-09-23T02:03:01.574Z"
   },
   {
    "duration": 0,
    "start_time": "2024-09-23T02:03:01.575Z"
   },
   {
    "duration": 0,
    "start_time": "2024-09-23T02:03:01.576Z"
   },
   {
    "duration": 0,
    "start_time": "2024-09-23T02:03:01.577Z"
   },
   {
    "duration": 0,
    "start_time": "2024-09-23T02:03:01.581Z"
   },
   {
    "duration": 0,
    "start_time": "2024-09-23T02:03:01.582Z"
   },
   {
    "duration": 0,
    "start_time": "2024-09-23T02:03:01.583Z"
   },
   {
    "duration": 0,
    "start_time": "2024-09-23T02:03:01.624Z"
   },
   {
    "duration": 0,
    "start_time": "2024-09-23T02:03:01.625Z"
   },
   {
    "duration": 0,
    "start_time": "2024-09-23T02:03:01.627Z"
   },
   {
    "duration": 0,
    "start_time": "2024-09-23T02:03:01.629Z"
   },
   {
    "duration": 0,
    "start_time": "2024-09-23T02:03:01.630Z"
   },
   {
    "duration": 0,
    "start_time": "2024-09-23T02:03:01.632Z"
   },
   {
    "duration": 0,
    "start_time": "2024-09-23T02:03:01.633Z"
   },
   {
    "duration": 0,
    "start_time": "2024-09-23T02:03:01.634Z"
   },
   {
    "duration": 0,
    "start_time": "2024-09-23T02:03:01.635Z"
   },
   {
    "duration": 0,
    "start_time": "2024-09-23T02:03:01.636Z"
   },
   {
    "duration": 0,
    "start_time": "2024-09-23T02:03:01.638Z"
   },
   {
    "duration": 0,
    "start_time": "2024-09-23T02:03:01.639Z"
   },
   {
    "duration": 558,
    "start_time": "2024-09-23T02:21:44.861Z"
   },
   {
    "duration": 3,
    "start_time": "2024-09-23T02:22:34.793Z"
   },
   {
    "duration": 708,
    "start_time": "2024-09-23T02:22:37.203Z"
   },
   {
    "duration": 21,
    "start_time": "2024-09-23T02:22:38.456Z"
   },
   {
    "duration": 327,
    "start_time": "2024-09-23T02:22:40.847Z"
   },
   {
    "duration": 347,
    "start_time": "2024-09-23T02:47:35.112Z"
   },
   {
    "duration": 902,
    "start_time": "2024-09-23T02:48:08.942Z"
   },
   {
    "duration": 424,
    "start_time": "2024-09-23T02:50:41.790Z"
   },
   {
    "duration": 3,
    "start_time": "2024-09-23T02:50:52.507Z"
   },
   {
    "duration": 702,
    "start_time": "2024-09-23T02:50:53.329Z"
   },
   {
    "duration": 22,
    "start_time": "2024-09-23T02:50:54.916Z"
   },
   {
    "duration": 452,
    "start_time": "2024-09-23T02:50:56.296Z"
   },
   {
    "duration": 347,
    "start_time": "2024-09-23T02:51:17.034Z"
   },
   {
    "duration": 338,
    "start_time": "2024-09-23T02:52:55.787Z"
   },
   {
    "duration": 518,
    "start_time": "2024-09-23T03:00:31.639Z"
   },
   {
    "duration": 318,
    "start_time": "2024-09-23T03:02:31.761Z"
   },
   {
    "duration": 8,
    "start_time": "2024-09-23T03:13:09.275Z"
   },
   {
    "duration": 291,
    "start_time": "2024-09-23T03:13:49.212Z"
   },
   {
    "duration": 713,
    "start_time": "2024-09-23T03:15:37.801Z"
   },
   {
    "duration": 35,
    "start_time": "2024-09-23T03:15:38.713Z"
   },
   {
    "duration": 11,
    "start_time": "2024-09-23T03:15:39.498Z"
   },
   {
    "duration": 11,
    "start_time": "2024-09-23T03:15:40.269Z"
   },
   {
    "duration": 7,
    "start_time": "2024-09-23T03:21:55.579Z"
   },
   {
    "duration": 295,
    "start_time": "2024-09-23T04:20:41.731Z"
   },
   {
    "duration": 296,
    "start_time": "2024-09-23T04:21:15.407Z"
   },
   {
    "duration": 264,
    "start_time": "2024-09-23T04:23:13.275Z"
   },
   {
    "duration": 300,
    "start_time": "2024-09-23T04:24:18.352Z"
   },
   {
    "duration": 294,
    "start_time": "2024-09-23T04:25:04.140Z"
   },
   {
    "duration": 294,
    "start_time": "2024-09-23T04:27:08.025Z"
   },
   {
    "duration": 155,
    "start_time": "2024-09-23T04:27:49.584Z"
   },
   {
    "duration": 0,
    "start_time": "2024-09-23T04:27:49.740Z"
   },
   {
    "duration": 13,
    "start_time": "2024-09-23T04:28:11.428Z"
   },
   {
    "duration": 319,
    "start_time": "2024-09-23T04:28:29.534Z"
   },
   {
    "duration": 231,
    "start_time": "2024-09-23T04:28:29.855Z"
   },
   {
    "duration": 20,
    "start_time": "2024-09-23T04:28:30.088Z"
   },
   {
    "duration": 141,
    "start_time": "2024-09-23T04:28:30.111Z"
   },
   {
    "duration": 10,
    "start_time": "2024-09-23T04:28:30.253Z"
   },
   {
    "duration": 11,
    "start_time": "2024-09-23T04:28:30.265Z"
   },
   {
    "duration": 30,
    "start_time": "2024-09-23T04:28:30.277Z"
   },
   {
    "duration": 24,
    "start_time": "2024-09-23T04:28:30.308Z"
   },
   {
    "duration": 6,
    "start_time": "2024-09-23T04:28:30.333Z"
   },
   {
    "duration": 5,
    "start_time": "2024-09-23T04:28:30.342Z"
   },
   {
    "duration": 7,
    "start_time": "2024-09-23T04:28:30.349Z"
   },
   {
    "duration": 6,
    "start_time": "2024-09-23T04:28:30.358Z"
   },
   {
    "duration": 6,
    "start_time": "2024-09-23T04:28:30.366Z"
   },
   {
    "duration": 8,
    "start_time": "2024-09-23T04:28:30.373Z"
   },
   {
    "duration": 42,
    "start_time": "2024-09-23T04:28:30.383Z"
   },
   {
    "duration": 701,
    "start_time": "2024-09-23T04:28:30.426Z"
   },
   {
    "duration": 22,
    "start_time": "2024-09-23T04:28:31.129Z"
   },
   {
    "duration": 6,
    "start_time": "2024-09-23T04:28:31.154Z"
   },
   {
    "duration": 2,
    "start_time": "2024-09-23T04:28:31.162Z"
   },
   {
    "duration": 106,
    "start_time": "2024-09-23T04:28:31.166Z"
   },
   {
    "duration": 5,
    "start_time": "2024-09-23T04:28:31.274Z"
   },
   {
    "duration": 2,
    "start_time": "2024-09-23T04:28:31.280Z"
   },
   {
    "duration": 461,
    "start_time": "2024-09-23T04:28:31.284Z"
   },
   {
    "duration": 0,
    "start_time": "2024-09-23T04:28:31.748Z"
   },
   {
    "duration": 0,
    "start_time": "2024-09-23T04:28:31.749Z"
   },
   {
    "duration": 0,
    "start_time": "2024-09-23T04:28:31.750Z"
   },
   {
    "duration": 0,
    "start_time": "2024-09-23T04:28:31.752Z"
   },
   {
    "duration": 0,
    "start_time": "2024-09-23T04:28:31.752Z"
   },
   {
    "duration": 0,
    "start_time": "2024-09-23T04:28:31.754Z"
   },
   {
    "duration": 0,
    "start_time": "2024-09-23T04:28:31.755Z"
   },
   {
    "duration": 0,
    "start_time": "2024-09-23T04:28:31.756Z"
   },
   {
    "duration": 0,
    "start_time": "2024-09-23T04:28:31.757Z"
   },
   {
    "duration": 0,
    "start_time": "2024-09-23T04:28:31.758Z"
   },
   {
    "duration": 0,
    "start_time": "2024-09-23T04:28:31.759Z"
   },
   {
    "duration": 0,
    "start_time": "2024-09-23T04:28:31.761Z"
   },
   {
    "duration": 0,
    "start_time": "2024-09-23T04:28:31.762Z"
   },
   {
    "duration": 0,
    "start_time": "2024-09-23T04:28:31.763Z"
   },
   {
    "duration": 0,
    "start_time": "2024-09-23T04:28:31.764Z"
   },
   {
    "duration": 0,
    "start_time": "2024-09-23T04:28:31.765Z"
   },
   {
    "duration": 0,
    "start_time": "2024-09-23T04:28:31.766Z"
   },
   {
    "duration": 0,
    "start_time": "2024-09-23T04:28:31.767Z"
   },
   {
    "duration": 0,
    "start_time": "2024-09-23T04:28:31.768Z"
   },
   {
    "duration": 0,
    "start_time": "2024-09-23T04:28:31.768Z"
   },
   {
    "duration": 0,
    "start_time": "2024-09-23T04:28:31.770Z"
   },
   {
    "duration": 0,
    "start_time": "2024-09-23T04:28:31.770Z"
   },
   {
    "duration": 0,
    "start_time": "2024-09-23T04:28:31.772Z"
   },
   {
    "duration": 0,
    "start_time": "2024-09-23T04:28:31.774Z"
   },
   {
    "duration": 0,
    "start_time": "2024-09-23T04:28:31.775Z"
   },
   {
    "duration": 0,
    "start_time": "2024-09-23T04:28:31.777Z"
   },
   {
    "duration": 0,
    "start_time": "2024-09-23T04:28:31.778Z"
   },
   {
    "duration": 0,
    "start_time": "2024-09-23T04:28:31.779Z"
   },
   {
    "duration": 0,
    "start_time": "2024-09-23T04:28:31.824Z"
   },
   {
    "duration": 0,
    "start_time": "2024-09-23T04:28:31.825Z"
   },
   {
    "duration": 0,
    "start_time": "2024-09-23T04:28:31.826Z"
   },
   {
    "duration": 0,
    "start_time": "2024-09-23T04:28:31.827Z"
   },
   {
    "duration": 0,
    "start_time": "2024-09-23T04:28:31.828Z"
   },
   {
    "duration": 0,
    "start_time": "2024-09-23T04:28:31.829Z"
   },
   {
    "duration": 0,
    "start_time": "2024-09-23T04:28:31.830Z"
   },
   {
    "duration": 0,
    "start_time": "2024-09-23T04:28:31.831Z"
   },
   {
    "duration": 0,
    "start_time": "2024-09-23T04:28:31.832Z"
   },
   {
    "duration": 0,
    "start_time": "2024-09-23T04:28:31.833Z"
   },
   {
    "duration": 300,
    "start_time": "2024-09-23T04:28:53.462Z"
   },
   {
    "duration": 6,
    "start_time": "2024-09-23T04:28:59.600Z"
   },
   {
    "duration": 274,
    "start_time": "2024-09-23T04:35:11.606Z"
   },
   {
    "duration": 234,
    "start_time": "2024-09-23T04:35:11.883Z"
   },
   {
    "duration": 21,
    "start_time": "2024-09-23T04:35:12.119Z"
   },
   {
    "duration": 135,
    "start_time": "2024-09-23T04:35:12.141Z"
   },
   {
    "duration": 9,
    "start_time": "2024-09-23T04:35:12.280Z"
   },
   {
    "duration": 10,
    "start_time": "2024-09-23T04:35:12.291Z"
   },
   {
    "duration": 46,
    "start_time": "2024-09-23T04:35:12.302Z"
   },
   {
    "duration": 9,
    "start_time": "2024-09-23T04:35:12.350Z"
   },
   {
    "duration": 5,
    "start_time": "2024-09-23T04:35:12.361Z"
   },
   {
    "duration": 5,
    "start_time": "2024-09-23T04:35:12.368Z"
   },
   {
    "duration": 7,
    "start_time": "2024-09-23T04:35:12.374Z"
   },
   {
    "duration": 5,
    "start_time": "2024-09-23T04:35:12.383Z"
   },
   {
    "duration": 5,
    "start_time": "2024-09-23T04:35:12.389Z"
   },
   {
    "duration": 7,
    "start_time": "2024-09-23T04:35:12.427Z"
   },
   {
    "duration": 5,
    "start_time": "2024-09-23T04:35:12.435Z"
   },
   {
    "duration": 713,
    "start_time": "2024-09-23T04:35:12.442Z"
   },
   {
    "duration": 23,
    "start_time": "2024-09-23T04:35:13.157Z"
   },
   {
    "duration": 6,
    "start_time": "2024-09-23T04:35:13.182Z"
   },
   {
    "duration": 3,
    "start_time": "2024-09-23T04:35:13.189Z"
   },
   {
    "duration": 96,
    "start_time": "2024-09-23T04:35:13.194Z"
   },
   {
    "duration": 6,
    "start_time": "2024-09-23T04:35:13.292Z"
   },
   {
    "duration": 2,
    "start_time": "2024-09-23T04:35:13.300Z"
   },
   {
    "duration": 474,
    "start_time": "2024-09-23T04:35:13.304Z"
   },
   {
    "duration": 0,
    "start_time": "2024-09-23T04:35:13.780Z"
   },
   {
    "duration": 0,
    "start_time": "2024-09-23T04:35:13.781Z"
   },
   {
    "duration": 0,
    "start_time": "2024-09-23T04:35:13.782Z"
   },
   {
    "duration": 0,
    "start_time": "2024-09-23T04:35:13.783Z"
   },
   {
    "duration": 0,
    "start_time": "2024-09-23T04:35:13.785Z"
   },
   {
    "duration": 0,
    "start_time": "2024-09-23T04:35:13.786Z"
   },
   {
    "duration": 0,
    "start_time": "2024-09-23T04:35:13.786Z"
   },
   {
    "duration": 0,
    "start_time": "2024-09-23T04:35:13.787Z"
   },
   {
    "duration": 0,
    "start_time": "2024-09-23T04:35:13.789Z"
   },
   {
    "duration": 0,
    "start_time": "2024-09-23T04:35:13.790Z"
   },
   {
    "duration": 0,
    "start_time": "2024-09-23T04:35:13.791Z"
   },
   {
    "duration": 0,
    "start_time": "2024-09-23T04:35:13.791Z"
   },
   {
    "duration": 0,
    "start_time": "2024-09-23T04:35:13.793Z"
   },
   {
    "duration": 0,
    "start_time": "2024-09-23T04:35:13.794Z"
   },
   {
    "duration": 0,
    "start_time": "2024-09-23T04:35:13.794Z"
   },
   {
    "duration": 0,
    "start_time": "2024-09-23T04:35:13.795Z"
   },
   {
    "duration": 0,
    "start_time": "2024-09-23T04:35:13.797Z"
   },
   {
    "duration": 0,
    "start_time": "2024-09-23T04:35:13.797Z"
   },
   {
    "duration": 0,
    "start_time": "2024-09-23T04:35:13.798Z"
   },
   {
    "duration": 0,
    "start_time": "2024-09-23T04:35:13.824Z"
   },
   {
    "duration": 0,
    "start_time": "2024-09-23T04:35:13.824Z"
   },
   {
    "duration": 0,
    "start_time": "2024-09-23T04:35:13.826Z"
   },
   {
    "duration": 0,
    "start_time": "2024-09-23T04:35:13.827Z"
   },
   {
    "duration": 0,
    "start_time": "2024-09-23T04:35:13.829Z"
   },
   {
    "duration": 0,
    "start_time": "2024-09-23T04:35:13.830Z"
   },
   {
    "duration": 0,
    "start_time": "2024-09-23T04:35:13.831Z"
   },
   {
    "duration": 0,
    "start_time": "2024-09-23T04:35:13.837Z"
   },
   {
    "duration": 0,
    "start_time": "2024-09-23T04:35:13.838Z"
   },
   {
    "duration": 0,
    "start_time": "2024-09-23T04:35:13.839Z"
   },
   {
    "duration": 0,
    "start_time": "2024-09-23T04:35:13.840Z"
   },
   {
    "duration": 0,
    "start_time": "2024-09-23T04:35:13.841Z"
   },
   {
    "duration": 0,
    "start_time": "2024-09-23T04:35:13.843Z"
   },
   {
    "duration": 0,
    "start_time": "2024-09-23T04:35:13.843Z"
   },
   {
    "duration": 0,
    "start_time": "2024-09-23T04:35:13.845Z"
   },
   {
    "duration": 0,
    "start_time": "2024-09-23T04:35:13.846Z"
   },
   {
    "duration": 0,
    "start_time": "2024-09-23T04:35:13.847Z"
   },
   {
    "duration": 0,
    "start_time": "2024-09-23T04:35:13.848Z"
   },
   {
    "duration": 0,
    "start_time": "2024-09-23T04:35:13.850Z"
   },
   {
    "duration": 304,
    "start_time": "2024-09-23T04:35:35.450Z"
   },
   {
    "duration": 158,
    "start_time": "2024-09-23T04:38:56.896Z"
   },
   {
    "duration": 11,
    "start_time": "2024-09-23T04:39:15.983Z"
   },
   {
    "duration": 179,
    "start_time": "2024-09-23T04:39:31.227Z"
   },
   {
    "duration": 162,
    "start_time": "2024-09-23T04:39:49.111Z"
   },
   {
    "duration": 0,
    "start_time": "2024-09-23T04:39:49.275Z"
   },
   {
    "duration": 0,
    "start_time": "2024-09-23T04:39:49.276Z"
   },
   {
    "duration": 0,
    "start_time": "2024-09-23T04:39:49.277Z"
   },
   {
    "duration": 0,
    "start_time": "2024-09-23T04:39:49.278Z"
   },
   {
    "duration": 0,
    "start_time": "2024-09-23T04:39:49.279Z"
   },
   {
    "duration": 11,
    "start_time": "2024-09-23T04:40:12.526Z"
   },
   {
    "duration": 292,
    "start_time": "2024-09-23T04:41:35.072Z"
   },
   {
    "duration": 712,
    "start_time": "2024-09-23T04:41:35.883Z"
   },
   {
    "duration": 39,
    "start_time": "2024-09-23T04:41:37.084Z"
   },
   {
    "duration": 12,
    "start_time": "2024-09-23T04:41:38.178Z"
   },
   {
    "duration": 11,
    "start_time": "2024-09-23T04:41:39.016Z"
   },
   {
    "duration": 330,
    "start_time": "2024-09-23T04:41:40.896Z"
   },
   {
    "duration": 158,
    "start_time": "2024-09-23T04:42:15.744Z"
   },
   {
    "duration": 0,
    "start_time": "2024-09-23T04:42:15.904Z"
   },
   {
    "duration": 287,
    "start_time": "2024-09-23T04:42:36.768Z"
   },
   {
    "duration": 749,
    "start_time": "2024-09-23T04:42:37.523Z"
   },
   {
    "duration": 37,
    "start_time": "2024-09-23T04:42:38.339Z"
   },
   {
    "duration": 11,
    "start_time": "2024-09-23T04:42:39.157Z"
   },
   {
    "duration": 10,
    "start_time": "2024-09-23T04:42:44.340Z"
   },
   {
    "duration": 320,
    "start_time": "2024-09-23T04:42:46.162Z"
   },
   {
    "duration": 322,
    "start_time": "2024-09-23T04:43:38.668Z"
   },
   {
    "duration": 7,
    "start_time": "2024-09-23T04:50:12.489Z"
   },
   {
    "duration": 20,
    "start_time": "2024-09-23T04:52:19.681Z"
   },
   {
    "duration": 96,
    "start_time": "2024-09-23T05:04:11.415Z"
   },
   {
    "duration": 157,
    "start_time": "2024-09-23T18:39:41.190Z"
   },
   {
    "duration": 327,
    "start_time": "2024-09-23T18:40:05.273Z"
   },
   {
    "duration": 402,
    "start_time": "2024-09-23T18:40:05.602Z"
   },
   {
    "duration": 26,
    "start_time": "2024-09-23T18:40:06.006Z"
   },
   {
    "duration": 143,
    "start_time": "2024-09-23T18:40:06.034Z"
   },
   {
    "duration": 10,
    "start_time": "2024-09-23T18:40:06.179Z"
   },
   {
    "duration": 13,
    "start_time": "2024-09-23T18:40:06.191Z"
   },
   {
    "duration": 67,
    "start_time": "2024-09-23T18:40:06.206Z"
   },
   {
    "duration": 10,
    "start_time": "2024-09-23T18:40:06.275Z"
   },
   {
    "duration": 7,
    "start_time": "2024-09-23T18:40:06.286Z"
   },
   {
    "duration": 8,
    "start_time": "2024-09-23T18:40:06.296Z"
   },
   {
    "duration": 7,
    "start_time": "2024-09-23T18:40:06.306Z"
   },
   {
    "duration": 6,
    "start_time": "2024-09-23T18:40:06.314Z"
   },
   {
    "duration": 14,
    "start_time": "2024-09-23T18:40:06.321Z"
   },
   {
    "duration": 7,
    "start_time": "2024-09-23T18:40:06.336Z"
   },
   {
    "duration": 6,
    "start_time": "2024-09-23T18:40:06.345Z"
   },
   {
    "duration": 994,
    "start_time": "2024-09-23T18:40:06.353Z"
   },
   {
    "duration": 23,
    "start_time": "2024-09-23T18:40:07.349Z"
   },
   {
    "duration": 9,
    "start_time": "2024-09-23T18:40:07.375Z"
   },
   {
    "duration": 3,
    "start_time": "2024-09-23T18:40:07.386Z"
   },
   {
    "duration": 125,
    "start_time": "2024-09-23T18:40:07.391Z"
   },
   {
    "duration": 14,
    "start_time": "2024-09-23T18:40:07.518Z"
   },
   {
    "duration": 3,
    "start_time": "2024-09-23T18:40:07.535Z"
   },
   {
    "duration": 587,
    "start_time": "2024-09-23T18:40:07.543Z"
   },
   {
    "duration": 1,
    "start_time": "2024-09-23T18:40:08.135Z"
   },
   {
    "duration": 0,
    "start_time": "2024-09-23T18:40:08.139Z"
   },
   {
    "duration": 0,
    "start_time": "2024-09-23T18:40:08.139Z"
   },
   {
    "duration": 0,
    "start_time": "2024-09-23T18:40:08.140Z"
   },
   {
    "duration": 0,
    "start_time": "2024-09-23T18:40:08.141Z"
   },
   {
    "duration": 0,
    "start_time": "2024-09-23T18:40:08.142Z"
   },
   {
    "duration": 0,
    "start_time": "2024-09-23T18:40:08.143Z"
   },
   {
    "duration": 0,
    "start_time": "2024-09-23T18:40:08.143Z"
   },
   {
    "duration": 0,
    "start_time": "2024-09-23T18:40:08.144Z"
   },
   {
    "duration": 0,
    "start_time": "2024-09-23T18:40:08.145Z"
   },
   {
    "duration": 0,
    "start_time": "2024-09-23T18:40:08.145Z"
   },
   {
    "duration": 0,
    "start_time": "2024-09-23T18:40:08.146Z"
   },
   {
    "duration": 0,
    "start_time": "2024-09-23T18:40:08.147Z"
   },
   {
    "duration": 0,
    "start_time": "2024-09-23T18:40:08.148Z"
   },
   {
    "duration": 0,
    "start_time": "2024-09-23T18:40:08.151Z"
   },
   {
    "duration": 0,
    "start_time": "2024-09-23T18:40:08.152Z"
   },
   {
    "duration": 0,
    "start_time": "2024-09-23T18:40:08.153Z"
   },
   {
    "duration": 0,
    "start_time": "2024-09-23T18:40:08.154Z"
   },
   {
    "duration": 0,
    "start_time": "2024-09-23T18:40:08.155Z"
   },
   {
    "duration": 0,
    "start_time": "2024-09-23T18:40:08.156Z"
   },
   {
    "duration": 0,
    "start_time": "2024-09-23T18:40:08.157Z"
   },
   {
    "duration": 0,
    "start_time": "2024-09-23T18:40:08.158Z"
   },
   {
    "duration": 0,
    "start_time": "2024-09-23T18:40:08.159Z"
   },
   {
    "duration": 0,
    "start_time": "2024-09-23T18:40:08.160Z"
   },
   {
    "duration": 0,
    "start_time": "2024-09-23T18:40:08.161Z"
   },
   {
    "duration": 0,
    "start_time": "2024-09-23T18:40:08.163Z"
   },
   {
    "duration": 0,
    "start_time": "2024-09-23T18:40:08.165Z"
   },
   {
    "duration": 0,
    "start_time": "2024-09-23T18:40:08.166Z"
   },
   {
    "duration": 0,
    "start_time": "2024-09-23T18:40:08.167Z"
   },
   {
    "duration": 0,
    "start_time": "2024-09-23T18:40:08.168Z"
   },
   {
    "duration": 0,
    "start_time": "2024-09-23T18:40:08.169Z"
   },
   {
    "duration": 0,
    "start_time": "2024-09-23T18:40:08.170Z"
   },
   {
    "duration": 0,
    "start_time": "2024-09-23T18:40:08.171Z"
   },
   {
    "duration": 0,
    "start_time": "2024-09-23T18:40:08.172Z"
   },
   {
    "duration": 0,
    "start_time": "2024-09-23T18:40:08.173Z"
   },
   {
    "duration": 0,
    "start_time": "2024-09-23T18:40:08.174Z"
   },
   {
    "duration": 0,
    "start_time": "2024-09-23T18:40:08.175Z"
   },
   {
    "duration": 0,
    "start_time": "2024-09-23T18:40:08.177Z"
   },
   {
    "duration": 0,
    "start_time": "2024-09-23T18:40:08.179Z"
   },
   {
    "duration": 0,
    "start_time": "2024-09-23T18:40:08.180Z"
   },
   {
    "duration": 4,
    "start_time": "2024-09-23T18:40:15.029Z"
   },
   {
    "duration": 215,
    "start_time": "2024-09-23T18:41:56.918Z"
   },
   {
    "duration": 7,
    "start_time": "2024-09-23T18:41:57.835Z"
   },
   {
    "duration": 115,
    "start_time": "2024-09-23T18:43:12.519Z"
   },
   {
    "duration": 7,
    "start_time": "2024-09-23T18:43:14.219Z"
   },
   {
    "duration": 314,
    "start_time": "2024-09-24T14:02:14.328Z"
   },
   {
    "duration": 326,
    "start_time": "2024-09-24T14:02:14.645Z"
   },
   {
    "duration": 23,
    "start_time": "2024-09-24T14:02:14.972Z"
   },
   {
    "duration": 136,
    "start_time": "2024-09-24T14:02:14.996Z"
   },
   {
    "duration": 12,
    "start_time": "2024-09-24T14:02:15.135Z"
   },
   {
    "duration": 12,
    "start_time": "2024-09-24T14:02:15.150Z"
   },
   {
    "duration": 68,
    "start_time": "2024-09-24T14:02:15.165Z"
   },
   {
    "duration": 12,
    "start_time": "2024-09-24T14:02:15.235Z"
   },
   {
    "duration": 6,
    "start_time": "2024-09-24T14:02:15.249Z"
   },
   {
    "duration": 7,
    "start_time": "2024-09-24T14:02:15.258Z"
   },
   {
    "duration": 20,
    "start_time": "2024-09-24T14:02:15.267Z"
   },
   {
    "duration": 6,
    "start_time": "2024-09-24T14:02:15.289Z"
   },
   {
    "duration": 8,
    "start_time": "2024-09-24T14:02:15.297Z"
   },
   {
    "duration": 8,
    "start_time": "2024-09-24T14:02:15.309Z"
   },
   {
    "duration": 6,
    "start_time": "2024-09-24T14:02:15.320Z"
   },
   {
    "duration": 1047,
    "start_time": "2024-09-24T14:02:15.328Z"
   },
   {
    "duration": 28,
    "start_time": "2024-09-24T14:02:16.377Z"
   },
   {
    "duration": 6,
    "start_time": "2024-09-24T14:02:16.407Z"
   },
   {
    "duration": 2,
    "start_time": "2024-09-24T14:02:16.415Z"
   },
   {
    "duration": 108,
    "start_time": "2024-09-24T14:02:16.419Z"
   },
   {
    "duration": 6,
    "start_time": "2024-09-24T14:02:16.529Z"
   },
   {
    "duration": 4,
    "start_time": "2024-09-24T14:02:16.537Z"
   },
   {
    "duration": 493,
    "start_time": "2024-09-24T14:02:16.542Z"
   },
   {
    "duration": 0,
    "start_time": "2024-09-24T14:02:17.037Z"
   },
   {
    "duration": 0,
    "start_time": "2024-09-24T14:02:17.039Z"
   },
   {
    "duration": 0,
    "start_time": "2024-09-24T14:02:17.040Z"
   },
   {
    "duration": 0,
    "start_time": "2024-09-24T14:02:17.041Z"
   },
   {
    "duration": 0,
    "start_time": "2024-09-24T14:02:17.042Z"
   },
   {
    "duration": 0,
    "start_time": "2024-09-24T14:02:17.042Z"
   },
   {
    "duration": 0,
    "start_time": "2024-09-24T14:02:17.043Z"
   },
   {
    "duration": 0,
    "start_time": "2024-09-24T14:02:17.044Z"
   },
   {
    "duration": 0,
    "start_time": "2024-09-24T14:02:17.046Z"
   },
   {
    "duration": 0,
    "start_time": "2024-09-24T14:02:17.047Z"
   },
   {
    "duration": 0,
    "start_time": "2024-09-24T14:02:17.048Z"
   },
   {
    "duration": 0,
    "start_time": "2024-09-24T14:02:17.049Z"
   },
   {
    "duration": 0,
    "start_time": "2024-09-24T14:02:17.050Z"
   },
   {
    "duration": 0,
    "start_time": "2024-09-24T14:02:17.051Z"
   },
   {
    "duration": 0,
    "start_time": "2024-09-24T14:02:17.052Z"
   },
   {
    "duration": 0,
    "start_time": "2024-09-24T14:02:17.053Z"
   },
   {
    "duration": 0,
    "start_time": "2024-09-24T14:02:17.054Z"
   },
   {
    "duration": 0,
    "start_time": "2024-09-24T14:02:17.055Z"
   },
   {
    "duration": 0,
    "start_time": "2024-09-24T14:02:17.057Z"
   },
   {
    "duration": 0,
    "start_time": "2024-09-24T14:02:17.087Z"
   },
   {
    "duration": 0,
    "start_time": "2024-09-24T14:02:17.088Z"
   },
   {
    "duration": 0,
    "start_time": "2024-09-24T14:02:17.089Z"
   },
   {
    "duration": 0,
    "start_time": "2024-09-24T14:02:17.091Z"
   },
   {
    "duration": 0,
    "start_time": "2024-09-24T14:02:17.092Z"
   },
   {
    "duration": 0,
    "start_time": "2024-09-24T14:02:17.096Z"
   },
   {
    "duration": 0,
    "start_time": "2024-09-24T14:02:17.097Z"
   },
   {
    "duration": 0,
    "start_time": "2024-09-24T14:02:17.098Z"
   },
   {
    "duration": 0,
    "start_time": "2024-09-24T14:02:17.100Z"
   },
   {
    "duration": 0,
    "start_time": "2024-09-24T14:02:17.101Z"
   },
   {
    "duration": 0,
    "start_time": "2024-09-24T14:02:17.102Z"
   },
   {
    "duration": 0,
    "start_time": "2024-09-24T14:02:17.104Z"
   },
   {
    "duration": 0,
    "start_time": "2024-09-24T14:02:17.104Z"
   },
   {
    "duration": 0,
    "start_time": "2024-09-24T14:02:17.106Z"
   },
   {
    "duration": 0,
    "start_time": "2024-09-24T14:02:17.107Z"
   },
   {
    "duration": 0,
    "start_time": "2024-09-24T14:02:17.108Z"
   },
   {
    "duration": 0,
    "start_time": "2024-09-24T14:02:17.109Z"
   },
   {
    "duration": 0,
    "start_time": "2024-09-24T14:02:17.110Z"
   },
   {
    "duration": 0,
    "start_time": "2024-09-24T14:02:17.111Z"
   },
   {
    "duration": 0,
    "start_time": "2024-09-24T14:02:17.112Z"
   },
   {
    "duration": 0,
    "start_time": "2024-09-24T14:02:17.114Z"
   },
   {
    "duration": 0,
    "start_time": "2024-09-24T14:02:17.115Z"
   },
   {
    "duration": 0,
    "start_time": "2024-09-24T14:02:17.116Z"
   },
   {
    "duration": 339,
    "start_time": "2024-09-24T14:04:02.186Z"
   },
   {
    "duration": 309,
    "start_time": "2024-09-24T14:04:02.528Z"
   },
   {
    "duration": 21,
    "start_time": "2024-09-24T14:04:02.839Z"
   },
   {
    "duration": 143,
    "start_time": "2024-09-24T14:04:02.862Z"
   },
   {
    "duration": 10,
    "start_time": "2024-09-24T14:04:03.008Z"
   },
   {
    "duration": 11,
    "start_time": "2024-09-24T14:04:03.019Z"
   },
   {
    "duration": 30,
    "start_time": "2024-09-24T14:04:03.032Z"
   },
   {
    "duration": 28,
    "start_time": "2024-09-24T14:04:03.065Z"
   },
   {
    "duration": 6,
    "start_time": "2024-09-24T14:04:03.095Z"
   },
   {
    "duration": 6,
    "start_time": "2024-09-24T14:04:03.103Z"
   },
   {
    "duration": 12,
    "start_time": "2024-09-24T14:04:03.111Z"
   },
   {
    "duration": 5,
    "start_time": "2024-09-24T14:04:03.125Z"
   },
   {
    "duration": 10,
    "start_time": "2024-09-24T14:04:03.132Z"
   },
   {
    "duration": 17,
    "start_time": "2024-09-24T14:04:03.149Z"
   },
   {
    "duration": 8,
    "start_time": "2024-09-24T14:04:03.188Z"
   },
   {
    "duration": 728,
    "start_time": "2024-09-24T14:04:03.198Z"
   },
   {
    "duration": 24,
    "start_time": "2024-09-24T14:04:03.928Z"
   },
   {
    "duration": 7,
    "start_time": "2024-09-24T14:04:03.954Z"
   },
   {
    "duration": 2,
    "start_time": "2024-09-24T14:04:03.964Z"
   },
   {
    "duration": 84,
    "start_time": "2024-09-24T14:04:03.987Z"
   },
   {
    "duration": 13,
    "start_time": "2024-09-24T14:04:04.073Z"
   },
   {
    "duration": 3,
    "start_time": "2024-09-24T14:04:04.088Z"
   },
   {
    "duration": 510,
    "start_time": "2024-09-24T14:04:04.093Z"
   },
   {
    "duration": 0,
    "start_time": "2024-09-24T14:04:04.607Z"
   },
   {
    "duration": 0,
    "start_time": "2024-09-24T14:04:04.608Z"
   },
   {
    "duration": 0,
    "start_time": "2024-09-24T14:04:04.610Z"
   },
   {
    "duration": 0,
    "start_time": "2024-09-24T14:04:04.611Z"
   },
   {
    "duration": 0,
    "start_time": "2024-09-24T14:04:04.613Z"
   },
   {
    "duration": 0,
    "start_time": "2024-09-24T14:04:04.614Z"
   },
   {
    "duration": 0,
    "start_time": "2024-09-24T14:04:04.616Z"
   },
   {
    "duration": 0,
    "start_time": "2024-09-24T14:04:04.618Z"
   },
   {
    "duration": 0,
    "start_time": "2024-09-24T14:04:04.619Z"
   },
   {
    "duration": 1,
    "start_time": "2024-09-24T14:04:04.620Z"
   },
   {
    "duration": 0,
    "start_time": "2024-09-24T14:04:04.622Z"
   },
   {
    "duration": 0,
    "start_time": "2024-09-24T14:04:04.624Z"
   },
   {
    "duration": 0,
    "start_time": "2024-09-24T14:04:04.625Z"
   },
   {
    "duration": 0,
    "start_time": "2024-09-24T14:04:04.627Z"
   },
   {
    "duration": 0,
    "start_time": "2024-09-24T14:04:04.628Z"
   },
   {
    "duration": 0,
    "start_time": "2024-09-24T14:04:04.630Z"
   },
   {
    "duration": 0,
    "start_time": "2024-09-24T14:04:04.631Z"
   },
   {
    "duration": 0,
    "start_time": "2024-09-24T14:04:04.632Z"
   },
   {
    "duration": 0,
    "start_time": "2024-09-24T14:04:04.634Z"
   },
   {
    "duration": 0,
    "start_time": "2024-09-24T14:04:04.635Z"
   },
   {
    "duration": 0,
    "start_time": "2024-09-24T14:04:04.636Z"
   },
   {
    "duration": 0,
    "start_time": "2024-09-24T14:04:04.637Z"
   },
   {
    "duration": 0,
    "start_time": "2024-09-24T14:04:04.687Z"
   },
   {
    "duration": 0,
    "start_time": "2024-09-24T14:04:04.688Z"
   },
   {
    "duration": 0,
    "start_time": "2024-09-24T14:04:04.689Z"
   },
   {
    "duration": 0,
    "start_time": "2024-09-24T14:04:04.690Z"
   },
   {
    "duration": 0,
    "start_time": "2024-09-24T14:04:04.691Z"
   },
   {
    "duration": 0,
    "start_time": "2024-09-24T14:04:04.694Z"
   },
   {
    "duration": 0,
    "start_time": "2024-09-24T14:04:04.696Z"
   },
   {
    "duration": 0,
    "start_time": "2024-09-24T14:04:04.697Z"
   },
   {
    "duration": 1,
    "start_time": "2024-09-24T14:04:04.698Z"
   },
   {
    "duration": 0,
    "start_time": "2024-09-24T14:04:04.700Z"
   },
   {
    "duration": 0,
    "start_time": "2024-09-24T14:04:04.702Z"
   },
   {
    "duration": 0,
    "start_time": "2024-09-24T14:04:04.703Z"
   },
   {
    "duration": 0,
    "start_time": "2024-09-24T14:04:04.705Z"
   },
   {
    "duration": 0,
    "start_time": "2024-09-24T14:04:04.707Z"
   },
   {
    "duration": 0,
    "start_time": "2024-09-24T14:04:04.708Z"
   },
   {
    "duration": 0,
    "start_time": "2024-09-24T14:04:04.708Z"
   },
   {
    "duration": 0,
    "start_time": "2024-09-24T14:04:04.710Z"
   },
   {
    "duration": 0,
    "start_time": "2024-09-24T14:04:04.712Z"
   },
   {
    "duration": 0,
    "start_time": "2024-09-24T14:04:04.713Z"
   },
   {
    "duration": 0,
    "start_time": "2024-09-24T14:04:04.714Z"
   },
   {
    "duration": 43,
    "start_time": "2024-09-24T14:05:08.999Z"
   },
   {
    "duration": 3,
    "start_time": "2024-09-24T14:06:00.349Z"
   },
   {
    "duration": 3,
    "start_time": "2024-09-24T14:06:01.029Z"
   },
   {
    "duration": 3,
    "start_time": "2024-09-24T14:06:01.671Z"
   },
   {
    "duration": 3,
    "start_time": "2024-09-24T14:06:02.320Z"
   },
   {
    "duration": 40,
    "start_time": "2024-09-24T14:06:04.680Z"
   },
   {
    "duration": 2,
    "start_time": "2024-09-24T14:09:35.851Z"
   },
   {
    "duration": 3,
    "start_time": "2024-09-24T14:09:36.583Z"
   },
   {
    "duration": 3,
    "start_time": "2024-09-24T14:09:37.322Z"
   },
   {
    "duration": 2,
    "start_time": "2024-09-24T14:09:40.278Z"
   },
   {
    "duration": 43,
    "start_time": "2024-09-24T14:09:41.953Z"
   },
   {
    "duration": 40,
    "start_time": "2024-09-24T14:40:39.298Z"
   },
   {
    "duration": 4,
    "start_time": "2024-09-24T14:41:30.734Z"
   },
   {
    "duration": 102,
    "start_time": "2024-09-24T14:41:44.438Z"
   },
   {
    "duration": 7,
    "start_time": "2024-09-24T14:41:45.231Z"
   },
   {
    "duration": 21,
    "start_time": "2024-09-24T14:41:55.892Z"
   },
   {
    "duration": 5,
    "start_time": "2024-09-24T14:45:52.805Z"
   },
   {
    "duration": 5,
    "start_time": "2024-09-24T14:54:50.345Z"
   },
   {
    "duration": 14,
    "start_time": "2024-09-24T14:59:18.855Z"
   },
   {
    "duration": 7,
    "start_time": "2024-09-24T15:00:03.495Z"
   },
   {
    "duration": 5,
    "start_time": "2024-09-24T15:02:42.115Z"
   },
   {
    "duration": 261,
    "start_time": "2024-09-24T15:07:04.808Z"
   },
   {
    "duration": 8,
    "start_time": "2024-09-24T15:07:48.963Z"
   },
   {
    "duration": 158,
    "start_time": "2024-09-24T16:38:20.133Z"
   },
   {
    "duration": 12,
    "start_time": "2024-09-24T16:39:30.026Z"
   },
   {
    "duration": 329,
    "start_time": "2024-09-24T16:39:59.931Z"
   },
   {
    "duration": 1853,
    "start_time": "2024-09-24T16:40:00.644Z"
   },
   {
    "duration": 159,
    "start_time": "2024-09-24T16:40:02.499Z"
   },
   {
    "duration": 14,
    "start_time": "2024-09-24T16:40:02.661Z"
   },
   {
    "duration": 800,
    "start_time": "2024-09-24T17:04:29.638Z"
   },
   {
    "duration": 247,
    "start_time": "2024-09-24T17:16:51.701Z"
   },
   {
    "duration": 192,
    "start_time": "2024-09-24T17:29:05.842Z"
   },
   {
    "duration": 433,
    "start_time": "2024-09-24T18:57:59.164Z"
   },
   {
    "duration": 20,
    "start_time": "2024-09-24T18:59:45.724Z"
   },
   {
    "duration": 5,
    "start_time": "2024-09-24T19:01:17.108Z"
   },
   {
    "duration": 5,
    "start_time": "2024-09-24T19:05:33.613Z"
   },
   {
    "duration": 3,
    "start_time": "2024-09-24T19:06:06.771Z"
   },
   {
    "duration": 3,
    "start_time": "2024-09-24T19:07:08.566Z"
   },
   {
    "duration": 5,
    "start_time": "2024-09-24T19:07:25.768Z"
   },
   {
    "duration": 45,
    "start_time": "2024-09-24T19:13:24.187Z"
   },
   {
    "duration": 179,
    "start_time": "2024-09-24T19:14:03.347Z"
   },
   {
    "duration": 231,
    "start_time": "2024-09-24T19:15:16.474Z"
   },
   {
    "duration": 189,
    "start_time": "2024-09-24T19:16:00.809Z"
   },
   {
    "duration": 189,
    "start_time": "2024-09-24T19:20:25.600Z"
   },
   {
    "duration": 284,
    "start_time": "2024-09-24T19:24:28.927Z"
   },
   {
    "duration": 190,
    "start_time": "2024-09-24T19:24:52.120Z"
   },
   {
    "duration": 201,
    "start_time": "2024-09-24T19:25:52.708Z"
   },
   {
    "duration": 236,
    "start_time": "2024-09-24T19:31:23.117Z"
   },
   {
    "duration": 2,
    "start_time": "2024-09-24T19:34:30.104Z"
   },
   {
    "duration": 234,
    "start_time": "2024-09-24T19:34:32.160Z"
   },
   {
    "duration": 23,
    "start_time": "2024-09-24T19:35:50.338Z"
   },
   {
    "duration": 235,
    "start_time": "2024-09-24T19:36:37.820Z"
   },
   {
    "duration": 170,
    "start_time": "2024-09-24T22:15:59.783Z"
   },
   {
    "duration": 290,
    "start_time": "2024-09-24T22:16:17.505Z"
   },
   {
    "duration": 1796,
    "start_time": "2024-09-24T22:16:18.182Z"
   },
   {
    "duration": 211,
    "start_time": "2024-09-24T22:16:19.980Z"
   },
   {
    "duration": 29,
    "start_time": "2024-09-24T22:16:20.193Z"
   },
   {
    "duration": 285,
    "start_time": "2024-09-24T22:16:22.865Z"
   },
   {
    "duration": 40,
    "start_time": "2024-09-24T22:16:31.087Z"
   },
   {
    "duration": 135,
    "start_time": "2024-09-24T22:25:52.854Z"
   },
   {
    "duration": 44,
    "start_time": "2024-09-24T22:32:27.165Z"
   },
   {
    "duration": 10,
    "start_time": "2024-09-24T22:33:14.902Z"
   },
   {
    "duration": 11,
    "start_time": "2024-09-24T22:33:50.341Z"
   },
   {
    "duration": 3,
    "start_time": "2024-09-24T22:33:57.402Z"
   },
   {
    "duration": 815,
    "start_time": "2024-09-24T22:33:58.466Z"
   },
   {
    "duration": 24,
    "start_time": "2024-09-24T22:33:59.283Z"
   },
   {
    "duration": 12,
    "start_time": "2024-09-24T22:42:15.341Z"
   },
   {
    "duration": 65,
    "start_time": "2024-09-24T22:43:36.466Z"
   },
   {
    "duration": 10,
    "start_time": "2024-09-24T22:43:37.226Z"
   },
   {
    "duration": 10,
    "start_time": "2024-09-24T22:45:52.888Z"
   },
   {
    "duration": 33,
    "start_time": "2024-09-24T23:13:44.788Z"
   },
   {
    "duration": 7,
    "start_time": "2024-09-24T23:44:15.821Z"
   },
   {
    "duration": 26,
    "start_time": "2024-09-24T23:44:46.563Z"
   },
   {
    "duration": 248,
    "start_time": "2024-09-24T23:54:35.098Z"
   },
   {
    "duration": 678,
    "start_time": "2024-09-25T00:02:41.078Z"
   },
   {
    "duration": 169,
    "start_time": "2024-09-25T00:03:31.887Z"
   },
   {
    "duration": 13,
    "start_time": "2024-09-25T00:16:17.989Z"
   },
   {
    "duration": 82,
    "start_time": "2024-09-25T00:16:51.919Z"
   },
   {
    "duration": 67,
    "start_time": "2024-09-25T00:16:52.873Z"
   },
   {
    "duration": 16,
    "start_time": "2024-09-25T00:20:55.665Z"
   },
   {
    "duration": 67,
    "start_time": "2024-09-25T00:21:02.863Z"
   },
   {
    "duration": 73,
    "start_time": "2024-09-25T00:21:03.468Z"
   },
   {
    "duration": 19,
    "start_time": "2024-09-25T00:21:04.246Z"
   },
   {
    "duration": 6,
    "start_time": "2024-09-25T00:21:18.500Z"
   },
   {
    "duration": 373,
    "start_time": "2024-09-25T00:26:01.325Z"
   },
   {
    "duration": 76,
    "start_time": "2024-09-25T00:28:41.500Z"
   },
   {
    "duration": 45,
    "start_time": "2024-09-25T00:28:42.175Z"
   },
   {
    "duration": 51,
    "start_time": "2024-09-25T00:28:43.274Z"
   },
   {
    "duration": 1083,
    "start_time": "2024-09-25T00:55:57.115Z"
   },
   {
    "duration": 9,
    "start_time": "2024-09-25T00:57:48.854Z"
   },
   {
    "duration": 298,
    "start_time": "2024-09-25T01:00:39.112Z"
   },
   {
    "duration": 293,
    "start_time": "2024-09-25T01:00:39.412Z"
   },
   {
    "duration": 32,
    "start_time": "2024-09-25T01:00:39.706Z"
   },
   {
    "duration": 137,
    "start_time": "2024-09-25T01:00:39.740Z"
   },
   {
    "duration": 10,
    "start_time": "2024-09-25T01:00:39.879Z"
   },
   {
    "duration": 11,
    "start_time": "2024-09-25T01:00:39.891Z"
   },
   {
    "duration": 42,
    "start_time": "2024-09-25T01:00:39.903Z"
   },
   {
    "duration": 11,
    "start_time": "2024-09-25T01:00:39.947Z"
   },
   {
    "duration": 11,
    "start_time": "2024-09-25T01:00:39.959Z"
   },
   {
    "duration": 5,
    "start_time": "2024-09-25T01:00:39.972Z"
   },
   {
    "duration": 9,
    "start_time": "2024-09-25T01:00:39.978Z"
   },
   {
    "duration": 8,
    "start_time": "2024-09-25T01:00:39.988Z"
   },
   {
    "duration": 31,
    "start_time": "2024-09-25T01:00:39.997Z"
   },
   {
    "duration": 13,
    "start_time": "2024-09-25T01:00:40.035Z"
   },
   {
    "duration": 10,
    "start_time": "2024-09-25T01:00:40.051Z"
   },
   {
    "duration": 870,
    "start_time": "2024-09-25T01:00:40.062Z"
   },
   {
    "duration": 36,
    "start_time": "2024-09-25T01:00:40.935Z"
   },
   {
    "duration": 8,
    "start_time": "2024-09-25T01:00:40.973Z"
   },
   {
    "duration": 3,
    "start_time": "2024-09-25T01:00:40.982Z"
   },
   {
    "duration": 104,
    "start_time": "2024-09-25T01:00:40.987Z"
   },
   {
    "duration": 7,
    "start_time": "2024-09-25T01:00:41.092Z"
   },
   {
    "duration": 3,
    "start_time": "2024-09-25T01:00:41.100Z"
   },
   {
    "duration": 508,
    "start_time": "2024-09-25T01:00:41.105Z"
   },
   {
    "duration": 0,
    "start_time": "2024-09-25T01:00:41.617Z"
   },
   {
    "duration": 0,
    "start_time": "2024-09-25T01:00:41.625Z"
   },
   {
    "duration": 0,
    "start_time": "2024-09-25T01:00:41.628Z"
   },
   {
    "duration": 0,
    "start_time": "2024-09-25T01:00:41.629Z"
   },
   {
    "duration": 0,
    "start_time": "2024-09-25T01:00:41.630Z"
   },
   {
    "duration": 0,
    "start_time": "2024-09-25T01:00:41.631Z"
   },
   {
    "duration": 0,
    "start_time": "2024-09-25T01:00:41.633Z"
   },
   {
    "duration": 0,
    "start_time": "2024-09-25T01:00:41.634Z"
   },
   {
    "duration": 0,
    "start_time": "2024-09-25T01:00:41.635Z"
   },
   {
    "duration": 0,
    "start_time": "2024-09-25T01:00:41.637Z"
   },
   {
    "duration": 0,
    "start_time": "2024-09-25T01:00:41.638Z"
   },
   {
    "duration": 0,
    "start_time": "2024-09-25T01:00:41.639Z"
   },
   {
    "duration": 0,
    "start_time": "2024-09-25T01:00:41.640Z"
   },
   {
    "duration": 0,
    "start_time": "2024-09-25T01:00:41.641Z"
   },
   {
    "duration": 0,
    "start_time": "2024-09-25T01:00:41.643Z"
   },
   {
    "duration": 0,
    "start_time": "2024-09-25T01:00:41.644Z"
   },
   {
    "duration": 0,
    "start_time": "2024-09-25T01:00:41.645Z"
   },
   {
    "duration": 1,
    "start_time": "2024-09-25T01:00:41.646Z"
   },
   {
    "duration": 0,
    "start_time": "2024-09-25T01:00:41.648Z"
   },
   {
    "duration": 0,
    "start_time": "2024-09-25T01:00:41.649Z"
   },
   {
    "duration": 0,
    "start_time": "2024-09-25T01:00:41.650Z"
   },
   {
    "duration": 0,
    "start_time": "2024-09-25T01:00:41.652Z"
   },
   {
    "duration": 0,
    "start_time": "2024-09-25T01:00:41.653Z"
   },
   {
    "duration": 0,
    "start_time": "2024-09-25T01:00:41.654Z"
   },
   {
    "duration": 0,
    "start_time": "2024-09-25T01:00:41.656Z"
   },
   {
    "duration": 0,
    "start_time": "2024-09-25T01:00:41.657Z"
   },
   {
    "duration": 0,
    "start_time": "2024-09-25T01:00:41.658Z"
   },
   {
    "duration": 0,
    "start_time": "2024-09-25T01:00:41.659Z"
   },
   {
    "duration": 0,
    "start_time": "2024-09-25T01:00:41.661Z"
   },
   {
    "duration": 0,
    "start_time": "2024-09-25T01:00:41.662Z"
   },
   {
    "duration": 0,
    "start_time": "2024-09-25T01:00:41.663Z"
   },
   {
    "duration": 0,
    "start_time": "2024-09-25T01:00:41.664Z"
   },
   {
    "duration": 0,
    "start_time": "2024-09-25T01:00:41.666Z"
   },
   {
    "duration": 0,
    "start_time": "2024-09-25T01:00:41.667Z"
   },
   {
    "duration": 0,
    "start_time": "2024-09-25T01:00:41.668Z"
   },
   {
    "duration": 0,
    "start_time": "2024-09-25T01:00:41.669Z"
   },
   {
    "duration": 0,
    "start_time": "2024-09-25T01:00:41.671Z"
   },
   {
    "duration": 0,
    "start_time": "2024-09-25T01:00:41.674Z"
   },
   {
    "duration": 0,
    "start_time": "2024-09-25T01:00:41.675Z"
   },
   {
    "duration": 0,
    "start_time": "2024-09-25T01:00:41.676Z"
   },
   {
    "duration": 0,
    "start_time": "2024-09-25T01:00:41.677Z"
   },
   {
    "duration": 0,
    "start_time": "2024-09-25T01:00:41.678Z"
   },
   {
    "duration": 0,
    "start_time": "2024-09-25T01:00:41.678Z"
   },
   {
    "duration": 0,
    "start_time": "2024-09-25T01:00:41.679Z"
   },
   {
    "duration": 0,
    "start_time": "2024-09-25T01:00:41.726Z"
   },
   {
    "duration": 0,
    "start_time": "2024-09-25T01:00:41.727Z"
   },
   {
    "duration": 0,
    "start_time": "2024-09-25T01:00:41.728Z"
   },
   {
    "duration": 0,
    "start_time": "2024-09-25T01:00:41.729Z"
   },
   {
    "duration": 0,
    "start_time": "2024-09-25T01:00:41.731Z"
   },
   {
    "duration": 0,
    "start_time": "2024-09-25T01:00:41.733Z"
   },
   {
    "duration": 0,
    "start_time": "2024-09-25T01:00:41.734Z"
   },
   {
    "duration": 0,
    "start_time": "2024-09-25T01:00:41.735Z"
   },
   {
    "duration": 0,
    "start_time": "2024-09-25T01:00:41.737Z"
   },
   {
    "duration": 0,
    "start_time": "2024-09-25T01:00:41.738Z"
   },
   {
    "duration": 0,
    "start_time": "2024-09-25T01:00:41.740Z"
   },
   {
    "duration": 0,
    "start_time": "2024-09-25T01:00:41.741Z"
   },
   {
    "duration": 0,
    "start_time": "2024-09-25T01:00:41.743Z"
   },
   {
    "duration": 0,
    "start_time": "2024-09-25T01:00:41.744Z"
   },
   {
    "duration": 0,
    "start_time": "2024-09-25T01:00:41.745Z"
   },
   {
    "duration": 1,
    "start_time": "2024-09-25T01:00:41.746Z"
   },
   {
    "duration": 0,
    "start_time": "2024-09-25T01:00:41.748Z"
   },
   {
    "duration": 0,
    "start_time": "2024-09-25T01:00:41.749Z"
   },
   {
    "duration": 0,
    "start_time": "2024-09-25T01:00:41.751Z"
   },
   {
    "duration": 0,
    "start_time": "2024-09-25T01:00:41.752Z"
   },
   {
    "duration": 0,
    "start_time": "2024-09-25T01:00:41.753Z"
   },
   {
    "duration": 54,
    "start_time": "2024-09-25T01:12:10.009Z"
   },
   {
    "duration": 3,
    "start_time": "2024-09-25T01:12:20.871Z"
   },
   {
    "duration": 3,
    "start_time": "2024-09-25T01:12:21.524Z"
   },
   {
    "duration": 2,
    "start_time": "2024-09-25T01:12:22.193Z"
   },
   {
    "duration": 2,
    "start_time": "2024-09-25T01:12:23.086Z"
   },
   {
    "duration": 53,
    "start_time": "2024-09-25T01:12:24.234Z"
   },
   {
    "duration": 2,
    "start_time": "2024-09-25T01:13:17.808Z"
   },
   {
    "duration": 137,
    "start_time": "2024-09-25T01:13:18.519Z"
   },
   {
    "duration": 91,
    "start_time": "2024-09-25T01:13:19.251Z"
   },
   {
    "duration": 7,
    "start_time": "2024-09-25T01:13:19.975Z"
   },
   {
    "duration": 2,
    "start_time": "2024-09-25T01:13:20.890Z"
   },
   {
    "duration": 45,
    "start_time": "2024-09-25T01:13:21.955Z"
   },
   {
    "duration": 4,
    "start_time": "2024-09-25T01:13:42.734Z"
   },
   {
    "duration": 133,
    "start_time": "2024-09-25T01:13:43.553Z"
   },
   {
    "duration": 91,
    "start_time": "2024-09-25T01:13:44.779Z"
   },
   {
    "duration": 9,
    "start_time": "2024-09-25T01:13:45.744Z"
   },
   {
    "duration": 55,
    "start_time": "2024-09-25T01:13:46.910Z"
   },
   {
    "duration": 155,
    "start_time": "2024-09-25T02:53:53.851Z"
   },
   {
    "duration": 271,
    "start_time": "2024-09-25T02:54:50.611Z"
   },
   {
    "duration": 158,
    "start_time": "2024-09-25T02:54:51.469Z"
   },
   {
    "duration": 12,
    "start_time": "2024-09-25T02:54:52.729Z"
   },
   {
    "duration": 6,
    "start_time": "2024-09-25T02:55:04.335Z"
   },
   {
    "duration": 5,
    "start_time": "2024-09-25T02:55:15.813Z"
   },
   {
    "duration": 48,
    "start_time": "2024-09-25T03:28:17.024Z"
   },
   {
    "duration": 3,
    "start_time": "2024-09-25T03:29:42.824Z"
   },
   {
    "duration": 2027,
    "start_time": "2024-09-25T03:29:43.584Z"
   },
   {
    "duration": 149,
    "start_time": "2024-09-25T03:29:45.614Z"
   },
   {
    "duration": 11,
    "start_time": "2024-09-25T03:29:45.765Z"
   },
   {
    "duration": 5,
    "start_time": "2024-09-25T03:29:48.518Z"
   },
   {
    "duration": 5,
    "start_time": "2024-09-25T03:29:49.609Z"
   },
   {
    "duration": 6,
    "start_time": "2024-09-25T03:29:55.394Z"
   },
   {
    "duration": 274,
    "start_time": "2024-09-25T03:29:56.155Z"
   },
   {
    "duration": 204,
    "start_time": "2024-09-25T03:35:53.865Z"
   },
   {
    "duration": 220,
    "start_time": "2024-09-25T03:36:20.604Z"
   },
   {
    "duration": 127,
    "start_time": "2024-09-25T03:46:21.425Z"
   },
   {
    "duration": 5,
    "start_time": "2024-09-25T04:05:15.208Z"
   },
   {
    "duration": 422,
    "start_time": "2024-09-25T04:05:49.798Z"
   },
   {
    "duration": 138,
    "start_time": "2024-09-25T04:06:30.538Z"
   },
   {
    "duration": 119,
    "start_time": "2024-09-25T04:12:32.473Z"
   },
   {
    "duration": 30,
    "start_time": "2024-09-25T04:12:33.653Z"
   },
   {
    "duration": 239,
    "start_time": "2024-09-25T04:12:42.790Z"
   },
   {
    "duration": 821,
    "start_time": "2024-09-25T04:13:40.089Z"
   },
   {
    "duration": 37,
    "start_time": "2024-09-25T04:13:41.144Z"
   },
   {
    "duration": 704,
    "start_time": "2024-09-25T04:13:58.288Z"
   },
   {
    "duration": 22,
    "start_time": "2024-09-25T04:13:58.995Z"
   },
   {
    "duration": 333,
    "start_time": "2024-09-25T04:14:01.300Z"
   },
   {
    "duration": 2,
    "start_time": "2024-09-25T04:14:25.388Z"
   },
   {
    "duration": 64,
    "start_time": "2024-09-25T04:14:26.014Z"
   },
   {
    "duration": 10,
    "start_time": "2024-09-25T04:14:27.016Z"
   },
   {
    "duration": 11,
    "start_time": "2024-09-25T04:14:27.990Z"
   },
   {
    "duration": 17,
    "start_time": "2024-09-25T04:14:28.705Z"
   },
   {
    "duration": 3,
    "start_time": "2024-09-25T04:15:36.175Z"
   },
   {
    "duration": 713,
    "start_time": "2024-09-25T04:15:36.760Z"
   },
   {
    "duration": 837,
    "start_time": "2024-09-25T04:15:37.476Z"
   },
   {
    "duration": 48,
    "start_time": "2024-09-25T04:15:38.315Z"
   },
   {
    "duration": 35,
    "start_time": "2024-09-25T04:15:39.189Z"
   },
   {
    "duration": 2,
    "start_time": "2024-09-25T04:15:58.596Z"
   },
   {
    "duration": 31,
    "start_time": "2024-09-25T04:15:59.156Z"
   },
   {
    "duration": 13,
    "start_time": "2024-09-25T04:15:59.713Z"
   },
   {
    "duration": 15,
    "start_time": "2024-09-25T04:16:00.270Z"
   },
   {
    "duration": 13,
    "start_time": "2024-09-25T04:17:25.071Z"
   },
   {
    "duration": 13,
    "start_time": "2024-09-25T04:22:41.049Z"
   },
   {
    "duration": 3,
    "start_time": "2024-09-25T04:27:26.957Z"
   },
   {
    "duration": 2,
    "start_time": "2024-09-25T04:27:27.611Z"
   },
   {
    "duration": 2,
    "start_time": "2024-09-25T04:27:29.068Z"
   },
   {
    "duration": 101,
    "start_time": "2024-09-25T04:27:31.628Z"
   },
   {
    "duration": 10,
    "start_time": "2024-09-25T04:27:33.447Z"
   },
   {
    "duration": 6,
    "start_time": "2024-09-25T04:28:01.617Z"
   },
   {
    "duration": 35,
    "start_time": "2024-09-25T04:28:07.653Z"
   },
   {
    "duration": 11,
    "start_time": "2024-09-25T04:28:10.853Z"
   },
   {
    "duration": 6,
    "start_time": "2024-09-25T04:28:12.928Z"
   },
   {
    "duration": 9,
    "start_time": "2024-09-25T04:28:37.080Z"
   },
   {
    "duration": 8,
    "start_time": "2024-09-25T04:28:37.679Z"
   },
   {
    "duration": 6,
    "start_time": "2024-09-25T04:28:45.093Z"
   },
   {
    "duration": 12,
    "start_time": "2024-09-25T04:28:48.132Z"
   },
   {
    "duration": 8,
    "start_time": "2024-09-25T04:28:50.296Z"
   },
   {
    "duration": 6,
    "start_time": "2024-09-25T04:29:05.916Z"
   },
   {
    "duration": 690,
    "start_time": "2024-09-25T04:29:08.987Z"
   },
   {
    "duration": 21,
    "start_time": "2024-09-25T04:29:10.843Z"
   },
   {
    "duration": 9,
    "start_time": "2024-09-25T04:29:22.705Z"
   },
   {
    "duration": 3,
    "start_time": "2024-09-25T04:29:35.202Z"
   },
   {
    "duration": 102,
    "start_time": "2024-09-25T04:29:36.102Z"
   },
   {
    "duration": 76,
    "start_time": "2024-09-25T04:29:37.135Z"
   },
   {
    "duration": 6,
    "start_time": "2024-09-25T04:29:38.532Z"
   },
   {
    "duration": 3,
    "start_time": "2024-09-25T04:30:43.665Z"
   },
   {
    "duration": 298,
    "start_time": "2024-09-25T15:59:43.367Z"
   },
   {
    "duration": 2,
    "start_time": "2024-09-25T15:59:43.667Z"
   },
   {
    "duration": 3,
    "start_time": "2024-09-25T15:59:43.671Z"
   },
   {
    "duration": 173,
    "start_time": "2024-09-25T15:59:43.675Z"
   },
   {
    "duration": 13,
    "start_time": "2024-09-25T15:59:43.851Z"
   },
   {
    "duration": 11,
    "start_time": "2024-09-25T15:59:43.866Z"
   },
   {
    "duration": 72,
    "start_time": "2024-09-25T15:59:43.881Z"
   },
   {
    "duration": 10,
    "start_time": "2024-09-25T15:59:43.955Z"
   },
   {
    "duration": 6,
    "start_time": "2024-09-25T15:59:43.966Z"
   },
   {
    "duration": 8,
    "start_time": "2024-09-25T15:59:43.974Z"
   },
   {
    "duration": 8,
    "start_time": "2024-09-25T15:59:43.984Z"
   },
   {
    "duration": 5,
    "start_time": "2024-09-25T15:59:43.993Z"
   },
   {
    "duration": 11,
    "start_time": "2024-09-25T15:59:44.000Z"
   },
   {
    "duration": 8,
    "start_time": "2024-09-25T15:59:44.015Z"
   },
   {
    "duration": 6,
    "start_time": "2024-09-25T15:59:44.025Z"
   },
   {
    "duration": 787,
    "start_time": "2024-09-25T15:59:44.032Z"
   },
   {
    "duration": 27,
    "start_time": "2024-09-25T15:59:44.820Z"
   },
   {
    "duration": 6,
    "start_time": "2024-09-25T15:59:44.849Z"
   },
   {
    "duration": 2,
    "start_time": "2024-09-25T15:59:44.857Z"
   },
   {
    "duration": 143,
    "start_time": "2024-09-25T15:59:44.861Z"
   },
   {
    "duration": 84,
    "start_time": "2024-09-25T15:59:45.006Z"
   },
   {
    "duration": 14,
    "start_time": "2024-09-25T15:59:45.092Z"
   },
   {
    "duration": 464,
    "start_time": "2024-09-25T15:59:45.108Z"
   },
   {
    "duration": 0,
    "start_time": "2024-09-25T15:59:45.575Z"
   },
   {
    "duration": 0,
    "start_time": "2024-09-25T15:59:45.576Z"
   },
   {
    "duration": 0,
    "start_time": "2024-09-25T15:59:45.577Z"
   },
   {
    "duration": 0,
    "start_time": "2024-09-25T15:59:45.578Z"
   },
   {
    "duration": 0,
    "start_time": "2024-09-25T15:59:45.579Z"
   },
   {
    "duration": 0,
    "start_time": "2024-09-25T15:59:45.581Z"
   },
   {
    "duration": 0,
    "start_time": "2024-09-25T15:59:45.583Z"
   },
   {
    "duration": 0,
    "start_time": "2024-09-25T15:59:45.584Z"
   },
   {
    "duration": 0,
    "start_time": "2024-09-25T15:59:45.585Z"
   },
   {
    "duration": 0,
    "start_time": "2024-09-25T15:59:45.586Z"
   },
   {
    "duration": 0,
    "start_time": "2024-09-25T15:59:45.587Z"
   },
   {
    "duration": 0,
    "start_time": "2024-09-25T15:59:45.604Z"
   },
   {
    "duration": 0,
    "start_time": "2024-09-25T15:59:45.605Z"
   },
   {
    "duration": 0,
    "start_time": "2024-09-25T15:59:45.606Z"
   },
   {
    "duration": 0,
    "start_time": "2024-09-25T15:59:45.607Z"
   },
   {
    "duration": 0,
    "start_time": "2024-09-25T15:59:45.608Z"
   },
   {
    "duration": 0,
    "start_time": "2024-09-25T15:59:45.609Z"
   },
   {
    "duration": 0,
    "start_time": "2024-09-25T15:59:45.610Z"
   },
   {
    "duration": 0,
    "start_time": "2024-09-25T15:59:45.611Z"
   },
   {
    "duration": 1,
    "start_time": "2024-09-25T15:59:45.612Z"
   },
   {
    "duration": 0,
    "start_time": "2024-09-25T15:59:45.613Z"
   },
   {
    "duration": 0,
    "start_time": "2024-09-25T15:59:45.614Z"
   },
   {
    "duration": 0,
    "start_time": "2024-09-25T15:59:45.615Z"
   },
   {
    "duration": 0,
    "start_time": "2024-09-25T15:59:45.616Z"
   },
   {
    "duration": 0,
    "start_time": "2024-09-25T15:59:45.617Z"
   },
   {
    "duration": 0,
    "start_time": "2024-09-25T15:59:45.618Z"
   },
   {
    "duration": 0,
    "start_time": "2024-09-25T15:59:45.619Z"
   },
   {
    "duration": 0,
    "start_time": "2024-09-25T15:59:45.620Z"
   },
   {
    "duration": 0,
    "start_time": "2024-09-25T15:59:45.621Z"
   },
   {
    "duration": 0,
    "start_time": "2024-09-25T15:59:45.622Z"
   },
   {
    "duration": 0,
    "start_time": "2024-09-25T15:59:45.623Z"
   },
   {
    "duration": 0,
    "start_time": "2024-09-25T15:59:45.624Z"
   },
   {
    "duration": 0,
    "start_time": "2024-09-25T15:59:45.625Z"
   },
   {
    "duration": 0,
    "start_time": "2024-09-25T15:59:45.626Z"
   },
   {
    "duration": 0,
    "start_time": "2024-09-25T15:59:45.627Z"
   },
   {
    "duration": 0,
    "start_time": "2024-09-25T15:59:45.628Z"
   },
   {
    "duration": 0,
    "start_time": "2024-09-25T15:59:45.629Z"
   },
   {
    "duration": 0,
    "start_time": "2024-09-25T15:59:45.630Z"
   },
   {
    "duration": 0,
    "start_time": "2024-09-25T15:59:45.631Z"
   },
   {
    "duration": 0,
    "start_time": "2024-09-25T15:59:45.632Z"
   },
   {
    "duration": 0,
    "start_time": "2024-09-25T15:59:45.633Z"
   },
   {
    "duration": 0,
    "start_time": "2024-09-25T15:59:45.634Z"
   },
   {
    "duration": 0,
    "start_time": "2024-09-25T15:59:45.635Z"
   },
   {
    "duration": 0,
    "start_time": "2024-09-25T15:59:45.636Z"
   },
   {
    "duration": 0,
    "start_time": "2024-09-25T15:59:45.637Z"
   },
   {
    "duration": 0,
    "start_time": "2024-09-25T15:59:45.639Z"
   },
   {
    "duration": 0,
    "start_time": "2024-09-25T15:59:45.640Z"
   },
   {
    "duration": 0,
    "start_time": "2024-09-25T15:59:45.641Z"
   },
   {
    "duration": 0,
    "start_time": "2024-09-25T15:59:45.643Z"
   },
   {
    "duration": 0,
    "start_time": "2024-09-25T15:59:45.644Z"
   },
   {
    "duration": 0,
    "start_time": "2024-09-25T15:59:45.705Z"
   },
   {
    "duration": 0,
    "start_time": "2024-09-25T15:59:45.707Z"
   },
   {
    "duration": 0,
    "start_time": "2024-09-25T15:59:45.708Z"
   },
   {
    "duration": 0,
    "start_time": "2024-09-25T15:59:45.710Z"
   },
   {
    "duration": 0,
    "start_time": "2024-09-25T15:59:45.711Z"
   },
   {
    "duration": 0,
    "start_time": "2024-09-25T15:59:45.712Z"
   },
   {
    "duration": 0,
    "start_time": "2024-09-25T15:59:45.714Z"
   },
   {
    "duration": 0,
    "start_time": "2024-09-25T15:59:45.720Z"
   },
   {
    "duration": 0,
    "start_time": "2024-09-25T15:59:45.721Z"
   },
   {
    "duration": 0,
    "start_time": "2024-09-25T15:59:45.722Z"
   },
   {
    "duration": 0,
    "start_time": "2024-09-25T15:59:45.723Z"
   },
   {
    "duration": 0,
    "start_time": "2024-09-25T15:59:45.724Z"
   },
   {
    "duration": 0,
    "start_time": "2024-09-25T15:59:45.726Z"
   },
   {
    "duration": 0,
    "start_time": "2024-09-25T15:59:45.727Z"
   },
   {
    "duration": 0,
    "start_time": "2024-09-25T15:59:45.729Z"
   },
   {
    "duration": 0,
    "start_time": "2024-09-25T15:59:45.730Z"
   },
   {
    "duration": 0,
    "start_time": "2024-09-25T15:59:45.732Z"
   },
   {
    "duration": 0,
    "start_time": "2024-09-25T15:59:45.733Z"
   },
   {
    "duration": 0,
    "start_time": "2024-09-25T15:59:45.735Z"
   },
   {
    "duration": 0,
    "start_time": "2024-09-25T15:59:45.736Z"
   },
   {
    "duration": 0,
    "start_time": "2024-09-25T15:59:45.738Z"
   },
   {
    "duration": 2,
    "start_time": "2024-09-25T16:32:46.448Z"
   },
   {
    "duration": 232,
    "start_time": "2024-09-25T16:32:47.265Z"
   },
   {
    "duration": 21,
    "start_time": "2024-09-25T16:32:48.241Z"
   },
   {
    "duration": 115,
    "start_time": "2024-09-25T16:34:20.889Z"
   },
   {
    "duration": 81,
    "start_time": "2024-09-25T16:34:21.803Z"
   },
   {
    "duration": 5,
    "start_time": "2024-09-25T16:35:19.681Z"
   },
   {
    "duration": 38,
    "start_time": "2024-09-25T16:35:44.605Z"
   },
   {
    "duration": 40,
    "start_time": "2024-09-25T16:51:58.069Z"
   },
   {
    "duration": 4,
    "start_time": "2024-09-25T16:55:50.272Z"
   },
   {
    "duration": 39,
    "start_time": "2024-09-25T16:56:01.608Z"
   },
   {
    "duration": 39,
    "start_time": "2024-09-25T17:06:38.178Z"
   },
   {
    "duration": 39,
    "start_time": "2024-09-25T17:07:11.139Z"
   },
   {
    "duration": 39,
    "start_time": "2024-09-25T17:07:27.928Z"
   },
   {
    "duration": 46,
    "start_time": "2024-09-25T17:08:18.696Z"
   },
   {
    "duration": 112,
    "start_time": "2024-09-25T17:11:22.191Z"
   },
   {
    "duration": 83,
    "start_time": "2024-09-25T17:11:22.893Z"
   },
   {
    "duration": 6,
    "start_time": "2024-09-25T17:11:23.810Z"
   },
   {
    "duration": 38,
    "start_time": "2024-09-25T17:12:06.436Z"
   },
   {
    "duration": 38,
    "start_time": "2024-09-25T17:12:19.338Z"
   },
   {
    "duration": 4,
    "start_time": "2024-09-25T17:12:26.573Z"
   },
   {
    "duration": 39,
    "start_time": "2024-09-25T17:12:41.641Z"
   },
   {
    "duration": 13,
    "start_time": "2024-09-25T17:19:12.230Z"
   },
   {
    "duration": 5,
    "start_time": "2024-09-25T17:20:22.736Z"
   },
   {
    "duration": 4,
    "start_time": "2024-09-25T17:20:48.185Z"
   },
   {
    "duration": 10,
    "start_time": "2024-09-25T17:21:24.056Z"
   },
   {
    "duration": 108,
    "start_time": "2024-09-25T17:22:47.462Z"
   },
   {
    "duration": 11,
    "start_time": "2024-09-25T17:25:02.221Z"
   },
   {
    "duration": 25,
    "start_time": "2024-09-25T17:26:26.646Z"
   },
   {
    "duration": 25,
    "start_time": "2024-09-25T17:26:56.737Z"
   },
   {
    "duration": 44,
    "start_time": "2024-09-25T17:30:39.477Z"
   },
   {
    "duration": 25,
    "start_time": "2024-09-25T17:30:40.964Z"
   },
   {
    "duration": 293,
    "start_time": "2024-09-25T17:32:08.775Z"
   },
   {
    "duration": 2,
    "start_time": "2024-09-25T17:32:09.071Z"
   },
   {
    "duration": 188,
    "start_time": "2024-09-25T17:32:09.075Z"
   },
   {
    "duration": 0,
    "start_time": "2024-09-25T17:32:09.267Z"
   },
   {
    "duration": 0,
    "start_time": "2024-09-25T17:32:09.268Z"
   },
   {
    "duration": 0,
    "start_time": "2024-09-25T17:32:09.269Z"
   },
   {
    "duration": 0,
    "start_time": "2024-09-25T17:32:09.270Z"
   },
   {
    "duration": 0,
    "start_time": "2024-09-25T17:32:09.271Z"
   },
   {
    "duration": 0,
    "start_time": "2024-09-25T17:32:09.272Z"
   },
   {
    "duration": 0,
    "start_time": "2024-09-25T17:32:09.273Z"
   },
   {
    "duration": 0,
    "start_time": "2024-09-25T17:32:09.274Z"
   },
   {
    "duration": 0,
    "start_time": "2024-09-25T17:32:09.276Z"
   },
   {
    "duration": 0,
    "start_time": "2024-09-25T17:32:09.277Z"
   },
   {
    "duration": 0,
    "start_time": "2024-09-25T17:32:09.278Z"
   },
   {
    "duration": 0,
    "start_time": "2024-09-25T17:32:09.279Z"
   },
   {
    "duration": 0,
    "start_time": "2024-09-25T17:32:09.281Z"
   },
   {
    "duration": 0,
    "start_time": "2024-09-25T17:32:09.281Z"
   },
   {
    "duration": 0,
    "start_time": "2024-09-25T17:32:09.282Z"
   },
   {
    "duration": 0,
    "start_time": "2024-09-25T17:32:09.283Z"
   },
   {
    "duration": 0,
    "start_time": "2024-09-25T17:32:09.283Z"
   },
   {
    "duration": 0,
    "start_time": "2024-09-25T17:32:09.284Z"
   },
   {
    "duration": 0,
    "start_time": "2024-09-25T17:32:09.304Z"
   },
   {
    "duration": 0,
    "start_time": "2024-09-25T17:32:09.306Z"
   },
   {
    "duration": 0,
    "start_time": "2024-09-25T17:32:09.307Z"
   },
   {
    "duration": 0,
    "start_time": "2024-09-25T17:32:09.308Z"
   },
   {
    "duration": 0,
    "start_time": "2024-09-25T17:32:09.309Z"
   },
   {
    "duration": 0,
    "start_time": "2024-09-25T17:32:09.310Z"
   },
   {
    "duration": 0,
    "start_time": "2024-09-25T17:32:09.311Z"
   },
   {
    "duration": 0,
    "start_time": "2024-09-25T17:32:09.312Z"
   },
   {
    "duration": 0,
    "start_time": "2024-09-25T17:32:09.313Z"
   },
   {
    "duration": 0,
    "start_time": "2024-09-25T17:32:09.315Z"
   },
   {
    "duration": 0,
    "start_time": "2024-09-25T17:32:09.316Z"
   },
   {
    "duration": 0,
    "start_time": "2024-09-25T17:32:09.317Z"
   },
   {
    "duration": 0,
    "start_time": "2024-09-25T17:32:09.317Z"
   },
   {
    "duration": 0,
    "start_time": "2024-09-25T17:32:09.318Z"
   },
   {
    "duration": 0,
    "start_time": "2024-09-25T17:32:09.320Z"
   },
   {
    "duration": 0,
    "start_time": "2024-09-25T17:32:09.321Z"
   },
   {
    "duration": 0,
    "start_time": "2024-09-25T17:32:09.322Z"
   },
   {
    "duration": 0,
    "start_time": "2024-09-25T17:32:09.324Z"
   },
   {
    "duration": 0,
    "start_time": "2024-09-25T17:32:09.325Z"
   },
   {
    "duration": 0,
    "start_time": "2024-09-25T17:32:09.325Z"
   },
   {
    "duration": 0,
    "start_time": "2024-09-25T17:32:09.326Z"
   },
   {
    "duration": 0,
    "start_time": "2024-09-25T17:32:09.327Z"
   },
   {
    "duration": 0,
    "start_time": "2024-09-25T17:32:09.329Z"
   },
   {
    "duration": 0,
    "start_time": "2024-09-25T17:32:09.330Z"
   },
   {
    "duration": 0,
    "start_time": "2024-09-25T17:32:09.331Z"
   },
   {
    "duration": 0,
    "start_time": "2024-09-25T17:32:09.332Z"
   },
   {
    "duration": 0,
    "start_time": "2024-09-25T17:32:09.333Z"
   },
   {
    "duration": 0,
    "start_time": "2024-09-25T17:32:09.334Z"
   },
   {
    "duration": 0,
    "start_time": "2024-09-25T17:32:09.336Z"
   },
   {
    "duration": 0,
    "start_time": "2024-09-25T17:32:09.337Z"
   },
   {
    "duration": 0,
    "start_time": "2024-09-25T17:32:09.337Z"
   },
   {
    "duration": 0,
    "start_time": "2024-09-25T17:32:09.338Z"
   },
   {
    "duration": 0,
    "start_time": "2024-09-25T17:32:09.339Z"
   },
   {
    "duration": 0,
    "start_time": "2024-09-25T17:32:09.340Z"
   },
   {
    "duration": 0,
    "start_time": "2024-09-25T17:32:09.340Z"
   },
   {
    "duration": 0,
    "start_time": "2024-09-25T17:32:09.341Z"
   },
   {
    "duration": 0,
    "start_time": "2024-09-25T17:32:09.405Z"
   },
   {
    "duration": 0,
    "start_time": "2024-09-25T17:32:09.406Z"
   },
   {
    "duration": 0,
    "start_time": "2024-09-25T17:32:09.407Z"
   },
   {
    "duration": 0,
    "start_time": "2024-09-25T17:32:09.408Z"
   },
   {
    "duration": 0,
    "start_time": "2024-09-25T17:32:09.409Z"
   },
   {
    "duration": 0,
    "start_time": "2024-09-25T17:32:09.410Z"
   },
   {
    "duration": 0,
    "start_time": "2024-09-25T17:32:09.411Z"
   },
   {
    "duration": 0,
    "start_time": "2024-09-25T17:32:09.412Z"
   },
   {
    "duration": 0,
    "start_time": "2024-09-25T17:32:09.413Z"
   },
   {
    "duration": 0,
    "start_time": "2024-09-25T17:32:09.414Z"
   },
   {
    "duration": 0,
    "start_time": "2024-09-25T17:32:09.415Z"
   },
   {
    "duration": 0,
    "start_time": "2024-09-25T17:32:09.416Z"
   },
   {
    "duration": 0,
    "start_time": "2024-09-25T17:32:09.418Z"
   },
   {
    "duration": 0,
    "start_time": "2024-09-25T17:32:09.419Z"
   },
   {
    "duration": 0,
    "start_time": "2024-09-25T17:32:09.420Z"
   },
   {
    "duration": 0,
    "start_time": "2024-09-25T17:32:09.421Z"
   },
   {
    "duration": 0,
    "start_time": "2024-09-25T17:32:09.422Z"
   },
   {
    "duration": 0,
    "start_time": "2024-09-25T17:32:09.423Z"
   },
   {
    "duration": 0,
    "start_time": "2024-09-25T17:32:09.424Z"
   },
   {
    "duration": 0,
    "start_time": "2024-09-25T17:32:09.424Z"
   },
   {
    "duration": 0,
    "start_time": "2024-09-25T17:32:09.426Z"
   },
   {
    "duration": 0,
    "start_time": "2024-09-25T17:32:09.427Z"
   },
   {
    "duration": 0,
    "start_time": "2024-09-25T17:32:09.428Z"
   },
   {
    "duration": 0,
    "start_time": "2024-09-25T17:32:09.429Z"
   },
   {
    "duration": 0,
    "start_time": "2024-09-25T17:32:09.431Z"
   },
   {
    "duration": 0,
    "start_time": "2024-09-25T17:32:09.431Z"
   },
   {
    "duration": 0,
    "start_time": "2024-09-25T17:32:09.432Z"
   },
   {
    "duration": 0,
    "start_time": "2024-09-25T17:32:09.433Z"
   },
   {
    "duration": 0,
    "start_time": "2024-09-25T17:32:09.434Z"
   },
   {
    "duration": 0,
    "start_time": "2024-09-25T17:32:09.435Z"
   },
   {
    "duration": 0,
    "start_time": "2024-09-25T17:32:09.436Z"
   },
   {
    "duration": 0,
    "start_time": "2024-09-25T17:32:09.438Z"
   },
   {
    "duration": 0,
    "start_time": "2024-09-25T17:32:09.439Z"
   },
   {
    "duration": 0,
    "start_time": "2024-09-25T17:32:09.440Z"
   },
   {
    "duration": 0,
    "start_time": "2024-09-25T17:32:09.442Z"
   },
   {
    "duration": 0,
    "start_time": "2024-09-25T17:32:09.443Z"
   },
   {
    "duration": 324,
    "start_time": "2024-09-25T17:33:28.539Z"
   },
   {
    "duration": 240,
    "start_time": "2024-09-25T17:33:28.865Z"
   },
   {
    "duration": 21,
    "start_time": "2024-09-25T17:33:29.107Z"
   },
   {
    "duration": 146,
    "start_time": "2024-09-25T17:33:29.131Z"
   },
   {
    "duration": 10,
    "start_time": "2024-09-25T17:33:29.279Z"
   },
   {
    "duration": 17,
    "start_time": "2024-09-25T17:33:29.291Z"
   },
   {
    "duration": 32,
    "start_time": "2024-09-25T17:33:29.309Z"
   },
   {
    "duration": 10,
    "start_time": "2024-09-25T17:33:29.342Z"
   },
   {
    "duration": 5,
    "start_time": "2024-09-25T17:33:29.354Z"
   },
   {
    "duration": 6,
    "start_time": "2024-09-25T17:33:29.363Z"
   },
   {
    "duration": 35,
    "start_time": "2024-09-25T17:33:29.370Z"
   },
   {
    "duration": 5,
    "start_time": "2024-09-25T17:33:29.407Z"
   },
   {
    "duration": 6,
    "start_time": "2024-09-25T17:33:29.414Z"
   },
   {
    "duration": 8,
    "start_time": "2024-09-25T17:33:29.423Z"
   },
   {
    "duration": 6,
    "start_time": "2024-09-25T17:33:29.432Z"
   },
   {
    "duration": 723,
    "start_time": "2024-09-25T17:33:29.440Z"
   },
   {
    "duration": 24,
    "start_time": "2024-09-25T17:33:30.164Z"
   },
   {
    "duration": 18,
    "start_time": "2024-09-25T17:33:30.190Z"
   },
   {
    "duration": 3,
    "start_time": "2024-09-25T17:33:30.209Z"
   },
   {
    "duration": 133,
    "start_time": "2024-09-25T17:33:30.213Z"
   },
   {
    "duration": 95,
    "start_time": "2024-09-25T17:33:30.348Z"
   },
   {
    "duration": 7,
    "start_time": "2024-09-25T17:33:30.445Z"
   },
   {
    "duration": 465,
    "start_time": "2024-09-25T17:33:30.454Z"
   },
   {
    "duration": 0,
    "start_time": "2024-09-25T17:33:30.923Z"
   },
   {
    "duration": 0,
    "start_time": "2024-09-25T17:33:30.925Z"
   },
   {
    "duration": 0,
    "start_time": "2024-09-25T17:33:30.926Z"
   },
   {
    "duration": 0,
    "start_time": "2024-09-25T17:33:30.927Z"
   },
   {
    "duration": 0,
    "start_time": "2024-09-25T17:33:30.929Z"
   },
   {
    "duration": 0,
    "start_time": "2024-09-25T17:33:30.930Z"
   },
   {
    "duration": 0,
    "start_time": "2024-09-25T17:33:30.932Z"
   },
   {
    "duration": 0,
    "start_time": "2024-09-25T17:33:30.933Z"
   },
   {
    "duration": 0,
    "start_time": "2024-09-25T17:33:30.935Z"
   },
   {
    "duration": 0,
    "start_time": "2024-09-25T17:33:30.936Z"
   },
   {
    "duration": 0,
    "start_time": "2024-09-25T17:33:30.938Z"
   },
   {
    "duration": 0,
    "start_time": "2024-09-25T17:33:30.938Z"
   },
   {
    "duration": 0,
    "start_time": "2024-09-25T17:33:30.940Z"
   },
   {
    "duration": 0,
    "start_time": "2024-09-25T17:33:30.941Z"
   },
   {
    "duration": 0,
    "start_time": "2024-09-25T17:33:30.943Z"
   },
   {
    "duration": 0,
    "start_time": "2024-09-25T17:33:30.944Z"
   },
   {
    "duration": 1,
    "start_time": "2024-09-25T17:33:30.944Z"
   },
   {
    "duration": 0,
    "start_time": "2024-09-25T17:33:30.945Z"
   },
   {
    "duration": 0,
    "start_time": "2024-09-25T17:33:30.947Z"
   },
   {
    "duration": 0,
    "start_time": "2024-09-25T17:33:30.947Z"
   },
   {
    "duration": 0,
    "start_time": "2024-09-25T17:33:30.948Z"
   },
   {
    "duration": 0,
    "start_time": "2024-09-25T17:33:30.949Z"
   },
   {
    "duration": 0,
    "start_time": "2024-09-25T17:33:30.950Z"
   },
   {
    "duration": 0,
    "start_time": "2024-09-25T17:33:30.951Z"
   },
   {
    "duration": 0,
    "start_time": "2024-09-25T17:33:30.952Z"
   },
   {
    "duration": 0,
    "start_time": "2024-09-25T17:33:30.953Z"
   },
   {
    "duration": 0,
    "start_time": "2024-09-25T17:33:30.954Z"
   },
   {
    "duration": 0,
    "start_time": "2024-09-25T17:33:30.955Z"
   },
   {
    "duration": 0,
    "start_time": "2024-09-25T17:33:30.956Z"
   },
   {
    "duration": 0,
    "start_time": "2024-09-25T17:33:31.005Z"
   },
   {
    "duration": 0,
    "start_time": "2024-09-25T17:33:31.007Z"
   },
   {
    "duration": 0,
    "start_time": "2024-09-25T17:33:31.008Z"
   },
   {
    "duration": 0,
    "start_time": "2024-09-25T17:33:31.010Z"
   },
   {
    "duration": 0,
    "start_time": "2024-09-25T17:33:31.011Z"
   },
   {
    "duration": 0,
    "start_time": "2024-09-25T17:33:31.012Z"
   },
   {
    "duration": 0,
    "start_time": "2024-09-25T17:33:31.013Z"
   },
   {
    "duration": 0,
    "start_time": "2024-09-25T17:33:31.014Z"
   },
   {
    "duration": 0,
    "start_time": "2024-09-25T17:33:31.015Z"
   },
   {
    "duration": 0,
    "start_time": "2024-09-25T17:33:31.017Z"
   },
   {
    "duration": 0,
    "start_time": "2024-09-25T17:33:31.017Z"
   },
   {
    "duration": 0,
    "start_time": "2024-09-25T17:33:31.018Z"
   },
   {
    "duration": 0,
    "start_time": "2024-09-25T17:33:31.020Z"
   },
   {
    "duration": 0,
    "start_time": "2024-09-25T17:33:31.021Z"
   },
   {
    "duration": 0,
    "start_time": "2024-09-25T17:33:31.022Z"
   },
   {
    "duration": 0,
    "start_time": "2024-09-25T17:33:31.024Z"
   },
   {
    "duration": 0,
    "start_time": "2024-09-25T17:33:31.025Z"
   },
   {
    "duration": 0,
    "start_time": "2024-09-25T17:33:31.026Z"
   },
   {
    "duration": 0,
    "start_time": "2024-09-25T17:33:31.027Z"
   },
   {
    "duration": 0,
    "start_time": "2024-09-25T17:33:31.029Z"
   },
   {
    "duration": 0,
    "start_time": "2024-09-25T17:33:31.030Z"
   },
   {
    "duration": 1,
    "start_time": "2024-09-25T17:33:31.030Z"
   },
   {
    "duration": 0,
    "start_time": "2024-09-25T17:33:31.032Z"
   },
   {
    "duration": 0,
    "start_time": "2024-09-25T17:33:31.033Z"
   },
   {
    "duration": 0,
    "start_time": "2024-09-25T17:33:31.034Z"
   },
   {
    "duration": 0,
    "start_time": "2024-09-25T17:33:31.034Z"
   },
   {
    "duration": 0,
    "start_time": "2024-09-25T17:33:31.035Z"
   },
   {
    "duration": 0,
    "start_time": "2024-09-25T17:33:31.037Z"
   },
   {
    "duration": 0,
    "start_time": "2024-09-25T17:33:31.039Z"
   },
   {
    "duration": 0,
    "start_time": "2024-09-25T17:33:31.040Z"
   },
   {
    "duration": 0,
    "start_time": "2024-09-25T17:33:31.042Z"
   },
   {
    "duration": 0,
    "start_time": "2024-09-25T17:33:31.043Z"
   },
   {
    "duration": 0,
    "start_time": "2024-09-25T17:33:31.044Z"
   },
   {
    "duration": 0,
    "start_time": "2024-09-25T17:33:31.045Z"
   },
   {
    "duration": 0,
    "start_time": "2024-09-25T17:33:31.046Z"
   },
   {
    "duration": 0,
    "start_time": "2024-09-25T17:33:31.105Z"
   },
   {
    "duration": 0,
    "start_time": "2024-09-25T17:33:31.106Z"
   },
   {
    "duration": 0,
    "start_time": "2024-09-25T17:33:31.107Z"
   },
   {
    "duration": 0,
    "start_time": "2024-09-25T17:33:31.108Z"
   },
   {
    "duration": 0,
    "start_time": "2024-09-25T17:33:31.110Z"
   },
   {
    "duration": 0,
    "start_time": "2024-09-25T17:33:31.111Z"
   },
   {
    "duration": 43,
    "start_time": "2024-09-25T17:34:56.303Z"
   },
   {
    "duration": 330,
    "start_time": "2024-09-25T17:35:47.808Z"
   },
   {
    "duration": 2,
    "start_time": "2024-09-25T17:35:48.141Z"
   },
   {
    "duration": 3,
    "start_time": "2024-09-25T17:35:48.144Z"
   },
   {
    "duration": 135,
    "start_time": "2024-09-25T17:35:48.149Z"
   },
   {
    "duration": 12,
    "start_time": "2024-09-25T17:35:48.287Z"
   },
   {
    "duration": 11,
    "start_time": "2024-09-25T17:35:48.305Z"
   },
   {
    "duration": 35,
    "start_time": "2024-09-25T17:35:48.318Z"
   },
   {
    "duration": 9,
    "start_time": "2024-09-25T17:35:48.355Z"
   },
   {
    "duration": 6,
    "start_time": "2024-09-25T17:35:48.365Z"
   },
   {
    "duration": 33,
    "start_time": "2024-09-25T17:35:48.373Z"
   },
   {
    "duration": 7,
    "start_time": "2024-09-25T17:35:48.408Z"
   },
   {
    "duration": 5,
    "start_time": "2024-09-25T17:35:48.417Z"
   },
   {
    "duration": 5,
    "start_time": "2024-09-25T17:35:48.424Z"
   },
   {
    "duration": 8,
    "start_time": "2024-09-25T17:35:48.432Z"
   },
   {
    "duration": 5,
    "start_time": "2024-09-25T17:35:48.442Z"
   },
   {
    "duration": 742,
    "start_time": "2024-09-25T17:35:48.448Z"
   },
   {
    "duration": 33,
    "start_time": "2024-09-25T17:35:49.191Z"
   },
   {
    "duration": 6,
    "start_time": "2024-09-25T17:35:49.226Z"
   },
   {
    "duration": 2,
    "start_time": "2024-09-25T17:35:49.234Z"
   },
   {
    "duration": 137,
    "start_time": "2024-09-25T17:35:49.238Z"
   },
   {
    "duration": 91,
    "start_time": "2024-09-25T17:35:49.376Z"
   },
   {
    "duration": 5,
    "start_time": "2024-09-25T17:35:49.469Z"
   },
   {
    "duration": 485,
    "start_time": "2024-09-25T17:35:49.476Z"
   },
   {
    "duration": 0,
    "start_time": "2024-09-25T17:35:49.964Z"
   },
   {
    "duration": 0,
    "start_time": "2024-09-25T17:35:49.965Z"
   },
   {
    "duration": 0,
    "start_time": "2024-09-25T17:35:49.967Z"
   },
   {
    "duration": 0,
    "start_time": "2024-09-25T17:35:49.968Z"
   },
   {
    "duration": 0,
    "start_time": "2024-09-25T17:35:49.969Z"
   },
   {
    "duration": 0,
    "start_time": "2024-09-25T17:35:49.970Z"
   },
   {
    "duration": 0,
    "start_time": "2024-09-25T17:35:49.971Z"
   },
   {
    "duration": 0,
    "start_time": "2024-09-25T17:35:49.973Z"
   },
   {
    "duration": 0,
    "start_time": "2024-09-25T17:35:49.974Z"
   },
   {
    "duration": 0,
    "start_time": "2024-09-25T17:35:49.974Z"
   },
   {
    "duration": 0,
    "start_time": "2024-09-25T17:35:49.975Z"
   },
   {
    "duration": 0,
    "start_time": "2024-09-25T17:35:49.977Z"
   },
   {
    "duration": 0,
    "start_time": "2024-09-25T17:35:49.978Z"
   },
   {
    "duration": 0,
    "start_time": "2024-09-25T17:35:49.979Z"
   },
   {
    "duration": 0,
    "start_time": "2024-09-25T17:35:49.980Z"
   },
   {
    "duration": 0,
    "start_time": "2024-09-25T17:35:50.005Z"
   },
   {
    "duration": 0,
    "start_time": "2024-09-25T17:35:50.006Z"
   },
   {
    "duration": 0,
    "start_time": "2024-09-25T17:35:50.007Z"
   },
   {
    "duration": 1,
    "start_time": "2024-09-25T17:35:50.007Z"
   },
   {
    "duration": 0,
    "start_time": "2024-09-25T17:35:50.009Z"
   },
   {
    "duration": 0,
    "start_time": "2024-09-25T17:35:50.010Z"
   },
   {
    "duration": 0,
    "start_time": "2024-09-25T17:35:50.011Z"
   },
   {
    "duration": 0,
    "start_time": "2024-09-25T17:35:50.012Z"
   },
   {
    "duration": 0,
    "start_time": "2024-09-25T17:35:50.013Z"
   },
   {
    "duration": 0,
    "start_time": "2024-09-25T17:35:50.014Z"
   },
   {
    "duration": 0,
    "start_time": "2024-09-25T17:35:50.015Z"
   },
   {
    "duration": 0,
    "start_time": "2024-09-25T17:35:50.016Z"
   },
   {
    "duration": 0,
    "start_time": "2024-09-25T17:35:50.017Z"
   },
   {
    "duration": 0,
    "start_time": "2024-09-25T17:35:50.020Z"
   },
   {
    "duration": 0,
    "start_time": "2024-09-25T17:35:50.021Z"
   },
   {
    "duration": 0,
    "start_time": "2024-09-25T17:35:50.022Z"
   },
   {
    "duration": 0,
    "start_time": "2024-09-25T17:35:50.023Z"
   },
   {
    "duration": 0,
    "start_time": "2024-09-25T17:35:50.024Z"
   },
   {
    "duration": 0,
    "start_time": "2024-09-25T17:35:50.025Z"
   },
   {
    "duration": 0,
    "start_time": "2024-09-25T17:35:50.026Z"
   },
   {
    "duration": 0,
    "start_time": "2024-09-25T17:35:50.027Z"
   },
   {
    "duration": 0,
    "start_time": "2024-09-25T17:35:50.028Z"
   },
   {
    "duration": 0,
    "start_time": "2024-09-25T17:35:50.029Z"
   },
   {
    "duration": 0,
    "start_time": "2024-09-25T17:35:50.030Z"
   },
   {
    "duration": 0,
    "start_time": "2024-09-25T17:35:50.031Z"
   },
   {
    "duration": 0,
    "start_time": "2024-09-25T17:35:50.032Z"
   },
   {
    "duration": 0,
    "start_time": "2024-09-25T17:35:50.033Z"
   },
   {
    "duration": 0,
    "start_time": "2024-09-25T17:35:50.035Z"
   },
   {
    "duration": 0,
    "start_time": "2024-09-25T17:35:50.036Z"
   },
   {
    "duration": 0,
    "start_time": "2024-09-25T17:35:50.037Z"
   },
   {
    "duration": 0,
    "start_time": "2024-09-25T17:35:50.038Z"
   },
   {
    "duration": 0,
    "start_time": "2024-09-25T17:35:50.039Z"
   },
   {
    "duration": 0,
    "start_time": "2024-09-25T17:35:50.040Z"
   },
   {
    "duration": 0,
    "start_time": "2024-09-25T17:35:50.041Z"
   },
   {
    "duration": 0,
    "start_time": "2024-09-25T17:35:50.042Z"
   },
   {
    "duration": 0,
    "start_time": "2024-09-25T17:35:50.043Z"
   },
   {
    "duration": 0,
    "start_time": "2024-09-25T17:35:50.044Z"
   },
   {
    "duration": 0,
    "start_time": "2024-09-25T17:35:50.045Z"
   },
   {
    "duration": 0,
    "start_time": "2024-09-25T17:35:50.105Z"
   },
   {
    "duration": 0,
    "start_time": "2024-09-25T17:35:50.106Z"
   },
   {
    "duration": 0,
    "start_time": "2024-09-25T17:35:50.107Z"
   },
   {
    "duration": 0,
    "start_time": "2024-09-25T17:35:50.108Z"
   },
   {
    "duration": 0,
    "start_time": "2024-09-25T17:35:50.109Z"
   },
   {
    "duration": 0,
    "start_time": "2024-09-25T17:35:50.110Z"
   },
   {
    "duration": 0,
    "start_time": "2024-09-25T17:35:50.111Z"
   },
   {
    "duration": 0,
    "start_time": "2024-09-25T17:35:50.112Z"
   },
   {
    "duration": 0,
    "start_time": "2024-09-25T17:35:50.113Z"
   },
   {
    "duration": 0,
    "start_time": "2024-09-25T17:35:50.114Z"
   },
   {
    "duration": 0,
    "start_time": "2024-09-25T17:35:50.116Z"
   },
   {
    "duration": 0,
    "start_time": "2024-09-25T17:35:50.117Z"
   },
   {
    "duration": 0,
    "start_time": "2024-09-25T17:35:50.118Z"
   },
   {
    "duration": 0,
    "start_time": "2024-09-25T17:35:50.119Z"
   },
   {
    "duration": 0,
    "start_time": "2024-09-25T17:35:50.120Z"
   },
   {
    "duration": 0,
    "start_time": "2024-09-25T17:35:50.121Z"
   },
   {
    "duration": 0,
    "start_time": "2024-09-25T17:35:50.122Z"
   },
   {
    "duration": 157,
    "start_time": "2024-09-26T16:44:04.872Z"
   },
   {
    "duration": 11,
    "start_time": "2024-09-26T16:44:54.786Z"
   },
   {
    "duration": 283,
    "start_time": "2024-09-26T16:45:08.430Z"
   },
   {
    "duration": 833,
    "start_time": "2024-09-26T16:45:09.224Z"
   },
   {
    "duration": 25,
    "start_time": "2024-09-26T16:45:10.277Z"
   },
   {
    "duration": 350,
    "start_time": "2024-09-26T16:45:12.685Z"
   },
   {
    "duration": 2,
    "start_time": "2024-09-26T17:30:04.735Z"
   },
   {
    "duration": 2,
    "start_time": "2024-09-26T17:30:04.740Z"
   },
   {
    "duration": 2,
    "start_time": "2024-09-26T17:30:04.745Z"
   },
   {
    "duration": 161,
    "start_time": "2024-09-26T17:30:04.749Z"
   },
   {
    "duration": 10,
    "start_time": "2024-09-26T17:30:04.911Z"
   },
   {
    "duration": 8,
    "start_time": "2024-09-26T17:30:04.923Z"
   },
   {
    "duration": 62,
    "start_time": "2024-09-26T17:30:04.932Z"
   },
   {
    "duration": 9,
    "start_time": "2024-09-26T17:30:04.996Z"
   },
   {
    "duration": 5,
    "start_time": "2024-09-26T17:30:05.008Z"
   },
   {
    "duration": 6,
    "start_time": "2024-09-26T17:30:05.015Z"
   },
   {
    "duration": 7,
    "start_time": "2024-09-26T17:30:05.022Z"
   },
   {
    "duration": 5,
    "start_time": "2024-09-26T17:30:05.031Z"
   },
   {
    "duration": 5,
    "start_time": "2024-09-26T17:30:05.039Z"
   },
   {
    "duration": 33,
    "start_time": "2024-09-26T17:30:05.045Z"
   },
   {
    "duration": 5,
    "start_time": "2024-09-26T17:30:05.079Z"
   },
   {
    "duration": 706,
    "start_time": "2024-09-26T17:30:05.086Z"
   },
   {
    "duration": 22,
    "start_time": "2024-09-26T17:30:05.794Z"
   },
   {
    "duration": 7,
    "start_time": "2024-09-26T17:30:05.818Z"
   },
   {
    "duration": 3,
    "start_time": "2024-09-26T17:30:05.826Z"
   },
   {
    "duration": 126,
    "start_time": "2024-09-26T17:30:05.830Z"
   },
   {
    "duration": 73,
    "start_time": "2024-09-26T17:30:05.958Z"
   },
   {
    "duration": 6,
    "start_time": "2024-09-26T17:30:06.033Z"
   },
   {
    "duration": 4,
    "start_time": "2024-09-26T17:30:27.045Z"
   },
   {
    "duration": 3,
    "start_time": "2024-09-26T17:31:28.533Z"
   },
   {
    "duration": 126,
    "start_time": "2024-09-26T17:31:32.367Z"
   },
   {
    "duration": 9,
    "start_time": "2024-09-26T17:31:39.038Z"
   },
   {
    "duration": 86,
    "start_time": "2024-09-26T17:31:55.279Z"
   },
   {
    "duration": 75,
    "start_time": "2024-09-26T17:33:26.951Z"
   },
   {
    "duration": 2,
    "start_time": "2024-09-26T17:35:08.680Z"
   },
   {
    "duration": 2,
    "start_time": "2024-09-26T17:35:08.684Z"
   },
   {
    "duration": 2,
    "start_time": "2024-09-26T17:35:08.688Z"
   },
   {
    "duration": 114,
    "start_time": "2024-09-26T17:35:08.692Z"
   },
   {
    "duration": 10,
    "start_time": "2024-09-26T17:35:08.808Z"
   },
   {
    "duration": 7,
    "start_time": "2024-09-26T17:35:08.820Z"
   },
   {
    "duration": 51,
    "start_time": "2024-09-26T17:35:08.829Z"
   },
   {
    "duration": 10,
    "start_time": "2024-09-26T17:35:08.882Z"
   },
   {
    "duration": 7,
    "start_time": "2024-09-26T17:35:08.894Z"
   },
   {
    "duration": 5,
    "start_time": "2024-09-26T17:35:08.903Z"
   },
   {
    "duration": 8,
    "start_time": "2024-09-26T17:35:08.910Z"
   },
   {
    "duration": 6,
    "start_time": "2024-09-26T17:35:08.919Z"
   },
   {
    "duration": 4,
    "start_time": "2024-09-26T17:35:08.926Z"
   },
   {
    "duration": 40,
    "start_time": "2024-09-26T17:35:08.932Z"
   },
   {
    "duration": 5,
    "start_time": "2024-09-26T17:35:08.973Z"
   },
   {
    "duration": 695,
    "start_time": "2024-09-26T17:35:08.980Z"
   },
   {
    "duration": 21,
    "start_time": "2024-09-26T17:35:09.677Z"
   },
   {
    "duration": 6,
    "start_time": "2024-09-26T17:35:09.701Z"
   },
   {
    "duration": 3,
    "start_time": "2024-09-26T17:35:09.708Z"
   },
   {
    "duration": 128,
    "start_time": "2024-09-26T17:35:09.712Z"
   },
   {
    "duration": 8,
    "start_time": "2024-09-26T17:35:09.842Z"
   },
   {
    "duration": 82,
    "start_time": "2024-09-26T17:35:09.852Z"
   },
   {
    "duration": 2,
    "start_time": "2024-09-26T17:35:09.936Z"
   },
   {
    "duration": 97,
    "start_time": "2024-09-26T17:35:09.940Z"
   },
   {
    "duration": 8,
    "start_time": "2024-09-26T17:35:10.039Z"
   },
   {
    "duration": 80,
    "start_time": "2024-09-26T17:35:37.715Z"
   },
   {
    "duration": 9,
    "start_time": "2024-09-26T17:36:07.465Z"
   },
   {
    "duration": 10,
    "start_time": "2024-09-26T17:37:09.122Z"
   },
   {
    "duration": 9,
    "start_time": "2024-09-26T17:52:32.382Z"
   },
   {
    "duration": 9,
    "start_time": "2024-09-26T17:52:33.548Z"
   },
   {
    "duration": 10,
    "start_time": "2024-09-26T17:52:34.297Z"
   },
   {
    "duration": 10,
    "start_time": "2024-09-26T17:52:34.542Z"
   },
   {
    "duration": 10,
    "start_time": "2024-09-26T17:52:34.788Z"
   },
   {
    "duration": 11,
    "start_time": "2024-09-26T17:52:35.052Z"
   },
   {
    "duration": 12,
    "start_time": "2024-09-26T17:52:35.248Z"
   },
   {
    "duration": 11,
    "start_time": "2024-09-26T17:52:35.495Z"
   },
   {
    "duration": 11,
    "start_time": "2024-09-26T17:52:35.806Z"
   },
   {
    "duration": 3,
    "start_time": "2024-09-26T17:58:41.649Z"
   },
   {
    "duration": 2,
    "start_time": "2024-09-26T17:58:41.654Z"
   },
   {
    "duration": 2,
    "start_time": "2024-09-26T17:58:41.658Z"
   },
   {
    "duration": 108,
    "start_time": "2024-09-26T17:58:41.662Z"
   },
   {
    "duration": 10,
    "start_time": "2024-09-26T17:58:41.772Z"
   },
   {
    "duration": 6,
    "start_time": "2024-09-26T17:58:41.784Z"
   },
   {
    "duration": 32,
    "start_time": "2024-09-26T17:58:41.792Z"
   },
   {
    "duration": 13,
    "start_time": "2024-09-26T17:58:41.826Z"
   },
   {
    "duration": 31,
    "start_time": "2024-09-26T17:58:41.841Z"
   },
   {
    "duration": 6,
    "start_time": "2024-09-26T17:58:41.873Z"
   },
   {
    "duration": 7,
    "start_time": "2024-09-26T17:58:41.882Z"
   },
   {
    "duration": 6,
    "start_time": "2024-09-26T17:58:41.891Z"
   },
   {
    "duration": 5,
    "start_time": "2024-09-26T17:58:41.898Z"
   },
   {
    "duration": 7,
    "start_time": "2024-09-26T17:58:41.905Z"
   },
   {
    "duration": 6,
    "start_time": "2024-09-26T17:58:41.914Z"
   },
   {
    "duration": 735,
    "start_time": "2024-09-26T17:58:41.921Z"
   },
   {
    "duration": 30,
    "start_time": "2024-09-26T17:58:42.658Z"
   },
   {
    "duration": 6,
    "start_time": "2024-09-26T17:58:42.690Z"
   },
   {
    "duration": 2,
    "start_time": "2024-09-26T17:58:42.698Z"
   },
   {
    "duration": 115,
    "start_time": "2024-09-26T17:58:42.702Z"
   },
   {
    "duration": 10,
    "start_time": "2024-09-26T17:58:42.818Z"
   },
   {
    "duration": 95,
    "start_time": "2024-09-26T17:58:42.829Z"
   },
   {
    "duration": 79,
    "start_time": "2024-09-26T17:58:42.926Z"
   },
   {
    "duration": 6,
    "start_time": "2024-09-26T17:58:43.007Z"
   },
   {
    "duration": 4,
    "start_time": "2024-09-26T17:58:43.014Z"
   },
   {
    "duration": 4,
    "start_time": "2024-09-26T17:58:43.022Z"
   },
   {
    "duration": 327,
    "start_time": "2024-09-26T17:58:47.184Z"
   },
   {
    "duration": 4,
    "start_time": "2024-09-26T17:59:00.912Z"
   },
   {
    "duration": 3,
    "start_time": "2024-09-26T17:59:34.873Z"
   },
   {
    "duration": 3,
    "start_time": "2024-09-26T17:59:34.877Z"
   },
   {
    "duration": 2,
    "start_time": "2024-09-26T17:59:34.882Z"
   },
   {
    "duration": 123,
    "start_time": "2024-09-26T17:59:34.885Z"
   },
   {
    "duration": 10,
    "start_time": "2024-09-26T17:59:35.011Z"
   },
   {
    "duration": 7,
    "start_time": "2024-09-26T17:59:35.022Z"
   },
   {
    "duration": 50,
    "start_time": "2024-09-26T17:59:35.031Z"
   },
   {
    "duration": 10,
    "start_time": "2024-09-26T17:59:35.083Z"
   },
   {
    "duration": 6,
    "start_time": "2024-09-26T17:59:35.095Z"
   },
   {
    "duration": 5,
    "start_time": "2024-09-26T17:59:35.102Z"
   },
   {
    "duration": 8,
    "start_time": "2024-09-26T17:59:35.108Z"
   },
   {
    "duration": 5,
    "start_time": "2024-09-26T17:59:35.117Z"
   },
   {
    "duration": 6,
    "start_time": "2024-09-26T17:59:35.123Z"
   },
   {
    "duration": 44,
    "start_time": "2024-09-26T17:59:35.132Z"
   },
   {
    "duration": 7,
    "start_time": "2024-09-26T17:59:35.177Z"
   },
   {
    "duration": 739,
    "start_time": "2024-09-26T17:59:35.185Z"
   },
   {
    "duration": 22,
    "start_time": "2024-09-26T17:59:35.926Z"
   },
   {
    "duration": 7,
    "start_time": "2024-09-26T17:59:35.949Z"
   },
   {
    "duration": 13,
    "start_time": "2024-09-26T17:59:35.957Z"
   },
   {
    "duration": 110,
    "start_time": "2024-09-26T17:59:35.972Z"
   },
   {
    "duration": 9,
    "start_time": "2024-09-26T17:59:36.083Z"
   },
   {
    "duration": 87,
    "start_time": "2024-09-26T17:59:36.094Z"
   },
   {
    "duration": 2,
    "start_time": "2024-09-26T17:59:36.183Z"
   },
   {
    "duration": 85,
    "start_time": "2024-09-26T17:59:36.186Z"
   },
   {
    "duration": 88,
    "start_time": "2024-09-26T17:59:36.273Z"
   },
   {
    "duration": 15,
    "start_time": "2024-09-26T17:59:36.363Z"
   },
   {
    "duration": 96,
    "start_time": "2024-09-26T17:59:36.379Z"
   },
   {
    "duration": 50,
    "start_time": "2024-09-26T17:59:36.476Z"
   },
   {
    "duration": 45,
    "start_time": "2024-09-26T17:59:36.528Z"
   },
   {
    "duration": 3,
    "start_time": "2024-09-26T17:59:36.575Z"
   },
   {
    "duration": 31,
    "start_time": "2024-09-26T17:59:36.580Z"
   },
   {
    "duration": 13,
    "start_time": "2024-09-26T17:59:36.613Z"
   },
   {
    "duration": 13,
    "start_time": "2024-09-26T17:59:36.627Z"
   },
   {
    "duration": 0,
    "start_time": "2024-09-26T17:59:36.644Z"
   },
   {
    "duration": 0,
    "start_time": "2024-09-26T17:59:36.669Z"
   },
   {
    "duration": 0,
    "start_time": "2024-09-26T17:59:36.671Z"
   },
   {
    "duration": 0,
    "start_time": "2024-09-26T17:59:36.672Z"
   },
   {
    "duration": 0,
    "start_time": "2024-09-26T17:59:36.672Z"
   },
   {
    "duration": 0,
    "start_time": "2024-09-26T17:59:36.673Z"
   },
   {
    "duration": 0,
    "start_time": "2024-09-26T17:59:36.674Z"
   },
   {
    "duration": 0,
    "start_time": "2024-09-26T17:59:36.675Z"
   },
   {
    "duration": 0,
    "start_time": "2024-09-26T17:59:36.676Z"
   },
   {
    "duration": 0,
    "start_time": "2024-09-26T17:59:36.677Z"
   },
   {
    "duration": 0,
    "start_time": "2024-09-26T17:59:36.678Z"
   },
   {
    "duration": 0,
    "start_time": "2024-09-26T17:59:36.679Z"
   },
   {
    "duration": 0,
    "start_time": "2024-09-26T17:59:36.680Z"
   },
   {
    "duration": 0,
    "start_time": "2024-09-26T17:59:36.681Z"
   },
   {
    "duration": 0,
    "start_time": "2024-09-26T17:59:36.682Z"
   },
   {
    "duration": 0,
    "start_time": "2024-09-26T17:59:36.682Z"
   },
   {
    "duration": 0,
    "start_time": "2024-09-26T17:59:36.683Z"
   },
   {
    "duration": 0,
    "start_time": "2024-09-26T17:59:36.684Z"
   },
   {
    "duration": 0,
    "start_time": "2024-09-26T17:59:36.685Z"
   },
   {
    "duration": 0,
    "start_time": "2024-09-26T17:59:36.686Z"
   },
   {
    "duration": 0,
    "start_time": "2024-09-26T17:59:36.687Z"
   },
   {
    "duration": 0,
    "start_time": "2024-09-26T17:59:36.688Z"
   },
   {
    "duration": 0,
    "start_time": "2024-09-26T17:59:36.689Z"
   },
   {
    "duration": 0,
    "start_time": "2024-09-26T17:59:36.690Z"
   },
   {
    "duration": 0,
    "start_time": "2024-09-26T17:59:36.691Z"
   },
   {
    "duration": 0,
    "start_time": "2024-09-26T17:59:36.692Z"
   },
   {
    "duration": 0,
    "start_time": "2024-09-26T17:59:36.692Z"
   },
   {
    "duration": 0,
    "start_time": "2024-09-26T17:59:36.694Z"
   },
   {
    "duration": 0,
    "start_time": "2024-09-26T17:59:36.695Z"
   },
   {
    "duration": 0,
    "start_time": "2024-09-26T17:59:36.696Z"
   },
   {
    "duration": 0,
    "start_time": "2024-09-26T17:59:36.697Z"
   },
   {
    "duration": 0,
    "start_time": "2024-09-26T17:59:36.698Z"
   },
   {
    "duration": 0,
    "start_time": "2024-09-26T17:59:36.700Z"
   },
   {
    "duration": 0,
    "start_time": "2024-09-26T17:59:36.700Z"
   },
   {
    "duration": 0,
    "start_time": "2024-09-26T17:59:36.701Z"
   },
   {
    "duration": 0,
    "start_time": "2024-09-26T17:59:36.703Z"
   },
   {
    "duration": 0,
    "start_time": "2024-09-26T17:59:36.704Z"
   },
   {
    "duration": 0,
    "start_time": "2024-09-26T17:59:36.705Z"
   },
   {
    "duration": 0,
    "start_time": "2024-09-26T17:59:36.706Z"
   },
   {
    "duration": 0,
    "start_time": "2024-09-26T17:59:36.707Z"
   },
   {
    "duration": 0,
    "start_time": "2024-09-26T17:59:36.708Z"
   },
   {
    "duration": 0,
    "start_time": "2024-09-26T17:59:36.708Z"
   },
   {
    "duration": 0,
    "start_time": "2024-09-26T17:59:36.709Z"
   },
   {
    "duration": 0,
    "start_time": "2024-09-26T17:59:36.772Z"
   },
   {
    "duration": 0,
    "start_time": "2024-09-26T17:59:36.774Z"
   },
   {
    "duration": 0,
    "start_time": "2024-09-26T17:59:36.775Z"
   },
   {
    "duration": 0,
    "start_time": "2024-09-26T17:59:36.776Z"
   },
   {
    "duration": 0,
    "start_time": "2024-09-26T17:59:36.777Z"
   },
   {
    "duration": 0,
    "start_time": "2024-09-26T17:59:36.778Z"
   },
   {
    "duration": 0,
    "start_time": "2024-09-26T17:59:36.778Z"
   },
   {
    "duration": 0,
    "start_time": "2024-09-26T17:59:36.781Z"
   },
   {
    "duration": 0,
    "start_time": "2024-09-26T17:59:36.782Z"
   },
   {
    "duration": 0,
    "start_time": "2024-09-26T17:59:36.785Z"
   },
   {
    "duration": 0,
    "start_time": "2024-09-26T17:59:36.785Z"
   },
   {
    "duration": 0,
    "start_time": "2024-09-26T17:59:36.787Z"
   },
   {
    "duration": 0,
    "start_time": "2024-09-26T17:59:36.789Z"
   },
   {
    "duration": 0,
    "start_time": "2024-09-26T17:59:36.789Z"
   },
   {
    "duration": 0,
    "start_time": "2024-09-26T17:59:36.790Z"
   },
   {
    "duration": 0,
    "start_time": "2024-09-26T17:59:36.791Z"
   },
   {
    "duration": 0,
    "start_time": "2024-09-26T17:59:36.792Z"
   },
   {
    "duration": 0,
    "start_time": "2024-09-26T17:59:36.793Z"
   },
   {
    "duration": 0,
    "start_time": "2024-09-26T17:59:36.794Z"
   },
   {
    "duration": 0,
    "start_time": "2024-09-26T17:59:36.796Z"
   },
   {
    "duration": 285,
    "start_time": "2024-09-26T18:02:43.916Z"
   },
   {
    "duration": 14,
    "start_time": "2024-09-26T18:02:55.655Z"
   },
   {
    "duration": 6,
    "start_time": "2024-09-26T18:03:21.324Z"
   },
   {
    "duration": 4,
    "start_time": "2024-09-26T18:03:35.922Z"
   },
   {
    "duration": 51,
    "start_time": "2024-09-26T18:04:22.964Z"
   },
   {
    "duration": 7,
    "start_time": "2024-09-26T18:04:30.273Z"
   },
   {
    "duration": 6,
    "start_time": "2024-09-26T18:05:07.451Z"
   },
   {
    "duration": 12,
    "start_time": "2024-09-26T18:05:12.751Z"
   },
   {
    "duration": 13,
    "start_time": "2024-09-26T18:05:17.896Z"
   },
   {
    "duration": 10,
    "start_time": "2024-09-26T18:05:30.643Z"
   },
   {
    "duration": 7,
    "start_time": "2024-09-26T18:06:42.840Z"
   },
   {
    "duration": 7,
    "start_time": "2024-09-26T18:06:46.773Z"
   },
   {
    "duration": 2,
    "start_time": "2024-09-26T18:06:57.415Z"
   },
   {
    "duration": 13,
    "start_time": "2024-09-26T18:07:03.132Z"
   },
   {
    "duration": 74,
    "start_time": "2024-09-26T18:24:31.177Z"
   },
   {
    "duration": 77,
    "start_time": "2024-09-26T18:24:31.407Z"
   },
   {
    "duration": 93,
    "start_time": "2024-09-26T18:24:37.659Z"
   },
   {
    "duration": 75,
    "start_time": "2024-09-26T18:24:39.130Z"
   },
   {
    "duration": 9,
    "start_time": "2024-09-26T18:25:41.973Z"
   },
   {
    "duration": 70,
    "start_time": "2024-09-26T18:26:12.280Z"
   },
   {
    "duration": 44,
    "start_time": "2024-09-26T18:26:13.569Z"
   },
   {
    "duration": 28,
    "start_time": "2024-09-26T18:26:14.510Z"
   },
   {
    "duration": 12,
    "start_time": "2024-09-26T18:29:05.506Z"
   },
   {
    "duration": 11,
    "start_time": "2024-09-26T18:30:36.062Z"
   },
   {
    "duration": 32,
    "start_time": "2024-09-26T18:32:22.908Z"
   },
   {
    "duration": 13,
    "start_time": "2024-09-26T18:32:23.761Z"
   },
   {
    "duration": 10,
    "start_time": "2024-09-26T18:32:44.288Z"
   },
   {
    "duration": 7,
    "start_time": "2024-09-26T18:32:45.177Z"
   },
   {
    "duration": 12,
    "start_time": "2024-09-26T18:33:20.870Z"
   },
   {
    "duration": 13,
    "start_time": "2024-09-26T18:33:26.498Z"
   },
   {
    "duration": 4,
    "start_time": "2024-09-26T18:33:38.796Z"
   },
   {
    "duration": 13,
    "start_time": "2024-09-26T18:33:52.278Z"
   },
   {
    "duration": 6,
    "start_time": "2024-09-26T18:33:54.499Z"
   },
   {
    "duration": 12,
    "start_time": "2024-09-26T18:33:59.568Z"
   },
   {
    "duration": 3,
    "start_time": "2024-09-26T18:34:13.218Z"
   },
   {
    "duration": 3,
    "start_time": "2024-09-26T18:34:14.075Z"
   },
   {
    "duration": 5,
    "start_time": "2024-09-26T18:34:27.281Z"
   },
   {
    "duration": 3,
    "start_time": "2024-09-26T18:34:32.690Z"
   },
   {
    "duration": 707,
    "start_time": "2024-09-26T18:35:17.741Z"
   },
   {
    "duration": 759,
    "start_time": "2024-09-26T18:35:18.530Z"
   },
   {
    "duration": 763,
    "start_time": "2024-09-26T18:35:54.493Z"
   },
   {
    "duration": 767,
    "start_time": "2024-09-26T18:36:10.242Z"
   },
   {
    "duration": 819,
    "start_time": "2024-09-26T18:36:40.368Z"
   },
   {
    "duration": 769,
    "start_time": "2024-09-26T18:36:41.189Z"
   },
   {
    "duration": 35,
    "start_time": "2024-09-26T18:37:09.052Z"
   },
   {
    "duration": 10,
    "start_time": "2024-09-26T18:37:17.964Z"
   },
   {
    "duration": 11,
    "start_time": "2024-09-26T18:37:19.834Z"
   },
   {
    "duration": 17,
    "start_time": "2024-09-26T18:37:29.763Z"
   },
   {
    "duration": 5,
    "start_time": "2024-09-26T18:37:44.777Z"
   },
   {
    "duration": 2,
    "start_time": "2024-09-26T18:38:11.126Z"
   },
   {
    "duration": 695,
    "start_time": "2024-09-26T18:38:11.805Z"
   },
   {
    "duration": 22,
    "start_time": "2024-09-26T18:38:12.766Z"
   },
   {
    "duration": 20,
    "start_time": "2024-09-26T18:38:37.977Z"
   },
   {
    "duration": 334,
    "start_time": "2024-09-26T18:38:41.810Z"
   },
   {
    "duration": 681,
    "start_time": "2024-09-26T18:38:58.319Z"
   },
   {
    "duration": 38,
    "start_time": "2024-09-26T18:38:59.342Z"
   },
   {
    "duration": 12,
    "start_time": "2024-09-26T18:39:01.033Z"
   },
   {
    "duration": 6,
    "start_time": "2024-09-26T18:39:04.521Z"
   },
   {
    "duration": 296,
    "start_time": "2024-09-26T18:39:11.547Z"
   },
   {
    "duration": 20,
    "start_time": "2024-09-26T18:39:22.924Z"
   },
   {
    "duration": 98,
    "start_time": "2024-09-26T18:39:30.983Z"
   },
   {
    "duration": 2,
    "start_time": "2024-09-26T18:39:50.108Z"
   },
   {
    "duration": 1832,
    "start_time": "2024-09-26T18:39:50.866Z"
   },
   {
    "duration": 113,
    "start_time": "2024-09-26T18:39:52.700Z"
   },
   {
    "duration": 10,
    "start_time": "2024-09-26T18:39:52.815Z"
   },
   {
    "duration": 5,
    "start_time": "2024-09-26T18:39:58.344Z"
   },
   {
    "duration": 6,
    "start_time": "2024-09-26T18:40:07.468Z"
   },
   {
    "duration": 6,
    "start_time": "2024-09-26T18:40:15.510Z"
   },
   {
    "duration": 221,
    "start_time": "2024-09-26T18:40:16.676Z"
   },
   {
    "duration": 6,
    "start_time": "2024-09-26T18:40:38.401Z"
   },
   {
    "duration": 128,
    "start_time": "2024-09-26T18:41:14.023Z"
   },
   {
    "duration": 7,
    "start_time": "2024-09-26T18:41:23.352Z"
   },
   {
    "duration": 138,
    "start_time": "2024-09-26T18:41:25.459Z"
   },
   {
    "duration": 2,
    "start_time": "2024-09-26T18:41:38.278Z"
   },
   {
    "duration": 2,
    "start_time": "2024-09-26T18:41:38.900Z"
   },
   {
    "duration": 99,
    "start_time": "2024-09-26T18:41:39.534Z"
   },
   {
    "duration": 19,
    "start_time": "2024-09-26T18:41:40.220Z"
   },
   {
    "duration": 314,
    "start_time": "2024-09-26T18:41:45.767Z"
   },
   {
    "duration": 35,
    "start_time": "2024-09-26T18:41:59.587Z"
   },
   {
    "duration": 141,
    "start_time": "2024-09-26T18:42:00.269Z"
   },
   {
    "duration": 31,
    "start_time": "2024-09-26T18:42:15.988Z"
   },
   {
    "duration": 10,
    "start_time": "2024-09-26T18:42:16.662Z"
   },
   {
    "duration": 29,
    "start_time": "2024-09-26T18:42:21.765Z"
   },
   {
    "duration": 702,
    "start_time": "2024-09-26T18:42:47.060Z"
   },
   {
    "duration": 20,
    "start_time": "2024-09-26T18:42:47.941Z"
   },
   {
    "duration": 245,
    "start_time": "2024-09-26T18:42:53.864Z"
   },
   {
    "duration": 170,
    "start_time": "2024-09-26T18:42:54.576Z"
   },
   {
    "duration": 67,
    "start_time": "2024-09-26T18:43:10.969Z"
   },
   {
    "duration": 59,
    "start_time": "2024-09-26T18:43:12.048Z"
   },
   {
    "duration": 1003,
    "start_time": "2024-09-26T18:43:13.033Z"
   },
   {
    "duration": 7,
    "start_time": "2024-09-26T18:43:14.489Z"
   },
   {
    "duration": 22,
    "start_time": "2024-09-26T18:54:39.670Z"
   },
   {
    "duration": 321,
    "start_time": "2024-09-26T18:56:09.394Z"
   },
   {
    "duration": 2,
    "start_time": "2024-09-26T18:56:09.717Z"
   },
   {
    "duration": 2,
    "start_time": "2024-09-26T18:56:09.722Z"
   },
   {
    "duration": 134,
    "start_time": "2024-09-26T18:56:09.726Z"
   },
   {
    "duration": 19,
    "start_time": "2024-09-26T18:56:09.863Z"
   },
   {
    "duration": 11,
    "start_time": "2024-09-26T18:56:09.885Z"
   },
   {
    "duration": 36,
    "start_time": "2024-09-26T18:56:09.897Z"
   },
   {
    "duration": 10,
    "start_time": "2024-09-26T18:56:09.934Z"
   },
   {
    "duration": 26,
    "start_time": "2024-09-26T18:56:09.946Z"
   },
   {
    "duration": 6,
    "start_time": "2024-09-26T18:56:09.973Z"
   },
   {
    "duration": 7,
    "start_time": "2024-09-26T18:56:09.980Z"
   },
   {
    "duration": 6,
    "start_time": "2024-09-26T18:56:09.989Z"
   },
   {
    "duration": 5,
    "start_time": "2024-09-26T18:56:09.997Z"
   },
   {
    "duration": 7,
    "start_time": "2024-09-26T18:56:10.007Z"
   },
   {
    "duration": 6,
    "start_time": "2024-09-26T18:56:10.016Z"
   },
   {
    "duration": 739,
    "start_time": "2024-09-26T18:56:10.024Z"
   },
   {
    "duration": 26,
    "start_time": "2024-09-26T18:56:10.765Z"
   },
   {
    "duration": 6,
    "start_time": "2024-09-26T18:56:10.794Z"
   },
   {
    "duration": 2,
    "start_time": "2024-09-26T18:56:10.802Z"
   },
   {
    "duration": 141,
    "start_time": "2024-09-26T18:56:10.806Z"
   },
   {
    "duration": 10,
    "start_time": "2024-09-26T18:56:10.948Z"
   },
   {
    "duration": 111,
    "start_time": "2024-09-26T18:56:10.959Z"
   },
   {
    "duration": 106,
    "start_time": "2024-09-26T18:56:11.072Z"
   },
   {
    "duration": 10,
    "start_time": "2024-09-26T18:56:11.180Z"
   },
   {
    "duration": 104,
    "start_time": "2024-09-26T18:56:11.192Z"
   },
   {
    "duration": 72,
    "start_time": "2024-09-26T18:56:11.298Z"
   },
   {
    "duration": 34,
    "start_time": "2024-09-26T18:56:11.372Z"
   },
   {
    "duration": 36,
    "start_time": "2024-09-26T18:56:11.407Z"
   },
   {
    "duration": 30,
    "start_time": "2024-09-26T18:56:11.444Z"
   },
   {
    "duration": 12,
    "start_time": "2024-09-26T18:56:11.475Z"
   },
   {
    "duration": 12,
    "start_time": "2024-09-26T18:56:11.488Z"
   },
   {
    "duration": 4,
    "start_time": "2024-09-26T18:56:11.501Z"
   },
   {
    "duration": 14,
    "start_time": "2024-09-26T18:56:11.507Z"
   },
   {
    "duration": 6,
    "start_time": "2024-09-26T18:56:11.522Z"
   },
   {
    "duration": 40,
    "start_time": "2024-09-26T18:56:11.530Z"
   },
   {
    "duration": 4,
    "start_time": "2024-09-26T18:56:14.092Z"
   },
   {
    "duration": 4,
    "start_time": "2024-09-26T18:56:19.570Z"
   },
   {
    "duration": 187,
    "start_time": "2024-09-26T19:23:06.920Z"
   },
   {
    "duration": 308,
    "start_time": "2024-09-26T19:23:48.271Z"
   },
   {
    "duration": 3,
    "start_time": "2024-09-26T19:23:48.580Z"
   },
   {
    "duration": 2,
    "start_time": "2024-09-26T19:23:48.585Z"
   },
   {
    "duration": 135,
    "start_time": "2024-09-26T19:23:48.589Z"
   },
   {
    "duration": 12,
    "start_time": "2024-09-26T19:23:48.727Z"
   },
   {
    "duration": 10,
    "start_time": "2024-09-26T19:23:48.742Z"
   },
   {
    "duration": 49,
    "start_time": "2024-09-26T19:23:48.754Z"
   },
   {
    "duration": 10,
    "start_time": "2024-09-26T19:23:48.805Z"
   },
   {
    "duration": 7,
    "start_time": "2024-09-26T19:23:48.816Z"
   },
   {
    "duration": 6,
    "start_time": "2024-09-26T19:23:48.824Z"
   },
   {
    "duration": 8,
    "start_time": "2024-09-26T19:23:48.831Z"
   },
   {
    "duration": 30,
    "start_time": "2024-09-26T19:23:48.841Z"
   },
   {
    "duration": 6,
    "start_time": "2024-09-26T19:23:48.873Z"
   },
   {
    "duration": 8,
    "start_time": "2024-09-26T19:23:48.882Z"
   },
   {
    "duration": 6,
    "start_time": "2024-09-26T19:23:48.891Z"
   },
   {
    "duration": 733,
    "start_time": "2024-09-26T19:23:48.898Z"
   },
   {
    "duration": 24,
    "start_time": "2024-09-26T19:23:49.633Z"
   },
   {
    "duration": 6,
    "start_time": "2024-09-26T19:23:49.670Z"
   },
   {
    "duration": 3,
    "start_time": "2024-09-26T19:23:49.677Z"
   },
   {
    "duration": 131,
    "start_time": "2024-09-26T19:23:49.682Z"
   },
   {
    "duration": 9,
    "start_time": "2024-09-26T19:23:49.815Z"
   },
   {
    "duration": 107,
    "start_time": "2024-09-26T19:23:49.825Z"
   },
   {
    "duration": 102,
    "start_time": "2024-09-26T19:23:49.934Z"
   },
   {
    "duration": 11,
    "start_time": "2024-09-26T19:23:50.038Z"
   },
   {
    "duration": 115,
    "start_time": "2024-09-26T19:23:50.050Z"
   },
   {
    "duration": 63,
    "start_time": "2024-09-26T19:23:50.167Z"
   },
   {
    "duration": 39,
    "start_time": "2024-09-26T19:23:50.232Z"
   },
   {
    "duration": 31,
    "start_time": "2024-09-26T19:23:50.272Z"
   },
   {
    "duration": 13,
    "start_time": "2024-09-26T19:23:50.304Z"
   },
   {
    "duration": 12,
    "start_time": "2024-09-26T19:23:50.318Z"
   },
   {
    "duration": 12,
    "start_time": "2024-09-26T19:23:50.332Z"
   },
   {
    "duration": 4,
    "start_time": "2024-09-26T19:23:50.369Z"
   },
   {
    "duration": 14,
    "start_time": "2024-09-26T19:23:50.374Z"
   },
   {
    "duration": 6,
    "start_time": "2024-09-26T19:23:50.390Z"
   },
   {
    "duration": 10,
    "start_time": "2024-09-26T19:23:50.398Z"
   },
   {
    "duration": 4,
    "start_time": "2024-09-26T19:23:50.410Z"
   },
   {
    "duration": 4,
    "start_time": "2024-09-26T19:23:50.415Z"
   },
   {
    "duration": 5,
    "start_time": "2024-09-26T19:23:50.420Z"
   },
   {
    "duration": 5,
    "start_time": "2024-09-26T19:23:50.427Z"
   },
   {
    "duration": 711,
    "start_time": "2024-09-26T19:23:50.471Z"
   },
   {
    "duration": 812,
    "start_time": "2024-09-26T19:23:51.188Z"
   },
   {
    "duration": 770,
    "start_time": "2024-09-26T19:23:52.001Z"
   },
   {
    "duration": 825,
    "start_time": "2024-09-26T19:23:52.773Z"
   },
   {
    "duration": 767,
    "start_time": "2024-09-26T19:23:53.600Z"
   },
   {
    "duration": 33,
    "start_time": "2024-09-26T19:23:54.370Z"
   },
   {
    "duration": 9,
    "start_time": "2024-09-26T19:23:54.405Z"
   },
   {
    "duration": 9,
    "start_time": "2024-09-26T19:23:54.416Z"
   },
   {
    "duration": 16,
    "start_time": "2024-09-26T19:23:54.426Z"
   },
   {
    "duration": 4,
    "start_time": "2024-09-26T19:23:54.471Z"
   },
   {
    "duration": 699,
    "start_time": "2024-09-26T19:23:54.477Z"
   },
   {
    "duration": 20,
    "start_time": "2024-09-26T19:23:55.177Z"
   },
   {
    "duration": 362,
    "start_time": "2024-09-26T19:23:55.199Z"
   },
   {
    "duration": 704,
    "start_time": "2024-09-26T19:23:55.563Z"
   },
   {
    "duration": 37,
    "start_time": "2024-09-26T19:23:56.271Z"
   },
   {
    "duration": 12,
    "start_time": "2024-09-26T19:23:56.310Z"
   },
   {
    "duration": 9,
    "start_time": "2024-09-26T19:23:56.323Z"
   },
   {
    "duration": 347,
    "start_time": "2024-09-26T19:23:56.335Z"
   },
   {
    "duration": 22,
    "start_time": "2024-09-26T19:23:56.684Z"
   },
   {
    "duration": 116,
    "start_time": "2024-09-26T19:23:56.708Z"
   },
   {
    "duration": 2,
    "start_time": "2024-09-26T19:23:56.826Z"
   },
   {
    "duration": 163,
    "start_time": "2024-09-26T19:23:56.830Z"
   },
   {
    "duration": 111,
    "start_time": "2024-09-26T19:23:56.995Z"
   },
   {
    "duration": 11,
    "start_time": "2024-09-26T19:23:57.108Z"
   },
   {
    "duration": 5,
    "start_time": "2024-09-26T19:23:57.120Z"
   },
   {
    "duration": 60,
    "start_time": "2024-09-26T19:23:57.127Z"
   },
   {
    "duration": 6,
    "start_time": "2024-09-26T19:23:57.189Z"
   },
   {
    "duration": 236,
    "start_time": "2024-09-26T19:23:57.197Z"
   },
   {
    "duration": 5,
    "start_time": "2024-09-26T19:23:57.444Z"
   },
   {
    "duration": 141,
    "start_time": "2024-09-26T19:23:57.451Z"
   },
   {
    "duration": 128,
    "start_time": "2024-09-26T19:23:59.701Z"
   },
   {
    "duration": 185,
    "start_time": "2024-09-26T20:19:05.332Z"
   },
   {
    "duration": 299,
    "start_time": "2024-09-26T20:19:28.742Z"
   },
   {
    "duration": 2,
    "start_time": "2024-09-26T20:19:29.043Z"
   },
   {
    "duration": 3,
    "start_time": "2024-09-26T20:19:29.046Z"
   },
   {
    "duration": 134,
    "start_time": "2024-09-26T20:19:29.050Z"
   },
   {
    "duration": 11,
    "start_time": "2024-09-26T20:19:29.187Z"
   },
   {
    "duration": 10,
    "start_time": "2024-09-26T20:19:29.200Z"
   },
   {
    "duration": 37,
    "start_time": "2024-09-26T20:19:29.211Z"
   },
   {
    "duration": 27,
    "start_time": "2024-09-26T20:19:29.250Z"
   },
   {
    "duration": 5,
    "start_time": "2024-09-26T20:19:29.279Z"
   },
   {
    "duration": 6,
    "start_time": "2024-09-26T20:19:29.286Z"
   },
   {
    "duration": 8,
    "start_time": "2024-09-26T20:19:29.293Z"
   },
   {
    "duration": 5,
    "start_time": "2024-09-26T20:19:29.302Z"
   },
   {
    "duration": 5,
    "start_time": "2024-09-26T20:19:29.309Z"
   },
   {
    "duration": 7,
    "start_time": "2024-09-26T20:19:29.318Z"
   },
   {
    "duration": 5,
    "start_time": "2024-09-26T20:19:29.327Z"
   },
   {
    "duration": 712,
    "start_time": "2024-09-26T20:19:29.370Z"
   },
   {
    "duration": 24,
    "start_time": "2024-09-26T20:19:30.084Z"
   },
   {
    "duration": 6,
    "start_time": "2024-09-26T20:19:30.110Z"
   },
   {
    "duration": 2,
    "start_time": "2024-09-26T20:19:30.118Z"
   },
   {
    "duration": 143,
    "start_time": "2024-09-26T20:19:30.122Z"
   },
   {
    "duration": 10,
    "start_time": "2024-09-26T20:19:30.266Z"
   },
   {
    "duration": 103,
    "start_time": "2024-09-26T20:19:30.278Z"
   },
   {
    "duration": 102,
    "start_time": "2024-09-26T20:19:30.384Z"
   },
   {
    "duration": 12,
    "start_time": "2024-09-26T20:19:30.487Z"
   },
   {
    "duration": 115,
    "start_time": "2024-09-26T20:19:30.501Z"
   },
   {
    "duration": 67,
    "start_time": "2024-09-26T20:19:30.617Z"
   },
   {
    "duration": 29,
    "start_time": "2024-09-26T20:19:30.685Z"
   },
   {
    "duration": 31,
    "start_time": "2024-09-26T20:19:30.716Z"
   },
   {
    "duration": 29,
    "start_time": "2024-09-26T20:19:30.749Z"
   },
   {
    "duration": 12,
    "start_time": "2024-09-26T20:19:30.780Z"
   },
   {
    "duration": 12,
    "start_time": "2024-09-26T20:19:30.793Z"
   },
   {
    "duration": 4,
    "start_time": "2024-09-26T20:19:30.808Z"
   },
   {
    "duration": 13,
    "start_time": "2024-09-26T20:19:30.814Z"
   },
   {
    "duration": 7,
    "start_time": "2024-09-26T20:19:30.829Z"
   },
   {
    "duration": 39,
    "start_time": "2024-09-26T20:19:30.837Z"
   },
   {
    "duration": 4,
    "start_time": "2024-09-26T20:19:30.878Z"
   },
   {
    "duration": 4,
    "start_time": "2024-09-26T20:19:30.884Z"
   },
   {
    "duration": 5,
    "start_time": "2024-09-26T20:19:30.889Z"
   },
   {
    "duration": 4,
    "start_time": "2024-09-26T20:19:30.895Z"
   },
   {
    "duration": 731,
    "start_time": "2024-09-26T20:19:30.900Z"
   },
   {
    "duration": 762,
    "start_time": "2024-09-26T20:19:31.638Z"
   },
   {
    "duration": 764,
    "start_time": "2024-09-26T20:19:32.402Z"
   },
   {
    "duration": 878,
    "start_time": "2024-09-26T20:19:33.171Z"
   },
   {
    "duration": 800,
    "start_time": "2024-09-26T20:19:34.051Z"
   },
   {
    "duration": 41,
    "start_time": "2024-09-26T20:19:34.853Z"
   },
   {
    "duration": 10,
    "start_time": "2024-09-26T20:19:34.896Z"
   },
   {
    "duration": 8,
    "start_time": "2024-09-26T20:19:34.908Z"
   },
   {
    "duration": 15,
    "start_time": "2024-09-26T20:19:34.918Z"
   },
   {
    "duration": 5,
    "start_time": "2024-09-26T20:19:34.935Z"
   },
   {
    "duration": 694,
    "start_time": "2024-09-26T20:19:34.969Z"
   },
   {
    "duration": 21,
    "start_time": "2024-09-26T20:19:35.665Z"
   },
   {
    "duration": 370,
    "start_time": "2024-09-26T20:19:35.688Z"
   },
   {
    "duration": 712,
    "start_time": "2024-09-26T20:19:36.059Z"
   },
   {
    "duration": 39,
    "start_time": "2024-09-26T20:19:36.773Z"
   },
   {
    "duration": 12,
    "start_time": "2024-09-26T20:19:36.813Z"
   },
   {
    "duration": 7,
    "start_time": "2024-09-26T20:19:36.826Z"
   },
   {
    "duration": 356,
    "start_time": "2024-09-26T20:19:36.835Z"
   },
   {
    "duration": 22,
    "start_time": "2024-09-26T20:19:37.193Z"
   },
   {
    "duration": 108,
    "start_time": "2024-09-26T20:19:37.217Z"
   },
   {
    "duration": 2,
    "start_time": "2024-09-26T20:19:37.327Z"
   },
   {
    "duration": 133,
    "start_time": "2024-09-26T20:19:37.330Z"
   },
   {
    "duration": 109,
    "start_time": "2024-09-26T20:19:37.465Z"
   },
   {
    "duration": 10,
    "start_time": "2024-09-26T20:19:37.576Z"
   },
   {
    "duration": 4,
    "start_time": "2024-09-26T20:19:37.588Z"
   },
   {
    "duration": 34,
    "start_time": "2024-09-26T20:19:37.594Z"
   },
   {
    "duration": 5,
    "start_time": "2024-09-26T20:19:37.630Z"
   },
   {
    "duration": 238,
    "start_time": "2024-09-26T20:19:37.636Z"
   },
   {
    "duration": 7,
    "start_time": "2024-09-26T20:19:37.876Z"
   },
   {
    "duration": 147,
    "start_time": "2024-09-26T20:19:37.884Z"
   },
   {
    "duration": 7,
    "start_time": "2024-09-26T20:19:38.033Z"
   },
   {
    "duration": 149,
    "start_time": "2024-09-26T20:19:38.042Z"
   },
   {
    "duration": 2,
    "start_time": "2024-09-26T20:19:38.193Z"
   },
   {
    "duration": 2,
    "start_time": "2024-09-26T20:19:38.197Z"
   },
   {
    "duration": 121,
    "start_time": "2024-09-26T20:19:38.201Z"
   },
   {
    "duration": 20,
    "start_time": "2024-09-26T20:19:38.325Z"
   },
   {
    "duration": 254,
    "start_time": "2024-09-26T20:19:38.346Z"
   },
   {
    "duration": 35,
    "start_time": "2024-09-26T20:19:38.602Z"
   },
   {
    "duration": 153,
    "start_time": "2024-09-26T20:19:38.642Z"
   },
   {
    "duration": 212,
    "start_time": "2024-09-26T20:21:58.959Z"
   },
   {
    "duration": 315,
    "start_time": "2024-09-26T20:22:20.009Z"
   },
   {
    "duration": 2,
    "start_time": "2024-09-26T20:22:20.327Z"
   },
   {
    "duration": 2,
    "start_time": "2024-09-26T20:22:20.330Z"
   },
   {
    "duration": 140,
    "start_time": "2024-09-26T20:22:20.334Z"
   },
   {
    "duration": 12,
    "start_time": "2024-09-26T20:22:20.477Z"
   },
   {
    "duration": 12,
    "start_time": "2024-09-26T20:22:20.490Z"
   },
   {
    "duration": 38,
    "start_time": "2024-09-26T20:22:20.503Z"
   },
   {
    "duration": 27,
    "start_time": "2024-09-26T20:22:20.544Z"
   },
   {
    "duration": 6,
    "start_time": "2024-09-26T20:22:20.573Z"
   },
   {
    "duration": 6,
    "start_time": "2024-09-26T20:22:20.581Z"
   },
   {
    "duration": 9,
    "start_time": "2024-09-26T20:22:20.590Z"
   },
   {
    "duration": 5,
    "start_time": "2024-09-26T20:22:20.601Z"
   },
   {
    "duration": 5,
    "start_time": "2024-09-26T20:22:20.608Z"
   },
   {
    "duration": 7,
    "start_time": "2024-09-26T20:22:20.616Z"
   },
   {
    "duration": 5,
    "start_time": "2024-09-26T20:22:20.625Z"
   },
   {
    "duration": 744,
    "start_time": "2024-09-26T20:22:20.631Z"
   },
   {
    "duration": 24,
    "start_time": "2024-09-26T20:22:21.380Z"
   },
   {
    "duration": 7,
    "start_time": "2024-09-26T20:22:21.406Z"
   },
   {
    "duration": 2,
    "start_time": "2024-09-26T20:22:21.415Z"
   },
   {
    "duration": 143,
    "start_time": "2024-09-26T20:22:21.418Z"
   },
   {
    "duration": 10,
    "start_time": "2024-09-26T20:22:21.563Z"
   },
   {
    "duration": 130,
    "start_time": "2024-09-26T20:22:21.575Z"
   },
   {
    "duration": 102,
    "start_time": "2024-09-26T20:22:21.707Z"
   },
   {
    "duration": 11,
    "start_time": "2024-09-26T20:22:21.810Z"
   },
   {
    "duration": 107,
    "start_time": "2024-09-26T20:22:21.822Z"
   },
   {
    "duration": 67,
    "start_time": "2024-09-26T20:22:21.931Z"
   },
   {
    "duration": 29,
    "start_time": "2024-09-26T20:22:22.000Z"
   },
   {
    "duration": 43,
    "start_time": "2024-09-26T20:22:22.031Z"
   },
   {
    "duration": 12,
    "start_time": "2024-09-26T20:22:22.076Z"
   },
   {
    "duration": 12,
    "start_time": "2024-09-26T20:22:22.090Z"
   },
   {
    "duration": 12,
    "start_time": "2024-09-26T20:22:22.104Z"
   },
   {
    "duration": 5,
    "start_time": "2024-09-26T20:22:22.117Z"
   },
   {
    "duration": 14,
    "start_time": "2024-09-26T20:22:22.123Z"
   },
   {
    "duration": 33,
    "start_time": "2024-09-26T20:22:22.141Z"
   },
   {
    "duration": 10,
    "start_time": "2024-09-26T20:22:22.176Z"
   },
   {
    "duration": 4,
    "start_time": "2024-09-26T20:22:22.188Z"
   },
   {
    "duration": 3,
    "start_time": "2024-09-26T20:22:22.194Z"
   },
   {
    "duration": 4,
    "start_time": "2024-09-26T20:22:22.199Z"
   },
   {
    "duration": 3,
    "start_time": "2024-09-26T20:22:22.205Z"
   },
   {
    "duration": 721,
    "start_time": "2024-09-26T20:22:22.210Z"
   },
   {
    "duration": 754,
    "start_time": "2024-09-26T20:22:22.937Z"
   },
   {
    "duration": 791,
    "start_time": "2024-09-26T20:22:23.692Z"
   },
   {
    "duration": 859,
    "start_time": "2024-09-26T20:22:24.485Z"
   },
   {
    "duration": 784,
    "start_time": "2024-09-26T20:22:25.346Z"
   },
   {
    "duration": 40,
    "start_time": "2024-09-26T20:22:26.131Z"
   },
   {
    "duration": 10,
    "start_time": "2024-09-26T20:22:26.173Z"
   },
   {
    "duration": 9,
    "start_time": "2024-09-26T20:22:26.184Z"
   },
   {
    "duration": 17,
    "start_time": "2024-09-26T20:22:26.194Z"
   },
   {
    "duration": 5,
    "start_time": "2024-09-26T20:22:26.212Z"
   },
   {
    "duration": 753,
    "start_time": "2024-09-26T20:22:26.218Z"
   },
   {
    "duration": 29,
    "start_time": "2024-09-26T20:22:26.975Z"
   },
   {
    "duration": 367,
    "start_time": "2024-09-26T20:22:27.007Z"
   },
   {
    "duration": 698,
    "start_time": "2024-09-26T20:22:27.376Z"
   },
   {
    "duration": 38,
    "start_time": "2024-09-26T20:22:28.077Z"
   },
   {
    "duration": 12,
    "start_time": "2024-09-26T20:22:28.117Z"
   },
   {
    "duration": 7,
    "start_time": "2024-09-26T20:22:28.131Z"
   },
   {
    "duration": 312,
    "start_time": "2024-09-26T20:22:28.141Z"
   },
   {
    "duration": 29,
    "start_time": "2024-09-26T20:22:28.455Z"
   },
   {
    "duration": 104,
    "start_time": "2024-09-26T20:22:28.485Z"
   },
   {
    "duration": 2,
    "start_time": "2024-09-26T20:22:28.591Z"
   },
   {
    "duration": 142,
    "start_time": "2024-09-26T20:22:28.594Z"
   },
   {
    "duration": 108,
    "start_time": "2024-09-26T20:22:28.738Z"
   },
   {
    "duration": 10,
    "start_time": "2024-09-26T20:22:28.848Z"
   },
   {
    "duration": 12,
    "start_time": "2024-09-26T20:22:28.859Z"
   },
   {
    "duration": 5,
    "start_time": "2024-09-26T20:22:28.873Z"
   },
   {
    "duration": 35,
    "start_time": "2024-09-26T20:22:28.879Z"
   },
   {
    "duration": 238,
    "start_time": "2024-09-26T20:22:28.916Z"
   },
   {
    "duration": 14,
    "start_time": "2024-09-26T20:22:29.157Z"
   },
   {
    "duration": 130,
    "start_time": "2024-09-26T20:22:29.172Z"
   },
   {
    "duration": 8,
    "start_time": "2024-09-26T20:22:29.304Z"
   },
   {
    "duration": 149,
    "start_time": "2024-09-26T20:22:29.313Z"
   },
   {
    "duration": 2,
    "start_time": "2024-09-26T20:22:29.469Z"
   },
   {
    "duration": 3,
    "start_time": "2024-09-26T20:22:29.473Z"
   },
   {
    "duration": 117,
    "start_time": "2024-09-26T20:22:29.477Z"
   },
   {
    "duration": 20,
    "start_time": "2024-09-26T20:22:29.596Z"
   },
   {
    "duration": 246,
    "start_time": "2024-09-26T20:22:29.618Z"
   },
   {
    "duration": 215,
    "start_time": "2024-09-26T20:22:29.872Z"
   },
   {
    "duration": 37,
    "start_time": "2024-09-26T20:22:39.941Z"
   },
   {
    "duration": 37,
    "start_time": "2024-09-26T20:23:55.709Z"
   },
   {
    "duration": 2,
    "start_time": "2024-09-26T20:25:25.421Z"
   },
   {
    "duration": 287,
    "start_time": "2024-09-27T19:09:11.596Z"
   },
   {
    "duration": 2,
    "start_time": "2024-09-27T19:09:11.885Z"
   },
   {
    "duration": 3,
    "start_time": "2024-09-27T19:09:11.889Z"
   },
   {
    "duration": 158,
    "start_time": "2024-09-27T19:09:11.893Z"
   },
   {
    "duration": 12,
    "start_time": "2024-09-27T19:09:12.055Z"
   },
   {
    "duration": 11,
    "start_time": "2024-09-27T19:09:12.068Z"
   },
   {
    "duration": 57,
    "start_time": "2024-09-27T19:09:12.080Z"
   },
   {
    "duration": 10,
    "start_time": "2024-09-27T19:09:12.139Z"
   },
   {
    "duration": 6,
    "start_time": "2024-09-27T19:09:12.151Z"
   },
   {
    "duration": 6,
    "start_time": "2024-09-27T19:09:12.159Z"
   },
   {
    "duration": 7,
    "start_time": "2024-09-27T19:09:12.167Z"
   },
   {
    "duration": 6,
    "start_time": "2024-09-27T19:09:12.176Z"
   },
   {
    "duration": 6,
    "start_time": "2024-09-27T19:09:12.184Z"
   },
   {
    "duration": 37,
    "start_time": "2024-09-27T19:09:12.194Z"
   },
   {
    "duration": 7,
    "start_time": "2024-09-27T19:09:12.233Z"
   },
   {
    "duration": 808,
    "start_time": "2024-09-27T19:09:12.241Z"
   },
   {
    "duration": 23,
    "start_time": "2024-09-27T19:09:13.051Z"
   },
   {
    "duration": 6,
    "start_time": "2024-09-27T19:09:13.076Z"
   },
   {
    "duration": 2,
    "start_time": "2024-09-27T19:09:13.085Z"
   },
   {
    "duration": 156,
    "start_time": "2024-09-27T19:09:13.089Z"
   },
   {
    "duration": 10,
    "start_time": "2024-09-27T19:09:13.246Z"
   },
   {
    "duration": 102,
    "start_time": "2024-09-27T19:09:13.257Z"
   },
   {
    "duration": 101,
    "start_time": "2024-09-27T19:09:13.361Z"
   },
   {
    "duration": 11,
    "start_time": "2024-09-27T19:09:13.464Z"
   },
   {
    "duration": 92,
    "start_time": "2024-09-27T19:09:13.477Z"
   },
   {
    "duration": 66,
    "start_time": "2024-09-27T19:09:13.571Z"
   },
   {
    "duration": 26,
    "start_time": "2024-09-27T19:09:13.639Z"
   },
   {
    "duration": 30,
    "start_time": "2024-09-27T19:09:13.667Z"
   },
   {
    "duration": 13,
    "start_time": "2024-09-27T19:09:13.698Z"
   },
   {
    "duration": 28,
    "start_time": "2024-09-27T19:09:13.712Z"
   },
   {
    "duration": 13,
    "start_time": "2024-09-27T19:09:13.742Z"
   },
   {
    "duration": 4,
    "start_time": "2024-09-27T19:09:13.756Z"
   },
   {
    "duration": 15,
    "start_time": "2024-09-27T19:09:13.762Z"
   },
   {
    "duration": 7,
    "start_time": "2024-09-27T19:09:13.778Z"
   },
   {
    "duration": 9,
    "start_time": "2024-09-27T19:09:13.787Z"
   },
   {
    "duration": 37,
    "start_time": "2024-09-27T19:09:13.797Z"
   },
   {
    "duration": 4,
    "start_time": "2024-09-27T19:09:13.836Z"
   },
   {
    "duration": 5,
    "start_time": "2024-09-27T19:09:13.841Z"
   },
   {
    "duration": 4,
    "start_time": "2024-09-27T19:09:13.847Z"
   },
   {
    "duration": 735,
    "start_time": "2024-09-27T19:09:13.852Z"
   },
   {
    "duration": 727,
    "start_time": "2024-09-27T19:09:14.593Z"
   },
   {
    "duration": 751,
    "start_time": "2024-09-27T19:09:15.322Z"
   },
   {
    "duration": 808,
    "start_time": "2024-09-27T19:09:16.074Z"
   },
   {
    "duration": 724,
    "start_time": "2024-09-27T19:09:16.884Z"
   },
   {
    "duration": 44,
    "start_time": "2024-09-27T19:09:17.610Z"
   },
   {
    "duration": 15,
    "start_time": "2024-09-27T19:09:17.661Z"
   },
   {
    "duration": 9,
    "start_time": "2024-09-27T19:09:17.678Z"
   },
   {
    "duration": 15,
    "start_time": "2024-09-27T19:09:17.689Z"
   },
   {
    "duration": 4,
    "start_time": "2024-09-27T19:09:17.706Z"
   },
   {
    "duration": 710,
    "start_time": "2024-09-27T19:09:17.732Z"
   },
   {
    "duration": 20,
    "start_time": "2024-09-27T19:09:18.444Z"
   },
   {
    "duration": 368,
    "start_time": "2024-09-27T19:09:18.466Z"
   },
   {
    "duration": 691,
    "start_time": "2024-09-27T19:09:18.836Z"
   },
   {
    "duration": 37,
    "start_time": "2024-09-27T19:09:19.529Z"
   },
   {
    "duration": 10,
    "start_time": "2024-09-27T19:09:19.568Z"
   },
   {
    "duration": 7,
    "start_time": "2024-09-27T19:09:19.580Z"
   },
   {
    "duration": 346,
    "start_time": "2024-09-27T19:09:19.589Z"
   },
   {
    "duration": 21,
    "start_time": "2024-09-27T19:09:19.936Z"
   },
   {
    "duration": 113,
    "start_time": "2024-09-27T19:09:19.959Z"
   },
   {
    "duration": 2,
    "start_time": "2024-09-27T19:09:20.074Z"
   },
   {
    "duration": 1843,
    "start_time": "2024-09-27T19:09:20.078Z"
   },
   {
    "duration": 116,
    "start_time": "2024-09-27T19:09:21.923Z"
   },
   {
    "duration": 10,
    "start_time": "2024-09-27T19:09:22.041Z"
   },
   {
    "duration": 5,
    "start_time": "2024-09-27T19:09:22.053Z"
   },
   {
    "duration": 5,
    "start_time": "2024-09-27T19:09:22.059Z"
   },
   {
    "duration": 4,
    "start_time": "2024-09-27T19:09:22.066Z"
   },
   {
    "duration": 247,
    "start_time": "2024-09-27T19:09:22.072Z"
   },
   {
    "duration": 12,
    "start_time": "2024-09-27T19:09:22.321Z"
   },
   {
    "duration": 133,
    "start_time": "2024-09-27T19:09:22.334Z"
   },
   {
    "duration": 7,
    "start_time": "2024-09-27T19:09:22.469Z"
   },
   {
    "duration": 187,
    "start_time": "2024-09-27T19:09:22.478Z"
   },
   {
    "duration": 2,
    "start_time": "2024-09-27T19:09:22.667Z"
   },
   {
    "duration": 2,
    "start_time": "2024-09-27T19:09:22.671Z"
   },
   {
    "duration": 117,
    "start_time": "2024-09-27T19:09:22.675Z"
   },
   {
    "duration": 2,
    "start_time": "2024-09-27T19:09:22.794Z"
   },
   {
    "duration": 258,
    "start_time": "2024-09-27T19:09:22.802Z"
   },
   {
    "duration": 37,
    "start_time": "2024-09-27T19:09:23.062Z"
   },
   {
    "duration": 155,
    "start_time": "2024-09-27T19:09:23.101Z"
   },
   {
    "duration": 31,
    "start_time": "2024-09-27T19:09:23.258Z"
   },
   {
    "duration": 9,
    "start_time": "2024-09-27T19:09:23.291Z"
   },
   {
    "duration": 46,
    "start_time": "2024-09-27T19:09:23.302Z"
   },
   {
    "duration": 685,
    "start_time": "2024-09-27T19:09:23.350Z"
   },
   {
    "duration": 20,
    "start_time": "2024-09-27T19:09:24.036Z"
   },
   {
    "duration": 260,
    "start_time": "2024-09-27T19:09:24.058Z"
   },
   {
    "duration": 174,
    "start_time": "2024-09-27T19:09:24.319Z"
   },
   {
    "duration": 81,
    "start_time": "2024-09-27T19:09:24.495Z"
   },
   {
    "duration": 60,
    "start_time": "2024-09-27T19:09:24.577Z"
   },
   {
    "duration": 964,
    "start_time": "2024-09-27T19:09:24.639Z"
   },
   {
    "duration": 8,
    "start_time": "2024-09-27T19:09:25.604Z"
   },
   {
    "duration": 287,
    "start_time": "2024-09-28T11:55:53.212Z"
   },
   {
    "duration": 2,
    "start_time": "2024-09-28T11:55:53.501Z"
   },
   {
    "duration": 3,
    "start_time": "2024-09-28T11:55:53.505Z"
   },
   {
    "duration": 134,
    "start_time": "2024-09-28T11:55:53.509Z"
   },
   {
    "duration": 12,
    "start_time": "2024-09-28T11:55:53.645Z"
   },
   {
    "duration": 11,
    "start_time": "2024-09-28T11:55:53.658Z"
   },
   {
    "duration": 35,
    "start_time": "2024-09-28T11:55:53.671Z"
   },
   {
    "duration": 28,
    "start_time": "2024-09-28T11:55:53.708Z"
   },
   {
    "duration": 6,
    "start_time": "2024-09-28T11:55:53.738Z"
   },
   {
    "duration": 6,
    "start_time": "2024-09-28T11:55:53.745Z"
   },
   {
    "duration": 8,
    "start_time": "2024-09-28T11:55:53.753Z"
   },
   {
    "duration": 6,
    "start_time": "2024-09-28T11:55:53.762Z"
   },
   {
    "duration": 6,
    "start_time": "2024-09-28T11:55:53.769Z"
   },
   {
    "duration": 7,
    "start_time": "2024-09-28T11:55:53.779Z"
   },
   {
    "duration": 6,
    "start_time": "2024-09-28T11:55:53.788Z"
   },
   {
    "duration": 725,
    "start_time": "2024-09-28T11:55:53.832Z"
   },
   {
    "duration": 25,
    "start_time": "2024-09-28T11:55:54.559Z"
   },
   {
    "duration": 6,
    "start_time": "2024-09-28T11:55:54.586Z"
   },
   {
    "duration": 9,
    "start_time": "2024-09-28T11:55:54.593Z"
   },
   {
    "duration": 126,
    "start_time": "2024-09-28T11:55:54.603Z"
   },
   {
    "duration": 105,
    "start_time": "2024-09-28T11:55:54.730Z"
   },
   {
    "duration": 11,
    "start_time": "2024-09-28T11:55:54.837Z"
   },
   {
    "duration": 106,
    "start_time": "2024-09-28T11:55:54.850Z"
   },
   {
    "duration": 63,
    "start_time": "2024-09-28T11:55:54.958Z"
   },
   {
    "duration": 30,
    "start_time": "2024-09-28T11:55:55.032Z"
   },
   {
    "duration": 14,
    "start_time": "2024-09-28T11:55:55.063Z"
   },
   {
    "duration": 11,
    "start_time": "2024-09-28T11:55:55.079Z"
   },
   {
    "duration": 12,
    "start_time": "2024-09-28T11:55:55.091Z"
   },
   {
    "duration": 27,
    "start_time": "2024-09-28T11:55:55.105Z"
   },
   {
    "duration": 14,
    "start_time": "2024-09-28T11:55:55.134Z"
   },
   {
    "duration": 6,
    "start_time": "2024-09-28T11:55:55.150Z"
   },
   {
    "duration": 9,
    "start_time": "2024-09-28T11:55:55.157Z"
   },
   {
    "duration": 3,
    "start_time": "2024-09-28T11:55:55.168Z"
   },
   {
    "duration": 4,
    "start_time": "2024-09-28T11:55:55.173Z"
   },
   {
    "duration": 5,
    "start_time": "2024-09-28T11:55:55.178Z"
   },
   {
    "duration": 4,
    "start_time": "2024-09-28T11:55:55.184Z"
   },
   {
    "duration": 837,
    "start_time": "2024-09-28T11:55:55.189Z"
   },
   {
    "duration": 804,
    "start_time": "2024-09-28T11:55:56.030Z"
   },
   {
    "duration": 880,
    "start_time": "2024-09-28T11:55:56.835Z"
   },
   {
    "duration": 816,
    "start_time": "2024-09-28T11:55:57.716Z"
   },
   {
    "duration": 87,
    "start_time": "2024-09-28T11:55:58.545Z"
   },
   {
    "duration": 0,
    "start_time": "2024-09-28T11:55:58.634Z"
   },
   {
    "duration": 0,
    "start_time": "2024-09-28T11:55:58.635Z"
   },
   {
    "duration": 0,
    "start_time": "2024-09-28T11:55:58.636Z"
   },
   {
    "duration": 0,
    "start_time": "2024-09-28T11:55:58.638Z"
   },
   {
    "duration": 0,
    "start_time": "2024-09-28T11:55:58.639Z"
   },
   {
    "duration": 0,
    "start_time": "2024-09-28T11:55:58.641Z"
   },
   {
    "duration": 0,
    "start_time": "2024-09-28T11:55:58.642Z"
   },
   {
    "duration": 0,
    "start_time": "2024-09-28T11:55:58.643Z"
   },
   {
    "duration": 0,
    "start_time": "2024-09-28T11:55:58.646Z"
   },
   {
    "duration": 0,
    "start_time": "2024-09-28T11:55:58.647Z"
   },
   {
    "duration": 0,
    "start_time": "2024-09-28T11:55:58.649Z"
   },
   {
    "duration": 0,
    "start_time": "2024-09-28T11:55:58.650Z"
   },
   {
    "duration": 0,
    "start_time": "2024-09-28T11:55:58.652Z"
   },
   {
    "duration": 0,
    "start_time": "2024-09-28T11:55:58.653Z"
   },
   {
    "duration": 0,
    "start_time": "2024-09-28T11:55:58.655Z"
   },
   {
    "duration": 0,
    "start_time": "2024-09-28T11:55:58.656Z"
   },
   {
    "duration": 0,
    "start_time": "2024-09-28T11:55:58.656Z"
   },
   {
    "duration": 0,
    "start_time": "2024-09-28T11:55:58.657Z"
   },
   {
    "duration": 0,
    "start_time": "2024-09-28T11:55:58.658Z"
   },
   {
    "duration": 0,
    "start_time": "2024-09-28T11:55:58.659Z"
   },
   {
    "duration": 0,
    "start_time": "2024-09-28T11:55:58.660Z"
   },
   {
    "duration": 0,
    "start_time": "2024-09-28T11:55:58.661Z"
   },
   {
    "duration": 0,
    "start_time": "2024-09-28T11:55:58.662Z"
   },
   {
    "duration": 0,
    "start_time": "2024-09-28T11:55:58.664Z"
   },
   {
    "duration": 0,
    "start_time": "2024-09-28T11:55:58.665Z"
   },
   {
    "duration": 0,
    "start_time": "2024-09-28T11:55:58.666Z"
   },
   {
    "duration": 0,
    "start_time": "2024-09-28T11:55:58.667Z"
   },
   {
    "duration": 0,
    "start_time": "2024-09-28T11:55:58.668Z"
   },
   {
    "duration": 0,
    "start_time": "2024-09-28T11:55:58.669Z"
   },
   {
    "duration": 0,
    "start_time": "2024-09-28T11:55:58.670Z"
   },
   {
    "duration": 1,
    "start_time": "2024-09-28T11:55:58.671Z"
   },
   {
    "duration": 0,
    "start_time": "2024-09-28T11:55:58.673Z"
   },
   {
    "duration": 0,
    "start_time": "2024-09-28T11:55:58.674Z"
   },
   {
    "duration": 0,
    "start_time": "2024-09-28T11:55:58.733Z"
   },
   {
    "duration": 159,
    "start_time": "2024-09-28T17:47:11.275Z"
   },
   {
    "duration": 13,
    "start_time": "2024-09-28T17:48:25.564Z"
   },
   {
    "duration": 13,
    "start_time": "2024-09-28T17:48:49.287Z"
   },
   {
    "duration": 283,
    "start_time": "2024-09-28T17:58:05.269Z"
   },
   {
    "duration": 186,
    "start_time": "2024-09-28T17:58:05.554Z"
   },
   {
    "duration": 62,
    "start_time": "2024-09-28T17:58:05.742Z"
   },
   {
    "duration": 5,
    "start_time": "2024-09-28T17:58:05.807Z"
   },
   {
    "duration": 5,
    "start_time": "2024-09-28T17:58:05.814Z"
   },
   {
    "duration": 903,
    "start_time": "2024-09-28T17:58:05.820Z"
   },
   {
    "duration": 3,
    "start_time": "2024-09-28T17:58:06.725Z"
   },
   {
    "duration": 2,
    "start_time": "2024-09-28T17:58:06.731Z"
   },
   {
    "duration": 15,
    "start_time": "2024-09-28T17:58:06.735Z"
   },
   {
    "duration": 11,
    "start_time": "2024-09-28T17:58:06.753Z"
   },
   {
    "duration": 12,
    "start_time": "2024-09-28T17:58:06.766Z"
   },
   {
    "duration": 30,
    "start_time": "2024-09-28T17:58:06.780Z"
   },
   {
    "duration": 9,
    "start_time": "2024-09-28T17:58:06.813Z"
   },
   {
    "duration": 6,
    "start_time": "2024-09-28T17:58:06.824Z"
   },
   {
    "duration": 8,
    "start_time": "2024-09-28T17:58:06.832Z"
   },
   {
    "duration": 8,
    "start_time": "2024-09-28T17:58:06.841Z"
   },
   {
    "duration": 69,
    "start_time": "2024-09-28T17:58:06.850Z"
   },
   {
    "duration": 10,
    "start_time": "2024-09-28T17:58:06.921Z"
   },
   {
    "duration": 13,
    "start_time": "2024-09-28T17:58:06.933Z"
   },
   {
    "duration": 130,
    "start_time": "2024-09-28T17:58:06.949Z"
   },
   {
    "duration": 128,
    "start_time": "2024-09-28T17:58:07.081Z"
   },
   {
    "duration": 13,
    "start_time": "2024-09-28T17:58:07.219Z"
   },
   {
    "duration": 101,
    "start_time": "2024-09-28T17:58:07.234Z"
   },
   {
    "duration": 75,
    "start_time": "2024-09-28T17:58:07.337Z"
   },
   {
    "duration": 38,
    "start_time": "2024-09-28T17:58:07.416Z"
   },
   {
    "duration": 17,
    "start_time": "2024-09-28T17:58:07.456Z"
   },
   {
    "duration": 12,
    "start_time": "2024-09-28T17:58:07.475Z"
   },
   {
    "duration": 18,
    "start_time": "2024-09-28T17:58:07.508Z"
   },
   {
    "duration": 5,
    "start_time": "2024-09-28T17:58:07.528Z"
   },
   {
    "duration": 14,
    "start_time": "2024-09-28T17:58:07.535Z"
   },
   {
    "duration": 7,
    "start_time": "2024-09-28T17:58:07.551Z"
   },
   {
    "duration": 10,
    "start_time": "2024-09-28T17:58:07.559Z"
   },
   {
    "duration": 5,
    "start_time": "2024-09-28T17:58:07.570Z"
   },
   {
    "duration": 36,
    "start_time": "2024-09-28T17:58:07.576Z"
   },
   {
    "duration": 5,
    "start_time": "2024-09-28T17:58:07.614Z"
   },
   {
    "duration": 4,
    "start_time": "2024-09-28T17:58:07.621Z"
   },
   {
    "duration": 935,
    "start_time": "2024-09-28T17:58:07.628Z"
   },
   {
    "duration": 809,
    "start_time": "2024-09-28T17:58:08.566Z"
   },
   {
    "duration": 889,
    "start_time": "2024-09-28T17:58:09.379Z"
   },
   {
    "duration": 810,
    "start_time": "2024-09-28T17:58:10.270Z"
   },
   {
    "duration": 111,
    "start_time": "2024-09-28T17:58:11.082Z"
   },
   {
    "duration": 0,
    "start_time": "2024-09-28T17:58:11.194Z"
   },
   {
    "duration": 0,
    "start_time": "2024-09-28T17:58:11.196Z"
   },
   {
    "duration": 0,
    "start_time": "2024-09-28T17:58:11.197Z"
   },
   {
    "duration": 0,
    "start_time": "2024-09-28T17:58:11.209Z"
   },
   {
    "duration": 0,
    "start_time": "2024-09-28T17:58:11.210Z"
   },
   {
    "duration": 0,
    "start_time": "2024-09-28T17:58:11.211Z"
   },
   {
    "duration": 0,
    "start_time": "2024-09-28T17:58:11.212Z"
   },
   {
    "duration": 0,
    "start_time": "2024-09-28T17:58:11.213Z"
   },
   {
    "duration": 0,
    "start_time": "2024-09-28T17:58:11.214Z"
   },
   {
    "duration": 0,
    "start_time": "2024-09-28T17:58:11.215Z"
   },
   {
    "duration": 0,
    "start_time": "2024-09-28T17:58:11.216Z"
   },
   {
    "duration": 0,
    "start_time": "2024-09-28T17:58:11.218Z"
   },
   {
    "duration": 0,
    "start_time": "2024-09-28T17:58:11.218Z"
   },
   {
    "duration": 0,
    "start_time": "2024-09-28T17:58:11.220Z"
   },
   {
    "duration": 0,
    "start_time": "2024-09-28T17:58:11.221Z"
   },
   {
    "duration": 0,
    "start_time": "2024-09-28T17:58:11.222Z"
   },
   {
    "duration": 0,
    "start_time": "2024-09-28T17:58:11.223Z"
   },
   {
    "duration": 0,
    "start_time": "2024-09-28T17:58:11.224Z"
   },
   {
    "duration": 0,
    "start_time": "2024-09-28T17:58:11.224Z"
   },
   {
    "duration": 0,
    "start_time": "2024-09-28T17:58:11.225Z"
   },
   {
    "duration": 0,
    "start_time": "2024-09-28T17:58:11.226Z"
   },
   {
    "duration": 0,
    "start_time": "2024-09-28T17:58:11.227Z"
   },
   {
    "duration": 0,
    "start_time": "2024-09-28T17:58:11.229Z"
   },
   {
    "duration": 0,
    "start_time": "2024-09-28T17:58:11.230Z"
   },
   {
    "duration": 0,
    "start_time": "2024-09-28T17:58:11.231Z"
   },
   {
    "duration": 0,
    "start_time": "2024-09-28T17:58:11.232Z"
   },
   {
    "duration": 0,
    "start_time": "2024-09-28T17:58:11.233Z"
   },
   {
    "duration": 0,
    "start_time": "2024-09-28T17:58:11.236Z"
   },
   {
    "duration": 0,
    "start_time": "2024-09-28T17:58:11.237Z"
   },
   {
    "duration": 0,
    "start_time": "2024-09-28T17:58:11.238Z"
   },
   {
    "duration": 0,
    "start_time": "2024-09-28T17:58:11.239Z"
   },
   {
    "duration": 0,
    "start_time": "2024-09-28T17:58:11.240Z"
   },
   {
    "duration": 0,
    "start_time": "2024-09-28T17:58:11.242Z"
   },
   {
    "duration": 0,
    "start_time": "2024-09-28T17:58:11.243Z"
   },
   {
    "duration": 419,
    "start_time": "2024-09-28T18:11:12.034Z"
   },
   {
    "duration": 48,
    "start_time": "2024-09-28T18:12:52.365Z"
   },
   {
    "duration": 313,
    "start_time": "2024-09-28T18:13:26.060Z"
   },
   {
    "duration": 130,
    "start_time": "2024-09-28T18:13:26.375Z"
   },
   {
    "duration": 38,
    "start_time": "2024-09-28T18:13:26.507Z"
   },
   {
    "duration": 7,
    "start_time": "2024-09-28T18:13:26.550Z"
   },
   {
    "duration": 6,
    "start_time": "2024-09-28T18:13:26.559Z"
   },
   {
    "duration": 758,
    "start_time": "2024-09-28T18:13:26.566Z"
   },
   {
    "duration": 3,
    "start_time": "2024-09-28T18:13:27.325Z"
   },
   {
    "duration": 3,
    "start_time": "2024-09-28T18:13:27.332Z"
   },
   {
    "duration": 14,
    "start_time": "2024-09-28T18:13:27.337Z"
   },
   {
    "duration": 14,
    "start_time": "2024-09-28T18:13:27.354Z"
   },
   {
    "duration": 11,
    "start_time": "2024-09-28T18:13:27.370Z"
   },
   {
    "duration": 27,
    "start_time": "2024-09-28T18:13:27.383Z"
   },
   {
    "duration": 13,
    "start_time": "2024-09-28T18:13:27.412Z"
   },
   {
    "duration": 6,
    "start_time": "2024-09-28T18:13:27.427Z"
   },
   {
    "duration": 8,
    "start_time": "2024-09-28T18:13:27.434Z"
   },
   {
    "duration": 5,
    "start_time": "2024-09-28T18:13:27.444Z"
   },
   {
    "duration": 58,
    "start_time": "2024-09-28T18:13:27.451Z"
   },
   {
    "duration": 11,
    "start_time": "2024-09-28T18:13:27.511Z"
   },
   {
    "duration": 10,
    "start_time": "2024-09-28T18:13:27.525Z"
   },
   {
    "duration": 119,
    "start_time": "2024-09-28T18:13:27.536Z"
   },
   {
    "duration": 116,
    "start_time": "2024-09-28T18:13:27.657Z"
   },
   {
    "duration": 14,
    "start_time": "2024-09-28T18:13:27.776Z"
   },
   {
    "duration": 111,
    "start_time": "2024-09-28T18:13:27.791Z"
   },
   {
    "duration": 62,
    "start_time": "2024-09-28T18:13:27.904Z"
   },
   {
    "duration": 31,
    "start_time": "2024-09-28T18:13:27.971Z"
   },
   {
    "duration": 15,
    "start_time": "2024-09-28T18:13:28.004Z"
   },
   {
    "duration": 14,
    "start_time": "2024-09-28T18:13:28.021Z"
   },
   {
    "duration": 13,
    "start_time": "2024-09-28T18:13:28.041Z"
   },
   {
    "duration": 6,
    "start_time": "2024-09-28T18:13:28.056Z"
   },
   {
    "duration": 15,
    "start_time": "2024-09-28T18:13:28.064Z"
   },
   {
    "duration": 8,
    "start_time": "2024-09-28T18:13:28.108Z"
   },
   {
    "duration": 11,
    "start_time": "2024-09-28T18:13:28.118Z"
   },
   {
    "duration": 5,
    "start_time": "2024-09-28T18:13:28.131Z"
   },
   {
    "duration": 5,
    "start_time": "2024-09-28T18:13:28.139Z"
   },
   {
    "duration": 4,
    "start_time": "2024-09-28T18:13:28.148Z"
   },
   {
    "duration": 4,
    "start_time": "2024-09-28T18:13:28.154Z"
   },
   {
    "duration": 853,
    "start_time": "2024-09-28T18:13:28.159Z"
   },
   {
    "duration": 848,
    "start_time": "2024-09-28T18:13:29.015Z"
   },
   {
    "duration": 890,
    "start_time": "2024-09-28T18:13:29.865Z"
   },
   {
    "duration": 779,
    "start_time": "2024-09-28T18:13:30.757Z"
   },
   {
    "duration": 503,
    "start_time": "2024-09-28T18:13:31.538Z"
   },
   {
    "duration": 0,
    "start_time": "2024-09-28T18:13:32.043Z"
   },
   {
    "duration": 0,
    "start_time": "2024-09-28T18:13:32.045Z"
   },
   {
    "duration": 0,
    "start_time": "2024-09-28T18:13:32.046Z"
   },
   {
    "duration": 0,
    "start_time": "2024-09-28T18:13:32.048Z"
   },
   {
    "duration": 0,
    "start_time": "2024-09-28T18:13:32.049Z"
   },
   {
    "duration": 0,
    "start_time": "2024-09-28T18:13:32.050Z"
   },
   {
    "duration": 0,
    "start_time": "2024-09-28T18:13:32.051Z"
   },
   {
    "duration": 0,
    "start_time": "2024-09-28T18:13:32.053Z"
   },
   {
    "duration": 0,
    "start_time": "2024-09-28T18:13:32.054Z"
   },
   {
    "duration": 0,
    "start_time": "2024-09-28T18:13:32.056Z"
   },
   {
    "duration": 0,
    "start_time": "2024-09-28T18:13:32.057Z"
   },
   {
    "duration": 0,
    "start_time": "2024-09-28T18:13:32.058Z"
   },
   {
    "duration": 0,
    "start_time": "2024-09-28T18:13:32.059Z"
   },
   {
    "duration": 0,
    "start_time": "2024-09-28T18:13:32.061Z"
   },
   {
    "duration": 0,
    "start_time": "2024-09-28T18:13:32.062Z"
   },
   {
    "duration": 0,
    "start_time": "2024-09-28T18:13:32.063Z"
   },
   {
    "duration": 0,
    "start_time": "2024-09-28T18:13:32.065Z"
   },
   {
    "duration": 0,
    "start_time": "2024-09-28T18:13:32.066Z"
   },
   {
    "duration": 0,
    "start_time": "2024-09-28T18:13:32.068Z"
   },
   {
    "duration": 0,
    "start_time": "2024-09-28T18:13:32.069Z"
   },
   {
    "duration": 0,
    "start_time": "2024-09-28T18:13:32.071Z"
   },
   {
    "duration": 0,
    "start_time": "2024-09-28T18:13:32.109Z"
   },
   {
    "duration": 0,
    "start_time": "2024-09-28T18:13:32.111Z"
   },
   {
    "duration": 0,
    "start_time": "2024-09-28T18:13:32.112Z"
   },
   {
    "duration": 0,
    "start_time": "2024-09-28T18:13:32.113Z"
   },
   {
    "duration": 0,
    "start_time": "2024-09-28T18:13:32.114Z"
   },
   {
    "duration": 0,
    "start_time": "2024-09-28T18:13:32.115Z"
   },
   {
    "duration": 0,
    "start_time": "2024-09-28T18:13:32.116Z"
   },
   {
    "duration": 0,
    "start_time": "2024-09-28T18:13:32.117Z"
   },
   {
    "duration": 0,
    "start_time": "2024-09-28T18:13:32.118Z"
   },
   {
    "duration": 0,
    "start_time": "2024-09-28T18:13:32.119Z"
   },
   {
    "duration": 0,
    "start_time": "2024-09-28T18:13:32.120Z"
   },
   {
    "duration": 0,
    "start_time": "2024-09-28T18:13:32.121Z"
   },
   {
    "duration": 0,
    "start_time": "2024-09-28T18:13:32.122Z"
   },
   {
    "duration": 17,
    "start_time": "2024-09-28T18:21:04.778Z"
   },
   {
    "duration": 6,
    "start_time": "2024-09-28T18:22:10.433Z"
   },
   {
    "duration": 5,
    "start_time": "2024-09-28T18:22:54.270Z"
   },
   {
    "duration": 379,
    "start_time": "2024-09-28T18:23:24.156Z"
   },
   {
    "duration": 56,
    "start_time": "2024-09-28T18:29:03.766Z"
   },
   {
    "duration": 4,
    "start_time": "2024-09-28T18:29:44.764Z"
   },
   {
    "duration": 39,
    "start_time": "2024-09-28T18:33:43.547Z"
   },
   {
    "duration": 40,
    "start_time": "2024-09-28T18:37:45.389Z"
   },
   {
    "duration": 11,
    "start_time": "2024-09-28T18:40:20.006Z"
   },
   {
    "duration": 12,
    "start_time": "2024-09-28T18:40:37.305Z"
   },
   {
    "duration": 282,
    "start_time": "2024-09-28T18:42:52.083Z"
   },
   {
    "duration": 132,
    "start_time": "2024-09-28T18:42:52.367Z"
   },
   {
    "duration": 40,
    "start_time": "2024-09-28T18:42:52.500Z"
   },
   {
    "duration": 5,
    "start_time": "2024-09-28T18:42:52.542Z"
   },
   {
    "duration": 4,
    "start_time": "2024-09-28T18:42:52.550Z"
   },
   {
    "duration": 710,
    "start_time": "2024-09-28T18:42:52.556Z"
   },
   {
    "duration": 2,
    "start_time": "2024-09-28T18:42:53.268Z"
   },
   {
    "duration": 2,
    "start_time": "2024-09-28T18:42:53.272Z"
   },
   {
    "duration": 11,
    "start_time": "2024-09-28T18:42:53.276Z"
   },
   {
    "duration": 28,
    "start_time": "2024-09-28T18:42:53.288Z"
   },
   {
    "duration": 9,
    "start_time": "2024-09-28T18:42:53.318Z"
   },
   {
    "duration": 6,
    "start_time": "2024-09-28T18:42:53.328Z"
   },
   {
    "duration": 7,
    "start_time": "2024-09-28T18:42:53.336Z"
   },
   {
    "duration": 5,
    "start_time": "2024-09-28T18:42:53.347Z"
   },
   {
    "duration": 8,
    "start_time": "2024-09-28T18:42:53.353Z"
   },
   {
    "duration": 46,
    "start_time": "2024-09-28T18:42:53.364Z"
   },
   {
    "duration": 23,
    "start_time": "2024-09-28T18:42:53.412Z"
   },
   {
    "duration": 6,
    "start_time": "2024-09-28T18:42:53.437Z"
   },
   {
    "duration": 10,
    "start_time": "2024-09-28T18:42:53.445Z"
   },
   {
    "duration": 127,
    "start_time": "2024-09-28T18:42:53.456Z"
   },
   {
    "duration": 87,
    "start_time": "2024-09-28T18:42:53.585Z"
   },
   {
    "duration": 11,
    "start_time": "2024-09-28T18:42:53.674Z"
   },
   {
    "duration": 94,
    "start_time": "2024-09-28T18:42:53.686Z"
   },
   {
    "duration": 61,
    "start_time": "2024-09-28T18:42:53.782Z"
   },
   {
    "duration": 27,
    "start_time": "2024-09-28T18:42:53.845Z"
   },
   {
    "duration": 14,
    "start_time": "2024-09-28T18:42:53.874Z"
   },
   {
    "duration": 27,
    "start_time": "2024-09-28T18:42:53.889Z"
   },
   {
    "duration": 11,
    "start_time": "2024-09-28T18:42:53.918Z"
   },
   {
    "duration": 4,
    "start_time": "2024-09-28T18:42:53.931Z"
   },
   {
    "duration": 14,
    "start_time": "2024-09-28T18:42:53.936Z"
   },
   {
    "duration": 6,
    "start_time": "2024-09-28T18:42:53.952Z"
   },
   {
    "duration": 10,
    "start_time": "2024-09-28T18:42:53.960Z"
   },
   {
    "duration": 39,
    "start_time": "2024-09-28T18:42:53.971Z"
   },
   {
    "duration": 4,
    "start_time": "2024-09-28T18:42:54.011Z"
   },
   {
    "duration": 4,
    "start_time": "2024-09-28T18:42:54.017Z"
   },
   {
    "duration": 4,
    "start_time": "2024-09-28T18:42:54.023Z"
   },
   {
    "duration": 777,
    "start_time": "2024-09-28T18:42:54.028Z"
   },
   {
    "duration": 744,
    "start_time": "2024-09-28T18:42:54.810Z"
   },
   {
    "duration": 828,
    "start_time": "2024-09-28T18:42:55.556Z"
   },
   {
    "duration": 736,
    "start_time": "2024-09-28T18:42:56.386Z"
   },
   {
    "duration": 102,
    "start_time": "2024-09-28T18:42:57.128Z"
   },
   {
    "duration": 0,
    "start_time": "2024-09-28T18:42:57.232Z"
   },
   {
    "duration": 0,
    "start_time": "2024-09-28T18:42:57.233Z"
   },
   {
    "duration": 0,
    "start_time": "2024-09-28T18:42:57.234Z"
   },
   {
    "duration": 0,
    "start_time": "2024-09-28T18:42:57.235Z"
   },
   {
    "duration": 0,
    "start_time": "2024-09-28T18:42:57.236Z"
   },
   {
    "duration": 0,
    "start_time": "2024-09-28T18:42:57.237Z"
   },
   {
    "duration": 0,
    "start_time": "2024-09-28T18:42:57.238Z"
   },
   {
    "duration": 0,
    "start_time": "2024-09-28T18:42:57.239Z"
   },
   {
    "duration": 0,
    "start_time": "2024-09-28T18:42:57.242Z"
   },
   {
    "duration": 0,
    "start_time": "2024-09-28T18:42:57.243Z"
   },
   {
    "duration": 0,
    "start_time": "2024-09-28T18:42:57.244Z"
   },
   {
    "duration": 0,
    "start_time": "2024-09-28T18:42:57.245Z"
   },
   {
    "duration": 0,
    "start_time": "2024-09-28T18:42:57.246Z"
   },
   {
    "duration": 0,
    "start_time": "2024-09-28T18:42:57.247Z"
   },
   {
    "duration": 0,
    "start_time": "2024-09-28T18:42:57.249Z"
   },
   {
    "duration": 0,
    "start_time": "2024-09-28T18:42:57.249Z"
   },
   {
    "duration": 0,
    "start_time": "2024-09-28T18:42:57.250Z"
   },
   {
    "duration": 0,
    "start_time": "2024-09-28T18:42:57.251Z"
   },
   {
    "duration": 0,
    "start_time": "2024-09-28T18:42:57.252Z"
   },
   {
    "duration": 0,
    "start_time": "2024-09-28T18:42:57.253Z"
   },
   {
    "duration": 0,
    "start_time": "2024-09-28T18:42:57.254Z"
   },
   {
    "duration": 0,
    "start_time": "2024-09-28T18:42:57.255Z"
   },
   {
    "duration": 0,
    "start_time": "2024-09-28T18:42:57.256Z"
   },
   {
    "duration": 0,
    "start_time": "2024-09-28T18:42:57.257Z"
   },
   {
    "duration": 0,
    "start_time": "2024-09-28T18:42:57.258Z"
   },
   {
    "duration": 0,
    "start_time": "2024-09-28T18:42:57.259Z"
   },
   {
    "duration": 0,
    "start_time": "2024-09-28T18:42:57.260Z"
   },
   {
    "duration": 0,
    "start_time": "2024-09-28T18:42:57.261Z"
   },
   {
    "duration": 0,
    "start_time": "2024-09-28T18:42:57.262Z"
   },
   {
    "duration": 0,
    "start_time": "2024-09-28T18:42:57.263Z"
   },
   {
    "duration": 0,
    "start_time": "2024-09-28T18:42:57.309Z"
   },
   {
    "duration": 0,
    "start_time": "2024-09-28T18:42:57.311Z"
   },
   {
    "duration": 0,
    "start_time": "2024-09-28T18:42:57.312Z"
   },
   {
    "duration": 0,
    "start_time": "2024-09-28T18:42:57.313Z"
   },
   {
    "duration": 11,
    "start_time": "2024-09-28T18:44:26.716Z"
   },
   {
    "duration": 31,
    "start_time": "2024-09-28T18:54:11.309Z"
   },
   {
    "duration": 11,
    "start_time": "2024-09-28T18:54:12.991Z"
   },
   {
    "duration": 17,
    "start_time": "2024-09-28T18:55:12.999Z"
   },
   {
    "duration": 289,
    "start_time": "2024-09-28T18:58:28.069Z"
   },
   {
    "duration": 127,
    "start_time": "2024-09-28T18:58:28.360Z"
   },
   {
    "duration": 41,
    "start_time": "2024-09-28T18:58:28.489Z"
   },
   {
    "duration": 5,
    "start_time": "2024-09-28T18:58:28.533Z"
   },
   {
    "duration": 5,
    "start_time": "2024-09-28T18:58:28.539Z"
   },
   {
    "duration": 722,
    "start_time": "2024-09-28T18:58:28.546Z"
   },
   {
    "duration": 2,
    "start_time": "2024-09-28T18:58:29.270Z"
   },
   {
    "duration": 4,
    "start_time": "2024-09-28T18:58:29.274Z"
   },
   {
    "duration": 12,
    "start_time": "2024-09-28T18:58:29.280Z"
   },
   {
    "duration": 9,
    "start_time": "2024-09-28T18:58:29.311Z"
   },
   {
    "duration": 9,
    "start_time": "2024-09-28T18:58:29.322Z"
   },
   {
    "duration": 7,
    "start_time": "2024-09-28T18:58:29.333Z"
   },
   {
    "duration": 8,
    "start_time": "2024-09-28T18:58:29.341Z"
   },
   {
    "duration": 6,
    "start_time": "2024-09-28T18:58:29.351Z"
   },
   {
    "duration": 10,
    "start_time": "2024-09-28T18:58:29.358Z"
   },
   {
    "duration": 41,
    "start_time": "2024-09-28T18:58:29.369Z"
   },
   {
    "duration": 24,
    "start_time": "2024-09-28T18:58:29.411Z"
   },
   {
    "duration": 6,
    "start_time": "2024-09-28T18:58:29.437Z"
   },
   {
    "duration": 9,
    "start_time": "2024-09-28T18:58:29.444Z"
   },
   {
    "duration": 124,
    "start_time": "2024-09-28T18:58:29.455Z"
   },
   {
    "duration": 88,
    "start_time": "2024-09-28T18:58:29.581Z"
   },
   {
    "duration": 11,
    "start_time": "2024-09-28T18:58:29.670Z"
   },
   {
    "duration": 107,
    "start_time": "2024-09-28T18:58:29.683Z"
   },
   {
    "duration": 65,
    "start_time": "2024-09-28T18:58:29.792Z"
   },
   {
    "duration": 29,
    "start_time": "2024-09-28T18:58:29.859Z"
   },
   {
    "duration": 23,
    "start_time": "2024-09-28T18:58:29.889Z"
   },
   {
    "duration": 11,
    "start_time": "2024-09-28T18:58:29.914Z"
   },
   {
    "duration": 12,
    "start_time": "2024-09-28T18:58:29.929Z"
   },
   {
    "duration": 4,
    "start_time": "2024-09-28T18:58:29.942Z"
   },
   {
    "duration": 14,
    "start_time": "2024-09-28T18:58:29.948Z"
   },
   {
    "duration": 7,
    "start_time": "2024-09-28T18:58:29.964Z"
   },
   {
    "duration": 37,
    "start_time": "2024-09-28T18:58:29.972Z"
   },
   {
    "duration": 5,
    "start_time": "2024-09-28T18:58:30.011Z"
   },
   {
    "duration": 4,
    "start_time": "2024-09-28T18:58:30.018Z"
   },
   {
    "duration": 4,
    "start_time": "2024-09-28T18:58:30.024Z"
   },
   {
    "duration": 4,
    "start_time": "2024-09-28T18:58:30.029Z"
   },
   {
    "duration": 772,
    "start_time": "2024-09-28T18:58:30.035Z"
   },
   {
    "duration": 758,
    "start_time": "2024-09-28T18:58:30.808Z"
   },
   {
    "duration": 862,
    "start_time": "2024-09-28T18:58:31.567Z"
   },
   {
    "duration": 801,
    "start_time": "2024-09-28T18:58:32.431Z"
   },
   {
    "duration": 32,
    "start_time": "2024-09-28T18:58:33.235Z"
   },
   {
    "duration": 10,
    "start_time": "2024-09-28T18:58:33.269Z"
   },
   {
    "duration": 34,
    "start_time": "2024-09-28T18:58:33.282Z"
   },
   {
    "duration": 9,
    "start_time": "2024-09-28T18:58:33.318Z"
   },
   {
    "duration": 16,
    "start_time": "2024-09-28T18:58:33.330Z"
   },
   {
    "duration": 5,
    "start_time": "2024-09-28T18:58:33.348Z"
   },
   {
    "duration": 24,
    "start_time": "2024-09-28T18:58:33.355Z"
   },
   {
    "duration": 829,
    "start_time": "2024-09-28T18:58:33.381Z"
   },
   {
    "duration": 64,
    "start_time": "2024-09-28T18:58:34.215Z"
   },
   {
    "duration": 6,
    "start_time": "2024-09-28T18:58:34.282Z"
   },
   {
    "duration": 7,
    "start_time": "2024-09-28T18:58:34.289Z"
   },
   {
    "duration": 361,
    "start_time": "2024-09-28T18:58:34.298Z"
   },
   {
    "duration": 21,
    "start_time": "2024-09-28T18:58:34.661Z"
   },
   {
    "duration": 113,
    "start_time": "2024-09-28T18:58:34.684Z"
   },
   {
    "duration": 2071,
    "start_time": "2024-09-28T18:58:34.799Z"
   },
   {
    "duration": 12,
    "start_time": "2024-09-28T18:58:36.872Z"
   },
   {
    "duration": 23,
    "start_time": "2024-09-28T18:58:36.886Z"
   },
   {
    "duration": 6,
    "start_time": "2024-09-28T18:58:36.911Z"
   },
   {
    "duration": 7,
    "start_time": "2024-09-28T18:58:36.919Z"
   },
   {
    "duration": 272,
    "start_time": "2024-09-28T18:58:36.928Z"
   },
   {
    "duration": 7,
    "start_time": "2024-09-28T18:58:37.205Z"
   },
   {
    "duration": 180,
    "start_time": "2024-09-28T18:58:37.213Z"
   },
   {
    "duration": 14,
    "start_time": "2024-09-28T18:58:37.395Z"
   },
   {
    "duration": 175,
    "start_time": "2024-09-28T18:58:37.411Z"
   },
   {
    "duration": 2,
    "start_time": "2024-09-28T18:58:37.588Z"
   },
   {
    "duration": 333,
    "start_time": "2024-09-28T18:58:37.592Z"
   },
   {
    "duration": 43,
    "start_time": "2024-09-28T18:58:37.927Z"
   },
   {
    "duration": 173,
    "start_time": "2024-09-28T18:58:37.972Z"
   },
   {
    "duration": 106,
    "start_time": "2024-09-28T18:58:38.149Z"
   },
   {
    "duration": 0,
    "start_time": "2024-09-28T18:58:38.257Z"
   },
   {
    "duration": 0,
    "start_time": "2024-09-28T18:58:38.258Z"
   },
   {
    "duration": 0,
    "start_time": "2024-09-28T18:58:38.259Z"
   },
   {
    "duration": 0,
    "start_time": "2024-09-28T18:58:38.260Z"
   },
   {
    "duration": 0,
    "start_time": "2024-09-28T18:58:38.262Z"
   },
   {
    "duration": 0,
    "start_time": "2024-09-28T18:58:38.263Z"
   },
   {
    "duration": 0,
    "start_time": "2024-09-28T18:58:38.264Z"
   },
   {
    "duration": 0,
    "start_time": "2024-09-28T18:58:38.265Z"
   },
   {
    "duration": 290,
    "start_time": "2024-09-28T18:59:34.983Z"
   },
   {
    "duration": 128,
    "start_time": "2024-09-28T18:59:35.275Z"
   },
   {
    "duration": 38,
    "start_time": "2024-09-28T18:59:35.405Z"
   },
   {
    "duration": 6,
    "start_time": "2024-09-28T18:59:35.444Z"
   },
   {
    "duration": 4,
    "start_time": "2024-09-28T18:59:35.454Z"
   },
   {
    "duration": 725,
    "start_time": "2024-09-28T18:59:35.459Z"
   },
   {
    "duration": 2,
    "start_time": "2024-09-28T18:59:36.186Z"
   },
   {
    "duration": 2,
    "start_time": "2024-09-28T18:59:36.190Z"
   },
   {
    "duration": 25,
    "start_time": "2024-09-28T18:59:36.194Z"
   },
   {
    "duration": 10,
    "start_time": "2024-09-28T18:59:36.220Z"
   },
   {
    "duration": 9,
    "start_time": "2024-09-28T18:59:36.232Z"
   },
   {
    "duration": 6,
    "start_time": "2024-09-28T18:59:36.242Z"
   },
   {
    "duration": 7,
    "start_time": "2024-09-28T18:59:36.250Z"
   },
   {
    "duration": 6,
    "start_time": "2024-09-28T18:59:36.262Z"
   },
   {
    "duration": 40,
    "start_time": "2024-09-28T18:59:36.270Z"
   },
   {
    "duration": 5,
    "start_time": "2024-09-28T18:59:36.311Z"
   },
   {
    "duration": 23,
    "start_time": "2024-09-28T18:59:36.318Z"
   },
   {
    "duration": 6,
    "start_time": "2024-09-28T18:59:36.342Z"
   },
   {
    "duration": 9,
    "start_time": "2024-09-28T18:59:36.350Z"
   },
   {
    "duration": 131,
    "start_time": "2024-09-28T18:59:36.360Z"
   },
   {
    "duration": 94,
    "start_time": "2024-09-28T18:59:36.492Z"
   },
   {
    "duration": 22,
    "start_time": "2024-09-28T18:59:36.587Z"
   },
   {
    "duration": 84,
    "start_time": "2024-09-28T18:59:36.611Z"
   },
   {
    "duration": 63,
    "start_time": "2024-09-28T18:59:36.697Z"
   },
   {
    "duration": 30,
    "start_time": "2024-09-28T18:59:36.762Z"
   },
   {
    "duration": 27,
    "start_time": "2024-09-28T18:59:36.793Z"
   },
   {
    "duration": 12,
    "start_time": "2024-09-28T18:59:36.822Z"
   },
   {
    "duration": 12,
    "start_time": "2024-09-28T18:59:36.835Z"
   },
   {
    "duration": 4,
    "start_time": "2024-09-28T18:59:36.848Z"
   },
   {
    "duration": 14,
    "start_time": "2024-09-28T18:59:36.853Z"
   },
   {
    "duration": 7,
    "start_time": "2024-09-28T18:59:36.868Z"
   },
   {
    "duration": 38,
    "start_time": "2024-09-28T18:59:36.876Z"
   },
   {
    "duration": 3,
    "start_time": "2024-09-28T18:59:36.916Z"
   },
   {
    "duration": 3,
    "start_time": "2024-09-28T18:59:36.921Z"
   },
   {
    "duration": 4,
    "start_time": "2024-09-28T18:59:36.926Z"
   },
   {
    "duration": 3,
    "start_time": "2024-09-28T18:59:36.932Z"
   },
   {
    "duration": 793,
    "start_time": "2024-09-28T18:59:36.937Z"
   },
   {
    "duration": 777,
    "start_time": "2024-09-28T18:59:37.732Z"
   },
   {
    "duration": 832,
    "start_time": "2024-09-28T18:59:38.510Z"
   },
   {
    "duration": 766,
    "start_time": "2024-09-28T18:59:39.344Z"
   },
   {
    "duration": 30,
    "start_time": "2024-09-28T18:59:40.116Z"
   },
   {
    "duration": 10,
    "start_time": "2024-09-28T18:59:40.147Z"
   },
   {
    "duration": 16,
    "start_time": "2024-09-28T18:59:40.158Z"
   },
   {
    "duration": 35,
    "start_time": "2024-09-28T18:59:40.175Z"
   },
   {
    "duration": 16,
    "start_time": "2024-09-28T18:59:40.212Z"
   },
   {
    "duration": 5,
    "start_time": "2024-09-28T18:59:40.230Z"
   },
   {
    "duration": 22,
    "start_time": "2024-09-28T18:59:40.237Z"
   },
   {
    "duration": 515,
    "start_time": "2024-09-28T18:59:40.260Z"
   },
   {
    "duration": 48,
    "start_time": "2024-09-28T18:59:40.777Z"
   },
   {
    "duration": 6,
    "start_time": "2024-09-28T18:59:40.827Z"
   },
   {
    "duration": 6,
    "start_time": "2024-09-28T18:59:40.835Z"
   },
   {
    "duration": 311,
    "start_time": "2024-09-28T18:59:40.843Z"
   },
   {
    "duration": 22,
    "start_time": "2024-09-28T18:59:41.156Z"
   },
   {
    "duration": 107,
    "start_time": "2024-09-28T18:59:41.180Z"
   },
   {
    "duration": 128,
    "start_time": "2024-09-28T18:59:41.289Z"
   },
   {
    "duration": 10,
    "start_time": "2024-09-28T18:59:41.419Z"
   },
   {
    "duration": 5,
    "start_time": "2024-09-28T18:59:41.431Z"
   },
   {
    "duration": 5,
    "start_time": "2024-09-28T18:59:41.438Z"
   },
   {
    "duration": 5,
    "start_time": "2024-09-28T18:59:41.444Z"
   },
   {
    "duration": 280,
    "start_time": "2024-09-28T18:59:41.451Z"
   },
   {
    "duration": 5,
    "start_time": "2024-09-28T18:59:41.733Z"
   },
   {
    "duration": 151,
    "start_time": "2024-09-28T18:59:41.740Z"
   },
   {
    "duration": 8,
    "start_time": "2024-09-28T18:59:41.893Z"
   },
   {
    "duration": 142,
    "start_time": "2024-09-28T18:59:41.909Z"
   },
   {
    "duration": 2,
    "start_time": "2024-09-28T18:59:42.053Z"
   },
   {
    "duration": 258,
    "start_time": "2024-09-28T18:59:42.057Z"
   },
   {
    "duration": 35,
    "start_time": "2024-09-28T18:59:42.317Z"
   },
   {
    "duration": 154,
    "start_time": "2024-09-28T18:59:42.354Z"
   },
   {
    "duration": 439,
    "start_time": "2024-09-28T18:59:42.510Z"
   },
   {
    "duration": 0,
    "start_time": "2024-09-28T18:59:42.951Z"
   },
   {
    "duration": 0,
    "start_time": "2024-09-28T18:59:42.952Z"
   },
   {
    "duration": 0,
    "start_time": "2024-09-28T18:59:42.953Z"
   },
   {
    "duration": 0,
    "start_time": "2024-09-28T18:59:42.955Z"
   },
   {
    "duration": 0,
    "start_time": "2024-09-28T18:59:42.956Z"
   },
   {
    "duration": 0,
    "start_time": "2024-09-28T18:59:42.957Z"
   },
   {
    "duration": 0,
    "start_time": "2024-09-28T18:59:42.958Z"
   },
   {
    "duration": 31,
    "start_time": "2024-09-28T19:02:49.291Z"
   },
   {
    "duration": 28,
    "start_time": "2024-09-28T19:02:51.169Z"
   },
   {
    "duration": 7,
    "start_time": "2024-09-28T19:10:16.199Z"
   },
   {
    "duration": 15,
    "start_time": "2024-09-28T19:10:18.132Z"
   },
   {
    "duration": 5,
    "start_time": "2024-09-28T19:11:26.020Z"
   },
   {
    "duration": 2,
    "start_time": "2024-09-28T19:13:37.317Z"
   },
   {
    "duration": 23,
    "start_time": "2024-09-28T19:16:57.124Z"
   },
   {
    "duration": 13,
    "start_time": "2024-09-28T19:16:57.943Z"
   },
   {
    "duration": 7,
    "start_time": "2024-09-28T19:16:58.884Z"
   },
   {
    "duration": 8,
    "start_time": "2024-09-28T19:17:36.748Z"
   },
   {
    "duration": 343,
    "start_time": "2024-09-28T19:18:35.925Z"
   },
   {
    "duration": 124,
    "start_time": "2024-09-28T19:18:36.270Z"
   },
   {
    "duration": 40,
    "start_time": "2024-09-28T19:18:36.396Z"
   },
   {
    "duration": 5,
    "start_time": "2024-09-28T19:18:36.438Z"
   },
   {
    "duration": 5,
    "start_time": "2024-09-28T19:18:36.445Z"
   },
   {
    "duration": 724,
    "start_time": "2024-09-28T19:18:36.451Z"
   },
   {
    "duration": 6,
    "start_time": "2024-09-28T19:18:37.178Z"
   },
   {
    "duration": 6,
    "start_time": "2024-09-28T19:18:37.187Z"
   },
   {
    "duration": 18,
    "start_time": "2024-09-28T19:18:37.195Z"
   },
   {
    "duration": 10,
    "start_time": "2024-09-28T19:18:37.217Z"
   },
   {
    "duration": 8,
    "start_time": "2024-09-28T19:18:37.229Z"
   },
   {
    "duration": 6,
    "start_time": "2024-09-28T19:18:37.239Z"
   },
   {
    "duration": 8,
    "start_time": "2024-09-28T19:18:37.246Z"
   },
   {
    "duration": 6,
    "start_time": "2024-09-28T19:18:37.255Z"
   },
   {
    "duration": 69,
    "start_time": "2024-09-28T19:18:37.262Z"
   },
   {
    "duration": 6,
    "start_time": "2024-09-28T19:18:37.333Z"
   },
   {
    "duration": 10,
    "start_time": "2024-09-28T19:18:37.341Z"
   },
   {
    "duration": 123,
    "start_time": "2024-09-28T19:18:37.352Z"
   },
   {
    "duration": 107,
    "start_time": "2024-09-28T19:18:37.477Z"
   },
   {
    "duration": 11,
    "start_time": "2024-09-28T19:18:37.585Z"
   },
   {
    "duration": 100,
    "start_time": "2024-09-28T19:18:37.609Z"
   },
   {
    "duration": 78,
    "start_time": "2024-09-28T19:18:37.714Z"
   },
   {
    "duration": 40,
    "start_time": "2024-09-28T19:18:37.793Z"
   },
   {
    "duration": 13,
    "start_time": "2024-09-28T19:18:37.835Z"
   },
   {
    "duration": 9,
    "start_time": "2024-09-28T19:18:37.849Z"
   },
   {
    "duration": 5,
    "start_time": "2024-09-28T19:18:37.859Z"
   },
   {
    "duration": 5,
    "start_time": "2024-09-28T19:18:37.867Z"
   },
   {
    "duration": 33,
    "start_time": "2024-09-28T19:18:37.876Z"
   },
   {
    "duration": 18,
    "start_time": "2024-09-28T19:18:37.911Z"
   },
   {
    "duration": 6,
    "start_time": "2024-09-28T19:18:37.931Z"
   },
   {
    "duration": 9,
    "start_time": "2024-09-28T19:18:37.939Z"
   },
   {
    "duration": 5,
    "start_time": "2024-09-28T19:18:37.950Z"
   },
   {
    "duration": 3,
    "start_time": "2024-09-28T19:18:37.957Z"
   },
   {
    "duration": 5,
    "start_time": "2024-09-28T19:18:37.962Z"
   },
   {
    "duration": 5,
    "start_time": "2024-09-28T19:18:37.970Z"
   },
   {
    "duration": 803,
    "start_time": "2024-09-28T19:18:37.976Z"
   },
   {
    "duration": 739,
    "start_time": "2024-09-28T19:18:38.781Z"
   },
   {
    "duration": 879,
    "start_time": "2024-09-28T19:18:39.522Z"
   },
   {
    "duration": 879,
    "start_time": "2024-09-28T19:18:40.403Z"
   },
   {
    "duration": 39,
    "start_time": "2024-09-28T19:18:41.283Z"
   },
   {
    "duration": 12,
    "start_time": "2024-09-28T19:18:41.323Z"
   },
   {
    "duration": 19,
    "start_time": "2024-09-28T19:18:41.337Z"
   },
   {
    "duration": 14,
    "start_time": "2024-09-28T19:18:41.357Z"
   },
   {
    "duration": 44,
    "start_time": "2024-09-28T19:18:41.373Z"
   },
   {
    "duration": 6,
    "start_time": "2024-09-28T19:18:41.419Z"
   },
   {
    "duration": 30,
    "start_time": "2024-09-28T19:18:41.427Z"
   },
   {
    "duration": 554,
    "start_time": "2024-09-28T19:18:41.461Z"
   },
   {
    "duration": 37,
    "start_time": "2024-09-28T19:18:42.017Z"
   },
   {
    "duration": 6,
    "start_time": "2024-09-28T19:18:42.057Z"
   },
   {
    "duration": 8,
    "start_time": "2024-09-28T19:18:42.065Z"
   },
   {
    "duration": 441,
    "start_time": "2024-09-28T19:18:42.074Z"
   },
   {
    "duration": 31,
    "start_time": "2024-09-28T19:18:42.517Z"
   },
   {
    "duration": 120,
    "start_time": "2024-09-28T19:18:42.550Z"
   },
   {
    "duration": 191,
    "start_time": "2024-09-28T19:18:42.672Z"
   },
   {
    "duration": 14,
    "start_time": "2024-09-28T19:18:42.866Z"
   },
   {
    "duration": 5,
    "start_time": "2024-09-28T19:18:42.882Z"
   },
   {
    "duration": 21,
    "start_time": "2024-09-28T19:18:42.889Z"
   },
   {
    "duration": 8,
    "start_time": "2024-09-28T19:18:42.911Z"
   },
   {
    "duration": 281,
    "start_time": "2024-09-28T19:18:42.920Z"
   },
   {
    "duration": 7,
    "start_time": "2024-09-28T19:18:43.208Z"
   },
   {
    "duration": 145,
    "start_time": "2024-09-28T19:18:43.217Z"
   },
   {
    "duration": 8,
    "start_time": "2024-09-28T19:18:43.365Z"
   },
   {
    "duration": 154,
    "start_time": "2024-09-28T19:18:43.374Z"
   },
   {
    "duration": 3,
    "start_time": "2024-09-28T19:18:43.530Z"
   },
   {
    "duration": 283,
    "start_time": "2024-09-28T19:18:43.535Z"
   },
   {
    "duration": 40,
    "start_time": "2024-09-28T19:18:43.820Z"
   },
   {
    "duration": 165,
    "start_time": "2024-09-28T19:18:43.862Z"
   },
   {
    "duration": 40,
    "start_time": "2024-09-28T19:18:44.029Z"
   },
   {
    "duration": 45,
    "start_time": "2024-09-28T19:18:44.071Z"
   },
   {
    "duration": 32,
    "start_time": "2024-09-28T19:18:44.118Z"
   },
   {
    "duration": 279,
    "start_time": "2024-09-28T19:18:44.152Z"
   },
   {
    "duration": 201,
    "start_time": "2024-09-28T19:18:44.433Z"
   },
   {
    "duration": 114,
    "start_time": "2024-09-28T19:18:44.636Z"
   },
   {
    "duration": 78,
    "start_time": "2024-09-28T19:18:44.752Z"
   },
   {
    "duration": 860,
    "start_time": "2024-09-28T19:18:44.832Z"
   },
   {
    "duration": 15,
    "start_time": "2024-09-28T19:18:45.694Z"
   },
   {
    "duration": 327,
    "start_time": "2024-09-28T19:22:06.771Z"
   },
   {
    "duration": 145,
    "start_time": "2024-09-28T19:22:07.100Z"
   },
   {
    "duration": 42,
    "start_time": "2024-09-28T19:22:07.247Z"
   },
   {
    "duration": 7,
    "start_time": "2024-09-28T19:22:07.291Z"
   },
   {
    "duration": 12,
    "start_time": "2024-09-28T19:22:07.301Z"
   },
   {
    "duration": 745,
    "start_time": "2024-09-28T19:22:07.315Z"
   },
   {
    "duration": 2,
    "start_time": "2024-09-28T19:22:08.062Z"
   },
   {
    "duration": 3,
    "start_time": "2024-09-28T19:22:08.066Z"
   },
   {
    "duration": 12,
    "start_time": "2024-09-28T19:22:08.070Z"
   },
   {
    "duration": 29,
    "start_time": "2024-09-28T19:22:08.084Z"
   },
   {
    "duration": 15,
    "start_time": "2024-09-28T19:22:08.115Z"
   },
   {
    "duration": 11,
    "start_time": "2024-09-28T19:22:08.132Z"
   },
   {
    "duration": 8,
    "start_time": "2024-09-28T19:22:08.145Z"
   },
   {
    "duration": 5,
    "start_time": "2024-09-28T19:22:08.157Z"
   },
   {
    "duration": 25,
    "start_time": "2024-09-28T19:22:08.164Z"
   },
   {
    "duration": 9,
    "start_time": "2024-09-28T19:22:08.209Z"
   },
   {
    "duration": 10,
    "start_time": "2024-09-28T19:22:08.219Z"
   },
   {
    "duration": 108,
    "start_time": "2024-09-28T19:22:08.230Z"
   },
   {
    "duration": 94,
    "start_time": "2024-09-28T19:22:08.340Z"
   },
   {
    "duration": 11,
    "start_time": "2024-09-28T19:22:08.436Z"
   },
   {
    "duration": 94,
    "start_time": "2024-09-28T19:22:08.449Z"
   },
   {
    "duration": 54,
    "start_time": "2024-09-28T19:22:08.545Z"
   },
   {
    "duration": 40,
    "start_time": "2024-09-28T19:22:08.601Z"
   },
   {
    "duration": 13,
    "start_time": "2024-09-28T19:22:08.643Z"
   },
   {
    "duration": 9,
    "start_time": "2024-09-28T19:22:08.658Z"
   },
   {
    "duration": 5,
    "start_time": "2024-09-28T19:22:08.669Z"
   },
   {
    "duration": 35,
    "start_time": "2024-09-28T19:22:08.676Z"
   },
   {
    "duration": 4,
    "start_time": "2024-09-28T19:22:08.713Z"
   },
   {
    "duration": 15,
    "start_time": "2024-09-28T19:22:08.719Z"
   },
   {
    "duration": 8,
    "start_time": "2024-09-28T19:22:08.735Z"
   },
   {
    "duration": 10,
    "start_time": "2024-09-28T19:22:08.744Z"
   },
   {
    "duration": 4,
    "start_time": "2024-09-28T19:22:08.757Z"
   },
   {
    "duration": 3,
    "start_time": "2024-09-28T19:22:08.764Z"
   },
   {
    "duration": 40,
    "start_time": "2024-09-28T19:22:08.769Z"
   },
   {
    "duration": 5,
    "start_time": "2024-09-28T19:22:08.811Z"
   },
   {
    "duration": 793,
    "start_time": "2024-09-28T19:22:08.818Z"
   },
   {
    "duration": 797,
    "start_time": "2024-09-28T19:22:09.613Z"
   },
   {
    "duration": 848,
    "start_time": "2024-09-28T19:22:10.412Z"
   },
   {
    "duration": 754,
    "start_time": "2024-09-28T19:22:11.262Z"
   },
   {
    "duration": 3,
    "start_time": "2024-09-28T19:22:12.018Z"
   },
   {
    "duration": 120,
    "start_time": "2024-09-28T19:22:12.027Z"
   },
   {
    "duration": 0,
    "start_time": "2024-09-28T19:22:12.148Z"
   },
   {
    "duration": 0,
    "start_time": "2024-09-28T19:22:12.150Z"
   },
   {
    "duration": 0,
    "start_time": "2024-09-28T19:22:12.151Z"
   },
   {
    "duration": 0,
    "start_time": "2024-09-28T19:22:12.152Z"
   },
   {
    "duration": 0,
    "start_time": "2024-09-28T19:22:12.154Z"
   },
   {
    "duration": 0,
    "start_time": "2024-09-28T19:22:12.155Z"
   },
   {
    "duration": 0,
    "start_time": "2024-09-28T19:22:12.156Z"
   },
   {
    "duration": 0,
    "start_time": "2024-09-28T19:22:12.158Z"
   },
   {
    "duration": 0,
    "start_time": "2024-09-28T19:22:12.159Z"
   },
   {
    "duration": 0,
    "start_time": "2024-09-28T19:22:12.160Z"
   },
   {
    "duration": 0,
    "start_time": "2024-09-28T19:22:12.161Z"
   },
   {
    "duration": 0,
    "start_time": "2024-09-28T19:22:12.162Z"
   },
   {
    "duration": 0,
    "start_time": "2024-09-28T19:22:12.164Z"
   },
   {
    "duration": 0,
    "start_time": "2024-09-28T19:22:12.165Z"
   },
   {
    "duration": 0,
    "start_time": "2024-09-28T19:22:12.166Z"
   },
   {
    "duration": 0,
    "start_time": "2024-09-28T19:22:12.168Z"
   },
   {
    "duration": 0,
    "start_time": "2024-09-28T19:22:12.169Z"
   },
   {
    "duration": 0,
    "start_time": "2024-09-28T19:22:12.170Z"
   },
   {
    "duration": 0,
    "start_time": "2024-09-28T19:22:12.172Z"
   },
   {
    "duration": 0,
    "start_time": "2024-09-28T19:22:12.209Z"
   },
   {
    "duration": 0,
    "start_time": "2024-09-28T19:22:12.210Z"
   },
   {
    "duration": 0,
    "start_time": "2024-09-28T19:22:12.212Z"
   },
   {
    "duration": 0,
    "start_time": "2024-09-28T19:22:12.213Z"
   },
   {
    "duration": 0,
    "start_time": "2024-09-28T19:22:12.215Z"
   },
   {
    "duration": 0,
    "start_time": "2024-09-28T19:22:12.216Z"
   },
   {
    "duration": 0,
    "start_time": "2024-09-28T19:22:12.217Z"
   },
   {
    "duration": 0,
    "start_time": "2024-09-28T19:22:12.219Z"
   },
   {
    "duration": 0,
    "start_time": "2024-09-28T19:22:12.220Z"
   },
   {
    "duration": 0,
    "start_time": "2024-09-28T19:22:12.222Z"
   },
   {
    "duration": 0,
    "start_time": "2024-09-28T19:22:12.223Z"
   },
   {
    "duration": 0,
    "start_time": "2024-09-28T19:22:12.224Z"
   },
   {
    "duration": 0,
    "start_time": "2024-09-28T19:22:12.226Z"
   },
   {
    "duration": 0,
    "start_time": "2024-09-28T19:22:12.227Z"
   },
   {
    "duration": 0,
    "start_time": "2024-09-28T19:22:12.228Z"
   },
   {
    "duration": 0,
    "start_time": "2024-09-28T19:22:12.230Z"
   },
   {
    "duration": 314,
    "start_time": "2024-09-28T19:23:54.056Z"
   },
   {
    "duration": 157,
    "start_time": "2024-09-28T19:23:54.372Z"
   },
   {
    "duration": 37,
    "start_time": "2024-09-28T19:23:54.530Z"
   },
   {
    "duration": 4,
    "start_time": "2024-09-28T19:23:54.572Z"
   },
   {
    "duration": 4,
    "start_time": "2024-09-28T19:23:54.580Z"
   },
   {
    "duration": 727,
    "start_time": "2024-09-28T19:23:54.585Z"
   },
   {
    "duration": 2,
    "start_time": "2024-09-28T19:23:55.314Z"
   },
   {
    "duration": 2,
    "start_time": "2024-09-28T19:23:55.318Z"
   },
   {
    "duration": 13,
    "start_time": "2024-09-28T19:23:55.322Z"
   },
   {
    "duration": 12,
    "start_time": "2024-09-28T19:23:55.338Z"
   },
   {
    "duration": 9,
    "start_time": "2024-09-28T19:23:55.351Z"
   },
   {
    "duration": 6,
    "start_time": "2024-09-28T19:23:55.364Z"
   },
   {
    "duration": 40,
    "start_time": "2024-09-28T19:23:55.372Z"
   },
   {
    "duration": 5,
    "start_time": "2024-09-28T19:23:55.415Z"
   },
   {
    "duration": 23,
    "start_time": "2024-09-28T19:23:55.422Z"
   },
   {
    "duration": 8,
    "start_time": "2024-09-28T19:23:55.447Z"
   },
   {
    "duration": 10,
    "start_time": "2024-09-28T19:23:55.456Z"
   },
   {
    "duration": 128,
    "start_time": "2024-09-28T19:23:55.467Z"
   },
   {
    "duration": 95,
    "start_time": "2024-09-28T19:23:55.596Z"
   },
   {
    "duration": 16,
    "start_time": "2024-09-28T19:23:55.693Z"
   },
   {
    "duration": 88,
    "start_time": "2024-09-28T19:23:55.711Z"
   },
   {
    "duration": 62,
    "start_time": "2024-09-28T19:23:55.800Z"
   },
   {
    "duration": 45,
    "start_time": "2024-09-28T19:23:55.864Z"
   },
   {
    "duration": 13,
    "start_time": "2024-09-28T19:23:55.911Z"
   },
   {
    "duration": 8,
    "start_time": "2024-09-28T19:23:55.926Z"
   },
   {
    "duration": 5,
    "start_time": "2024-09-28T19:23:55.936Z"
   },
   {
    "duration": 6,
    "start_time": "2024-09-28T19:23:55.943Z"
   },
   {
    "duration": 5,
    "start_time": "2024-09-28T19:23:55.954Z"
   },
   {
    "duration": 15,
    "start_time": "2024-09-28T19:23:55.960Z"
   },
   {
    "duration": 36,
    "start_time": "2024-09-28T19:23:55.977Z"
   },
   {
    "duration": 13,
    "start_time": "2024-09-28T19:23:56.015Z"
   },
   {
    "duration": 5,
    "start_time": "2024-09-28T19:23:56.029Z"
   },
   {
    "duration": 3,
    "start_time": "2024-09-28T19:23:56.035Z"
   },
   {
    "duration": 4,
    "start_time": "2024-09-28T19:23:56.040Z"
   },
   {
    "duration": 3,
    "start_time": "2024-09-28T19:23:56.046Z"
   },
   {
    "duration": 788,
    "start_time": "2024-09-28T19:23:56.050Z"
   },
   {
    "duration": 858,
    "start_time": "2024-09-28T19:23:56.840Z"
   },
   {
    "duration": 870,
    "start_time": "2024-09-28T19:23:57.700Z"
   },
   {
    "duration": 761,
    "start_time": "2024-09-28T19:23:58.572Z"
   },
   {
    "duration": 3,
    "start_time": "2024-09-28T19:23:59.334Z"
   },
   {
    "duration": 114,
    "start_time": "2024-09-28T19:23:59.339Z"
   },
   {
    "duration": 0,
    "start_time": "2024-09-28T19:23:59.454Z"
   },
   {
    "duration": 0,
    "start_time": "2024-09-28T19:23:59.456Z"
   },
   {
    "duration": 0,
    "start_time": "2024-09-28T19:23:59.457Z"
   },
   {
    "duration": 0,
    "start_time": "2024-09-28T19:23:59.458Z"
   },
   {
    "duration": 0,
    "start_time": "2024-09-28T19:23:59.460Z"
   },
   {
    "duration": 0,
    "start_time": "2024-09-28T19:23:59.461Z"
   },
   {
    "duration": 0,
    "start_time": "2024-09-28T19:23:59.462Z"
   },
   {
    "duration": 0,
    "start_time": "2024-09-28T19:23:59.464Z"
   },
   {
    "duration": 0,
    "start_time": "2024-09-28T19:23:59.466Z"
   },
   {
    "duration": 0,
    "start_time": "2024-09-28T19:23:59.467Z"
   },
   {
    "duration": 0,
    "start_time": "2024-09-28T19:23:59.468Z"
   },
   {
    "duration": 0,
    "start_time": "2024-09-28T19:23:59.470Z"
   },
   {
    "duration": 0,
    "start_time": "2024-09-28T19:23:59.471Z"
   },
   {
    "duration": 0,
    "start_time": "2024-09-28T19:23:59.472Z"
   },
   {
    "duration": 0,
    "start_time": "2024-09-28T19:23:59.474Z"
   },
   {
    "duration": 0,
    "start_time": "2024-09-28T19:23:59.475Z"
   },
   {
    "duration": 0,
    "start_time": "2024-09-28T19:23:59.476Z"
   },
   {
    "duration": 0,
    "start_time": "2024-09-28T19:23:59.477Z"
   },
   {
    "duration": 0,
    "start_time": "2024-09-28T19:23:59.479Z"
   },
   {
    "duration": 0,
    "start_time": "2024-09-28T19:23:59.480Z"
   },
   {
    "duration": 0,
    "start_time": "2024-09-28T19:23:59.481Z"
   },
   {
    "duration": 0,
    "start_time": "2024-09-28T19:23:59.509Z"
   },
   {
    "duration": 0,
    "start_time": "2024-09-28T19:23:59.513Z"
   },
   {
    "duration": 0,
    "start_time": "2024-09-28T19:23:59.514Z"
   },
   {
    "duration": 0,
    "start_time": "2024-09-28T19:23:59.515Z"
   },
   {
    "duration": 0,
    "start_time": "2024-09-28T19:23:59.516Z"
   },
   {
    "duration": 0,
    "start_time": "2024-09-28T19:23:59.517Z"
   },
   {
    "duration": 0,
    "start_time": "2024-09-28T19:23:59.519Z"
   },
   {
    "duration": 0,
    "start_time": "2024-09-28T19:23:59.520Z"
   },
   {
    "duration": 1,
    "start_time": "2024-09-28T19:23:59.521Z"
   },
   {
    "duration": 0,
    "start_time": "2024-09-28T19:23:59.523Z"
   },
   {
    "duration": 0,
    "start_time": "2024-09-28T19:23:59.524Z"
   },
   {
    "duration": 0,
    "start_time": "2024-09-28T19:23:59.525Z"
   },
   {
    "duration": 0,
    "start_time": "2024-09-28T19:23:59.527Z"
   },
   {
    "duration": 328,
    "start_time": "2024-09-28T19:25:46.232Z"
   },
   {
    "duration": 147,
    "start_time": "2024-09-28T19:25:46.562Z"
   },
   {
    "duration": 36,
    "start_time": "2024-09-28T19:25:46.712Z"
   },
   {
    "duration": 4,
    "start_time": "2024-09-28T19:25:46.751Z"
   },
   {
    "duration": 4,
    "start_time": "2024-09-28T19:25:46.758Z"
   },
   {
    "duration": 790,
    "start_time": "2024-09-28T19:25:46.764Z"
   },
   {
    "duration": 3,
    "start_time": "2024-09-28T19:25:47.556Z"
   },
   {
    "duration": 3,
    "start_time": "2024-09-28T19:25:47.561Z"
   },
   {
    "duration": 12,
    "start_time": "2024-09-28T19:25:47.566Z"
   },
   {
    "duration": 31,
    "start_time": "2024-09-28T19:25:47.581Z"
   },
   {
    "duration": 12,
    "start_time": "2024-09-28T19:25:47.614Z"
   },
   {
    "duration": 8,
    "start_time": "2024-09-28T19:25:47.628Z"
   },
   {
    "duration": 8,
    "start_time": "2024-09-28T19:25:47.638Z"
   },
   {
    "duration": 5,
    "start_time": "2024-09-28T19:25:47.648Z"
   },
   {
    "duration": 33,
    "start_time": "2024-09-28T19:25:47.655Z"
   },
   {
    "duration": 9,
    "start_time": "2024-09-28T19:25:47.711Z"
   },
   {
    "duration": 10,
    "start_time": "2024-09-28T19:25:47.722Z"
   },
   {
    "duration": 127,
    "start_time": "2024-09-28T19:25:47.734Z"
   },
   {
    "duration": 107,
    "start_time": "2024-09-28T19:25:47.863Z"
   },
   {
    "duration": 11,
    "start_time": "2024-09-28T19:25:47.972Z"
   },
   {
    "duration": 96,
    "start_time": "2024-09-28T19:25:47.985Z"
   },
   {
    "duration": 84,
    "start_time": "2024-09-28T19:25:48.084Z"
   },
   {
    "duration": 32,
    "start_time": "2024-09-28T19:25:48.170Z"
   },
   {
    "duration": 13,
    "start_time": "2024-09-28T19:25:48.210Z"
   },
   {
    "duration": 10,
    "start_time": "2024-09-28T19:25:48.224Z"
   },
   {
    "duration": 6,
    "start_time": "2024-09-28T19:25:48.236Z"
   },
   {
    "duration": 6,
    "start_time": "2024-09-28T19:25:48.244Z"
   },
   {
    "duration": 5,
    "start_time": "2024-09-28T19:25:48.255Z"
   },
   {
    "duration": 47,
    "start_time": "2024-09-28T19:25:48.262Z"
   },
   {
    "duration": 7,
    "start_time": "2024-09-28T19:25:48.312Z"
   },
   {
    "duration": 13,
    "start_time": "2024-09-28T19:25:48.320Z"
   },
   {
    "duration": 6,
    "start_time": "2024-09-28T19:25:48.335Z"
   },
   {
    "duration": 5,
    "start_time": "2024-09-28T19:25:48.342Z"
   },
   {
    "duration": 4,
    "start_time": "2024-09-28T19:25:48.349Z"
   },
   {
    "duration": 4,
    "start_time": "2024-09-28T19:25:48.354Z"
   },
   {
    "duration": 801,
    "start_time": "2024-09-28T19:25:48.359Z"
   },
   {
    "duration": 787,
    "start_time": "2024-09-28T19:25:49.162Z"
   },
   {
    "duration": 858,
    "start_time": "2024-09-28T19:25:49.951Z"
   },
   {
    "duration": 767,
    "start_time": "2024-09-28T19:25:50.811Z"
   },
   {
    "duration": 3,
    "start_time": "2024-09-28T19:25:51.579Z"
   },
   {
    "duration": 499,
    "start_time": "2024-09-28T19:25:51.583Z"
   },
   {
    "duration": 0,
    "start_time": "2024-09-28T19:25:52.084Z"
   },
   {
    "duration": 0,
    "start_time": "2024-09-28T19:25:52.086Z"
   },
   {
    "duration": 0,
    "start_time": "2024-09-28T19:25:52.088Z"
   },
   {
    "duration": 0,
    "start_time": "2024-09-28T19:25:52.089Z"
   },
   {
    "duration": 0,
    "start_time": "2024-09-28T19:25:52.091Z"
   },
   {
    "duration": 0,
    "start_time": "2024-09-28T19:25:52.092Z"
   },
   {
    "duration": 0,
    "start_time": "2024-09-28T19:25:52.094Z"
   },
   {
    "duration": 0,
    "start_time": "2024-09-28T19:25:52.095Z"
   },
   {
    "duration": 0,
    "start_time": "2024-09-28T19:25:52.109Z"
   },
   {
    "duration": 1,
    "start_time": "2024-09-28T19:25:52.110Z"
   },
   {
    "duration": 0,
    "start_time": "2024-09-28T19:25:52.112Z"
   },
   {
    "duration": 0,
    "start_time": "2024-09-28T19:25:52.113Z"
   },
   {
    "duration": 0,
    "start_time": "2024-09-28T19:25:52.114Z"
   },
   {
    "duration": 0,
    "start_time": "2024-09-28T19:25:52.116Z"
   },
   {
    "duration": 0,
    "start_time": "2024-09-28T19:25:52.117Z"
   },
   {
    "duration": 0,
    "start_time": "2024-09-28T19:25:52.118Z"
   },
   {
    "duration": 0,
    "start_time": "2024-09-28T19:25:52.120Z"
   },
   {
    "duration": 0,
    "start_time": "2024-09-28T19:25:52.121Z"
   },
   {
    "duration": 0,
    "start_time": "2024-09-28T19:25:52.122Z"
   },
   {
    "duration": 0,
    "start_time": "2024-09-28T19:25:52.124Z"
   },
   {
    "duration": 0,
    "start_time": "2024-09-28T19:25:52.125Z"
   },
   {
    "duration": 0,
    "start_time": "2024-09-28T19:25:52.127Z"
   },
   {
    "duration": 1,
    "start_time": "2024-09-28T19:25:52.128Z"
   },
   {
    "duration": 0,
    "start_time": "2024-09-28T19:25:52.130Z"
   },
   {
    "duration": 0,
    "start_time": "2024-09-28T19:25:52.132Z"
   },
   {
    "duration": 0,
    "start_time": "2024-09-28T19:25:52.133Z"
   },
   {
    "duration": 0,
    "start_time": "2024-09-28T19:25:52.135Z"
   },
   {
    "duration": 0,
    "start_time": "2024-09-28T19:25:52.137Z"
   },
   {
    "duration": 0,
    "start_time": "2024-09-28T19:25:52.138Z"
   },
   {
    "duration": 0,
    "start_time": "2024-09-28T19:25:52.140Z"
   },
   {
    "duration": 0,
    "start_time": "2024-09-28T19:25:52.142Z"
   },
   {
    "duration": 0,
    "start_time": "2024-09-28T19:25:52.145Z"
   },
   {
    "duration": 1,
    "start_time": "2024-09-28T19:25:52.146Z"
   },
   {
    "duration": 0,
    "start_time": "2024-09-28T19:25:52.148Z"
   },
   {
    "duration": 53,
    "start_time": "2024-09-28T19:28:37.156Z"
   },
   {
    "duration": 328,
    "start_time": "2024-09-28T19:29:39.931Z"
   },
   {
    "duration": 131,
    "start_time": "2024-09-28T19:29:40.262Z"
   },
   {
    "duration": 40,
    "start_time": "2024-09-28T19:29:40.395Z"
   },
   {
    "duration": 4,
    "start_time": "2024-09-28T19:29:40.437Z"
   },
   {
    "duration": 5,
    "start_time": "2024-09-28T19:29:40.444Z"
   },
   {
    "duration": 723,
    "start_time": "2024-09-28T19:29:40.451Z"
   },
   {
    "duration": 3,
    "start_time": "2024-09-28T19:29:41.175Z"
   },
   {
    "duration": 3,
    "start_time": "2024-09-28T19:29:41.179Z"
   },
   {
    "duration": 26,
    "start_time": "2024-09-28T19:29:41.184Z"
   },
   {
    "duration": 10,
    "start_time": "2024-09-28T19:29:41.211Z"
   },
   {
    "duration": 7,
    "start_time": "2024-09-28T19:29:41.223Z"
   },
   {
    "duration": 6,
    "start_time": "2024-09-28T19:29:41.232Z"
   },
   {
    "duration": 8,
    "start_time": "2024-09-28T19:29:41.240Z"
   },
   {
    "duration": 5,
    "start_time": "2024-09-28T19:29:41.251Z"
   },
   {
    "duration": 60,
    "start_time": "2024-09-28T19:29:41.258Z"
   },
   {
    "duration": 7,
    "start_time": "2024-09-28T19:29:41.320Z"
   },
   {
    "duration": 9,
    "start_time": "2024-09-28T19:29:41.329Z"
   },
   {
    "duration": 117,
    "start_time": "2024-09-28T19:29:41.340Z"
   },
   {
    "duration": 117,
    "start_time": "2024-09-28T19:29:41.459Z"
   },
   {
    "duration": 11,
    "start_time": "2024-09-28T19:29:41.578Z"
   },
   {
    "duration": 106,
    "start_time": "2024-09-28T19:29:41.590Z"
   },
   {
    "duration": 68,
    "start_time": "2024-09-28T19:29:41.698Z"
   },
   {
    "duration": 30,
    "start_time": "2024-09-28T19:29:41.768Z"
   },
   {
    "duration": 12,
    "start_time": "2024-09-28T19:29:41.810Z"
   },
   {
    "duration": 9,
    "start_time": "2024-09-28T19:29:41.824Z"
   },
   {
    "duration": 6,
    "start_time": "2024-09-28T19:29:41.835Z"
   },
   {
    "duration": 6,
    "start_time": "2024-09-28T19:29:41.842Z"
   },
   {
    "duration": 5,
    "start_time": "2024-09-28T19:29:41.849Z"
   },
   {
    "duration": 15,
    "start_time": "2024-09-28T19:29:41.855Z"
   },
   {
    "duration": 39,
    "start_time": "2024-09-28T19:29:41.872Z"
   },
   {
    "duration": 10,
    "start_time": "2024-09-28T19:29:41.912Z"
   },
   {
    "duration": 5,
    "start_time": "2024-09-28T19:29:41.923Z"
   },
   {
    "duration": 3,
    "start_time": "2024-09-28T19:29:41.929Z"
   },
   {
    "duration": 4,
    "start_time": "2024-09-28T19:29:41.934Z"
   },
   {
    "duration": 3,
    "start_time": "2024-09-28T19:29:41.940Z"
   },
   {
    "duration": 799,
    "start_time": "2024-09-28T19:29:41.944Z"
   },
   {
    "duration": 737,
    "start_time": "2024-09-28T19:29:42.744Z"
   },
   {
    "duration": 847,
    "start_time": "2024-09-28T19:29:43.483Z"
   },
   {
    "duration": 796,
    "start_time": "2024-09-28T19:29:44.332Z"
   },
   {
    "duration": 30,
    "start_time": "2024-09-28T19:29:45.129Z"
   },
   {
    "duration": 9,
    "start_time": "2024-09-28T19:29:45.165Z"
   },
   {
    "duration": 9,
    "start_time": "2024-09-28T19:29:45.175Z"
   },
   {
    "duration": 38,
    "start_time": "2024-09-28T19:29:45.186Z"
   },
   {
    "duration": 5,
    "start_time": "2024-09-28T19:29:45.226Z"
   },
   {
    "duration": 22,
    "start_time": "2024-09-28T19:29:45.233Z"
   },
   {
    "duration": 522,
    "start_time": "2024-09-28T19:29:45.256Z"
   },
   {
    "duration": 39,
    "start_time": "2024-09-28T19:29:45.780Z"
   },
   {
    "duration": 6,
    "start_time": "2024-09-28T19:29:45.821Z"
   },
   {
    "duration": 7,
    "start_time": "2024-09-28T19:29:45.828Z"
   },
   {
    "duration": 336,
    "start_time": "2024-09-28T19:29:45.837Z"
   },
   {
    "duration": 21,
    "start_time": "2024-09-28T19:29:46.175Z"
   },
   {
    "duration": 101,
    "start_time": "2024-09-28T19:29:46.197Z"
   },
   {
    "duration": 131,
    "start_time": "2024-09-28T19:29:46.309Z"
   },
   {
    "duration": 11,
    "start_time": "2024-09-28T19:29:46.442Z"
   },
   {
    "duration": 6,
    "start_time": "2024-09-28T19:29:46.454Z"
   },
   {
    "duration": 5,
    "start_time": "2024-09-28T19:29:46.461Z"
   },
   {
    "duration": 5,
    "start_time": "2024-09-28T19:29:46.467Z"
   },
   {
    "duration": 289,
    "start_time": "2024-09-28T19:29:46.473Z"
   },
   {
    "duration": 7,
    "start_time": "2024-09-28T19:29:46.764Z"
   },
   {
    "duration": 137,
    "start_time": "2024-09-28T19:29:46.773Z"
   },
   {
    "duration": 8,
    "start_time": "2024-09-28T19:29:46.911Z"
   },
   {
    "duration": 151,
    "start_time": "2024-09-28T19:29:46.921Z"
   },
   {
    "duration": 2,
    "start_time": "2024-09-28T19:29:47.074Z"
   },
   {
    "duration": 281,
    "start_time": "2024-09-28T19:29:47.078Z"
   },
   {
    "duration": 37,
    "start_time": "2024-09-28T19:29:47.361Z"
   },
   {
    "duration": 158,
    "start_time": "2024-09-28T19:29:47.400Z"
   },
   {
    "duration": 33,
    "start_time": "2024-09-28T19:29:47.559Z"
   },
   {
    "duration": 38,
    "start_time": "2024-09-28T19:29:47.593Z"
   },
   {
    "duration": 21,
    "start_time": "2024-09-28T19:29:47.632Z"
   },
   {
    "duration": 261,
    "start_time": "2024-09-28T19:29:47.655Z"
   },
   {
    "duration": 177,
    "start_time": "2024-09-28T19:29:47.917Z"
   },
   {
    "duration": 115,
    "start_time": "2024-09-28T19:29:48.096Z"
   },
   {
    "duration": 53,
    "start_time": "2024-09-28T19:29:48.213Z"
   },
   {
    "duration": 863,
    "start_time": "2024-09-28T19:29:48.268Z"
   },
   {
    "duration": 7,
    "start_time": "2024-09-28T19:29:49.132Z"
   },
   {
    "duration": 310,
    "start_time": "2024-09-28T19:32:31.069Z"
   },
   {
    "duration": 128,
    "start_time": "2024-09-28T19:32:31.381Z"
   },
   {
    "duration": 36,
    "start_time": "2024-09-28T19:32:31.511Z"
   },
   {
    "duration": 5,
    "start_time": "2024-09-28T19:32:31.550Z"
   },
   {
    "duration": 4,
    "start_time": "2024-09-28T19:32:31.557Z"
   },
   {
    "duration": 725,
    "start_time": "2024-09-28T19:32:31.563Z"
   },
   {
    "duration": 2,
    "start_time": "2024-09-28T19:32:32.291Z"
   },
   {
    "duration": 4,
    "start_time": "2024-09-28T19:32:32.295Z"
   },
   {
    "duration": 12,
    "start_time": "2024-09-28T19:32:32.309Z"
   },
   {
    "duration": 10,
    "start_time": "2024-09-28T19:32:32.323Z"
   },
   {
    "duration": 7,
    "start_time": "2024-09-28T19:32:32.335Z"
   },
   {
    "duration": 6,
    "start_time": "2024-09-28T19:32:32.344Z"
   },
   {
    "duration": 7,
    "start_time": "2024-09-28T19:32:32.352Z"
   },
   {
    "duration": 6,
    "start_time": "2024-09-28T19:32:32.360Z"
   },
   {
    "duration": 60,
    "start_time": "2024-09-28T19:32:32.368Z"
   },
   {
    "duration": 6,
    "start_time": "2024-09-28T19:32:32.431Z"
   },
   {
    "duration": 9,
    "start_time": "2024-09-28T19:32:32.438Z"
   },
   {
    "duration": 116,
    "start_time": "2024-09-28T19:32:32.449Z"
   },
   {
    "duration": 88,
    "start_time": "2024-09-28T19:32:32.567Z"
   },
   {
    "duration": 11,
    "start_time": "2024-09-28T19:32:32.657Z"
   },
   {
    "duration": 94,
    "start_time": "2024-09-28T19:32:32.670Z"
   },
   {
    "duration": 63,
    "start_time": "2024-09-28T19:32:32.766Z"
   },
   {
    "duration": 28,
    "start_time": "2024-09-28T19:32:32.830Z"
   },
   {
    "duration": 12,
    "start_time": "2024-09-28T19:32:32.860Z"
   },
   {
    "duration": 9,
    "start_time": "2024-09-28T19:32:32.874Z"
   },
   {
    "duration": 27,
    "start_time": "2024-09-28T19:32:32.884Z"
   },
   {
    "duration": 7,
    "start_time": "2024-09-28T19:32:32.913Z"
   },
   {
    "duration": 4,
    "start_time": "2024-09-28T19:32:32.925Z"
   },
   {
    "duration": 14,
    "start_time": "2024-09-28T19:32:32.931Z"
   },
   {
    "duration": 8,
    "start_time": "2024-09-28T19:32:32.946Z"
   },
   {
    "duration": 8,
    "start_time": "2024-09-28T19:32:32.956Z"
   },
   {
    "duration": 5,
    "start_time": "2024-09-28T19:32:32.966Z"
   },
   {
    "duration": 38,
    "start_time": "2024-09-28T19:32:32.972Z"
   },
   {
    "duration": 5,
    "start_time": "2024-09-28T19:32:33.011Z"
   },
   {
    "duration": 4,
    "start_time": "2024-09-28T19:32:33.017Z"
   },
   {
    "duration": 782,
    "start_time": "2024-09-28T19:32:33.022Z"
   },
   {
    "duration": 785,
    "start_time": "2024-09-28T19:32:33.809Z"
   },
   {
    "duration": 888,
    "start_time": "2024-09-28T19:32:34.597Z"
   },
   {
    "duration": 765,
    "start_time": "2024-09-28T19:32:35.487Z"
   },
   {
    "duration": 3,
    "start_time": "2024-09-28T19:32:36.254Z"
   },
   {
    "duration": 8,
    "start_time": "2024-09-28T19:32:36.259Z"
   },
   {
    "duration": 10,
    "start_time": "2024-09-28T19:32:36.269Z"
   },
   {
    "duration": 33,
    "start_time": "2024-09-28T19:32:36.280Z"
   },
   {
    "duration": 4,
    "start_time": "2024-09-28T19:32:36.315Z"
   },
   {
    "duration": 21,
    "start_time": "2024-09-28T19:32:36.320Z"
   },
   {
    "duration": 520,
    "start_time": "2024-09-28T19:32:36.343Z"
   },
   {
    "duration": 45,
    "start_time": "2024-09-28T19:32:36.864Z"
   },
   {
    "duration": 6,
    "start_time": "2024-09-28T19:32:36.912Z"
   },
   {
    "duration": 7,
    "start_time": "2024-09-28T19:32:36.919Z"
   },
   {
    "duration": 342,
    "start_time": "2024-09-28T19:32:36.927Z"
   },
   {
    "duration": 39,
    "start_time": "2024-09-28T19:32:37.271Z"
   },
   {
    "duration": 103,
    "start_time": "2024-09-28T19:32:37.312Z"
   },
   {
    "duration": 131,
    "start_time": "2024-09-28T19:32:37.418Z"
   },
   {
    "duration": 10,
    "start_time": "2024-09-28T19:32:37.550Z"
   },
   {
    "duration": 6,
    "start_time": "2024-09-28T19:32:37.562Z"
   },
   {
    "duration": 5,
    "start_time": "2024-09-28T19:32:37.570Z"
   },
   {
    "duration": 5,
    "start_time": "2024-09-28T19:32:37.576Z"
   },
   {
    "duration": 290,
    "start_time": "2024-09-28T19:32:37.582Z"
   },
   {
    "duration": 5,
    "start_time": "2024-09-28T19:32:37.874Z"
   },
   {
    "duration": 141,
    "start_time": "2024-09-28T19:32:37.881Z"
   },
   {
    "duration": 7,
    "start_time": "2024-09-28T19:32:38.024Z"
   },
   {
    "duration": 150,
    "start_time": "2024-09-28T19:32:38.032Z"
   },
   {
    "duration": 2,
    "start_time": "2024-09-28T19:32:38.184Z"
   },
   {
    "duration": 274,
    "start_time": "2024-09-28T19:32:38.189Z"
   },
   {
    "duration": 47,
    "start_time": "2024-09-28T19:32:38.465Z"
   },
   {
    "duration": 151,
    "start_time": "2024-09-28T19:32:38.514Z"
   },
   {
    "duration": 31,
    "start_time": "2024-09-28T19:32:38.667Z"
   },
   {
    "duration": 26,
    "start_time": "2024-09-28T19:32:38.709Z"
   },
   {
    "duration": 22,
    "start_time": "2024-09-28T19:32:38.737Z"
   },
   {
    "duration": 275,
    "start_time": "2024-09-28T19:32:38.761Z"
   },
   {
    "duration": 180,
    "start_time": "2024-09-28T19:32:39.038Z"
   },
   {
    "duration": 118,
    "start_time": "2024-09-28T19:32:39.220Z"
   },
   {
    "duration": 58,
    "start_time": "2024-09-28T19:32:39.340Z"
   },
   {
    "duration": 861,
    "start_time": "2024-09-28T19:32:39.408Z"
   },
   {
    "duration": 8,
    "start_time": "2024-09-28T19:32:40.271Z"
   },
   {
    "duration": 2,
    "start_time": "2024-09-29T08:45:24.366Z"
   },
   {
    "duration": 164,
    "start_time": "2024-09-29T08:45:27.332Z"
   },
   {
    "duration": 341,
    "start_time": "2024-09-29T08:46:01.838Z"
   },
   {
    "duration": 153,
    "start_time": "2024-09-29T08:46:02.182Z"
   },
   {
    "duration": 53,
    "start_time": "2024-09-29T08:46:02.337Z"
   },
   {
    "duration": 7,
    "start_time": "2024-09-29T08:46:02.393Z"
   },
   {
    "duration": 7,
    "start_time": "2024-09-29T08:46:02.402Z"
   },
   {
    "duration": 805,
    "start_time": "2024-09-29T08:46:02.411Z"
   },
   {
    "duration": 2,
    "start_time": "2024-09-29T08:46:03.218Z"
   },
   {
    "duration": 2,
    "start_time": "2024-09-29T08:46:03.230Z"
   },
   {
    "duration": 12,
    "start_time": "2024-09-29T08:46:03.234Z"
   },
   {
    "duration": 12,
    "start_time": "2024-09-29T08:46:03.249Z"
   },
   {
    "duration": 7,
    "start_time": "2024-09-29T08:46:03.263Z"
   },
   {
    "duration": 6,
    "start_time": "2024-09-29T08:46:03.272Z"
   },
   {
    "duration": 7,
    "start_time": "2024-09-29T08:46:03.280Z"
   },
   {
    "duration": 5,
    "start_time": "2024-09-29T08:46:03.289Z"
   },
   {
    "duration": 26,
    "start_time": "2024-09-29T08:46:03.331Z"
   },
   {
    "duration": 8,
    "start_time": "2024-09-29T08:46:03.359Z"
   },
   {
    "duration": 11,
    "start_time": "2024-09-29T08:46:03.368Z"
   },
   {
    "duration": 119,
    "start_time": "2024-09-29T08:46:03.380Z"
   },
   {
    "duration": 105,
    "start_time": "2024-09-29T08:46:03.500Z"
   },
   {
    "duration": 12,
    "start_time": "2024-09-29T08:46:03.606Z"
   },
   {
    "duration": 90,
    "start_time": "2024-09-29T08:46:03.620Z"
   },
   {
    "duration": 73,
    "start_time": "2024-09-29T08:46:03.712Z"
   },
   {
    "duration": 30,
    "start_time": "2024-09-29T08:46:03.786Z"
   },
   {
    "duration": 22,
    "start_time": "2024-09-29T08:46:03.818Z"
   },
   {
    "duration": 10,
    "start_time": "2024-09-29T08:46:03.842Z"
   },
   {
    "duration": 6,
    "start_time": "2024-09-29T08:46:03.854Z"
   },
   {
    "duration": 6,
    "start_time": "2024-09-29T08:46:03.862Z"
   },
   {
    "duration": 4,
    "start_time": "2024-09-29T08:46:03.874Z"
   },
   {
    "duration": 15,
    "start_time": "2024-09-29T08:46:03.879Z"
   },
   {
    "duration": 43,
    "start_time": "2024-09-29T08:46:03.895Z"
   },
   {
    "duration": 11,
    "start_time": "2024-09-29T08:46:03.942Z"
   },
   {
    "duration": 5,
    "start_time": "2024-09-29T08:46:03.954Z"
   },
   {
    "duration": 3,
    "start_time": "2024-09-29T08:46:03.961Z"
   },
   {
    "duration": 5,
    "start_time": "2024-09-29T08:46:03.966Z"
   },
   {
    "duration": 3,
    "start_time": "2024-09-29T08:46:03.972Z"
   },
   {
    "duration": 795,
    "start_time": "2024-09-29T08:46:03.977Z"
   },
   {
    "duration": 791,
    "start_time": "2024-09-29T08:46:04.775Z"
   },
   {
    "duration": 868,
    "start_time": "2024-09-29T08:46:05.568Z"
   },
   {
    "duration": 742,
    "start_time": "2024-09-29T08:46:06.438Z"
   },
   {
    "duration": 3,
    "start_time": "2024-09-29T08:46:07.182Z"
   },
   {
    "duration": 8,
    "start_time": "2024-09-29T08:46:07.187Z"
   },
   {
    "duration": 9,
    "start_time": "2024-09-29T08:46:07.197Z"
   },
   {
    "duration": 27,
    "start_time": "2024-09-29T08:46:07.208Z"
   },
   {
    "duration": 4,
    "start_time": "2024-09-29T08:46:07.236Z"
   },
   {
    "duration": 21,
    "start_time": "2024-09-29T08:46:07.242Z"
   },
   {
    "duration": 494,
    "start_time": "2024-09-29T08:46:07.265Z"
   },
   {
    "duration": 35,
    "start_time": "2024-09-29T08:46:07.761Z"
   },
   {
    "duration": 6,
    "start_time": "2024-09-29T08:46:07.798Z"
   },
   {
    "duration": 25,
    "start_time": "2024-09-29T08:46:07.806Z"
   },
   {
    "duration": 334,
    "start_time": "2024-09-29T08:46:07.834Z"
   },
   {
    "duration": 21,
    "start_time": "2024-09-29T08:46:08.170Z"
   },
   {
    "duration": 109,
    "start_time": "2024-09-29T08:46:08.193Z"
   },
   {
    "duration": 1832,
    "start_time": "2024-09-29T08:46:08.304Z"
   },
   {
    "duration": 12,
    "start_time": "2024-09-29T08:46:10.138Z"
   },
   {
    "duration": 5,
    "start_time": "2024-09-29T08:46:10.151Z"
   },
   {
    "duration": 6,
    "start_time": "2024-09-29T08:46:10.157Z"
   },
   {
    "duration": 5,
    "start_time": "2024-09-29T08:46:10.165Z"
   },
   {
    "duration": 250,
    "start_time": "2024-09-29T08:46:10.172Z"
   },
   {
    "duration": 10,
    "start_time": "2024-09-29T08:46:10.424Z"
   },
   {
    "duration": 134,
    "start_time": "2024-09-29T08:46:10.435Z"
   },
   {
    "duration": 7,
    "start_time": "2024-09-29T08:46:10.571Z"
   },
   {
    "duration": 181,
    "start_time": "2024-09-29T08:46:10.581Z"
   },
   {
    "duration": 2,
    "start_time": "2024-09-29T08:46:10.764Z"
   },
   {
    "duration": 247,
    "start_time": "2024-09-29T08:46:10.769Z"
   },
   {
    "duration": 49,
    "start_time": "2024-09-29T08:46:11.018Z"
   },
   {
    "duration": 146,
    "start_time": "2024-09-29T08:46:11.069Z"
   },
   {
    "duration": 2,
    "start_time": "2024-09-29T08:46:11.217Z"
   },
   {
    "duration": 439,
    "start_time": "2024-09-29T08:46:11.221Z"
   },
   {
    "duration": 0,
    "start_time": "2024-09-29T08:46:11.662Z"
   },
   {
    "duration": 0,
    "start_time": "2024-09-29T08:46:11.663Z"
   },
   {
    "duration": 0,
    "start_time": "2024-09-29T08:46:11.665Z"
   },
   {
    "duration": 0,
    "start_time": "2024-09-29T08:46:11.666Z"
   },
   {
    "duration": 0,
    "start_time": "2024-09-29T08:46:11.667Z"
   },
   {
    "duration": 0,
    "start_time": "2024-09-29T08:46:11.668Z"
   },
   {
    "duration": 0,
    "start_time": "2024-09-29T08:46:11.669Z"
   },
   {
    "duration": 158,
    "start_time": "2024-09-29T16:57:03.561Z"
   },
   {
    "duration": 284,
    "start_time": "2024-09-29T16:57:17.132Z"
   },
   {
    "duration": 1001,
    "start_time": "2024-09-29T16:57:18.731Z"
   },
   {
    "duration": 2,
    "start_time": "2024-09-29T16:58:15.350Z"
   },
   {
    "duration": 887,
    "start_time": "2024-09-29T16:58:16.060Z"
   },
   {
    "duration": 5,
    "start_time": "2024-09-29T17:06:14.648Z"
   },
   {
    "duration": 3,
    "start_time": "2024-09-29T17:06:49.000Z"
   },
   {
    "duration": 3,
    "start_time": "2024-09-29T17:07:15.566Z"
   },
   {
    "duration": 5,
    "start_time": "2024-09-29T17:10:34.825Z"
   },
   {
    "duration": 3,
    "start_time": "2024-09-29T17:16:37.814Z"
   },
   {
    "duration": 3,
    "start_time": "2024-09-29T17:16:48.886Z"
   },
   {
    "duration": 4,
    "start_time": "2024-09-29T17:20:02.602Z"
   },
   {
    "duration": 3,
    "start_time": "2024-09-29T17:20:40.338Z"
   },
   {
    "duration": 4,
    "start_time": "2024-09-29T17:22:02.380Z"
   },
   {
    "duration": 4,
    "start_time": "2024-09-29T17:22:26.040Z"
   },
   {
    "duration": 4,
    "start_time": "2024-09-29T17:23:24.308Z"
   },
   {
    "duration": 279,
    "start_time": "2024-09-29T18:05:58.335Z"
   },
   {
    "duration": 869,
    "start_time": "2024-09-29T18:05:58.616Z"
   },
   {
    "duration": 3,
    "start_time": "2024-09-29T18:05:59.487Z"
   },
   {
    "duration": 11,
    "start_time": "2024-09-29T18:05:59.493Z"
   },
   {
    "duration": 12,
    "start_time": "2024-09-29T18:05:59.505Z"
   },
   {
    "duration": 7,
    "start_time": "2024-09-29T18:05:59.519Z"
   },
   {
    "duration": 6,
    "start_time": "2024-09-29T18:05:59.528Z"
   },
   {
    "duration": 41,
    "start_time": "2024-09-29T18:05:59.535Z"
   },
   {
    "duration": 6,
    "start_time": "2024-09-29T18:05:59.577Z"
   },
   {
    "duration": 22,
    "start_time": "2024-09-29T18:05:59.586Z"
   },
   {
    "duration": 7,
    "start_time": "2024-09-29T18:05:59.609Z"
   },
   {
    "duration": 9,
    "start_time": "2024-09-29T18:05:59.618Z"
   },
   {
    "duration": 130,
    "start_time": "2024-09-29T18:05:59.629Z"
   },
   {
    "duration": 94,
    "start_time": "2024-09-29T18:05:59.760Z"
   },
   {
    "duration": 19,
    "start_time": "2024-09-29T18:05:59.856Z"
   },
   {
    "duration": 95,
    "start_time": "2024-09-29T18:05:59.877Z"
   },
   {
    "duration": 56,
    "start_time": "2024-09-29T18:05:59.974Z"
   },
   {
    "duration": 40,
    "start_time": "2024-09-29T18:06:00.032Z"
   },
   {
    "duration": 13,
    "start_time": "2024-09-29T18:06:00.074Z"
   },
   {
    "duration": 9,
    "start_time": "2024-09-29T18:06:00.088Z"
   },
   {
    "duration": 6,
    "start_time": "2024-09-29T18:06:00.100Z"
   },
   {
    "duration": 6,
    "start_time": "2024-09-29T18:06:00.107Z"
   },
   {
    "duration": 4,
    "start_time": "2024-09-29T18:06:00.114Z"
   },
   {
    "duration": 2,
    "start_time": "2024-09-29T18:06:00.120Z"
   },
   {
    "duration": 7,
    "start_time": "2024-09-29T18:06:00.124Z"
   },
   {
    "duration": 44,
    "start_time": "2024-09-29T18:06:00.132Z"
   },
   {
    "duration": 5,
    "start_time": "2024-09-29T18:06:00.178Z"
   },
   {
    "duration": 3,
    "start_time": "2024-09-29T18:06:00.188Z"
   },
   {
    "duration": 5,
    "start_time": "2024-09-29T18:06:00.192Z"
   },
   {
    "duration": 3,
    "start_time": "2024-09-29T18:06:00.198Z"
   },
   {
    "duration": 795,
    "start_time": "2024-09-29T18:06:00.203Z"
   },
   {
    "duration": 792,
    "start_time": "2024-09-29T18:06:01.000Z"
   },
   {
    "duration": 831,
    "start_time": "2024-09-29T18:06:01.794Z"
   },
   {
    "duration": 752,
    "start_time": "2024-09-29T18:06:02.627Z"
   },
   {
    "duration": 2,
    "start_time": "2024-09-29T18:06:03.381Z"
   },
   {
    "duration": 9,
    "start_time": "2024-09-29T18:06:03.385Z"
   },
   {
    "duration": 13,
    "start_time": "2024-09-29T18:06:03.395Z"
   },
   {
    "duration": 14,
    "start_time": "2024-09-29T18:06:03.411Z"
   },
   {
    "duration": 5,
    "start_time": "2024-09-29T18:06:03.429Z"
   },
   {
    "duration": 45,
    "start_time": "2024-09-29T18:06:03.435Z"
   },
   {
    "duration": 489,
    "start_time": "2024-09-29T18:06:03.482Z"
   },
   {
    "duration": 35,
    "start_time": "2024-09-29T18:06:03.973Z"
   },
   {
    "duration": 6,
    "start_time": "2024-09-29T18:06:04.010Z"
   },
   {
    "duration": 6,
    "start_time": "2024-09-29T18:06:04.018Z"
   },
   {
    "duration": 322,
    "start_time": "2024-09-29T18:06:04.026Z"
   },
   {
    "duration": 30,
    "start_time": "2024-09-29T18:06:04.349Z"
   },
   {
    "duration": 100,
    "start_time": "2024-09-29T18:06:04.381Z"
   },
   {
    "duration": 1875,
    "start_time": "2024-09-29T18:06:04.482Z"
   },
   {
    "duration": 15,
    "start_time": "2024-09-29T18:06:06.359Z"
   },
   {
    "duration": 5,
    "start_time": "2024-09-29T18:06:06.376Z"
   },
   {
    "duration": 6,
    "start_time": "2024-09-29T18:06:06.382Z"
   },
   {
    "duration": 5,
    "start_time": "2024-09-29T18:06:06.389Z"
   },
   {
    "duration": 254,
    "start_time": "2024-09-29T18:06:06.396Z"
   },
   {
    "duration": 6,
    "start_time": "2024-09-29T18:06:06.652Z"
   },
   {
    "duration": 143,
    "start_time": "2024-09-29T18:06:06.659Z"
   },
   {
    "duration": 7,
    "start_time": "2024-09-29T18:06:06.804Z"
   },
   {
    "duration": 151,
    "start_time": "2024-09-29T18:06:06.813Z"
   },
   {
    "duration": 6,
    "start_time": "2024-09-29T18:06:06.966Z"
   },
   {
    "duration": 261,
    "start_time": "2024-09-29T18:06:06.973Z"
   },
   {
    "duration": 47,
    "start_time": "2024-09-29T18:06:07.236Z"
   },
   {
    "duration": 145,
    "start_time": "2024-09-29T18:06:07.284Z"
   },
   {
    "duration": 2,
    "start_time": "2024-09-29T18:06:07.431Z"
   },
   {
    "duration": 445,
    "start_time": "2024-09-29T18:06:07.435Z"
   },
   {
    "duration": 0,
    "start_time": "2024-09-29T18:06:07.882Z"
   },
   {
    "duration": 0,
    "start_time": "2024-09-29T18:06:07.883Z"
   },
   {
    "duration": 0,
    "start_time": "2024-09-29T18:06:07.885Z"
   },
   {
    "duration": 0,
    "start_time": "2024-09-29T18:06:07.886Z"
   },
   {
    "duration": 0,
    "start_time": "2024-09-29T18:06:07.888Z"
   },
   {
    "duration": 0,
    "start_time": "2024-09-29T18:06:07.889Z"
   },
   {
    "duration": 0,
    "start_time": "2024-09-29T18:06:07.891Z"
   },
   {
    "duration": 41,
    "start_time": "2024-09-29T18:19:11.494Z"
   },
   {
    "duration": 13,
    "start_time": "2024-09-29T18:19:53.666Z"
   },
   {
    "duration": 4,
    "start_time": "2024-09-29T18:21:33.309Z"
   },
   {
    "duration": 283,
    "start_time": "2024-09-29T18:39:27.007Z"
   },
   {
    "duration": 108,
    "start_time": "2024-09-29T19:01:33.359Z"
   },
   {
    "duration": 4,
    "start_time": "2024-09-29T19:02:25.706Z"
   },
   {
    "duration": 3,
    "start_time": "2024-09-29T19:03:46.209Z"
   },
   {
    "duration": 13,
    "start_time": "2024-09-29T19:04:43.782Z"
   },
   {
    "duration": 286,
    "start_time": "2024-09-29T19:06:14.733Z"
   },
   {
    "duration": 871,
    "start_time": "2024-09-29T19:06:15.022Z"
   },
   {
    "duration": 2,
    "start_time": "2024-09-29T19:06:15.895Z"
   },
   {
    "duration": 12,
    "start_time": "2024-09-29T19:06:15.899Z"
   },
   {
    "duration": 10,
    "start_time": "2024-09-29T19:06:15.913Z"
   },
   {
    "duration": 7,
    "start_time": "2024-09-29T19:06:15.925Z"
   },
   {
    "duration": 7,
    "start_time": "2024-09-29T19:06:15.934Z"
   },
   {
    "duration": 12,
    "start_time": "2024-09-29T19:06:15.970Z"
   },
   {
    "duration": 7,
    "start_time": "2024-09-29T19:06:15.984Z"
   },
   {
    "duration": 33,
    "start_time": "2024-09-29T19:06:15.993Z"
   },
   {
    "duration": 7,
    "start_time": "2024-09-29T19:06:16.028Z"
   },
   {
    "duration": 9,
    "start_time": "2024-09-29T19:06:16.038Z"
   },
   {
    "duration": 102,
    "start_time": "2024-09-29T19:06:16.070Z"
   },
   {
    "duration": 85,
    "start_time": "2024-09-29T19:06:16.175Z"
   },
   {
    "duration": 11,
    "start_time": "2024-09-29T19:06:16.270Z"
   },
   {
    "duration": 106,
    "start_time": "2024-09-29T19:06:16.283Z"
   },
   {
    "duration": 54,
    "start_time": "2024-09-29T19:06:16.390Z"
   },
   {
    "duration": 39,
    "start_time": "2024-09-29T19:06:16.446Z"
   },
   {
    "duration": 15,
    "start_time": "2024-09-29T19:06:16.487Z"
   },
   {
    "duration": 9,
    "start_time": "2024-09-29T19:06:16.504Z"
   },
   {
    "duration": 6,
    "start_time": "2024-09-29T19:06:16.515Z"
   },
   {
    "duration": 8,
    "start_time": "2024-09-29T19:06:16.523Z"
   },
   {
    "duration": 5,
    "start_time": "2024-09-29T19:06:16.532Z"
   },
   {
    "duration": 32,
    "start_time": "2024-09-29T19:06:16.539Z"
   },
   {
    "duration": 8,
    "start_time": "2024-09-29T19:06:16.573Z"
   },
   {
    "duration": 8,
    "start_time": "2024-09-29T19:06:16.583Z"
   },
   {
    "duration": 9,
    "start_time": "2024-09-29T19:06:16.592Z"
   },
   {
    "duration": 3,
    "start_time": "2024-09-29T19:06:16.603Z"
   },
   {
    "duration": 4,
    "start_time": "2024-09-29T19:06:16.609Z"
   },
   {
    "duration": 3,
    "start_time": "2024-09-29T19:06:16.615Z"
   },
   {
    "duration": 4,
    "start_time": "2024-09-29T19:06:16.620Z"
   },
   {
    "duration": 45,
    "start_time": "2024-09-29T19:06:16.625Z"
   },
   {
    "duration": 809,
    "start_time": "2024-09-29T19:06:16.671Z"
   },
   {
    "duration": 761,
    "start_time": "2024-09-29T19:06:17.481Z"
   },
   {
    "duration": 834,
    "start_time": "2024-09-29T19:06:18.244Z"
   },
   {
    "duration": 758,
    "start_time": "2024-09-29T19:06:19.080Z"
   },
   {
    "duration": 10,
    "start_time": "2024-09-29T19:06:19.840Z"
   },
   {
    "duration": 19,
    "start_time": "2024-09-29T19:06:19.852Z"
   },
   {
    "duration": 12,
    "start_time": "2024-09-29T19:06:19.874Z"
   },
   {
    "duration": 5,
    "start_time": "2024-09-29T19:06:19.888Z"
   },
   {
    "duration": 24,
    "start_time": "2024-09-29T19:06:19.898Z"
   },
   {
    "duration": 511,
    "start_time": "2024-09-29T19:06:19.924Z"
   },
   {
    "duration": 42,
    "start_time": "2024-09-29T19:06:20.437Z"
   },
   {
    "duration": 6,
    "start_time": "2024-09-29T19:06:20.481Z"
   },
   {
    "duration": 7,
    "start_time": "2024-09-29T19:06:20.488Z"
   },
   {
    "duration": 318,
    "start_time": "2024-09-29T19:06:20.496Z"
   },
   {
    "duration": 22,
    "start_time": "2024-09-29T19:06:20.815Z"
   },
   {
    "duration": 132,
    "start_time": "2024-09-29T19:06:20.839Z"
   },
   {
    "duration": 131,
    "start_time": "2024-09-29T19:06:20.972Z"
   },
   {
    "duration": 10,
    "start_time": "2024-09-29T19:06:21.105Z"
   },
   {
    "duration": 5,
    "start_time": "2024-09-29T19:06:21.117Z"
   },
   {
    "duration": 4,
    "start_time": "2024-09-29T19:06:21.124Z"
   },
   {
    "duration": 5,
    "start_time": "2024-09-29T19:06:21.130Z"
   },
   {
    "duration": 273,
    "start_time": "2024-09-29T19:06:21.137Z"
   },
   {
    "duration": 5,
    "start_time": "2024-09-29T19:06:21.411Z"
   },
   {
    "duration": 137,
    "start_time": "2024-09-29T19:06:21.418Z"
   },
   {
    "duration": 13,
    "start_time": "2024-09-29T19:06:21.557Z"
   },
   {
    "duration": 152,
    "start_time": "2024-09-29T19:06:21.573Z"
   },
   {
    "duration": 2,
    "start_time": "2024-09-29T19:06:21.727Z"
   },
   {
    "duration": 259,
    "start_time": "2024-09-29T19:06:21.731Z"
   },
   {
    "duration": 38,
    "start_time": "2024-09-29T19:06:21.993Z"
   },
   {
    "duration": 150,
    "start_time": "2024-09-29T19:06:22.032Z"
   },
   {
    "duration": 3,
    "start_time": "2024-09-29T19:06:22.185Z"
   },
   {
    "duration": 493,
    "start_time": "2024-09-29T19:06:22.190Z"
   },
   {
    "duration": 0,
    "start_time": "2024-09-29T19:06:22.685Z"
   },
   {
    "duration": 0,
    "start_time": "2024-09-29T19:06:22.687Z"
   },
   {
    "duration": 0,
    "start_time": "2024-09-29T19:06:22.687Z"
   },
   {
    "duration": 0,
    "start_time": "2024-09-29T19:06:22.688Z"
   },
   {
    "duration": 0,
    "start_time": "2024-09-29T19:06:22.689Z"
   },
   {
    "duration": 0,
    "start_time": "2024-09-29T19:06:22.690Z"
   },
   {
    "duration": 0,
    "start_time": "2024-09-29T19:06:22.691Z"
   },
   {
    "duration": 0,
    "start_time": "2024-09-29T19:06:22.693Z"
   },
   {
    "duration": 282,
    "start_time": "2024-09-29T19:08:09.941Z"
   },
   {
    "duration": 879,
    "start_time": "2024-09-29T19:08:10.225Z"
   },
   {
    "duration": 2,
    "start_time": "2024-09-29T19:08:11.106Z"
   },
   {
    "duration": 11,
    "start_time": "2024-09-29T19:08:11.110Z"
   },
   {
    "duration": 11,
    "start_time": "2024-09-29T19:08:11.124Z"
   },
   {
    "duration": 8,
    "start_time": "2024-09-29T19:08:11.136Z"
   },
   {
    "duration": 28,
    "start_time": "2024-09-29T19:08:11.146Z"
   },
   {
    "duration": 7,
    "start_time": "2024-09-29T19:08:11.175Z"
   },
   {
    "duration": 5,
    "start_time": "2024-09-29T19:08:11.184Z"
   },
   {
    "duration": 24,
    "start_time": "2024-09-29T19:08:11.190Z"
   },
   {
    "duration": 6,
    "start_time": "2024-09-29T19:08:11.216Z"
   },
   {
    "duration": 9,
    "start_time": "2024-09-29T19:08:11.224Z"
   },
   {
    "duration": 136,
    "start_time": "2024-09-29T19:08:11.234Z"
   },
   {
    "duration": 104,
    "start_time": "2024-09-29T19:08:11.375Z"
   },
   {
    "duration": 12,
    "start_time": "2024-09-29T19:08:11.480Z"
   },
   {
    "duration": 108,
    "start_time": "2024-09-29T19:08:11.494Z"
   },
   {
    "duration": 72,
    "start_time": "2024-09-29T19:08:11.604Z"
   },
   {
    "duration": 29,
    "start_time": "2024-09-29T19:08:11.678Z"
   },
   {
    "duration": 13,
    "start_time": "2024-09-29T19:08:11.708Z"
   },
   {
    "duration": 8,
    "start_time": "2024-09-29T19:08:11.723Z"
   },
   {
    "duration": 6,
    "start_time": "2024-09-29T19:08:11.733Z"
   },
   {
    "duration": 30,
    "start_time": "2024-09-29T19:08:11.741Z"
   },
   {
    "duration": 3,
    "start_time": "2024-09-29T19:08:11.773Z"
   },
   {
    "duration": 2,
    "start_time": "2024-09-29T19:08:11.778Z"
   },
   {
    "duration": 6,
    "start_time": "2024-09-29T19:08:11.782Z"
   },
   {
    "duration": 7,
    "start_time": "2024-09-29T19:08:11.791Z"
   },
   {
    "duration": 9,
    "start_time": "2024-09-29T19:08:11.799Z"
   },
   {
    "duration": 4,
    "start_time": "2024-09-29T19:08:11.810Z"
   },
   {
    "duration": 4,
    "start_time": "2024-09-29T19:08:11.815Z"
   },
   {
    "duration": 3,
    "start_time": "2024-09-29T19:08:11.821Z"
   },
   {
    "duration": 4,
    "start_time": "2024-09-29T19:08:11.871Z"
   },
   {
    "duration": 3,
    "start_time": "2024-09-29T19:08:11.877Z"
   },
   {
    "duration": 788,
    "start_time": "2024-09-29T19:08:11.882Z"
   },
   {
    "duration": 784,
    "start_time": "2024-09-29T19:08:12.672Z"
   },
   {
    "duration": 860,
    "start_time": "2024-09-29T19:08:13.458Z"
   },
   {
    "duration": 778,
    "start_time": "2024-09-29T19:08:14.319Z"
   },
   {
    "duration": 7,
    "start_time": "2024-09-29T19:08:15.101Z"
   },
   {
    "duration": 9,
    "start_time": "2024-09-29T19:08:15.110Z"
   },
   {
    "duration": 10,
    "start_time": "2024-09-29T19:08:15.121Z"
   },
   {
    "duration": 5,
    "start_time": "2024-09-29T19:08:15.133Z"
   },
   {
    "duration": 21,
    "start_time": "2024-09-29T19:08:15.171Z"
   },
   {
    "duration": 498,
    "start_time": "2024-09-29T19:08:15.193Z"
   },
   {
    "duration": 36,
    "start_time": "2024-09-29T19:08:15.693Z"
   },
   {
    "duration": 6,
    "start_time": "2024-09-29T19:08:15.731Z"
   },
   {
    "duration": 6,
    "start_time": "2024-09-29T19:08:15.739Z"
   },
   {
    "duration": 332,
    "start_time": "2024-09-29T19:08:15.748Z"
   },
   {
    "duration": 21,
    "start_time": "2024-09-29T19:08:16.082Z"
   },
   {
    "duration": 134,
    "start_time": "2024-09-29T19:08:16.105Z"
   },
   {
    "duration": 141,
    "start_time": "2024-09-29T19:08:16.240Z"
   },
   {
    "duration": 10,
    "start_time": "2024-09-29T19:08:16.382Z"
   },
   {
    "duration": 5,
    "start_time": "2024-09-29T19:08:16.394Z"
   },
   {
    "duration": 5,
    "start_time": "2024-09-29T19:08:16.400Z"
   },
   {
    "duration": 7,
    "start_time": "2024-09-29T19:08:16.408Z"
   },
   {
    "duration": 293,
    "start_time": "2024-09-29T19:08:16.417Z"
   },
   {
    "duration": 5,
    "start_time": "2024-09-29T19:08:16.712Z"
   },
   {
    "duration": 143,
    "start_time": "2024-09-29T19:08:16.719Z"
   },
   {
    "duration": 18,
    "start_time": "2024-09-29T19:08:16.864Z"
   },
   {
    "duration": 142,
    "start_time": "2024-09-29T19:08:16.886Z"
   },
   {
    "duration": 2,
    "start_time": "2024-09-29T19:08:17.030Z"
   },
   {
    "duration": 267,
    "start_time": "2024-09-29T19:08:17.033Z"
   },
   {
    "duration": 38,
    "start_time": "2024-09-29T19:08:17.302Z"
   },
   {
    "duration": 157,
    "start_time": "2024-09-29T19:08:17.342Z"
   },
   {
    "duration": 4,
    "start_time": "2024-09-29T19:08:17.501Z"
   },
   {
    "duration": 447,
    "start_time": "2024-09-29T19:08:17.506Z"
   },
   {
    "duration": 0,
    "start_time": "2024-09-29T19:08:17.955Z"
   },
   {
    "duration": 0,
    "start_time": "2024-09-29T19:08:17.956Z"
   },
   {
    "duration": 0,
    "start_time": "2024-09-29T19:08:17.957Z"
   },
   {
    "duration": 0,
    "start_time": "2024-09-29T19:08:17.958Z"
   },
   {
    "duration": 0,
    "start_time": "2024-09-29T19:08:17.960Z"
   },
   {
    "duration": 8,
    "start_time": "2024-09-29T19:08:17.961Z"
   },
   {
    "duration": 0,
    "start_time": "2024-09-29T19:08:17.970Z"
   },
   {
    "duration": 14,
    "start_time": "2024-09-29T19:09:33.758Z"
   },
   {
    "duration": 10,
    "start_time": "2024-09-29T19:10:38.424Z"
   },
   {
    "duration": 4,
    "start_time": "2024-09-29T19:11:06.091Z"
   },
   {
    "duration": 5,
    "start_time": "2024-09-29T19:14:31.142Z"
   },
   {
    "duration": 198,
    "start_time": "2024-09-29T19:15:35.786Z"
   },
   {
    "duration": 99,
    "start_time": "2024-09-29T19:16:41.723Z"
   },
   {
    "duration": 38,
    "start_time": "2024-09-29T19:16:49.090Z"
   },
   {
    "duration": 4,
    "start_time": "2024-09-29T19:17:50.721Z"
   },
   {
    "duration": 5,
    "start_time": "2024-09-29T19:18:44.165Z"
   },
   {
    "duration": 41,
    "start_time": "2024-09-29T19:20:07.820Z"
   },
   {
    "duration": 5,
    "start_time": "2024-09-29T19:20:38.232Z"
   },
   {
    "duration": 12,
    "start_time": "2024-09-29T19:20:39.951Z"
   },
   {
    "duration": 39,
    "start_time": "2024-09-29T19:22:18.405Z"
   },
   {
    "duration": 6,
    "start_time": "2024-09-29T19:25:57.693Z"
   },
   {
    "duration": 6,
    "start_time": "2024-09-29T19:25:58.823Z"
   },
   {
    "duration": 13,
    "start_time": "2024-09-29T19:27:12.888Z"
   },
   {
    "duration": 13,
    "start_time": "2024-09-29T19:28:00.920Z"
   },
   {
    "duration": 5,
    "start_time": "2024-09-29T19:36:39.073Z"
   },
   {
    "duration": 851,
    "start_time": "2024-09-29T19:37:41.702Z"
   },
   {
    "duration": 10,
    "start_time": "2024-09-29T19:38:11.341Z"
   },
   {
    "duration": 8,
    "start_time": "2024-09-29T19:40:04.307Z"
   },
   {
    "duration": 13,
    "start_time": "2024-09-29T19:40:23.946Z"
   },
   {
    "duration": 15,
    "start_time": "2024-09-29T19:40:28.504Z"
   },
   {
    "duration": 10,
    "start_time": "2024-09-29T19:40:39.433Z"
   },
   {
    "duration": 7,
    "start_time": "2024-09-29T19:41:02.594Z"
   },
   {
    "duration": 7,
    "start_time": "2024-09-29T19:41:26.234Z"
   },
   {
    "duration": 4,
    "start_time": "2024-09-29T19:41:30.595Z"
   },
   {
    "duration": 2,
    "start_time": "2024-09-29T19:41:42.039Z"
   },
   {
    "duration": 7,
    "start_time": "2024-09-29T19:41:49.204Z"
   },
   {
    "duration": 8,
    "start_time": "2024-09-29T19:41:52.296Z"
   },
   {
    "duration": 10,
    "start_time": "2024-09-29T19:42:09.996Z"
   },
   {
    "duration": 5,
    "start_time": "2024-09-29T19:42:12.164Z"
   },
   {
    "duration": 5,
    "start_time": "2024-09-29T19:42:34.880Z"
   },
   {
    "duration": 3,
    "start_time": "2024-09-29T19:42:35.658Z"
   },
   {
    "duration": 5,
    "start_time": "2024-09-29T19:42:40.842Z"
   },
   {
    "duration": 4,
    "start_time": "2024-09-29T19:42:41.696Z"
   },
   {
    "duration": 730,
    "start_time": "2024-09-29T19:42:43.155Z"
   },
   {
    "duration": 722,
    "start_time": "2024-09-29T19:42:43.993Z"
   },
   {
    "duration": 811,
    "start_time": "2024-09-29T19:42:50.770Z"
   },
   {
    "duration": 731,
    "start_time": "2024-09-29T19:42:51.584Z"
   },
   {
    "duration": 9,
    "start_time": "2024-09-29T19:42:59.837Z"
   },
   {
    "duration": 10,
    "start_time": "2024-09-29T19:43:05.841Z"
   },
   {
    "duration": 13,
    "start_time": "2024-09-29T19:43:12.471Z"
   },
   {
    "duration": 5,
    "start_time": "2024-09-29T19:43:15.877Z"
   },
   {
    "duration": 2,
    "start_time": "2024-09-29T19:43:39.400Z"
   },
   {
    "duration": 5,
    "start_time": "2024-09-29T19:43:40.221Z"
   },
   {
    "duration": 5,
    "start_time": "2024-09-29T19:44:44.485Z"
   },
   {
    "duration": 5,
    "start_time": "2024-09-29T19:47:09.169Z"
   },
   {
    "duration": 11,
    "start_time": "2024-09-29T19:47:48.687Z"
   },
   {
    "duration": 6,
    "start_time": "2024-09-29T19:48:11.088Z"
   },
   {
    "duration": 4,
    "start_time": "2024-09-29T19:48:59.072Z"
   },
   {
    "duration": 4,
    "start_time": "2024-09-29T19:49:49.094Z"
   },
   {
    "duration": 5,
    "start_time": "2024-09-29T19:55:14.407Z"
   },
   {
    "duration": 7,
    "start_time": "2024-09-29T19:55:31.019Z"
   },
   {
    "duration": 5,
    "start_time": "2024-09-29T19:56:29.076Z"
   },
   {
    "duration": 5,
    "start_time": "2024-09-29T19:57:55.551Z"
   },
   {
    "duration": 287,
    "start_time": "2024-09-29T19:58:56.943Z"
   },
   {
    "duration": 876,
    "start_time": "2024-09-29T19:58:57.232Z"
   },
   {
    "duration": 5,
    "start_time": "2024-09-29T19:58:58.109Z"
   },
   {
    "duration": 10,
    "start_time": "2024-09-29T19:58:58.117Z"
   },
   {
    "duration": 10,
    "start_time": "2024-09-29T19:58:58.129Z"
   },
   {
    "duration": 29,
    "start_time": "2024-09-29T19:58:58.141Z"
   },
   {
    "duration": 5,
    "start_time": "2024-09-29T19:58:58.172Z"
   },
   {
    "duration": 8,
    "start_time": "2024-09-29T19:58:58.179Z"
   },
   {
    "duration": 6,
    "start_time": "2024-09-29T19:58:58.188Z"
   },
   {
    "duration": 22,
    "start_time": "2024-09-29T19:58:58.197Z"
   },
   {
    "duration": 6,
    "start_time": "2024-09-29T19:58:58.221Z"
   },
   {
    "duration": 42,
    "start_time": "2024-09-29T19:58:58.229Z"
   },
   {
    "duration": 103,
    "start_time": "2024-09-29T19:58:58.273Z"
   },
   {
    "duration": 93,
    "start_time": "2024-09-29T19:58:58.378Z"
   },
   {
    "duration": 11,
    "start_time": "2024-09-29T19:58:58.472Z"
   },
   {
    "duration": 96,
    "start_time": "2024-09-29T19:58:58.484Z"
   },
   {
    "duration": 53,
    "start_time": "2024-09-29T19:58:58.581Z"
   },
   {
    "duration": 41,
    "start_time": "2024-09-29T19:58:58.635Z"
   },
   {
    "duration": 14,
    "start_time": "2024-09-29T19:58:58.678Z"
   },
   {
    "duration": 12,
    "start_time": "2024-09-29T19:58:58.694Z"
   },
   {
    "duration": 10,
    "start_time": "2024-09-29T19:58:58.709Z"
   },
   {
    "duration": 6,
    "start_time": "2024-09-29T19:58:58.721Z"
   },
   {
    "duration": 6,
    "start_time": "2024-09-29T19:58:58.729Z"
   },
   {
    "duration": 4,
    "start_time": "2024-09-29T19:58:58.736Z"
   },
   {
    "duration": 30,
    "start_time": "2024-09-29T19:58:58.741Z"
   },
   {
    "duration": 7,
    "start_time": "2024-09-29T19:58:58.773Z"
   },
   {
    "duration": 8,
    "start_time": "2024-09-29T19:58:58.782Z"
   },
   {
    "duration": 8,
    "start_time": "2024-09-29T19:58:58.796Z"
   },
   {
    "duration": 9,
    "start_time": "2024-09-29T19:58:58.805Z"
   },
   {
    "duration": 3,
    "start_time": "2024-09-29T19:58:58.816Z"
   },
   {
    "duration": 4,
    "start_time": "2024-09-29T19:58:58.821Z"
   },
   {
    "duration": 46,
    "start_time": "2024-09-29T19:58:58.827Z"
   },
   {
    "duration": 5,
    "start_time": "2024-09-29T19:58:58.874Z"
   },
   {
    "duration": 3,
    "start_time": "2024-09-29T19:58:58.880Z"
   },
   {
    "duration": 763,
    "start_time": "2024-09-29T19:58:58.885Z"
   },
   {
    "duration": 775,
    "start_time": "2024-09-29T19:58:59.650Z"
   },
   {
    "duration": 839,
    "start_time": "2024-09-29T19:59:00.427Z"
   },
   {
    "duration": 827,
    "start_time": "2024-09-29T19:59:01.269Z"
   },
   {
    "duration": 9,
    "start_time": "2024-09-29T19:59:02.098Z"
   },
   {
    "duration": 9,
    "start_time": "2024-09-29T19:59:02.109Z"
   },
   {
    "duration": 9,
    "start_time": "2024-09-29T19:59:02.119Z"
   },
   {
    "duration": 11,
    "start_time": "2024-09-29T19:59:02.130Z"
   },
   {
    "duration": 30,
    "start_time": "2024-09-29T19:59:02.143Z"
   },
   {
    "duration": 5,
    "start_time": "2024-09-29T19:59:02.174Z"
   },
   {
    "duration": 21,
    "start_time": "2024-09-29T19:59:02.180Z"
   },
   {
    "duration": 518,
    "start_time": "2024-09-29T19:59:02.203Z"
   },
   {
    "duration": 48,
    "start_time": "2024-09-29T19:59:02.723Z"
   },
   {
    "duration": 6,
    "start_time": "2024-09-29T19:59:02.772Z"
   },
   {
    "duration": 6,
    "start_time": "2024-09-29T19:59:02.780Z"
   },
   {
    "duration": 330,
    "start_time": "2024-09-29T19:59:02.788Z"
   },
   {
    "duration": 22,
    "start_time": "2024-09-29T19:59:03.120Z"
   },
   {
    "duration": 134,
    "start_time": "2024-09-29T19:59:03.144Z"
   },
   {
    "duration": 125,
    "start_time": "2024-09-29T19:59:03.280Z"
   },
   {
    "duration": 11,
    "start_time": "2024-09-29T19:59:03.407Z"
   },
   {
    "duration": 5,
    "start_time": "2024-09-29T19:59:03.420Z"
   },
   {
    "duration": 6,
    "start_time": "2024-09-29T19:59:03.426Z"
   },
   {
    "duration": 5,
    "start_time": "2024-09-29T19:59:03.433Z"
   },
   {
    "duration": 283,
    "start_time": "2024-09-29T19:59:03.440Z"
   },
   {
    "duration": 6,
    "start_time": "2024-09-29T19:59:03.725Z"
   },
   {
    "duration": 140,
    "start_time": "2024-09-29T19:59:03.732Z"
   },
   {
    "duration": 7,
    "start_time": "2024-09-29T19:59:03.873Z"
   },
   {
    "duration": 147,
    "start_time": "2024-09-29T19:59:03.882Z"
   },
   {
    "duration": 4,
    "start_time": "2024-09-29T19:59:04.030Z"
   },
   {
    "duration": 268,
    "start_time": "2024-09-29T19:59:04.035Z"
   },
   {
    "duration": 38,
    "start_time": "2024-09-29T19:59:04.305Z"
   },
   {
    "duration": 166,
    "start_time": "2024-09-29T19:59:04.345Z"
   },
   {
    "duration": 5,
    "start_time": "2024-09-29T19:59:04.512Z"
   },
   {
    "duration": 4,
    "start_time": "2024-09-29T19:59:04.519Z"
   },
   {
    "duration": 448,
    "start_time": "2024-09-29T19:59:04.524Z"
   },
   {
    "duration": 0,
    "start_time": "2024-09-29T19:59:04.973Z"
   },
   {
    "duration": 0,
    "start_time": "2024-09-29T19:59:04.974Z"
   },
   {
    "duration": 0,
    "start_time": "2024-09-29T19:59:04.976Z"
   },
   {
    "duration": 0,
    "start_time": "2024-09-29T19:59:04.977Z"
   },
   {
    "duration": 0,
    "start_time": "2024-09-29T19:59:04.978Z"
   },
   {
    "duration": 0,
    "start_time": "2024-09-29T19:59:04.979Z"
   },
   {
    "duration": 0,
    "start_time": "2024-09-29T19:59:04.980Z"
   },
   {
    "duration": 844,
    "start_time": "2024-09-29T20:07:59.730Z"
   },
   {
    "duration": 5,
    "start_time": "2024-09-29T20:08:00.576Z"
   },
   {
    "duration": 153,
    "start_time": "2024-10-01T18:47:13.678Z"
   },
   {
    "duration": 306,
    "start_time": "2024-10-01T18:47:42.477Z"
   },
   {
    "duration": 1037,
    "start_time": "2024-10-01T18:47:42.785Z"
   },
   {
    "duration": 7,
    "start_time": "2024-10-01T18:47:43.823Z"
   },
   {
    "duration": 2,
    "start_time": "2024-10-01T18:47:43.843Z"
   },
   {
    "duration": 10,
    "start_time": "2024-10-01T18:47:43.849Z"
   },
   {
    "duration": 9,
    "start_time": "2024-10-01T18:47:43.861Z"
   },
   {
    "duration": 7,
    "start_time": "2024-10-01T18:47:43.871Z"
   },
   {
    "duration": 5,
    "start_time": "2024-10-01T18:47:43.880Z"
   },
   {
    "duration": 7,
    "start_time": "2024-10-01T18:47:43.888Z"
   },
   {
    "duration": 5,
    "start_time": "2024-10-01T18:47:43.897Z"
   },
   {
    "duration": 22,
    "start_time": "2024-10-01T18:47:43.943Z"
   },
   {
    "duration": 8,
    "start_time": "2024-10-01T18:47:43.967Z"
   },
   {
    "duration": 8,
    "start_time": "2024-10-01T18:47:43.977Z"
   },
   {
    "duration": 113,
    "start_time": "2024-10-01T18:47:43.989Z"
   },
   {
    "duration": 101,
    "start_time": "2024-10-01T18:47:44.104Z"
   },
   {
    "duration": 12,
    "start_time": "2024-10-01T18:47:44.207Z"
   },
   {
    "duration": 93,
    "start_time": "2024-10-01T18:47:44.220Z"
   },
   {
    "duration": 61,
    "start_time": "2024-10-01T18:47:44.315Z"
   },
   {
    "duration": 27,
    "start_time": "2024-10-01T18:47:44.378Z"
   },
   {
    "duration": 13,
    "start_time": "2024-10-01T18:47:44.407Z"
   },
   {
    "duration": 31,
    "start_time": "2024-10-01T18:47:44.422Z"
   },
   {
    "duration": 11,
    "start_time": "2024-10-01T18:47:44.454Z"
   },
   {
    "duration": 6,
    "start_time": "2024-10-01T18:47:44.467Z"
   },
   {
    "duration": 5,
    "start_time": "2024-10-01T18:47:44.475Z"
   },
   {
    "duration": 4,
    "start_time": "2024-10-01T18:47:44.482Z"
   },
   {
    "duration": 2,
    "start_time": "2024-10-01T18:47:44.488Z"
   },
   {
    "duration": 6,
    "start_time": "2024-10-01T18:47:44.491Z"
   },
   {
    "duration": 48,
    "start_time": "2024-10-01T18:47:44.498Z"
   },
   {
    "duration": 7,
    "start_time": "2024-10-01T18:47:44.547Z"
   },
   {
    "duration": 9,
    "start_time": "2024-10-01T18:47:44.555Z"
   },
   {
    "duration": 3,
    "start_time": "2024-10-01T18:47:44.566Z"
   },
   {
    "duration": 6,
    "start_time": "2024-10-01T18:47:44.571Z"
   },
   {
    "duration": 3,
    "start_time": "2024-10-01T18:47:44.578Z"
   },
   {
    "duration": 5,
    "start_time": "2024-10-01T18:47:44.582Z"
   },
   {
    "duration": 3,
    "start_time": "2024-10-01T18:47:44.588Z"
   },
   {
    "duration": 779,
    "start_time": "2024-10-01T18:47:44.593Z"
   },
   {
    "duration": 769,
    "start_time": "2024-10-01T18:47:45.374Z"
   },
   {
    "duration": 823,
    "start_time": "2024-10-01T18:47:46.145Z"
   },
   {
    "duration": 763,
    "start_time": "2024-10-01T18:47:46.970Z"
   },
   {
    "duration": 15,
    "start_time": "2024-10-01T18:47:47.734Z"
   },
   {
    "duration": 7,
    "start_time": "2024-10-01T18:47:47.754Z"
   },
   {
    "duration": 9,
    "start_time": "2024-10-01T18:47:47.763Z"
   },
   {
    "duration": 11,
    "start_time": "2024-10-01T18:47:47.773Z"
   },
   {
    "duration": 5,
    "start_time": "2024-10-01T18:47:47.785Z"
   },
   {
    "duration": 5,
    "start_time": "2024-10-01T18:47:47.791Z"
   },
   {
    "duration": 60,
    "start_time": "2024-10-01T18:47:47.798Z"
   },
   {
    "duration": 487,
    "start_time": "2024-10-01T18:47:47.860Z"
   },
   {
    "duration": 37,
    "start_time": "2024-10-01T18:47:48.349Z"
   },
   {
    "duration": 6,
    "start_time": "2024-10-01T18:47:48.388Z"
   },
   {
    "duration": 6,
    "start_time": "2024-10-01T18:47:48.396Z"
   },
   {
    "duration": 311,
    "start_time": "2024-10-01T18:47:48.403Z"
   },
   {
    "duration": 29,
    "start_time": "2024-10-01T18:47:48.717Z"
   },
   {
    "duration": 121,
    "start_time": "2024-10-01T18:47:48.748Z"
   },
   {
    "duration": 1831,
    "start_time": "2024-10-01T18:47:48.871Z"
   },
   {
    "duration": 11,
    "start_time": "2024-10-01T18:47:50.704Z"
   },
   {
    "duration": 4,
    "start_time": "2024-10-01T18:47:50.717Z"
   },
   {
    "duration": 22,
    "start_time": "2024-10-01T18:47:50.723Z"
   },
   {
    "duration": 6,
    "start_time": "2024-10-01T18:47:50.747Z"
   },
   {
    "duration": 240,
    "start_time": "2024-10-01T18:47:50.755Z"
   },
   {
    "duration": 5,
    "start_time": "2024-10-01T18:47:50.997Z"
   },
   {
    "duration": 142,
    "start_time": "2024-10-01T18:47:51.003Z"
   },
   {
    "duration": 8,
    "start_time": "2024-10-01T18:47:51.147Z"
   },
   {
    "duration": 150,
    "start_time": "2024-10-01T18:47:51.156Z"
   },
   {
    "duration": 4,
    "start_time": "2024-10-01T18:47:51.308Z"
   },
   {
    "duration": 247,
    "start_time": "2024-10-01T18:47:51.314Z"
   },
   {
    "duration": 37,
    "start_time": "2024-10-01T18:47:51.563Z"
   },
   {
    "duration": 153,
    "start_time": "2024-10-01T18:47:51.602Z"
   },
   {
    "duration": 5,
    "start_time": "2024-10-01T18:47:51.756Z"
   },
   {
    "duration": 3,
    "start_time": "2024-10-01T18:47:51.763Z"
   },
   {
    "duration": 5,
    "start_time": "2024-10-01T18:47:51.768Z"
   },
   {
    "duration": 462,
    "start_time": "2024-10-01T18:47:51.774Z"
   },
   {
    "duration": 0,
    "start_time": "2024-10-01T18:47:52.237Z"
   },
   {
    "duration": 0,
    "start_time": "2024-10-01T18:47:52.243Z"
   },
   {
    "duration": 0,
    "start_time": "2024-10-01T18:47:52.245Z"
   },
   {
    "duration": 0,
    "start_time": "2024-10-01T18:47:52.246Z"
   },
   {
    "duration": 0,
    "start_time": "2024-10-01T18:47:52.248Z"
   },
   {
    "duration": 0,
    "start_time": "2024-10-01T18:47:52.249Z"
   },
   {
    "duration": 0,
    "start_time": "2024-10-01T18:47:52.250Z"
   },
   {
    "duration": 324,
    "start_time": "2024-10-02T16:46:27.907Z"
   },
   {
    "duration": 1053,
    "start_time": "2024-10-02T16:46:28.234Z"
   },
   {
    "duration": 6,
    "start_time": "2024-10-02T16:46:29.289Z"
   },
   {
    "duration": 2,
    "start_time": "2024-10-02T16:46:29.298Z"
   },
   {
    "duration": 29,
    "start_time": "2024-10-02T16:46:29.302Z"
   },
   {
    "duration": 9,
    "start_time": "2024-10-02T16:46:29.334Z"
   },
   {
    "duration": 8,
    "start_time": "2024-10-02T16:46:29.345Z"
   },
   {
    "duration": 5,
    "start_time": "2024-10-02T16:46:29.355Z"
   },
   {
    "duration": 8,
    "start_time": "2024-10-02T16:46:29.362Z"
   },
   {
    "duration": 5,
    "start_time": "2024-10-02T16:46:29.373Z"
   },
   {
    "duration": 61,
    "start_time": "2024-10-02T16:46:29.380Z"
   },
   {
    "duration": 7,
    "start_time": "2024-10-02T16:46:29.442Z"
   },
   {
    "duration": 9,
    "start_time": "2024-10-02T16:46:29.450Z"
   },
   {
    "duration": 122,
    "start_time": "2024-10-02T16:46:29.461Z"
   },
   {
    "duration": 115,
    "start_time": "2024-10-02T16:46:29.585Z"
   },
   {
    "duration": 15,
    "start_time": "2024-10-02T16:46:29.703Z"
   },
   {
    "duration": 132,
    "start_time": "2024-10-02T16:46:29.731Z"
   },
   {
    "duration": 89,
    "start_time": "2024-10-02T16:46:29.865Z"
   },
   {
    "duration": 42,
    "start_time": "2024-10-02T16:46:29.956Z"
   },
   {
    "duration": 32,
    "start_time": "2024-10-02T16:46:29.999Z"
   },
   {
    "duration": 14,
    "start_time": "2024-10-02T16:46:30.033Z"
   },
   {
    "duration": 14,
    "start_time": "2024-10-02T16:46:30.049Z"
   },
   {
    "duration": 7,
    "start_time": "2024-10-02T16:46:30.065Z"
   },
   {
    "duration": 8,
    "start_time": "2024-10-02T16:46:30.074Z"
   },
   {
    "duration": 5,
    "start_time": "2024-10-02T16:46:30.084Z"
   },
   {
    "duration": 42,
    "start_time": "2024-10-02T16:46:30.090Z"
   },
   {
    "duration": 8,
    "start_time": "2024-10-02T16:46:30.135Z"
   },
   {
    "duration": 9,
    "start_time": "2024-10-02T16:46:30.149Z"
   },
   {
    "duration": 9,
    "start_time": "2024-10-02T16:46:30.160Z"
   },
   {
    "duration": 12,
    "start_time": "2024-10-02T16:46:30.171Z"
   },
   {
    "duration": 6,
    "start_time": "2024-10-02T16:46:30.185Z"
   },
   {
    "duration": 41,
    "start_time": "2024-10-02T16:46:30.193Z"
   },
   {
    "duration": 4,
    "start_time": "2024-10-02T16:46:30.235Z"
   },
   {
    "duration": 4,
    "start_time": "2024-10-02T16:46:30.241Z"
   },
   {
    "duration": 4,
    "start_time": "2024-10-02T16:46:30.247Z"
   },
   {
    "duration": 966,
    "start_time": "2024-10-02T16:46:30.252Z"
   },
   {
    "duration": 845,
    "start_time": "2024-10-02T16:46:31.220Z"
   },
   {
    "duration": 955,
    "start_time": "2024-10-02T16:46:32.066Z"
   },
   {
    "duration": 819,
    "start_time": "2024-10-02T16:46:33.022Z"
   },
   {
    "duration": 10,
    "start_time": "2024-10-02T16:46:33.842Z"
   },
   {
    "duration": 8,
    "start_time": "2024-10-02T16:46:33.853Z"
   },
   {
    "duration": 9,
    "start_time": "2024-10-02T16:46:33.863Z"
   },
   {
    "duration": 11,
    "start_time": "2024-10-02T16:46:33.874Z"
   },
   {
    "duration": 4,
    "start_time": "2024-10-02T16:46:33.887Z"
   },
   {
    "duration": 39,
    "start_time": "2024-10-02T16:46:33.893Z"
   },
   {
    "duration": 22,
    "start_time": "2024-10-02T16:46:33.934Z"
   },
   {
    "duration": 665,
    "start_time": "2024-10-02T16:46:33.957Z"
   },
   {
    "duration": 41,
    "start_time": "2024-10-02T16:46:34.623Z"
   },
   {
    "duration": 7,
    "start_time": "2024-10-02T16:46:34.666Z"
   },
   {
    "duration": 11,
    "start_time": "2024-10-02T16:46:34.675Z"
   },
   {
    "duration": 462,
    "start_time": "2024-10-02T16:46:34.688Z"
   },
   {
    "duration": 22,
    "start_time": "2024-10-02T16:46:35.152Z"
   },
   {
    "duration": 153,
    "start_time": "2024-10-02T16:46:35.176Z"
   },
   {
    "duration": 1981,
    "start_time": "2024-10-02T16:46:35.331Z"
   },
   {
    "duration": 17,
    "start_time": "2024-10-02T16:46:37.315Z"
   },
   {
    "duration": 5,
    "start_time": "2024-10-02T16:46:37.334Z"
   },
   {
    "duration": 5,
    "start_time": "2024-10-02T16:46:37.340Z"
   },
   {
    "duration": 5,
    "start_time": "2024-10-02T16:46:37.346Z"
   },
   {
    "duration": 243,
    "start_time": "2024-10-02T16:46:37.353Z"
   },
   {
    "duration": 6,
    "start_time": "2024-10-02T16:46:37.598Z"
   },
   {
    "duration": 158,
    "start_time": "2024-10-02T16:46:37.606Z"
   },
   {
    "duration": 8,
    "start_time": "2024-10-02T16:46:37.766Z"
   },
   {
    "duration": 158,
    "start_time": "2024-10-02T16:46:37.776Z"
   },
   {
    "duration": 2,
    "start_time": "2024-10-02T16:46:37.936Z"
   },
   {
    "duration": 318,
    "start_time": "2024-10-02T16:46:37.940Z"
   },
   {
    "duration": 37,
    "start_time": "2024-10-02T16:46:38.260Z"
   },
   {
    "duration": 165,
    "start_time": "2024-10-02T16:46:38.299Z"
   },
   {
    "duration": 6,
    "start_time": "2024-10-02T16:46:38.466Z"
   },
   {
    "duration": 4,
    "start_time": "2024-10-02T16:46:38.474Z"
   },
   {
    "duration": 5,
    "start_time": "2024-10-02T16:46:38.479Z"
   },
   {
    "duration": 499,
    "start_time": "2024-10-02T16:46:38.486Z"
   },
   {
    "duration": 0,
    "start_time": "2024-10-02T16:46:38.987Z"
   },
   {
    "duration": 0,
    "start_time": "2024-10-02T16:46:38.989Z"
   },
   {
    "duration": 0,
    "start_time": "2024-10-02T16:46:38.990Z"
   },
   {
    "duration": 0,
    "start_time": "2024-10-02T16:46:38.991Z"
   },
   {
    "duration": 0,
    "start_time": "2024-10-02T16:46:38.992Z"
   },
   {
    "duration": 0,
    "start_time": "2024-10-02T16:46:38.993Z"
   },
   {
    "duration": 0,
    "start_time": "2024-10-02T16:46:38.994Z"
   },
   {
    "duration": 18,
    "start_time": "2024-10-02T16:51:25.367Z"
   },
   {
    "duration": 13,
    "start_time": "2024-10-02T16:51:38.491Z"
   },
   {
    "duration": 19,
    "start_time": "2024-10-02T16:51:59.844Z"
   },
   {
    "duration": 228,
    "start_time": "2024-10-02T16:55:38.441Z"
   },
   {
    "duration": 5,
    "start_time": "2024-10-02T16:56:52.525Z"
   },
   {
    "duration": 10,
    "start_time": "2024-10-02T16:57:30.088Z"
   },
   {
    "duration": 3,
    "start_time": "2024-10-02T16:57:34.498Z"
   },
   {
    "duration": 5,
    "start_time": "2024-10-02T16:58:24.419Z"
   },
   {
    "duration": 5,
    "start_time": "2024-10-02T16:58:37.077Z"
   },
   {
    "duration": 41,
    "start_time": "2024-10-02T16:59:13.228Z"
   },
   {
    "duration": 12,
    "start_time": "2024-10-02T16:59:21.889Z"
   },
   {
    "duration": 6,
    "start_time": "2024-10-02T16:59:33.259Z"
   },
   {
    "duration": 9,
    "start_time": "2024-10-02T16:59:37.653Z"
   },
   {
    "duration": 12,
    "start_time": "2024-10-02T16:59:40.878Z"
   },
   {
    "duration": 15,
    "start_time": "2024-10-02T17:00:20.270Z"
   },
   {
    "duration": 44,
    "start_time": "2024-10-02T17:00:37.903Z"
   },
   {
    "duration": 13,
    "start_time": "2024-10-02T17:00:45.331Z"
   },
   {
    "duration": 8,
    "start_time": "2024-10-02T17:01:24.727Z"
   },
   {
    "duration": 7,
    "start_time": "2024-10-02T17:01:26.401Z"
   },
   {
    "duration": 5,
    "start_time": "2024-10-02T17:01:49.578Z"
   },
   {
    "duration": 6,
    "start_time": "2024-10-02T17:02:19.420Z"
   },
   {
    "duration": 4,
    "start_time": "2024-10-02T17:02:52.438Z"
   },
   {
    "duration": 4,
    "start_time": "2024-10-02T17:04:14.801Z"
   },
   {
    "duration": 33,
    "start_time": "2024-10-02T17:05:25.036Z"
   },
   {
    "duration": 7,
    "start_time": "2024-10-02T17:05:25.900Z"
   },
   {
    "duration": 315,
    "start_time": "2024-10-02T17:06:02.184Z"
   },
   {
    "duration": 843,
    "start_time": "2024-10-02T17:06:02.501Z"
   },
   {
    "duration": 36,
    "start_time": "2024-10-02T17:06:03.345Z"
   },
   {
    "duration": 13,
    "start_time": "2024-10-02T17:06:03.383Z"
   },
   {
    "duration": 3,
    "start_time": "2024-10-02T17:06:03.399Z"
   },
   {
    "duration": 29,
    "start_time": "2024-10-02T17:06:03.403Z"
   },
   {
    "duration": 8,
    "start_time": "2024-10-02T17:06:03.434Z"
   },
   {
    "duration": 8,
    "start_time": "2024-10-02T17:06:03.444Z"
   },
   {
    "duration": 6,
    "start_time": "2024-10-02T17:06:03.454Z"
   },
   {
    "duration": 8,
    "start_time": "2024-10-02T17:06:03.462Z"
   },
   {
    "duration": 7,
    "start_time": "2024-10-02T17:06:03.471Z"
   },
   {
    "duration": 66,
    "start_time": "2024-10-02T17:06:03.479Z"
   },
   {
    "duration": 7,
    "start_time": "2024-10-02T17:06:03.546Z"
   },
   {
    "duration": 10,
    "start_time": "2024-10-02T17:06:03.557Z"
   },
   {
    "duration": 124,
    "start_time": "2024-10-02T17:06:03.568Z"
   },
   {
    "duration": 103,
    "start_time": "2024-10-02T17:06:03.694Z"
   },
   {
    "duration": 13,
    "start_time": "2024-10-02T17:06:03.799Z"
   },
   {
    "duration": 100,
    "start_time": "2024-10-02T17:06:03.813Z"
   },
   {
    "duration": 61,
    "start_time": "2024-10-02T17:06:03.915Z"
   },
   {
    "duration": 29,
    "start_time": "2024-10-02T17:06:03.978Z"
   },
   {
    "duration": 5,
    "start_time": "2024-10-02T17:06:04.009Z"
   },
   {
    "duration": 13,
    "start_time": "2024-10-02T17:06:04.032Z"
   },
   {
    "duration": 11,
    "start_time": "2024-10-02T17:06:04.046Z"
   },
   {
    "duration": 9,
    "start_time": "2024-10-02T17:06:04.059Z"
   },
   {
    "duration": 10,
    "start_time": "2024-10-02T17:06:04.069Z"
   },
   {
    "duration": 6,
    "start_time": "2024-10-02T17:06:04.081Z"
   },
   {
    "duration": 42,
    "start_time": "2024-10-02T17:06:04.089Z"
   },
   {
    "duration": 6,
    "start_time": "2024-10-02T17:06:04.133Z"
   },
   {
    "duration": 2,
    "start_time": "2024-10-02T17:06:04.141Z"
   },
   {
    "duration": 7,
    "start_time": "2024-10-02T17:06:04.145Z"
   },
   {
    "duration": 8,
    "start_time": "2024-10-02T17:06:04.153Z"
   },
   {
    "duration": 8,
    "start_time": "2024-10-02T17:06:04.163Z"
   },
   {
    "duration": 11,
    "start_time": "2024-10-02T17:06:04.173Z"
   },
   {
    "duration": 5,
    "start_time": "2024-10-02T17:06:04.185Z"
   },
   {
    "duration": 44,
    "start_time": "2024-10-02T17:06:04.191Z"
   },
   {
    "duration": 3,
    "start_time": "2024-10-02T17:06:04.237Z"
   },
   {
    "duration": 4,
    "start_time": "2024-10-02T17:06:04.242Z"
   },
   {
    "duration": 3,
    "start_time": "2024-10-02T17:06:04.249Z"
   },
   {
    "duration": 851,
    "start_time": "2024-10-02T17:06:04.253Z"
   },
   {
    "duration": 854,
    "start_time": "2024-10-02T17:06:05.105Z"
   },
   {
    "duration": 872,
    "start_time": "2024-10-02T17:06:05.965Z"
   },
   {
    "duration": 785,
    "start_time": "2024-10-02T17:06:06.839Z"
   },
   {
    "duration": 13,
    "start_time": "2024-10-02T17:06:07.626Z"
   },
   {
    "duration": 12,
    "start_time": "2024-10-02T17:06:07.641Z"
   },
   {
    "duration": 13,
    "start_time": "2024-10-02T17:06:07.655Z"
   },
   {
    "duration": 17,
    "start_time": "2024-10-02T17:06:07.671Z"
   },
   {
    "duration": 5,
    "start_time": "2024-10-02T17:06:07.690Z"
   },
   {
    "duration": 6,
    "start_time": "2024-10-02T17:06:07.732Z"
   },
   {
    "duration": 21,
    "start_time": "2024-10-02T17:06:07.740Z"
   },
   {
    "duration": 553,
    "start_time": "2024-10-02T17:06:07.763Z"
   },
   {
    "duration": 41,
    "start_time": "2024-10-02T17:06:08.317Z"
   },
   {
    "duration": 6,
    "start_time": "2024-10-02T17:06:08.360Z"
   },
   {
    "duration": 9,
    "start_time": "2024-10-02T17:06:08.367Z"
   },
   {
    "duration": 362,
    "start_time": "2024-10-02T17:06:08.377Z"
   },
   {
    "duration": 23,
    "start_time": "2024-10-02T17:06:08.740Z"
   },
   {
    "duration": 143,
    "start_time": "2024-10-02T17:06:08.764Z"
   },
   {
    "duration": 136,
    "start_time": "2024-10-02T17:06:08.909Z"
   },
   {
    "duration": 11,
    "start_time": "2024-10-02T17:06:09.047Z"
   },
   {
    "duration": 5,
    "start_time": "2024-10-02T17:06:09.060Z"
   },
   {
    "duration": 5,
    "start_time": "2024-10-02T17:06:09.066Z"
   },
   {
    "duration": 5,
    "start_time": "2024-10-02T17:06:09.073Z"
   },
   {
    "duration": 296,
    "start_time": "2024-10-02T17:06:09.079Z"
   },
   {
    "duration": 6,
    "start_time": "2024-10-02T17:06:09.377Z"
   },
   {
    "duration": 143,
    "start_time": "2024-10-02T17:06:09.384Z"
   },
   {
    "duration": 8,
    "start_time": "2024-10-02T17:06:09.532Z"
   },
   {
    "duration": 155,
    "start_time": "2024-10-02T17:06:09.542Z"
   },
   {
    "duration": 2,
    "start_time": "2024-10-02T17:06:09.699Z"
   },
   {
    "duration": 269,
    "start_time": "2024-10-02T17:06:09.703Z"
   },
   {
    "duration": 37,
    "start_time": "2024-10-02T17:06:09.974Z"
   },
   {
    "duration": 159,
    "start_time": "2024-10-02T17:06:10.013Z"
   },
   {
    "duration": 5,
    "start_time": "2024-10-02T17:06:10.174Z"
   },
   {
    "duration": 4,
    "start_time": "2024-10-02T17:06:10.182Z"
   },
   {
    "duration": 5,
    "start_time": "2024-10-02T17:06:10.187Z"
   },
   {
    "duration": 482,
    "start_time": "2024-10-02T17:06:10.193Z"
   },
   {
    "duration": 0,
    "start_time": "2024-10-02T17:06:10.678Z"
   },
   {
    "duration": 0,
    "start_time": "2024-10-02T17:06:10.679Z"
   },
   {
    "duration": 0,
    "start_time": "2024-10-02T17:06:10.680Z"
   },
   {
    "duration": 0,
    "start_time": "2024-10-02T17:06:10.681Z"
   },
   {
    "duration": 0,
    "start_time": "2024-10-02T17:06:10.682Z"
   },
   {
    "duration": 0,
    "start_time": "2024-10-02T17:06:10.683Z"
   },
   {
    "duration": 0,
    "start_time": "2024-10-02T17:06:10.684Z"
   },
   {
    "duration": 329,
    "start_time": "2024-10-02T17:10:28.728Z"
   },
   {
    "duration": 838,
    "start_time": "2024-10-02T17:10:29.059Z"
   },
   {
    "duration": 40,
    "start_time": "2024-10-02T17:10:29.899Z"
   },
   {
    "duration": 11,
    "start_time": "2024-10-02T17:10:29.941Z"
   },
   {
    "duration": 11,
    "start_time": "2024-10-02T17:10:29.954Z"
   },
   {
    "duration": 7,
    "start_time": "2024-10-02T17:10:29.967Z"
   },
   {
    "duration": 9,
    "start_time": "2024-10-02T17:10:29.976Z"
   },
   {
    "duration": 6,
    "start_time": "2024-10-02T17:10:29.987Z"
   },
   {
    "duration": 42,
    "start_time": "2024-10-02T17:10:29.995Z"
   },
   {
    "duration": 6,
    "start_time": "2024-10-02T17:10:30.041Z"
   },
   {
    "duration": 25,
    "start_time": "2024-10-02T17:10:30.049Z"
   },
   {
    "duration": 7,
    "start_time": "2024-10-02T17:10:30.076Z"
   },
   {
    "duration": 8,
    "start_time": "2024-10-02T17:10:30.085Z"
   },
   {
    "duration": 111,
    "start_time": "2024-10-02T17:10:30.130Z"
   },
   {
    "duration": 108,
    "start_time": "2024-10-02T17:10:30.242Z"
   },
   {
    "duration": 12,
    "start_time": "2024-10-02T17:10:30.352Z"
   },
   {
    "duration": 113,
    "start_time": "2024-10-02T17:10:30.366Z"
   },
   {
    "duration": 63,
    "start_time": "2024-10-02T17:10:30.481Z"
   },
   {
    "duration": 34,
    "start_time": "2024-10-02T17:10:30.545Z"
   },
   {
    "duration": 7,
    "start_time": "2024-10-02T17:10:30.581Z"
   },
   {
    "duration": 19,
    "start_time": "2024-10-02T17:10:30.590Z"
   },
   {
    "duration": 13,
    "start_time": "2024-10-02T17:10:30.631Z"
   },
   {
    "duration": 8,
    "start_time": "2024-10-02T17:10:30.646Z"
   },
   {
    "duration": 12,
    "start_time": "2024-10-02T17:10:30.656Z"
   },
   {
    "duration": 7,
    "start_time": "2024-10-02T17:10:30.669Z"
   },
   {
    "duration": 7,
    "start_time": "2024-10-02T17:10:30.678Z"
   },
   {
    "duration": 4,
    "start_time": "2024-10-02T17:10:30.686Z"
   },
   {
    "duration": 2,
    "start_time": "2024-10-02T17:10:30.734Z"
   },
   {
    "duration": 7,
    "start_time": "2024-10-02T17:10:30.738Z"
   },
   {
    "duration": 9,
    "start_time": "2024-10-02T17:10:30.746Z"
   },
   {
    "duration": 8,
    "start_time": "2024-10-02T17:10:30.756Z"
   },
   {
    "duration": 10,
    "start_time": "2024-10-02T17:10:30.766Z"
   },
   {
    "duration": 5,
    "start_time": "2024-10-02T17:10:30.777Z"
   },
   {
    "duration": 5,
    "start_time": "2024-10-02T17:10:30.783Z"
   },
   {
    "duration": 42,
    "start_time": "2024-10-02T17:10:30.789Z"
   },
   {
    "duration": 6,
    "start_time": "2024-10-02T17:10:30.833Z"
   },
   {
    "duration": 4,
    "start_time": "2024-10-02T17:10:30.840Z"
   },
   {
    "duration": 820,
    "start_time": "2024-10-02T17:10:30.846Z"
   },
   {
    "duration": 826,
    "start_time": "2024-10-02T17:10:31.668Z"
   },
   {
    "duration": 895,
    "start_time": "2024-10-02T17:10:32.495Z"
   },
   {
    "duration": 855,
    "start_time": "2024-10-02T17:10:33.392Z"
   },
   {
    "duration": 10,
    "start_time": "2024-10-02T17:10:34.249Z"
   },
   {
    "duration": 9,
    "start_time": "2024-10-02T17:10:34.260Z"
   },
   {
    "duration": 10,
    "start_time": "2024-10-02T17:10:34.271Z"
   },
   {
    "duration": 11,
    "start_time": "2024-10-02T17:10:34.282Z"
   },
   {
    "duration": 37,
    "start_time": "2024-10-02T17:10:34.295Z"
   },
   {
    "duration": 4,
    "start_time": "2024-10-02T17:10:34.334Z"
   },
   {
    "duration": 21,
    "start_time": "2024-10-02T17:10:34.340Z"
   },
   {
    "duration": 572,
    "start_time": "2024-10-02T17:10:34.363Z"
   },
   {
    "duration": 36,
    "start_time": "2024-10-02T17:10:34.937Z"
   },
   {
    "duration": 7,
    "start_time": "2024-10-02T17:10:34.975Z"
   },
   {
    "duration": 6,
    "start_time": "2024-10-02T17:10:34.984Z"
   },
   {
    "duration": 366,
    "start_time": "2024-10-02T17:10:34.992Z"
   },
   {
    "duration": 21,
    "start_time": "2024-10-02T17:10:35.360Z"
   },
   {
    "duration": 138,
    "start_time": "2024-10-02T17:10:35.382Z"
   },
   {
    "duration": 157,
    "start_time": "2024-10-02T17:10:35.522Z"
   },
   {
    "duration": 11,
    "start_time": "2024-10-02T17:10:35.681Z"
   },
   {
    "duration": 5,
    "start_time": "2024-10-02T17:10:35.693Z"
   },
   {
    "duration": 5,
    "start_time": "2024-10-02T17:10:35.700Z"
   },
   {
    "duration": 26,
    "start_time": "2024-10-02T17:10:35.706Z"
   },
   {
    "duration": 286,
    "start_time": "2024-10-02T17:10:35.734Z"
   },
   {
    "duration": 9,
    "start_time": "2024-10-02T17:10:36.022Z"
   },
   {
    "duration": 153,
    "start_time": "2024-10-02T17:10:36.033Z"
   },
   {
    "duration": 8,
    "start_time": "2024-10-02T17:10:36.188Z"
   },
   {
    "duration": 156,
    "start_time": "2024-10-02T17:10:36.197Z"
   },
   {
    "duration": 2,
    "start_time": "2024-10-02T17:10:36.355Z"
   },
   {
    "duration": 264,
    "start_time": "2024-10-02T17:10:36.359Z"
   },
   {
    "duration": 44,
    "start_time": "2024-10-02T17:10:36.625Z"
   },
   {
    "duration": 155,
    "start_time": "2024-10-02T17:10:36.671Z"
   },
   {
    "duration": 5,
    "start_time": "2024-10-02T17:10:36.828Z"
   },
   {
    "duration": 4,
    "start_time": "2024-10-02T17:10:36.835Z"
   },
   {
    "duration": 5,
    "start_time": "2024-10-02T17:10:36.840Z"
   },
   {
    "duration": 487,
    "start_time": "2024-10-02T17:10:36.848Z"
   },
   {
    "duration": 0,
    "start_time": "2024-10-02T17:10:37.339Z"
   },
   {
    "duration": 0,
    "start_time": "2024-10-02T17:10:37.340Z"
   },
   {
    "duration": 0,
    "start_time": "2024-10-02T17:10:37.342Z"
   },
   {
    "duration": 0,
    "start_time": "2024-10-02T17:10:37.343Z"
   },
   {
    "duration": 0,
    "start_time": "2024-10-02T17:10:37.344Z"
   },
   {
    "duration": 0,
    "start_time": "2024-10-02T17:10:37.346Z"
   },
   {
    "duration": 0,
    "start_time": "2024-10-02T17:10:37.347Z"
   },
   {
    "duration": 5,
    "start_time": "2024-10-02T17:12:47.867Z"
   },
   {
    "duration": 5,
    "start_time": "2024-10-02T17:13:20.175Z"
   },
   {
    "duration": 5,
    "start_time": "2024-10-02T17:15:18.860Z"
   },
   {
    "duration": 5,
    "start_time": "2024-10-02T17:16:12.547Z"
   },
   {
    "duration": 8,
    "start_time": "2024-10-02T17:16:23.618Z"
   },
   {
    "duration": 216,
    "start_time": "2024-10-02T17:17:22.226Z"
   },
   {
    "duration": 5,
    "start_time": "2024-10-02T17:18:46.448Z"
   },
   {
    "duration": 114,
    "start_time": "2024-10-02T17:18:46.652Z"
   },
   {
    "duration": 5,
    "start_time": "2024-10-02T17:19:56.408Z"
   },
   {
    "duration": 34,
    "start_time": "2024-10-02T17:20:34.186Z"
   },
   {
    "duration": 6,
    "start_time": "2024-10-02T17:20:35.215Z"
   },
   {
    "duration": 10,
    "start_time": "2024-10-02T17:20:54.128Z"
   },
   {
    "duration": 9,
    "start_time": "2024-10-02T17:21:02.133Z"
   },
   {
    "duration": 9,
    "start_time": "2024-10-02T17:21:06.047Z"
   },
   {
    "duration": 8,
    "start_time": "2024-10-02T17:21:07.733Z"
   },
   {
    "duration": 13,
    "start_time": "2024-10-02T17:21:10.792Z"
   },
   {
    "duration": 14,
    "start_time": "2024-10-02T17:21:11.869Z"
   },
   {
    "duration": 297,
    "start_time": "2024-10-02T17:21:53.120Z"
   },
   {
    "duration": 853,
    "start_time": "2024-10-02T17:21:53.420Z"
   },
   {
    "duration": 35,
    "start_time": "2024-10-02T17:21:54.274Z"
   },
   {
    "duration": 20,
    "start_time": "2024-10-02T17:21:54.311Z"
   },
   {
    "duration": 11,
    "start_time": "2024-10-02T17:21:54.334Z"
   },
   {
    "duration": 7,
    "start_time": "2024-10-02T17:21:54.347Z"
   },
   {
    "duration": 8,
    "start_time": "2024-10-02T17:21:54.355Z"
   },
   {
    "duration": 5,
    "start_time": "2024-10-02T17:21:54.365Z"
   },
   {
    "duration": 9,
    "start_time": "2024-10-02T17:21:54.371Z"
   },
   {
    "duration": 6,
    "start_time": "2024-10-02T17:21:54.381Z"
   },
   {
    "duration": 61,
    "start_time": "2024-10-02T17:21:54.389Z"
   },
   {
    "duration": 7,
    "start_time": "2024-10-02T17:21:54.452Z"
   },
   {
    "duration": 8,
    "start_time": "2024-10-02T17:21:54.460Z"
   },
   {
    "duration": 120,
    "start_time": "2024-10-02T17:21:54.472Z"
   },
   {
    "duration": 99,
    "start_time": "2024-10-02T17:21:54.594Z"
   },
   {
    "duration": 11,
    "start_time": "2024-10-02T17:21:54.695Z"
   },
   {
    "duration": 116,
    "start_time": "2024-10-02T17:21:54.707Z"
   },
   {
    "duration": 56,
    "start_time": "2024-10-02T17:21:54.831Z"
   },
   {
    "duration": 31,
    "start_time": "2024-10-02T17:21:54.889Z"
   },
   {
    "duration": 7,
    "start_time": "2024-10-02T17:21:54.931Z"
   },
   {
    "duration": 13,
    "start_time": "2024-10-02T17:21:54.939Z"
   },
   {
    "duration": 12,
    "start_time": "2024-10-02T17:21:54.954Z"
   },
   {
    "duration": 10,
    "start_time": "2024-10-02T17:21:54.968Z"
   },
   {
    "duration": 10,
    "start_time": "2024-10-02T17:21:54.979Z"
   },
   {
    "duration": 6,
    "start_time": "2024-10-02T17:21:54.991Z"
   },
   {
    "duration": 7,
    "start_time": "2024-10-02T17:21:55.031Z"
   },
   {
    "duration": 4,
    "start_time": "2024-10-02T17:21:55.040Z"
   },
   {
    "duration": 2,
    "start_time": "2024-10-02T17:21:55.046Z"
   },
   {
    "duration": 6,
    "start_time": "2024-10-02T17:21:55.050Z"
   },
   {
    "duration": 9,
    "start_time": "2024-10-02T17:21:55.058Z"
   },
   {
    "duration": 9,
    "start_time": "2024-10-02T17:21:55.068Z"
   },
   {
    "duration": 10,
    "start_time": "2024-10-02T17:21:55.079Z"
   },
   {
    "duration": 42,
    "start_time": "2024-10-02T17:21:55.091Z"
   },
   {
    "duration": 4,
    "start_time": "2024-10-02T17:21:55.135Z"
   },
   {
    "duration": 4,
    "start_time": "2024-10-02T17:21:55.141Z"
   },
   {
    "duration": 5,
    "start_time": "2024-10-02T17:21:55.146Z"
   },
   {
    "duration": 4,
    "start_time": "2024-10-02T17:21:55.152Z"
   },
   {
    "duration": 834,
    "start_time": "2024-10-02T17:21:55.158Z"
   },
   {
    "duration": 808,
    "start_time": "2024-10-02T17:21:55.994Z"
   },
   {
    "duration": 930,
    "start_time": "2024-10-02T17:21:56.803Z"
   },
   {
    "duration": 826,
    "start_time": "2024-10-02T17:21:57.738Z"
   },
   {
    "duration": 9,
    "start_time": "2024-10-02T17:21:58.566Z"
   },
   {
    "duration": 9,
    "start_time": "2024-10-02T17:21:58.577Z"
   },
   {
    "duration": 9,
    "start_time": "2024-10-02T17:21:58.588Z"
   },
   {
    "duration": 37,
    "start_time": "2024-10-02T17:21:58.598Z"
   },
   {
    "duration": 5,
    "start_time": "2024-10-02T17:21:58.637Z"
   },
   {
    "duration": 7,
    "start_time": "2024-10-02T17:21:58.644Z"
   },
   {
    "duration": 22,
    "start_time": "2024-10-02T17:21:58.652Z"
   },
   {
    "duration": 8,
    "start_time": "2024-10-02T17:21:58.675Z"
   },
   {
    "duration": 576,
    "start_time": "2024-10-02T17:21:58.685Z"
   },
   {
    "duration": 36,
    "start_time": "2024-10-02T17:21:59.263Z"
   },
   {
    "duration": 5,
    "start_time": "2024-10-02T17:21:59.301Z"
   },
   {
    "duration": 23,
    "start_time": "2024-10-02T17:21:59.308Z"
   },
   {
    "duration": 8,
    "start_time": "2024-10-02T17:21:59.333Z"
   },
   {
    "duration": 353,
    "start_time": "2024-10-02T17:21:59.343Z"
   },
   {
    "duration": 22,
    "start_time": "2024-10-02T17:21:59.697Z"
   },
   {
    "duration": 6,
    "start_time": "2024-10-02T17:21:59.732Z"
   },
   {
    "duration": 130,
    "start_time": "2024-10-02T17:21:59.739Z"
   },
   {
    "duration": 136,
    "start_time": "2024-10-02T17:21:59.870Z"
   },
   {
    "duration": 11,
    "start_time": "2024-10-02T17:22:00.007Z"
   },
   {
    "duration": 14,
    "start_time": "2024-10-02T17:22:00.019Z"
   },
   {
    "duration": 6,
    "start_time": "2024-10-02T17:22:00.035Z"
   },
   {
    "duration": 7,
    "start_time": "2024-10-02T17:22:00.043Z"
   },
   {
    "duration": 290,
    "start_time": "2024-10-02T17:22:00.051Z"
   },
   {
    "duration": 5,
    "start_time": "2024-10-02T17:22:00.343Z"
   },
   {
    "duration": 149,
    "start_time": "2024-10-02T17:22:00.349Z"
   },
   {
    "duration": 7,
    "start_time": "2024-10-02T17:22:00.499Z"
   },
   {
    "duration": 152,
    "start_time": "2024-10-02T17:22:00.508Z"
   },
   {
    "duration": 2,
    "start_time": "2024-10-02T17:22:00.662Z"
   },
   {
    "duration": 260,
    "start_time": "2024-10-02T17:22:00.666Z"
   },
   {
    "duration": 37,
    "start_time": "2024-10-02T17:22:00.931Z"
   },
   {
    "duration": 163,
    "start_time": "2024-10-02T17:22:00.969Z"
   },
   {
    "duration": 11,
    "start_time": "2024-10-02T17:22:01.133Z"
   },
   {
    "duration": 5,
    "start_time": "2024-10-02T17:22:01.146Z"
   },
   {
    "duration": 9,
    "start_time": "2024-10-02T17:22:01.153Z"
   },
   {
    "duration": 27,
    "start_time": "2024-10-02T17:22:01.163Z"
   },
   {
    "duration": 53,
    "start_time": "2024-10-02T17:22:01.192Z"
   },
   {
    "duration": 229,
    "start_time": "2024-10-02T17:22:01.247Z"
   },
   {
    "duration": 180,
    "start_time": "2024-10-02T17:22:01.478Z"
   },
   {
    "duration": 116,
    "start_time": "2024-10-02T17:22:01.660Z"
   },
   {
    "duration": 56,
    "start_time": "2024-10-02T17:22:01.779Z"
   },
   {
    "duration": 889,
    "start_time": "2024-10-02T17:22:01.836Z"
   },
   {
    "duration": 9,
    "start_time": "2024-10-02T17:22:02.726Z"
   },
   {
    "duration": 3,
    "start_time": "2024-10-02T18:38:51.734Z"
   },
   {
    "duration": 871,
    "start_time": "2024-10-02T18:38:53.044Z"
   },
   {
    "duration": 6,
    "start_time": "2024-10-02T18:38:59.341Z"
   },
   {
    "duration": 340,
    "start_time": "2024-10-02T18:39:21.776Z"
   },
   {
    "duration": 892,
    "start_time": "2024-10-02T18:39:22.118Z"
   },
   {
    "duration": 11,
    "start_time": "2024-10-02T18:39:23.012Z"
   },
   {
    "duration": 11,
    "start_time": "2024-10-02T18:39:23.031Z"
   },
   {
    "duration": 6,
    "start_time": "2024-10-02T18:39:23.046Z"
   },
   {
    "duration": 8,
    "start_time": "2024-10-02T18:39:23.054Z"
   },
   {
    "duration": 6,
    "start_time": "2024-10-02T18:39:23.063Z"
   },
   {
    "duration": 9,
    "start_time": "2024-10-02T18:39:23.070Z"
   },
   {
    "duration": 6,
    "start_time": "2024-10-02T18:39:23.081Z"
   },
   {
    "duration": 62,
    "start_time": "2024-10-02T18:39:23.089Z"
   },
   {
    "duration": 6,
    "start_time": "2024-10-02T18:39:23.153Z"
   },
   {
    "duration": 8,
    "start_time": "2024-10-02T18:39:23.161Z"
   },
   {
    "duration": 128,
    "start_time": "2024-10-02T18:39:23.171Z"
   },
   {
    "duration": 106,
    "start_time": "2024-10-02T18:39:23.304Z"
   },
   {
    "duration": 20,
    "start_time": "2024-10-02T18:39:23.412Z"
   },
   {
    "duration": 90,
    "start_time": "2024-10-02T18:39:23.434Z"
   },
   {
    "duration": 57,
    "start_time": "2024-10-02T18:39:23.532Z"
   },
   {
    "duration": 45,
    "start_time": "2024-10-02T18:39:23.591Z"
   },
   {
    "duration": 6,
    "start_time": "2024-10-02T18:39:23.638Z"
   },
   {
    "duration": 13,
    "start_time": "2024-10-02T18:39:23.646Z"
   },
   {
    "duration": 11,
    "start_time": "2024-10-02T18:39:23.660Z"
   },
   {
    "duration": 9,
    "start_time": "2024-10-02T18:39:23.673Z"
   },
   {
    "duration": 12,
    "start_time": "2024-10-02T18:39:23.684Z"
   },
   {
    "duration": 36,
    "start_time": "2024-10-02T18:39:23.697Z"
   },
   {
    "duration": 6,
    "start_time": "2024-10-02T18:39:23.735Z"
   },
   {
    "duration": 4,
    "start_time": "2024-10-02T18:39:23.743Z"
   },
   {
    "duration": 2,
    "start_time": "2024-10-02T18:39:23.749Z"
   },
   {
    "duration": 6,
    "start_time": "2024-10-02T18:39:23.753Z"
   },
   {
    "duration": 8,
    "start_time": "2024-10-02T18:39:23.761Z"
   },
   {
    "duration": 10,
    "start_time": "2024-10-02T18:39:23.771Z"
   },
   {
    "duration": 50,
    "start_time": "2024-10-02T18:39:23.782Z"
   },
   {
    "duration": 5,
    "start_time": "2024-10-02T18:39:23.834Z"
   },
   {
    "duration": 4,
    "start_time": "2024-10-02T18:39:23.841Z"
   },
   {
    "duration": 4,
    "start_time": "2024-10-02T18:39:23.847Z"
   },
   {
    "duration": 4,
    "start_time": "2024-10-02T18:39:23.853Z"
   },
   {
    "duration": 3,
    "start_time": "2024-10-02T18:39:23.859Z"
   },
   {
    "duration": 820,
    "start_time": "2024-10-02T18:39:23.864Z"
   },
   {
    "duration": 868,
    "start_time": "2024-10-02T18:39:24.685Z"
   },
   {
    "duration": 921,
    "start_time": "2024-10-02T18:39:25.555Z"
   },
   {
    "duration": 813,
    "start_time": "2024-10-02T18:39:26.477Z"
   },
   {
    "duration": 9,
    "start_time": "2024-10-02T18:39:27.296Z"
   },
   {
    "duration": 8,
    "start_time": "2024-10-02T18:39:27.307Z"
   },
   {
    "duration": 10,
    "start_time": "2024-10-02T18:39:27.331Z"
   },
   {
    "duration": 11,
    "start_time": "2024-10-02T18:39:27.342Z"
   },
   {
    "duration": 4,
    "start_time": "2024-10-02T18:39:27.355Z"
   },
   {
    "duration": 7,
    "start_time": "2024-10-02T18:39:27.361Z"
   },
   {
    "duration": 21,
    "start_time": "2024-10-02T18:39:27.369Z"
   },
   {
    "duration": 40,
    "start_time": "2024-10-02T18:39:27.392Z"
   },
   {
    "duration": 591,
    "start_time": "2024-10-02T18:39:27.434Z"
   },
   {
    "duration": 42,
    "start_time": "2024-10-02T18:39:28.027Z"
   },
   {
    "duration": 7,
    "start_time": "2024-10-02T18:39:28.070Z"
   },
   {
    "duration": 7,
    "start_time": "2024-10-02T18:39:28.078Z"
   },
   {
    "duration": 9,
    "start_time": "2024-10-02T18:39:28.087Z"
   },
   {
    "duration": 370,
    "start_time": "2024-10-02T18:39:28.098Z"
   },
   {
    "duration": 20,
    "start_time": "2024-10-02T18:39:28.469Z"
   },
   {
    "duration": 7,
    "start_time": "2024-10-02T18:39:28.491Z"
   },
   {
    "duration": 147,
    "start_time": "2024-10-02T18:39:28.499Z"
   },
   {
    "duration": 145,
    "start_time": "2024-10-02T18:39:28.648Z"
   },
   {
    "duration": 11,
    "start_time": "2024-10-02T18:39:28.795Z"
   },
   {
    "duration": 5,
    "start_time": "2024-10-02T18:39:28.808Z"
   },
   {
    "duration": 22,
    "start_time": "2024-10-02T18:39:28.815Z"
   },
   {
    "duration": 6,
    "start_time": "2024-10-02T18:39:28.839Z"
   },
   {
    "duration": 287,
    "start_time": "2024-10-02T18:39:28.847Z"
   },
   {
    "duration": 6,
    "start_time": "2024-10-02T18:39:29.136Z"
   },
   {
    "duration": 147,
    "start_time": "2024-10-02T18:39:29.144Z"
   },
   {
    "duration": 7,
    "start_time": "2024-10-02T18:39:29.293Z"
   },
   {
    "duration": 147,
    "start_time": "2024-10-02T18:39:29.302Z"
   },
   {
    "duration": 3,
    "start_time": "2024-10-02T18:39:29.450Z"
   },
   {
    "duration": 279,
    "start_time": "2024-10-02T18:39:29.454Z"
   },
   {
    "duration": 36,
    "start_time": "2024-10-02T18:39:29.735Z"
   },
   {
    "duration": 160,
    "start_time": "2024-10-02T18:39:29.773Z"
   },
   {
    "duration": 10,
    "start_time": "2024-10-02T18:39:29.935Z"
   },
   {
    "duration": 4,
    "start_time": "2024-10-02T18:39:29.947Z"
   },
   {
    "duration": 8,
    "start_time": "2024-10-02T18:39:29.953Z"
   },
   {
    "duration": 27,
    "start_time": "2024-10-02T18:39:29.963Z"
   },
   {
    "duration": 49,
    "start_time": "2024-10-02T18:39:29.992Z"
   },
   {
    "duration": 251,
    "start_time": "2024-10-02T18:39:30.043Z"
   },
   {
    "duration": 194,
    "start_time": "2024-10-02T18:39:30.295Z"
   },
   {
    "duration": 118,
    "start_time": "2024-10-02T18:39:30.491Z"
   },
   {
    "duration": 56,
    "start_time": "2024-10-02T18:39:30.611Z"
   },
   {
    "duration": 913,
    "start_time": "2024-10-02T18:39:30.669Z"
   },
   {
    "duration": 7,
    "start_time": "2024-10-02T18:39:31.584Z"
   },
   {
    "duration": 328,
    "start_time": "2024-10-02T18:52:35.414Z"
   },
   {
    "duration": 898,
    "start_time": "2024-10-02T18:52:35.745Z"
   },
   {
    "duration": 12,
    "start_time": "2024-10-02T18:52:36.644Z"
   },
   {
    "duration": 10,
    "start_time": "2024-10-02T18:52:36.657Z"
   },
   {
    "duration": 7,
    "start_time": "2024-10-02T18:52:36.670Z"
   },
   {
    "duration": 8,
    "start_time": "2024-10-02T18:52:36.679Z"
   },
   {
    "duration": 5,
    "start_time": "2024-10-02T18:52:36.689Z"
   },
   {
    "duration": 40,
    "start_time": "2024-10-02T18:52:36.696Z"
   },
   {
    "duration": 6,
    "start_time": "2024-10-02T18:52:36.738Z"
   },
   {
    "duration": 25,
    "start_time": "2024-10-02T18:52:36.746Z"
   },
   {
    "duration": 8,
    "start_time": "2024-10-02T18:52:36.773Z"
   },
   {
    "duration": 9,
    "start_time": "2024-10-02T18:52:36.783Z"
   },
   {
    "duration": 137,
    "start_time": "2024-10-02T18:52:36.794Z"
   },
   {
    "duration": 98,
    "start_time": "2024-10-02T18:52:36.935Z"
   },
   {
    "duration": 12,
    "start_time": "2024-10-02T18:52:37.035Z"
   },
   {
    "duration": 101,
    "start_time": "2024-10-02T18:52:37.050Z"
   },
   {
    "duration": 57,
    "start_time": "2024-10-02T18:52:37.152Z"
   },
   {
    "duration": 43,
    "start_time": "2024-10-02T18:52:37.211Z"
   },
   {
    "duration": 6,
    "start_time": "2024-10-02T18:52:37.256Z"
   },
   {
    "duration": 16,
    "start_time": "2024-10-02T18:52:37.264Z"
   },
   {
    "duration": 13,
    "start_time": "2024-10-02T18:52:37.281Z"
   },
   {
    "duration": 9,
    "start_time": "2024-10-02T18:52:37.297Z"
   },
   {
    "duration": 13,
    "start_time": "2024-10-02T18:52:37.331Z"
   },
   {
    "duration": 9,
    "start_time": "2024-10-02T18:52:37.346Z"
   },
   {
    "duration": 6,
    "start_time": "2024-10-02T18:52:37.357Z"
   },
   {
    "duration": 5,
    "start_time": "2024-10-02T18:52:37.365Z"
   },
   {
    "duration": 2,
    "start_time": "2024-10-02T18:52:37.371Z"
   },
   {
    "duration": 6,
    "start_time": "2024-10-02T18:52:37.376Z"
   },
   {
    "duration": 9,
    "start_time": "2024-10-02T18:52:37.384Z"
   },
   {
    "duration": 10,
    "start_time": "2024-10-02T18:52:37.431Z"
   },
   {
    "duration": 10,
    "start_time": "2024-10-02T18:52:37.443Z"
   },
   {
    "duration": 5,
    "start_time": "2024-10-02T18:52:37.454Z"
   },
   {
    "duration": 5,
    "start_time": "2024-10-02T18:52:37.460Z"
   },
   {
    "duration": 4,
    "start_time": "2024-10-02T18:52:37.467Z"
   },
   {
    "duration": 5,
    "start_time": "2024-10-02T18:52:37.472Z"
   },
   {
    "duration": 4,
    "start_time": "2024-10-02T18:52:37.478Z"
   },
   {
    "duration": 880,
    "start_time": "2024-10-02T18:52:37.483Z"
   },
   {
    "duration": 836,
    "start_time": "2024-10-02T18:52:38.366Z"
   },
   {
    "duration": 896,
    "start_time": "2024-10-02T18:52:39.205Z"
   },
   {
    "duration": 832,
    "start_time": "2024-10-02T18:52:40.103Z"
   },
   {
    "duration": 10,
    "start_time": "2024-10-02T18:52:40.942Z"
   },
   {
    "duration": 9,
    "start_time": "2024-10-02T18:52:40.954Z"
   },
   {
    "duration": 9,
    "start_time": "2024-10-02T18:52:40.965Z"
   },
   {
    "duration": 12,
    "start_time": "2024-10-02T18:52:40.976Z"
   },
   {
    "duration": 4,
    "start_time": "2024-10-02T18:52:40.989Z"
   },
   {
    "duration": 40,
    "start_time": "2024-10-02T18:52:40.996Z"
   },
   {
    "duration": 20,
    "start_time": "2024-10-02T18:52:41.038Z"
   },
   {
    "duration": 6,
    "start_time": "2024-10-02T18:52:41.061Z"
   },
   {
    "duration": 550,
    "start_time": "2024-10-02T18:52:41.068Z"
   },
   {
    "duration": 44,
    "start_time": "2024-10-02T18:52:41.620Z"
   },
   {
    "duration": 7,
    "start_time": "2024-10-02T18:52:41.665Z"
   },
   {
    "duration": 7,
    "start_time": "2024-10-02T18:52:41.673Z"
   },
   {
    "duration": 9,
    "start_time": "2024-10-02T18:52:41.682Z"
   },
   {
    "duration": 358,
    "start_time": "2024-10-02T18:52:41.693Z"
   },
   {
    "duration": 22,
    "start_time": "2024-10-02T18:52:42.053Z"
   },
   {
    "duration": 7,
    "start_time": "2024-10-02T18:52:42.076Z"
   },
   {
    "duration": 141,
    "start_time": "2024-10-02T18:52:42.084Z"
   },
   {
    "duration": 135,
    "start_time": "2024-10-02T18:52:42.227Z"
   },
   {
    "duration": 15,
    "start_time": "2024-10-02T18:52:42.364Z"
   },
   {
    "duration": 5,
    "start_time": "2024-10-02T18:52:42.380Z"
   },
   {
    "duration": 5,
    "start_time": "2024-10-02T18:52:42.388Z"
   },
   {
    "duration": 5,
    "start_time": "2024-10-02T18:52:42.394Z"
   },
   {
    "duration": 291,
    "start_time": "2024-10-02T18:52:42.401Z"
   },
   {
    "duration": 5,
    "start_time": "2024-10-02T18:52:42.694Z"
   },
   {
    "duration": 146,
    "start_time": "2024-10-02T18:52:42.701Z"
   },
   {
    "duration": 8,
    "start_time": "2024-10-02T18:52:42.849Z"
   },
   {
    "duration": 157,
    "start_time": "2024-10-02T18:52:42.859Z"
   },
   {
    "duration": 2,
    "start_time": "2024-10-02T18:52:43.018Z"
   },
   {
    "duration": 256,
    "start_time": "2024-10-02T18:52:43.030Z"
   },
   {
    "duration": 49,
    "start_time": "2024-10-02T18:52:43.288Z"
   },
   {
    "duration": 150,
    "start_time": "2024-10-02T18:52:43.340Z"
   },
   {
    "duration": 9,
    "start_time": "2024-10-02T18:52:43.492Z"
   },
   {
    "duration": 5,
    "start_time": "2024-10-02T18:52:43.503Z"
   },
   {
    "duration": 27,
    "start_time": "2024-10-02T18:52:43.509Z"
   },
   {
    "duration": 27,
    "start_time": "2024-10-02T18:52:43.538Z"
   },
   {
    "duration": 22,
    "start_time": "2024-10-02T18:52:43.567Z"
   },
   {
    "duration": 281,
    "start_time": "2024-10-02T18:52:43.591Z"
   },
   {
    "duration": 202,
    "start_time": "2024-10-02T18:52:43.874Z"
   },
   {
    "duration": 115,
    "start_time": "2024-10-02T18:52:44.078Z"
   },
   {
    "duration": 54,
    "start_time": "2024-10-02T18:52:44.195Z"
   },
   {
    "duration": 923,
    "start_time": "2024-10-02T18:52:44.251Z"
   },
   {
    "duration": 7,
    "start_time": "2024-10-02T18:52:45.176Z"
   },
   {
    "duration": 157,
    "start_time": "2024-10-03T17:13:45.879Z"
   },
   {
    "duration": 312,
    "start_time": "2024-10-03T17:14:30.934Z"
   },
   {
    "duration": 1051,
    "start_time": "2024-10-03T17:14:31.248Z"
   },
   {
    "duration": 11,
    "start_time": "2024-10-03T17:14:32.303Z"
   },
   {
    "duration": 11,
    "start_time": "2024-10-03T17:14:32.316Z"
   },
   {
    "duration": 7,
    "start_time": "2024-10-03T17:14:32.328Z"
   },
   {
    "duration": 9,
    "start_time": "2024-10-03T17:14:32.337Z"
   },
   {
    "duration": 5,
    "start_time": "2024-10-03T17:14:32.348Z"
   },
   {
    "duration": 8,
    "start_time": "2024-10-03T17:14:32.387Z"
   },
   {
    "duration": 5,
    "start_time": "2024-10-03T17:14:32.398Z"
   },
   {
    "duration": 23,
    "start_time": "2024-10-03T17:14:32.405Z"
   },
   {
    "duration": 7,
    "start_time": "2024-10-03T17:14:32.430Z"
   },
   {
    "duration": 9,
    "start_time": "2024-10-03T17:14:32.438Z"
   },
   {
    "duration": 128,
    "start_time": "2024-10-03T17:14:32.449Z"
   },
   {
    "duration": 92,
    "start_time": "2024-10-03T17:14:32.579Z"
   },
   {
    "duration": 20,
    "start_time": "2024-10-03T17:14:32.673Z"
   },
   {
    "duration": 83,
    "start_time": "2024-10-03T17:14:32.695Z"
   },
   {
    "duration": 53,
    "start_time": "2024-10-03T17:14:32.786Z"
   },
   {
    "duration": 29,
    "start_time": "2024-10-03T17:14:32.842Z"
   },
   {
    "duration": 6,
    "start_time": "2024-10-03T17:14:32.887Z"
   },
   {
    "duration": 13,
    "start_time": "2024-10-03T17:14:32.895Z"
   },
   {
    "duration": 11,
    "start_time": "2024-10-03T17:14:32.909Z"
   },
   {
    "duration": 8,
    "start_time": "2024-10-03T17:14:32.922Z"
   },
   {
    "duration": 10,
    "start_time": "2024-10-03T17:14:32.931Z"
   },
   {
    "duration": 42,
    "start_time": "2024-10-03T17:14:32.945Z"
   },
   {
    "duration": 8,
    "start_time": "2024-10-03T17:14:32.989Z"
   },
   {
    "duration": 5,
    "start_time": "2024-10-03T17:14:32.998Z"
   },
   {
    "duration": 2,
    "start_time": "2024-10-03T17:14:33.009Z"
   },
   {
    "duration": 7,
    "start_time": "2024-10-03T17:14:33.012Z"
   },
   {
    "duration": 10,
    "start_time": "2024-10-03T17:14:33.020Z"
   },
   {
    "duration": 7,
    "start_time": "2024-10-03T17:14:33.032Z"
   },
   {
    "duration": 9,
    "start_time": "2024-10-03T17:14:33.040Z"
   },
   {
    "duration": 5,
    "start_time": "2024-10-03T17:14:33.086Z"
   },
   {
    "duration": 6,
    "start_time": "2024-10-03T17:14:33.092Z"
   },
   {
    "duration": 5,
    "start_time": "2024-10-03T17:14:33.099Z"
   },
   {
    "duration": 14,
    "start_time": "2024-10-03T17:14:33.106Z"
   },
   {
    "duration": 4,
    "start_time": "2024-10-03T17:14:33.122Z"
   },
   {
    "duration": 843,
    "start_time": "2024-10-03T17:14:33.128Z"
   },
   {
    "duration": 820,
    "start_time": "2024-10-03T17:14:33.973Z"
   },
   {
    "duration": 873,
    "start_time": "2024-10-03T17:14:34.794Z"
   },
   {
    "duration": 771,
    "start_time": "2024-10-03T17:14:35.669Z"
   },
   {
    "duration": 684,
    "start_time": "2024-10-03T17:14:36.442Z"
   },
   {
    "duration": 9,
    "start_time": "2024-10-03T17:14:37.127Z"
   },
   {
    "duration": 8,
    "start_time": "2024-10-03T17:14:37.138Z"
   },
   {
    "duration": 9,
    "start_time": "2024-10-03T17:14:37.148Z"
   },
   {
    "duration": 36,
    "start_time": "2024-10-03T17:14:37.158Z"
   },
   {
    "duration": 5,
    "start_time": "2024-10-03T17:14:37.196Z"
   },
   {
    "duration": 7,
    "start_time": "2024-10-03T17:14:37.203Z"
   },
   {
    "duration": 20,
    "start_time": "2024-10-03T17:14:37.212Z"
   },
   {
    "duration": 6,
    "start_time": "2024-10-03T17:14:37.235Z"
   },
   {
    "duration": 544,
    "start_time": "2024-10-03T17:14:37.243Z"
   },
   {
    "duration": 35,
    "start_time": "2024-10-03T17:14:37.788Z"
   },
   {
    "duration": 7,
    "start_time": "2024-10-03T17:14:37.825Z"
   },
   {
    "duration": 8,
    "start_time": "2024-10-03T17:14:37.833Z"
   },
   {
    "duration": 11,
    "start_time": "2024-10-03T17:14:37.842Z"
   },
   {
    "duration": 339,
    "start_time": "2024-10-03T17:14:37.855Z"
   },
   {
    "duration": 22,
    "start_time": "2024-10-03T17:14:38.196Z"
   },
   {
    "duration": 6,
    "start_time": "2024-10-03T17:14:38.220Z"
   },
   {
    "duration": 141,
    "start_time": "2024-10-03T17:14:38.228Z"
   },
   {
    "duration": 1865,
    "start_time": "2024-10-03T17:14:38.371Z"
   },
   {
    "duration": 12,
    "start_time": "2024-10-03T17:14:40.237Z"
   },
   {
    "duration": 5,
    "start_time": "2024-10-03T17:14:40.251Z"
   },
   {
    "duration": 4,
    "start_time": "2024-10-03T17:14:40.258Z"
   },
   {
    "duration": 26,
    "start_time": "2024-10-03T17:14:40.264Z"
   },
   {
    "duration": 248,
    "start_time": "2024-10-03T17:14:40.292Z"
   },
   {
    "duration": 6,
    "start_time": "2024-10-03T17:14:40.542Z"
   },
   {
    "duration": 139,
    "start_time": "2024-10-03T17:14:40.550Z"
   },
   {
    "duration": 7,
    "start_time": "2024-10-03T17:14:40.691Z"
   },
   {
    "duration": 191,
    "start_time": "2024-10-03T17:14:40.700Z"
   },
   {
    "duration": 2,
    "start_time": "2024-10-03T17:14:40.893Z"
   },
   {
    "duration": 255,
    "start_time": "2024-10-03T17:14:40.897Z"
   },
   {
    "duration": 47,
    "start_time": "2024-10-03T17:14:41.155Z"
   },
   {
    "duration": 148,
    "start_time": "2024-10-03T17:14:41.204Z"
   },
   {
    "duration": 10,
    "start_time": "2024-10-03T17:14:41.355Z"
   },
   {
    "duration": 4,
    "start_time": "2024-10-03T17:14:41.367Z"
   },
   {
    "duration": 9,
    "start_time": "2024-10-03T17:14:41.387Z"
   },
   {
    "duration": 28,
    "start_time": "2024-10-03T17:14:41.397Z"
   },
   {
    "duration": 23,
    "start_time": "2024-10-03T17:14:41.427Z"
   },
   {
    "duration": 271,
    "start_time": "2024-10-03T17:14:41.452Z"
   },
   {
    "duration": 178,
    "start_time": "2024-10-03T17:14:41.724Z"
   },
   {
    "duration": 112,
    "start_time": "2024-10-03T17:14:41.904Z"
   },
   {
    "duration": 49,
    "start_time": "2024-10-03T17:14:42.021Z"
   },
   {
    "duration": 883,
    "start_time": "2024-10-03T17:14:42.072Z"
   },
   {
    "duration": 9,
    "start_time": "2024-10-03T17:14:42.957Z"
   },
   {
    "duration": 7,
    "start_time": "2024-10-03T17:14:43.411Z"
   },
   {
    "duration": 718,
    "start_time": "2024-10-03T17:16:13.187Z"
   },
   {
    "duration": 702,
    "start_time": "2024-10-03T17:16:19.086Z"
   },
   {
    "duration": 184,
    "start_time": "2024-10-03T17:19:25.354Z"
   },
   {
    "duration": 323,
    "start_time": "2024-10-03T17:19:53.726Z"
   },
   {
    "duration": 863,
    "start_time": "2024-10-03T17:19:54.051Z"
   },
   {
    "duration": 10,
    "start_time": "2024-10-03T17:19:54.916Z"
   },
   {
    "duration": 10,
    "start_time": "2024-10-03T17:19:54.928Z"
   },
   {
    "duration": 6,
    "start_time": "2024-10-03T17:19:54.941Z"
   },
   {
    "duration": 8,
    "start_time": "2024-10-03T17:19:54.949Z"
   },
   {
    "duration": 33,
    "start_time": "2024-10-03T17:19:54.958Z"
   },
   {
    "duration": 8,
    "start_time": "2024-10-03T17:19:54.993Z"
   },
   {
    "duration": 6,
    "start_time": "2024-10-03T17:19:55.004Z"
   },
   {
    "duration": 25,
    "start_time": "2024-10-03T17:19:55.011Z"
   },
   {
    "duration": 6,
    "start_time": "2024-10-03T17:19:55.038Z"
   },
   {
    "duration": 8,
    "start_time": "2024-10-03T17:19:55.046Z"
   },
   {
    "duration": 104,
    "start_time": "2024-10-03T17:19:55.086Z"
   },
   {
    "duration": 105,
    "start_time": "2024-10-03T17:19:55.195Z"
   },
   {
    "duration": 11,
    "start_time": "2024-10-03T17:19:55.302Z"
   },
   {
    "duration": 103,
    "start_time": "2024-10-03T17:19:55.315Z"
   },
   {
    "duration": 70,
    "start_time": "2024-10-03T17:19:55.420Z"
   },
   {
    "duration": 28,
    "start_time": "2024-10-03T17:19:55.491Z"
   },
   {
    "duration": 7,
    "start_time": "2024-10-03T17:19:55.520Z"
   },
   {
    "duration": 13,
    "start_time": "2024-10-03T17:19:55.528Z"
   },
   {
    "duration": 10,
    "start_time": "2024-10-03T17:19:55.543Z"
   },
   {
    "duration": 38,
    "start_time": "2024-10-03T17:19:55.555Z"
   },
   {
    "duration": 10,
    "start_time": "2024-10-03T17:19:55.595Z"
   },
   {
    "duration": 6,
    "start_time": "2024-10-03T17:19:55.607Z"
   },
   {
    "duration": 5,
    "start_time": "2024-10-03T17:19:55.615Z"
   },
   {
    "duration": 5,
    "start_time": "2024-10-03T17:19:55.621Z"
   },
   {
    "duration": 2,
    "start_time": "2024-10-03T17:19:55.627Z"
   },
   {
    "duration": 7,
    "start_time": "2024-10-03T17:19:55.631Z"
   },
   {
    "duration": 47,
    "start_time": "2024-10-03T17:19:55.640Z"
   },
   {
    "duration": 8,
    "start_time": "2024-10-03T17:19:55.689Z"
   },
   {
    "duration": 9,
    "start_time": "2024-10-03T17:19:55.698Z"
   },
   {
    "duration": 4,
    "start_time": "2024-10-03T17:19:55.709Z"
   },
   {
    "duration": 5,
    "start_time": "2024-10-03T17:19:55.715Z"
   },
   {
    "duration": 4,
    "start_time": "2024-10-03T17:19:55.721Z"
   },
   {
    "duration": 4,
    "start_time": "2024-10-03T17:19:55.727Z"
   },
   {
    "duration": 4,
    "start_time": "2024-10-03T17:19:55.732Z"
   },
   {
    "duration": 867,
    "start_time": "2024-10-03T17:19:55.737Z"
   },
   {
    "duration": 813,
    "start_time": "2024-10-03T17:19:56.606Z"
   },
   {
    "duration": 883,
    "start_time": "2024-10-03T17:19:57.421Z"
   },
   {
    "duration": 789,
    "start_time": "2024-10-03T17:19:58.305Z"
   },
   {
    "duration": 695,
    "start_time": "2024-10-03T17:19:59.099Z"
   },
   {
    "duration": 6,
    "start_time": "2024-10-03T17:19:59.795Z"
   },
   {
    "duration": 9,
    "start_time": "2024-10-03T17:19:59.803Z"
   },
   {
    "duration": 10,
    "start_time": "2024-10-03T17:19:59.813Z"
   },
   {
    "duration": 9,
    "start_time": "2024-10-03T17:19:59.825Z"
   },
   {
    "duration": 10,
    "start_time": "2024-10-03T17:19:59.836Z"
   },
   {
    "duration": 4,
    "start_time": "2024-10-03T17:19:59.848Z"
   },
   {
    "duration": 6,
    "start_time": "2024-10-03T17:19:59.886Z"
   },
   {
    "duration": 20,
    "start_time": "2024-10-03T17:19:59.894Z"
   },
   {
    "duration": 6,
    "start_time": "2024-10-03T17:19:59.916Z"
   },
   {
    "duration": 546,
    "start_time": "2024-10-03T17:19:59.923Z"
   },
   {
    "duration": 46,
    "start_time": "2024-10-03T17:20:00.471Z"
   },
   {
    "duration": 6,
    "start_time": "2024-10-03T17:20:00.519Z"
   },
   {
    "duration": 6,
    "start_time": "2024-10-03T17:20:00.527Z"
   },
   {
    "duration": 8,
    "start_time": "2024-10-03T17:20:00.535Z"
   },
   {
    "duration": 343,
    "start_time": "2024-10-03T17:20:00.545Z"
   },
   {
    "duration": 22,
    "start_time": "2024-10-03T17:20:00.890Z"
   },
   {
    "duration": 6,
    "start_time": "2024-10-03T17:20:00.914Z"
   },
   {
    "duration": 137,
    "start_time": "2024-10-03T17:20:00.922Z"
   },
   {
    "duration": 135,
    "start_time": "2024-10-03T17:20:01.061Z"
   },
   {
    "duration": 10,
    "start_time": "2024-10-03T17:20:01.198Z"
   },
   {
    "duration": 4,
    "start_time": "2024-10-03T17:20:01.210Z"
   },
   {
    "duration": 5,
    "start_time": "2024-10-03T17:20:01.216Z"
   },
   {
    "duration": 5,
    "start_time": "2024-10-03T17:20:01.222Z"
   },
   {
    "duration": 296,
    "start_time": "2024-10-03T17:20:01.229Z"
   },
   {
    "duration": 6,
    "start_time": "2024-10-03T17:20:01.526Z"
   },
   {
    "duration": 138,
    "start_time": "2024-10-03T17:20:01.533Z"
   },
   {
    "duration": 14,
    "start_time": "2024-10-03T17:20:01.672Z"
   },
   {
    "duration": 150,
    "start_time": "2024-10-03T17:20:01.688Z"
   },
   {
    "duration": 2,
    "start_time": "2024-10-03T17:20:01.841Z"
   },
   {
    "duration": 254,
    "start_time": "2024-10-03T17:20:01.845Z"
   },
   {
    "duration": 35,
    "start_time": "2024-10-03T17:20:02.101Z"
   },
   {
    "duration": 156,
    "start_time": "2024-10-03T17:20:02.138Z"
   },
   {
    "duration": 10,
    "start_time": "2024-10-03T17:20:02.295Z"
   },
   {
    "duration": 4,
    "start_time": "2024-10-03T17:20:02.307Z"
   },
   {
    "duration": 8,
    "start_time": "2024-10-03T17:20:02.313Z"
   },
   {
    "duration": 23,
    "start_time": "2024-10-03T17:20:02.323Z"
   },
   {
    "duration": 48,
    "start_time": "2024-10-03T17:20:02.348Z"
   },
   {
    "duration": 239,
    "start_time": "2024-10-03T17:20:02.398Z"
   },
   {
    "duration": 180,
    "start_time": "2024-10-03T17:20:02.638Z"
   },
   {
    "duration": 110,
    "start_time": "2024-10-03T17:20:02.820Z"
   },
   {
    "duration": 46,
    "start_time": "2024-10-03T17:20:02.931Z"
   },
   {
    "duration": 925,
    "start_time": "2024-10-03T17:20:02.978Z"
   },
   {
    "duration": 18,
    "start_time": "2024-10-03T17:20:03.954Z"
   },
   {
    "duration": 299,
    "start_time": "2024-10-03T17:48:51.780Z"
   },
   {
    "duration": 865,
    "start_time": "2024-10-03T17:48:52.081Z"
   },
   {
    "duration": 11,
    "start_time": "2024-10-03T17:48:52.948Z"
   },
   {
    "duration": 12,
    "start_time": "2024-10-03T17:48:52.960Z"
   },
   {
    "duration": 7,
    "start_time": "2024-10-03T17:48:52.989Z"
   },
   {
    "duration": 8,
    "start_time": "2024-10-03T17:48:52.998Z"
   },
   {
    "duration": 5,
    "start_time": "2024-10-03T17:48:53.008Z"
   },
   {
    "duration": 8,
    "start_time": "2024-10-03T17:48:53.016Z"
   },
   {
    "duration": 7,
    "start_time": "2024-10-03T17:48:53.025Z"
   },
   {
    "duration": 61,
    "start_time": "2024-10-03T17:48:53.033Z"
   },
   {
    "duration": 8,
    "start_time": "2024-10-03T17:48:53.096Z"
   },
   {
    "duration": 13,
    "start_time": "2024-10-03T17:48:53.106Z"
   },
   {
    "duration": 123,
    "start_time": "2024-10-03T17:48:53.121Z"
   },
   {
    "duration": 110,
    "start_time": "2024-10-03T17:48:53.248Z"
   },
   {
    "duration": 11,
    "start_time": "2024-10-03T17:48:53.359Z"
   },
   {
    "duration": 94,
    "start_time": "2024-10-03T17:48:53.386Z"
   },
   {
    "duration": 67,
    "start_time": "2024-10-03T17:48:53.489Z"
   },
   {
    "duration": 41,
    "start_time": "2024-10-03T17:48:53.558Z"
   },
   {
    "duration": 6,
    "start_time": "2024-10-03T17:48:53.601Z"
   },
   {
    "duration": 13,
    "start_time": "2024-10-03T17:48:53.609Z"
   },
   {
    "duration": 11,
    "start_time": "2024-10-03T17:48:53.623Z"
   },
   {
    "duration": 9,
    "start_time": "2024-10-03T17:48:53.636Z"
   },
   {
    "duration": 9,
    "start_time": "2024-10-03T17:48:53.646Z"
   },
   {
    "duration": 35,
    "start_time": "2024-10-03T17:48:53.656Z"
   },
   {
    "duration": 7,
    "start_time": "2024-10-03T17:48:53.693Z"
   },
   {
    "duration": 5,
    "start_time": "2024-10-03T17:48:53.702Z"
   },
   {
    "duration": 2,
    "start_time": "2024-10-03T17:48:53.709Z"
   },
   {
    "duration": 7,
    "start_time": "2024-10-03T17:48:53.712Z"
   },
   {
    "duration": 9,
    "start_time": "2024-10-03T17:48:53.720Z"
   },
   {
    "duration": 8,
    "start_time": "2024-10-03T17:48:53.731Z"
   },
   {
    "duration": 56,
    "start_time": "2024-10-03T17:48:53.741Z"
   },
   {
    "duration": 4,
    "start_time": "2024-10-03T17:48:53.799Z"
   },
   {
    "duration": 6,
    "start_time": "2024-10-03T17:48:53.804Z"
   },
   {
    "duration": 3,
    "start_time": "2024-10-03T17:48:53.812Z"
   },
   {
    "duration": 4,
    "start_time": "2024-10-03T17:48:53.817Z"
   },
   {
    "duration": 4,
    "start_time": "2024-10-03T17:48:53.823Z"
   },
   {
    "duration": 835,
    "start_time": "2024-10-03T17:48:53.828Z"
   },
   {
    "duration": 787,
    "start_time": "2024-10-03T17:48:54.665Z"
   },
   {
    "duration": 871,
    "start_time": "2024-10-03T17:48:55.455Z"
   },
   {
    "duration": 778,
    "start_time": "2024-10-03T17:48:56.327Z"
   },
   {
    "duration": 678,
    "start_time": "2024-10-03T17:48:57.111Z"
   },
   {
    "duration": 6,
    "start_time": "2024-10-03T17:48:57.791Z"
   },
   {
    "duration": 8,
    "start_time": "2024-10-03T17:48:57.799Z"
   },
   {
    "duration": 9,
    "start_time": "2024-10-03T17:48:57.809Z"
   },
   {
    "duration": 9,
    "start_time": "2024-10-03T17:48:57.819Z"
   },
   {
    "duration": 11,
    "start_time": "2024-10-03T17:48:57.830Z"
   },
   {
    "duration": 5,
    "start_time": "2024-10-03T17:48:57.842Z"
   },
   {
    "duration": 43,
    "start_time": "2024-10-03T17:48:57.849Z"
   },
   {
    "duration": 21,
    "start_time": "2024-10-03T17:48:57.894Z"
   },
   {
    "duration": 6,
    "start_time": "2024-10-03T17:48:57.916Z"
   },
   {
    "duration": 551,
    "start_time": "2024-10-03T17:48:57.924Z"
   },
   {
    "duration": 39,
    "start_time": "2024-10-03T17:48:58.477Z"
   },
   {
    "duration": 6,
    "start_time": "2024-10-03T17:48:58.518Z"
   },
   {
    "duration": 7,
    "start_time": "2024-10-03T17:48:58.525Z"
   },
   {
    "duration": 8,
    "start_time": "2024-10-03T17:48:58.534Z"
   },
   {
    "duration": 358,
    "start_time": "2024-10-03T17:48:58.544Z"
   },
   {
    "duration": 22,
    "start_time": "2024-10-03T17:48:58.904Z"
   },
   {
    "duration": 6,
    "start_time": "2024-10-03T17:48:58.927Z"
   },
   {
    "duration": 137,
    "start_time": "2024-10-03T17:48:58.935Z"
   },
   {
    "duration": 132,
    "start_time": "2024-10-03T17:48:59.073Z"
   },
   {
    "duration": 11,
    "start_time": "2024-10-03T17:48:59.206Z"
   },
   {
    "duration": 6,
    "start_time": "2024-10-03T17:48:59.218Z"
   },
   {
    "duration": 5,
    "start_time": "2024-10-03T17:48:59.225Z"
   },
   {
    "duration": 5,
    "start_time": "2024-10-03T17:48:59.233Z"
   },
   {
    "duration": 286,
    "start_time": "2024-10-03T17:48:59.240Z"
   },
   {
    "duration": 5,
    "start_time": "2024-10-03T17:48:59.529Z"
   },
   {
    "duration": 139,
    "start_time": "2024-10-03T17:48:59.536Z"
   },
   {
    "duration": 12,
    "start_time": "2024-10-03T17:48:59.677Z"
   },
   {
    "duration": 150,
    "start_time": "2024-10-03T17:48:59.690Z"
   },
   {
    "duration": 3,
    "start_time": "2024-10-03T17:48:59.842Z"
   },
   {
    "duration": 262,
    "start_time": "2024-10-03T17:48:59.847Z"
   },
   {
    "duration": 36,
    "start_time": "2024-10-03T17:49:00.110Z"
   },
   {
    "duration": 154,
    "start_time": "2024-10-03T17:49:00.148Z"
   },
   {
    "duration": 8,
    "start_time": "2024-10-03T17:49:00.304Z"
   },
   {
    "duration": 5,
    "start_time": "2024-10-03T17:49:00.314Z"
   },
   {
    "duration": 8,
    "start_time": "2024-10-03T17:49:00.321Z"
   },
   {
    "duration": 23,
    "start_time": "2024-10-03T17:49:00.331Z"
   },
   {
    "duration": 49,
    "start_time": "2024-10-03T17:49:00.356Z"
   },
   {
    "duration": 237,
    "start_time": "2024-10-03T17:49:00.407Z"
   },
   {
    "duration": 178,
    "start_time": "2024-10-03T17:49:00.645Z"
   },
   {
    "duration": 117,
    "start_time": "2024-10-03T17:49:00.824Z"
   },
   {
    "duration": 57,
    "start_time": "2024-10-03T17:49:00.943Z"
   },
   {
    "duration": 904,
    "start_time": "2024-10-03T17:49:01.001Z"
   },
   {
    "duration": 6,
    "start_time": "2024-10-03T17:49:01.918Z"
   }
  ],
  "kernelspec": {
   "display_name": "Python 3 (ipykernel)",
   "language": "python",
   "name": "python3"
  },
  "language_info": {
   "codemirror_mode": {
    "name": "ipython",
    "version": 3
   },
   "file_extension": ".py",
   "mimetype": "text/x-python",
   "name": "python",
   "nbconvert_exporter": "python",
   "pygments_lexer": "ipython3",
   "version": "3.12.7"
  },
  "toc": {
   "base_numbering": 1,
   "nav_menu": {},
   "number_sections": true,
   "sideBar": true,
   "skip_h1_title": true,
   "title_cell": "Table of Contents",
   "title_sidebar": "Contents",
   "toc_cell": false,
   "toc_position": {
    "height": "calc(100% - 180px)",
    "left": "10px",
    "top": "150px",
    "width": "281px"
   },
   "toc_section_display": true,
   "toc_window_display": false
  },
  "vscode": {
   "interpreter": {
    "hash": "01a7be9ec63e704a62cefc5fe7a4756944464ee731be31632bdf42a4cb4688cf"
   }
  }
 },
 "nbformat": 4,
 "nbformat_minor": 5
}
