{
 "cells": [
  {
   "cell_type": "markdown",
   "metadata": {},
   "source": [
    "<div style=\"border:solid blue 2px; padding: 20px\">\n",
    "\n",
    "**Overall Summary of the Project**\n",
    "\n",
    "Hi Edgar! 👋 Thanks for your detailed and well-structured notebook. You put a lot of effort into exploring different models, and it’s great to see a variety of approaches in action. Here’s my feedback for you:\n",
    "\n",
    "---\n",
    "\n",
    "**🟢 Strengths**\n",
    "    \n",
    "- **Solid Workflow:** You followed a **clear and logical workflow**: data exploration, preparation, feature engineering, and model building. ✔️\n",
    "- **Feature Engineering:** Nice work adding **calendar-based features, lags, and rolling means** — all key for time series forecasting! 💡\n",
    "- **Model Diversity:** You tried multiple models: RandomForest, AR, MA, ARIMA, and auto_arima. Great exploration and experimentation! 🔍\n",
    "- **Clear Visuals:** You provided **plots for EDA and decomposition**, which helps interpret trends, seasonality, and residuals effectively.\n",
    "- **Hyperparameter Search:** Your **grid search for Random Forest hyperparameters** is a strong point and shows understanding of model optimization.\n",
    "- **Final Performance:** Random Forest achieving **RMSE around 16** is an excellent result, well below the 48 threshold. 🚀\n",
    "\n",
    "---\n",
    "\n",
    "**🟡 Areas to Improve**\n",
    "    \n",
    "- **Conclusion Clarity:** Your conclusion is mostly focused on Random Forest, but it would be helpful to **briefly compare all model performances numerically** to summarize results (e.g., list RMSEs side by side).\n",
    "- **Feature Function:** Your `make_features` function was nicely built, but it **didn't seem to be used much beyond the Random Forest setup**. For consistency, consider applying similar features across different models too if applicable.\n",
    "\n",
    "---\n",
    "\n",
    "**🔴 Critical Issues**\n",
    "    \n",
    "Your notebook is **error-free, complete, and fully functional.** You successfully met the main requirement (**RMSE < 48**) and clearly demonstrated a good understanding of time series modeling.\n",
    "\n",
    "---\n",
    "\n",
    "Awesome job, Edgar! 🎉 I’m approving your project with no further changes needed. You handled this well, and your use of multiple approaches shows curiosity and technical depth. Keep it up! 🚖✨"
   ]
  },
  {
   "cell_type": "markdown",
   "metadata": {},
   "source": [
    "# Project description\n",
    "\n",
    "Sweet Lift Taxi company has collected historical data on taxi orders at airports. To attract more drivers during peak hours, we need to predict the amount of taxi orders for the next hour. Build a model for such a prediction.\n",
    "\n",
    "The RMSE metric on the test set should not be more than 48.\n",
    "\n",
    "## Project instructions\n",
    "\n",
    "1. Download the data and resample it by one hour.\n",
    "2. Analyze the data.\n",
    "3. Train different models with different hyperparameters. The test sample should be 10% of the initial dataset. \n",
    "4. Test the data using the test sample and provide a conclusion.\n",
    "\n",
    "## Data description\n",
    "\n",
    "The data is stored in file `taxi.csv`. The number of orders is in the '*num_orders*' column."
   ]
  },
  {
   "cell_type": "markdown",
   "metadata": {},
   "source": [
    "# Introduction\n",
    "\n",
    "**During the course of this project, we will assess or analyze the data provide by the Taxi company.Few models will be select to train data. The RMSE will be use as a metric to predict the amount of taxis orders for the next hours with the purpose of attracting more drivers during peak hours.**"
   ]
  },
  {
   "cell_type": "code",
   "execution_count": null,
   "metadata": {},
   "outputs": [],
   "source": []
  },
  {
   "cell_type": "code",
   "execution_count": 57,
   "metadata": {},
   "outputs": [],
   "source": [
    "import pandas as pd\n",
    "import numpy as np\n",
    "import matplotlib.pyplot as plt\n",
    "import matplotlib.dates as mdates\n",
    "from statsmodels.tsa.seasonal import seasonal_decompose\n",
    "from sklearn.model_selection import train_test_split\n",
    "from sklearn.ensemble import RandomForestRegressor\n",
    "from sklearn.metrics import mean_squared_error\n",
    "from statsmodels.tsa.ar_model import AutoReg, ar_select_order\n",
    "from statsmodels.tsa.stattools import arma_order_select_ic\n",
    "from statsmodels.tsa.arima.model import ARIMA\n",
    "from pmdarima import auto_arima\n",
    "from statsmodels.tsa.stattools import adfuller\n",
    "import warnings"
   ]
  },
  {
   "cell_type": "code",
   "execution_count": 58,
   "metadata": {},
   "outputs": [],
   "source": [
    "warnings.filterwarnings('ignore')"
   ]
  },
  {
   "cell_type": "code",
   "execution_count": 59,
   "metadata": {},
   "outputs": [],
   "source": [
    "data = pd.read_csv('/datasets/taxi.csv',index_col=[0], parse_dates=[0])"
   ]
  },
  {
   "cell_type": "code",
   "execution_count": 60,
   "metadata": {},
   "outputs": [
    {
     "data": {
      "text/html": [
       "<div>\n",
       "<style scoped>\n",
       "    .dataframe tbody tr th:only-of-type {\n",
       "        vertical-align: middle;\n",
       "    }\n",
       "\n",
       "    .dataframe tbody tr th {\n",
       "        vertical-align: top;\n",
       "    }\n",
       "\n",
       "    .dataframe thead th {\n",
       "        text-align: right;\n",
       "    }\n",
       "</style>\n",
       "<table border=\"1\" class=\"dataframe\">\n",
       "  <thead>\n",
       "    <tr style=\"text-align: right;\">\n",
       "      <th></th>\n",
       "      <th>num_orders</th>\n",
       "    </tr>\n",
       "    <tr>\n",
       "      <th>datetime</th>\n",
       "      <th></th>\n",
       "    </tr>\n",
       "  </thead>\n",
       "  <tbody>\n",
       "    <tr>\n",
       "      <th>2018-03-01 00:00:00</th>\n",
       "      <td>9</td>\n",
       "    </tr>\n",
       "    <tr>\n",
       "      <th>2018-03-01 00:10:00</th>\n",
       "      <td>14</td>\n",
       "    </tr>\n",
       "    <tr>\n",
       "      <th>2018-03-01 00:20:00</th>\n",
       "      <td>28</td>\n",
       "    </tr>\n",
       "    <tr>\n",
       "      <th>2018-03-01 00:30:00</th>\n",
       "      <td>20</td>\n",
       "    </tr>\n",
       "    <tr>\n",
       "      <th>2018-03-01 00:40:00</th>\n",
       "      <td>32</td>\n",
       "    </tr>\n",
       "  </tbody>\n",
       "</table>\n",
       "</div>"
      ],
      "text/plain": [
       "                     num_orders\n",
       "datetime                       \n",
       "2018-03-01 00:00:00           9\n",
       "2018-03-01 00:10:00          14\n",
       "2018-03-01 00:20:00          28\n",
       "2018-03-01 00:30:00          20\n",
       "2018-03-01 00:40:00          32"
      ]
     },
     "execution_count": 60,
     "metadata": {},
     "output_type": "execute_result"
    }
   ],
   "source": [
    "data.head()"
   ]
  },
  {
   "cell_type": "code",
   "execution_count": 61,
   "metadata": {},
   "outputs": [
    {
     "name": "stdout",
     "output_type": "stream",
     "text": [
      "<class 'pandas.core.frame.DataFrame'>\n",
      "DatetimeIndex: 26496 entries, 2018-03-01 00:00:00 to 2018-08-31 23:50:00\n",
      "Data columns (total 1 columns):\n",
      " #   Column      Non-Null Count  Dtype\n",
      "---  ------      --------------  -----\n",
      " 0   num_orders  26496 non-null  int64\n",
      "dtypes: int64(1)\n",
      "memory usage: 414.0 KB\n"
     ]
    }
   ],
   "source": [
    "data.info()"
   ]
  },
  {
   "cell_type": "markdown",
   "metadata": {},
   "source": [
    "## Preparation"
   ]
  },
  {
   "cell_type": "code",
   "execution_count": 62,
   "metadata": {},
   "outputs": [],
   "source": [
    "data = data.drop_duplicates()"
   ]
  },
  {
   "cell_type": "code",
   "execution_count": 63,
   "metadata": {},
   "outputs": [
    {
     "data": {
      "text/plain": [
       "0"
      ]
     },
     "execution_count": 63,
     "metadata": {},
     "output_type": "execute_result"
    }
   ],
   "source": [
    "data.duplicated().sum()"
   ]
  },
  {
   "cell_type": "code",
   "execution_count": 64,
   "metadata": {},
   "outputs": [
    {
     "data": {
      "text/plain": [
       "0"
      ]
     },
     "execution_count": 64,
     "metadata": {},
     "output_type": "execute_result"
    }
   ],
   "source": [
    "data.isnull().sum().sum()"
   ]
  },
  {
   "cell_type": "code",
   "execution_count": 65,
   "metadata": {},
   "outputs": [
    {
     "data": {
      "text/plain": [
       "True"
      ]
     },
     "metadata": {},
     "output_type": "display_data"
    }
   ],
   "source": [
    "is_chronological = data.index.is_monotonic\n",
    "data.sort_index(inplace=True)\n",
    "display(data.index.is_monotonic)"
   ]
  },
  {
   "cell_type": "code",
   "execution_count": 66,
   "metadata": {},
   "outputs": [],
   "source": [
    "data = data['2018-03-01':'2018-08-31']"
   ]
  },
  {
   "cell_type": "code",
   "execution_count": 67,
   "metadata": {},
   "outputs": [
    {
     "data": {
      "image/png": "[encoded data removed]",
      "text/plain": [
       "<Figure size 640x480 with 1 Axes>"
      ]
     },
     "metadata": {},
     "output_type": "display_data"
    }
   ],
   "source": [
    "data.plot()\n",
    "plt.show()"
   ]
  },
  {
   "cell_type": "code",
   "execution_count": 68,
   "metadata": {},
   "outputs": [
    {
     "data": {
      "text/plain": [
       "Timestamp('2018-03-01 00:00:00')"
      ]
     },
     "metadata": {},
     "output_type": "display_data"
    },
    {
     "data": {
      "text/plain": [
       "Timestamp('2018-08-30 18:00:00')"
      ]
     },
     "metadata": {},
     "output_type": "display_data"
    }
   ],
   "source": [
    "display(data.index.min(), data.index.max())"
   ]
  },
  {
   "cell_type": "code",
   "execution_count": null,
   "metadata": {},
   "outputs": [],
   "source": []
  },
  {
   "cell_type": "code",
   "execution_count": 69,
   "metadata": {},
   "outputs": [
    {
     "data": {
      "text/html": [
       "<div>\n",
       "<style scoped>\n",
       "    .dataframe tbody tr th:only-of-type {\n",
       "        vertical-align: middle;\n",
       "    }\n",
       "\n",
       "    .dataframe tbody tr th {\n",
       "        vertical-align: top;\n",
       "    }\n",
       "\n",
       "    .dataframe thead th {\n",
       "        text-align: right;\n",
       "    }\n",
       "</style>\n",
       "<table border=\"1\" class=\"dataframe\">\n",
       "  <thead>\n",
       "    <tr style=\"text-align: right;\">\n",
       "      <th></th>\n",
       "      <th>num_orders</th>\n",
       "    </tr>\n",
       "  </thead>\n",
       "  <tbody>\n",
       "    <tr>\n",
       "      <th>count</th>\n",
       "      <td>81.000000</td>\n",
       "    </tr>\n",
       "    <tr>\n",
       "      <th>mean</th>\n",
       "      <td>42.777778</td>\n",
       "    </tr>\n",
       "    <tr>\n",
       "      <th>std</th>\n",
       "      <td>28.156260</td>\n",
       "    </tr>\n",
       "    <tr>\n",
       "      <th>min</th>\n",
       "      <td>0.000000</td>\n",
       "    </tr>\n",
       "    <tr>\n",
       "      <th>25%</th>\n",
       "      <td>20.000000</td>\n",
       "    </tr>\n",
       "    <tr>\n",
       "      <th>50%</th>\n",
       "      <td>40.000000</td>\n",
       "    </tr>\n",
       "    <tr>\n",
       "      <th>75%</th>\n",
       "      <td>61.000000</td>\n",
       "    </tr>\n",
       "    <tr>\n",
       "      <th>max</th>\n",
       "      <td>119.000000</td>\n",
       "    </tr>\n",
       "  </tbody>\n",
       "</table>\n",
       "</div>"
      ],
      "text/plain": [
       "       num_orders\n",
       "count   81.000000\n",
       "mean    42.777778\n",
       "std     28.156260\n",
       "min      0.000000\n",
       "25%     20.000000\n",
       "50%     40.000000\n",
       "75%     61.000000\n",
       "max    119.000000"
      ]
     },
     "execution_count": 69,
     "metadata": {},
     "output_type": "execute_result"
    }
   ],
   "source": [
    "data.describe()"
   ]
  },
  {
   "cell_type": "markdown",
   "metadata": {},
   "source": [
    "## Analysis"
   ]
  },
  {
   "cell_type": "markdown",
   "metadata": {},
   "source": [
    "**Here are some keys observations from the plot.**\n",
    "\n",
    "**Trend:**\n",
    "**The plot shows seasonal fluctuations with peaks and valleys, suggesting periodic patterns in taxi demand.**\n",
    "**There is no clear upward or downward trend over the 6-month period—the data appears relatively stable in the long term, with no significant growth or decline.**\n",
    "\n",
    "**Seasonality:**\n",
    "**Weekly patterns here could be the repeated spikes and dips likely represent daily or weekly cycles (low/higher demand on weekends or weekdays).**\n",
    "**Monthly patterns could imply that some months (June–July) may show slightly higher or lower demand, possibly due to holidays, weather, or events.**\n",
    "\n",
    "**Outliers:**\n",
    "**A few sharp spikes here, we see values reaching 120 that stand out from the usual range of about 20–80.**\n",
    "\n",
    "**Missing September Data:**\n",
    "**The x-axis includes \"2018-09,\" but the plotted data ends in August.This could be a labeling error or truncated data.(?)**\n",
    "**the display(data.index.min(), data.index.max()) indicate also a Timestamp('2018-03-01 00:00:00') and Timestamp('2018-08-30 18:00:00') missing '2018-08-31'.**\n",
    "\n"
   ]
  },
  {
   "cell_type": "code",
   "execution_count": 70,
   "metadata": {},
   "outputs": [
    {
     "data": {
      "image/png": "[encoded data removed]",
      "text/plain": [
       "<Figure size 1200x600 with 1 Axes>"
      ]
     },
     "metadata": {},
     "output_type": "display_data"
    }
   ],
   "source": [
    "# data resampled daily\n",
    "daily_resample = data.resample('1D').sum().plot(figsize=(12, 6))\n",
    "\n",
    "# let set x-axis limits to match data range\n",
    "daily_resample.set_xlim([data.index.min(), data.index.max()]) \n",
    "\n",
    "# let format x-axis to show months\n",
    "daily_resample.xaxis.set_major_locator(mdates.MonthLocator())\n",
    "daily_resample.xaxis.set_major_formatter(mdates.DateFormatter('%Y-%m'))\n",
    "plt.title('Taxi Orders (March–August 2018)') \n",
    "plt.show()"
   ]
  },
  {
   "cell_type": "code",
   "execution_count": 71,
   "metadata": {},
   "outputs": [],
   "source": [
    "data = data['2018-03-01':'2018-08-30'].resample('1H').sum()"
   ]
  },
  {
   "cell_type": "code",
   "execution_count": 72,
   "metadata": {},
   "outputs": [],
   "source": [
    "data['rolling_mean'] = data['num_orders'].rolling(window=10, min_periods=1).mean()"
   ]
  },
  {
   "cell_type": "code",
   "execution_count": 73,
   "metadata": {},
   "outputs": [],
   "source": [
    "decomposed = seasonal_decompose(data['num_orders'], period=24)"
   ]
  },
  {
   "cell_type": "code",
   "execution_count": 74,
   "metadata": {},
   "outputs": [
    {
     "data": {
      "image/png": "[encoded data removed]",
      "text/plain": [
       "<Figure size 600x800 with 3 Axes>"
      ]
     },
     "metadata": {},
     "output_type": "display_data"
    }
   ],
   "source": [
    "plt.figure(figsize=(6, 8))\n",
    "plt.subplot(311)\n",
    "# To display the graph correctly, specify its\n",
    "# axes ax equal to plt.gca() (gca = get current axis)\n",
    "decomposed.trend.plot(ax=plt.gca())\n",
    "plt.title('Trend')\n",
    "plt.subplot(312)\n",
    "decomposed.seasonal.plot(ax=plt.gca())# < write code here >\n",
    "plt.title('Seasonality')\n",
    "plt.subplot(313)\n",
    "decomposed.resid.plot(ax=plt.gca())# < write code here >\n",
    "plt.title('Residuals')\n",
    "plt.tight_layout()"
   ]
  },
  {
   "cell_type": "code",
   "execution_count": 75,
   "metadata": {},
   "outputs": [],
   "source": [
    "data['diff'] = data['num_orders'] - data['num_orders'].shift(1)\n",
    "data['rolling_mean'] = data['num_orders'].rolling(15).mean()\n",
    "data['rolling_std'] = data['num_orders'].rolling(15).std()\n",
    "data.dropna(inplace=True)"
   ]
  },
  {
   "cell_type": "code",
   "execution_count": 76,
   "metadata": {},
   "outputs": [],
   "source": [
    "def make_features(data, max_lag, rolling_mean_size):\n",
    "    data['year'] = data.index.year\n",
    "    data['month'] = data.index.month\n",
    "    data['day'] = data.index.day\n",
    "    data['dayofweek'] = data.index.dayofweek\n",
    "    data['hour'] = data.index.hour\n",
    "    data['is_weekend'] = data['dayofweek'].isin([5, 6]).astype(int)\n",
    "    \n",
    "    for lag in range(1, max_lag + 1):\n",
    "        data[f'lag_{lag}'] = data['num_orders'].shift(lag)\n",
    "           \n",
    "    \n",
    "    data[f'rolling_mean_{rolling_mean_size}'] = (\n",
    "        data['num_orders'].shift(1).rolling(rolling_mean_size).mean() )\n",
    "    \n",
    "# we chose argument values at random\n",
    "make_features(data, 1, 1)    "
   ]
  },
  {
   "cell_type": "code",
   "execution_count": null,
   "metadata": {},
   "outputs": [],
   "source": []
  },
  {
   "cell_type": "markdown",
   "metadata": {},
   "source": [
    "## Training / Testing"
   ]
  },
  {
   "cell_type": "code",
   "execution_count": 77,
   "metadata": {},
   "outputs": [],
   "source": [
    "train, test = train_test_split(data, shuffle=False, test_size=0.1)\n",
    "train = train.dropna()"
   ]
  },
  {
   "cell_type": "code",
   "execution_count": null,
   "metadata": {},
   "outputs": [],
   "source": []
  },
  {
   "cell_type": "code",
   "execution_count": 78,
   "metadata": {},
   "outputs": [],
   "source": [
    "features_train = train.drop(['num_orders'], axis=1)\n",
    "target_train = train['num_orders']\n",
    "features_test = test.drop(['num_orders'], axis=1)\n",
    "target_test = test['num_orders']"
   ]
  },
  {
   "cell_type": "code",
   "execution_count": null,
   "metadata": {},
   "outputs": [],
   "source": []
  },
  {
   "cell_type": "markdown",
   "metadata": {},
   "source": [
    "# MODEL_1 : Random Forest with hyperparameters"
   ]
  },
  {
   "cell_type": "code",
   "execution_count": 79,
   "metadata": {},
   "outputs": [
    {
     "data": {
      "text/plain": [
       "'Best Model -> n_estimators=50, max_depth=5, RMSE=15.83'"
      ]
     },
     "metadata": {},
     "output_type": "display_data"
    }
   ],
   "source": [
    "best_rmse = float('inf')\n",
    "best_params = {}\n",
    "\n",
    "for n_estimators in [50, 100, 200]:\n",
    "    for max_depth in [5, 10, None]:\n",
    "        model = RandomForestRegressor(n_estimators=n_estimators, max_depth=max_depth, random_state=12345)\n",
    "        model.fit(features_train, target_train)\n",
    "        pred = model.predict(features_test)\n",
    "        rmse = mean_squared_error(target_test, pred, squared=False)\n",
    "\n",
    "        if rmse < best_rmse:\n",
    "            best_rmse = rmse\n",
    "            best_params = {'n_estimators': n_estimators,'max_depth': max_depth,'rmse': rmse }\n",
    "            \n",
    "\n",
    "display(f\"Best Model -> n_estimators={best_params['n_estimators']}, \"\n",
    "      f\"max_depth={best_params['max_depth']}, RMSE={best_params['rmse']:.2f}\")"
   ]
  },
  {
   "cell_type": "code",
   "execution_count": null,
   "metadata": {},
   "outputs": [],
   "source": []
  },
  {
   "cell_type": "markdown",
   "metadata": {},
   "source": [
    "# MODEL_2 : AR model"
   ]
  },
  {
   "cell_type": "code",
   "execution_count": 80,
   "metadata": {},
   "outputs": [
    {
     "data": {
      "text/plain": [
       "28.437"
      ]
     },
     "metadata": {},
     "output_type": "display_data"
    }
   ],
   "source": [
    "# find optimal number of lags\n",
    "mod = ar_select_order(endog=train['num_orders'], maxlag=30)\n",
    "ar_order = mod.ar_lags\n",
    "\n",
    "# create AR model and fit it using the training set\n",
    "ar_model = AutoReg(train['num_orders'], lags=ar_order, seasonal=True)\n",
    "ar_model = ar_model.fit()\n",
    "\n",
    "# make predictions\n",
    "start_value = len(train)\n",
    "end_value = len(train) + len(test) - 1\n",
    "ar_pred = ar_model.predict(start=start_value, end=end_value, dynamic=False)\n",
    "\n",
    "# evaluate model using RMSE\n",
    "ar_rmse_value = mean_squared_error(test['num_orders'], ar_pred, squared=False)\n",
    "display(ar_rmse_value.round(3))\n"
   ]
  },
  {
   "cell_type": "code",
   "execution_count": null,
   "metadata": {},
   "outputs": [],
   "source": []
  },
  {
   "cell_type": "markdown",
   "metadata": {},
   "source": [
    "# MODEL_3 : Moving Average"
   ]
  },
  {
   "cell_type": "code",
   "execution_count": 81,
   "metadata": {},
   "outputs": [
    {
     "data": {
      "text/plain": [
       "28.521"
      ]
     },
     "metadata": {},
     "output_type": "display_data"
    }
   ],
   "source": [
    "# find best MA model order\n",
    "res = arma_order_select_ic(y=train['num_orders'], max_ar=0, max_ma=10)\n",
    "ma_order = res.bic_min_order[1]# extract MA order from res\n",
    "\n",
    "# create and fit MA model\n",
    "ma_model = ARIMA(train['num_orders'], order=(0, 0, ma_order)) # pass order values #for MA\n",
    "ma_model = ma_model.fit()\n",
    "\n",
    "# make predictions\n",
    "start_value = len(train)# calculate starting point for predicitons\n",
    "end_value = len(train) + len(test) - 1# calculate ending point for #predictions\n",
    "ma_pred = ma_model.predict(start=start_value, end=end_value, dynamic=False)\n",
    "\n",
    "# evaluate model using RMSE\n",
    "ma_rmse_value = mean_squared_error(test['num_orders'], ma_pred, squared=False)\n",
    "display(ma_rmse_value.round(3))"
   ]
  },
  {
   "cell_type": "code",
   "execution_count": null,
   "metadata": {},
   "outputs": [],
   "source": []
  },
  {
   "cell_type": "code",
   "execution_count": 82,
   "metadata": {},
   "outputs": [
    {
     "data": {
      "text/plain": [
       "'P-value:'"
      ]
     },
     "metadata": {},
     "output_type": "display_data"
    },
    {
     "data": {
      "text/plain": [
       "0.0"
      ]
     },
     "metadata": {},
     "output_type": "display_data"
    }
   ],
   "source": [
    "df_stationarityTest = adfuller(train['num_orders'], autolag='AIC')\n",
    "display(\"P-value:\", df_stationarityTest[1])"
   ]
  },
  {
   "cell_type": "code",
   "execution_count": null,
   "metadata": {},
   "outputs": [],
   "source": []
  },
  {
   "cell_type": "markdown",
   "metadata": {},
   "source": [
    "# MODEL_4 :  Best ARIMA-like mode(Using auto_arima())."
   ]
  },
  {
   "cell_type": "code",
   "execution_count": null,
   "metadata": {},
   "outputs": [
    {
     "name": "stdout",
     "output_type": "stream",
     "text": [
      "Performing stepwise search to minimize aic\n"
     ]
    }
   ],
   "source": [
    "model = auto_arima(train['num_orders'],\n",
    "                  stationary=True,  # We know it's stationary\n",
    "                  seasonal=True,\n",
    "                  m=12,  # Assuming yearly seasonality\n",
    "                  trace=True,\n",
    "                  error_action='ignore',\n",
    "                  suppress_warnings=True)"
   ]
  },
  {
   "cell_type": "code",
   "execution_count": null,
   "metadata": {},
   "outputs": [],
   "source": [
    "# Get the correct number of steps to forecast\n",
    "n_forecast_steps = len(test)\n",
    "# Make predictions (ensure this matches test set length)\n",
    "predictions = model.predict(n_periods=n_forecast_steps)\n",
    "# Create a new column initialized with NaN\n",
    "data['predicted_num_orders'] = np.nan\n",
    "\n",
    "# Rename the original column\n",
    "data.rename(columns={'num_orders': 'actual_num_orders'}, inplace=True)\n",
    "test.rename(columns={'num_orders': 'actual_num_orders'}, inplace=True)\n",
    "# Fill predictions only in the test period indices\n",
    "data.loc[test.index, 'predicted_num_orders'] = predictions.values  # Fixed typo in column name\n",
    "# Evaluate the model predictions\n",
    "auto_arima_rmse_value = mean_squared_error(test['actual_num_orders'], predictions, squared=False)\n",
    "print(f\"Test RMSE: {auto_arima_rmse_value:.2f}\")\n",
    "# Plot the results with proper formatting\n",
    "plt.figure(figsize=(12, 6))\n",
    "plt.plot(data.index, data['actual_num_orders'], label='Actual', color='blue')\n",
    "plt.plot(data.index, data['predicted_num_orders'], label='Predicted', color='orange', linestyle='--')\n",
    "plt.axvline(x=train.index[-1], color='gray', linestyle='--', label='Train/Test Split')\n",
    "plt.title('Actual vs Predicted Orders')\n",
    "plt.xlabel('Date')\n",
    "plt.ylabel('Number of Orders')\n",
    "plt.legend()\n",
    "plt.grid(True)\n",
    "plt.show()\n",
    "\n",
    "model.summary()"
   ]
  },
  {
   "cell_type": "code",
   "execution_count": null,
   "metadata": {},
   "outputs": [],
   "source": []
  },
  {
   "cell_type": "markdown",
   "metadata": {},
   "source": [
    "# Conclusion\n",
    "\n",
    "**From all the model train above we see that Random Forest moedel have the lowest RMSE at just under 16.From the Best ARIMA-like mode(Using auto_arima()) the data pattern hows strong weekly seasonality (regular peaks/valleys),possible slight upward trend over the 6-month period and the variance appears relatively stable (no extreme volatility).We can also point that the predictions (orange dashed line) generally follow the actual pattern and captures the seasonal peaks reasonably well.**"
   ]
  },
  {
   "cell_type": "code",
   "execution_count": null,
   "metadata": {},
   "outputs": [],
   "source": []
  },
  {
   "cell_type": "markdown",
   "metadata": {},
   "source": [
    "# Review checklist"
   ]
  },
  {
   "cell_type": "markdown",
   "metadata": {},
   "source": [
    "- [x ]  Jupyter Notebook is open\n",
    "- [x ]  The code is error-free\n",
    "- [x ]  The cells with the code have been arranged in order of execution\n",
    "- [x ]  The data has been downloaded and prepared\n",
    "- [x ]  The data has been analyzed\n",
    "- [x ]  The model has been trained and hyperparameters have been selected\n",
    "- [x ]  The models have been evaluated. Conclusion has been provided\n",
    "- [x ] *RMSE* for the test set is not more than 48"
   ]
  },
  {
   "cell_type": "code",
   "execution_count": null,
   "metadata": {},
   "outputs": [],
   "source": []
  }
 ],
 "metadata": {
  "ExecuteTimeLog": [
   {
    "duration": 2158,
    "start_time": "2025-05-03T17:53:15.960Z"
   },
   {
    "duration": 12,
    "start_time": "2025-05-03T17:53:18.120Z"
   },
   {
    "duration": 0,
    "start_time": "2025-05-03T17:53:18.134Z"
   },
   {
    "duration": 27,
    "start_time": "2025-05-03T17:56:04.950Z"
   },
   {
    "duration": 10,
    "start_time": "2025-05-03T17:56:29.794Z"
   },
   {
    "duration": 226,
    "start_time": "2025-05-03T17:59:07.953Z"
   },
   {
    "duration": 20,
    "start_time": "2025-05-03T17:59:37.295Z"
   },
   {
    "duration": 21,
    "start_time": "2025-05-03T18:00:04.510Z"
   },
   {
    "duration": 416,
    "start_time": "2025-05-03T18:00:06.809Z"
   },
   {
    "duration": 8,
    "start_time": "2025-05-03T18:05:52.353Z"
   },
   {
    "duration": 4,
    "start_time": "2025-05-03T18:13:25.606Z"
   },
   {
    "duration": 5,
    "start_time": "2025-05-03T18:13:26.408Z"
   },
   {
    "duration": 3,
    "start_time": "2025-05-03T18:14:27.216Z"
   },
   {
    "duration": 4,
    "start_time": "2025-05-03T18:14:28.003Z"
   },
   {
    "duration": 4,
    "start_time": "2025-05-03T18:15:12.488Z"
   },
   {
    "duration": 4,
    "start_time": "2025-05-03T18:17:30.137Z"
   },
   {
    "duration": 5,
    "start_time": "2025-05-03T18:22:00.155Z"
   },
   {
    "duration": 431,
    "start_time": "2025-05-03T18:22:19.529Z"
   },
   {
    "duration": 51,
    "start_time": "2025-05-03T18:22:19.962Z"
   },
   {
    "duration": 16,
    "start_time": "2025-05-03T18:22:20.016Z"
   },
   {
    "duration": 7,
    "start_time": "2025-05-03T18:22:20.034Z"
   },
   {
    "duration": 3,
    "start_time": "2025-05-03T18:22:20.044Z"
   },
   {
    "duration": 4,
    "start_time": "2025-05-03T18:22:20.049Z"
   },
   {
    "duration": 4,
    "start_time": "2025-05-03T18:22:20.055Z"
   },
   {
    "duration": 166,
    "start_time": "2025-05-03T18:22:20.060Z"
   },
   {
    "duration": 5,
    "start_time": "2025-05-03T18:42:59.499Z"
   },
   {
    "duration": 4,
    "start_time": "2025-05-03T18:43:00.692Z"
   },
   {
    "duration": 5,
    "start_time": "2025-05-03T18:47:31.443Z"
   },
   {
    "duration": 7,
    "start_time": "2025-05-03T18:48:38.365Z"
   },
   {
    "duration": 3,
    "start_time": "2025-05-03T18:56:25.802Z"
   },
   {
    "duration": 411,
    "start_time": "2025-05-03T18:56:26.698Z"
   },
   {
    "duration": 428,
    "start_time": "2025-05-03T18:57:47.173Z"
   },
   {
    "duration": 438,
    "start_time": "2025-05-03T18:57:47.603Z"
   },
   {
    "duration": 0,
    "start_time": "2025-05-03T18:57:48.043Z"
   },
   {
    "duration": 0,
    "start_time": "2025-05-03T18:57:48.045Z"
   },
   {
    "duration": 0,
    "start_time": "2025-05-03T18:57:48.046Z"
   },
   {
    "duration": 0,
    "start_time": "2025-05-03T18:57:48.048Z"
   },
   {
    "duration": 0,
    "start_time": "2025-05-03T18:57:48.049Z"
   },
   {
    "duration": 0,
    "start_time": "2025-05-03T18:57:48.050Z"
   },
   {
    "duration": 0,
    "start_time": "2025-05-03T18:57:48.052Z"
   },
   {
    "duration": 0,
    "start_time": "2025-05-03T18:57:48.053Z"
   },
   {
    "duration": 0,
    "start_time": "2025-05-03T18:57:48.055Z"
   },
   {
    "duration": 50,
    "start_time": "2025-05-03T19:00:46.237Z"
   },
   {
    "duration": 17,
    "start_time": "2025-05-03T19:01:25.942Z"
   },
   {
    "duration": 2,
    "start_time": "2025-05-03T19:03:37.107Z"
   },
   {
    "duration": 33,
    "start_time": "2025-05-03T19:03:37.972Z"
   },
   {
    "duration": 19,
    "start_time": "2025-05-03T19:11:22.404Z"
   },
   {
    "duration": 3,
    "start_time": "2025-05-03T19:11:53.202Z"
   },
   {
    "duration": 18,
    "start_time": "2025-05-03T19:11:54.010Z"
   },
   {
    "duration": 7,
    "start_time": "2025-05-03T19:11:55.298Z"
   },
   {
    "duration": 8,
    "start_time": "2025-05-03T19:12:02.083Z"
   },
   {
    "duration": 4,
    "start_time": "2025-05-03T19:12:13.322Z"
   },
   {
    "duration": 4,
    "start_time": "2025-05-03T19:12:14.138Z"
   },
   {
    "duration": 4,
    "start_time": "2025-05-03T19:12:15.704Z"
   },
   {
    "duration": 4,
    "start_time": "2025-05-03T19:12:21.367Z"
   },
   {
    "duration": 4,
    "start_time": "2025-05-03T19:13:49.991Z"
   },
   {
    "duration": 5,
    "start_time": "2025-05-03T19:13:51.833Z"
   },
   {
    "duration": 184,
    "start_time": "2025-05-03T19:13:52.791Z"
   },
   {
    "duration": 10,
    "start_time": "2025-05-03T19:32:31.257Z"
   },
   {
    "duration": 5,
    "start_time": "2025-05-03T19:43:03.319Z"
   },
   {
    "duration": 2142,
    "start_time": "2025-05-04T00:50:55.513Z"
   },
   {
    "duration": 32,
    "start_time": "2025-05-04T00:50:57.658Z"
   },
   {
    "duration": 7,
    "start_time": "2025-05-04T00:50:57.691Z"
   },
   {
    "duration": 7,
    "start_time": "2025-05-04T00:50:57.700Z"
   },
   {
    "duration": 3,
    "start_time": "2025-05-04T00:50:57.711Z"
   },
   {
    "duration": 5,
    "start_time": "2025-05-04T00:50:57.715Z"
   },
   {
    "duration": 5,
    "start_time": "2025-05-04T00:50:57.721Z"
   },
   {
    "duration": 4,
    "start_time": "2025-05-04T00:50:57.727Z"
   },
   {
    "duration": 5,
    "start_time": "2025-05-04T00:50:57.732Z"
   },
   {
    "duration": 220,
    "start_time": "2025-05-04T00:50:57.739Z"
   },
   {
    "duration": 7,
    "start_time": "2025-05-04T00:50:57.961Z"
   },
   {
    "duration": 19,
    "start_time": "2025-05-04T00:50:57.970Z"
   },
   {
    "duration": 418,
    "start_time": "2025-05-04T01:01:19.822Z"
   },
   {
    "duration": 52,
    "start_time": "2025-05-04T01:01:20.243Z"
   },
   {
    "duration": 8,
    "start_time": "2025-05-04T01:01:20.297Z"
   },
   {
    "duration": 8,
    "start_time": "2025-05-04T01:01:20.306Z"
   },
   {
    "duration": 4,
    "start_time": "2025-05-04T01:01:20.316Z"
   },
   {
    "duration": 4,
    "start_time": "2025-05-04T01:01:20.321Z"
   },
   {
    "duration": 5,
    "start_time": "2025-05-04T01:01:20.327Z"
   },
   {
    "duration": 5,
    "start_time": "2025-05-04T01:01:20.333Z"
   },
   {
    "duration": 5,
    "start_time": "2025-05-04T01:01:20.339Z"
   },
   {
    "duration": 147,
    "start_time": "2025-05-04T01:01:20.386Z"
   },
   {
    "duration": 5,
    "start_time": "2025-05-04T01:01:20.535Z"
   },
   {
    "duration": 9,
    "start_time": "2025-05-04T01:01:20.542Z"
   },
   {
    "duration": 220,
    "start_time": "2025-05-04T01:03:00.681Z"
   },
   {
    "duration": 86,
    "start_time": "2025-05-04T01:03:28.169Z"
   },
   {
    "duration": 92,
    "start_time": "2025-05-04T01:03:37.001Z"
   },
   {
    "duration": 196,
    "start_time": "2025-05-04T01:03:43.013Z"
   },
   {
    "duration": 215,
    "start_time": "2025-05-04T01:06:12.451Z"
   },
   {
    "duration": 7,
    "start_time": "2025-05-04T01:27:50.805Z"
   },
   {
    "duration": 6,
    "start_time": "2025-05-04T01:30:04.171Z"
   },
   {
    "duration": 4,
    "start_time": "2025-05-04T01:34:27.264Z"
   },
   {
    "duration": 7,
    "start_time": "2025-05-04T01:47:09.325Z"
   },
   {
    "duration": 3,
    "start_time": "2025-05-04T01:47:10.073Z"
   },
   {
    "duration": 798,
    "start_time": "2025-05-04T01:48:51.075Z"
   },
   {
    "duration": 28,
    "start_time": "2025-05-04T01:48:51.875Z"
   },
   {
    "duration": 9,
    "start_time": "2025-05-04T01:48:51.905Z"
   },
   {
    "duration": 8,
    "start_time": "2025-05-04T01:48:51.916Z"
   },
   {
    "duration": 3,
    "start_time": "2025-05-04T01:48:51.928Z"
   },
   {
    "duration": 4,
    "start_time": "2025-05-04T01:48:51.933Z"
   },
   {
    "duration": 4,
    "start_time": "2025-05-04T01:48:51.939Z"
   },
   {
    "duration": 41,
    "start_time": "2025-05-04T01:48:51.945Z"
   },
   {
    "duration": 10,
    "start_time": "2025-05-04T01:48:51.988Z"
   },
   {
    "duration": 172,
    "start_time": "2025-05-04T01:48:52.000Z"
   },
   {
    "duration": 14,
    "start_time": "2025-05-04T01:48:52.175Z"
   },
   {
    "duration": 10,
    "start_time": "2025-05-04T01:48:52.191Z"
   },
   {
    "duration": 227,
    "start_time": "2025-05-04T01:48:52.203Z"
   },
   {
    "duration": 7,
    "start_time": "2025-05-04T01:48:52.434Z"
   },
   {
    "duration": 6,
    "start_time": "2025-05-04T01:48:52.442Z"
   },
   {
    "duration": 743,
    "start_time": "2025-05-04T01:51:35.177Z"
   },
   {
    "duration": 714,
    "start_time": "2025-05-04T01:51:53.853Z"
   },
   {
    "duration": 25,
    "start_time": "2025-05-04T01:51:54.570Z"
   },
   {
    "duration": 7,
    "start_time": "2025-05-04T01:51:54.598Z"
   },
   {
    "duration": 10,
    "start_time": "2025-05-04T01:51:54.607Z"
   },
   {
    "duration": 4,
    "start_time": "2025-05-04T01:51:54.620Z"
   },
   {
    "duration": 4,
    "start_time": "2025-05-04T01:51:54.626Z"
   },
   {
    "duration": 5,
    "start_time": "2025-05-04T01:51:54.633Z"
   },
   {
    "duration": 4,
    "start_time": "2025-05-04T01:51:54.639Z"
   },
   {
    "duration": 5,
    "start_time": "2025-05-04T01:51:54.644Z"
   },
   {
    "duration": 173,
    "start_time": "2025-05-04T01:51:54.650Z"
   },
   {
    "duration": 7,
    "start_time": "2025-05-04T01:51:54.824Z"
   },
   {
    "duration": 9,
    "start_time": "2025-05-04T01:51:54.832Z"
   },
   {
    "duration": 221,
    "start_time": "2025-05-04T01:51:54.843Z"
   },
   {
    "duration": 7,
    "start_time": "2025-05-04T01:51:55.067Z"
   },
   {
    "duration": 5,
    "start_time": "2025-05-04T01:51:55.087Z"
   },
   {
    "duration": 842,
    "start_time": "2025-05-04T01:51:55.094Z"
   },
   {
    "duration": 9,
    "start_time": "2025-05-04T01:54:25.743Z"
   },
   {
    "duration": 0,
    "start_time": "2025-05-04T01:54:25.754Z"
   },
   {
    "duration": 0,
    "start_time": "2025-05-04T01:54:25.755Z"
   },
   {
    "duration": 0,
    "start_time": "2025-05-04T01:54:25.757Z"
   },
   {
    "duration": 0,
    "start_time": "2025-05-04T01:54:25.758Z"
   },
   {
    "duration": 0,
    "start_time": "2025-05-04T01:54:25.760Z"
   },
   {
    "duration": 0,
    "start_time": "2025-05-04T01:54:25.761Z"
   },
   {
    "duration": 0,
    "start_time": "2025-05-04T01:54:25.762Z"
   },
   {
    "duration": 0,
    "start_time": "2025-05-04T01:54:25.763Z"
   },
   {
    "duration": 0,
    "start_time": "2025-05-04T01:54:25.764Z"
   },
   {
    "duration": 165,
    "start_time": "2025-05-04T01:54:25.768Z"
   },
   {
    "duration": 0,
    "start_time": "2025-05-04T01:54:25.934Z"
   },
   {
    "duration": 0,
    "start_time": "2025-05-04T01:54:25.935Z"
   },
   {
    "duration": 0,
    "start_time": "2025-05-04T01:54:25.936Z"
   },
   {
    "duration": 0,
    "start_time": "2025-05-04T01:54:25.937Z"
   },
   {
    "duration": 0,
    "start_time": "2025-05-04T01:54:25.938Z"
   },
   {
    "duration": 775,
    "start_time": "2025-05-04T01:56:38.786Z"
   },
   {
    "duration": 25,
    "start_time": "2025-05-04T01:56:39.563Z"
   },
   {
    "duration": 7,
    "start_time": "2025-05-04T01:56:39.589Z"
   },
   {
    "duration": 8,
    "start_time": "2025-05-04T01:56:39.597Z"
   },
   {
    "duration": 3,
    "start_time": "2025-05-04T01:56:39.607Z"
   },
   {
    "duration": 4,
    "start_time": "2025-05-04T01:56:39.612Z"
   },
   {
    "duration": 4,
    "start_time": "2025-05-04T01:56:39.617Z"
   },
   {
    "duration": 4,
    "start_time": "2025-05-04T01:56:39.622Z"
   },
   {
    "duration": 5,
    "start_time": "2025-05-04T01:56:39.627Z"
   },
   {
    "duration": 171,
    "start_time": "2025-05-04T01:56:39.634Z"
   },
   {
    "duration": 5,
    "start_time": "2025-05-04T01:56:39.807Z"
   },
   {
    "duration": 9,
    "start_time": "2025-05-04T01:56:39.814Z"
   },
   {
    "duration": 213,
    "start_time": "2025-05-04T01:56:39.825Z"
   },
   {
    "duration": 6,
    "start_time": "2025-05-04T01:56:40.041Z"
   },
   {
    "duration": 4,
    "start_time": "2025-05-04T01:56:40.049Z"
   },
   {
    "duration": 807,
    "start_time": "2025-05-04T01:56:40.054Z"
   },
   {
    "duration": 7,
    "start_time": "2025-05-04T02:05:25.110Z"
   },
   {
    "duration": 89,
    "start_time": "2025-05-04T02:07:02.863Z"
   },
   {
    "duration": 6,
    "start_time": "2025-05-04T02:08:11.056Z"
   },
   {
    "duration": 588,
    "start_time": "2025-05-04T02:08:13.671Z"
   },
   {
    "duration": 8,
    "start_time": "2025-05-04T02:20:58.895Z"
   },
   {
    "duration": 4,
    "start_time": "2025-05-04T02:39:52.179Z"
   },
   {
    "duration": 5,
    "start_time": "2025-05-04T02:44:59.832Z"
   },
   {
    "duration": 902,
    "start_time": "2025-05-04T02:51:40.485Z"
   },
   {
    "duration": 22,
    "start_time": "2025-05-04T02:51:41.389Z"
   },
   {
    "duration": 8,
    "start_time": "2025-05-04T02:51:41.412Z"
   },
   {
    "duration": 8,
    "start_time": "2025-05-04T02:51:41.422Z"
   },
   {
    "duration": 3,
    "start_time": "2025-05-04T02:51:41.432Z"
   },
   {
    "duration": 5,
    "start_time": "2025-05-04T02:51:41.436Z"
   },
   {
    "duration": 6,
    "start_time": "2025-05-04T02:51:41.442Z"
   },
   {
    "duration": 5,
    "start_time": "2025-05-04T02:51:41.450Z"
   },
   {
    "duration": 5,
    "start_time": "2025-05-04T02:51:41.487Z"
   },
   {
    "duration": 190,
    "start_time": "2025-05-04T02:51:41.493Z"
   },
   {
    "duration": 5,
    "start_time": "2025-05-04T02:51:41.687Z"
   },
   {
    "duration": 9,
    "start_time": "2025-05-04T02:51:41.694Z"
   },
   {
    "duration": 220,
    "start_time": "2025-05-04T02:51:41.705Z"
   },
   {
    "duration": 6,
    "start_time": "2025-05-04T02:51:41.929Z"
   },
   {
    "duration": 4,
    "start_time": "2025-05-04T02:51:41.936Z"
   },
   {
    "duration": 5,
    "start_time": "2025-05-04T02:51:41.942Z"
   },
   {
    "duration": 587,
    "start_time": "2025-05-04T02:51:41.948Z"
   },
   {
    "duration": 7,
    "start_time": "2025-05-04T02:51:42.537Z"
   },
   {
    "duration": 4,
    "start_time": "2025-05-04T02:51:42.546Z"
   },
   {
    "duration": 4,
    "start_time": "2025-05-04T02:52:20.991Z"
   },
   {
    "duration": 2595,
    "start_time": "2025-05-04T19:53:14.523Z"
   },
   {
    "duration": 29,
    "start_time": "2025-05-04T19:53:17.120Z"
   },
   {
    "duration": 7,
    "start_time": "2025-05-04T19:53:17.151Z"
   },
   {
    "duration": 9,
    "start_time": "2025-05-04T19:53:17.160Z"
   },
   {
    "duration": 3,
    "start_time": "2025-05-04T19:53:17.171Z"
   },
   {
    "duration": 5,
    "start_time": "2025-05-04T19:53:17.175Z"
   },
   {
    "duration": 4,
    "start_time": "2025-05-04T19:53:17.181Z"
   },
   {
    "duration": 4,
    "start_time": "2025-05-04T19:53:17.187Z"
   },
   {
    "duration": 38,
    "start_time": "2025-05-04T19:53:17.192Z"
   },
   {
    "duration": 135,
    "start_time": "2025-05-04T19:53:17.232Z"
   },
   {
    "duration": 5,
    "start_time": "2025-05-04T19:53:17.368Z"
   },
   {
    "duration": 9,
    "start_time": "2025-05-04T19:53:17.375Z"
   },
   {
    "duration": 222,
    "start_time": "2025-05-04T19:53:17.385Z"
   },
   {
    "duration": 12,
    "start_time": "2025-05-04T19:53:17.611Z"
   },
   {
    "duration": 3,
    "start_time": "2025-05-04T19:53:17.625Z"
   },
   {
    "duration": 5,
    "start_time": "2025-05-04T19:53:17.631Z"
   },
   {
    "duration": 620,
    "start_time": "2025-05-04T19:53:17.637Z"
   },
   {
    "duration": 8,
    "start_time": "2025-05-04T19:53:18.258Z"
   },
   {
    "duration": 4,
    "start_time": "2025-05-04T19:53:18.267Z"
   },
   {
    "duration": 4,
    "start_time": "2025-05-04T19:53:18.273Z"
   },
   {
    "duration": 6,
    "start_time": "2025-05-04T19:58:58.338Z"
   },
   {
    "duration": 10,
    "start_time": "2025-05-04T20:18:48.982Z"
   },
   {
    "duration": 4,
    "start_time": "2025-05-04T20:24:39.086Z"
   },
   {
    "duration": 1074,
    "start_time": "2025-05-04T20:35:03.845Z"
   },
   {
    "duration": 28,
    "start_time": "2025-05-04T20:35:04.924Z"
   },
   {
    "duration": 11,
    "start_time": "2025-05-04T20:35:04.954Z"
   },
   {
    "duration": 9,
    "start_time": "2025-05-04T20:35:04.967Z"
   },
   {
    "duration": 4,
    "start_time": "2025-05-04T20:35:04.979Z"
   },
   {
    "duration": 5,
    "start_time": "2025-05-04T20:35:04.984Z"
   },
   {
    "duration": 33,
    "start_time": "2025-05-04T20:35:04.991Z"
   },
   {
    "duration": 4,
    "start_time": "2025-05-04T20:35:05.026Z"
   },
   {
    "duration": 5,
    "start_time": "2025-05-04T20:35:05.033Z"
   },
   {
    "duration": 163,
    "start_time": "2025-05-04T20:35:05.040Z"
   },
   {
    "duration": 6,
    "start_time": "2025-05-04T20:35:05.205Z"
   },
   {
    "duration": 22,
    "start_time": "2025-05-04T20:35:05.213Z"
   },
   {
    "duration": 217,
    "start_time": "2025-05-04T20:35:05.237Z"
   },
   {
    "duration": 8,
    "start_time": "2025-05-04T20:35:05.458Z"
   },
   {
    "duration": 5,
    "start_time": "2025-05-04T20:35:05.468Z"
   },
   {
    "duration": 6,
    "start_time": "2025-05-04T20:35:05.474Z"
   },
   {
    "duration": 607,
    "start_time": "2025-05-04T20:35:05.482Z"
   },
   {
    "duration": 7,
    "start_time": "2025-05-04T20:35:06.091Z"
   },
   {
    "duration": 9,
    "start_time": "2025-05-04T20:35:06.100Z"
   },
   {
    "duration": 20,
    "start_time": "2025-05-04T20:35:06.111Z"
   },
   {
    "duration": 5,
    "start_time": "2025-05-04T20:35:06.133Z"
   },
   {
    "duration": 1574,
    "start_time": "2025-05-04T20:35:06.139Z"
   },
   {
    "duration": 1540,
    "start_time": "2025-05-04T20:42:51.366Z"
   },
   {
    "duration": 241,
    "start_time": "2025-05-04T21:51:28.559Z"
   },
   {
    "duration": 1046,
    "start_time": "2025-05-04T21:53:28.221Z"
   },
   {
    "duration": 3,
    "start_time": "2025-05-04T21:53:29.269Z"
   },
   {
    "duration": 25,
    "start_time": "2025-05-04T21:53:29.274Z"
   },
   {
    "duration": 9,
    "start_time": "2025-05-04T21:53:29.301Z"
   },
   {
    "duration": 10,
    "start_time": "2025-05-04T21:53:29.325Z"
   },
   {
    "duration": 4,
    "start_time": "2025-05-04T21:53:29.337Z"
   },
   {
    "duration": 5,
    "start_time": "2025-05-04T21:53:29.342Z"
   },
   {
    "duration": 5,
    "start_time": "2025-05-04T21:53:29.350Z"
   },
   {
    "duration": 5,
    "start_time": "2025-05-04T21:53:29.356Z"
   },
   {
    "duration": 4,
    "start_time": "2025-05-04T21:53:29.364Z"
   },
   {
    "duration": 181,
    "start_time": "2025-05-04T21:53:29.370Z"
   },
   {
    "duration": 5,
    "start_time": "2025-05-04T21:53:29.553Z"
   },
   {
    "duration": 10,
    "start_time": "2025-05-04T21:53:29.560Z"
   },
   {
    "duration": 237,
    "start_time": "2025-05-04T21:53:29.572Z"
   },
   {
    "duration": 13,
    "start_time": "2025-05-04T21:53:29.811Z"
   },
   {
    "duration": 5,
    "start_time": "2025-05-04T21:53:29.829Z"
   },
   {
    "duration": 6,
    "start_time": "2025-05-04T21:53:29.836Z"
   },
   {
    "duration": 554,
    "start_time": "2025-05-04T21:53:29.843Z"
   },
   {
    "duration": 6,
    "start_time": "2025-05-04T21:53:30.398Z"
   },
   {
    "duration": 9,
    "start_time": "2025-05-04T21:53:30.406Z"
   },
   {
    "duration": 11,
    "start_time": "2025-05-04T21:53:30.416Z"
   },
   {
    "duration": 5,
    "start_time": "2025-05-04T21:53:30.429Z"
   },
   {
    "duration": 1589,
    "start_time": "2025-05-04T21:53:30.436Z"
   },
   {
    "duration": 468,
    "start_time": "2025-05-04T21:53:32.026Z"
   },
   {
    "duration": 270,
    "start_time": "2025-05-04T21:57:40.257Z"
   },
   {
    "duration": 193,
    "start_time": "2025-05-04T22:01:04.412Z"
   },
   {
    "duration": 20,
    "start_time": "2025-05-04T22:12:16.924Z"
   },
   {
    "duration": 18,
    "start_time": "2025-05-04T22:13:11.024Z"
   },
   {
    "duration": 20,
    "start_time": "2025-05-04T22:13:49.229Z"
   },
   {
    "duration": 18,
    "start_time": "2025-05-04T22:15:00.984Z"
   },
   {
    "duration": 17,
    "start_time": "2025-05-04T22:20:04.580Z"
   },
   {
    "duration": 958,
    "start_time": "2025-05-04T22:20:50.181Z"
   },
   {
    "duration": 2,
    "start_time": "2025-05-04T22:20:51.141Z"
   },
   {
    "duration": 22,
    "start_time": "2025-05-04T22:20:51.145Z"
   },
   {
    "duration": 8,
    "start_time": "2025-05-04T22:20:51.168Z"
   },
   {
    "duration": 11,
    "start_time": "2025-05-04T22:20:51.179Z"
   },
   {
    "duration": 4,
    "start_time": "2025-05-04T22:20:51.192Z"
   },
   {
    "duration": 25,
    "start_time": "2025-05-04T22:20:51.199Z"
   },
   {
    "duration": 4,
    "start_time": "2025-05-04T22:20:51.226Z"
   },
   {
    "duration": 4,
    "start_time": "2025-05-04T22:20:51.232Z"
   },
   {
    "duration": 4,
    "start_time": "2025-05-04T22:20:51.238Z"
   },
   {
    "duration": 155,
    "start_time": "2025-05-04T22:20:51.244Z"
   },
   {
    "duration": 5,
    "start_time": "2025-05-04T22:20:51.401Z"
   },
   {
    "duration": 22,
    "start_time": "2025-05-04T22:20:51.408Z"
   },
   {
    "duration": 207,
    "start_time": "2025-05-04T22:20:51.433Z"
   },
   {
    "duration": 6,
    "start_time": "2025-05-04T22:20:51.642Z"
   },
   {
    "duration": 4,
    "start_time": "2025-05-04T22:20:51.650Z"
   },
   {
    "duration": 5,
    "start_time": "2025-05-04T22:20:51.655Z"
   },
   {
    "duration": 547,
    "start_time": "2025-05-04T22:20:51.661Z"
   },
   {
    "duration": 6,
    "start_time": "2025-05-04T22:20:52.210Z"
   },
   {
    "duration": 9,
    "start_time": "2025-05-04T22:20:52.218Z"
   },
   {
    "duration": 6,
    "start_time": "2025-05-04T22:20:52.228Z"
   },
   {
    "duration": 4,
    "start_time": "2025-05-04T22:20:52.235Z"
   },
   {
    "duration": 1546,
    "start_time": "2025-05-04T22:20:52.240Z"
   },
   {
    "duration": 347,
    "start_time": "2025-05-04T22:20:53.787Z"
   },
   {
    "duration": 407,
    "start_time": "2025-05-04T22:20:54.136Z"
   },
   {
    "duration": 562,
    "start_time": "2025-05-04T22:27:13.471Z"
   },
   {
    "duration": 417,
    "start_time": "2025-05-04T22:28:00.830Z"
   },
   {
    "duration": 1095,
    "start_time": "2025-05-04T22:33:18.557Z"
   },
   {
    "duration": 3,
    "start_time": "2025-05-04T22:33:19.655Z"
   },
   {
    "duration": 24,
    "start_time": "2025-05-04T22:33:19.661Z"
   },
   {
    "duration": 9,
    "start_time": "2025-05-04T22:33:19.686Z"
   },
   {
    "duration": 9,
    "start_time": "2025-05-04T22:33:19.697Z"
   },
   {
    "duration": 5,
    "start_time": "2025-05-04T22:33:19.727Z"
   },
   {
    "duration": 5,
    "start_time": "2025-05-04T22:33:19.734Z"
   },
   {
    "duration": 5,
    "start_time": "2025-05-04T22:33:19.741Z"
   },
   {
    "duration": 4,
    "start_time": "2025-05-04T22:33:19.748Z"
   },
   {
    "duration": 6,
    "start_time": "2025-05-04T22:33:19.753Z"
   },
   {
    "duration": 182,
    "start_time": "2025-05-04T22:33:19.762Z"
   },
   {
    "duration": 7,
    "start_time": "2025-05-04T22:33:19.946Z"
   },
   {
    "duration": 11,
    "start_time": "2025-05-04T22:33:19.955Z"
   },
   {
    "duration": 239,
    "start_time": "2025-05-04T22:33:19.970Z"
   },
   {
    "duration": 9,
    "start_time": "2025-05-04T22:33:20.223Z"
   },
   {
    "duration": 4,
    "start_time": "2025-05-04T22:33:20.235Z"
   },
   {
    "duration": 6,
    "start_time": "2025-05-04T22:33:20.242Z"
   },
   {
    "duration": 599,
    "start_time": "2025-05-04T22:33:20.250Z"
   },
   {
    "duration": 6,
    "start_time": "2025-05-04T22:33:20.851Z"
   },
   {
    "duration": 9,
    "start_time": "2025-05-04T22:33:20.859Z"
   },
   {
    "duration": 6,
    "start_time": "2025-05-04T22:33:20.870Z"
   },
   {
    "duration": 4,
    "start_time": "2025-05-04T22:33:20.878Z"
   },
   {
    "duration": 1588,
    "start_time": "2025-05-04T22:33:20.884Z"
   },
   {
    "duration": 810,
    "start_time": "2025-05-04T22:33:22.474Z"
   },
   {
    "duration": 339,
    "start_time": "2025-05-04T22:33:23.286Z"
   },
   {
    "duration": 254,
    "start_time": "2025-05-04T22:40:38.880Z"
   },
   {
    "duration": 17,
    "start_time": "2025-05-04T22:48:31.966Z"
   },
   {
    "duration": 988,
    "start_time": "2025-05-04T22:49:57.154Z"
   },
   {
    "duration": 2,
    "start_time": "2025-05-04T22:49:58.145Z"
   },
   {
    "duration": 22,
    "start_time": "2025-05-04T22:49:58.150Z"
   },
   {
    "duration": 7,
    "start_time": "2025-05-04T22:49:58.173Z"
   },
   {
    "duration": 10,
    "start_time": "2025-05-04T22:49:58.182Z"
   },
   {
    "duration": 5,
    "start_time": "2025-05-04T22:49:58.194Z"
   },
   {
    "duration": 25,
    "start_time": "2025-05-04T22:49:58.200Z"
   },
   {
    "duration": 4,
    "start_time": "2025-05-04T22:49:58.227Z"
   },
   {
    "duration": 3,
    "start_time": "2025-05-04T22:49:58.233Z"
   },
   {
    "duration": 6,
    "start_time": "2025-05-04T22:49:58.238Z"
   },
   {
    "duration": 155,
    "start_time": "2025-05-04T22:49:58.245Z"
   },
   {
    "duration": 6,
    "start_time": "2025-05-04T22:49:58.401Z"
   },
   {
    "duration": 18,
    "start_time": "2025-05-04T22:49:58.408Z"
   },
   {
    "duration": 207,
    "start_time": "2025-05-04T22:49:58.430Z"
   },
   {
    "duration": 7,
    "start_time": "2025-05-04T22:49:58.638Z"
   },
   {
    "duration": 4,
    "start_time": "2025-05-04T22:49:58.646Z"
   },
   {
    "duration": 5,
    "start_time": "2025-05-04T22:49:58.652Z"
   },
   {
    "duration": 562,
    "start_time": "2025-05-04T22:49:58.658Z"
   },
   {
    "duration": 5,
    "start_time": "2025-05-04T22:49:59.223Z"
   },
   {
    "duration": 9,
    "start_time": "2025-05-04T22:49:59.230Z"
   },
   {
    "duration": 6,
    "start_time": "2025-05-04T22:49:59.241Z"
   },
   {
    "duration": 4,
    "start_time": "2025-05-04T22:49:59.248Z"
   },
   {
    "duration": 1563,
    "start_time": "2025-05-04T22:49:59.254Z"
   },
   {
    "duration": 311,
    "start_time": "2025-05-04T22:50:00.823Z"
   },
   {
    "duration": 36649,
    "start_time": "2025-05-04T22:50:01.136Z"
   },
   {
    "duration": 978,
    "start_time": "2025-05-04T22:51:51.723Z"
   },
   {
    "duration": 3,
    "start_time": "2025-05-04T22:51:52.704Z"
   },
   {
    "duration": 27,
    "start_time": "2025-05-04T22:51:52.708Z"
   },
   {
    "duration": 8,
    "start_time": "2025-05-04T22:51:52.736Z"
   },
   {
    "duration": 7,
    "start_time": "2025-05-04T22:51:52.746Z"
   },
   {
    "duration": 4,
    "start_time": "2025-05-04T22:51:52.755Z"
   },
   {
    "duration": 4,
    "start_time": "2025-05-04T22:51:52.760Z"
   },
   {
    "duration": 4,
    "start_time": "2025-05-04T22:51:52.766Z"
   },
   {
    "duration": 4,
    "start_time": "2025-05-04T22:51:52.771Z"
   },
   {
    "duration": 6,
    "start_time": "2025-05-04T22:51:52.776Z"
   },
   {
    "duration": 168,
    "start_time": "2025-05-04T22:51:52.784Z"
   },
   {
    "duration": 7,
    "start_time": "2025-05-04T22:51:52.954Z"
   },
   {
    "duration": 11,
    "start_time": "2025-05-04T22:51:52.963Z"
   },
   {
    "duration": 215,
    "start_time": "2025-05-04T22:51:52.977Z"
   },
   {
    "duration": 7,
    "start_time": "2025-05-04T22:51:53.194Z"
   },
   {
    "duration": 3,
    "start_time": "2025-05-04T22:51:53.203Z"
   },
   {
    "duration": 16,
    "start_time": "2025-05-04T22:51:53.208Z"
   },
   {
    "duration": 542,
    "start_time": "2025-05-04T22:51:53.226Z"
   },
   {
    "duration": 6,
    "start_time": "2025-05-04T22:51:53.770Z"
   },
   {
    "duration": 8,
    "start_time": "2025-05-04T22:51:53.777Z"
   },
   {
    "duration": 5,
    "start_time": "2025-05-04T22:51:53.787Z"
   },
   {
    "duration": 4,
    "start_time": "2025-05-04T22:51:53.794Z"
   },
   {
    "duration": 1529,
    "start_time": "2025-05-04T22:51:53.800Z"
   },
   {
    "duration": 295,
    "start_time": "2025-05-04T22:51:55.331Z"
   },
   {
    "duration": 35607,
    "start_time": "2025-05-04T22:51:55.628Z"
   },
   {
    "duration": 1083,
    "start_time": "2025-05-04T23:21:10.567Z"
   },
   {
    "duration": 3,
    "start_time": "2025-05-04T23:21:11.652Z"
   },
   {
    "duration": 23,
    "start_time": "2025-05-04T23:21:11.658Z"
   },
   {
    "duration": 6,
    "start_time": "2025-05-04T23:21:11.685Z"
   },
   {
    "duration": 8,
    "start_time": "2025-05-04T23:21:11.693Z"
   },
   {
    "duration": 24,
    "start_time": "2025-05-04T23:21:11.702Z"
   },
   {
    "duration": 5,
    "start_time": "2025-05-04T23:21:11.728Z"
   },
   {
    "duration": 4,
    "start_time": "2025-05-04T23:21:11.734Z"
   },
   {
    "duration": 4,
    "start_time": "2025-05-04T23:21:11.740Z"
   },
   {
    "duration": 6,
    "start_time": "2025-05-04T23:21:11.745Z"
   },
   {
    "duration": 163,
    "start_time": "2025-05-04T23:21:11.752Z"
   },
   {
    "duration": 11,
    "start_time": "2025-05-04T23:21:11.918Z"
   },
   {
    "duration": 8,
    "start_time": "2025-05-04T23:21:11.932Z"
   },
   {
    "duration": 211,
    "start_time": "2025-05-04T23:21:11.942Z"
   },
   {
    "duration": 6,
    "start_time": "2025-05-04T23:21:12.155Z"
   },
   {
    "duration": 5,
    "start_time": "2025-05-04T23:21:12.163Z"
   },
   {
    "duration": 6,
    "start_time": "2025-05-04T23:21:12.169Z"
   },
   {
    "duration": 632,
    "start_time": "2025-05-04T23:21:12.176Z"
   },
   {
    "duration": 6,
    "start_time": "2025-05-04T23:21:12.810Z"
   },
   {
    "duration": 22,
    "start_time": "2025-05-04T23:21:12.817Z"
   },
   {
    "duration": 5,
    "start_time": "2025-05-04T23:21:12.852Z"
   },
   {
    "duration": 4,
    "start_time": "2025-05-04T23:21:12.858Z"
   },
   {
    "duration": 1531,
    "start_time": "2025-05-04T23:21:12.864Z"
   },
   {
    "duration": 348,
    "start_time": "2025-05-04T23:21:14.397Z"
   },
   {
    "duration": 35650,
    "start_time": "2025-05-04T23:21:14.746Z"
   },
   {
    "duration": 358,
    "start_time": "2025-05-04T23:22:38.104Z"
   },
   {
    "duration": 218,
    "start_time": "2025-05-04T23:23:47.777Z"
   },
   {
    "duration": 15,
    "start_time": "2025-05-04T23:31:23.669Z"
   },
   {
    "duration": 1146,
    "start_time": "2025-05-04T23:32:07.686Z"
   },
   {
    "duration": 3,
    "start_time": "2025-05-04T23:32:08.834Z"
   },
   {
    "duration": 24,
    "start_time": "2025-05-04T23:32:08.840Z"
   },
   {
    "duration": 9,
    "start_time": "2025-05-04T23:32:08.867Z"
   },
   {
    "duration": 8,
    "start_time": "2025-05-04T23:32:08.878Z"
   },
   {
    "duration": 4,
    "start_time": "2025-05-04T23:32:08.888Z"
   },
   {
    "duration": 34,
    "start_time": "2025-05-04T23:32:08.893Z"
   },
   {
    "duration": 5,
    "start_time": "2025-05-04T23:32:08.928Z"
   },
   {
    "duration": 4,
    "start_time": "2025-05-04T23:32:08.935Z"
   },
   {
    "duration": 5,
    "start_time": "2025-05-04T23:32:08.940Z"
   },
   {
    "duration": 159,
    "start_time": "2025-05-04T23:32:08.947Z"
   },
   {
    "duration": 6,
    "start_time": "2025-05-04T23:32:09.107Z"
   },
   {
    "duration": 9,
    "start_time": "2025-05-04T23:32:09.127Z"
   },
   {
    "duration": 207,
    "start_time": "2025-05-04T23:32:09.138Z"
   },
   {
    "duration": 7,
    "start_time": "2025-05-04T23:32:09.346Z"
   },
   {
    "duration": 4,
    "start_time": "2025-05-04T23:32:09.355Z"
   },
   {
    "duration": 6,
    "start_time": "2025-05-04T23:32:09.361Z"
   },
   {
    "duration": 612,
    "start_time": "2025-05-04T23:32:09.368Z"
   },
   {
    "duration": 7,
    "start_time": "2025-05-04T23:32:09.982Z"
   },
   {
    "duration": 8,
    "start_time": "2025-05-04T23:32:09.990Z"
   },
   {
    "duration": 5,
    "start_time": "2025-05-04T23:32:10.000Z"
   },
   {
    "duration": 4,
    "start_time": "2025-05-04T23:32:10.007Z"
   },
   {
    "duration": 1542,
    "start_time": "2025-05-04T23:32:10.013Z"
   },
   {
    "duration": 274,
    "start_time": "2025-05-04T23:32:11.557Z"
   },
   {
    "duration": 35284,
    "start_time": "2025-05-04T23:32:11.835Z"
   },
   {
    "duration": 370,
    "start_time": "2025-05-04T23:32:47.121Z"
   },
   {
    "duration": 0,
    "start_time": "2025-05-04T23:32:47.493Z"
   },
   {
    "duration": 158,
    "start_time": "2025-05-04T23:36:06.988Z"
   },
   {
    "duration": 144,
    "start_time": "2025-05-04T23:38:06.993Z"
   },
   {
    "duration": 81611,
    "start_time": "2025-05-04T23:40:15.233Z"
   },
   {
    "duration": 26,
    "start_time": "2025-05-04T23:47:52.668Z"
   },
   {
    "duration": 15,
    "start_time": "2025-05-04T23:50:48.218Z"
   },
   {
    "duration": 27,
    "start_time": "2025-05-04T23:55:51.841Z"
   },
   {
    "duration": 170,
    "start_time": "2025-05-04T23:56:46.478Z"
   },
   {
    "duration": 18,
    "start_time": "2025-05-04T23:59:24.442Z"
   },
   {
    "duration": 16,
    "start_time": "2025-05-05T00:04:08.617Z"
   },
   {
    "duration": 27,
    "start_time": "2025-05-05T00:06:39.542Z"
   },
   {
    "duration": 1133,
    "start_time": "2025-05-05T00:17:50.625Z"
   },
   {
    "duration": 8,
    "start_time": "2025-05-05T00:21:03.498Z"
   },
   {
    "duration": 804,
    "start_time": "2025-05-05T00:21:46.704Z"
   },
   {
    "duration": 476,
    "start_time": "2025-05-05T00:24:24.830Z"
   },
   {
    "duration": 64,
    "start_time": "2025-05-05T00:25:42.470Z"
   },
   {
    "duration": 316,
    "start_time": "2025-05-05T00:30:14.621Z"
   },
   {
    "duration": 1020,
    "start_time": "2025-05-05T00:38:45.893Z"
   },
   {
    "duration": 3,
    "start_time": "2025-05-05T00:38:46.916Z"
   },
   {
    "duration": 22,
    "start_time": "2025-05-05T00:38:46.924Z"
   },
   {
    "duration": 7,
    "start_time": "2025-05-05T00:38:46.948Z"
   },
   {
    "duration": 8,
    "start_time": "2025-05-05T00:38:46.958Z"
   },
   {
    "duration": 4,
    "start_time": "2025-05-05T00:38:46.967Z"
   },
   {
    "duration": 4,
    "start_time": "2025-05-05T00:38:46.972Z"
   },
   {
    "duration": 5,
    "start_time": "2025-05-05T00:38:46.978Z"
   },
   {
    "duration": 39,
    "start_time": "2025-05-05T00:38:46.985Z"
   },
   {
    "duration": 5,
    "start_time": "2025-05-05T00:38:47.026Z"
   },
   {
    "duration": 142,
    "start_time": "2025-05-05T00:38:47.032Z"
   },
   {
    "duration": 5,
    "start_time": "2025-05-05T00:38:47.176Z"
   },
   {
    "duration": 9,
    "start_time": "2025-05-05T00:38:47.183Z"
   },
   {
    "duration": 228,
    "start_time": "2025-05-05T00:38:47.196Z"
   },
   {
    "duration": 7,
    "start_time": "2025-05-05T00:38:47.426Z"
   },
   {
    "duration": 4,
    "start_time": "2025-05-05T00:38:47.435Z"
   },
   {
    "duration": 6,
    "start_time": "2025-05-05T00:38:47.440Z"
   },
   {
    "duration": 633,
    "start_time": "2025-05-05T00:38:47.448Z"
   },
   {
    "duration": 5,
    "start_time": "2025-05-05T00:38:48.083Z"
   },
   {
    "duration": 9,
    "start_time": "2025-05-05T00:38:48.089Z"
   },
   {
    "duration": 5,
    "start_time": "2025-05-05T00:38:48.100Z"
   },
   {
    "duration": 4,
    "start_time": "2025-05-05T00:38:48.106Z"
   },
   {
    "duration": 1536,
    "start_time": "2025-05-05T00:38:48.111Z"
   },
   {
    "duration": 393,
    "start_time": "2025-05-05T00:38:49.649Z"
   },
   {
    "duration": 35841,
    "start_time": "2025-05-05T00:38:50.044Z"
   },
   {
    "duration": 340,
    "start_time": "2025-05-05T00:39:25.887Z"
   },
   {
    "duration": 80804,
    "start_time": "2025-05-05T00:39:26.229Z"
   },
   {
    "duration": 320,
    "start_time": "2025-05-05T00:40:47.035Z"
   },
   {
    "duration": 1081,
    "start_time": "2025-05-05T00:43:55.144Z"
   },
   {
    "duration": 3,
    "start_time": "2025-05-05T00:43:56.228Z"
   },
   {
    "duration": 24,
    "start_time": "2025-05-05T00:43:56.233Z"
   },
   {
    "duration": 9,
    "start_time": "2025-05-05T00:43:56.260Z"
   },
   {
    "duration": 13,
    "start_time": "2025-05-05T00:43:56.272Z"
   },
   {
    "duration": 4,
    "start_time": "2025-05-05T00:43:56.287Z"
   },
   {
    "duration": 7,
    "start_time": "2025-05-05T00:43:56.293Z"
   },
   {
    "duration": 26,
    "start_time": "2025-05-05T00:43:56.302Z"
   },
   {
    "duration": 5,
    "start_time": "2025-05-05T00:43:56.330Z"
   },
   {
    "duration": 6,
    "start_time": "2025-05-05T00:43:56.337Z"
   },
   {
    "duration": 184,
    "start_time": "2025-05-05T00:43:56.345Z"
   },
   {
    "duration": 6,
    "start_time": "2025-05-05T00:43:56.531Z"
   },
   {
    "duration": 10,
    "start_time": "2025-05-05T00:43:56.540Z"
   },
   {
    "duration": 258,
    "start_time": "2025-05-05T00:43:56.554Z"
   },
   {
    "duration": 9,
    "start_time": "2025-05-05T00:43:56.815Z"
   },
   {
    "duration": 4,
    "start_time": "2025-05-05T00:43:56.826Z"
   },
   {
    "duration": 7,
    "start_time": "2025-05-05T00:43:56.834Z"
   },
   {
    "duration": 679,
    "start_time": "2025-05-05T00:43:56.842Z"
   },
   {
    "duration": 8,
    "start_time": "2025-05-05T00:43:57.522Z"
   },
   {
    "duration": 11,
    "start_time": "2025-05-05T00:43:57.532Z"
   },
   {
    "duration": 5,
    "start_time": "2025-05-05T00:43:57.545Z"
   },
   {
    "duration": 7,
    "start_time": "2025-05-05T00:43:57.553Z"
   },
   {
    "duration": 1580,
    "start_time": "2025-05-05T00:43:57.562Z"
   },
   {
    "duration": 287,
    "start_time": "2025-05-05T00:43:59.144Z"
   },
   {
    "duration": 35824,
    "start_time": "2025-05-05T00:43:59.433Z"
   },
   {
    "duration": 377,
    "start_time": "2025-05-05T00:44:35.259Z"
   },
   {
    "duration": 78014,
    "start_time": "2025-05-05T00:44:35.641Z"
   },
   {
    "duration": 336,
    "start_time": "2025-05-05T00:45:53.658Z"
   },
   {
    "duration": 776,
    "start_time": "2025-05-05T00:45:59.927Z"
   },
   {
    "duration": 1217,
    "start_time": "2025-05-05T00:46:15.803Z"
   },
   {
    "duration": 3,
    "start_time": "2025-05-05T00:46:17.022Z"
   },
   {
    "duration": 32,
    "start_time": "2025-05-05T00:46:17.027Z"
   },
   {
    "duration": 10,
    "start_time": "2025-05-05T00:46:17.062Z"
   },
   {
    "duration": 11,
    "start_time": "2025-05-05T00:46:17.074Z"
   },
   {
    "duration": 4,
    "start_time": "2025-05-05T00:46:17.087Z"
   },
   {
    "duration": 35,
    "start_time": "2025-05-05T00:46:17.094Z"
   },
   {
    "duration": 6,
    "start_time": "2025-05-05T00:46:17.133Z"
   },
   {
    "duration": 4,
    "start_time": "2025-05-05T00:46:17.141Z"
   },
   {
    "duration": 6,
    "start_time": "2025-05-05T00:46:17.150Z"
   },
   {
    "duration": 242,
    "start_time": "2025-05-05T00:46:17.158Z"
   },
   {
    "duration": 6,
    "start_time": "2025-05-05T00:46:17.402Z"
   },
   {
    "duration": 25,
    "start_time": "2025-05-05T00:46:17.411Z"
   },
   {
    "duration": 267,
    "start_time": "2025-05-05T00:46:17.439Z"
   },
   {
    "duration": 16,
    "start_time": "2025-05-05T00:46:17.708Z"
   },
   {
    "duration": 7,
    "start_time": "2025-05-05T00:46:17.730Z"
   },
   {
    "duration": 6,
    "start_time": "2025-05-05T00:46:17.739Z"
   },
   {
    "duration": 856,
    "start_time": "2025-05-05T00:46:17.747Z"
   },
   {
    "duration": 12,
    "start_time": "2025-05-05T00:46:18.605Z"
   },
   {
    "duration": 18,
    "start_time": "2025-05-05T00:46:18.619Z"
   },
   {
    "duration": 7,
    "start_time": "2025-05-05T00:46:18.640Z"
   },
   {
    "duration": 5,
    "start_time": "2025-05-05T00:46:18.649Z"
   },
   {
    "duration": 2020,
    "start_time": "2025-05-05T00:46:18.656Z"
   },
   {
    "duration": 674,
    "start_time": "2025-05-05T00:46:20.678Z"
   },
   {
    "duration": 39932,
    "start_time": "2025-05-05T00:46:21.356Z"
   },
   {
    "duration": 838,
    "start_time": "2025-05-05T00:47:01.290Z"
   },
   {
    "duration": 77528,
    "start_time": "2025-05-05T00:47:02.132Z"
   },
   {
    "duration": 393,
    "start_time": "2025-05-05T00:48:19.665Z"
   },
   {
    "duration": 1162,
    "start_time": "2025-05-05T00:58:57.594Z"
   },
   {
    "duration": 2,
    "start_time": "2025-05-05T00:58:58.759Z"
   },
   {
    "duration": 25,
    "start_time": "2025-05-05T00:58:58.762Z"
   },
   {
    "duration": 7,
    "start_time": "2025-05-05T00:58:58.788Z"
   },
   {
    "duration": 7,
    "start_time": "2025-05-05T00:58:58.798Z"
   },
   {
    "duration": 20,
    "start_time": "2025-05-05T00:58:58.806Z"
   },
   {
    "duration": 4,
    "start_time": "2025-05-05T00:58:58.828Z"
   },
   {
    "duration": 4,
    "start_time": "2025-05-05T00:58:58.834Z"
   },
   {
    "duration": 3,
    "start_time": "2025-05-05T00:58:58.840Z"
   },
   {
    "duration": 5,
    "start_time": "2025-05-05T00:58:58.845Z"
   },
   {
    "duration": 167,
    "start_time": "2025-05-05T00:58:58.853Z"
   },
   {
    "duration": 5,
    "start_time": "2025-05-05T00:58:59.024Z"
   },
   {
    "duration": 9,
    "start_time": "2025-05-05T00:58:59.031Z"
   },
   {
    "duration": 216,
    "start_time": "2025-05-05T00:58:59.044Z"
   },
   {
    "duration": 6,
    "start_time": "2025-05-05T00:58:59.262Z"
   },
   {
    "duration": 4,
    "start_time": "2025-05-05T00:58:59.269Z"
   },
   {
    "duration": 6,
    "start_time": "2025-05-05T00:58:59.274Z"
   },
   {
    "duration": 594,
    "start_time": "2025-05-05T00:58:59.282Z"
   },
   {
    "duration": 8,
    "start_time": "2025-05-05T00:58:59.878Z"
   },
   {
    "duration": 9,
    "start_time": "2025-05-05T00:58:59.887Z"
   },
   {
    "duration": 6,
    "start_time": "2025-05-05T00:58:59.897Z"
   },
   {
    "duration": 4,
    "start_time": "2025-05-05T00:58:59.904Z"
   },
   {
    "duration": 1561,
    "start_time": "2025-05-05T00:58:59.909Z"
   },
   {
    "duration": 355,
    "start_time": "2025-05-05T00:59:01.472Z"
   },
   {
    "duration": 36125,
    "start_time": "2025-05-05T00:59:01.829Z"
   },
   {
    "duration": 290,
    "start_time": "2025-05-05T00:59:37.956Z"
   },
   {
    "duration": 83577,
    "start_time": "2025-05-05T00:59:38.248Z"
   },
   {
    "duration": 313,
    "start_time": "2025-05-05T01:01:01.828Z"
   },
   {
    "duration": 2010,
    "start_time": "2025-05-05T01:20:10.481Z"
   },
   {
    "duration": 4,
    "start_time": "2025-05-05T01:20:12.544Z"
   },
   {
    "duration": 297,
    "start_time": "2025-05-05T01:20:12.549Z"
   },
   {
    "duration": 8,
    "start_time": "2025-05-05T01:20:12.848Z"
   },
   {
    "duration": 9,
    "start_time": "2025-05-05T01:20:12.857Z"
   },
   {
    "duration": 3,
    "start_time": "2025-05-05T01:20:12.867Z"
   },
   {
    "duration": 5,
    "start_time": "2025-05-05T01:20:12.872Z"
   },
   {
    "duration": 64,
    "start_time": "2025-05-05T01:20:12.879Z"
   },
   {
    "duration": 4,
    "start_time": "2025-05-05T01:20:12.945Z"
   },
   {
    "duration": 4,
    "start_time": "2025-05-05T01:20:12.954Z"
   },
   {
    "duration": 306,
    "start_time": "2025-05-05T01:20:12.960Z"
   },
   {
    "duration": 5,
    "start_time": "2025-05-05T01:20:13.268Z"
   },
   {
    "duration": 9,
    "start_time": "2025-05-05T01:20:13.274Z"
   },
   {
    "duration": 422,
    "start_time": "2025-05-05T01:20:13.342Z"
   },
   {
    "duration": 7,
    "start_time": "2025-05-05T01:20:13.766Z"
   },
   {
    "duration": 4,
    "start_time": "2025-05-05T01:20:13.775Z"
   },
   {
    "duration": 5,
    "start_time": "2025-05-05T01:20:13.842Z"
   },
   {
    "duration": 1117,
    "start_time": "2025-05-05T01:20:13.848Z"
   },
   {
    "duration": 7,
    "start_time": "2025-05-05T01:20:14.967Z"
   },
   {
    "duration": 66,
    "start_time": "2025-05-05T01:20:14.978Z"
   },
   {
    "duration": 5,
    "start_time": "2025-05-05T01:20:15.046Z"
   },
   {
    "duration": 4,
    "start_time": "2025-05-05T01:20:15.053Z"
   },
   {
    "duration": 3210,
    "start_time": "2025-05-05T01:20:15.059Z"
   },
   {
    "duration": 575,
    "start_time": "2025-05-05T01:20:18.270Z"
   },
   {
    "duration": 45138,
    "start_time": "2025-05-05T01:20:18.847Z"
   },
   {
    "duration": 668,
    "start_time": "2025-05-05T01:21:03.987Z"
   },
   {
    "duration": 99098,
    "start_time": "2025-05-05T01:21:04.657Z"
   },
   {
    "duration": 500,
    "start_time": "2025-05-05T01:22:43.760Z"
   },
   {
    "duration": 4,
    "start_time": "2025-05-05T01:25:05.598Z"
   },
   {
    "duration": 3,
    "start_time": "2025-05-05T01:25:05.604Z"
   },
   {
    "duration": 49,
    "start_time": "2025-05-05T01:25:05.609Z"
   },
   {
    "duration": 8,
    "start_time": "2025-05-05T01:25:05.660Z"
   },
   {
    "duration": 9,
    "start_time": "2025-05-05T01:25:05.671Z"
   },
   {
    "duration": 3,
    "start_time": "2025-05-05T01:25:05.682Z"
   },
   {
    "duration": 57,
    "start_time": "2025-05-05T01:25:05.687Z"
   },
   {
    "duration": 4,
    "start_time": "2025-05-05T01:25:05.746Z"
   },
   {
    "duration": 4,
    "start_time": "2025-05-05T01:25:05.752Z"
   },
   {
    "duration": 4,
    "start_time": "2025-05-05T01:25:05.758Z"
   },
   {
    "duration": 297,
    "start_time": "2025-05-05T01:25:05.765Z"
   },
   {
    "duration": 6,
    "start_time": "2025-05-05T01:25:06.064Z"
   },
   {
    "duration": 70,
    "start_time": "2025-05-05T01:25:06.072Z"
   },
   {
    "duration": 421,
    "start_time": "2025-05-05T01:25:06.146Z"
   },
   {
    "duration": 9,
    "start_time": "2025-05-05T01:25:06.569Z"
   },
   {
    "duration": 3,
    "start_time": "2025-05-05T01:25:06.581Z"
   },
   {
    "duration": 62,
    "start_time": "2025-05-05T01:25:06.585Z"
   },
   {
    "duration": 937,
    "start_time": "2025-05-05T01:25:06.648Z"
   },
   {
    "duration": 60,
    "start_time": "2025-05-05T01:25:07.588Z"
   },
   {
    "duration": 9,
    "start_time": "2025-05-05T01:25:07.650Z"
   },
   {
    "duration": 6,
    "start_time": "2025-05-05T01:25:07.661Z"
   },
   {
    "duration": 4,
    "start_time": "2025-05-05T01:25:07.669Z"
   },
   {
    "duration": 4,
    "start_time": "2025-05-05T01:27:37.346Z"
   },
   {
    "duration": 4,
    "start_time": "2025-05-05T01:27:37.351Z"
   },
   {
    "duration": 27,
    "start_time": "2025-05-05T01:27:37.356Z"
   },
   {
    "duration": 65,
    "start_time": "2025-05-05T01:27:37.384Z"
   },
   {
    "duration": 8,
    "start_time": "2025-05-05T01:27:37.450Z"
   },
   {
    "duration": 4,
    "start_time": "2025-05-05T01:27:37.460Z"
   },
   {
    "duration": 5,
    "start_time": "2025-05-05T01:27:37.466Z"
   },
   {
    "duration": 4,
    "start_time": "2025-05-05T01:27:37.472Z"
   },
   {
    "duration": 68,
    "start_time": "2025-05-05T01:27:37.478Z"
   },
   {
    "duration": 4,
    "start_time": "2025-05-05T01:27:37.548Z"
   },
   {
    "duration": 290,
    "start_time": "2025-05-05T01:27:37.553Z"
   },
   {
    "duration": 5,
    "start_time": "2025-05-05T01:27:37.844Z"
   },
   {
    "duration": 9,
    "start_time": "2025-05-05T01:27:37.851Z"
   },
   {
    "duration": 605,
    "start_time": "2025-05-05T01:27:37.861Z"
   },
   {
    "duration": 7,
    "start_time": "2025-05-05T01:27:38.468Z"
   },
   {
    "duration": 4,
    "start_time": "2025-05-05T01:27:38.478Z"
   },
   {
    "duration": 63,
    "start_time": "2025-05-05T01:27:38.483Z"
   },
   {
    "duration": 933,
    "start_time": "2025-05-05T01:27:38.548Z"
   },
   {
    "duration": 64,
    "start_time": "2025-05-05T01:27:39.483Z"
   },
   {
    "duration": 10,
    "start_time": "2025-05-05T01:27:39.548Z"
   },
   {
    "duration": 5,
    "start_time": "2025-05-05T01:27:39.560Z"
   },
   {
    "duration": 4,
    "start_time": "2025-05-05T01:27:39.567Z"
   },
   {
    "duration": 4877,
    "start_time": "2025-05-05T01:27:39.572Z"
   },
   {
    "duration": 992,
    "start_time": "2025-05-05T01:27:44.451Z"
   },
   {
    "duration": 71211,
    "start_time": "2025-05-05T01:27:45.445Z"
   },
   {
    "duration": 908,
    "start_time": "2025-05-05T01:28:56.657Z"
   }
  ],
  "kernelspec": {
   "display_name": "Python 3 (ipykernel)",
   "language": "python",
   "name": "python3"
  },
  "language_info": {
   "codemirror_mode": {
    "name": "ipython",
    "version": 3
   },
   "file_extension": ".py",
   "mimetype": "text/x-python",
   "name": "python",
   "nbconvert_exporter": "python",
   "pygments_lexer": "ipython3",
   "version": "3.12.7"
  },
  "toc": {
   "base_numbering": 1,
   "nav_menu": {},
   "number_sections": true,
   "sideBar": true,
   "skip_h1_title": true,
   "title_cell": "Table of Contents",
   "title_sidebar": "Contents",
   "toc_cell": false,
   "toc_position": {},
   "toc_section_display": true,
   "toc_window_display": false
  }
 },
 "nbformat": 4,
 "nbformat_minor": 4
}
