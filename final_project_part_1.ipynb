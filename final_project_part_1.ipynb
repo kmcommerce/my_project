{
 "cells": [
  {
   "cell_type": "markdown",
   "metadata": {},
   "source": [
    "## INTRODUCTION\n",
    "\n",
    "**During the course of this project we will be accessing a telecom operator datasets to forecast 'churn' of thier client. The main goal will be to classify each client into one of two groups(Loyal_Customer and Churn_Customer) and as a possible solution for the business problems, we will try to induce loyalty to those who are leaving or going to leave by offering promotional codes and/or special option as a fix for the telecom operator clients problem.**"
   ]
  },
  {
   "cell_type": "code",
   "execution_count": null,
   "metadata": {},
   "outputs": [],
   "source": []
  },
  {
   "cell_type": "code",
   "execution_count": 1,
   "metadata": {},
   "outputs": [],
   "source": [
    "import warnings\n",
    "warnings.filterwarnings(\"ignore\", category=RuntimeWarning)\n",
    "import seaborn as sns\n",
    "import numpy as np\n",
    "import pandas as pd\n",
    "import matplotlib.pyplot as plt\n",
    "from sklearn.ensemble import IsolationForest\n",
    "from sklearn.preprocessing import LabelEncoder\n",
    "from datetime import datetime\n",
    "import sklearn.metrics as metrics\n",
    "from sklearn.model_selection import train_test_split\n",
    "from sklearn.linear_model import LogisticRegression\n",
    "from sklearn.compose import ColumnTransformer\n",
    "from sklearn.pipeline import Pipeline\n",
    "from sklearn.preprocessing import OneHotEncoder, StandardScaler\n",
    "from lightgbm import LGBMClassifier"
   ]
  },
  {
   "cell_type": "code",
   "execution_count": null,
   "metadata": {},
   "outputs": [],
   "source": []
  },
  {
   "cell_type": "markdown",
   "metadata": {},
   "source": [
    "## Propose Work Plan"
   ]
  },
  {
   "cell_type": "markdown",
   "metadata": {},
   "source": [
    "**As stated in the introduction above, the goal for the telecom operator project is to forecast their churn of clients.The step to achieve the goal will be as follow with an elaborate and chronological procedure and a small summary of a work flow will be givens toward the end.**"
   ]
  },
  {
   "cell_type": "markdown",
   "metadata": {},
   "source": [
    "## 1. Loading and Inspecting the Data"
   ]
  },
  {
   "cell_type": "markdown",
   "metadata": {},
   "source": [
    "**A) Here we read in the dataset into a DataFrame and use functions like .head(), .info(), and .describe(), .shape, .columns to get an overview of the structure, column types, and basic statistics.**"
   ]
  },
  {
   "cell_type": "code",
   "execution_count": null,
   "metadata": {},
   "outputs": [],
   "source": []
  },
  {
   "cell_type": "markdown",
   "metadata": {},
   "source": [
    "## 2. Preliminary EDA : Check for Missing Values / Identify and Handle Duplicates\n",
    "\n"
   ]
  },
  {
   "cell_type": "markdown",
   "metadata": {},
   "source": [
    "**A) Here we use .duplicated() to find and .drop_duplicates() to remove any duplicate rows.**\n",
    "\n",
    "**B) Here we identify missing values using .isnull().sum() and decide how to handle them (remove, fill with mean/median/mode, or flag them).**\n",
    "\n"
   ]
  },
  {
   "cell_type": "code",
   "execution_count": null,
   "metadata": {},
   "outputs": [],
   "source": []
  },
  {
   "cell_type": "markdown",
   "metadata": {},
   "source": [
    "## 3. Advance EDA"
   ]
  },
  {
   "cell_type": "markdown",
   "metadata": {},
   "source": [
    "**Here we perform the following:**"
   ]
  },
  {
   "cell_type": "markdown",
   "metadata": {},
   "source": [
    "**A) Understanding Data Types and Converting if Necessary**\n",
    "\n",
    "**Here we verify that each column has the correct data type using .dtypes. Convert types as needed (from object to datetime or category).**\n",
    "\n",
    "**B) Class Imbalance**\n",
    "\n",
    "**This will/ could be handle during the data Train-Test Split or by choising the appropriate model**\n",
    "\n",
    "**C) Bivariate/Multivariate Analysis**\n",
    "\n",
    "**Here we analyze distributions of individual columns using statistics and visualizations and also explore relationships between columns(histograms)**\n",
    "\n",
    "**D) Detect and Handle Outliers**\n",
    "\n",
    "**Here we identify outliers using isolation forest and decide how to treat them.**\n",
    "\n",
    "**E) Features Engineering**\n",
    "\n",
    "**This was done by focusing on features that will help capture more risk and improve prediction**\n",
    "\n",
    "**At the end of the work flow all data will be merged into a single DataFrame follow by a small work flow summary.**"
   ]
  },
  {
   "cell_type": "code",
   "execution_count": null,
   "metadata": {},
   "outputs": [],
   "source": []
  },
  {
   "cell_type": "markdown",
   "metadata": {},
   "source": [
    "## 4. Modeling"
   ]
  },
  {
   "cell_type": "markdown",
   "metadata": {},
   "source": [
    "<div class=\"alert alert-block alert-success\">\n",
    "<b>Reviewer's comment</b> Looks good here, you are good to submit the next part of the project and get that graded! \n",
    "<a class=\"tocSkip\">\n"
   ]
  },
  {
   "cell_type": "code",
   "execution_count": null,
   "metadata": {},
   "outputs": [],
   "source": []
  },
  {
   "cell_type": "markdown",
   "metadata": {},
   "source": [
    "## Load Data"
   ]
  },
  {
   "cell_type": "code",
   "execution_count": 2,
   "metadata": {},
   "outputs": [],
   "source": [
    "df_contract = pd.read_csv('/datasets/final_provider/contract.csv')"
   ]
  },
  {
   "cell_type": "code",
   "execution_count": 3,
   "metadata": {},
   "outputs": [
    {
     "data": {
      "text/html": [
       "<div>\n",
       "<style scoped>\n",
       "    .dataframe tbody tr th:only-of-type {\n",
       "        vertical-align: middle;\n",
       "    }\n",
       "\n",
       "    .dataframe tbody tr th {\n",
       "        vertical-align: top;\n",
       "    }\n",
       "\n",
       "    .dataframe thead th {\n",
       "        text-align: right;\n",
       "    }\n",
       "</style>\n",
       "<table border=\"1\" class=\"dataframe\">\n",
       "  <thead>\n",
       "    <tr style=\"text-align: right;\">\n",
       "      <th></th>\n",
       "      <th>customerID</th>\n",
       "      <th>BeginDate</th>\n",
       "      <th>EndDate</th>\n",
       "      <th>Type</th>\n",
       "      <th>PaperlessBilling</th>\n",
       "      <th>PaymentMethod</th>\n",
       "      <th>MonthlyCharges</th>\n",
       "      <th>TotalCharges</th>\n",
       "    </tr>\n",
       "  </thead>\n",
       "  <tbody>\n",
       "    <tr>\n",
       "      <th>0</th>\n",
       "      <td>7590-VHVEG</td>\n",
       "      <td>2020-01-01</td>\n",
       "      <td>No</td>\n",
       "      <td>Month-to-month</td>\n",
       "      <td>Yes</td>\n",
       "      <td>Electronic check</td>\n",
       "      <td>29.85</td>\n",
       "      <td>29.85</td>\n",
       "    </tr>\n",
       "    <tr>\n",
       "      <th>1</th>\n",
       "      <td>5575-GNVDE</td>\n",
       "      <td>2017-04-01</td>\n",
       "      <td>No</td>\n",
       "      <td>One year</td>\n",
       "      <td>No</td>\n",
       "      <td>Mailed check</td>\n",
       "      <td>56.95</td>\n",
       "      <td>1889.5</td>\n",
       "    </tr>\n",
       "    <tr>\n",
       "      <th>2</th>\n",
       "      <td>3668-QPYBK</td>\n",
       "      <td>2019-10-01</td>\n",
       "      <td>2019-12-01 00:00:00</td>\n",
       "      <td>Month-to-month</td>\n",
       "      <td>Yes</td>\n",
       "      <td>Mailed check</td>\n",
       "      <td>53.85</td>\n",
       "      <td>108.15</td>\n",
       "    </tr>\n",
       "    <tr>\n",
       "      <th>3</th>\n",
       "      <td>7795-CFOCW</td>\n",
       "      <td>2016-05-01</td>\n",
       "      <td>No</td>\n",
       "      <td>One year</td>\n",
       "      <td>No</td>\n",
       "      <td>Bank transfer (automatic)</td>\n",
       "      <td>42.30</td>\n",
       "      <td>1840.75</td>\n",
       "    </tr>\n",
       "    <tr>\n",
       "      <th>4</th>\n",
       "      <td>9237-HQITU</td>\n",
       "      <td>2019-09-01</td>\n",
       "      <td>2019-11-01 00:00:00</td>\n",
       "      <td>Month-to-month</td>\n",
       "      <td>Yes</td>\n",
       "      <td>Electronic check</td>\n",
       "      <td>70.70</td>\n",
       "      <td>151.65</td>\n",
       "    </tr>\n",
       "  </tbody>\n",
       "</table>\n",
       "</div>"
      ],
      "text/plain": [
       "   customerID   BeginDate              EndDate            Type  \\\n",
       "0  7590-VHVEG  2020-01-01                   No  Month-to-month   \n",
       "1  5575-GNVDE  2017-04-01                   No        One year   \n",
       "2  3668-QPYBK  2019-10-01  2019-12-01 00:00:00  Month-to-month   \n",
       "3  7795-CFOCW  2016-05-01                   No        One year   \n",
       "4  9237-HQITU  2019-09-01  2019-11-01 00:00:00  Month-to-month   \n",
       "\n",
       "  PaperlessBilling              PaymentMethod  MonthlyCharges TotalCharges  \n",
       "0              Yes           Electronic check           29.85        29.85  \n",
       "1               No               Mailed check           56.95       1889.5  \n",
       "2              Yes               Mailed check           53.85       108.15  \n",
       "3               No  Bank transfer (automatic)           42.30      1840.75  \n",
       "4              Yes           Electronic check           70.70       151.65  "
      ]
     },
     "execution_count": 3,
     "metadata": {},
     "output_type": "execute_result"
    }
   ],
   "source": [
    "df_contract.head()"
   ]
  },
  {
   "cell_type": "code",
   "execution_count": 4,
   "metadata": {},
   "outputs": [],
   "source": [
    "df_contract = df_contract.drop_duplicates()"
   ]
  },
  {
   "cell_type": "code",
   "execution_count": 5,
   "metadata": {},
   "outputs": [
    {
     "data": {
      "text/plain": [
       "0"
      ]
     },
     "execution_count": 5,
     "metadata": {},
     "output_type": "execute_result"
    }
   ],
   "source": [
    "df_contract.duplicated().sum()"
   ]
  },
  {
   "cell_type": "code",
   "execution_count": 6,
   "metadata": {},
   "outputs": [
    {
     "data": {
      "text/plain": [
       "0"
      ]
     },
     "execution_count": 6,
     "metadata": {},
     "output_type": "execute_result"
    }
   ],
   "source": [
    "df_contract.isnull().sum().sum()"
   ]
  },
  {
   "cell_type": "code",
   "execution_count": 7,
   "metadata": {},
   "outputs": [
    {
     "name": "stdout",
     "output_type": "stream",
     "text": [
      "<class 'pandas.core.frame.DataFrame'>\n",
      "Int64Index: 7043 entries, 0 to 7042\n",
      "Data columns (total 8 columns):\n",
      " #   Column            Non-Null Count  Dtype  \n",
      "---  ------            --------------  -----  \n",
      " 0   customerID        7043 non-null   object \n",
      " 1   BeginDate         7043 non-null   object \n",
      " 2   EndDate           7043 non-null   object \n",
      " 3   Type              7043 non-null   object \n",
      " 4   PaperlessBilling  7043 non-null   object \n",
      " 5   PaymentMethod     7043 non-null   object \n",
      " 6   MonthlyCharges    7043 non-null   float64\n",
      " 7   TotalCharges      7043 non-null   object \n",
      "dtypes: float64(1), object(7)\n",
      "memory usage: 495.2+ KB\n"
     ]
    }
   ],
   "source": [
    "df_contract.info()"
   ]
  },
  {
   "cell_type": "code",
   "execution_count": 8,
   "metadata": {},
   "outputs": [
    {
     "data": {
      "text/plain": [
       "(7043, 8)"
      ]
     },
     "execution_count": 8,
     "metadata": {},
     "output_type": "execute_result"
    }
   ],
   "source": [
    "df_contract.shape"
   ]
  },
  {
   "cell_type": "code",
   "execution_count": null,
   "metadata": {},
   "outputs": [],
   "source": []
  },
  {
   "cell_type": "code",
   "execution_count": 9,
   "metadata": {},
   "outputs": [
    {
     "data": {
      "text/html": [
       "<div>\n",
       "<style scoped>\n",
       "    .dataframe tbody tr th:only-of-type {\n",
       "        vertical-align: middle;\n",
       "    }\n",
       "\n",
       "    .dataframe tbody tr th {\n",
       "        vertical-align: top;\n",
       "    }\n",
       "\n",
       "    .dataframe thead th {\n",
       "        text-align: right;\n",
       "    }\n",
       "</style>\n",
       "<table border=\"1\" class=\"dataframe\">\n",
       "  <thead>\n",
       "    <tr style=\"text-align: right;\">\n",
       "      <th></th>\n",
       "      <th>customerID</th>\n",
       "      <th>gender</th>\n",
       "      <th>SeniorCitizen</th>\n",
       "      <th>Partner</th>\n",
       "      <th>Dependents</th>\n",
       "    </tr>\n",
       "  </thead>\n",
       "  <tbody>\n",
       "    <tr>\n",
       "      <th>0</th>\n",
       "      <td>7590-VHVEG</td>\n",
       "      <td>Female</td>\n",
       "      <td>0</td>\n",
       "      <td>Yes</td>\n",
       "      <td>No</td>\n",
       "    </tr>\n",
       "    <tr>\n",
       "      <th>1</th>\n",
       "      <td>5575-GNVDE</td>\n",
       "      <td>Male</td>\n",
       "      <td>0</td>\n",
       "      <td>No</td>\n",
       "      <td>No</td>\n",
       "    </tr>\n",
       "    <tr>\n",
       "      <th>2</th>\n",
       "      <td>3668-QPYBK</td>\n",
       "      <td>Male</td>\n",
       "      <td>0</td>\n",
       "      <td>No</td>\n",
       "      <td>No</td>\n",
       "    </tr>\n",
       "    <tr>\n",
       "      <th>3</th>\n",
       "      <td>7795-CFOCW</td>\n",
       "      <td>Male</td>\n",
       "      <td>0</td>\n",
       "      <td>No</td>\n",
       "      <td>No</td>\n",
       "    </tr>\n",
       "    <tr>\n",
       "      <th>4</th>\n",
       "      <td>9237-HQITU</td>\n",
       "      <td>Female</td>\n",
       "      <td>0</td>\n",
       "      <td>No</td>\n",
       "      <td>No</td>\n",
       "    </tr>\n",
       "  </tbody>\n",
       "</table>\n",
       "</div>"
      ],
      "text/plain": [
       "   customerID  gender  SeniorCitizen Partner Dependents\n",
       "0  7590-VHVEG  Female              0     Yes         No\n",
       "1  5575-GNVDE    Male              0      No         No\n",
       "2  3668-QPYBK    Male              0      No         No\n",
       "3  7795-CFOCW    Male              0      No         No\n",
       "4  9237-HQITU  Female              0      No         No"
      ]
     },
     "execution_count": 9,
     "metadata": {},
     "output_type": "execute_result"
    }
   ],
   "source": [
    "df_personal = pd.read_csv('/datasets/final_provider/personal.csv')\n",
    "df_personal.head()"
   ]
  },
  {
   "cell_type": "code",
   "execution_count": 10,
   "metadata": {},
   "outputs": [],
   "source": [
    "df_personal= df_personal.drop_duplicates()"
   ]
  },
  {
   "cell_type": "code",
   "execution_count": 11,
   "metadata": {},
   "outputs": [
    {
     "data": {
      "text/plain": [
       "0"
      ]
     },
     "execution_count": 11,
     "metadata": {},
     "output_type": "execute_result"
    }
   ],
   "source": [
    "df_personal.duplicated().sum()"
   ]
  },
  {
   "cell_type": "code",
   "execution_count": 12,
   "metadata": {},
   "outputs": [
    {
     "data": {
      "text/plain": [
       "0"
      ]
     },
     "execution_count": 12,
     "metadata": {},
     "output_type": "execute_result"
    }
   ],
   "source": [
    "df_personal.isnull().sum().sum()"
   ]
  },
  {
   "cell_type": "code",
   "execution_count": 13,
   "metadata": {},
   "outputs": [
    {
     "name": "stdout",
     "output_type": "stream",
     "text": [
      "<class 'pandas.core.frame.DataFrame'>\n",
      "Int64Index: 7043 entries, 0 to 7042\n",
      "Data columns (total 5 columns):\n",
      " #   Column         Non-Null Count  Dtype \n",
      "---  ------         --------------  ----- \n",
      " 0   customerID     7043 non-null   object\n",
      " 1   gender         7043 non-null   object\n",
      " 2   SeniorCitizen  7043 non-null   int64 \n",
      " 3   Partner        7043 non-null   object\n",
      " 4   Dependents     7043 non-null   object\n",
      "dtypes: int64(1), object(4)\n",
      "memory usage: 330.1+ KB\n"
     ]
    }
   ],
   "source": [
    "df_personal.info()"
   ]
  },
  {
   "cell_type": "code",
   "execution_count": 14,
   "metadata": {},
   "outputs": [
    {
     "data": {
      "text/plain": [
       "(7043, 5)"
      ]
     },
     "execution_count": 14,
     "metadata": {},
     "output_type": "execute_result"
    }
   ],
   "source": [
    "df_personal.shape"
   ]
  },
  {
   "cell_type": "code",
   "execution_count": null,
   "metadata": {},
   "outputs": [],
   "source": []
  },
  {
   "cell_type": "code",
   "execution_count": 15,
   "metadata": {
    "scrolled": true
   },
   "outputs": [
    {
     "data": {
      "text/html": [
       "<div>\n",
       "<style scoped>\n",
       "    .dataframe tbody tr th:only-of-type {\n",
       "        vertical-align: middle;\n",
       "    }\n",
       "\n",
       "    .dataframe tbody tr th {\n",
       "        vertical-align: top;\n",
       "    }\n",
       "\n",
       "    .dataframe thead th {\n",
       "        text-align: right;\n",
       "    }\n",
       "</style>\n",
       "<table border=\"1\" class=\"dataframe\">\n",
       "  <thead>\n",
       "    <tr style=\"text-align: right;\">\n",
       "      <th></th>\n",
       "      <th>customerID</th>\n",
       "      <th>InternetService</th>\n",
       "      <th>OnlineSecurity</th>\n",
       "      <th>OnlineBackup</th>\n",
       "      <th>DeviceProtection</th>\n",
       "      <th>TechSupport</th>\n",
       "      <th>StreamingTV</th>\n",
       "      <th>StreamingMovies</th>\n",
       "    </tr>\n",
       "  </thead>\n",
       "  <tbody>\n",
       "    <tr>\n",
       "      <th>0</th>\n",
       "      <td>7590-VHVEG</td>\n",
       "      <td>DSL</td>\n",
       "      <td>No</td>\n",
       "      <td>Yes</td>\n",
       "      <td>No</td>\n",
       "      <td>No</td>\n",
       "      <td>No</td>\n",
       "      <td>No</td>\n",
       "    </tr>\n",
       "    <tr>\n",
       "      <th>1</th>\n",
       "      <td>5575-GNVDE</td>\n",
       "      <td>DSL</td>\n",
       "      <td>Yes</td>\n",
       "      <td>No</td>\n",
       "      <td>Yes</td>\n",
       "      <td>No</td>\n",
       "      <td>No</td>\n",
       "      <td>No</td>\n",
       "    </tr>\n",
       "    <tr>\n",
       "      <th>2</th>\n",
       "      <td>3668-QPYBK</td>\n",
       "      <td>DSL</td>\n",
       "      <td>Yes</td>\n",
       "      <td>Yes</td>\n",
       "      <td>No</td>\n",
       "      <td>No</td>\n",
       "      <td>No</td>\n",
       "      <td>No</td>\n",
       "    </tr>\n",
       "    <tr>\n",
       "      <th>3</th>\n",
       "      <td>7795-CFOCW</td>\n",
       "      <td>DSL</td>\n",
       "      <td>Yes</td>\n",
       "      <td>No</td>\n",
       "      <td>Yes</td>\n",
       "      <td>Yes</td>\n",
       "      <td>No</td>\n",
       "      <td>No</td>\n",
       "    </tr>\n",
       "    <tr>\n",
       "      <th>4</th>\n",
       "      <td>9237-HQITU</td>\n",
       "      <td>Fiber optic</td>\n",
       "      <td>No</td>\n",
       "      <td>No</td>\n",
       "      <td>No</td>\n",
       "      <td>No</td>\n",
       "      <td>No</td>\n",
       "      <td>No</td>\n",
       "    </tr>\n",
       "  </tbody>\n",
       "</table>\n",
       "</div>"
      ],
      "text/plain": [
       "   customerID InternetService OnlineSecurity OnlineBackup DeviceProtection  \\\n",
       "0  7590-VHVEG             DSL             No          Yes               No   \n",
       "1  5575-GNVDE             DSL            Yes           No              Yes   \n",
       "2  3668-QPYBK             DSL            Yes          Yes               No   \n",
       "3  7795-CFOCW             DSL            Yes           No              Yes   \n",
       "4  9237-HQITU     Fiber optic             No           No               No   \n",
       "\n",
       "  TechSupport StreamingTV StreamingMovies  \n",
       "0          No          No              No  \n",
       "1          No          No              No  \n",
       "2          No          No              No  \n",
       "3         Yes          No              No  \n",
       "4          No          No              No  "
      ]
     },
     "execution_count": 15,
     "metadata": {},
     "output_type": "execute_result"
    }
   ],
   "source": [
    "df_internet = pd.read_csv('/datasets/final_provider/internet.csv')\n",
    "df_internet.head()"
   ]
  },
  {
   "cell_type": "code",
   "execution_count": 16,
   "metadata": {},
   "outputs": [],
   "source": [
    "df_internet = df_internet.drop_duplicates()"
   ]
  },
  {
   "cell_type": "code",
   "execution_count": 17,
   "metadata": {},
   "outputs": [
    {
     "data": {
      "text/plain": [
       "0"
      ]
     },
     "execution_count": 17,
     "metadata": {},
     "output_type": "execute_result"
    }
   ],
   "source": [
    "df_internet.duplicated().sum()"
   ]
  },
  {
   "cell_type": "code",
   "execution_count": 18,
   "metadata": {},
   "outputs": [
    {
     "data": {
      "text/plain": [
       "0"
      ]
     },
     "execution_count": 18,
     "metadata": {},
     "output_type": "execute_result"
    }
   ],
   "source": [
    "df_internet.isnull().sum().sum()"
   ]
  },
  {
   "cell_type": "code",
   "execution_count": 19,
   "metadata": {},
   "outputs": [
    {
     "name": "stdout",
     "output_type": "stream",
     "text": [
      "<class 'pandas.core.frame.DataFrame'>\n",
      "Int64Index: 5517 entries, 0 to 5516\n",
      "Data columns (total 8 columns):\n",
      " #   Column            Non-Null Count  Dtype \n",
      "---  ------            --------------  ----- \n",
      " 0   customerID        5517 non-null   object\n",
      " 1   InternetService   5517 non-null   object\n",
      " 2   OnlineSecurity    5517 non-null   object\n",
      " 3   OnlineBackup      5517 non-null   object\n",
      " 4   DeviceProtection  5517 non-null   object\n",
      " 5   TechSupport       5517 non-null   object\n",
      " 6   StreamingTV       5517 non-null   object\n",
      " 7   StreamingMovies   5517 non-null   object\n",
      "dtypes: object(8)\n",
      "memory usage: 387.9+ KB\n"
     ]
    }
   ],
   "source": [
    "df_internet.info()"
   ]
  },
  {
   "cell_type": "code",
   "execution_count": 20,
   "metadata": {},
   "outputs": [
    {
     "data": {
      "text/plain": [
       "(5517, 8)"
      ]
     },
     "execution_count": 20,
     "metadata": {},
     "output_type": "execute_result"
    }
   ],
   "source": [
    "df_internet.shape"
   ]
  },
  {
   "cell_type": "code",
   "execution_count": null,
   "metadata": {},
   "outputs": [],
   "source": []
  },
  {
   "cell_type": "code",
   "execution_count": 21,
   "metadata": {},
   "outputs": [
    {
     "data": {
      "text/html": [
       "<div>\n",
       "<style scoped>\n",
       "    .dataframe tbody tr th:only-of-type {\n",
       "        vertical-align: middle;\n",
       "    }\n",
       "\n",
       "    .dataframe tbody tr th {\n",
       "        vertical-align: top;\n",
       "    }\n",
       "\n",
       "    .dataframe thead th {\n",
       "        text-align: right;\n",
       "    }\n",
       "</style>\n",
       "<table border=\"1\" class=\"dataframe\">\n",
       "  <thead>\n",
       "    <tr style=\"text-align: right;\">\n",
       "      <th></th>\n",
       "      <th>customerID</th>\n",
       "      <th>MultipleLines</th>\n",
       "    </tr>\n",
       "  </thead>\n",
       "  <tbody>\n",
       "    <tr>\n",
       "      <th>0</th>\n",
       "      <td>5575-GNVDE</td>\n",
       "      <td>No</td>\n",
       "    </tr>\n",
       "    <tr>\n",
       "      <th>1</th>\n",
       "      <td>3668-QPYBK</td>\n",
       "      <td>No</td>\n",
       "    </tr>\n",
       "    <tr>\n",
       "      <th>2</th>\n",
       "      <td>9237-HQITU</td>\n",
       "      <td>No</td>\n",
       "    </tr>\n",
       "    <tr>\n",
       "      <th>3</th>\n",
       "      <td>9305-CDSKC</td>\n",
       "      <td>Yes</td>\n",
       "    </tr>\n",
       "    <tr>\n",
       "      <th>4</th>\n",
       "      <td>1452-KIOVK</td>\n",
       "      <td>Yes</td>\n",
       "    </tr>\n",
       "  </tbody>\n",
       "</table>\n",
       "</div>"
      ],
      "text/plain": [
       "   customerID MultipleLines\n",
       "0  5575-GNVDE            No\n",
       "1  3668-QPYBK            No\n",
       "2  9237-HQITU            No\n",
       "3  9305-CDSKC           Yes\n",
       "4  1452-KIOVK           Yes"
      ]
     },
     "execution_count": 21,
     "metadata": {},
     "output_type": "execute_result"
    }
   ],
   "source": [
    "df_phone = pd.read_csv('/datasets/final_provider/phone.csv')\n",
    "df_phone.head()"
   ]
  },
  {
   "cell_type": "code",
   "execution_count": 22,
   "metadata": {},
   "outputs": [],
   "source": [
    "df_phone = df_phone.drop_duplicates()"
   ]
  },
  {
   "cell_type": "code",
   "execution_count": 23,
   "metadata": {},
   "outputs": [
    {
     "data": {
      "text/plain": [
       "0"
      ]
     },
     "execution_count": 23,
     "metadata": {},
     "output_type": "execute_result"
    }
   ],
   "source": [
    "df_phone.duplicated().sum()"
   ]
  },
  {
   "cell_type": "code",
   "execution_count": 24,
   "metadata": {},
   "outputs": [
    {
     "data": {
      "text/plain": [
       "0"
      ]
     },
     "execution_count": 24,
     "metadata": {},
     "output_type": "execute_result"
    }
   ],
   "source": [
    "df_phone.isnull().sum().sum()"
   ]
  },
  {
   "cell_type": "code",
   "execution_count": 25,
   "metadata": {},
   "outputs": [
    {
     "name": "stdout",
     "output_type": "stream",
     "text": [
      "<class 'pandas.core.frame.DataFrame'>\n",
      "Int64Index: 6361 entries, 0 to 6360\n",
      "Data columns (total 2 columns):\n",
      " #   Column         Non-Null Count  Dtype \n",
      "---  ------         --------------  ----- \n",
      " 0   customerID     6361 non-null   object\n",
      " 1   MultipleLines  6361 non-null   object\n",
      "dtypes: object(2)\n",
      "memory usage: 149.1+ KB\n"
     ]
    }
   ],
   "source": [
    "df_phone.info()"
   ]
  },
  {
   "cell_type": "code",
   "execution_count": 26,
   "metadata": {},
   "outputs": [
    {
     "data": {
      "text/plain": [
       "(6361, 2)"
      ]
     },
     "execution_count": 26,
     "metadata": {},
     "output_type": "execute_result"
    }
   ],
   "source": [
    "df_phone.shape"
   ]
  },
  {
   "cell_type": "code",
   "execution_count": null,
   "metadata": {},
   "outputs": [],
   "source": []
  },
  {
   "cell_type": "markdown",
   "metadata": {},
   "source": [
    "## Quick note:\n",
    "\n",
    "**Data was loaded and some pre-exploration of the data was performed with some output displayed**"
   ]
  },
  {
   "cell_type": "code",
   "execution_count": null,
   "metadata": {},
   "outputs": [],
   "source": []
  },
  {
   "cell_type": "markdown",
   "metadata": {},
   "source": [
    "## ADVANCE EDA"
   ]
  },
  {
   "cell_type": "markdown",
   "metadata": {},
   "source": [
    "## Let rename all the columns in each dataset for clarity"
   ]
  },
  {
   "cell_type": "code",
   "execution_count": 27,
   "metadata": {},
   "outputs": [],
   "source": [
    "df_contract = df_contract.rename(columns={'customerID': 'customer_id', 'BeginDate': 'begin_date', \n",
    "                'EndDate': 'end_date', 'Type': 'type', \n",
    "                'PaperlessBilling': 'paperless_billing','PaymentMethod': 'payment_method', \n",
    "                'MonthlyCharges': 'monthly_charges', 'TotalCharges': 'total_charges'})"
   ]
  },
  {
   "cell_type": "code",
   "execution_count": 28,
   "metadata": {
    "scrolled": true
   },
   "outputs": [
    {
     "data": {
      "text/html": [
       "<div>\n",
       "<style scoped>\n",
       "    .dataframe tbody tr th:only-of-type {\n",
       "        vertical-align: middle;\n",
       "    }\n",
       "\n",
       "    .dataframe tbody tr th {\n",
       "        vertical-align: top;\n",
       "    }\n",
       "\n",
       "    .dataframe thead th {\n",
       "        text-align: right;\n",
       "    }\n",
       "</style>\n",
       "<table border=\"1\" class=\"dataframe\">\n",
       "  <thead>\n",
       "    <tr style=\"text-align: right;\">\n",
       "      <th></th>\n",
       "      <th>monthly_charges</th>\n",
       "    </tr>\n",
       "  </thead>\n",
       "  <tbody>\n",
       "    <tr>\n",
       "      <th>count</th>\n",
       "      <td>7043.000000</td>\n",
       "    </tr>\n",
       "    <tr>\n",
       "      <th>mean</th>\n",
       "      <td>64.761692</td>\n",
       "    </tr>\n",
       "    <tr>\n",
       "      <th>std</th>\n",
       "      <td>30.090047</td>\n",
       "    </tr>\n",
       "    <tr>\n",
       "      <th>min</th>\n",
       "      <td>18.250000</td>\n",
       "    </tr>\n",
       "    <tr>\n",
       "      <th>25%</th>\n",
       "      <td>35.500000</td>\n",
       "    </tr>\n",
       "    <tr>\n",
       "      <th>50%</th>\n",
       "      <td>70.350000</td>\n",
       "    </tr>\n",
       "    <tr>\n",
       "      <th>75%</th>\n",
       "      <td>89.850000</td>\n",
       "    </tr>\n",
       "    <tr>\n",
       "      <th>max</th>\n",
       "      <td>118.750000</td>\n",
       "    </tr>\n",
       "  </tbody>\n",
       "</table>\n",
       "</div>"
      ],
      "text/plain": [
       "       monthly_charges\n",
       "count      7043.000000\n",
       "mean         64.761692\n",
       "std          30.090047\n",
       "min          18.250000\n",
       "25%          35.500000\n",
       "50%          70.350000\n",
       "75%          89.850000\n",
       "max         118.750000"
      ]
     },
     "execution_count": 28,
     "metadata": {},
     "output_type": "execute_result"
    }
   ],
   "source": [
    "df_contract.describe()"
   ]
  },
  {
   "cell_type": "code",
   "execution_count": 29,
   "metadata": {},
   "outputs": [
    {
     "name": "stdout",
     "output_type": "stream",
     "text": [
      "<class 'pandas.core.frame.DataFrame'>\n",
      "Int64Index: 7043 entries, 0 to 7042\n",
      "Data columns (total 8 columns):\n",
      " #   Column             Non-Null Count  Dtype  \n",
      "---  ------             --------------  -----  \n",
      " 0   customer_id        7043 non-null   object \n",
      " 1   begin_date         7043 non-null   object \n",
      " 2   end_date           7043 non-null   object \n",
      " 3   type               7043 non-null   object \n",
      " 4   paperless_billing  7043 non-null   object \n",
      " 5   payment_method     7043 non-null   object \n",
      " 6   monthly_charges    7043 non-null   float64\n",
      " 7   total_charges      7043 non-null   object \n",
      "dtypes: float64(1), object(7)\n",
      "memory usage: 495.2+ KB\n"
     ]
    }
   ],
   "source": [
    "df_contract.info()"
   ]
  },
  {
   "cell_type": "code",
   "execution_count": 30,
   "metadata": {},
   "outputs": [],
   "source": [
    "df_personal = df_personal.rename(columns={'customerID': 'customer_id', \n",
    "                'SeniorCitizen': 'senior_citizen ', \n",
    "                 'Partner': 'partner','Dependents': 'dependents' })"
   ]
  },
  {
   "cell_type": "code",
   "execution_count": 31,
   "metadata": {},
   "outputs": [
    {
     "data": {
      "text/html": [
       "<div>\n",
       "<style scoped>\n",
       "    .dataframe tbody tr th:only-of-type {\n",
       "        vertical-align: middle;\n",
       "    }\n",
       "\n",
       "    .dataframe tbody tr th {\n",
       "        vertical-align: top;\n",
       "    }\n",
       "\n",
       "    .dataframe thead th {\n",
       "        text-align: right;\n",
       "    }\n",
       "</style>\n",
       "<table border=\"1\" class=\"dataframe\">\n",
       "  <thead>\n",
       "    <tr style=\"text-align: right;\">\n",
       "      <th></th>\n",
       "      <th>senior_citizen</th>\n",
       "    </tr>\n",
       "  </thead>\n",
       "  <tbody>\n",
       "    <tr>\n",
       "      <th>count</th>\n",
       "      <td>7043.000000</td>\n",
       "    </tr>\n",
       "    <tr>\n",
       "      <th>mean</th>\n",
       "      <td>0.162147</td>\n",
       "    </tr>\n",
       "    <tr>\n",
       "      <th>std</th>\n",
       "      <td>0.368612</td>\n",
       "    </tr>\n",
       "    <tr>\n",
       "      <th>min</th>\n",
       "      <td>0.000000</td>\n",
       "    </tr>\n",
       "    <tr>\n",
       "      <th>25%</th>\n",
       "      <td>0.000000</td>\n",
       "    </tr>\n",
       "    <tr>\n",
       "      <th>50%</th>\n",
       "      <td>0.000000</td>\n",
       "    </tr>\n",
       "    <tr>\n",
       "      <th>75%</th>\n",
       "      <td>0.000000</td>\n",
       "    </tr>\n",
       "    <tr>\n",
       "      <th>max</th>\n",
       "      <td>1.000000</td>\n",
       "    </tr>\n",
       "  </tbody>\n",
       "</table>\n",
       "</div>"
      ],
      "text/plain": [
       "       senior_citizen \n",
       "count      7043.000000\n",
       "mean          0.162147\n",
       "std           0.368612\n",
       "min           0.000000\n",
       "25%           0.000000\n",
       "50%           0.000000\n",
       "75%           0.000000\n",
       "max           1.000000"
      ]
     },
     "execution_count": 31,
     "metadata": {},
     "output_type": "execute_result"
    }
   ],
   "source": [
    "df_personal.describe()"
   ]
  },
  {
   "cell_type": "code",
   "execution_count": null,
   "metadata": {},
   "outputs": [],
   "source": []
  },
  {
   "cell_type": "code",
   "execution_count": 32,
   "metadata": {},
   "outputs": [],
   "source": [
    "df_internet = df_internet.rename(columns={'customerID': 'customer_id', 'TechSupport': 'tech_support', \n",
    "                'InternetService': ' internet_service', 'OnlineSecurity': 'online_security', \n",
    "                'OnlineBackup': 'online_backup','DeviceProtection': 'device_protection', \n",
    "                'StreamingTV': 'streaming_tv', 'StreamingMovies': 'streaming_movies'})"
   ]
  },
  {
   "cell_type": "code",
   "execution_count": 33,
   "metadata": {
    "scrolled": true
   },
   "outputs": [
    {
     "data": {
      "text/html": [
       "<div>\n",
       "<style scoped>\n",
       "    .dataframe tbody tr th:only-of-type {\n",
       "        vertical-align: middle;\n",
       "    }\n",
       "\n",
       "    .dataframe tbody tr th {\n",
       "        vertical-align: top;\n",
       "    }\n",
       "\n",
       "    .dataframe thead th {\n",
       "        text-align: right;\n",
       "    }\n",
       "</style>\n",
       "<table border=\"1\" class=\"dataframe\">\n",
       "  <thead>\n",
       "    <tr style=\"text-align: right;\">\n",
       "      <th></th>\n",
       "      <th>customer_id</th>\n",
       "      <th>internet_service</th>\n",
       "      <th>online_security</th>\n",
       "      <th>online_backup</th>\n",
       "      <th>device_protection</th>\n",
       "      <th>tech_support</th>\n",
       "      <th>streaming_tv</th>\n",
       "      <th>streaming_movies</th>\n",
       "    </tr>\n",
       "  </thead>\n",
       "  <tbody>\n",
       "    <tr>\n",
       "      <th>count</th>\n",
       "      <td>5517</td>\n",
       "      <td>5517</td>\n",
       "      <td>5517</td>\n",
       "      <td>5517</td>\n",
       "      <td>5517</td>\n",
       "      <td>5517</td>\n",
       "      <td>5517</td>\n",
       "      <td>5517</td>\n",
       "    </tr>\n",
       "    <tr>\n",
       "      <th>unique</th>\n",
       "      <td>5517</td>\n",
       "      <td>2</td>\n",
       "      <td>2</td>\n",
       "      <td>2</td>\n",
       "      <td>2</td>\n",
       "      <td>2</td>\n",
       "      <td>2</td>\n",
       "      <td>2</td>\n",
       "    </tr>\n",
       "    <tr>\n",
       "      <th>top</th>\n",
       "      <td>9647-ERGBE</td>\n",
       "      <td>Fiber optic</td>\n",
       "      <td>No</td>\n",
       "      <td>No</td>\n",
       "      <td>No</td>\n",
       "      <td>No</td>\n",
       "      <td>No</td>\n",
       "      <td>No</td>\n",
       "    </tr>\n",
       "    <tr>\n",
       "      <th>freq</th>\n",
       "      <td>1</td>\n",
       "      <td>3096</td>\n",
       "      <td>3498</td>\n",
       "      <td>3088</td>\n",
       "      <td>3095</td>\n",
       "      <td>3473</td>\n",
       "      <td>2810</td>\n",
       "      <td>2785</td>\n",
       "    </tr>\n",
       "  </tbody>\n",
       "</table>\n",
       "</div>"
      ],
      "text/plain": [
       "       customer_id  internet_service online_security online_backup  \\\n",
       "count         5517              5517            5517          5517   \n",
       "unique        5517                 2               2             2   \n",
       "top     9647-ERGBE       Fiber optic              No            No   \n",
       "freq             1              3096            3498          3088   \n",
       "\n",
       "       device_protection tech_support streaming_tv streaming_movies  \n",
       "count               5517         5517         5517             5517  \n",
       "unique                 2            2            2                2  \n",
       "top                   No           No           No               No  \n",
       "freq                3095         3473         2810             2785  "
      ]
     },
     "execution_count": 33,
     "metadata": {},
     "output_type": "execute_result"
    }
   ],
   "source": [
    "df_internet.describe()"
   ]
  },
  {
   "cell_type": "code",
   "execution_count": null,
   "metadata": {},
   "outputs": [],
   "source": []
  },
  {
   "cell_type": "code",
   "execution_count": 34,
   "metadata": {},
   "outputs": [],
   "source": [
    "df_phone = df_phone.rename(columns={'customerID': 'customer_id', 'MultipleLines': ' multiple_lines '})"
   ]
  },
  {
   "cell_type": "code",
   "execution_count": 35,
   "metadata": {},
   "outputs": [
    {
     "data": {
      "text/html": [
       "<div>\n",
       "<style scoped>\n",
       "    .dataframe tbody tr th:only-of-type {\n",
       "        vertical-align: middle;\n",
       "    }\n",
       "\n",
       "    .dataframe tbody tr th {\n",
       "        vertical-align: top;\n",
       "    }\n",
       "\n",
       "    .dataframe thead th {\n",
       "        text-align: right;\n",
       "    }\n",
       "</style>\n",
       "<table border=\"1\" class=\"dataframe\">\n",
       "  <thead>\n",
       "    <tr style=\"text-align: right;\">\n",
       "      <th></th>\n",
       "      <th>customer_id</th>\n",
       "      <th>multiple_lines</th>\n",
       "    </tr>\n",
       "  </thead>\n",
       "  <tbody>\n",
       "    <tr>\n",
       "      <th>count</th>\n",
       "      <td>6361</td>\n",
       "      <td>6361</td>\n",
       "    </tr>\n",
       "    <tr>\n",
       "      <th>unique</th>\n",
       "      <td>6361</td>\n",
       "      <td>2</td>\n",
       "    </tr>\n",
       "    <tr>\n",
       "      <th>top</th>\n",
       "      <td>8490-BXHEO</td>\n",
       "      <td>No</td>\n",
       "    </tr>\n",
       "    <tr>\n",
       "      <th>freq</th>\n",
       "      <td>1</td>\n",
       "      <td>3390</td>\n",
       "    </tr>\n",
       "  </tbody>\n",
       "</table>\n",
       "</div>"
      ],
      "text/plain": [
       "       customer_id  multiple_lines \n",
       "count         6361             6361\n",
       "unique        6361                2\n",
       "top     8490-BXHEO               No\n",
       "freq             1             3390"
      ]
     },
     "execution_count": 35,
     "metadata": {},
     "output_type": "execute_result"
    }
   ],
   "source": [
    "df_phone.describe()"
   ]
  },
  {
   "cell_type": "markdown",
   "metadata": {},
   "source": [
    "## Accessing data type \n",
    "\n",
    "**df_contract**"
   ]
  },
  {
   "cell_type": "code",
   "execution_count": 36,
   "metadata": {},
   "outputs": [],
   "source": [
    "df_contract.columns = df_contract.columns.str.strip()"
   ]
  },
  {
   "cell_type": "code",
   "execution_count": 37,
   "metadata": {},
   "outputs": [],
   "source": [
    "df_contract['begin_date'] = pd.to_datetime(df_contract['begin_date'])\n",
    "df_contract['end_date'] = pd.to_datetime(df_contract['end_date'], errors='coerce')\n",
    "df_contract['customer_id'] = df_contract['customer_id'].astype('category')\n",
    "df_contract['type'] = df_contract['type'].astype('category')\n",
    "df_contract['payment_method'] = df_contract['payment_method'].astype('category')\n",
    "df_contract['paperless_billing'] = df_contract['paperless_billing'].map({'Yes': True, 'No': False})\n",
    "df_contract['total_charges'] = pd.to_numeric(df_contract['total_charges'], errors='coerce')\n",
    "df_contract['monthly_charges'] = pd.to_numeric(df_contract['monthly_charges'], errors='coerce')"
   ]
  },
  {
   "cell_type": "code",
   "execution_count": 38,
   "metadata": {},
   "outputs": [
    {
     "data": {
      "text/plain": [
       "11"
      ]
     },
     "execution_count": 38,
     "metadata": {},
     "output_type": "execute_result"
    }
   ],
   "source": [
    "df_contract['total_charges'].isna().sum()"
   ]
  },
  {
   "cell_type": "code",
   "execution_count": 39,
   "metadata": {},
   "outputs": [],
   "source": [
    "df_contract = df_contract.dropna(subset=['total_charges'])"
   ]
  },
  {
   "cell_type": "code",
   "execution_count": 40,
   "metadata": {},
   "outputs": [
    {
     "data": {
      "text/plain": [
       "(7032, 8)"
      ]
     },
     "execution_count": 40,
     "metadata": {},
     "output_type": "execute_result"
    }
   ],
   "source": [
    "df_contract.shape"
   ]
  },
  {
   "cell_type": "code",
   "execution_count": 41,
   "metadata": {},
   "outputs": [],
   "source": [
    "#df_contract.info()"
   ]
  },
  {
   "cell_type": "markdown",
   "metadata": {},
   "source": [
    "**df_personal**"
   ]
  },
  {
   "cell_type": "code",
   "execution_count": 42,
   "metadata": {},
   "outputs": [
    {
     "name": "stdout",
     "output_type": "stream",
     "text": [
      "['customer_id', 'gender', 'senior_citizen ', 'partner', 'dependents']\n"
     ]
    }
   ],
   "source": [
    "print(df_personal.columns.tolist())"
   ]
  },
  {
   "cell_type": "code",
   "execution_count": 43,
   "metadata": {},
   "outputs": [],
   "source": [
    "# Strip all leading/trailing whitespace from column names\n",
    "df_personal.columns = df_personal.columns.str.strip()"
   ]
  },
  {
   "cell_type": "code",
   "execution_count": 44,
   "metadata": {},
   "outputs": [],
   "source": [
    "df_personal['customer_id'] = df_personal['customer_id'].astype('category')\n",
    "df_personal['gender'] = df_personal['gender'].astype('category')\n",
    "df_personal['senior_citizen'] = df_personal['senior_citizen'].astype(bool)\n",
    "df_personal['partner'] = df_personal['partner'].map({'Yes': True, 'No': False})\n",
    "df_personal['dependents'] = df_personal['dependents'].map({'Yes': True, 'No': False})"
   ]
  },
  {
   "cell_type": "code",
   "execution_count": null,
   "metadata": {},
   "outputs": [],
   "source": []
  },
  {
   "cell_type": "markdown",
   "metadata": {},
   "source": [
    "**df_internet**"
   ]
  },
  {
   "cell_type": "code",
   "execution_count": 45,
   "metadata": {},
   "outputs": [],
   "source": [
    "df_internet.columns = df_internet.columns.str.strip()"
   ]
  },
  {
   "cell_type": "code",
   "execution_count": 46,
   "metadata": {},
   "outputs": [],
   "source": [
    "df_internet['customer_id'] = df_internet['customer_id'].astype('category')\n",
    "df_internet['internet_service'] = df_internet['internet_service'].astype('category')\n",
    "# Convert Yes/No columns to boolean\n",
    "bool_cols = [\n",
    "    'online_security', 'online_backup', 'device_protection',\n",
    "    'tech_support', 'streaming_tv', 'streaming_movies'\n",
    "]\n",
    "\n",
    "df_internet[bool_cols] = df_internet[bool_cols].applymap(lambda x: x == 'Yes')"
   ]
  },
  {
   "cell_type": "code",
   "execution_count": 47,
   "metadata": {},
   "outputs": [],
   "source": [
    "#df_internet.info()\n",
    "#df_internet.head()"
   ]
  },
  {
   "cell_type": "code",
   "execution_count": null,
   "metadata": {},
   "outputs": [],
   "source": []
  },
  {
   "cell_type": "markdown",
   "metadata": {},
   "source": [
    "**df_phone**"
   ]
  },
  {
   "cell_type": "code",
   "execution_count": 48,
   "metadata": {},
   "outputs": [],
   "source": [
    "df_phone.columns = df_phone.columns.str.strip()"
   ]
  },
  {
   "cell_type": "code",
   "execution_count": 49,
   "metadata": {},
   "outputs": [],
   "source": [
    "df_phone['customer_id'] = df_phone['customer_id'].astype('category')\n",
    "df_phone['multiple_lines'] = df_phone['multiple_lines'].map({'Yes': True, 'No': False})"
   ]
  },
  {
   "cell_type": "code",
   "execution_count": null,
   "metadata": {},
   "outputs": [],
   "source": []
  },
  {
   "cell_type": "markdown",
   "metadata": {},
   "source": [
    "## Target column, class imbalance, data distribution"
   ]
  },
  {
   "cell_type": "markdown",
   "metadata": {},
   "source": [
    "**df_contract**"
   ]
  },
  {
   "cell_type": "code",
   "execution_count": 50,
   "metadata": {},
   "outputs": [
    {
     "name": "stdout",
     "output_type": "stream",
     "text": [
      "0    5163\n",
      "1    1869\n",
      "Name: churn, dtype: int64\n"
     ]
    }
   ],
   "source": [
    "# Reference date (data is valid as of Feb 1, 2020)\n",
    "reference_date = pd.to_datetime('2020-02-01')\n",
    "\n",
    "# Define churn:\n",
    "# - churn=1 if EndDate ≤ Feb 1, 2020 (customer left)\n",
    "# - churn=0 if EndDate > Feb 1, 2020 or is NaT (active)\n",
    "df_contract['churn'] = (df_contract['end_date'] <= reference_date).astype(int)\n",
    "\n",
    "# Check counts\n",
    "print(df_contract['churn'].value_counts())"
   ]
  },
  {
   "cell_type": "markdown",
   "metadata": {},
   "source": [
    "<div class=\"alert alert-block alert-success\">\n",
    "<b>Reviewer's comment</b> Good job deriving the target!\n",
    "    <a class=\"tocSkip\"></a>"
   ]
  },
  {
   "cell_type": "code",
   "execution_count": 51,
   "metadata": {},
   "outputs": [
    {
     "data": {
      "image/png": "[encoded data removed]",
      "text/plain": [
       "<Figure size 640x480 with 1 Axes>"
      ]
     },
     "metadata": {},
     "output_type": "display_data"
    }
   ],
   "source": [
    "df_contract['churn'].value_counts(normalize=True).plot(kind='bar', title='Churn Rate', color=['blue', 'red'])\n",
    "plt.xticks([0, 1], ['No Churn', 'Churned'], rotation=0)\n",
    "plt.ylabel('Proportion')\n",
    "plt.show()"
   ]
  },
  {
   "cell_type": "markdown",
   "metadata": {},
   "source": [
    "**From the above distribution we notice that about 70% of clients are still active (no churn) and we also see that about 30% of the clients churned.**"
   ]
  },
  {
   "cell_type": "code",
   "execution_count": null,
   "metadata": {},
   "outputs": [],
   "source": []
  },
  {
   "cell_type": "code",
   "execution_count": 52,
   "metadata": {},
   "outputs": [
    {
     "data": {
      "text/html": [
       "<div>\n",
       "<style scoped>\n",
       "    .dataframe tbody tr th:only-of-type {\n",
       "        vertical-align: middle;\n",
       "    }\n",
       "\n",
       "    .dataframe tbody tr th {\n",
       "        vertical-align: top;\n",
       "    }\n",
       "\n",
       "    .dataframe thead th {\n",
       "        text-align: right;\n",
       "    }\n",
       "</style>\n",
       "<table border=\"1\" class=\"dataframe\">\n",
       "  <thead>\n",
       "    <tr style=\"text-align: right;\">\n",
       "      <th>churn</th>\n",
       "      <th>0</th>\n",
       "      <th>1</th>\n",
       "    </tr>\n",
       "    <tr>\n",
       "      <th>type</th>\n",
       "      <th></th>\n",
       "      <th></th>\n",
       "    </tr>\n",
       "  </thead>\n",
       "  <tbody>\n",
       "    <tr>\n",
       "      <th>Month-to-month</th>\n",
       "      <td>0.572903</td>\n",
       "      <td>0.427097</td>\n",
       "    </tr>\n",
       "    <tr>\n",
       "      <th>One year</th>\n",
       "      <td>0.887228</td>\n",
       "      <td>0.112772</td>\n",
       "    </tr>\n",
       "    <tr>\n",
       "      <th>Two year</th>\n",
       "      <td>0.971513</td>\n",
       "      <td>0.028487</td>\n",
       "    </tr>\n",
       "  </tbody>\n",
       "</table>\n",
       "</div>"
      ],
      "text/plain": [
       "churn                  0         1\n",
       "type                              \n",
       "Month-to-month  0.572903  0.427097\n",
       "One year        0.887228  0.112772\n",
       "Two year        0.971513  0.028487"
      ]
     },
     "execution_count": 52,
     "metadata": {},
     "output_type": "execute_result"
    }
   ],
   "source": [
    "pd.crosstab(df_contract['type'], df_contract['churn'], normalize='index')\n"
   ]
  },
  {
   "cell_type": "code",
   "execution_count": 53,
   "metadata": {},
   "outputs": [],
   "source": [
    "churn_by_type = pd.crosstab(\n",
    "    df_contract['type'],           # Contract type ( Monthly, Annual)\n",
    "    df_contract['churn'],          # Churn status (0 or 1)\n",
    "    normalize='index'              # Normalize by row (each type sums to 100%)\n",
    ")\n"
   ]
  },
  {
   "cell_type": "code",
   "execution_count": 54,
   "metadata": {},
   "outputs": [
    {
     "data": {
      "image/png": "[encoded data removed]",
      "text/plain": [
       "<Figure size 1000x600 with 1 Axes>"
      ]
     },
     "metadata": {},
     "output_type": "display_data"
    }
   ],
   "source": [
    "ax = churn_by_type.plot(\n",
    "    kind='bar', \n",
    "    stacked=True, \n",
    "    color=['blue', 'red'],  # Blue=Active, Red=Churned\n",
    "    figsize=(10, 6)\n",
    ")\n",
    "\n",
    "# labels\n",
    "plt.title('Churn Rate by Contract Type', fontsize=14)\n",
    "plt.xlabel('Contract Type', fontsize=12)\n",
    "plt.ylabel('Proportion of Customers', fontsize=12)\n",
    "plt.xticks(rotation=0)\n",
    "plt.legend(title='Status', labels=['Active', 'Churned'])\n",
    "\n",
    "plt.show()"
   ]
  },
  {
   "cell_type": "markdown",
   "metadata": {},
   "source": [
    "**The distribution of the churn rate by contract type indicate a higher active clients and low churned clients on the 2 and 1 years contract, however on the month to month basic we see an increase churned of clients**"
   ]
  },
  {
   "cell_type": "code",
   "execution_count": null,
   "metadata": {},
   "outputs": [],
   "source": []
  },
  {
   "cell_type": "markdown",
   "metadata": {},
   "source": [
    "**df_personal**"
   ]
  },
  {
   "cell_type": "code",
   "execution_count": 55,
   "metadata": {},
   "outputs": [
    {
     "data": {
      "image/png": "[encoded data removed]",
      "text/plain": [
       "<Figure size 600x400 with 1 Axes>"
      ]
     },
     "metadata": {},
     "output_type": "display_data"
    }
   ],
   "source": [
    "# Merge only temporarily inside plotting for visualization\n",
    "temp = df_contract.merge(df_personal[['customer_id', 'gender', 'senior_citizen']], on='customer_id')\n",
    "\n",
    "# Plot churn by gender\n",
    "plt.figure(figsize=(6, 4))\n",
    "sns.countplot(data=temp, x='gender', hue='churn')\n",
    "plt.title('Churn by Gender')\n",
    "plt.ylabel('Count')\n",
    "plt.xlabel('Gender')\n",
    "plt.legend(title='Churn')\n",
    "plt.tight_layout()\n",
    "plt.show()"
   ]
  },
  {
   "cell_type": "markdown",
   "metadata": {},
   "source": [
    "**The above distribution clearly indicate that about 70% of Male and Female stay active compare to just a bit under 30% who churned(leaves).**"
   ]
  },
  {
   "cell_type": "code",
   "execution_count": 56,
   "metadata": {},
   "outputs": [
    {
     "data": {
      "image/png": "[encoded data removed]",
      "text/plain": [
       "<Figure size 600x400 with 1 Axes>"
      ]
     },
     "metadata": {},
     "output_type": "display_data"
    }
   ],
   "source": [
    "# Crosstab\n",
    "churn_by_senior = pd.crosstab(temp['senior_citizen'], temp['churn'], normalize='index')\n",
    "\n",
    "# Plot\n",
    "churn_by_senior.plot(kind='bar', stacked=True, figsize=(6, 4), color=['blue', 'red'])\n",
    "plt.title('Churn Rate by Senior Citizen Status')\n",
    "plt.xlabel('Senior Citizen')\n",
    "plt.ylabel('Proportion')\n",
    "plt.legend(title='Churn', loc='upper right')\n",
    "plt.xticks(ticks=[0, 1], labels=['Not Senior', 'Senior'], rotation=0)\n",
    "plt.tight_layout()\n",
    "plt.show()"
   ]
  },
  {
   "cell_type": "markdown",
   "metadata": {},
   "source": [
    "**From the above distribution we see that not senior have a higher proportion of active client than non active client and compare to senior client we see that an almost even partition of active client and churned client(non active).**"
   ]
  },
  {
   "cell_type": "code",
   "execution_count": null,
   "metadata": {},
   "outputs": [],
   "source": []
  },
  {
   "cell_type": "markdown",
   "metadata": {},
   "source": [
    "**df_internet**"
   ]
  },
  {
   "cell_type": "code",
   "execution_count": 57,
   "metadata": {},
   "outputs": [
    {
     "data": {
      "image/png": "[encoded data removed]",
      "text/plain": [
       "<Figure size 500x300 with 1 Axes>"
      ]
     },
     "metadata": {},
     "output_type": "display_data"
    },
    {
     "data": {
      "image/png": "[encoded data removed]",
      "text/plain": [
       "<Figure size 500x300 with 1 Axes>"
      ]
     },
     "metadata": {},
     "output_type": "display_data"
    },
    {
     "data": {
      "image/png": "[encoded data removed]",
      "text/plain": [
       "<Figure size 500x300 with 1 Axes>"
      ]
     },
     "metadata": {},
     "output_type": "display_data"
    },
    {
     "data": {
      "image/png": "[encoded data removed]",
      "text/plain": [
       "<Figure size 500x300 with 1 Axes>"
      ]
     },
     "metadata": {},
     "output_type": "display_data"
    },
    {
     "data": {
      "image/png": "[encoded data removed]",
      "text/plain": [
       "<Figure size 500x300 with 1 Axes>"
      ]
     },
     "metadata": {},
     "output_type": "display_data"
    },
    {
     "data": {
      "image/png": "[encoded data removed]",
      "text/plain": [
       "<Figure size 500x300 with 1 Axes>"
      ]
     },
     "metadata": {},
     "output_type": "display_data"
    }
   ],
   "source": [
    "# Merge relevant columns\n",
    "cols = ['customer_id', 'online_security', 'online_backup', 'device_protection',\n",
    "        'tech_support', 'streaming_tv', 'streaming_movies']\n",
    "temp = df_contract.merge(df_internet[cols], on='customer_id')\n",
    "\n",
    "# one plot for each column\n",
    "for col in bool_cols:\n",
    "    crosstab = pd.crosstab(temp[col], temp['churn'], normalize='index')\n",
    "\n",
    "    crosstab.plot(kind='bar', stacked=True, figsize=(5, 3), color=['skyblue', 'salmon'])\n",
    "    plt.title(f'Churn by {col.replace(\"_\", \" \").title()}')\n",
    "    plt.xlabel(col.replace(\"_\", \" \").title())\n",
    "    plt.ylabel('Proportion')\n",
    "    plt.legend(title='Churn', loc='upper right')\n",
    "    plt.xticks(rotation=0)\n",
    "    plt.tight_layout()\n",
    "    plt.show()"
   ]
  },
  {
   "cell_type": "markdown",
   "metadata": {},
   "source": [
    "**We opted to churn all customer(have service/don't have service)because there are still paying cistomers in some others service(phone or basic internet).From the above distribution we see a large amount of active clients compare to non active client on online backup, online security, devise protection and techsupport services.We also see a small decrease of active customer but still higher compare to non active customer on streaming TV and streaming Movies services.**"
   ]
  },
  {
   "cell_type": "code",
   "execution_count": null,
   "metadata": {},
   "outputs": [],
   "source": []
  },
  {
   "cell_type": "markdown",
   "metadata": {},
   "source": [
    "**df_phone**"
   ]
  },
  {
   "cell_type": "code",
   "execution_count": 58,
   "metadata": {},
   "outputs": [
    {
     "data": {
      "image/png": "[encoded data removed]",
      "text/plain": [
       "<Figure size 600x400 with 1 Axes>"
      ]
     },
     "metadata": {},
     "output_type": "display_data"
    }
   ],
   "source": [
    "# Temporary merge for plotting\n",
    "temp = df_contract.merge(df_phone[['customer_id', 'multiple_lines']], on='customer_id')\n",
    "# Crosstab\n",
    "churn_by_multiple_lines = pd.crosstab(temp['multiple_lines'], temp['churn'], normalize='index')\n",
    "\n",
    "# Plot\n",
    "churn_by_multiple_lines.plot(kind='bar', stacked=True, figsize=(6, 4), color=['blue', 'red'])\n",
    "plt.title('Churn Rate by Multiple Lines Status')\n",
    "plt.xlabel('Multiple Lines')\n",
    "plt.ylabel('Proportion')\n",
    "plt.legend(title='Churn', loc='upper right')\n",
    "# X-tick labels from index (No, Yes, No phone service)\n",
    "plt.xticks(rotation=0)\n",
    "plt.tight_layout()\n",
    "plt.show()"
   ]
  },
  {
   "cell_type": "markdown",
   "metadata": {},
   "source": [
    "**We clearly observe a higher proportion of active customer compare to a non active customer in the multiple lines services.**"
   ]
  },
  {
   "cell_type": "markdown",
   "metadata": {},
   "source": [
    "## Outliers"
   ]
  },
  {
   "cell_type": "markdown",
   "metadata": {},
   "source": [
    "**df_contract**"
   ]
  },
  {
   "cell_type": "code",
   "execution_count": 59,
   "metadata": {},
   "outputs": [],
   "source": [
    "data = df_contract[['begin_date', 'end_date', 'monthly_charges', 'total_charges']].copy()\n",
    "\n",
    "# Replace 'No' with a fixed point (Feb 1, 2020) before conversion\n",
    "cutoff_date = pd.to_datetime('2020-02-01')\n",
    "data['end_date'] = data['end_date'].fillna(cutoff_date)\n",
    "\n",
    "# Encode dates as numeric (days since start)\n",
    "data['begin_days'] = (cutoff_date - data['begin_date']).dt.days\n",
    "data['end_days'] = (cutoff_date - data['end_date']).dt.days\n",
    "\n",
    "# Convert total_charges to numeric\n",
    "data['total_charges'] = pd.to_numeric(data['total_charges'], errors='coerce')\n",
    "\n",
    "# original datetime columns\n",
    "data = data[['begin_days', 'end_days', 'monthly_charges', 'total_charges']]"
   ]
  },
  {
   "cell_type": "code",
   "execution_count": null,
   "metadata": {},
   "outputs": [],
   "source": []
  },
  {
   "cell_type": "code",
   "execution_count": 60,
   "metadata": {},
   "outputs": [
    {
     "name": "stdout",
     "output_type": "stream",
     "text": [
      "Number of anomalies (isolation forest):  352\n"
     ]
    }
   ],
   "source": [
    "scaler = StandardScaler()\n",
    "data_scaled = scaler.fit_transform(data)\n",
    "model = IsolationForest(n_estimators=100, contamination=0.05, random_state=42)\n",
    "estimation_iforest = model.fit_predict(data_scaled) == -1\n",
    "outliers_iforest = estimation_iforest.sum()\n",
    "print('Number of anomalies (isolation forest): ', outliers_iforest)"
   ]
  },
  {
   "cell_type": "markdown",
   "metadata": {},
   "source": [
    "**I opted to keep it because it is about 5%, which aligns well with a common assumption that only a small fraction of data points are unusual or risky. the anomalies can sometime reflect real but rare customer behavior which is often the case in churn modeling.Removing anomalies might hide important behavior patterns that could help the model identify future churners.**"
   ]
  },
  {
   "cell_type": "code",
   "execution_count": null,
   "metadata": {},
   "outputs": [],
   "source": []
  },
  {
   "cell_type": "markdown",
   "metadata": {},
   "source": [
    "**df_personal**"
   ]
  },
  {
   "cell_type": "code",
   "execution_count": 61,
   "metadata": {},
   "outputs": [
    {
     "name": "stdout",
     "output_type": "stream",
     "text": [
      "Number of anomalies (isolation forest):  91\n"
     ]
    }
   ],
   "source": [
    "model= IsolationForest(n_estimators=100, contamination=0.05, random_state=42)\n",
    "# Fit on selected numeric/binary columns\n",
    "outliers = model.fit_predict(df_personal[['senior_citizen', 'partner', 'dependents']])== -1\n",
    "#estimation_iforest = model.fit_predict(data_scaled) == -1\n",
    "outliers_iforest = outliers.sum()\n",
    "print('Number of anomalies (isolation forest): ', outliers_iforest)"
   ]
  },
  {
   "cell_type": "markdown",
   "metadata": {},
   "source": [
    "**At 5% (contamination=0.05), you'd expect at least 352 outliers, but the scores suggest the data doesn't contain that many anomalies this indicating most points are considered normal because the Scores are heavily clustered i will hope.**\n",
    "**I Need option please.**"
   ]
  },
  {
   "cell_type": "code",
   "execution_count": null,
   "metadata": {},
   "outputs": [],
   "source": []
  },
  {
   "cell_type": "markdown",
   "metadata": {},
   "source": [
    "**df_internet**"
   ]
  },
  {
   "cell_type": "code",
   "execution_count": 62,
   "metadata": {},
   "outputs": [
    {
     "name": "stdout",
     "output_type": "stream",
     "text": [
      "Number of anomalies (isolation forest):  271\n"
     ]
    }
   ],
   "source": [
    "model = IsolationForest(\n",
    "    contamination=0.05,  \n",
    "    n_estimators=200,    # More trees for stable results\n",
    "    random_state=42\n",
    ")\n",
    "outliers = model.fit_predict(df_internet[bool_cols]) == -1\n",
    "outliers_iforest = outliers.sum()\n",
    "print('Number of anomalies (isolation forest): ', outliers_iforest)"
   ]
  },
  {
   "cell_type": "markdown",
   "metadata": {},
   "source": [
    "**The isolation Forest with contamination=0.05 detected 0 anomalies despite expecting ~276 outliers.This could be because isolation Forest struggles with pure binary features.**\n",
    "**I need your input please.** "
   ]
  },
  {
   "cell_type": "code",
   "execution_count": null,
   "metadata": {},
   "outputs": [],
   "source": []
  },
  {
   "cell_type": "markdown",
   "metadata": {},
   "source": [
    "## Features Engineering"
   ]
  },
  {
   "cell_type": "markdown",
   "metadata": {},
   "source": [
    "**df_contract**"
   ]
  },
  {
   "cell_type": "code",
   "execution_count": 63,
   "metadata": {},
   "outputs": [],
   "source": [
    "observation_date = pd.to_datetime('2020-02-01')  # cutoff date\n",
    "df_contract['tenure_days'] = (observation_date - df_contract['begin_date']).dt.days\n",
    "df_contract['is_longterm'] = (df_contract['tenure_days'] > 365).astype(int)\n",
    "df_contract['recent_start'] = (df_contract['tenure_days'] < 30).astype(int)"
   ]
  },
  {
   "cell_type": "markdown",
   "metadata": {},
   "source": [
    "**Tenure is the strongest churn predictor and Long-term customers may have different churn patterns and new customers are more prone to churn early (this captures that risk).**"
   ]
  },
  {
   "cell_type": "markdown",
   "metadata": {},
   "source": [
    "**df_personal**"
   ]
  },
  {
   "cell_type": "code",
   "execution_count": 64,
   "metadata": {},
   "outputs": [
    {
     "name": "stderr",
     "output_type": "stream",
     "text": [
      "/.venv/lib/python3.9/site-packages/pandas/core/computation/expressions.py:204: UserWarning: evaluating in Python space because the '+' operator is not supported by numexpr for the bool dtype, use '|' instead\n",
      "  warnings.warn(\n"
     ]
    }
   ],
   "source": [
    "#Is_Alone = 1 if no partner and no dependents\n",
    "df_personal['family_size'] = df_personal['partner'] + df_personal['dependents']\n",
    "conditions = [\n",
    "    (df_personal['senior_citizen'] == 1) & (df_personal['partner'] == 1),\n",
    "    (df_personal['senior_citizen'] == 1) & (df_personal['partner'] == 0),\n",
    "    (df_personal['senior_citizen'] == 0) & (df_personal['partner'] == 1),\n",
    "    (df_personal['senior_citizen'] == 0) & (df_personal['partner'] == 0)\n",
    "]\n",
    "choices = ['Senior_with_Partner', 'Senior_Single', 'Young_with_Partner', 'Young_Single']\n",
    "df_personal['life_stage'] = np.select(conditions, choices, default='Unknown')\n",
    "\n",
    "df_personal['is_alone'] = ((df_personal['partner'] == 0) & (df_personal['dependents'] == 0)).astype(int)\n",
    "\n",
    "df_personal['is_senior'] = df_personal['senior_citizen']  # Optional: duplicate for clarity\n",
    "\n",
    "df_personal['gender_lifestage'] = df_personal['gender'].astype(str) + '_' + df_personal['life_stage']"
   ]
  },
  {
   "cell_type": "markdown",
   "metadata": {},
   "source": [
    "**We knows in many business setting such as telecoms operator that Family dynamics influence retention and can increase switching costs.LifeStage groups here will capture non-linear interactions.**"
   ]
  },
  {
   "cell_type": "code",
   "execution_count": null,
   "metadata": {},
   "outputs": [],
   "source": []
  },
  {
   "cell_type": "markdown",
   "metadata": {},
   "source": [
    "**df_internet**"
   ]
  },
  {
   "cell_type": "code",
   "execution_count": 65,
   "metadata": {},
   "outputs": [],
   "source": [
    "columns = [\n",
    "    'online_security', 'online_backup', 'device_protection',\n",
    "    'tech_support', 'streaming_tv', 'streaming_movies']\n",
    "\n",
    "for col in columns:\n",
    "    df_internet[col] = df_internet[col].map({'Yes': 1, 'No': 0, 'No internet service': 0}).fillna(0).astype(int)\n",
    "\n",
    "df_internet['add_on_count'] = df_internet[columns].sum(axis=1)\n",
    "\n",
    "df_internet['is_streaming_user'] = ((df_internet['streaming_tv'] == 1) | (df_internet['streaming_movies'] == 1)).astype(int)\n",
    "\n",
    "if 'fiber_optic' in df_internet.columns:\n",
    "    df_internet['tech_user'] = ((df_internet['fiber_optic'] == 1) & (df_internet['tech_support'] == 1)).astype(int)\n",
    "else:\n",
    "    df_internet['tech_user'] = 0  # fallback if dummies not yet created"
   ]
  },
  {
   "cell_type": "markdown",
   "metadata": {},
   "source": [
    "**Add-on services increase switching costs and Fiber + TechSupport users are high-value but may churn if service is poor.**"
   ]
  },
  {
   "cell_type": "code",
   "execution_count": null,
   "metadata": {},
   "outputs": [],
   "source": []
  },
  {
   "cell_type": "markdown",
   "metadata": {},
   "source": [
    "**df_phone**"
   ]
  },
  {
   "cell_type": "code",
   "execution_count": 66,
   "metadata": {},
   "outputs": [],
   "source": [
    "# Derived feature: Whether the customer has phone service at all\n",
    "df_phone['has_phone_service'] = (df_phone['multiple_lines'] != 0).astype(int)"
   ]
  },
  {
   "cell_type": "code",
   "execution_count": null,
   "metadata": {},
   "outputs": [],
   "source": []
  },
  {
   "cell_type": "markdown",
   "metadata": {},
   "source": [
    "## Merge all dataset."
   ]
  },
  {
   "cell_type": "code",
   "execution_count": null,
   "metadata": {},
   "outputs": [],
   "source": []
  },
  {
   "cell_type": "code",
   "execution_count": 67,
   "metadata": {},
   "outputs": [],
   "source": [
    "df = df_personal.copy()\n",
    "\n",
    "df = df.merge(df_contract, on='customer_id', how='left')\n",
    "\n",
    "df = df.merge(df_internet, on='customer_id', how='left')\n",
    "\n",
    "df = df.merge(df_phone, on='customer_id', how='left')"
   ]
  },
  {
   "cell_type": "code",
   "execution_count": 68,
   "metadata": {
    "scrolled": true
   },
   "outputs": [
    {
     "name": "stdout",
     "output_type": "stream",
     "text": [
      "(7043, 33)\n",
      "customer_id             0\n",
      "gender                  0\n",
      "senior_citizen          0\n",
      "partner                 0\n",
      "dependents              0\n",
      "family_size             0\n",
      "life_stage              0\n",
      "is_alone                0\n",
      "is_senior               0\n",
      "gender_lifestage        0\n",
      "begin_date             11\n",
      "end_date             5174\n",
      "type                   11\n",
      "paperless_billing      11\n",
      "payment_method         11\n",
      "monthly_charges        11\n",
      "total_charges          11\n",
      "churn                  11\n",
      "tenure_days            11\n",
      "is_longterm            11\n",
      "recent_start           11\n",
      "internet_service     1526\n",
      "online_security      1526\n",
      "online_backup        1526\n",
      "device_protection    1526\n",
      "tech_support         1526\n",
      "streaming_tv         1526\n",
      "streaming_movies     1526\n",
      "add_on_count         1526\n",
      "is_streaming_user    1526\n",
      "tech_user            1526\n",
      "multiple_lines        682\n",
      "has_phone_service     682\n",
      "dtype: int64\n"
     ]
    }
   ],
   "source": [
    "# Shape of the final dataframe\n",
    "print(df.shape)\n",
    "\n",
    "# Quick summary of missing values\n",
    "print(df.isnull().sum())"
   ]
  },
  {
   "cell_type": "code",
   "execution_count": 69,
   "metadata": {},
   "outputs": [],
   "source": [
    "df = df.drop(columns=['paperless_billing'])\n",
    "#paperless_billing is completely empty (7043 missing values), so i can drop it."
   ]
  },
  {
   "cell_type": "code",
   "execution_count": 70,
   "metadata": {},
   "outputs": [],
   "source": [
    "#all the below columns have only 11 missing values \n",
    "#likely mismatched customers. We can safely drop these rows:\n",
    "df = df.dropna(subset=[\n",
    "    'begin_date', 'type', 'payment_method',\n",
    "    'monthly_charges', 'total_charges', 'churn',\n",
    "    'tenure_days', 'is_longterm', 'recent_start'\n",
    "])"
   ]
  },
  {
   "cell_type": "code",
   "execution_count": 71,
   "metadata": {},
   "outputs": [],
   "source": [
    "# Internet categorical columns to handle separately\n",
    "internet_cat_cols = ['internet_service']\n",
    "\n",
    "# Internet numeric/bool columns to fill with 0\n",
    "internet_num_cols = [\n",
    "    'online_security', 'online_backup', 'device_protection', \n",
    "    'tech_support', 'streaming_tv', 'streaming_movies', \n",
    "    'add_on_count', 'is_streaming_user', 'tech_user'\n",
    "]\n",
    "\n",
    "# Phone columns to fill with 0\n",
    "phone_cols = ['multiple_lines', 'has_phone_service']\n",
    "\n",
    "# Convert internet_service to object to fill NaN if needed, or add new category\n",
    "# If you want to mark \"no internet\" customers explicitly as a new category:\n",
    "df[internet_cat_cols[0]] = df[internet_cat_cols[0]].cat.add_categories('No Service')\n",
    "df[internet_cat_cols[0]] = df[internet_cat_cols[0]].fillna('No Service')\n",
    "\n",
    "# Fill numeric internet columns and phone columns with 0\n",
    "df[internet_num_cols] = df[internet_num_cols].fillna(0)\n",
    "df[phone_cols] = df[phone_cols].fillna(0)"
   ]
  },
  {
   "cell_type": "markdown",
   "metadata": {},
   "source": [
    "**These customers exist in the merged dataset,but their entries for services like online_security, streaming_tv, and more are NaN.That suggests they didn’t subscribe to internet or phone service and not that the data is missing by error.So instead of leaving it as NaN, we're making it explicit.**"
   ]
  },
  {
   "cell_type": "code",
   "execution_count": 72,
   "metadata": {},
   "outputs": [],
   "source": [
    "# Label encode 'internet_service' (or any similar column)\n",
    "le = LabelEncoder()\n",
    "\n",
    "# Ensure 'internet_service' is treated as string for encoding\n",
    "# First, convert to string and fill missing with a sentinel value like 'No Service'\n",
    "df['internet_service'] = df['internet_service'].astype(str)\n",
    "df['internet_service'] = df['internet_service'].fillna('No Service')\n",
    "\n",
    "# Apply Label Encoding\n",
    "df['internet_service'] = le.fit_transform(df['internet_service'])\n",
    "\n",
    "# Define the list of columns to exclude from one-hot encoding\n",
    "exclude_cols = ['customer_id', 'life_stage', 'gender_lifestage', 'internet_service']\n",
    "\n",
    "# Select all object/category columns excluding those in exclude_cols\n",
    "categorical_cols = df.select_dtypes(include=['object', 'category']).columns\n",
    "categorical_cols = categorical_cols.difference(exclude_cols)\n",
    "\n",
    "# One-hot encode remaining categorical columns\n",
    "df = pd.get_dummies(df, columns=categorical_cols, drop_first=True)\n"
   ]
  },
  {
   "cell_type": "code",
   "execution_count": null,
   "metadata": {},
   "outputs": [],
   "source": []
  },
  {
   "cell_type": "code",
   "execution_count": 73,
   "metadata": {},
   "outputs": [
    {
     "name": "stdout",
     "output_type": "stream",
     "text": [
      "0\n"
     ]
    }
   ],
   "source": [
    "\n",
    "# Fill missing end_date with 2020-02-01 for active customers\n",
    "reference_date = pd.to_datetime('2020-02-01')\n",
    "df['effective_end_date'] = df['end_date'].fillna(reference_date)\n",
    "\n",
    "# Calculate contract duration in days\n",
    "df['contract_duration'] = (df['effective_end_date'] - df['begin_date']).dt.days\n",
    "\n",
    "# Drop the helper column\n",
    "df.drop(columns='effective_end_date', inplace=True)\n",
    "\n",
    "# Final check\n",
    "print(df['contract_duration'].isna().sum())  \n"
   ]
  },
  {
   "cell_type": "code",
   "execution_count": 74,
   "metadata": {},
   "outputs": [],
   "source": [
    "df.drop(columns=['begin_date', 'end_date'], inplace=True)"
   ]
  },
  {
   "cell_type": "code",
   "execution_count": 75,
   "metadata": {},
   "outputs": [
    {
     "name": "stdout",
     "output_type": "stream",
     "text": [
      "0\n"
     ]
    }
   ],
   "source": [
    "# Quick summary of missing values\n",
    "print(df.isnull().sum().sum())"
   ]
  },
  {
   "cell_type": "code",
   "execution_count": 76,
   "metadata": {},
   "outputs": [
    {
     "name": "stdout",
     "output_type": "stream",
     "text": [
      "<class 'pandas.core.frame.DataFrame'>\n",
      "Int64Index: 7032 entries, 0 to 7042\n",
      "Data columns (total 34 columns):\n",
      " #   Column                                  Non-Null Count  Dtype  \n",
      "---  ------                                  --------------  -----  \n",
      " 0   customer_id                             7032 non-null   object \n",
      " 1   senior_citizen                          7032 non-null   bool   \n",
      " 2   partner                                 7032 non-null   bool   \n",
      " 3   dependents                              7032 non-null   bool   \n",
      " 4   family_size                             7032 non-null   bool   \n",
      " 5   life_stage                              7032 non-null   object \n",
      " 6   is_alone                                7032 non-null   int64  \n",
      " 7   is_senior                               7032 non-null   bool   \n",
      " 8   gender_lifestage                        7032 non-null   object \n",
      " 9   monthly_charges                         7032 non-null   float64\n",
      " 10  total_charges                           7032 non-null   float64\n",
      " 11  churn                                   7032 non-null   float64\n",
      " 12  tenure_days                             7032 non-null   float64\n",
      " 13  is_longterm                             7032 non-null   float64\n",
      " 14  recent_start                            7032 non-null   float64\n",
      " 15  internet_service                        7032 non-null   int64  \n",
      " 16  online_security                         7032 non-null   float64\n",
      " 17  online_backup                           7032 non-null   float64\n",
      " 18  device_protection                       7032 non-null   float64\n",
      " 19  tech_support                            7032 non-null   float64\n",
      " 20  streaming_tv                            7032 non-null   float64\n",
      " 21  streaming_movies                        7032 non-null   float64\n",
      " 22  add_on_count                            7032 non-null   float64\n",
      " 23  is_streaming_user                       7032 non-null   float64\n",
      " 24  tech_user                               7032 non-null   float64\n",
      " 25  has_phone_service                       7032 non-null   float64\n",
      " 26  gender_Male                             7032 non-null   uint8  \n",
      " 27  multiple_lines_True                     7032 non-null   uint8  \n",
      " 28  payment_method_Credit card (automatic)  7032 non-null   uint8  \n",
      " 29  payment_method_Electronic check         7032 non-null   uint8  \n",
      " 30  payment_method_Mailed check             7032 non-null   uint8  \n",
      " 31  type_One year                           7032 non-null   uint8  \n",
      " 32  type_Two year                           7032 non-null   uint8  \n",
      " 33  contract_duration                       7032 non-null   int64  \n",
      "dtypes: bool(5), float64(16), int64(3), object(3), uint8(7)\n",
      "memory usage: 1.3+ MB\n"
     ]
    }
   ],
   "source": [
    "df.info()"
   ]
  },
  {
   "cell_type": "code",
   "execution_count": 77,
   "metadata": {},
   "outputs": [
    {
     "data": {
      "text/html": [
       "<div>\n",
       "<style scoped>\n",
       "    .dataframe tbody tr th:only-of-type {\n",
       "        vertical-align: middle;\n",
       "    }\n",
       "\n",
       "    .dataframe tbody tr th {\n",
       "        vertical-align: top;\n",
       "    }\n",
       "\n",
       "    .dataframe thead th {\n",
       "        text-align: right;\n",
       "    }\n",
       "</style>\n",
       "<table border=\"1\" class=\"dataframe\">\n",
       "  <thead>\n",
       "    <tr style=\"text-align: right;\">\n",
       "      <th></th>\n",
       "      <th>is_alone</th>\n",
       "      <th>monthly_charges</th>\n",
       "      <th>total_charges</th>\n",
       "      <th>churn</th>\n",
       "      <th>tenure_days</th>\n",
       "      <th>is_longterm</th>\n",
       "      <th>recent_start</th>\n",
       "      <th>internet_service</th>\n",
       "      <th>online_security</th>\n",
       "      <th>online_backup</th>\n",
       "      <th>...</th>\n",
       "      <th>tech_user</th>\n",
       "      <th>has_phone_service</th>\n",
       "      <th>gender_Male</th>\n",
       "      <th>multiple_lines_True</th>\n",
       "      <th>payment_method_Credit card (automatic)</th>\n",
       "      <th>payment_method_Electronic check</th>\n",
       "      <th>payment_method_Mailed check</th>\n",
       "      <th>type_One year</th>\n",
       "      <th>type_Two year</th>\n",
       "      <th>contract_duration</th>\n",
       "    </tr>\n",
       "  </thead>\n",
       "  <tbody>\n",
       "    <tr>\n",
       "      <th>count</th>\n",
       "      <td>7032.000000</td>\n",
       "      <td>7032.000000</td>\n",
       "      <td>7032.000000</td>\n",
       "      <td>7032.000000</td>\n",
       "      <td>7032.000000</td>\n",
       "      <td>7032.000000</td>\n",
       "      <td>7032.0</td>\n",
       "      <td>7032.000000</td>\n",
       "      <td>7032.0</td>\n",
       "      <td>7032.0</td>\n",
       "      <td>...</td>\n",
       "      <td>7032.0</td>\n",
       "      <td>7032.000000</td>\n",
       "      <td>7032.000000</td>\n",
       "      <td>7032.000000</td>\n",
       "      <td>7032.000000</td>\n",
       "      <td>7032.000000</td>\n",
       "      <td>7032.000000</td>\n",
       "      <td>7032.000000</td>\n",
       "      <td>7032.000000</td>\n",
       "      <td>7032.000000</td>\n",
       "    </tr>\n",
       "    <tr>\n",
       "      <th>mean</th>\n",
       "      <td>0.466439</td>\n",
       "      <td>64.798208</td>\n",
       "      <td>2283.300441</td>\n",
       "      <td>0.265785</td>\n",
       "      <td>1008.031428</td>\n",
       "      <td>0.704778</td>\n",
       "      <td>0.0</td>\n",
       "      <td>0.872582</td>\n",
       "      <td>0.0</td>\n",
       "      <td>0.0</td>\n",
       "      <td>...</td>\n",
       "      <td>0.0</td>\n",
       "      <td>0.421928</td>\n",
       "      <td>0.504693</td>\n",
       "      <td>0.421928</td>\n",
       "      <td>0.216297</td>\n",
       "      <td>0.336320</td>\n",
       "      <td>0.228100</td>\n",
       "      <td>0.209329</td>\n",
       "      <td>0.239619</td>\n",
       "      <td>987.538538</td>\n",
       "    </tr>\n",
       "    <tr>\n",
       "      <th>std</th>\n",
       "      <td>0.498908</td>\n",
       "      <td>30.085974</td>\n",
       "      <td>2266.771362</td>\n",
       "      <td>0.441782</td>\n",
       "      <td>736.095040</td>\n",
       "      <td>0.456175</td>\n",
       "      <td>0.0</td>\n",
       "      <td>0.737271</td>\n",
       "      <td>0.0</td>\n",
       "      <td>0.0</td>\n",
       "      <td>...</td>\n",
       "      <td>0.0</td>\n",
       "      <td>0.493902</td>\n",
       "      <td>0.500014</td>\n",
       "      <td>0.493902</td>\n",
       "      <td>0.411748</td>\n",
       "      <td>0.472483</td>\n",
       "      <td>0.419637</td>\n",
       "      <td>0.406858</td>\n",
       "      <td>0.426881</td>\n",
       "      <td>747.153663</td>\n",
       "    </tr>\n",
       "    <tr>\n",
       "      <th>min</th>\n",
       "      <td>0.000000</td>\n",
       "      <td>18.250000</td>\n",
       "      <td>18.800000</td>\n",
       "      <td>0.000000</td>\n",
       "      <td>31.000000</td>\n",
       "      <td>0.000000</td>\n",
       "      <td>0.0</td>\n",
       "      <td>0.000000</td>\n",
       "      <td>0.0</td>\n",
       "      <td>0.0</td>\n",
       "      <td>...</td>\n",
       "      <td>0.0</td>\n",
       "      <td>0.000000</td>\n",
       "      <td>0.000000</td>\n",
       "      <td>0.000000</td>\n",
       "      <td>0.000000</td>\n",
       "      <td>0.000000</td>\n",
       "      <td>0.000000</td>\n",
       "      <td>0.000000</td>\n",
       "      <td>0.000000</td>\n",
       "      <td>30.000000</td>\n",
       "    </tr>\n",
       "    <tr>\n",
       "      <th>25%</th>\n",
       "      <td>0.000000</td>\n",
       "      <td>35.587500</td>\n",
       "      <td>401.450000</td>\n",
       "      <td>0.000000</td>\n",
       "      <td>306.000000</td>\n",
       "      <td>0.000000</td>\n",
       "      <td>0.0</td>\n",
       "      <td>0.000000</td>\n",
       "      <td>0.0</td>\n",
       "      <td>0.0</td>\n",
       "      <td>...</td>\n",
       "      <td>0.0</td>\n",
       "      <td>0.000000</td>\n",
       "      <td>0.000000</td>\n",
       "      <td>0.000000</td>\n",
       "      <td>0.000000</td>\n",
       "      <td>0.000000</td>\n",
       "      <td>0.000000</td>\n",
       "      <td>0.000000</td>\n",
       "      <td>0.000000</td>\n",
       "      <td>275.000000</td>\n",
       "    </tr>\n",
       "    <tr>\n",
       "      <th>50%</th>\n",
       "      <td>0.000000</td>\n",
       "      <td>70.350000</td>\n",
       "      <td>1397.475000</td>\n",
       "      <td>0.000000</td>\n",
       "      <td>883.000000</td>\n",
       "      <td>1.000000</td>\n",
       "      <td>0.0</td>\n",
       "      <td>1.000000</td>\n",
       "      <td>0.0</td>\n",
       "      <td>0.0</td>\n",
       "      <td>...</td>\n",
       "      <td>0.0</td>\n",
       "      <td>0.000000</td>\n",
       "      <td>1.000000</td>\n",
       "      <td>0.000000</td>\n",
       "      <td>0.000000</td>\n",
       "      <td>0.000000</td>\n",
       "      <td>0.000000</td>\n",
       "      <td>0.000000</td>\n",
       "      <td>0.000000</td>\n",
       "      <td>883.000000</td>\n",
       "    </tr>\n",
       "    <tr>\n",
       "      <th>75%</th>\n",
       "      <td>1.000000</td>\n",
       "      <td>89.862500</td>\n",
       "      <td>3794.737500</td>\n",
       "      <td>1.000000</td>\n",
       "      <td>1706.000000</td>\n",
       "      <td>1.000000</td>\n",
       "      <td>0.0</td>\n",
       "      <td>1.000000</td>\n",
       "      <td>0.0</td>\n",
       "      <td>0.0</td>\n",
       "      <td>...</td>\n",
       "      <td>0.0</td>\n",
       "      <td>1.000000</td>\n",
       "      <td>1.000000</td>\n",
       "      <td>1.000000</td>\n",
       "      <td>0.000000</td>\n",
       "      <td>1.000000</td>\n",
       "      <td>0.000000</td>\n",
       "      <td>0.000000</td>\n",
       "      <td>0.000000</td>\n",
       "      <td>1676.000000</td>\n",
       "    </tr>\n",
       "    <tr>\n",
       "      <th>max</th>\n",
       "      <td>1.000000</td>\n",
       "      <td>118.750000</td>\n",
       "      <td>8684.800000</td>\n",
       "      <td>1.000000</td>\n",
       "      <td>2314.000000</td>\n",
       "      <td>1.000000</td>\n",
       "      <td>0.0</td>\n",
       "      <td>2.000000</td>\n",
       "      <td>0.0</td>\n",
       "      <td>0.0</td>\n",
       "      <td>...</td>\n",
       "      <td>0.0</td>\n",
       "      <td>1.000000</td>\n",
       "      <td>1.000000</td>\n",
       "      <td>1.000000</td>\n",
       "      <td>1.000000</td>\n",
       "      <td>1.000000</td>\n",
       "      <td>1.000000</td>\n",
       "      <td>1.000000</td>\n",
       "      <td>1.000000</td>\n",
       "      <td>2191.000000</td>\n",
       "    </tr>\n",
       "  </tbody>\n",
       "</table>\n",
       "<p>8 rows × 26 columns</p>\n",
       "</div>"
      ],
      "text/plain": [
       "          is_alone  monthly_charges  total_charges        churn  tenure_days  \\\n",
       "count  7032.000000      7032.000000    7032.000000  7032.000000  7032.000000   \n",
       "mean      0.466439        64.798208    2283.300441     0.265785  1008.031428   \n",
       "std       0.498908        30.085974    2266.771362     0.441782   736.095040   \n",
       "min       0.000000        18.250000      18.800000     0.000000    31.000000   \n",
       "25%       0.000000        35.587500     401.450000     0.000000   306.000000   \n",
       "50%       0.000000        70.350000    1397.475000     0.000000   883.000000   \n",
       "75%       1.000000        89.862500    3794.737500     1.000000  1706.000000   \n",
       "max       1.000000       118.750000    8684.800000     1.000000  2314.000000   \n",
       "\n",
       "       is_longterm  recent_start  internet_service  online_security  \\\n",
       "count  7032.000000        7032.0       7032.000000           7032.0   \n",
       "mean      0.704778           0.0          0.872582              0.0   \n",
       "std       0.456175           0.0          0.737271              0.0   \n",
       "min       0.000000           0.0          0.000000              0.0   \n",
       "25%       0.000000           0.0          0.000000              0.0   \n",
       "50%       1.000000           0.0          1.000000              0.0   \n",
       "75%       1.000000           0.0          1.000000              0.0   \n",
       "max       1.000000           0.0          2.000000              0.0   \n",
       "\n",
       "       online_backup  ...  tech_user  has_phone_service  gender_Male  \\\n",
       "count         7032.0  ...     7032.0        7032.000000  7032.000000   \n",
       "mean             0.0  ...        0.0           0.421928     0.504693   \n",
       "std              0.0  ...        0.0           0.493902     0.500014   \n",
       "min              0.0  ...        0.0           0.000000     0.000000   \n",
       "25%              0.0  ...        0.0           0.000000     0.000000   \n",
       "50%              0.0  ...        0.0           0.000000     1.000000   \n",
       "75%              0.0  ...        0.0           1.000000     1.000000   \n",
       "max              0.0  ...        0.0           1.000000     1.000000   \n",
       "\n",
       "       multiple_lines_True  payment_method_Credit card (automatic)  \\\n",
       "count          7032.000000                             7032.000000   \n",
       "mean              0.421928                                0.216297   \n",
       "std               0.493902                                0.411748   \n",
       "min               0.000000                                0.000000   \n",
       "25%               0.000000                                0.000000   \n",
       "50%               0.000000                                0.000000   \n",
       "75%               1.000000                                0.000000   \n",
       "max               1.000000                                1.000000   \n",
       "\n",
       "       payment_method_Electronic check  payment_method_Mailed check  \\\n",
       "count                      7032.000000                  7032.000000   \n",
       "mean                          0.336320                     0.228100   \n",
       "std                           0.472483                     0.419637   \n",
       "min                           0.000000                     0.000000   \n",
       "25%                           0.000000                     0.000000   \n",
       "50%                           0.000000                     0.000000   \n",
       "75%                           1.000000                     0.000000   \n",
       "max                           1.000000                     1.000000   \n",
       "\n",
       "       type_One year  type_Two year  contract_duration  \n",
       "count    7032.000000    7032.000000        7032.000000  \n",
       "mean        0.209329       0.239619         987.538538  \n",
       "std         0.406858       0.426881         747.153663  \n",
       "min         0.000000       0.000000          30.000000  \n",
       "25%         0.000000       0.000000         275.000000  \n",
       "50%         0.000000       0.000000         883.000000  \n",
       "75%         0.000000       0.000000        1676.000000  \n",
       "max         1.000000       1.000000        2191.000000  \n",
       "\n",
       "[8 rows x 26 columns]"
      ]
     },
     "execution_count": 77,
     "metadata": {},
     "output_type": "execute_result"
    }
   ],
   "source": [
    "df.describe()"
   ]
  },
  {
   "cell_type": "code",
   "execution_count": 78,
   "metadata": {},
   "outputs": [
    {
     "data": {
      "text/plain": [
       "(7032, 34)"
      ]
     },
     "execution_count": 78,
     "metadata": {},
     "output_type": "execute_result"
    }
   ],
   "source": [
    "df.shape"
   ]
  },
  {
   "cell_type": "markdown",
   "metadata": {},
   "source": [
    "**Additional Feature Engineering**"
   ]
  },
  {
   "cell_type": "code",
   "execution_count": 79,
   "metadata": {},
   "outputs": [],
   "source": [
    "#df['charge_ratio'] = df['monthly_charges'] / df['total_charges']\n",
    "#df['tenure_months'] = df['tenure_days'] / 30\n",
    "#df['value_gap'] = df['monthly_charges'] - df['monthly_charges'].median()"
   ]
  },
  {
   "cell_type": "code",
   "execution_count": null,
   "metadata": {},
   "outputs": [],
   "source": []
  },
  {
   "cell_type": "markdown",
   "metadata": {},
   "source": [
    "## Quick Summary of Propose Work Plan"
   ]
  },
  {
   "cell_type": "markdown",
   "metadata": {},
   "source": [
    "**The initial step of the work plan flow was to load the data and display some sample representation of the dataset that include some basic statistic about each dataset.**\n",
    "**The second step was to perform some preliminary EDA by fully exploring each dataset for duplicates values and missing values.The third step was to perform some advance EDA by accessing class imbalance, data type, data distribution, outliers and some features engineerings was performed and we ended by merging all the dataset into one dataframe with a quick proccessing after the merge.**"
   ]
  },
  {
   "cell_type": "code",
   "execution_count": null,
   "metadata": {},
   "outputs": [],
   "source": []
  },
  {
   "cell_type": "markdown",
   "metadata": {},
   "source": [
    "## Core Part"
   ]
  },
  {
   "cell_type": "code",
   "execution_count": null,
   "metadata": {},
   "outputs": [],
   "source": []
  },
  {
   "cell_type": "markdown",
   "metadata": {},
   "source": [
    "**Evaluation function for models**"
   ]
  },
  {
   "cell_type": "code",
   "execution_count": 80,
   "metadata": {},
   "outputs": [],
   "source": [
    "def evaluate_model(model, feature_train, feature_test, target_train, target_test):\n",
    "    eval_stats = {}\n",
    "    \n",
    "    for dataset_type, features, target in (('train', feature_train, target_train), \n",
    "                                           ('test', feature_test, target_test)):\n",
    "        eval_stats[dataset_type] = {}\n",
    "        pred_target = model.predict(features)\n",
    "        pred_proba = model.predict_proba(features)[:, 1]\n",
    "\n",
    "        # Accuracy\n",
    "        eval_stats[dataset_type]['Accuracy'] = metrics.accuracy_score(target, pred_target)\n",
    "\n",
    "        # AUC-ROC\n",
    "        auc_roc = metrics.roc_auc_score(target, pred_proba)\n",
    "        eval_stats[dataset_type]['AUC-ROC'] = auc_roc\n",
    "\n",
    "        # Plot ROC Curve for test set only\n",
    "        if dataset_type == 'test':\n",
    "            fpr, tpr, _ = metrics.roc_curve(target, pred_proba)\n",
    "            plt.figure(figsize=(6, 4))\n",
    "            plt.plot(fpr, tpr, label=f'AUC = {auc_roc:.2f}')\n",
    "            plt.plot([0, 1], [0, 1], 'k--')\n",
    "            plt.xlabel('False Positive Rate')\n",
    "            plt.ylabel('True Positive Rate')\n",
    "            plt.title('ROC Curve (Test Set)')\n",
    "            plt.legend()\n",
    "            plt.grid(True)\n",
    "            plt.show()\n",
    "\n",
    "    # Format evaluation stats as DataFrame\n",
    "    df_eval_stats = pd.DataFrame(eval_stats).round(2)\n",
    "    df_eval_stats = df_eval_stats.reindex(index=['Accuracy', 'AUC-ROC'])\n",
    "\n",
    "    print(df_eval_stats)\n",
    "    return df_eval_stats"
   ]
  },
  {
   "cell_type": "code",
   "execution_count": null,
   "metadata": {},
   "outputs": [],
   "source": []
  },
  {
   "cell_type": "markdown",
   "metadata": {},
   "source": [
    "**Train-Test Split**"
   ]
  },
  {
   "cell_type": "code",
   "execution_count": 81,
   "metadata": {},
   "outputs": [],
   "source": [
    "feature = df.drop(columns=['customer_id', 'churn'])\n",
    "target = df['churn']\n",
    "\n",
    "feature_train, feature_test, target_train, target_test = train_test_split(feature, target, \n",
    "                                        stratify=target, test_size=0.2, random_state=12345)"
   ]
  },
  {
   "cell_type": "code",
   "execution_count": null,
   "metadata": {},
   "outputs": [],
   "source": []
  },
  {
   "cell_type": "markdown",
   "metadata": {},
   "source": [
    "**Let identify column types**"
   ]
  },
  {
   "cell_type": "code",
   "execution_count": 82,
   "metadata": {},
   "outputs": [],
   "source": [
    "categorical_cols = feature.select_dtypes(include=['object']).columns.tolist()\n",
    "numerical_cols = feature.select_dtypes(include=['float64', 'int64', 'bool', 'uint8']).columns.tolist()\n"
   ]
  },
  {
   "cell_type": "code",
   "execution_count": null,
   "metadata": {},
   "outputs": [],
   "source": []
  },
  {
   "cell_type": "markdown",
   "metadata": {},
   "source": [
    "**Let build a preprocessing pipeline**"
   ]
  },
  {
   "cell_type": "code",
   "execution_count": 83,
   "metadata": {},
   "outputs": [],
   "source": [
    "preprocessor = ColumnTransformer(transformers=[\n",
    "    ('num', StandardScaler(), numerical_cols),\n",
    "    ('cat', OneHotEncoder(handle_unknown='ignore'), categorical_cols)])"
   ]
  },
  {
   "cell_type": "code",
   "execution_count": null,
   "metadata": {},
   "outputs": [],
   "source": []
  },
  {
   "cell_type": "markdown",
   "metadata": {},
   "source": [
    "## Working with models"
   ]
  },
  {
   "cell_type": "markdown",
   "metadata": {},
   "source": [
    "### Model_1 - Baseline"
   ]
  },
  {
   "cell_type": "code",
   "execution_count": 84,
   "metadata": {},
   "outputs": [
    {
     "data": {
      "image/png": "[encoded data removed]",
      "text/plain": [
       "<Figure size 600x400 with 1 Axes>"
      ]
     },
     "metadata": {},
     "output_type": "display_data"
    },
    {
     "name": "stdout",
     "output_type": "stream",
     "text": [
      "          train  test\n",
      "Accuracy   0.93  0.93\n",
      "AUC-ROC    0.98  0.98\n"
     ]
    },
    {
     "data": {
      "text/html": [
       "<div>\n",
       "<style scoped>\n",
       "    .dataframe tbody tr th:only-of-type {\n",
       "        vertical-align: middle;\n",
       "    }\n",
       "\n",
       "    .dataframe tbody tr th {\n",
       "        vertical-align: top;\n",
       "    }\n",
       "\n",
       "    .dataframe thead th {\n",
       "        text-align: right;\n",
       "    }\n",
       "</style>\n",
       "<table border=\"1\" class=\"dataframe\">\n",
       "  <thead>\n",
       "    <tr style=\"text-align: right;\">\n",
       "      <th></th>\n",
       "      <th>train</th>\n",
       "      <th>test</th>\n",
       "    </tr>\n",
       "  </thead>\n",
       "  <tbody>\n",
       "    <tr>\n",
       "      <th>Accuracy</th>\n",
       "      <td>0.93</td>\n",
       "      <td>0.93</td>\n",
       "    </tr>\n",
       "    <tr>\n",
       "      <th>AUC-ROC</th>\n",
       "      <td>0.98</td>\n",
       "      <td>0.98</td>\n",
       "    </tr>\n",
       "  </tbody>\n",
       "</table>\n",
       "</div>"
      ],
      "text/plain": [
       "          train  test\n",
       "Accuracy   0.93  0.93\n",
       "AUC-ROC    0.98  0.98"
      ]
     },
     "execution_count": 84,
     "metadata": {},
     "output_type": "execute_result"
    }
   ],
   "source": [
    "model_1 = Pipeline(steps=[\n",
    "    ('preprocessor', preprocessor),\n",
    "    ('classifier', LogisticRegression(class_weight='balanced', max_iter=1000, random_state=12345))\n",
    "])\n",
    "\n",
    "#  Fit \n",
    "model_1.fit(feature_train, target_train)\n",
    "\n",
    "# Evaluate\n",
    "evaluate_model(model_1, feature_train, feature_test, target_train, target_test)"
   ]
  },
  {
   "cell_type": "code",
   "execution_count": null,
   "metadata": {},
   "outputs": [],
   "source": []
  },
  {
   "cell_type": "markdown",
   "metadata": {},
   "source": [
    "## Model_2"
   ]
  },
  {
   "cell_type": "markdown",
   "metadata": {},
   "source": [
    "**this choice of LightGBM model was used because it is efficient, handles categorical features well,the class_weight='balanced' is important due to churn imbalance.Overall it often outperforms traditional models in structured data.**"
   ]
  },
  {
   "cell_type": "code",
   "execution_count": 85,
   "metadata": {},
   "outputs": [
    {
     "name": "stderr",
     "output_type": "stream",
     "text": [
      "/.venv/lib/python3.9/site-packages/lightgbm/basic.py:2065: UserWarning: Using categorical_feature in Dataset.\n",
      "  _log_warning('Using categorical_feature in Dataset.')\n"
     ]
    },
    {
     "data": {
      "image/png": "[encoded data removed]",
      "text/plain": [
       "<Figure size 600x400 with 1 Axes>"
      ]
     },
     "metadata": {},
     "output_type": "display_data"
    },
    {
     "name": "stdout",
     "output_type": "stream",
     "text": [
      "          train  test\n",
      "Accuracy   0.99  0.97\n",
      "AUC-ROC    1.00  0.99\n"
     ]
    },
    {
     "data": {
      "text/html": [
       "<div>\n",
       "<style scoped>\n",
       "    .dataframe tbody tr th:only-of-type {\n",
       "        vertical-align: middle;\n",
       "    }\n",
       "\n",
       "    .dataframe tbody tr th {\n",
       "        vertical-align: top;\n",
       "    }\n",
       "\n",
       "    .dataframe thead th {\n",
       "        text-align: right;\n",
       "    }\n",
       "</style>\n",
       "<table border=\"1\" class=\"dataframe\">\n",
       "  <thead>\n",
       "    <tr style=\"text-align: right;\">\n",
       "      <th></th>\n",
       "      <th>train</th>\n",
       "      <th>test</th>\n",
       "    </tr>\n",
       "  </thead>\n",
       "  <tbody>\n",
       "    <tr>\n",
       "      <th>Accuracy</th>\n",
       "      <td>0.99</td>\n",
       "      <td>0.97</td>\n",
       "    </tr>\n",
       "    <tr>\n",
       "      <th>AUC-ROC</th>\n",
       "      <td>1.00</td>\n",
       "      <td>0.99</td>\n",
       "    </tr>\n",
       "  </tbody>\n",
       "</table>\n",
       "</div>"
      ],
      "text/plain": [
       "          train  test\n",
       "Accuracy   0.99  0.97\n",
       "AUC-ROC    1.00  0.99"
      ]
     },
     "execution_count": 85,
     "metadata": {},
     "output_type": "execute_result"
    }
   ],
   "source": [
    "#Let convert these columns to category dtype as required by LightGBM\n",
    "# using LightGBM’s native categorical feature support will allows the model to treat categorical \n",
    "#variables without needing to label or one-hot encode them.\n",
    "\n",
    "feature_train_lgb = feature_train.copy()\n",
    "feature_test_lgb = feature_test.copy()\n",
    "\n",
    "for col in categorical_cols:\n",
    "    feature_train_lgb[col] = feature_train_lgb[col].astype('category')\n",
    "    feature_test_lgb[col] = feature_test_lgb[col].astype('category')\n",
    "\n",
    "model_2 = LGBMClassifier(\n",
    "    class_weight='balanced',\n",
    "    n_estimators=200,\n",
    "    learning_rate=0.05,\n",
    "    max_depth=5,\n",
    "    random_state=12345)\n",
    "\n",
    "model_2.fit(\n",
    "    feature_train_lgb,\n",
    "    target_train,\n",
    "    categorical_feature=categorical_cols)\n",
    "\n",
    "evaluate_model(model_2, feature_train_lgb, feature_test_lgb, target_train, target_test)"
   ]
  },
  {
   "cell_type": "code",
   "execution_count": null,
   "metadata": {},
   "outputs": [],
   "source": []
  },
  {
   "cell_type": "markdown",
   "metadata": {},
   "source": [
    "## Conclusion"
   ]
  },
  {
   "cell_type": "markdown",
   "metadata": {},
   "source": [
    "**It is with no objection that attrition in most business setting could be a nightmare situation,\n",
    "without being a remote viewers not knowing which customer is loyal, which one is leaving or is not\n",
    "happy with the services could directly impact the revenue of the business therefore the business existence.The Telecom Operator data colection was a great move to forecast potential or future problems.After training a couples of models with the Telecom Operator data, we can clearly and with precision guide the marketing team to which customers to send promotional offers (high-risk users) and reducing marketing cost and improving customer retention ROI.**\n"
   ]
  },
  {
   "cell_type": "code",
   "execution_count": null,
   "metadata": {},
   "outputs": [],
   "source": []
  }
 ],
 "metadata": {
  "kernelspec": {
   "display_name": "Python 3 (ipykernel)",
   "language": "python",
   "name": "python3"
  },
  "language_info": {
   "codemirror_mode": {
    "name": "ipython",
    "version": 3
   },
   "file_extension": ".py",
   "mimetype": "text/x-python",
   "name": "python",
   "nbconvert_exporter": "python",
   "pygments_lexer": "ipython3",
   "version": "3.12.7"
  }
 },
 "nbformat": 4,
 "nbformat_minor": 4
}
